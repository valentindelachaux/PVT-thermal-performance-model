{
 "cells": [
  {
   "cell_type": "code",
   "execution_count": 1,
   "metadata": {},
   "outputs": [],
   "source": [
    "# Initialization\n",
    "\n",
    "import math\n",
    "from datetime import datetime\n",
    "import openpyxl as opxl\n",
    "from openpyxl.utils.dataframe import dataframe_to_rows\n",
    "import pandas as pd\n",
    "import numpy as np\n",
    "import matplotlib.pyplot as plt\n",
    "import model as ty\n",
    "import proc as pr\n",
    "import matplotlib.ticker as mtick\n",
    "import sklearn.metrics\n",
    "\n",
    "from IPython.core.display import HTML\n",
    "\n",
    "import heat_transfer as bht\n",
    "\n",
    "import fluids as fds\n",
    "import ht \n",
    "\n",
    "import general as gen\n",
    "\n",
    "import os\n",
    "\n",
    "import scipy.integrate as integrate\n",
    "import scipy.optimize as sco\n",
    "\n",
    "import networkx as nx\n",
    "\n",
    "import plotly.graph_objects as go\n",
    "\n",
    "import plot_functions_here as pfun\n",
    "\n",
    "import sys\n",
    "sys.path.insert(0,r'C:\\Users\\valen\\Dropbox (DualSun)\\PC\\Documents\\GitHub\\RD-systems-and-test-benches\\utils')\n"
   ]
  },
  {
   "cell_type": "code",
   "execution_count": 24,
   "metadata": {},
   "outputs": [
    {
     "data": {
      "text/plain": [
       "0.1111111111111111"
      ]
     },
     "execution_count": 24,
     "metadata": {},
     "output_type": "execute_result"
    }
   ],
   "source": [
    "400/3600"
   ]
  },
  {
   "cell_type": "code",
   "execution_count": 37,
   "metadata": {},
   "outputs": [],
   "source": [
    "v45_man = gen.duct(type=\"tube\",diameter=0.018, length=1.,thickness=0.002,roughness=0.0015*1E-3,fluid='INCOMP::MPG[0.]',mdot=0.220)"
   ]
  },
  {
   "cell_type": "code",
   "execution_count": 38,
   "metadata": {},
   "outputs": [
    {
     "data": {
      "text/plain": [
       "0.866817121253945"
      ]
     },
     "execution_count": 38,
     "metadata": {},
     "output_type": "execute_result"
    }
   ],
   "source": [
    "v45_man.lv"
   ]
  },
  {
   "cell_type": "code",
   "execution_count": 35,
   "metadata": {},
   "outputs": [],
   "source": [
    "v45_riser = gen.duct(type=\"rectangle\", width=0.002, height=0.0028, length=1.,thickness=0.002,roughness=0.0015*1E-3,fluid='INCOMP::MPG[0.]',mdot=400/(16*4)/3600)"
   ]
  },
  {
   "cell_type": "code",
   "execution_count": 36,
   "metadata": {},
   "outputs": [
    {
     "data": {
      "text/plain": [
       "0.31083447520844176"
      ]
     },
     "execution_count": 36,
     "metadata": {},
     "output_type": "execute_result"
    }
   ],
   "source": [
    "v45_riser.lv"
   ]
  },
  {
   "cell_type": "code",
   "execution_count": 4,
   "metadata": {},
   "outputs": [],
   "source": [
    "inox_btp = gen.duct(type=\"tube\",diameter=0.020, length=20.,thickness=0.002,roughness=0.0015*1E-3,fluid='INCOMP::MPG[0.4]',mdot=2000/3600)"
   ]
  },
  {
   "cell_type": "code",
   "execution_count": null,
   "metadata": {},
   "outputs": [],
   "source": [
    "inox_btp.compute_flow()"
   ]
  },
  {
   "cell_type": "code",
   "execution_count": null,
   "metadata": {},
   "outputs": [],
   "source": [
    "inox_btp = gen.duct(type=\"tube\",diameter=0.0165, length=20.,thickness=0.002,roughness=0.0015*1E-3,fluid='INCOMP::MPG[0.4]',mdot=800/3600)"
   ]
  },
  {
   "cell_type": "code",
   "execution_count": null,
   "metadata": {},
   "outputs": [],
   "source": [
    "inox_btp.Re"
   ]
  },
  {
   "cell_type": "code",
   "execution_count": null,
   "metadata": {},
   "outputs": [],
   "source": [
    "inox = gen.duct(\"tube\",0.020,0.,0.,20.,0.002,0.0015*1E-3,280/3600,fluid='INCOMP::MPG[0.4]')"
   ]
  },
  {
   "cell_type": "code",
   "execution_count": null,
   "metadata": {},
   "outputs": [],
   "source": [
    "inox.set_thermal(0.5,0.,0.033)"
   ]
  },
  {
   "cell_type": "code",
   "execution_count": null,
   "metadata": {},
   "outputs": [],
   "source": [
    "# inox = gen.duct(\"tube\",0.017,0.,0.,6.,0.001,0.0015*1E-3,180/3600,fluid='INCOMP::MPG[0.4]')"
   ]
  },
  {
   "cell_type": "code",
   "execution_count": null,
   "metadata": {},
   "outputs": [],
   "source": [
    "T_amb = 13+273.15\n",
    "T_fluid_m = -3+273.15"
   ]
  },
  {
   "cell_type": "code",
   "execution_count": null,
   "metadata": {},
   "outputs": [],
   "source": [
    "inox.compute_heat_transfer(T_fluid_m,T_amb,7)"
   ]
  },
  {
   "cell_type": "code",
   "execution_count": null,
   "metadata": {},
   "outputs": [],
   "source": [
    "inox.compute_heat_transfer_cylinder_free_convection(T_fluid_m,T_amb)"
   ]
  },
  {
   "cell_type": "code",
   "execution_count": null,
   "metadata": {},
   "outputs": [],
   "source": [
    "# create dataframe with one column \"T_fluid_m\" filled with a list\n",
    "# of values from 0 to 100\n",
    "T_amb = 20+273.15\n",
    "df = pd.DataFrame({\"T_fluid_m\": np.arange(-20+273.15, 25+273.15)})\n",
    "\n",
    "df[\"T_m - T_amb\"] = df[\"T_fluid_m\"] - T_amb\n",
    "\n",
    "for row in df:\n",
    "    print(row)"
   ]
  },
  {
   "cell_type": "code",
   "execution_count": null,
   "metadata": {},
   "outputs": [],
   "source": [
    "for index, row in df.iterrows():\n",
    "    row[\"T_fluid_m\"] = 1"
   ]
  },
  {
   "cell_type": "code",
   "execution_count": null,
   "metadata": {},
   "outputs": [],
   "source": [
    "df"
   ]
  },
  {
   "cell_type": "code",
   "execution_count": null,
   "metadata": {},
   "outputs": [],
   "source": [
    "df[\"Heat transfer\"] = df.apply(lambda row: inox.compute_heat_transfer_cylinder_free_convection(row[\"T_fluid_m\"], T_amb), axis=1)"
   ]
  },
  {
   "cell_type": "code",
   "execution_count": null,
   "metadata": {},
   "outputs": [],
   "source": [
    "inox.T_ins-273.15"
   ]
  },
  {
   "cell_type": "code",
   "execution_count": null,
   "metadata": {},
   "outputs": [],
   "source": [
    "inox.h_ext"
   ]
  },
  {
   "cell_type": "code",
   "execution_count": null,
   "metadata": {},
   "outputs": [],
   "source": []
  },
  {
   "cell_type": "code",
   "execution_count": null,
   "metadata": {},
   "outputs": [],
   "source": []
  },
  {
   "cell_type": "code",
   "execution_count": null,
   "metadata": {},
   "outputs": [],
   "source": []
  },
  {
   "cell_type": "code",
   "execution_count": null,
   "metadata": {},
   "outputs": [],
   "source": [
    "inox.h_int"
   ]
  },
  {
   "cell_type": "code",
   "execution_count": null,
   "metadata": {},
   "outputs": [],
   "source": [
    "inox.R_tot"
   ]
  },
  {
   "cell_type": "code",
   "execution_count": null,
   "metadata": {},
   "outputs": [],
   "source": [
    "inox.T_ins-273.15"
   ]
  },
  {
   "cell_type": "code",
   "execution_count": null,
   "metadata": {},
   "outputs": [],
   "source": [
    "T_tube "
   ]
  },
  {
   "cell_type": "code",
   "execution_count": null,
   "metadata": {},
   "outputs": [],
   "source": [
    "inox.T_ins-273.15"
   ]
  },
  {
   "cell_type": "code",
   "execution_count": null,
   "metadata": {},
   "outputs": [],
   "source": [
    "bht.back_h_cylinder(0+273.15,13+273.15,0.020)"
   ]
  },
  {
   "cell_type": "code",
   "execution_count": null,
   "metadata": {},
   "outputs": [],
   "source": [
    "inox2 = gen.duct(\"tube\",0.020,0.,0.,5.,0.002,0.0015*1E-3,280/3600,fluid='INCOMP::MPG[0.4]')\n",
    "inox2.set_thermal(0.5,0.01,0.033)\n",
    "inox2.compute_heat_transfer(-3+273.15,25+273.15,7)"
   ]
  },
  {
   "cell_type": "code",
   "execution_count": null,
   "metadata": {},
   "outputs": [],
   "source": [
    "tube = gen.duct(\"rectangle\",0,0.003,0.003,1.6,0.00035,0.0015*1E-3,120/300/3600,fluid='INCOMP::MPG[0.4]')"
   ]
  },
  {
   "cell_type": "code",
   "execution_count": null,
   "metadata": {},
   "outputs": [],
   "source": [
    "man = gen.duct(\"tube\",0.018,0.,0.,1.,0.004,0.0015*1E-3,120/1.5/3600,fluid='INCOMP::MPG[0.4]')"
   ]
  },
  {
   "cell_type": "code",
   "execution_count": null,
   "metadata": {},
   "outputs": [],
   "source": [
    "tube2 = gen.duct(\"tube\",0.003,0.,0.,1.,0.00035,0.0015*1E-3,120/300/3600,fluid='INCOMP::MPG[0.4]')"
   ]
  },
  {
   "cell_type": "code",
   "execution_count": null,
   "metadata": {},
   "outputs": [],
   "source": [
    "tube2.h_int"
   ]
  },
  {
   "cell_type": "code",
   "execution_count": null,
   "metadata": {},
   "outputs": [],
   "source": [
    "tube.h_int"
   ]
  },
  {
   "cell_type": "code",
   "execution_count": null,
   "metadata": {},
   "outputs": [],
   "source": [
    "man.h_int"
   ]
  },
  {
   "cell_type": "code",
   "execution_count": null,
   "metadata": {},
   "outputs": [],
   "source": [
    "man.Re"
   ]
  },
  {
   "cell_type": "code",
   "execution_count": null,
   "metadata": {},
   "outputs": [],
   "source": [
    "color_lists = pfun.generate_several_color_lists(2,4)\n",
    "print(color_lists)"
   ]
  },
  {
   "cell_type": "code",
   "execution_count": null,
   "metadata": {},
   "outputs": [],
   "source": [
    "def N(lambd,w,L_tube,D):\n",
    "    N_real = w/(lambd+D)\n",
    "    N_virtual = N_real*L_tube/w\n",
    "    return N_real,N_virtual"
   ]
  },
  {
   "cell_type": "code",
   "execution_count": null,
   "metadata": {},
   "outputs": [],
   "source": [
    "theta = 45.\n",
    "\n",
    "lambd = 0.0001\n",
    "w = 1\n",
    "L_tube = 1.342\n",
    "\n",
    "delta = 0.003\n",
    "k = 226\n",
    "delta_int = 0.003\n",
    "\n",
    "T_amb = 0.+273.15"
   ]
  },
  {
   "cell_type": "code",
   "execution_count": null,
   "metadata": {},
   "outputs": [],
   "source": [
    "for i,L in enumerate([0.020,0.050]):\n",
    "\n",
    "    L_fin = L\n",
    "\n",
    "    for j,T in enumerate([-8,-6,-4,-2]):\n",
    "\n",
    "        T_abs = T+273.15\n",
    "\n",
    "        D_list = np.linspace(0.001,0.03,20)\n",
    "        Q_list = []\n",
    "\n",
    "        for D in D_list:\n",
    "            N_real,N_virtual = N(lambd,w,L_tube,D)\n",
    "            S = w*L_tube\n",
    "            h_S = bht.back_h_simple(T_abs,T_amb,theta,L_tube)\n",
    "\n",
    "            ref_Q = -h_S*S*(T_abs-T_amb)\n",
    "\n",
    "            h = bht.back_h_fins(T_abs,T_amb,theta,L_tube,D,L_fin)\n",
    "            Bi, gamma_0_int = ty.gamma0int(N_virtual,L_fin,lambd,k,delta,delta_int,L_tube,h)\n",
    "\n",
    "            S = w*L_tube - N_real*lambd\n",
    "\n",
    "\n",
    "            Q_list.append(-gamma_0_int*(T_abs-T_amb)*300 -h*S*(T_abs-T_amb) - ref_Q)\n",
    "\n",
    "        plt.plot(np.array(D_list)*1000,Q_list,label=\"L_fin = \"+str(int(L*1000))+\" mm, \"+str(T_abs - T_amb)+\" K\",color=color_lists[i][j])\n",
    "\n",
    "plt.axvline(x=14, color='grey', linestyle='--') \n",
    "plt.axvline(x=18, color='grey', linestyle='--') \n",
    "plt.legend(loc='upper center', bbox_to_anchor=(0.5, -0.15), ncol=2)\n",
    "\n",
    "plt.xlabel(\"Fin spacing (mm)\")\n",
    "plt.ylabel(\"Additional heat transfer from fins (W)\")\n",
    "plt.title(\"V4 panel\")\n",
    "plt.show()"
   ]
  },
  {
   "cell_type": "code",
   "execution_count": null,
   "metadata": {},
   "outputs": [],
   "source": []
  }
 ],
 "metadata": {
  "kernelspec": {
   "display_name": "model23",
   "language": "python",
   "name": "python3"
  },
  "language_info": {
   "codemirror_mode": {
    "name": "ipython",
    "version": 3
   },
   "file_extension": ".py",
   "mimetype": "text/x-python",
   "name": "python",
   "nbconvert_exporter": "python",
   "pygments_lexer": "ipython3",
   "version": "3.10.5"
  },
  "orig_nbformat": 4
 },
 "nbformat": 4,
 "nbformat_minor": 2
}
