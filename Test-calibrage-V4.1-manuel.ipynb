{
 "cells": [
  {
   "cell_type": "code",
   "execution_count": 80,
   "metadata": {},
   "outputs": [],
   "source": [
    "# Initialization\n",
    "\n",
    "import math\n",
    "from datetime import datetime\n",
    "import openpyxl as opxl\n",
    "from openpyxl.utils.dataframe import dataframe_to_rows\n",
    "import pandas as pd\n",
    "import numpy as np\n",
    "import matplotlib.pyplot as plt\n",
    "import model as ty\n",
    "import proc as pr\n",
    "import matplotlib.ticker as mtick\n",
    "import sklearn.metrics\n",
    "\n",
    "import scipy.constants as scc\n",
    "\n",
    "import sys\n",
    "sys.path.append('../RD-systems-and-test-benches')\n",
    "\n",
    "import thermal.SK_standard as nm\n",
    "\n",
    "import seaborn as sns\n",
    "\n",
    "import utils.plot_functions as RD_pfun\n",
    "import repo_config as rconfig\n",
    "\n",
    "from IPython.core.display import HTML\n",
    "\n",
    "import heat_transfer as bht\n",
    "\n",
    "import fluids as fds\n",
    "import ht \n",
    "\n",
    "import general as gen\n",
    "\n",
    "import os\n",
    "\n",
    "import scipy.integrate as integrate\n",
    "import scipy.optimize as sco\n",
    "\n",
    "import networkx as nx\n",
    "\n",
    "import plotly.graph_objects as go\n",
    "\n",
    "import plot_functions_here as pfun\n",
    "\n",
    "import plotly.io as pio\n",
    "\n",
    "from itertools import product\n",
    "from itertools import chain\n",
    "\n",
    "from tqdm.notebook import tqdm\n",
    "\n",
    "import copy\n",
    "\n",
    "from concurrent.futures import ProcessPoolExecutor"
   ]
  },
  {
   "cell_type": "code",
   "execution_count": 499,
   "metadata": {},
   "outputs": [],
   "source": [
    "folder_path = r'G:\\Drive partagés\\Cercle Hard\\R&D\\Modèles numériques PVT\\PVT-perf-1Dmodel'\n",
    "geometry_path = os.path.join(folder_path, 'Panels\\\\Panel_V4.1I.xlsx')\n",
    "hypotheses_path = folder_path + '\\\\' + 'Hypotheses\\\\Model_hypotheses.xlsx'\n",
    "condi_path = folder_path + '\\\\' + 'Steady-state conditions inputs\\\\100424-tests-conditions-GMI.xlsx'\n",
    "exp_path = folder_path + '\\\\' + 'Experiments\\\\Experiments-GMI.xlsx'\n",
    "\n",
    "# panelSpecs = pr.import_geometry(geometry_path)\n",
    "# hyp = pr.create_dict_from_excel(hypotheses_path,'Main')\n",
    "\n",
    "# steadyStateConditions_df = pd.read_excel(condi_path,header=2) ## Les deux première lignes ne sont pas à prendre en compte\n",
    "# stepConditions = steadyStateConditions_df.to_dict(orient='records')"
   ]
  },
  {
   "cell_type": "code",
   "execution_count": 82,
   "metadata": {},
   "outputs": [],
   "source": [
    "recap = pd.read_excel(r'G:\\Drive partagés\\Cercle Hard\\R&D\\Thermal performance tests PVT\\Recap_RD_TUV_SSI.xlsx')\n",
    "recap = recap.drop(index=0)\n",
    "recap.dropna(how='all', inplace=True)\n",
    "\n",
    "groups = {key: group for key, group in recap.groupby('Design')}\n",
    "\n",
    "for key, group in groups.items():\n",
    "    pr.convert_to_K(group)"
   ]
  },
  {
   "cell_type": "code",
   "execution_count": 83,
   "metadata": {},
   "outputs": [],
   "source": [
    "triplets = [\n",
    "            {'design_name' : 'V4.1NI',\n",
    "             'test_type' : 'SK'},\n",
    "            {'design_name' : 'V4.1NI',\n",
    "                'test_type' : 'dark'},\n",
    "            {'design_name' : 'V4.1I',\n",
    "                'test_type' : 'SK'},\n",
    "            {'design_name' : 'V4.1I',\n",
    "                'test_type' : 'dark'}\n",
    "                ]\n",
    "\n",
    "for triplet in triplets:\n",
    "             \n",
    "    triplet['panelSpecs'] = pr.import_geometry(os.path.join(f'{folder_path}\\\\Panels', f'Panel_V4.1I.xlsx'))\n",
    "\n",
    "    if triplet['design_name'] == 'V4.1NI':\n",
    "        triplet['panelSpecs']['part2']['lambd_abs_ins'] = 0.\n",
    "        triplet['panelSpecs']['part2']['lambd_tube_ins'] = 0.\n",
    "\n",
    "        pr.update_panelSpecs_after_modif(triplet['panelSpecs'])\n",
    "        \n",
    "    triplet['hyp'] = pr.create_dict_from_excel(hypotheses_path,'Main')\n",
    "    triplet['hyp']['method_h_top_g_exchanger'] = \"forced_with_coeff_steps\"\n",
    "    triplet['steadyStateConditions_df'] = groups[triplet['design_name']].loc[groups[triplet['design_name']]['Type'] == triplet['test_type']].copy()\n",
    "    pr.adjust_steadyStateConditions(triplet['steadyStateConditions_df'],triplet['hyp'])\n",
    "    triplet['steadyStateConditions_df'].reset_index(drop=True,inplace=True)"
   ]
  },
  {
   "cell_type": "code",
   "execution_count": null,
   "metadata": {},
   "outputs": [],
   "source": []
  },
  {
   "cell_type": "markdown",
   "metadata": {},
   "source": [
    "### Implementation"
   ]
  },
  {
   "cell_type": "code",
   "execution_count": null,
   "metadata": {},
   "outputs": [],
   "source": []
  },
  {
   "cell_type": "code",
   "execution_count": null,
   "metadata": {},
   "outputs": [],
   "source": [
    "0.9*0.87"
   ]
  },
  {
   "cell_type": "code",
   "execution_count": null,
   "metadata": {},
   "outputs": [],
   "source": []
  },
  {
   "cell_type": "code",
   "execution_count": 84,
   "metadata": {},
   "outputs": [],
   "source": [
    "mapping_parameters_bounds = {\n",
    "\n",
    "    'V4.1NI' : {\n",
    "        'panelSpecs': {\n",
    "            'meander' : {\n",
    "                    'lambd_air' : (0.05e-3,2.e-3),\n",
    "            }\n",
    "        }\n",
    "    },\n",
    "\n",
    "    'V4.1I' : {\n",
    "        'panelSpecs': {\n",
    "            'meander' : {\n",
    "                    'lambd_air' : (0.05e-3,2.e-3),\n",
    "            }\n",
    "        }\n",
    "    },\n",
    "\n",
    "    'shared_designs' : {\n",
    "        'panelSpecs': {\n",
    "            'pv' : {\n",
    "                    'tau_g' : (0.87, 0.93),\n",
    "                    'alpha_g' : (0.03,0.09),\n",
    "                    # 'alpha_PV' : (0.87, 0.93),\n",
    "                    'eps_PV' : (0.85, 0.95),\n",
    "                    'eps_g' : (0.85, 0.95),\n",
    "            },\n",
    "            'meander' : {\n",
    "                    'l_c' : (0.1e-3,0.6e-3),\n",
    "                    'eps_tube' : (0.01,0.20),\n",
    "                    'eps_ins' : (0.25,0.60),\n",
    "            },\n",
    "        }\n",
    "    },\n",
    "\n",
    "    'hyp': {\n",
    "        'coeff_h_top_forced_range0' : (0.5, 3.),\n",
    "        'coeff_h_top_forced_range1' : (0.5, 3.),\n",
    "        'coeff_h_top_forced_range2' : (0.5, 3.),\n",
    "    },\n",
    "}\n",
    "\n",
    "# Function to recursively flatten the parameter bounds\n",
    "def flatten_parameters_bounds(d, parent_keys=[]):\n",
    "    items = []\n",
    "    for k, v in d.items():\n",
    "        if isinstance(v, dict):\n",
    "            items.extend(flatten_parameters_bounds(v, parent_keys + [k]))\n",
    "        else:\n",
    "            items.append((parent_keys + [k], v))\n",
    "    return items\n",
    "\n",
    "# Flatten the parameter bounds and extract parameter paths and bounds\n",
    "flattened_parameters = flatten_parameters_bounds(mapping_parameters_bounds)\n",
    "parameter_paths = [param[0] for param in flattened_parameters]\n",
    "bounds = [param[1] for param in flattened_parameters]\n",
    "\n",
    "mapping_parameters = {tuple(flattened_parameters[j][0]): j for j in range(len(flattened_parameters))}"
   ]
  },
  {
   "cell_type": "code",
   "execution_count": null,
   "metadata": {},
   "outputs": [],
   "source": []
  },
  {
   "cell_type": "code",
   "execution_count": null,
   "metadata": {},
   "outputs": [],
   "source": []
  },
  {
   "cell_type": "code",
   "execution_count": null,
   "metadata": {},
   "outputs": [],
   "source": []
  },
  {
   "cell_type": "code",
   "execution_count": 85,
   "metadata": {},
   "outputs": [],
   "source": [
    "def flatten_dict(d, parent_key=()):\n",
    "    \"\"\" Recursively flattens a nested dictionary. Keys become tuples of the path.\"\"\"\n",
    "    items = []\n",
    "    for k, v in d.items():\n",
    "        new_key = parent_key + (k,)\n",
    "        if isinstance(v, dict):\n",
    "            items.extend(flatten_dict(v, new_key).items())\n",
    "        else:\n",
    "            items.append((new_key, v))\n",
    "    return dict(items)"
   ]
  },
  {
   "cell_type": "code",
   "execution_count": 86,
   "metadata": {},
   "outputs": [],
   "source": [
    "def update_specs(params, design, panelSpecs):\n",
    "    for key in mapping_parameters_bounds[design]['panelSpecs']:\n",
    "        if key in list(set(panelSpecs['decomp'].values())) + ['pv']:\n",
    "            zones = list(panelSpecs['decomp'].keys()) + ['pv'] if key == 'pv' else [_ for _, value in panelSpecs['decomp'].items() if value == key]\n",
    "            for z in zones:\n",
    "                for subkey in mapping_parameters_bounds[design]['panelSpecs'][key]:\n",
    "                    panelSpecs[z][subkey] = params[mapping_parameters[(design, 'panelSpecs', key, subkey)]]\n",
    "\n",
    "                    if subkey == 'eps_tube':\n",
    "                        panelSpecs['part1']['eps_tube'] = params[mapping_parameters[(design, 'panelSpecs', key, subkey)]]\n",
    "                        panelSpecs['part3']['eps_tube'] = params[mapping_parameters[(design, 'panelSpecs', key, subkey)]]\n",
    "        else:\n",
    "            panelSpecs[key] = params[mapping_parameters[(design, 'panelSpecs', key)]]\n",
    "\n",
    "def update_panelSpecs(params, design_name, panelSpecs):\n",
    "    update_specs(params, design_name, panelSpecs)\n",
    "    update_specs(params, 'shared_designs', panelSpecs)\n",
    "    pr.update_panelSpecs_after_modif(panelSpecs)\n",
    "\n",
    "def update_hyp(params, hyp):\n",
    "\n",
    "    for key in mapping_parameters_bounds['hyp']:\n",
    "        hyp[key] = params[mapping_parameters[('hyp', key)]]"
   ]
  },
  {
   "cell_type": "code",
   "execution_count": 87,
   "metadata": {},
   "outputs": [],
   "source": [
    "def simulation_function(params, triplet):\n",
    "\n",
    "    panelSpecs = copy.deepcopy(triplet['panelSpecs'])\n",
    "    hyp = copy.deepcopy(triplet['hyp'])\n",
    "    steadyStateConditions_df = triplet['steadyStateConditions_df']\n",
    "\n",
    "    update_panelSpecs(params, triplet['design_name'], panelSpecs)\n",
    "    update_hyp(params, hyp)\n",
    "\n",
    "    # Call the simulation function\n",
    "    df_res, list_res = ty.simu_steadyStateConditions(panelSpecs, hyp, steadyStateConditions_df)\n",
    "    return df_res\n",
    "\n",
    "\n",
    "# Global counter for objective function calls\n",
    "call_count = 0\n",
    "\n",
    "# def callback_function(xk):\n",
    "#     print(f\"Iteration {len(iteration_history)}: params = {xk}\")\n",
    "#     iteration_history.append(xk.copy())\n",
    "\n",
    "def objective_function(params, triplets):\n",
    "\n",
    "    global call_count\n",
    "    call_count += 1\n",
    "\n",
    "    total_error = 0.0\n",
    "\n",
    "    for triplet in triplets:\n",
    "\n",
    "        df_res = simulation_function(params, triplet)\n",
    "\n",
    "        # Compute the error\n",
    "        error = np.sqrt(((df_res['Qdot_tube_fluid'] - triplet['steadyStateConditions_df']['Qdot']) ** 2).mean())\n",
    "        total_error += error\n",
    "\n",
    "    return total_error\n",
    "\n",
    "def run_optimization(initial_guess, bounds, triplets):\n",
    "    result = sco.minimize(\n",
    "        objective_function,\n",
    "        x0=initial_guess,\n",
    "        args=(triplets,),  # Ensure you're passing the right triplet or list of triplets\n",
    "        bounds=bounds,\n",
    "        method='L-BFGS-B',\n",
    "        options={'disp': True}\n",
    "    )\n",
    "    return result"
   ]
  },
  {
   "cell_type": "markdown",
   "metadata": {},
   "source": [
    "### Differentiel evolution with intermediate solutions"
   ]
  },
  {
   "cell_type": "code",
   "execution_count": 88,
   "metadata": {},
   "outputs": [],
   "source": [
    "params_init = np.np.array([9.97600358e-04, 5.31001503e-04, 9.0e-01, 7.38124530e-02,\n",
    "        9.0e-01, 9.0e-01, 2.65959510e-04,\n",
    "        8.45078850e-02, 3.68645143e-01, 1.15642655e+00, 1.63744321e+00,\n",
    "        1.96089536e+00])"
   ]
  },
  {
   "cell_type": "code",
   "execution_count": 117,
   "metadata": {},
   "outputs": [],
   "source": [
    "popsize = 15\n",
    "\n",
    "initial_population = np.tile(params_init, (popsize, 1))\n",
    "\n",
    "# Add small random perturbations to params_init\n",
    "perturbation_strength = 0.00001  # Change this to control how much variation you want\n",
    "initial_population = params_init + perturbation_strength * np.random.randn(popsize, len(params_init))"
   ]
  },
  {
   "cell_type": "code",
   "execution_count": null,
   "metadata": {},
   "outputs": [],
   "source": [
    "# Check if all elements of the initial population respect the bounds\n",
    "def check_bounds(population, bounds):\n",
    "    for individual in population:\n",
    "        for value, (lower, upper) in zip(individual, bounds):\n",
    "            if not (lower <= value <= upper):\n",
    "                return False\n",
    "    return True\n",
    "\n",
    "# Check the initial population\n",
    "is_within_bounds = check_bounds(initial_population, bounds)\n",
    "print(f\"All elements of the initial population respect the bounds: {is_within_bounds}\")"
   ]
  },
  {
   "cell_type": "code",
   "execution_count": null,
   "metadata": {},
   "outputs": [],
   "source": [
    "initial_population.shape"
   ]
  },
  {
   "cell_type": "code",
   "execution_count": 120,
   "metadata": {},
   "outputs": [],
   "source": [
    "# Define a callback function to store intermediate results\n",
    "intermediate_solutions = []\n",
    "\n",
    "def callback(xk, convergence):\n",
    "    intermediate_solutions.append(xk)\n",
    "\n",
    "result = sco.differential_evolution(\n",
    "    objective_function,\n",
    "    bounds=bounds,\n",
    "    args=(triplets,),\n",
    "    strategy='best1bin',\n",
    "    maxiter=500,\n",
    "    popsize=15,\n",
    "    tol=0.01,\n",
    "    callback=callback,\n",
    "    polish=False,  # Set to False to prevent local search polishing\n",
    "    init=initial_population\n",
    ")"
   ]
  },
  {
   "cell_type": "code",
   "execution_count": 137,
   "metadata": {},
   "outputs": [],
   "source": [
    "intermediate_solutions = [np.array([1.05486699e-03, 4.43340782e-04, 9.00004223e-01, 7.38234524e-02,\n",
    "        9.00023522e-01, 9.00024518e-01, 2.98474858e-04, 8.46039482e-02,\n",
    "        3.68719263e-01, 1.15642351e+00, 1.63743897e+00, 1.96086517e+00]),\n",
    " np.array([1.02382304e-03, 4.56092331e-04, 8.99998127e-01, 7.38462285e-02,\n",
    "        9.00010041e-01, 9.00010428e-01, 2.90384600e-04, 8.45375396e-02,\n",
    "        3.68655297e-01, 1.15642177e+00, 1.63744559e+00, 1.96086877e+00]),\n",
    " np.array([1.01474095e-03, 4.33272319e-04, 9.00004888e-01, 7.38621487e-02,\n",
    "        9.00006180e-01, 9.00014558e-01, 2.89944614e-04, 8.45770935e-02,\n",
    "        3.68576150e-01, 1.15642096e+00, 1.63739459e+00, 1.96086865e+00]),\n",
    " np.array([9.82412845e-04, 4.53903921e-04, 9.00000292e-01, 7.37756753e-02,\n",
    "        9.00021063e-01, 9.00033293e-01, 3.30863768e-04, 8.45245531e-02,\n",
    "        3.68907630e-01, 1.15642886e+00, 1.63744446e+00, 1.96090687e+00]),\n",
    " np.array([9.76508324e-04, 4.37208086e-04, 8.99994098e-01, 7.36639707e-02,\n",
    "        9.00037102e-01, 9.00005771e-01, 2.93269678e-04, 8.45218574e-02,\n",
    "        3.68436426e-01, 1.15638749e+00, 1.63746380e+00, 1.96092675e+00]),\n",
    " np.array([9.76508324e-04, 4.37208086e-04, 8.99994098e-01, 7.36639707e-02,\n",
    "        9.00037102e-01, 9.00005771e-01, 2.93269678e-04, 8.45218574e-02,\n",
    "        3.68436426e-01, 1.15638749e+00, 1.63746380e+00, 1.96092675e+00]),\n",
    " np.array([9.76508324e-04, 4.37208086e-04, 8.99994098e-01, 7.36639707e-02,\n",
    "        9.00006180e-01, 8.99995088e-01, 3.00029029e-04, 8.45770935e-02,\n",
    "        3.67927948e-01, 1.15638749e+00, 1.63746380e+00, 1.96087442e+00])]"
   ]
  },
  {
   "cell_type": "code",
   "execution_count": null,
   "metadata": {},
   "outputs": [],
   "source": []
  },
  {
   "cell_type": "code",
   "execution_count": 124,
   "metadata": {},
   "outputs": [],
   "source": [
    "params_minima = [{tuple(param[0]): result['x'][i] for i, param in enumerate(flattened_parameters)}]"
   ]
  },
  {
   "cell_type": "code",
   "execution_count": null,
   "metadata": {},
   "outputs": [],
   "source": [
    "params_minima"
   ]
  },
  {
   "cell_type": "code",
   "execution_count": null,
   "metadata": {},
   "outputs": [],
   "source": [
    "params_init"
   ]
  },
  {
   "cell_type": "markdown",
   "metadata": {},
   "source": [
    "## Analysis of local minima"
   ]
  },
  {
   "cell_type": "code",
   "execution_count": 71,
   "metadata": {},
   "outputs": [],
   "source": [
    "intermediate_solutions_prev = [\n",
    " np.array([1.22640918e-03, 3.98644180e-04, 9.18899094e-01, 6.85987125e-02,\n",
    "        8.71481814e-01, 8.51242263e-01, 9.30423518e-01, 2.17231649e-04,\n",
    "        1.65443828e-02, 5.82854665e-01, 1.25041063e+00, 1.20041007e+00,\n",
    "        1.93000593e+00]),\n",
    " np.array([9.97600358e-04, 5.31001503e-04, 9.41048703e-01, 7.38124530e-02,\n",
    "        8.75650753e-01, 8.69337111e-01, 9.22017187e-01, 2.65959510e-04,\n",
    "        8.45078850e-02, 3.68645143e-01, 1.15642655e+00, 1.63744321e+00,\n",
    "        1.96089536e+00]),\n",
    " np.array([9.97600358e-04, 5.31001503e-04, 9.41048703e-01, 7.38124530e-02,\n",
    "        8.75650753e-01, 8.69337111e-01, 9.22017187e-01, 2.65959510e-04,\n",
    "        8.45078850e-02, 3.68645143e-01, 1.15642655e+00, 1.63744321e+00,\n",
    "        1.96089536e+00]),\n",
    " np.array([9.97600358e-04, 5.31001503e-04, 9.41048703e-01, 7.38124530e-02,\n",
    "        8.75650753e-01, 8.69337111e-01, 9.22017187e-01, 2.65959510e-04,\n",
    "        8.45078850e-02, 3.68645143e-01, 1.15642655e+00, 1.63744321e+00,\n",
    "        1.96089536e+00]),\n",
    " np.array([9.97600358e-04, 5.31001503e-04, 9.41048703e-01, 7.38124530e-02,\n",
    "        8.75650753e-01, 8.69337111e-01, 9.22017187e-01, 2.65959510e-04,\n",
    "        8.45078850e-02, 3.68645143e-01, 1.15642655e+00, 1.63744321e+00,\n",
    "        1.96089536e+00]),\n",
    " np.array([9.26217445e-04, 4.37677283e-04, 8.41113150e-01, 5.38871927e-02,\n",
    "        8.91305951e-01, 8.74632721e-01, 9.39841780e-01, 1.36136866e-03,\n",
    "        9.12009825e-02, 5.74203940e-01, 5.98633964e-01, 1.12099115e+00,\n",
    "        1.56346626e+00]),\n",
    " np.array([8.62018995e-04, 3.13082835e-04, 8.14075138e-01, 5.55493487e-02,\n",
    "        8.91496533e-01, 8.62556620e-01, 9.21293925e-01, 7.95060043e-04,\n",
    "        3.66820264e-02, 5.63992513e-01, 5.24918043e-01, 1.07854339e+00,\n",
    "        1.62695967e+00]),\n",
    " np.array([8.62018995e-04, 3.13082835e-04, 8.14075138e-01, 5.55493487e-02,\n",
    "        8.91496533e-01, 8.62556620e-01, 9.21293925e-01, 7.95060043e-04,\n",
    "        3.66820264e-02, 5.63992513e-01, 5.24918043e-01, 1.07854339e+00,\n",
    "        1.62695967e+00]),\n",
    " np.array([8.62018995e-04, 3.13082835e-04, 8.14075138e-01, 5.55493487e-02,\n",
    "        8.91496533e-01, 8.62556620e-01, 9.21293925e-01, 7.95060043e-04,\n",
    "        3.66820264e-02, 5.63992513e-01, 5.24918043e-01, 1.07854339e+00,\n",
    "        1.62695967e+00]),\n",
    " np.array([8.62018995e-04, 3.13082835e-04, 8.14075138e-01, 5.55493487e-02,\n",
    "        8.91496533e-01, 8.62556620e-01, 9.21293925e-01, 7.95060043e-04,\n",
    "        3.66820264e-02, 5.63992513e-01, 5.24918043e-01, 1.07854339e+00,\n",
    "        1.62695967e+00]),\n",
    " np.array([8.62018995e-04, 3.13082835e-04, 8.14075138e-01, 5.55493487e-02,\n",
    "        8.91496533e-01, 8.62556620e-01, 9.21293925e-01, 7.95060043e-04,\n",
    "        3.66820264e-02, 5.63992513e-01, 5.24918043e-01, 1.07854339e+00,\n",
    "        1.62695967e+00]),\n",
    " np.array([8.62018995e-04, 3.13082835e-04, 8.14075138e-01, 5.55493487e-02,\n",
    "        8.91496533e-01, 8.62556620e-01, 9.21293925e-01, 7.95060043e-04,\n",
    "        3.66820264e-02, 5.63992513e-01, 5.24918043e-01, 1.07854339e+00,\n",
    "        1.62695967e+00]),\n",
    " np.array([9.43532469e-04, 3.53907719e-04, 8.03672335e-01, 6.94230471e-02,\n",
    "        9.22619118e-01, 8.77030239e-01, 9.27660311e-01, 8.44245345e-04,\n",
    "        8.70672478e-02, 5.02834649e-01, 5.73639033e-01, 1.14610715e+00,\n",
    "        1.92455340e+00]),\n",
    " np.array([9.43532469e-04, 3.53907719e-04, 8.03672335e-01, 6.94230471e-02,\n",
    "        9.22619118e-01, 8.77030239e-01, 9.27660311e-01, 8.44245345e-04,\n",
    "        8.70672478e-02, 5.02834649e-01, 5.73639033e-01, 1.14610715e+00,\n",
    "        1.92455340e+00]),\n",
    " np.array([8.68680576e-04, 3.55281056e-04, 8.30851952e-01, 6.09084196e-02,\n",
    "        8.79561464e-01, 8.65271481e-01, 8.98614138e-01, 7.55104678e-04,\n",
    "        1.50371346e-01, 5.01130347e-01, 5.77305374e-01, 9.72626352e-01,\n",
    "        1.72365520e+00]),\n",
    " np.array([8.84102575e-04, 3.61236252e-04, 8.05773421e-01, 5.74176723e-02,\n",
    "        9.17113287e-01, 8.66488799e-01, 9.07974893e-01, 5.15141965e-04,\n",
    "        1.85864838e-01, 4.40199802e-01, 5.19046529e-01, 1.11480520e+00,\n",
    "        1.80035857e+00]),\n",
    " np.array([8.84102575e-04, 3.61236252e-04, 8.05773421e-01, 5.74176723e-02,\n",
    "        9.17113287e-01, 8.66488799e-01, 9.07974893e-01, 5.15141965e-04,\n",
    "        1.85864838e-01, 4.40199802e-01, 5.19046529e-01, 1.11480520e+00,\n",
    "        1.80035857e+00]),\n",
    " np.array([8.67318812e-04, 3.64902716e-04, 8.19296641e-01, 5.32499323e-02,\n",
    "        8.98055255e-01, 8.69559294e-01, 8.76879875e-01, 1.01696471e-03,\n",
    "        1.42209079e-01, 3.31983955e-01, 5.42409113e-01, 1.07001097e+00,\n",
    "        1.84805530e+00]),\n",
    " np.array([8.40209497e-04, 3.18418839e-04, 8.12839958e-01, 5.40984779e-02,\n",
    "        8.90587238e-01, 8.66545054e-01, 8.60366531e-01, 9.22564041e-04,\n",
    "        1.71156053e-01, 4.01158247e-01, 5.39571853e-01, 1.09984785e+00,\n",
    "        1.72535809e+00]),\n",
    " np.array([8.40209497e-04, 3.18418839e-04, 8.12839958e-01, 5.40984779e-02,\n",
    "        8.81827063e-01, 8.69277497e-01, 8.67205916e-01, 1.03633288e-03,\n",
    "        1.91674103e-01, 3.58707400e-01, 5.37391993e-01, 1.07192085e+00,\n",
    "        1.72535809e+00]),\n",
    " np.array([8.40209497e-04, 3.18418839e-04, 8.12839958e-01, 5.40984779e-02,\n",
    "        8.81827063e-01, 8.69277497e-01, 8.67205916e-01, 1.03633288e-03,\n",
    "        1.91674103e-01, 3.58707400e-01, 5.37391993e-01, 1.07192085e+00,\n",
    "        1.72535809e+00])]"
   ]
  },
  {
   "cell_type": "code",
   "execution_count": null,
   "metadata": {},
   "outputs": [],
   "source": []
  },
  {
   "cell_type": "code",
   "execution_count": 18,
   "metadata": {},
   "outputs": [],
   "source": [
    "intermediate_solutions_filtered = [x for x in intermediate_solutions if x[10] >= 1]"
   ]
  },
  {
   "cell_type": "code",
   "execution_count": 131,
   "metadata": {},
   "outputs": [],
   "source": [
    "intermediate_solutions_filtered = [np.array([1.22640918e-03, 3.98644180e-04, 9.18899094e-01, 6.85987125e-02,\n",
    "        8.71481814e-01, 8.51242263e-01, 9.30423518e-01, 2.17231649e-04,\n",
    "        1.65443828e-02, 5.82854665e-01, 1.25041063e+00, 1.20041007e+00,\n",
    "        1.93000593e+00]),\n",
    " np.array([9.97600358e-04, 5.31001503e-04, 9.41048703e-01, 7.38124530e-02,\n",
    "        8.75650753e-01, 8.69337111e-01, 9.22017187e-01, 2.65959510e-04,\n",
    "        8.45078850e-02, 3.68645143e-01, 1.15642655e+00, 1.63744321e+00,\n",
    "        1.96089536e+00]),\n",
    " np.array([9.97600358e-04, 5.31001503e-04, 9.41048703e-01, 7.38124530e-02,\n",
    "        8.75650753e-01, 8.69337111e-01, 9.22017187e-01, 2.65959510e-04,\n",
    "        8.45078850e-02, 3.68645143e-01, 1.15642655e+00, 1.63744321e+00,\n",
    "        1.96089536e+00]),\n",
    " np.array([9.97600358e-04, 5.31001503e-04, 9.41048703e-01, 7.38124530e-02,\n",
    "        8.75650753e-01, 8.69337111e-01, 9.22017187e-01, 2.65959510e-04,\n",
    "        8.45078850e-02, 3.68645143e-01, 1.15642655e+00, 1.63744321e+00,\n",
    "        1.96089536e+00]),\n",
    " np.array([9.97600358e-04, 5.31001503e-04, 9.41048703e-01, 7.38124530e-02,\n",
    "        8.75650753e-01, 8.69337111e-01, 9.22017187e-01, 2.65959510e-04,\n",
    "        8.45078850e-02, 3.68645143e-01, 1.15642655e+00, 1.63744321e+00,\n",
    "        1.96089536e+00])]\n",
    "\n",
    "intermediate_solutions_filtered = intermediate_solutions_prev[:4]"
   ]
  },
  {
   "cell_type": "code",
   "execution_count": 26,
   "metadata": {},
   "outputs": [],
   "source": [
    "T_s = 35 + 273.15\n",
    "T_amb = 18 + 273.15\n",
    "longueur = 1.708"
   ]
  },
  {
   "cell_type": "code",
   "execution_count": 27,
   "metadata": {},
   "outputs": [],
   "source": [
    "dfu_dic = {}\n",
    "\n",
    "T_s_range = np.arange(16, )\n",
    "\n",
    "    dfu = pd.DataFrame(np.linspace(0.1,4.,10),columns=['u'])\n",
    "    dfu['lam+turb'] = dfu.apply(lambda x : bht.h_top_forced(T_s,T_amb,x['u'],longueur),axis=1)\n",
    "    dfu['turb'] = dfu.apply(lambda x : bht.h_top_forced_turbulent(T_s,T_amb,x['u'],longueur),axis=1)\n",
    "    dfu['ratio'] = dfu['turb']/dfu['lam+turb']"
   ]
  },
  {
   "cell_type": "code",
   "execution_count": 141,
   "metadata": {},
   "outputs": [],
   "source": [
    "prev_solutions = [np.array([1.22640918e-03, 3.98644180e-04, 9.18899094e-01, 6.85987125e-02,\n",
    "        8.71481814e-01, 8.51242263e-01, 9.30423518e-01, 2.17231649e-04,\n",
    "        1.65443828e-02, 5.82854665e-01, 1.25041063e+00, 1.20041007e+00,\n",
    "        1.93000593e+00]),\n",
    " np.array([9.97600358e-04, 5.31001503e-04, 9.41048703e-01, 7.38124530e-02,\n",
    "        8.75650753e-01, 8.69337111e-01, 9.22017187e-01, 2.65959510e-04,\n",
    "        8.45078850e-02, 3.68645143e-01, 1.15642655e+00, 1.63744321e+00,\n",
    "        1.96089536e+00]),\n",
    " np.array([9.97600358e-04, 5.31001503e-04, 9.41048703e-01, 7.38124530e-02,\n",
    "        8.75650753e-01, 8.69337111e-01, 9.22017187e-01, 2.65959510e-04,\n",
    "        8.45078850e-02, 3.68645143e-01, 1.15642655e+00, 1.63744321e+00,\n",
    "        1.96089536e+00]),\n",
    " np.array([9.97600358e-04, 5.31001503e-04, 9.41048703e-01, 7.38124530e-02,\n",
    "        8.75650753e-01, 8.69337111e-01, 9.22017187e-01, 2.65959510e-04,\n",
    "        8.45078850e-02, 3.68645143e-01, 1.15642655e+00, 1.63744321e+00,\n",
    "        1.96089536e+00]),\n",
    " np.array([9.97600358e-04, 5.31001503e-04, 9.41048703e-01, 7.38124530e-02,\n",
    "        8.75650753e-01, 8.69337111e-01, 9.22017187e-01, 2.65959510e-04,\n",
    "        8.45078850e-02, 3.68645143e-01, 1.15642655e+00, 1.63744321e+00,\n",
    "        1.96089536e+00])\n",
    "    ]"
   ]
  },
  {
   "cell_type": "code",
   "execution_count": 149,
   "metadata": {},
   "outputs": [],
   "source": [
    "prev_solutions_2 = []\n",
    "\n",
    "for params in prev_solutions:\n",
    "    tau_g = params[2] * params[4] / 0.9\n",
    "    prev_solutions_2.append(np.array([params[0], params[1], tau_g, params[3], params[5], params[6], params[7], params[8], params[9], params[10], params[11], params[12]]))"
   ]
  },
  {
   "cell_type": "code",
   "execution_count": null,
   "metadata": {},
   "outputs": [],
   "source": [
    "prev_solutions_2 + intermediate_solutions"
   ]
  },
  {
   "cell_type": "code",
   "execution_count": null,
   "metadata": {},
   "outputs": [],
   "source": [
    "u_range = [0.8, 1.6, 2.8]\n",
    "\n",
    "for i in range(len(intermediate_solutions)):\n",
    "    plt.scatter(u_range, intermediate_solutions[i][-3:], label=f\"Intermediate solution {i}\")\n",
    "\n",
    "# plt.plot(dfu['u'],dfu['lam+turb'],label='Laminar + Turbulent')\n",
    "# plt.plot(dfu['u'],dfu['turb'],label='Turbulent')\n",
    "\n",
    "plt.plot(dfu['u'],dfu['ratio'],label='Theoretical ratio')\n",
    "# plt.legend()"
   ]
  },
  {
   "cell_type": "code",
   "execution_count": null,
   "metadata": {},
   "outputs": [],
   "source": [
    "flattened_parameters"
   ]
  },
  {
   "cell_type": "code",
   "execution_count": null,
   "metadata": {},
   "outputs": [],
   "source": [
    "[(flattened_parameters[i][0], intermediate_solutions[4][i]) for i in range(len(intermediate_solutions[-1]))]"
   ]
  },
  {
   "cell_type": "code",
   "execution_count": null,
   "metadata": {},
   "outputs": [],
   "source": [
    "0.88/0.9"
   ]
  },
  {
   "cell_type": "code",
   "execution_count": null,
   "metadata": {},
   "outputs": [],
   "source": [
    "0.94*0.8756"
   ]
  },
  {
   "cell_type": "code",
   "execution_count": null,
   "metadata": {},
   "outputs": [],
   "source": [
    "intermediate_solutions[-1]"
   ]
  },
  {
   "cell_type": "code",
   "execution_count": null,
   "metadata": {},
   "outputs": [],
   "source": [
    "prev_solutions_2 + intermediate_solutions"
   ]
  },
  {
   "cell_type": "code",
   "execution_count": null,
   "metadata": {},
   "outputs": [],
   "source": [
    "prev_solutions_2 + intermediate_solutions"
   ]
  },
  {
   "cell_type": "code",
   "execution_count": 151,
   "metadata": {},
   "outputs": [],
   "source": [
    "df_res_minima = []\n",
    "mae_minima = []\n",
    "rmse_minima = []\n",
    "\n",
    "for params_minimum in prev_solutions_2 + intermediate_solutions:\n",
    "    mae_minima.append([])\n",
    "    rmse_minima.append([])\n",
    "\n",
    "    df_concat = pd.DataFrame()\n",
    "    for triplet in triplets:\n",
    "        df_res = simulation_function(params_minimum, triplet)\n",
    "\n",
    "        triplet['df_res'] = df_res\n",
    "\n",
    "        df_res['Qdot_experimental'] = triplet['steadyStateConditions_df']['Qdot']\n",
    "        df_concat = pd.concat([df_concat, df_res], axis=0)\n",
    "        mae_minima[-1].append(sklearn.metrics.mean_absolute_error(df_res['Qdot_tube_fluid'], df_res['Qdot_experimental']))\n",
    "        rmse_minima[-1].append(np.sqrt(((df_res['Qdot_tube_fluid'] - triplet['steadyStateConditions_df']['Qdot']) ** 2).mean()))\n",
    "    df_res_minima.append(df_concat)"
   ]
  },
  {
   "cell_type": "code",
   "execution_count": null,
   "metadata": {},
   "outputs": [],
   "source": [
    "mae_minima[4]"
   ]
  },
  {
   "cell_type": "code",
   "execution_count": 155,
   "metadata": {},
   "outputs": [],
   "source": [
    "import matplotlib\n",
    "import matplotlib.pyplot as plt\n",
    "import matplotlib.ticker as mtick\n",
    "import scienceplots\n",
    "import matplotlib_inline\n",
    "matplotlib_inline.backend_inline.set_matplotlib_formats('retina')\n",
    "plt.style.use(['science'])"
   ]
  },
  {
   "cell_type": "code",
   "execution_count": null,
   "metadata": {},
   "outputs": [],
   "source": [
    "rconfig.get_hex_code('red', 100)"
   ]
  },
  {
   "cell_type": "code",
   "execution_count": 183,
   "metadata": {},
   "outputs": [],
   "source": [
    "design_names = ['S-S\\&T-NI',\n",
    "                'S-S\\&T-NI',\n",
    "                'S-S\\&T-I',\n",
    "                'S-S\\&T-I']"
   ]
  },
  {
   "cell_type": "code",
   "execution_count": null,
   "metadata": {},
   "outputs": [],
   "source": [
    "design_names[0]"
   ]
  },
  {
   "cell_type": "code",
   "execution_count": null,
   "metadata": {},
   "outputs": [],
   "source": [
    "df_res_minima[-1]"
   ]
  },
  {
   "cell_type": "code",
   "execution_count": null,
   "metadata": {},
   "outputs": [],
   "source": [
    "\n"
   ]
  },
  {
   "cell_type": "code",
   "execution_count": null,
   "metadata": {},
   "outputs": [],
   "source": [
    "fig, ax = plt.subplots(figsize=(rconfig.wcol_in/2, rconfig.hfig(0.2, unit=\"in\")))\n",
    "\n",
    "u_range = [(0,1), (1,2), (2,3)]\n",
    "k = 0\n",
    "\n",
    "print(sklearn.metrics.mean_absolute_error(triplets[k]['df_res']['Qdot_tube_fluid'], triplets[k]['df_res']['Qdot_experimental']))\n",
    "for u_min, u_max in u_range:\n",
    "\n",
    "    df_f = triplets[k]['df_res'].loc[(u_min <= triplets[k]['df_res']['u']) & (triplets[k]['df_res']['u'] < u_max)].copy()\n",
    "    df_f.sort_values('T_m - T_amb', inplace=True)\n",
    "    \n",
    "    ax.plot(df_f['T_m - T_amb'], df_f['Qdot_tube_fluid'], label='Numerical model')\n",
    "    ax.scatter(df_f['T_m - T_amb'], df_f['Qdot_experimental'], label='Experimental data', color='red')\n",
    "\n",
    "# ax.spines['left'].set_position('zero')  # y-axis at x = 0"
   ]
  },
  {
   "cell_type": "code",
   "execution_count": null,
   "metadata": {},
   "outputs": [],
   "source": [
    "colors"
   ]
  },
  {
   "cell_type": "code",
   "execution_count": null,
   "metadata": {},
   "outputs": [],
   "source": [
    "triplets[0]['design_name']"
   ]
  },
  {
   "cell_type": "markdown",
   "metadata": {},
   "source": [
    "Figure a"
   ]
  },
  {
   "cell_type": "code",
   "execution_count": null,
   "metadata": {},
   "outputs": [],
   "source": [
    "fig, ax = plt.subplots(figsize=(rconfig.wcol_in/2, rconfig.hfig(0.2, unit=\"in\")))\n",
    "\n",
    "u_range = [(0,1), (1,2), (2,3)]\n",
    "k = 0\n",
    "\n",
    "colors = ['olive', 'blue', 'orange']\n",
    "colors_lighter = [rconfig.get_hex_code(color, 70) for color in colors]\n",
    "colors = [rconfig.get_hex_code(color, 100) for color in colors]\n",
    "linestyles = ['-', '--',  (5, (10, 3)), '-.', (0, (1, 1)), (0, (3, 5, 1, 5))]\n",
    "markers = ['o', 's', 'd']\n",
    "\n",
    "u_list = list(triplets[0]['steadyStateConditions_df']['u'].unique())\n",
    "\n",
    "for i, (u_min, u_max) in enumerate(u_range):\n",
    "    df_f = triplets[k]['df_res'].loc[(u_min <= triplets[k]['df_res']['u']) & (triplets[k]['df_res']['u'] < u_max)].copy()\n",
    "    df_f.sort_values('T_m - T_amb', inplace=True)\n",
    "    \n",
    "    ax.plot(df_f['T_m - T_amb'], df_f['Qdot_tube_fluid'], label='Numerical model', color = colors[i], linestyle=linestyles[i])\n",
    "    ax.scatter(df_f['T_m - T_amb'], df_f['Qdot_experimental'], label='Experimental data', color=colors[i], marker = markers[i])\n",
    "\n",
    "# Legend\n",
    "# for i, (u_min, u_max) in enumerate(u_range):\n",
    "#     df_f = triplets[k]['df_res'].loc[(u_min <= triplets[k]['df_res']['u']) & (triplets[k]['df_res']['u'] < u_max)].copy()\n",
    "#     df_f.sort_values('T_m - T_amb', inplace=True)\n",
    "    \n",
    "#     ax.plot([], [], label=f'Model - u = {str(u_list[i])} m/s', color = colors[i], linestyle=linestyles[i])\n",
    "#     ax.scatter([], [], label=f'Experiment - u = {str(u_list[i])} m/s', color=colors[i], marker = markers[i])\n",
    "\n",
    "# ax.set_xticks(np.arange(0, max(df_f['T_m - T_amb']) + 10, 5))\n",
    "# ax.set_yticks(np.arange(0,800+10, 200))\n",
    "\n",
    "# Move the x-axis and y-axis to the center\n",
    "ax.spines['left'].set_position('zero')\n",
    "ax.spines['bottom'].set_position('zero')\n",
    "\n",
    "# Remove top and right spines (the frame)\n",
    "ax.spines['top'].set_visible(False)\n",
    "ax.spines['right'].set_visible(False)\n",
    "\n",
    "# Keep ticks at the original margin positions\n",
    "ax.xaxis.set_ticks_position('bottom')  # Ticks stay at the bottom\n",
    "ax.yaxis.set_ticks_position('left')    # Ticks stay at the left\n",
    "\n",
    "ax.tick_params(axis='x', which='major', pad=35)\n",
    "# ax.tick_params(axis='x', which='major', pad=120) # for k=1 or 3\n",
    "ax.tick_params(axis='y', which='major', pad=23)\n",
    "\n",
    "plt.grid(linewidth=0.5, color=rconfig.get_hex_code('grey', 70))\n",
    "\n",
    "ax.set_xlabel(r'$T_m - T_{amb}$ [K]')\n",
    "ax.set_ylabel(r'$\\dot{Q}$ [W]',\n",
    "              labelpad = 2 \n",
    "              )\n",
    "\n",
    "# ax.legend(loc='lower center', ncol=3, frameon=False)\n",
    "\n",
    "# Legend\n",
    "# plt.axis('off')  # Turns off the axes\n",
    "# ax.legend(loc='center', ncol=3, frameon=False)  # Adjust the legend location and style\n",
    "\n",
    "ax.set_title('S-S\\&T-NI - SK',loc = 'center', pad = 10, fontsize = 14)\n",
    "\n",
    "plt.show()"
   ]
  },
  {
   "cell_type": "code",
   "execution_count": null,
   "metadata": {},
   "outputs": [],
   "source": [
    "fig.savefig(r'G:\\Mon Drive\\GitHub\\VDE_thesis\\image\\Chapter_TH\\TH-1-fig1a.png', dpi=600)"
   ]
  },
  {
   "cell_type": "markdown",
   "metadata": {},
   "source": [
    "Figure b"
   ]
  },
  {
   "cell_type": "code",
   "execution_count": null,
   "metadata": {},
   "outputs": [],
   "source": [
    "fig, ax = plt.subplots(figsize=(rconfig.wcol_in/2, rconfig.hfig(0.2, unit=\"in\")))\n",
    "\n",
    "u_range = [(0,1), (1,2), (2,3)]\n",
    "k = 1\n",
    "\n",
    "colors = ['olive', 'blue', 'orange']\n",
    "colors_lighter = [rconfig.get_hex_code(color, 70) for color in colors]\n",
    "colors = [rconfig.get_hex_code(color, 100) for color in colors]\n",
    "linestyles = ['-', '--',  (5, (10, 3)), '-.', (0, (1, 1)), (0, (3, 5, 1, 5))]\n",
    "markers = ['o', 's', 'd', 'X', 'v', '^']\n",
    "\n",
    "u_list = list(triplets[0]['steadyStateConditions_df']['u'].unique())\n",
    "\n",
    "for i, (u_min, u_max) in enumerate(u_range):\n",
    "    df_f = triplets[k]['df_res'].loc[(u_min <= triplets[k]['df_res']['u']) & (triplets[k]['df_res']['u'] < u_max)].copy()\n",
    "    df_f.sort_values('T_m - T_amb', inplace=True)\n",
    "    \n",
    "    ax.plot(df_f['T_m - T_amb'], df_f['Qdot_tube_fluid'], label='Numerical model', color = colors[i], linestyle=linestyles[i])\n",
    "    ax.scatter(df_f['T_m - T_amb'], df_f['Qdot_experimental'], label='Experimental data', color=colors[i], marker = markers[i])\n",
    "\n",
    "# Legend\n",
    "# for i, (u_min, u_max) in enumerate(u_range):\n",
    "#     df_f = triplets[k]['df_res'].loc[(u_min <= triplets[k]['df_res']['u']) & (triplets[k]['df_res']['u'] < u_max)].copy()\n",
    "#     df_f.sort_values('T_m - T_amb', inplace=True)\n",
    "    \n",
    "#     ax.plot([], [], label=f'Model - u = {str(u_list[i])} m/s', color = colors[i], linestyle=linestyles[i])\n",
    "#     ax.scatter([], [], label=f'Experiment - u = {str(u_list[i])} m/s', color=colors[i], marker = markers[i])\n",
    "\n",
    "ax.set_xticks(np.arange(0, max(df_f['T_m - T_amb']) + 10, 5))\n",
    "# ax.set_yticks(np.arange(0,800+10, 200))\n",
    "\n",
    "# Move the x-axis and y-axis to the center\n",
    "ax.spines['left'].set_position('zero')\n",
    "ax.spines['bottom'].set_position('zero')\n",
    "\n",
    "# Remove top and right spines (the frame)\n",
    "ax.spines['top'].set_visible(False)\n",
    "ax.spines['right'].set_visible(False)\n",
    "\n",
    "# Keep ticks at the original margin positions\n",
    "ax.xaxis.set_ticks_position('bottom')  # Ticks stay at the bottom\n",
    "ax.yaxis.set_ticks_position('left')    # Ticks stay at the left\n",
    "\n",
    "# ax.tick_params(axis='x', which='major', pad=35)\n",
    "ax.tick_params(axis='x', which='major', pad=120) # for k=1 or 3\n",
    "ax.tick_params(axis='y', which='major', pad=23)\n",
    "\n",
    "plt.grid(linewidth=0.5, color=rconfig.get_hex_code('grey', 70))\n",
    "\n",
    "ax.set_xlabel(r'$T_m - T_{amb}$ [K]')\n",
    "ax.set_ylabel(r'$\\dot{Q}$ [W]',\n",
    "              labelpad = 2 \n",
    "              )\n",
    "\n",
    "# ax.legend(loc='lower center', ncol=3, frameon=False)\n",
    "\n",
    "# Legend\n",
    "# plt.axis('off')  # Turns off the axes\n",
    "# ax.legend(loc='center', ncol=3, frameon=False)  # Adjust the legend location and style\n",
    "\n",
    "ax.set_title('S-S\\&T-NI - dark',loc = 'center', pad = 10, fontsize = 14)\n",
    "\n",
    "plt.show()"
   ]
  },
  {
   "cell_type": "code",
   "execution_count": 408,
   "metadata": {},
   "outputs": [],
   "source": [
    "fig.savefig(r'G:\\Mon Drive\\GitHub\\VDE_thesis\\image\\Chapter_TH\\TH-1-fig1b.png', dpi=600)"
   ]
  },
  {
   "cell_type": "markdown",
   "metadata": {},
   "source": [
    "Figure c"
   ]
  },
  {
   "cell_type": "code",
   "execution_count": null,
   "metadata": {},
   "outputs": [],
   "source": [
    "fig, ax = plt.subplots(figsize=(rconfig.wcol_in/2, rconfig.hfig(0.2, unit=\"in\")))\n",
    "\n",
    "u_range = [(0,1), (1,2), (2,3)]\n",
    "k = 2\n",
    "\n",
    "colors = ['olive', 'blue', 'orange']\n",
    "colors_lighter = [rconfig.get_hex_code(color, 70) for color in colors]\n",
    "colors = [rconfig.get_hex_code(color, 100) for color in colors]\n",
    "linestyles = ['-', '--',  (5, (10, 3)), '-.', (0, (1, 1)), (0, (3, 5, 1, 5))]\n",
    "markers = ['o', 's', 'd']\n",
    "\n",
    "u_list = list(triplets[0]['steadyStateConditions_df']['u'].unique())\n",
    "\n",
    "for i, (u_min, u_max) in enumerate(u_range):\n",
    "    df_f = triplets[k]['df_res'].loc[(u_min <= triplets[k]['df_res']['u']) & (triplets[k]['df_res']['u'] < u_max)].copy()\n",
    "    df_f.sort_values('T_m - T_amb', inplace=True)\n",
    "    \n",
    "    ax.plot(df_f['T_m - T_amb'], df_f['Qdot_tube_fluid'], label='Numerical model', color = colors[i], linestyle=linestyles[i])\n",
    "    ax.scatter(df_f['T_m - T_amb'], df_f['Qdot_experimental'], label='Experimental data', color=colors[i], marker = markers[i])\n",
    "\n",
    "# Legend\n",
    "# for i, (u_min, u_max) in enumerate(u_range):\n",
    "#     df_f = triplets[k]['df_res'].loc[(u_min <= triplets[k]['df_res']['u']) & (triplets[k]['df_res']['u'] < u_max)].copy()\n",
    "#     df_f.sort_values('T_m - T_amb', inplace=True)\n",
    "    \n",
    "#     ax.plot([], [], label=f'Model - u = {str(u_list[i])} m/s', color = colors[i], linestyle=linestyles[i])\n",
    "#     ax.scatter([], [], label=f'Experiment - u = {str(u_list[i])} m/s', color=colors[i], marker = markers[i])\n",
    "\n",
    "# ax.set_xticks(np.arange(0, max(df_f['T_m - T_amb']) + 10, 5))\n",
    "ax.set_yticks(np.arange(0,800+10, 200))\n",
    "\n",
    "# Move the x-axis and y-axis to the center\n",
    "ax.spines['left'].set_position('zero')\n",
    "ax.spines['bottom'].set_position('zero')\n",
    "\n",
    "# Remove top and right spines (the frame)\n",
    "ax.spines['top'].set_visible(False)\n",
    "ax.spines['right'].set_visible(False)\n",
    "\n",
    "# Keep ticks at the original margin positions\n",
    "ax.xaxis.set_ticks_position('bottom')  # Ticks stay at the bottom\n",
    "ax.yaxis.set_ticks_position('left')    # Ticks stay at the left\n",
    "\n",
    "# ax.tick_params(axis='x', which='major', pad=35)\n",
    "# ax.tick_params(axis='x', which='major', pad=120) # for k=1 or 3\n",
    "ax.tick_params(axis='y', which='major', pad=23)\n",
    "\n",
    "plt.grid(linewidth=0.5, color=rconfig.get_hex_code('grey', 70))\n",
    "\n",
    "ax.set_xlabel(r'$T_m - T_{amb}$ [K]')\n",
    "ax.set_ylabel(r'$\\dot{Q}$ [W]',\n",
    "            #   labelpad = 2 \n",
    "              )\n",
    "\n",
    "# ax.legend(loc='lower center', ncol=3, frameon=False)\n",
    "\n",
    "# Legend\n",
    "# plt.axis('off')  # Turns off the axes\n",
    "# ax.legend(loc='center', ncol=3, frameon=False)  # Adjust the legend location and style\n",
    "\n",
    "ax.set_title('S-S\\&T-I - SK',loc = 'center', pad = 10, fontsize = 14)\n",
    "\n",
    "plt.show()"
   ]
  },
  {
   "cell_type": "code",
   "execution_count": 401,
   "metadata": {},
   "outputs": [],
   "source": [
    "fig.savefig(r'G:\\Mon Drive\\GitHub\\VDE_thesis\\image\\Chapter_TH\\TH-1-fig1c.png', dpi=600)"
   ]
  },
  {
   "cell_type": "markdown",
   "metadata": {},
   "source": [
    "Figure d"
   ]
  },
  {
   "cell_type": "code",
   "execution_count": null,
   "metadata": {},
   "outputs": [],
   "source": [
    "fig, ax = plt.subplots(figsize=(rconfig.wcol_in/2, rconfig.hfig(0.2, unit=\"in\")))\n",
    "\n",
    "u_range = [(0,1), (1,2), (2,3)]\n",
    "k = 3\n",
    "\n",
    "colors = ['olive', 'blue', 'orange']\n",
    "colors_lighter = [rconfig.get_hex_code(color, 70) for color in colors]\n",
    "colors = [rconfig.get_hex_code(color, 100) for color in colors]\n",
    "linestyles = ['-', '--',  (5, (10, 3)), '-.', (0, (1, 1)), (0, (3, 5, 1, 5))]\n",
    "markers = ['o', 's', 'd']\n",
    "\n",
    "u_list = list(triplets[0]['steadyStateConditions_df']['u'].unique())\n",
    "\n",
    "for i, (u_min, u_max) in enumerate(u_range):\n",
    "    df_f = triplets[k]['df_res'].loc[(u_min <= triplets[k]['df_res']['u']) & (triplets[k]['df_res']['u'] < u_max)].copy()\n",
    "    df_f.sort_values('T_m - T_amb', inplace=True)\n",
    "    \n",
    "    ax.plot(df_f['T_m - T_amb'], df_f['Qdot_tube_fluid'], label='Numerical model', color = colors[i], linestyle=linestyles[i])\n",
    "    ax.scatter(df_f['T_m - T_amb'], df_f['Qdot_experimental'], label='Experimental data', color=colors[i], marker = markers[i])\n",
    "\n",
    "# Legend\n",
    "# for i, (u_min, u_max) in enumerate(u_range):\n",
    "#     df_f = triplets[k]['df_res'].loc[(u_min <= triplets[k]['df_res']['u']) & (triplets[k]['df_res']['u'] < u_max)].copy()\n",
    "#     df_f.sort_values('T_m - T_amb', inplace=True)\n",
    "    \n",
    "#     ax.plot([], [], label=f'Model - u = {str(u_list[i])} m/s', color = colors[i], linestyle=linestyles[i])\n",
    "#     ax.scatter([], [], label=f'Experiment - u = {str(u_list[i])} m/s', color=colors[i], marker = markers[i])\n",
    "\n",
    "ax.set_xticks(np.arange(0, max(df_f['T_m - T_amb']) + 10, 5))\n",
    "# ax.set_yticks(np.arange(0,800+10, 200))\n",
    "\n",
    "# Move the x-axis and y-axis to the center\n",
    "ax.spines['left'].set_position('zero')\n",
    "ax.spines['bottom'].set_position('zero')\n",
    "\n",
    "# Remove top and right spines (the frame)\n",
    "ax.spines['top'].set_visible(False)\n",
    "ax.spines['right'].set_visible(False)\n",
    "\n",
    "# Keep ticks at the original margin positions\n",
    "ax.xaxis.set_ticks_position('bottom')  # Ticks stay at the bottom\n",
    "ax.yaxis.set_ticks_position('left')    # Ticks stay at the left\n",
    "\n",
    "# ax.tick_params(axis='x', which='major', pad=35)\n",
    "ax.tick_params(axis='x', which='major', pad=120) # for k=1 or 3\n",
    "ax.tick_params(axis='y', which='major', pad=23)\n",
    "\n",
    "plt.grid(linewidth=0.5, color=rconfig.get_hex_code('grey', 70))\n",
    "\n",
    "ax.set_xlabel(r'$T_m - T_{amb}$ [K]')\n",
    "ax.set_ylabel(r'$\\dot{Q}$ [W]',\n",
    "              labelpad = 2 \n",
    "              )\n",
    "\n",
    "# ax.legend(loc='lower center', ncol=3, frameon=False)\n",
    "\n",
    "# Legend\n",
    "# plt.axis('off')  # Turns off the axes\n",
    "# ax.legend(loc='center', ncol=3, frameon=False)  # Adjust the legend location and style\n",
    "\n",
    "ax.set_title('S-S\\&T-I - dark',loc = 'center', pad = 10, fontsize = 14)\n",
    "\n",
    "plt.show()"
   ]
  },
  {
   "cell_type": "code",
   "execution_count": 410,
   "metadata": {},
   "outputs": [],
   "source": [
    "fig.savefig(r'G:\\Mon Drive\\GitHub\\VDE_thesis\\image\\Chapter_TH\\TH-1-fig1d.png', dpi=600)"
   ]
  },
  {
   "cell_type": "code",
   "execution_count": null,
   "metadata": {},
   "outputs": [],
   "source": []
  },
  {
   "cell_type": "code",
   "execution_count": null,
   "metadata": {},
   "outputs": [],
   "source": []
  },
  {
   "cell_type": "code",
   "execution_count": 428,
   "metadata": {},
   "outputs": [],
   "source": [
    "markers = ['o', 's', 'd', '^', 'P', 'v']"
   ]
  },
  {
   "cell_type": "code",
   "execution_count": null,
   "metadata": {},
   "outputs": [],
   "source": [
    "fig, ax = plt.subplots(figsize=(rconfig.wcol_in, rconfig.hfig(0.3, unit=\"in\")))\n",
    "\n",
    "colors = [rconfig.get_hex_code('red', 150),\n",
    "          rconfig.get_hex_code('olive', 100),\n",
    "          rconfig.get_hex_code('orange', 100),\n",
    "          rconfig.get_hex_code('blue', 150),]\n",
    "\n",
    "for j in range(0,4):\n",
    "    print(str(design_names[j]) + ' ' + triplets[j]['test_type'])\n",
    "    ax.plot(np.arange(0,len(mae_minima),1), [mae_minima[i][j] for i in range(len(mae_minima))], label= str(design_names[j]) + ' - ' + triplets[j]['test_type'], marker=markers[j], linewidth = 1.5, color = colors[j], linestyle = linestyles[j])\n",
    "# ax.plot(np.arange(0,len(mae_minima),1), [np.array([mae_minima[i][j] for j in range(0,4)]).sum() for i in range(len(mae_minima))], label='MAE')\n",
    "\n",
    "ax.set_xlabel('Local minimum number')\n",
    "ax.set_ylabel('MAE (W)')\n",
    "ax.grid(True, linewidth=0.5, color=rconfig.get_hex_code('grey', 70))\n",
    "ax.set_ylim(0,37)\n",
    "ax.legend(handlelength=4,  # Increase length of line in legend\n",
    "           handleheight=0.8,   # Increase height of marker in legend\n",
    "           borderpad=1.5,    # Padding between legend box and text\n",
    "           labelspacing=0.8, # Space between legend entries\n",
    "           handletextpad=1,  # Space between line and text\n",
    "           loc='upper right',# Position the legend\n",
    "           fontsize='medium')  # Adjust font size\n",
    "\n",
    "fig.show()"
   ]
  },
  {
   "cell_type": "code",
   "execution_count": 441,
   "metadata": {},
   "outputs": [],
   "source": [
    "fig.savefig(r'G:\\Mon Drive\\GitHub\\VDE_thesis\\image\\Chapter_TH\\TH-1-fig2.png', dpi=600)"
   ]
  },
  {
   "cell_type": "code",
   "execution_count": null,
   "metadata": {},
   "outputs": [],
   "source": [
    "mae_minima"
   ]
  },
  {
   "cell_type": "code",
   "execution_count": 384,
   "metadata": {},
   "outputs": [],
   "source": [
    "global_min = np.array([9.76508324e-04, 4.37208086e-04, 8.99994098e-01, 7.36639707e-02,\n",
    "        9.00006180e-01, 8.99995088e-01, 3.00029029e-04, 8.45770935e-02,\n",
    "        3.67927948e-01, 1.15638749e+00, 1.63746380e+00, 1.96087442e+00])"
   ]
  },
  {
   "cell_type": "code",
   "execution_count": 385,
   "metadata": {},
   "outputs": [],
   "source": [
    "global_min_with_index = [{tuple(param[0]): global_min[i] for i, param in enumerate(flattened_parameters)}]"
   ]
  },
  {
   "cell_type": "code",
   "execution_count": null,
   "metadata": {},
   "outputs": [],
   "source": [
    "global_min_with_index"
   ]
  },
  {
   "cell_type": "code",
   "execution_count": null,
   "metadata": {},
   "outputs": [],
   "source": [
    "0.000300029029*1000"
   ]
  },
  {
   "cell_type": "code",
   "execution_count": null,
   "metadata": {},
   "outputs": [],
   "source": [
    "0.9*0.9"
   ]
  },
  {
   "cell_type": "code",
   "execution_count": 449,
   "metadata": {},
   "outputs": [],
   "source": [
    "dic_names_exp = {'T_in' : 'T_fluid_in0',\n",
    "             'T_out' : 'T_fluid_out',\n",
    "             'Qdot_1_AG' : 'Qdot/AG',\n",
    "             'T_amb' : 'T_amb',\n",
    "             'u' : 'u'}\n",
    "\n",
    "dic_names_num = {'T_in' : 'T_fluid_in',\n",
    "             'T_out' : 'T_fluid_out',\n",
    "             'Qdot_1_AG' : 'Qdot/AG',\n",
    "             'T_amb' : 'T_amb',\n",
    "             'u' : 'u'}"
   ]
  },
  {
   "cell_type": "code",
   "execution_count": 463,
   "metadata": {},
   "outputs": [],
   "source": [
    "for _ in range(4):\n",
    "    triplets[_]['steadyStateConditions_df']['Qdot/AG'] = triplets[_]['steadyStateConditions_df']['Qdot'] / triplets[_]['panelSpecs']['AG']\n",
    "    triplets[_]['df_res']['Qdot/AG'] = triplets[_]['df_res']['Qdot_tube_fluid'] / triplets[_]['panelSpecs']['AG']"
   ]
  },
  {
   "cell_type": "code",
   "execution_count": null,
   "metadata": {},
   "outputs": [],
   "source": [
    "k0 = 3\n",
    "tab_mat,tab_res,X = nm.find_SK(triplets[k0]['steadyStateConditions_df'],dic_names_exp,columns_list=[1,1,0,1,1,0,1,1,0],options=[],IAM=False,LSM='nnls')\n",
    "triplets[k0]['steadyStateConditions_df']['Qdot/AG_reg'] = tab_mat @ X[0]\n",
    "tab_mat,tab_res,X1 = nm.find_SK(triplets[k0]['df_res'],dic_names_num,columns_list=[1,1,0,1,1,0,1,1,0],options=[],IAM=False,LSM='nnls')\n",
    "triplets[k0]['df_res']['Qdot/AG_reg'] = tab_mat @ X1[0]\n",
    "print(X[0])\n",
    "print(X1[0])"
   ]
  },
  {
   "cell_type": "code",
   "execution_count": 530,
   "metadata": {},
   "outputs": [],
   "source": [
    "# Create a dataframe with X[0] list horizontally\n",
    "coeff_df_temp = pd.DataFrame([X[0], X1[0]], columns=[f'param_{i}' for i in range(len(X[0]))])"
   ]
  },
  {
   "cell_type": "code",
   "execution_count": 531,
   "metadata": {},
   "outputs": [],
   "source": [
    "coeff_df = pd.concat([coeff_df, coeff_df_temp], axis=0)"
   ]
  },
  {
   "cell_type": "code",
   "execution_count": null,
   "metadata": {},
   "outputs": [],
   "source": [
    "# Define the list of strings\n",
    "design_labels = ['S-S\\\\&T-NI', 'S-S\\\\&T-NI', 'S-S\\\\&T-I', 'S-S\\\\&T-I']\n",
    "design_labels = [label for label in design_labels for _ in range(2)]\n",
    "\n",
    "# Insert the column in the first position\n",
    "coeff_df.insert(0, 'Design', design_labels)\n",
    "\n",
    "coeff_df"
   ]
  },
  {
   "cell_type": "code",
   "execution_count": null,
   "metadata": {},
   "outputs": [],
   "source": [
    "coeff_df"
   ]
  },
  {
   "cell_type": "code",
   "execution_count": null,
   "metadata": {},
   "outputs": [],
   "source": [
    "# Transform the last 4 columns to strings and replace '0', '0.0', or '0.000' with '-'\n",
    "coeff_df.iloc[:, -4:] = coeff_df.iloc[:, -4:].applymap(lambda x: '-' if x in [0] else str(x))\n",
    "\n",
    "coeff_df"
   ]
  },
  {
   "cell_type": "code",
   "execution_count": 557,
   "metadata": {},
   "outputs": [],
   "source": [
    "latex_table = coeff_df.to_latex(index=False,\n",
    "                                # escape=False,\n",
    "                                # column_format='lcccccccccccc'\n",
    "                                )"
   ]
  },
  {
   "cell_type": "code",
   "execution_count": null,
   "metadata": {},
   "outputs": [],
   "source": [
    "print(coeff_df.to_latex(index=False))"
   ]
  },
  {
   "cell_type": "code",
   "execution_count": 559,
   "metadata": {},
   "outputs": [],
   "source": [
    "from IPython.display import display, Latex"
   ]
  },
  {
   "cell_type": "code",
   "execution_count": null,
   "metadata": {},
   "outputs": [],
   "source": [
    "latex_table = latex_table.replace(\"\\\\begin{tabular}\", \"\\\\resizebox{\\\\textwidth}{!}{\\\\begin{tabular}\")  # Full text width\n",
    "latex_table = latex_table.replace(\"\\\\end{tabular}\", \"\\\\end{tabular}}\")  # Close the resizebox\n",
    "\n",
    "# Adding custom lines (1pt and 2pt thick for darker separation)\n",
    "latex_table = latex_table.replace(\"\\\\toprule\", \"\\\\hline\")  # Replace top border\n",
    "latex_table = latex_table.replace(\"\\\\bottomrule\", \"\\\\hline\")  # Replace bottom border\n",
    "latex_table = latex_table.replace(\"\\\\midrule\", \"\\\\hline\")  # Replace midrule\n",
    "latex_table = latex_table.replace(\"\\\\hline\", \"\\\\hline\\n\")  # Ensure spacing around lines\n",
    "\n",
    "# Insert thicker (2pt) lines every two rows\n",
    "rows = latex_table.split(\"\\n\")\n",
    "processed_rows = []\n",
    "row_count = 0\n",
    "for row in rows:\n",
    "    processed_rows.append(row)\n",
    "    if \"\\\\\\\\\" in row:  # Detect the end of a data row\n",
    "        row_count += 1\n",
    "        if row_count % 2 == 0:\n",
    "            processed_rows.append(\"\\\\arrayrulewidth=2pt\\\\hline\\\\arrayrulewidth=1pt\")  # Thicker line after every two rows\n",
    "\n",
    "# Rebuild the table with processed rows\n",
    "latex_table = \"\\n\".join(processed_rows)\n",
    "\n",
    "# Display the final LaTeX code\n",
    "print(latex_table)"
   ]
  },
  {
   "cell_type": "code",
   "execution_count": null,
   "metadata": {},
   "outputs": [],
   "source": [
    "Latex(latex_table)"
   ]
  },
  {
   "cell_type": "code",
   "execution_count": null,
   "metadata": {},
   "outputs": [],
   "source": [
    "print(coeff_df.to_latex(index=False))"
   ]
  },
  {
   "cell_type": "code",
   "execution_count": 550,
   "metadata": {},
   "outputs": [],
   "source": [
    "coeff_df.insert(1, 'Test', ['SK', 'SK', 'dark', 'dark']*2)"
   ]
  },
  {
   "cell_type": "code",
   "execution_count": 552,
   "metadata": {},
   "outputs": [],
   "source": [
    "coeff_df.insert(2, 'Data', ['Experiment', 'Model']*4)"
   ]
  },
  {
   "cell_type": "code",
   "execution_count": 538,
   "metadata": {},
   "outputs": [],
   "source": [
    "coeff_df['\\\\eta_{0,b-indoor}'] = coeff_df['\\\\eta_{0,b-indoor}'].round(3)"
   ]
  },
  {
   "cell_type": "code",
   "execution_count": null,
   "metadata": {},
   "outputs": [],
   "source": [
    "coeff_df"
   ]
  },
  {
   "cell_type": "code",
   "execution_count": 541,
   "metadata": {},
   "outputs": [],
   "source": [
    "coeff_df['a1 '] = coeff_df['a1 '].round(1)\n",
    "coeff_df['a3'] = coeff_df['a3'].round(1)\n",
    "coeff_df['a6'] = coeff_df['a6'].round(3)"
   ]
  },
  {
   "cell_type": "code",
   "execution_count": 536,
   "metadata": {},
   "outputs": [],
   "source": [
    "coeff_df.drop(columns=[f'param_{i}' for i in [2, 4, 5, 7, 8]], inplace=True)"
   ]
  },
  {
   "cell_type": "code",
   "execution_count": 534,
   "metadata": {},
   "outputs": [],
   "source": [
    "coeff_df.rename(columns={'param_0' : '\\eta_{0,b-indoor}',\n",
    "                         'param_1' : 'a1',\n",
    "                         'param_3' : 'a3',\n",
    "                         'param_6': 'a6'}, inplace=True)"
   ]
  },
  {
   "cell_type": "code",
   "execution_count": null,
   "metadata": {},
   "outputs": [],
   "source": [
    "tab_res"
   ]
  },
  {
   "cell_type": "code",
   "execution_count": null,
   "metadata": {},
   "outputs": [],
   "source": [
    "X"
   ]
  },
  {
   "cell_type": "code",
   "execution_count": null,
   "metadata": {},
   "outputs": [],
   "source": [
    "X1"
   ]
  },
  {
   "cell_type": "code",
   "execution_count": null,
   "metadata": {},
   "outputs": [],
   "source": []
  },
  {
   "cell_type": "code",
   "execution_count": null,
   "metadata": {},
   "outputs": [],
   "source": []
  },
  {
   "cell_type": "code",
   "execution_count": null,
   "metadata": {},
   "outputs": [],
   "source": [
    "plt.scatter(triplets[k0]['df_res']['T_m - T_amb'], triplets[k0]['df_res']['Qdot_tube_fluid']/triplets[k0]['panelSpecs']['AG'])\n",
    "for i, (u_min, u_max) in enumerate(u_range):\n",
    "    df_temp = triplets[k0]['df_res'].loc[(u_min <= triplets[k0]['df_res']['u']) & (triplets[k0]['df_res']['u'] < u_max)].copy()\n",
    "    plt.plot(df_temp['T_m - T_amb'], df_temp['Qdot/AG_reg'])\n",
    "\n",
    "plt.scatter(triplets[k0]['steadyStateConditions_df']['T_m - T_amb'], triplets[k0]['steadyStateConditions_df']['Qdot']/triplets[k0]['panelSpecs']['AG'])\n",
    "for i, (u_min, u_max) in enumerate(u_range):\n",
    "    df_temp = triplets[k0]['steadyStateConditions_df'].loc[(u_min <= triplets[k0]['steadyStateConditions_df']['u']) & (triplets[k0]['steadyStateConditions_df']['u'] < u_max)].copy()\n",
    "    plt.plot(df_temp['T_m - T_amb'], df_temp['Qdot/AG_reg'])"
   ]
  },
  {
   "cell_type": "code",
   "execution_count": null,
   "metadata": {},
   "outputs": [],
   "source": [
    "print(sklearn.metrics.mean_absolute_error(triplets[k0]['df_res']['Qdot/AG'], triplets[k0]['steadyStateConditions_df']['Qdot/AG']))"
   ]
  },
  {
   "cell_type": "code",
   "execution_count": null,
   "metadata": {},
   "outputs": [],
   "source": [
    "plt.scatter(triplets[0]['steadyStateConditions_df']['Qdot/AG'], triplets[0]['df_res']['Qdot/AG'])\n",
    "plt.plot(np.arange(0, 350, 1), np.arange(0,350, 1), color='red')\n",
    "plt.grid()"
   ]
  },
  {
   "cell_type": "code",
   "execution_count": null,
   "metadata": {},
   "outputs": [],
   "source": [
    "triplets[0]['df_res'][['Qdot_experimental']"
   ]
  },
  {
   "cell_type": "code",
   "execution_count": null,
   "metadata": {},
   "outputs": [],
   "source": [
    "triplets[0]['steadyStateConditions_df']['Qdot']"
   ]
  },
  {
   "cell_type": "code",
   "execution_count": null,
   "metadata": {},
   "outputs": [],
   "source": []
  }
 ],
 "metadata": {
  "kernelspec": {
   "display_name": "model23",
   "language": "python",
   "name": "python3"
  },
  "language_info": {
   "codemirror_mode": {
    "name": "ipython",
    "version": 3
   },
   "file_extension": ".py",
   "mimetype": "text/x-python",
   "name": "python",
   "nbconvert_exporter": "python",
   "pygments_lexer": "ipython3",
   "version": "3.10.5"
  }
 },
 "nbformat": 4,
 "nbformat_minor": 2
}
