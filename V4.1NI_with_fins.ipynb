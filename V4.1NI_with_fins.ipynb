{
 "cells": [
  {
   "cell_type": "code",
   "execution_count": 12,
   "metadata": {},
   "outputs": [],
   "source": [
    "## Standard\n",
    "\n",
    "import os\n",
    "import sys\n",
    "sys.path.append('../RD-systems-and-test-benches')\n",
    "\n",
    "import math\n",
    "from datetime import datetime\n",
    "\n",
    "## Specific\n",
    "\n",
    "from tqdm.notebook import tqdm\n",
    "# import copy\n",
    "# from concurrent.futures import ProcessPoolExecutor\n",
    "# import networkx as nx\n",
    "# from itertools import product\n",
    "# from itertools import chain\n",
    "\n",
    "## Data handling \n",
    "\n",
    "import pandas as pd\n",
    "import numpy as np\n",
    "import openpyxl as opxl\n",
    "from openpyxl.utils.dataframe import dataframe_to_rows\n",
    "\n",
    "import sklearn.metrics\n",
    "import scipy.constants as scc\n",
    "import seaborn as sns\n",
    "import scipy.integrate as integrate\n",
    "import scipy.optimize as sco\n",
    "\n",
    "## Plot\n",
    "\n",
    "import matplotlib\n",
    "import matplotlib.pyplot as plt\n",
    "import matplotlib.ticker as mtick\n",
    "import scienceplots\n",
    "import matplotlib_inline\n",
    "matplotlib_inline.backend_inline.set_matplotlib_formats('retina')\n",
    "plt.style.use(['science'])\n",
    "\n",
    "import plotly.graph_objects as go\n",
    "import plotly.io as pio\n",
    "\n",
    "from IPython.core.display import HTML\n",
    "\n",
    "## Own modumes\n",
    "\n",
    "import model as ty\n",
    "import heat_transfer as bht\n",
    "import proc as pr\n",
    "\n",
    "import plot_functions_here as pfun\n",
    "import general as gen\n",
    "\n",
    "import thermal.SK_standard as nm\n",
    "import utils.plot_functions as RD_pfun\n",
    "import repo_config as rconfig\n",
    "\n",
    "## Physics\n",
    "\n",
    "import fluids as fds\n",
    "import ht "
   ]
  },
  {
   "cell_type": "code",
   "execution_count": 2,
   "metadata": {},
   "outputs": [],
   "source": [
    "folder_path = r'G:\\Drive partagés\\Cercle Hard\\R&D\\Modèles numériques PVT\\PVT-perf-1Dmodel'\n",
    "geometry_path = os.path.join(folder_path, 'Panels\\\\Panel_V4.1I.xlsx')\n",
    "hypotheses_path = folder_path + '\\\\' + 'Hypotheses\\\\Model_hypotheses.xlsx'\n",
    "condi_path = folder_path + '\\\\' + 'Steady-state conditions inputs\\\\ssC_for_study.xlsx'\n",
    "exp_path = folder_path + '\\\\' + 'Experiments\\\\Experiments-GMI.xlsx'\n",
    "\n",
    "panelSpecs = pr.import_geometry(geometry_path)\n",
    "hyp = pr.create_dict_from_excel(hypotheses_path,'Main')\n",
    "\n",
    "steadyStateConditions_df = pd.read_excel(condi_path,header=0) ## Les deux première lignes ne sont pas à prendre en compte\n",
    "steadyStateConditions_df.drop(index=[0], inplace=True)\n",
    "steadyStateConditions_df.reset_index(drop=True, inplace=True)\n",
    "# stepConditions = steadyStateConditions_df.to_dict(orient='records')\n",
    "\n",
    "pr.adjust_steadyStateConditions(steadyStateConditions_df, hyp, convert_celsius=True)"
   ]
  },
  {
   "cell_type": "code",
   "execution_count": null,
   "metadata": {},
   "outputs": [],
   "source": [
    "steadyStateConditions_df"
   ]
  },
  {
   "cell_type": "code",
   "execution_count": 4,
   "metadata": {},
   "outputs": [],
   "source": [
    "panelSpecs['part2']['lambd_abs_ins'] = 0.\n",
    "panelSpecs['part2']['lambd_tube_ins'] = 0.\n",
    "\n",
    "pr.update_panelSpecs_after_modif(panelSpecs)"
   ]
  },
  {
   "cell_type": "code",
   "execution_count": 5,
   "metadata": {},
   "outputs": [],
   "source": [
    "dic_names = {'T_in' : 'T_fluid_in',\n",
    "             'T_out' : 'T_fluid_out',\n",
    "             'Qdot_1_AG' : 'Qdot/AG',\n",
    "             'T_amb' : 'T_amb',\n",
    "             'u' : 'u'}"
   ]
  },
  {
   "cell_type": "markdown",
   "metadata": {},
   "source": [
    "Normal non insulated"
   ]
  },
  {
   "cell_type": "code",
   "execution_count": 6,
   "metadata": {},
   "outputs": [],
   "source": [
    "df_res, list_res = ty.simu_steadyStateConditions(panelSpecs, hyp, steadyStateConditions_df)"
   ]
  },
  {
   "cell_type": "code",
   "execution_count": null,
   "metadata": {},
   "outputs": [],
   "source": [
    "df_res.columns"
   ]
  },
  {
   "cell_type": "code",
   "execution_count": null,
   "metadata": {},
   "outputs": [],
   "source": [
    "ty.recap_residuals_steadyStateConditions(panelSpecs, df_res, list_res)"
   ]
  },
  {
   "cell_type": "code",
   "execution_count": null,
   "metadata": {},
   "outputs": [],
   "source": []
  },
  {
   "cell_type": "code",
   "execution_count": 29,
   "metadata": {},
   "outputs": [],
   "source": [
    "tab_mat,tab_res,X = nm.find_SK(df_res,dic_names,columns_list=[0,1,0,1,0,0,0,0,0],options=[],IAM=False,LSM='nnls')"
   ]
  },
  {
   "cell_type": "code",
   "execution_count": null,
   "metadata": {},
   "outputs": [],
   "source": [
    "X"
   ]
  },
  {
   "cell_type": "code",
   "execution_count": null,
   "metadata": {},
   "outputs": [],
   "source": [
    "X[0][1] - 3 * X[0][3]"
   ]
  },
  {
   "cell_type": "code",
   "execution_count": null,
   "metadata": {},
   "outputs": [],
   "source": [
    "13.48-3*1.532"
   ]
  },
  {
   "cell_type": "code",
   "execution_count": null,
   "metadata": {},
   "outputs": [],
   "source": [
    "ht_signs = {'Qdot_sun_PV':1, 'Qdot_sun_glass':1, 'Qdot_top_conv':-1, 'Qdot_top_rad':-1, 'Qdot_PV_sky':-1, 'Qdot_absfin_back_conv':-1, 'Qdot_absfin_back_rad':-1, 'Qdot_Base_back':-1, 'Qdot_tube_back_conv':-1, 'Qdot_tube_back_rad':-1, 'Qdot_tube_sky':-1}\n",
    "ht_labels = ['Qdot_sun_PV', 'Qdot_sun_glass', 'Qdot_top_conv', 'Qdot_top_rad', 'Qdot_PV_sky', 'Qdot_absfin_back_conv', 'Qdot_absfin_back_rad', 'Qdot_Base_back', 'Qdot_tube_back_conv', 'Qdot_tube_back_rad', 'Qdot_tube_sky']\n",
    "data = {key:ht_signs[key]*df_one[key].values[0] for key in ht_labels}\n",
    "\n",
    "# Adjusted approach for a single-column histogram with offset bars\n",
    "fig = go.Figure()\n",
    "\n",
    "# Initialize cumulative sums for positive and negative values\n",
    "cumulative_positive = 0\n",
    "cumulative_negative = 0\n",
    "\n",
    "for key, value in data.items():\n",
    "    if value >= 0:\n",
    "        # For positive values, start from the last positive cumulative sum\n",
    "        base = cumulative_positive\n",
    "        cumulative_positive += value\n",
    "    else:\n",
    "        # For negative values, start from the last negative cumulative sum\n",
    "        base = cumulative_negative\n",
    "        cumulative_negative += value\n",
    "    \n",
    "    fig.add_trace(go.Bar(\n",
    "        x=[\"Heat Transfer Contributions\"],\n",
    "        y=[value],\n",
    "        name=key,\n",
    "        width=0.2,\n",
    "        base=base  # Set the starting point of the bar\n",
    "    ))\n",
    "\n",
    "# Update the layout\n",
    "fig.update_layout(\n",
    "    title=\"Decomposition of Qdot_tube_fluid in Different Heat Transfer Contributions\",\n",
    "    yaxis_title=\"Value\",\n",
    "    barmode=\"overlay\"  # Overlay the bars\n",
    ")\n",
    "\n",
    "# Show the figure\n",
    "fig.show()\n"
   ]
  },
  {
   "cell_type": "code",
   "execution_count": null,
   "metadata": {},
   "outputs": [],
   "source": [
    "df_res['u'].unique()"
   ]
  },
  {
   "cell_type": "code",
   "execution_count": null,
   "metadata": {},
   "outputs": [],
   "source": [
    "df = df_res.copy()\n",
    "\n",
    "df = df.loc[df['u'] == 0.8]\n",
    "\n",
    "ht_signs = {'Qdot_sun_PV': 1, 'Qdot_sun_glass': 1, 'Qdot_top_conv': -1, 'Qdot_top_rad': -1, 'Qdot_PV_sky': -1, 'Qdot_absfin_back_conv': -1, 'Qdot_absfin_back_rad': -1, 'Qdot_Base_back': -1, 'Qdot_tube_back_conv': -1, 'Qdot_tube_back_rad': -1, 'Qdot_tube_sky': -1}\n",
    "ht_labels = ['Qdot_sun_PV', 'Qdot_sun_glass', 'Qdot_top_conv', 'Qdot_top_rad', 'Qdot_PV_sky', 'Qdot_absfin_back_conv', 'Qdot_absfin_back_rad', 'Qdot_tube_back_conv', 'Qdot_tube_back_rad', 'Qdot_tube_sky']\n",
    "colors_ht = [rconfig.get_hex_code('yellow',100), rconfig.get_hex_code('orange',100),rconfig.get_hex_code('green',150), rconfig.get_hex_code('blue',150),rconfig.get_hex_code('blue',100),rconfig.get_hex_code('green',100),rconfig.get_hex_code('grey',100),rconfig.get_hex_code('green',50),rconfig.get_hex_code('grey',50),rconfig.get_hex_code('blue',50)]\n",
    "\n",
    "# Calculate the total positive heat transfers for each T_m - T_amb\n",
    "df['positive_total'] = df[[label for label in ht_labels if ht_signs[label] == 1]].sum(axis=1)\n",
    "\n",
    "# Initialize the figure\n",
    "fig = go.Figure()\n",
    "\n",
    "# Define the bar width\n",
    "bar_width = 0.4\n",
    "\n",
    "# Add traces for positive heat transfers (gains)\n",
    "for i, label in enumerate(ht_labels):\n",
    "    if ht_signs[label] == 1:\n",
    "        fig.add_trace(go.Bar(\n",
    "            x=df['T_m - T_amb'],\n",
    "            y=df[label],\n",
    "            name=label,\n",
    "            width=[bar_width] * len(df),\n",
    "            hovertext=round(df[label],0),\n",
    "            hoverinfo='text',\n",
    "            marker=dict(color=colors_ht[i])\n",
    "        ))\n",
    "\n",
    "# Add traces for negative heat transfers (losses) with base starting from the positive total\n",
    "label_sum = []\n",
    "for i, label in enumerate(ht_labels):\n",
    "    if ht_signs[label] == -1:\n",
    "        base = df['positive_total'] - df[[lbl for lbl in ht_labels if (ht_signs[lbl] == -1) & (lbl not in label_sum)]].sum(axis=1)\n",
    "        fig.add_trace(go.Bar(\n",
    "            x=df['T_m - T_amb'] + bar_width,  # Offset for side-by-side display\n",
    "            y=df[label],\n",
    "            name=label,\n",
    "            width=[bar_width] * len(df),\n",
    "            base=base,\n",
    "            hovertext=round(df[label],0),\n",
    "            hoverinfo='text',\n",
    "            marker=dict(color=colors_ht[i])\n",
    "        ))\n",
    "        label_sum.append(label)\n",
    "\n",
    "\n",
    "# fig.add_trace(go.Scatter(\n",
    "#     x=df['T_m - T_amb'],\n",
    "#     y=df['Qdot_exp'],\n",
    "#     mode='lines',\n",
    "#     name='Qdot exp',\n",
    "#     line=dict(color='black', width=2)\n",
    "# ))\n",
    "\n",
    "# fig.add_trace(go.Scatter(\n",
    "#     x=df['T_m - T_amb'],\n",
    "#     y=df['Qdot_tube_fluid'],\n",
    "#     mode='lines',\n",
    "#     name='Qdot exp',\n",
    "#     line=dict(color='grey', width=2)\n",
    "# ))\n",
    "\n",
    "# Update layout for stacked bars\n",
    "fig.update_layout(barmode='relative', yaxis_title='Heat Transfer', xaxis_title='T_m - T_amb')\n",
    "\n",
    "\n",
    "# Show the figure\n",
    "fig.show()"
   ]
  },
  {
   "cell_type": "code",
   "execution_count": null,
   "metadata": {},
   "outputs": [],
   "source": []
  },
  {
   "cell_type": "code",
   "execution_count": null,
   "metadata": {},
   "outputs": [],
   "source": []
  },
  {
   "cell_type": "code",
   "execution_count": null,
   "metadata": {},
   "outputs": [],
   "source": []
  },
  {
   "cell_type": "code",
   "execution_count": null,
   "metadata": {},
   "outputs": [],
   "source": []
  },
  {
   "cell_type": "code",
   "execution_count": null,
   "metadata": {},
   "outputs": [],
   "source": [
    "## Histogramme pour 1 cas\n",
    "\n",
    "ht_signs = {'Qdot_sun_PV': 1, 'Qdot_sun_glass': 1, 'Qdot_top_conv': -1, 'Qdot_top_rad': -1, 'Qdot_PV_sky': -1, 'Qdot_absfin_back_conv': -1, 'Qdot_absfin_back_rad': -1, 'Qdot_Base_back': -1, 'Qdot_tube_back_conv': -1, 'Qdot_tube_back_rad': -1, 'Qdot_tube_sky': -1}\n",
    "ht_labels = ['Qdot_sun_PV', 'Qdot_sun_glass', 'Qdot_top_conv', 'Qdot_top_rad', 'Qdot_PV_sky', 'Qdot_absfin_back_conv', 'Qdot_absfin_back_rad', 'Qdot_Base_back', 'Qdot_tube_back_conv', 'Qdot_tube_back_rad', 'Qdot_tube_sky']\n",
    "data = {key: ht_signs[key] * df_one[key].values[0] for key in ht_labels}\n",
    "\n",
    "# Création du graphique en barres\n",
    "fig = go.Figure()\n",
    "\n",
    "# Ajout de chaque barre sur le graphique\n",
    "for key, value in data.items():\n",
    "    fig.add_trace(go.Bar(x=[key], y=[value], name=key))\n",
    "\n",
    "# Ajout des annotations sous chaque barre\n",
    "for i, key in enumerate(data.keys()):\n",
    "    fig.add_annotation(\n",
    "        x=key,\n",
    "        y=data[key],\n",
    "        text=\"\",\n",
    "        showarrow=False,\n",
    "    )\n",
    "\n",
    "# Personnalisation du titre et des étiquettes\n",
    "fig.update_layout(\n",
    "    title=\"Decomposition of Qdot_tube_fluid in Different Heat Transfer Contributions\",\n",
    "    yaxis_title=\"Value\",\n",
    "    barmode=\"group\"  # Pour afficher les barres côte à côte\n",
    ")"
   ]
  },
  {
   "cell_type": "markdown",
   "metadata": {},
   "source": [
    "Fins"
   ]
  },
  {
   "cell_type": "code",
   "execution_count": 9,
   "metadata": {},
   "outputs": [],
   "source": [
    "panelSpecs['part2']['Heta'] = 20e-3\n",
    "panelSpecs['part2']['N_ail'] = 100\n",
    "panelSpecs['part2']['D'] = 20e-3\n",
    "\n",
    "panelSpecs['part2']['fin_0'] = 1.\n",
    "panelSpecs['part2']['N_f0'] = panelSpecs['part2']['N_ail']\n",
    "panelSpecs['part2']['L_f0'] = panelSpecs['part2']['Heta'] \n",
    "panelSpecs['part2']['delta_f0'] = panelSpecs['part2']['w_tube'] + 2e-3\n",
    "panelSpecs['part2']['delta_f0_int'] = panelSpecs['part2']['p_ext_tube'] / 2\n",
    "\n",
    "pr.update_panelSpecs_after_modif(panelSpecs)"
   ]
  },
  {
   "cell_type": "code",
   "execution_count": 10,
   "metadata": {},
   "outputs": [],
   "source": [
    "df_res, list_res = ty.simu_steadyStateConditions(panelSpecs, hyp, steadyStateConditions_df)"
   ]
  },
  {
   "cell_type": "code",
   "execution_count": 8,
   "metadata": {},
   "outputs": [],
   "source": [
    "tab_mat,tab_res,X = nm.find_SK(df_res,dic_names,columns_list=[0,1,0,1,0,0,0,0,0],options=[],IAM=False,LSM='nnls')"
   ]
  },
  {
   "cell_type": "code",
   "execution_count": null,
   "metadata": {},
   "outputs": [],
   "source": [
    "X"
   ]
  },
  {
   "cell_type": "code",
   "execution_count": null,
   "metadata": {},
   "outputs": [],
   "source": [
    "19.3-1.63*3"
   ]
  },
  {
   "cell_type": "code",
   "execution_count": null,
   "metadata": {},
   "outputs": [],
   "source": [
    "ty.recap_residuals_steadyStateConditions(panelSpecs, df_res, list_res)"
   ]
  },
  {
   "cell_type": "code",
   "execution_count": null,
   "metadata": {},
   "outputs": [],
   "source": [
    "df_res.columns"
   ]
  },
  {
   "cell_type": "code",
   "execution_count": null,
   "metadata": {},
   "outputs": [],
   "source": []
  }
 ],
 "metadata": {
  "kernelspec": {
   "display_name": "model23",
   "language": "python",
   "name": "python3"
  },
  "language_info": {
   "codemirror_mode": {
    "name": "ipython",
    "version": 3
   },
   "file_extension": ".py",
   "mimetype": "text/x-python",
   "name": "python",
   "nbconvert_exporter": "python",
   "pygments_lexer": "ipython3",
   "version": "3.10.5"
  }
 },
 "nbformat": 4,
 "nbformat_minor": 2
}
