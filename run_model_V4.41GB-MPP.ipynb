{
 "cells": [
  {
   "cell_type": "code",
   "execution_count": 1,
   "metadata": {},
   "outputs": [],
   "source": [
    "# Initialization\n",
    "\n",
    "import math\n",
    "from datetime import datetime\n",
    "import openpyxl as opxl\n",
    "from openpyxl.utils.dataframe import dataframe_to_rows\n",
    "import pandas as pd\n",
    "import numpy as np\n",
    "from IPython.core.display import HTML\n",
    "import matplotlib.pyplot as plt\n",
    "import matplotlib.ticker as mtick\n",
    "import plotly.graph_objects as go\n",
    "\n",
    "import sklearn.metrics\n",
    "import scipy.integrate as integrate\n",
    "import scipy.optimize as sco\n",
    "\n",
    "import fluids as fds\n",
    "import ht \n",
    "\n",
    "import general as gen\n",
    "import model as ty\n",
    "import proc as pr\n",
    "import heat_transfer as bht\n",
    "# importing sys\n",
    "import sys\n",
    "sys.path.insert(0,r'C:\\Users\\valen\\Dropbox (DualSun)\\PC\\Documents\\GitHub\\RD-systems-and-test-benches\\thermal')\n",
    "import SK_standard as sk"
   ]
  },
  {
   "cell_type": "code",
   "execution_count": 2,
   "metadata": {},
   "outputs": [
    {
     "name": "stdout",
     "output_type": "stream",
     "text": [
      "{'exchanger': {'name': 'xxx', 'eta_nom': 0.201, 'Eff_T': -0.0034000000000000002, 'T_ref': 298.15, 'Eff_G': 0, 'G_ref': 1000, 'X_corr': 1, 'tau_alpha': 0.8, 'eps': 0.95, 'eps_bs': 1, 'w_pan': 1.134, 'L_pan': 1.708, 'orientation': 'portrait', 'lambd_upper_glass': 0.00278, 'lambd_upper_EVA': 0.000515, 'lambd_si': 0.00015, 'lambd_lower_EVA': 0.000515, 'lambd_PVDF': 2.9999999999999997e-05, 'lambd_PET': 0.00027, 'lambd_adh': 0.0, 'lambd_lower_glass': 0.0, 'k_glass': 0.8, 'k_EVA': 0.24, 'k_si': 60, 'k_PVDF': 0.2, 'k_PET': 0.3, 'k_adh': 0.2, 'L_abs': 1.342, 'w_abs': 0.976, 'geometry': 'harp', 'N_harp': 300, 'N_meander': 1, 'L_tube': 1.342, 'tube_geometry': 'rectangular', 'H_tube': 0.002, 'w_tube': 0.00281, 'W': 0.00335, 'l_c': 0.003, 'p_ext_tube': 0.00335, 'p_ext_tube_rad': 0.0, 'lambd_air': 0.0, 'lambd_conductive_plate': 0.0, 'lambd_abs': 0.00035, 'lambd_riser_plate': 0.0, 'lambd_riser_back': 0.00035, 'lambd_ins': 0.0, 'eps_he': 0.3, 'eps_ins': 0.2, 'k_air': 0.025, 'k_conductive_plate': 1, 'k_abs': 220, 'k_riser_plate': 220, 'k_riser_back': 220, 'k_ins': 0.03, 'Heta': 0.02, 'N_ail': 70, 'N_fins_per_EP': nan, 'lambd_ail': 0.005, 'k_ail': 226, 'eps_fin': nan, 'D': nan, 'fin_0': 0, 'N_f0': nan, 'L_f0': nan, 'delta_f0': nan, 'fin_1': 0, 'N_f1': nan, 'L_f1': nan, 'delta_f1': nan, 'delta_f1_int': nan, 'coeff_f1': nan, 'fin_2': 0, 'N_f2': nan, 'L_f2': nan, 'delta_f2': nan, 'D_f2': nan, 'fin_3': 0, 'N_f3': nan, 'L_f3': nan, 'delta_f3': nan, 'is_exchanger': 1, 'is_inlet_man': 0, 'is_outlet_man': 0, 'is_anomaly': 0}, 'manifold': {'name': 'xxx', 'eta_nom': 0.201, 'Eff_T': -0.0034000000000000002, 'T_ref': 298.15, 'Eff_G': 0, 'G_ref': 1000, 'X_corr': 1, 'tau_alpha': 0.8, 'eps': 0.95, 'eps_bs': 1, 'w_pan': 1.134, 'L_pan': 1.708, 'orientation': 'portrait', 'lambd_upper_glass': 0.00278, 'lambd_upper_EVA': 0.000515, 'lambd_si': 0.00015, 'lambd_lower_EVA': 0.000515, 'lambd_PVDF': 2.9999999999999997e-05, 'lambd_PET': 0.00027, 'lambd_adh': 0.0, 'lambd_lower_glass': 0.0, 'k_glass': 0.8, 'k_EVA': 0.24, 'k_si': 60, 'k_PVDF': 0.2, 'k_PET': 0.3, 'k_adh': 0.2, 'L_abs': 1.342, 'w_abs': 0.976, 'geometry': 'harp', 'N_harp': 1, 'N_meander': 1, 'L_tube': 1.134, 'tube_geometry': 'circular', 'H_tube': 0.018, 'w_tube': 0.018, 'W': 0.022, 'l_c': 1e-08, 'p_ext_tube': 0.06911503837897544, 'p_ext_tube_rad': 0.0, 'lambd_air': 0.0, 'lambd_conductive_plate': 0.0, 'lambd_abs': 0.00027, 'lambd_riser_plate': 0.0, 'lambd_riser_back': 0.0005, 'lambd_ins': 0.0, 'eps_he': 0.2, 'eps_ins': 0.8, 'k_air': 0.025, 'k_conductive_plate': 1, 'k_abs': 0.3, 'k_riser_plate': 0.025, 'k_riser_back': 220, 'k_ins': 0.03, 'Heta': 0.02, 'N_ail': 70, 'N_fins_per_EP': nan, 'lambd_ail': 0.005, 'k_ail': 226, 'eps_fin': nan, 'D': nan, 'fin_0': 0, 'N_f0': nan, 'L_f0': nan, 'delta_f0': nan, 'fin_1': 0, 'N_f1': nan, 'L_f1': nan, 'delta_f1': nan, 'delta_f1_int': nan, 'coeff_f1': nan, 'fin_2': 0, 'N_f2': nan, 'L_f2': nan, 'delta_f2': nan, 'D_f2': nan, 'fin_3': 0, 'N_f3': nan, 'L_f3': nan, 'delta_f3': nan, 'is_exchanger': 0, 'is_inlet_man': 1, 'is_outlet_man': 1, 'is_anomaly': 0, 'input_man': 1}, 'anomaly1': {'name': 'xxx', 'eta_nom': 0.201, 'Eff_T': -0.0034000000000000002, 'T_ref': 298.15, 'Eff_G': 0, 'G_ref': 1000, 'X_corr': 1, 'tau_alpha': 0.8, 'eps': 0.95, 'eps_bs': 1, 'w_pan': 1.134, 'L_pan': 1.708, 'orientation': 'portrait', 'lambd_upper_glass': 0.00278, 'lambd_upper_EVA': 0.000515, 'lambd_si': 0.00015, 'lambd_lower_EVA': 0.000515, 'lambd_PVDF': 2.9999999999999997e-05, 'lambd_PET': 0.00027, 'lambd_adh': 0.0, 'lambd_lower_glass': 0.0, 'k_glass': 0.8, 'k_EVA': 0.24, 'k_si': 60, 'k_PVDF': 0.2, 'k_PET': 0.3, 'k_adh': 0.2, 'L_abs': 1342, 'w_abs': 976, 'geometry': 'harp', 'N_harp': 300, 'N_meander': 1, 'L_tube': 0.24, 'tube_geometry': 'rectangular', 'H_tube': 0.002, 'w_tube': 0.00281, 'W': 0.00335, 'l_c': 1.0000000000000001e-07, 'p_ext_tube': 0.005025, 'p_ext_tube_rad': 0.00335, 'lambd_air': 0.0, 'lambd_conductive_plate': 0.0, 'lambd_abs': 0.00027, 'lambd_riser_plate': 0.0, 'lambd_riser_back': 0.00035, 'lambd_ins': 0.0, 'eps_he': 0.3, 'eps_ins': 0.2, 'k_air': 0.025, 'k_conductive_plate': 1, 'k_abs': 0.3, 'k_riser_plate': 0.025, 'k_riser_back': 220, 'k_ins': 0.03, 'Heta': 0.02, 'N_ail': 70, 'N_fins_per_EP': nan, 'lambd_ail': 0.005, 'k_ail': 226, 'eps_fin': nan, 'D': nan, 'fin_0': 0, 'N_f0': nan, 'L_f0': nan, 'delta_f0': nan, 'fin_1': 0, 'N_f1': nan, 'L_f1': nan, 'delta_f1': nan, 'delta_f1_int': nan, 'coeff_f1': nan, 'fin_2': 0, 'N_f2': nan, 'L_f2': nan, 'delta_f2': nan, 'D_f2': nan, 'fin_3': 0, 'N_f3': nan, 'L_f3': nan, 'delta_f3': nan, 'is_exchanger': 0, 'is_inlet_man': 0, 'is_outlet_man': 0, 'is_anomaly': 1, 'input_an': 1}}\n"
     ]
    }
   ],
   "source": [
    "input_name = r'\\Inputs_V4.41-NI-glass-backsheet.xlsx'\n",
    "hyp_name = r'\\Model_hypotheses.xlsx'\n",
    "data_path = r'G:\\Drive partagés\\BU04-Innovation\\PVT-perf-1Dmodel\\Steady-state conditions inputs'\n",
    "data_name = r'\\230104_TUV_test_conditions_V4.41_MPP.xlsx'\n",
    "\n",
    "par = pr.import_input(r'G:\\Drive partagés\\BU04-Innovation\\PVT-perf-1Dmodel\\Inputs',input_name)\n",
    "hyp = pr.create_dict_from_excel(r'G:\\Drive partagés\\BU04-Innovation\\PVT-perf-1Dmodel\\Hypotheses',hyp_name,'Main')\n",
    "condi = pr.create_inputs_from_excel(data_path+data_name,par,hyp)"
   ]
  },
  {
   "cell_type": "code",
   "execution_count": 3,
   "metadata": {},
   "outputs": [
    {
     "name": "stdout",
     "output_type": "stream",
     "text": [
      "0\n",
      "je teste\n",
      "compt 1\n"
     ]
    },
    {
     "ename": "KeyError",
     "evalue": "'eps_g'",
     "output_type": "error",
     "traceback": [
      "\u001b[1;31m---------------------------------------------------------------------------\u001b[0m",
      "\u001b[1;31mKeyError\u001b[0m                                  Traceback (most recent call last)",
      "Cell \u001b[1;32mIn[3], line 1\u001b[0m\n\u001b[1;32m----> 1\u001b[0m df_res,X,list_res,list_df,list_df_historic \u001b[39m=\u001b[39m ty\u001b[39m.\u001b[39;49msimu_condi(par,hyp,condi)\n",
      "File \u001b[1;32mc:\\Users\\valen\\Dropbox (DualSun)\\PC\\Documents\\GitHub\\PVT-thermal-performance-model\\model.py:2472\u001b[0m, in \u001b[0;36msimu_condi\u001b[1;34m(par, hyp, condi_df)\u001b[0m\n\u001b[0;32m   2469\u001b[0m \u001b[39m# par_p[\"guess_T_PV\"] = par_p[\"T_amb\"] - 25\u001b[39;00m\n\u001b[0;32m   2470\u001b[0m par_p[\u001b[39m\"\u001b[39m\u001b[39mguess_T_PV\u001b[39m\u001b[39m\"\u001b[39m] \u001b[39m=\u001b[39m (par_p[\u001b[39m\"\u001b[39m\u001b[39mT_amb\u001b[39m\u001b[39m\"\u001b[39m]\u001b[39m+\u001b[39mpar_p[\u001b[39m\"\u001b[39m\u001b[39mT_fluid_in0\u001b[39m\u001b[39m\"\u001b[39m])\u001b[39m/\u001b[39m\u001b[39m2\u001b[39m\n\u001b[1;32m-> 2472\u001b[0m df_one,res \u001b[39m=\u001b[39m simu_one_steady_state_all_he(par,par_p,hyp)\n\u001b[0;32m   2474\u001b[0m df_res \u001b[39m=\u001b[39m pd\u001b[39m.\u001b[39mconcat([df_res,df_one],ignore_index\u001b[39m=\u001b[39m\u001b[39mTrue\u001b[39;00m)\n\u001b[0;32m   2475\u001b[0m list_df\u001b[39m.\u001b[39mappend(res[\u001b[39m'\u001b[39m\u001b[39mexchanger\u001b[39m\u001b[39m'\u001b[39m][\u001b[39m0\u001b[39m])\n",
      "File \u001b[1;32mc:\\Users\\valen\\Dropbox (DualSun)\\PC\\Documents\\GitHub\\PVT-thermal-performance-model\\model.py:2218\u001b[0m, in \u001b[0;36msimu_one_steady_state_all_he\u001b[1;34m(par, par_p, hyp)\u001b[0m\n\u001b[0;32m   2216\u001b[0m \u001b[39m# Test without manifolds\u001b[39;00m\n\u001b[0;32m   2217\u001b[0m \u001b[39mprint\u001b[39m(\u001b[39m\"\u001b[39m\u001b[39mje teste\u001b[39m\u001b[39m\"\u001b[39m)\n\u001b[1;32m-> 2218\u001b[0m df,df_one,list_df_historic \u001b[39m=\u001b[39m simu_one_steady_state(par[\u001b[39m'\u001b[39;49m\u001b[39mexchanger\u001b[39;49m\u001b[39m'\u001b[39;49m],par_p,hyp)\n\u001b[0;32m   2219\u001b[0m \u001b[39mprint\u001b[39m(\u001b[39m\"\u001b[39m\u001b[39mtest_fini\u001b[39m\u001b[39m\"\u001b[39m)\n\u001b[0;32m   2221\u001b[0m hyp[\u001b[39m'\u001b[39m\u001b[39mh_back_prev\u001b[39m\u001b[39m'\u001b[39m] \u001b[39m=\u001b[39m df_one[\u001b[39m'\u001b[39m\u001b[39mh_back\u001b[39m\u001b[39m'\u001b[39m]\u001b[39m.\u001b[39mvalues[\u001b[39m0\u001b[39m] \u001b[39m# h_back de l'absorbeur\u001b[39;00m\n",
      "File \u001b[1;32mc:\\Users\\valen\\Dropbox (DualSun)\\PC\\Documents\\GitHub\\PVT-thermal-performance-model\\model.py:2374\u001b[0m, in \u001b[0;36msimu_one_steady_state\u001b[1;34m(par, par_p, hyp)\u001b[0m\n\u001b[0;32m   2372\u001b[0m \u001b[39mprint\u001b[39m(\u001b[39m'\u001b[39m\u001b[39mcompt\u001b[39m\u001b[39m'\u001b[39m,compt)\n\u001b[0;32m   2373\u001b[0m par_p[\u001b[39m\"\u001b[39m\u001b[39mcompt\u001b[39m\u001b[39m\"\u001b[39m] \u001b[39m=\u001b[39m compt\n\u001b[1;32m-> 2374\u001b[0m one_loop(par,par_p,T_f_in,var,hyp)\n\u001b[0;32m   2375\u001b[0m compute_power(par,par_p,var)\n\u001b[0;32m   2377\u001b[0m par_var \u001b[39m=\u001b[39m {\u001b[39m'\u001b[39m\u001b[39mmdot\u001b[39m\u001b[39m'\u001b[39m : par_p[\u001b[39m'\u001b[39m\u001b[39mmdot\u001b[39m\u001b[39m'\u001b[39m],\u001b[39m'\u001b[39m\u001b[39mG\u001b[39m\u001b[39m'\u001b[39m:par_p[\u001b[39m\"\u001b[39m\u001b[39mG\u001b[39m\u001b[39m\"\u001b[39m],\u001b[39m'\u001b[39m\u001b[39mGp\u001b[39m\u001b[39m'\u001b[39m:par_p[\u001b[39m\"\u001b[39m\u001b[39mGp\u001b[39m\u001b[39m\"\u001b[39m],\u001b[39m'\u001b[39m\u001b[39mT_amb\u001b[39m\u001b[39m'\u001b[39m:par_p[\u001b[39m\"\u001b[39m\u001b[39mT_amb\u001b[39m\u001b[39m\"\u001b[39m],\u001b[39m'\u001b[39m\u001b[39mu\u001b[39m\u001b[39m'\u001b[39m:par_p[\u001b[39m'\u001b[39m\u001b[39mu\u001b[39m\u001b[39m'\u001b[39m],\u001b[39m\"\u001b[39m\u001b[39mh_top_g\u001b[39m\u001b[39m\"\u001b[39m : var[\u001b[39m\"\u001b[39m\u001b[39mh_top_g\u001b[39m\u001b[39m\"\u001b[39m], \u001b[39m'\u001b[39m\u001b[39mh_back\u001b[39m\u001b[39m'\u001b[39m : var[\u001b[39m'\u001b[39m\u001b[39mh_back\u001b[39m\u001b[39m'\u001b[39m], \u001b[39m'\u001b[39m\u001b[39mh_rad_back\u001b[39m\u001b[39m'\u001b[39m : var[\u001b[39m\"\u001b[39m\u001b[39mh_rad_back\u001b[39m\u001b[39m\"\u001b[39m],\u001b[39m'\u001b[39m\u001b[39mh_back_tube\u001b[39m\u001b[39m'\u001b[39m : var[\u001b[39m'\u001b[39m\u001b[39mh_back_tube\u001b[39m\u001b[39m'\u001b[39m], \u001b[39m'\u001b[39m\u001b[39mh_rad_back_tube\u001b[39m\u001b[39m'\u001b[39m : var[\u001b[39m\"\u001b[39m\u001b[39mh_rad_back_tube\u001b[39m\u001b[39m\"\u001b[39m],\u001b[39m'\u001b[39m\u001b[39mh_back_fins\u001b[39m\u001b[39m'\u001b[39m : var[\u001b[39m\"\u001b[39m\u001b[39mh_back_fins\u001b[39m\u001b[39m\"\u001b[39m],\u001b[39m\"\u001b[39m\u001b[39mh_rad_f\u001b[39m\u001b[39m\"\u001b[39m:var[\u001b[39m\"\u001b[39m\u001b[39mh_rad_f\u001b[39m\u001b[39m\"\u001b[39m],\u001b[39m'\u001b[39m\u001b[39mh_fluid\u001b[39m\u001b[39m'\u001b[39m : var[\u001b[39m'\u001b[39m\u001b[39mh_fluid\u001b[39m\u001b[39m'\u001b[39m]}\n",
      "File \u001b[1;32mc:\\Users\\valen\\Dropbox (DualSun)\\PC\\Documents\\GitHub\\PVT-thermal-performance-model\\model.py:2032\u001b[0m, in \u001b[0;36mone_loop\u001b[1;34m(par, par_p, T_fluid_in, var, hyp)\u001b[0m\n\u001b[0;32m   2027\u001b[0m     \u001b[39m# directement dans le calcul de KTE()\u001b[39;00m\n\u001b[0;32m   2028\u001b[0m \u001b[39melse\u001b[39;00m:\n\u001b[0;32m   2029\u001b[0m     \u001b[39mpass\u001b[39;00m\n\u001b[1;32m-> 2032\u001b[0m h_rad_g(par,par_p,var,hyp)\n\u001b[0;32m   2033\u001b[0m h_rad(par,par_p,var,hyp) \u001b[39m# T_PV\u001b[39;00m\n\u001b[0;32m   2035\u001b[0m \u001b[39mif\u001b[39;00m par[\u001b[39m\"\u001b[39m\u001b[39mfin_0\u001b[39m\u001b[39m\"\u001b[39m] \u001b[39m==\u001b[39m \u001b[39m1\u001b[39m \u001b[39mor\u001b[39;00m par[\u001b[39m\"\u001b[39m\u001b[39mfin_1\u001b[39m\u001b[39m\"\u001b[39m] \u001b[39m==\u001b[39m \u001b[39m1\u001b[39m \u001b[39mor\u001b[39;00m par[\u001b[39m\"\u001b[39m\u001b[39mfin_2\u001b[39m\u001b[39m\"\u001b[39m] \u001b[39m==\u001b[39m \u001b[39m1\u001b[39m:\n",
      "File \u001b[1;32mc:\\Users\\valen\\Dropbox (DualSun)\\PC\\Documents\\GitHub\\PVT-thermal-performance-model\\model.py:474\u001b[0m, in \u001b[0;36mh_rad_g\u001b[1;34m(par, par_p, var, hyp)\u001b[0m\n\u001b[0;32m    462\u001b[0m \u001b[39mdef\u001b[39;00m \u001b[39mh_rad_g\u001b[39m(par,par_p,var,hyp):\n\u001b[0;32m    463\u001b[0m \u001b[39m    \u001b[39m\u001b[39m\"\"\"Calculates the radiative heat transfer coefficient between the glass and the sky and stores it in var[\"h_rad_g\"]\u001b[39;00m\n\u001b[0;32m    464\u001b[0m \u001b[39m    \u001b[39;00m\n\u001b[0;32m    465\u001b[0m \u001b[39m    Args:\u001b[39;00m\n\u001b[1;32m   (...)\u001b[0m\n\u001b[0;32m    471\u001b[0m \u001b[39m    Returns:\u001b[39;00m\n\u001b[0;32m    472\u001b[0m \u001b[39m        None\"\"\"\u001b[39;00m\n\u001b[1;32m--> 474\u001b[0m     var[\u001b[39m\"\u001b[39m\u001b[39mh_rad_g\u001b[39m\u001b[39m\"\u001b[39m] \u001b[39m=\u001b[39m bht\u001b[39m.\u001b[39mh_rad(par[\u001b[39m\"\u001b[39;49m\u001b[39meps_g\u001b[39;49m\u001b[39m\"\u001b[39;49m],var[\u001b[39m\"\u001b[39m\u001b[39mT_glass\u001b[39m\u001b[39m\"\u001b[39m],par_p[\u001b[39m\"\u001b[39m\u001b[39mT_sky\u001b[39m\u001b[39m\"\u001b[39m])\n",
      "\u001b[1;31mKeyError\u001b[0m: 'eps_g'"
     ]
    }
   ],
   "source": [
    "df_res,X,list_res,list_df,list_df_historic = ty.simu_condi(par,hyp,condi)"
   ]
  },
  {
   "cell_type": "code",
   "execution_count": null,
   "metadata": {},
   "outputs": [],
   "source": [
    "[tab,X] = sk.find_SK(condi,par['AG'],columns_list=[1,1,0,1,0,0,1,0,0])\n",
    "X_df = pd.DataFrame(X[0],index = ['eta0,hem','a1','a2','a3','a4','a5','a6','a7','a8'],columns=['TÜV'])\n",
    "\n",
    "[tab_m,X_m] = sk.find_SK(df_res,par['AG'],columns_list=[1,1,0,1,0,0,1,0,0])\n",
    "X_df['Linear fit model 1D'] = X_m[0]\n",
    "\n",
    "pr.disp_html(X_df)\n",
    "\n",
    "# X_df.to_csv('V4.41_glass_backsheet_MPP.csv',sep=\";\")"
   ]
  },
  {
   "cell_type": "code",
   "execution_count": null,
   "metadata": {},
   "outputs": [],
   "source": [
    "u_list = [0.7,2.1,3.9]\n",
    "color_list_1 = ['lightgreen','skyblue','darksalmon']\n",
    "color_list_2 = ['green','darkblue','tomato']"
   ]
  },
  {
   "cell_type": "code",
   "execution_count": null,
   "metadata": {},
   "outputs": [],
   "source": [
    "fig = go.Figure()\n",
    "\n",
    "for i in range(len(u_list)):\n",
    "    # Add traces\n",
    "\n",
    "    fig.add_trace(go.Scatter(x=-df_res.loc[df_res[\"u\"]==u_list[i]]['-(T_m - T_a)'], y=df_res.loc[df_res[\"u\"]==u_list[i]]['Q_dot / A_G'],\n",
    "                        mode = 'markers',marker_color = color_list_1[i],\n",
    "                        name='Model 1D - u = '+str(u_list[i])+' m/s',\n",
    "                        ))\n",
    "\n",
    "    \n",
    "    fig.add_trace(go.Scatter(x=-df_res.loc[df_res[\"u\"]==u_list[i]]['-(T_m - T_a)'], y=sk.comp_power_rG_coeff_df(X_df['Linear fit model 1D'],df_res.loc[df_res[\"u\"]==u_list[i]]),\n",
    "                        mode = 'lines',\n",
    "                        line=dict(color=color_list_1[i], width=1,\n",
    "                            dash='dashdot'),\n",
    "                        name='Linear fit model 1D - u = '+str(u_list[i])+' m/s',\n",
    "                        ))\n",
    "    \n",
    "    fig.add_trace(go.Scatter(x=condi.loc[condi[\"u\"]==u_list[i]]['T_m - T_a'], y=condi.loc[condi[\"u\"]==u_list[i]]['Q_dot / A_G'],\n",
    "                        mode = 'markers',marker_color = color_list_2[i],\n",
    "                        name='TUV - u = '+str(u_list[i])+' m/s')\n",
    "                        )\n",
    "    \n",
    "    fig.add_trace(go.Scatter(x=condi.loc[condi[\"u\"]==u_list[i]]['T_m - T_a'], y=sk.comp_power_rG_coeff_df(X_df['TÜV'],condi.loc[condi[\"u\"]==u_list[i]]),\n",
    "                        mode = 'lines',\n",
    "                        line=dict(color=color_list_2[i],width=1\n",
    "                            ),\n",
    "                        name='Linear fit TUV - u = '+str(u_list[i])+' m/s')\n",
    "                        )\n",
    "# Set x-axis title\n",
    "fig.update_xaxes(title_text=\"T_m - T_amb\")\n",
    "fig.update_yaxes(title_text=\"Power related to gross (W/m2 coll.)\")\n",
    "\n",
    "fig.update_layout(\n",
    "    title={\n",
    "        'text': \"V4.41 glass-backsheet dark no wind\",\n",
    "        'y':0.9,\n",
    "        'x':0.5,\n",
    "        'xanchor': 'center',\n",
    "        'yanchor': 'top'})\n",
    "\n",
    "fig.update_layout(\n",
    "    autosize=False,\n",
    "    width=1200,\n",
    "    height=700,\n",
    "    margin=dict(\n",
    "        l=0,\n",
    "        r=0,\n",
    "        b=50,\n",
    "        t=50,\n",
    "        pad=1\n",
    "    ),\n",
    ")\n",
    "\n",
    "fig.show()"
   ]
  },
  {
   "cell_type": "code",
   "execution_count": null,
   "metadata": {},
   "outputs": [],
   "source": [
    "fig.write_html('V4.41_glass_backsheet_MPP.html')"
   ]
  },
  {
   "cell_type": "code",
   "execution_count": null,
   "metadata": {},
   "outputs": [],
   "source": [
    "pr.disp_html(df_res)"
   ]
  },
  {
   "cell_type": "code",
   "execution_count": null,
   "metadata": {},
   "outputs": [],
   "source": [
    "[tab,X] = sk.find_SK_SST(condi,par['A_G'],columns_list=[0,1,0,1,0,0,0,0,0])\n",
    "[tab_m,X_m] = sk.find_SK_SST(df_res,par['A_G'],columns_list=[0,1,0,1,0,0,0,0,0])"
   ]
  },
  {
   "cell_type": "code",
   "execution_count": null,
   "metadata": {},
   "outputs": [],
   "source": [
    "pr.display_a_i(X)\n",
    "pr.display_a_i(X_m)"
   ]
  },
  {
   "cell_type": "code",
   "execution_count": null,
   "metadata": {},
   "outputs": [],
   "source": [
    "condi"
   ]
  },
  {
   "cell_type": "code",
   "execution_count": null,
   "metadata": {},
   "outputs": [],
   "source": [
    "pr.disp_html(df_res)"
   ]
  },
  {
   "cell_type": "code",
   "execution_count": null,
   "metadata": {},
   "outputs": [],
   "source": [
    "u_list = [0.7,2.1,3.9]\n",
    "\n",
    "color_list = ['blue','red','green','orange','cyan','purple']\n",
    "\n",
    "def lin(x,a,b):\n",
    "    return a*x+b\n",
    "\n",
    "popt_mod_list = []\n",
    "pcov_mod_list = []\n",
    "popt_tuv_list = []\n",
    "pcov_tuv_list = []\n",
    "\n",
    "\n",
    "for i in range(len(u_list)):\n",
    "    popt,pcov = sco.curve_fit(lin,-df_res.loc[df_res[\"u\"]==u_list[i]]['-(T_m - T_a)'],df_res.loc[df_res[\"u\"]==u_list[i]]['Q_dot / A_G'])\n",
    "    popt_mod_list.append(popt)\n",
    "    pcov_mod_list.append(pcov)\n",
    "\n",
    "    popt,pcov = sco.curve_fit(lin,condi.loc[condi[\"u\"]==u_list[i]]['T_m - T_a'],condi.loc[df_res[\"u\"]==u_list[i]]['Q_dot / A_G'])\n",
    "    popt_tuv_list.append(popt)\n",
    "    pcov_tuv_list.append(pcov)\n",
    "\n",
    "fig = go.Figure()\n",
    "\n",
    "for i in range(len(u_list)):\n",
    "    # Add traces\n",
    "\n",
    "    fig.add_trace(go.Scatter(x=-df_res.loc[df_res[\"u\"]==u_list[i]]['-(T_m - T_a)'], y=df_res.loc[df_res[\"u\"]==u_list[i]]['Q_dot / A_G'],\n",
    "                        mode = 'markers',\n",
    "                        marker=dict(color=color_list[2*i]),\n",
    "                        name='Model 1D - u = '+str(u_list[i])+' m/s')\n",
    "                        )\n",
    "    \n",
    "    fig.add_trace(go.Scatter(x=condi.loc[condi[\"u\"]==u_list[i]]['T_m - T_a'], y=condi.loc[condi[\"u\"]==u_list[i]]['Q_dot / A_G'],\n",
    "                        mode = 'markers',\n",
    "                        marker=dict(color=color_list[2*i+1]),\n",
    "                        name='TUV - u = '+str(u_list[i])+' m/s')\n",
    "                        )\n",
    "\n",
    "\n",
    "    fig.add_trace(go.Scatter(x=-df_res.loc[df_res[\"u\"]==u_list[i]]['-(T_m - T_a)'], y=lin(-df_res.loc[df_res[\"u\"]==u_list[i]]['-(T_m - T_a)'],*popt_mod_list[i]),\n",
    "                        mode = 'lines',\n",
    "                        line=dict(color=color_list[2*i], width=1,\n",
    "                              dash='dashdot'),\n",
    "                        name='Linear fit model 1D - u = '+str(u_list[i])+' m/s')\n",
    "                        )\n",
    "    \n",
    "    fig.add_trace(go.Scatter(x=condi.loc[condi[\"u\"]==u_list[i]]['T_m - T_a'], y=lin(condi.loc[condi[\"u\"]==u_list[i]]['T_m - T_a'],*popt_tuv_list[i]),\n",
    "                        mode = 'lines',\n",
    "                        line=dict(color=color_list[2*i+1], width=1,\n",
    "                              dash='dashdot'),\n",
    "                        name='Linear fit TUV - u = '+str(u_list[i])+' m/s')\n",
    "                        )\n",
    "# Set x-axis title\n",
    "fig.update_xaxes(title_text=\"T_m - T_amb\")\n",
    "fig.update_yaxes(title_text=\"Power related to gross (W/m2 coll.)\")\n",
    "\n",
    "fig.update_layout(\n",
    "    title={\n",
    "        'text': \"V4.41 glass-backsheet dark no wind\",\n",
    "        'y':0.9,\n",
    "        'x':0.5,\n",
    "        'xanchor': 'center',\n",
    "        'yanchor': 'top'})\n",
    "\n",
    "fig.update_layout(\n",
    "    autosize=False,\n",
    "    width=1200,\n",
    "    height=700,\n",
    "    margin=dict(\n",
    "        l=0,\n",
    "        r=0,\n",
    "        b=50,\n",
    "        t=50,\n",
    "        pad=1\n",
    "    ),\n",
    ")\n",
    "\n",
    "fig.show()"
   ]
  },
  {
   "cell_type": "code",
   "execution_count": null,
   "metadata": {},
   "outputs": [],
   "source": [
    "mse = sklearn.metrics.mean_squared_error(df_res['Q_dot / A_G'],condi['Q_dot / A_G'])\n",
    "print(math.sqrt(mse))"
   ]
  }
 ],
 "metadata": {
  "kernelspec": {
   "display_name": "model23",
   "language": "python",
   "name": "python3"
  },
  "language_info": {
   "codemirror_mode": {
    "name": "ipython",
    "version": 3
   },
   "file_extension": ".py",
   "mimetype": "text/x-python",
   "name": "python",
   "nbconvert_exporter": "python",
   "pygments_lexer": "ipython3",
   "version": "3.10.5"
  },
  "orig_nbformat": 4
 },
 "nbformat": 4,
 "nbformat_minor": 2
}
