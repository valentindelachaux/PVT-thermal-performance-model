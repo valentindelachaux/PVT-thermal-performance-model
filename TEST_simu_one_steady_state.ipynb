{
 "cells": [
  {
   "cell_type": "code",
   "execution_count": null,
   "metadata": {},
   "outputs": [],
   "source": [
    "# Initialization\n",
    "\n",
    "import math\n",
    "from datetime import datetime\n",
    "import openpyxl as opxl\n",
    "from openpyxl.utils.dataframe import dataframe_to_rows\n",
    "import pandas as pd\n",
    "import numpy as np\n",
    "import matplotlib.pyplot as plt\n",
    "import model as ty\n",
    "import proc as pr\n",
    "import matplotlib.ticker as mtick\n",
    "import sklearn.metrics\n",
    "\n",
    "from IPython.core.display import HTML\n",
    "\n",
    "import heat_transfer as bht\n",
    "\n",
    "import fluids as fds\n",
    "import ht \n",
    "\n",
    "import general as gen\n",
    "\n",
    "import os\n",
    "\n",
    "import scipy.integrate as integrate\n",
    "import scipy.optimize as sco\n",
    "\n",
    "import networkx as nx\n",
    "\n",
    "import plotly.graph_objects as go\n",
    "\n",
    "import plot_functions_here as pfun"
   ]
  },
  {
   "cell_type": "code",
   "execution_count": null,
   "metadata": {},
   "outputs": [],
   "source": [
    "folder_path = r'G:\\Drive partagés\\Cercle Hard\\Production\\R&D - Modèles numériques\\PVT-perf-1Dmodel'\n",
    "geometry_path = folder_path + '\\\\' + 'Inputs\\\\Inputs_TEST_V4.5_GG.xlsx'\n",
    "hypotheses_path = folder_path + '\\\\' + 'Hypotheses\\\\Model_hypotheses.xlsx'\n",
    "condi_path = folder_path + '\\\\' + 'Steady-state conditions inputs\\\\221122_TUV_test_conditions_S425-I_MPP.xlsx'\n",
    "\n",
    "output_name = 'TEST_n1'\n",
    "\n",
    "componentSpecs = pr.import_geometry(geometry_path)\n",
    "hyp = pr.create_dict_from_excel(hypotheses_path,'Main')\n",
    "steadyStateConditions_df = pr.create_inputs_from_excel(condi_path,componentSpecs,hyp)"
   ]
  },
  {
   "cell_type": "code",
   "execution_count": null,
   "metadata": {},
   "outputs": [],
   "source": [
    "# stepConditions = ty.write_stepConditions_from_steadyStateConditions(steadyStateConditions_df,0,hyp)"
   ]
  },
  {
   "cell_type": "code",
   "execution_count": null,
   "metadata": {},
   "outputs": [],
   "source": [
    "stepConditions =   {'G': 0.,\n",
    "                    'T_amb': 273.15,\n",
    "                    'T_back': 273.15,\n",
    "                    'u': 0.00001,\n",
    "                    'u_back': 0.,\n",
    "                    'T_fluid_in0': 267.15,\n",
    "                    'Gp': 4,\n",
    "                    'T_sky': 273.15,\n",
    "                    'T_back_rad': 273.15,\n",
    "                    'mdot': 0.0478,\n",
    "                    'guess_T_PV': 270.}"
   ]
  },
  {
   "cell_type": "code",
   "execution_count": null,
   "metadata": {},
   "outputs": [],
   "source": [
    "# slices_df,df_one,its_df_list = ty.simu_one_steady_state(par,par_p,hyp)"
   ]
  },
  {
   "cell_type": "code",
   "execution_count": null,
   "metadata": {},
   "outputs": [],
   "source": [
    "df_one,res = ty.simu_one_steady_state_all_he(componentSpecs,stepConditions,hyp)"
   ]
  },
  {
   "cell_type": "code",
   "execution_count": null,
   "metadata": {},
   "outputs": [],
   "source": [
    "for part in componentSpecs['decomp'].keys():\n",
    "    bal,bal_perc = ty.recap_energy_balances(res[part]['df_one'])\n",
    "    print(part,bal_perc)\n",
    "bal,bal_perc = ty.recap_energy_balances(df_one)\n",
    "print('Total',bal_perc)"
   ]
  },
  {
   "cell_type": "code",
   "execution_count": null,
   "metadata": {},
   "outputs": [],
   "source": [
    "merged_df = pd.concat([df_one] + [res[part]['df_one'] for part in res.keys()], axis=0)\n",
    "merged_df.insert(0, 'Component', ['Total']+ list(componentSpecs['decomp'].keys()))\n",
    "merged_df.insert(1, 'Component name', ['Total']+ list(componentSpecs['decomp'].values()))"
   ]
  },
  {
   "cell_type": "code",
   "execution_count": null,
   "metadata": {},
   "outputs": [],
   "source": [
    "pr.disp_html(merged_df)"
   ]
  },
  {
   "cell_type": "code",
   "execution_count": null,
   "metadata": {},
   "outputs": [],
   "source": [
    "df_one['Qdot_tube_fluid']"
   ]
  },
  {
   "cell_type": "code",
   "execution_count": null,
   "metadata": {},
   "outputs": [],
   "source": [
    "A1 = ( - df_one['Qdot_tube_fluid'] / componentSpecs['AG'] / ( (df_one['T_fluid_out'] + df_one['T_fluid_in'])/2 - df_one['T_amb'] ) ).values[0]\n",
    "print('A1',A1)"
   ]
  },
  {
   "cell_type": "code",
   "execution_count": null,
   "metadata": {},
   "outputs": [],
   "source": [
    "bal,bal_perc = ty.recap_energy_balances(res['main']['df_one'])"
   ]
  },
  {
   "cell_type": "code",
   "execution_count": null,
   "metadata": {},
   "outputs": [],
   "source": [
    "# Create a directed graph\n",
    "G = nx.DiGraph()\n",
    "\n",
    "# Add nodes\n",
    "nodes = ['T_amb', 'T_sky', 'T_glass', 'T_PV', 'T_B', 'T_absfin', \n",
    "         'T_tube', 'T_fluid', 'T_ins_absfin', 'T_ins_tube', 'T_back', 'T_back_rad']\n",
    "G.add_nodes_from(nodes)\n",
    "\n",
    "# Add edges with labels\n",
    "edges = [('T_amb', 'T_glass', 'Qdot_top_conv'), ('T_sky', 'T_glass', 'Qdot_top_rad'),\n",
    "         ('T_glass', 'T_PV', 'Qdot_glass_PV'), ('T_PV', 'T_B', 'Qdot_PV_Base'),\n",
    "         ('T_PV', 'T_absfin', 'Qdot_PV_absfin'), ('T_absfin', 'T_B', 'Qdot_absfin_Base'),\n",
    "         ('T_B', 'T_tube', 'Qdot_Base_tube'), ('T_tube', 'T_fluid', 'Qdot_tube_fluid'),\n",
    "         ('T_absfin', 'T_ins_absfin', 'Qdot_absfin_ins_absfin'),\n",
    "         ('T_tube', 'T_ins_tube', 'Qdot_tube_ins_tube'),\n",
    "         ('T_ins_absfin', 'T_back', 'Qdot_ins_absfin_back'),\n",
    "         ('T_ins_absfin', 'T_back_rad', 'Qdot_ins_absfin_back_rad'),\n",
    "         ('T_ins_tube', 'T_back', 'Qdot_ins_tube_back'),\n",
    "         ('T_ins_tube', 'T_back_rad', 'Qdot_ins_tube_back_rad')]\n",
    "\n",
    "for u, v, label in edges:\n",
    "    G.add_edge(u, v, label=label)\n",
    "\n",
    "# Manually set positions based on TikZ coordinates\n",
    "pos = {\n",
    "    'T_amb': (3, 0),\n",
    "    'T_sky': (8, 0),\n",
    "    'T_glass': (5.5, -3),\n",
    "    'T_PV': (5.5, -8),\n",
    "    'T_B': (3, -11),\n",
    "    'T_absfin': (8, -11),\n",
    "    'T_tube': (4, -15),\n",
    "    'T_fluid': (4, -20),\n",
    "    'T_ins_absfin': (9, -19),\n",
    "    'T_ins_tube': (6, -19),\n",
    "    'T_back': (6, -26),\n",
    "    'T_back_rad': (9, -26)\n",
    "}\n",
    "\n",
    "# Draw the graph\n",
    "nx.draw(G, pos, with_labels=True, node_color='lightblue', edge_color='black')\n",
    "\n",
    "# Draw edge labels\n",
    "edge_labels = nx.get_edge_attributes(G, 'label')\n",
    "nx.draw_networkx_edge_labels(G, pos, edge_labels=edge_labels)\n",
    "\n",
    "plt.show()\n"
   ]
  },
  {
   "cell_type": "code",
   "execution_count": null,
   "metadata": {},
   "outputs": [],
   "source": [
    "pfun.plot_graph(df_one)"
   ]
  },
  {
   "cell_type": "code",
   "execution_count": null,
   "metadata": {},
   "outputs": [],
   "source": [
    "ht_signs = {'Qdot_sun_PV':1, 'Qdot_sun_glass':1, 'Qdot_top_conv':-1, 'Qdot_top_rad':-1, 'Qdot_PV_sky':-1, 'Qdot_absfin_back_conv':-1, 'Qdot_absfin_back_rad':-1, 'Qdot_Base_back':-1, 'Qdot_tube_back_conv':-1, 'Qdot_tube_back_rad':-1, 'Qdot_tube_sky':-1}\n",
    "ht_labels = ['Qdot_sun_PV', 'Qdot_sun_glass', 'Qdot_top_conv', 'Qdot_top_rad', 'Qdot_PV_sky', 'Qdot_absfin_back_conv', 'Qdot_absfin_back_rad', 'Qdot_Base_back', 'Qdot_tube_back_conv', 'Qdot_tube_back_rad', 'Qdot_tube_sky']\n",
    "data = {key:ht_signs[key]*df_one[key].values[0] for key in ht_labels}\n",
    "\n",
    "# Adjusted approach for a single-column histogram with offset bars\n",
    "fig = go.Figure()\n",
    "\n",
    "# Initialize cumulative sums for positive and negative values\n",
    "cumulative_positive = 0\n",
    "cumulative_negative = 0\n",
    "\n",
    "for key, value in data.items():\n",
    "    if value >= 0:\n",
    "        # For positive values, start from the last positive cumulative sum\n",
    "        base = cumulative_positive\n",
    "        cumulative_positive += value\n",
    "    else:\n",
    "        # For negative values, start from the last negative cumulative sum\n",
    "        base = cumulative_negative\n",
    "        cumulative_negative += value\n",
    "    \n",
    "    fig.add_trace(go.Bar(\n",
    "        x=[\"Heat Transfer Contributions\"],\n",
    "        y=[value],\n",
    "        name=key,\n",
    "        width=0.2,\n",
    "        base=base  # Set the starting point of the bar\n",
    "    ))\n",
    "\n",
    "# Update the layout\n",
    "fig.update_layout(\n",
    "    title=\"Decomposition of Qdot_tube_fluid in Different Heat Transfer Contributions\",\n",
    "    yaxis_title=\"Value\",\n",
    "    barmode=\"overlay\"  # Overlay the bars\n",
    ")\n",
    "\n",
    "# Show the figure\n",
    "fig.show()\n"
   ]
  },
  {
   "cell_type": "code",
   "execution_count": null,
   "metadata": {},
   "outputs": [],
   "source": [
    "125/5.65/1.93"
   ]
  },
  {
   "cell_type": "code",
   "execution_count": null,
   "metadata": {},
   "outputs": [],
   "source": []
  }
 ],
 "metadata": {
  "kernelspec": {
   "display_name": "model23",
   "language": "python",
   "name": "python3"
  },
  "language_info": {
   "codemirror_mode": {
    "name": "ipython",
    "version": 3
   },
   "file_extension": ".py",
   "mimetype": "text/x-python",
   "name": "python",
   "nbconvert_exporter": "python",
   "pygments_lexer": "ipython3",
   "version": "3.10.5"
  }
 },
 "nbformat": 4,
 "nbformat_minor": 2
}
