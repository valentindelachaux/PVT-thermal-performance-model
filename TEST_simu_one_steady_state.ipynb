{
 "cells": [
  {
   "cell_type": "code",
   "execution_count": 1,
   "metadata": {},
   "outputs": [],
   "source": [
    "# Initialization\n",
    "\n",
    "import math\n",
    "from datetime import datetime\n",
    "import openpyxl as opxl\n",
    "from openpyxl.utils.dataframe import dataframe_to_rows\n",
    "import pandas as pd\n",
    "import numpy as np\n",
    "import matplotlib.pyplot as plt\n",
    "import model as ty\n",
    "import proc as pr\n",
    "import matplotlib.ticker as mtick\n",
    "import sklearn.metrics\n",
    "\n",
    "from IPython.core.display import HTML\n",
    "\n",
    "import heat_transfer as bht\n",
    "\n",
    "import fluids as fds\n",
    "import ht \n",
    "\n",
    "import general as gen\n",
    "\n",
    "import os\n",
    "\n",
    "import scipy.integrate as integrate\n",
    "import scipy.optimize as sco\n",
    "\n",
    "import networkx as nx\n",
    "\n",
    "import plotly.graph_objects as go\n",
    "\n",
    "import plot_functions_here as pfun\n",
    "\n",
    "import plotly.io as pio"
   ]
  },
  {
   "cell_type": "code",
   "execution_count": 2,
   "metadata": {},
   "outputs": [],
   "source": [
    "folder_path = r'G:\\Drive partagés\\Cercle Hard\\R&D\\Modèles numériques PVT\\PVT-perf-1Dmodel'\n",
    "geometry_path = folder_path + '\\\\' + 'Inputs\\\\Inputs_TEST_GMI.xlsx'\n",
    "hypotheses_path = folder_path + '\\\\' + 'Hypotheses\\\\Model_hypotheses.xlsx'\n",
    "condi_path = folder_path + '\\\\' + 'Steady-state conditions inputs\\\\100424-tests-conditions-GMI.xlsx'\n",
    "\n",
    "output_name = 'TEST_n1'\n",
    "\n",
    "componentSpecs = pr.import_geometry(geometry_path)\n",
    "hyp = pr.create_dict_from_excel(hypotheses_path,'Main')\n",
    "steadyStateConditions_df = pd.read_excel(condi_path,header=2) ## Les deux première lignes ne sont pas à prendre"
   ]
  },
  {
   "cell_type": "code",
   "execution_count": 23,
   "metadata": {},
   "outputs": [
    {
     "data": {
      "text/plain": [
       "{'Case': 'Normal_CESIFroid_v1',\n",
       " 'G': 800,\n",
       " 'T_amb': 298.15,\n",
       " 'T_back': 273.15,\n",
       " 'u': 1e-05,\n",
       " 'u_back': 0,\n",
       " 'T_fluid_in0': 293.15,\n",
       " 'Gp': 4,\n",
       " 'T_sky': 273.15,\n",
       " 'T_back_rad': 273.15,\n",
       " 'mdot': 0.0478,\n",
       " 'guess_T_PV': 270}"
      ]
     },
     "execution_count": 23,
     "metadata": {},
     "output_type": "execute_result"
    }
   ],
   "source": [
    "\n",
    "stepConditions = steadyStateConditions_df.to_dict(orient='records')\n",
    "stepConditions[1]\n"
   ]
  },
  {
   "cell_type": "code",
   "execution_count": null,
   "metadata": {},
   "outputs": [],
   "source": [
    "# stepConditions = ty.write_stepConditions_from_steadyStateConditions(steadyStateConditions_df,0,hyp)"
   ]
  },
  {
   "cell_type": "code",
   "execution_count": 34,
   "metadata": {},
   "outputs": [],
   "source": [
    "stepConditions =   {'G': 0.,\n",
    "                    'T_amb': 273.15,\n",
    "                    'T_back': 273.15,\n",
    "                    'u': 0.00001,\n",
    "                    'u_back': 0.,\n",
    "                    'T_fluid_in0': 267.15,\n",
    "                    'Gp': 4,\n",
    "                    'T_sky': 273.15,\n",
    "                    'T_back_rad': 273.15,\n",
    "                    'mdot': 0.0478,\n",
    "                    'guess_T_PV': 270.}"
   ]
  },
  {
   "cell_type": "code",
   "execution_count": null,
   "metadata": {},
   "outputs": [],
   "source": [
    "# slices_df,df_one,its_df_list = ty.simu_one_steady_state(par,par_p,hyp)"
   ]
  },
  {
   "cell_type": "code",
   "execution_count": 4,
   "metadata": {},
   "outputs": [],
   "source": [
    "df_one,res = ty.simu_one_steady_state_all_he(componentSpecs,stepConditions[0],hyp)"
   ]
  },
  {
   "cell_type": "code",
   "execution_count": 6,
   "metadata": {},
   "outputs": [
    {
     "data": {
      "text/html": [
       "<table border=\"1\" class=\"dataframe\">\n",
       "  <thead>\n",
       "    <tr style=\"text-align: right;\">\n",
       "      <th></th>\n",
       "      <th>G</th>\n",
       "      <th>Gp</th>\n",
       "      <th>T_amb</th>\n",
       "      <th>T_sky</th>\n",
       "      <th>T_back</th>\n",
       "      <th>T_back_rad</th>\n",
       "      <th>u</th>\n",
       "      <th>mdot</th>\n",
       "      <th>T_fluid_in</th>\n",
       "      <th>h_rad_f</th>\n",
       "      <th>h_top_g</th>\n",
       "      <th>h_back</th>\n",
       "      <th>h_rad_back</th>\n",
       "      <th>h_back_tube</th>\n",
       "      <th>h_rad_back_tube</th>\n",
       "      <th>h_back_fins</th>\n",
       "      <th>T_PV</th>\n",
       "      <th>T_fluid_out</th>\n",
       "      <th>T_tube_mean</th>\n",
       "      <th>T_glass</th>\n",
       "      <th>h_fluid</th>\n",
       "      <th>h_rad</th>\n",
       "      <th>X_celltemp</th>\n",
       "      <th>eta_PV</th>\n",
       "      <th>S</th>\n",
       "      <th>T_fluid_mean</th>\n",
       "      <th>T_Base_mean</th>\n",
       "      <th>T_absfin_mean</th>\n",
       "      <th>T_abs_mean</th>\n",
       "      <th>Qdot_tube_back</th>\n",
       "      <th>Qdot_absfin_back</th>\n",
       "      <th>T_ins_tube_mean</th>\n",
       "      <th>T_ins_absfin_mean</th>\n",
       "      <th>T_ins_mean</th>\n",
       "      <th>T_PV_Base_mean</th>\n",
       "      <th>T_PV_absfin_mean</th>\n",
       "      <th>Qdot_top_conv</th>\n",
       "      <th>Qdot_top_rad</th>\n",
       "      <th>Qdot_sun_glass</th>\n",
       "      <th>Qdot_sun_PV</th>\n",
       "      <th>Qdot_glass_PV</th>\n",
       "      <th>Qdot_PV_sky</th>\n",
       "      <th>Qdot_PV_plate</th>\n",
       "      <th>Qdot_PV_Base</th>\n",
       "      <th>Qdot_PV_absfin</th>\n",
       "      <th>Qdot_Base_back</th>\n",
       "      <th>Qdot_tube_fluid</th>\n",
       "      <th>Qdot_tube_sky</th>\n",
       "      <th>Qdot_Base_tube</th>\n",
       "      <th>Qdot_absfin_Base</th>\n",
       "      <th>Qdot_absfin_back_conv</th>\n",
       "      <th>Qdot_absfin_back_rad</th>\n",
       "      <th>Qdot_tube_back_conv</th>\n",
       "      <th>Qdot_tube_back_rad</th>\n",
       "      <th>Qdot_ins_tube_back_conv</th>\n",
       "      <th>Qdot_ins_tube_back_rad</th>\n",
       "      <th>Qdot_ins_absfin_back_conv</th>\n",
       "      <th>Qdot_ins_absfin_back_rad</th>\n",
       "      <th>Qdot_f01</th>\n",
       "    </tr>\n",
       "  </thead>\n",
       "  <tbody>\n",
       "    <tr>\n",
       "      <th>0</th>\n",
       "      <td>0.0</td>\n",
       "      <td>4</td>\n",
       "      <td>273.15</td>\n",
       "      <td>273.15</td>\n",
       "      <td>273.15</td>\n",
       "      <td>273.15</td>\n",
       "      <td>0.00001</td>\n",
       "      <td>0.0478</td>\n",
       "      <td>267.15</td>\n",
       "      <td>0.0</td>\n",
       "      <td>1.783133</td>\n",
       "      <td>3.08297</td>\n",
       "      <td>3.613087</td>\n",
       "      <td>3.08297</td>\n",
       "      <td>3.613007</td>\n",
       "      <td>3.08297</td>\n",
       "      <td>269.122273</td>\n",
       "      <td>269.093796</td>\n",
       "      <td>268.933881</td>\n",
       "      <td>269.180364</td>\n",
       "      <td>167.671122</td>\n",
       "      <td>4.068851</td>\n",
       "      <td>1.098694</td>\n",
       "      <td>0.0</td>\n",
       "      <td>0.0</td>\n",
       "      <td>268.185155</td>\n",
       "      <td>268.935594</td>\n",
       "      <td>268.939722</td>\n",
       "      <td>268.937904</td>\n",
       "      <td>-151.483235</td>\n",
       "      <td>-30.52861</td>\n",
       "      <td>268.933881</td>\n",
       "      <td>268.939722</td>\n",
       "      <td>268.937149</td>\n",
       "      <td>269.120064</td>\n",
       "      <td>269.124015</td>\n",
       "      <td>-13.70993</td>\n",
       "      <td>-31.296148</td>\n",
       "      <td>0.0</td>\n",
       "      <td>0.0</td>\n",
       "      <td>45.006078</td>\n",
       "      <td>-31.741884</td>\n",
       "      <td>76.747962</td>\n",
       "      <td>33.858051</td>\n",
       "      <td>42.890898</td>\n",
       "      <td>0.0</td>\n",
       "      <td>336.813024</td>\n",
       "      <td>-45.698606</td>\n",
       "      <td>107.276607</td>\n",
       "      <td>73.418556</td>\n",
       "      <td>-14.055852</td>\n",
       "      <td>-16.472758</td>\n",
       "      <td>-69.746095</td>\n",
       "      <td>-81.73714</td>\n",
       "      <td>-69.746095</td>\n",
       "      <td>-81.73714</td>\n",
       "      <td>-14.055852</td>\n",
       "      <td>-16.472758</td>\n",
       "      <td>0.0</td>\n",
       "    </tr>\n",
       "  </tbody>\n",
       "</table>"
      ],
      "text/plain": [
       "<IPython.core.display.HTML object>"
      ]
     },
     "metadata": {},
     "output_type": "display_data"
    },
    {
     "data": {
      "text/html": [
       "<table border=\"1\" class=\"dataframe\">\n",
       "  <thead>\n",
       "    <tr style=\"text-align: right;\">\n",
       "      <th></th>\n",
       "      <th>G</th>\n",
       "      <th>Gp</th>\n",
       "      <th>T_amb</th>\n",
       "      <th>T_sky</th>\n",
       "      <th>T_back</th>\n",
       "      <th>T_back_rad</th>\n",
       "      <th>u</th>\n",
       "      <th>mdot</th>\n",
       "      <th>T_fluid_in</th>\n",
       "      <th>h_rad_f</th>\n",
       "      <th>h_top_g</th>\n",
       "      <th>h_back</th>\n",
       "      <th>h_rad_back</th>\n",
       "      <th>h_back_tube</th>\n",
       "      <th>h_rad_back_tube</th>\n",
       "      <th>h_back_fins</th>\n",
       "      <th>T_PV</th>\n",
       "      <th>T_fluid_out</th>\n",
       "      <th>T_tube_mean</th>\n",
       "      <th>T_glass</th>\n",
       "      <th>h_fluid</th>\n",
       "      <th>h_rad</th>\n",
       "      <th>X_celltemp</th>\n",
       "      <th>eta_PV</th>\n",
       "      <th>S</th>\n",
       "      <th>T_fluid_mean</th>\n",
       "      <th>T_Base_mean</th>\n",
       "      <th>T_absfin_mean</th>\n",
       "      <th>T_abs_mean</th>\n",
       "      <th>Qdot_tube_back</th>\n",
       "      <th>Qdot_absfin_back</th>\n",
       "      <th>T_ins_tube_mean</th>\n",
       "      <th>T_ins_absfin_mean</th>\n",
       "      <th>T_ins_mean</th>\n",
       "      <th>T_PV_Base_mean</th>\n",
       "      <th>T_PV_absfin_mean</th>\n",
       "      <th>Qdot_top_conv</th>\n",
       "      <th>Qdot_top_rad</th>\n",
       "      <th>Qdot_sun_glass</th>\n",
       "      <th>Qdot_sun_PV</th>\n",
       "      <th>Qdot_glass_PV</th>\n",
       "      <th>Qdot_PV_sky</th>\n",
       "      <th>Qdot_PV_plate</th>\n",
       "      <th>Qdot_PV_Base</th>\n",
       "      <th>Qdot_PV_absfin</th>\n",
       "      <th>Qdot_Base_back</th>\n",
       "      <th>Qdot_tube_fluid</th>\n",
       "      <th>Qdot_tube_sky</th>\n",
       "      <th>Qdot_Base_tube</th>\n",
       "      <th>Qdot_absfin_Base</th>\n",
       "      <th>Qdot_absfin_back_conv</th>\n",
       "      <th>Qdot_absfin_back_rad</th>\n",
       "      <th>Qdot_tube_back_conv</th>\n",
       "      <th>Qdot_tube_back_rad</th>\n",
       "      <th>Qdot_ins_tube_back_conv</th>\n",
       "      <th>Qdot_ins_tube_back_rad</th>\n",
       "      <th>Qdot_ins_absfin_back_conv</th>\n",
       "      <th>Qdot_ins_absfin_back_rad</th>\n",
       "      <th>Qdot_f01</th>\n",
       "    </tr>\n",
       "  </thead>\n",
       "  <tbody>\n",
       "    <tr>\n",
       "      <th>0</th>\n",
       "      <td>0.0</td>\n",
       "      <td>4</td>\n",
       "      <td>273.15</td>\n",
       "      <td>273.15</td>\n",
       "      <td>273.15</td>\n",
       "      <td>273.15</td>\n",
       "      <td>0.00001</td>\n",
       "      <td>0.0478</td>\n",
       "      <td>267.15</td>\n",
       "      <td>0.0</td>\n",
       "      <td>1.783133</td>\n",
       "      <td>3.08297</td>\n",
       "      <td>3.613087</td>\n",
       "      <td>3.08297</td>\n",
       "      <td>3.613007</td>\n",
       "      <td>3.08297</td>\n",
       "      <td>269.122273</td>\n",
       "      <td>269.093796</td>\n",
       "      <td>268.933881</td>\n",
       "      <td>269.180364</td>\n",
       "      <td>167.671122</td>\n",
       "      <td>4.068851</td>\n",
       "      <td>1.098694</td>\n",
       "      <td>0.0</td>\n",
       "      <td>0.0</td>\n",
       "      <td>268.185155</td>\n",
       "      <td>268.935594</td>\n",
       "      <td>268.939722</td>\n",
       "      <td>268.937904</td>\n",
       "      <td>-151.483235</td>\n",
       "      <td>-30.52861</td>\n",
       "      <td>268.933881</td>\n",
       "      <td>268.939722</td>\n",
       "      <td>268.937149</td>\n",
       "      <td>269.120064</td>\n",
       "      <td>269.124015</td>\n",
       "      <td>-13.70993</td>\n",
       "      <td>-31.296148</td>\n",
       "      <td>0.0</td>\n",
       "      <td>0.0</td>\n",
       "      <td>45.006078</td>\n",
       "      <td>-31.741884</td>\n",
       "      <td>76.747962</td>\n",
       "      <td>33.858051</td>\n",
       "      <td>42.890898</td>\n",
       "      <td>0.0</td>\n",
       "      <td>336.813024</td>\n",
       "      <td>-45.698606</td>\n",
       "      <td>107.276607</td>\n",
       "      <td>73.418556</td>\n",
       "      <td>-14.055852</td>\n",
       "      <td>-16.472758</td>\n",
       "      <td>-69.746095</td>\n",
       "      <td>-81.73714</td>\n",
       "      <td>-69.746095</td>\n",
       "      <td>-81.73714</td>\n",
       "      <td>-14.055852</td>\n",
       "      <td>-16.472758</td>\n",
       "      <td>0.0</td>\n",
       "    </tr>\n",
       "  </tbody>\n",
       "</table>"
      ],
      "text/plain": [
       "<IPython.core.display.HTML object>"
      ]
     },
     "metadata": {},
     "output_type": "display_data"
    },
    {
     "data": {
      "text/plain": [
       "[     G  Gp   T_amb   T_sky  T_back  T_back_rad        u    mdot  T_fluid_in  \\\n",
       " 0  0.0   4  273.15  273.15  273.15      273.15  0.00001  0.0478      267.15   \n",
       " 1  0.0   4  273.15  273.15  273.15      273.15  0.00001  0.0478      267.15   \n",
       " 2  0.0   4  273.15  273.15  273.15      273.15  0.00001  0.0478      267.15   \n",
       " 3  0.0   4  273.15  273.15  273.15      273.15  0.00001  0.0478      267.15   \n",
       " 4  0.0   4  273.15  273.15  273.15      273.15  0.00001  0.0478      267.15   \n",
       " \n",
       "    Slice  ...  Qdot_tube_back_conv  Qdot_tube_back_rad  \\\n",
       " 0      0  ...            -1.643959           -1.842364   \n",
       " 1      0  ...            -1.389286           -1.629924   \n",
       " 2      0  ...            -1.395060           -1.634861   \n",
       " 3      0  ...            -1.394918           -1.634740   \n",
       " 4      0  ...            -1.394922           -1.634743   \n",
       " \n",
       "    Qdot_ins_tube_back_conv  Qdot_ins_tube_back_rad  Qdot_ins_absfin_back_conv  \\\n",
       " 0                -1.643959               -1.842364                  -0.331454   \n",
       " 1                -1.389286               -1.629924                  -0.279978   \n",
       " 2                -1.395060               -1.634861                  -0.281145   \n",
       " 3                -1.394918               -1.634740                  -0.281116   \n",
       " 4                -1.394922               -1.634743                  -0.281117   \n",
       " \n",
       "    Qdot_ins_absfin_back_rad  Qdot_f01  power_balance_1  power_balance_3  \\\n",
       " 0                 -0.371463       0.0        -0.721516         0.319073   \n",
       " 1                 -0.328480       0.0        -0.630992        -1.329095   \n",
       " 2                 -0.329479       0.0        -0.634932        -1.285887   \n",
       " 3                 -0.329455       0.0        -0.634835        -1.286939   \n",
       " 4                 -0.329455       0.0        -0.634838        -1.286913   \n",
       " \n",
       "     T_B_check  \n",
       " 0  268.385463  \n",
       " 1  268.948322  \n",
       " 2  268.935282  \n",
       " 3  268.935601  \n",
       " 4  268.935594  \n",
       " \n",
       " [5 rows x 111 columns]]"
      ]
     },
     "execution_count": 6,
     "metadata": {},
     "output_type": "execute_result"
    }
   ],
   "source": [
    "pr.disp_html(res['main']['df_one'])\n",
    "pr.disp_html(df_one)\n",
    "res['main']['its_data_list']\n"
   ]
  },
  {
   "cell_type": "code",
   "execution_count": 55,
   "metadata": {},
   "outputs": [
    {
     "name": "stdout",
     "output_type": "stream",
     "text": [
      "main {'glass': 0   -1.692855e-13\n",
      "dtype: float64, 'PV': 0   -0.000015\n",
      "dtype: float64, 'Base': 0    1.312290e-11\n",
      "dtype: float64, 'absfin': 0    0.000014\n",
      "dtype: float64, 'tube': 0   -0.479976\n",
      "dtype: float64}\n",
      "Total {'glass': 0   -1.141132e-11\n",
      "dtype: float64, 'PV': 0   -0.000988\n",
      "dtype: float64, 'Base': 0    8.845973e-10\n",
      "dtype: float64, 'absfin': 0    0.000952\n",
      "dtype: float64, 'tube': 0   -32.354576\n",
      "dtype: float64}\n"
     ]
    }
   ],
   "source": [
    "for part in componentSpecs['decomp'].keys():\n",
    "    bal,bal_perc = ty.recap_energy_balances(res[part]['df_one'])\n",
    "    print(part,bal_perc)\n",
    "bal,bal_perc = ty.recap_energy_balances(df_one)\n",
    "print('Total',bal_perc)"
   ]
  },
  {
   "cell_type": "code",
   "execution_count": 9,
   "metadata": {},
   "outputs": [],
   "source": [
    "merged_df = pd.concat([df_one] + [res[part]['df_one'] for part in res.keys()], axis=0)\n",
    "merged_df.insert(0, 'Component', ['Total']+ list(componentSpecs['decomp'].keys()))\n",
    "merged_df.insert(1, 'Component name', ['Total']+ list(componentSpecs['decomp'].values()))"
   ]
  },
  {
   "cell_type": "code",
   "execution_count": 10,
   "metadata": {},
   "outputs": [
    {
     "data": {
      "text/html": [
       "<table border=\"1\" class=\"dataframe\">\n",
       "  <thead>\n",
       "    <tr style=\"text-align: right;\">\n",
       "      <th></th>\n",
       "      <th>Component</th>\n",
       "      <th>Component name</th>\n",
       "      <th>G</th>\n",
       "      <th>Gp</th>\n",
       "      <th>T_amb</th>\n",
       "      <th>T_sky</th>\n",
       "      <th>T_back</th>\n",
       "      <th>T_back_rad</th>\n",
       "      <th>u</th>\n",
       "      <th>mdot</th>\n",
       "      <th>T_fluid_in</th>\n",
       "      <th>h_rad_f</th>\n",
       "      <th>h_top_g</th>\n",
       "      <th>h_back</th>\n",
       "      <th>h_rad_back</th>\n",
       "      <th>h_back_tube</th>\n",
       "      <th>h_rad_back_tube</th>\n",
       "      <th>h_back_fins</th>\n",
       "      <th>T_PV</th>\n",
       "      <th>T_fluid_out</th>\n",
       "      <th>T_tube_mean</th>\n",
       "      <th>T_glass</th>\n",
       "      <th>h_fluid</th>\n",
       "      <th>h_rad</th>\n",
       "      <th>X_celltemp</th>\n",
       "      <th>eta_PV</th>\n",
       "      <th>S</th>\n",
       "      <th>T_fluid_mean</th>\n",
       "      <th>T_Base_mean</th>\n",
       "      <th>T_absfin_mean</th>\n",
       "      <th>T_abs_mean</th>\n",
       "      <th>Qdot_tube_back</th>\n",
       "      <th>Qdot_absfin_back</th>\n",
       "      <th>T_ins_tube_mean</th>\n",
       "      <th>T_ins_absfin_mean</th>\n",
       "      <th>T_ins_mean</th>\n",
       "      <th>T_PV_Base_mean</th>\n",
       "      <th>T_PV_absfin_mean</th>\n",
       "      <th>Qdot_top_conv</th>\n",
       "      <th>Qdot_top_rad</th>\n",
       "      <th>Qdot_sun_glass</th>\n",
       "      <th>Qdot_sun_PV</th>\n",
       "      <th>Qdot_glass_PV</th>\n",
       "      <th>Qdot_PV_sky</th>\n",
       "      <th>Qdot_PV_plate</th>\n",
       "      <th>Qdot_PV_Base</th>\n",
       "      <th>Qdot_PV_absfin</th>\n",
       "      <th>Qdot_Base_back</th>\n",
       "      <th>Qdot_tube_fluid</th>\n",
       "      <th>Qdot_tube_sky</th>\n",
       "      <th>Qdot_Base_tube</th>\n",
       "      <th>Qdot_absfin_Base</th>\n",
       "      <th>Qdot_absfin_back_conv</th>\n",
       "      <th>Qdot_absfin_back_rad</th>\n",
       "      <th>Qdot_tube_back_conv</th>\n",
       "      <th>Qdot_tube_back_rad</th>\n",
       "      <th>Qdot_ins_tube_back_conv</th>\n",
       "      <th>Qdot_ins_tube_back_rad</th>\n",
       "      <th>Qdot_ins_absfin_back_conv</th>\n",
       "      <th>Qdot_ins_absfin_back_rad</th>\n",
       "      <th>Qdot_f01</th>\n",
       "    </tr>\n",
       "  </thead>\n",
       "  <tbody>\n",
       "    <tr>\n",
       "      <th>0</th>\n",
       "      <td>Total</td>\n",
       "      <td>Total</td>\n",
       "      <td>0.0</td>\n",
       "      <td>4.0</td>\n",
       "      <td>273.15</td>\n",
       "      <td>273.15</td>\n",
       "      <td>273.15</td>\n",
       "      <td>273.15</td>\n",
       "      <td>0.00001</td>\n",
       "      <td>0.0478</td>\n",
       "      <td>267.15</td>\n",
       "      <td>0.0</td>\n",
       "      <td>1.783133</td>\n",
       "      <td>3.08297</td>\n",
       "      <td>3.613087</td>\n",
       "      <td>3.08297</td>\n",
       "      <td>3.613007</td>\n",
       "      <td>3.08297</td>\n",
       "      <td>269.122273</td>\n",
       "      <td>269.093796</td>\n",
       "      <td>268.933881</td>\n",
       "      <td>269.180364</td>\n",
       "      <td>167.671122</td>\n",
       "      <td>4.068851</td>\n",
       "      <td>1.098694</td>\n",
       "      <td>0.0</td>\n",
       "      <td>0.0</td>\n",
       "      <td>268.185155</td>\n",
       "      <td>268.935594</td>\n",
       "      <td>268.939722</td>\n",
       "      <td>268.937904</td>\n",
       "      <td>-151.483235</td>\n",
       "      <td>-30.52861</td>\n",
       "      <td>268.933881</td>\n",
       "      <td>268.939722</td>\n",
       "      <td>268.937149</td>\n",
       "      <td>269.120064</td>\n",
       "      <td>269.124015</td>\n",
       "      <td>-13.70993</td>\n",
       "      <td>-31.296148</td>\n",
       "      <td>0.0</td>\n",
       "      <td>0.0</td>\n",
       "      <td>45.006078</td>\n",
       "      <td>-31.741884</td>\n",
       "      <td>76.747962</td>\n",
       "      <td>33.858051</td>\n",
       "      <td>42.890898</td>\n",
       "      <td>0.0</td>\n",
       "      <td>336.813024</td>\n",
       "      <td>-45.698606</td>\n",
       "      <td>107.276607</td>\n",
       "      <td>73.418556</td>\n",
       "      <td>-14.055852</td>\n",
       "      <td>-16.472758</td>\n",
       "      <td>-69.746095</td>\n",
       "      <td>-81.73714</td>\n",
       "      <td>-69.746095</td>\n",
       "      <td>-81.73714</td>\n",
       "      <td>-14.055852</td>\n",
       "      <td>-16.472758</td>\n",
       "      <td>0.0</td>\n",
       "    </tr>\n",
       "    <tr>\n",
       "      <th>0</th>\n",
       "      <td>main</td>\n",
       "      <td>HX_6</td>\n",
       "      <td>0.0</td>\n",
       "      <td>4.0</td>\n",
       "      <td>273.15</td>\n",
       "      <td>273.15</td>\n",
       "      <td>273.15</td>\n",
       "      <td>273.15</td>\n",
       "      <td>0.00001</td>\n",
       "      <td>0.0478</td>\n",
       "      <td>267.15</td>\n",
       "      <td>0.0</td>\n",
       "      <td>1.783133</td>\n",
       "      <td>3.08297</td>\n",
       "      <td>3.613087</td>\n",
       "      <td>3.08297</td>\n",
       "      <td>3.613007</td>\n",
       "      <td>3.08297</td>\n",
       "      <td>269.122273</td>\n",
       "      <td>269.093796</td>\n",
       "      <td>268.933881</td>\n",
       "      <td>269.180364</td>\n",
       "      <td>167.671122</td>\n",
       "      <td>4.068851</td>\n",
       "      <td>1.098694</td>\n",
       "      <td>0.0</td>\n",
       "      <td>0.0</td>\n",
       "      <td>268.185155</td>\n",
       "      <td>268.935594</td>\n",
       "      <td>268.939722</td>\n",
       "      <td>268.937904</td>\n",
       "      <td>-151.483235</td>\n",
       "      <td>-30.52861</td>\n",
       "      <td>268.933881</td>\n",
       "      <td>268.939722</td>\n",
       "      <td>268.937149</td>\n",
       "      <td>269.120064</td>\n",
       "      <td>269.124015</td>\n",
       "      <td>-13.70993</td>\n",
       "      <td>-31.296148</td>\n",
       "      <td>0.0</td>\n",
       "      <td>0.0</td>\n",
       "      <td>45.006078</td>\n",
       "      <td>-31.741884</td>\n",
       "      <td>76.747962</td>\n",
       "      <td>33.858051</td>\n",
       "      <td>42.890898</td>\n",
       "      <td>0.0</td>\n",
       "      <td>336.813024</td>\n",
       "      <td>-45.698606</td>\n",
       "      <td>107.276607</td>\n",
       "      <td>73.418556</td>\n",
       "      <td>-14.055852</td>\n",
       "      <td>-16.472758</td>\n",
       "      <td>-69.746095</td>\n",
       "      <td>-81.73714</td>\n",
       "      <td>-69.746095</td>\n",
       "      <td>-81.73714</td>\n",
       "      <td>-14.055852</td>\n",
       "      <td>-16.472758</td>\n",
       "      <td>0.0</td>\n",
       "    </tr>\n",
       "  </tbody>\n",
       "</table>"
      ],
      "text/plain": [
       "<IPython.core.display.HTML object>"
      ]
     },
     "metadata": {},
     "output_type": "display_data"
    }
   ],
   "source": [
    "pr.disp_html(merged_df)"
   ]
  },
  {
   "cell_type": "code",
   "execution_count": 11,
   "metadata": {},
   "outputs": [
    {
     "data": {
      "text/plain": [
       "0    269.122273\n",
       "Name: T_PV, dtype: float64"
      ]
     },
     "execution_count": 11,
     "metadata": {},
     "output_type": "execute_result"
    }
   ],
   "source": [
    "df_one['T_PV']"
   ]
  },
  {
   "cell_type": "code",
   "execution_count": 12,
   "metadata": {},
   "outputs": [
    {
     "name": "stdout",
     "output_type": "stream",
     "text": [
      "A1 34.58468846785098\n"
     ]
    }
   ],
   "source": [
    "A1 = ( - df_one['Qdot_tube_fluid'] / componentSpecs['AG'] / ( (df_one['T_fluid_out'] + df_one['T_fluid_in'])/2 - df_one['T_amb'] ) ).values[0]\n",
    "print('A1',A1)"
   ]
  },
  {
   "cell_type": "code",
   "execution_count": 13,
   "metadata": {},
   "outputs": [],
   "source": [
    "bal,bal_perc = ty.recap_energy_balances(res['main']['df_one'])"
   ]
  },
  {
   "cell_type": "code",
   "execution_count": 75,
   "metadata": {},
   "outputs": [
    {
     "data": {
      "image/png": "[encoded data removed]",
      "text/plain": [
       "<Figure size 640x480 with 1 Axes>"
      ]
     },
     "metadata": {},
     "output_type": "display_data"
    }
   ],
   "source": [
    "# Create a directed graph\n",
    "G = nx.DiGraph()\n",
    "\n",
    "# Add nodes\n",
    "nodes = ['T_amb', 'T_sky', 'T_glass', 'T_PV', 'T_B', 'T_absfin', \n",
    "         'T_tube', 'T_fluid', 'T_ins_absfin', 'T_ins_tube', 'T_back', 'T_back_rad']\n",
    "G.add_nodes_from(nodes)\n",
    "\n",
    "# Add edges with labels\n",
    "edges = [('T_amb', 'T_glass', 'Qdot_top_conv'), ('T_sky', 'T_glass', 'Qdot_top_rad'),\n",
    "         ('T_glass', 'T_PV', 'Qdot_glass_PV'), ('T_PV', 'T_B', 'Qdot_PV_Base'),\n",
    "         ('T_PV', 'T_absfin', 'Qdot_PV_absfin'), ('T_absfin', 'T_B', 'Qdot_absfin_Base'),\n",
    "         ('T_B', 'T_tube', 'Qdot_Base_tube'), ('T_tube', 'T_fluid', 'Qdot_tube_fluid'),\n",
    "         ('T_absfin', 'T_ins_absfin', 'Qdot_absfin_ins_absfin'),\n",
    "         ('T_tube', 'T_ins_tube', 'Qdot_tube_ins_tube'),\n",
    "         ('T_ins_absfin', 'T_back', 'Qdot_ins_absfin_back'),\n",
    "         ('T_ins_absfin', 'T_back_rad', 'Qdot_ins_absfin_back_rad'),\n",
    "         ('T_ins_tube', 'T_back', 'Qdot_ins_tube_back'),\n",
    "         ('T_ins_tube', 'T_back_rad', 'Qdot_ins_tube_back_rad')]\n",
    "\n",
    "for u, v, label in edges:\n",
    "    G.add_edge(u, v, label=label)\n",
    "\n",
    "# Manually set positions based on TikZ coordinates\n",
    "pos = {\n",
    "    'T_amb': (3, 0),\n",
    "    'T_sky': (8, 0),\n",
    "    'T_glass': (5.5, -3),\n",
    "    'T_PV': (5.5, -8),\n",
    "    'T_B': (3, -11),\n",
    "    'T_absfin': (8, -11),\n",
    "    'T_tube': (4, -15),\n",
    "    'T_fluid': (4, -20),\n",
    "    'T_ins_absfin': (9, -19),\n",
    "    'T_ins_tube': (6, -19),\n",
    "    'T_back': (6, -26),\n",
    "    'T_back_rad': (9, -26)\n",
    "}\n",
    "\n",
    "# Draw the graph\n",
    "nx.draw(G, pos, with_labels=True, node_color='lightblue', edge_color='black')\n",
    "\n",
    "# Draw edge labels\n",
    "edge_labels = nx.get_edge_attributes(G, 'label')\n",
    "nx.draw_networkx_edge_labels(G, pos, edge_labels=edge_labels)\n",
    "\n",
    "plt.savefig('GrapheOriente.png', format='png')\n",
    "\n",
    "plt.show()\n"
   ]
  },
  {
   "cell_type": "code",
   "execution_count": 15,
   "metadata": {},
   "outputs": [
    {
     "data": {
      "image/png": "[encoded data removed]",
      "text/plain": [
       "<Figure size 800x600 with 1 Axes>"
      ]
     },
     "metadata": {},
     "output_type": "display_data"
    }
   ],
   "source": [
    "pfun.plot_graph(df_one)"
   ]
  },
  {
   "cell_type": "code",
   "execution_count": 16,
   "metadata": {},
   "outputs": [
    {
     "data": {
      "application/vnd.plotly.v1+json": {
       "config": {
        "plotlyServerURL": "https://plot.ly"
       },
       "data": [
        {
         "base": 0,
         "name": "Qdot_sun_PV",
         "type": "bar",
         "width": 0.2,
         "x": [
          "Heat Transfer Contributions"
         ],
         "y": [
          0
         ]
        },
        {
         "base": 0,
         "name": "Qdot_sun_glass",
         "type": "bar",
         "width": 0.2,
         "x": [
          "Heat Transfer Contributions"
         ],
         "y": [
          0
         ]
        },
        {
         "base": 0,
         "name": "Qdot_top_conv",
         "type": "bar",
         "width": 0.2,
         "x": [
          "Heat Transfer Contributions"
         ],
         "y": [
          13.70992965310927
         ]
        },
        {
         "base": 13.70992965310927,
         "name": "Qdot_top_rad",
         "type": "bar",
         "width": 0.2,
         "x": [
          "Heat Transfer Contributions"
         ],
         "y": [
          31.296148067728673
         ]
        },
        {
         "base": 45.00607772083794,
         "name": "Qdot_PV_sky",
         "type": "bar",
         "width": 0.2,
         "x": [
          "Heat Transfer Contributions"
         ],
         "y": [
          31.741883802181007
         ]
        },
        {
         "base": 76.74796152301894,
         "name": "Qdot_absfin_back_conv",
         "type": "bar",
         "width": 0.2,
         "x": [
          "Heat Transfer Contributions"
         ],
         "y": [
          14.055851768371316
         ]
        },
        {
         "base": 90.80381329139026,
         "name": "Qdot_absfin_back_rad",
         "type": "bar",
         "width": 0.2,
         "x": [
          "Heat Transfer Contributions"
         ],
         "y": [
          16.472758359712834
         ]
        },
        {
         "base": 107.2765716511031,
         "name": "Qdot_Base_back",
         "type": "bar",
         "width": 0.2,
         "x": [
          "Heat Transfer Contributions"
         ],
         "y": [
          0
         ]
        },
        {
         "base": 107.2765716511031,
         "name": "Qdot_tube_back_conv",
         "type": "bar",
         "width": 0.2,
         "x": [
          "Heat Transfer Contributions"
         ],
         "y": [
          69.7460949877261
         ]
        },
        {
         "base": 177.0226666388292,
         "name": "Qdot_tube_back_rad",
         "type": "bar",
         "width": 0.2,
         "x": [
          "Heat Transfer Contributions"
         ],
         "y": [
          81.73713980793244
         ]
        },
        {
         "base": 258.7598064467617,
         "name": "Qdot_tube_sky",
         "type": "bar",
         "width": 0.2,
         "x": [
          "Heat Transfer Contributions"
         ],
         "y": [
          45.69860597774332
         ]
        }
       ],
       "layout": {
        "barmode": "overlay",
        "template": {
         "data": {
          "bar": [
           {
            "error_x": {
             "color": "#2a3f5f"
            },
            "error_y": {
             "color": "#2a3f5f"
            },
            "marker": {
             "line": {
              "color": "#E5ECF6",
              "width": 0.5
             },
             "pattern": {
              "fillmode": "overlay",
              "size": 10,
              "solidity": 0.2
             }
            },
            "type": "bar"
           }
          ],
          "barpolar": [
           {
            "marker": {
             "line": {
              "color": "#E5ECF6",
              "width": 0.5
             },
             "pattern": {
              "fillmode": "overlay",
              "size": 10,
              "solidity": 0.2
             }
            },
            "type": "barpolar"
           }
          ],
          "carpet": [
           {
            "aaxis": {
             "endlinecolor": "#2a3f5f",
             "gridcolor": "white",
             "linecolor": "white",
             "minorgridcolor": "white",
             "startlinecolor": "#2a3f5f"
            },
            "baxis": {
             "endlinecolor": "#2a3f5f",
             "gridcolor": "white",
             "linecolor": "white",
             "minorgridcolor": "white",
             "startlinecolor": "#2a3f5f"
            },
            "type": "carpet"
           }
          ],
          "choropleth": [
           {
            "colorbar": {
             "outlinewidth": 0,
             "ticks": ""
            },
            "type": "choropleth"
           }
          ],
          "contour": [
           {
            "colorbar": {
             "outlinewidth": 0,
             "ticks": ""
            },
            "colorscale": [
             [
              0,
              "#0d0887"
             ],
             [
              0.1111111111111111,
              "#46039f"
             ],
             [
              0.2222222222222222,
              "#7201a8"
             ],
             [
              0.3333333333333333,
              "#9c179e"
             ],
             [
              0.4444444444444444,
              "#bd3786"
             ],
             [
              0.5555555555555556,
              "#d8576b"
             ],
             [
              0.6666666666666666,
              "#ed7953"
             ],
             [
              0.7777777777777778,
              "#fb9f3a"
             ],
             [
              0.8888888888888888,
              "#fdca26"
             ],
             [
              1,
              "#f0f921"
             ]
            ],
            "type": "contour"
           }
          ],
          "contourcarpet": [
           {
            "colorbar": {
             "outlinewidth": 0,
             "ticks": ""
            },
            "type": "contourcarpet"
           }
          ],
          "heatmap": [
           {
            "colorbar": {
             "outlinewidth": 0,
             "ticks": ""
            },
            "colorscale": [
             [
              0,
              "#0d0887"
             ],
             [
              0.1111111111111111,
              "#46039f"
             ],
             [
              0.2222222222222222,
              "#7201a8"
             ],
             [
              0.3333333333333333,
              "#9c179e"
             ],
             [
              0.4444444444444444,
              "#bd3786"
             ],
             [
              0.5555555555555556,
              "#d8576b"
             ],
             [
              0.6666666666666666,
              "#ed7953"
             ],
             [
              0.7777777777777778,
              "#fb9f3a"
             ],
             [
              0.8888888888888888,
              "#fdca26"
             ],
             [
              1,
              "#f0f921"
             ]
            ],
            "type": "heatmap"
           }
          ],
          "heatmapgl": [
           {
            "colorbar": {
             "outlinewidth": 0,
             "ticks": ""
            },
            "colorscale": [
             [
              0,
              "#0d0887"
             ],
             [
              0.1111111111111111,
              "#46039f"
             ],
             [
              0.2222222222222222,
              "#7201a8"
             ],
             [
              0.3333333333333333,
              "#9c179e"
             ],
             [
              0.4444444444444444,
              "#bd3786"
             ],
             [
              0.5555555555555556,
              "#d8576b"
             ],
             [
              0.6666666666666666,
              "#ed7953"
             ],
             [
              0.7777777777777778,
              "#fb9f3a"
             ],
             [
              0.8888888888888888,
              "#fdca26"
             ],
             [
              1,
              "#f0f921"
             ]
            ],
            "type": "heatmapgl"
           }
          ],
          "histogram": [
           {
            "marker": {
             "pattern": {
              "fillmode": "overlay",
              "size": 10,
              "solidity": 0.2
             }
            },
            "type": "histogram"
           }
          ],
          "histogram2d": [
           {
            "colorbar": {
             "outlinewidth": 0,
             "ticks": ""
            },
            "colorscale": [
             [
              0,
              "#0d0887"
             ],
             [
              0.1111111111111111,
              "#46039f"
             ],
             [
              0.2222222222222222,
              "#7201a8"
             ],
             [
              0.3333333333333333,
              "#9c179e"
             ],
             [
              0.4444444444444444,
              "#bd3786"
             ],
             [
              0.5555555555555556,
              "#d8576b"
             ],
             [
              0.6666666666666666,
              "#ed7953"
             ],
             [
              0.7777777777777778,
              "#fb9f3a"
             ],
             [
              0.8888888888888888,
              "#fdca26"
             ],
             [
              1,
              "#f0f921"
             ]
            ],
            "type": "histogram2d"
           }
          ],
          "histogram2dcontour": [
           {
            "colorbar": {
             "outlinewidth": 0,
             "ticks": ""
            },
            "colorscale": [
             [
              0,
              "#0d0887"
             ],
             [
              0.1111111111111111,
              "#46039f"
             ],
             [
              0.2222222222222222,
              "#7201a8"
             ],
             [
              0.3333333333333333,
              "#9c179e"
             ],
             [
              0.4444444444444444,
              "#bd3786"
             ],
             [
              0.5555555555555556,
              "#d8576b"
             ],
             [
              0.6666666666666666,
              "#ed7953"
             ],
             [
              0.7777777777777778,
              "#fb9f3a"
             ],
             [
              0.8888888888888888,
              "#fdca26"
             ],
             [
              1,
              "#f0f921"
             ]
            ],
            "type": "histogram2dcontour"
           }
          ],
          "mesh3d": [
           {
            "colorbar": {
             "outlinewidth": 0,
             "ticks": ""
            },
            "type": "mesh3d"
           }
          ],
          "parcoords": [
           {
            "line": {
             "colorbar": {
              "outlinewidth": 0,
              "ticks": ""
             }
            },
            "type": "parcoords"
           }
          ],
          "pie": [
           {
            "automargin": true,
            "type": "pie"
           }
          ],
          "scatter": [
           {
            "fillpattern": {
             "fillmode": "overlay",
             "size": 10,
             "solidity": 0.2
            },
            "type": "scatter"
           }
          ],
          "scatter3d": [
           {
            "line": {
             "colorbar": {
              "outlinewidth": 0,
              "ticks": ""
             }
            },
            "marker": {
             "colorbar": {
              "outlinewidth": 0,
              "ticks": ""
             }
            },
            "type": "scatter3d"
           }
          ],
          "scattercarpet": [
           {
            "marker": {
             "colorbar": {
              "outlinewidth": 0,
              "ticks": ""
             }
            },
            "type": "scattercarpet"
           }
          ],
          "scattergeo": [
           {
            "marker": {
             "colorbar": {
              "outlinewidth": 0,
              "ticks": ""
             }
            },
            "type": "scattergeo"
           }
          ],
          "scattergl": [
           {
            "marker": {
             "colorbar": {
              "outlinewidth": 0,
              "ticks": ""
             }
            },
            "type": "scattergl"
           }
          ],
          "scattermapbox": [
           {
            "marker": {
             "colorbar": {
              "outlinewidth": 0,
              "ticks": ""
             }
            },
            "type": "scattermapbox"
           }
          ],
          "scatterpolar": [
           {
            "marker": {
             "colorbar": {
              "outlinewidth": 0,
              "ticks": ""
             }
            },
            "type": "scatterpolar"
           }
          ],
          "scatterpolargl": [
           {
            "marker": {
             "colorbar": {
              "outlinewidth": 0,
              "ticks": ""
             }
            },
            "type": "scatterpolargl"
           }
          ],
          "scatterternary": [
           {
            "marker": {
             "colorbar": {
              "outlinewidth": 0,
              "ticks": ""
             }
            },
            "type": "scatterternary"
           }
          ],
          "surface": [
           {
            "colorbar": {
             "outlinewidth": 0,
             "ticks": ""
            },
            "colorscale": [
             [
              0,
              "#0d0887"
             ],
             [
              0.1111111111111111,
              "#46039f"
             ],
             [
              0.2222222222222222,
              "#7201a8"
             ],
             [
              0.3333333333333333,
              "#9c179e"
             ],
             [
              0.4444444444444444,
              "#bd3786"
             ],
             [
              0.5555555555555556,
              "#d8576b"
             ],
             [
              0.6666666666666666,
              "#ed7953"
             ],
             [
              0.7777777777777778,
              "#fb9f3a"
             ],
             [
              0.8888888888888888,
              "#fdca26"
             ],
             [
              1,
              "#f0f921"
             ]
            ],
            "type": "surface"
           }
          ],
          "table": [
           {
            "cells": {
             "fill": {
              "color": "#EBF0F8"
             },
             "line": {
              "color": "white"
             }
            },
            "header": {
             "fill": {
              "color": "#C8D4E3"
             },
             "line": {
              "color": "white"
             }
            },
            "type": "table"
           }
          ]
         },
         "layout": {
          "annotationdefaults": {
           "arrowcolor": "#2a3f5f",
           "arrowhead": 0,
           "arrowwidth": 1
          },
          "autotypenumbers": "strict",
          "coloraxis": {
           "colorbar": {
            "outlinewidth": 0,
            "ticks": ""
           }
          },
          "colorscale": {
           "diverging": [
            [
             0,
             "#8e0152"
            ],
            [
             0.1,
             "#c51b7d"
            ],
            [
             0.2,
             "#de77ae"
            ],
            [
             0.3,
             "#f1b6da"
            ],
            [
             0.4,
             "#fde0ef"
            ],
            [
             0.5,
             "#f7f7f7"
            ],
            [
             0.6,
             "#e6f5d0"
            ],
            [
             0.7,
             "#b8e186"
            ],
            [
             0.8,
             "#7fbc41"
            ],
            [
             0.9,
             "#4d9221"
            ],
            [
             1,
             "#276419"
            ]
           ],
           "sequential": [
            [
             0,
             "#0d0887"
            ],
            [
             0.1111111111111111,
             "#46039f"
            ],
            [
             0.2222222222222222,
             "#7201a8"
            ],
            [
             0.3333333333333333,
             "#9c179e"
            ],
            [
             0.4444444444444444,
             "#bd3786"
            ],
            [
             0.5555555555555556,
             "#d8576b"
            ],
            [
             0.6666666666666666,
             "#ed7953"
            ],
            [
             0.7777777777777778,
             "#fb9f3a"
            ],
            [
             0.8888888888888888,
             "#fdca26"
            ],
            [
             1,
             "#f0f921"
            ]
           ],
           "sequentialminus": [
            [
             0,
             "#0d0887"
            ],
            [
             0.1111111111111111,
             "#46039f"
            ],
            [
             0.2222222222222222,
             "#7201a8"
            ],
            [
             0.3333333333333333,
             "#9c179e"
            ],
            [
             0.4444444444444444,
             "#bd3786"
            ],
            [
             0.5555555555555556,
             "#d8576b"
            ],
            [
             0.6666666666666666,
             "#ed7953"
            ],
            [
             0.7777777777777778,
             "#fb9f3a"
            ],
            [
             0.8888888888888888,
             "#fdca26"
            ],
            [
             1,
             "#f0f921"
            ]
           ]
          },
          "colorway": [
           "#636efa",
           "#EF553B",
           "#00cc96",
           "#ab63fa",
           "#FFA15A",
           "#19d3f3",
           "#FF6692",
           "#B6E880",
           "#FF97FF",
           "#FECB52"
          ],
          "font": {
           "color": "#2a3f5f"
          },
          "geo": {
           "bgcolor": "white",
           "lakecolor": "white",
           "landcolor": "#E5ECF6",
           "showlakes": true,
           "showland": true,
           "subunitcolor": "white"
          },
          "hoverlabel": {
           "align": "left"
          },
          "hovermode": "closest",
          "mapbox": {
           "style": "light"
          },
          "paper_bgcolor": "white",
          "plot_bgcolor": "#E5ECF6",
          "polar": {
           "angularaxis": {
            "gridcolor": "white",
            "linecolor": "white",
            "ticks": ""
           },
           "bgcolor": "#E5ECF6",
           "radialaxis": {
            "gridcolor": "white",
            "linecolor": "white",
            "ticks": ""
           }
          },
          "scene": {
           "xaxis": {
            "backgroundcolor": "#E5ECF6",
            "gridcolor": "white",
            "gridwidth": 2,
            "linecolor": "white",
            "showbackground": true,
            "ticks": "",
            "zerolinecolor": "white"
           },
           "yaxis": {
            "backgroundcolor": "#E5ECF6",
            "gridcolor": "white",
            "gridwidth": 2,
            "linecolor": "white",
            "showbackground": true,
            "ticks": "",
            "zerolinecolor": "white"
           },
           "zaxis": {
            "backgroundcolor": "#E5ECF6",
            "gridcolor": "white",
            "gridwidth": 2,
            "linecolor": "white",
            "showbackground": true,
            "ticks": "",
            "zerolinecolor": "white"
           }
          },
          "shapedefaults": {
           "line": {
            "color": "#2a3f5f"
           }
          },
          "ternary": {
           "aaxis": {
            "gridcolor": "white",
            "linecolor": "white",
            "ticks": ""
           },
           "baxis": {
            "gridcolor": "white",
            "linecolor": "white",
            "ticks": ""
           },
           "bgcolor": "#E5ECF6",
           "caxis": {
            "gridcolor": "white",
            "linecolor": "white",
            "ticks": ""
           }
          },
          "title": {
           "x": 0.05
          },
          "xaxis": {
           "automargin": true,
           "gridcolor": "white",
           "linecolor": "white",
           "ticks": "",
           "title": {
            "standoff": 15
           },
           "zerolinecolor": "white",
           "zerolinewidth": 2
          },
          "yaxis": {
           "automargin": true,
           "gridcolor": "white",
           "linecolor": "white",
           "ticks": "",
           "title": {
            "standoff": 15
           },
           "zerolinecolor": "white",
           "zerolinewidth": 2
          }
         }
        },
        "title": {
         "text": "Decomposition of Qdot_tube_fluid in Different Heat Transfer Contributions"
        },
        "yaxis": {
         "title": {
          "text": "Value"
         }
        }
       }
      }
     },
     "metadata": {},
     "output_type": "display_data"
    }
   ],
   "source": [
    "ht_signs = {'Qdot_sun_PV':1, 'Qdot_sun_glass':1, 'Qdot_top_conv':-1, 'Qdot_top_rad':-1, 'Qdot_PV_sky':-1, 'Qdot_absfin_back_conv':-1, 'Qdot_absfin_back_rad':-1, 'Qdot_Base_back':-1, 'Qdot_tube_back_conv':-1, 'Qdot_tube_back_rad':-1, 'Qdot_tube_sky':-1}\n",
    "ht_labels = ['Qdot_sun_PV', 'Qdot_sun_glass', 'Qdot_top_conv', 'Qdot_top_rad', 'Qdot_PV_sky', 'Qdot_absfin_back_conv', 'Qdot_absfin_back_rad', 'Qdot_Base_back', 'Qdot_tube_back_conv', 'Qdot_tube_back_rad', 'Qdot_tube_sky']\n",
    "data = {key:ht_signs[key]*df_one[key].values[0] for key in ht_labels}\n",
    "\n",
    "# Adjusted approach for a single-column histogram with offset bars\n",
    "fig = go.Figure()\n",
    "\n",
    "# Initialize cumulative sums for positive and negative values\n",
    "cumulative_positive = 0\n",
    "cumulative_negative = 0\n",
    "\n",
    "for key, value in data.items():\n",
    "    if value >= 0:\n",
    "        # For positive values, start from the last positive cumulative sum\n",
    "        base = cumulative_positive\n",
    "        cumulative_positive += value\n",
    "    else:\n",
    "        # For negative values, start from the last negative cumulative sum\n",
    "        base = cumulative_negative\n",
    "        cumulative_negative += value\n",
    "    \n",
    "    fig.add_trace(go.Bar(\n",
    "        x=[\"Heat Transfer Contributions\"],\n",
    "        y=[value],\n",
    "        name=key,\n",
    "        width=0.2,\n",
    "        base=base  # Set the starting point of the bar\n",
    "    ))\n",
    "\n",
    "# Update the layout\n",
    "fig.update_layout(\n",
    "    title=\"Decomposition of Qdot_tube_fluid in Different Heat Transfer Contributions\",\n",
    "    yaxis_title=\"Value\",\n",
    "    barmode=\"overlay\"  # Overlay the bars\n",
    ")\n",
    "\n",
    "# Show the figure\n",
    "fig.show()\n"
   ]
  },
  {
   "cell_type": "code",
   "execution_count": 36,
   "metadata": {},
   "outputs": [
    {
     "data": {
      "application/vnd.plotly.v1+json": {
       "config": {
        "plotlyServerURL": "https://plot.ly"
       },
       "data": [
        {
         "name": "Qdot_sun_PV",
         "type": "bar",
         "x": [
          "Qdot_sun_PV"
         ],
         "y": [
          0
         ]
        },
        {
         "name": "Qdot_sun_glass",
         "type": "bar",
         "x": [
          "Qdot_sun_glass"
         ],
         "y": [
          0
         ]
        },
        {
         "name": "Qdot_top_conv",
         "type": "bar",
         "x": [
          "Qdot_top_conv"
         ],
         "y": [
          13.70992965310927
         ]
        },
        {
         "name": "Qdot_top_rad",
         "type": "bar",
         "x": [
          "Qdot_top_rad"
         ],
         "y": [
          31.296148067728673
         ]
        },
        {
         "name": "Qdot_PV_sky",
         "type": "bar",
         "x": [
          "Qdot_PV_sky"
         ],
         "y": [
          31.741883802181007
         ]
        },
        {
         "name": "Qdot_absfin_back_conv",
         "type": "bar",
         "x": [
          "Qdot_absfin_back_conv"
         ],
         "y": [
          14.055851768371316
         ]
        },
        {
         "name": "Qdot_absfin_back_rad",
         "type": "bar",
         "x": [
          "Qdot_absfin_back_rad"
         ],
         "y": [
          16.472758359712834
         ]
        },
        {
         "name": "Qdot_Base_back",
         "type": "bar",
         "x": [
          "Qdot_Base_back"
         ],
         "y": [
          0
         ]
        },
        {
         "name": "Qdot_tube_back_conv",
         "type": "bar",
         "x": [
          "Qdot_tube_back_conv"
         ],
         "y": [
          69.7460949877261
         ]
        },
        {
         "name": "Qdot_tube_back_rad",
         "type": "bar",
         "x": [
          "Qdot_tube_back_rad"
         ],
         "y": [
          81.73713980793244
         ]
        },
        {
         "name": "Qdot_tube_sky",
         "type": "bar",
         "x": [
          "Qdot_tube_sky"
         ],
         "y": [
          45.69860597774332
         ]
        }
       ],
       "layout": {
        "annotations": [
         {
          "showarrow": false,
          "text": "",
          "x": "Qdot_sun_PV",
          "y": 0
         },
         {
          "showarrow": false,
          "text": "",
          "x": "Qdot_sun_glass",
          "y": 0
         },
         {
          "showarrow": false,
          "text": "",
          "x": "Qdot_top_conv",
          "y": 13.70992965310927
         },
         {
          "showarrow": false,
          "text": "",
          "x": "Qdot_top_rad",
          "y": 31.296148067728673
         },
         {
          "showarrow": false,
          "text": "",
          "x": "Qdot_PV_sky",
          "y": 31.741883802181007
         },
         {
          "showarrow": false,
          "text": "",
          "x": "Qdot_absfin_back_conv",
          "y": 14.055851768371316
         },
         {
          "showarrow": false,
          "text": "",
          "x": "Qdot_absfin_back_rad",
          "y": 16.472758359712834
         },
         {
          "showarrow": false,
          "text": "",
          "x": "Qdot_Base_back",
          "y": 0
         },
         {
          "showarrow": false,
          "text": "",
          "x": "Qdot_tube_back_conv",
          "y": 69.7460949877261
         },
         {
          "showarrow": false,
          "text": "",
          "x": "Qdot_tube_back_rad",
          "y": 81.73713980793244
         },
         {
          "showarrow": false,
          "text": "",
          "x": "Qdot_tube_sky",
          "y": 45.69860597774332
         }
        ],
        "barmode": "group",
        "template": {
         "data": {
          "bar": [
           {
            "error_x": {
             "color": "#2a3f5f"
            },
            "error_y": {
             "color": "#2a3f5f"
            },
            "marker": {
             "line": {
              "color": "#E5ECF6",
              "width": 0.5
             },
             "pattern": {
              "fillmode": "overlay",
              "size": 10,
              "solidity": 0.2
             }
            },
            "type": "bar"
           }
          ],
          "barpolar": [
           {
            "marker": {
             "line": {
              "color": "#E5ECF6",
              "width": 0.5
             },
             "pattern": {
              "fillmode": "overlay",
              "size": 10,
              "solidity": 0.2
             }
            },
            "type": "barpolar"
           }
          ],
          "carpet": [
           {
            "aaxis": {
             "endlinecolor": "#2a3f5f",
             "gridcolor": "white",
             "linecolor": "white",
             "minorgridcolor": "white",
             "startlinecolor": "#2a3f5f"
            },
            "baxis": {
             "endlinecolor": "#2a3f5f",
             "gridcolor": "white",
             "linecolor": "white",
             "minorgridcolor": "white",
             "startlinecolor": "#2a3f5f"
            },
            "type": "carpet"
           }
          ],
          "choropleth": [
           {
            "colorbar": {
             "outlinewidth": 0,
             "ticks": ""
            },
            "type": "choropleth"
           }
          ],
          "contour": [
           {
            "colorbar": {
             "outlinewidth": 0,
             "ticks": ""
            },
            "colorscale": [
             [
              0,
              "#0d0887"
             ],
             [
              0.1111111111111111,
              "#46039f"
             ],
             [
              0.2222222222222222,
              "#7201a8"
             ],
             [
              0.3333333333333333,
              "#9c179e"
             ],
             [
              0.4444444444444444,
              "#bd3786"
             ],
             [
              0.5555555555555556,
              "#d8576b"
             ],
             [
              0.6666666666666666,
              "#ed7953"
             ],
             [
              0.7777777777777778,
              "#fb9f3a"
             ],
             [
              0.8888888888888888,
              "#fdca26"
             ],
             [
              1,
              "#f0f921"
             ]
            ],
            "type": "contour"
           }
          ],
          "contourcarpet": [
           {
            "colorbar": {
             "outlinewidth": 0,
             "ticks": ""
            },
            "type": "contourcarpet"
           }
          ],
          "heatmap": [
           {
            "colorbar": {
             "outlinewidth": 0,
             "ticks": ""
            },
            "colorscale": [
             [
              0,
              "#0d0887"
             ],
             [
              0.1111111111111111,
              "#46039f"
             ],
             [
              0.2222222222222222,
              "#7201a8"
             ],
             [
              0.3333333333333333,
              "#9c179e"
             ],
             [
              0.4444444444444444,
              "#bd3786"
             ],
             [
              0.5555555555555556,
              "#d8576b"
             ],
             [
              0.6666666666666666,
              "#ed7953"
             ],
             [
              0.7777777777777778,
              "#fb9f3a"
             ],
             [
              0.8888888888888888,
              "#fdca26"
             ],
             [
              1,
              "#f0f921"
             ]
            ],
            "type": "heatmap"
           }
          ],
          "heatmapgl": [
           {
            "colorbar": {
             "outlinewidth": 0,
             "ticks": ""
            },
            "colorscale": [
             [
              0,
              "#0d0887"
             ],
             [
              0.1111111111111111,
              "#46039f"
             ],
             [
              0.2222222222222222,
              "#7201a8"
             ],
             [
              0.3333333333333333,
              "#9c179e"
             ],
             [
              0.4444444444444444,
              "#bd3786"
             ],
             [
              0.5555555555555556,
              "#d8576b"
             ],
             [
              0.6666666666666666,
              "#ed7953"
             ],
             [
              0.7777777777777778,
              "#fb9f3a"
             ],
             [
              0.8888888888888888,
              "#fdca26"
             ],
             [
              1,
              "#f0f921"
             ]
            ],
            "type": "heatmapgl"
           }
          ],
          "histogram": [
           {
            "marker": {
             "pattern": {
              "fillmode": "overlay",
              "size": 10,
              "solidity": 0.2
             }
            },
            "type": "histogram"
           }
          ],
          "histogram2d": [
           {
            "colorbar": {
             "outlinewidth": 0,
             "ticks": ""
            },
            "colorscale": [
             [
              0,
              "#0d0887"
             ],
             [
              0.1111111111111111,
              "#46039f"
             ],
             [
              0.2222222222222222,
              "#7201a8"
             ],
             [
              0.3333333333333333,
              "#9c179e"
             ],
             [
              0.4444444444444444,
              "#bd3786"
             ],
             [
              0.5555555555555556,
              "#d8576b"
             ],
             [
              0.6666666666666666,
              "#ed7953"
             ],
             [
              0.7777777777777778,
              "#fb9f3a"
             ],
             [
              0.8888888888888888,
              "#fdca26"
             ],
             [
              1,
              "#f0f921"
             ]
            ],
            "type": "histogram2d"
           }
          ],
          "histogram2dcontour": [
           {
            "colorbar": {
             "outlinewidth": 0,
             "ticks": ""
            },
            "colorscale": [
             [
              0,
              "#0d0887"
             ],
             [
              0.1111111111111111,
              "#46039f"
             ],
             [
              0.2222222222222222,
              "#7201a8"
             ],
             [
              0.3333333333333333,
              "#9c179e"
             ],
             [
              0.4444444444444444,
              "#bd3786"
             ],
             [
              0.5555555555555556,
              "#d8576b"
             ],
             [
              0.6666666666666666,
              "#ed7953"
             ],
             [
              0.7777777777777778,
              "#fb9f3a"
             ],
             [
              0.8888888888888888,
              "#fdca26"
             ],
             [
              1,
              "#f0f921"
             ]
            ],
            "type": "histogram2dcontour"
           }
          ],
          "mesh3d": [
           {
            "colorbar": {
             "outlinewidth": 0,
             "ticks": ""
            },
            "type": "mesh3d"
           }
          ],
          "parcoords": [
           {
            "line": {
             "colorbar": {
              "outlinewidth": 0,
              "ticks": ""
             }
            },
            "type": "parcoords"
           }
          ],
          "pie": [
           {
            "automargin": true,
            "type": "pie"
           }
          ],
          "scatter": [
           {
            "fillpattern": {
             "fillmode": "overlay",
             "size": 10,
             "solidity": 0.2
            },
            "type": "scatter"
           }
          ],
          "scatter3d": [
           {
            "line": {
             "colorbar": {
              "outlinewidth": 0,
              "ticks": ""
             }
            },
            "marker": {
             "colorbar": {
              "outlinewidth": 0,
              "ticks": ""
             }
            },
            "type": "scatter3d"
           }
          ],
          "scattercarpet": [
           {
            "marker": {
             "colorbar": {
              "outlinewidth": 0,
              "ticks": ""
             }
            },
            "type": "scattercarpet"
           }
          ],
          "scattergeo": [
           {
            "marker": {
             "colorbar": {
              "outlinewidth": 0,
              "ticks": ""
             }
            },
            "type": "scattergeo"
           }
          ],
          "scattergl": [
           {
            "marker": {
             "colorbar": {
              "outlinewidth": 0,
              "ticks": ""
             }
            },
            "type": "scattergl"
           }
          ],
          "scattermapbox": [
           {
            "marker": {
             "colorbar": {
              "outlinewidth": 0,
              "ticks": ""
             }
            },
            "type": "scattermapbox"
           }
          ],
          "scatterpolar": [
           {
            "marker": {
             "colorbar": {
              "outlinewidth": 0,
              "ticks": ""
             }
            },
            "type": "scatterpolar"
           }
          ],
          "scatterpolargl": [
           {
            "marker": {
             "colorbar": {
              "outlinewidth": 0,
              "ticks": ""
             }
            },
            "type": "scatterpolargl"
           }
          ],
          "scatterternary": [
           {
            "marker": {
             "colorbar": {
              "outlinewidth": 0,
              "ticks": ""
             }
            },
            "type": "scatterternary"
           }
          ],
          "surface": [
           {
            "colorbar": {
             "outlinewidth": 0,
             "ticks": ""
            },
            "colorscale": [
             [
              0,
              "#0d0887"
             ],
             [
              0.1111111111111111,
              "#46039f"
             ],
             [
              0.2222222222222222,
              "#7201a8"
             ],
             [
              0.3333333333333333,
              "#9c179e"
             ],
             [
              0.4444444444444444,
              "#bd3786"
             ],
             [
              0.5555555555555556,
              "#d8576b"
             ],
             [
              0.6666666666666666,
              "#ed7953"
             ],
             [
              0.7777777777777778,
              "#fb9f3a"
             ],
             [
              0.8888888888888888,
              "#fdca26"
             ],
             [
              1,
              "#f0f921"
             ]
            ],
            "type": "surface"
           }
          ],
          "table": [
           {
            "cells": {
             "fill": {
              "color": "#EBF0F8"
             },
             "line": {
              "color": "white"
             }
            },
            "header": {
             "fill": {
              "color": "#C8D4E3"
             },
             "line": {
              "color": "white"
             }
            },
            "type": "table"
           }
          ]
         },
         "layout": {
          "annotationdefaults": {
           "arrowcolor": "#2a3f5f",
           "arrowhead": 0,
           "arrowwidth": 1
          },
          "autotypenumbers": "strict",
          "coloraxis": {
           "colorbar": {
            "outlinewidth": 0,
            "ticks": ""
           }
          },
          "colorscale": {
           "diverging": [
            [
             0,
             "#8e0152"
            ],
            [
             0.1,
             "#c51b7d"
            ],
            [
             0.2,
             "#de77ae"
            ],
            [
             0.3,
             "#f1b6da"
            ],
            [
             0.4,
             "#fde0ef"
            ],
            [
             0.5,
             "#f7f7f7"
            ],
            [
             0.6,
             "#e6f5d0"
            ],
            [
             0.7,
             "#b8e186"
            ],
            [
             0.8,
             "#7fbc41"
            ],
            [
             0.9,
             "#4d9221"
            ],
            [
             1,
             "#276419"
            ]
           ],
           "sequential": [
            [
             0,
             "#0d0887"
            ],
            [
             0.1111111111111111,
             "#46039f"
            ],
            [
             0.2222222222222222,
             "#7201a8"
            ],
            [
             0.3333333333333333,
             "#9c179e"
            ],
            [
             0.4444444444444444,
             "#bd3786"
            ],
            [
             0.5555555555555556,
             "#d8576b"
            ],
            [
             0.6666666666666666,
             "#ed7953"
            ],
            [
             0.7777777777777778,
             "#fb9f3a"
            ],
            [
             0.8888888888888888,
             "#fdca26"
            ],
            [
             1,
             "#f0f921"
            ]
           ],
           "sequentialminus": [
            [
             0,
             "#0d0887"
            ],
            [
             0.1111111111111111,
             "#46039f"
            ],
            [
             0.2222222222222222,
             "#7201a8"
            ],
            [
             0.3333333333333333,
             "#9c179e"
            ],
            [
             0.4444444444444444,
             "#bd3786"
            ],
            [
             0.5555555555555556,
             "#d8576b"
            ],
            [
             0.6666666666666666,
             "#ed7953"
            ],
            [
             0.7777777777777778,
             "#fb9f3a"
            ],
            [
             0.8888888888888888,
             "#fdca26"
            ],
            [
             1,
             "#f0f921"
            ]
           ]
          },
          "colorway": [
           "#636efa",
           "#EF553B",
           "#00cc96",
           "#ab63fa",
           "#FFA15A",
           "#19d3f3",
           "#FF6692",
           "#B6E880",
           "#FF97FF",
           "#FECB52"
          ],
          "font": {
           "color": "#2a3f5f"
          },
          "geo": {
           "bgcolor": "white",
           "lakecolor": "white",
           "landcolor": "#E5ECF6",
           "showlakes": true,
           "showland": true,
           "subunitcolor": "white"
          },
          "hoverlabel": {
           "align": "left"
          },
          "hovermode": "closest",
          "mapbox": {
           "style": "light"
          },
          "paper_bgcolor": "white",
          "plot_bgcolor": "#E5ECF6",
          "polar": {
           "angularaxis": {
            "gridcolor": "white",
            "linecolor": "white",
            "ticks": ""
           },
           "bgcolor": "#E5ECF6",
           "radialaxis": {
            "gridcolor": "white",
            "linecolor": "white",
            "ticks": ""
           }
          },
          "scene": {
           "xaxis": {
            "backgroundcolor": "#E5ECF6",
            "gridcolor": "white",
            "gridwidth": 2,
            "linecolor": "white",
            "showbackground": true,
            "ticks": "",
            "zerolinecolor": "white"
           },
           "yaxis": {
            "backgroundcolor": "#E5ECF6",
            "gridcolor": "white",
            "gridwidth": 2,
            "linecolor": "white",
            "showbackground": true,
            "ticks": "",
            "zerolinecolor": "white"
           },
           "zaxis": {
            "backgroundcolor": "#E5ECF6",
            "gridcolor": "white",
            "gridwidth": 2,
            "linecolor": "white",
            "showbackground": true,
            "ticks": "",
            "zerolinecolor": "white"
           }
          },
          "shapedefaults": {
           "line": {
            "color": "#2a3f5f"
           }
          },
          "ternary": {
           "aaxis": {
            "gridcolor": "white",
            "linecolor": "white",
            "ticks": ""
           },
           "baxis": {
            "gridcolor": "white",
            "linecolor": "white",
            "ticks": ""
           },
           "bgcolor": "#E5ECF6",
           "caxis": {
            "gridcolor": "white",
            "linecolor": "white",
            "ticks": ""
           }
          },
          "title": {
           "x": 0.05
          },
          "xaxis": {
           "automargin": true,
           "gridcolor": "white",
           "linecolor": "white",
           "ticks": "",
           "title": {
            "standoff": 15
           },
           "zerolinecolor": "white",
           "zerolinewidth": 2
          },
          "yaxis": {
           "automargin": true,
           "gridcolor": "white",
           "linecolor": "white",
           "ticks": "",
           "title": {
            "standoff": 15
           },
           "zerolinecolor": "white",
           "zerolinewidth": 2
          }
         }
        },
        "title": {
         "text": "Decomposition of Qdot_tube_fluid in Different Heat Transfer Contributions"
        },
        "yaxis": {
         "title": {
          "text": "Value"
         }
        }
       }
      }
     },
     "metadata": {},
     "output_type": "display_data"
    }
   ],
   "source": [
    "ht_signs = {'Qdot_sun_PV': 1, 'Qdot_sun_glass': 1, 'Qdot_top_conv': -1, 'Qdot_top_rad': -1, 'Qdot_PV_sky': -1, 'Qdot_absfin_back_conv': -1, 'Qdot_absfin_back_rad': -1, 'Qdot_Base_back': -1, 'Qdot_tube_back_conv': -1, 'Qdot_tube_back_rad': -1, 'Qdot_tube_sky': -1}\n",
    "ht_labels = ['Qdot_sun_PV', 'Qdot_sun_glass', 'Qdot_top_conv', 'Qdot_top_rad', 'Qdot_PV_sky', 'Qdot_absfin_back_conv', 'Qdot_absfin_back_rad', 'Qdot_Base_back', 'Qdot_tube_back_conv', 'Qdot_tube_back_rad', 'Qdot_tube_sky']\n",
    "data = {key: ht_signs[key] * df_one[key].values[0] for key in ht_labels}\n",
    "\n",
    "# Création du graphique en barres\n",
    "fig = go.Figure()\n",
    "\n",
    "# Ajout de chaque barre sur le graphique\n",
    "for key, value in data.items():\n",
    "    fig.add_trace(go.Bar(x=[key], y=[value], name=key))\n",
    "\n",
    "# Ajout des annotations sous chaque barre\n",
    "for i, key in enumerate(data.keys()):\n",
    "    fig.add_annotation(\n",
    "        x=key,\n",
    "        y=data[key],\n",
    "        text=\"\",\n",
    "        showarrow=False,\n",
    "    )\n",
    "\n",
    "# Personnalisation du titre et des étiquettes\n",
    "fig.update_layout(\n",
    "    title=\"Decomposition of Qdot_tube_fluid in Different Heat Transfer Contributions\",\n",
    "    yaxis_title=\"Value\",\n",
    "    barmode=\"group\"  # Pour afficher les barres côte à côte\n",
    ")\n",
    "\n",
    "# Affichage du graphique\n",
    "fig.show()\n"
   ]
  },
  {
   "cell_type": "code",
   "execution_count": null,
   "metadata": {},
   "outputs": [],
   "source": [
    "125/5.65/1.93"
   ]
  },
  {
   "cell_type": "code",
   "execution_count": 19,
   "metadata": {},
   "outputs": [
    {
     "data": {
      "text/html": [
       "<table border=\"1\" class=\"dataframe\">\n",
       "  <thead>\n",
       "    <tr style=\"text-align: right;\">\n",
       "      <th></th>\n",
       "      <th>G</th>\n",
       "      <th>Gp</th>\n",
       "      <th>T_amb</th>\n",
       "      <th>T_sky</th>\n",
       "      <th>T_back</th>\n",
       "      <th>T_back_rad</th>\n",
       "      <th>u</th>\n",
       "      <th>mdot</th>\n",
       "      <th>T_fluid_in</th>\n",
       "      <th>h_rad_f</th>\n",
       "      <th>h_top_g</th>\n",
       "      <th>h_back</th>\n",
       "      <th>h_rad_back</th>\n",
       "      <th>h_back_tube</th>\n",
       "      <th>h_rad_back_tube</th>\n",
       "      <th>h_back_fins</th>\n",
       "      <th>T_PV</th>\n",
       "      <th>T_fluid_out</th>\n",
       "      <th>T_tube_mean</th>\n",
       "      <th>T_glass</th>\n",
       "      <th>h_fluid</th>\n",
       "      <th>h_rad</th>\n",
       "      <th>X_celltemp</th>\n",
       "      <th>eta_PV</th>\n",
       "      <th>S</th>\n",
       "      <th>T_fluid_mean</th>\n",
       "      <th>T_Base_mean</th>\n",
       "      <th>T_absfin_mean</th>\n",
       "      <th>T_abs_mean</th>\n",
       "      <th>Qdot_tube_back</th>\n",
       "      <th>Qdot_absfin_back</th>\n",
       "      <th>T_ins_tube_mean</th>\n",
       "      <th>T_ins_absfin_mean</th>\n",
       "      <th>T_ins_mean</th>\n",
       "      <th>T_PV_Base_mean</th>\n",
       "      <th>T_PV_absfin_mean</th>\n",
       "      <th>Qdot_top_conv</th>\n",
       "      <th>Qdot_top_rad</th>\n",
       "      <th>Qdot_sun_glass</th>\n",
       "      <th>Qdot_sun_PV</th>\n",
       "      <th>Qdot_glass_PV</th>\n",
       "      <th>Qdot_PV_sky</th>\n",
       "      <th>Qdot_PV_plate</th>\n",
       "      <th>Qdot_PV_Base</th>\n",
       "      <th>Qdot_PV_absfin</th>\n",
       "      <th>Qdot_Base_back</th>\n",
       "      <th>Qdot_tube_fluid</th>\n",
       "      <th>Qdot_tube_sky</th>\n",
       "      <th>Qdot_Base_tube</th>\n",
       "      <th>Qdot_absfin_Base</th>\n",
       "      <th>Qdot_absfin_back_conv</th>\n",
       "      <th>Qdot_absfin_back_rad</th>\n",
       "      <th>Qdot_tube_back_conv</th>\n",
       "      <th>Qdot_tube_back_rad</th>\n",
       "      <th>Qdot_ins_tube_back_conv</th>\n",
       "      <th>Qdot_ins_tube_back_rad</th>\n",
       "      <th>Qdot_ins_absfin_back_conv</th>\n",
       "      <th>Qdot_ins_absfin_back_rad</th>\n",
       "      <th>Qdot_f01</th>\n",
       "    </tr>\n",
       "  </thead>\n",
       "  <tbody>\n",
       "    <tr>\n",
       "      <th>0</th>\n",
       "      <td>0.0</td>\n",
       "      <td>4.0</td>\n",
       "      <td>273.15</td>\n",
       "      <td>273.15</td>\n",
       "      <td>273.15</td>\n",
       "      <td>273.15</td>\n",
       "      <td>0.00001</td>\n",
       "      <td>0.0478</td>\n",
       "      <td>267.15</td>\n",
       "      <td>0.0</td>\n",
       "      <td>1.783133</td>\n",
       "      <td>3.08297</td>\n",
       "      <td>3.613087</td>\n",
       "      <td>3.08297</td>\n",
       "      <td>3.613007</td>\n",
       "      <td>3.08297</td>\n",
       "      <td>269.122273</td>\n",
       "      <td>269.093796</td>\n",
       "      <td>268.933881</td>\n",
       "      <td>269.180364</td>\n",
       "      <td>167.671122</td>\n",
       "      <td>4.068851</td>\n",
       "      <td>1.098694</td>\n",
       "      <td>0.0</td>\n",
       "      <td>0.0</td>\n",
       "      <td>268.185155</td>\n",
       "      <td>268.935594</td>\n",
       "      <td>268.939722</td>\n",
       "      <td>268.937904</td>\n",
       "      <td>-151.483235</td>\n",
       "      <td>-30.52861</td>\n",
       "      <td>268.933881</td>\n",
       "      <td>268.939722</td>\n",
       "      <td>268.937149</td>\n",
       "      <td>269.120064</td>\n",
       "      <td>269.124015</td>\n",
       "      <td>-13.70993</td>\n",
       "      <td>-31.296148</td>\n",
       "      <td>0.0</td>\n",
       "      <td>0.0</td>\n",
       "      <td>45.006078</td>\n",
       "      <td>-31.741884</td>\n",
       "      <td>76.747962</td>\n",
       "      <td>33.858051</td>\n",
       "      <td>42.890898</td>\n",
       "      <td>0.0</td>\n",
       "      <td>336.813024</td>\n",
       "      <td>-45.698606</td>\n",
       "      <td>107.276607</td>\n",
       "      <td>73.418556</td>\n",
       "      <td>-14.055852</td>\n",
       "      <td>-16.472758</td>\n",
       "      <td>-69.746095</td>\n",
       "      <td>-81.73714</td>\n",
       "      <td>-69.746095</td>\n",
       "      <td>-81.73714</td>\n",
       "      <td>-14.055852</td>\n",
       "      <td>-16.472758</td>\n",
       "      <td>0.0</td>\n",
       "    </tr>\n",
       "  </tbody>\n",
       "</table>"
      ],
      "text/plain": [
       "<IPython.core.display.HTML object>"
      ]
     },
     "metadata": {},
     "output_type": "display_data"
    }
   ],
   "source": [
    "res['main']['slices_df']['eta_PV']\n",
    "pr.disp_html(res['main']['df_one'])"
   ]
  },
  {
   "cell_type": "markdown",
   "metadata": {},
   "source": [
    "Affichages visuels"
   ]
  },
  {
   "cell_type": "code",
   "execution_count": 24,
   "metadata": {},
   "outputs": [
    {
     "data": {
      "text/plain": [
       "0.0"
      ]
     },
     "execution_count": 24,
     "metadata": {},
     "output_type": "execute_result"
    }
   ],
   "source": [
    "componentSpecs['main']['p_tube_sky']"
   ]
  },
  {
   "cell_type": "code",
   "execution_count": 25,
   "metadata": {},
   "outputs": [],
   "source": [
    "df_one,res = ty.simu_one_steady_state_all_he(componentSpecs,stepConditions[0],hyp)"
   ]
  },
  {
   "cell_type": "code",
   "execution_count": 19,
   "metadata": {},
   "outputs": [
    {
     "name": "stdout",
     "output_type": "stream",
     "text": [
      "main {'glass': 0   -1.692855e-13\n",
      "dtype: float64, 'PV': 0   -0.000015\n",
      "dtype: float64, 'Base': 0    1.312290e-11\n",
      "dtype: float64, 'absfin': 0    0.000014\n",
      "dtype: float64, 'tube': 0   -0.479976\n",
      "dtype: float64}\n"
     ]
    }
   ],
   "source": [
    "## df_one pour chaque résultat + résidus\n",
    "df_one_html = df_one.to_html()\n",
    "\n",
    "## Résidus\n",
    "for part in componentSpecs['decomp'].keys():\n",
    "    bal,bal_perc = ty.recap_energy_balances(res[part]['df_one'])\n",
    "    print(part,bal_perc)\n",
    "bal,bal_perc = ty.recap_energy_balances(df_one)\n",
    "df = pd.DataFrame(bal_perc)\n",
    "residus_html = df.to_html()"
   ]
  },
  {
   "cell_type": "code",
   "execution_count": 31,
   "metadata": {},
   "outputs": [
    {
     "data": {
      "image/png": "[encoded data removed]",
      "text/plain": [
       "<Figure size 640x480 with 1 Axes>"
      ]
     },
     "metadata": {},
     "output_type": "display_data"
    }
   ],
   "source": [
    "# Create a directed graph\n",
    "G = nx.DiGraph()\n",
    "\n",
    "# Add nodes\n",
    "nodes = ['T_amb', 'T_sky', 'T_glass', 'T_PV', 'T_B', 'T_absfin', \n",
    "         'T_tube', 'T_fluid', 'T_ins_absfin', 'T_ins_tube', 'T_back', 'T_back_rad']\n",
    "G.add_nodes_from(nodes)\n",
    "\n",
    "# Add edges with labels\n",
    "edges = [('T_amb', 'T_glass', 'Qdot_top_conv'), ('T_sky', 'T_glass', 'Qdot_top_rad'),\n",
    "         ('T_glass', 'T_PV', 'Qdot_glass_PV'), ('T_PV', 'T_B', 'Qdot_PV_Base'),\n",
    "         ('T_PV', 'T_absfin', 'Qdot_PV_absfin'), ('T_absfin', 'T_B', 'Qdot_absfin_Base'),\n",
    "         ('T_B', 'T_tube', 'Qdot_Base_tube'), ('T_tube', 'T_fluid', 'Qdot_tube_fluid'),\n",
    "         ('T_absfin', 'T_ins_absfin', 'Qdot_absfin_ins_absfin'),\n",
    "         ('T_tube', 'T_ins_tube', 'Qdot_tube_ins_tube'),\n",
    "         ('T_ins_absfin', 'T_back', 'Qdot_ins_absfin_back'),\n",
    "         ('T_ins_absfin', 'T_back_rad', 'Qdot_ins_absfin_back_rad'),\n",
    "         ('T_ins_tube', 'T_back', 'Qdot_ins_tube_back'),\n",
    "         ('T_ins_tube', 'T_back_rad', 'Qdot_ins_tube_back_rad')]\n",
    "\n",
    "for u, v, label in edges:\n",
    "    G.add_edge(u, v, label=label)\n",
    "\n",
    "# Manually set positions based on TikZ coordinates\n",
    "pos = {\n",
    "    'T_amb': (3, 0),\n",
    "    'T_sky': (8, 0),\n",
    "    'T_glass': (5.5, -3),\n",
    "    'T_PV': (5.5, -8),\n",
    "    'T_B': (3, -11),\n",
    "    'T_absfin': (8, -11),\n",
    "    'T_tube': (4, -15),\n",
    "    'T_fluid': (4, -20),\n",
    "    'T_ins_absfin': (9, -19),\n",
    "    'T_ins_tube': (6, -19),\n",
    "    'T_back': (6, -26),\n",
    "    'T_back_rad': (9, -26)\n",
    "}\n",
    "\n",
    "# Draw the graph\n",
    "nx.draw(G, pos, with_labels=True, node_color='lightblue', edge_color='black')\n",
    "\n",
    "# Draw edge labels\n",
    "edge_labels = nx.get_edge_attributes(G, 'label')\n",
    "nx.draw_networkx_edge_labels(G, pos, edge_labels=edge_labels)\n",
    "\n",
    "plt.savefig('GrapheOriente.png', format='png')\n"
   ]
  },
  {
   "cell_type": "code",
   "execution_count": 82,
   "metadata": {},
   "outputs": [
    {
     "data": {
      "image/png": "[encoded data removed]",
      "text/plain": [
       "<Figure size 800x600 with 1 Axes>"
      ]
     },
     "metadata": {},
     "output_type": "display_data"
    }
   ],
   "source": [
    "## Graphes noeufs températures et arêtes transferts\n",
    "# Create a directed graph\n",
    "G = nx.DiGraph()\n",
    "\n",
    "# Add nodes with labels including temperature\n",
    "nodes = ['Sun','T_amb', 'T_sky', 'T_glass', 'T_PV', 'T_Base', 'T_absfin', \n",
    "        'T_tube', 'T_fluid', 'T_ins_absfin', 'T_ins_tube', 'T_back', 'T_back_rad']\n",
    "\n",
    "nodes_keys = ['Sun','T_amb', 'T_sky', 'T_glass', 'T_PV', 'T_Base_mean', 'T_absfin_mean',\n",
    "                'T_tube_mean', 'T_fluid_mean', 'T_ins_absfin_mean', 'T_ins_tube_mean', 'T_back', 'T_back_rad']\n",
    "\n",
    "for i,node in enumerate(nodes):\n",
    "    if node == \"Sun\":\n",
    "        G.add_node(node, label=node)\n",
    "    else:\n",
    "        G.add_node(node, label=f\"{node} = {round(df_one[nodes_keys[i]].iloc[0]-273.15,1)} °C\")\n",
    "\n",
    "# Add edges with heat transfer labels\n",
    "edges = [('Sun','T_glass','Qdot_sun_glass'),('Sun','T_PV','Qdot_sun_PV'),\n",
    "            ('T_glass', 'T_amb', 'Qdot_top_conv'),('T_glass', 'T_sky', 'Qdot_top_rad'),\n",
    "            ('T_glass', 'T_PV', 'Qdot_glass_PV'), ('T_PV', 'T_Base', 'Qdot_PV_Base'), ('T_PV', 'T_sky', 'Qdot_PV_sky'),\n",
    "            ('T_PV', 'T_absfin', 'Qdot_PV_absfin'), ('T_absfin', 'T_Base', 'Qdot_absfin_Base'),\n",
    "            ('T_Base', 'T_tube', 'Qdot_Base_tube'), ('T_tube', 'T_fluid', 'Qdot_tube_fluid'),('T_tube','T_sky','Qdot_tube_sky'),\n",
    "            ('T_absfin', 'T_ins_absfin', 'Qdot_absfin_back'),\n",
    "            ('T_tube', 'T_ins_tube', 'Qdot_tube_back'),\n",
    "            ('T_ins_absfin', 'T_back', ''),\n",
    "            ('T_ins_absfin', 'T_back_rad', ''),\n",
    "            ('T_ins_tube', 'T_back', ''),\n",
    "            ('T_ins_tube', 'T_back_rad', '')]\n",
    "\n",
    "for u, v, label in edges:\n",
    "    if label == '':\n",
    "        G.add_edge(u, v)\n",
    "    else:\n",
    "        G.add_edge(u, v, label=f\"{round(df_one[label].iloc[0],1)} W\")\n",
    "\n",
    "# Manually set positions based on TikZ coordinates\n",
    "pos = {'Sun': (18,0),\n",
    "        'T_amb': (6, 0),\n",
    "        'T_sky': (6, -5),\n",
    "        'T_glass': (12, -6),\n",
    "        'T_PV': (12, -16),\n",
    "        'T_Base': (9, -24),\n",
    "        'T_absfin': (14, -24),\n",
    "        'T_tube': (6, -29),\n",
    "        'T_fluid': (6, -42),\n",
    "        'T_ins_absfin': (15, -34),\n",
    "        'T_ins_tube': (12, -34),\n",
    "        'T_back': (12, -43),\n",
    "        'T_back_rad': (15, -43)\n",
    "    }\n",
    "\n",
    "# Draw the graph with updated node labels\n",
    "node_labels = nx.get_node_attributes(G, 'label')\n",
    "edge_labels = nx.get_edge_attributes(G, 'label')\n",
    "\n",
    "# Création de la figure avec une taille augmentée\n",
    "plt.figure(figsize=(8, 6))  # Augmenter la taille selon le besoin\n",
    "\n",
    "# Dessin du graphe avec les positions et étiquettes de nœuds personnalisées\n",
    "nx.draw(G, pos, labels=node_labels, with_labels=True, node_color='lightblue', edge_color='black', node_size=3000, font_size=10)\n",
    "nx.draw_networkx_edge_labels(G, pos, edge_labels=edge_labels, font_color='red')\n",
    "\n",
    "# Ajustement des limites des axes avec une marge supplémentaire\n",
    "ax = plt.gca()  # Obtenir l'objet des axes courants\n",
    "ax.set_xlim([min(x for x, _ in pos.values()) - 5, max(x for x, _ in pos.values()) + 5])  # Ajuster selon les valeurs x min et max des positions\n",
    "ax.set_ylim([min(y for _, y in pos.values()) - 5, max(y for _, y in pos.values()) + 5])  # Ajuster selon les valeurs y min et max des positions\n",
    "\n",
    "# Enregistrer la figure en HTML\n",
    "plt.savefig('GrapheOrienteNumerique.png', format='png')"
   ]
  },
  {
   "cell_type": "code",
   "execution_count": 81,
   "metadata": {},
   "outputs": [],
   "source": [
    "## Histogramme\n",
    "\n",
    "ht_signs = {'Qdot_sun_PV': 1, 'Qdot_sun_glass': 1, 'Qdot_top_conv': -1, 'Qdot_top_rad': -1, 'Qdot_PV_sky': -1, 'Qdot_absfin_back_conv': -1, 'Qdot_absfin_back_rad': -1, 'Qdot_Base_back': -1, 'Qdot_tube_back_conv': -1, 'Qdot_tube_back_rad': -1, 'Qdot_tube_sky': -1}\n",
    "ht_labels = ['Qdot_sun_PV', 'Qdot_sun_glass', 'Qdot_top_conv', 'Qdot_top_rad', 'Qdot_PV_sky', 'Qdot_absfin_back_conv', 'Qdot_absfin_back_rad', 'Qdot_Base_back', 'Qdot_tube_back_conv', 'Qdot_tube_back_rad', 'Qdot_tube_sky']\n",
    "data = {key: ht_signs[key] * df_one[key].values[0] for key in ht_labels}\n",
    "\n",
    "# Création du graphique en barres\n",
    "fig = go.Figure()\n",
    "\n",
    "# Ajout de chaque barre sur le graphique\n",
    "for key, value in data.items():\n",
    "    fig.add_trace(go.Bar(x=[key], y=[value], name=key))\n",
    "\n",
    "# Ajout des annotations sous chaque barre\n",
    "for i, key in enumerate(data.keys()):\n",
    "    fig.add_annotation(\n",
    "        x=key,\n",
    "        y=data[key],\n",
    "        text=\"\",\n",
    "        showarrow=False,\n",
    "    )\n",
    "\n",
    "# Personnalisation du titre et des étiquettes\n",
    "fig.update_layout(\n",
    "    title=\"Decomposition of Qdot_tube_fluid in Different Heat Transfer Contributions\",\n",
    "    yaxis_title=\"Value\",\n",
    "    barmode=\"group\"  # Pour afficher les barres côte à côte\n",
    ")\n",
    "\n",
    "# Enregistrer le graphique en HTML\n",
    "TransfertHTML = pio.write_html(fig, file='figure_plotly.html', auto_open=False)"
   ]
  },
  {
   "cell_type": "code",
   "execution_count": 78,
   "metadata": {},
   "outputs": [],
   "source": [
    "## Température in, out, mean, PV \n",
    "# Données de température\n",
    "Temperature = ['T_fluid_in', 'T_tube_mean', 'T_fluid_out', 'T_PV']\n",
    "dataTemp = {key: df_one[key].values[0] - 273.15 for key in Temperature}\n",
    "\n",
    "# Création du graphique en barres\n",
    "fig = go.Figure()\n",
    "\n",
    "# Ajout de chaque barre sur le graphique\n",
    "for key, value in dataTemp.items():\n",
    "    fig.add_trace(go.Bar(x=[key], y=[value], name=key))\n",
    "\n",
    "# Ajout des annotations sous chaque barre\n",
    "for i, key in enumerate(dataTemp.keys()):\n",
    "    fig.add_annotation(\n",
    "        x=key,\n",
    "        y=dataTemp[key],\n",
    "        text=\"\",\n",
    "        showarrow=False,\n",
    "    )\n",
    "\n",
    "# Personnalisation du titre et des étiquettes\n",
    "fig.update_layout(\n",
    "    title=\"Températures en °C\",\n",
    "    yaxis_title=\"Température (en°C)\",\n",
    "    barmode=\"group\"  # Pour afficher les barres côte à côte\n",
    ")\n",
    "\n",
    "# Ajuster la plage de l'axe y pour adapter les barres à l'affichage\n",
    "fig.update_yaxes(range=[min(dataTemp.values()) - 5, max(dataTemp.values()) + 5])\n",
    "\n",
    "# Enregistrer le graphique en HTML\n",
    "TemperatureHTML = pio.write_html(fig, file='TemperatureInOutMeanPV.html', auto_open=False)"
   ]
  },
  {
   "cell_type": "code",
   "execution_count": 186,
   "metadata": {},
   "outputs": [],
   "source": [
    "## Profil des températures\n",
    "# 𝑇𝑓𝑙𝑢𝑖𝑑(𝑦) = (𝑇𝑓𝑙𝑢𝑖𝑑,𝑖𝑛 + 𝑏𝑓/𝑎𝑓) exp(𝑎𝑓 𝑦) − 𝑏𝑓/𝑎𝑓\n",
    "a_f = float(res['main']['slices_df']['a_f'].iloc[0])\n",
    "b_f = float(res['main']['slices_df']['b_f'].iloc[0])\n",
    "T_fluid_in = float(res['main']['slices_df']['T_fluid_in'].iloc[0])\n",
    "L_tube = componentSpecs['main']['L_tube']\n",
    "\n",
    "def T_fluid_fct(y_values, T_fluid_in, a_f, b_f):\n",
    "    T_fluid_values = np.zeros(len(y_values))\n",
    "    i=0\n",
    "    for y in y_values:\n",
    "        T_fluid_value = (T_fluid_in + b_f / a_f) * np.exp(a_f * y) - b_f / a_f\n",
    "        T_fluid_values[i]= T_fluid_value -273.15\n",
    "        i+=1\n",
    "    return T_fluid_values\n",
    "\n",
    "y_values = np.linspace(0, L_tube, 100)\n",
    "T_fluid_values = T_fluid_fct(y_values, T_fluid_in, a_f, b_f)\n",
    "\n",
    "# Tracé de la courbe avec Plotly\n",
    "fig = go.Figure(go.Scatter(x=y_values, y=T_fluid_values))\n",
    "\n",
    "# Ajuster la plage de l'axe y pour adapter les barres à l'affichage\n",
    "fig.update_xaxes(range=[0, L_tube])\n",
    "\n",
    "# Personnalisation du titre et des étiquettes\n",
    "fig.update_layout(title='Profil de température au sein d\\'un canal',\n",
    "                  xaxis_title='Position y',\n",
    "                  yaxis_title='Température en °C')\n",
    "\n",
    "# Enregistrer le graphique en HTML\n",
    "ProfilHTML = pio.write_html(fig, file='ProfilTemp.html', auto_open=True)\n"
   ]
  },
  {
   "cell_type": "code",
   "execution_count": 104,
   "metadata": {},
   "outputs": [
    {
     "data": {
      "text/plain": [
       "True"
      ]
     },
     "execution_count": 104,
     "metadata": {},
     "output_type": "execute_result"
    }
   ],
   "source": [
    "#Page HTML qui affiche les résultats pour 1 cas\n",
    "\n",
    "# Récupération de la valeur 'Case' de stepConditions\n",
    "case_value = stepConditions[17]['Case']\n",
    "\n",
    "# Création du fichier HTML pour afficher tous les résultats\n",
    "html_content = f\"\"\"\n",
    "<div style=\"width: 800px; overflow-x: auto;\">\n",
    "<!DOCTYPE html>\n",
    "<html>\n",
    "<head>\n",
    "    <title>Résultats</title>\n",
    "</head>\n",
    "<body>\n",
    "    <h1>Résultats : {case_value} </h1>\n",
    "    <h2>df_one</h2>\n",
    "    <div style=\"overflow-x:auto;\">\n",
    "    {df_one_html}\n",
    "    </div>\n",
    "    \n",
    "    <h2>Résidus</h2>\n",
    "    {residus_html}\n",
    "    </div>\n",
    "\n",
    "    <h2>Graphes orientés des transferts</h2>\n",
    "    <img src=\"GrapheOriente.png\" alt=\"Graphe des noeuds températures et arêtes transferts\">\n",
    "    <br><br>\n",
    "    <h2> </h2>\n",
    "    <img src=\"GrapheOrienteNumerique.png\" alt=\"Graphe des noeuds températures et arêtes transferts\">\n",
    "    <br><br>\n",
    "    <h2>Histogramme du transfert de chaleur</h2>\n",
    "    <iframe src=\"figure_plotly.html\" width=\"800\" height=\"600\"></iframe>\n",
    "    <br><br>\n",
    "    <h2>Histogramme des température</h2>\n",
    "    <iframe src=\"TemperatureInOutMeanPV.html\" width=\"800\" height=\"600\"></iframe>\n",
    "    <br><br>\n",
    "    <h2>Profil des températures</h2>\n",
    "    <iframe src=\"ProfilTemp.html\" width=\"800\" height=\"600\"></iframe>\n",
    "    <br><br>\n",
    "</body>\n",
    "</html>\n",
    "</div>\n",
    "\"\"\"\n",
    "\n",
    "# Enregistrer le contenu dans un fichier HTML\n",
    "with open('resultats.html', 'w') as file:\n",
    "    file.write(html_content)\n",
    "\n",
    "# Ouvrir le fichier HTML dans le navigateur\n",
    "import webbrowser\n",
    "webbrowser.open('resultats.html')\n"
   ]
  },
  {
   "cell_type": "code",
   "execution_count": 33,
   "metadata": {},
   "outputs": [
    {
     "name": "stdout",
     "output_type": "stream",
     "text": [
      "main {'glass': 0    3.343300e-13\n",
      "dtype: float64, 'PV': 0   -0.000014\n",
      "dtype: float64, 'Base': 0    2.182538e-11\n",
      "dtype: float64, 'absfin': 0    0.000014\n",
      "dtype: float64, 'tube': 0    6.606761e-07\n",
      "dtype: float64}\n"
     ]
    },
    {
     "name": "stderr",
     "output_type": "stream",
     "text": [
      "C:\\Users\\DualSun\\AppData\\Local\\Temp\\ipykernel_21352\\4090883211.py:182: FutureWarning:\n",
      "\n",
      "Calling float on a single element Series is deprecated and will raise a TypeError in the future. Use float(ser.iloc[0]) instead\n",
      "\n"
     ]
    },
    {
     "name": "stdout",
     "output_type": "stream",
     "text": [
      "main {'glass': 0   -1.000814e-13\n",
      "dtype: float64, 'PV': 0   -0.000003\n",
      "dtype: float64, 'Base': 0   -2.981223e-12\n",
      "dtype: float64, 'absfin': 0    0.000003\n",
      "dtype: float64, 'tube': 0    6.465789e-08\n",
      "dtype: float64}\n"
     ]
    },
    {
     "name": "stderr",
     "output_type": "stream",
     "text": [
      "C:\\Users\\DualSun\\AppData\\Local\\Temp\\ipykernel_21352\\4090883211.py:182: FutureWarning:\n",
      "\n",
      "Calling float on a single element Series is deprecated and will raise a TypeError in the future. Use float(ser.iloc[0]) instead\n",
      "\n"
     ]
    },
    {
     "name": "stdout",
     "output_type": "stream",
     "text": [
      "main {'glass': 0   -1.616074e-14\n",
      "dtype: float64, 'PV': 0   -0.000003\n",
      "dtype: float64, 'Base': 0    6.388305e-12\n",
      "dtype: float64, 'absfin': 0    0.000003\n",
      "dtype: float64, 'tube': 0    3.171840e-08\n",
      "dtype: float64}\n"
     ]
    },
    {
     "name": "stderr",
     "output_type": "stream",
     "text": [
      "C:\\Users\\DualSun\\AppData\\Local\\Temp\\ipykernel_21352\\4090883211.py:182: FutureWarning:\n",
      "\n",
      "Calling float on a single element Series is deprecated and will raise a TypeError in the future. Use float(ser.iloc[0]) instead\n",
      "\n"
     ]
    },
    {
     "data": {
      "image/png": "[encoded data removed]",
      "text/plain": [
       "<Figure size 800x600 with 1 Axes>"
      ]
     },
     "metadata": {},
     "output_type": "display_data"
    },
    {
     "data": {
      "image/png": "[encoded data removed]",
      "text/plain": [
       "<Figure size 800x600 with 1 Axes>"
      ]
     },
     "metadata": {},
     "output_type": "display_data"
    },
    {
     "data": {
      "image/png": "[encoded data removed]",
      "text/plain": [
       "<Figure size 800x600 with 1 Axes>"
      ]
     },
     "metadata": {},
     "output_type": "display_data"
    }
   ],
   "source": [
    "#Crée toutes les pages html des résultats\n",
    "\n",
    "nb_cases = len(stepConditions)\n",
    "\n",
    "for case in range(nb_cases) :\n",
    "\n",
    "    # Récupération de la valeur 'Case' de stepConditions\n",
    "    case_value = stepConditions[case]['Case']\n",
    "\n",
    "    df_one,res = ty.simu_one_steady_state_all_he(componentSpecs,stepConditions[case],hyp)\n",
    "\n",
    "    ## df_one pour chaque résultat\n",
    "    df_one_html = df_one.to_html()\n",
    "\n",
    "    ## Résidus\n",
    "    for part in componentSpecs['decomp'].keys():\n",
    "        bal,bal_perc = ty.recap_energy_balances(res[part]['df_one'])\n",
    "        print(part,bal_perc)\n",
    "    bal,bal_perc = ty.recap_energy_balances(df_one)\n",
    "    df = pd.DataFrame(bal_perc)\n",
    "    residus_html = df.to_html()\n",
    "\n",
    "\n",
    "\n",
    "\n",
    "    ## Graphes noeufs températures et arêtes transferts*\n",
    "    # First graph does not need to be computed in the loop for\n",
    "\n",
    "    # Create a directed graph\n",
    "    G = nx.DiGraph()\n",
    "\n",
    "    # Add nodes with labels including temperature\n",
    "    nodes = ['Sun','T_amb', 'T_sky', 'T_glass', 'T_PV', 'T_Base', 'T_absfin', \n",
    "            'T_tube', 'T_fluid', 'T_ins_absfin', 'T_ins_tube', 'T_back', 'T_back_rad']\n",
    "\n",
    "    nodes_keys = ['Sun','T_amb', 'T_sky', 'T_glass', 'T_PV', 'T_Base_mean', 'T_absfin_mean',\n",
    "                    'T_tube_mean', 'T_fluid_mean', 'T_ins_absfin_mean', 'T_ins_tube_mean', 'T_back', 'T_back_rad']\n",
    "\n",
    "    for i,node in enumerate(nodes):\n",
    "        if node == \"Sun\":\n",
    "            G.add_node(node, label=node)\n",
    "        else:\n",
    "            G.add_node(node, label=f\"{node} = {round(df_one[nodes_keys[i]].iloc[0]-273.15,1)} °C\")\n",
    "\n",
    "    # Add edges with heat transfer labels\n",
    "    edges = [('Sun','T_glass','Qdot_sun_glass'),('Sun','T_PV','Qdot_sun_PV'),\n",
    "                ('T_glass', 'T_amb', 'Qdot_top_conv'),('T_glass', 'T_sky', 'Qdot_top_rad'),\n",
    "                ('T_glass', 'T_PV', 'Qdot_glass_PV'), ('T_PV', 'T_Base', 'Qdot_PV_Base'), ('T_PV', 'T_sky', 'Qdot_PV_sky'),\n",
    "                ('T_PV', 'T_absfin', 'Qdot_PV_absfin'), ('T_absfin', 'T_Base', 'Qdot_absfin_Base'),\n",
    "                ('T_Base', 'T_tube', 'Qdot_Base_tube'), ('T_tube', 'T_fluid', 'Qdot_tube_fluid'),('T_tube','T_sky','Qdot_tube_sky'),\n",
    "                ('T_absfin', 'T_ins_absfin', 'Qdot_absfin_back'),\n",
    "                ('T_tube', 'T_ins_tube', 'Qdot_tube_back'),\n",
    "                ('T_ins_absfin', 'T_back', ''),\n",
    "                ('T_ins_absfin', 'T_back_rad', ''),\n",
    "                ('T_ins_tube', 'T_back', ''),\n",
    "                ('T_ins_tube', 'T_back_rad', '')]\n",
    "\n",
    "    for u, v, label in edges:\n",
    "        if label == '':\n",
    "            G.add_edge(u, v)\n",
    "        else:\n",
    "            G.add_edge(u, v, label=f\"{round(df_one[label].iloc[0],1)} W\")\n",
    "\n",
    "    # Manually set positions based on TikZ coordinates\n",
    "    pos = {'Sun': (18,0),\n",
    "            'T_amb': (6, 0),\n",
    "            'T_sky': (6, -5),\n",
    "            'T_glass': (12, -6),\n",
    "            'T_PV': (12, -16),\n",
    "            'T_Base': (9, -24),\n",
    "            'T_absfin': (14, -24),\n",
    "            'T_tube': (6, -29),\n",
    "            'T_fluid': (6, -42),\n",
    "            'T_ins_absfin': (15, -34),\n",
    "            'T_ins_tube': (12, -34),\n",
    "            'T_back': (12, -43),\n",
    "            'T_back_rad': (15, -43)\n",
    "        }\n",
    "\n",
    "    # Draw the graph with updated node labels\n",
    "    node_labels = nx.get_node_attributes(G, 'label')\n",
    "    edge_labels = nx.get_edge_attributes(G, 'label')\n",
    "\n",
    "    # Création de la figure avec une taille augmentée\n",
    "    plt.figure(figsize=(8, 6))  # Augmenter la taille selon le besoin\n",
    "\n",
    "    # Dessin du graphe avec les positions et étiquettes de nœuds personnalisées\n",
    "    nx.draw(G, pos, labels=node_labels, with_labels=True, node_color='lightblue', edge_color='black', node_size=3000, font_size=10)\n",
    "    nx.draw_networkx_edge_labels(G, pos, edge_labels=edge_labels, font_color='red')\n",
    "\n",
    "    # Ajustement des limites des axes avec une marge supplémentaire\n",
    "    ax = plt.gca()  # Obtenir l'objet des axes courants\n",
    "    ax.set_xlim([min(x for x, _ in pos.values()) - 5, max(x for x, _ in pos.values()) + 5])  # Ajuster selon les valeurs x min et max des positions\n",
    "    ax.set_ylim([min(y for _, y in pos.values()) - 5, max(y for _, y in pos.values()) + 5])  # Ajuster selon les valeurs y min et max des positions\n",
    "\n",
    "    # Enregistrer la figure en HTML\n",
    "    plt.savefig(f'GrapheOrienteNumerique_{case_value}.png', format='png')\n",
    "\n",
    "\n",
    "\n",
    "    ## Histogramme\n",
    "    ht_signs = {'Qdot_sun_PV': 1, 'Qdot_sun_glass': 1, 'Qdot_top_conv': -1, 'Qdot_top_rad': -1, 'Qdot_PV_sky': -1, 'Qdot_absfin_back_conv': -1, 'Qdot_absfin_back_rad': -1, 'Qdot_Base_back': -1, 'Qdot_tube_back_conv': -1, 'Qdot_tube_back_rad': -1, 'Qdot_tube_sky': -1}\n",
    "    ht_labels = ['Qdot_sun_PV', 'Qdot_sun_glass', 'Qdot_top_conv', 'Qdot_top_rad', 'Qdot_PV_sky', 'Qdot_absfin_back_conv', 'Qdot_absfin_back_rad', 'Qdot_Base_back', 'Qdot_tube_back_conv', 'Qdot_tube_back_rad', 'Qdot_tube_sky']\n",
    "    data = {key: ht_signs[key] * df_one[key].values[0] for key in ht_labels}\n",
    "\n",
    "    # Création du graphique en barres\n",
    "    fig = go.Figure()\n",
    "\n",
    "    # Ajout de chaque barre sur le graphique\n",
    "    for key, value in data.items():\n",
    "        fig.add_trace(go.Bar(x=[key], y=[value], name=key))\n",
    "\n",
    "    # Ajout des annotations sous chaque barre\n",
    "    for i, key in enumerate(data.keys()):\n",
    "        fig.add_annotation(\n",
    "            x=key,\n",
    "            y=data[key],\n",
    "            text=\"\",\n",
    "            showarrow=False,\n",
    "        )\n",
    "\n",
    "    # Personnalisation du titre et des étiquettes\n",
    "    fig.update_layout(\n",
    "        title=\"Decomposition of Qdot_tube_fluid in Different Heat Transfer Contributions\",\n",
    "        yaxis_title=\"Value\",\n",
    "        barmode=\"group\"  # Pour afficher les barres côte à côte\n",
    "    )\n",
    "\n",
    "    # Enregistrer le graphique en HTML\n",
    "    TransfertHTML = pio.write_html(fig, file=f'figure_plotly_{case_value}.html', auto_open=False)\n",
    "\n",
    "\n",
    "    \n",
    "    ## Température in, out, mean, PV \n",
    "    # Données de température\n",
    "    Temperature = ['T_fluid_in', 'T_tube_mean', 'T_fluid_out', 'T_PV']\n",
    "    dataTemp = {key: df_one[key].values[0] - 273.15 for key in Temperature}\n",
    "\n",
    "    # Création du graphique en barres\n",
    "    fig = go.Figure()\n",
    "\n",
    "    # Ajout de chaque barre sur le graphique\n",
    "    for key, value in dataTemp.items():\n",
    "        fig.add_trace(go.Bar(x=[key], y=[value], name=key))\n",
    "\n",
    "    # Ajout des annotations sous chaque barre\n",
    "    for i, key in enumerate(dataTemp.keys()):\n",
    "        fig.add_annotation(\n",
    "            x=key,\n",
    "            y=dataTemp[key],\n",
    "            text=\"\",\n",
    "            showarrow=False,\n",
    "        )\n",
    "\n",
    "    # Personnalisation du titre et des étiquettes\n",
    "    fig.update_layout(\n",
    "        title=\"Températures en °C\",\n",
    "        yaxis_title=\"Température (en°C)\",\n",
    "        barmode=\"group\"  # Pour afficher les barres côte à côte\n",
    "    )\n",
    "\n",
    "    # Ajuster la plage de l'axe y pour adapter les barres à l'affichage\n",
    "    fig.update_yaxes(range=[min(dataTemp.values()) - 5, max(dataTemp.values()) + 5])\n",
    "\n",
    "    # Enregistrer le graphique en HTML\n",
    "    TemperatureHTML = pio.write_html(fig, file=f'TemperatureInOutMeanPV_{case_value}.html', auto_open=False)\n",
    "\n",
    "\n",
    "    \n",
    "    ## Profil des températures\n",
    "    # 𝑇𝑓𝑙𝑢𝑖𝑑(𝑦) = (𝑇𝑓𝑙𝑢𝑖𝑑,𝑖𝑛 + 𝑏𝑓/𝑎𝑓) exp(𝑎𝑓 𝑦) − 𝑏𝑓/𝑎𝑓\n",
    "    a_f = res['main']['slices_df']['a_f']\n",
    "    b_f = res['main']['slices_df']['b_f']\n",
    "    T_fluid_in = res['main']['slices_df']['T_fluid_in']\n",
    "    L_tube = componentSpecs['main']['L_tube']\n",
    "\n",
    "    def T_fluid_fct(y_values, T_fluid_in, a_f, b_f):\n",
    "        T_fluid_values = np.zeros(len(y_values))\n",
    "        i=0\n",
    "        for y in y_values:\n",
    "            T_fluid_value = (T_fluid_in + b_f / a_f) * np.exp(a_f * y) - b_f / a_f\n",
    "            T_fluid_values[i]= T_fluid_value -273.15\n",
    "            i+=1\n",
    "        return T_fluid_values\n",
    "\n",
    "    y_values = np.linspace(0, L_tube, 100)\n",
    "    T_fluid_values = T_fluid_fct(y_values, T_fluid_in, a_f, b_f)\n",
    "\n",
    "    # Tracé de la courbe avec Plotly\n",
    "    fig = go.Figure(go.Scatter(x=y_values, y=T_fluid_values))\n",
    "\n",
    "    # Ajuster la plage de l'axe y pour adapter les barres à l'affichage\n",
    "    fig.update_xaxes(range=[0, L_tube])\n",
    "\n",
    "    # Personnalisation du titre et des étiquettes\n",
    "    fig.update_layout(title='Profil de température au sein d\\'un canal',\n",
    "                    xaxis_title='Position y',\n",
    "                    yaxis_title='Température en °C')\n",
    "\n",
    "    # Enregistrer le graphique en HTML\n",
    "    ProfilHTML = pio.write_html(fig, file=f'ProfilTemp_{case_value}.html', auto_open=False)\n",
    "\n",
    "    # Création du fichier HTML pour afficher tous les résultats\n",
    "    html_content = f\"\"\"\n",
    "    <div style=\"width: 800px; overflow-x: auto;\">\n",
    "    <!DOCTYPE html>\n",
    "    <html>\n",
    "    <head>\n",
    "        <title>Résultats {case_value}</title>\n",
    "    </head>\n",
    "    <body>\n",
    "        <h1>Résultats : {case_value} </h1>\n",
    "        <h2>df_one</h2>\n",
    "        <div style=\"overflow-x:auto;\">\n",
    "        {df_one_html}\n",
    "        </div>\n",
    "        \n",
    "        <h2>Résidus</h2>\n",
    "        {residus_html}\n",
    "        </div>\n",
    "\n",
    "        <h2>Graphes orientés des transferts</h2>\n",
    "        <img src=\"GrapheOriente.png\" alt=\"Graphe des noeuds températures et arêtes transferts\">\n",
    "        <br><br>\n",
    "        <h2> \\n </h2>\n",
    "        <img src=\"GrapheOrienteNumerique_{case_value}.png\" alt=\"Graphe des noeuds températures et arêtes transferts\">\n",
    "        <br><br>\n",
    "        <h2>Histogramme du transfert de chaleur</h2>\n",
    "        <iframe src=\"figure_plotly_{case_value}.html\" width=\"800\" height=\"600\"></iframe>\n",
    "        <br><br>\n",
    "        <h2>Histogramme des température</h2>\n",
    "        <iframe src=\"TemperatureInOutMeanPV_{case_value}.html\" width=\"800\" height=\"600\"></iframe>\n",
    "        <br><br>\n",
    "        <h2>Profil des températures</h2>\n",
    "        <iframe src=\"ProfilTemp_{case_value}.html\" width=\"800\" height=\"600\"></iframe>\n",
    "        <br><br>\n",
    "    </body>\n",
    "    </html>\n",
    "    </div>\n",
    "    \"\"\"\n",
    "\n",
    "    # Enregistrer le contenu dans un fichier HTML\n",
    "    with open(f\"resultats_{case_value}.html\", 'w') as file:\n",
    "        file.write(html_content)\n",
    "    # Ouvrir le fichier HTML dans le navigateur\n",
    "    #import webbrowser\n",
    "    #webbrowser.open(f\"resultats_{case_value}.html\")\n"
   ]
  },
  {
   "cell_type": "code",
   "execution_count": 30,
   "metadata": {},
   "outputs": [
    {
     "data": {
      "text/plain": [
       "True"
      ]
     },
     "execution_count": 30,
     "metadata": {},
     "output_type": "execute_result"
    }
   ],
   "source": [
    "#Page HTML qui affiche un menu déroulant pour choisir la page de résultat d'un cas\n",
    "\n",
    "nb_cases = len(stepConditions) #ça sert à rien de le déclarer de nouveau\n",
    "\n",
    "# Récupération des valeurs de la colonne 'Case' du dictionnaire stepConditions\n",
    "case_values = [stepConditions[i]['Case'] for i in range(nb_cases)]\n",
    "\n",
    "# Génération des options du menu déroulant\n",
    "options = ''.join([f'<option value=\"resultats_{case_values[i]}.html\">Cas {case_values[i]}</option>' for i, case in enumerate(range(nb_cases))])  \n",
    "\n",
    "# Création du fichier HTML pour afficher tous les résultats\n",
    "html_content = f\"\"\"\n",
    "<!DOCTYPE html>\n",
    "<html lang=\"en\">\n",
    "<head>\n",
    "    <meta name=\"viewport\" content=\"width=device-width, initial-scale=1.0\">\n",
    "    <title>Visualisation de fichiers HTML</title>\n",
    "    <style>\n",
    "        /* Style CSS pour le centrage et le style du formulaire */\n",
    "        body {{\n",
    "            font-family: \"Times New Roman\", serif;\n",
    "            display: flex;\n",
    "            justify-content: center;\n",
    "            align-items: center;\n",
    "            height: 50vh;\n",
    "        }}\n",
    "        form {{\n",
    "            display: flex;\n",
    "            flex-direction: column;\n",
    "            align-items: center;\n",
    "        }}\n",
    "    </style>\n",
    "</head>\n",
    "<body>\n",
    "    <form id=\"fileForm\" action=\"\" method=\"GET\" target=\"_blank\">\n",
    "        <label for=\"fileSelect\">Sélectionner un fichier à afficher :</label>\n",
    "        <select id=\"fileSelect\" name=\"file\">\n",
    "        {options}\n",
    "        </select>\n",
    "        <br>\n",
    "        <input type=\"submit\" value=\"Valider\">\n",
    "    </form>\n",
    "\n",
    "    <script>\n",
    "        // JavaScript pour modifier l'action du formulaire selon le fichier sélectionné\n",
    "        const fileForm = document.getElementById(\"fileForm\");\n",
    "        const fileSelect = document.getElementById(\"fileSelect\");\n",
    "\n",
    "        fileForm.addEventListener(\"submit\", function(event) {{\n",
    "            // Modifier l'action du formulaire pour ouvrir le fichier sélectionné dans un nouvel onglet\n",
    "            fileForm.action = fileSelect.value;\n",
    "        }});\n",
    "    </script>\n",
    "</body>\n",
    "</html>\n",
    "\"\"\"\n",
    "\n",
    "# Enregistrer le contenu dans un fichier HTML\n",
    "with open('selection_resultats.html', 'w') as file:\n",
    "    file.write(html_content)\n",
    "\n",
    "# Ouvrir le fichier HTML dans le navigateur\n",
    "import webbrowser\n",
    "webbrowser.open('selection_resultats.html')\n"
   ]
  },
  {
   "cell_type": "markdown",
   "metadata": {},
   "source": [
    "Graphiques de groupe"
   ]
  },
  {
   "cell_type": "code",
   "execution_count": 16,
   "metadata": {},
   "outputs": [
    {
     "data": {
      "application/vnd.plotly.v1+json": {
       "config": {
        "plotlyServerURL": "https://plot.ly"
       },
       "data": [
        {
         "hoverinfo": "name",
         "hovertemplate": "Temoin<br> G = 0.0 W<br> T_amb = 0.0 °C<br> u = 0.00 m/s",
         "marker": {
          "color": "rgb(219, 145, 84)"
         },
         "mode": "markers",
         "name": "",
         "showlegend": false,
         "type": "scatter",
         "x": [
          4.964845268128272
         ],
         "y": [
          336.81302421940734
         ]
        },
        {
         "hoverinfo": "name",
         "hovertemplate": "Normal_CESIFroid_v1<br> G = 800.0 W<br> T_amb = 25.0 °C<br> u = 0.00 m/s",
         "marker": {
          "color": "rgb(219, 145, 84)"
         },
         "mode": "markers",
         "name": "",
         "showlegend": false,
         "type": "scatter",
         "x": [
          5.748208220066658
         ],
         "y": [
          -248.32216392010557
         ]
        },
        {
         "hoverinfo": "name",
         "hovertemplate": "Normal_CESIFroid_v2<br> G = 800.0 W<br> T_amb = 25.0 °C<br> u = 4.17 m/s",
         "marker": {
          "color": "rgb(68, 51, 171)"
         },
         "mode": "markers",
         "name": "",
         "showlegend": false,
         "type": "scatter",
         "x": [
          5.631417559032741
         ],
         "y": [
          -207.73150384707714
         ]
        },
        {
         "hoverinfo": "name",
         "hovertemplate": "Normal_CESIFroid_v3<br> G = 800.0 W<br> T_amb = 25.0 °C<br> u = 8.33 m/s",
         "marker": {
          "color": "rgb(151, 32, 168)"
         },
         "mode": "markers",
         "name": "",
         "showlegend": false,
         "type": "scatter",
         "x": [
          5.496980789236147
         ],
         "y": [
          -161.82973590946145
         ]
        },
        {
         "hoverinfo": "name",
         "hovertemplate": "Normal_CESIFroid_v4<br> G = 800.0 W<br> T_amb = 25.0 °C<br> u = 13.89 m/s",
         "marker": {
          "color": "rgb(4, 200, 182)"
         },
         "mode": "markers",
         "name": "",
         "showlegend": false,
         "type": "scatter",
         "x": [
          5.3748047615807195
         ],
         "y": [
          -120.88788598625784
         ]
        },
        {
         "hoverinfo": "name",
         "hovertemplate": "Normal_CESIChaud_v1<br> G = 800.0 W<br> T_amb = 25.0 °C<br> u = 0.00 m/s",
         "marker": {
          "color": "rgb(219, 145, 84)"
         },
         "mode": "markers",
         "name": "",
         "showlegend": false,
         "type": "scatter",
         "x": [
          -10.20570988940267
         ],
         "y": [
          -1604.840012138937
         ]
        },
        {
         "hoverinfo": "name",
         "hovertemplate": "Normal_CESIChaud_v2<br> G = 800.0 W<br> T_amb = 25.0 °C<br> u = 4.17 m/s",
         "marker": {
          "color": "rgb(68, 51, 171)"
         },
         "mode": "markers",
         "name": "",
         "showlegend": false,
         "type": "scatter",
         "x": [
          -10.005636538817726
         ],
         "y": [
          -1661.0309710636716
         ]
        },
        {
         "hoverinfo": "name",
         "hovertemplate": "Normal_CESIChaud_v3<br> G = 800.0 W<br> T_amb = 25.0 °C<br> u = 8.33 m/s",
         "marker": {
          "color": "rgb(151, 32, 168)"
         },
         "mode": "markers",
         "name": "",
         "showlegend": false,
         "type": "scatter",
         "x": [
          -9.700023741769542
         ],
         "y": [
          -1745.0130687526598
         ]
        },
        {
         "hoverinfo": "name",
         "hovertemplate": "Normal_CESIChaud_v4<br> G = 800.0 W<br> T_amb = 25.0 °C<br> u = 13.89 m/s",
         "marker": {
          "color": "rgb(4, 200, 182)"
         },
         "mode": "markers",
         "name": "",
         "showlegend": false,
         "type": "scatter",
         "x": [
          -9.420351883420267
         ],
         "y": [
          -1819.8706804447
         ]
        },
        {
         "hoverinfo": "name",
         "hovertemplate": "Normal_Regeneration_v1<br> G = 800.0 W<br> T_amb = 25.0 °C<br> u = 0.00 m/s",
         "marker": {
          "color": "rgb(219, 145, 84)"
         },
         "mode": "markers",
         "name": "",
         "showlegend": false,
         "type": "scatter",
         "x": [
          13.852451174391547
         ],
         "y": [
          378.76271187772
         ]
        },
        {
         "hoverinfo": "name",
         "hovertemplate": "Normal_Regeneration_v2<br> G = 800.0 W<br> T_amb = 25.0 °C<br> u = 4.17 m/s",
         "marker": {
          "color": "rgb(68, 51, 171)"
         },
         "mode": "markers",
         "name": "",
         "showlegend": false,
         "type": "scatter",
         "x": [
          13.539151884625767
         ],
         "y": [
          478.0499046208402
         ]
        },
        {
         "hoverinfo": "name",
         "hovertemplate": "Normal_Regeneration_v3<br> G = 800.0 W<br> T_amb = 25.0 °C<br> u = 8.33 m/s",
         "marker": {
          "color": "rgb(151, 32, 168)"
         },
         "mode": "markers",
         "name": "",
         "showlegend": false,
         "type": "scatter",
         "x": [
          13.165737151451822
         ],
         "y": [
          594.0088342009121
         ]
        },
        {
         "hoverinfo": "name",
         "hovertemplate": "Normal_Regeneration_v4<br> G = 800.0 W<br> T_amb = 25.0 °C<br> u = 13.89 m/s",
         "marker": {
          "color": "rgb(4, 200, 182)"
         },
         "mode": "markers",
         "name": "",
         "showlegend": false,
         "type": "scatter",
         "x": [
          12.829088505995799
         ],
         "y": [
          696.2923567404265
         ]
        },
        {
         "hoverinfo": "name",
         "hovertemplate": "Normal_PAC_v1<br> G = 800.0 W<br> T_amb = 25.0 °C<br> u = 0.00 m/s",
         "marker": {
          "color": "rgb(219, 145, 84)"
         },
         "mode": "markers",
         "name": "",
         "showlegend": false,
         "type": "scatter",
         "x": [
          5.748208220066658
         ],
         "y": [
          -248.32216392010557
         ]
        },
        {
         "hoverinfo": "name",
         "hovertemplate": "Normal_PAC_v2<br> G = 800.0 W<br> T_amb = 25.0 °C<br> u = 4.17 m/s",
         "marker": {
          "color": "rgb(68, 51, 171)"
         },
         "mode": "markers",
         "name": "",
         "showlegend": false,
         "type": "scatter",
         "x": [
          5.631417559032741
         ],
         "y": [
          -207.73150384707714
         ]
        },
        {
         "hoverinfo": "name",
         "hovertemplate": "Normal_PAC_v3<br> G = 800.0 W<br> T_amb = 25.0 °C<br> u = 8.33 m/s",
         "marker": {
          "color": "rgb(151, 32, 168)"
         },
         "mode": "markers",
         "name": "",
         "showlegend": false,
         "type": "scatter",
         "x": [
          5.496980789236147
         ],
         "y": [
          -161.82973590946145
         ]
        },
        {
         "hoverinfo": "name",
         "hovertemplate": "Normal_PAC_v4<br> G = 800.0 W<br> T_amb = 25.0 °C<br> u = 13.89 m/s",
         "marker": {
          "color": "rgb(4, 200, 182)"
         },
         "mode": "markers",
         "name": "",
         "showlegend": false,
         "type": "scatter",
         "x": [
          5.3748047615807195
         ],
         "y": [
          -120.88788598625784
         ]
        },
        {
         "hoverinfo": "name",
         "hovertemplate": "Defavorable_CESIFroid_v1<br> G = 300.0 W<br> T_amb = 6.0 °C<br> u = 0.00 m/s",
         "marker": {
          "color": "rgb(219, 145, 84)"
         },
         "mode": "markers",
         "name": "",
         "showlegend": false,
         "type": "scatter",
         "x": [
          -11.459792282525598
         ],
         "y": [
          -840.8246907316747
         ]
        },
        {
         "hoverinfo": "name",
         "hovertemplate": "Defavorable_CESIFroid_v2<br> G = 300.0 W<br> T_amb = 6.0 °C<br> u = 4.17 m/s",
         "marker": {
          "color": "rgb(68, 51, 171)"
         },
         "mode": "markers",
         "name": "",
         "showlegend": false,
         "type": "scatter",
         "x": [
          -11.200607083124112
         ],
         "y": [
          -919.9191692023799
         ]
        },
        {
         "hoverinfo": "name",
         "hovertemplate": "Defavorable_CESIFroid_v3<br> G = 300.0 W<br> T_amb = 6.0 °C<br> u = 8.33 m/s",
         "marker": {
          "color": "rgb(151, 32, 168)"
         },
         "mode": "markers",
         "name": "",
         "showlegend": false,
         "type": "scatter",
         "x": [
          -10.826246225383272
         ],
         "y": [
          -1031.8216405067553
         ]
        },
        {
         "hoverinfo": "name",
         "hovertemplate": "Defavorable_CESIFroid_v4<br> G = 300.0 W<br> T_amb = 6.0 °C<br> u = 13.89 m/s",
         "marker": {
          "color": "rgb(4, 200, 182)"
         },
         "mode": "markers",
         "name": "",
         "showlegend": false,
         "type": "scatter",
         "x": [
          -10.487853958676283
         ],
         "y": [
          -1130.5402562512204
         ]
        },
        {
         "hoverinfo": "name",
         "hovertemplate": "Defavorable_CESIChaud_v1<br> G = 300.0 W<br> T_amb = 6.0 °C<br> u = 0.00 m/s",
         "marker": {
          "color": "rgb(219, 145, 84)"
         },
         "mode": "markers",
         "name": "",
         "showlegend": false,
         "type": "scatter",
         "x": [
          -27.370427982403044
         ],
         "y": [
          -2214.7522095346803
         ]
        },
        {
         "hoverinfo": "name",
         "hovertemplate": "Defavorable_CESIChaud_v2<br> G = 300.0 W<br> T_amb = 6.0 °C<br> u = 4.17 m/s",
         "marker": {
          "color": "rgb(68, 51, 171)"
         },
         "mode": "markers",
         "name": "",
         "showlegend": false,
         "type": "scatter",
         "x": [
          -26.922429855157986
         ],
         "y": [
          -2351.038385998763
         ]
        },
        {
         "hoverinfo": "name",
         "hovertemplate": "Defavorable_CESIChaud_v3<br> G = 300.0 W<br> T_amb = 6.0 °C<br> u = 8.33 m/s",
         "marker": {
          "color": "rgb(151, 32, 168)"
         },
         "mode": "markers",
         "name": "",
         "showlegend": false,
         "type": "scatter",
         "x": [
          -26.108911485227395
         ],
         "y": [
          -2593.9020564117404
         ]
        },
        {
         "hoverinfo": "name",
         "hovertemplate": "Defavorable_CESIChaud_v4<br> G = 300.0 W<br> T_amb = 6.0 °C<br> u = 13.89 m/s",
         "marker": {
          "color": "rgb(4, 200, 182)"
         },
         "mode": "markers",
         "name": "",
         "showlegend": false,
         "type": "scatter",
         "x": [
          -25.365031006866957
         ],
         "y": [
          -2810.667845617806
         ]
        },
        {
         "hoverinfo": "name",
         "hovertemplate": "Defavorable_Regeneration_v1<br> G = 300.0 W<br> T_amb = 6.0 °C<br> u = 0.00 m/s",
         "marker": {
          "color": "rgb(219, 145, 84)"
         },
         "mode": "markers",
         "name": "",
         "showlegend": false,
         "type": "scatter",
         "x": [
          -3.355370982455611
         ],
         "y": [
          -212.5897802416469
         ]
        },
        {
         "hoverinfo": "name",
         "hovertemplate": "Defavorable_Regeneration_v2<br> G = 300.0 W<br> T_amb = 6.0 °C<br> u = 4.17 m/s",
         "marker": {
          "color": "rgb(68, 51, 171)"
         },
         "mode": "markers",
         "name": "",
         "showlegend": false,
         "type": "scatter",
         "x": [
          -3.2439570567956366
         ],
         "y": [
          -247.16815901773336
         ]
        },
        {
         "hoverinfo": "name",
         "hovertemplate": "Defavorable_Regeneration_v3<br> G = 300.0 W<br> T_amb = 6.0 °C<br> u = 8.33 m/s",
         "marker": {
          "color": "rgb(151, 32, 168)"
         },
         "mode": "markers",
         "name": "",
         "showlegend": false,
         "type": "scatter",
         "x": [
          -3.1084657672819844
         ],
         "y": [
          -288.3107129308968
         ]
        },
        {
         "hoverinfo": "name",
         "hovertemplate": "Defavorable_Regeneration_v4<br> G = 300.0 W<br> T_amb = 6.0 °C<br> u = 13.89 m/s",
         "marker": {
          "color": "rgb(4, 200, 182)"
         },
         "mode": "markers",
         "name": "",
         "showlegend": false,
         "type": "scatter",
         "x": [
          -2.986741634173825
         ],
         "y": [
          -324.401766800546
         ]
        },
        {
         "hoverinfo": "name",
         "hovertemplate": "Defavorable_PAC_v1<br> G = 300.0 W<br> T_amb = 6.0 °C<br> u = 0.00 m/s",
         "marker": {
          "color": "rgb(219, 145, 84)"
         },
         "mode": "markers",
         "name": "",
         "showlegend": false,
         "type": "scatter",
         "x": [
          2.416620032445053
         ],
         "y": [
          192.1931897936829
         ]
        },
        {
         "hoverinfo": "name",
         "hovertemplate": "Defavorable_PAC_v2<br> G = 300.0 W<br> T_amb = 6.0 °C<br> u = 4.17 m/s",
         "marker": {
          "color": "rgb(68, 51, 171)"
         },
         "mode": "markers",
         "name": "",
         "showlegend": false,
         "type": "scatter",
         "x": [
          2.3747343908799508
         ],
         "y": [
          203.7774049549152
         ]
        },
        {
         "hoverinfo": "name",
         "hovertemplate": "Defavorable_PAC_v3<br> G = 300.0 W<br> T_amb = 6.0 °C<br> u = 8.33 m/s",
         "marker": {
          "color": "rgb(151, 32, 168)"
         },
         "mode": "markers",
         "name": "",
         "showlegend": false,
         "type": "scatter",
         "x": [
          2.3331155551223333
         ],
         "y": [
          214.94673919453828
         ]
        },
        {
         "hoverinfo": "name",
         "hovertemplate": "Defavorable_PAC_v4<br> G = 300.0 W<br> T_amb = 6.0 °C<br> u = 13.89 m/s",
         "marker": {
          "color": "rgb(4, 200, 182)"
         },
         "mode": "markers",
         "name": "",
         "showlegend": false,
         "type": "scatter",
         "x": [
          2.296005216520143
         ],
         "y": [
          224.61016084350055
         ]
        },
        {
         "hoverinfo": "name",
         "hovertemplate": "Favorable_CESIFroid_v1<br> G = 1000.0 W<br> T_amb = 30.0 °C<br> u = 0.00 m/s",
         "marker": {
          "color": "rgb(219, 145, 84)"
         },
         "mode": "markers",
         "name": "",
         "showlegend": false,
         "type": "scatter",
         "x": [
          10.08155944858612
         ],
         "y": [
          -27.06522486133999
         ]
        },
        {
         "hoverinfo": "name",
         "hovertemplate": "Favorable_CESIFroid_v2<br> G = 1000.0 W<br> T_amb = 30.0 °C<br> u = 4.17 m/s",
         "marker": {
          "color": "rgb(68, 51, 171)"
         },
         "mode": "markers",
         "name": "",
         "showlegend": false,
         "type": "scatter",
         "x": [
          9.878807929085383
         ],
         "y": [
          39.88577241190857
         ]
        },
        {
         "hoverinfo": "name",
         "hovertemplate": "Favorable_CESIFroid_v3<br> G = 1000.0 W<br> T_amb = 30.0 °C<br> u = 8.33 m/s",
         "marker": {
          "color": "rgb(151, 32, 168)"
         },
         "mode": "markers",
         "name": "",
         "showlegend": false,
         "type": "scatter",
         "x": [
          9.634227107545428
         ],
         "y": [
          119.16215713404526
         ]
        },
        {
         "hoverinfo": "name",
         "hovertemplate": "Favorable_CESIFroid_v4<br> G = 1000.0 W<br> T_amb = 30.0 °C<br> u = 13.89 m/s",
         "marker": {
          "color": "rgb(4, 200, 182)"
         },
         "mode": "markers",
         "name": "",
         "showlegend": false,
         "type": "scatter",
         "x": [
          9.411949051794863
         ],
         "y": [
          189.77833635187892
         ]
        },
        {
         "hoverinfo": "name",
         "hovertemplate": "Favorable_CESIChaud_v1<br> G = 1000.0 W<br> T_amb = 30.0 °C<br> u = 0.00 m/s",
         "marker": {
          "color": "rgb(219, 145, 84)"
         },
         "mode": "markers",
         "name": "",
         "showlegend": false,
         "type": "scatter",
         "x": [
          -5.864605645974848
         ],
         "y": [
          -1385.291447739665
         ]
        },
        {
         "hoverinfo": "name",
         "hovertemplate": "Favorable_CESIChaud_v2<br> G = 1000.0 W<br> T_amb = 30.0 °C<br> u = 4.17 m/s",
         "marker": {
          "color": "rgb(68, 51, 171)"
         },
         "mode": "markers",
         "name": "",
         "showlegend": false,
         "type": "scatter",
         "x": [
          -5.729237592890684
         ],
         "y": [
          -1420.906581706571
         ]
        },
        {
         "hoverinfo": "name",
         "hovertemplate": "Favorable_CESIChaud_v3<br> G = 1000.0 W<br> T_amb = 30.0 °C<br> u = 8.33 m/s",
         "marker": {
          "color": "rgb(151, 32, 168)"
         },
         "mode": "markers",
         "name": "",
         "showlegend": false,
         "type": "scatter",
         "x": [
          -5.535499341320303
         ],
         "y": [
          -1470.6451182927667
         ]
        },
        {
         "hoverinfo": "name",
         "hovertemplate": "Favorable_CESIChaud_v4<br> G = 1000.0 W<br> T_amb = 30.0 °C<br> u = 13.89 m/s",
         "marker": {
          "color": "rgb(4, 200, 182)"
         },
         "mode": "markers",
         "name": "",
         "showlegend": false,
         "type": "scatter",
         "x": [
          -5.358241642565758
         ],
         "y": [
          -1514.8540226964822
         ]
        },
        {
         "hoverinfo": "name",
         "hovertemplate": "Favorable_Regeneration_v1<br> G = 1000.0 W<br> T_amb = 30.0 °C<br> u = 0.00 m/s",
         "marker": {
          "color": "rgb(219, 145, 84)"
         },
         "mode": "markers",
         "name": "",
         "showlegend": false,
         "type": "scatter",
         "x": [
          18.161100521221044
         ],
         "y": [
          606.9181657879706
         ]
        },
        {
         "hoverinfo": "name",
         "hovertemplate": "Favorable_Regeneration_v2<br> G = 1000.0 W<br> T_amb = 30.0 °C<br> u = 4.17 m/s",
         "marker": {
          "color": "rgb(68, 51, 171)"
         },
         "mode": "markers",
         "name": "",
         "showlegend": false,
         "type": "scatter",
         "x": [
          17.770172686604212
         ],
         "y": [
          729.9283249773829
         ]
        },
        {
         "hoverinfo": "name",
         "hovertemplate": "Favorable_Regeneration_v3<br> G = 1000.0 W<br> T_amb = 30.0 °C<br> u = 8.33 m/s",
         "marker": {
          "color": "rgb(151, 32, 168)"
         },
         "mode": "markers",
         "name": "",
         "showlegend": false,
         "type": "scatter",
         "x": [
          17.28780916959397
         ],
         "y": [
          878.709983334067
         ]
        },
        {
         "hoverinfo": "name",
         "hovertemplate": "Favorable_Regeneration_v4<br> G = 1000.0 W<br> T_amb = 30.0 °C<br> u = 13.89 m/s",
         "marker": {
          "color": "rgb(4, 200, 182)"
         },
         "mode": "markers",
         "name": "",
         "showlegend": false,
         "type": "scatter",
         "x": [
          16.85247290116166
         ],
         "y": [
          1010.0931296804644
         ]
        },
        {
         "hoverinfo": "name",
         "hovertemplate": "Favorable_PAC_v1<br> G = 1000.0 W<br> T_amb = 30.0 °C<br> u = 0.00 m/s",
         "marker": {
          "color": "rgb(219, 145, 84)"
         },
         "mode": "markers",
         "name": "",
         "showlegend": false,
         "type": "scatter",
         "x": [
          8.47375399465426
         ],
         "y": [
          -157.39162079178206
         ]
        },
        {
         "hoverinfo": "name",
         "hovertemplate": "Favorable_PAC_v2<br> G = 1000.0 W<br> T_amb = 30.0 °C<br> u = 4.17 m/s",
         "marker": {
          "color": "rgb(68, 51, 171)"
         },
         "mode": "markers",
         "name": "",
         "showlegend": false,
         "type": "scatter",
         "x": [
          8.307869324648493
         ],
         "y": [
          -101.4336497656386
         ]
        },
        {
         "hoverinfo": "name",
         "hovertemplate": "Favorable_PAC_v3<br> G = 1000.0 W<br> T_amb = 30.0 °C<br> u = 8.33 m/s",
         "marker": {
          "color": "rgb(151, 32, 168)"
         },
         "mode": "markers",
         "name": "",
         "showlegend": false,
         "type": "scatter",
         "x": [
          8.109234046864856
         ],
         "y": [
          -35.62603512601618
         ]
        },
        {
         "hoverinfo": "name",
         "hovertemplate": "Favorable_PAC_v4<br> G = 1000.0 W<br> T_amb = 30.0 °C<br> u = 13.89 m/s",
         "marker": {
          "color": "rgb(4, 200, 182)"
         },
         "mode": "markers",
         "name": "",
         "showlegend": false,
         "type": "scatter",
         "x": [
          7.928426772066928
         ],
         "y": [
          23.124419451657122
         ]
        },
        {
         "hoverinfo": "name",
         "hovertemplate": "TresDefavorable_CESIFroid_v1<br> G = 0.0 W<br> T_amb = -6.0 °C<br> u = 0.00 m/s",
         "marker": {
          "color": "rgb(219, 145, 84)"
         },
         "mode": "markers",
         "name": "",
         "showlegend": false,
         "type": "scatter",
         "x": [
          -22.27345283746763
         ],
         "y": [
          -1231.9638114825664
         ]
        },
        {
         "hoverinfo": "name",
         "hovertemplate": "TresDefavorable_CESIFroid_v2<br> G = 0.0 W<br> T_amb = -6.0 °C<br> u = 4.17 m/s",
         "marker": {
          "color": "rgb(68, 51, 171)"
         },
         "mode": "markers",
         "name": "",
         "showlegend": false,
         "type": "scatter",
         "x": [
          -21.825277171936875
         ],
         "y": [
          -1370.882480957609
         ]
        },
        {
         "hoverinfo": "name",
         "hovertemplate": "TresDefavorable_CESIFroid_v3<br> G = 0.0 W<br> T_amb = -6.0 °C<br> u = 8.33 m/s",
         "marker": {
          "color": "rgb(151, 32, 168)"
         },
         "mode": "markers",
         "name": "",
         "showlegend": false,
         "type": "scatter",
         "x": [
          -21.108769069774098
         ],
         "y": [
          -1588.6050934262462
         ]
        },
        {
         "hoverinfo": "name",
         "hovertemplate": "TresDefavorable_CESIFroid_v4<br> G = 0.0 W<br> T_amb = -6.0 °C<br> u = 13.89 m/s",
         "marker": {
          "color": "rgb(4, 200, 182)"
         },
         "mode": "markers",
         "name": "",
         "showlegend": false,
         "type": "scatter",
         "x": [
          -20.462088137276055
         ],
         "y": [
          -1780.3864655427471
         ]
        },
        {
         "hoverinfo": "name",
         "hovertemplate": "TresDefavorable_CESIChaud_v1<br> G = 0.0 W<br> T_amb = -6.0 °C<br> u = 0.00 m/s",
         "marker": {
          "color": "rgb(219, 145, 84)"
         },
         "mode": "markers",
         "name": "",
         "showlegend": false,
         "type": "scatter",
         "x": [
          -38.19810683513748
         ],
         "y": [
          -2603.7919811221777
         ]
        },
        {
         "hoverinfo": "name",
         "hovertemplate": "TresDefavorable_CESIChaud_v2<br> G = 0.0 W<br> T_amb = -6.0 °C<br> u = 4.17 m/s",
         "marker": {
          "color": "rgb(68, 51, 171)"
         },
         "mode": "markers",
         "name": "",
         "showlegend": false,
         "type": "scatter",
         "x": [
          -37.60237860724925
         ],
         "y": [
          -2787.3455809265856
         ]
        },
        {
         "hoverinfo": "name",
         "hovertemplate": "TresDefavorable_CESIChaud_v3<br> G = 0.0 W<br> T_amb = -6.0 °C<br> u = 8.33 m/s",
         "marker": {
          "color": "rgb(151, 32, 168)"
         },
         "mode": "markers",
         "name": "",
         "showlegend": false,
         "type": "scatter",
         "x": [
          -36.448006649441595
         ],
         "y": [
          -3136.480291720947
         ]
        },
        {
         "hoverinfo": "name",
         "hovertemplate": "TresDefavorable_CESIChaud_v4<br> G = 0.0 W<br> T_amb = -6.0 °C<br> u = 13.89 m/s",
         "marker": {
          "color": "rgb(4, 200, 182)"
         },
         "mode": "markers",
         "name": "",
         "showlegend": false,
         "type": "scatter",
         "x": [
          -35.39379569034554
         ],
         "y": [
          -3447.631362539306
         ]
        },
        {
         "hoverinfo": "name",
         "hovertemplate": "TresDefavorable_Regeneration_v1<br> G = 0.0 W<br> T_amb = -6.0 °C<br> u = 0.00 m/s",
         "marker": {
          "color": "rgb(219, 145, 84)"
         },
         "mode": "markers",
         "name": "",
         "showlegend": false,
         "type": "scatter",
         "x": [
          -14.171328836725252
         ],
         "y": [
          -602.0877775544191
         ]
        },
        {
         "hoverinfo": "name",
         "hovertemplate": "TresDefavorable_Regeneration_v2<br> G = 0.0 W<br> T_amb = -6.0 °C<br> u = 4.17 m/s",
         "marker": {
          "color": "rgb(68, 51, 171)"
         },
         "mode": "markers",
         "name": "",
         "showlegend": false,
         "type": "scatter",
         "x": [
          -13.835414988584205
         ],
         "y": [
          -707.2916336689099
         ]
        },
        {
         "hoverinfo": "name",
         "hovertemplate": "TresDefavorable_Regeneration_v3<br> G = 0.0 W<br> T_amb = -6.0 °C<br> u = 8.33 m/s",
         "marker": {
          "color": "rgb(151, 32, 168)"
         },
         "mode": "markers",
         "name": "",
         "showlegend": false,
         "type": "scatter",
         "x": [
          -13.356727725172732
         ],
         "y": [
          -854.1664534348504
         ]
        },
        {
         "hoverinfo": "name",
         "hovertemplate": "TresDefavorable_Regeneration_v4<br> G = 0.0 W<br> T_amb = -6.0 °C<br> u = 13.89 m/s",
         "marker": {
          "color": "rgb(4, 200, 182)"
         },
         "mode": "markers",
         "name": "",
         "showlegend": false,
         "type": "scatter",
         "x": [
          -12.927385793137091
         ],
         "y": [
          -982.7808891853902
         ]
        },
        {
         "hoverinfo": "name",
         "hovertemplate": "TresDefavorable_PAC_v1<br> G = 0.0 W<br> T_amb = -6.0 °C<br> u = 0.00 m/s",
         "marker": {
          "color": "rgb(219, 145, 84)"
         },
         "mode": "markers",
         "name": "",
         "showlegend": false,
         "type": "scatter",
         "x": [
          1.4556978918511163
         ],
         "y": [
          501.2003661178012
         ]
        },
        {
         "hoverinfo": "name",
         "hovertemplate": "TresDefavorable_PAC_v2<br> G = 0.0 W<br> T_amb = -6.0 °C<br> u = 4.17 m/s",
         "marker": {
          "color": "rgb(68, 51, 171)"
         },
         "mode": "markers",
         "name": "",
         "showlegend": false,
         "type": "scatter",
         "x": [
          1.4393672477708606
         ],
         "y": [
          500.50730358676606
         ]
        },
        {
         "hoverinfo": "name",
         "hovertemplate": "TresDefavorable_PAC_v3<br> G = 0.0 W<br> T_amb = -6.0 °C<br> u = 8.33 m/s",
         "marker": {
          "color": "rgb(151, 32, 168)"
         },
         "mode": "markers",
         "name": "",
         "showlegend": false,
         "type": "scatter",
         "x": [
          1.4252180823008302
         ],
         "y": [
          499.5792838293222
         ]
        },
        {
         "hoverinfo": "name",
         "hovertemplate": "TresDefavorable_PAC_v4<br> G = 0.0 W<br> T_amb = -6.0 °C<br> u = 13.89 m/s",
         "marker": {
          "color": "rgb(4, 200, 182)"
         },
         "mode": "markers",
         "name": "",
         "showlegend": false,
         "type": "scatter",
         "x": [
          1.4129026493141055
         ],
         "y": [
          498.4988128084314
         ]
        }
       ],
       "layout": {
        "template": {
         "data": {
          "bar": [
           {
            "error_x": {
             "color": "#2a3f5f"
            },
            "error_y": {
             "color": "#2a3f5f"
            },
            "marker": {
             "line": {
              "color": "#E5ECF6",
              "width": 0.5
             },
             "pattern": {
              "fillmode": "overlay",
              "size": 10,
              "solidity": 0.2
             }
            },
            "type": "bar"
           }
          ],
          "barpolar": [
           {
            "marker": {
             "line": {
              "color": "#E5ECF6",
              "width": 0.5
             },
             "pattern": {
              "fillmode": "overlay",
              "size": 10,
              "solidity": 0.2
             }
            },
            "type": "barpolar"
           }
          ],
          "carpet": [
           {
            "aaxis": {
             "endlinecolor": "#2a3f5f",
             "gridcolor": "white",
             "linecolor": "white",
             "minorgridcolor": "white",
             "startlinecolor": "#2a3f5f"
            },
            "baxis": {
             "endlinecolor": "#2a3f5f",
             "gridcolor": "white",
             "linecolor": "white",
             "minorgridcolor": "white",
             "startlinecolor": "#2a3f5f"
            },
            "type": "carpet"
           }
          ],
          "choropleth": [
           {
            "colorbar": {
             "outlinewidth": 0,
             "ticks": ""
            },
            "type": "choropleth"
           }
          ],
          "contour": [
           {
            "colorbar": {
             "outlinewidth": 0,
             "ticks": ""
            },
            "colorscale": [
             [
              0,
              "#0d0887"
             ],
             [
              0.1111111111111111,
              "#46039f"
             ],
             [
              0.2222222222222222,
              "#7201a8"
             ],
             [
              0.3333333333333333,
              "#9c179e"
             ],
             [
              0.4444444444444444,
              "#bd3786"
             ],
             [
              0.5555555555555556,
              "#d8576b"
             ],
             [
              0.6666666666666666,
              "#ed7953"
             ],
             [
              0.7777777777777778,
              "#fb9f3a"
             ],
             [
              0.8888888888888888,
              "#fdca26"
             ],
             [
              1,
              "#f0f921"
             ]
            ],
            "type": "contour"
           }
          ],
          "contourcarpet": [
           {
            "colorbar": {
             "outlinewidth": 0,
             "ticks": ""
            },
            "type": "contourcarpet"
           }
          ],
          "heatmap": [
           {
            "colorbar": {
             "outlinewidth": 0,
             "ticks": ""
            },
            "colorscale": [
             [
              0,
              "#0d0887"
             ],
             [
              0.1111111111111111,
              "#46039f"
             ],
             [
              0.2222222222222222,
              "#7201a8"
             ],
             [
              0.3333333333333333,
              "#9c179e"
             ],
             [
              0.4444444444444444,
              "#bd3786"
             ],
             [
              0.5555555555555556,
              "#d8576b"
             ],
             [
              0.6666666666666666,
              "#ed7953"
             ],
             [
              0.7777777777777778,
              "#fb9f3a"
             ],
             [
              0.8888888888888888,
              "#fdca26"
             ],
             [
              1,
              "#f0f921"
             ]
            ],
            "type": "heatmap"
           }
          ],
          "heatmapgl": [
           {
            "colorbar": {
             "outlinewidth": 0,
             "ticks": ""
            },
            "colorscale": [
             [
              0,
              "#0d0887"
             ],
             [
              0.1111111111111111,
              "#46039f"
             ],
             [
              0.2222222222222222,
              "#7201a8"
             ],
             [
              0.3333333333333333,
              "#9c179e"
             ],
             [
              0.4444444444444444,
              "#bd3786"
             ],
             [
              0.5555555555555556,
              "#d8576b"
             ],
             [
              0.6666666666666666,
              "#ed7953"
             ],
             [
              0.7777777777777778,
              "#fb9f3a"
             ],
             [
              0.8888888888888888,
              "#fdca26"
             ],
             [
              1,
              "#f0f921"
             ]
            ],
            "type": "heatmapgl"
           }
          ],
          "histogram": [
           {
            "marker": {
             "pattern": {
              "fillmode": "overlay",
              "size": 10,
              "solidity": 0.2
             }
            },
            "type": "histogram"
           }
          ],
          "histogram2d": [
           {
            "colorbar": {
             "outlinewidth": 0,
             "ticks": ""
            },
            "colorscale": [
             [
              0,
              "#0d0887"
             ],
             [
              0.1111111111111111,
              "#46039f"
             ],
             [
              0.2222222222222222,
              "#7201a8"
             ],
             [
              0.3333333333333333,
              "#9c179e"
             ],
             [
              0.4444444444444444,
              "#bd3786"
             ],
             [
              0.5555555555555556,
              "#d8576b"
             ],
             [
              0.6666666666666666,
              "#ed7953"
             ],
             [
              0.7777777777777778,
              "#fb9f3a"
             ],
             [
              0.8888888888888888,
              "#fdca26"
             ],
             [
              1,
              "#f0f921"
             ]
            ],
            "type": "histogram2d"
           }
          ],
          "histogram2dcontour": [
           {
            "colorbar": {
             "outlinewidth": 0,
             "ticks": ""
            },
            "colorscale": [
             [
              0,
              "#0d0887"
             ],
             [
              0.1111111111111111,
              "#46039f"
             ],
             [
              0.2222222222222222,
              "#7201a8"
             ],
             [
              0.3333333333333333,
              "#9c179e"
             ],
             [
              0.4444444444444444,
              "#bd3786"
             ],
             [
              0.5555555555555556,
              "#d8576b"
             ],
             [
              0.6666666666666666,
              "#ed7953"
             ],
             [
              0.7777777777777778,
              "#fb9f3a"
             ],
             [
              0.8888888888888888,
              "#fdca26"
             ],
             [
              1,
              "#f0f921"
             ]
            ],
            "type": "histogram2dcontour"
           }
          ],
          "mesh3d": [
           {
            "colorbar": {
             "outlinewidth": 0,
             "ticks": ""
            },
            "type": "mesh3d"
           }
          ],
          "parcoords": [
           {
            "line": {
             "colorbar": {
              "outlinewidth": 0,
              "ticks": ""
             }
            },
            "type": "parcoords"
           }
          ],
          "pie": [
           {
            "automargin": true,
            "type": "pie"
           }
          ],
          "scatter": [
           {
            "fillpattern": {
             "fillmode": "overlay",
             "size": 10,
             "solidity": 0.2
            },
            "type": "scatter"
           }
          ],
          "scatter3d": [
           {
            "line": {
             "colorbar": {
              "outlinewidth": 0,
              "ticks": ""
             }
            },
            "marker": {
             "colorbar": {
              "outlinewidth": 0,
              "ticks": ""
             }
            },
            "type": "scatter3d"
           }
          ],
          "scattercarpet": [
           {
            "marker": {
             "colorbar": {
              "outlinewidth": 0,
              "ticks": ""
             }
            },
            "type": "scattercarpet"
           }
          ],
          "scattergeo": [
           {
            "marker": {
             "colorbar": {
              "outlinewidth": 0,
              "ticks": ""
             }
            },
            "type": "scattergeo"
           }
          ],
          "scattergl": [
           {
            "marker": {
             "colorbar": {
              "outlinewidth": 0,
              "ticks": ""
             }
            },
            "type": "scattergl"
           }
          ],
          "scattermapbox": [
           {
            "marker": {
             "colorbar": {
              "outlinewidth": 0,
              "ticks": ""
             }
            },
            "type": "scattermapbox"
           }
          ],
          "scatterpolar": [
           {
            "marker": {
             "colorbar": {
              "outlinewidth": 0,
              "ticks": ""
             }
            },
            "type": "scatterpolar"
           }
          ],
          "scatterpolargl": [
           {
            "marker": {
             "colorbar": {
              "outlinewidth": 0,
              "ticks": ""
             }
            },
            "type": "scatterpolargl"
           }
          ],
          "scatterternary": [
           {
            "marker": {
             "colorbar": {
              "outlinewidth": 0,
              "ticks": ""
             }
            },
            "type": "scatterternary"
           }
          ],
          "surface": [
           {
            "colorbar": {
             "outlinewidth": 0,
             "ticks": ""
            },
            "colorscale": [
             [
              0,
              "#0d0887"
             ],
             [
              0.1111111111111111,
              "#46039f"
             ],
             [
              0.2222222222222222,
              "#7201a8"
             ],
             [
              0.3333333333333333,
              "#9c179e"
             ],
             [
              0.4444444444444444,
              "#bd3786"
             ],
             [
              0.5555555555555556,
              "#d8576b"
             ],
             [
              0.6666666666666666,
              "#ed7953"
             ],
             [
              0.7777777777777778,
              "#fb9f3a"
             ],
             [
              0.8888888888888888,
              "#fdca26"
             ],
             [
              1,
              "#f0f921"
             ]
            ],
            "type": "surface"
           }
          ],
          "table": [
           {
            "cells": {
             "fill": {
              "color": "#EBF0F8"
             },
             "line": {
              "color": "white"
             }
            },
            "header": {
             "fill": {
              "color": "#C8D4E3"
             },
             "line": {
              "color": "white"
             }
            },
            "type": "table"
           }
          ]
         },
         "layout": {
          "annotationdefaults": {
           "arrowcolor": "#2a3f5f",
           "arrowhead": 0,
           "arrowwidth": 1
          },
          "autotypenumbers": "strict",
          "coloraxis": {
           "colorbar": {
            "outlinewidth": 0,
            "ticks": ""
           }
          },
          "colorscale": {
           "diverging": [
            [
             0,
             "#8e0152"
            ],
            [
             0.1,
             "#c51b7d"
            ],
            [
             0.2,
             "#de77ae"
            ],
            [
             0.3,
             "#f1b6da"
            ],
            [
             0.4,
             "#fde0ef"
            ],
            [
             0.5,
             "#f7f7f7"
            ],
            [
             0.6,
             "#e6f5d0"
            ],
            [
             0.7,
             "#b8e186"
            ],
            [
             0.8,
             "#7fbc41"
            ],
            [
             0.9,
             "#4d9221"
            ],
            [
             1,
             "#276419"
            ]
           ],
           "sequential": [
            [
             0,
             "#0d0887"
            ],
            [
             0.1111111111111111,
             "#46039f"
            ],
            [
             0.2222222222222222,
             "#7201a8"
            ],
            [
             0.3333333333333333,
             "#9c179e"
            ],
            [
             0.4444444444444444,
             "#bd3786"
            ],
            [
             0.5555555555555556,
             "#d8576b"
            ],
            [
             0.6666666666666666,
             "#ed7953"
            ],
            [
             0.7777777777777778,
             "#fb9f3a"
            ],
            [
             0.8888888888888888,
             "#fdca26"
            ],
            [
             1,
             "#f0f921"
            ]
           ],
           "sequentialminus": [
            [
             0,
             "#0d0887"
            ],
            [
             0.1111111111111111,
             "#46039f"
            ],
            [
             0.2222222222222222,
             "#7201a8"
            ],
            [
             0.3333333333333333,
             "#9c179e"
            ],
            [
             0.4444444444444444,
             "#bd3786"
            ],
            [
             0.5555555555555556,
             "#d8576b"
            ],
            [
             0.6666666666666666,
             "#ed7953"
            ],
            [
             0.7777777777777778,
             "#fb9f3a"
            ],
            [
             0.8888888888888888,
             "#fdca26"
            ],
            [
             1,
             "#f0f921"
            ]
           ]
          },
          "colorway": [
           "#636efa",
           "#EF553B",
           "#00cc96",
           "#ab63fa",
           "#FFA15A",
           "#19d3f3",
           "#FF6692",
           "#B6E880",
           "#FF97FF",
           "#FECB52"
          ],
          "font": {
           "color": "#2a3f5f"
          },
          "geo": {
           "bgcolor": "white",
           "lakecolor": "white",
           "landcolor": "#E5ECF6",
           "showlakes": true,
           "showland": true,
           "subunitcolor": "white"
          },
          "hoverlabel": {
           "align": "left"
          },
          "hovermode": "closest",
          "mapbox": {
           "style": "light"
          },
          "paper_bgcolor": "white",
          "plot_bgcolor": "#E5ECF6",
          "polar": {
           "angularaxis": {
            "gridcolor": "white",
            "linecolor": "white",
            "ticks": ""
           },
           "bgcolor": "#E5ECF6",
           "radialaxis": {
            "gridcolor": "white",
            "linecolor": "white",
            "ticks": ""
           }
          },
          "scene": {
           "xaxis": {
            "backgroundcolor": "#E5ECF6",
            "gridcolor": "white",
            "gridwidth": 2,
            "linecolor": "white",
            "showbackground": true,
            "ticks": "",
            "zerolinecolor": "white"
           },
           "yaxis": {
            "backgroundcolor": "#E5ECF6",
            "gridcolor": "white",
            "gridwidth": 2,
            "linecolor": "white",
            "showbackground": true,
            "ticks": "",
            "zerolinecolor": "white"
           },
           "zaxis": {
            "backgroundcolor": "#E5ECF6",
            "gridcolor": "white",
            "gridwidth": 2,
            "linecolor": "white",
            "showbackground": true,
            "ticks": "",
            "zerolinecolor": "white"
           }
          },
          "shapedefaults": {
           "line": {
            "color": "#2a3f5f"
           }
          },
          "ternary": {
           "aaxis": {
            "gridcolor": "white",
            "linecolor": "white",
            "ticks": ""
           },
           "baxis": {
            "gridcolor": "white",
            "linecolor": "white",
            "ticks": ""
           },
           "bgcolor": "#E5ECF6",
           "caxis": {
            "gridcolor": "white",
            "linecolor": "white",
            "ticks": ""
           }
          },
          "title": {
           "x": 0.05
          },
          "xaxis": {
           "automargin": true,
           "gridcolor": "white",
           "linecolor": "white",
           "ticks": "",
           "title": {
            "standoff": 15
           },
           "zerolinecolor": "white",
           "zerolinewidth": 2
          },
          "yaxis": {
           "automargin": true,
           "gridcolor": "white",
           "linecolor": "white",
           "ticks": "",
           "title": {
            "standoff": 15
           },
           "zerolinecolor": "white",
           "zerolinewidth": 2
          }
         }
        },
        "title": {
         "text": "Flux de chaleur du tube vers le fluide en fonction de la différence de température"
        },
        "xaxis": {
         "title": {
          "text": "Différence entre la température ambiante et celle du fluide"
         }
        },
        "yaxis": {
         "title": {
          "text": "Flux de chaleur"
         }
        }
       }
      }
     },
     "metadata": {},
     "output_type": "display_data"
    }
   ],
   "source": [
    "#Graph Qdot_tube_fluid = fct(Delta_T)\n",
    "\n",
    "# nb_cases = len(stepConditions) #idem ça sert à rien de le redéclarer\n",
    "\n",
    "Qdot_tube_fluid_list = np.zeros(nb_cases)\n",
    "DT_list = np.zeros(nb_cases)\n",
    "u_list = np.zeros(nb_cases)\n",
    "G_list = np.zeros(nb_cases)\n",
    "T_amb_list = np.zeros(nb_cases)\n",
    "Key = nb_cases*[\"\"]\n",
    "\n",
    "for case in range(nb_cases) :\n",
    "    df_one,res = ty.simu_one_steady_state_all_he(componentSpecs,stepConditions[case],hyp)\n",
    "    Qdot_tube_fluid_list[case] = float(res['main']['df_one']['Qdot_tube_fluid'].iloc[0])\n",
    "    DT_list[case] = float(res['main']['df_one']['T_amb'].iloc[0]) - float(res['main']['df_one']['T_fluid_mean'].iloc[0])\n",
    "    u_list[case] = float(res['main']['df_one']['u'].iloc[0])\n",
    "    G_list[case] = float(res['main']['df_one']['G'].iloc[0])\n",
    "    T_amb_list[case] = float(res['main']['df_one']['T_amb'].iloc[0]) - 273.15\n",
    "    Key[case] = stepConditions[case]['Case']\n",
    "\n",
    "# Création d'une liste vide pour stocker les traces\n",
    "traces = []\n",
    "\n",
    "# Création d'un dictionnaire pour mapper chaque valeur de u à une couleur spécifique\n",
    "u_color_mapping = {}\n",
    "\n",
    "# Création de traces individuelles pour chaque nom dans Key\n",
    "for i, name in enumerate(Key):\n",
    "    # Si la valeur de u n'est pas déjà présente dans le dictionnaire, ajoutez-la avec une nouvelle couleur\n",
    "    if u_list[i] not in u_color_mapping:\n",
    "        u_color_mapping[u_list[i]] = 'rgb({}, {}, {})'.format(\n",
    "            np.random.randint(0, 255), np.random.randint(0, 255), np.random.randint(0, 255))\n",
    "      \n",
    "    trace = go.Scatter(\n",
    "        x=[DT_list[i]],  # Coordonnées x\n",
    "        y=[Qdot_tube_fluid_list[i]],  # Coordonnées y\n",
    "        mode='markers',\n",
    "        name=\"\",  # Nom de la trace\n",
    "        showlegend=False,  # Ne pas afficher la légende\n",
    "        hoverinfo='name',  # Afficher uniquement le nom de la trace au passage de la souris\n",
    "        marker=dict(color=u_color_mapping[u_list[i]]),  # Couleur des points\n",
    "        hovertemplate=name+ #Composition des étiquettes pour chaque point\n",
    "        '<br> G = '+str(G_list[i])+' W'+\n",
    "        '<br> T_amb = '+str(T_amb_list[i])+' °C'+\n",
    "        '<br> u = {:.2f}'.format(u_list[i])+' m/s'\n",
    "    )\n",
    "    traces.append(trace)\n",
    "\n",
    "\n",
    "# Création de la figure à partir des traces\n",
    "fig = go.Figure(data=traces)\n",
    "\n",
    "# Personnalisation du titre et des étiquettes\n",
    "fig.update_layout(\n",
    "    title='Flux de chaleur du tube vers le fluide en fonction de la différence de température',\n",
    "    xaxis_title='Différence entre la température ambiante et celle du fluide',\n",
    "    yaxis_title='Flux de chaleur',\n",
    ")\n",
    "\n",
    "\n",
    "fig.show()\n",
    "\n",
    "# Enregistrer le graphique en HTML\n",
    "#ProfilHTML = pio.write_html(fig, file='ProfilTemp.html', auto_open=True)"
   ]
  },
  {
   "cell_type": "code",
   "execution_count": 15,
   "metadata": {},
   "outputs": [
    {
     "ename": "NameError",
     "evalue": "name 'Key' is not defined",
     "output_type": "error",
     "traceback": [
      "\u001b[1;31m---------------------------------------------------------------------------\u001b[0m",
      "\u001b[1;31mNameError\u001b[0m                                 Traceback (most recent call last)",
      "Cell \u001b[1;32mIn[15], line 9\u001b[0m\n\u001b[0;32m      6\u001b[0m u_color_mapping \u001b[38;5;241m=\u001b[39m {}\n\u001b[0;32m      8\u001b[0m \u001b[38;5;66;03m# Création de traces individuelles pour chaque nom dans Key\u001b[39;00m\n\u001b[1;32m----> 9\u001b[0m \u001b[38;5;28;01mfor\u001b[39;00m i, name \u001b[38;5;129;01min\u001b[39;00m \u001b[38;5;28menumerate\u001b[39m(\u001b[43mKey\u001b[49m):\n\u001b[0;32m     10\u001b[0m     \u001b[38;5;66;03m# Si la valeur de u n'est pas déjà présente dans le dictionnaire, ajoutez-la avec une nouvelle couleur\u001b[39;00m\n\u001b[0;32m     11\u001b[0m     \u001b[38;5;28;01mif\u001b[39;00m u_list[i] \u001b[38;5;129;01mnot\u001b[39;00m \u001b[38;5;129;01min\u001b[39;00m u_color_mapping:\n\u001b[0;32m     12\u001b[0m         u_color_mapping[u_list[i]] \u001b[38;5;241m=\u001b[39m \u001b[38;5;124m'\u001b[39m\u001b[38;5;124mrgb(\u001b[39m\u001b[38;5;132;01m{}\u001b[39;00m\u001b[38;5;124m, \u001b[39m\u001b[38;5;132;01m{}\u001b[39;00m\u001b[38;5;124m, \u001b[39m\u001b[38;5;132;01m{}\u001b[39;00m\u001b[38;5;124m)\u001b[39m\u001b[38;5;124m'\u001b[39m\u001b[38;5;241m.\u001b[39mformat(\n\u001b[0;32m     13\u001b[0m             np\u001b[38;5;241m.\u001b[39mrandom\u001b[38;5;241m.\u001b[39mrandint(\u001b[38;5;241m0\u001b[39m, \u001b[38;5;241m255\u001b[39m), np\u001b[38;5;241m.\u001b[39mrandom\u001b[38;5;241m.\u001b[39mrandint(\u001b[38;5;241m0\u001b[39m, \u001b[38;5;241m255\u001b[39m), np\u001b[38;5;241m.\u001b[39mrandom\u001b[38;5;241m.\u001b[39mrandint(\u001b[38;5;241m0\u001b[39m, \u001b[38;5;241m255\u001b[39m))\n",
      "\u001b[1;31mNameError\u001b[0m: name 'Key' is not defined"
     ]
    }
   ],
   "source": [
    "# Création d'une liste vide pour stocker les traces\n",
    "traces = []\n",
    "legend_trace = []\n",
    "\n",
    "# Création d'un dictionnaire pour mapper chaque valeur de u à une couleur spécifique\n",
    "u_color_mapping = {}\n",
    "\n",
    "# Création de traces individuelles pour chaque nom dans Key\n",
    "for i, name in enumerate(Key):\n",
    "    # Si la valeur de u n'est pas déjà présente dans le dictionnaire, ajoutez-la avec une nouvelle couleur\n",
    "    if u_list[i] not in u_color_mapping:\n",
    "        u_color_mapping[u_list[i]] = 'rgb({}, {}, {})'.format(\n",
    "            np.random.randint(0, 255), np.random.randint(0, 255), np.random.randint(0, 255))\n",
    "      \n",
    "    trace = go.Scatter(\n",
    "        x=[DT_list[i]],  # Coordonnées x\n",
    "        y=[Qdot_tube_fluid_list[i]],  # Coordonnées y\n",
    "        mode='markers',\n",
    "        name=\"\",  # Nom de la trace\n",
    "        showlegend=False,  # Ne pas afficher la légende\n",
    "        hoverinfo='name',  # Afficher uniquement le nom de la trace au passage de la souris\n",
    "        marker=dict(color=u_color_mapping[u_list[i]]),  # Couleur des points\n",
    "        hovertemplate=name+ #Composition des étiquettes pour chaque point\n",
    "        '<br> G = '+str(G_list[i])+' W'+\n",
    "        '<br> T_amb = '+str(T_amb_list[i])+' °C'+\n",
    "        '<br> u = {:.2f}'.format(u_list[i])+' m/s'\n",
    "    )\n",
    "    traces.append(trace)\n",
    "\n",
    "\n",
    "\n",
    "# Création de la figure à partir des traces\n",
    "fig = go.Figure(data=traces)\n",
    "for i, u in enumerate(u_color_mapping[u_list[i]]) :\n",
    "    legend= go.Scatter(x=[u_color_mapping[u_list[i]]],\n",
    "                            y=[i],\n",
    "                            mode=\"markers\",\n",
    "                            line=go.scatter.Line(color=\"gray\"),\n",
    "                            marker=dict(color=u_color_mapping[u_list[i]]),\n",
    "                            showlegend=True)\n",
    "    fig.add_trace(legend)\n",
    "    legend_trace.append(legend)\n",
    "\n",
    "\n",
    "# Personnalisation du titre et des étiquettes\n",
    "fig.update_layout(\n",
    "    title='Flux de chaleur du tube vers le fluide en fonction de la différence de température',\n",
    "    xaxis_title='Différence entre la température ambiante et celle du fluide',\n",
    "    yaxis_title='Flux de chaleur',\n",
    ")\n",
    "\n",
    "\n",
    "fig.show()"
   ]
  }
 ],
 "metadata": {
  "kernelspec": {
   "display_name": "model23",
   "language": "python",
   "name": "python3"
  },
  "language_info": {
   "codemirror_mode": {
    "name": "ipython",
    "version": 3
   },
   "file_extension": ".py",
   "mimetype": "text/x-python",
   "name": "python",
   "nbconvert_exporter": "python",
   "pygments_lexer": "ipython3",
   "version": "3.12.2"
  }
 },
 "nbformat": 4,
 "nbformat_minor": 2
}
