{
 "cells": [
  {
   "cell_type": "code",
   "execution_count": null,
   "metadata": {},
   "outputs": [],
   "source": [
    "# Initialization\n",
    "\n",
    "import math\n",
    "from datetime import datetime\n",
    "import openpyxl as opxl\n",
    "from openpyxl.utils.dataframe import dataframe_to_rows\n",
    "import pandas as pd\n",
    "import numpy as np\n",
    "import matplotlib.pyplot as plt\n",
    "import model as ty\n",
    "import proc as pr\n",
    "import matplotlib.ticker as mtick\n",
    "import sklearn.metrics\n",
    "\n",
    "from IPython.core.display import HTML\n",
    "\n",
    "import heat_transfer as bht\n",
    "\n",
    "import fluids as fds\n",
    "import ht \n",
    "\n",
    "import general as gen\n",
    "\n",
    "import os\n",
    "\n",
    "import scipy.integrate as integrate\n",
    "import scipy.optimize as sco\n",
    "\n",
    "import networkx as nx\n",
    "\n",
    "import plotly.graph_objects as go\n",
    "\n",
    "import plot_functions_here as pfun"
   ]
  },
  {
   "cell_type": "code",
   "execution_count": null,
   "metadata": {},
   "outputs": [],
   "source": [
    "input_name = r'\\Inputs_TEST.xlsx'\n",
    "hyp_name = '\\Model_hypotheses.xlsx'\n",
    "data = r'\\221122_TUV_test_conditions_S425-I_MPP.xlsx'\n",
    "\n",
    "output_name = 'TEST_n1'\n",
    "\n",
    "par = pr.import_input(r'G:\\Drive partagés\\Cercle Hard\\Innovation\\PVT-perf-1Dmodel\\Inputs',input_name)\n",
    "hyp = pr.create_dict_from_excel(r'G:\\Drive partagés\\Cercle Hard\\Innovation\\PVT-perf-1Dmodel\\Hypotheses',hyp_name,'Main')\n",
    "condi = pr.create_inputs_from_excel(r'G:\\Drive partagés\\Cercle Hard\\Innovation\\PVT-perf-1Dmodel\\Steady-state conditions inputs'+data,par,hyp)"
   ]
  },
  {
   "cell_type": "code",
   "execution_count": null,
   "metadata": {},
   "outputs": [],
   "source": [
    "par_p = ty.write_par_p_from_condi(condi,0,hyp)"
   ]
  },
  {
   "cell_type": "code",
   "execution_count": null,
   "metadata": {},
   "outputs": [],
   "source": [
    "par_p"
   ]
  },
  {
   "cell_type": "code",
   "execution_count": null,
   "metadata": {},
   "outputs": [],
   "source": [
    "# slices_df,df_one,its_df_list = ty.simu_one_steady_state(par,par_p,hyp)"
   ]
  },
  {
   "cell_type": "code",
   "execution_count": null,
   "metadata": {},
   "outputs": [],
   "source": [
    "df_one,res = ty.simu_one_steady_state_all_he(par,par_p,hyp)"
   ]
  },
  {
   "cell_type": "code",
   "execution_count": null,
   "metadata": {},
   "outputs": [],
   "source": [
    "bal,bal_perc = ty.recap_energy_balances(res['inlet_man']['df_one'])\n",
    "print('inlet',bal)\n",
    "bal,bal_perc = ty.recap_energy_balances(res['exchanger']['df_one'])\n",
    "print('exchanger',bal)\n",
    "bal,bal_perc = ty.recap_energy_balances(res['outlet_man']['df_one'])\n",
    "print('outlet',bal)"
   ]
  },
  {
   "cell_type": "code",
   "execution_count": null,
   "metadata": {},
   "outputs": [],
   "source": [
    "pr.disp_html(res['inlet_man']['df_one'])"
   ]
  },
  {
   "cell_type": "code",
   "execution_count": null,
   "metadata": {},
   "outputs": [],
   "source": [
    "pfun.plot_graph(res['inlet_man']['df_one'])"
   ]
  },
  {
   "cell_type": "code",
   "execution_count": null,
   "metadata": {},
   "outputs": [],
   "source": [
    "pfun.plot_graph(res['exchanger']['df_one'])"
   ]
  },
  {
   "cell_type": "code",
   "execution_count": null,
   "metadata": {},
   "outputs": [],
   "source": [
    "import matplotlib.pyplot as plt\n",
    "import matplotlib.patches as patches\n",
    "\n",
    "def draw_diagram(W, Htube, Dtube, L, w_tube, l_plate, upper_gap, abs_gap, insulation_thickness):\n",
    "    fig, ax = plt.subplots()\n",
    "\n",
    "    # Draw the main rectangle (the outer box)\n",
    "    main_rectangle = patches.Rectangle((0, 0), W, Htube, linewidth=1, edgecolor='black', facecolor='none')\n",
    "    ax.add_patch(main_rectangle)\n",
    "\n",
    "    # Draw the tube\n",
    "    tube = patches.Rectangle((W/2 - w_tube/2, upper_gap + abs_gap), w_tube, Dtube, linewidth=1, edgecolor='black', facecolor='none')\n",
    "    ax.add_patch(tube)\n",
    "    \n",
    "    # Draw the riser plate\n",
    "    riser_plate = patches.Rectangle((W/2 - w_tube/2, upper_gap + abs_gap + Dtube), w_tube, l_plate, linewidth=1, edgecolor='black', facecolor='none')\n",
    "    ax.add_patch(riser_plate)\n",
    "    \n",
    "    # Add insulation below\n",
    "    insulation = patches.Rectangle((0, Htube - insulation_thickness), W, insulation_thickness, linewidth=1, edgecolor='black', facecolor='none')\n",
    "    ax.add_patch(insulation)\n",
    "\n",
    "    # Set the limits of the plot\n",
    "    ax.set_xlim(-10, W + 10)\n",
    "    ax.set_ylim(-10, Htube + 10)\n",
    "\n",
    "    # Set equal scaling\n",
    "    ax.set_aspect('equal')\n",
    "\n",
    "    # Remove the axes\n",
    "    ax.axis('off')\n",
    "\n",
    "    # Add dimension lines (using arrows)\n",
    "    ax.annotate(\"\", xy=(0, Htube + 5), xytext=(W, Htube + 5), arrowprops=dict(arrowstyle='<->'))\n",
    "    ax.text(W/2, Htube + 6, f\"W={W}\", ha='center')\n",
    "\n",
    "    ax.annotate(\"\", xy=(-5, 0), xytext=(-5, Htube), arrowprops=dict(arrowstyle='<->'))\n",
    "    ax.text(-6, Htube/2, f\"Htube={Htube}\", va='center', rotation='vertical')\n",
    "\n",
    "    ax.annotate(\"\", xy=(W/2 + w_tube/2 + 1, upper_gap + abs_gap), xytext=(W/2 + w_tube/2 + 1, upper_gap + abs_gap + Dtube), arrowprops=dict(arrowstyle='<->'))\n",
    "    ax.text(W/2 + w_tube/2 + 2, upper_gap + abs_gap + Dtube/2, f\"Dtube={Dtube}\", va='center', rotation='vertical')\n",
    "\n",
    "    # Save the figure\n",
    "    plt.show()\n",
    "\n",
    "\n",
    "draw_diagram(W=300, Htube=100, Dtube=30, L=150, w_tube=50, l_plate=20, upper_gap=10, abs_gap=5, insulation_thickness=10)\n"
   ]
  },
  {
   "cell_type": "code",
   "execution_count": null,
   "metadata": {},
   "outputs": [],
   "source": [
    "pr.disp_html(df_one)"
   ]
  },
  {
   "cell_type": "code",
   "execution_count": null,
   "metadata": {},
   "outputs": [],
   "source": [
    "df_one['T_PV_absfin_mean']"
   ]
  },
  {
   "cell_type": "code",
   "execution_count": null,
   "metadata": {},
   "outputs": [],
   "source": [
    "df_one['Qdot_PV_absfin']"
   ]
  },
  {
   "cell_type": "code",
   "execution_count": null,
   "metadata": {},
   "outputs": [],
   "source": [
    "df_one['Qdot_absfin_Base']"
   ]
  },
  {
   "cell_type": "code",
   "execution_count": null,
   "metadata": {},
   "outputs": [],
   "source": [
    "df_one['Qdot_absfin_back_conv']"
   ]
  },
  {
   "cell_type": "code",
   "execution_count": null,
   "metadata": {},
   "outputs": [],
   "source": [
    "df_one['Qdot_absfin_back_rad']"
   ]
  },
  {
   "cell_type": "code",
   "execution_count": null,
   "metadata": {},
   "outputs": [],
   "source": [
    "df_one['h_back']"
   ]
  },
  {
   "cell_type": "code",
   "execution_count": null,
   "metadata": {},
   "outputs": [],
   "source": [
    "pr.disp_html(its_df_list[0])"
   ]
  },
  {
   "cell_type": "code",
   "execution_count": null,
   "metadata": {},
   "outputs": [],
   "source": [
    "slices_df['T_Base_mean']"
   ]
  },
  {
   "cell_type": "code",
   "execution_count": null,
   "metadata": {},
   "outputs": [],
   "source": [
    "slices_df['T_B_check']"
   ]
  },
  {
   "cell_type": "code",
   "execution_count": null,
   "metadata": {},
   "outputs": [],
   "source": [
    "bal"
   ]
  },
  {
   "cell_type": "code",
   "execution_count": null,
   "metadata": {},
   "outputs": [],
   "source": [
    "# Create a directed graph\n",
    "G = nx.DiGraph()\n",
    "\n",
    "# Add nodes\n",
    "nodes = ['T_amb', 'T_sky', 'T_glass', 'T_PV', 'T_B', 'T_absfin', \n",
    "         'T_tube', 'T_fluid', 'T_ins_absfin', 'T_ins_tube', 'T_back', 'T_back_rad']\n",
    "G.add_nodes_from(nodes)\n",
    "\n",
    "# Add edges with labels\n",
    "edges = [('T_amb', 'T_glass', 'Qdot_top_conv'), ('T_sky', 'T_glass', 'Qdot_top_rad'),\n",
    "         ('T_glass', 'T_PV', 'Qdot_glass_PV'), ('T_PV', 'T_B', 'Qdot_PV_Base'),\n",
    "         ('T_PV', 'T_absfin', 'Qdot_PV_absfin'), ('T_absfin', 'T_B', 'Qdot_absfin_Base'),\n",
    "         ('T_B', 'T_tube', 'Qdot_Base_tube'), ('T_tube', 'T_fluid', 'Qdot_tube_fluid'),\n",
    "         ('T_absfin', 'T_ins_absfin', 'Qdot_absfin_ins_absfin'),\n",
    "         ('T_tube', 'T_ins_tube', 'Qdot_tube_ins_tube'),\n",
    "         ('T_ins_absfin', 'T_back', 'Qdot_ins_absfin_back'),\n",
    "         ('T_ins_absfin', 'T_back_rad', 'Qdot_ins_absfin_back_rad'),\n",
    "         ('T_ins_tube', 'T_back', 'Qdot_ins_tube_back'),\n",
    "         ('T_ins_tube', 'T_back_rad', 'Qdot_ins_tube_back_rad')]\n",
    "\n",
    "for u, v, label in edges:\n",
    "    G.add_edge(u, v, label=label)\n",
    "\n",
    "# Manually set positions based on TikZ coordinates\n",
    "pos = {\n",
    "    'T_amb': (3, 0),\n",
    "    'T_sky': (8, 0),\n",
    "    'T_glass': (5.5, -3),\n",
    "    'T_PV': (5.5, -8),\n",
    "    'T_B': (3, -11),\n",
    "    'T_absfin': (8, -11),\n",
    "    'T_tube': (4, -15),\n",
    "    'T_fluid': (4, -20),\n",
    "    'T_ins_absfin': (9, -19),\n",
    "    'T_ins_tube': (6, -19),\n",
    "    'T_back': (6, -26),\n",
    "    'T_back_rad': (9, -26)\n",
    "}\n",
    "\n",
    "# Draw the graph\n",
    "nx.draw(G, pos, with_labels=True, node_color='lightblue', edge_color='black')\n",
    "\n",
    "# Draw edge labels\n",
    "edge_labels = nx.get_edge_attributes(G, 'label')\n",
    "nx.draw_networkx_edge_labels(G, pos, edge_labels=edge_labels)\n",
    "\n",
    "plt.show()\n"
   ]
  },
  {
   "cell_type": "code",
   "execution_count": null,
   "metadata": {},
   "outputs": [],
   "source": [
    "df_one.columns"
   ]
  },
  {
   "cell_type": "code",
   "execution_count": null,
   "metadata": {},
   "outputs": [],
   "source": [
    "df_one['T_back'].iloc[0]"
   ]
  },
  {
   "cell_type": "code",
   "execution_count": null,
   "metadata": {},
   "outputs": [],
   "source": []
  },
  {
   "cell_type": "code",
   "execution_count": null,
   "metadata": {},
   "outputs": [],
   "source": [
    "df_one['Qdot_sun_PV'] + df_one['Qdot_sun_glass']"
   ]
  },
  {
   "cell_type": "code",
   "execution_count": null,
   "metadata": {},
   "outputs": [],
   "source": [
    "- df_one['Qdot_top_conv'] - df_one['Qdot_top_rad'] - df_one['Qdot_PV_sky'] - df_one['Qdot_absfin_back_conv'] - df_one['Qdot_absfin_back_rad'] - df_one['Qdot_Base_back'] - df_one['Qdot_tube_back_conv'] - df_one['Qdot_tube_back_rad'] - df_one['Qdot_tube_sky']"
   ]
  },
  {
   "cell_type": "code",
   "execution_count": null,
   "metadata": {},
   "outputs": [],
   "source": [
    "ht_labels = ['Qdot_sun_PV', 'Qdot_sun_glass', 'Qdot_top_conv', 'Qdot_top_rad', 'Qdot_PV_sky', 'Qdot_absfin_back_conv', 'Qdot_absfin_back_rad', 'Qdot_Base_back', 'Qdot_tube_back_conv', 'Qdot_tube_back_rad', 'Qdot_tube_sky']"
   ]
  },
  {
   "cell_type": "code",
   "execution_count": null,
   "metadata": {},
   "outputs": [],
   "source": [
    "ht_signs = {'Qdot_sun_PV':1, 'Qdot_sun_glass':1, 'Qdot_top_conv':-1, 'Qdot_top_rad':-1, 'Qdot_PV_sky':-1, 'Qdot_absfin_back_conv':-1, 'Qdot_absfin_back_rad':-1, 'Qdot_Base_back':-1, 'Qdot_tube_back_conv':-1, 'Qdot_tube_back_rad':-1, 'Qdot_tube_sky':-1}"
   ]
  },
  {
   "cell_type": "code",
   "execution_count": null,
   "metadata": {},
   "outputs": [],
   "source": [
    "df_one['Qdot_tube_fluid']"
   ]
  },
  {
   "cell_type": "code",
   "execution_count": null,
   "metadata": {},
   "outputs": [],
   "source": [
    "data = {key:ht_signs[key]*df_one[key].values[0] for key in ht_labels}"
   ]
  },
  {
   "cell_type": "code",
   "execution_count": null,
   "metadata": {},
   "outputs": [],
   "source": [
    "# Adjusted approach for a single-column histogram with offset bars\n",
    "fig = go.Figure()\n",
    "\n",
    "# Initialize cumulative sums for positive and negative values\n",
    "cumulative_positive = 0\n",
    "cumulative_negative = 0\n",
    "\n",
    "for key, value in data.items():\n",
    "    if value >= 0:\n",
    "        # For positive values, start from the last positive cumulative sum\n",
    "        base = cumulative_positive\n",
    "        cumulative_positive += value\n",
    "    else:\n",
    "        # For negative values, start from the last negative cumulative sum\n",
    "        base = cumulative_negative\n",
    "        cumulative_negative += value\n",
    "    \n",
    "    fig.add_trace(go.Bar(\n",
    "        x=[\"Heat Transfer Contributions\"],\n",
    "        y=[value],\n",
    "        name=key,\n",
    "        width=0.2,\n",
    "        base=base  # Set the starting point of the bar\n",
    "    ))\n",
    "\n",
    "# Update the layout\n",
    "fig.update_layout(\n",
    "    title=\"Decomposition of Qdot_tube_fluid in Different Heat Transfer Contributions\",\n",
    "    yaxis_title=\"Value\",\n",
    "    barmode=\"overlay\"  # Overlay the bars\n",
    ")\n",
    "\n",
    "# Show the figure\n",
    "fig.show()\n"
   ]
  },
  {
   "cell_type": "code",
   "execution_count": null,
   "metadata": {},
   "outputs": [],
   "source": [
    "df_one['Q_PV_absfin']"
   ]
  },
  {
   "cell_type": "code",
   "execution_count": null,
   "metadata": {},
   "outputs": [],
   "source": [
    "df_one['Q_absfin_Base']"
   ]
  },
  {
   "cell_type": "code",
   "execution_count": null,
   "metadata": {},
   "outputs": [],
   "source": [
    "df_one['h_back']"
   ]
  },
  {
   "cell_type": "code",
   "execution_count": null,
   "metadata": {},
   "outputs": [],
   "source": [
    "df_one['Q_absfin_back_rad'] "
   ]
  },
  {
   "cell_type": "code",
   "execution_count": null,
   "metadata": {},
   "outputs": [],
   "source": [
    "df_one['Q_absfin_back_conv']"
   ]
  },
  {
   "cell_type": "code",
   "execution_count": null,
   "metadata": {},
   "outputs": [],
   "source": [
    "df_one['h_rad_back']"
   ]
  },
  {
   "cell_type": "code",
   "execution_count": null,
   "metadata": {},
   "outputs": [],
   "source": [
    "df_one['T_absfin_mean']"
   ]
  },
  {
   "cell_type": "code",
   "execution_count": null,
   "metadata": {},
   "outputs": [],
   "source": [
    "df_one['Q_Base_tube']"
   ]
  },
  {
   "cell_type": "code",
   "execution_count": null,
   "metadata": {},
   "outputs": [],
   "source": [
    "df_one['Q_tube_fluid']"
   ]
  },
  {
   "cell_type": "code",
   "execution_count": null,
   "metadata": {},
   "outputs": [],
   "source": [
    "df_one['Q_tube_back_conv']"
   ]
  },
  {
   "cell_type": "code",
   "execution_count": null,
   "metadata": {},
   "outputs": [],
   "source": [
    "df_one['Q_tube_back_rad']"
   ]
  },
  {
   "cell_type": "code",
   "execution_count": null,
   "metadata": {},
   "outputs": [],
   "source": [
    "df_one['Q_tube_sky']"
   ]
  },
  {
   "cell_type": "code",
   "execution_count": null,
   "metadata": {},
   "outputs": [],
   "source": [
    "slices_df['T_tube_mean']"
   ]
  },
  {
   "cell_type": "code",
   "execution_count": null,
   "metadata": {},
   "outputs": [],
   "source": [
    "slices_df['T_glass']"
   ]
  },
  {
   "cell_type": "code",
   "execution_count": null,
   "metadata": {},
   "outputs": [],
   "source": [
    "slices_df['T_amb']"
   ]
  },
  {
   "cell_type": "code",
   "execution_count": null,
   "metadata": {},
   "outputs": [],
   "source": [
    "df_one['Q_PV_Base']"
   ]
  },
  {
   "cell_type": "code",
   "execution_count": null,
   "metadata": {},
   "outputs": [],
   "source": [
    "df_one['Q_absfin_Base'] "
   ]
  },
  {
   "cell_type": "code",
   "execution_count": null,
   "metadata": {},
   "outputs": [],
   "source": [
    "df_one['Q_Base_tube']"
   ]
  },
  {
   "cell_type": "code",
   "execution_count": null,
   "metadata": {},
   "outputs": [],
   "source": [
    "df_one['Q_Base_back']"
   ]
  },
  {
   "cell_type": "code",
   "execution_count": null,
   "metadata": {},
   "outputs": [],
   "source": [
    "df_one['Q_PV_Base'] + df_one['Q_Base_tube']"
   ]
  },
  {
   "cell_type": "code",
   "execution_count": null,
   "metadata": {},
   "outputs": [],
   "source": [
    "df_one['T_PV']"
   ]
  },
  {
   "cell_type": "code",
   "execution_count": null,
   "metadata": {},
   "outputs": [],
   "source": [
    "df_one['T_Base_mean']"
   ]
  },
  {
   "cell_type": "code",
   "execution_count": null,
   "metadata": {},
   "outputs": [],
   "source": [
    "df_one['T_tube_mean']"
   ]
  },
  {
   "cell_type": "code",
   "execution_count": null,
   "metadata": {},
   "outputs": [],
   "source": [
    "df_one['T_fluid_mean']"
   ]
  },
  {
   "cell_type": "code",
   "execution_count": null,
   "metadata": {},
   "outputs": [],
   "source": [
    "6.09/9.84"
   ]
  },
  {
   "cell_type": "code",
   "execution_count": null,
   "metadata": {},
   "outputs": [],
   "source": [
    "df_one['Q_tube_sky']"
   ]
  },
  {
   "cell_type": "code",
   "execution_count": null,
   "metadata": {},
   "outputs": [],
   "source": [
    "df_one['Q_Base_tube']"
   ]
  },
  {
   "cell_type": "code",
   "execution_count": null,
   "metadata": {},
   "outputs": [],
   "source": [
    "df_one['Q_tube_fluid']"
   ]
  },
  {
   "cell_type": "code",
   "execution_count": null,
   "metadata": {},
   "outputs": [],
   "source": [
    "df_one['Q_tube_back_conv']"
   ]
  },
  {
   "cell_type": "code",
   "execution_count": null,
   "metadata": {},
   "outputs": [],
   "source": [
    "df_one['Q_tube_back_rad']"
   ]
  },
  {
   "cell_type": "code",
   "execution_count": null,
   "metadata": {},
   "outputs": [],
   "source": [
    "df_one['Q_glass_PV']"
   ]
  },
  {
   "cell_type": "code",
   "execution_count": null,
   "metadata": {},
   "outputs": [],
   "source": [
    "df_one['Q_sun_glass']"
   ]
  },
  {
   "cell_type": "code",
   "execution_count": null,
   "metadata": {},
   "outputs": [],
   "source": [
    "df_one['Q_top_conv']"
   ]
  },
  {
   "cell_type": "code",
   "execution_count": null,
   "metadata": {},
   "outputs": [],
   "source": [
    "df_one['Q_top_rad']"
   ]
  },
  {
   "cell_type": "code",
   "execution_count": null,
   "metadata": {},
   "outputs": [],
   "source": [
    "df_one['Q_PV_Base']"
   ]
  },
  {
   "cell_type": "code",
   "execution_count": null,
   "metadata": {},
   "outputs": [],
   "source": [
    "df_one['Q_PV_absfin']"
   ]
  },
  {
   "cell_type": "code",
   "execution_count": null,
   "metadata": {},
   "outputs": [],
   "source": [
    "df_one['Q_PV_plate']"
   ]
  },
  {
   "cell_type": "code",
   "execution_count": null,
   "metadata": {},
   "outputs": [],
   "source": []
  }
 ],
 "metadata": {
  "kernelspec": {
   "display_name": "model23",
   "language": "python",
   "name": "python3"
  },
  "language_info": {
   "codemirror_mode": {
    "name": "ipython",
    "version": 3
   },
   "file_extension": ".py",
   "mimetype": "text/x-python",
   "name": "python",
   "nbconvert_exporter": "python",
   "pygments_lexer": "ipython3",
   "version": "3.10.5"
  }
 },
 "nbformat": 4,
 "nbformat_minor": 2
}
