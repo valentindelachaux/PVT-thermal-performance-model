{
 "cells": [
  {
   "cell_type": "code",
   "execution_count": 1,
   "metadata": {},
   "outputs": [],
   "source": [
    "# Initialization\n",
    "\n",
    "import math\n",
    "from datetime import datetime\n",
    "import openpyxl as opxl\n",
    "from openpyxl.utils.dataframe import dataframe_to_rows\n",
    "import pandas as pd\n",
    "import numpy as np\n",
    "import matplotlib.pyplot as plt\n",
    "import model as ty\n",
    "import proc as pr\n",
    "import matplotlib.ticker as mtick\n",
    "import sklearn.metrics\n",
    "\n",
    "from IPython.core.display import HTML\n",
    "\n",
    "import heat_transfer as bht\n",
    "\n",
    "import fluids as fds\n",
    "import ht \n",
    "\n",
    "import general as gen\n",
    "\n",
    "import os\n",
    "\n",
    "import scipy.integrate as integrate\n",
    "import scipy.optimize as sco\n",
    "\n",
    "import networkx as nx\n",
    "\n",
    "import plotly.graph_objects as go\n",
    "\n",
    "import plot_functions_here as pfun"
   ]
  },
  {
   "cell_type": "code",
   "execution_count": 2,
   "metadata": {},
   "outputs": [
    {
     "name": "stdout",
     "output_type": "stream",
     "text": [
      "{'exchanger': {'name': nan, 'eta_nom': 0.201, 'Eff_T': -0.0034000000000000002, 'T_ref': 298.15, 'Eff_G': 0, 'G_ref': 1000, 'X_corr': 1, 'tau_g': 0.8, 'alpha_g': 0.05, 'eps_PV': 0.9, 'eps_g': 0.9, 'eps_bs': 1, 'w_pan': 0.1, 'L_pan': 0.1, 'orientation': 'portrait', 'lambd_upper_glass': 0.002, 'lambd_upper_EVA': 0.000515, 'lambd_si': 0.00015, 'lambd_lower_EVA': 0.000515, 'lambd_PVDF': 0.0, 'lambd_PET': 0.0, 'lambd_adh': 0.0, 'lambd_lower_glass': 0.002, 'k_glass': 0.8, 'k_EVA': 0.24, 'k_si': 60, 'k_PVDF': 0.2, 'k_PET': 0.3, 'k_adh': 0.2, 'L_abs': 1.0, 'w_abs': 0.1, 'geometry': 'harp', 'N_harp': 1, 'N_meander': 1, 'L_tube': 1.0, 'tube_geometry': 'circular', 'H_tube': 0.01, 'w_tube': 0.01, 'W': 0.1, 'l_c': 0.01, 'p_ext_tube': 0.06283185307179587, 'p_ext_tube_rad': 0.06283185307179587, 'p_tube_sky': 0.01, 'lambd_air': 0.0, 'lambd_conductive_plate': 0.0, 'lambd_abs': 0.001, 'lambd_riser_plate': 0.002, 'lambd_riser_back': 0.002, 'lambd_ins': 0.0, 'eps_hx_top': 0, 'eps_hx_back': 0.8, 'eps_ins': 0.8, 'k_air': 0.025, 'k_conductive_plate': 1, 'k_abs': 220, 'k_riser_plate': 220, 'k_riser_back': 220, 'k_ins': 0.25, 'Heta': 0.02, 'N_ail': 50, 'N_fins_per_EP': nan, 'lambd_ail': 0.001, 'k_ail': 226, 'eps_fin': 0, 'D': 0.014, 'fin_0': 0, 'N_f0': 50, 'L_f0': 0.02, 'delta_f0': 0.00335, 'delta_f0_int': 0.00335, 'fin_1': 0, 'N_f1': nan, 'L_f1': nan, 'delta_f1': nan, 'delta_f1_int': nan, 'coeff_f1': nan, 'fin_2': 0, 'N_f2': nan, 'L_f2': nan, 'delta_f2': nan, 'D_f2': nan, 'fin_3': 0, 'N_f3': nan, 'L_f3': nan, 'delta_f3': nan, 'is_exchanger': 1, 'is_inlet_man': 0, 'is_outlet_man': 0, 'is_anomaly': 0}, 'manifold': {'name': nan, 'eta_nom': 0.201, 'Eff_T': -0.0034000000000000002, 'T_ref': 298.15, 'Eff_G': 0, 'G_ref': 1000, 'X_corr': 1, 'tau_g': 0.8, 'alpha_g': 0.05, 'eps_PV': 0.9, 'eps_g': 0.9, 'eps_bs': 1, 'w_pan': 0.1, 'L_pan': 0.1, 'orientation': 'portrait', 'lambd_upper_glass': 0.002, 'lambd_upper_EVA': 0.000515, 'lambd_si': 0.00015, 'lambd_lower_EVA': 0.000515, 'lambd_PVDF': 0.0, 'lambd_PET': 0.0, 'lambd_adh': 0.0, 'lambd_lower_glass': 0.002, 'k_glass': 0.8, 'k_EVA': 0.24, 'k_si': 60, 'k_PVDF': 0.2, 'k_PET': 0.3, 'k_adh': 0.2, 'L_abs': 1.0, 'w_abs': 0.1, 'geometry': 'harp', 'N_harp': 1, 'N_meander': 1, 'L_tube': 1.134, 'tube_geometry': 'circular', 'H_tube': 0.018, 'w_tube': 0.018, 'W': 0.022, 'l_c': 0.0, 'p_ext_tube': 0.06911503837897544, 'p_ext_tube_rad': 0.06283185307179587, 'p_tube_sky': 0.01, 'lambd_air': 0.0, 'lambd_conductive_plate': 0.0, 'lambd_abs': 0.00027, 'lambd_riser_plate': 0.0005, 'lambd_riser_back': 0.0005, 'lambd_ins': 0.0, 'eps_hx_top': 0, 'eps_hx_back': 0.2, 'eps_ins': 0.8, 'k_air': 0.025, 'k_conductive_plate': 1, 'k_abs': 0.3, 'k_riser_plate': 0.025, 'k_riser_back': 220, 'k_ins': 0.03, 'Heta': 0.02, 'N_ail': 50, 'N_fins_per_EP': nan, 'lambd_ail': 0.001, 'k_ail': 226, 'eps_fin': 0, 'D': 0.014, 'fin_0': 0, 'N_f0': 50, 'L_f0': 0.02, 'delta_f0': 0.00335, 'delta_f0_int': 0.00335, 'fin_1': 0, 'N_f1': nan, 'L_f1': nan, 'delta_f1': nan, 'delta_f1_int': nan, 'coeff_f1': nan, 'fin_2': 0, 'N_f2': nan, 'L_f2': nan, 'delta_f2': nan, 'D_f2': nan, 'fin_3': 0, 'N_f3': nan, 'L_f3': nan, 'delta_f3': nan, 'is_exchanger': 0, 'is_inlet_man': 1, 'is_outlet_man': 1, 'is_anomaly': 0, 'input_man': 0}, 'anomaly1': {'name': nan, 'eta_nom': 0.201, 'Eff_T': -0.0034000000000000002, 'T_ref': 298.15, 'Eff_G': 0, 'G_ref': 1000, 'X_corr': 1, 'tau_g': 0.8, 'alpha_g': 0.05, 'eps_PV': 0.9, 'eps_g': 0.9, 'eps_bs': 1, 'w_pan': 0.1, 'L_pan': 0.1, 'orientation': 'portrait', 'lambd_upper_glass': 0.002, 'lambd_upper_EVA': 0.000515, 'lambd_si': 0.00015, 'lambd_lower_EVA': 0.000515, 'lambd_PVDF': 0.0, 'lambd_PET': 0.0, 'lambd_adh': 0.0, 'lambd_lower_glass': 0.002, 'k_glass': 0.8, 'k_EVA': 0.24, 'k_si': 60, 'k_PVDF': 0.2, 'k_PET': 0.3, 'k_adh': 0.2, 'L_abs': 1342, 'w_abs': 976, 'geometry': 'harp', 'N_harp': 300, 'N_meander': 1, 'L_tube': 0.24, 'tube_geometry': 'rectangular', 'H_tube': 0.002, 'w_tube': 0.00281, 'W': 0.00335, 'l_c': 1.0000000000000001e-07, 'p_ext_tube': 0.005025, 'p_ext_tube_rad': 0.00335, 'p_tube_sky': 0.01, 'lambd_air': 0.0, 'lambd_conductive_plate': 0.0, 'lambd_abs': 0.00027, 'lambd_riser_plate': 0.0, 'lambd_riser_back': 0.00035, 'lambd_ins': 0.0, 'eps_hx_top': 0, 'eps_hx_back': 0.8, 'eps_ins': 0.8, 'k_air': 0.025, 'k_conductive_plate': 1, 'k_abs': 0.3, 'k_riser_plate': 0.025, 'k_riser_back': 220, 'k_ins': 0.03, 'Heta': 0.02, 'N_ail': 50, 'N_fins_per_EP': nan, 'lambd_ail': 0.001, 'k_ail': 226, 'eps_fin': 0, 'D': 0.014, 'fin_0': 0, 'N_f0': 50, 'L_f0': 0.02, 'delta_f0': 0.00335, 'delta_f0_int': 0.00335, 'fin_1': 0, 'N_f1': nan, 'L_f1': nan, 'delta_f1': nan, 'delta_f1_int': nan, 'coeff_f1': nan, 'fin_2': 0, 'N_f2': nan, 'L_f2': nan, 'delta_f2': nan, 'D_f2': nan, 'fin_3': 0, 'N_f3': nan, 'L_f3': nan, 'delta_f3': nan, 'is_exchanger': 0, 'is_inlet_man': 0, 'is_outlet_man': 0, 'is_anomaly': 1, 'input_an': 0}}\n"
     ]
    }
   ],
   "source": [
    "input_name = r'\\Inputs_TEST.xlsx'\n",
    "hyp_name = '\\Model_hypotheses.xlsx'\n",
    "data = r'\\221122_TUV_test_conditions_S425-I_MPP.xlsx'\n",
    "\n",
    "output_name = 'TEST_n1'\n",
    "\n",
    "par = pr.import_input(r'G:\\Drive partagés\\BU04-Innovation\\PVT-perf-1Dmodel\\Inputs',input_name)\n",
    "hyp = pr.create_dict_from_excel(r'G:\\Drive partagés\\BU04-Innovation\\PVT-perf-1Dmodel\\Hypotheses',hyp_name,'Main')\n",
    "condi = pr.create_inputs_from_excel(r'G:\\Drive partagés\\BU04-Innovation\\PVT-perf-1Dmodel\\Steady-state conditions inputs'+data,par,hyp)"
   ]
  },
  {
   "cell_type": "code",
   "execution_count": 3,
   "metadata": {},
   "outputs": [],
   "source": [
    "par_p = ty.write_par_p_from_condi(condi,0,hyp)"
   ]
  },
  {
   "cell_type": "code",
   "execution_count": 4,
   "metadata": {},
   "outputs": [
    {
     "name": "stdout",
     "output_type": "stream",
     "text": [
      "top h simple theta<=45 Ra_L 30675.58237287449\n",
      "top h simple theta<=45 Ra_L 117758.34660160351\n",
      "top h simple theta<=45 Ra_L 110465.521375885\n",
      "top h simple theta<=45 Ra_L 110617.97542567657\n"
     ]
    },
    {
     "name": "stderr",
     "output_type": "stream",
     "text": [
      "c:\\Users\\valen\\Dropbox (DualSun)\\PC\\Documents\\GitHub\\PVT-thermal-performance-model\\heat_transfer.py:291: RuntimeWarning: divide by zero encountered in scalar divide\n",
      "  x_c = (nu*Re_c)/speed\n"
     ]
    }
   ],
   "source": [
    "slices_df,df_one,its_df_list = ty.simu_one_steady_state(par['exchanger'],par_p,hyp)"
   ]
  },
  {
   "cell_type": "code",
   "execution_count": 5,
   "metadata": {},
   "outputs": [
    {
     "data": {
      "text/plain": [
       "0    2.333368\n",
       "Name: h_back, dtype: float64"
      ]
     },
     "execution_count": 5,
     "metadata": {},
     "output_type": "execute_result"
    }
   ],
   "source": [
    "df_one['h_back']"
   ]
  },
  {
   "cell_type": "code",
   "execution_count": 6,
   "metadata": {},
   "outputs": [
    {
     "data": {
      "text/html": [
       "<table border=\"1\" class=\"dataframe\">\n",
       "  <thead>\n",
       "    <tr style=\"text-align: right;\">\n",
       "      <th></th>\n",
       "      <th>G</th>\n",
       "      <th>Gp</th>\n",
       "      <th>T_amb</th>\n",
       "      <th>T_sky</th>\n",
       "      <th>T_back</th>\n",
       "      <th>T_back_rad</th>\n",
       "      <th>u</th>\n",
       "      <th>mdot</th>\n",
       "      <th>T_fluid_in</th>\n",
       "      <th>Slice</th>\n",
       "      <th>T_PV0</th>\n",
       "      <th>Cp</th>\n",
       "      <th>h_rad_f</th>\n",
       "      <th>h_top_g</th>\n",
       "      <th>h_back</th>\n",
       "      <th>h_rad_back</th>\n",
       "      <th>h_back_tube</th>\n",
       "      <th>h_rad_tube_sky</th>\n",
       "      <th>h_rad_back_tube</th>\n",
       "      <th>h_back_fins</th>\n",
       "      <th>T_PV</th>\n",
       "      <th>T_fluid_out</th>\n",
       "      <th>T_tube_mean</th>\n",
       "      <th>T_glass</th>\n",
       "      <th>Re</th>\n",
       "      <th>Nu</th>\n",
       "      <th>h_fluid</th>\n",
       "      <th>gamma_0_int</th>\n",
       "      <th>gamma_1_int</th>\n",
       "      <th>gamma_2_int</th>\n",
       "      <th>h_rad_g</th>\n",
       "      <th>h_rad</th>\n",
       "      <th>a0</th>\n",
       "      <th>a1</th>\n",
       "      <th>a3</th>\n",
       "      <th>a2</th>\n",
       "      <th>X_celltemp</th>\n",
       "      <th>eta_PV</th>\n",
       "      <th>S</th>\n",
       "      <th>S_star</th>\n",
       "      <th>Fp</th>\n",
       "      <th>j</th>\n",
       "      <th>m</th>\n",
       "      <th>b</th>\n",
       "      <th>e0</th>\n",
       "      <th>e1</th>\n",
       "      <th>e2</th>\n",
       "      <th>e3</th>\n",
       "      <th>e4</th>\n",
       "      <th>f0</th>\n",
       "      <th>b1</th>\n",
       "      <th>b2</th>\n",
       "      <th>b3</th>\n",
       "      <th>b4</th>\n",
       "      <th>Ka_Bt</th>\n",
       "      <th>Th_Bt</th>\n",
       "      <th>Ep_Bt</th>\n",
       "      <th>d1</th>\n",
       "      <th>d2</th>\n",
       "      <th>d3</th>\n",
       "      <th>d4</th>\n",
       "      <th>Ka_tf</th>\n",
       "      <th>Th_tf</th>\n",
       "      <th>Ep_tf</th>\n",
       "      <th>a_f</th>\n",
       "      <th>b_f</th>\n",
       "      <th>q_tube_fluid</th>\n",
       "      <th>T_fluid_mean</th>\n",
       "      <th>T_Base_mean</th>\n",
       "      <th>T_absfin_mean</th>\n",
       "      <th>T_abs_mean</th>\n",
       "      <th>Qdot_tube_back</th>\n",
       "      <th>Qdot_absfin_back</th>\n",
       "      <th>T_ins_tube_mean</th>\n",
       "      <th>T_ins_absfin_mean</th>\n",
       "      <th>T_ins_mean</th>\n",
       "      <th>Qdot_ins_conv</th>\n",
       "      <th>Qdot_ins_rad</th>\n",
       "      <th>T_PV_Base_mean</th>\n",
       "      <th>T_PV_absfin_mean</th>\n",
       "      <th>qp_PV_Base</th>\n",
       "      <th>qp_Base_back</th>\n",
       "      <th>qp_fin</th>\n",
       "      <th>Qdot_top_conv</th>\n",
       "      <th>Qdot_top_rad</th>\n",
       "      <th>Qdot_sun_glass</th>\n",
       "      <th>Qdot_sun_PV</th>\n",
       "      <th>Qdot_glass_PV</th>\n",
       "      <th>Qdot_PV_sky</th>\n",
       "      <th>Qdot_PV_plate</th>\n",
       "      <th>Qdot_PV_Base</th>\n",
       "      <th>Qdot_PV_absfin</th>\n",
       "      <th>Qdot_Base_back</th>\n",
       "      <th>Qdot_tube_fluid</th>\n",
       "      <th>Qdot_tube_sky</th>\n",
       "      <th>Qdot_Base_tube</th>\n",
       "      <th>Qdot_absfin_Base</th>\n",
       "      <th>Qdot_abs_back2</th>\n",
       "      <th>Qdot_fluid_back</th>\n",
       "      <th>Qdot_absfin_back_conv</th>\n",
       "      <th>Qdot_absfin_back_rad</th>\n",
       "      <th>Qdot_tube_back_conv</th>\n",
       "      <th>Qdot_tube_back_rad</th>\n",
       "      <th>Qdot_ins_tube_back_conv</th>\n",
       "      <th>Qdot_ins_tube_back_rad</th>\n",
       "      <th>Qdot_ins_absfin_back_conv</th>\n",
       "      <th>Qdot_ins_absfin_back_rad</th>\n",
       "      <th>Qdot_f01</th>\n",
       "      <th>power_balance_1</th>\n",
       "      <th>power_balance_3</th>\n",
       "      <th>T_B_check</th>\n",
       "    </tr>\n",
       "  </thead>\n",
       "  <tbody>\n",
       "    <tr>\n",
       "      <th>0</th>\n",
       "      <td>1001.0</td>\n",
       "      <td>4</td>\n",
       "      <td>281.15</td>\n",
       "      <td>281.15</td>\n",
       "      <td>281.15</td>\n",
       "      <td>281.15</td>\n",
       "      <td>0.3</td>\n",
       "      <td>0.0478</td>\n",
       "      <td>288.15</td>\n",
       "      <td>0</td>\n",
       "      <td>284.650000</td>\n",
       "      <td>3690.775238</td>\n",
       "      <td>0.0</td>\n",
       "      <td>12.980620</td>\n",
       "      <td>2.383016</td>\n",
       "      <td>4.333938</td>\n",
       "      <td>2.383016</td>\n",
       "      <td>0.0</td>\n",
       "      <td>4.311802</td>\n",
       "      <td>2.383016</td>\n",
       "      <td>296.374951</td>\n",
       "      <td>288.300662</td>\n",
       "      <td>293.763180</td>\n",
       "      <td>295.853045</td>\n",
       "      <td>1114.146107</td>\n",
       "      <td>4.363636</td>\n",
       "      <td>173.280145</td>\n",
       "      <td>0</td>\n",
       "      <td>0</td>\n",
       "      <td>0</td>\n",
       "      <td>4.621997</td>\n",
       "      <td>4.621692</td>\n",
       "      <td>11.970772</td>\n",
       "      <td>0.957848</td>\n",
       "      <td>16.860639</td>\n",
       "      <td>-4788.308847</td>\n",
       "      <td>1.045900</td>\n",
       "      <td>0.210226</td>\n",
       "      <td>632.451099</td>\n",
       "      <td>6720.234519</td>\n",
       "      <td>0.909128</td>\n",
       "      <td>22.582285</td>\n",
       "      <td>9.660180</td>\n",
       "      <td>7029.486777</td>\n",
       "      <td>739.106249</td>\n",
       "      <td>0.992189</td>\n",
       "      <td>0.007365</td>\n",
       "      <td>0.000425</td>\n",
       "      <td>0.00002</td>\n",
       "      <td>733.662493</td>\n",
       "      <td>0.185143</td>\n",
       "      <td>1.000449</td>\n",
       "      <td>-0.000428</td>\n",
       "      <td>-0.00002</td>\n",
       "      <td>-1.935672</td>\n",
       "      <td>0.358215</td>\n",
       "      <td>602.817463</td>\n",
       "      <td>-0.311705</td>\n",
       "      <td>-0.002314</td>\n",
       "      <td>0.314026</td>\n",
       "      <td>-0.000006</td>\n",
       "      <td>-2.249831</td>\n",
       "      <td>1.415925</td>\n",
       "      <td>691.143341</td>\n",
       "      <td>-0.007941</td>\n",
       "      <td>2.439500</td>\n",
       "      <td>30.146155</td>\n",
       "      <td>288.225431</td>\n",
       "      <td>293.809950</td>\n",
       "      <td>294.833313</td>\n",
       "      <td>294.730977</td>\n",
       "      <td>5.305707</td>\n",
       "      <td>8.271917</td>\n",
       "      <td>293.763180</td>\n",
       "      <td>294.833313</td>\n",
       "      <td>294.726300</td>\n",
       "      <td>6.788150</td>\n",
       "      <td>6.788150</td>\n",
       "      <td>295.537619</td>\n",
       "      <td>296.467988</td>\n",
       "      <td>5.512718</td>\n",
       "      <td>0.0</td>\n",
       "      <td>15.197402</td>\n",
       "      <td>19.085464</td>\n",
       "      <td>6.795744</td>\n",
       "      <td>5.005</td>\n",
       "      <td>63.245110</td>\n",
       "      <td>-20.876208</td>\n",
       "      <td>7.036504</td>\n",
       "      <td>35.332399</td>\n",
       "      <td>3.713118</td>\n",
       "      <td>31.619293</td>\n",
       "      <td>0.0</td>\n",
       "      <td>30.146155</td>\n",
       "      <td>0.0</td>\n",
       "      <td>34.297900</td>\n",
       "      <td>30.394804</td>\n",
       "      <td>-1.224476</td>\n",
       "      <td>2.762780</td>\n",
       "      <td>2.934680</td>\n",
       "      <td>5.337237</td>\n",
       "      <td>1.888563</td>\n",
       "      <td>3.417144</td>\n",
       "      <td>1.888563</td>\n",
       "      <td>3.417144</td>\n",
       "      <td>2.934680</td>\n",
       "      <td>5.337237</td>\n",
       "      <td>0.0</td>\n",
       "      <td>2.031504</td>\n",
       "      <td>1.198987</td>\n",
       "      <td>293.809950</td>\n",
       "    </tr>\n",
       "    <tr>\n",
       "      <th>1</th>\n",
       "      <td>1001.0</td>\n",
       "      <td>4</td>\n",
       "      <td>281.15</td>\n",
       "      <td>281.15</td>\n",
       "      <td>281.15</td>\n",
       "      <td>281.15</td>\n",
       "      <td>0.3</td>\n",
       "      <td>0.0478</td>\n",
       "      <td>288.15</td>\n",
       "      <td>0</td>\n",
       "      <td>296.374951</td>\n",
       "      <td>3690.757895</td>\n",
       "      <td>0.0</td>\n",
       "      <td>12.966964</td>\n",
       "      <td>2.332354</td>\n",
       "      <td>4.307457</td>\n",
       "      <td>2.332354</td>\n",
       "      <td>0.0</td>\n",
       "      <td>4.288876</td>\n",
       "      <td>2.332354</td>\n",
       "      <td>295.316383</td>\n",
       "      <td>288.289972</td>\n",
       "      <td>292.756269</td>\n",
       "      <td>294.830274</td>\n",
       "      <td>1114.146107</td>\n",
       "      <td>4.363636</td>\n",
       "      <td>173.280145</td>\n",
       "      <td>0</td>\n",
       "      <td>0</td>\n",
       "      <td>0</td>\n",
       "      <td>4.905016</td>\n",
       "      <td>4.918238</td>\n",
       "      <td>12.144287</td>\n",
       "      <td>0.957231</td>\n",
       "      <td>17.107613</td>\n",
       "      <td>-4857.714798</td>\n",
       "      <td>1.006035</td>\n",
       "      <td>0.202213</td>\n",
       "      <td>638.867775</td>\n",
       "      <td>6875.627957</td>\n",
       "      <td>0.907043</td>\n",
       "      <td>29.431184</td>\n",
       "      <td>11.015557</td>\n",
       "      <td>8957.637195</td>\n",
       "      <td>739.197738</td>\n",
       "      <td>0.992067</td>\n",
       "      <td>0.007364</td>\n",
       "      <td>0.000569</td>\n",
       "      <td>0.00000</td>\n",
       "      <td>733.753981</td>\n",
       "      <td>0.185166</td>\n",
       "      <td>1.000574</td>\n",
       "      <td>-0.000574</td>\n",
       "      <td>0.00000</td>\n",
       "      <td>-2.424561</td>\n",
       "      <td>0.448688</td>\n",
       "      <td>739.462953</td>\n",
       "      <td>-0.417311</td>\n",
       "      <td>-0.003098</td>\n",
       "      <td>0.420408</td>\n",
       "      <td>-0.000000</td>\n",
       "      <td>-2.845209</td>\n",
       "      <td>1.525960</td>\n",
       "      <td>857.728100</td>\n",
       "      <td>-0.010569</td>\n",
       "      <td>3.186112</td>\n",
       "      <td>24.693748</td>\n",
       "      <td>288.220109</td>\n",
       "      <td>292.796600</td>\n",
       "      <td>293.658949</td>\n",
       "      <td>293.572714</td>\n",
       "      <td>4.828488</td>\n",
       "      <td>7.475135</td>\n",
       "      <td>292.756269</td>\n",
       "      <td>293.658949</td>\n",
       "      <td>293.568681</td>\n",
       "      <td>29.593922</td>\n",
       "      <td>53.821797</td>\n",
       "      <td>294.612414</td>\n",
       "      <td>295.394602</td>\n",
       "      <td>5.415536</td>\n",
       "      <td>0.0</td>\n",
       "      <td>12.853529</td>\n",
       "      <td>17.739162</td>\n",
       "      <td>6.710197</td>\n",
       "      <td>5.005</td>\n",
       "      <td>63.886777</td>\n",
       "      <td>-19.444359</td>\n",
       "      <td>6.967365</td>\n",
       "      <td>37.475054</td>\n",
       "      <td>3.902561</td>\n",
       "      <td>33.572506</td>\n",
       "      <td>0.0</td>\n",
       "      <td>24.693748</td>\n",
       "      <td>0.0</td>\n",
       "      <td>29.575901</td>\n",
       "      <td>25.707057</td>\n",
       "      <td>-7.865436</td>\n",
       "      <td>2.732512</td>\n",
       "      <td>2.625776</td>\n",
       "      <td>4.849359</td>\n",
       "      <td>1.700854</td>\n",
       "      <td>3.127635</td>\n",
       "      <td>1.700854</td>\n",
       "      <td>3.127635</td>\n",
       "      <td>2.625776</td>\n",
       "      <td>4.849359</td>\n",
       "      <td>0.0</td>\n",
       "      <td>1.962365</td>\n",
       "      <td>2.183358</td>\n",
       "      <td>292.796600</td>\n",
       "    </tr>\n",
       "    <tr>\n",
       "      <th>2</th>\n",
       "      <td>1001.0</td>\n",
       "      <td>4</td>\n",
       "      <td>281.15</td>\n",
       "      <td>281.15</td>\n",
       "      <td>281.15</td>\n",
       "      <td>281.15</td>\n",
       "      <td>0.3</td>\n",
       "      <td>0.0478</td>\n",
       "      <td>288.15</td>\n",
       "      <td>0</td>\n",
       "      <td>295.316383</td>\n",
       "      <td>3690.758914</td>\n",
       "      <td>0.0</td>\n",
       "      <td>12.968034</td>\n",
       "      <td>2.333386</td>\n",
       "      <td>4.307977</td>\n",
       "      <td>2.333386</td>\n",
       "      <td>0.0</td>\n",
       "      <td>4.289346</td>\n",
       "      <td>2.333386</td>\n",
       "      <td>295.337663</td>\n",
       "      <td>288.290600</td>\n",
       "      <td>292.776919</td>\n",
       "      <td>294.851476</td>\n",
       "      <td>1114.146107</td>\n",
       "      <td>4.363636</td>\n",
       "      <td>173.280145</td>\n",
       "      <td>0</td>\n",
       "      <td>0</td>\n",
       "      <td>0</td>\n",
       "      <td>4.878564</td>\n",
       "      <td>4.890798</td>\n",
       "      <td>12.127946</td>\n",
       "      <td>0.957289</td>\n",
       "      <td>17.084354</td>\n",
       "      <td>-4851.178390</td>\n",
       "      <td>1.009634</td>\n",
       "      <td>0.202936</td>\n",
       "      <td>638.288456</td>\n",
       "      <td>6861.075118</td>\n",
       "      <td>0.907237</td>\n",
       "      <td>29.293869</td>\n",
       "      <td>10.991005</td>\n",
       "      <td>8918.732345</td>\n",
       "      <td>739.193114</td>\n",
       "      <td>0.992073</td>\n",
       "      <td>0.007364</td>\n",
       "      <td>0.000563</td>\n",
       "      <td>0.00000</td>\n",
       "      <td>733.749358</td>\n",
       "      <td>0.185165</td>\n",
       "      <td>1.000567</td>\n",
       "      <td>-0.000567</td>\n",
       "      <td>0.00000</td>\n",
       "      <td>-2.414947</td>\n",
       "      <td>0.446909</td>\n",
       "      <td>736.763895</td>\n",
       "      <td>-0.412726</td>\n",
       "      <td>-0.003064</td>\n",
       "      <td>0.415790</td>\n",
       "      <td>-0.000000</td>\n",
       "      <td>-2.830971</td>\n",
       "      <td>1.523331</td>\n",
       "      <td>853.729090</td>\n",
       "      <td>-0.010534</td>\n",
       "      <td>3.176744</td>\n",
       "      <td>24.804450</td>\n",
       "      <td>288.220424</td>\n",
       "      <td>292.817339</td>\n",
       "      <td>293.681973</td>\n",
       "      <td>293.595510</td>\n",
       "      <td>4.838176</td>\n",
       "      <td>7.490644</td>\n",
       "      <td>292.776919</td>\n",
       "      <td>293.681973</td>\n",
       "      <td>293.591468</td>\n",
       "      <td>29.017905</td>\n",
       "      <td>53.591093</td>\n",
       "      <td>294.631677</td>\n",
       "      <td>295.416106</td>\n",
       "      <td>5.416698</td>\n",
       "      <td>0.0</td>\n",
       "      <td>12.886673</td>\n",
       "      <td>17.768120</td>\n",
       "      <td>6.684353</td>\n",
       "      <td>5.005</td>\n",
       "      <td>63.828846</td>\n",
       "      <td>-19.447473</td>\n",
       "      <td>6.938899</td>\n",
       "      <td>37.442473</td>\n",
       "      <td>3.899389</td>\n",
       "      <td>33.543097</td>\n",
       "      <td>0.0</td>\n",
       "      <td>24.804450</td>\n",
       "      <td>0.0</td>\n",
       "      <td>29.641529</td>\n",
       "      <td>25.773345</td>\n",
       "      <td>-7.769739</td>\n",
       "      <td>2.733209</td>\n",
       "      <td>2.631774</td>\n",
       "      <td>4.858871</td>\n",
       "      <td>1.704634</td>\n",
       "      <td>3.133542</td>\n",
       "      <td>1.704634</td>\n",
       "      <td>3.133542</td>\n",
       "      <td>2.631774</td>\n",
       "      <td>4.858871</td>\n",
       "      <td>0.0</td>\n",
       "      <td>1.933899</td>\n",
       "      <td>2.135076</td>\n",
       "      <td>292.817339</td>\n",
       "    </tr>\n",
       "    <tr>\n",
       "      <th>3</th>\n",
       "      <td>1001.0</td>\n",
       "      <td>4</td>\n",
       "      <td>281.15</td>\n",
       "      <td>281.15</td>\n",
       "      <td>281.15</td>\n",
       "      <td>281.15</td>\n",
       "      <td>0.3</td>\n",
       "      <td>0.0478</td>\n",
       "      <td>288.15</td>\n",
       "      <td>0</td>\n",
       "      <td>295.337663</td>\n",
       "      <td>3690.758895</td>\n",
       "      <td>0.0</td>\n",
       "      <td>12.968011</td>\n",
       "      <td>2.333368</td>\n",
       "      <td>4.307968</td>\n",
       "      <td>2.333368</td>\n",
       "      <td>0.0</td>\n",
       "      <td>4.289337</td>\n",
       "      <td>2.333368</td>\n",
       "      <td>295.337281</td>\n",
       "      <td>288.290589</td>\n",
       "      <td>292.776547</td>\n",
       "      <td>294.851093</td>\n",
       "      <td>1114.146107</td>\n",
       "      <td>4.363636</td>\n",
       "      <td>173.280145</td>\n",
       "      <td>0</td>\n",
       "      <td>0</td>\n",
       "      <td>0</td>\n",
       "      <td>4.879111</td>\n",
       "      <td>4.891348</td>\n",
       "      <td>12.128284</td>\n",
       "      <td>0.957288</td>\n",
       "      <td>17.084835</td>\n",
       "      <td>-4851.313480</td>\n",
       "      <td>1.009562</td>\n",
       "      <td>0.202922</td>\n",
       "      <td>638.300101</td>\n",
       "      <td>6861.375667</td>\n",
       "      <td>0.907233</td>\n",
       "      <td>29.296642</td>\n",
       "      <td>10.991502</td>\n",
       "      <td>8919.522813</td>\n",
       "      <td>739.193208</td>\n",
       "      <td>0.992073</td>\n",
       "      <td>0.007364</td>\n",
       "      <td>0.000563</td>\n",
       "      <td>0.00000</td>\n",
       "      <td>733.749452</td>\n",
       "      <td>0.185165</td>\n",
       "      <td>1.000567</td>\n",
       "      <td>-0.000567</td>\n",
       "      <td>0.00000</td>\n",
       "      <td>-2.415141</td>\n",
       "      <td>0.446945</td>\n",
       "      <td>736.818832</td>\n",
       "      <td>-0.412820</td>\n",
       "      <td>-0.003064</td>\n",
       "      <td>0.415884</td>\n",
       "      <td>-0.000000</td>\n",
       "      <td>-2.831260</td>\n",
       "      <td>1.523385</td>\n",
       "      <td>853.810547</td>\n",
       "      <td>-0.010535</td>\n",
       "      <td>3.176935</td>\n",
       "      <td>24.802458</td>\n",
       "      <td>288.220418</td>\n",
       "      <td>292.816966</td>\n",
       "      <td>293.681562</td>\n",
       "      <td>293.595103</td>\n",
       "      <td>4.838002</td>\n",
       "      <td>7.490368</td>\n",
       "      <td>292.776547</td>\n",
       "      <td>293.681562</td>\n",
       "      <td>293.591061</td>\n",
       "      <td>29.029797</td>\n",
       "      <td>53.595807</td>\n",
       "      <td>294.631329</td>\n",
       "      <td>295.415720</td>\n",
       "      <td>5.416678</td>\n",
       "      <td>0.0</td>\n",
       "      <td>12.886125</td>\n",
       "      <td>17.767593</td>\n",
       "      <td>6.684915</td>\n",
       "      <td>5.005</td>\n",
       "      <td>63.830010</td>\n",
       "      <td>-19.447508</td>\n",
       "      <td>6.939493</td>\n",
       "      <td>37.443009</td>\n",
       "      <td>3.899442</td>\n",
       "      <td>33.543580</td>\n",
       "      <td>0.0</td>\n",
       "      <td>24.802458</td>\n",
       "      <td>0.0</td>\n",
       "      <td>29.640479</td>\n",
       "      <td>25.772250</td>\n",
       "      <td>-7.771317</td>\n",
       "      <td>2.733196</td>\n",
       "      <td>2.631667</td>\n",
       "      <td>4.858701</td>\n",
       "      <td>1.704566</td>\n",
       "      <td>3.133436</td>\n",
       "      <td>1.704566</td>\n",
       "      <td>3.133436</td>\n",
       "      <td>2.631667</td>\n",
       "      <td>4.858701</td>\n",
       "      <td>0.0</td>\n",
       "      <td>1.934493</td>\n",
       "      <td>2.136038</td>\n",
       "      <td>292.816966</td>\n",
       "    </tr>\n",
       "  </tbody>\n",
       "</table>"
      ],
      "text/plain": [
       "<IPython.core.display.HTML object>"
      ]
     },
     "metadata": {},
     "output_type": "display_data"
    }
   ],
   "source": [
    "pr.disp_html(its_df_list[0])"
   ]
  },
  {
   "cell_type": "code",
   "execution_count": 7,
   "metadata": {},
   "outputs": [
    {
     "data": {
      "text/plain": [
       "0    292.816966\n",
       "Name: T_Base_mean, dtype: float64"
      ]
     },
     "execution_count": 7,
     "metadata": {},
     "output_type": "execute_result"
    }
   ],
   "source": [
    "slices_df['T_Base_mean']"
   ]
  },
  {
   "cell_type": "code",
   "execution_count": 8,
   "metadata": {},
   "outputs": [
    {
     "data": {
      "text/plain": [
       "0    292.816966\n",
       "Name: T_B_check, dtype: float64"
      ]
     },
     "execution_count": 8,
     "metadata": {},
     "output_type": "execute_result"
    }
   ],
   "source": [
    "slices_df['T_B_check']"
   ]
  },
  {
   "cell_type": "code",
   "execution_count": 9,
   "metadata": {},
   "outputs": [],
   "source": [
    "bal,bal_perc = ty.recap_energy_balances(df_one)"
   ]
  },
  {
   "cell_type": "code",
   "execution_count": 10,
   "metadata": {},
   "outputs": [
    {
     "data": {
      "text/plain": [
       "{'glass': 0   -1.374900e-12\n",
       " dtype: float64,\n",
       " 'PV': 0   -0.000013\n",
       " dtype: float64,\n",
       " 'Base': 0    0.031213\n",
       " dtype: float64,\n",
       " 'absfin': 0    0.280962\n",
       " dtype: float64,\n",
       " 'tube': 0    0.00002\n",
       " dtype: float64}"
      ]
     },
     "execution_count": 10,
     "metadata": {},
     "output_type": "execute_result"
    }
   ],
   "source": [
    "bal"
   ]
  },
  {
   "cell_type": "code",
   "execution_count": 11,
   "metadata": {},
   "outputs": [
    {
     "data": {
      "text/plain": [
       "{'glass': 0   -8.260599e-14\n",
       " dtype: float64,\n",
       " 'PV': 0   -7.608999e-07\n",
       " dtype: float64,\n",
       " 'Base': 0    0.001875\n",
       " dtype: float64,\n",
       " 'absfin': 0    0.016881\n",
       " dtype: float64,\n",
       " 'tube': 0    0.000001\n",
       " dtype: float64}"
      ]
     },
     "execution_count": 11,
     "metadata": {},
     "output_type": "execute_result"
    }
   ],
   "source": [
    "bal_perc"
   ]
  },
  {
   "cell_type": "code",
   "execution_count": 12,
   "metadata": {},
   "outputs": [
    {
     "data": {
      "image/png": "[encoded data removed]",
      "text/plain": [
       "<Figure size 640x480 with 1 Axes>"
      ]
     },
     "metadata": {},
     "output_type": "display_data"
    }
   ],
   "source": [
    "# Create a directed graph\n",
    "G = nx.DiGraph()\n",
    "\n",
    "# Add nodes\n",
    "nodes = ['T_amb', 'T_sky', 'T_glass', 'T_PV', 'T_B', 'T_absfin', \n",
    "         'T_tube', 'T_fluid', 'T_ins_absfin', 'T_ins_tube', 'T_back', 'T_back_rad']\n",
    "G.add_nodes_from(nodes)\n",
    "\n",
    "# Add edges with labels\n",
    "edges = [('T_amb', 'T_glass', 'Qdot_top_conv'), ('T_sky', 'T_glass', 'Qdot_top_rad'),\n",
    "         ('T_glass', 'T_PV', 'Qdot_glass_PV'), ('T_PV', 'T_B', 'Qdot_PV_Base'),\n",
    "         ('T_PV', 'T_absfin', 'Qdot_PV_absfin'), ('T_absfin', 'T_B', 'Qdot_absfin_Base'),\n",
    "         ('T_B', 'T_tube', 'Qdot_Base_tube'), ('T_tube', 'T_fluid', 'Qdot_tube_fluid'),\n",
    "         ('T_absfin', 'T_ins_absfin', 'Qdot_absfin_ins_absfin'),\n",
    "         ('T_tube', 'T_ins_tube', 'Qdot_tube_ins_tube'),\n",
    "         ('T_ins_absfin', 'T_back', 'Qdot_ins_absfin_back'),\n",
    "         ('T_ins_absfin', 'T_back_rad', 'Qdot_ins_absfin_back_rad'),\n",
    "         ('T_ins_tube', 'T_back', 'Qdot_ins_tube_back'),\n",
    "         ('T_ins_tube', 'T_back_rad', 'Qdot_ins_tube_back_rad')]\n",
    "\n",
    "for u, v, label in edges:\n",
    "    G.add_edge(u, v, label=label)\n",
    "\n",
    "# Manually set positions based on TikZ coordinates\n",
    "pos = {\n",
    "    'T_amb': (3, 0),\n",
    "    'T_sky': (8, 0),\n",
    "    'T_glass': (5.5, -3),\n",
    "    'T_PV': (5.5, -8),\n",
    "    'T_B': (3, -11),\n",
    "    'T_absfin': (8, -11),\n",
    "    'T_tube': (4, -15),\n",
    "    'T_fluid': (4, -20),\n",
    "    'T_ins_absfin': (9, -19),\n",
    "    'T_ins_tube': (6, -19),\n",
    "    'T_back': (6, -26),\n",
    "    'T_back_rad': (9, -26)\n",
    "}\n",
    "\n",
    "# Draw the graph\n",
    "nx.draw(G, pos, with_labels=True, node_color='lightblue', edge_color='black')\n",
    "\n",
    "# Draw edge labels\n",
    "edge_labels = nx.get_edge_attributes(G, 'label')\n",
    "nx.draw_networkx_edge_labels(G, pos, edge_labels=edge_labels)\n",
    "\n",
    "plt.show()\n"
   ]
  },
  {
   "cell_type": "code",
   "execution_count": 13,
   "metadata": {},
   "outputs": [
    {
     "data": {
      "text/plain": [
       "Index(['G', 'Gp', 'T_amb', 'T_sky', 'T_back', 'T_back_rad', 'u', 'mdot',\n",
       "       'T_fluid_in', 'h_rad_f', 'h_top_g', 'h_back', 'h_rad_back',\n",
       "       'h_back_tube', 'h_rad_back_tube', 'h_back_fins', 'T_PV', 'T_fluid_out',\n",
       "       'T_tube_mean', 'T_glass', 'h_fluid', 'h_rad', 'X_celltemp', 'eta_PV',\n",
       "       'S', 'T_fluid_mean', 'T_Base_mean', 'T_absfin_mean', 'T_abs_mean',\n",
       "       'Qdot_absfin_back', 'T_ins_tube_mean', 'T_ins_absfin_mean',\n",
       "       'T_ins_mean', 'T_PV_Base_mean', 'T_PV_absfin_mean', 'Qdot_top_conv',\n",
       "       'Qdot_top_rad', 'Qdot_sun_glass', 'Qdot_sun_PV', 'Qdot_glass_PV',\n",
       "       'Qdot_PV_sky', 'Qdot_PV_plate', 'Qdot_PV_Base', 'Qdot_PV_absfin',\n",
       "       'Qdot_Base_back', 'Qdot_tube_fluid', 'Qdot_tube_sky', 'Qdot_Base_tube',\n",
       "       'Qdot_absfin_Base', 'Qdot_absfin_back_conv', 'Qdot_absfin_back_rad',\n",
       "       'Qdot_tube_back_conv', 'Qdot_tube_back_rad', 'Qdot_ins_tube_back_conv',\n",
       "       'Qdot_ins_tube_back_rad', 'Qdot_ins_absfin_back_conv',\n",
       "       'Qdot_ins_absfin_back_rad', 'Qdot_f01'],\n",
       "      dtype='object')"
      ]
     },
     "execution_count": 13,
     "metadata": {},
     "output_type": "execute_result"
    }
   ],
   "source": [
    "df_one.columns"
   ]
  },
  {
   "cell_type": "code",
   "execution_count": 14,
   "metadata": {},
   "outputs": [
    {
     "data": {
      "text/plain": [
       "281.15"
      ]
     },
     "execution_count": 14,
     "metadata": {},
     "output_type": "execute_result"
    }
   ],
   "source": [
    "df_one['T_back'].iloc[0]"
   ]
  },
  {
   "cell_type": "code",
   "execution_count": 15,
   "metadata": {},
   "outputs": [
    {
     "data": {
      "image/png": "[encoded data removed]",
      "text/plain": [
       "<Figure size 640x480 with 1 Axes>"
      ]
     },
     "metadata": {},
     "output_type": "display_data"
    }
   ],
   "source": [
    "# Create a directed graph\n",
    "G = nx.DiGraph()\n",
    "\n",
    "# Add nodes with labels including temperature\n",
    "nodes = ['Sun','T_amb', 'T_sky', 'T_glass', 'T_PV', 'T_Base', 'T_absfin', \n",
    "         'T_tube', 'T_fluid', 'T_ins_absfin', 'T_ins_tube', 'T_back', 'T_back_rad']\n",
    "\n",
    "nodes_keys = ['Sun','T_amb', 'T_sky', 'T_glass', 'T_PV', 'T_Base_mean', 'T_absfin_mean',\n",
    "                'T_tube_mean', 'T_fluid_mean', 'T_ins_absfin_mean', 'T_ins_tube_mean', 'T_back', 'T_back_rad']\n",
    "\n",
    "for i,node in enumerate(nodes):\n",
    "    if node == \"Sun\":\n",
    "        G.add_node(node, label=node)\n",
    "    else:\n",
    "        G.add_node(node, label=f\"{node} = {round(df_one[nodes_keys[i]].iloc[0]-273.15,1)} °C\")\n",
    "\n",
    "# Add edges with heat transfer labels\n",
    "edges = [('Sun','T_glass','Qdot_sun_glass'),('Sun','T_PV','Qdot_sun_PV'),\n",
    "         ('T_glass', 'T_amb', 'Qdot_top_conv'),('T_glass', 'T_sky', 'Qdot_top_rad'),\n",
    "         ('T_glass', 'T_PV', 'Qdot_glass_PV'), ('T_PV', 'T_Base', 'Qdot_PV_Base'),\n",
    "         ('T_PV', 'T_absfin', 'Qdot_PV_absfin'), ('T_absfin', 'T_Base', 'Qdot_absfin_Base'),\n",
    "         ('T_Base', 'T_tube', 'Qdot_Base_tube'), ('T_tube', 'T_fluid', 'Qdot_tube_fluid'),\n",
    "         ('T_absfin', 'T_ins_absfin', ''),\n",
    "         ('T_tube', 'T_ins_tube', ''),\n",
    "         ('T_ins_absfin', 'T_back', ''),\n",
    "         ('T_ins_absfin', 'T_back_rad', ''),\n",
    "         ('T_ins_tube', 'T_back', ''),\n",
    "         ('T_ins_tube', 'T_back_rad', '')]\n",
    "\n",
    "for u, v, label in edges:\n",
    "    if label == '':\n",
    "        G.add_edge(u, v)\n",
    "    else:\n",
    "        G.add_edge(u, v, label=f\"{round(df_one[label].iloc[0],1)} W\")\n",
    "\n",
    "# Manually set positions based on TikZ coordinates\n",
    "pos = {'Sun': (3,0),\n",
    "    'T_amb': (9, 0),\n",
    "    'T_sky': (14, 0),\n",
    "    'T_glass': (12, -6),\n",
    "    'T_PV': (12, -12),\n",
    "    'T_Base': (9, -20),\n",
    "    'T_absfin': (14, -20),\n",
    "    'T_tube': (7, -25),\n",
    "    'T_fluid': (7, -33),\n",
    "    'T_ins_absfin': (15, -30),\n",
    "    'T_ins_tube': (12, -30),\n",
    "    'T_back': (12, -37),\n",
    "    'T_back_rad': (15, -37)\n",
    "}\n",
    "\n",
    "# Draw the graph with updated node labels\n",
    "node_labels = nx.get_node_attributes(G, 'label')\n",
    "nx.draw(G, pos, labels=node_labels, with_labels=True, node_color='lightblue', edge_color='black')\n",
    "\n",
    "# Draw edge labels with updated heat transfer values\n",
    "edge_labels = nx.get_edge_attributes(G, 'label')\n",
    "nx.draw_networkx_edge_labels(G, pos, edge_labels=edge_labels)\n",
    "\n",
    "plt.show()"
   ]
  },
  {
   "cell_type": "code",
   "execution_count": 16,
   "metadata": {},
   "outputs": [
    {
     "data": {
      "text/plain": [
       "0    68.83501\n",
       "dtype: float64"
      ]
     },
     "execution_count": 16,
     "metadata": {},
     "output_type": "execute_result"
    }
   ],
   "source": [
    "df_one['Qdot_sun_PV'] + df_one['Qdot_sun_glass']"
   ]
  },
  {
   "cell_type": "code",
   "execution_count": 17,
   "metadata": {},
   "outputs": [
    {
     "data": {
      "text/plain": [
       "0   -43.72037\n",
       "dtype: float64"
      ]
     },
     "execution_count": 17,
     "metadata": {},
     "output_type": "execute_result"
    }
   ],
   "source": [
    "- df_one['Qdot_top_conv'] - df_one['Qdot_top_rad'] - df_one['Qdot_PV_sky'] - df_one['Qdot_absfin_back_conv'] - df_one['Qdot_absfin_back_rad'] - df_one['Qdot_Base_back'] - df_one['Qdot_tube_back_conv'] - df_one['Qdot_tube_back_rad'] - df_one['Qdot_tube_sky']"
   ]
  },
  {
   "cell_type": "code",
   "execution_count": 18,
   "metadata": {},
   "outputs": [],
   "source": [
    "ht_labels = ['Qdot_sun_PV', 'Qdot_sun_glass', 'Qdot_top_conv', 'Qdot_top_rad', 'Qdot_PV_sky', 'Qdot_absfin_back_conv', 'Qdot_absfin_back_rad', 'Qdot_Base_back', 'Qdot_tube_back_conv', 'Qdot_tube_back_rad', 'Qdot_tube_sky']"
   ]
  },
  {
   "cell_type": "code",
   "execution_count": 19,
   "metadata": {},
   "outputs": [],
   "source": [
    "ht_signs = {'Qdot_sun_PV':1, 'Qdot_sun_glass':1, 'Qdot_top_conv':-1, 'Qdot_top_rad':-1, 'Qdot_PV_sky':-1, 'Qdot_absfin_back_conv':-1, 'Qdot_absfin_back_rad':-1, 'Qdot_Base_back':-1, 'Qdot_tube_back_conv':-1, 'Qdot_tube_back_rad':-1, 'Qdot_tube_sky':-1}"
   ]
  },
  {
   "cell_type": "code",
   "execution_count": 20,
   "metadata": {},
   "outputs": [
    {
     "data": {
      "text/plain": [
       "0    24.802458\n",
       "Name: Qdot_tube_fluid, dtype: float64"
      ]
     },
     "execution_count": 20,
     "metadata": {},
     "output_type": "execute_result"
    }
   ],
   "source": [
    "df_one['Qdot_tube_fluid']"
   ]
  },
  {
   "cell_type": "code",
   "execution_count": 21,
   "metadata": {},
   "outputs": [],
   "source": [
    "data = {key:ht_signs[key]*df_one[key].values[0] for key in ht_labels}"
   ]
  },
  {
   "cell_type": "code",
   "execution_count": 22,
   "metadata": {},
   "outputs": [
    {
     "data": {
      "application/vnd.plotly.v1+json": {
       "config": {
        "plotlyServerURL": "https://plot.ly"
       },
       "data": [
        {
         "base": 0,
         "name": "Qdot_sun_PV",
         "type": "bar",
         "width": 0.2,
         "x": [
          "Heat Transfer Contributions"
         ],
         "y": [
          63.830010140740264
         ]
        },
        {
         "base": 63.830010140740264,
         "name": "Qdot_sun_glass",
         "type": "bar",
         "width": 0.2,
         "x": [
          "Heat Transfer Contributions"
         ],
         "y": [
          5.005000000000001
         ]
        },
        {
         "base": 0,
         "name": "Qdot_top_conv",
         "type": "bar",
         "width": 0.2,
         "x": [
          "Heat Transfer Contributions"
         ],
         "y": [
          -17.767592573339584
         ]
        },
        {
         "base": -17.767592573339584,
         "name": "Qdot_top_rad",
         "type": "bar",
         "width": 0.2,
         "x": [
          "Heat Transfer Contributions"
         ],
         "y": [
          -6.684915411951368
         ]
        },
        {
         "base": -24.452507985290953,
         "name": "Qdot_PV_sky",
         "type": "bar",
         "width": 0.2,
         "x": [
          "Heat Transfer Contributions"
         ],
         "y": [
          -6.939493038751843
         ]
        },
        {
         "base": -31.3920010240428,
         "name": "Qdot_absfin_back_conv",
         "type": "bar",
         "width": 0.2,
         "x": [
          "Heat Transfer Contributions"
         ],
         "y": [
          -2.6316665811493904
         ]
        },
        {
         "base": -34.02366760519219,
         "name": "Qdot_absfin_back_rad",
         "type": "bar",
         "width": 0.2,
         "x": [
          "Heat Transfer Contributions"
         ],
         "y": [
          -4.858700978564148
         ]
        },
        {
         "base": 68.83501014074027,
         "name": "Qdot_Base_back",
         "type": "bar",
         "width": 0.2,
         "x": [
          "Heat Transfer Contributions"
         ],
         "y": [
          0
         ]
        },
        {
         "base": -38.88236858375633,
         "name": "Qdot_tube_back_conv",
         "type": "bar",
         "width": 0.2,
         "x": [
          "Heat Transfer Contributions"
         ],
         "y": [
          -1.704565868799244
         ]
        },
        {
         "base": -40.586934452555575,
         "name": "Qdot_tube_back_rad",
         "type": "bar",
         "width": 0.2,
         "x": [
          "Heat Transfer Contributions"
         ],
         "y": [
          -3.133435869315445
         ]
        },
        {
         "base": 68.83501014074027,
         "name": "Qdot_tube_sky",
         "type": "bar",
         "width": 0.2,
         "x": [
          "Heat Transfer Contributions"
         ],
         "y": [
          0
         ]
        }
       ],
       "layout": {
        "barmode": "overlay",
        "template": {
         "data": {
          "bar": [
           {
            "error_x": {
             "color": "#2a3f5f"
            },
            "error_y": {
             "color": "#2a3f5f"
            },
            "marker": {
             "line": {
              "color": "#E5ECF6",
              "width": 0.5
             },
             "pattern": {
              "fillmode": "overlay",
              "size": 10,
              "solidity": 0.2
             }
            },
            "type": "bar"
           }
          ],
          "barpolar": [
           {
            "marker": {
             "line": {
              "color": "#E5ECF6",
              "width": 0.5
             },
             "pattern": {
              "fillmode": "overlay",
              "size": 10,
              "solidity": 0.2
             }
            },
            "type": "barpolar"
           }
          ],
          "carpet": [
           {
            "aaxis": {
             "endlinecolor": "#2a3f5f",
             "gridcolor": "white",
             "linecolor": "white",
             "minorgridcolor": "white",
             "startlinecolor": "#2a3f5f"
            },
            "baxis": {
             "endlinecolor": "#2a3f5f",
             "gridcolor": "white",
             "linecolor": "white",
             "minorgridcolor": "white",
             "startlinecolor": "#2a3f5f"
            },
            "type": "carpet"
           }
          ],
          "choropleth": [
           {
            "colorbar": {
             "outlinewidth": 0,
             "ticks": ""
            },
            "type": "choropleth"
           }
          ],
          "contour": [
           {
            "colorbar": {
             "outlinewidth": 0,
             "ticks": ""
            },
            "colorscale": [
             [
              0,
              "#0d0887"
             ],
             [
              0.1111111111111111,
              "#46039f"
             ],
             [
              0.2222222222222222,
              "#7201a8"
             ],
             [
              0.3333333333333333,
              "#9c179e"
             ],
             [
              0.4444444444444444,
              "#bd3786"
             ],
             [
              0.5555555555555556,
              "#d8576b"
             ],
             [
              0.6666666666666666,
              "#ed7953"
             ],
             [
              0.7777777777777778,
              "#fb9f3a"
             ],
             [
              0.8888888888888888,
              "#fdca26"
             ],
             [
              1,
              "#f0f921"
             ]
            ],
            "type": "contour"
           }
          ],
          "contourcarpet": [
           {
            "colorbar": {
             "outlinewidth": 0,
             "ticks": ""
            },
            "type": "contourcarpet"
           }
          ],
          "heatmap": [
           {
            "colorbar": {
             "outlinewidth": 0,
             "ticks": ""
            },
            "colorscale": [
             [
              0,
              "#0d0887"
             ],
             [
              0.1111111111111111,
              "#46039f"
             ],
             [
              0.2222222222222222,
              "#7201a8"
             ],
             [
              0.3333333333333333,
              "#9c179e"
             ],
             [
              0.4444444444444444,
              "#bd3786"
             ],
             [
              0.5555555555555556,
              "#d8576b"
             ],
             [
              0.6666666666666666,
              "#ed7953"
             ],
             [
              0.7777777777777778,
              "#fb9f3a"
             ],
             [
              0.8888888888888888,
              "#fdca26"
             ],
             [
              1,
              "#f0f921"
             ]
            ],
            "type": "heatmap"
           }
          ],
          "heatmapgl": [
           {
            "colorbar": {
             "outlinewidth": 0,
             "ticks": ""
            },
            "colorscale": [
             [
              0,
              "#0d0887"
             ],
             [
              0.1111111111111111,
              "#46039f"
             ],
             [
              0.2222222222222222,
              "#7201a8"
             ],
             [
              0.3333333333333333,
              "#9c179e"
             ],
             [
              0.4444444444444444,
              "#bd3786"
             ],
             [
              0.5555555555555556,
              "#d8576b"
             ],
             [
              0.6666666666666666,
              "#ed7953"
             ],
             [
              0.7777777777777778,
              "#fb9f3a"
             ],
             [
              0.8888888888888888,
              "#fdca26"
             ],
             [
              1,
              "#f0f921"
             ]
            ],
            "type": "heatmapgl"
           }
          ],
          "histogram": [
           {
            "marker": {
             "pattern": {
              "fillmode": "overlay",
              "size": 10,
              "solidity": 0.2
             }
            },
            "type": "histogram"
           }
          ],
          "histogram2d": [
           {
            "colorbar": {
             "outlinewidth": 0,
             "ticks": ""
            },
            "colorscale": [
             [
              0,
              "#0d0887"
             ],
             [
              0.1111111111111111,
              "#46039f"
             ],
             [
              0.2222222222222222,
              "#7201a8"
             ],
             [
              0.3333333333333333,
              "#9c179e"
             ],
             [
              0.4444444444444444,
              "#bd3786"
             ],
             [
              0.5555555555555556,
              "#d8576b"
             ],
             [
              0.6666666666666666,
              "#ed7953"
             ],
             [
              0.7777777777777778,
              "#fb9f3a"
             ],
             [
              0.8888888888888888,
              "#fdca26"
             ],
             [
              1,
              "#f0f921"
             ]
            ],
            "type": "histogram2d"
           }
          ],
          "histogram2dcontour": [
           {
            "colorbar": {
             "outlinewidth": 0,
             "ticks": ""
            },
            "colorscale": [
             [
              0,
              "#0d0887"
             ],
             [
              0.1111111111111111,
              "#46039f"
             ],
             [
              0.2222222222222222,
              "#7201a8"
             ],
             [
              0.3333333333333333,
              "#9c179e"
             ],
             [
              0.4444444444444444,
              "#bd3786"
             ],
             [
              0.5555555555555556,
              "#d8576b"
             ],
             [
              0.6666666666666666,
              "#ed7953"
             ],
             [
              0.7777777777777778,
              "#fb9f3a"
             ],
             [
              0.8888888888888888,
              "#fdca26"
             ],
             [
              1,
              "#f0f921"
             ]
            ],
            "type": "histogram2dcontour"
           }
          ],
          "mesh3d": [
           {
            "colorbar": {
             "outlinewidth": 0,
             "ticks": ""
            },
            "type": "mesh3d"
           }
          ],
          "parcoords": [
           {
            "line": {
             "colorbar": {
              "outlinewidth": 0,
              "ticks": ""
             }
            },
            "type": "parcoords"
           }
          ],
          "pie": [
           {
            "automargin": true,
            "type": "pie"
           }
          ],
          "scatter": [
           {
            "fillpattern": {
             "fillmode": "overlay",
             "size": 10,
             "solidity": 0.2
            },
            "type": "scatter"
           }
          ],
          "scatter3d": [
           {
            "line": {
             "colorbar": {
              "outlinewidth": 0,
              "ticks": ""
             }
            },
            "marker": {
             "colorbar": {
              "outlinewidth": 0,
              "ticks": ""
             }
            },
            "type": "scatter3d"
           }
          ],
          "scattercarpet": [
           {
            "marker": {
             "colorbar": {
              "outlinewidth": 0,
              "ticks": ""
             }
            },
            "type": "scattercarpet"
           }
          ],
          "scattergeo": [
           {
            "marker": {
             "colorbar": {
              "outlinewidth": 0,
              "ticks": ""
             }
            },
            "type": "scattergeo"
           }
          ],
          "scattergl": [
           {
            "marker": {
             "colorbar": {
              "outlinewidth": 0,
              "ticks": ""
             }
            },
            "type": "scattergl"
           }
          ],
          "scattermapbox": [
           {
            "marker": {
             "colorbar": {
              "outlinewidth": 0,
              "ticks": ""
             }
            },
            "type": "scattermapbox"
           }
          ],
          "scatterpolar": [
           {
            "marker": {
             "colorbar": {
              "outlinewidth": 0,
              "ticks": ""
             }
            },
            "type": "scatterpolar"
           }
          ],
          "scatterpolargl": [
           {
            "marker": {
             "colorbar": {
              "outlinewidth": 0,
              "ticks": ""
             }
            },
            "type": "scatterpolargl"
           }
          ],
          "scatterternary": [
           {
            "marker": {
             "colorbar": {
              "outlinewidth": 0,
              "ticks": ""
             }
            },
            "type": "scatterternary"
           }
          ],
          "surface": [
           {
            "colorbar": {
             "outlinewidth": 0,
             "ticks": ""
            },
            "colorscale": [
             [
              0,
              "#0d0887"
             ],
             [
              0.1111111111111111,
              "#46039f"
             ],
             [
              0.2222222222222222,
              "#7201a8"
             ],
             [
              0.3333333333333333,
              "#9c179e"
             ],
             [
              0.4444444444444444,
              "#bd3786"
             ],
             [
              0.5555555555555556,
              "#d8576b"
             ],
             [
              0.6666666666666666,
              "#ed7953"
             ],
             [
              0.7777777777777778,
              "#fb9f3a"
             ],
             [
              0.8888888888888888,
              "#fdca26"
             ],
             [
              1,
              "#f0f921"
             ]
            ],
            "type": "surface"
           }
          ],
          "table": [
           {
            "cells": {
             "fill": {
              "color": "#EBF0F8"
             },
             "line": {
              "color": "white"
             }
            },
            "header": {
             "fill": {
              "color": "#C8D4E3"
             },
             "line": {
              "color": "white"
             }
            },
            "type": "table"
           }
          ]
         },
         "layout": {
          "annotationdefaults": {
           "arrowcolor": "#2a3f5f",
           "arrowhead": 0,
           "arrowwidth": 1
          },
          "autotypenumbers": "strict",
          "coloraxis": {
           "colorbar": {
            "outlinewidth": 0,
            "ticks": ""
           }
          },
          "colorscale": {
           "diverging": [
            [
             0,
             "#8e0152"
            ],
            [
             0.1,
             "#c51b7d"
            ],
            [
             0.2,
             "#de77ae"
            ],
            [
             0.3,
             "#f1b6da"
            ],
            [
             0.4,
             "#fde0ef"
            ],
            [
             0.5,
             "#f7f7f7"
            ],
            [
             0.6,
             "#e6f5d0"
            ],
            [
             0.7,
             "#b8e186"
            ],
            [
             0.8,
             "#7fbc41"
            ],
            [
             0.9,
             "#4d9221"
            ],
            [
             1,
             "#276419"
            ]
           ],
           "sequential": [
            [
             0,
             "#0d0887"
            ],
            [
             0.1111111111111111,
             "#46039f"
            ],
            [
             0.2222222222222222,
             "#7201a8"
            ],
            [
             0.3333333333333333,
             "#9c179e"
            ],
            [
             0.4444444444444444,
             "#bd3786"
            ],
            [
             0.5555555555555556,
             "#d8576b"
            ],
            [
             0.6666666666666666,
             "#ed7953"
            ],
            [
             0.7777777777777778,
             "#fb9f3a"
            ],
            [
             0.8888888888888888,
             "#fdca26"
            ],
            [
             1,
             "#f0f921"
            ]
           ],
           "sequentialminus": [
            [
             0,
             "#0d0887"
            ],
            [
             0.1111111111111111,
             "#46039f"
            ],
            [
             0.2222222222222222,
             "#7201a8"
            ],
            [
             0.3333333333333333,
             "#9c179e"
            ],
            [
             0.4444444444444444,
             "#bd3786"
            ],
            [
             0.5555555555555556,
             "#d8576b"
            ],
            [
             0.6666666666666666,
             "#ed7953"
            ],
            [
             0.7777777777777778,
             "#fb9f3a"
            ],
            [
             0.8888888888888888,
             "#fdca26"
            ],
            [
             1,
             "#f0f921"
            ]
           ]
          },
          "colorway": [
           "#636efa",
           "#EF553B",
           "#00cc96",
           "#ab63fa",
           "#FFA15A",
           "#19d3f3",
           "#FF6692",
           "#B6E880",
           "#FF97FF",
           "#FECB52"
          ],
          "font": {
           "color": "#2a3f5f"
          },
          "geo": {
           "bgcolor": "white",
           "lakecolor": "white",
           "landcolor": "#E5ECF6",
           "showlakes": true,
           "showland": true,
           "subunitcolor": "white"
          },
          "hoverlabel": {
           "align": "left"
          },
          "hovermode": "closest",
          "mapbox": {
           "style": "light"
          },
          "paper_bgcolor": "white",
          "plot_bgcolor": "#E5ECF6",
          "polar": {
           "angularaxis": {
            "gridcolor": "white",
            "linecolor": "white",
            "ticks": ""
           },
           "bgcolor": "#E5ECF6",
           "radialaxis": {
            "gridcolor": "white",
            "linecolor": "white",
            "ticks": ""
           }
          },
          "scene": {
           "xaxis": {
            "backgroundcolor": "#E5ECF6",
            "gridcolor": "white",
            "gridwidth": 2,
            "linecolor": "white",
            "showbackground": true,
            "ticks": "",
            "zerolinecolor": "white"
           },
           "yaxis": {
            "backgroundcolor": "#E5ECF6",
            "gridcolor": "white",
            "gridwidth": 2,
            "linecolor": "white",
            "showbackground": true,
            "ticks": "",
            "zerolinecolor": "white"
           },
           "zaxis": {
            "backgroundcolor": "#E5ECF6",
            "gridcolor": "white",
            "gridwidth": 2,
            "linecolor": "white",
            "showbackground": true,
            "ticks": "",
            "zerolinecolor": "white"
           }
          },
          "shapedefaults": {
           "line": {
            "color": "#2a3f5f"
           }
          },
          "ternary": {
           "aaxis": {
            "gridcolor": "white",
            "linecolor": "white",
            "ticks": ""
           },
           "baxis": {
            "gridcolor": "white",
            "linecolor": "white",
            "ticks": ""
           },
           "bgcolor": "#E5ECF6",
           "caxis": {
            "gridcolor": "white",
            "linecolor": "white",
            "ticks": ""
           }
          },
          "title": {
           "x": 0.05
          },
          "xaxis": {
           "automargin": true,
           "gridcolor": "white",
           "linecolor": "white",
           "ticks": "",
           "title": {
            "standoff": 15
           },
           "zerolinecolor": "white",
           "zerolinewidth": 2
          },
          "yaxis": {
           "automargin": true,
           "gridcolor": "white",
           "linecolor": "white",
           "ticks": "",
           "title": {
            "standoff": 15
           },
           "zerolinecolor": "white",
           "zerolinewidth": 2
          }
         }
        },
        "title": {
         "text": "Decomposition of Qdot_tube_fluid in Different Heat Transfer Contributions"
        },
        "yaxis": {
         "title": {
          "text": "Value"
         }
        }
       }
      }
     },
     "metadata": {},
     "output_type": "display_data"
    }
   ],
   "source": [
    "# Adjusted approach for a single-column histogram with offset bars\n",
    "fig = go.Figure()\n",
    "\n",
    "# Initialize cumulative sums for positive and negative values\n",
    "cumulative_positive = 0\n",
    "cumulative_negative = 0\n",
    "\n",
    "for key, value in data.items():\n",
    "    if value >= 0:\n",
    "        # For positive values, start from the last positive cumulative sum\n",
    "        base = cumulative_positive\n",
    "        cumulative_positive += value\n",
    "    else:\n",
    "        # For negative values, start from the last negative cumulative sum\n",
    "        base = cumulative_negative\n",
    "        cumulative_negative += value\n",
    "    \n",
    "    fig.add_trace(go.Bar(\n",
    "        x=[\"Heat Transfer Contributions\"],\n",
    "        y=[value],\n",
    "        name=key,\n",
    "        width=0.2,\n",
    "        base=base  # Set the starting point of the bar\n",
    "    ))\n",
    "\n",
    "# Update the layout\n",
    "fig.update_layout(\n",
    "    title=\"Decomposition of Qdot_tube_fluid in Different Heat Transfer Contributions\",\n",
    "    yaxis_title=\"Value\",\n",
    "    barmode=\"overlay\"  # Overlay the bars\n",
    ")\n",
    "\n",
    "# Show the figure\n",
    "fig.show()\n"
   ]
  },
  {
   "cell_type": "code",
   "execution_count": null,
   "metadata": {},
   "outputs": [],
   "source": [
    "df_one['Q_PV_absfin']"
   ]
  },
  {
   "cell_type": "code",
   "execution_count": null,
   "metadata": {},
   "outputs": [],
   "source": [
    "df_one['Q_absfin_Base']"
   ]
  },
  {
   "cell_type": "code",
   "execution_count": null,
   "metadata": {},
   "outputs": [],
   "source": [
    "df_one['h_back']"
   ]
  },
  {
   "cell_type": "code",
   "execution_count": null,
   "metadata": {},
   "outputs": [],
   "source": [
    "df_one['Q_absfin_back_rad'] "
   ]
  },
  {
   "cell_type": "code",
   "execution_count": null,
   "metadata": {},
   "outputs": [],
   "source": [
    "df_one['Q_absfin_back_conv']"
   ]
  },
  {
   "cell_type": "code",
   "execution_count": null,
   "metadata": {},
   "outputs": [],
   "source": [
    "df_one['h_rad_back']"
   ]
  },
  {
   "cell_type": "code",
   "execution_count": null,
   "metadata": {},
   "outputs": [],
   "source": [
    "df_one['T_absfin_mean']"
   ]
  },
  {
   "cell_type": "code",
   "execution_count": null,
   "metadata": {},
   "outputs": [],
   "source": [
    "df_one['Q_Base_tube']"
   ]
  },
  {
   "cell_type": "code",
   "execution_count": null,
   "metadata": {},
   "outputs": [],
   "source": [
    "df_one['Q_tube_fluid']"
   ]
  },
  {
   "cell_type": "code",
   "execution_count": null,
   "metadata": {},
   "outputs": [],
   "source": [
    "df_one['Q_tube_back_conv']"
   ]
  },
  {
   "cell_type": "code",
   "execution_count": null,
   "metadata": {},
   "outputs": [],
   "source": [
    "df_one['Q_tube_back_rad']"
   ]
  },
  {
   "cell_type": "code",
   "execution_count": null,
   "metadata": {},
   "outputs": [],
   "source": [
    "df_one['Q_tube_sky']"
   ]
  },
  {
   "cell_type": "code",
   "execution_count": null,
   "metadata": {},
   "outputs": [],
   "source": [
    "slices_df['T_tube_mean']"
   ]
  },
  {
   "cell_type": "code",
   "execution_count": null,
   "metadata": {},
   "outputs": [],
   "source": [
    "slices_df['T_glass']"
   ]
  },
  {
   "cell_type": "code",
   "execution_count": null,
   "metadata": {},
   "outputs": [],
   "source": [
    "slices_df['T_amb']"
   ]
  },
  {
   "cell_type": "code",
   "execution_count": null,
   "metadata": {},
   "outputs": [],
   "source": [
    "df_one['Q_PV_Base']"
   ]
  },
  {
   "cell_type": "code",
   "execution_count": null,
   "metadata": {},
   "outputs": [],
   "source": [
    "df_one['Q_absfin_Base'] "
   ]
  },
  {
   "cell_type": "code",
   "execution_count": null,
   "metadata": {},
   "outputs": [],
   "source": [
    "df_one['Q_Base_tube']"
   ]
  },
  {
   "cell_type": "code",
   "execution_count": null,
   "metadata": {},
   "outputs": [],
   "source": [
    "df_one['Q_Base_back']"
   ]
  },
  {
   "cell_type": "code",
   "execution_count": null,
   "metadata": {},
   "outputs": [],
   "source": [
    "df_one['Q_PV_Base'] + df_one['Q_Base_tube']"
   ]
  },
  {
   "cell_type": "code",
   "execution_count": null,
   "metadata": {},
   "outputs": [],
   "source": [
    "df_one['T_PV']"
   ]
  },
  {
   "cell_type": "code",
   "execution_count": null,
   "metadata": {},
   "outputs": [],
   "source": [
    "df_one['T_Base_mean']"
   ]
  },
  {
   "cell_type": "code",
   "execution_count": null,
   "metadata": {},
   "outputs": [],
   "source": [
    "df_one['T_tube_mean']"
   ]
  },
  {
   "cell_type": "code",
   "execution_count": null,
   "metadata": {},
   "outputs": [],
   "source": [
    "df_one['T_fluid_mean']"
   ]
  },
  {
   "cell_type": "code",
   "execution_count": null,
   "metadata": {},
   "outputs": [],
   "source": [
    "6.09/9.84"
   ]
  },
  {
   "cell_type": "code",
   "execution_count": null,
   "metadata": {},
   "outputs": [],
   "source": [
    "df_one['Q_tube_sky']"
   ]
  },
  {
   "cell_type": "code",
   "execution_count": null,
   "metadata": {},
   "outputs": [],
   "source": [
    "df_one['Q_Base_tube']"
   ]
  },
  {
   "cell_type": "code",
   "execution_count": null,
   "metadata": {},
   "outputs": [],
   "source": [
    "df_one['Q_tube_fluid']"
   ]
  },
  {
   "cell_type": "code",
   "execution_count": null,
   "metadata": {},
   "outputs": [],
   "source": [
    "df_one['Q_tube_back_conv']"
   ]
  },
  {
   "cell_type": "code",
   "execution_count": null,
   "metadata": {},
   "outputs": [],
   "source": [
    "df_one['Q_tube_back_rad']"
   ]
  },
  {
   "cell_type": "code",
   "execution_count": null,
   "metadata": {},
   "outputs": [],
   "source": [
    "df_one['Q_glass_PV']"
   ]
  },
  {
   "cell_type": "code",
   "execution_count": null,
   "metadata": {},
   "outputs": [],
   "source": [
    "df_one['Q_sun_glass']"
   ]
  },
  {
   "cell_type": "code",
   "execution_count": null,
   "metadata": {},
   "outputs": [],
   "source": [
    "df_one['Q_top_conv']"
   ]
  },
  {
   "cell_type": "code",
   "execution_count": null,
   "metadata": {},
   "outputs": [],
   "source": [
    "df_one['Q_top_rad']"
   ]
  },
  {
   "cell_type": "code",
   "execution_count": null,
   "metadata": {},
   "outputs": [],
   "source": [
    "df_one['Q_PV_Base']"
   ]
  },
  {
   "cell_type": "code",
   "execution_count": null,
   "metadata": {},
   "outputs": [],
   "source": [
    "df_one['Q_PV_absfin']"
   ]
  },
  {
   "cell_type": "code",
   "execution_count": null,
   "metadata": {},
   "outputs": [],
   "source": [
    "df_one['Q_PV_plate']"
   ]
  },
  {
   "cell_type": "code",
   "execution_count": null,
   "metadata": {},
   "outputs": [],
   "source": []
  }
 ],
 "metadata": {
  "kernelspec": {
   "display_name": "model23",
   "language": "python",
   "name": "python3"
  },
  "language_info": {
   "codemirror_mode": {
    "name": "ipython",
    "version": 3
   },
   "file_extension": ".py",
   "mimetype": "text/x-python",
   "name": "python",
   "nbconvert_exporter": "python",
   "pygments_lexer": "ipython3",
   "version": "3.10.5"
  }
 },
 "nbformat": 4,
 "nbformat_minor": 2
}
