{
 "cells": [
  {
   "cell_type": "code",
   "execution_count": 1,
   "metadata": {},
   "outputs": [],
   "source": [
    "import numpy as np\n",
    "import pandas as pd\n",
    "import matplotlib.pyplot as plt\n",
    "\n",
    "from fipy import Variable, FaceVariable, CellVariable, Grid1D, Grid2D, Grid3D, ExplicitDiffusionTerm, TransientTerm, DiffusionTerm, ImplicitSourceTerm\n",
    "from fipy.tools import numerix, dot\n",
    "from fipy import input\n",
    "from builtins import range\n",
    "\n",
    "import heat_transfer as bht\n",
    "import model_fins as modfins"
   ]
  },
  {
   "cell_type": "code",
   "execution_count": 41,
   "metadata": {},
   "outputs": [],
   "source": [
    "from fipy.tools import dot"
   ]
  },
  {
   "cell_type": "code",
   "execution_count": null,
   "metadata": {},
   "outputs": [],
   "source": [
    "length = 0.050\n",
    "height = 0.020\n",
    "thickness = 0.001\n",
    "\n",
    "nx = 100\n",
    "ny = int ((nx/length) * height)\n",
    "nz = 10\n",
    "\n",
    "dx = length / nx\n",
    "dy = height / ny\n",
    "dz = thickness / nz\n",
    "\n",
    "# mesh = Grid1D(nx=nx, dx=dx)\n",
    "\n",
    "mesh = Grid3D(nx=nx, ny=ny, nz=nz, dx=dx, dy=dy, dz=dz)\n",
    "\n",
    "phi = CellVariable(name=\"solution variable\",\n",
    "                    mesh=mesh,\n",
    "                    value=10.)\n",
    "\n",
    "k = 226\n",
    "D = 9.7e-5\n",
    "\n",
    "valueLeft = 10\n",
    "valueRight = 2\n",
    "\n",
    "phi.constrain(valueLeft, mesh.facesLeft)\n",
    "# phi.constrain(valueRight, mesh.facesRight)\n",
    "\n",
    "### CONVECTION\n",
    "\n",
    "# Convection boundary conditions on front and back faces\n",
    "T_infinity = 50.  # Ambient temperature\n",
    "h = 10  # Convection coefficient\n",
    "\n",
    "# Define the convection condition on the front and back faces\n",
    "# Heat flux on front and back faces: q = h * (T_infinity - T)\n",
    "\n",
    "A_facecell = dx * dy\n",
    "convective_flux = h * A_facecell * (T_infinity - phi.faceValue)\n",
    "\n",
    "gradient = convective_flux / (k*A_facecell)\n",
    "\n",
    "# phi.faceGrad.constrain(gradient * mesh.faceNormals, where=mesh.facesFront)\n",
    "# phi.faceGrad.constrain(gradient * mesh.faceNormals, where=mesh.facesBack)\n",
    "\n",
    "q_conv_front = h * (T_infinity - phi.faceValue[mesh.facesFront])\n",
    "q_conv_back = h * (T_infinity - phi.faceValue[mesh.facesBack])\n",
    "\n",
    "# Apply heat flux boundary condition (q = -k * dT/dn) on the front and back faces\n",
    "phi.faceGrad.constrain((q_conv_front / k) * mesh.faceNormals, where=mesh.facesFront)\n",
    "# phi.faceGrad.constrain(q_conv_back / k, where=mesh.facesBack)\n",
    "\n",
    "# Apply convection boundary condition on the front and back faces\n",
    "# phi.faceGrad.constrain((0., 0., convective_flux / D), where=mesh.facesTop)\n",
    "# phi.faceGrad.constrain(convective_flux / D, where=mesh.facesRight)\n",
    "\n",
    "# Steady state\n",
    "\n",
    "DiffusionTerm(coeff=D).solve(var=phi)\n",
    "\n",
    "# L = nx * dx\n",
    "# print(phi.allclose(valueLeft + (valueRight - valueLeft) * x / L,\n",
    "#                    rtol = 1e-10, atol = 1e-10))\n",
    "\n",
    "# plt.plot(phi.value)"
   ]
  },
  {
   "cell_type": "markdown",
   "metadata": {},
   "source": [
    "### 2e essai"
   ]
  },
  {
   "cell_type": "code",
   "execution_count": 241,
   "metadata": {},
   "outputs": [],
   "source": [
    "length = 0.050\n",
    "height = 0.020\n",
    "thickness = 0.001\n",
    "\n",
    "nx = 70\n",
    "ny = int ((nx/length) * height)\n",
    "nz = 5\n",
    "\n",
    "dx = length / nx\n",
    "dy = height / ny\n",
    "dz = thickness / nz\n",
    "\n",
    "# mesh = Grid1D(nx=nx, dx=dx)\n",
    "\n",
    "mesh = Grid3D(nx=nx, ny=ny, nz=nz, dx=dx, dy=dy, dz=dz)\n",
    "\n",
    "phi = CellVariable(name=\"solution variable\",\n",
    "                    mesh=mesh,\n",
    "                    value=10.)\n",
    "\n",
    "k = 226\n",
    "D = 9.7e-5\n",
    "\n",
    "valueLeft = 20\n",
    "valueRight = 2\n",
    "\n",
    "phi.constrain(valueLeft, mesh.facesLeft)\n",
    "# phi.constrain(valueRight, mesh.facesRight)\n",
    "\n",
    "### CONVECTION\n",
    "\n",
    "# Convection boundary conditions on front and back faces\n",
    "T_infinity = 25.  # Ambient temperature\n",
    "h = 10  # Convection coefficient\n",
    "\n",
    "total_side_transfer = 0.5\n",
    "\n",
    "phi.faceGrad.constrain(total_side_transfer*1000/k * mesh.faceNormals, where=mesh.facesFront)\n",
    "phi.faceGrad.constrain(total_side_transfer*1000/k * mesh.faceNormals, where=mesh.facesBack)\n",
    "\n",
    "# Steady state\n",
    "DiffusionTerm(coeff=D).solve(var=phi)\n",
    "\n",
    "# L = nx * dx\n",
    "# print(phi.allclose(valueLeft + (valueRight - valueLeft) * x / L,\n",
    "#                    rtol = 1e-10, atol = 1e-10))\n",
    "\n",
    "# plt.plot(phi.value)"
   ]
  },
  {
   "cell_type": "code",
   "execution_count": 233,
   "metadata": {},
   "outputs": [
    {
     "data": {
      "text/plain": [
       "array([20.44020411, 21.31817537, 22.19336055, ..., 57.75168493,\n",
       "       57.78882042, 57.80739238])"
      ]
     },
     "execution_count": 233,
     "metadata": {},
     "output_type": "execute_result"
    }
   ],
   "source": [
    "phi.value"
   ]
  },
  {
   "cell_type": "code",
   "execution_count": 90,
   "metadata": {},
   "outputs": [],
   "source": [
    "# # Get the temperature at the front faces\n",
    "# T_facesFront = phi.faceValue[mesh.facesFront]  # Temperature at the front faces\n",
    "\n",
    "# # Convective heat flux on the front faces depends on the temperature at each face\n",
    "# convective_flux_front = h * (T_infinity - T_facesFront)\n",
    "\n",
    "# # Similarly, you can do this for the back faces if needed\n",
    "# T_facesBack = phi.faceValue[mesh.facesBack]  # Temperature at the back faces\n",
    "# convective_flux_back = h * (T_infinity - T_facesBack)"
   ]
  },
  {
   "cell_type": "code",
   "execution_count": 237,
   "metadata": {},
   "outputs": [],
   "source": [
    "phi = CellVariable(name=\"solution variable\",\n",
    "                    mesh=mesh,\n",
    "                    value=25.)"
   ]
  },
  {
   "cell_type": "code",
   "execution_count": 229,
   "metadata": {},
   "outputs": [],
   "source": [
    "convective_flux = h * (T_infinity - phi.faceValue)"
   ]
  },
  {
   "cell_type": "code",
   "execution_count": 245,
   "metadata": {},
   "outputs": [],
   "source": [
    "phi = CellVariable(name=\"solution variable\",\n",
    "                    mesh=mesh,\n",
    "                    value=20.)\n",
    "\n",
    "k = 226\n",
    "D = 9.7e-5\n",
    "\n",
    "valueLeft = 20\n",
    "\n",
    "phi.constrain(valueLeft, mesh.facesLeft)\n",
    "\n",
    "# Apply the convective flux as a boundary condition\n",
    "# The heat flux on the front faces is proportional to the temperature difference\n",
    "phi.faceGrad.constrain((convective_flux.value * mesh.faceNormals) / k, where=mesh.facesFront)\n",
    "phi.faceGrad.constrain((convective_flux.value * mesh.faceNormals) / k, where=mesh.facesBack)\n",
    "\n",
    "# Steady state\n",
    "DiffusionTerm(coeff=D).solve(var=phi)"
   ]
  },
  {
   "cell_type": "code",
   "execution_count": null,
   "metadata": {},
   "outputs": [],
   "source": []
  },
  {
   "cell_type": "code",
   "execution_count": 27,
   "metadata": {},
   "outputs": [
    {
     "data": {
      "text/plain": [
       "390"
      ]
     },
     "execution_count": 27,
     "metadata": {},
     "output_type": "execute_result"
    }
   ],
   "source": [
    "10 * (50 -11) "
   ]
  },
  {
   "cell_type": "code",
   "execution_count": 26,
   "metadata": {},
   "outputs": [
    {
     "data": {
      "text/plain": [
       "array([399.74896388, 399.25381356, 398.76380117, ..., 375.0138    ,\n",
       "       375.0038    , 374.9988    ])"
      ]
     },
     "execution_count": 26,
     "metadata": {},
     "output_type": "execute_result"
    }
   ],
   "source": [
    "convective_flux_front.value"
   ]
  },
  {
   "cell_type": "code",
   "execution_count": 246,
   "metadata": {},
   "outputs": [
    {
     "data": {
      "image/png": "[encoded data removed]",
      "text/plain": [
       "<Figure size 800x600 with 2 Axes>"
      ]
     },
     "metadata": {},
     "output_type": "display_data"
    }
   ],
   "source": [
    "mapplot = np.array(phi.value).reshape((nz, ny, nx))\n",
    "\n",
    "# Choose a specific z-layer (e.g., layer 5 out of 10)\n",
    "z_layer = 0  # Choose a z-layer index between 0 and nz-1\n",
    "temperature_z_layer = mapplot[z_layer, :, :]\n",
    "temperature_z_layer.shape\n",
    "# temperature_z_layer = temperature_z_layer.transpose()\n",
    "\n",
    "# Create the x and y grids for the 2D plot\n",
    "x = np.linspace(0, length, nx)\n",
    "y = np.linspace(0, height, ny)\n",
    "X, Y = np.meshgrid(x, y)\n",
    "\n",
    "# Plot the temperature distribution in 2D\n",
    "plt.figure(figsize=(8, 6))\n",
    "plt.contourf(X, Y, temperature_z_layer, 20, cmap='hot')\n",
    "plt.colorbar(label='Temperature (°C)')\n",
    "plt.xlabel('Length (m)')\n",
    "plt.ylabel('Width (m)')\n",
    "plt.show()"
   ]
  },
  {
   "cell_type": "code",
   "execution_count": 175,
   "metadata": {},
   "outputs": [
    {
     "data": {
      "text/plain": [
       "0.2700000000000001"
      ]
     },
     "execution_count": 175,
     "metadata": {},
     "output_type": "execute_result"
    }
   ],
   "source": [
    "10 * height * length * (50-23)"
   ]
  },
  {
   "cell_type": "code",
   "execution_count": 214,
   "metadata": {},
   "outputs": [
    {
     "name": "stdout",
     "output_type": "stream",
     "text": [
      "transfer at base 0.09054199614262455\n"
     ]
    }
   ],
   "source": [
    "dTx_dx = np.gradient(temperature_z_layer[0], x)\n",
    "print('transfer at base', dTx_dx[0] * k * thickness * height)"
   ]
  },
  {
   "cell_type": "code",
   "execution_count": 147,
   "metadata": {},
   "outputs": [
    {
     "data": {
      "text/plain": [
       "1.0019319350571219"
      ]
     },
     "execution_count": 147,
     "metadata": {},
     "output_type": "execute_result"
    }
   ],
   "source": []
  },
  {
   "cell_type": "code",
   "execution_count": 51,
   "metadata": {},
   "outputs": [
    {
     "data": {
      "text/plain": [
       "array([[ 0,  0,  0, ...,  0,  0,  0],\n",
       "       [ 0,  0,  0, ...,  0,  0,  0],\n",
       "       [-1, -1, -1, ..., -1, -1, -1]])"
      ]
     },
     "execution_count": 51,
     "metadata": {},
     "output_type": "execute_result"
    }
   ],
   "source": [
    "n_front"
   ]
  },
  {
   "cell_type": "code",
   "execution_count": 215,
   "metadata": {},
   "outputs": [
    {
     "name": "stdout",
     "output_type": "stream",
     "text": [
      "Total heat flux through mesh.facesFront: -0.04663548781273061 W\n",
      "-0.09327097562546122\n"
     ]
    }
   ],
   "source": [
    "face_bc = mesh.facesBack\n",
    "# 1. Compute the temperature gradient at the front faces\n",
    "gradT_front = phi.faceGrad[:, face_bc]  # Temperature gradient at front faces\n",
    "\n",
    "# 2. Get the face normals at the front faces\n",
    "n_front = mesh.faceNormals[:, face_bc]  # Normal vectors at front faces\n",
    "\n",
    "# 3. Convert both to NumPy arrays for element-wise operation\n",
    "gradT_front_np = gradT_front.value  # Convert FiPy gradient to NumPy array\n",
    "\n",
    "# 4. Compute the flux at each face: q = -k * (gradT . n)\n",
    "# Manually calculate the dot product in NumPy\n",
    "flux_front_np = -k * np.sum(gradT_front_np * n_front, axis=0)\n",
    "\n",
    "# 5. Compute the face areas (for each front face)\n",
    "A_face_front = dx * dy  # Assuming all faces have the same area for this mesh\n",
    "\n",
    "# 6. Compute the overall flux by summing over all front faces\n",
    "total_flux_front = np.sum(flux_front_np * A_face_front)\n",
    "\n",
    "print(f\"Total heat flux through mesh.facesFront: {total_flux_front} W\")\n",
    "print(total_flux_front * 2)"
   ]
  },
  {
   "cell_type": "code",
   "execution_count": 55,
   "metadata": {},
   "outputs": [
    {
     "data": {
      "text/plain": [
       "0.452"
      ]
     },
     "execution_count": 55,
     "metadata": {},
     "output_type": "execute_result"
    }
   ],
   "source": [
    "2*0.226"
   ]
  },
  {
   "cell_type": "code",
   "execution_count": 155,
   "metadata": {},
   "outputs": [
    {
     "data": {
      "text/plain": [
       "[<matplotlib.lines.Line2D at 0x23403714cd0>]"
      ]
     },
     "execution_count": 155,
     "metadata": {},
     "output_type": "execute_result"
    },
    {
     "data": {
      "image/png": "[encoded data removed]",
      "text/plain": [
       "<Figure size 640x480 with 1 Axes>"
      ]
     },
     "metadata": {},
     "output_type": "display_data"
    }
   ],
   "source": [
    "plt.plot(x, temperature_z_layer[0])\n",
    "# plt.plot(x, dTx_dx)"
   ]
  },
  {
   "cell_type": "code",
   "execution_count": 216,
   "metadata": {},
   "outputs": [
    {
     "name": "stdout",
     "output_type": "stream",
     "text": [
      "Total heat transfer on front faces: 0.04660955167378612 W\n",
      "Total heat transfer on back faces: 0.04660955167378613 W\n",
      "Total heat transfer (front + back): 0.09321910334757225 W\n"
     ]
    }
   ],
   "source": [
    "# Face areas (area of each face on the front/back surface)\n",
    "A_face_frontback = dx * dy  # Face area is the same for each face on the front/back (dx * dy)\n",
    "\n",
    "# Get the temperature at the front and back faces\n",
    "T_facesFront = phi.faceValue[mesh.facesFront]  # Temperature at the front faces\n",
    "T_facesBack = phi.faceValue[mesh.facesBack]    # Temperature at the back faces\n",
    "\n",
    "# Convective heat flux on the front and back faces\n",
    "q_facesFront = h * (T_infinity - T_facesFront)\n",
    "q_facesBack = h * (T_infinity - T_facesBack)\n",
    "\n",
    "# Total heat transfer on the front and back faces (sum of q * A for all faces)\n",
    "total_heat_transfer_front = numerix.sum(q_facesFront * A_face_frontback)\n",
    "total_heat_transfer_back = numerix.sum(q_facesBack * A_face_frontback)\n",
    "\n",
    "# Total heat transfer provided by convection on both front and back\n",
    "total_heat_transfer = total_heat_transfer_front + total_heat_transfer_back\n",
    "\n",
    "print(f\"Total heat transfer on front faces: {total_heat_transfer_front} W\")\n",
    "print(f\"Total heat transfer on back faces: {total_heat_transfer_back} W\")\n",
    "print(f\"Total heat transfer (front + back): {total_heat_transfer} W\")"
   ]
  },
  {
   "cell_type": "code",
   "execution_count": 217,
   "metadata": {},
   "outputs": [
    {
     "name": "stdout",
     "output_type": "stream",
     "text": [
      "Bi 4.646017699115045e-05\n",
      "theory 0.09839765389721147\n"
     ]
    },
    {
     "data": {
      "text/plain": [
       "0.052628801038781516"
      ]
     },
     "execution_count": 217,
     "metadata": {},
     "output_type": "execute_result"
    }
   ],
   "source": [
    "lambda_fin = thickness\n",
    "H_fin = height\n",
    "L_fin = length\n",
    "\n",
    "Bi = bht.Biot(lambda_fin, k, h, H_fin)\n",
    "Ac = lambda_fin * H_fin\n",
    "\n",
    "# (bc, L_fin_, lambd_, Ac_, k_, Bi_)\n",
    "theoretical = - modfins.gamma_fin('free_end', L_fin, lambda_fin, Ac, k, Bi) * (valueLeft - T_infinity)\n",
    "print('Bi', Bi)\n",
    "print('theory', theoretical)\n",
    "np.abs(total_heat_transfer.value - theoretical) / theoretical"
   ]
  },
  {
   "cell_type": "code",
   "execution_count": null,
   "metadata": {},
   "outputs": [],
   "source": [
    "mesh = Grid3D(nx=nx, ny=ny, nz=nz, dx=dx, dy=dy, dz=dz)\n",
    "\n",
    "phi = CellVariable(name=\"solution variable\",\n",
    "                    mesh=mesh,\n",
    "                    value=10.)\n",
    "\n",
    "phi.constrain(valueLeft, mesh.facesLeft)\n",
    "\n",
    "mask = (mesh.facesFront | mesh.facesBack)\n",
    "\n",
    "Gamma = FaceVariable(mesh=mesh, value=D)\n",
    "Gamma.setValue(0., where=mask)\n",
    "dPf = FaceVariable(mesh=mesh,\n",
    "                   value=mesh._faceToCellDistanceRatio)\n",
    "n = mesh.faceNormals\n",
    "# a = FaceVariable(mesh=mesh, value=h, rank=1)\n",
    "b = FaceVariable(mesh=mesh, value=k, rank=0)\n",
    "g = FaceVariable(mesh=mesh, value=h*T_infinity, rank=0)\n",
    "RobinCoeff = (mask * D * n / (-dPf.dot(h*n) + b))\n",
    "eqn = ( DiffusionTerm(coeff=Gamma) + (RobinCoeff * g).divergence\n",
    "       - ImplicitSourceTerm(coeff=(RobinCoeff * n.dot(h*n)).divergence))"
   ]
  },
  {
   "cell_type": "code",
   "execution_count": null,
   "metadata": {},
   "outputs": [],
   "source": [
    "# Define the mesh\n",
    "nx = 50\n",
    "dx = 0.001\n",
    "dy = dx\n",
    "dz = dx\n",
    "ny = nx\n",
    "nz = 1  # 2D approximation with 1 cell in z-direction\n",
    "\n",
    "mesh = Grid3D(nx=nx, ny=ny, nz=nz, dx=dx, dy=dy, dz=dz)\n",
    "\n",
    "# Define the temperature variable\n",
    "phi = CellVariable(name=\"solution variable\", mesh=mesh, value=10.)\n",
    "\n",
    "# Diffusivity (thermal conductivity)\n",
    "D = 9.7e-5\n",
    "\n",
    "# Dirichlet boundary condition at the left face (fixed temperature)\n",
    "phi.constrain(10, mesh.facesLeft)\n",
    "\n",
    "# Ambient temperature and convection coefficient for Robin BC\n",
    "T_infinity = 50.0  # Ambient temperature (°C)\n",
    "h = 10.0  # Convection coefficient (W/m²·K)\n",
    "\n",
    "# Create a mask for the Robin BC on the front and back faces\n",
    "mask = (mesh.facesFront | mesh.facesBack)\n",
    "\n",
    "# Robin boundary condition terms\n",
    "b = h  # Convection coefficient\n",
    "g = h * T_infinity  # Heat flux due to ambient temperature\n",
    "\n",
    "# Apply Robin boundary condition as an implicit source term and flux constraint\n",
    "RobinCoeff = FaceVariable(mesh=mesh, value=mask * b)  # Masked on front and back faces\n",
    "\n",
    "# Define the equation with DiffusionTerm and implicit source for the Robin BC\n",
    "eq = (DiffusionTerm(coeff=D)\n",
    "      - ImplicitSourceTerm(coeff=RobinCoeff)\n",
    "      + RobinCoeff * g)\n",
    "\n",
    "# Solve the equation\n",
    "eq.solve(var=phi)"
   ]
  },
  {
   "cell_type": "code",
   "execution_count": 145,
   "metadata": {},
   "outputs": [],
   "source": [
    "mesh = Grid3D(nx=nx, ny=ny, nz=nz, dx=dx, dy=dy, dz=dz)\n"
   ]
  },
  {
   "cell_type": "code",
   "execution_count": 133,
   "metadata": {},
   "outputs": [],
   "source": []
  },
  {
   "cell_type": "code",
   "execution_count": null,
   "metadata": {},
   "outputs": [],
   "source": [
    "mapplot = np.array(phi.value).reshape((nx, ny))\n",
    "\n",
    "# Create the x and y grids for the 2D plot\n",
    "x = np.linspace(0, length, nx)\n",
    "y = np.linspace(0, height, ny)\n",
    "X, Y = np.meshgrid(x, y)\n",
    "\n",
    "# Plot the temperature distribution in 2D\n",
    "plt.figure(figsize=(8, 6))\n",
    "plt.contourf(X, Y, mapplot, 20, cmap='hot')\n",
    "plt.colorbar(label='Temperature (°C)')\n",
    "plt.xlabel('Length (m)')\n",
    "plt.ylabel('Width (m)')\n",
    "plt.show()"
   ]
  },
  {
   "cell_type": "code",
   "execution_count": null,
   "metadata": {},
   "outputs": [],
   "source": [
    "mesh"
   ]
  },
  {
   "cell_type": "code",
   "execution_count": null,
   "metadata": {},
   "outputs": [],
   "source": [
    "num_true_faces_front = np.count_nonzero(mesh.facesBack.value)\n",
    "print(num_true_faces_front)"
   ]
  },
  {
   "cell_type": "code",
   "execution_count": null,
   "metadata": {},
   "outputs": [],
   "source": [
    "mesh.faceNormals"
   ]
  },
  {
   "cell_type": "code",
   "execution_count": null,
   "metadata": {},
   "outputs": [],
   "source": [
    "FixedFlux = "
   ]
  },
  {
   "cell_type": "code",
   "execution_count": null,
   "metadata": {},
   "outputs": [],
   "source": [
    "phi.faceGrad.value.shape"
   ]
  },
  {
   "cell_type": "code",
   "execution_count": null,
   "metadata": {},
   "outputs": [],
   "source": [
    "50*50*2 + 50*4"
   ]
  },
  {
   "cell_type": "code",
   "execution_count": null,
   "metadata": {},
   "outputs": [],
   "source": [
    "phi.value"
   ]
  },
  {
   "cell_type": "code",
   "execution_count": null,
   "metadata": {},
   "outputs": [],
   "source": [
    "mapplot"
   ]
  },
  {
   "cell_type": "code",
   "execution_count": null,
   "metadata": {},
   "outputs": [],
   "source": []
  },
  {
   "cell_type": "code",
   "execution_count": null,
   "metadata": {},
   "outputs": [],
   "source": [
    "print(len(phi.value))\n",
    "print(mapplot)"
   ]
  },
  {
   "cell_type": "code",
   "execution_count": 40,
   "metadata": {},
   "outputs": [],
   "source": [
    "mesh = Grid1D(nx=nx, dx=dx)\n",
    "# mesh = Grid2D(nx=nx, ny=ny, dx=dx, dy=dy)"
   ]
  },
  {
   "cell_type": "code",
   "execution_count": null,
   "metadata": {},
   "outputs": [],
   "source": [
    "np.array([[0.0005, 0.0015, 0.0025, 0.0035, 0.0045, 0.0055, 0.0065, 0.0075,\n",
    "        0.0085, 0.0095, 0.0105, 0.0115, 0.0125, 0.0135, 0.0145, 0.0155,\n",
    "        0.0165, 0.0175, 0.0185, 0.0195, 0.0205, 0.0215, 0.0225, 0.0235,\n",
    "        0.0245, 0.0255, 0.0265, 0.0275, 0.0285, 0.0295, 0.0305, 0.0315,\n",
    "        0.0325, 0.0335, 0.0345, 0.0355, 0.0365, 0.0375, 0.0385, 0.0395,\n",
    "        0.0405, 0.0415, 0.0425, 0.0435, 0.0445, 0.0455, 0.0465, 0.0475,\n",
    "        0.0485, 0.0495]]).shape"
   ]
  },
  {
   "cell_type": "code",
   "execution_count": null,
   "metadata": {},
   "outputs": [],
   "source": [
    "mesh.cellFaceIDs"
   ]
  },
  {
   "cell_type": "code",
   "execution_count": null,
   "metadata": {},
   "outputs": [],
   "source": [
    "mesh.facesRight"
   ]
  },
  {
   "cell_type": "code",
   "execution_count": null,
   "metadata": {},
   "outputs": [],
   "source": [
    "FaceVariable(value=np.array([[0.   , 0.001, 0.002, 0.003, 0.004, 0.005, 0.006, 0.007, 0.008,\n",
    "        0.009, 0.01 , 0.011, 0.012, 0.013, 0.014, 0.015, 0.016, 0.017,\n",
    "        0.018, 0.019, 0.02 , 0.021, 0.022, 0.023, 0.024, 0.025, 0.026,\n",
    "        0.027, 0.028, 0.029, 0.03 , 0.031, 0.032, 0.033, 0.034, 0.035,\n",
    "        0.036, 0.037, 0.038, 0.039, 0.04 , 0.041, 0.042, 0.043, 0.044,\n",
    "        0.045, 0.046, 0.047, 0.048, 0.049, 0.05 ]]), mesh=UniformGrid1D(dx=0.001, nx=50))[0]"
   ]
  },
  {
   "cell_type": "code",
   "execution_count": null,
   "metadata": {},
   "outputs": [],
   "source": [
    "mesh.cellCenters"
   ]
  },
  {
   "cell_type": "code",
   "execution_count": null,
   "metadata": {},
   "outputs": [],
   "source": [
    "mesh.facesRight"
   ]
  },
  {
   "cell_type": "code",
   "execution_count": null,
   "metadata": {},
   "outputs": [],
   "source": []
  }
 ],
 "metadata": {
  "kernelspec": {
   "display_name": "model23",
   "language": "python",
   "name": "python3"
  },
  "language_info": {
   "codemirror_mode": {
    "name": "ipython",
    "version": 3
   },
   "file_extension": ".py",
   "mimetype": "text/x-python",
   "name": "python",
   "nbconvert_exporter": "python",
   "pygments_lexer": "ipython3",
   "version": "3.10.5"
  }
 },
 "nbformat": 4,
 "nbformat_minor": 2
}
