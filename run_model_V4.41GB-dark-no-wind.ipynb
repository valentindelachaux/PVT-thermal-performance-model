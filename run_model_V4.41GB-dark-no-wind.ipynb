{
 "cells": [
  {
   "cell_type": "code",
   "execution_count": null,
   "metadata": {},
   "outputs": [],
   "source": [
    "# Initialization\n",
    "\n",
    "import math\n",
    "from datetime import datetime\n",
    "import openpyxl as opxl\n",
    "from openpyxl.utils.dataframe import dataframe_to_rows\n",
    "import pandas as pd\n",
    "import numpy as np\n",
    "from IPython.core.display import HTML\n",
    "import matplotlib.pyplot as plt\n",
    "import matplotlib.ticker as mtick\n",
    "import plotly.graph_objects as go\n",
    "\n",
    "import sklearn.metrics\n",
    "import scipy.integrate as integrate\n",
    "import scipy.optimize as sco\n",
    "\n",
    "import fluids as fds\n",
    "import ht \n",
    "\n",
    "import general as gen\n",
    "import model as ty\n",
    "import proc as pr\n",
    "import heat_transfer as bht\n",
    "import plot_functions as pfun\n",
    "# importing sys\n",
    "import sys\n",
    "sys.path.insert(0,r'C:\\Users\\valen\\Dropbox (DualSun)\\PC\\Documents\\GitHub\\RD-systems-and-test-benches')\n",
    "import SK_standard as sk\n",
    "\n",
    "import networkx as nx"
   ]
  },
  {
   "cell_type": "code",
   "execution_count": null,
   "metadata": {},
   "outputs": [],
   "source": [
    "input_name = r'\\Inputs_V4.41-NI-glass-backsheet.xlsx'\n",
    "\n",
    "par = pr.import_input(r'G:\\Drive partagés\\BU04-Innovation\\PVT-perf-1Dmodel\\Inputs',input_name)\n",
    "hyp = pr.create_dict_from_excel(r'G:\\Drive partagés\\BU04-Innovation\\PVT-perf-1Dmodel\\Hypotheses','\\Model_hypotheses.xlsx','Main')\n",
    "data = r'\\230104_TUV_test_conditions_V4.41_dark_nowind.xlsx'\n",
    "condi = pr.create_inputs_from_excel(data,par,hyp)"
   ]
  },
  {
   "cell_type": "code",
   "execution_count": null,
   "metadata": {},
   "outputs": [],
   "source": [
    "df_res,X,list_res,list_df,list_df_historic = ty.simu_condi(par,hyp,condi)"
   ]
  },
  {
   "cell_type": "code",
   "execution_count": null,
   "metadata": {},
   "outputs": [],
   "source": [
    "# u_list = [0.7,2.1,3.7]\n",
    "u_list = [0.3]\n",
    "\n",
    "color_list = ['blue','red','green','orange','cyan','purple']\n",
    "\n",
    "popt_mod_list,pcov_mod_list,popt_tuv_list,pcov_tuv_list = pr.linear_interpolation(u_list,df_res,condi)\n",
    "\n",
    "pfun.plot_model_tuv(u_list,df_res,condi,popt_mod_list,popt_tuv_list,color_list)"
   ]
  },
  {
   "cell_type": "code",
   "execution_count": null,
   "metadata": {},
   "outputs": [],
   "source": [
    "pr.disp_html(df_res)"
   ]
  },
  {
   "cell_type": "code",
   "execution_count": null,
   "metadata": {},
   "outputs": [],
   "source": [
    "pr.display_a_i(X)"
   ]
  },
  {
   "cell_type": "code",
   "execution_count": null,
   "metadata": {},
   "outputs": [],
   "source": [
    "[tab,X] = sk.find_SK_SST(condi,par['A_G'],columns_list=[0,1,0,0,0,0,0,0,0])\n",
    "[tab_m,X_m] = sk.find_SK_SST(df_res,par['A_G'],columns_list=[0,1,0,0,0,0,0,0,0])"
   ]
  },
  {
   "cell_type": "code",
   "execution_count": null,
   "metadata": {},
   "outputs": [],
   "source": [
    "X_df = pd.DataFrame(X[0],index = ['eta0,hem','a1','a2','a3','a4','a5','a6','a7','a8'],columns=['TÜV'])"
   ]
  },
  {
   "cell_type": "code",
   "execution_count": null,
   "metadata": {},
   "outputs": [],
   "source": [
    "X_df['Model'] = X_m[0]"
   ]
  },
  {
   "cell_type": "code",
   "execution_count": null,
   "metadata": {},
   "outputs": [],
   "source": [
    "X_df = pd.concat(X_df,)"
   ]
  },
  {
   "cell_type": "code",
   "execution_count": null,
   "metadata": {},
   "outputs": [],
   "source": [
    "X_df = X_df.T"
   ]
  },
  {
   "cell_type": "code",
   "execution_count": null,
   "metadata": {},
   "outputs": [],
   "source": [
    "X_df"
   ]
  },
  {
   "cell_type": "code",
   "execution_count": null,
   "metadata": {},
   "outputs": [],
   "source": [
    "X_df[0].name = 'Model'"
   ]
  },
  {
   "cell_type": "code",
   "execution_count": null,
   "metadata": {},
   "outputs": [],
   "source": [
    "X_df"
   ]
  },
  {
   "cell_type": "code",
   "execution_count": null,
   "metadata": {},
   "outputs": [],
   "source": [
    "mse = sklearn.metrics.mean_squared_error(df_res['Q_dot / A_G'],condi['Q_dot / A_G'])\n",
    "print(math.sqrt(mse))"
   ]
  }
 ],
 "metadata": {
  "kernelspec": {
   "display_name": "model23",
   "language": "python",
   "name": "python3"
  },
  "language_info": {
   "codemirror_mode": {
    "name": "ipython",
    "version": 3
   },
   "file_extension": ".py",
   "mimetype": "text/x-python",
   "name": "python",
   "nbconvert_exporter": "python",
   "pygments_lexer": "ipython3",
   "version": "3.10.5"
  },
  "orig_nbformat": 4
 },
 "nbformat": 4,
 "nbformat_minor": 2
}
