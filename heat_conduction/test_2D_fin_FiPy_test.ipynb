{
 "cells": [
  {
   "cell_type": "code",
   "execution_count": 1,
   "metadata": {},
   "outputs": [],
   "source": [
    "import numpy as np\n",
    "import pandas as pd\n",
    "import matplotlib.pyplot as plt\n",
    "\n",
    "from fipy import Variable, FaceVariable, CellVariable, Grid1D, Grid2D, Grid3D, ExplicitDiffusionTerm, TransientTerm, DiffusionTerm, ImplicitSourceTerm\n",
    "from fipy.tools import numerix, dot\n",
    "from fipy import input\n",
    "from builtins import range\n",
    "\n",
    "import heat_transfer as bht\n",
    "import model_fins as modfins\n",
    "\n",
    "from tqdm import tqdm"
   ]
  },
  {
   "cell_type": "code",
   "execution_count": 2,
   "metadata": {},
   "outputs": [],
   "source": [
    "def total_flux_bc(phi, mesh, k, dx, dy, face_bc):\n",
    "\n",
    "    # 1. Compute the temperature gradient at the front faces\n",
    "    gradT_front = phi.faceGrad[:, face_bc]  # Temperature gradient at front faces\n",
    "\n",
    "    # 2. Get the face normals at the front faces\n",
    "    n_front = mesh.faceNormals[:, face_bc]  # Normal vectors at front faces\n",
    "\n",
    "    # 3. Convert both to NumPy arrays for element-wise operation\n",
    "    gradT_front_np = gradT_front.value  # Convert FiPy gradient to NumPy array\n",
    "\n",
    "    # 4. Compute the flux at each face: q = -k * (gradT . n)\n",
    "    # Manually calculate the dot product in NumPy\n",
    "    flux_front_np = -k * np.sum(gradT_front_np * n_front, axis=0)\n",
    "\n",
    "    # 5. Compute the face areas (for each front face)\n",
    "    A_face_front = dx * dy  # Assuming all faces have the same area for this mesh\n",
    "\n",
    "    # 6. Compute the overall flux by summing over all front faces\n",
    "    total_flux_front = np.sum(flux_front_np * A_face_front)\n",
    "\n",
    "    return total_flux_front"
   ]
  },
  {
   "cell_type": "code",
   "execution_count": 3,
   "metadata": {},
   "outputs": [],
   "source": [
    "def solve_fin(nx, ny, nz, dx, dy, dz, k, D, valueLeft, T_infinity, h, total_side_transfer):\n",
    "\n",
    "    report_list = []\n",
    "\n",
    "    mesh = Grid3D(nx=nx, ny=ny, nz=nz, dx=dx, dy=dy, dz=dz)\n",
    "\n",
    "    phi = CellVariable(name=\"solution variable\",\n",
    "                        mesh=mesh,\n",
    "                        value=10.)\n",
    "\n",
    "    phi.constrain(valueLeft, mesh.facesLeft)\n",
    "    # phi.constrain(valueRight, mesh.facesRight)\n",
    "\n",
    "    phi.faceGrad.constrain(total_side_transfer*1000/k * mesh.faceNormals, where=mesh.facesFront)\n",
    "    phi.faceGrad.constrain(total_side_transfer*1000/k * mesh.faceNormals, where=mesh.facesBack)\n",
    "\n",
    "    # Steady state\n",
    "    DiffusionTerm(coeff=D).solve(var=phi)\n",
    "\n",
    "    max_iterations = 100\n",
    "    report_tolerance = 1e-2\n",
    "\n",
    "    for iteration in tqdm(range(max_iterations), total=max_iterations):\n",
    "\n",
    "        convective_flux = h * (T_infinity - phi.faceValue)\n",
    "\n",
    "        phi = CellVariable(name=\"solution variable\",\n",
    "                            mesh=mesh,\n",
    "                            value=10.)\n",
    "\n",
    "        phi.constrain(valueLeft, mesh.facesLeft)\n",
    "\n",
    "        # Apply the convective flux as a boundary condition\n",
    "        # The heat flux on the front faces is proportional to the temperature difference\n",
    "        phi.faceGrad.constrain((convective_flux.value * mesh.faceNormals) / k, where=mesh.facesFront)\n",
    "        phi.faceGrad.constrain((convective_flux.value * mesh.faceNormals) / k, where=mesh.facesBack)\n",
    "\n",
    "        # Steady state\n",
    "        DiffusionTerm(coeff=D).solve(var=phi)\n",
    "\n",
    "        report_list.append(total_flux_bc(phi, mesh, k, dx, dy, mesh.facesFront) + total_flux_bc(phi, mesh, k, dx, dy, mesh.facesBack))\n",
    "\n",
    "        if iteration >= 3:\n",
    "            report_error = np.array([abs((report_list[-i] - report_list[-i-1])/report_list[-i-1]) for i in range(1, 3)]).mean()\n",
    "\n",
    "            if (report_error < report_tolerance):\n",
    "                print(f'Converged after {iteration} iterations.')\n",
    "                total_transfer_on_both_sides = total_flux_bc(phi, mesh, k, dx, dy, mesh.facesFront) + total_flux_bc(phi, mesh, k, dx, dy, mesh.facesBack)\n",
    "                return phi, report_list, total_transfer_on_both_sides\n",
    "                break\n",
    "                \n",
    "    if iteration == max_iterations - 1:\n",
    "        print('Did not converge within the maximum number of iterations.')"
   ]
  },
  {
   "cell_type": "code",
   "execution_count": 4,
   "metadata": {},
   "outputs": [],
   "source": [
    "# length = 0.050\n",
    "# height = 0.020\n",
    "# thickness = 0.001\n",
    "\n",
    "# # length_range = np.linspace(0.005, 0.1, 10)\n",
    "# length_range = np.array([0.05])\n",
    "\n",
    "# phi_list = []\n",
    "# report_list_list = []\n",
    "# total_transfer_on_both_sides_list = []\n",
    "\n",
    "# dx0 = 7e-4\n",
    "# dy0 = dx0\n",
    "# dz0 = 2e-5\n",
    "\n",
    "# for i, l in enumerate(length_range):\n",
    "#     print(i, ' for length: ', round(l*1000,1), ' mm')\n",
    "\n",
    "#     nx = int(l/dx0)\n",
    "#     ny = int(height/dy0)\n",
    "#     nz = int(thickness/dz0)\n",
    "\n",
    "#     phi, report_list, total_transfer_on_both_sides = solve_fin(nx=nx,\n",
    "#                                                                ny=ny,\n",
    "#                                                                nz=nz,\n",
    "#                                                                dx=dx0,\n",
    "#                                                                dy=dy0,\n",
    "#                                                                dz=dz0,\n",
    "#                                                                k=226,\n",
    "#                                                                D=9.7e-5, valueLeft=20.,\n",
    "#                                                                T_infinity=25,\n",
    "#                                                                h=10,\n",
    "#                                                                total_side_transfer=0.5)\n",
    "    \n",
    "#     phi_list.append(phi)\n",
    "#     report_list_list.append(report_list)\n",
    "#     total_transfer_on_both_sides_list.append(total_transfer_on_both_sides)\n",
    "    \n",
    "#     mapplot = np.array(phi.value).reshape((nz, ny, nx))\n",
    "\n",
    "#     # Choose a specific z-layer (e.g., layer 5 out of 10)\n",
    "#     z_layer = 0  # Choose a z-layer index between 0 and nz-1\n",
    "#     temperature_z_layer = mapplot[z_layer, :, :]\n",
    "#     temperature_z_layer.shape\n",
    "#     # temperature_z_layer = temperature_z_layer.transpose()\n",
    "\n",
    "#     # Create the xS and y grids for the 2D plot\n",
    "#     x = np.linspace(0, length, nx)\n",
    "#     y = np.linspace(0, height, ny)\n",
    "#     X, Y = np.meshgrid(x, y)\n",
    "\n",
    "#     # Plot the temperature distribution in 2D\n",
    "#     plt.figure(figsize=(8, 6))\n",
    "#     plt.contourf(X, Y, temperature_z_layer, 20, cmap='hot')\n",
    "#     plt.colorbar(label='Temperature (°C)')\n",
    "#     plt.xlabel('Length (m)')\n",
    "#     plt.ylabel('Width (m)')\n",
    "#     plt.show()\n",
    "\n",
    "#     print('finished')\n",
    "        "
   ]
  },
  {
   "cell_type": "code",
   "execution_count": 5,
   "metadata": {},
   "outputs": [
    {
     "name": "stderr",
     "output_type": "stream",
     "text": [
      "  5%|▌         | 5/100 [1:48:05<34:07:41, 1293.28s/it]"
     ]
    },
    {
     "name": "stdout",
     "output_type": "stream",
     "text": [
      "Converged after 5 iterations.\n"
     ]
    },
    {
     "name": "stderr",
     "output_type": "stream",
     "text": [
      "  5%|▌         | 5/100 [2:09:35<41:02:11, 1555.07s/it]\n"
     ]
    }
   ],
   "source": [
    "length = 0.05\n",
    "height = 0.02\n",
    "thickness = 0.001\n",
    "\n",
    "nx = 300\n",
    "ny = int ((nx/length) * height)\n",
    "nz = 10\n",
    "\n",
    "dx = length / nx\n",
    "dy = height / ny\n",
    "dz = thickness / nz\n",
    "\n",
    "# mesh = Grid1D(nx=nx, dx=dx)\n",
    "\n",
    "k = 202\n",
    "D = 9.7e-5\n",
    "\n",
    "valueLeft = 20\n",
    "\n",
    "# Convection boundary conditions on front and back faces\n",
    "T_infinity = 25.  # Ambient temperature\n",
    "h = 3  # Convection coefficient\n",
    "\n",
    "total_side_transfer = 0.5 if thickness >= 0.001 else 0.05\n",
    "\n",
    "report_list = []\n",
    "\n",
    "mesh = Grid3D(nx=nx, ny=ny, nz=nz, dx=dx, dy=dy, dz=dz)\n",
    "\n",
    "phi = CellVariable(name=\"solution variable\",\n",
    "                    mesh=mesh,\n",
    "                    value=18.)\n",
    "\n",
    "# phi.constrain(valueLeft, mesh.facesLeft)\n",
    "# # phi.constrain(valueRight, mesh.facesRight)\n",
    "\n",
    "# phi.faceGrad.constrain(total_side_transfer*1000/k * mesh.faceNormals, where=mesh.facesFront)\n",
    "# phi.faceGrad.constrain(total_side_transfer*1000/k * mesh.faceNormals, where=mesh.facesBack)\n",
    "\n",
    "# # Steady state\n",
    "# DiffusionTerm(coeff=D).solve(var=phi)\n",
    "\n",
    "max_iterations = 100\n",
    "report_tolerance = 1e-5\n",
    "\n",
    "for iteration in tqdm(range(max_iterations), total=max_iterations):\n",
    "\n",
    "    convective_flux = h * (T_infinity - phi.faceValue)\n",
    "\n",
    "    phi = CellVariable(name=\"solution variable\",\n",
    "                        mesh=mesh,\n",
    "                        value=35.)\n",
    "\n",
    "    phi.constrain(valueLeft, mesh.facesLeft)\n",
    "\n",
    "    # Apply the convective flux as a boundary condition\n",
    "    # The heat flux on the front faces is proportional to the temperature difference\n",
    "    phi.faceGrad.constrain((convective_flux.value * mesh.faceNormals) / k, where=mesh.facesFront)\n",
    "    phi.faceGrad.constrain((convective_flux.value * mesh.faceNormals) / k, where=mesh.facesBack)\n",
    "\n",
    "    # Steady state\n",
    "    DiffusionTerm(coeff=D).solve(var=phi)\n",
    "\n",
    "    report_list.append(total_flux_bc(phi, mesh, k, dx, dy, mesh.facesFront) + total_flux_bc(phi, mesh, k, dx, dy, mesh.facesBack))\n",
    "\n",
    "    if iteration >= 3:\n",
    "        report_error = np.array([abs((report_list[-i] - report_list[-i-1])/report_list[-i-1]) for i in range(1, 3)]).mean()\n",
    "\n",
    "        if (report_error < report_tolerance):\n",
    "            print(f'Converged after {iteration} iterations.')\n",
    "            total_transfer_on_both_sides = total_flux_bc(phi, mesh, k, dx, dy, mesh.facesFront) + total_flux_bc(phi, mesh, k, dx, dy, mesh.facesBack)\n",
    "            break\n",
    "            \n",
    "if iteration == max_iterations - 1:\n",
    "    print('Did not converge within the maximum number of iterations.')"
   ]
  },
  {
   "cell_type": "code",
   "execution_count": null,
   "metadata": {},
   "outputs": [],
   "source": [
    "mapplot = np.array(phi.value).reshape((nz, ny, nx))\n",
    "\n",
    "# Choose a specific z-layer (e.g., layer 5 out of 10)\n",
    "z_layer = 1 # Choose a z-layer index between 0 and nz-1\n",
    "temperature_z_layer = mapplot[z_layer, :, :]\n",
    "temperature_z_layer.shape\n",
    "# temperature_z_layer = temperature_z_layer.transpose()\n",
    "\n",
    "# Create the x and y grids for the 2D plot\n",
    "x = np.linspace(0, length, nx)\n",
    "y = np.linspace(0, height, ny)\n",
    "X, Y = np.meshgrid(x, y)\n",
    "\n",
    "# Plot the temperature distribution in 2D\n",
    "plt.figure(figsize=(8, 6))\n",
    "plt.contourf(X, Y, temperature_z_layer, 20, cmap='hot')\n",
    "plt.colorbar(label='Temperature (°C)')\n",
    "plt.xlabel('Length (m)')\n",
    "plt.ylabel('Width (m)')\n",
    "plt.show()"
   ]
  },
  {
   "cell_type": "code",
   "execution_count": null,
   "metadata": {},
   "outputs": [],
   "source": [
    "dTx_dx = np.gradient(temperature_z_layer[0], x)\n",
    "\n",
    "transfer_at_base = dTx_dx[0] * k * thickness * height\n",
    "print('transfer at base', transfer_at_base)\n",
    "total_transfer_on_both_sides = total_flux_bc(phi, mesh, k, dx, dy, mesh.facesFront) + total_flux_bc(phi, mesh, k, dx, dy, mesh.facesBack)\n",
    "print('total transfer on both sides', - total_transfer_on_both_sides)\n",
    "\n",
    "# error\n",
    "print('error', round(100*np.abs(transfer_at_base - -total_transfer_on_both_sides)/(transfer_at_base),2), ' %')"
   ]
  },
  {
   "cell_type": "code",
   "execution_count": null,
   "metadata": {},
   "outputs": [],
   "source": [
    "thickness"
   ]
  },
  {
   "cell_type": "code",
   "execution_count": null,
   "metadata": {},
   "outputs": [],
   "source": [
    "lambda_fin = thickness\n",
    "H_fin = height\n",
    "L_fin = length\n",
    "\n",
    "Bi = bht.Biot(lambda_fin, k, h, H_fin)\n",
    "Ac = lambda_fin * H_fin\n",
    "\n",
    "# (bc, L_fin_, lambd_, Ac_, k_, Bi_)\n",
    "theoretical = - modfins.gamma_fin('adiabatic', L_fin, lambda_fin, Ac, k, Bi) * (valueLeft - T_infinity)\n",
    "print('Bi', Bi)\n",
    "print('theory', theoretical)\n",
    "print('solved', - total_transfer_on_both_sides)\n",
    "print('solved at base', transfer_at_base)\n",
    "\n",
    "print('error with transfer at base', round((np.abs(transfer_at_base - theoretical) / theoretical)*100,2), '%')\n",
    "print('error with transfer on both sides', round((np.abs(-total_transfer_on_both_sides - theoretical) / theoretical)*100,2), '%')"
   ]
  },
  {
   "cell_type": "code",
   "execution_count": null,
   "metadata": {},
   "outputs": [],
   "source": [
    "plt.plot(x, temperature_z_layer[2] + 273.15)\n",
    "plt.plot(x, 273.15 + np.array([T.subs({T_extS: T_infinity, T_0S: valueLeft, L_finS: length, lambdS: 0.001, BiS: bht.Biot(0.001, k, h, H_fin), xS : x_}).evalf() for x_ in x]), label = 'theoretical')\n",
    "plt.legend()\n",
    "# plt.plot(x, dTx_dx)"
   ]
  },
  {
   "cell_type": "code",
   "execution_count": null,
   "metadata": {},
   "outputs": [],
   "source": [
    "# Face areas (area of each face on the front/back surface)\n",
    "A_face_frontback = dx * dy  # Face area is the same for each face on the front/back (dx * dy)\n",
    "\n",
    "# Get the temperature at the front and back faces\n",
    "T_facesFront = phi.faceValue[mesh.facesFront]  # Temperature at the front faces\n",
    "T_facesBack = phi.faceValue[mesh.facesBack]    # Temperature at the back faces\n",
    "\n",
    "# Convective heat flux on the front and back faces\n",
    "q_facesFront = h * (T_infinity - T_facesFront)\n",
    "q_facesBack = h * (T_infinity - T_facesBack)\n",
    "\n",
    "# Total heat transfer on the front and back faces (sum of q * A for all faces)\n",
    "total_heat_transfer_front = numerix.sum(q_facesFront * A_face_frontback)\n",
    "total_heat_transfer_back = numerix.sum(q_facesBack * A_face_frontback)\n",
    "\n",
    "# Total heat transfer provided by convection on both front and back\n",
    "total_heat_transfer = total_heat_transfer_front + total_heat_transfer_back\n",
    "\n",
    "print(f\"Total heat transfer on front faces: {total_heat_transfer_front} W\")\n",
    "print(f\"Total heat transfer on back faces: {total_heat_transfer_back} W\")\n",
    "print(f\"Total heat transfer (front + back): {total_heat_transfer} W\")"
   ]
  },
  {
   "cell_type": "code",
   "execution_count": null,
   "metadata": {},
   "outputs": [],
   "source": []
  },
  {
   "cell_type": "markdown",
   "metadata": {},
   "source": [
    "### Sympy"
   ]
  },
  {
   "cell_type": "code",
   "execution_count": 9,
   "metadata": {},
   "outputs": [],
   "source": [
    "import sympy as sp"
   ]
  },
  {
   "cell_type": "code",
   "execution_count": 10,
   "metadata": {},
   "outputs": [],
   "source": [
    "xS, L_finS, lambdS, AcS, kS, BiS, T_extS, T_0S = sp.symbols('x L_fin \\lambda Ac k Bi T_ext T_0')\n",
    "bc = 'adiabatic'\n",
    "\n",
    "# Define the temperature profile solution\n",
    "A = sp.Symbol('A')\n",
    "B = sp.Symbol('B')\n",
    "\n",
    "# Temperature function T(xS)\n",
    "T = T_extS + A * sp.cosh(sp.sqrt(2 * BiS) * xS/lambdS) + B * sp.sinh(sp.sqrt(2 * BiS) * xS/lambdS)\n",
    "\n",
    "# Boundary condition at xS = 0 (T(0) = T_0S)\n",
    "boundary_condition_0 = sp.Eq(T.subs(xS, 0), T_0S)\n",
    "\n",
    "# Solve for A\n",
    "A_solution = sp.solve(boundary_condition_0, A)[0]\n",
    "\n",
    "# Substitute the value of A in T(xS)\n",
    "T = T.subs(A, A_solution)\n",
    "\n",
    "dTdx = sp.diff(T, xS)\n",
    "\n",
    "if bc == 'free_end':\n",
    "    boundary_condition_L_finS = sp.Eq( dTdx.subs(xS, L_finS), -BiS/lambdS * (T.subs(xS, L_finS) - T_extS) )\n",
    "    B_solution = sp.solve(boundary_condition_L_finS, B)[0]\n",
    "elif bc == 'adiabatic':\n",
    "    boundary_condition_L_finS = sp.Eq( dTdx.subs(xS, L_finS), 0)\n",
    "    B_solution = sp.solve(boundary_condition_L_finS, B)[0]\n",
    "else:\n",
    "    raise ValueError('Boundary condition not recognized')\n",
    "\n",
    "T = T.subs(B, B_solution)\n",
    "dTdx = dTdx.subs(B, B_solution)\n",
    "\n",
    "expression = (T-T_extS) / (T_0S-T_extS)\n",
    "expression = sp.simplify(expression)\n",
    "\n",
    "if bc == \"adiabatic\":\n",
    "    expression = sp.simplify(expression * sp.cosh(sp.sqrt(2 * BiS) * L_finS/lambdS)) / sp.cosh(sp.sqrt(2 * BiS) * L_finS/lambdS)\n",
    "\n",
    "gamma = sp.diff(expression,xS).subs(xS, 0)\n",
    "gamma = - kS * AcS * sp.simplify(gamma)\n",
    "\n",
    "Qdot =  gamma * (T_0S - T_extS)\n",
    "\n"
   ]
  },
  {
   "cell_type": "code",
   "execution_count": null,
   "metadata": {},
   "outputs": [],
   "source": [
    "T.subs({T_extS: T_infinity, T_0S: valueLeft, L_finS: length, lambdS: thickness, BiS: Bi})"
   ]
  },
  {
   "cell_type": "code",
   "execution_count": null,
   "metadata": {},
   "outputs": [],
   "source": [
    "mesh = Grid3D(nx=nx, ny=ny, nz=nz, dx=dx, dy=dy, dz=dz)\n",
    "\n",
    "phi = CellVariable(name=\"solution variable\",\n",
    "                    mesh=mesh,\n",
    "                    value=10.)\n",
    "\n",
    "phi.constrain(valueLeft, mesh.facesLeft)\n",
    "\n",
    "mask = (mesh.facesFront | mesh.facesBack)\n",
    "\n",
    "Gamma = FaceVariable(mesh=mesh, value=D)\n",
    "Gamma.setValue(0., where=mask)\n",
    "dPf = FaceVariable(mesh=mesh,\n",
    "                   value=mesh._faceToCellDistanceRatio)\n",
    "n = mesh.faceNormals\n",
    "# a = FaceVariable(mesh=mesh, value=h, rank=1)\n",
    "b = FaceVariable(mesh=mesh, value=k, rank=0)\n",
    "g = FaceVariable(mesh=mesh, value=h*T_infinity, rank=0)\n",
    "RobinCoeff = (mask * D * n / (-dPf.dot(h*n) + b))\n",
    "eqn = ( DiffusionTerm(coeff=Gamma) + (RobinCoeff * g).divergence\n",
    "       - ImplicitSourceTerm(coeff=(RobinCoeff * n.dot(h*n)).divergence))"
   ]
  },
  {
   "cell_type": "code",
   "execution_count": null,
   "metadata": {},
   "outputs": [],
   "source": [
    "# Define the mesh\n",
    "nx = 50\n",
    "dx = 0.001\n",
    "dy = dx\n",
    "dz = dx\n",
    "ny = nx\n",
    "nz = 1  # 2D approximation with 1 cell in z-direction\n",
    "\n",
    "mesh = Grid3D(nx=nx, ny=ny, nz=nz, dx=dx, dy=dy, dz=dz)\n",
    "\n",
    "# Define the temperature variable\n",
    "phi = CellVariable(name=\"solution variable\", mesh=mesh, value=10.)\n",
    "\n",
    "# Diffusivity (thermal conductivity)\n",
    "D = 9.7e-5\n",
    "\n",
    "# Dirichlet boundary condition at the left face (fixed temperature)\n",
    "phi.constrain(10, mesh.facesLeft)\n",
    "\n",
    "# Ambient temperature and convection coefficient for Robin BC\n",
    "T_infinity = 50.0  # Ambient temperature (°C)\n",
    "h = 10.0  # Convection coefficient (W/m²·K)\n",
    "\n",
    "# Create a mask for the Robin BC on the front and back faces\n",
    "mask = (mesh.facesFront | mesh.facesBack)\n",
    "\n",
    "# Robin boundary condition terms\n",
    "b = h  # Convection coefficient\n",
    "g = h * T_infinity  # Heat flux due to ambient temperature\n",
    "\n",
    "# Apply Robin boundary condition as an implicit source term and flux constraint\n",
    "RobinCoeff = FaceVariable(mesh=mesh, value=mask * b)  # Masked on front and back faces\n",
    "\n",
    "# Define the equation with DiffusionTerm and implicit source for the Robin BC\n",
    "eq = (DiffusionTerm(coeff=D)\n",
    "      - ImplicitSourceTerm(coeff=RobinCoeff)\n",
    "      + RobinCoeff * g)\n",
    "\n",
    "# Solve the equation\n",
    "eq.solve(var=phi)"
   ]
  },
  {
   "cell_type": "code",
   "execution_count": 145,
   "metadata": {},
   "outputs": [],
   "source": [
    "mesh = Grid3D(nx=nx, ny=ny, nz=nz, dx=dx, dy=dy, dz=dz)\n"
   ]
  },
  {
   "cell_type": "code",
   "execution_count": 133,
   "metadata": {},
   "outputs": [],
   "source": []
  },
  {
   "cell_type": "code",
   "execution_count": null,
   "metadata": {},
   "outputs": [],
   "source": [
    "mapplot = np.array(phi.value).reshape((nx, ny))\n",
    "\n",
    "# Create the x and y grids for the 2D plot\n",
    "x = np.linspace(0, length, nx)\n",
    "y = np.linspace(0, height, ny)\n",
    "X, Y = np.meshgrid(x, y)\n",
    "\n",
    "# Plot the temperature distribution in 2D\n",
    "plt.figure(figsize=(8, 6))\n",
    "plt.contourf(X, Y, mapplot, 20, cmap='hot')\n",
    "plt.colorbar(label='Temperature (°C)')\n",
    "plt.xlabel('Length (m)')\n",
    "plt.ylabel('Width (m)')\n",
    "plt.show()"
   ]
  },
  {
   "cell_type": "code",
   "execution_count": null,
   "metadata": {},
   "outputs": [],
   "source": [
    "mesh"
   ]
  },
  {
   "cell_type": "code",
   "execution_count": null,
   "metadata": {},
   "outputs": [],
   "source": [
    "num_true_faces_front = np.count_nonzero(mesh.facesBack.value)\n",
    "print(num_true_faces_front)"
   ]
  },
  {
   "cell_type": "code",
   "execution_count": null,
   "metadata": {},
   "outputs": [],
   "source": [
    "mesh.faceNormals"
   ]
  },
  {
   "cell_type": "code",
   "execution_count": null,
   "metadata": {},
   "outputs": [],
   "source": [
    "FixedFlux = "
   ]
  },
  {
   "cell_type": "code",
   "execution_count": null,
   "metadata": {},
   "outputs": [],
   "source": [
    "phi.faceGrad.value.shape"
   ]
  },
  {
   "cell_type": "code",
   "execution_count": null,
   "metadata": {},
   "outputs": [],
   "source": [
    "50*50*2 + 50*4"
   ]
  },
  {
   "cell_type": "code",
   "execution_count": null,
   "metadata": {},
   "outputs": [],
   "source": [
    "phi.value"
   ]
  },
  {
   "cell_type": "code",
   "execution_count": null,
   "metadata": {},
   "outputs": [],
   "source": [
    "mapplot"
   ]
  },
  {
   "cell_type": "code",
   "execution_count": null,
   "metadata": {},
   "outputs": [],
   "source": []
  },
  {
   "cell_type": "code",
   "execution_count": null,
   "metadata": {},
   "outputs": [],
   "source": [
    "print(len(phi.value))\n",
    "print(mapplot)"
   ]
  },
  {
   "cell_type": "code",
   "execution_count": 40,
   "metadata": {},
   "outputs": [],
   "source": [
    "mesh = Grid1D(nx=nx, dx=dx)\n",
    "# mesh = Grid2D(nx=nx, ny=ny, dx=dx, dy=dy)"
   ]
  },
  {
   "cell_type": "code",
   "execution_count": null,
   "metadata": {},
   "outputs": [],
   "source": [
    "np.array([[0.0005, 0.0015, 0.0025, 0.0035, 0.0045, 0.0055, 0.0065, 0.0075,\n",
    "        0.0085, 0.0095, 0.0105, 0.0115, 0.0125, 0.0135, 0.0145, 0.0155,\n",
    "        0.0165, 0.0175, 0.0185, 0.0195, 0.0205, 0.0215, 0.0225, 0.0235,\n",
    "        0.0245, 0.0255, 0.0265, 0.0275, 0.0285, 0.0295, 0.0305, 0.0315,\n",
    "        0.0325, 0.0335, 0.0345, 0.0355, 0.0365, 0.0375, 0.0385, 0.0395,\n",
    "        0.0405, 0.0415, 0.0425, 0.0435, 0.0445, 0.0455, 0.0465, 0.0475,\n",
    "        0.0485, 0.0495]]).shape"
   ]
  },
  {
   "cell_type": "code",
   "execution_count": null,
   "metadata": {},
   "outputs": [],
   "source": [
    "mesh.cellFaceIDs"
   ]
  },
  {
   "cell_type": "code",
   "execution_count": null,
   "metadata": {},
   "outputs": [],
   "source": [
    "mesh.facesRight"
   ]
  },
  {
   "cell_type": "code",
   "execution_count": null,
   "metadata": {},
   "outputs": [],
   "source": [
    "FaceVariable(value=np.array([[0.   , 0.001, 0.002, 0.003, 0.004, 0.005, 0.006, 0.007, 0.008,\n",
    "        0.009, 0.01 , 0.011, 0.012, 0.013, 0.014, 0.015, 0.016, 0.017,\n",
    "        0.018, 0.019, 0.02 , 0.021, 0.022, 0.023, 0.024, 0.025, 0.026,\n",
    "        0.027, 0.028, 0.029, 0.03 , 0.031, 0.032, 0.033, 0.034, 0.035,\n",
    "        0.036, 0.037, 0.038, 0.039, 0.04 , 0.041, 0.042, 0.043, 0.044,\n",
    "        0.045, 0.046, 0.047, 0.048, 0.049, 0.05 ]]), mesh=UniformGrid1D(dx=0.001, nx=50))[0]"
   ]
  },
  {
   "cell_type": "code",
   "execution_count": null,
   "metadata": {},
   "outputs": [],
   "source": [
    "mesh.cellCenters"
   ]
  },
  {
   "cell_type": "code",
   "execution_count": null,
   "metadata": {},
   "outputs": [],
   "source": [
    "mesh.facesRight"
   ]
  },
  {
   "cell_type": "code",
   "execution_count": null,
   "metadata": {},
   "outputs": [],
   "source": []
  }
 ],
 "metadata": {
  "kernelspec": {
   "display_name": "model23",
   "language": "python",
   "name": "python3"
  },
  "language_info": {
   "codemirror_mode": {
    "name": "ipython",
    "version": 3
   },
   "file_extension": ".py",
   "mimetype": "text/x-python",
   "name": "python",
   "nbconvert_exporter": "python",
   "pygments_lexer": "ipython3",
   "version": "3.10.5"
  }
 },
 "nbformat": 4,
 "nbformat_minor": 2
}
