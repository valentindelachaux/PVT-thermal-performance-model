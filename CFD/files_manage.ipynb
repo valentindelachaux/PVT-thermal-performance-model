{
 "cells": [
  {
   "cell_type": "code",
   "execution_count": 5,
   "metadata": {},
   "outputs": [],
   "source": [
    "import os\n",
    "import glob\n",
    "import shutil"
   ]
  },
  {
   "cell_type": "code",
   "execution_count": null,
   "metadata": {},
   "outputs": [],
   "source": [
    "msh_h5_files = glob.glob(r'D:\\ANSYS Fluent Projects\\pvt_slice_outdoor\\Fluent_GMI\\Mesh' + '/*.msh.h5')\n",
    "msh_h5_files = [file.replace(r'D:\\ANSYS Fluent Projects\\pvt_slice_outdoor\\Fluent_GMI\\Mesh', '') for file in msh_h5_files]\n",
    "msh_h5_files = [file.replace(\"\\\\\", \"\") for file in msh_h5_files]\n",
    "msh_h5_files = [file.replace(\".msh.h5\", \"\") for file in msh_h5_files]\n",
    "msh_h5_files = pd.DataFrame(msh_h5_files, columns=['name'])\n",
    "msh_h5_files.to_excel(r'D:\\ANSYS Fluent Projects\\pvt_slice_outdoor\\Fluent_GMI\\Mesh\\240913_msh_h5_files.xlsx')\n",
    "\n",
    "rows_to_move = list(np.arange(7,15))\n",
    "new_index = rows_to_move + [index for index in msh_h5_files.index if index not in rows_to_move]\n",
    "msh_h5_files = msh_h5_files.reindex(new_index)\n",
    "\n",
    "rows_to_move = [7,13]\n",
    "new_index = rows_to_move + [index for index in msh_h5_files.index if index not in rows_to_move]\n",
    "msh_h5_files = msh_h5_files.reindex(new_index)\n",
    "\n",
    "msh_h5_files.reset_index(drop=True,inplace=True)\n",
    "\n",
    "msh_h5_files['code'] = ['A1_M1','A2_M1','A3_M1','A3_M2','A3_M3','A3_M4','A3_M5','A4_M1','A5_M1','A6_M1','A7_M1','A8_M1','A9_M1','A10_M1','A11_M1']\n",
    "\n",
    "new_names = ['V4.5NI_s_plus_TEST',\n",
    " 'V4.5NI_s_oldM',\n",
    " 'V4.5NI_s_r60',\n",
    " 'V4.5NI_s_r60',\n",
    " 'V4.5NI_s_r60',\n",
    " 'V4.5NI_s_r60',\n",
    " 'V4.5NI_s_r60',\n",
    " 'V4.5NI_s_wHB_r60',\n",
    " 'V4.5F2014_s_wHB_r60',\n",
    " 'V4.5F2014_s_wHB_r120',\n",
    " 'V4.5F2020_s_wHB_r60',\n",
    " 'V4.5F5020_s_wHB_r60',\n",
    " 'V4.5F5020_s_wHB_r120',\n",
    " 'V4.5F5030_s_wHB_r60',\n",
    " 'V4.5F5040_s_wHB_r60',]\n",
    "\n",
    "msh_h5_files['new_name'] = [msh_h5_files.loc[i, 'code'] + '__' + new_names[i] for i in range(len(msh_h5_files.index))]"
   ]
  },
  {
   "cell_type": "code",
   "execution_count": null,
   "metadata": {},
   "outputs": [],
   "source": [
    "for index, row in msh_h5_files.iterrows():\n",
    "    old_name = os.path.join(r'D:\\ANSYS Fluent Projects\\pvt_slice_outdoor\\Fluent_GMI\\Mesh', row['name'] + '.msh.h5')\n",
    "    new_name = os.path.join(r'D:\\ANSYS Fluent Projects\\pvt_slice_outdoor\\Fluent_GMI\\Mesh', row['new_name'] + '.msh.h5')\n",
    "    os.rename(old_name, new_name)"
   ]
  },
  {
   "cell_type": "code",
   "execution_count": 8,
   "metadata": {},
   "outputs": [],
   "source": [
    "def copy_folder_with_exclusions(src, dest, excluded_extensions):\n",
    "    # Make sure the destination folder exists\n",
    "    if not os.path.exists(dest):\n",
    "        os.makedirs(dest)\n",
    "    \n",
    "    # Walk through the source directory\n",
    "    for root, dirs, files in os.walk(src):\n",
    "        # Create the corresponding directory in the destination\n",
    "        relative_path = os.path.relpath(root, src)\n",
    "        dest_dir = os.path.join(dest, relative_path)\n",
    "        if not os.path.exists(dest_dir):\n",
    "            os.makedirs(dest_dir)\n",
    "        \n",
    "        # Filter and copy files, excluding specific extensions\n",
    "        for file in files:\n",
    "            if not file.endswith(tuple(excluded_extensions)):\n",
    "                src_file = os.path.join(root, file)\n",
    "                dest_file = os.path.join(dest_dir, file)\n",
    "                shutil.copy2(src_file, dest_file)"
   ]
  },
  {
   "cell_type": "code",
   "execution_count": 2,
   "metadata": {},
   "outputs": [],
   "source": []
  },
  {
   "cell_type": "code",
   "execution_count": null,
   "metadata": {},
   "outputs": [],
   "source": [
    "main_fp = r'D:\\ANSYS Fluent Projects\\pvt_slice_outdoor\\Fluent_GMI'\n",
    "Mesh_fp = os.path.join(main_fp, 'Mesh')\n",
    "\n",
    "msh_h5_files = glob.glob(Mesh_fp + '/*.msh.h5')\n",
    "msh_h5_files = [file for file in msh_h5_files if ((\"M1\" in file) & (\"oldM\" not in file) & (\"plus_TEST\" not in file) & (\"_r120\" not in file))]\n",
    "# msh_h5_files = [file for file in msh_h5_files if ((\"M1\" in file) & (\"oldM\" not in file) & (\"plus_TEST\" not in file) & (\"_r60\" not in file))]\n",
    "\n",
    "msh_h5_files = [os.path.basename(file_path) for file_path in msh_h5_files]\n",
    "msh_h5_files = sorted(msh_h5_files, key=lambda x: int(x[1:x.index('_M')]))\n",
    "msh_h5_files = [file_name.replace(\".msh.h5\", \"\") for file_name in msh_h5_files]\n",
    "msh_h5_files = [msh_h5_files[2]] + msh_h5_files[3:7] + msh_h5_files[0:2]\n",
    "# msh_h5_files.append('A10_M1__V4.5F5030_s_wHB_r60')\n",
    "msh_h5_files"
   ]
  },
  {
   "cell_type": "code",
   "execution_count": 9,
   "metadata": {},
   "outputs": [],
   "source": [
    "# Usage\n",
    "\n",
    "for i, caoMeshName in enumerate(msh_h5_files):\n",
    "\n",
    "    caoMeshCode = caoMeshName.split('__')[0]\n",
    "\n",
    "    source_folder = os.path.join(r'D:\\ANSYS Fluent Projects\\pvt_slice_outdoor\\Fluent_GMI\\SimulationResults', str(caoMeshCode))\n",
    "    destination_folder = os.path.join(r'H:\\Drive partagés\\Cercle Hard\\R&D\\Modèles numériques PVT\\PVT-perf-1Dmodel\\CFD\\Fluent_GMI\\SimulationResults', str(caoMeshCode))\n",
    "    exclusions = ['.cas.h5', '.dat.h5']\n",
    "\n",
    "    copy_folder_with_exclusions(source_folder, destination_folder, exclusions)"
   ]
  },
  {
   "cell_type": "code",
   "execution_count": 13,
   "metadata": {},
   "outputs": [],
   "source": []
  },
  {
   "cell_type": "code",
   "execution_count": null,
   "metadata": {},
   "outputs": [],
   "source": []
  }
 ],
 "metadata": {
  "kernelspec": {
   "display_name": "venv",
   "language": "python",
   "name": "python3"
  },
  "language_info": {
   "codemirror_mode": {
    "name": "ipython",
    "version": 3
   },
   "file_extension": ".py",
   "mimetype": "text/x-python",
   "name": "python",
   "nbconvert_exporter": "python",
   "pygments_lexer": "ipython3",
   "version": "3.11.6"
  }
 },
 "nbformat": 4,
 "nbformat_minor": 2
}
