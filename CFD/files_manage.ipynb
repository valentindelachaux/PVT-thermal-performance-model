{
 "cells": [
  {
   "cell_type": "code",
   "execution_count": 2,
   "metadata": {},
   "outputs": [],
   "source": [
    "import os\n",
    "import glob\n",
    "import shutil\n",
    "\n",
    "import paramiko\n",
    "from scp import SCPClient\n",
    "import posixpath"
   ]
  },
  {
   "cell_type": "code",
   "execution_count": null,
   "metadata": {},
   "outputs": [],
   "source": [
    "msh_h5_files = glob.glob(r'D:\\ANSYS Fluent Projects\\pvt_slice_outdoor\\Fluent_GMI\\Mesh' + '/*.msh.h5')\n",
    "msh_h5_files = [file.replace(r'D:\\ANSYS Fluent Projects\\pvt_slice_outdoor\\Fluent_GMI\\Mesh', '') for file in msh_h5_files]\n",
    "msh_h5_files = [file.replace(\"\\\\\", \"\") for file in msh_h5_files]\n",
    "msh_h5_files = [file.replace(\".msh.h5\", \"\") for file in msh_h5_files]\n",
    "msh_h5_files = pd.DataFrame(msh_h5_files, columns=['name'])\n",
    "msh_h5_files.to_excel(r'D:\\ANSYS Fluent Projects\\pvt_slice_outdoor\\Fluent_GMI\\Mesh\\240913_msh_h5_files.xlsx')\n",
    "\n",
    "rows_to_move = list(np.arange(7,15))\n",
    "new_index = rows_to_move + [index for index in msh_h5_files.index if index not in rows_to_move]\n",
    "msh_h5_files = msh_h5_files.reindex(new_index)\n",
    "\n",
    "rows_to_move = [7,13]\n",
    "new_index = rows_to_move + [index for index in msh_h5_files.index if index not in rows_to_move]\n",
    "msh_h5_files = msh_h5_files.reindex(new_index)\n",
    "\n",
    "msh_h5_files.reset_index(drop=True,inplace=True)\n",
    "\n",
    "msh_h5_files['code'] = ['A1_M1','A2_M1','A3_M1','A3_M2','A3_M3','A3_M4','A3_M5','A4_M1','A5_M1','A6_M1','A7_M1','A8_M1','A9_M1','A10_M1','A11_M1']\n",
    "\n",
    "new_names = ['V4.5NI_s_plus_TEST',\n",
    " 'V4.5NI_s_oldM',\n",
    " 'V4.5NI_s_r60',\n",
    " 'V4.5NI_s_r60',\n",
    " 'V4.5NI_s_r60',\n",
    " 'V4.5NI_s_r60',\n",
    " 'V4.5NI_s_r60',\n",
    " 'V4.5NI_s_wHB_r60',\n",
    " 'V4.5F2014_s_wHB_r60',\n",
    " 'V4.5F2014_s_wHB_r120',\n",
    " 'V4.5F2020_s_wHB_r60',\n",
    " 'V4.5F5020_s_wHB_r60',\n",
    " 'V4.5F5020_s_wHB_r120',\n",
    " 'V4.5F5030_s_wHB_r60',\n",
    " 'V4.5F5040_s_wHB_r60',]\n",
    "\n",
    "msh_h5_files['new_name'] = [msh_h5_files.loc[i, 'code'] + '__' + new_names[i] for i in range(len(msh_h5_files.index))]"
   ]
  },
  {
   "cell_type": "code",
   "execution_count": null,
   "metadata": {},
   "outputs": [],
   "source": [
    "for index, row in msh_h5_files.iterrows():\n",
    "    old_name = os.path.join(r'D:\\ANSYS Fluent Projects\\pvt_slice_outdoor\\Fluent_GMI\\Mesh', row['name'] + '.msh.h5')\n",
    "    new_name = os.path.join(r'D:\\ANSYS Fluent Projects\\pvt_slice_outdoor\\Fluent_GMI\\Mesh', row['new_name'] + '.msh.h5')\n",
    "    os.rename(old_name, new_name)"
   ]
  },
  {
   "cell_type": "code",
   "execution_count": 5,
   "metadata": {},
   "outputs": [],
   "source": [
    "def copy_folder_with_exclusions(src, dest, excluded_extensions):\n",
    "    # Make sure the destination folder exists\n",
    "    if not os.path.exists(dest):\n",
    "        os.makedirs(dest)\n",
    "    \n",
    "    # Walk through the source directory\n",
    "    for root, dirs, files in os.walk(src):\n",
    "        # Create the corresponding directory in the destination\n",
    "        relative_path = os.path.relpath(root, src)\n",
    "        dest_dir = os.path.join(dest, relative_path)\n",
    "        if not os.path.exists(dest_dir):\n",
    "            os.makedirs(dest_dir)\n",
    "        \n",
    "        # Filter and copy files, excluding specific extensions\n",
    "        for file in files:\n",
    "            if not file.endswith(tuple(excluded_extensions)):\n",
    "                src_file = os.path.join(root, file)\n",
    "                dest_file = os.path.join(dest_dir, file)\n",
    "                shutil.copy2(src_file, dest_file)"
   ]
  },
  {
   "cell_type": "code",
   "execution_count": 9,
   "metadata": {},
   "outputs": [],
   "source": [
    "def move_files_with_extension(source_dir, dest_dir, extension):\n",
    "    # Walk through the source directory\n",
    "    for root, dirs, files in os.walk(source_dir):\n",
    "        for file in files:\n",
    "            if file.endswith(extension):\n",
    "                # Create the destination subfolder structure\n",
    "                relative_path = os.path.relpath(root, source_dir)\n",
    "                dest_subdir = os.path.join(dest_dir, relative_path)\n",
    "                os.makedirs(dest_subdir, exist_ok=True)\n",
    "                # Move the file to the destination directory\n",
    "                source_file = os.path.join(root, file)\n",
    "                dest_file = os.path.join(dest_subdir, file)\n",
    "                shutil.move(source_file, dest_file)\n",
    "                print(f\"Moved: {source_file} -> {dest_file}\")"
   ]
  },
  {
   "cell_type": "code",
   "execution_count": 2,
   "metadata": {},
   "outputs": [],
   "source": []
  },
  {
   "cell_type": "code",
   "execution_count": null,
   "metadata": {},
   "outputs": [],
   "source": [
    "main_fp = r'D:\\ANSYS Fluent Projects\\pvt_slice_outdoor\\Fluent_GMI'\n",
    "Mesh_fp = os.path.join(main_fp, 'Mesh')\n",
    "\n",
    "msh_h5_files = glob.glob(Mesh_fp + '/*.msh.h5')\n",
    "msh_h5_files = [file for file in msh_h5_files if ((\"M1\" in file) & (\"oldM\" not in file) & (\"plus_TEST\" not in file) & (\"_r120\" not in file))]\n",
    "# msh_h5_files = [file for file in msh_h5_files if ((\"M1\" in file) & (\"oldM\" not in file) & (\"plus_TEST\" not in file) & (\"_r60\" not in file))]\n",
    "\n",
    "msh_h5_files = [os.path.basename(file_path) for file_path in msh_h5_files]\n",
    "msh_h5_files = sorted(msh_h5_files, key=lambda x: int(x[1:x.index('_M')]))\n",
    "msh_h5_files = [file_name.replace(\".msh.h5\", \"\") for file_name in msh_h5_files]\n",
    "msh_h5_files = [msh_h5_files[2]] + msh_h5_files[3:7] + msh_h5_files[0:2]\n",
    "# msh_h5_files.append('A10_M1__V4.5F5030_s_wHB_r60')\n",
    "msh_h5_files"
   ]
  },
  {
   "cell_type": "code",
   "execution_count": 1,
   "metadata": {},
   "outputs": [],
   "source": [
    "msh_h5_files = [\n",
    "                 'A5_M1__V4.5F2014_s_wHB_r60',\n",
    "                 'A7_M1__V4.5F2020_s_wHB_r60',\n",
    "                ]"
   ]
  },
  {
   "cell_type": "code",
   "execution_count": 7,
   "metadata": {},
   "outputs": [],
   "source": [
    "# Usage\n",
    "\n",
    "for i, caoMeshName in enumerate(msh_h5_files):\n",
    "\n",
    "    caoMeshCode = caoMeshName.split('__')[0]\n",
    "\n",
    "    source_folder = os.path.join(r'D:\\ANSYS Fluent Projects\\pvt_slice_outdoor\\Fluent_GMI\\SimulationResults', str(caoMeshCode))\n",
    "    destination_folder = os.path.join(r'H:\\Drive partagés\\Cercle Hard\\R&D\\Modèles numériques PVT\\PVT-perf-1Dmodel\\CFD\\Fluent_GMI\\SimulationResults', str(caoMeshCode))\n",
    "    \n",
    "    exclusions = ['.cas.h5', '.dat.h5']\n",
    "    copy_folder_with_exclusions(source_folder, destination_folder, exclusions)"
   ]
  },
  {
   "cell_type": "code",
   "execution_count": 8,
   "metadata": {},
   "outputs": [],
   "source": [
    "source_folder = r'D:\\ANSYS Fluent Projects\\Hydraulics\\V4.5\\V4.5_1channel\\SimulationResults\\parametric_laminar_try0'\n",
    "destination_folder = r'H:\\Drive partagés\\Cercle Hard\\R&D\\Modèles numériques PVT\\PVT-PL-model\\CFD\\V4.5_1channel_SR'\n",
    "\n",
    "exclusions = ['.cas.h5', '.dat.h5']\n",
    "copy_folder_with_exclusions(source_folder, destination_folder, exclusions)"
   ]
  },
  {
   "cell_type": "code",
   "execution_count": null,
   "metadata": {},
   "outputs": [],
   "source": [
    "# Example usage\n",
    "source_folder = r'D:\\ANSYS Fluent Projects\\pvt_slice_outdoor\\Fluent_GMI\\tests'\n",
    "destination_folder = r'E:\\DualSun\\SEAGULL-3000\\Fluent_GMI\\tests'\n",
    "\n",
    "file_extension = '.h5'  # Change to the desired file extension\n",
    "move_files_with_extension(source_folder, destination_folder, file_extension)"
   ]
  },
  {
   "cell_type": "markdown",
   "metadata": {},
   "source": [
    "## SSH"
   ]
  },
  {
   "cell_type": "code",
   "execution_count": 3,
   "metadata": {},
   "outputs": [],
   "source": [
    "# Function to establish an SSH connection\n",
    "def create_ssh_client(hostname, port, username, password):\n",
    "    ssh = paramiko.SSHClient()\n",
    "    ssh.load_system_host_keys()\n",
    "    ssh.set_missing_host_key_policy(paramiko.AutoAddPolicy())\n",
    "    ssh.connect(hostname, port=port, username=username, password=password)\n",
    "    return ssh\n",
    "\n",
    "# Recursive function to copy files and folders via SSH, excluding .h5 files\n",
    "def copy_files_recursively(sftp, scp, remote_folder, local_folder):\n",
    "    try:\n",
    "        os.makedirs(local_folder, exist_ok=True)  # Create local folder if it doesn't exist\n",
    "        items = sftp.listdir_attr(remote_folder)  # List directory contents\n",
    "\n",
    "        for item in items:\n",
    "            remote_path = posixpath.join(remote_folder, item.filename)  # Ensure POSIX (Linux) path\n",
    "            local_path = os.path.join(local_folder, item.filename)  # Windows path uses os.path.join\n",
    "\n",
    "            if item.st_mode & 0o40000:  # If it's a directory\n",
    "                print(f\"Entering directory {remote_path}\")\n",
    "                copy_files_recursively(sftp, scp, remote_path, local_path)\n",
    "            else:  # If it's a file\n",
    "                if not item.filename.endswith('.h5'):\n",
    "                    print(f\"Copying file {remote_path} to {local_path}\")\n",
    "                    scp.get(remote_path, local_path)\n",
    "                else:\n",
    "                    print(f\"Skipping file {remote_path} (excluded by extension)\")\n",
    "    except Exception as e:\n",
    "        print(f\"Error while copying files: {e}\")\n",
    "\n",
    "# Main function to establish SSH connection and start file copy\n",
    "def copy_files_via_ssh(hostname, port, username, password, remote_folder, local_folder):\n",
    "    ssh = create_ssh_client(hostname, port, username, password)\n",
    "    \n",
    "    # Create SCP client\n",
    "    with SCPClient(ssh.get_transport()) as scp:\n",
    "        # Use SFTP to list files and directories on the remote directory\n",
    "        sftp = ssh.open_sftp()\n",
    "        try:\n",
    "            copy_files_recursively(sftp, scp, remote_folder, local_folder)\n",
    "        except Exception as e:\n",
    "            print(f\"Error during file copy: {e}\")\n",
    "        finally:\n",
    "            sftp.close()\n",
    "            ssh.close()"
   ]
  },
  {
   "cell_type": "code",
   "execution_count": null,
   "metadata": {},
   "outputs": [],
   "source": [
    "# Define your SSH and folder details here\n",
    "hostname = 'gnode03'\n",
    "port = 22\n",
    "username = 'delachaux'\n",
    "password = 'finsonSPRING4?'  # Use SSH key for better security if possible\n",
    "# remote_folder = '/usrtmp/delachaux/ANSYS Fluent Projects/Hydraulics/NUMAIRO_motif/SimulationResults/abaque1_laminar_try0'\n",
    "remote_folder = '/usrtmp/delachaux/ANSYS Fluent Projects/Hydraulics/V4.5_1channel/SimulationResults/V4.5_1chMid_M1/parametric_laminar_try0'\n",
    "local_folder = r'D:\\ANSYS Fluent Projects\\Hydraulics\\V4.5\\V4.5_1channel\\SimulationResults\\V4.5_1chMid_M1'\n",
    "# local_folder = r'G:\\Drive partagés\\Cercle Hard\\R&D\\Modèles numériques PVT\\ANSYS Fluent Projects\\Hydraulics\\V4_motif\\SimulationResults\\V4.6_1MPE_M2\\abaque1_laminar_try0'\n",
    "\n",
    "# Start copying files, excluding those with .h5 extension\n",
    "copy_files_via_ssh(hostname, port, username, password, remote_folder, local_folder)"
   ]
  },
  {
   "cell_type": "code",
   "execution_count": null,
   "metadata": {},
   "outputs": [],
   "source": []
  }
 ],
 "metadata": {
  "kernelspec": {
   "display_name": "venv",
   "language": "python",
   "name": "python3"
  },
  "language_info": {
   "codemirror_mode": {
    "name": "ipython",
    "version": 3
   },
   "file_extension": ".py",
   "mimetype": "text/x-python",
   "name": "python",
   "nbconvert_exporter": "python",
   "pygments_lexer": "ipython3",
   "version": "3.11.6"
  }
 },
 "nbformat": 4,
 "nbformat_minor": 2
}
