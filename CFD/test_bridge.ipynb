{
 "cells": [
  {
   "cell_type": "code",
   "execution_count": 1,
   "metadata": {},
   "outputs": [],
   "source": [
    "# ## IMPORTS\n",
    "\n",
    "# import os\n",
    "# import sys\n",
    "# import time\n",
    "# import math\n",
    "# from datetime import datetime\n",
    "# from io import StringIO\n",
    "\n",
    "\n",
    "# import numpy as np\n",
    "# import pandas as pd\n",
    "# import matplotlib.pyplot as plt\n",
    "# import plotly.graph_objects as go\n",
    "# from numpy.polynomial.polynomial import Polynomial\n",
    "# import scipy.integrate as integrate\n",
    "# import scipy.optimize as sco\n",
    "# from scipy.optimize import minimize\n",
    "# from sklearn.metrics import mean_squared_error\n",
    "# import openpyxl\n",
    "# import networkx as nx\n",
    "# import sklearn.metrics\n",
    "# from IPython.core.display import HTML\n",
    "# import plotly.io as pio\n",
    "# from openpyxl.utils.dataframe import dataframe_to_rows\n",
    "# import openpyxl as opxl\n",
    "# import matplotlib.ticker as mtick\n",
    "# from matplotlib.cm import get_cmap\n",
    "# import time\n",
    "\n",
    "\n",
    "# sys.path.append(r'D:\\seagu_OneDrive\\Documents\\GitHub\\parallel-flow-distribution-pressure-loss\\ansys')\n",
    "# sys.path.append(r'D:\\seagu_OneDrive\\Documents\\GitHub\\PVT-thermal-performance-model')\n",
    "# import jou_gen as jg\n",
    "# import ansys_py_bridge as apb\n",
    "# import ansys.fluent.core as pyfluent\n",
    "# # import model as ty\n",
    "# import proc as pr\n",
    "# import plot_functions_here as pfun\n",
    "# import heat_transfer as bht\n",
    "# import fluids as fds\n",
    "# import ht\n",
    "# import general as gen"
   ]
  },
  {
   "cell_type": "code",
   "execution_count": 2,
   "metadata": {},
   "outputs": [],
   "source": [
    "## IMPORTS\n",
    "import os\n",
    "import sys\n",
    "import re\n",
    "import time\n",
    "import math\n",
    "from datetime import datetime\n",
    "from io import StringIO\n",
    "\n",
    "import numpy as np\n",
    "import pandas as pd\n",
    "import matplotlib.pyplot as plt\n",
    "import plotly.graph_objects as go\n",
    "import plotly.express as px\n",
    "import plotly.colors as pc\n",
    "from scipy.stats import linregress\n",
    "from numpy.polynomial.polynomial import Polynomial\n",
    "import scipy.integrate as integrate\n",
    "import scipy.optimize as sco\n",
    "from scipy.optimize import minimize\n",
    "from sklearn.metrics import mean_squared_error\n",
    "import openpyxl\n",
    "import networkx as nx\n",
    "import sklearn.metrics\n",
    "from IPython.core.display import HTML\n",
    "import plotly.io as pio\n",
    "from openpyxl.utils.dataframe import dataframe_to_rows\n",
    "import openpyxl as opxl\n",
    "import matplotlib.ticker as mtick\n",
    "from matplotlib.cm import get_cmap\n",
    "import time\n",
    "import pickle\n",
    "\n",
    "import bridge_plot as bplt"
   ]
  },
  {
   "cell_type": "code",
   "execution_count": 3,
   "metadata": {},
   "outputs": [],
   "source": [
    "SR_fp = r'G:\\Drive partagés\\Cercle Hard\\R&D\\Modèles numériques PVT\\ANSYS Fluent Projects\\pvt_slice_outdoor\\Fluent_GMI\\SimulationResults'\n",
    "caoMeshCode = 'A5_M1'\n",
    "testConditionsCode = 'tC0'\n",
    "method = 'bridge'\n",
    "no_try = 0\n",
    "no_case = 0"
   ]
  },
  {
   "cell_type": "code",
   "execution_count": 45,
   "metadata": {},
   "outputs": [],
   "source": [
    "(panelSpecs, hyp, stepCondition, log, CFD_ht_list, phis_list, df_one_per_part_list) = bplt.get_data_v2(SR_fp, caoMeshCode, testConditionsCode, method, no_try, no_case)"
   ]
  },
  {
   "cell_type": "code",
   "execution_count": null,
   "metadata": {},
   "outputs": [],
   "source": [
    "df_one_per_part_list[0]['Qdot_PV_sky'] "
   ]
  },
  {
   "cell_type": "code",
   "execution_count": null,
   "metadata": {},
   "outputs": [],
   "source": [
    "Qdot = 'Qdot_PV_sky'\n",
    "bplt.plot_1D_last_it(Qdot, SR_fp, caoMeshCode, testConditionsCode, method, no_try, no_case).show()\n",
    "bplt.plot_CFD_tot_last_it(Qdot, SR_fp, caoMeshCode, testConditionsCode, method, no_try, no_case).show()"
   ]
  },
  {
   "cell_type": "code",
   "execution_count": null,
   "metadata": {},
   "outputs": [],
   "source": [
    "Qdot = \"Qdot_PV_sky\"\n",
    "bplt.plot_big_it(Qdot, SR_fp, caoMeshCode, testConditionsCode, method, no_try, no_case).show()"
   ]
  },
  {
   "cell_type": "code",
   "execution_count": null,
   "metadata": {},
   "outputs": [],
   "source": [
    "caoMeshCode = 'A12_M1'\n",
    "bplt.plot_1D_DeltaT_v2('Qdot_tube_fluid', SR_fp, caoMeshCode, testConditionsCode, method, no_try, [0,1,2])"
   ]
  },
  {
   "cell_type": "code",
   "execution_count": null,
   "metadata": {},
   "outputs": [],
   "source": [
    "print(23.61/1.95)\n",
    "print(25.4/1.95)\n",
    "print(25.64/1.95)\n",
    "print(29.70/1.95) # A8\n",
    "print(28.8/1.95) # A10_M2\n",
    "print(28.7/1.95) # A11_M1\n",
    "print(29.77/1.95)"
   ]
  },
  {
   "cell_type": "code",
   "execution_count": null,
   "metadata": {},
   "outputs": [],
   "source": [
    "(13.02-12.107) / 12.107"
   ]
  },
  {
   "cell_type": "code",
   "execution_count": null,
   "metadata": {},
   "outputs": [],
   "source": [
    "caoMeshCode_list = ['A3_M1','A4_M1','A5_M1', 'A7_M1', 'A8_M1']\n",
    "# no_case = 1\n",
    "no_try = 0\n",
    "for no_case in range(0, 3):\n",
    "    bplt.plot_1D_participation_stacked_last_it_multiple(SR_fp, caoMeshCode_list, testConditionsCode, method, no_try, no_case).show()"
   ]
  },
  {
   "cell_type": "code",
   "execution_count": null,
   "metadata": {},
   "outputs": [],
   "source": [
    "panelSpecs, hyp, stepCondition, log, CFD_ht_list, phis_list, df_one_per_part_list = bplt.get_data_v2(SR_fp, caoMeshCode, testConditionsCode, method, no_try, no_case)\n",
    "stepCondition"
   ]
  },
  {
   "cell_type": "code",
   "execution_count": null,
   "metadata": {},
   "outputs": [],
   "source": [
    "# SR_fp = r'G:\\Drive partagés\\Cercle Hard\\R&D\\Modèles numériques PVT\\PVT-perf-1Dmodel\\CFD\\Fluent_GMI\\SimulationResults'\n",
    "SR_fp = r'D:\\ANSYS Fluent Projects\\pvt_slice_outdoor\\Fluent_GMI\\SimulationResults'\n",
    "# caoMeshCode = 'A5_M1'\n",
    "caoMeshCode_list = ['A5_M1', 'A7_M1']\n",
    "testConditionsCode = 'tCwind'\n",
    "method = 'bridge'\n",
    "no_try =0\n",
    "no_case = 0\n",
    "cases = [0,1,2,3]\n",
    "df_list_1 = []\n",
    "df_list_2 = []\n",
    "Qdot = 'Qdot_tube_fluid'\n",
    "# bplt.plot_1D_participation_stacked_last_it_multiple(SR_fp, caoMeshCode_list, testConditionsCode, method, no_try, no_case).show()\n",
    "for caoMeshCode in caoMeshCode_list :\n",
    "    cases = [0, 1, 2, 3]\n",
    "    bplt.plot_1D_participation_stacked_last_it_multiple_cases(SR_fp, caoMeshCode, testConditionsCode, method, no_try, cases).show()\n",
    "    # bplt.plot_1D_DeltaT_v2(Qdot, SR_fp, caoMeshCode, testConditionsCode, method, no_try, cases).show()\n",
    "    # df = bplt.generate_regression_table(Qdot, SR_fp, caoMeshCode, testConditionsCode, method, no_try, cases)\n",
    "    # df = pd.DataFrame(df, index=[0])\n",
    "    # df_list.append(df)\n",
    "    cases = [0, 1]\n",
    "    df_1 = bplt.generate_regression_table(Qdot, SR_fp, caoMeshCode, testConditionsCode, method, no_try, cases)\n",
    "    df_1 = pd.DataFrame(df_1, index=[0])\n",
    "    df_list_1.append(df_1)\n",
    "    cases = [2, 3]\n",
    "    df_2 = bplt.generate_regression_table(Qdot, SR_fp, caoMeshCode, testConditionsCode, method, no_try, cases)\n",
    "    df_2 = pd.DataFrame(df_2, index=[0])\n",
    "    df_list_2.append(df_2)\n",
    "\n",
    "    \n",
    "\n",
    "cases = [0, 1]\n",
    "bplt.plot_1D_DeltaT_multiple(Qdot, SR_fp, caoMeshCode_list, testConditionsCode, method, no_try, cases).show()\n",
    "cases = [2, 3]\n",
    "bplt.plot_1D_DeltaT_multiple(Qdot, SR_fp, caoMeshCode_list, testConditionsCode, method, no_try, cases).show()\n",
    "\n",
    "print(\"Résultats pour 0.5 m/s\")\n",
    "df_combined_1 = pd.concat(df_list_1, ignore_index=True)\n",
    "pr.disp_html(df_combined_1)\n",
    "print(\"Résultats pour 1.5 m/s\")\n",
    "df_combined_2 = pd.concat(df_list_2, ignore_index=True)\n",
    "pr.disp_html(df_combined_2)"
   ]
  },
  {
   "cell_type": "code",
   "execution_count": null,
   "metadata": {},
   "outputs": [],
   "source": [
    "SR_fp = r'D:\\ANSYS Fluent Projects\\pvt_slice_outdoor\\Fluent_GMI\\SimulationResults'\n",
    "# caoMeshCode = 'A5_M1'\n",
    "caoMeshCode_list = ['A3_M1','A4_M1','A5_M1', 'A7_M1','A10_M2','A11_M1','A12_M1']\n",
    "# caoMeshCode_list = ['A11_M1', 'A12_M1']\n",
    "testConditionsCode = 'tC0'\n",
    "method = 'bridge'\n",
    "no_try =0\n",
    "no_case = 1\n",
    "cases = [0,1]\n",
    "Qdot = 'Qdot_tube_fluid'\n",
    "for no_case in cases :\n",
    "    bplt.plot_1D_participation_stacked_last_it_multiple(SR_fp, caoMeshCode_list, testConditionsCode, method, no_try, no_case).show()\n",
    "    # for caoMeshCode in caoMeshCode_list :\n",
    "        # bplt.plot_1D_last_it_v2(Qdot, SR_fp, caoMeshCode, testConditionsCode, method, no_try, no_case).show()"
   ]
  },
  {
   "cell_type": "code",
   "execution_count": null,
   "metadata": {},
   "outputs": [],
   "source": [
    "SR_fp = r'D:\\ANSYS Fluent Projects\\pvt_slice_outdoor\\Fluent_GMI\\SimulationResults'\n",
    "caoMeshCode = 'A12_M1'\n",
    "# caoMeshCode_list = ['A3_M1','A4_M1','A5_M1', 'A7_M1','A11_M1','A12_M1']\n",
    "testConditionsCode = 'tC0'\n",
    "method = 'bridge'\n",
    "no_try =0\n",
    "no_case = 0\n",
    "cases = [0,1,2]\n",
    "for no_case in cases :\n",
    "    # plot_CFD_participation_last_it(SR_fp, caoMeshCode, testConditionsCode, method, no_try, no_case).show()\n",
    "    bplt.plot_1D_participation_last_it(SR_fp, caoMeshCode, testConditionsCode, method, no_try, no_case).show()\n",
    "    for Qdot in ['Qdot_tube_fluid', 'Qdot_top','Qdot_tube_back', 'Qdot_PV_sky', 'Qdot_top_rad', 'Qdot_top_conv', 'Qdot_tube_back_rad', 'Qdot_tube_back_conv'] :\n",
    "        bplt.plot_big_it(Qdot, SR_fp, caoMeshCode, testConditionsCode, method, no_try, no_case).show()"
   ]
  },
  {
   "cell_type": "markdown",
   "metadata": {},
   "source": [
    "### Tests"
   ]
  },
  {
   "cell_type": "code",
   "execution_count": null,
   "metadata": {},
   "outputs": [],
   "source": [
    "SR_fp =r'D:\\ANSYS Fluent Projects\\pvt_slice_outdoor\\Fluent_GMI\\SimulationResults'\n",
    "caoMeshCodes = ['A5_M1','A7_M1','A8_M1','A10_M1']\n",
    "cases = [0,1,2]\n",
    "testConditionsCode = 'tC0'\n",
    "method = 'bridge'\n",
    "no_try =1\n",
    "for no_case in cases :\n",
    "    for caoMeshCode in caoMeshCodes:\n",
    "        # plot_CFD_participation_last_it(SR_fp, caoMeshCode, testConditionsCode, method, no_try, no_case).show()\n",
    "        bplt.plot_1D_participation_last_it(SR_fp, caoMeshCode, testConditionsCode, method, no_try, no_case).show()\n",
    "        for Qdot in ['Qdot_tube_fluid', 'Qdot_top','Qdot_tube_back', 'Qdot_PV_sky', 'Qdot_top_rad', 'Qdot_top_conv', 'Qdot_tube_back_rad', 'Qdot_tube_back_conv'] :\n",
    "            bplt.plot_big_it(Qdot, SR_fp, caoMeshCode, testConditionsCode, method, no_try, no_case).show()"
   ]
  },
  {
   "cell_type": "code",
   "execution_count": null,
   "metadata": {},
   "outputs": [],
   "source": [
    "SR_fp =r'D:\\ANSYS Fluent Projects\\pvt_slice_outdoor\\Fluent_GMI\\SimulationResults'\n",
    "caoMeshCodes = ['A11_M1','A7_M1']\n",
    "cases = [0,1,2,3]\n",
    "testConditionsCode = 'tCwind'\n",
    "method = 'bridge'\n",
    "no_try =0\n",
    "for no_case in cases :\n",
    "    for caoMeshCode in caoMeshCodes:\n",
    "        # plot_CFD_participation_last_it(SR_fp, caoMeshCode, testConditionsCode, method, no_try, no_case).show()\n",
    "        # bplt.plot_1D_participation_last_it(SR_fp, caoMeshCode, testConditionsCode, method, no_try, no_case).show()\n",
    "        for Qdot in ['Qdot_tube_fluid', 'Qdot_top','Qdot_tube_back', 'Qdot_PV_sky', 'Qdot_top_rad', 'Qdot_top_conv', 'Qdot_tube_back_rad', 'Qdot_tube_back_conv'] :\n",
    "            bplt.plot_big_it(Qdot, SR_fp, caoMeshCode, testConditionsCode, method, no_try, no_case).show()"
   ]
  },
  {
   "cell_type": "code",
   "execution_count": null,
   "metadata": {},
   "outputs": [],
   "source": []
  }
 ],
 "metadata": {
  "kernelspec": {
   "display_name": "model23",
   "language": "python",
   "name": "python3"
  },
  "language_info": {
   "codemirror_mode": {
    "name": "ipython",
    "version": 3
   },
   "file_extension": ".py",
   "mimetype": "text/x-python",
   "name": "python",
   "nbconvert_exporter": "python",
   "pygments_lexer": "ipython3",
   "version": "3.10.5"
  }
 },
 "nbformat": 4,
 "nbformat_minor": 2
}
