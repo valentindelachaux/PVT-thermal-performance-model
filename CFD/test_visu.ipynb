{
 "cells": [
  {
   "cell_type": "code",
   "execution_count": 1,
   "metadata": {},
   "outputs": [],
   "source": [
    "## IMPORTS\n",
    "\n",
    "import os\n",
    "import sys\n",
    "import re\n",
    "import time\n",
    "import math\n",
    "from datetime import datetime\n",
    "from io import StringIO\n",
    "\n",
    "\n",
    "import numpy as np\n",
    "import pandas as pd\n",
    "import matplotlib.pyplot as plt\n",
    "import plotly.graph_objects as go\n",
    "import plotly.express as px\n",
    "from numpy.polynomial.polynomial import Polynomial\n",
    "import scipy.integrate as integrate\n",
    "import scipy.optimize as sco\n",
    "from scipy.optimize import minimize\n",
    "from sklearn.metrics import mean_squared_error\n",
    "from sklearn.linear_model import LinearRegression\n",
    "import openpyxl\n",
    "import networkx as nx\n",
    "import sklearn.metrics\n",
    "from IPython.core.display import HTML\n",
    "import plotly.io as pio\n",
    "from openpyxl.utils.dataframe import dataframe_to_rows\n",
    "import openpyxl as opxl\n",
    "import matplotlib.ticker as mtick\n",
    "from matplotlib.cm import get_cmap\n",
    "import time\n",
    "\n",
    "\n",
    "sys.path.append(r'D:\\seagu_OneDrive\\Documents\\GitHub\\parallel-flow-distribution-pressure-loss\\ansys')\n",
    "sys.path.append(r'D:\\seagu_OneDrive\\Documents\\GitHub\\PVT-thermal-performance-model')\n",
    "import jou_gen as jg\n",
    "import ansys_py_bridge as apb\n",
    "import ansys.fluent.core as pyfluent\n",
    "import plot_bridge as pb\n",
    "import model as ty\n",
    "import proc as pr\n",
    "import plot_functions_here as pfun\n",
    "import heat_transfer as bht\n",
    "import fluids as fds\n",
    "import ht\n",
    "import general as gen\n",
    "folder_path = r'D:\\ANSYS Fluent Projects\\pvt_slice_outdoor\\Fluent_GMI\\tests'\n",
    "hypotheses_path = folder_path + '\\\\' + 'Model_hypotheses.xlsx'\n",
    "condi_path = folder_path + '\\\\' + 'test-Conditions-AR.xlsx'\n",
    "geometry_path = folder_path + '\\\\' + 'Inputs_TEST_V4.5_GG.xlsx'\n",
    "plot_path = folder_path + '\\\\' + 'Plot_hyp.xlsx'\n",
    "\n",
    "hyp = pr.create_dict_from_excel(hypotheses_path,'Main')\n",
    "steadyStateConditions_df = pd.read_excel(condi_path,header=2) ## Les deux première lignes ne sont pas à prendre\n",
    "stepConditions = steadyStateConditions_df.to_dict(orient='records')\n",
    "panelSpecs = pr.import_geometry(geometry_path)\n",
    "\n",
    "plot_hyp = pr.create_dict_from_excel(plot_path,'Main')\n"
   ]
  },
  {
   "cell_type": "code",
   "execution_count": null,
   "metadata": {},
   "outputs": [],
   "source": [
    "plot_hyp['method'] = 'case'\n",
    "plot_hyp['no_case'] = 7\n",
    "plot_hyp['no_mesh'] = 0\n",
    "plot_hyp['nb_it']=7\n",
    "plot_hyp"
   ]
  },
  {
   "cell_type": "code",
   "execution_count": null,
   "metadata": {},
   "outputs": [],
   "source": [
    "# 'mesh' ou 'case'\n",
    "ht_tot_mesh_case_list, ht_rad_mesh_case_list, ht_conv_mesh_case_list, CFD_mesh_case_list, df_one_mesh_case_list, slices_df_mesh_case_list, PyFluent_mesh_case_list = pb.get_data(plot_hyp, panelSpecs, hyp, stepConditions)"
   ]
  },
  {
   "cell_type": "code",
   "execution_count": null,
   "metadata": {},
   "outputs": [],
   "source": [
    "# Cas 'mesh' ou 'case'\n",
    "Qdot_tube_fluid, Qdot_top, Qdot_top_rad, Qdot_tube_back, Qdot_PV_sky = pb.calculate_Qdot(plot_hyp, panelSpecs, hyp, stepConditions, mesh = 0, case = 0, iteration = 0)"
   ]
  },
  {
   "cell_type": "code",
   "execution_count": null,
   "metadata": {},
   "outputs": [],
   "source": [
    "# Cas 'ref\n",
    "plot_hyp['method'] = 'ref'\n",
    "ht_tot_AR_list, ht_rad_AR_list, ht_conv_AR_list, CFD_AR_list, df_one_AR_list, slices_df_AR_list, PyFluent_AR_list, ht_tot_uniform, ht_rad_uniform, ht_conv_uniform, CFD_uniform, df_one_uniform, slices_df_uniform, df_PyFluent_uniform, df_one_1D, slices_df_1D, df_PyFluent_1D = pb.get_data(plot_hyp, panelSpecs, hyp, stepConditions)"
   ]
  },
  {
   "cell_type": "code",
   "execution_count": null,
   "metadata": {},
   "outputs": [],
   "source": [
    "Qdot = \"Qdot_tube_fluid\"\n",
    "pb.plot_CFD_last_it(Qdot, plot_hyp, panelSpecs, hyp, stepConditions)\n",
    "pb.plot_1D_last_it(Qdot, plot_hyp, panelSpecs, hyp, stepConditions)\n",
    "pb.plot_big_it(Qdot, plot_hyp, panelSpecs, hyp, stepConditions)"
   ]
  },
  {
   "cell_type": "code",
   "execution_count": null,
   "metadata": {},
   "outputs": [],
   "source": [
    "plot_hyp['method'] = 'case'\n",
    "plot_hyp['no_case'] = 7\n",
    "plot_hyp['no_mesh'] = 0\n",
    "pb.plot_big_it('Qdot_top_rad', plot_hyp, panelSpecs, hyp, stepConditions) "
   ]
  },
  {
   "cell_type": "code",
   "execution_count": null,
   "metadata": {},
   "outputs": [],
   "source": [
    "pb.plot_profile_temp(plot_hyp, panelSpecs, hyp, stepConditions)"
   ]
  },
  {
   "cell_type": "code",
   "execution_count": null,
   "metadata": {},
   "outputs": [],
   "source": [
    "plot_hyp['method'] = 'mesh'\n",
    "plot_hyp['nb_cases'] = 5\n",
    "plot_hyp['nb_mesh'] = 1\n",
    "plot_hyp['nb_it'] = 1\n",
    "plot_hyp['folder_mesh'] = 'Simu_1D_'\n",
    "plot_hyp['folder_name'] = 'cas_'\n",
    "plot_hyp['new_save'] = False\n",
    "pb.plot_1D_DeltaT_tot('Qdot_tube_fluid', plot_hyp, panelSpecs, hyp, stepConditions)\n",
    "# ht_tot_mesh_case_list, ht_rad_mesh_case_list, ht_conv_mesh_case_list, CFD_mesh_case_list, df_one_mesh_case_list, slices_df_mesh_case_list, PyFluent_mesh_case_list = pb.get_data(plot_hyp, panelSpecs, hyp, stepConditions)\n",
    "# df_one_mesh_case_list[0][0][0]"
   ]
  },
  {
   "cell_type": "code",
   "execution_count": null,
   "metadata": {},
   "outputs": [],
   "source": [
    "plot_hyp['method'] = 'case'\n",
    "plot_hyp['no_case'] = 7\n",
    "plot_hyp['no_mesh'] = 0\n",
    "plot_hyp['nb_it']=7\n",
    "plot_hyp['folder_mesh'] = 'Simu_M'\n",
    "plot_hyp['folder_name'] = 'cas_'\n",
    "plot_hyp['new_save'] = False\n",
    "pb.plot_CFD_last_it('Qdot_tube_fluid', plot_hyp, panelSpecs, hyp, stepConditions)"
   ]
  },
  {
   "cell_type": "code",
   "execution_count": null,
   "metadata": {},
   "outputs": [],
   "source": [
    "plot_hyp['method'] = 'mesh'\n",
    "plot_hyp['nb_cases'] = 3\n",
    "plot_hyp['nb_mesh'] = 4\n",
    "plot_hyp['nb_it'] = 1\n",
    "plot_hyp['folder_mesh'] = 'Simu_uniform'\n",
    "plot_hyp['folder_name'] = 'cas_M'\n",
    "plot_hyp['new_save'] = False\n",
    "nb_mesh = plot_hyp['nb_mesh']\n",
    "nb_cases = plot_hyp['nb_cases']\n",
    "\n",
    "for mesh in range(nb_mesh):\n",
    "    for case in range(nb_cases):\n",
    "        ratio_rad, ratio_conv = pb.rad_conv_ratio(plot_hyp, panelSpecs, hyp, stepConditions, mesh, case, -1)\n",
    "        print(f'ratio_rad = {ratio_rad}, ratio_conv = {ratio_conv}, Simu_uniform{mesh+1}, cas_M{case}')"
   ]
  },
  {
   "cell_type": "code",
   "execution_count": null,
   "metadata": {},
   "outputs": [],
   "source": [
    "plot_hyp['method'] = 'mesh'\n",
    "plot_hyp['nb_cases'] = 3\n",
    "plot_hyp['nb_mesh'] = 5\n",
    "plot_hyp['nb_it'] = 1\n",
    "plot_hyp['folder_mesh'] = 'Simu_uniform'\n",
    "plot_hyp['folder_name'] = 'cas_M'\n",
    "plot_hyp['new_save'] = False\n",
    "pb.plot_CFD_last_it('Qdot_top_conv', plot_hyp, panelSpecs, hyp, stepConditions)"
   ]
  },
  {
   "cell_type": "code",
   "execution_count": null,
   "metadata": {},
   "outputs": [],
   "source": [
    "\n",
    "file_name = 'residuals_cas_ref_CFD_uniform.txt'\n",
    "residual = 1\n",
    "for j in range(3) :\n",
    "    fig, ax = plt.subplots()\n",
    "    file_path_base = r'D:\\ANSYS Fluent Projects\\pvt_slice_outdoor\\Fluent_GMI\\tests' + '\\\\' + f'Simu_uniform2\\cas_M{j}'\n",
    "    file_path = os.path.join(file_path_base, file_name)\n",
    "    residuals2 = pb.extract_residuals(file_path)\n",
    "    file_path_base = r'D:\\ANSYS Fluent Projects\\pvt_slice_outdoor\\Fluent_GMI\\tests' + '\\\\' + f'Simu_uniform3\\cas_M{j}'\n",
    "    file_path = os.path.join(file_path_base, file_name)\n",
    "    residuals3 = pb.extract_residuals(file_path)\n",
    "    file_path_base = r'D:\\ANSYS Fluent Projects\\pvt_slice_outdoor\\Fluent_GMI\\tests' + '\\\\' + f'Simu_uniform4\\cas_M{j}'\n",
    "    file_path = os.path.join(file_path_base, file_name)\n",
    "    residuals4 = pb.extract_residuals(file_path)\n",
    "    residuals2[residual].plot(ax= ax, logy=True, legend = True)\n",
    "    residuals3[residual].plot(ax= ax, logy=True, legend = True)\n",
    "    residuals4[residual].plot(ax= ax, logy=True, legend = True)\n",
    "    ax.set_title(f'Uniform 2, 3 and 4, mesh {j+1}')\n",
    "    ax.set_xlabel('Iteration')\n",
    "    plt.show()\n",
    "    # pd.DataFrame(residuals[4] residuals[0]).plot(logy=True, legend = True, title = f'Uniform {i}, cas {j}')"
   ]
  },
  {
   "cell_type": "code",
   "execution_count": null,
   "metadata": {},
   "outputs": [],
   "source": [
    "plot_hyp['method'] = 'case'\n",
    "plot_hyp['no_case'] = 7\n",
    "plot_hyp['no_mesh'] = 0\n",
    "plot_hyp['nb_it']= 1\n",
    "plot_hyp['folder_mesh'] = 'Simu_CFD'\n",
    "plot_hyp['folder_name'] = 'cas_'\n",
    "plot_hyp['new_save'] = False\n",
    "pb.compute_quality(plot_hyp, panelSpecs, hyp, stepConditions)"
   ]
  },
  {
   "cell_type": "code",
   "execution_count": 2,
   "metadata": {},
   "outputs": [
    {
     "data": {
      "application/vnd.plotly.v1+json": {
       "config": {
        "plotlyServerURL": "https://plot.ly"
       },
       "data": [
        {
         "hovertemplate": "CFD Itération: %{x}<br>Qdot_tube_fluid :%{y:.2f} W<br>Part 1",
         "line": {
          "color": "#1f77b4",
          "width": 2
         },
         "marker": {
          "symbol": "cross"
         },
         "mode": "markers",
         "name": "Part 1 CFD",
         "type": "scatter",
         "x": [
          1
         ],
         "y": [
          3.265406595
         ]
        },
        {
         "hovertemplate": "1D Itération: %{x}<br>Qdot_tube_fluid :%{y:.2f} W<br>Part 1",
         "line": {
          "color": "#1f77b4",
          "dash": "dot",
          "width": 2
         },
         "marker": {
          "symbol": "x"
         },
         "mode": "markers",
         "name": "Part 1 1D",
         "type": "scatter",
         "x": [
          0.5
         ],
         "y": [
          3.6368945310228447
         ]
        },
        {
         "line": {
          "color": "#1f77b4",
          "dash": "dot",
          "width": 2
         },
         "mode": "lines",
         "name": "Part 1",
         "type": "scatter",
         "x": [
          0.5,
          1
         ],
         "y": [
          3.6368945310228447,
          3.265406595
         ]
        },
        {
         "hovertemplate": "CFD Itération: %{x}<br>Qdot_tube_fluid :%{y:.2f} W<br>Part 2",
         "line": {
          "color": "#ff7f0e",
          "width": 2
         },
         "marker": {
          "symbol": "cross"
         },
         "mode": "markers",
         "name": "Part 2 CFD",
         "type": "scatter",
         "x": [
          1
         ],
         "y": [
          1.5686917274999999
         ]
        },
        {
         "hovertemplate": "1D Itération: %{x}<br>Qdot_tube_fluid :%{y:.2f} W<br>Part 2",
         "line": {
          "color": "#ff7f0e",
          "dash": "dot",
          "width": 2
         },
         "marker": {
          "symbol": "x"
         },
         "mode": "markers",
         "name": "Part 2 1D",
         "type": "scatter",
         "x": [
          0.5
         ],
         "y": [
          13.988271979848864
         ]
        },
        {
         "line": {
          "color": "#ff7f0e",
          "dash": "dot",
          "width": 2
         },
         "mode": "lines",
         "name": "Part 2",
         "type": "scatter",
         "x": [
          0.5,
          1
         ],
         "y": [
          13.988271979848864,
          1.5686917274999999
         ]
        },
        {
         "hovertemplate": "CFD Itération: %{x}<br>Qdot_tube_fluid :%{y:.2f} W<br>Part 3",
         "line": {
          "color": "#2ca02c",
          "width": 2
         },
         "marker": {
          "symbol": "cross"
         },
         "mode": "markers",
         "name": "Part 3 CFD",
         "type": "scatter",
         "x": [
          1
         ],
         "y": [
          70.4624335175
         ]
        },
        {
         "hovertemplate": "1D Itération: %{x}<br>Qdot_tube_fluid :%{y:.2f} W<br>Part 3",
         "line": {
          "color": "#2ca02c",
          "dash": "dot",
          "width": 2
         },
         "marker": {
          "symbol": "x"
         },
         "mode": "markers",
         "name": "Part 3 1D",
         "type": "scatter",
         "x": [
          0.5
         ],
         "y": [
          78.00790997284234
         ]
        },
        {
         "line": {
          "color": "#2ca02c",
          "dash": "dot",
          "width": 2
         },
         "mode": "lines",
         "name": "Part 3",
         "type": "scatter",
         "x": [
          0.5,
          1
         ],
         "y": [
          78.00790997284234,
          70.4624335175
         ]
        },
        {
         "hovertemplate": "CFD Itération: %{x}<br>Qdot_tube_fluid :%{y:.2f} W<br>Part 4",
         "line": {
          "color": "#d62728",
          "width": 2
         },
         "marker": {
          "symbol": "cross"
         },
         "mode": "markers",
         "name": "Part 4 CFD",
         "type": "scatter",
         "x": [
          1
         ],
         "y": [
          2.0420197275
         ]
        },
        {
         "hovertemplate": "1D Itération: %{x}<br>Qdot_tube_fluid :%{y:.2f} W<br>Part 4",
         "line": {
          "color": "#d62728",
          "dash": "dot",
          "width": 2
         },
         "marker": {
          "symbol": "x"
         },
         "mode": "markers",
         "name": "Part 4 1D",
         "type": "scatter",
         "x": [
          0.5
         ],
         "y": [
          28.467055608952933
         ]
        },
        {
         "line": {
          "color": "#d62728",
          "dash": "dot",
          "width": 2
         },
         "mode": "lines",
         "name": "Part 4",
         "type": "scatter",
         "x": [
          0.5,
          1
         ],
         "y": [
          28.467055608952933,
          2.0420197275
         ]
        },
        {
         "hovertemplate": "CFD Itération: %{x}<br>Qdot_tube_fluid :%{y:.2f} W<br>Part 5",
         "line": {
          "color": "#9467bd",
          "width": 2
         },
         "marker": {
          "symbol": "cross"
         },
         "mode": "markers",
         "name": "Part 5 CFD",
         "type": "scatter",
         "x": [
          1
         ],
         "y": [
          76.00208059500001
         ]
        },
        {
         "hovertemplate": "1D Itération: %{x}<br>Qdot_tube_fluid :%{y:.2f} W<br>Part 5",
         "line": {
          "color": "#9467bd",
          "dash": "dot",
          "width": 2
         },
         "marker": {
          "symbol": "x"
         },
         "mode": "markers",
         "name": "Part 5 1D",
         "type": "scatter",
         "x": [
          0.5
         ],
         "y": [
          67.70657430207923
         ]
        },
        {
         "line": {
          "color": "#9467bd",
          "dash": "dot",
          "width": 2
         },
         "mode": "lines",
         "name": "Part 5",
         "type": "scatter",
         "x": [
          0.5,
          1
         ],
         "y": [
          67.70657430207923,
          76.00208059500001
         ]
        },
        {
         "hovertemplate": "CFD Itération: %{x}<br>Qdot_tube_fluid :%{y:.2f} W<br>Part 6",
         "line": {
          "color": "#8c564b",
          "width": 2
         },
         "marker": {
          "symbol": "cross"
         },
         "mode": "markers",
         "name": "Part 6 CFD",
         "type": "scatter",
         "x": [
          1
         ],
         "y": [
          1.15354091525
         ]
        },
        {
         "hovertemplate": "1D Itération: %{x}<br>Qdot_tube_fluid :%{y:.2f} W<br>Part 6",
         "line": {
          "color": "#8c564b",
          "dash": "dot",
          "width": 2
         },
         "marker": {
          "symbol": "x"
         },
         "mode": "markers",
         "name": "Part 6 1D",
         "type": "scatter",
         "x": [
          0.5
         ],
         "y": [
          10.65201794331576
         ]
        },
        {
         "line": {
          "color": "#8c564b",
          "dash": "dot",
          "width": 2
         },
         "mode": "lines",
         "name": "Part 6",
         "type": "scatter",
         "x": [
          0.5,
          1
         ],
         "y": [
          10.65201794331576,
          1.15354091525
         ]
        },
        {
         "hovertemplate": "CFD Itération: %{x}<br>Qdot_tube_fluid :%{y:.2f} W<br>Part 7",
         "line": {
          "color": "#e377c2",
          "width": 2
         },
         "marker": {
          "symbol": "cross"
         },
         "mode": "markers",
         "name": "Part 7 CFD",
         "type": "scatter",
         "x": [
          1
         ],
         "y": [
          1.769204475
         ]
        },
        {
         "hovertemplate": "1D Itération: %{x}<br>Qdot_tube_fluid :%{y:.2f} W<br>Part 7",
         "line": {
          "color": "#e377c2",
          "dash": "dot",
          "width": 2
         },
         "marker": {
          "symbol": "x"
         },
         "mode": "markers",
         "name": "Part 7 1D",
         "type": "scatter",
         "x": [
          0.5
         ],
         "y": [
          2.699731417324343
         ]
        },
        {
         "line": {
          "color": "#e377c2",
          "dash": "dot",
          "width": 2
         },
         "mode": "lines",
         "name": "Part 7",
         "type": "scatter",
         "x": [
          0.5,
          1
         ],
         "y": [
          2.699731417324343,
          1.769204475
         ]
        },
        {
         "hovertemplate": "CFD Itération: %{x}<br>Qdot_tube_fluid :%{y:.2f} W<br>Part 1",
         "line": {
          "color": "#1f77b4",
          "width": 2
         },
         "marker": {
          "symbol": "cross"
         },
         "mode": "markers",
         "name": "Part 1 CFD",
         "type": "scatter",
         "x": [
          1,
          2
         ],
         "y": [
          3.265406595,
          3.21899216
         ]
        },
        {
         "hovertemplate": "1D Itération: %{x}<br>Qdot_tube_fluid :%{y:.2f} W<br>Part 1",
         "line": {
          "color": "#1f77b4",
          "dash": "dot",
          "width": 2
         },
         "marker": {
          "symbol": "x"
         },
         "mode": "markers",
         "name": "Part 1 1D",
         "type": "scatter",
         "x": [
          0.5,
          1.5
         ],
         "y": [
          3.6368945310228447,
          2.529307385189814
         ]
        },
        {
         "line": {
          "color": "#1f77b4",
          "dash": "dot",
          "width": 2
         },
         "mode": "lines",
         "name": "Part 1",
         "type": "scatter",
         "x": [
          0.5,
          1,
          1.5,
          2
         ],
         "y": [
          3.6368945310228447,
          3.265406595,
          2.529307385189814,
          3.21899216
         ]
        },
        {
         "hovertemplate": "CFD Itération: %{x}<br>Qdot_tube_fluid :%{y:.2f} W<br>Part 2",
         "line": {
          "color": "#ff7f0e",
          "width": 2
         },
         "marker": {
          "symbol": "cross"
         },
         "mode": "markers",
         "name": "Part 2 CFD",
         "type": "scatter",
         "x": [
          1,
          2
         ],
         "y": [
          1.5686917274999999,
          1.53024404
         ]
        },
        {
         "hovertemplate": "1D Itération: %{x}<br>Qdot_tube_fluid :%{y:.2f} W<br>Part 2",
         "line": {
          "color": "#ff7f0e",
          "dash": "dot",
          "width": 2
         },
         "marker": {
          "symbol": "x"
         },
         "mode": "markers",
         "name": "Part 2 1D",
         "type": "scatter",
         "x": [
          0.5,
          1.5
         ],
         "y": [
          13.988271979848864,
          0.8551059934380792
         ]
        },
        {
         "line": {
          "color": "#ff7f0e",
          "dash": "dot",
          "width": 2
         },
         "mode": "lines",
         "name": "Part 2",
         "type": "scatter",
         "x": [
          0.5,
          1,
          1.5,
          2
         ],
         "y": [
          13.988271979848864,
          1.5686917274999999,
          0.8551059934380792,
          1.53024404
         ]
        },
        {
         "hovertemplate": "CFD Itération: %{x}<br>Qdot_tube_fluid :%{y:.2f} W<br>Part 3",
         "line": {
          "color": "#2ca02c",
          "width": 2
         },
         "marker": {
          "symbol": "cross"
         },
         "mode": "markers",
         "name": "Part 3 CFD",
         "type": "scatter",
         "x": [
          1,
          2
         ],
         "y": [
          70.4624335175,
          70.09255491249999
         ]
        },
        {
         "hovertemplate": "1D Itération: %{x}<br>Qdot_tube_fluid :%{y:.2f} W<br>Part 3",
         "line": {
          "color": "#2ca02c",
          "dash": "dot",
          "width": 2
         },
         "marker": {
          "symbol": "x"
         },
         "mode": "markers",
         "name": "Part 3 1D",
         "type": "scatter",
         "x": [
          0.5,
          1.5
         ],
         "y": [
          78.00790997284234,
          108.43120610316028
         ]
        },
        {
         "line": {
          "color": "#2ca02c",
          "dash": "dot",
          "width": 2
         },
         "mode": "lines",
         "name": "Part 3",
         "type": "scatter",
         "x": [
          0.5,
          1,
          1.5,
          2
         ],
         "y": [
          78.00790997284234,
          70.4624335175,
          108.43120610316028,
          70.09255491249999
         ]
        },
        {
         "hovertemplate": "CFD Itération: %{x}<br>Qdot_tube_fluid :%{y:.2f} W<br>Part 4",
         "line": {
          "color": "#d62728",
          "width": 2
         },
         "marker": {
          "symbol": "cross"
         },
         "mode": "markers",
         "name": "Part 4 CFD",
         "type": "scatter",
         "x": [
          1,
          2
         ],
         "y": [
          2.0420197275,
          1.972803600075
         ]
        },
        {
         "hovertemplate": "1D Itération: %{x}<br>Qdot_tube_fluid :%{y:.2f} W<br>Part 4",
         "line": {
          "color": "#d62728",
          "dash": "dot",
          "width": 2
         },
         "marker": {
          "symbol": "x"
         },
         "mode": "markers",
         "name": "Part 4 1D",
         "type": "scatter",
         "x": [
          0.5,
          1.5
         ],
         "y": [
          28.467055608952933,
          0.958098820688651
         ]
        },
        {
         "line": {
          "color": "#d62728",
          "dash": "dot",
          "width": 2
         },
         "mode": "lines",
         "name": "Part 4",
         "type": "scatter",
         "x": [
          0.5,
          1,
          1.5,
          2
         ],
         "y": [
          28.467055608952933,
          2.0420197275,
          0.958098820688651,
          1.972803600075
         ]
        },
        {
         "hovertemplate": "CFD Itération: %{x}<br>Qdot_tube_fluid :%{y:.2f} W<br>Part 5",
         "line": {
          "color": "#9467bd",
          "width": 2
         },
         "marker": {
          "symbol": "cross"
         },
         "mode": "markers",
         "name": "Part 5 CFD",
         "type": "scatter",
         "x": [
          1,
          2
         ],
         "y": [
          76.00208059500001,
          72.0254712725
         ]
        },
        {
         "hovertemplate": "1D Itération: %{x}<br>Qdot_tube_fluid :%{y:.2f} W<br>Part 5",
         "line": {
          "color": "#9467bd",
          "dash": "dot",
          "width": 2
         },
         "marker": {
          "symbol": "x"
         },
         "mode": "markers",
         "name": "Part 5 1D",
         "type": "scatter",
         "x": [
          0.5,
          1.5
         ],
         "y": [
          67.70657430207923,
          110.4189418106463
         ]
        },
        {
         "line": {
          "color": "#9467bd",
          "dash": "dot",
          "width": 2
         },
         "mode": "lines",
         "name": "Part 5",
         "type": "scatter",
         "x": [
          0.5,
          1,
          1.5,
          2
         ],
         "y": [
          67.70657430207923,
          76.00208059500001,
          110.4189418106463,
          72.0254712725
         ]
        },
        {
         "hovertemplate": "CFD Itération: %{x}<br>Qdot_tube_fluid :%{y:.2f} W<br>Part 6",
         "line": {
          "color": "#8c564b",
          "width": 2
         },
         "marker": {
          "symbol": "cross"
         },
         "mode": "markers",
         "name": "Part 6 CFD",
         "type": "scatter",
         "x": [
          1,
          2
         ],
         "y": [
          1.15354091525,
          1.1897991234999998
         ]
        },
        {
         "hovertemplate": "1D Itération: %{x}<br>Qdot_tube_fluid :%{y:.2f} W<br>Part 6",
         "line": {
          "color": "#8c564b",
          "dash": "dot",
          "width": 2
         },
         "marker": {
          "symbol": "x"
         },
         "mode": "markers",
         "name": "Part 6 1D",
         "type": "scatter",
         "x": [
          0.5,
          1.5
         ],
         "y": [
          10.65201794331576,
          0.5905089788611984
         ]
        },
        {
         "line": {
          "color": "#8c564b",
          "dash": "dot",
          "width": 2
         },
         "mode": "lines",
         "name": "Part 6",
         "type": "scatter",
         "x": [
          0.5,
          1,
          1.5,
          2
         ],
         "y": [
          10.65201794331576,
          1.15354091525,
          0.5905089788611984,
          1.1897991234999998
         ]
        },
        {
         "hovertemplate": "CFD Itération: %{x}<br>Qdot_tube_fluid :%{y:.2f} W<br>Part 7",
         "line": {
          "color": "#e377c2",
          "width": 2
         },
         "marker": {
          "symbol": "cross"
         },
         "mode": "markers",
         "name": "Part 7 CFD",
         "type": "scatter",
         "x": [
          1,
          2
         ],
         "y": [
          1.769204475,
          1.898333605
         ]
        },
        {
         "hovertemplate": "1D Itération: %{x}<br>Qdot_tube_fluid :%{y:.2f} W<br>Part 7",
         "line": {
          "color": "#e377c2",
          "dash": "dot",
          "width": 2
         },
         "marker": {
          "symbol": "x"
         },
         "mode": "markers",
         "name": "Part 7 1D",
         "type": "scatter",
         "x": [
          0.5,
          1.5
         ],
         "y": [
          2.699731417324343,
          1.1372520154317307
         ]
        },
        {
         "line": {
          "color": "#e377c2",
          "dash": "dot",
          "width": 2
         },
         "mode": "lines",
         "name": "Part 7",
         "type": "scatter",
         "x": [
          0.5,
          1,
          1.5,
          2
         ],
         "y": [
          2.699731417324343,
          1.769204475,
          1.1372520154317307,
          1.898333605
         ]
        }
       ],
       "layout": {
        "template": {
         "data": {
          "bar": [
           {
            "error_x": {
             "color": "#2a3f5f"
            },
            "error_y": {
             "color": "#2a3f5f"
            },
            "marker": {
             "line": {
              "color": "#E5ECF6",
              "width": 0.5
             },
             "pattern": {
              "fillmode": "overlay",
              "size": 10,
              "solidity": 0.2
             }
            },
            "type": "bar"
           }
          ],
          "barpolar": [
           {
            "marker": {
             "line": {
              "color": "#E5ECF6",
              "width": 0.5
             },
             "pattern": {
              "fillmode": "overlay",
              "size": 10,
              "solidity": 0.2
             }
            },
            "type": "barpolar"
           }
          ],
          "carpet": [
           {
            "aaxis": {
             "endlinecolor": "#2a3f5f",
             "gridcolor": "white",
             "linecolor": "white",
             "minorgridcolor": "white",
             "startlinecolor": "#2a3f5f"
            },
            "baxis": {
             "endlinecolor": "#2a3f5f",
             "gridcolor": "white",
             "linecolor": "white",
             "minorgridcolor": "white",
             "startlinecolor": "#2a3f5f"
            },
            "type": "carpet"
           }
          ],
          "choropleth": [
           {
            "colorbar": {
             "outlinewidth": 0,
             "ticks": ""
            },
            "type": "choropleth"
           }
          ],
          "contour": [
           {
            "colorbar": {
             "outlinewidth": 0,
             "ticks": ""
            },
            "colorscale": [
             [
              0,
              "#0d0887"
             ],
             [
              0.1111111111111111,
              "#46039f"
             ],
             [
              0.2222222222222222,
              "#7201a8"
             ],
             [
              0.3333333333333333,
              "#9c179e"
             ],
             [
              0.4444444444444444,
              "#bd3786"
             ],
             [
              0.5555555555555556,
              "#d8576b"
             ],
             [
              0.6666666666666666,
              "#ed7953"
             ],
             [
              0.7777777777777778,
              "#fb9f3a"
             ],
             [
              0.8888888888888888,
              "#fdca26"
             ],
             [
              1,
              "#f0f921"
             ]
            ],
            "type": "contour"
           }
          ],
          "contourcarpet": [
           {
            "colorbar": {
             "outlinewidth": 0,
             "ticks": ""
            },
            "type": "contourcarpet"
           }
          ],
          "heatmap": [
           {
            "colorbar": {
             "outlinewidth": 0,
             "ticks": ""
            },
            "colorscale": [
             [
              0,
              "#0d0887"
             ],
             [
              0.1111111111111111,
              "#46039f"
             ],
             [
              0.2222222222222222,
              "#7201a8"
             ],
             [
              0.3333333333333333,
              "#9c179e"
             ],
             [
              0.4444444444444444,
              "#bd3786"
             ],
             [
              0.5555555555555556,
              "#d8576b"
             ],
             [
              0.6666666666666666,
              "#ed7953"
             ],
             [
              0.7777777777777778,
              "#fb9f3a"
             ],
             [
              0.8888888888888888,
              "#fdca26"
             ],
             [
              1,
              "#f0f921"
             ]
            ],
            "type": "heatmap"
           }
          ],
          "heatmapgl": [
           {
            "colorbar": {
             "outlinewidth": 0,
             "ticks": ""
            },
            "colorscale": [
             [
              0,
              "#0d0887"
             ],
             [
              0.1111111111111111,
              "#46039f"
             ],
             [
              0.2222222222222222,
              "#7201a8"
             ],
             [
              0.3333333333333333,
              "#9c179e"
             ],
             [
              0.4444444444444444,
              "#bd3786"
             ],
             [
              0.5555555555555556,
              "#d8576b"
             ],
             [
              0.6666666666666666,
              "#ed7953"
             ],
             [
              0.7777777777777778,
              "#fb9f3a"
             ],
             [
              0.8888888888888888,
              "#fdca26"
             ],
             [
              1,
              "#f0f921"
             ]
            ],
            "type": "heatmapgl"
           }
          ],
          "histogram": [
           {
            "marker": {
             "pattern": {
              "fillmode": "overlay",
              "size": 10,
              "solidity": 0.2
             }
            },
            "type": "histogram"
           }
          ],
          "histogram2d": [
           {
            "colorbar": {
             "outlinewidth": 0,
             "ticks": ""
            },
            "colorscale": [
             [
              0,
              "#0d0887"
             ],
             [
              0.1111111111111111,
              "#46039f"
             ],
             [
              0.2222222222222222,
              "#7201a8"
             ],
             [
              0.3333333333333333,
              "#9c179e"
             ],
             [
              0.4444444444444444,
              "#bd3786"
             ],
             [
              0.5555555555555556,
              "#d8576b"
             ],
             [
              0.6666666666666666,
              "#ed7953"
             ],
             [
              0.7777777777777778,
              "#fb9f3a"
             ],
             [
              0.8888888888888888,
              "#fdca26"
             ],
             [
              1,
              "#f0f921"
             ]
            ],
            "type": "histogram2d"
           }
          ],
          "histogram2dcontour": [
           {
            "colorbar": {
             "outlinewidth": 0,
             "ticks": ""
            },
            "colorscale": [
             [
              0,
              "#0d0887"
             ],
             [
              0.1111111111111111,
              "#46039f"
             ],
             [
              0.2222222222222222,
              "#7201a8"
             ],
             [
              0.3333333333333333,
              "#9c179e"
             ],
             [
              0.4444444444444444,
              "#bd3786"
             ],
             [
              0.5555555555555556,
              "#d8576b"
             ],
             [
              0.6666666666666666,
              "#ed7953"
             ],
             [
              0.7777777777777778,
              "#fb9f3a"
             ],
             [
              0.8888888888888888,
              "#fdca26"
             ],
             [
              1,
              "#f0f921"
             ]
            ],
            "type": "histogram2dcontour"
           }
          ],
          "mesh3d": [
           {
            "colorbar": {
             "outlinewidth": 0,
             "ticks": ""
            },
            "type": "mesh3d"
           }
          ],
          "parcoords": [
           {
            "line": {
             "colorbar": {
              "outlinewidth": 0,
              "ticks": ""
             }
            },
            "type": "parcoords"
           }
          ],
          "pie": [
           {
            "automargin": true,
            "type": "pie"
           }
          ],
          "scatter": [
           {
            "fillpattern": {
             "fillmode": "overlay",
             "size": 10,
             "solidity": 0.2
            },
            "type": "scatter"
           }
          ],
          "scatter3d": [
           {
            "line": {
             "colorbar": {
              "outlinewidth": 0,
              "ticks": ""
             }
            },
            "marker": {
             "colorbar": {
              "outlinewidth": 0,
              "ticks": ""
             }
            },
            "type": "scatter3d"
           }
          ],
          "scattercarpet": [
           {
            "marker": {
             "colorbar": {
              "outlinewidth": 0,
              "ticks": ""
             }
            },
            "type": "scattercarpet"
           }
          ],
          "scattergeo": [
           {
            "marker": {
             "colorbar": {
              "outlinewidth": 0,
              "ticks": ""
             }
            },
            "type": "scattergeo"
           }
          ],
          "scattergl": [
           {
            "marker": {
             "colorbar": {
              "outlinewidth": 0,
              "ticks": ""
             }
            },
            "type": "scattergl"
           }
          ],
          "scattermapbox": [
           {
            "marker": {
             "colorbar": {
              "outlinewidth": 0,
              "ticks": ""
             }
            },
            "type": "scattermapbox"
           }
          ],
          "scatterpolar": [
           {
            "marker": {
             "colorbar": {
              "outlinewidth": 0,
              "ticks": ""
             }
            },
            "type": "scatterpolar"
           }
          ],
          "scatterpolargl": [
           {
            "marker": {
             "colorbar": {
              "outlinewidth": 0,
              "ticks": ""
             }
            },
            "type": "scatterpolargl"
           }
          ],
          "scatterternary": [
           {
            "marker": {
             "colorbar": {
              "outlinewidth": 0,
              "ticks": ""
             }
            },
            "type": "scatterternary"
           }
          ],
          "surface": [
           {
            "colorbar": {
             "outlinewidth": 0,
             "ticks": ""
            },
            "colorscale": [
             [
              0,
              "#0d0887"
             ],
             [
              0.1111111111111111,
              "#46039f"
             ],
             [
              0.2222222222222222,
              "#7201a8"
             ],
             [
              0.3333333333333333,
              "#9c179e"
             ],
             [
              0.4444444444444444,
              "#bd3786"
             ],
             [
              0.5555555555555556,
              "#d8576b"
             ],
             [
              0.6666666666666666,
              "#ed7953"
             ],
             [
              0.7777777777777778,
              "#fb9f3a"
             ],
             [
              0.8888888888888888,
              "#fdca26"
             ],
             [
              1,
              "#f0f921"
             ]
            ],
            "type": "surface"
           }
          ],
          "table": [
           {
            "cells": {
             "fill": {
              "color": "#EBF0F8"
             },
             "line": {
              "color": "white"
             }
            },
            "header": {
             "fill": {
              "color": "#C8D4E3"
             },
             "line": {
              "color": "white"
             }
            },
            "type": "table"
           }
          ]
         },
         "layout": {
          "annotationdefaults": {
           "arrowcolor": "#2a3f5f",
           "arrowhead": 0,
           "arrowwidth": 1
          },
          "autotypenumbers": "strict",
          "coloraxis": {
           "colorbar": {
            "outlinewidth": 0,
            "ticks": ""
           }
          },
          "colorscale": {
           "diverging": [
            [
             0,
             "#8e0152"
            ],
            [
             0.1,
             "#c51b7d"
            ],
            [
             0.2,
             "#de77ae"
            ],
            [
             0.3,
             "#f1b6da"
            ],
            [
             0.4,
             "#fde0ef"
            ],
            [
             0.5,
             "#f7f7f7"
            ],
            [
             0.6,
             "#e6f5d0"
            ],
            [
             0.7,
             "#b8e186"
            ],
            [
             0.8,
             "#7fbc41"
            ],
            [
             0.9,
             "#4d9221"
            ],
            [
             1,
             "#276419"
            ]
           ],
           "sequential": [
            [
             0,
             "#0d0887"
            ],
            [
             0.1111111111111111,
             "#46039f"
            ],
            [
             0.2222222222222222,
             "#7201a8"
            ],
            [
             0.3333333333333333,
             "#9c179e"
            ],
            [
             0.4444444444444444,
             "#bd3786"
            ],
            [
             0.5555555555555556,
             "#d8576b"
            ],
            [
             0.6666666666666666,
             "#ed7953"
            ],
            [
             0.7777777777777778,
             "#fb9f3a"
            ],
            [
             0.8888888888888888,
             "#fdca26"
            ],
            [
             1,
             "#f0f921"
            ]
           ],
           "sequentialminus": [
            [
             0,
             "#0d0887"
            ],
            [
             0.1111111111111111,
             "#46039f"
            ],
            [
             0.2222222222222222,
             "#7201a8"
            ],
            [
             0.3333333333333333,
             "#9c179e"
            ],
            [
             0.4444444444444444,
             "#bd3786"
            ],
            [
             0.5555555555555556,
             "#d8576b"
            ],
            [
             0.6666666666666666,
             "#ed7953"
            ],
            [
             0.7777777777777778,
             "#fb9f3a"
            ],
            [
             0.8888888888888888,
             "#fdca26"
            ],
            [
             1,
             "#f0f921"
            ]
           ]
          },
          "colorway": [
           "#636efa",
           "#EF553B",
           "#00cc96",
           "#ab63fa",
           "#FFA15A",
           "#19d3f3",
           "#FF6692",
           "#B6E880",
           "#FF97FF",
           "#FECB52"
          ],
          "font": {
           "color": "#2a3f5f"
          },
          "geo": {
           "bgcolor": "white",
           "lakecolor": "white",
           "landcolor": "#E5ECF6",
           "showlakes": true,
           "showland": true,
           "subunitcolor": "white"
          },
          "hoverlabel": {
           "align": "left"
          },
          "hovermode": "closest",
          "mapbox": {
           "style": "light"
          },
          "paper_bgcolor": "white",
          "plot_bgcolor": "#E5ECF6",
          "polar": {
           "angularaxis": {
            "gridcolor": "white",
            "linecolor": "white",
            "ticks": ""
           },
           "bgcolor": "#E5ECF6",
           "radialaxis": {
            "gridcolor": "white",
            "linecolor": "white",
            "ticks": ""
           }
          },
          "scene": {
           "xaxis": {
            "backgroundcolor": "#E5ECF6",
            "gridcolor": "white",
            "gridwidth": 2,
            "linecolor": "white",
            "showbackground": true,
            "ticks": "",
            "zerolinecolor": "white"
           },
           "yaxis": {
            "backgroundcolor": "#E5ECF6",
            "gridcolor": "white",
            "gridwidth": 2,
            "linecolor": "white",
            "showbackground": true,
            "ticks": "",
            "zerolinecolor": "white"
           },
           "zaxis": {
            "backgroundcolor": "#E5ECF6",
            "gridcolor": "white",
            "gridwidth": 2,
            "linecolor": "white",
            "showbackground": true,
            "ticks": "",
            "zerolinecolor": "white"
           }
          },
          "shapedefaults": {
           "line": {
            "color": "#2a3f5f"
           }
          },
          "ternary": {
           "aaxis": {
            "gridcolor": "white",
            "linecolor": "white",
            "ticks": ""
           },
           "baxis": {
            "gridcolor": "white",
            "linecolor": "white",
            "ticks": ""
           },
           "bgcolor": "#E5ECF6",
           "caxis": {
            "gridcolor": "white",
            "linecolor": "white",
            "ticks": ""
           }
          },
          "title": {
           "x": 0.05
          },
          "xaxis": {
           "automargin": true,
           "gridcolor": "white",
           "linecolor": "white",
           "ticks": "",
           "title": {
            "standoff": 15
           },
           "zerolinecolor": "white",
           "zerolinewidth": 2
          },
          "yaxis": {
           "automargin": true,
           "gridcolor": "white",
           "linecolor": "white",
           "ticks": "",
           "title": {
            "standoff": 15
           },
           "zerolinecolor": "white",
           "zerolinewidth": 2
          }
         }
        },
        "title": {
         "text": "Qdot_tube_fluid results <br> cas_1 - cas_V4.5F2014_simplified_wHB_Vref_M11"
        },
        "xaxis": {
         "title": {
          "text": "Itération"
         }
        },
        "yaxis": {
         "title": {
          "text": "Qdot_tube_fluid [W]"
         }
        }
       }
      }
     },
     "metadata": {},
     "output_type": "display_data"
    },
    {
     "data": {
      "application/vnd.plotly.v1+json": {
       "config": {
        "plotlyServerURL": "https://plot.ly"
       },
       "data": [
        {
         "hovertemplate": "CFD Itération: %{x}<br>Qdot_tube_fluid :%{y:.2f} W<br>Part 1",
         "line": {
          "color": "#1f77b4",
          "width": 2
         },
         "marker": {
          "symbol": "cross"
         },
         "mode": "markers",
         "name": "Part 1 CFD",
         "type": "scatter",
         "x": [
          1
         ],
         "y": [
          2.7510303775000002
         ]
        },
        {
         "hovertemplate": "1D Itération: %{x}<br>Qdot_tube_fluid :%{y:.2f} W<br>Part 1",
         "line": {
          "color": "#1f77b4",
          "dash": "dot",
          "width": 2
         },
         "marker": {
          "symbol": "x"
         },
         "mode": "markers",
         "name": "Part 1 1D",
         "type": "scatter",
         "x": [
          0.5
         ],
         "y": [
          3.6368945310228447
         ]
        },
        {
         "line": {
          "color": "#1f77b4",
          "dash": "dot",
          "width": 2
         },
         "mode": "lines",
         "name": "Part 1",
         "type": "scatter",
         "x": [
          0.5,
          1
         ],
         "y": [
          3.6368945310228447,
          2.7510303775000002
         ]
        },
        {
         "hovertemplate": "CFD Itération: %{x}<br>Qdot_tube_fluid :%{y:.2f} W<br>Part 2",
         "line": {
          "color": "#ff7f0e",
          "width": 2
         },
         "marker": {
          "symbol": "cross"
         },
         "mode": "markers",
         "name": "Part 2 CFD",
         "type": "scatter",
         "x": [
          1
         ],
         "y": [
          2.95561653025
         ]
        },
        {
         "hovertemplate": "1D Itération: %{x}<br>Qdot_tube_fluid :%{y:.2f} W<br>Part 2",
         "line": {
          "color": "#ff7f0e",
          "dash": "dot",
          "width": 2
         },
         "marker": {
          "symbol": "x"
         },
         "mode": "markers",
         "name": "Part 2 1D",
         "type": "scatter",
         "x": [
          0.5
         ],
         "y": [
          13.988271979848864
         ]
        },
        {
         "line": {
          "color": "#ff7f0e",
          "dash": "dot",
          "width": 2
         },
         "mode": "lines",
         "name": "Part 2",
         "type": "scatter",
         "x": [
          0.5,
          1
         ],
         "y": [
          13.988271979848864,
          2.95561653025
         ]
        },
        {
         "hovertemplate": "CFD Itération: %{x}<br>Qdot_tube_fluid :%{y:.2f} W<br>Part 3",
         "line": {
          "color": "#2ca02c",
          "width": 2
         },
         "marker": {
          "symbol": "cross"
         },
         "mode": "markers",
         "name": "Part 3 CFD",
         "type": "scatter",
         "x": [
          1
         ],
         "y": [
          67.773867445
         ]
        },
        {
         "hovertemplate": "1D Itération: %{x}<br>Qdot_tube_fluid :%{y:.2f} W<br>Part 3",
         "line": {
          "color": "#2ca02c",
          "dash": "dot",
          "width": 2
         },
         "marker": {
          "symbol": "x"
         },
         "mode": "markers",
         "name": "Part 3 1D",
         "type": "scatter",
         "x": [
          0.5
         ],
         "y": [
          78.00790997284234
         ]
        },
        {
         "line": {
          "color": "#2ca02c",
          "dash": "dot",
          "width": 2
         },
         "mode": "lines",
         "name": "Part 3",
         "type": "scatter",
         "x": [
          0.5,
          1
         ],
         "y": [
          78.00790997284234,
          67.773867445
         ]
        },
        {
         "hovertemplate": "CFD Itération: %{x}<br>Qdot_tube_fluid :%{y:.2f} W<br>Part 4",
         "line": {
          "color": "#d62728",
          "width": 2
         },
         "marker": {
          "symbol": "cross"
         },
         "mode": "markers",
         "name": "Part 4 CFD",
         "type": "scatter",
         "x": [
          1
         ],
         "y": [
          4.6207804452
         ]
        },
        {
         "hovertemplate": "1D Itération: %{x}<br>Qdot_tube_fluid :%{y:.2f} W<br>Part 4",
         "line": {
          "color": "#d62728",
          "dash": "dot",
          "width": 2
         },
         "marker": {
          "symbol": "x"
         },
         "mode": "markers",
         "name": "Part 4 1D",
         "type": "scatter",
         "x": [
          0.5
         ],
         "y": [
          28.467055608952933
         ]
        },
        {
         "line": {
          "color": "#d62728",
          "dash": "dot",
          "width": 2
         },
         "mode": "lines",
         "name": "Part 4",
         "type": "scatter",
         "x": [
          0.5,
          1
         ],
         "y": [
          28.467055608952933,
          4.6207804452
         ]
        },
        {
         "hovertemplate": "CFD Itération: %{x}<br>Qdot_tube_fluid :%{y:.2f} W<br>Part 5",
         "line": {
          "color": "#9467bd",
          "width": 2
         },
         "marker": {
          "symbol": "cross"
         },
         "mode": "markers",
         "name": "Part 5 CFD",
         "type": "scatter",
         "x": [
          1
         ],
         "y": [
          91.12053345
         ]
        },
        {
         "hovertemplate": "1D Itération: %{x}<br>Qdot_tube_fluid :%{y:.2f} W<br>Part 5",
         "line": {
          "color": "#9467bd",
          "dash": "dot",
          "width": 2
         },
         "marker": {
          "symbol": "x"
         },
         "mode": "markers",
         "name": "Part 5 1D",
         "type": "scatter",
         "x": [
          0.5
         ],
         "y": [
          67.70657430207923
         ]
        },
        {
         "line": {
          "color": "#9467bd",
          "dash": "dot",
          "width": 2
         },
         "mode": "lines",
         "name": "Part 5",
         "type": "scatter",
         "x": [
          0.5,
          1
         ],
         "y": [
          67.70657430207923,
          91.12053345
         ]
        },
        {
         "hovertemplate": "CFD Itération: %{x}<br>Qdot_tube_fluid :%{y:.2f} W<br>Part 6",
         "line": {
          "color": "#8c564b",
          "width": 2
         },
         "marker": {
          "symbol": "cross"
         },
         "mode": "markers",
         "name": "Part 6 CFD",
         "type": "scatter",
         "x": [
          1
         ],
         "y": [
          3.1953028175
         ]
        },
        {
         "hovertemplate": "1D Itération: %{x}<br>Qdot_tube_fluid :%{y:.2f} W<br>Part 6",
         "line": {
          "color": "#8c564b",
          "dash": "dot",
          "width": 2
         },
         "marker": {
          "symbol": "x"
         },
         "mode": "markers",
         "name": "Part 6 1D",
         "type": "scatter",
         "x": [
          0.5
         ],
         "y": [
          10.65201794331576
         ]
        },
        {
         "line": {
          "color": "#8c564b",
          "dash": "dot",
          "width": 2
         },
         "mode": "lines",
         "name": "Part 6",
         "type": "scatter",
         "x": [
          0.5,
          1
         ],
         "y": [
          10.65201794331576,
          3.1953028175
         ]
        },
        {
         "hovertemplate": "CFD Itération: %{x}<br>Qdot_tube_fluid :%{y:.2f} W<br>Part 7",
         "line": {
          "color": "#e377c2",
          "width": 2
         },
         "marker": {
          "symbol": "cross"
         },
         "mode": "markers",
         "name": "Part 7 CFD",
         "type": "scatter",
         "x": [
          1
         ],
         "y": [
          5.258589625
         ]
        },
        {
         "hovertemplate": "1D Itération: %{x}<br>Qdot_tube_fluid :%{y:.2f} W<br>Part 7",
         "line": {
          "color": "#e377c2",
          "dash": "dot",
          "width": 2
         },
         "marker": {
          "symbol": "x"
         },
         "mode": "markers",
         "name": "Part 7 1D",
         "type": "scatter",
         "x": [
          0.5
         ],
         "y": [
          2.699731417324343
         ]
        },
        {
         "line": {
          "color": "#e377c2",
          "dash": "dot",
          "width": 2
         },
         "mode": "lines",
         "name": "Part 7",
         "type": "scatter",
         "x": [
          0.5,
          1
         ],
         "y": [
          2.699731417324343,
          5.258589625
         ]
        },
        {
         "hovertemplate": "CFD Itération: %{x}<br>Qdot_tube_fluid :%{y:.2f} W<br>Part 1",
         "line": {
          "color": "#1f77b4",
          "width": 2
         },
         "marker": {
          "symbol": "cross"
         },
         "mode": "markers",
         "name": "Part 1 CFD",
         "type": "scatter",
         "x": [
          1,
          2
         ],
         "y": [
          2.7510303775000002,
          2.1697564899999997
         ]
        },
        {
         "hovertemplate": "1D Itération: %{x}<br>Qdot_tube_fluid :%{y:.2f} W<br>Part 1",
         "line": {
          "color": "#1f77b4",
          "dash": "dot",
          "width": 2
         },
         "marker": {
          "symbol": "x"
         },
         "mode": "markers",
         "name": "Part 1 1D",
         "type": "scatter",
         "x": [
          0.5,
          1.5
         ],
         "y": [
          3.6368945310228447,
          2.1112132660578915
         ]
        },
        {
         "line": {
          "color": "#1f77b4",
          "dash": "dot",
          "width": 2
         },
         "mode": "lines",
         "name": "Part 1",
         "type": "scatter",
         "x": [
          0.5,
          1,
          1.5,
          2
         ],
         "y": [
          3.6368945310228447,
          2.7510303775000002,
          2.1112132660578915,
          2.1697564899999997
         ]
        },
        {
         "hovertemplate": "CFD Itération: %{x}<br>Qdot_tube_fluid :%{y:.2f} W<br>Part 2",
         "line": {
          "color": "#ff7f0e",
          "width": 2
         },
         "marker": {
          "symbol": "cross"
         },
         "mode": "markers",
         "name": "Part 2 CFD",
         "type": "scatter",
         "x": [
          1,
          2
         ],
         "y": [
          2.95561653025,
          2.2268281485
         ]
        },
        {
         "hovertemplate": "1D Itération: %{x}<br>Qdot_tube_fluid :%{y:.2f} W<br>Part 2",
         "line": {
          "color": "#ff7f0e",
          "dash": "dot",
          "width": 2
         },
         "marker": {
          "symbol": "x"
         },
         "mode": "markers",
         "name": "Part 2 1D",
         "type": "scatter",
         "x": [
          0.5,
          1.5
         ],
         "y": [
          13.988271979848864,
          2.22213069270736
         ]
        },
        {
         "line": {
          "color": "#ff7f0e",
          "dash": "dot",
          "width": 2
         },
         "mode": "lines",
         "name": "Part 2",
         "type": "scatter",
         "x": [
          0.5,
          1,
          1.5,
          2
         ],
         "y": [
          13.988271979848864,
          2.95561653025,
          2.22213069270736,
          2.2268281485
         ]
        },
        {
         "hovertemplate": "CFD Itération: %{x}<br>Qdot_tube_fluid :%{y:.2f} W<br>Part 3",
         "line": {
          "color": "#2ca02c",
          "width": 2
         },
         "marker": {
          "symbol": "cross"
         },
         "mode": "markers",
         "name": "Part 3 CFD",
         "type": "scatter",
         "x": [
          1,
          2
         ],
         "y": [
          67.773867445,
          68.8030884675
         ]
        },
        {
         "hovertemplate": "1D Itération: %{x}<br>Qdot_tube_fluid :%{y:.2f} W<br>Part 3",
         "line": {
          "color": "#2ca02c",
          "dash": "dot",
          "width": 2
         },
         "marker": {
          "symbol": "x"
         },
         "mode": "markers",
         "name": "Part 3 1D",
         "type": "scatter",
         "x": [
          0.5,
          1.5
         ],
         "y": [
          78.00790997284234,
          84.38201778058746
         ]
        },
        {
         "line": {
          "color": "#2ca02c",
          "dash": "dot",
          "width": 2
         },
         "mode": "lines",
         "name": "Part 3",
         "type": "scatter",
         "x": [
          0.5,
          1,
          1.5,
          2
         ],
         "y": [
          78.00790997284234,
          67.773867445,
          84.38201778058746,
          68.8030884675
         ]
        },
        {
         "hovertemplate": "CFD Itération: %{x}<br>Qdot_tube_fluid :%{y:.2f} W<br>Part 4",
         "line": {
          "color": "#d62728",
          "width": 2
         },
         "marker": {
          "symbol": "cross"
         },
         "mode": "markers",
         "name": "Part 4 CFD",
         "type": "scatter",
         "x": [
          1,
          2
         ],
         "y": [
          4.6207804452,
          4.00505274905
         ]
        },
        {
         "hovertemplate": "1D Itération: %{x}<br>Qdot_tube_fluid :%{y:.2f} W<br>Part 4",
         "line": {
          "color": "#d62728",
          "dash": "dot",
          "width": 2
         },
         "marker": {
          "symbol": "x"
         },
         "mode": "markers",
         "name": "Part 4 1D",
         "type": "scatter",
         "x": [
          0.5,
          1.5
         ],
         "y": [
          28.467055608952933,
          2.814205200219265
         ]
        },
        {
         "line": {
          "color": "#d62728",
          "dash": "dot",
          "width": 2
         },
         "mode": "lines",
         "name": "Part 4",
         "type": "scatter",
         "x": [
          0.5,
          1,
          1.5,
          2
         ],
         "y": [
          28.467055608952933,
          4.6207804452,
          2.814205200219265,
          4.00505274905
         ]
        },
        {
         "hovertemplate": "CFD Itération: %{x}<br>Qdot_tube_fluid :%{y:.2f} W<br>Part 5",
         "line": {
          "color": "#9467bd",
          "width": 2
         },
         "marker": {
          "symbol": "cross"
         },
         "mode": "markers",
         "name": "Part 5 CFD",
         "type": "scatter",
         "x": [
          1,
          2
         ],
         "y": [
          91.12053345,
          87.40013205
         ]
        },
        {
         "hovertemplate": "1D Itération: %{x}<br>Qdot_tube_fluid :%{y:.2f} W<br>Part 5",
         "line": {
          "color": "#9467bd",
          "dash": "dot",
          "width": 2
         },
         "marker": {
          "symbol": "x"
         },
         "mode": "markers",
         "name": "Part 5 1D",
         "type": "scatter",
         "x": [
          0.5,
          1.5
         ],
         "y": [
          67.70657430207923,
          104.84548545821224
         ]
        },
        {
         "line": {
          "color": "#9467bd",
          "dash": "dot",
          "width": 2
         },
         "mode": "lines",
         "name": "Part 5",
         "type": "scatter",
         "x": [
          0.5,
          1,
          1.5,
          2
         ],
         "y": [
          67.70657430207923,
          91.12053345,
          104.84548545821224,
          87.40013205
         ]
        },
        {
         "hovertemplate": "CFD Itération: %{x}<br>Qdot_tube_fluid :%{y:.2f} W<br>Part 6",
         "line": {
          "color": "#8c564b",
          "width": 2
         },
         "marker": {
          "symbol": "cross"
         },
         "mode": "markers",
         "name": "Part 6 CFD",
         "type": "scatter",
         "x": [
          1,
          2
         ],
         "y": [
          3.1953028175,
          2.74549829
         ]
        },
        {
         "hovertemplate": "1D Itération: %{x}<br>Qdot_tube_fluid :%{y:.2f} W<br>Part 6",
         "line": {
          "color": "#8c564b",
          "dash": "dot",
          "width": 2
         },
         "marker": {
          "symbol": "x"
         },
         "mode": "markers",
         "name": "Part 6 1D",
         "type": "scatter",
         "x": [
          0.5,
          1.5
         ],
         "y": [
          10.65201794331576,
          1.9227176260943803
         ]
        },
        {
         "line": {
          "color": "#8c564b",
          "dash": "dot",
          "width": 2
         },
         "mode": "lines",
         "name": "Part 6",
         "type": "scatter",
         "x": [
          0.5,
          1,
          1.5,
          2
         ],
         "y": [
          10.65201794331576,
          3.1953028175,
          1.9227176260943803,
          2.74549829
         ]
        },
        {
         "hovertemplate": "CFD Itération: %{x}<br>Qdot_tube_fluid :%{y:.2f} W<br>Part 7",
         "line": {
          "color": "#e377c2",
          "width": 2
         },
         "marker": {
          "symbol": "cross"
         },
         "mode": "markers",
         "name": "Part 7 CFD",
         "type": "scatter",
         "x": [
          1,
          2
         ],
         "y": [
          5.258589625,
          4.7697994249999995
         ]
        },
        {
         "hovertemplate": "1D Itération: %{x}<br>Qdot_tube_fluid :%{y:.2f} W<br>Part 7",
         "line": {
          "color": "#e377c2",
          "dash": "dot",
          "width": 2
         },
         "marker": {
          "symbol": "x"
         },
         "mode": "markers",
         "name": "Part 7 1D",
         "type": "scatter",
         "x": [
          0.5,
          1.5
         ],
         "y": [
          2.699731417324343,
          4.098564924294516
         ]
        },
        {
         "line": {
          "color": "#e377c2",
          "dash": "dot",
          "width": 2
         },
         "mode": "lines",
         "name": "Part 7",
         "type": "scatter",
         "x": [
          0.5,
          1,
          1.5,
          2
         ],
         "y": [
          2.699731417324343,
          5.258589625,
          4.098564924294516,
          4.7697994249999995
         ]
        }
       ],
       "layout": {
        "template": {
         "data": {
          "bar": [
           {
            "error_x": {
             "color": "#2a3f5f"
            },
            "error_y": {
             "color": "#2a3f5f"
            },
            "marker": {
             "line": {
              "color": "#E5ECF6",
              "width": 0.5
             },
             "pattern": {
              "fillmode": "overlay",
              "size": 10,
              "solidity": 0.2
             }
            },
            "type": "bar"
           }
          ],
          "barpolar": [
           {
            "marker": {
             "line": {
              "color": "#E5ECF6",
              "width": 0.5
             },
             "pattern": {
              "fillmode": "overlay",
              "size": 10,
              "solidity": 0.2
             }
            },
            "type": "barpolar"
           }
          ],
          "carpet": [
           {
            "aaxis": {
             "endlinecolor": "#2a3f5f",
             "gridcolor": "white",
             "linecolor": "white",
             "minorgridcolor": "white",
             "startlinecolor": "#2a3f5f"
            },
            "baxis": {
             "endlinecolor": "#2a3f5f",
             "gridcolor": "white",
             "linecolor": "white",
             "minorgridcolor": "white",
             "startlinecolor": "#2a3f5f"
            },
            "type": "carpet"
           }
          ],
          "choropleth": [
           {
            "colorbar": {
             "outlinewidth": 0,
             "ticks": ""
            },
            "type": "choropleth"
           }
          ],
          "contour": [
           {
            "colorbar": {
             "outlinewidth": 0,
             "ticks": ""
            },
            "colorscale": [
             [
              0,
              "#0d0887"
             ],
             [
              0.1111111111111111,
              "#46039f"
             ],
             [
              0.2222222222222222,
              "#7201a8"
             ],
             [
              0.3333333333333333,
              "#9c179e"
             ],
             [
              0.4444444444444444,
              "#bd3786"
             ],
             [
              0.5555555555555556,
              "#d8576b"
             ],
             [
              0.6666666666666666,
              "#ed7953"
             ],
             [
              0.7777777777777778,
              "#fb9f3a"
             ],
             [
              0.8888888888888888,
              "#fdca26"
             ],
             [
              1,
              "#f0f921"
             ]
            ],
            "type": "contour"
           }
          ],
          "contourcarpet": [
           {
            "colorbar": {
             "outlinewidth": 0,
             "ticks": ""
            },
            "type": "contourcarpet"
           }
          ],
          "heatmap": [
           {
            "colorbar": {
             "outlinewidth": 0,
             "ticks": ""
            },
            "colorscale": [
             [
              0,
              "#0d0887"
             ],
             [
              0.1111111111111111,
              "#46039f"
             ],
             [
              0.2222222222222222,
              "#7201a8"
             ],
             [
              0.3333333333333333,
              "#9c179e"
             ],
             [
              0.4444444444444444,
              "#bd3786"
             ],
             [
              0.5555555555555556,
              "#d8576b"
             ],
             [
              0.6666666666666666,
              "#ed7953"
             ],
             [
              0.7777777777777778,
              "#fb9f3a"
             ],
             [
              0.8888888888888888,
              "#fdca26"
             ],
             [
              1,
              "#f0f921"
             ]
            ],
            "type": "heatmap"
           }
          ],
          "heatmapgl": [
           {
            "colorbar": {
             "outlinewidth": 0,
             "ticks": ""
            },
            "colorscale": [
             [
              0,
              "#0d0887"
             ],
             [
              0.1111111111111111,
              "#46039f"
             ],
             [
              0.2222222222222222,
              "#7201a8"
             ],
             [
              0.3333333333333333,
              "#9c179e"
             ],
             [
              0.4444444444444444,
              "#bd3786"
             ],
             [
              0.5555555555555556,
              "#d8576b"
             ],
             [
              0.6666666666666666,
              "#ed7953"
             ],
             [
              0.7777777777777778,
              "#fb9f3a"
             ],
             [
              0.8888888888888888,
              "#fdca26"
             ],
             [
              1,
              "#f0f921"
             ]
            ],
            "type": "heatmapgl"
           }
          ],
          "histogram": [
           {
            "marker": {
             "pattern": {
              "fillmode": "overlay",
              "size": 10,
              "solidity": 0.2
             }
            },
            "type": "histogram"
           }
          ],
          "histogram2d": [
           {
            "colorbar": {
             "outlinewidth": 0,
             "ticks": ""
            },
            "colorscale": [
             [
              0,
              "#0d0887"
             ],
             [
              0.1111111111111111,
              "#46039f"
             ],
             [
              0.2222222222222222,
              "#7201a8"
             ],
             [
              0.3333333333333333,
              "#9c179e"
             ],
             [
              0.4444444444444444,
              "#bd3786"
             ],
             [
              0.5555555555555556,
              "#d8576b"
             ],
             [
              0.6666666666666666,
              "#ed7953"
             ],
             [
              0.7777777777777778,
              "#fb9f3a"
             ],
             [
              0.8888888888888888,
              "#fdca26"
             ],
             [
              1,
              "#f0f921"
             ]
            ],
            "type": "histogram2d"
           }
          ],
          "histogram2dcontour": [
           {
            "colorbar": {
             "outlinewidth": 0,
             "ticks": ""
            },
            "colorscale": [
             [
              0,
              "#0d0887"
             ],
             [
              0.1111111111111111,
              "#46039f"
             ],
             [
              0.2222222222222222,
              "#7201a8"
             ],
             [
              0.3333333333333333,
              "#9c179e"
             ],
             [
              0.4444444444444444,
              "#bd3786"
             ],
             [
              0.5555555555555556,
              "#d8576b"
             ],
             [
              0.6666666666666666,
              "#ed7953"
             ],
             [
              0.7777777777777778,
              "#fb9f3a"
             ],
             [
              0.8888888888888888,
              "#fdca26"
             ],
             [
              1,
              "#f0f921"
             ]
            ],
            "type": "histogram2dcontour"
           }
          ],
          "mesh3d": [
           {
            "colorbar": {
             "outlinewidth": 0,
             "ticks": ""
            },
            "type": "mesh3d"
           }
          ],
          "parcoords": [
           {
            "line": {
             "colorbar": {
              "outlinewidth": 0,
              "ticks": ""
             }
            },
            "type": "parcoords"
           }
          ],
          "pie": [
           {
            "automargin": true,
            "type": "pie"
           }
          ],
          "scatter": [
           {
            "fillpattern": {
             "fillmode": "overlay",
             "size": 10,
             "solidity": 0.2
            },
            "type": "scatter"
           }
          ],
          "scatter3d": [
           {
            "line": {
             "colorbar": {
              "outlinewidth": 0,
              "ticks": ""
             }
            },
            "marker": {
             "colorbar": {
              "outlinewidth": 0,
              "ticks": ""
             }
            },
            "type": "scatter3d"
           }
          ],
          "scattercarpet": [
           {
            "marker": {
             "colorbar": {
              "outlinewidth": 0,
              "ticks": ""
             }
            },
            "type": "scattercarpet"
           }
          ],
          "scattergeo": [
           {
            "marker": {
             "colorbar": {
              "outlinewidth": 0,
              "ticks": ""
             }
            },
            "type": "scattergeo"
           }
          ],
          "scattergl": [
           {
            "marker": {
             "colorbar": {
              "outlinewidth": 0,
              "ticks": ""
             }
            },
            "type": "scattergl"
           }
          ],
          "scattermapbox": [
           {
            "marker": {
             "colorbar": {
              "outlinewidth": 0,
              "ticks": ""
             }
            },
            "type": "scattermapbox"
           }
          ],
          "scatterpolar": [
           {
            "marker": {
             "colorbar": {
              "outlinewidth": 0,
              "ticks": ""
             }
            },
            "type": "scatterpolar"
           }
          ],
          "scatterpolargl": [
           {
            "marker": {
             "colorbar": {
              "outlinewidth": 0,
              "ticks": ""
             }
            },
            "type": "scatterpolargl"
           }
          ],
          "scatterternary": [
           {
            "marker": {
             "colorbar": {
              "outlinewidth": 0,
              "ticks": ""
             }
            },
            "type": "scatterternary"
           }
          ],
          "surface": [
           {
            "colorbar": {
             "outlinewidth": 0,
             "ticks": ""
            },
            "colorscale": [
             [
              0,
              "#0d0887"
             ],
             [
              0.1111111111111111,
              "#46039f"
             ],
             [
              0.2222222222222222,
              "#7201a8"
             ],
             [
              0.3333333333333333,
              "#9c179e"
             ],
             [
              0.4444444444444444,
              "#bd3786"
             ],
             [
              0.5555555555555556,
              "#d8576b"
             ],
             [
              0.6666666666666666,
              "#ed7953"
             ],
             [
              0.7777777777777778,
              "#fb9f3a"
             ],
             [
              0.8888888888888888,
              "#fdca26"
             ],
             [
              1,
              "#f0f921"
             ]
            ],
            "type": "surface"
           }
          ],
          "table": [
           {
            "cells": {
             "fill": {
              "color": "#EBF0F8"
             },
             "line": {
              "color": "white"
             }
            },
            "header": {
             "fill": {
              "color": "#C8D4E3"
             },
             "line": {
              "color": "white"
             }
            },
            "type": "table"
           }
          ]
         },
         "layout": {
          "annotationdefaults": {
           "arrowcolor": "#2a3f5f",
           "arrowhead": 0,
           "arrowwidth": 1
          },
          "autotypenumbers": "strict",
          "coloraxis": {
           "colorbar": {
            "outlinewidth": 0,
            "ticks": ""
           }
          },
          "colorscale": {
           "diverging": [
            [
             0,
             "#8e0152"
            ],
            [
             0.1,
             "#c51b7d"
            ],
            [
             0.2,
             "#de77ae"
            ],
            [
             0.3,
             "#f1b6da"
            ],
            [
             0.4,
             "#fde0ef"
            ],
            [
             0.5,
             "#f7f7f7"
            ],
            [
             0.6,
             "#e6f5d0"
            ],
            [
             0.7,
             "#b8e186"
            ],
            [
             0.8,
             "#7fbc41"
            ],
            [
             0.9,
             "#4d9221"
            ],
            [
             1,
             "#276419"
            ]
           ],
           "sequential": [
            [
             0,
             "#0d0887"
            ],
            [
             0.1111111111111111,
             "#46039f"
            ],
            [
             0.2222222222222222,
             "#7201a8"
            ],
            [
             0.3333333333333333,
             "#9c179e"
            ],
            [
             0.4444444444444444,
             "#bd3786"
            ],
            [
             0.5555555555555556,
             "#d8576b"
            ],
            [
             0.6666666666666666,
             "#ed7953"
            ],
            [
             0.7777777777777778,
             "#fb9f3a"
            ],
            [
             0.8888888888888888,
             "#fdca26"
            ],
            [
             1,
             "#f0f921"
            ]
           ],
           "sequentialminus": [
            [
             0,
             "#0d0887"
            ],
            [
             0.1111111111111111,
             "#46039f"
            ],
            [
             0.2222222222222222,
             "#7201a8"
            ],
            [
             0.3333333333333333,
             "#9c179e"
            ],
            [
             0.4444444444444444,
             "#bd3786"
            ],
            [
             0.5555555555555556,
             "#d8576b"
            ],
            [
             0.6666666666666666,
             "#ed7953"
            ],
            [
             0.7777777777777778,
             "#fb9f3a"
            ],
            [
             0.8888888888888888,
             "#fdca26"
            ],
            [
             1,
             "#f0f921"
            ]
           ]
          },
          "colorway": [
           "#636efa",
           "#EF553B",
           "#00cc96",
           "#ab63fa",
           "#FFA15A",
           "#19d3f3",
           "#FF6692",
           "#B6E880",
           "#FF97FF",
           "#FECB52"
          ],
          "font": {
           "color": "#2a3f5f"
          },
          "geo": {
           "bgcolor": "white",
           "lakecolor": "white",
           "landcolor": "#E5ECF6",
           "showlakes": true,
           "showland": true,
           "subunitcolor": "white"
          },
          "hoverlabel": {
           "align": "left"
          },
          "hovermode": "closest",
          "mapbox": {
           "style": "light"
          },
          "paper_bgcolor": "white",
          "plot_bgcolor": "#E5ECF6",
          "polar": {
           "angularaxis": {
            "gridcolor": "white",
            "linecolor": "white",
            "ticks": ""
           },
           "bgcolor": "#E5ECF6",
           "radialaxis": {
            "gridcolor": "white",
            "linecolor": "white",
            "ticks": ""
           }
          },
          "scene": {
           "xaxis": {
            "backgroundcolor": "#E5ECF6",
            "gridcolor": "white",
            "gridwidth": 2,
            "linecolor": "white",
            "showbackground": true,
            "ticks": "",
            "zerolinecolor": "white"
           },
           "yaxis": {
            "backgroundcolor": "#E5ECF6",
            "gridcolor": "white",
            "gridwidth": 2,
            "linecolor": "white",
            "showbackground": true,
            "ticks": "",
            "zerolinecolor": "white"
           },
           "zaxis": {
            "backgroundcolor": "#E5ECF6",
            "gridcolor": "white",
            "gridwidth": 2,
            "linecolor": "white",
            "showbackground": true,
            "ticks": "",
            "zerolinecolor": "white"
           }
          },
          "shapedefaults": {
           "line": {
            "color": "#2a3f5f"
           }
          },
          "ternary": {
           "aaxis": {
            "gridcolor": "white",
            "linecolor": "white",
            "ticks": ""
           },
           "baxis": {
            "gridcolor": "white",
            "linecolor": "white",
            "ticks": ""
           },
           "bgcolor": "#E5ECF6",
           "caxis": {
            "gridcolor": "white",
            "linecolor": "white",
            "ticks": ""
           }
          },
          "title": {
           "x": 0.05
          },
          "xaxis": {
           "automargin": true,
           "gridcolor": "white",
           "linecolor": "white",
           "ticks": "",
           "title": {
            "standoff": 15
           },
           "zerolinecolor": "white",
           "zerolinewidth": 2
          },
          "yaxis": {
           "automargin": true,
           "gridcolor": "white",
           "linecolor": "white",
           "ticks": "",
           "title": {
            "standoff": 15
           },
           "zerolinecolor": "white",
           "zerolinewidth": 2
          }
         }
        },
        "title": {
         "text": "Qdot_tube_fluid results <br> cas_1 - cas_V4.5F2014_simplified_wHB_Vref_M11"
        },
        "xaxis": {
         "title": {
          "text": "Itération"
         }
        },
        "yaxis": {
         "title": {
          "text": "Qdot_tube_fluid [W]"
         }
        }
       }
      }
     },
     "metadata": {},
     "output_type": "display_data"
    },
    {
     "data": {
      "application/vnd.plotly.v1+json": {
       "config": {
        "plotlyServerURL": "https://plot.ly"
       },
       "data": [
        {
         "hovertemplate": "CFD Itération: %{x}<br>Qdot_tube_fluid :%{y:.2f} W<br>Part 1",
         "line": {
          "color": "#1f77b4",
          "width": 2
         },
         "marker": {
          "symbol": "cross"
         },
         "mode": "markers",
         "name": "Part 1 CFD",
         "type": "scatter",
         "x": [
          1
         ],
         "y": [
          6.26733905
         ]
        },
        {
         "hovertemplate": "1D Itération: %{x}<br>Qdot_tube_fluid :%{y:.2f} W<br>Part 1",
         "line": {
          "color": "#1f77b4",
          "dash": "dot",
          "width": 2
         },
         "marker": {
          "symbol": "x"
         },
         "mode": "markers",
         "name": "Part 1 1D",
         "type": "scatter",
         "x": [
          0.5
         ],
         "y": [
          3.6368945310228447
         ]
        },
        {
         "line": {
          "color": "#1f77b4",
          "dash": "dot",
          "width": 2
         },
         "mode": "lines",
         "name": "Part 1",
         "type": "scatter",
         "x": [
          0.5,
          1
         ],
         "y": [
          3.6368945310228447,
          6.26733905
         ]
        },
        {
         "hovertemplate": "CFD Itération: %{x}<br>Qdot_tube_fluid :%{y:.2f} W<br>Part 2",
         "line": {
          "color": "#ff7f0e",
          "width": 2
         },
         "marker": {
          "symbol": "cross"
         },
         "mode": "markers",
         "name": "Part 2 CFD",
         "type": "scatter",
         "x": [
          1
         ],
         "y": [
          6.83574286
         ]
        },
        {
         "hovertemplate": "1D Itération: %{x}<br>Qdot_tube_fluid :%{y:.2f} W<br>Part 2",
         "line": {
          "color": "#ff7f0e",
          "dash": "dot",
          "width": 2
         },
         "marker": {
          "symbol": "x"
         },
         "mode": "markers",
         "name": "Part 2 1D",
         "type": "scatter",
         "x": [
          0.5
         ],
         "y": [
          13.988271979848864
         ]
        },
        {
         "line": {
          "color": "#ff7f0e",
          "dash": "dot",
          "width": 2
         },
         "mode": "lines",
         "name": "Part 2",
         "type": "scatter",
         "x": [
          0.5,
          1
         ],
         "y": [
          13.988271979848864,
          6.83574286
         ]
        },
        {
         "hovertemplate": "CFD Itération: %{x}<br>Qdot_tube_fluid :%{y:.2f} W<br>Part 3",
         "line": {
          "color": "#2ca02c",
          "width": 2
         },
         "marker": {
          "symbol": "cross"
         },
         "mode": "markers",
         "name": "Part 3 CFD",
         "type": "scatter",
         "x": [
          1
         ],
         "y": [
          84.47097045
         ]
        },
        {
         "hovertemplate": "1D Itération: %{x}<br>Qdot_tube_fluid :%{y:.2f} W<br>Part 3",
         "line": {
          "color": "#2ca02c",
          "dash": "dot",
          "width": 2
         },
         "marker": {
          "symbol": "x"
         },
         "mode": "markers",
         "name": "Part 3 1D",
         "type": "scatter",
         "x": [
          0.5
         ],
         "y": [
          78.00790997284234
         ]
        },
        {
         "line": {
          "color": "#2ca02c",
          "dash": "dot",
          "width": 2
         },
         "mode": "lines",
         "name": "Part 3",
         "type": "scatter",
         "x": [
          0.5,
          1
         ],
         "y": [
          78.00790997284234,
          84.47097045
         ]
        },
        {
         "hovertemplate": "CFD Itération: %{x}<br>Qdot_tube_fluid :%{y:.2f} W<br>Part 4",
         "line": {
          "color": "#d62728",
          "width": 2
         },
         "marker": {
          "symbol": "cross"
         },
         "mode": "markers",
         "name": "Part 4 CFD",
         "type": "scatter",
         "x": [
          1
         ],
         "y": [
          8.2082347925
         ]
        },
        {
         "hovertemplate": "1D Itération: %{x}<br>Qdot_tube_fluid :%{y:.2f} W<br>Part 4",
         "line": {
          "color": "#d62728",
          "dash": "dot",
          "width": 2
         },
         "marker": {
          "symbol": "x"
         },
         "mode": "markers",
         "name": "Part 4 1D",
         "type": "scatter",
         "x": [
          0.5
         ],
         "y": [
          28.467055608952933
         ]
        },
        {
         "line": {
          "color": "#d62728",
          "dash": "dot",
          "width": 2
         },
         "mode": "lines",
         "name": "Part 4",
         "type": "scatter",
         "x": [
          0.5,
          1
         ],
         "y": [
          28.467055608952933,
          8.2082347925
         ]
        },
        {
         "hovertemplate": "CFD Itération: %{x}<br>Qdot_tube_fluid :%{y:.2f} W<br>Part 5",
         "line": {
          "color": "#9467bd",
          "width": 2
         },
         "marker": {
          "symbol": "cross"
         },
         "mode": "markers",
         "name": "Part 5 CFD",
         "type": "scatter",
         "x": [
          1
         ],
         "y": [
          122.042545625
         ]
        },
        {
         "hovertemplate": "1D Itération: %{x}<br>Qdot_tube_fluid :%{y:.2f} W<br>Part 5",
         "line": {
          "color": "#9467bd",
          "dash": "dot",
          "width": 2
         },
         "marker": {
          "symbol": "x"
         },
         "mode": "markers",
         "name": "Part 5 1D",
         "type": "scatter",
         "x": [
          0.5
         ],
         "y": [
          67.70657430207923
         ]
        },
        {
         "line": {
          "color": "#9467bd",
          "dash": "dot",
          "width": 2
         },
         "mode": "lines",
         "name": "Part 5",
         "type": "scatter",
         "x": [
          0.5,
          1
         ],
         "y": [
          67.70657430207923,
          122.042545625
         ]
        },
        {
         "hovertemplate": "CFD Itération: %{x}<br>Qdot_tube_fluid :%{y:.2f} W<br>Part 6",
         "line": {
          "color": "#8c564b",
          "width": 2
         },
         "marker": {
          "symbol": "cross"
         },
         "mode": "markers",
         "name": "Part 6 CFD",
         "type": "scatter",
         "x": [
          1
         ],
         "y": [
          8.59047095
         ]
        },
        {
         "hovertemplate": "1D Itération: %{x}<br>Qdot_tube_fluid :%{y:.2f} W<br>Part 6",
         "line": {
          "color": "#8c564b",
          "dash": "dot",
          "width": 2
         },
         "marker": {
          "symbol": "x"
         },
         "mode": "markers",
         "name": "Part 6 1D",
         "type": "scatter",
         "x": [
          0.5
         ],
         "y": [
          10.65201794331576
         ]
        },
        {
         "line": {
          "color": "#8c564b",
          "dash": "dot",
          "width": 2
         },
         "mode": "lines",
         "name": "Part 6",
         "type": "scatter",
         "x": [
          0.5,
          1
         ],
         "y": [
          10.65201794331576,
          8.59047095
         ]
        },
        {
         "hovertemplate": "CFD Itération: %{x}<br>Qdot_tube_fluid :%{y:.2f} W<br>Part 7",
         "line": {
          "color": "#e377c2",
          "width": 2
         },
         "marker": {
          "symbol": "cross"
         },
         "mode": "markers",
         "name": "Part 7 CFD",
         "type": "scatter",
         "x": [
          1
         ],
         "y": [
          11.67207335
         ]
        },
        {
         "hovertemplate": "1D Itération: %{x}<br>Qdot_tube_fluid :%{y:.2f} W<br>Part 7",
         "line": {
          "color": "#e377c2",
          "dash": "dot",
          "width": 2
         },
         "marker": {
          "symbol": "x"
         },
         "mode": "markers",
         "name": "Part 7 1D",
         "type": "scatter",
         "x": [
          0.5
         ],
         "y": [
          2.699731417324343
         ]
        },
        {
         "line": {
          "color": "#e377c2",
          "dash": "dot",
          "width": 2
         },
         "mode": "lines",
         "name": "Part 7",
         "type": "scatter",
         "x": [
          0.5,
          1
         ],
         "y": [
          2.699731417324343,
          11.67207335
         ]
        },
        {
         "hovertemplate": "CFD Itération: %{x}<br>Qdot_tube_fluid :%{y:.2f} W<br>Part 1",
         "line": {
          "color": "#1f77b4",
          "width": 2
         },
         "marker": {
          "symbol": "cross"
         },
         "mode": "markers",
         "name": "Part 1 CFD",
         "type": "scatter",
         "x": [
          1,
          2
         ],
         "y": [
          6.26733905,
          4.858152275
         ]
        },
        {
         "hovertemplate": "1D Itération: %{x}<br>Qdot_tube_fluid :%{y:.2f} W<br>Part 1",
         "line": {
          "color": "#1f77b4",
          "dash": "dot",
          "width": 2
         },
         "marker": {
          "symbol": "x"
         },
         "mode": "markers",
         "name": "Part 1 1D",
         "type": "scatter",
         "x": [
          0.5,
          1.5
         ],
         "y": [
          3.6368945310228447,
          5.461398896268432
         ]
        },
        {
         "line": {
          "color": "#1f77b4",
          "dash": "dot",
          "width": 2
         },
         "mode": "lines",
         "name": "Part 1",
         "type": "scatter",
         "x": [
          0.5,
          1,
          1.5,
          2
         ],
         "y": [
          3.6368945310228447,
          6.26733905,
          5.461398896268432,
          4.858152275
         ]
        },
        {
         "hovertemplate": "CFD Itération: %{x}<br>Qdot_tube_fluid :%{y:.2f} W<br>Part 2",
         "line": {
          "color": "#ff7f0e",
          "width": 2
         },
         "marker": {
          "symbol": "cross"
         },
         "mode": "markers",
         "name": "Part 2 CFD",
         "type": "scatter",
         "x": [
          1,
          2
         ],
         "y": [
          6.83574286,
          5.054221255000001
         ]
        },
        {
         "hovertemplate": "1D Itération: %{x}<br>Qdot_tube_fluid :%{y:.2f} W<br>Part 2",
         "line": {
          "color": "#ff7f0e",
          "dash": "dot",
          "width": 2
         },
         "marker": {
          "symbol": "x"
         },
         "mode": "markers",
         "name": "Part 2 1D",
         "type": "scatter",
         "x": [
          0.5,
          1.5
         ],
         "y": [
          13.988271979848864,
          5.886795190651681
         ]
        },
        {
         "line": {
          "color": "#ff7f0e",
          "dash": "dot",
          "width": 2
         },
         "mode": "lines",
         "name": "Part 2",
         "type": "scatter",
         "x": [
          0.5,
          1,
          1.5,
          2
         ],
         "y": [
          13.988271979848864,
          6.83574286,
          5.886795190651681,
          5.054221255000001
         ]
        },
        {
         "hovertemplate": "CFD Itération: %{x}<br>Qdot_tube_fluid :%{y:.2f} W<br>Part 3",
         "line": {
          "color": "#2ca02c",
          "width": 2
         },
         "marker": {
          "symbol": "cross"
         },
         "mode": "markers",
         "name": "Part 3 CFD",
         "type": "scatter",
         "x": [
          1,
          2
         ],
         "y": [
          84.47097045,
          78.94865465000001
         ]
        },
        {
         "hovertemplate": "1D Itération: %{x}<br>Qdot_tube_fluid :%{y:.2f} W<br>Part 3",
         "line": {
          "color": "#2ca02c",
          "dash": "dot",
          "width": 2
         },
         "marker": {
          "symbol": "x"
         },
         "mode": "markers",
         "name": "Part 3 1D",
         "type": "scatter",
         "x": [
          0.5,
          1.5
         ],
         "y": [
          78.00790997284234,
          100.14885997513468
         ]
        },
        {
         "line": {
          "color": "#2ca02c",
          "dash": "dot",
          "width": 2
         },
         "mode": "lines",
         "name": "Part 3",
         "type": "scatter",
         "x": [
          0.5,
          1,
          1.5,
          2
         ],
         "y": [
          78.00790997284234,
          84.47097045,
          100.14885997513468,
          78.94865465000001
         ]
        },
        {
         "hovertemplate": "CFD Itération: %{x}<br>Qdot_tube_fluid :%{y:.2f} W<br>Part 4",
         "line": {
          "color": "#d62728",
          "width": 2
         },
         "marker": {
          "symbol": "cross"
         },
         "mode": "markers",
         "name": "Part 4 CFD",
         "type": "scatter",
         "x": [
          1,
          2
         ],
         "y": [
          8.2082347925,
          7.932837710749999
         ]
        },
        {
         "hovertemplate": "1D Itération: %{x}<br>Qdot_tube_fluid :%{y:.2f} W<br>Part 4",
         "line": {
          "color": "#d62728",
          "dash": "dot",
          "width": 2
         },
         "marker": {
          "symbol": "x"
         },
         "mode": "markers",
         "name": "Part 4 1D",
         "type": "scatter",
         "x": [
          0.5,
          1.5
         ],
         "y": [
          28.467055608952933,
          5.765432599671628
         ]
        },
        {
         "line": {
          "color": "#d62728",
          "dash": "dot",
          "width": 2
         },
         "mode": "lines",
         "name": "Part 4",
         "type": "scatter",
         "x": [
          0.5,
          1,
          1.5,
          2
         ],
         "y": [
          28.467055608952933,
          8.2082347925,
          5.765432599671628,
          7.932837710749999
         ]
        },
        {
         "hovertemplate": "CFD Itération: %{x}<br>Qdot_tube_fluid :%{y:.2f} W<br>Part 5",
         "line": {
          "color": "#9467bd",
          "width": 2
         },
         "marker": {
          "symbol": "cross"
         },
         "mode": "markers",
         "name": "Part 5 CFD",
         "type": "scatter",
         "x": [
          1,
          2
         ],
         "y": [
          122.042545625,
          118.69757092499998
         ]
        },
        {
         "hovertemplate": "1D Itération: %{x}<br>Qdot_tube_fluid :%{y:.2f} W<br>Part 5",
         "line": {
          "color": "#9467bd",
          "dash": "dot",
          "width": 2
         },
         "marker": {
          "symbol": "x"
         },
         "mode": "markers",
         "name": "Part 5 1D",
         "type": "scatter",
         "x": [
          0.5,
          1.5
         ],
         "y": [
          67.70657430207923,
          133.9283029690201
         ]
        },
        {
         "line": {
          "color": "#9467bd",
          "dash": "dot",
          "width": 2
         },
         "mode": "lines",
         "name": "Part 5",
         "type": "scatter",
         "x": [
          0.5,
          1,
          1.5,
          2
         ],
         "y": [
          67.70657430207923,
          122.042545625,
          133.9283029690201,
          118.69757092499998
         ]
        },
        {
         "hovertemplate": "CFD Itération: %{x}<br>Qdot_tube_fluid :%{y:.2f} W<br>Part 6",
         "line": {
          "color": "#8c564b",
          "width": 2
         },
         "marker": {
          "symbol": "cross"
         },
         "mode": "markers",
         "name": "Part 6 CFD",
         "type": "scatter",
         "x": [
          1,
          2
         ],
         "y": [
          8.59047095,
          8.2704672975
         ]
        },
        {
         "hovertemplate": "1D Itération: %{x}<br>Qdot_tube_fluid :%{y:.2f} W<br>Part 6",
         "line": {
          "color": "#8c564b",
          "dash": "dot",
          "width": 2
         },
         "marker": {
          "symbol": "x"
         },
         "mode": "markers",
         "name": "Part 6 1D",
         "type": "scatter",
         "x": [
          0.5,
          1.5
         ],
         "y": [
          10.65201794331576,
          7.0068856939807125
         ]
        },
        {
         "line": {
          "color": "#8c564b",
          "dash": "dot",
          "width": 2
         },
         "mode": "lines",
         "name": "Part 6",
         "type": "scatter",
         "x": [
          0.5,
          1,
          1.5,
          2
         ],
         "y": [
          10.65201794331576,
          8.59047095,
          7.0068856939807125,
          8.2704672975
         ]
        },
        {
         "hovertemplate": "CFD Itération: %{x}<br>Qdot_tube_fluid :%{y:.2f} W<br>Part 7",
         "line": {
          "color": "#e377c2",
          "width": 2
         },
         "marker": {
          "symbol": "cross"
         },
         "mode": "markers",
         "name": "Part 7 CFD",
         "type": "scatter",
         "x": [
          1,
          2
         ],
         "y": [
          11.67207335,
          11.54149775
         ]
        },
        {
         "hovertemplate": "1D Itération: %{x}<br>Qdot_tube_fluid :%{y:.2f} W<br>Part 7",
         "line": {
          "color": "#e377c2",
          "dash": "dot",
          "width": 2
         },
         "marker": {
          "symbol": "x"
         },
         "mode": "markers",
         "name": "Part 7 1D",
         "type": "scatter",
         "x": [
          0.5,
          1.5
         ],
         "y": [
          2.699731417324343,
          10.111182294035824
         ]
        },
        {
         "line": {
          "color": "#e377c2",
          "dash": "dot",
          "width": 2
         },
         "mode": "lines",
         "name": "Part 7",
         "type": "scatter",
         "x": [
          0.5,
          1,
          1.5,
          2
         ],
         "y": [
          2.699731417324343,
          11.67207335,
          10.111182294035824,
          11.54149775
         ]
        },
        {
         "hovertemplate": "CFD Itération: %{x}<br>Qdot_tube_fluid :%{y:.2f} W<br>Part 1",
         "line": {
          "color": "#1f77b4",
          "width": 2
         },
         "marker": {
          "symbol": "cross"
         },
         "mode": "markers",
         "name": "Part 1 CFD",
         "type": "scatter",
         "x": [
          1,
          2,
          3
         ],
         "y": [
          6.26733905,
          4.858152275,
          5.276471475
         ]
        },
        {
         "hovertemplate": "1D Itération: %{x}<br>Qdot_tube_fluid :%{y:.2f} W<br>Part 1",
         "line": {
          "color": "#1f77b4",
          "dash": "dot",
          "width": 2
         },
         "marker": {
          "symbol": "x"
         },
         "mode": "markers",
         "name": "Part 1 1D",
         "type": "scatter",
         "x": [
          0.5,
          1.5,
          2.5
         ],
         "y": [
          3.6368945310228447,
          5.461398896268432,
          4.183181035017141
         ]
        },
        {
         "line": {
          "color": "#1f77b4",
          "dash": "dot",
          "width": 2
         },
         "mode": "lines",
         "name": "Part 1",
         "type": "scatter",
         "x": [
          0.5,
          1,
          1.5,
          2,
          2.5,
          3
         ],
         "y": [
          3.6368945310228447,
          6.26733905,
          5.461398896268432,
          4.858152275,
          4.183181035017141,
          5.276471475
         ]
        },
        {
         "hovertemplate": "CFD Itération: %{x}<br>Qdot_tube_fluid :%{y:.2f} W<br>Part 2",
         "line": {
          "color": "#ff7f0e",
          "width": 2
         },
         "marker": {
          "symbol": "cross"
         },
         "mode": "markers",
         "name": "Part 2 CFD",
         "type": "scatter",
         "x": [
          1,
          2,
          3
         ],
         "y": [
          6.83574286,
          5.054221255000001,
          5.2969064025
         ]
        },
        {
         "hovertemplate": "1D Itération: %{x}<br>Qdot_tube_fluid :%{y:.2f} W<br>Part 2",
         "line": {
          "color": "#ff7f0e",
          "dash": "dot",
          "width": 2
         },
         "marker": {
          "symbol": "x"
         },
         "mode": "markers",
         "name": "Part 2 1D",
         "type": "scatter",
         "x": [
          0.5,
          1.5,
          2.5
         ],
         "y": [
          13.988271979848864,
          5.886795190651681,
          4.268376789758808
         ]
        },
        {
         "line": {
          "color": "#ff7f0e",
          "dash": "dot",
          "width": 2
         },
         "mode": "lines",
         "name": "Part 2",
         "type": "scatter",
         "x": [
          0.5,
          1,
          1.5,
          2,
          2.5,
          3
         ],
         "y": [
          13.988271979848864,
          6.83574286,
          5.886795190651681,
          5.054221255000001,
          4.268376789758808,
          5.2969064025
         ]
        },
        {
         "hovertemplate": "CFD Itération: %{x}<br>Qdot_tube_fluid :%{y:.2f} W<br>Part 3",
         "line": {
          "color": "#2ca02c",
          "width": 2
         },
         "marker": {
          "symbol": "cross"
         },
         "mode": "markers",
         "name": "Part 3 CFD",
         "type": "scatter",
         "x": [
          1,
          2,
          3
         ],
         "y": [
          84.47097045,
          78.94865465000001,
          80.04942439999999
         ]
        },
        {
         "hovertemplate": "1D Itération: %{x}<br>Qdot_tube_fluid :%{y:.2f} W<br>Part 3",
         "line": {
          "color": "#2ca02c",
          "dash": "dot",
          "width": 2
         },
         "marker": {
          "symbol": "x"
         },
         "mode": "markers",
         "name": "Part 3 1D",
         "type": "scatter",
         "x": [
          0.5,
          1.5,
          2.5
         ],
         "y": [
          78.00790997284234,
          100.14885997513468,
          95.04809372150316
         ]
        },
        {
         "line": {
          "color": "#2ca02c",
          "dash": "dot",
          "width": 2
         },
         "mode": "lines",
         "name": "Part 3",
         "type": "scatter",
         "x": [
          0.5,
          1,
          1.5,
          2,
          2.5,
          3
         ],
         "y": [
          78.00790997284234,
          84.47097045,
          100.14885997513468,
          78.94865465000001,
          95.04809372150316,
          80.04942439999999
         ]
        },
        {
         "hovertemplate": "CFD Itération: %{x}<br>Qdot_tube_fluid :%{y:.2f} W<br>Part 4",
         "line": {
          "color": "#d62728",
          "width": 2
         },
         "marker": {
          "symbol": "cross"
         },
         "mode": "markers",
         "name": "Part 4 CFD",
         "type": "scatter",
         "x": [
          1,
          2,
          3
         ],
         "y": [
          8.2082347925,
          7.932837710749999,
          7.5669279112500005
         ]
        },
        {
         "hovertemplate": "1D Itération: %{x}<br>Qdot_tube_fluid :%{y:.2f} W<br>Part 4",
         "line": {
          "color": "#d62728",
          "dash": "dot",
          "width": 2
         },
         "marker": {
          "symbol": "x"
         },
         "mode": "markers",
         "name": "Part 4 1D",
         "type": "scatter",
         "x": [
          0.5,
          1.5,
          2.5
         ],
         "y": [
          28.467055608952933,
          5.765432599671628,
          5.568235349346412
         ]
        },
        {
         "line": {
          "color": "#d62728",
          "dash": "dot",
          "width": 2
         },
         "mode": "lines",
         "name": "Part 4",
         "type": "scatter",
         "x": [
          0.5,
          1,
          1.5,
          2,
          2.5,
          3
         ],
         "y": [
          28.467055608952933,
          8.2082347925,
          5.765432599671628,
          7.932837710749999,
          5.568235349346412,
          7.5669279112500005
         ]
        },
        {
         "hovertemplate": "CFD Itération: %{x}<br>Qdot_tube_fluid :%{y:.2f} W<br>Part 5",
         "line": {
          "color": "#9467bd",
          "width": 2
         },
         "marker": {
          "symbol": "cross"
         },
         "mode": "markers",
         "name": "Part 5 CFD",
         "type": "scatter",
         "x": [
          1,
          2,
          3
         ],
         "y": [
          122.042545625,
          118.69757092499998,
          119.77403255
         ]
        },
        {
         "hovertemplate": "1D Itération: %{x}<br>Qdot_tube_fluid :%{y:.2f} W<br>Part 5",
         "line": {
          "color": "#9467bd",
          "dash": "dot",
          "width": 2
         },
         "marker": {
          "symbol": "x"
         },
         "mode": "markers",
         "name": "Part 5 1D",
         "type": "scatter",
         "x": [
          0.5,
          1.5,
          2.5
         ],
         "y": [
          67.70657430207923,
          133.9283029690201,
          130.91217852868567
         ]
        },
        {
         "line": {
          "color": "#9467bd",
          "dash": "dot",
          "width": 2
         },
         "mode": "lines",
         "name": "Part 5",
         "type": "scatter",
         "x": [
          0.5,
          1,
          1.5,
          2,
          2.5,
          3
         ],
         "y": [
          67.70657430207923,
          122.042545625,
          133.9283029690201,
          118.69757092499998,
          130.91217852868567,
          119.77403255
         ]
        },
        {
         "hovertemplate": "CFD Itération: %{x}<br>Qdot_tube_fluid :%{y:.2f} W<br>Part 6",
         "line": {
          "color": "#8c564b",
          "width": 2
         },
         "marker": {
          "symbol": "cross"
         },
         "mode": "markers",
         "name": "Part 6 CFD",
         "type": "scatter",
         "x": [
          1,
          2,
          3
         ],
         "y": [
          8.59047095,
          8.2704672975,
          8.57874168
         ]
        },
        {
         "hovertemplate": "1D Itération: %{x}<br>Qdot_tube_fluid :%{y:.2f} W<br>Part 6",
         "line": {
          "color": "#8c564b",
          "dash": "dot",
          "width": 2
         },
         "marker": {
          "symbol": "x"
         },
         "mode": "markers",
         "name": "Part 6 1D",
         "type": "scatter",
         "x": [
          0.5,
          1.5,
          2.5
         ],
         "y": [
          10.65201794331576,
          7.0068856939807125,
          6.698138889958711
         ]
        },
        {
         "line": {
          "color": "#8c564b",
          "dash": "dot",
          "width": 2
         },
         "mode": "lines",
         "name": "Part 6",
         "type": "scatter",
         "x": [
          0.5,
          1,
          1.5,
          2,
          2.5,
          3
         ],
         "y": [
          10.65201794331576,
          8.59047095,
          7.0068856939807125,
          8.2704672975,
          6.698138889958711,
          8.57874168
         ]
        },
        {
         "hovertemplate": "CFD Itération: %{x}<br>Qdot_tube_fluid :%{y:.2f} W<br>Part 7",
         "line": {
          "color": "#e377c2",
          "width": 2
         },
         "marker": {
          "symbol": "cross"
         },
         "mode": "markers",
         "name": "Part 7 CFD",
         "type": "scatter",
         "x": [
          1,
          2,
          3
         ],
         "y": [
          11.67207335,
          11.54149775,
          11.5540064
         ]
        },
        {
         "hovertemplate": "1D Itération: %{x}<br>Qdot_tube_fluid :%{y:.2f} W<br>Part 7",
         "line": {
          "color": "#e377c2",
          "dash": "dot",
          "width": 2
         },
         "marker": {
          "symbol": "x"
         },
         "mode": "markers",
         "name": "Part 7 1D",
         "type": "scatter",
         "x": [
          0.5,
          1.5,
          2.5
         ],
         "y": [
          2.699731417324343,
          10.111182294035824,
          10.008278235225344
         ]
        },
        {
         "line": {
          "color": "#e377c2",
          "dash": "dot",
          "width": 2
         },
         "mode": "lines",
         "name": "Part 7",
         "type": "scatter",
         "x": [
          0.5,
          1,
          1.5,
          2,
          2.5,
          3
         ],
         "y": [
          2.699731417324343,
          11.67207335,
          10.111182294035824,
          11.54149775,
          10.008278235225344,
          11.5540064
         ]
        },
        {
         "hovertemplate": "CFD Itération: %{x}<br>Qdot_tube_fluid :%{y:.2f} W<br>Part 1",
         "line": {
          "color": "#1f77b4",
          "width": 2
         },
         "marker": {
          "symbol": "cross"
         },
         "mode": "markers",
         "name": "Part 1 CFD",
         "type": "scatter",
         "x": [
          1,
          2,
          3,
          4
         ],
         "y": [
          6.26733905,
          4.858152275,
          5.276471475,
          5.247837049999999
         ]
        },
        {
         "hovertemplate": "1D Itération: %{x}<br>Qdot_tube_fluid :%{y:.2f} W<br>Part 1",
         "line": {
          "color": "#1f77b4",
          "dash": "dot",
          "width": 2
         },
         "marker": {
          "symbol": "x"
         },
         "mode": "markers",
         "name": "Part 1 1D",
         "type": "scatter",
         "x": [
          0.5,
          1.5,
          2.5,
          3.5
         ],
         "y": [
          3.6368945310228447,
          5.461398896268432,
          4.183181035017141,
          4.582843210356583
         ]
        },
        {
         "line": {
          "color": "#1f77b4",
          "dash": "dot",
          "width": 2
         },
         "mode": "lines",
         "name": "Part 1",
         "type": "scatter",
         "x": [
          0.5,
          1,
          1.5,
          2,
          2.5,
          3,
          3.5,
          4
         ],
         "y": [
          3.6368945310228447,
          6.26733905,
          5.461398896268432,
          4.858152275,
          4.183181035017141,
          5.276471475,
          4.582843210356583,
          5.247837049999999
         ]
        },
        {
         "hovertemplate": "CFD Itération: %{x}<br>Qdot_tube_fluid :%{y:.2f} W<br>Part 2",
         "line": {
          "color": "#ff7f0e",
          "width": 2
         },
         "marker": {
          "symbol": "cross"
         },
         "mode": "markers",
         "name": "Part 2 CFD",
         "type": "scatter",
         "x": [
          1,
          2,
          3,
          4
         ],
         "y": [
          6.83574286,
          5.054221255000001,
          5.2969064025,
          5.280204832500001
         ]
        },
        {
         "hovertemplate": "1D Itération: %{x}<br>Qdot_tube_fluid :%{y:.2f} W<br>Part 2",
         "line": {
          "color": "#ff7f0e",
          "dash": "dot",
          "width": 2
         },
         "marker": {
          "symbol": "x"
         },
         "mode": "markers",
         "name": "Part 2 1D",
         "type": "scatter",
         "x": [
          0.5,
          1.5,
          2.5,
          3.5
         ],
         "y": [
          13.988271979848864,
          5.886795190651681,
          4.268376789758808,
          4.4936940541528605
         ]
        },
        {
         "line": {
          "color": "#ff7f0e",
          "dash": "dot",
          "width": 2
         },
         "mode": "lines",
         "name": "Part 2",
         "type": "scatter",
         "x": [
          0.5,
          1,
          1.5,
          2,
          2.5,
          3,
          3.5,
          4
         ],
         "y": [
          13.988271979848864,
          6.83574286,
          5.886795190651681,
          5.054221255000001,
          4.268376789758808,
          5.2969064025,
          4.4936940541528605,
          5.280204832500001
         ]
        },
        {
         "hovertemplate": "CFD Itération: %{x}<br>Qdot_tube_fluid :%{y:.2f} W<br>Part 3",
         "line": {
          "color": "#2ca02c",
          "width": 2
         },
         "marker": {
          "symbol": "cross"
         },
         "mode": "markers",
         "name": "Part 3 CFD",
         "type": "scatter",
         "x": [
          1,
          2,
          3,
          4
         ],
         "y": [
          84.47097045,
          78.94865465000001,
          80.04942439999999,
          79.85645042499999
         ]
        },
        {
         "hovertemplate": "1D Itération: %{x}<br>Qdot_tube_fluid :%{y:.2f} W<br>Part 3",
         "line": {
          "color": "#2ca02c",
          "dash": "dot",
          "width": 2
         },
         "marker": {
          "symbol": "x"
         },
         "mode": "markers",
         "name": "Part 3 1D",
         "type": "scatter",
         "x": [
          0.5,
          1.5,
          2.5,
          3.5
         ],
         "y": [
          78.00790997284234,
          100.14885997513468,
          95.04809372150316,
          96.0835415302804
         ]
        },
        {
         "line": {
          "color": "#2ca02c",
          "dash": "dot",
          "width": 2
         },
         "mode": "lines",
         "name": "Part 3",
         "type": "scatter",
         "x": [
          0.5,
          1,
          1.5,
          2,
          2.5,
          3,
          3.5,
          4
         ],
         "y": [
          78.00790997284234,
          84.47097045,
          100.14885997513468,
          78.94865465000001,
          95.04809372150316,
          80.04942439999999,
          96.0835415302804,
          79.85645042499999
         ]
        },
        {
         "hovertemplate": "CFD Itération: %{x}<br>Qdot_tube_fluid :%{y:.2f} W<br>Part 4",
         "line": {
          "color": "#d62728",
          "width": 2
         },
         "marker": {
          "symbol": "cross"
         },
         "mode": "markers",
         "name": "Part 4 CFD",
         "type": "scatter",
         "x": [
          1,
          2,
          3,
          4
         ],
         "y": [
          8.2082347925,
          7.932837710749999,
          7.5669279112500005,
          7.818508265
         ]
        },
        {
         "hovertemplate": "1D Itération: %{x}<br>Qdot_tube_fluid :%{y:.2f} W<br>Part 4",
         "line": {
          "color": "#d62728",
          "dash": "dot",
          "width": 2
         },
         "marker": {
          "symbol": "x"
         },
         "mode": "markers",
         "name": "Part 4 1D",
         "type": "scatter",
         "x": [
          0.5,
          1.5,
          2.5,
          3.5
         ],
         "y": [
          28.467055608952933,
          5.765432599671628,
          5.568235349346412,
          5.217822254076536
         ]
        },
        {
         "line": {
          "color": "#d62728",
          "dash": "dot",
          "width": 2
         },
         "mode": "lines",
         "name": "Part 4",
         "type": "scatter",
         "x": [
          0.5,
          1,
          1.5,
          2,
          2.5,
          3,
          3.5,
          4
         ],
         "y": [
          28.467055608952933,
          8.2082347925,
          5.765432599671628,
          7.932837710749999,
          5.568235349346412,
          7.5669279112500005,
          5.217822254076536,
          7.818508265
         ]
        },
        {
         "hovertemplate": "CFD Itération: %{x}<br>Qdot_tube_fluid :%{y:.2f} W<br>Part 5",
         "line": {
          "color": "#9467bd",
          "width": 2
         },
         "marker": {
          "symbol": "cross"
         },
         "mode": "markers",
         "name": "Part 5 CFD",
         "type": "scatter",
         "x": [
          1,
          2,
          3,
          4
         ],
         "y": [
          122.042545625,
          118.69757092499998,
          119.77403255,
          119.960851
         ]
        },
        {
         "hovertemplate": "1D Itération: %{x}<br>Qdot_tube_fluid :%{y:.2f} W<br>Part 5",
         "line": {
          "color": "#9467bd",
          "dash": "dot",
          "width": 2
         },
         "marker": {
          "symbol": "x"
         },
         "mode": "markers",
         "name": "Part 5 1D",
         "type": "scatter",
         "x": [
          0.5,
          1.5,
          2.5,
          3.5
         ],
         "y": [
          67.70657430207923,
          133.9283029690201,
          130.91217852868567,
          131.92205559013465
         ]
        },
        {
         "line": {
          "color": "#9467bd",
          "dash": "dot",
          "width": 2
         },
         "mode": "lines",
         "name": "Part 5",
         "type": "scatter",
         "x": [
          0.5,
          1,
          1.5,
          2,
          2.5,
          3,
          3.5,
          4
         ],
         "y": [
          67.70657430207923,
          122.042545625,
          133.9283029690201,
          118.69757092499998,
          130.91217852868567,
          119.77403255,
          131.92205559013465,
          119.960851
         ]
        },
        {
         "hovertemplate": "CFD Itération: %{x}<br>Qdot_tube_fluid :%{y:.2f} W<br>Part 6",
         "line": {
          "color": "#8c564b",
          "width": 2
         },
         "marker": {
          "symbol": "cross"
         },
         "mode": "markers",
         "name": "Part 6 CFD",
         "type": "scatter",
         "x": [
          1,
          2,
          3,
          4
         ],
         "y": [
          8.59047095,
          8.2704672975,
          8.57874168,
          8.3683932975
         ]
        },
        {
         "hovertemplate": "1D Itération: %{x}<br>Qdot_tube_fluid :%{y:.2f} W<br>Part 6",
         "line": {
          "color": "#8c564b",
          "dash": "dot",
          "width": 2
         },
         "marker": {
          "symbol": "x"
         },
         "mode": "markers",
         "name": "Part 6 1D",
         "type": "scatter",
         "x": [
          0.5,
          1.5,
          2.5,
          3.5
         ],
         "y": [
          10.65201794331576,
          7.0068856939807125,
          6.698138889958711,
          7.000109976951977
         ]
        },
        {
         "line": {
          "color": "#8c564b",
          "dash": "dot",
          "width": 2
         },
         "mode": "lines",
         "name": "Part 6",
         "type": "scatter",
         "x": [
          0.5,
          1,
          1.5,
          2,
          2.5,
          3,
          3.5,
          4
         ],
         "y": [
          10.65201794331576,
          8.59047095,
          7.0068856939807125,
          8.2704672975,
          6.698138889958711,
          8.57874168,
          7.000109976951977,
          8.3683932975
         ]
        },
        {
         "hovertemplate": "CFD Itération: %{x}<br>Qdot_tube_fluid :%{y:.2f} W<br>Part 7",
         "line": {
          "color": "#e377c2",
          "width": 2
         },
         "marker": {
          "symbol": "cross"
         },
         "mode": "markers",
         "name": "Part 7 CFD",
         "type": "scatter",
         "x": [
          1,
          2,
          3,
          4
         ],
         "y": [
          11.67207335,
          11.54149775,
          11.5540064,
          11.581422925
         ]
        },
        {
         "hovertemplate": "1D Itération: %{x}<br>Qdot_tube_fluid :%{y:.2f} W<br>Part 7",
         "line": {
          "color": "#e377c2",
          "dash": "dot",
          "width": 2
         },
         "marker": {
          "symbol": "x"
         },
         "mode": "markers",
         "name": "Part 7 1D",
         "type": "scatter",
         "x": [
          0.5,
          1.5,
          2.5,
          3.5
         ],
         "y": [
          2.699731417324343,
          10.111182294035824,
          10.008278235225344,
          10.017010249147075
         ]
        },
        {
         "line": {
          "color": "#e377c2",
          "dash": "dot",
          "width": 2
         },
         "mode": "lines",
         "name": "Part 7",
         "type": "scatter",
         "x": [
          0.5,
          1,
          1.5,
          2,
          2.5,
          3,
          3.5,
          4
         ],
         "y": [
          2.699731417324343,
          11.67207335,
          10.111182294035824,
          11.54149775,
          10.008278235225344,
          11.5540064,
          10.017010249147075,
          11.581422925
         ]
        }
       ],
       "layout": {
        "template": {
         "data": {
          "bar": [
           {
            "error_x": {
             "color": "#2a3f5f"
            },
            "error_y": {
             "color": "#2a3f5f"
            },
            "marker": {
             "line": {
              "color": "#E5ECF6",
              "width": 0.5
             },
             "pattern": {
              "fillmode": "overlay",
              "size": 10,
              "solidity": 0.2
             }
            },
            "type": "bar"
           }
          ],
          "barpolar": [
           {
            "marker": {
             "line": {
              "color": "#E5ECF6",
              "width": 0.5
             },
             "pattern": {
              "fillmode": "overlay",
              "size": 10,
              "solidity": 0.2
             }
            },
            "type": "barpolar"
           }
          ],
          "carpet": [
           {
            "aaxis": {
             "endlinecolor": "#2a3f5f",
             "gridcolor": "white",
             "linecolor": "white",
             "minorgridcolor": "white",
             "startlinecolor": "#2a3f5f"
            },
            "baxis": {
             "endlinecolor": "#2a3f5f",
             "gridcolor": "white",
             "linecolor": "white",
             "minorgridcolor": "white",
             "startlinecolor": "#2a3f5f"
            },
            "type": "carpet"
           }
          ],
          "choropleth": [
           {
            "colorbar": {
             "outlinewidth": 0,
             "ticks": ""
            },
            "type": "choropleth"
           }
          ],
          "contour": [
           {
            "colorbar": {
             "outlinewidth": 0,
             "ticks": ""
            },
            "colorscale": [
             [
              0,
              "#0d0887"
             ],
             [
              0.1111111111111111,
              "#46039f"
             ],
             [
              0.2222222222222222,
              "#7201a8"
             ],
             [
              0.3333333333333333,
              "#9c179e"
             ],
             [
              0.4444444444444444,
              "#bd3786"
             ],
             [
              0.5555555555555556,
              "#d8576b"
             ],
             [
              0.6666666666666666,
              "#ed7953"
             ],
             [
              0.7777777777777778,
              "#fb9f3a"
             ],
             [
              0.8888888888888888,
              "#fdca26"
             ],
             [
              1,
              "#f0f921"
             ]
            ],
            "type": "contour"
           }
          ],
          "contourcarpet": [
           {
            "colorbar": {
             "outlinewidth": 0,
             "ticks": ""
            },
            "type": "contourcarpet"
           }
          ],
          "heatmap": [
           {
            "colorbar": {
             "outlinewidth": 0,
             "ticks": ""
            },
            "colorscale": [
             [
              0,
              "#0d0887"
             ],
             [
              0.1111111111111111,
              "#46039f"
             ],
             [
              0.2222222222222222,
              "#7201a8"
             ],
             [
              0.3333333333333333,
              "#9c179e"
             ],
             [
              0.4444444444444444,
              "#bd3786"
             ],
             [
              0.5555555555555556,
              "#d8576b"
             ],
             [
              0.6666666666666666,
              "#ed7953"
             ],
             [
              0.7777777777777778,
              "#fb9f3a"
             ],
             [
              0.8888888888888888,
              "#fdca26"
             ],
             [
              1,
              "#f0f921"
             ]
            ],
            "type": "heatmap"
           }
          ],
          "heatmapgl": [
           {
            "colorbar": {
             "outlinewidth": 0,
             "ticks": ""
            },
            "colorscale": [
             [
              0,
              "#0d0887"
             ],
             [
              0.1111111111111111,
              "#46039f"
             ],
             [
              0.2222222222222222,
              "#7201a8"
             ],
             [
              0.3333333333333333,
              "#9c179e"
             ],
             [
              0.4444444444444444,
              "#bd3786"
             ],
             [
              0.5555555555555556,
              "#d8576b"
             ],
             [
              0.6666666666666666,
              "#ed7953"
             ],
             [
              0.7777777777777778,
              "#fb9f3a"
             ],
             [
              0.8888888888888888,
              "#fdca26"
             ],
             [
              1,
              "#f0f921"
             ]
            ],
            "type": "heatmapgl"
           }
          ],
          "histogram": [
           {
            "marker": {
             "pattern": {
              "fillmode": "overlay",
              "size": 10,
              "solidity": 0.2
             }
            },
            "type": "histogram"
           }
          ],
          "histogram2d": [
           {
            "colorbar": {
             "outlinewidth": 0,
             "ticks": ""
            },
            "colorscale": [
             [
              0,
              "#0d0887"
             ],
             [
              0.1111111111111111,
              "#46039f"
             ],
             [
              0.2222222222222222,
              "#7201a8"
             ],
             [
              0.3333333333333333,
              "#9c179e"
             ],
             [
              0.4444444444444444,
              "#bd3786"
             ],
             [
              0.5555555555555556,
              "#d8576b"
             ],
             [
              0.6666666666666666,
              "#ed7953"
             ],
             [
              0.7777777777777778,
              "#fb9f3a"
             ],
             [
              0.8888888888888888,
              "#fdca26"
             ],
             [
              1,
              "#f0f921"
             ]
            ],
            "type": "histogram2d"
           }
          ],
          "histogram2dcontour": [
           {
            "colorbar": {
             "outlinewidth": 0,
             "ticks": ""
            },
            "colorscale": [
             [
              0,
              "#0d0887"
             ],
             [
              0.1111111111111111,
              "#46039f"
             ],
             [
              0.2222222222222222,
              "#7201a8"
             ],
             [
              0.3333333333333333,
              "#9c179e"
             ],
             [
              0.4444444444444444,
              "#bd3786"
             ],
             [
              0.5555555555555556,
              "#d8576b"
             ],
             [
              0.6666666666666666,
              "#ed7953"
             ],
             [
              0.7777777777777778,
              "#fb9f3a"
             ],
             [
              0.8888888888888888,
              "#fdca26"
             ],
             [
              1,
              "#f0f921"
             ]
            ],
            "type": "histogram2dcontour"
           }
          ],
          "mesh3d": [
           {
            "colorbar": {
             "outlinewidth": 0,
             "ticks": ""
            },
            "type": "mesh3d"
           }
          ],
          "parcoords": [
           {
            "line": {
             "colorbar": {
              "outlinewidth": 0,
              "ticks": ""
             }
            },
            "type": "parcoords"
           }
          ],
          "pie": [
           {
            "automargin": true,
            "type": "pie"
           }
          ],
          "scatter": [
           {
            "fillpattern": {
             "fillmode": "overlay",
             "size": 10,
             "solidity": 0.2
            },
            "type": "scatter"
           }
          ],
          "scatter3d": [
           {
            "line": {
             "colorbar": {
              "outlinewidth": 0,
              "ticks": ""
             }
            },
            "marker": {
             "colorbar": {
              "outlinewidth": 0,
              "ticks": ""
             }
            },
            "type": "scatter3d"
           }
          ],
          "scattercarpet": [
           {
            "marker": {
             "colorbar": {
              "outlinewidth": 0,
              "ticks": ""
             }
            },
            "type": "scattercarpet"
           }
          ],
          "scattergeo": [
           {
            "marker": {
             "colorbar": {
              "outlinewidth": 0,
              "ticks": ""
             }
            },
            "type": "scattergeo"
           }
          ],
          "scattergl": [
           {
            "marker": {
             "colorbar": {
              "outlinewidth": 0,
              "ticks": ""
             }
            },
            "type": "scattergl"
           }
          ],
          "scattermapbox": [
           {
            "marker": {
             "colorbar": {
              "outlinewidth": 0,
              "ticks": ""
             }
            },
            "type": "scattermapbox"
           }
          ],
          "scatterpolar": [
           {
            "marker": {
             "colorbar": {
              "outlinewidth": 0,
              "ticks": ""
             }
            },
            "type": "scatterpolar"
           }
          ],
          "scatterpolargl": [
           {
            "marker": {
             "colorbar": {
              "outlinewidth": 0,
              "ticks": ""
             }
            },
            "type": "scatterpolargl"
           }
          ],
          "scatterternary": [
           {
            "marker": {
             "colorbar": {
              "outlinewidth": 0,
              "ticks": ""
             }
            },
            "type": "scatterternary"
           }
          ],
          "surface": [
           {
            "colorbar": {
             "outlinewidth": 0,
             "ticks": ""
            },
            "colorscale": [
             [
              0,
              "#0d0887"
             ],
             [
              0.1111111111111111,
              "#46039f"
             ],
             [
              0.2222222222222222,
              "#7201a8"
             ],
             [
              0.3333333333333333,
              "#9c179e"
             ],
             [
              0.4444444444444444,
              "#bd3786"
             ],
             [
              0.5555555555555556,
              "#d8576b"
             ],
             [
              0.6666666666666666,
              "#ed7953"
             ],
             [
              0.7777777777777778,
              "#fb9f3a"
             ],
             [
              0.8888888888888888,
              "#fdca26"
             ],
             [
              1,
              "#f0f921"
             ]
            ],
            "type": "surface"
           }
          ],
          "table": [
           {
            "cells": {
             "fill": {
              "color": "#EBF0F8"
             },
             "line": {
              "color": "white"
             }
            },
            "header": {
             "fill": {
              "color": "#C8D4E3"
             },
             "line": {
              "color": "white"
             }
            },
            "type": "table"
           }
          ]
         },
         "layout": {
          "annotationdefaults": {
           "arrowcolor": "#2a3f5f",
           "arrowhead": 0,
           "arrowwidth": 1
          },
          "autotypenumbers": "strict",
          "coloraxis": {
           "colorbar": {
            "outlinewidth": 0,
            "ticks": ""
           }
          },
          "colorscale": {
           "diverging": [
            [
             0,
             "#8e0152"
            ],
            [
             0.1,
             "#c51b7d"
            ],
            [
             0.2,
             "#de77ae"
            ],
            [
             0.3,
             "#f1b6da"
            ],
            [
             0.4,
             "#fde0ef"
            ],
            [
             0.5,
             "#f7f7f7"
            ],
            [
             0.6,
             "#e6f5d0"
            ],
            [
             0.7,
             "#b8e186"
            ],
            [
             0.8,
             "#7fbc41"
            ],
            [
             0.9,
             "#4d9221"
            ],
            [
             1,
             "#276419"
            ]
           ],
           "sequential": [
            [
             0,
             "#0d0887"
            ],
            [
             0.1111111111111111,
             "#46039f"
            ],
            [
             0.2222222222222222,
             "#7201a8"
            ],
            [
             0.3333333333333333,
             "#9c179e"
            ],
            [
             0.4444444444444444,
             "#bd3786"
            ],
            [
             0.5555555555555556,
             "#d8576b"
            ],
            [
             0.6666666666666666,
             "#ed7953"
            ],
            [
             0.7777777777777778,
             "#fb9f3a"
            ],
            [
             0.8888888888888888,
             "#fdca26"
            ],
            [
             1,
             "#f0f921"
            ]
           ],
           "sequentialminus": [
            [
             0,
             "#0d0887"
            ],
            [
             0.1111111111111111,
             "#46039f"
            ],
            [
             0.2222222222222222,
             "#7201a8"
            ],
            [
             0.3333333333333333,
             "#9c179e"
            ],
            [
             0.4444444444444444,
             "#bd3786"
            ],
            [
             0.5555555555555556,
             "#d8576b"
            ],
            [
             0.6666666666666666,
             "#ed7953"
            ],
            [
             0.7777777777777778,
             "#fb9f3a"
            ],
            [
             0.8888888888888888,
             "#fdca26"
            ],
            [
             1,
             "#f0f921"
            ]
           ]
          },
          "colorway": [
           "#636efa",
           "#EF553B",
           "#00cc96",
           "#ab63fa",
           "#FFA15A",
           "#19d3f3",
           "#FF6692",
           "#B6E880",
           "#FF97FF",
           "#FECB52"
          ],
          "font": {
           "color": "#2a3f5f"
          },
          "geo": {
           "bgcolor": "white",
           "lakecolor": "white",
           "landcolor": "#E5ECF6",
           "showlakes": true,
           "showland": true,
           "subunitcolor": "white"
          },
          "hoverlabel": {
           "align": "left"
          },
          "hovermode": "closest",
          "mapbox": {
           "style": "light"
          },
          "paper_bgcolor": "white",
          "plot_bgcolor": "#E5ECF6",
          "polar": {
           "angularaxis": {
            "gridcolor": "white",
            "linecolor": "white",
            "ticks": ""
           },
           "bgcolor": "#E5ECF6",
           "radialaxis": {
            "gridcolor": "white",
            "linecolor": "white",
            "ticks": ""
           }
          },
          "scene": {
           "xaxis": {
            "backgroundcolor": "#E5ECF6",
            "gridcolor": "white",
            "gridwidth": 2,
            "linecolor": "white",
            "showbackground": true,
            "ticks": "",
            "zerolinecolor": "white"
           },
           "yaxis": {
            "backgroundcolor": "#E5ECF6",
            "gridcolor": "white",
            "gridwidth": 2,
            "linecolor": "white",
            "showbackground": true,
            "ticks": "",
            "zerolinecolor": "white"
           },
           "zaxis": {
            "backgroundcolor": "#E5ECF6",
            "gridcolor": "white",
            "gridwidth": 2,
            "linecolor": "white",
            "showbackground": true,
            "ticks": "",
            "zerolinecolor": "white"
           }
          },
          "shapedefaults": {
           "line": {
            "color": "#2a3f5f"
           }
          },
          "ternary": {
           "aaxis": {
            "gridcolor": "white",
            "linecolor": "white",
            "ticks": ""
           },
           "baxis": {
            "gridcolor": "white",
            "linecolor": "white",
            "ticks": ""
           },
           "bgcolor": "#E5ECF6",
           "caxis": {
            "gridcolor": "white",
            "linecolor": "white",
            "ticks": ""
           }
          },
          "title": {
           "x": 0.05
          },
          "xaxis": {
           "automargin": true,
           "gridcolor": "white",
           "linecolor": "white",
           "ticks": "",
           "title": {
            "standoff": 15
           },
           "zerolinecolor": "white",
           "zerolinewidth": 2
          },
          "yaxis": {
           "automargin": true,
           "gridcolor": "white",
           "linecolor": "white",
           "ticks": "",
           "title": {
            "standoff": 15
           },
           "zerolinecolor": "white",
           "zerolinewidth": 2
          }
         }
        },
        "title": {
         "text": "Qdot_tube_fluid results <br> cas_1 - cas_V4.5F2014_simplified_wHB_Vref_M11"
        },
        "xaxis": {
         "title": {
          "text": "Itération"
         }
        },
        "yaxis": {
         "title": {
          "text": "Qdot_tube_fluid [W]"
         }
        }
       }
      }
     },
     "metadata": {},
     "output_type": "display_data"
    }
   ],
   "source": [
    "## Plotting the quality of the simulation\n",
    "\n",
    "plot_hyp['method'] = 'case'\n",
    "plot_hyp['nb_mesh'] = 1\n",
    "plot_hyp['folder_name'] = 'cas_'\n",
    "plot_hyp['new_save'] = False\n",
    "\n",
    "folders_names = ['cas_V4.5NI_simplified_Vref_M1',\n",
    "                 'cas_V4.5NI_simplified_wHB_Vref_M1',\n",
    "                 'cas_V4.5F2014_simplified_wHB_Vref_M1',\n",
    "                 'cas_V4.5F2020_simplified_wHB_Vref_M1',\n",
    "                 'cas_V4.5F5020_simplified_wHB_Vref_M1',\n",
    "                 'cas_V4.5F5030_simplified_wHB_Vref_M1',\n",
    "                 'cas_V4.5F5040_simplified_wHB_Vref_M1']\n",
    "\n",
    "names = ['NI_r60',\n",
    "         'NI_wHB_r60',\n",
    "         'F2014_wHB_r60',\n",
    "         'F2020_wHB_r60',\n",
    "         'F5020_wHB_r60',\n",
    "         'F5030_wHB_r60',\n",
    "         'F5040_wHB_r60']\n",
    "\n",
    "nb_it = [[[3,2,2],\n",
    "          [2,2,2],\n",
    "          [3,2,2],\n",
    "          [2,2,2],\n",
    "          [3,2,2],\n",
    "          [2,2,2],\n",
    "          [2,2,2]],\n",
    "\n",
    "        [[2,3,2],\n",
    "         [3,4,3],\n",
    "         [2,2,2],\n",
    "         [4,2,2],\n",
    "         [2,2,2],\n",
    "         [2,2,2],\n",
    "         [2,2,2]],\n",
    "\n",
    "        [[4,4,4],\n",
    "         [5,3,3],\n",
    "         [4,4,3],\n",
    "         [4,3,3],\n",
    "         [3,3,3],\n",
    "         [2,2,2],\n",
    "         [2,2,2]]]\n",
    "\n",
    "\n",
    "\n",
    "T_amb = 273.15\n",
    "\n",
    "for i in range(1,4) :\n",
    "    plot_hyp['folder_path'] = r'D:\\ANSYS Fluent Projects\\pvt_slice_outdoor\\Fluent_GMI\\tests\\Simu_geom'+str(i)\n",
    "\n",
    "    epsilon_mesh_case_list = []\n",
    "    NUT_mesh_case_list = []\n",
    "    Qdot_tube_fluid_mesh_case_list = []\n",
    "\n",
    "    case = 1\n",
    "    if True :\n",
    "    # for case in range(3) :\n",
    "        epsilon_case_list = []\n",
    "        NUT_case_list = []\n",
    "        Qdot_tube_fluid_case_list = []\n",
    "\n",
    "        # for geom in range(len(folders_names)) :\n",
    "        geom = 2\n",
    "        if True :\n",
    "\n",
    "            plot_hyp['folder_mesh'] = folders_names[geom]\n",
    "            plot_hyp['nb_it'] = nb_it[i-1][geom][case]\n",
    "            no_it = plot_hyp['nb_it']-1\n",
    "            plot_hyp['no_case'] = case\n",
    "\n",
    "            ht_tot_mesh_case_list, ht_rad_mesh_case_list, ht_conv_mesh_case_list, CFD_mesh_case_list, df_one_mesh_case_list, slices_df_mesh_case_list, PyFluent_mesh_case_list = pb.get_data(plot_hyp, panelSpecs, hyp, stepConditions)\n",
    "            epsilon, NUT = pb.compute_quality(plot_hyp, panelSpecs, hyp, stepConditions)\n",
    "            epsilon_case_list.append(epsilon)\n",
    "            NUT_case_list.append(NUT)\n",
    "\n",
    "            Qdot_tube_fluid = df_one_mesh_case_list[no_it]['Qdot_tube_fluid'].sum()\n",
    "            Qdot_tube_fluid_case_list.append(Qdot_tube_fluid)\n",
    "\n",
    "            T_in = df_one_mesh_case_list[no_it]['T_fluid_in'].iloc[0]\n",
    "            T_out = df_one_mesh_case_list[no_it]['T_fluid_out'].iloc[-1]\n",
    "            T_mean = (T_in + T_out)/2 \n",
    "\n",
    "            fig = pb.plot_big_it('Qdot_tube_fluid', plot_hyp, panelSpecs, hyp, stepConditions)\n",
    "            fig.show()\n",
    "\n",
    "        epsilon_mesh_case_list.append(epsilon_case_list)\n",
    "        NUT_mesh_case_list.append(NUT_case_list)\n",
    "        Qdot_tube_fluid_mesh_case_list.append(Qdot_tube_fluid_case_list)\n",
    "\n",
    "    # epsilon_df = pd.DataFrame(epsilon_mesh_case_list, columns= names)\n",
    "    # NUT_df = pd.DataFrame(NUT_mesh_case_list, columns= names)\n",
    "    # Qdot_df = pd.DataFrame(Qdot_tube_fluid_mesh_case_list, columns= names)\n",
    "\n",
    "    # print('Simu_geom'+str(i))\n",
    "    # pr.disp_html(epsilon_df)\n",
    "    # pr.disp_html(NUT_df)\n",
    "    # pr.disp_html(Qdot_df)\n"
   ]
  },
  {
   "cell_type": "code",
   "execution_count": 143,
   "metadata": {},
   "outputs": [
    {
     "name": "stdout",
     "output_type": "stream",
     "text": [
      "Simu_geom1\n",
      "cas_V4.5NI_simplified_Vref_M1 Phi = -15.36 * (T_mean - T_amb), r² = 0.9917\n",
      "cas_V4.5NI_simplified_wHB_Vref_M1 Phi = -14.35 * (T_mean - T_amb), r² = 0.9781\n",
      "cas_V4.5F2014_simplified_wHB_Vref_M1 Phi = -16.50 * (T_mean - T_amb), r² = 0.9856\n",
      "cas_V4.5F2020_simplified_wHB_Vref_M1 Phi = -16.68 * (T_mean - T_amb), r² = 0.9740\n",
      "cas_V4.5F5020_simplified_wHB_Vref_M1 Phi = -18.51 * (T_mean - T_amb), r² = 0.9847\n",
      "cas_V4.5F5030_simplified_wHB_Vref_M1 Phi = -18.89 * (T_mean - T_amb), r² = 0.9648\n",
      "cas_V4.5F5040_simplified_wHB_Vref_M1 Phi = -18.78 * (T_mean - T_amb), r² = 0.9684\n",
      "Simu_geom2\n",
      "cas_V4.5NI_simplified_Vref_M1 Phi = -14.34 * (T_mean - T_amb), r² = 0.9781\n",
      "cas_V4.5NI_simplified_wHB_Vref_M1 Phi = -12.88 * (T_mean - T_amb), r² = 0.9840\n",
      "cas_V4.5F2014_simplified_wHB_Vref_M1 Phi = -14.69 * (T_mean - T_amb), r² = 1.0000\n",
      "cas_V4.5F2020_simplified_wHB_Vref_M1 Phi = -14.04 * (T_mean - T_amb), r² = 0.9622\n",
      "cas_V4.5F5020_simplified_wHB_Vref_M1 Phi = -14.63 * (T_mean - T_amb), r² = 0.9999\n",
      "cas_V4.5F5030_simplified_wHB_Vref_M1 Phi = -14.46 * (T_mean - T_amb), r² = 0.9994\n",
      "cas_V4.5F5040_simplified_wHB_Vref_M1 Phi = -14.36 * (T_mean - T_amb), r² = 0.9928\n",
      "Simu_geom3\n",
      "cas_V4.5NI_simplified_Vref_M1 Phi = -21.12 * (T_mean - T_amb), r² = 0.9983\n",
      "cas_V4.5NI_simplified_wHB_Vref_M1 Phi = -20.22 * (T_mean - T_amb), r² = 0.9952\n",
      "cas_V4.5F2014_simplified_wHB_Vref_M1 Phi = -19.43 * (T_mean - T_amb), r² = 0.9987\n",
      "cas_V4.5F2020_simplified_wHB_Vref_M1 Phi = -19.46 * (T_mean - T_amb), r² = 0.9958\n",
      "cas_V4.5F5020_simplified_wHB_Vref_M1 Phi = -19.00 * (T_mean - T_amb), r² = 0.9988\n",
      "cas_V4.5F5030_simplified_wHB_Vref_M1 Phi = -19.99 * (T_mean - T_amb), r² = 0.9992\n",
      "cas_V4.5F5040_simplified_wHB_Vref_M1 Phi = -19.86 * (T_mean - T_amb), r² = 0.9987\n"
     ]
    }
   ],
   "source": [
    "## Plotting the regression of the simulation\n",
    "\n",
    "plot_hyp['method'] = 'case'\n",
    "plot_hyp['nb_mesh'] = 1\n",
    "plot_hyp['folder_name'] = 'cas_'\n",
    "plot_hyp['new_save'] = False\n",
    "plot_hyp['folder_path'] = r'D:\\ANSYS Fluent Projects\\pvt_slice_outdoor\\Fluent_GMI\\tests\\Simu_geom1'\n",
    "\n",
    "folders_names = ['cas_V4.5NI_simplified_Vref_M1',\n",
    "                 'cas_V4.5NI_simplified_wHB_Vref_M1',\n",
    "                 'cas_V4.5F2014_simplified_wHB_Vref_M1',\n",
    "                 'cas_V4.5F2020_simplified_wHB_Vref_M1',\n",
    "                 'cas_V4.5F5020_simplified_wHB_Vref_M1',\n",
    "                 'cas_V4.5F5030_simplified_wHB_Vref_M1',\n",
    "                 'cas_V4.5F5040_simplified_wHB_Vref_M1']\n",
    "\n",
    "names = ['NI_r60',\n",
    "         'NI_wHB_r60',\n",
    "         'F2014_wHB_r60',\n",
    "         'F2020_wHB_r60',\n",
    "         'F5020_wHB_r60',\n",
    "         'F5030_wHB_r60',\n",
    "         'F5040_wHB_r60']\n",
    "\n",
    "nb_it = [[[3,2,2],\n",
    "          [2,2,2],\n",
    "          [3,2,2],\n",
    "          [2,2,2],\n",
    "          [3,2,2],\n",
    "          [2,2,2],\n",
    "          [2,2,2]],\n",
    "\n",
    "        [[2,3,2],\n",
    "         [3,4,3],\n",
    "         [2,2,2],\n",
    "         [4,2,2],\n",
    "         [2,2,2],\n",
    "         [2,2,2],\n",
    "         [2,2,2]],\n",
    "\n",
    "        [[4,4,4],\n",
    "         [5,3,3],\n",
    "         [4,4,3],\n",
    "         [4,3,3],\n",
    "         [3,3,3],\n",
    "         [2,2,2],\n",
    "         [2,2,2]]]\n",
    "\n",
    "\n",
    "\n",
    "T_amb = 273.15\n",
    "Ag = 1.95\n",
    "\n",
    "coeff_geom_mean_list = []\n",
    "\n",
    "for i in range(1,4) :\n",
    "    plot_hyp['folder_path'] = r'D:\\ANSYS Fluent Projects\\pvt_slice_outdoor\\Fluent_GMI\\tests\\Simu_geom'+str(i)\n",
    "    T_in_mesh_case_list = []\n",
    "    T_out_mesh_case_list = []\n",
    "    T_mean_mesh_case_list = []\n",
    "    Qdot_tube_fluid_mesh_case_list = []\n",
    "\n",
    "    coeff_mean_list = []\n",
    "\n",
    "    print('Simu_geom'+str(i))\n",
    "    for geom in range(len(folders_names)) :\n",
    "        T_in_case_list = []\n",
    "        T_out_case_list = []\n",
    "        T_mean_case_list = []\n",
    "        Qdot_tube_fluid_case_list = []\n",
    "\n",
    "        for case in range(3) :    \n",
    "            plot_hyp['folder_mesh'] = folders_names[geom]\n",
    "            plot_hyp['nb_it'] = nb_it[i-1][geom][case]\n",
    "            no_it = plot_hyp['nb_it']-1\n",
    "            plot_hyp['no_case'] = case\n",
    "\n",
    "            ht_tot_mesh_case_list, ht_rad_mesh_case_list, ht_conv_mesh_case_list, CFD_mesh_case_list, df_one_mesh_case_list, slices_df_mesh_case_list, PyFluent_mesh_case_list = pb.get_data(plot_hyp, panelSpecs, hyp, stepConditions)\n",
    "\n",
    "            Qdot_tube_fluid = df_one_mesh_case_list[no_it]['Qdot_tube_fluid'].sum()\n",
    "            Qdot_tube_fluid_case_list.append(Qdot_tube_fluid/Ag)\n",
    "\n",
    "            T_in = df_one_mesh_case_list[no_it]['T_fluid_in'].iloc[0]\n",
    "            T_out = df_one_mesh_case_list[no_it]['T_fluid_out'].iloc[-1]\n",
    "            T_mean = (T_in + T_out)/2 \n",
    "\n",
    "            T_in_case_list.append(T_in)\n",
    "            T_out_case_list.append(T_out)\n",
    "            T_mean_case_list.append(T_mean)\n",
    "        \n",
    "        T_in_case_list = np.array(T_in_case_list).reshape(-1, 1)\n",
    "        T_out_case_list = np.array(T_out_case_list).reshape(-1, 1)\n",
    "        T_mean_case_list = np.array(T_mean_case_list).reshape(-1, 1)\n",
    "\n",
    "        X_in = T_in_case_list - T_amb\n",
    "        X_out = T_out_case_list - T_amb\n",
    "        X_mean = T_mean_case_list - T_amb\n",
    "        \n",
    "        model_in = LinearRegression(fit_intercept=False)\n",
    "        model_out = LinearRegression(fit_intercept=False)\n",
    "        model_mean = LinearRegression(fit_intercept=False)\n",
    "\n",
    "        model_in.fit(X_in, Qdot_tube_fluid_case_list)\n",
    "        model_out.fit(X_out, Qdot_tube_fluid_case_list)\n",
    "        model_mean.fit(X_mean, Qdot_tube_fluid_case_list)\n",
    "\n",
    "        slope_in = model_in.coef_[0]\n",
    "        slope_out = model_out.coef_[0]\n",
    "        slope_mean = model_mean.coef_[0]\n",
    "\n",
    "        r2_in = model_in.score(X_in, Qdot_tube_fluid_case_list)\n",
    "        r2_out = model_out.score(X_out, Qdot_tube_fluid_case_list)\n",
    "        r2_mean = model_mean.score(X_mean, Qdot_tube_fluid_case_list)\n",
    "\n",
    "        print(f\"{folders_names[geom]} Phi = {slope_mean:.2f} * (T_mean - T_amb), r² = {r2_mean:.4f}\")\n",
    "        # print(f\"{folders_names[geom]} Qdot = {slope_in:.2f} * (T_in - T_amb), r² = {r2_in:.4f}\")\n",
    "        # print(f\"{folders_names[geom]} Qdot = {slope_out:.2f} * (T_out - T_amb), r² = {r2_out:.4f}\")\n",
    "    \n",
    "        coeff_mean_list.append(slope_mean)\n",
    "    coeff_geom_mean_list.append(coeff_mean_list)\n"
   ]
  },
  {
   "cell_type": "code",
   "execution_count": 146,
   "metadata": {},
   "outputs": [
    {
     "data": {
      "image/png": "[encoded data removed]",
      "text/plain": [
       "<Figure size 1200x600 with 1 Axes>"
      ]
     },
     "metadata": {},
     "output_type": "display_data"
    }
   ],
   "source": [
    "# Configuration pour les barres\n",
    "num_geoms = len(coeff_geom_mean_list)  # Nombre de géométries (Simu_geom1, Simu_geom2, etc.)\n",
    "num_cases = len(names)  # Nombre de cas par géométrie (7 cas)\n",
    "width = 0.2  # Largeur des barres\n",
    "\n",
    "# Création de la figure\n",
    "fig, ax = plt.subplots(figsize=(12, 6))\n",
    "\n",
    "# Positions des barres sur l'axe des x\n",
    "x = np.arange(num_cases)  # Création d'un tableau pour l'axe des x\n",
    "\n",
    "# Ajout des barres pour chaque simulation (chaque géométrie)\n",
    "for i in range(num_geoms):\n",
    "    ax.bar(x + i * width, coeff_geom_mean_list[i], width, label=f'Simu_geom{i+1}')\n",
    "\n",
    "# Ajout des valeurs sous chaque barre\n",
    "for i in range(num_geoms):\n",
    "    for j in range(num_cases):\n",
    "        height = coeff_geom_mean_list[i][j]\n",
    "        ax.annotate(f'{height:.2f}', \n",
    "                    xy=(x[j] + i * width, height), \n",
    "                    xytext=(0, 3),  # Décalage vers le haut\n",
    "                    textcoords=\"offset points\",\n",
    "                    ha='center', va='bottom')\n",
    "\n",
    "# Paramètres de l'axe des x\n",
    "ax.set_xlabel('Simulations', fontsize=12)\n",
    "ax.set_ylabel('Coefficient directeur', fontsize=12)\n",
    "ax.set_title('Histogramme des coefficients directeurs par cas et par géométrie', fontsize=14)\n",
    "ax.set_xticks(x + width)  # Alignement des labels au centre du groupe de barres\n",
    "ax.set_xticklabels(names, rotation=45, ha='right')\n",
    "\n",
    "# Ajout de la légende pour différencier les géométries\n",
    "ax.legend(title=\"Géométries\")\n",
    "\n",
    "# Affichage de l'histogramme\n",
    "plt.tight_layout()\n",
    "plt.show()"
   ]
  },
  {
   "cell_type": "code",
   "execution_count": 2,
   "metadata": {},
   "outputs": [],
   "source": [
    "## Récupérer les valeurs de Qdot pour chaque cas et chaque géométrie\n",
    "\n",
    "plot_hyp['method'] = 'case'\n",
    "plot_hyp['nb_mesh'] = 1\n",
    "plot_hyp['folder_name'] = 'cas_'\n",
    "plot_hyp['new_save'] = False\n",
    "plot_hyp['folder_path'] = r'D:\\ANSYS Fluent Projects\\pvt_slice_outdoor\\Fluent_GMI\\tests\\Simu_geom1'\n",
    "\n",
    "folders_names = ['cas_V4.5NI_simplified_Vref_M1',\n",
    "                 'cas_V4.5NI_simplified_wHB_Vref_M1',\n",
    "                 'cas_V4.5F2014_simplified_wHB_Vref_M1',\n",
    "                 'cas_V4.5F2020_simplified_wHB_Vref_M1',\n",
    "                 'cas_V4.5F5020_simplified_wHB_Vref_M1',\n",
    "                 'cas_V4.5F5030_simplified_wHB_Vref_M1',\n",
    "                 'cas_V4.5F5040_simplified_wHB_Vref_M1']\n",
    "\n",
    "names = ['NI_r60',\n",
    "         'NI_wHB_r60',\n",
    "         'F2014_wHB_r60',\n",
    "         'F2020_wHB_r60',\n",
    "         'F5020_wHB_r60',\n",
    "         'F5030_wHB_r60',\n",
    "         'F5040_wHB_r60']\n",
    "\n",
    "nb_it = [[[3,2,2],\n",
    "          [2,2,2],\n",
    "          [3,2,2],\n",
    "          [2,2,2],\n",
    "          [3,2,2],\n",
    "          [2,2,2],\n",
    "          [2,2,2]],\n",
    "\n",
    "        [[2,3,2],\n",
    "         [3,4,3],\n",
    "         [2,2,2],\n",
    "         [4,2,2],\n",
    "         [2,2,2],\n",
    "         [2,2,2],\n",
    "         [2,2,2]],\n",
    "\n",
    "        [[4,4,4],\n",
    "         [5,3,3],\n",
    "         [4,4,3],\n",
    "         [4,3,3],\n",
    "         [3,3,3],\n",
    "         [2,2,2],\n",
    "         [2,2,2]]]\n",
    "\n",
    "T_amb = 273.15\n",
    "Ag = 1.95\n",
    "\n",
    "# Initialize lists for plotting\n",
    "bar_width = 0.15\n",
    "index = np.arange(len(names))\n",
    "bar_colors = ['b', 'g', 'r', 'c', 'm']\n",
    "\n",
    "Qdot_top_conv_geom_mesh_case_list = []\n",
    "Qdot_top_rad_geom_mesh_case_list = []\n",
    "Qdot_PV_sky_geom_mesh_case_list = []\n",
    "Qdot_tube_back_conv_geom_mesh_case_list = []\n",
    "Qdot_tube_back_rad_geom_mesh_case_list = []\n",
    "\n",
    "for i in range(1, 4):\n",
    "    plot_hyp['folder_path'] = r'D:\\ANSYS Fluent Projects\\pvt_slice_outdoor\\Fluent_GMI\\tests\\Simu_geom'+str(i)\n",
    "    Qdot_top_conv_mesh_case_list = []\n",
    "    Qdot_top_rad_mesh_case_list = []\n",
    "    Qdot_PV_sky_mesh_case_list = []\n",
    "    Qdot_tube_back_conv_mesh_case_list = []\n",
    "    Qdot_tube_back_rad_mesh_case_list = []\n",
    "    \n",
    "    for case in range(3):        \n",
    "        Qdot_top_conv_case_list = []\n",
    "        Qdot_top_rad_case_list = []\n",
    "        Qdot_PV_sky_case_list = []\n",
    "        Qdot_tube_back_conv_case_list = []\n",
    "        Qdot_tube_back_rad_case_list = []\n",
    "        \n",
    "        for geom in range(len(folders_names)):\n",
    "\n",
    "        \n",
    "            plot_hyp['folder_mesh'] = folders_names[geom]\n",
    "            plot_hyp['nb_it'] = nb_it[i-1][geom][case]\n",
    "            no_it = plot_hyp['nb_it']-1\n",
    "            plot_hyp['no_case'] = case\n",
    "            no_case = plot_hyp['no_case']\n",
    "\n",
    "            ht_tot_mesh_case_list, ht_rad_mesh_case_list, ht_conv_mesh_case_list, CFD_mesh_case_list, df_one_mesh_case_list, slices_df_mesh_case_list, PyFluent_mesh_case_list = pb.get_data(plot_hyp, panelSpecs, hyp, stepConditions)\n",
    "\n",
    "            ratio_rad, ratio_conv = pb.rad_conv_ratio(plot_hyp, panelSpecs, hyp, stepConditions, no_case, no_it)\n",
    "\n",
    "            Qdot_top_conv = ratio_conv*df_one_mesh_case_list[no_it]['Qdot_top_conv'].sum()\n",
    "            Qdot_top_rad = ratio_rad*df_one_mesh_case_list[no_it]['Qdot_top_conv'].sum()\n",
    "            Qdot_PV_sky = df_one_mesh_case_list[no_it]['Qdot_PV_sky'].sum() \n",
    "            Qdot_tube_back_conv = ratio_conv*df_one_mesh_case_list[no_it]['Qdot_tube_back'].sum() \n",
    "            Qdot_tube_back_rad = ratio_rad*df_one_mesh_case_list[no_it]['Qdot_tube_back'].sum() \n",
    "\n",
    "            Qdot_top_conv_case_list.append(Qdot_top_conv)\n",
    "            Qdot_top_rad_case_list.append(Qdot_top_rad)\n",
    "            Qdot_PV_sky_case_list.append(Qdot_PV_sky)\n",
    "            Qdot_tube_back_conv_case_list.append(Qdot_tube_back_conv)\n",
    "            Qdot_tube_back_rad_case_list.append(Qdot_tube_back_rad)\n",
    "        \n",
    "        Qdot_top_conv_mesh_case_list.append(Qdot_top_conv_case_list)\n",
    "        Qdot_top_rad_mesh_case_list.append(Qdot_top_rad_case_list)\n",
    "        Qdot_PV_sky_mesh_case_list.append(Qdot_PV_sky_case_list)\n",
    "        Qdot_tube_back_conv_mesh_case_list.append(Qdot_tube_back_conv_case_list)\n",
    "        Qdot_tube_back_rad_mesh_case_list.append(Qdot_tube_back_rad_case_list)\n",
    "\n",
    "    Qdot_top_conv_geom_mesh_case_list.append(Qdot_top_conv_mesh_case_list)\n",
    "    Qdot_top_rad_geom_mesh_case_list.append(Qdot_top_rad_mesh_case_list)\n",
    "    Qdot_PV_sky_geom_mesh_case_list.append(Qdot_PV_sky_mesh_case_list)\n",
    "    Qdot_tube_back_conv_geom_mesh_case_list.append(Qdot_tube_back_conv_mesh_case_list)\n",
    "    Qdot_tube_back_rad_geom_mesh_case_list.append(Qdot_tube_back_rad_mesh_case_list)\n"
   ]
  },
  {
   "cell_type": "code",
   "execution_count": 3,
   "metadata": {},
   "outputs": [
    {
     "name": "stdout",
     "output_type": "stream",
     "text": [
      "Case 0\n"
     ]
    },
    {
     "data": {
      "application/vnd.plotly.v1+json": {
       "config": {
        "plotlyServerURL": "https://plot.ly"
       },
       "data": [
        {
         "marker": {
          "color": "blue"
         },
         "name": "Qdot_top_conv",
         "type": "bar",
         "width": 0.2,
         "x": [
          -0.4,
          0.6,
          1.6,
          2.6,
          3.6,
          4.6,
          5.6
         ],
         "y": [
          -55.92391983973254,
          -64.79596993379472,
          -54.399915815175724,
          -56.32889201569532,
          -53.274789450093245,
          -56.918504227456125,
          -56.957025285560356
         ]
        },
        {
         "marker": {
          "color": "orange"
         },
         "name": "Qdot_top_rad",
         "type": "bar",
         "width": 0.2,
         "x": [
          -0.2,
          0.8,
          1.8,
          2.8,
          3.8,
          4.8,
          5.8
         ],
         "y": [
          -126.73077477979538,
          -108.48332266936535,
          -123.05217214115962,
          -127.47360038902455,
          -119.76018397934676,
          -127.85377282018707,
          -127.95249306205359
         ]
        },
        {
         "marker": {
          "color": "green"
         },
         "name": "Qdot_PV_sky",
         "type": "bar",
         "width": 0.2,
         "x": [
          0,
          1,
          2,
          3,
          4,
          5,
          6
         ],
         "y": [
          -40.74048446395692,
          -41.19539639768034,
          -40.272418796113875,
          -40.04887124470072,
          -39.576650002210805,
          -39.14541722401677,
          -39.2209868829682
         ]
        },
        {
         "marker": {
          "color": "red"
         },
         "name": "Qdot_tube_back_conv",
         "type": "bar",
         "width": 0.2,
         "x": [
          0.2,
          1.2,
          2.2,
          3.2,
          4.2,
          5.2,
          6.2
         ],
         "y": [
          -13.146194955069912,
          -14.8087083626129,
          -20.466946855080483,
          -20.43464424480848,
          -30.89016360765515,
          -31.139808841361912,
          -30.37342035844075
         ]
        },
        {
         "marker": {
          "color": "purple"
         },
         "name": "Qdot_tube_back_rad",
         "type": "bar",
         "width": 0.2,
         "x": [
          0.4,
          1.4,
          2.4,
          3.4,
          4.4,
          5.4,
          6.4
         ],
         "y": [
          -29.79096381006141,
          -24.793176014793872,
          -46.29606921032684,
          -46.244077973853656,
          -69.4401932882426,
          -69.94811440155581,
          -68.23310800027839
         ]
        }
       ],
       "layout": {
        "barmode": "group",
        "template": {
         "data": {
          "bar": [
           {
            "error_x": {
             "color": "#2a3f5f"
            },
            "error_y": {
             "color": "#2a3f5f"
            },
            "marker": {
             "line": {
              "color": "#E5ECF6",
              "width": 0.5
             },
             "pattern": {
              "fillmode": "overlay",
              "size": 10,
              "solidity": 0.2
             }
            },
            "type": "bar"
           }
          ],
          "barpolar": [
           {
            "marker": {
             "line": {
              "color": "#E5ECF6",
              "width": 0.5
             },
             "pattern": {
              "fillmode": "overlay",
              "size": 10,
              "solidity": 0.2
             }
            },
            "type": "barpolar"
           }
          ],
          "carpet": [
           {
            "aaxis": {
             "endlinecolor": "#2a3f5f",
             "gridcolor": "white",
             "linecolor": "white",
             "minorgridcolor": "white",
             "startlinecolor": "#2a3f5f"
            },
            "baxis": {
             "endlinecolor": "#2a3f5f",
             "gridcolor": "white",
             "linecolor": "white",
             "minorgridcolor": "white",
             "startlinecolor": "#2a3f5f"
            },
            "type": "carpet"
           }
          ],
          "choropleth": [
           {
            "colorbar": {
             "outlinewidth": 0,
             "ticks": ""
            },
            "type": "choropleth"
           }
          ],
          "contour": [
           {
            "colorbar": {
             "outlinewidth": 0,
             "ticks": ""
            },
            "colorscale": [
             [
              0,
              "#0d0887"
             ],
             [
              0.1111111111111111,
              "#46039f"
             ],
             [
              0.2222222222222222,
              "#7201a8"
             ],
             [
              0.3333333333333333,
              "#9c179e"
             ],
             [
              0.4444444444444444,
              "#bd3786"
             ],
             [
              0.5555555555555556,
              "#d8576b"
             ],
             [
              0.6666666666666666,
              "#ed7953"
             ],
             [
              0.7777777777777778,
              "#fb9f3a"
             ],
             [
              0.8888888888888888,
              "#fdca26"
             ],
             [
              1,
              "#f0f921"
             ]
            ],
            "type": "contour"
           }
          ],
          "contourcarpet": [
           {
            "colorbar": {
             "outlinewidth": 0,
             "ticks": ""
            },
            "type": "contourcarpet"
           }
          ],
          "heatmap": [
           {
            "colorbar": {
             "outlinewidth": 0,
             "ticks": ""
            },
            "colorscale": [
             [
              0,
              "#0d0887"
             ],
             [
              0.1111111111111111,
              "#46039f"
             ],
             [
              0.2222222222222222,
              "#7201a8"
             ],
             [
              0.3333333333333333,
              "#9c179e"
             ],
             [
              0.4444444444444444,
              "#bd3786"
             ],
             [
              0.5555555555555556,
              "#d8576b"
             ],
             [
              0.6666666666666666,
              "#ed7953"
             ],
             [
              0.7777777777777778,
              "#fb9f3a"
             ],
             [
              0.8888888888888888,
              "#fdca26"
             ],
             [
              1,
              "#f0f921"
             ]
            ],
            "type": "heatmap"
           }
          ],
          "heatmapgl": [
           {
            "colorbar": {
             "outlinewidth": 0,
             "ticks": ""
            },
            "colorscale": [
             [
              0,
              "#0d0887"
             ],
             [
              0.1111111111111111,
              "#46039f"
             ],
             [
              0.2222222222222222,
              "#7201a8"
             ],
             [
              0.3333333333333333,
              "#9c179e"
             ],
             [
              0.4444444444444444,
              "#bd3786"
             ],
             [
              0.5555555555555556,
              "#d8576b"
             ],
             [
              0.6666666666666666,
              "#ed7953"
             ],
             [
              0.7777777777777778,
              "#fb9f3a"
             ],
             [
              0.8888888888888888,
              "#fdca26"
             ],
             [
              1,
              "#f0f921"
             ]
            ],
            "type": "heatmapgl"
           }
          ],
          "histogram": [
           {
            "marker": {
             "pattern": {
              "fillmode": "overlay",
              "size": 10,
              "solidity": 0.2
             }
            },
            "type": "histogram"
           }
          ],
          "histogram2d": [
           {
            "colorbar": {
             "outlinewidth": 0,
             "ticks": ""
            },
            "colorscale": [
             [
              0,
              "#0d0887"
             ],
             [
              0.1111111111111111,
              "#46039f"
             ],
             [
              0.2222222222222222,
              "#7201a8"
             ],
             [
              0.3333333333333333,
              "#9c179e"
             ],
             [
              0.4444444444444444,
              "#bd3786"
             ],
             [
              0.5555555555555556,
              "#d8576b"
             ],
             [
              0.6666666666666666,
              "#ed7953"
             ],
             [
              0.7777777777777778,
              "#fb9f3a"
             ],
             [
              0.8888888888888888,
              "#fdca26"
             ],
             [
              1,
              "#f0f921"
             ]
            ],
            "type": "histogram2d"
           }
          ],
          "histogram2dcontour": [
           {
            "colorbar": {
             "outlinewidth": 0,
             "ticks": ""
            },
            "colorscale": [
             [
              0,
              "#0d0887"
             ],
             [
              0.1111111111111111,
              "#46039f"
             ],
             [
              0.2222222222222222,
              "#7201a8"
             ],
             [
              0.3333333333333333,
              "#9c179e"
             ],
             [
              0.4444444444444444,
              "#bd3786"
             ],
             [
              0.5555555555555556,
              "#d8576b"
             ],
             [
              0.6666666666666666,
              "#ed7953"
             ],
             [
              0.7777777777777778,
              "#fb9f3a"
             ],
             [
              0.8888888888888888,
              "#fdca26"
             ],
             [
              1,
              "#f0f921"
             ]
            ],
            "type": "histogram2dcontour"
           }
          ],
          "mesh3d": [
           {
            "colorbar": {
             "outlinewidth": 0,
             "ticks": ""
            },
            "type": "mesh3d"
           }
          ],
          "parcoords": [
           {
            "line": {
             "colorbar": {
              "outlinewidth": 0,
              "ticks": ""
             }
            },
            "type": "parcoords"
           }
          ],
          "pie": [
           {
            "automargin": true,
            "type": "pie"
           }
          ],
          "scatter": [
           {
            "fillpattern": {
             "fillmode": "overlay",
             "size": 10,
             "solidity": 0.2
            },
            "type": "scatter"
           }
          ],
          "scatter3d": [
           {
            "line": {
             "colorbar": {
              "outlinewidth": 0,
              "ticks": ""
             }
            },
            "marker": {
             "colorbar": {
              "outlinewidth": 0,
              "ticks": ""
             }
            },
            "type": "scatter3d"
           }
          ],
          "scattercarpet": [
           {
            "marker": {
             "colorbar": {
              "outlinewidth": 0,
              "ticks": ""
             }
            },
            "type": "scattercarpet"
           }
          ],
          "scattergeo": [
           {
            "marker": {
             "colorbar": {
              "outlinewidth": 0,
              "ticks": ""
             }
            },
            "type": "scattergeo"
           }
          ],
          "scattergl": [
           {
            "marker": {
             "colorbar": {
              "outlinewidth": 0,
              "ticks": ""
             }
            },
            "type": "scattergl"
           }
          ],
          "scattermapbox": [
           {
            "marker": {
             "colorbar": {
              "outlinewidth": 0,
              "ticks": ""
             }
            },
            "type": "scattermapbox"
           }
          ],
          "scatterpolar": [
           {
            "marker": {
             "colorbar": {
              "outlinewidth": 0,
              "ticks": ""
             }
            },
            "type": "scatterpolar"
           }
          ],
          "scatterpolargl": [
           {
            "marker": {
             "colorbar": {
              "outlinewidth": 0,
              "ticks": ""
             }
            },
            "type": "scatterpolargl"
           }
          ],
          "scatterternary": [
           {
            "marker": {
             "colorbar": {
              "outlinewidth": 0,
              "ticks": ""
             }
            },
            "type": "scatterternary"
           }
          ],
          "surface": [
           {
            "colorbar": {
             "outlinewidth": 0,
             "ticks": ""
            },
            "colorscale": [
             [
              0,
              "#0d0887"
             ],
             [
              0.1111111111111111,
              "#46039f"
             ],
             [
              0.2222222222222222,
              "#7201a8"
             ],
             [
              0.3333333333333333,
              "#9c179e"
             ],
             [
              0.4444444444444444,
              "#bd3786"
             ],
             [
              0.5555555555555556,
              "#d8576b"
             ],
             [
              0.6666666666666666,
              "#ed7953"
             ],
             [
              0.7777777777777778,
              "#fb9f3a"
             ],
             [
              0.8888888888888888,
              "#fdca26"
             ],
             [
              1,
              "#f0f921"
             ]
            ],
            "type": "surface"
           }
          ],
          "table": [
           {
            "cells": {
             "fill": {
              "color": "#EBF0F8"
             },
             "line": {
              "color": "white"
             }
            },
            "header": {
             "fill": {
              "color": "#C8D4E3"
             },
             "line": {
              "color": "white"
             }
            },
            "type": "table"
           }
          ]
         },
         "layout": {
          "annotationdefaults": {
           "arrowcolor": "#2a3f5f",
           "arrowhead": 0,
           "arrowwidth": 1
          },
          "autotypenumbers": "strict",
          "coloraxis": {
           "colorbar": {
            "outlinewidth": 0,
            "ticks": ""
           }
          },
          "colorscale": {
           "diverging": [
            [
             0,
             "#8e0152"
            ],
            [
             0.1,
             "#c51b7d"
            ],
            [
             0.2,
             "#de77ae"
            ],
            [
             0.3,
             "#f1b6da"
            ],
            [
             0.4,
             "#fde0ef"
            ],
            [
             0.5,
             "#f7f7f7"
            ],
            [
             0.6,
             "#e6f5d0"
            ],
            [
             0.7,
             "#b8e186"
            ],
            [
             0.8,
             "#7fbc41"
            ],
            [
             0.9,
             "#4d9221"
            ],
            [
             1,
             "#276419"
            ]
           ],
           "sequential": [
            [
             0,
             "#0d0887"
            ],
            [
             0.1111111111111111,
             "#46039f"
            ],
            [
             0.2222222222222222,
             "#7201a8"
            ],
            [
             0.3333333333333333,
             "#9c179e"
            ],
            [
             0.4444444444444444,
             "#bd3786"
            ],
            [
             0.5555555555555556,
             "#d8576b"
            ],
            [
             0.6666666666666666,
             "#ed7953"
            ],
            [
             0.7777777777777778,
             "#fb9f3a"
            ],
            [
             0.8888888888888888,
             "#fdca26"
            ],
            [
             1,
             "#f0f921"
            ]
           ],
           "sequentialminus": [
            [
             0,
             "#0d0887"
            ],
            [
             0.1111111111111111,
             "#46039f"
            ],
            [
             0.2222222222222222,
             "#7201a8"
            ],
            [
             0.3333333333333333,
             "#9c179e"
            ],
            [
             0.4444444444444444,
             "#bd3786"
            ],
            [
             0.5555555555555556,
             "#d8576b"
            ],
            [
             0.6666666666666666,
             "#ed7953"
            ],
            [
             0.7777777777777778,
             "#fb9f3a"
            ],
            [
             0.8888888888888888,
             "#fdca26"
            ],
            [
             1,
             "#f0f921"
            ]
           ]
          },
          "colorway": [
           "#636efa",
           "#EF553B",
           "#00cc96",
           "#ab63fa",
           "#FFA15A",
           "#19d3f3",
           "#FF6692",
           "#B6E880",
           "#FF97FF",
           "#FECB52"
          ],
          "font": {
           "color": "#2a3f5f"
          },
          "geo": {
           "bgcolor": "white",
           "lakecolor": "white",
           "landcolor": "#E5ECF6",
           "showlakes": true,
           "showland": true,
           "subunitcolor": "white"
          },
          "hoverlabel": {
           "align": "left"
          },
          "hovermode": "closest",
          "mapbox": {
           "style": "light"
          },
          "paper_bgcolor": "white",
          "plot_bgcolor": "#E5ECF6",
          "polar": {
           "angularaxis": {
            "gridcolor": "white",
            "linecolor": "white",
            "ticks": ""
           },
           "bgcolor": "#E5ECF6",
           "radialaxis": {
            "gridcolor": "white",
            "linecolor": "white",
            "ticks": ""
           }
          },
          "scene": {
           "xaxis": {
            "backgroundcolor": "#E5ECF6",
            "gridcolor": "white",
            "gridwidth": 2,
            "linecolor": "white",
            "showbackground": true,
            "ticks": "",
            "zerolinecolor": "white"
           },
           "yaxis": {
            "backgroundcolor": "#E5ECF6",
            "gridcolor": "white",
            "gridwidth": 2,
            "linecolor": "white",
            "showbackground": true,
            "ticks": "",
            "zerolinecolor": "white"
           },
           "zaxis": {
            "backgroundcolor": "#E5ECF6",
            "gridcolor": "white",
            "gridwidth": 2,
            "linecolor": "white",
            "showbackground": true,
            "ticks": "",
            "zerolinecolor": "white"
           }
          },
          "shapedefaults": {
           "line": {
            "color": "#2a3f5f"
           }
          },
          "ternary": {
           "aaxis": {
            "gridcolor": "white",
            "linecolor": "white",
            "ticks": ""
           },
           "baxis": {
            "gridcolor": "white",
            "linecolor": "white",
            "ticks": ""
           },
           "bgcolor": "#E5ECF6",
           "caxis": {
            "gridcolor": "white",
            "linecolor": "white",
            "ticks": ""
           }
          },
          "title": {
           "x": 0.05
          },
          "xaxis": {
           "automargin": true,
           "gridcolor": "white",
           "linecolor": "white",
           "ticks": "",
           "title": {
            "standoff": 15
           },
           "zerolinecolor": "white",
           "zerolinewidth": 2
          },
          "yaxis": {
           "automargin": true,
           "gridcolor": "white",
           "linecolor": "white",
           "ticks": "",
           "title": {
            "standoff": 15
           },
           "zerolinecolor": "white",
           "zerolinewidth": 2
          }
         }
        },
        "title": {
         "text": "Case 0 - Geom 1"
        },
        "xaxis": {
         "tickangle": 45,
         "ticktext": [
          "NI_r60",
          "NI_wHB_r60",
          "F2014_wHB_r60",
          "F2020_wHB_r60",
          "F5020_wHB_r60",
          "F5030_wHB_r60",
          "F5040_wHB_r60"
         ],
         "tickvals": [
          0,
          1,
          2,
          3,
          4
         ],
         "title": {
          "text": "Geometries"
         }
        },
        "yaxis": {
         "title": {
          "text": "Qdot (W/m²)"
         }
        }
       }
      }
     },
     "metadata": {},
     "output_type": "display_data"
    },
    {
     "data": {
      "application/vnd.plotly.v1+json": {
       "config": {
        "plotlyServerURL": "https://plot.ly"
       },
       "data": [
        {
         "marker": {
          "color": "blue"
         },
         "name": "Qdot_top_conv",
         "type": "bar",
         "width": 0.2,
         "x": [
          -0.4,
          0.6,
          1.6,
          2.6,
          3.6,
          4.6,
          5.6
         ],
         "y": [
          -49.31150637688717,
          -43.98079586046286,
          -56.62752082597255,
          -50.596802915253235,
          -56.26700964590011,
          -54.599429572349045,
          -54.21412716048502
         ]
        },
        {
         "marker": {
          "color": "orange"
         },
         "name": "Qdot_top_rad",
         "type": "bar",
         "width": 0.2,
         "x": [
          -0.2,
          0.8,
          1.8,
          2.8,
          3.8,
          4.8,
          5.8
         ],
         "y": [
          -131.41695725285757,
          -116.13224268759626,
          -132.38720027747155,
          -130.04378228778143,
          -132.94137486563042,
          -133.30494649962247,
          -131.94759364100517
         ]
        },
        {
         "marker": {
          "color": "green"
         },
         "name": "Qdot_PV_sky",
         "type": "bar",
         "width": 0.2,
         "x": [
          0,
          1,
          2,
          3,
          4,
          5,
          6
         ],
         "y": [
          -41.25536228893431,
          -41.94501128773434,
          -41.24153535695999,
          -41.481658070189916,
          -41.254161849011844,
          -41.351096151861604,
          -41.45722574210527
         ]
        },
        {
         "marker": {
          "color": "red"
         },
         "name": "Qdot_tube_back_conv",
         "type": "bar",
         "width": 0.2,
         "x": [
          0.2,
          1.2,
          2.2,
          3.2,
          4.2,
          5.2,
          6.2
         ],
         "y": [
          -8.026234076040666,
          -7.134514215353199,
          -6.817690303262367,
          -3.7837739410153106,
          -6.587702413935405,
          -5.643344178581234,
          -4.907650398897386
         ]
        },
        {
         "marker": {
          "color": "purple"
         },
         "name": "Qdot_tube_back_rad",
         "type": "bar",
         "width": 0.2,
         "x": [
          0.4,
          1.4,
          2.4,
          3.4,
          4.4,
          5.4,
          6.4
         ],
         "y": [
          -21.39020561267731,
          -18.838839091139253,
          -15.938803578944592,
          -9.725046767001109,
          -15.564683846283245,
          -13.77827020716183,
          -11.944352781866975
         ]
        }
       ],
       "layout": {
        "barmode": "group",
        "template": {
         "data": {
          "bar": [
           {
            "error_x": {
             "color": "#2a3f5f"
            },
            "error_y": {
             "color": "#2a3f5f"
            },
            "marker": {
             "line": {
              "color": "#E5ECF6",
              "width": 0.5
             },
             "pattern": {
              "fillmode": "overlay",
              "size": 10,
              "solidity": 0.2
             }
            },
            "type": "bar"
           }
          ],
          "barpolar": [
           {
            "marker": {
             "line": {
              "color": "#E5ECF6",
              "width": 0.5
             },
             "pattern": {
              "fillmode": "overlay",
              "size": 10,
              "solidity": 0.2
             }
            },
            "type": "barpolar"
           }
          ],
          "carpet": [
           {
            "aaxis": {
             "endlinecolor": "#2a3f5f",
             "gridcolor": "white",
             "linecolor": "white",
             "minorgridcolor": "white",
             "startlinecolor": "#2a3f5f"
            },
            "baxis": {
             "endlinecolor": "#2a3f5f",
             "gridcolor": "white",
             "linecolor": "white",
             "minorgridcolor": "white",
             "startlinecolor": "#2a3f5f"
            },
            "type": "carpet"
           }
          ],
          "choropleth": [
           {
            "colorbar": {
             "outlinewidth": 0,
             "ticks": ""
            },
            "type": "choropleth"
           }
          ],
          "contour": [
           {
            "colorbar": {
             "outlinewidth": 0,
             "ticks": ""
            },
            "colorscale": [
             [
              0,
              "#0d0887"
             ],
             [
              0.1111111111111111,
              "#46039f"
             ],
             [
              0.2222222222222222,
              "#7201a8"
             ],
             [
              0.3333333333333333,
              "#9c179e"
             ],
             [
              0.4444444444444444,
              "#bd3786"
             ],
             [
              0.5555555555555556,
              "#d8576b"
             ],
             [
              0.6666666666666666,
              "#ed7953"
             ],
             [
              0.7777777777777778,
              "#fb9f3a"
             ],
             [
              0.8888888888888888,
              "#fdca26"
             ],
             [
              1,
              "#f0f921"
             ]
            ],
            "type": "contour"
           }
          ],
          "contourcarpet": [
           {
            "colorbar": {
             "outlinewidth": 0,
             "ticks": ""
            },
            "type": "contourcarpet"
           }
          ],
          "heatmap": [
           {
            "colorbar": {
             "outlinewidth": 0,
             "ticks": ""
            },
            "colorscale": [
             [
              0,
              "#0d0887"
             ],
             [
              0.1111111111111111,
              "#46039f"
             ],
             [
              0.2222222222222222,
              "#7201a8"
             ],
             [
              0.3333333333333333,
              "#9c179e"
             ],
             [
              0.4444444444444444,
              "#bd3786"
             ],
             [
              0.5555555555555556,
              "#d8576b"
             ],
             [
              0.6666666666666666,
              "#ed7953"
             ],
             [
              0.7777777777777778,
              "#fb9f3a"
             ],
             [
              0.8888888888888888,
              "#fdca26"
             ],
             [
              1,
              "#f0f921"
             ]
            ],
            "type": "heatmap"
           }
          ],
          "heatmapgl": [
           {
            "colorbar": {
             "outlinewidth": 0,
             "ticks": ""
            },
            "colorscale": [
             [
              0,
              "#0d0887"
             ],
             [
              0.1111111111111111,
              "#46039f"
             ],
             [
              0.2222222222222222,
              "#7201a8"
             ],
             [
              0.3333333333333333,
              "#9c179e"
             ],
             [
              0.4444444444444444,
              "#bd3786"
             ],
             [
              0.5555555555555556,
              "#d8576b"
             ],
             [
              0.6666666666666666,
              "#ed7953"
             ],
             [
              0.7777777777777778,
              "#fb9f3a"
             ],
             [
              0.8888888888888888,
              "#fdca26"
             ],
             [
              1,
              "#f0f921"
             ]
            ],
            "type": "heatmapgl"
           }
          ],
          "histogram": [
           {
            "marker": {
             "pattern": {
              "fillmode": "overlay",
              "size": 10,
              "solidity": 0.2
             }
            },
            "type": "histogram"
           }
          ],
          "histogram2d": [
           {
            "colorbar": {
             "outlinewidth": 0,
             "ticks": ""
            },
            "colorscale": [
             [
              0,
              "#0d0887"
             ],
             [
              0.1111111111111111,
              "#46039f"
             ],
             [
              0.2222222222222222,
              "#7201a8"
             ],
             [
              0.3333333333333333,
              "#9c179e"
             ],
             [
              0.4444444444444444,
              "#bd3786"
             ],
             [
              0.5555555555555556,
              "#d8576b"
             ],
             [
              0.6666666666666666,
              "#ed7953"
             ],
             [
              0.7777777777777778,
              "#fb9f3a"
             ],
             [
              0.8888888888888888,
              "#fdca26"
             ],
             [
              1,
              "#f0f921"
             ]
            ],
            "type": "histogram2d"
           }
          ],
          "histogram2dcontour": [
           {
            "colorbar": {
             "outlinewidth": 0,
             "ticks": ""
            },
            "colorscale": [
             [
              0,
              "#0d0887"
             ],
             [
              0.1111111111111111,
              "#46039f"
             ],
             [
              0.2222222222222222,
              "#7201a8"
             ],
             [
              0.3333333333333333,
              "#9c179e"
             ],
             [
              0.4444444444444444,
              "#bd3786"
             ],
             [
              0.5555555555555556,
              "#d8576b"
             ],
             [
              0.6666666666666666,
              "#ed7953"
             ],
             [
              0.7777777777777778,
              "#fb9f3a"
             ],
             [
              0.8888888888888888,
              "#fdca26"
             ],
             [
              1,
              "#f0f921"
             ]
            ],
            "type": "histogram2dcontour"
           }
          ],
          "mesh3d": [
           {
            "colorbar": {
             "outlinewidth": 0,
             "ticks": ""
            },
            "type": "mesh3d"
           }
          ],
          "parcoords": [
           {
            "line": {
             "colorbar": {
              "outlinewidth": 0,
              "ticks": ""
             }
            },
            "type": "parcoords"
           }
          ],
          "pie": [
           {
            "automargin": true,
            "type": "pie"
           }
          ],
          "scatter": [
           {
            "fillpattern": {
             "fillmode": "overlay",
             "size": 10,
             "solidity": 0.2
            },
            "type": "scatter"
           }
          ],
          "scatter3d": [
           {
            "line": {
             "colorbar": {
              "outlinewidth": 0,
              "ticks": ""
             }
            },
            "marker": {
             "colorbar": {
              "outlinewidth": 0,
              "ticks": ""
             }
            },
            "type": "scatter3d"
           }
          ],
          "scattercarpet": [
           {
            "marker": {
             "colorbar": {
              "outlinewidth": 0,
              "ticks": ""
             }
            },
            "type": "scattercarpet"
           }
          ],
          "scattergeo": [
           {
            "marker": {
             "colorbar": {
              "outlinewidth": 0,
              "ticks": ""
             }
            },
            "type": "scattergeo"
           }
          ],
          "scattergl": [
           {
            "marker": {
             "colorbar": {
              "outlinewidth": 0,
              "ticks": ""
             }
            },
            "type": "scattergl"
           }
          ],
          "scattermapbox": [
           {
            "marker": {
             "colorbar": {
              "outlinewidth": 0,
              "ticks": ""
             }
            },
            "type": "scattermapbox"
           }
          ],
          "scatterpolar": [
           {
            "marker": {
             "colorbar": {
              "outlinewidth": 0,
              "ticks": ""
             }
            },
            "type": "scatterpolar"
           }
          ],
          "scatterpolargl": [
           {
            "marker": {
             "colorbar": {
              "outlinewidth": 0,
              "ticks": ""
             }
            },
            "type": "scatterpolargl"
           }
          ],
          "scatterternary": [
           {
            "marker": {
             "colorbar": {
              "outlinewidth": 0,
              "ticks": ""
             }
            },
            "type": "scatterternary"
           }
          ],
          "surface": [
           {
            "colorbar": {
             "outlinewidth": 0,
             "ticks": ""
            },
            "colorscale": [
             [
              0,
              "#0d0887"
             ],
             [
              0.1111111111111111,
              "#46039f"
             ],
             [
              0.2222222222222222,
              "#7201a8"
             ],
             [
              0.3333333333333333,
              "#9c179e"
             ],
             [
              0.4444444444444444,
              "#bd3786"
             ],
             [
              0.5555555555555556,
              "#d8576b"
             ],
             [
              0.6666666666666666,
              "#ed7953"
             ],
             [
              0.7777777777777778,
              "#fb9f3a"
             ],
             [
              0.8888888888888888,
              "#fdca26"
             ],
             [
              1,
              "#f0f921"
             ]
            ],
            "type": "surface"
           }
          ],
          "table": [
           {
            "cells": {
             "fill": {
              "color": "#EBF0F8"
             },
             "line": {
              "color": "white"
             }
            },
            "header": {
             "fill": {
              "color": "#C8D4E3"
             },
             "line": {
              "color": "white"
             }
            },
            "type": "table"
           }
          ]
         },
         "layout": {
          "annotationdefaults": {
           "arrowcolor": "#2a3f5f",
           "arrowhead": 0,
           "arrowwidth": 1
          },
          "autotypenumbers": "strict",
          "coloraxis": {
           "colorbar": {
            "outlinewidth": 0,
            "ticks": ""
           }
          },
          "colorscale": {
           "diverging": [
            [
             0,
             "#8e0152"
            ],
            [
             0.1,
             "#c51b7d"
            ],
            [
             0.2,
             "#de77ae"
            ],
            [
             0.3,
             "#f1b6da"
            ],
            [
             0.4,
             "#fde0ef"
            ],
            [
             0.5,
             "#f7f7f7"
            ],
            [
             0.6,
             "#e6f5d0"
            ],
            [
             0.7,
             "#b8e186"
            ],
            [
             0.8,
             "#7fbc41"
            ],
            [
             0.9,
             "#4d9221"
            ],
            [
             1,
             "#276419"
            ]
           ],
           "sequential": [
            [
             0,
             "#0d0887"
            ],
            [
             0.1111111111111111,
             "#46039f"
            ],
            [
             0.2222222222222222,
             "#7201a8"
            ],
            [
             0.3333333333333333,
             "#9c179e"
            ],
            [
             0.4444444444444444,
             "#bd3786"
            ],
            [
             0.5555555555555556,
             "#d8576b"
            ],
            [
             0.6666666666666666,
             "#ed7953"
            ],
            [
             0.7777777777777778,
             "#fb9f3a"
            ],
            [
             0.8888888888888888,
             "#fdca26"
            ],
            [
             1,
             "#f0f921"
            ]
           ],
           "sequentialminus": [
            [
             0,
             "#0d0887"
            ],
            [
             0.1111111111111111,
             "#46039f"
            ],
            [
             0.2222222222222222,
             "#7201a8"
            ],
            [
             0.3333333333333333,
             "#9c179e"
            ],
            [
             0.4444444444444444,
             "#bd3786"
            ],
            [
             0.5555555555555556,
             "#d8576b"
            ],
            [
             0.6666666666666666,
             "#ed7953"
            ],
            [
             0.7777777777777778,
             "#fb9f3a"
            ],
            [
             0.8888888888888888,
             "#fdca26"
            ],
            [
             1,
             "#f0f921"
            ]
           ]
          },
          "colorway": [
           "#636efa",
           "#EF553B",
           "#00cc96",
           "#ab63fa",
           "#FFA15A",
           "#19d3f3",
           "#FF6692",
           "#B6E880",
           "#FF97FF",
           "#FECB52"
          ],
          "font": {
           "color": "#2a3f5f"
          },
          "geo": {
           "bgcolor": "white",
           "lakecolor": "white",
           "landcolor": "#E5ECF6",
           "showlakes": true,
           "showland": true,
           "subunitcolor": "white"
          },
          "hoverlabel": {
           "align": "left"
          },
          "hovermode": "closest",
          "mapbox": {
           "style": "light"
          },
          "paper_bgcolor": "white",
          "plot_bgcolor": "#E5ECF6",
          "polar": {
           "angularaxis": {
            "gridcolor": "white",
            "linecolor": "white",
            "ticks": ""
           },
           "bgcolor": "#E5ECF6",
           "radialaxis": {
            "gridcolor": "white",
            "linecolor": "white",
            "ticks": ""
           }
          },
          "scene": {
           "xaxis": {
            "backgroundcolor": "#E5ECF6",
            "gridcolor": "white",
            "gridwidth": 2,
            "linecolor": "white",
            "showbackground": true,
            "ticks": "",
            "zerolinecolor": "white"
           },
           "yaxis": {
            "backgroundcolor": "#E5ECF6",
            "gridcolor": "white",
            "gridwidth": 2,
            "linecolor": "white",
            "showbackground": true,
            "ticks": "",
            "zerolinecolor": "white"
           },
           "zaxis": {
            "backgroundcolor": "#E5ECF6",
            "gridcolor": "white",
            "gridwidth": 2,
            "linecolor": "white",
            "showbackground": true,
            "ticks": "",
            "zerolinecolor": "white"
           }
          },
          "shapedefaults": {
           "line": {
            "color": "#2a3f5f"
           }
          },
          "ternary": {
           "aaxis": {
            "gridcolor": "white",
            "linecolor": "white",
            "ticks": ""
           },
           "baxis": {
            "gridcolor": "white",
            "linecolor": "white",
            "ticks": ""
           },
           "bgcolor": "#E5ECF6",
           "caxis": {
            "gridcolor": "white",
            "linecolor": "white",
            "ticks": ""
           }
          },
          "title": {
           "x": 0.05
          },
          "xaxis": {
           "automargin": true,
           "gridcolor": "white",
           "linecolor": "white",
           "ticks": "",
           "title": {
            "standoff": 15
           },
           "zerolinecolor": "white",
           "zerolinewidth": 2
          },
          "yaxis": {
           "automargin": true,
           "gridcolor": "white",
           "linecolor": "white",
           "ticks": "",
           "title": {
            "standoff": 15
           },
           "zerolinecolor": "white",
           "zerolinewidth": 2
          }
         }
        },
        "title": {
         "text": "Case 0 - Geom 2"
        },
        "xaxis": {
         "tickangle": 45,
         "ticktext": [
          "NI_r60",
          "NI_wHB_r60",
          "F2014_wHB_r60",
          "F2020_wHB_r60",
          "F5020_wHB_r60",
          "F5030_wHB_r60",
          "F5040_wHB_r60"
         ],
         "tickvals": [
          0,
          1,
          2,
          3,
          4
         ],
         "title": {
          "text": "Geometries"
         }
        },
        "yaxis": {
         "title": {
          "text": "Qdot (W/m²)"
         }
        }
       }
      }
     },
     "metadata": {},
     "output_type": "display_data"
    },
    {
     "data": {
      "application/vnd.plotly.v1+json": {
       "config": {
        "plotlyServerURL": "https://plot.ly"
       },
       "data": [
        {
         "marker": {
          "color": "blue"
         },
         "name": "Qdot_top_conv",
         "type": "bar",
         "width": 0.2,
         "x": [
          -0.4,
          0.6,
          1.6,
          2.6,
          3.6,
          4.6,
          5.6
         ],
         "y": [
          -102.78463981991369,
          -116.93778968116872,
          -112.57299195354112,
          -113.21003816202416,
          -109.4557092810001,
          -114.4275700800284,
          -112.22326799565252
         ]
        },
        {
         "marker": {
          "color": "orange"
         },
         "name": "Qdot_top_rad",
         "type": "bar",
         "width": 0.2,
         "x": [
          -0.2,
          0.8,
          1.8,
          2.8,
          3.8,
          4.8,
          5.8
         ],
         "y": [
          -122.09108665575248,
          -103.09294913924502,
          -119.63047667955429,
          -119.71868608683764,
          -118.35247626937608,
          -122.83347292122558,
          -124.36501358559435
         ]
        },
        {
         "marker": {
          "color": "green"
         },
         "name": "Qdot_PV_sky",
         "type": "bar",
         "width": 0.2,
         "x": [
          0,
          1,
          2,
          3,
          4,
          5,
          6
         ],
         "y": [
          -38.67286363396926,
          -39.09252271935949,
          -39.20204822153955,
          -39.06268517274036,
          -39.375628135972114,
          -38.882212545742426,
          -38.90882080526063
         ]
        },
        {
         "marker": {
          "color": "red"
         },
         "name": "Qdot_tube_back_conv",
         "type": "bar",
         "width": 0.2,
         "x": [
          0.2,
          1.2,
          2.2,
          3.2,
          4.2,
          5.2,
          6.2
         ],
         "y": [
          -38.18578228875928,
          -41.70030595274783,
          -25.158811619933747,
          -26.62495165214193,
          -24.19209764170533,
          -26.80906864367603,
          -25.937584880702808
         ]
        },
        {
         "marker": {
          "color": "purple"
         },
         "name": "Qdot_tube_back_rad",
         "type": "bar",
         "width": 0.2,
         "x": [
          0.4,
          1.4,
          2.4,
          3.4,
          4.4,
          5.4,
          6.4
         ],
         "y": [
          -45.358369330310715,
          -36.763201462921835,
          -26.73608096003979,
          -28.155667824774604,
          -26.158477075835528,
          -28.77847537077963,
          -28.74384388976335
         ]
        }
       ],
       "layout": {
        "barmode": "group",
        "template": {
         "data": {
          "bar": [
           {
            "error_x": {
             "color": "#2a3f5f"
            },
            "error_y": {
             "color": "#2a3f5f"
            },
            "marker": {
             "line": {
              "color": "#E5ECF6",
              "width": 0.5
             },
             "pattern": {
              "fillmode": "overlay",
              "size": 10,
              "solidity": 0.2
             }
            },
            "type": "bar"
           }
          ],
          "barpolar": [
           {
            "marker": {
             "line": {
              "color": "#E5ECF6",
              "width": 0.5
             },
             "pattern": {
              "fillmode": "overlay",
              "size": 10,
              "solidity": 0.2
             }
            },
            "type": "barpolar"
           }
          ],
          "carpet": [
           {
            "aaxis": {
             "endlinecolor": "#2a3f5f",
             "gridcolor": "white",
             "linecolor": "white",
             "minorgridcolor": "white",
             "startlinecolor": "#2a3f5f"
            },
            "baxis": {
             "endlinecolor": "#2a3f5f",
             "gridcolor": "white",
             "linecolor": "white",
             "minorgridcolor": "white",
             "startlinecolor": "#2a3f5f"
            },
            "type": "carpet"
           }
          ],
          "choropleth": [
           {
            "colorbar": {
             "outlinewidth": 0,
             "ticks": ""
            },
            "type": "choropleth"
           }
          ],
          "contour": [
           {
            "colorbar": {
             "outlinewidth": 0,
             "ticks": ""
            },
            "colorscale": [
             [
              0,
              "#0d0887"
             ],
             [
              0.1111111111111111,
              "#46039f"
             ],
             [
              0.2222222222222222,
              "#7201a8"
             ],
             [
              0.3333333333333333,
              "#9c179e"
             ],
             [
              0.4444444444444444,
              "#bd3786"
             ],
             [
              0.5555555555555556,
              "#d8576b"
             ],
             [
              0.6666666666666666,
              "#ed7953"
             ],
             [
              0.7777777777777778,
              "#fb9f3a"
             ],
             [
              0.8888888888888888,
              "#fdca26"
             ],
             [
              1,
              "#f0f921"
             ]
            ],
            "type": "contour"
           }
          ],
          "contourcarpet": [
           {
            "colorbar": {
             "outlinewidth": 0,
             "ticks": ""
            },
            "type": "contourcarpet"
           }
          ],
          "heatmap": [
           {
            "colorbar": {
             "outlinewidth": 0,
             "ticks": ""
            },
            "colorscale": [
             [
              0,
              "#0d0887"
             ],
             [
              0.1111111111111111,
              "#46039f"
             ],
             [
              0.2222222222222222,
              "#7201a8"
             ],
             [
              0.3333333333333333,
              "#9c179e"
             ],
             [
              0.4444444444444444,
              "#bd3786"
             ],
             [
              0.5555555555555556,
              "#d8576b"
             ],
             [
              0.6666666666666666,
              "#ed7953"
             ],
             [
              0.7777777777777778,
              "#fb9f3a"
             ],
             [
              0.8888888888888888,
              "#fdca26"
             ],
             [
              1,
              "#f0f921"
             ]
            ],
            "type": "heatmap"
           }
          ],
          "heatmapgl": [
           {
            "colorbar": {
             "outlinewidth": 0,
             "ticks": ""
            },
            "colorscale": [
             [
              0,
              "#0d0887"
             ],
             [
              0.1111111111111111,
              "#46039f"
             ],
             [
              0.2222222222222222,
              "#7201a8"
             ],
             [
              0.3333333333333333,
              "#9c179e"
             ],
             [
              0.4444444444444444,
              "#bd3786"
             ],
             [
              0.5555555555555556,
              "#d8576b"
             ],
             [
              0.6666666666666666,
              "#ed7953"
             ],
             [
              0.7777777777777778,
              "#fb9f3a"
             ],
             [
              0.8888888888888888,
              "#fdca26"
             ],
             [
              1,
              "#f0f921"
             ]
            ],
            "type": "heatmapgl"
           }
          ],
          "histogram": [
           {
            "marker": {
             "pattern": {
              "fillmode": "overlay",
              "size": 10,
              "solidity": 0.2
             }
            },
            "type": "histogram"
           }
          ],
          "histogram2d": [
           {
            "colorbar": {
             "outlinewidth": 0,
             "ticks": ""
            },
            "colorscale": [
             [
              0,
              "#0d0887"
             ],
             [
              0.1111111111111111,
              "#46039f"
             ],
             [
              0.2222222222222222,
              "#7201a8"
             ],
             [
              0.3333333333333333,
              "#9c179e"
             ],
             [
              0.4444444444444444,
              "#bd3786"
             ],
             [
              0.5555555555555556,
              "#d8576b"
             ],
             [
              0.6666666666666666,
              "#ed7953"
             ],
             [
              0.7777777777777778,
              "#fb9f3a"
             ],
             [
              0.8888888888888888,
              "#fdca26"
             ],
             [
              1,
              "#f0f921"
             ]
            ],
            "type": "histogram2d"
           }
          ],
          "histogram2dcontour": [
           {
            "colorbar": {
             "outlinewidth": 0,
             "ticks": ""
            },
            "colorscale": [
             [
              0,
              "#0d0887"
             ],
             [
              0.1111111111111111,
              "#46039f"
             ],
             [
              0.2222222222222222,
              "#7201a8"
             ],
             [
              0.3333333333333333,
              "#9c179e"
             ],
             [
              0.4444444444444444,
              "#bd3786"
             ],
             [
              0.5555555555555556,
              "#d8576b"
             ],
             [
              0.6666666666666666,
              "#ed7953"
             ],
             [
              0.7777777777777778,
              "#fb9f3a"
             ],
             [
              0.8888888888888888,
              "#fdca26"
             ],
             [
              1,
              "#f0f921"
             ]
            ],
            "type": "histogram2dcontour"
           }
          ],
          "mesh3d": [
           {
            "colorbar": {
             "outlinewidth": 0,
             "ticks": ""
            },
            "type": "mesh3d"
           }
          ],
          "parcoords": [
           {
            "line": {
             "colorbar": {
              "outlinewidth": 0,
              "ticks": ""
             }
            },
            "type": "parcoords"
           }
          ],
          "pie": [
           {
            "automargin": true,
            "type": "pie"
           }
          ],
          "scatter": [
           {
            "fillpattern": {
             "fillmode": "overlay",
             "size": 10,
             "solidity": 0.2
            },
            "type": "scatter"
           }
          ],
          "scatter3d": [
           {
            "line": {
             "colorbar": {
              "outlinewidth": 0,
              "ticks": ""
             }
            },
            "marker": {
             "colorbar": {
              "outlinewidth": 0,
              "ticks": ""
             }
            },
            "type": "scatter3d"
           }
          ],
          "scattercarpet": [
           {
            "marker": {
             "colorbar": {
              "outlinewidth": 0,
              "ticks": ""
             }
            },
            "type": "scattercarpet"
           }
          ],
          "scattergeo": [
           {
            "marker": {
             "colorbar": {
              "outlinewidth": 0,
              "ticks": ""
             }
            },
            "type": "scattergeo"
           }
          ],
          "scattergl": [
           {
            "marker": {
             "colorbar": {
              "outlinewidth": 0,
              "ticks": ""
             }
            },
            "type": "scattergl"
           }
          ],
          "scattermapbox": [
           {
            "marker": {
             "colorbar": {
              "outlinewidth": 0,
              "ticks": ""
             }
            },
            "type": "scattermapbox"
           }
          ],
          "scatterpolar": [
           {
            "marker": {
             "colorbar": {
              "outlinewidth": 0,
              "ticks": ""
             }
            },
            "type": "scatterpolar"
           }
          ],
          "scatterpolargl": [
           {
            "marker": {
             "colorbar": {
              "outlinewidth": 0,
              "ticks": ""
             }
            },
            "type": "scatterpolargl"
           }
          ],
          "scatterternary": [
           {
            "marker": {
             "colorbar": {
              "outlinewidth": 0,
              "ticks": ""
             }
            },
            "type": "scatterternary"
           }
          ],
          "surface": [
           {
            "colorbar": {
             "outlinewidth": 0,
             "ticks": ""
            },
            "colorscale": [
             [
              0,
              "#0d0887"
             ],
             [
              0.1111111111111111,
              "#46039f"
             ],
             [
              0.2222222222222222,
              "#7201a8"
             ],
             [
              0.3333333333333333,
              "#9c179e"
             ],
             [
              0.4444444444444444,
              "#bd3786"
             ],
             [
              0.5555555555555556,
              "#d8576b"
             ],
             [
              0.6666666666666666,
              "#ed7953"
             ],
             [
              0.7777777777777778,
              "#fb9f3a"
             ],
             [
              0.8888888888888888,
              "#fdca26"
             ],
             [
              1,
              "#f0f921"
             ]
            ],
            "type": "surface"
           }
          ],
          "table": [
           {
            "cells": {
             "fill": {
              "color": "#EBF0F8"
             },
             "line": {
              "color": "white"
             }
            },
            "header": {
             "fill": {
              "color": "#C8D4E3"
             },
             "line": {
              "color": "white"
             }
            },
            "type": "table"
           }
          ]
         },
         "layout": {
          "annotationdefaults": {
           "arrowcolor": "#2a3f5f",
           "arrowhead": 0,
           "arrowwidth": 1
          },
          "autotypenumbers": "strict",
          "coloraxis": {
           "colorbar": {
            "outlinewidth": 0,
            "ticks": ""
           }
          },
          "colorscale": {
           "diverging": [
            [
             0,
             "#8e0152"
            ],
            [
             0.1,
             "#c51b7d"
            ],
            [
             0.2,
             "#de77ae"
            ],
            [
             0.3,
             "#f1b6da"
            ],
            [
             0.4,
             "#fde0ef"
            ],
            [
             0.5,
             "#f7f7f7"
            ],
            [
             0.6,
             "#e6f5d0"
            ],
            [
             0.7,
             "#b8e186"
            ],
            [
             0.8,
             "#7fbc41"
            ],
            [
             0.9,
             "#4d9221"
            ],
            [
             1,
             "#276419"
            ]
           ],
           "sequential": [
            [
             0,
             "#0d0887"
            ],
            [
             0.1111111111111111,
             "#46039f"
            ],
            [
             0.2222222222222222,
             "#7201a8"
            ],
            [
             0.3333333333333333,
             "#9c179e"
            ],
            [
             0.4444444444444444,
             "#bd3786"
            ],
            [
             0.5555555555555556,
             "#d8576b"
            ],
            [
             0.6666666666666666,
             "#ed7953"
            ],
            [
             0.7777777777777778,
             "#fb9f3a"
            ],
            [
             0.8888888888888888,
             "#fdca26"
            ],
            [
             1,
             "#f0f921"
            ]
           ],
           "sequentialminus": [
            [
             0,
             "#0d0887"
            ],
            [
             0.1111111111111111,
             "#46039f"
            ],
            [
             0.2222222222222222,
             "#7201a8"
            ],
            [
             0.3333333333333333,
             "#9c179e"
            ],
            [
             0.4444444444444444,
             "#bd3786"
            ],
            [
             0.5555555555555556,
             "#d8576b"
            ],
            [
             0.6666666666666666,
             "#ed7953"
            ],
            [
             0.7777777777777778,
             "#fb9f3a"
            ],
            [
             0.8888888888888888,
             "#fdca26"
            ],
            [
             1,
             "#f0f921"
            ]
           ]
          },
          "colorway": [
           "#636efa",
           "#EF553B",
           "#00cc96",
           "#ab63fa",
           "#FFA15A",
           "#19d3f3",
           "#FF6692",
           "#B6E880",
           "#FF97FF",
           "#FECB52"
          ],
          "font": {
           "color": "#2a3f5f"
          },
          "geo": {
           "bgcolor": "white",
           "lakecolor": "white",
           "landcolor": "#E5ECF6",
           "showlakes": true,
           "showland": true,
           "subunitcolor": "white"
          },
          "hoverlabel": {
           "align": "left"
          },
          "hovermode": "closest",
          "mapbox": {
           "style": "light"
          },
          "paper_bgcolor": "white",
          "plot_bgcolor": "#E5ECF6",
          "polar": {
           "angularaxis": {
            "gridcolor": "white",
            "linecolor": "white",
            "ticks": ""
           },
           "bgcolor": "#E5ECF6",
           "radialaxis": {
            "gridcolor": "white",
            "linecolor": "white",
            "ticks": ""
           }
          },
          "scene": {
           "xaxis": {
            "backgroundcolor": "#E5ECF6",
            "gridcolor": "white",
            "gridwidth": 2,
            "linecolor": "white",
            "showbackground": true,
            "ticks": "",
            "zerolinecolor": "white"
           },
           "yaxis": {
            "backgroundcolor": "#E5ECF6",
            "gridcolor": "white",
            "gridwidth": 2,
            "linecolor": "white",
            "showbackground": true,
            "ticks": "",
            "zerolinecolor": "white"
           },
           "zaxis": {
            "backgroundcolor": "#E5ECF6",
            "gridcolor": "white",
            "gridwidth": 2,
            "linecolor": "white",
            "showbackground": true,
            "ticks": "",
            "zerolinecolor": "white"
           }
          },
          "shapedefaults": {
           "line": {
            "color": "#2a3f5f"
           }
          },
          "ternary": {
           "aaxis": {
            "gridcolor": "white",
            "linecolor": "white",
            "ticks": ""
           },
           "baxis": {
            "gridcolor": "white",
            "linecolor": "white",
            "ticks": ""
           },
           "bgcolor": "#E5ECF6",
           "caxis": {
            "gridcolor": "white",
            "linecolor": "white",
            "ticks": ""
           }
          },
          "title": {
           "x": 0.05
          },
          "xaxis": {
           "automargin": true,
           "gridcolor": "white",
           "linecolor": "white",
           "ticks": "",
           "title": {
            "standoff": 15
           },
           "zerolinecolor": "white",
           "zerolinewidth": 2
          },
          "yaxis": {
           "automargin": true,
           "gridcolor": "white",
           "linecolor": "white",
           "ticks": "",
           "title": {
            "standoff": 15
           },
           "zerolinecolor": "white",
           "zerolinewidth": 2
          }
         }
        },
        "title": {
         "text": "Case 0 - Geom 3"
        },
        "xaxis": {
         "tickangle": 45,
         "ticktext": [
          "NI_r60",
          "NI_wHB_r60",
          "F2014_wHB_r60",
          "F2020_wHB_r60",
          "F5020_wHB_r60",
          "F5030_wHB_r60",
          "F5040_wHB_r60"
         ],
         "tickvals": [
          0,
          1,
          2,
          3,
          4
         ],
         "title": {
          "text": "Geometries"
         }
        },
        "yaxis": {
         "title": {
          "text": "Qdot (W/m²)"
         }
        }
       }
      }
     },
     "metadata": {},
     "output_type": "display_data"
    },
    {
     "name": "stdout",
     "output_type": "stream",
     "text": [
      "Case 1\n"
     ]
    },
    {
     "data": {
      "application/vnd.plotly.v1+json": {
       "config": {
        "plotlyServerURL": "https://plot.ly"
       },
       "data": [
        {
         "marker": {
          "color": "blue"
         },
         "name": "Qdot_top_conv",
         "type": "bar",
         "width": 0.2,
         "x": [
          -0.4,
          0.6,
          1.6,
          2.6,
          3.6,
          4.6,
          5.6
         ],
         "y": [
          -42.804447491711294,
          -48.41095707228083,
          -42.29073440952612,
          -42.29923041024282,
          -42.5736219151291,
          -42.77872695111476,
          -42.83234295526288
         ]
        },
        {
         "marker": {
          "color": "orange"
         },
         "name": "Qdot_top_rad",
         "type": "bar",
         "width": 0.2,
         "x": [
          -0.2,
          0.8,
          1.8,
          2.8,
          3.8,
          4.8,
          5.8
         ],
         "y": [
          -103.75528618460898,
          -86.86312381932098,
          -102.30157300449372,
          -102.35496242685922,
          -102.31496399284755,
          -102.70445404488194,
          -102.83173052764246
         ]
        },
        {
         "marker": {
          "color": "green"
         },
         "name": "Qdot_PV_sky",
         "type": "bar",
         "width": 0.2,
         "x": [
          0,
          1,
          2,
          3,
          4,
          5,
          6
         ],
         "y": [
          -32.96971612662585,
          -33.472623480107565,
          -32.55355681860773,
          -32.57087556841378,
          -31.7936601742244,
          -31.895893269834666,
          -31.936097978959484
         ]
        },
        {
         "marker": {
          "color": "red"
         },
         "name": "Qdot_tube_back_conv",
         "type": "bar",
         "width": 0.2,
         "x": [
          0.2,
          1.2,
          2.2,
          3.2,
          4.2,
          5.2,
          6.2
         ],
         "y": [
          -9.134729633793585,
          -9.976291735591568,
          -13.971120351500756,
          -13.75576127416254,
          -21.59491418720115,
          -21.120074283120477,
          -20.755967035328865
         ]
        },
        {
         "marker": {
          "color": "purple"
         },
         "name": "Qdot_tube_back_rad",
         "type": "bar",
         "width": 0.2,
         "x": [
          0.4,
          1.4,
          2.4,
          3.4,
          4.4,
          5.4,
          6.4
         ],
         "y": [
          -22.142009602081895,
          -17.900324982059505,
          -33.79623476748315,
          -33.28595850833281,
          -51.89793041091835,
          -50.7057094315593,
          -49.83084888087622
         ]
        }
       ],
       "layout": {
        "barmode": "group",
        "template": {
         "data": {
          "bar": [
           {
            "error_x": {
             "color": "#2a3f5f"
            },
            "error_y": {
             "color": "#2a3f5f"
            },
            "marker": {
             "line": {
              "color": "#E5ECF6",
              "width": 0.5
             },
             "pattern": {
              "fillmode": "overlay",
              "size": 10,
              "solidity": 0.2
             }
            },
            "type": "bar"
           }
          ],
          "barpolar": [
           {
            "marker": {
             "line": {
              "color": "#E5ECF6",
              "width": 0.5
             },
             "pattern": {
              "fillmode": "overlay",
              "size": 10,
              "solidity": 0.2
             }
            },
            "type": "barpolar"
           }
          ],
          "carpet": [
           {
            "aaxis": {
             "endlinecolor": "#2a3f5f",
             "gridcolor": "white",
             "linecolor": "white",
             "minorgridcolor": "white",
             "startlinecolor": "#2a3f5f"
            },
            "baxis": {
             "endlinecolor": "#2a3f5f",
             "gridcolor": "white",
             "linecolor": "white",
             "minorgridcolor": "white",
             "startlinecolor": "#2a3f5f"
            },
            "type": "carpet"
           }
          ],
          "choropleth": [
           {
            "colorbar": {
             "outlinewidth": 0,
             "ticks": ""
            },
            "type": "choropleth"
           }
          ],
          "contour": [
           {
            "colorbar": {
             "outlinewidth": 0,
             "ticks": ""
            },
            "colorscale": [
             [
              0,
              "#0d0887"
             ],
             [
              0.1111111111111111,
              "#46039f"
             ],
             [
              0.2222222222222222,
              "#7201a8"
             ],
             [
              0.3333333333333333,
              "#9c179e"
             ],
             [
              0.4444444444444444,
              "#bd3786"
             ],
             [
              0.5555555555555556,
              "#d8576b"
             ],
             [
              0.6666666666666666,
              "#ed7953"
             ],
             [
              0.7777777777777778,
              "#fb9f3a"
             ],
             [
              0.8888888888888888,
              "#fdca26"
             ],
             [
              1,
              "#f0f921"
             ]
            ],
            "type": "contour"
           }
          ],
          "contourcarpet": [
           {
            "colorbar": {
             "outlinewidth": 0,
             "ticks": ""
            },
            "type": "contourcarpet"
           }
          ],
          "heatmap": [
           {
            "colorbar": {
             "outlinewidth": 0,
             "ticks": ""
            },
            "colorscale": [
             [
              0,
              "#0d0887"
             ],
             [
              0.1111111111111111,
              "#46039f"
             ],
             [
              0.2222222222222222,
              "#7201a8"
             ],
             [
              0.3333333333333333,
              "#9c179e"
             ],
             [
              0.4444444444444444,
              "#bd3786"
             ],
             [
              0.5555555555555556,
              "#d8576b"
             ],
             [
              0.6666666666666666,
              "#ed7953"
             ],
             [
              0.7777777777777778,
              "#fb9f3a"
             ],
             [
              0.8888888888888888,
              "#fdca26"
             ],
             [
              1,
              "#f0f921"
             ]
            ],
            "type": "heatmap"
           }
          ],
          "heatmapgl": [
           {
            "colorbar": {
             "outlinewidth": 0,
             "ticks": ""
            },
            "colorscale": [
             [
              0,
              "#0d0887"
             ],
             [
              0.1111111111111111,
              "#46039f"
             ],
             [
              0.2222222222222222,
              "#7201a8"
             ],
             [
              0.3333333333333333,
              "#9c179e"
             ],
             [
              0.4444444444444444,
              "#bd3786"
             ],
             [
              0.5555555555555556,
              "#d8576b"
             ],
             [
              0.6666666666666666,
              "#ed7953"
             ],
             [
              0.7777777777777778,
              "#fb9f3a"
             ],
             [
              0.8888888888888888,
              "#fdca26"
             ],
             [
              1,
              "#f0f921"
             ]
            ],
            "type": "heatmapgl"
           }
          ],
          "histogram": [
           {
            "marker": {
             "pattern": {
              "fillmode": "overlay",
              "size": 10,
              "solidity": 0.2
             }
            },
            "type": "histogram"
           }
          ],
          "histogram2d": [
           {
            "colorbar": {
             "outlinewidth": 0,
             "ticks": ""
            },
            "colorscale": [
             [
              0,
              "#0d0887"
             ],
             [
              0.1111111111111111,
              "#46039f"
             ],
             [
              0.2222222222222222,
              "#7201a8"
             ],
             [
              0.3333333333333333,
              "#9c179e"
             ],
             [
              0.4444444444444444,
              "#bd3786"
             ],
             [
              0.5555555555555556,
              "#d8576b"
             ],
             [
              0.6666666666666666,
              "#ed7953"
             ],
             [
              0.7777777777777778,
              "#fb9f3a"
             ],
             [
              0.8888888888888888,
              "#fdca26"
             ],
             [
              1,
              "#f0f921"
             ]
            ],
            "type": "histogram2d"
           }
          ],
          "histogram2dcontour": [
           {
            "colorbar": {
             "outlinewidth": 0,
             "ticks": ""
            },
            "colorscale": [
             [
              0,
              "#0d0887"
             ],
             [
              0.1111111111111111,
              "#46039f"
             ],
             [
              0.2222222222222222,
              "#7201a8"
             ],
             [
              0.3333333333333333,
              "#9c179e"
             ],
             [
              0.4444444444444444,
              "#bd3786"
             ],
             [
              0.5555555555555556,
              "#d8576b"
             ],
             [
              0.6666666666666666,
              "#ed7953"
             ],
             [
              0.7777777777777778,
              "#fb9f3a"
             ],
             [
              0.8888888888888888,
              "#fdca26"
             ],
             [
              1,
              "#f0f921"
             ]
            ],
            "type": "histogram2dcontour"
           }
          ],
          "mesh3d": [
           {
            "colorbar": {
             "outlinewidth": 0,
             "ticks": ""
            },
            "type": "mesh3d"
           }
          ],
          "parcoords": [
           {
            "line": {
             "colorbar": {
              "outlinewidth": 0,
              "ticks": ""
             }
            },
            "type": "parcoords"
           }
          ],
          "pie": [
           {
            "automargin": true,
            "type": "pie"
           }
          ],
          "scatter": [
           {
            "fillpattern": {
             "fillmode": "overlay",
             "size": 10,
             "solidity": 0.2
            },
            "type": "scatter"
           }
          ],
          "scatter3d": [
           {
            "line": {
             "colorbar": {
              "outlinewidth": 0,
              "ticks": ""
             }
            },
            "marker": {
             "colorbar": {
              "outlinewidth": 0,
              "ticks": ""
             }
            },
            "type": "scatter3d"
           }
          ],
          "scattercarpet": [
           {
            "marker": {
             "colorbar": {
              "outlinewidth": 0,
              "ticks": ""
             }
            },
            "type": "scattercarpet"
           }
          ],
          "scattergeo": [
           {
            "marker": {
             "colorbar": {
              "outlinewidth": 0,
              "ticks": ""
             }
            },
            "type": "scattergeo"
           }
          ],
          "scattergl": [
           {
            "marker": {
             "colorbar": {
              "outlinewidth": 0,
              "ticks": ""
             }
            },
            "type": "scattergl"
           }
          ],
          "scattermapbox": [
           {
            "marker": {
             "colorbar": {
              "outlinewidth": 0,
              "ticks": ""
             }
            },
            "type": "scattermapbox"
           }
          ],
          "scatterpolar": [
           {
            "marker": {
             "colorbar": {
              "outlinewidth": 0,
              "ticks": ""
             }
            },
            "type": "scatterpolar"
           }
          ],
          "scatterpolargl": [
           {
            "marker": {
             "colorbar": {
              "outlinewidth": 0,
              "ticks": ""
             }
            },
            "type": "scatterpolargl"
           }
          ],
          "scatterternary": [
           {
            "marker": {
             "colorbar": {
              "outlinewidth": 0,
              "ticks": ""
             }
            },
            "type": "scatterternary"
           }
          ],
          "surface": [
           {
            "colorbar": {
             "outlinewidth": 0,
             "ticks": ""
            },
            "colorscale": [
             [
              0,
              "#0d0887"
             ],
             [
              0.1111111111111111,
              "#46039f"
             ],
             [
              0.2222222222222222,
              "#7201a8"
             ],
             [
              0.3333333333333333,
              "#9c179e"
             ],
             [
              0.4444444444444444,
              "#bd3786"
             ],
             [
              0.5555555555555556,
              "#d8576b"
             ],
             [
              0.6666666666666666,
              "#ed7953"
             ],
             [
              0.7777777777777778,
              "#fb9f3a"
             ],
             [
              0.8888888888888888,
              "#fdca26"
             ],
             [
              1,
              "#f0f921"
             ]
            ],
            "type": "surface"
           }
          ],
          "table": [
           {
            "cells": {
             "fill": {
              "color": "#EBF0F8"
             },
             "line": {
              "color": "white"
             }
            },
            "header": {
             "fill": {
              "color": "#C8D4E3"
             },
             "line": {
              "color": "white"
             }
            },
            "type": "table"
           }
          ]
         },
         "layout": {
          "annotationdefaults": {
           "arrowcolor": "#2a3f5f",
           "arrowhead": 0,
           "arrowwidth": 1
          },
          "autotypenumbers": "strict",
          "coloraxis": {
           "colorbar": {
            "outlinewidth": 0,
            "ticks": ""
           }
          },
          "colorscale": {
           "diverging": [
            [
             0,
             "#8e0152"
            ],
            [
             0.1,
             "#c51b7d"
            ],
            [
             0.2,
             "#de77ae"
            ],
            [
             0.3,
             "#f1b6da"
            ],
            [
             0.4,
             "#fde0ef"
            ],
            [
             0.5,
             "#f7f7f7"
            ],
            [
             0.6,
             "#e6f5d0"
            ],
            [
             0.7,
             "#b8e186"
            ],
            [
             0.8,
             "#7fbc41"
            ],
            [
             0.9,
             "#4d9221"
            ],
            [
             1,
             "#276419"
            ]
           ],
           "sequential": [
            [
             0,
             "#0d0887"
            ],
            [
             0.1111111111111111,
             "#46039f"
            ],
            [
             0.2222222222222222,
             "#7201a8"
            ],
            [
             0.3333333333333333,
             "#9c179e"
            ],
            [
             0.4444444444444444,
             "#bd3786"
            ],
            [
             0.5555555555555556,
             "#d8576b"
            ],
            [
             0.6666666666666666,
             "#ed7953"
            ],
            [
             0.7777777777777778,
             "#fb9f3a"
            ],
            [
             0.8888888888888888,
             "#fdca26"
            ],
            [
             1,
             "#f0f921"
            ]
           ],
           "sequentialminus": [
            [
             0,
             "#0d0887"
            ],
            [
             0.1111111111111111,
             "#46039f"
            ],
            [
             0.2222222222222222,
             "#7201a8"
            ],
            [
             0.3333333333333333,
             "#9c179e"
            ],
            [
             0.4444444444444444,
             "#bd3786"
            ],
            [
             0.5555555555555556,
             "#d8576b"
            ],
            [
             0.6666666666666666,
             "#ed7953"
            ],
            [
             0.7777777777777778,
             "#fb9f3a"
            ],
            [
             0.8888888888888888,
             "#fdca26"
            ],
            [
             1,
             "#f0f921"
            ]
           ]
          },
          "colorway": [
           "#636efa",
           "#EF553B",
           "#00cc96",
           "#ab63fa",
           "#FFA15A",
           "#19d3f3",
           "#FF6692",
           "#B6E880",
           "#FF97FF",
           "#FECB52"
          ],
          "font": {
           "color": "#2a3f5f"
          },
          "geo": {
           "bgcolor": "white",
           "lakecolor": "white",
           "landcolor": "#E5ECF6",
           "showlakes": true,
           "showland": true,
           "subunitcolor": "white"
          },
          "hoverlabel": {
           "align": "left"
          },
          "hovermode": "closest",
          "mapbox": {
           "style": "light"
          },
          "paper_bgcolor": "white",
          "plot_bgcolor": "#E5ECF6",
          "polar": {
           "angularaxis": {
            "gridcolor": "white",
            "linecolor": "white",
            "ticks": ""
           },
           "bgcolor": "#E5ECF6",
           "radialaxis": {
            "gridcolor": "white",
            "linecolor": "white",
            "ticks": ""
           }
          },
          "scene": {
           "xaxis": {
            "backgroundcolor": "#E5ECF6",
            "gridcolor": "white",
            "gridwidth": 2,
            "linecolor": "white",
            "showbackground": true,
            "ticks": "",
            "zerolinecolor": "white"
           },
           "yaxis": {
            "backgroundcolor": "#E5ECF6",
            "gridcolor": "white",
            "gridwidth": 2,
            "linecolor": "white",
            "showbackground": true,
            "ticks": "",
            "zerolinecolor": "white"
           },
           "zaxis": {
            "backgroundcolor": "#E5ECF6",
            "gridcolor": "white",
            "gridwidth": 2,
            "linecolor": "white",
            "showbackground": true,
            "ticks": "",
            "zerolinecolor": "white"
           }
          },
          "shapedefaults": {
           "line": {
            "color": "#2a3f5f"
           }
          },
          "ternary": {
           "aaxis": {
            "gridcolor": "white",
            "linecolor": "white",
            "ticks": ""
           },
           "baxis": {
            "gridcolor": "white",
            "linecolor": "white",
            "ticks": ""
           },
           "bgcolor": "#E5ECF6",
           "caxis": {
            "gridcolor": "white",
            "linecolor": "white",
            "ticks": ""
           }
          },
          "title": {
           "x": 0.05
          },
          "xaxis": {
           "automargin": true,
           "gridcolor": "white",
           "linecolor": "white",
           "ticks": "",
           "title": {
            "standoff": 15
           },
           "zerolinecolor": "white",
           "zerolinewidth": 2
          },
          "yaxis": {
           "automargin": true,
           "gridcolor": "white",
           "linecolor": "white",
           "ticks": "",
           "title": {
            "standoff": 15
           },
           "zerolinecolor": "white",
           "zerolinewidth": 2
          }
         }
        },
        "title": {
         "text": "Case 1 - Geom 1"
        },
        "xaxis": {
         "tickangle": 45,
         "ticktext": [
          "NI_r60",
          "NI_wHB_r60",
          "F2014_wHB_r60",
          "F2020_wHB_r60",
          "F5020_wHB_r60",
          "F5030_wHB_r60",
          "F5040_wHB_r60"
         ],
         "tickvals": [
          0,
          1,
          2,
          3,
          4
         ],
         "title": {
          "text": "Geometries"
         }
        },
        "yaxis": {
         "title": {
          "text": "Qdot (W/m²)"
         }
        }
       }
      }
     },
     "metadata": {},
     "output_type": "display_data"
    },
    {
     "data": {
      "application/vnd.plotly.v1+json": {
       "config": {
        "plotlyServerURL": "https://plot.ly"
       },
       "data": [
        {
         "marker": {
          "color": "blue"
         },
         "name": "Qdot_top_conv",
         "type": "bar",
         "width": 0.2,
         "x": [
          -0.4,
          0.6,
          1.6,
          2.6,
          3.6,
          4.6,
          5.6
         ],
         "y": [
          -29.603086689836264,
          -31.304903338960525,
          -41.36001664028975,
          -41.996111638447246,
          -41.49244908340885,
          -40.07990416870823,
          -43.75942042589762
         ]
        },
        {
         "marker": {
          "color": "orange"
         },
         "name": "Qdot_top_rad",
         "type": "bar",
         "width": 0.2,
         "x": [
          -0.2,
          0.8,
          1.8,
          2.8,
          3.8,
          4.8,
          5.8
         ],
         "y": [
          -108.55234452021111,
          -92.35944741459362,
          -108.39905768509612,
          -107.67501442635262,
          -108.38765929355458,
          -108.7767856823989,
          -106.8310469369992
         ]
        },
        {
         "marker": {
          "color": "green"
         },
         "name": "Qdot_PV_sky",
         "type": "bar",
         "width": 0.2,
         "x": [
          0,
          1,
          2,
          3,
          4,
          5,
          6
         ],
         "y": [
          -33.53398722245102,
          -34.156666678126754,
          -33.339616957191026,
          -33.413049531565726,
          -33.37578584702672,
          -33.41808161048644,
          -33.33859819859057
         ]
        },
        {
         "marker": {
          "color": "red"
         },
         "name": "Qdot_tube_back_conv",
         "type": "bar",
         "width": 0.2,
         "x": [
          0.2,
          1.2,
          2.2,
          3.2,
          4.2,
          5.2,
          6.2
         ],
         "y": [
          -4.057622005585739,
          -4.145324109463181,
          -5.330029460899624,
          -4.8636316709745415,
          -4.993471212384681,
          -4.711811833294417,
          -5.062844189135699
         ]
        },
        {
         "marker": {
          "color": "purple"
         },
         "name": "Qdot_tube_back_rad",
         "type": "bar",
         "width": 0.2,
         "x": [
          0.4,
          1.4,
          2.4,
          3.4,
          4.4,
          5.4,
          6.4
         ],
         "y": [
          -14.879001858760876,
          -12.230027991427256,
          -13.969292517945963,
          -12.470002338435828,
          -13.044075932277034,
          -12.787848588874926,
          -12.360057330287981
         ]
        }
       ],
       "layout": {
        "barmode": "group",
        "template": {
         "data": {
          "bar": [
           {
            "error_x": {
             "color": "#2a3f5f"
            },
            "error_y": {
             "color": "#2a3f5f"
            },
            "marker": {
             "line": {
              "color": "#E5ECF6",
              "width": 0.5
             },
             "pattern": {
              "fillmode": "overlay",
              "size": 10,
              "solidity": 0.2
             }
            },
            "type": "bar"
           }
          ],
          "barpolar": [
           {
            "marker": {
             "line": {
              "color": "#E5ECF6",
              "width": 0.5
             },
             "pattern": {
              "fillmode": "overlay",
              "size": 10,
              "solidity": 0.2
             }
            },
            "type": "barpolar"
           }
          ],
          "carpet": [
           {
            "aaxis": {
             "endlinecolor": "#2a3f5f",
             "gridcolor": "white",
             "linecolor": "white",
             "minorgridcolor": "white",
             "startlinecolor": "#2a3f5f"
            },
            "baxis": {
             "endlinecolor": "#2a3f5f",
             "gridcolor": "white",
             "linecolor": "white",
             "minorgridcolor": "white",
             "startlinecolor": "#2a3f5f"
            },
            "type": "carpet"
           }
          ],
          "choropleth": [
           {
            "colorbar": {
             "outlinewidth": 0,
             "ticks": ""
            },
            "type": "choropleth"
           }
          ],
          "contour": [
           {
            "colorbar": {
             "outlinewidth": 0,
             "ticks": ""
            },
            "colorscale": [
             [
              0,
              "#0d0887"
             ],
             [
              0.1111111111111111,
              "#46039f"
             ],
             [
              0.2222222222222222,
              "#7201a8"
             ],
             [
              0.3333333333333333,
              "#9c179e"
             ],
             [
              0.4444444444444444,
              "#bd3786"
             ],
             [
              0.5555555555555556,
              "#d8576b"
             ],
             [
              0.6666666666666666,
              "#ed7953"
             ],
             [
              0.7777777777777778,
              "#fb9f3a"
             ],
             [
              0.8888888888888888,
              "#fdca26"
             ],
             [
              1,
              "#f0f921"
             ]
            ],
            "type": "contour"
           }
          ],
          "contourcarpet": [
           {
            "colorbar": {
             "outlinewidth": 0,
             "ticks": ""
            },
            "type": "contourcarpet"
           }
          ],
          "heatmap": [
           {
            "colorbar": {
             "outlinewidth": 0,
             "ticks": ""
            },
            "colorscale": [
             [
              0,
              "#0d0887"
             ],
             [
              0.1111111111111111,
              "#46039f"
             ],
             [
              0.2222222222222222,
              "#7201a8"
             ],
             [
              0.3333333333333333,
              "#9c179e"
             ],
             [
              0.4444444444444444,
              "#bd3786"
             ],
             [
              0.5555555555555556,
              "#d8576b"
             ],
             [
              0.6666666666666666,
              "#ed7953"
             ],
             [
              0.7777777777777778,
              "#fb9f3a"
             ],
             [
              0.8888888888888888,
              "#fdca26"
             ],
             [
              1,
              "#f0f921"
             ]
            ],
            "type": "heatmap"
           }
          ],
          "heatmapgl": [
           {
            "colorbar": {
             "outlinewidth": 0,
             "ticks": ""
            },
            "colorscale": [
             [
              0,
              "#0d0887"
             ],
             [
              0.1111111111111111,
              "#46039f"
             ],
             [
              0.2222222222222222,
              "#7201a8"
             ],
             [
              0.3333333333333333,
              "#9c179e"
             ],
             [
              0.4444444444444444,
              "#bd3786"
             ],
             [
              0.5555555555555556,
              "#d8576b"
             ],
             [
              0.6666666666666666,
              "#ed7953"
             ],
             [
              0.7777777777777778,
              "#fb9f3a"
             ],
             [
              0.8888888888888888,
              "#fdca26"
             ],
             [
              1,
              "#f0f921"
             ]
            ],
            "type": "heatmapgl"
           }
          ],
          "histogram": [
           {
            "marker": {
             "pattern": {
              "fillmode": "overlay",
              "size": 10,
              "solidity": 0.2
             }
            },
            "type": "histogram"
           }
          ],
          "histogram2d": [
           {
            "colorbar": {
             "outlinewidth": 0,
             "ticks": ""
            },
            "colorscale": [
             [
              0,
              "#0d0887"
             ],
             [
              0.1111111111111111,
              "#46039f"
             ],
             [
              0.2222222222222222,
              "#7201a8"
             ],
             [
              0.3333333333333333,
              "#9c179e"
             ],
             [
              0.4444444444444444,
              "#bd3786"
             ],
             [
              0.5555555555555556,
              "#d8576b"
             ],
             [
              0.6666666666666666,
              "#ed7953"
             ],
             [
              0.7777777777777778,
              "#fb9f3a"
             ],
             [
              0.8888888888888888,
              "#fdca26"
             ],
             [
              1,
              "#f0f921"
             ]
            ],
            "type": "histogram2d"
           }
          ],
          "histogram2dcontour": [
           {
            "colorbar": {
             "outlinewidth": 0,
             "ticks": ""
            },
            "colorscale": [
             [
              0,
              "#0d0887"
             ],
             [
              0.1111111111111111,
              "#46039f"
             ],
             [
              0.2222222222222222,
              "#7201a8"
             ],
             [
              0.3333333333333333,
              "#9c179e"
             ],
             [
              0.4444444444444444,
              "#bd3786"
             ],
             [
              0.5555555555555556,
              "#d8576b"
             ],
             [
              0.6666666666666666,
              "#ed7953"
             ],
             [
              0.7777777777777778,
              "#fb9f3a"
             ],
             [
              0.8888888888888888,
              "#fdca26"
             ],
             [
              1,
              "#f0f921"
             ]
            ],
            "type": "histogram2dcontour"
           }
          ],
          "mesh3d": [
           {
            "colorbar": {
             "outlinewidth": 0,
             "ticks": ""
            },
            "type": "mesh3d"
           }
          ],
          "parcoords": [
           {
            "line": {
             "colorbar": {
              "outlinewidth": 0,
              "ticks": ""
             }
            },
            "type": "parcoords"
           }
          ],
          "pie": [
           {
            "automargin": true,
            "type": "pie"
           }
          ],
          "scatter": [
           {
            "fillpattern": {
             "fillmode": "overlay",
             "size": 10,
             "solidity": 0.2
            },
            "type": "scatter"
           }
          ],
          "scatter3d": [
           {
            "line": {
             "colorbar": {
              "outlinewidth": 0,
              "ticks": ""
             }
            },
            "marker": {
             "colorbar": {
              "outlinewidth": 0,
              "ticks": ""
             }
            },
            "type": "scatter3d"
           }
          ],
          "scattercarpet": [
           {
            "marker": {
             "colorbar": {
              "outlinewidth": 0,
              "ticks": ""
             }
            },
            "type": "scattercarpet"
           }
          ],
          "scattergeo": [
           {
            "marker": {
             "colorbar": {
              "outlinewidth": 0,
              "ticks": ""
             }
            },
            "type": "scattergeo"
           }
          ],
          "scattergl": [
           {
            "marker": {
             "colorbar": {
              "outlinewidth": 0,
              "ticks": ""
             }
            },
            "type": "scattergl"
           }
          ],
          "scattermapbox": [
           {
            "marker": {
             "colorbar": {
              "outlinewidth": 0,
              "ticks": ""
             }
            },
            "type": "scattermapbox"
           }
          ],
          "scatterpolar": [
           {
            "marker": {
             "colorbar": {
              "outlinewidth": 0,
              "ticks": ""
             }
            },
            "type": "scatterpolar"
           }
          ],
          "scatterpolargl": [
           {
            "marker": {
             "colorbar": {
              "outlinewidth": 0,
              "ticks": ""
             }
            },
            "type": "scatterpolargl"
           }
          ],
          "scatterternary": [
           {
            "marker": {
             "colorbar": {
              "outlinewidth": 0,
              "ticks": ""
             }
            },
            "type": "scatterternary"
           }
          ],
          "surface": [
           {
            "colorbar": {
             "outlinewidth": 0,
             "ticks": ""
            },
            "colorscale": [
             [
              0,
              "#0d0887"
             ],
             [
              0.1111111111111111,
              "#46039f"
             ],
             [
              0.2222222222222222,
              "#7201a8"
             ],
             [
              0.3333333333333333,
              "#9c179e"
             ],
             [
              0.4444444444444444,
              "#bd3786"
             ],
             [
              0.5555555555555556,
              "#d8576b"
             ],
             [
              0.6666666666666666,
              "#ed7953"
             ],
             [
              0.7777777777777778,
              "#fb9f3a"
             ],
             [
              0.8888888888888888,
              "#fdca26"
             ],
             [
              1,
              "#f0f921"
             ]
            ],
            "type": "surface"
           }
          ],
          "table": [
           {
            "cells": {
             "fill": {
              "color": "#EBF0F8"
             },
             "line": {
              "color": "white"
             }
            },
            "header": {
             "fill": {
              "color": "#C8D4E3"
             },
             "line": {
              "color": "white"
             }
            },
            "type": "table"
           }
          ]
         },
         "layout": {
          "annotationdefaults": {
           "arrowcolor": "#2a3f5f",
           "arrowhead": 0,
           "arrowwidth": 1
          },
          "autotypenumbers": "strict",
          "coloraxis": {
           "colorbar": {
            "outlinewidth": 0,
            "ticks": ""
           }
          },
          "colorscale": {
           "diverging": [
            [
             0,
             "#8e0152"
            ],
            [
             0.1,
             "#c51b7d"
            ],
            [
             0.2,
             "#de77ae"
            ],
            [
             0.3,
             "#f1b6da"
            ],
            [
             0.4,
             "#fde0ef"
            ],
            [
             0.5,
             "#f7f7f7"
            ],
            [
             0.6,
             "#e6f5d0"
            ],
            [
             0.7,
             "#b8e186"
            ],
            [
             0.8,
             "#7fbc41"
            ],
            [
             0.9,
             "#4d9221"
            ],
            [
             1,
             "#276419"
            ]
           ],
           "sequential": [
            [
             0,
             "#0d0887"
            ],
            [
             0.1111111111111111,
             "#46039f"
            ],
            [
             0.2222222222222222,
             "#7201a8"
            ],
            [
             0.3333333333333333,
             "#9c179e"
            ],
            [
             0.4444444444444444,
             "#bd3786"
            ],
            [
             0.5555555555555556,
             "#d8576b"
            ],
            [
             0.6666666666666666,
             "#ed7953"
            ],
            [
             0.7777777777777778,
             "#fb9f3a"
            ],
            [
             0.8888888888888888,
             "#fdca26"
            ],
            [
             1,
             "#f0f921"
            ]
           ],
           "sequentialminus": [
            [
             0,
             "#0d0887"
            ],
            [
             0.1111111111111111,
             "#46039f"
            ],
            [
             0.2222222222222222,
             "#7201a8"
            ],
            [
             0.3333333333333333,
             "#9c179e"
            ],
            [
             0.4444444444444444,
             "#bd3786"
            ],
            [
             0.5555555555555556,
             "#d8576b"
            ],
            [
             0.6666666666666666,
             "#ed7953"
            ],
            [
             0.7777777777777778,
             "#fb9f3a"
            ],
            [
             0.8888888888888888,
             "#fdca26"
            ],
            [
             1,
             "#f0f921"
            ]
           ]
          },
          "colorway": [
           "#636efa",
           "#EF553B",
           "#00cc96",
           "#ab63fa",
           "#FFA15A",
           "#19d3f3",
           "#FF6692",
           "#B6E880",
           "#FF97FF",
           "#FECB52"
          ],
          "font": {
           "color": "#2a3f5f"
          },
          "geo": {
           "bgcolor": "white",
           "lakecolor": "white",
           "landcolor": "#E5ECF6",
           "showlakes": true,
           "showland": true,
           "subunitcolor": "white"
          },
          "hoverlabel": {
           "align": "left"
          },
          "hovermode": "closest",
          "mapbox": {
           "style": "light"
          },
          "paper_bgcolor": "white",
          "plot_bgcolor": "#E5ECF6",
          "polar": {
           "angularaxis": {
            "gridcolor": "white",
            "linecolor": "white",
            "ticks": ""
           },
           "bgcolor": "#E5ECF6",
           "radialaxis": {
            "gridcolor": "white",
            "linecolor": "white",
            "ticks": ""
           }
          },
          "scene": {
           "xaxis": {
            "backgroundcolor": "#E5ECF6",
            "gridcolor": "white",
            "gridwidth": 2,
            "linecolor": "white",
            "showbackground": true,
            "ticks": "",
            "zerolinecolor": "white"
           },
           "yaxis": {
            "backgroundcolor": "#E5ECF6",
            "gridcolor": "white",
            "gridwidth": 2,
            "linecolor": "white",
            "showbackground": true,
            "ticks": "",
            "zerolinecolor": "white"
           },
           "zaxis": {
            "backgroundcolor": "#E5ECF6",
            "gridcolor": "white",
            "gridwidth": 2,
            "linecolor": "white",
            "showbackground": true,
            "ticks": "",
            "zerolinecolor": "white"
           }
          },
          "shapedefaults": {
           "line": {
            "color": "#2a3f5f"
           }
          },
          "ternary": {
           "aaxis": {
            "gridcolor": "white",
            "linecolor": "white",
            "ticks": ""
           },
           "baxis": {
            "gridcolor": "white",
            "linecolor": "white",
            "ticks": ""
           },
           "bgcolor": "#E5ECF6",
           "caxis": {
            "gridcolor": "white",
            "linecolor": "white",
            "ticks": ""
           }
          },
          "title": {
           "x": 0.05
          },
          "xaxis": {
           "automargin": true,
           "gridcolor": "white",
           "linecolor": "white",
           "ticks": "",
           "title": {
            "standoff": 15
           },
           "zerolinecolor": "white",
           "zerolinewidth": 2
          },
          "yaxis": {
           "automargin": true,
           "gridcolor": "white",
           "linecolor": "white",
           "ticks": "",
           "title": {
            "standoff": 15
           },
           "zerolinecolor": "white",
           "zerolinewidth": 2
          }
         }
        },
        "title": {
         "text": "Case 1 - Geom 2"
        },
        "xaxis": {
         "tickangle": 45,
         "ticktext": [
          "NI_r60",
          "NI_wHB_r60",
          "F2014_wHB_r60",
          "F2020_wHB_r60",
          "F5020_wHB_r60",
          "F5030_wHB_r60",
          "F5040_wHB_r60"
         ],
         "tickvals": [
          0,
          1,
          2,
          3,
          4
         ],
         "title": {
          "text": "Geometries"
         }
        },
        "yaxis": {
         "title": {
          "text": "Qdot (W/m²)"
         }
        }
       }
      }
     },
     "metadata": {},
     "output_type": "display_data"
    },
    {
     "data": {
      "application/vnd.plotly.v1+json": {
       "config": {
        "plotlyServerURL": "https://plot.ly"
       },
       "data": [
        {
         "marker": {
          "color": "blue"
         },
         "name": "Qdot_top_conv",
         "type": "bar",
         "width": 0.2,
         "x": [
          -0.4,
          0.6,
          1.6,
          2.6,
          3.6,
          4.6,
          5.6
         ],
         "y": [
          -83.19793100799227,
          -92.69485055494883,
          -89.90697482221252,
          -89.17508874982629,
          -87.335768593422,
          -90.96370548456336,
          -89.57877403720119
         ]
        },
        {
         "marker": {
          "color": "orange"
         },
         "name": "Qdot_top_rad",
         "type": "bar",
         "width": 0.2,
         "x": [
          -0.2,
          0.8,
          1.8,
          2.8,
          3.8,
          4.8,
          5.8
         ],
         "y": [
          -97.6578856822711,
          -81.63550717064277,
          -95.8465986639546,
          -94.4600630858287,
          -94.94897311198046,
          -98.65511600929982,
          -99.56455622908453
         ]
        },
        {
         "marker": {
          "color": "green"
         },
         "name": "Qdot_PV_sky",
         "type": "bar",
         "width": 0.2,
         "x": [
          0,
          1,
          2,
          3,
          4,
          5,
          6
         ],
         "y": [
          -31.25785948697171,
          -31.66231979734455,
          -31.60949228081474,
          -31.68260896459678,
          -31.77882401058911,
          -31.4014524360857,
          -31.42079168737348
         ]
        },
        {
         "marker": {
          "color": "red"
         },
         "name": "Qdot_tube_back_conv",
         "type": "bar",
         "width": 0.2,
         "x": [
          0.2,
          1.2,
          2.2,
          3.2,
          4.2,
          5.2,
          6.2
         ],
         "y": [
          -30.454668929337096,
          -31.50769945715503,
          -20.394535297826604,
          -20.20905901897284,
          -19.19594131590027,
          -20.848506949336226,
          -20.1883363149064
         ]
        },
        {
         "marker": {
          "color": "purple"
         },
         "name": "Qdot_tube_back_rad",
         "type": "bar",
         "width": 0.2,
         "x": [
          0.4,
          1.4,
          2.4,
          3.4,
          4.4,
          5.4,
          6.4
         ],
         "y": [
          -35.7477468581149,
          -27.74854276765123,
          -21.741882022991835,
          -21.406751780116718,
          -20.869283515984858,
          -22.611346588739195,
          -22.43882848142593
         ]
        }
       ],
       "layout": {
        "barmode": "group",
        "template": {
         "data": {
          "bar": [
           {
            "error_x": {
             "color": "#2a3f5f"
            },
            "error_y": {
             "color": "#2a3f5f"
            },
            "marker": {
             "line": {
              "color": "#E5ECF6",
              "width": 0.5
             },
             "pattern": {
              "fillmode": "overlay",
              "size": 10,
              "solidity": 0.2
             }
            },
            "type": "bar"
           }
          ],
          "barpolar": [
           {
            "marker": {
             "line": {
              "color": "#E5ECF6",
              "width": 0.5
             },
             "pattern": {
              "fillmode": "overlay",
              "size": 10,
              "solidity": 0.2
             }
            },
            "type": "barpolar"
           }
          ],
          "carpet": [
           {
            "aaxis": {
             "endlinecolor": "#2a3f5f",
             "gridcolor": "white",
             "linecolor": "white",
             "minorgridcolor": "white",
             "startlinecolor": "#2a3f5f"
            },
            "baxis": {
             "endlinecolor": "#2a3f5f",
             "gridcolor": "white",
             "linecolor": "white",
             "minorgridcolor": "white",
             "startlinecolor": "#2a3f5f"
            },
            "type": "carpet"
           }
          ],
          "choropleth": [
           {
            "colorbar": {
             "outlinewidth": 0,
             "ticks": ""
            },
            "type": "choropleth"
           }
          ],
          "contour": [
           {
            "colorbar": {
             "outlinewidth": 0,
             "ticks": ""
            },
            "colorscale": [
             [
              0,
              "#0d0887"
             ],
             [
              0.1111111111111111,
              "#46039f"
             ],
             [
              0.2222222222222222,
              "#7201a8"
             ],
             [
              0.3333333333333333,
              "#9c179e"
             ],
             [
              0.4444444444444444,
              "#bd3786"
             ],
             [
              0.5555555555555556,
              "#d8576b"
             ],
             [
              0.6666666666666666,
              "#ed7953"
             ],
             [
              0.7777777777777778,
              "#fb9f3a"
             ],
             [
              0.8888888888888888,
              "#fdca26"
             ],
             [
              1,
              "#f0f921"
             ]
            ],
            "type": "contour"
           }
          ],
          "contourcarpet": [
           {
            "colorbar": {
             "outlinewidth": 0,
             "ticks": ""
            },
            "type": "contourcarpet"
           }
          ],
          "heatmap": [
           {
            "colorbar": {
             "outlinewidth": 0,
             "ticks": ""
            },
            "colorscale": [
             [
              0,
              "#0d0887"
             ],
             [
              0.1111111111111111,
              "#46039f"
             ],
             [
              0.2222222222222222,
              "#7201a8"
             ],
             [
              0.3333333333333333,
              "#9c179e"
             ],
             [
              0.4444444444444444,
              "#bd3786"
             ],
             [
              0.5555555555555556,
              "#d8576b"
             ],
             [
              0.6666666666666666,
              "#ed7953"
             ],
             [
              0.7777777777777778,
              "#fb9f3a"
             ],
             [
              0.8888888888888888,
              "#fdca26"
             ],
             [
              1,
              "#f0f921"
             ]
            ],
            "type": "heatmap"
           }
          ],
          "heatmapgl": [
           {
            "colorbar": {
             "outlinewidth": 0,
             "ticks": ""
            },
            "colorscale": [
             [
              0,
              "#0d0887"
             ],
             [
              0.1111111111111111,
              "#46039f"
             ],
             [
              0.2222222222222222,
              "#7201a8"
             ],
             [
              0.3333333333333333,
              "#9c179e"
             ],
             [
              0.4444444444444444,
              "#bd3786"
             ],
             [
              0.5555555555555556,
              "#d8576b"
             ],
             [
              0.6666666666666666,
              "#ed7953"
             ],
             [
              0.7777777777777778,
              "#fb9f3a"
             ],
             [
              0.8888888888888888,
              "#fdca26"
             ],
             [
              1,
              "#f0f921"
             ]
            ],
            "type": "heatmapgl"
           }
          ],
          "histogram": [
           {
            "marker": {
             "pattern": {
              "fillmode": "overlay",
              "size": 10,
              "solidity": 0.2
             }
            },
            "type": "histogram"
           }
          ],
          "histogram2d": [
           {
            "colorbar": {
             "outlinewidth": 0,
             "ticks": ""
            },
            "colorscale": [
             [
              0,
              "#0d0887"
             ],
             [
              0.1111111111111111,
              "#46039f"
             ],
             [
              0.2222222222222222,
              "#7201a8"
             ],
             [
              0.3333333333333333,
              "#9c179e"
             ],
             [
              0.4444444444444444,
              "#bd3786"
             ],
             [
              0.5555555555555556,
              "#d8576b"
             ],
             [
              0.6666666666666666,
              "#ed7953"
             ],
             [
              0.7777777777777778,
              "#fb9f3a"
             ],
             [
              0.8888888888888888,
              "#fdca26"
             ],
             [
              1,
              "#f0f921"
             ]
            ],
            "type": "histogram2d"
           }
          ],
          "histogram2dcontour": [
           {
            "colorbar": {
             "outlinewidth": 0,
             "ticks": ""
            },
            "colorscale": [
             [
              0,
              "#0d0887"
             ],
             [
              0.1111111111111111,
              "#46039f"
             ],
             [
              0.2222222222222222,
              "#7201a8"
             ],
             [
              0.3333333333333333,
              "#9c179e"
             ],
             [
              0.4444444444444444,
              "#bd3786"
             ],
             [
              0.5555555555555556,
              "#d8576b"
             ],
             [
              0.6666666666666666,
              "#ed7953"
             ],
             [
              0.7777777777777778,
              "#fb9f3a"
             ],
             [
              0.8888888888888888,
              "#fdca26"
             ],
             [
              1,
              "#f0f921"
             ]
            ],
            "type": "histogram2dcontour"
           }
          ],
          "mesh3d": [
           {
            "colorbar": {
             "outlinewidth": 0,
             "ticks": ""
            },
            "type": "mesh3d"
           }
          ],
          "parcoords": [
           {
            "line": {
             "colorbar": {
              "outlinewidth": 0,
              "ticks": ""
             }
            },
            "type": "parcoords"
           }
          ],
          "pie": [
           {
            "automargin": true,
            "type": "pie"
           }
          ],
          "scatter": [
           {
            "fillpattern": {
             "fillmode": "overlay",
             "size": 10,
             "solidity": 0.2
            },
            "type": "scatter"
           }
          ],
          "scatter3d": [
           {
            "line": {
             "colorbar": {
              "outlinewidth": 0,
              "ticks": ""
             }
            },
            "marker": {
             "colorbar": {
              "outlinewidth": 0,
              "ticks": ""
             }
            },
            "type": "scatter3d"
           }
          ],
          "scattercarpet": [
           {
            "marker": {
             "colorbar": {
              "outlinewidth": 0,
              "ticks": ""
             }
            },
            "type": "scattercarpet"
           }
          ],
          "scattergeo": [
           {
            "marker": {
             "colorbar": {
              "outlinewidth": 0,
              "ticks": ""
             }
            },
            "type": "scattergeo"
           }
          ],
          "scattergl": [
           {
            "marker": {
             "colorbar": {
              "outlinewidth": 0,
              "ticks": ""
             }
            },
            "type": "scattergl"
           }
          ],
          "scattermapbox": [
           {
            "marker": {
             "colorbar": {
              "outlinewidth": 0,
              "ticks": ""
             }
            },
            "type": "scattermapbox"
           }
          ],
          "scatterpolar": [
           {
            "marker": {
             "colorbar": {
              "outlinewidth": 0,
              "ticks": ""
             }
            },
            "type": "scatterpolar"
           }
          ],
          "scatterpolargl": [
           {
            "marker": {
             "colorbar": {
              "outlinewidth": 0,
              "ticks": ""
             }
            },
            "type": "scatterpolargl"
           }
          ],
          "scatterternary": [
           {
            "marker": {
             "colorbar": {
              "outlinewidth": 0,
              "ticks": ""
             }
            },
            "type": "scatterternary"
           }
          ],
          "surface": [
           {
            "colorbar": {
             "outlinewidth": 0,
             "ticks": ""
            },
            "colorscale": [
             [
              0,
              "#0d0887"
             ],
             [
              0.1111111111111111,
              "#46039f"
             ],
             [
              0.2222222222222222,
              "#7201a8"
             ],
             [
              0.3333333333333333,
              "#9c179e"
             ],
             [
              0.4444444444444444,
              "#bd3786"
             ],
             [
              0.5555555555555556,
              "#d8576b"
             ],
             [
              0.6666666666666666,
              "#ed7953"
             ],
             [
              0.7777777777777778,
              "#fb9f3a"
             ],
             [
              0.8888888888888888,
              "#fdca26"
             ],
             [
              1,
              "#f0f921"
             ]
            ],
            "type": "surface"
           }
          ],
          "table": [
           {
            "cells": {
             "fill": {
              "color": "#EBF0F8"
             },
             "line": {
              "color": "white"
             }
            },
            "header": {
             "fill": {
              "color": "#C8D4E3"
             },
             "line": {
              "color": "white"
             }
            },
            "type": "table"
           }
          ]
         },
         "layout": {
          "annotationdefaults": {
           "arrowcolor": "#2a3f5f",
           "arrowhead": 0,
           "arrowwidth": 1
          },
          "autotypenumbers": "strict",
          "coloraxis": {
           "colorbar": {
            "outlinewidth": 0,
            "ticks": ""
           }
          },
          "colorscale": {
           "diverging": [
            [
             0,
             "#8e0152"
            ],
            [
             0.1,
             "#c51b7d"
            ],
            [
             0.2,
             "#de77ae"
            ],
            [
             0.3,
             "#f1b6da"
            ],
            [
             0.4,
             "#fde0ef"
            ],
            [
             0.5,
             "#f7f7f7"
            ],
            [
             0.6,
             "#e6f5d0"
            ],
            [
             0.7,
             "#b8e186"
            ],
            [
             0.8,
             "#7fbc41"
            ],
            [
             0.9,
             "#4d9221"
            ],
            [
             1,
             "#276419"
            ]
           ],
           "sequential": [
            [
             0,
             "#0d0887"
            ],
            [
             0.1111111111111111,
             "#46039f"
            ],
            [
             0.2222222222222222,
             "#7201a8"
            ],
            [
             0.3333333333333333,
             "#9c179e"
            ],
            [
             0.4444444444444444,
             "#bd3786"
            ],
            [
             0.5555555555555556,
             "#d8576b"
            ],
            [
             0.6666666666666666,
             "#ed7953"
            ],
            [
             0.7777777777777778,
             "#fb9f3a"
            ],
            [
             0.8888888888888888,
             "#fdca26"
            ],
            [
             1,
             "#f0f921"
            ]
           ],
           "sequentialminus": [
            [
             0,
             "#0d0887"
            ],
            [
             0.1111111111111111,
             "#46039f"
            ],
            [
             0.2222222222222222,
             "#7201a8"
            ],
            [
             0.3333333333333333,
             "#9c179e"
            ],
            [
             0.4444444444444444,
             "#bd3786"
            ],
            [
             0.5555555555555556,
             "#d8576b"
            ],
            [
             0.6666666666666666,
             "#ed7953"
            ],
            [
             0.7777777777777778,
             "#fb9f3a"
            ],
            [
             0.8888888888888888,
             "#fdca26"
            ],
            [
             1,
             "#f0f921"
            ]
           ]
          },
          "colorway": [
           "#636efa",
           "#EF553B",
           "#00cc96",
           "#ab63fa",
           "#FFA15A",
           "#19d3f3",
           "#FF6692",
           "#B6E880",
           "#FF97FF",
           "#FECB52"
          ],
          "font": {
           "color": "#2a3f5f"
          },
          "geo": {
           "bgcolor": "white",
           "lakecolor": "white",
           "landcolor": "#E5ECF6",
           "showlakes": true,
           "showland": true,
           "subunitcolor": "white"
          },
          "hoverlabel": {
           "align": "left"
          },
          "hovermode": "closest",
          "mapbox": {
           "style": "light"
          },
          "paper_bgcolor": "white",
          "plot_bgcolor": "#E5ECF6",
          "polar": {
           "angularaxis": {
            "gridcolor": "white",
            "linecolor": "white",
            "ticks": ""
           },
           "bgcolor": "#E5ECF6",
           "radialaxis": {
            "gridcolor": "white",
            "linecolor": "white",
            "ticks": ""
           }
          },
          "scene": {
           "xaxis": {
            "backgroundcolor": "#E5ECF6",
            "gridcolor": "white",
            "gridwidth": 2,
            "linecolor": "white",
            "showbackground": true,
            "ticks": "",
            "zerolinecolor": "white"
           },
           "yaxis": {
            "backgroundcolor": "#E5ECF6",
            "gridcolor": "white",
            "gridwidth": 2,
            "linecolor": "white",
            "showbackground": true,
            "ticks": "",
            "zerolinecolor": "white"
           },
           "zaxis": {
            "backgroundcolor": "#E5ECF6",
            "gridcolor": "white",
            "gridwidth": 2,
            "linecolor": "white",
            "showbackground": true,
            "ticks": "",
            "zerolinecolor": "white"
           }
          },
          "shapedefaults": {
           "line": {
            "color": "#2a3f5f"
           }
          },
          "ternary": {
           "aaxis": {
            "gridcolor": "white",
            "linecolor": "white",
            "ticks": ""
           },
           "baxis": {
            "gridcolor": "white",
            "linecolor": "white",
            "ticks": ""
           },
           "bgcolor": "#E5ECF6",
           "caxis": {
            "gridcolor": "white",
            "linecolor": "white",
            "ticks": ""
           }
          },
          "title": {
           "x": 0.05
          },
          "xaxis": {
           "automargin": true,
           "gridcolor": "white",
           "linecolor": "white",
           "ticks": "",
           "title": {
            "standoff": 15
           },
           "zerolinecolor": "white",
           "zerolinewidth": 2
          },
          "yaxis": {
           "automargin": true,
           "gridcolor": "white",
           "linecolor": "white",
           "ticks": "",
           "title": {
            "standoff": 15
           },
           "zerolinecolor": "white",
           "zerolinewidth": 2
          }
         }
        },
        "title": {
         "text": "Case 1 - Geom 3"
        },
        "xaxis": {
         "tickangle": 45,
         "ticktext": [
          "NI_r60",
          "NI_wHB_r60",
          "F2014_wHB_r60",
          "F2020_wHB_r60",
          "F5020_wHB_r60",
          "F5030_wHB_r60",
          "F5040_wHB_r60"
         ],
         "tickvals": [
          0,
          1,
          2,
          3,
          4
         ],
         "title": {
          "text": "Geometries"
         }
        },
        "yaxis": {
         "title": {
          "text": "Qdot (W/m²)"
         }
        }
       }
      }
     },
     "metadata": {},
     "output_type": "display_data"
    },
    {
     "name": "stdout",
     "output_type": "stream",
     "text": [
      "Case 2\n"
     ]
    },
    {
     "data": {
      "application/vnd.plotly.v1+json": {
       "config": {
        "plotlyServerURL": "https://plot.ly"
       },
       "data": [
        {
         "marker": {
          "color": "blue"
         },
         "name": "Qdot_top_conv",
         "type": "bar",
         "width": 0.2,
         "x": [
          -0.4,
          0.6,
          1.6,
          2.6,
          3.6,
          4.6,
          5.6
         ],
         "y": [
          -29.38382240401188,
          -32.99880153668573,
          -29.104838051406798,
          -29.101654534816248,
          -29.316402082733518,
          -29.451817813141314,
          -29.51615610097261
         ]
        },
        {
         "marker": {
          "color": "orange"
         },
         "name": "Qdot_top_rad",
         "type": "bar",
         "width": 0.2,
         "x": [
          -0.2,
          0.8,
          1.8,
          2.8,
          3.8,
          4.8,
          5.8
         ],
         "y": [
          -77.38117907813101,
          -64.61769755309422,
          -76.48188271185492,
          -76.50034547139083,
          -76.5759905942466,
          -76.82543680925495,
          -76.97290042304452
         ]
        },
        {
         "marker": {
          "color": "green"
         },
         "name": "Qdot_PV_sky",
         "type": "bar",
         "width": 0.2,
         "x": [
          0,
          1,
          2,
          3,
          4,
          5,
          6
         ],
         "y": [
          -25.144614130991783,
          -25.57396399885686,
          -24.907273672165402,
          -24.920546236235584,
          -24.386469726219733,
          -24.463983815234393,
          -24.474909461396614
         ]
        },
        {
         "marker": {
          "color": "red"
         },
         "name": "Qdot_tube_back_conv",
         "type": "bar",
         "width": 0.2,
         "x": [
          0.2,
          1.2,
          2.2,
          3.2,
          4.2,
          5.2,
          6.2
         ],
         "y": [
          -5.616673566701172,
          -5.826695944325195,
          -8.156456914860378,
          -7.985671149170212,
          -12.786621687858545,
          -12.463498931193595,
          -12.37877127580142
         ]
        },
        {
         "marker": {
          "color": "purple"
         },
         "name": "Qdot_tube_back_rad",
         "type": "bar",
         "width": 0.2,
         "x": [
          0.4,
          1.4,
          2.4,
          3.4,
          4.4,
          5.4,
          6.4
         ],
         "y": [
          -14.791296282438983,
          -11.409737891410131,
          -21.43359052556201,
          -20.99216046295827,
          -33.39933117776191,
          -32.51119355808966,
          -32.281640113039956
         ]
        }
       ],
       "layout": {
        "barmode": "group",
        "template": {
         "data": {
          "bar": [
           {
            "error_x": {
             "color": "#2a3f5f"
            },
            "error_y": {
             "color": "#2a3f5f"
            },
            "marker": {
             "line": {
              "color": "#E5ECF6",
              "width": 0.5
             },
             "pattern": {
              "fillmode": "overlay",
              "size": 10,
              "solidity": 0.2
             }
            },
            "type": "bar"
           }
          ],
          "barpolar": [
           {
            "marker": {
             "line": {
              "color": "#E5ECF6",
              "width": 0.5
             },
             "pattern": {
              "fillmode": "overlay",
              "size": 10,
              "solidity": 0.2
             }
            },
            "type": "barpolar"
           }
          ],
          "carpet": [
           {
            "aaxis": {
             "endlinecolor": "#2a3f5f",
             "gridcolor": "white",
             "linecolor": "white",
             "minorgridcolor": "white",
             "startlinecolor": "#2a3f5f"
            },
            "baxis": {
             "endlinecolor": "#2a3f5f",
             "gridcolor": "white",
             "linecolor": "white",
             "minorgridcolor": "white",
             "startlinecolor": "#2a3f5f"
            },
            "type": "carpet"
           }
          ],
          "choropleth": [
           {
            "colorbar": {
             "outlinewidth": 0,
             "ticks": ""
            },
            "type": "choropleth"
           }
          ],
          "contour": [
           {
            "colorbar": {
             "outlinewidth": 0,
             "ticks": ""
            },
            "colorscale": [
             [
              0,
              "#0d0887"
             ],
             [
              0.1111111111111111,
              "#46039f"
             ],
             [
              0.2222222222222222,
              "#7201a8"
             ],
             [
              0.3333333333333333,
              "#9c179e"
             ],
             [
              0.4444444444444444,
              "#bd3786"
             ],
             [
              0.5555555555555556,
              "#d8576b"
             ],
             [
              0.6666666666666666,
              "#ed7953"
             ],
             [
              0.7777777777777778,
              "#fb9f3a"
             ],
             [
              0.8888888888888888,
              "#fdca26"
             ],
             [
              1,
              "#f0f921"
             ]
            ],
            "type": "contour"
           }
          ],
          "contourcarpet": [
           {
            "colorbar": {
             "outlinewidth": 0,
             "ticks": ""
            },
            "type": "contourcarpet"
           }
          ],
          "heatmap": [
           {
            "colorbar": {
             "outlinewidth": 0,
             "ticks": ""
            },
            "colorscale": [
             [
              0,
              "#0d0887"
             ],
             [
              0.1111111111111111,
              "#46039f"
             ],
             [
              0.2222222222222222,
              "#7201a8"
             ],
             [
              0.3333333333333333,
              "#9c179e"
             ],
             [
              0.4444444444444444,
              "#bd3786"
             ],
             [
              0.5555555555555556,
              "#d8576b"
             ],
             [
              0.6666666666666666,
              "#ed7953"
             ],
             [
              0.7777777777777778,
              "#fb9f3a"
             ],
             [
              0.8888888888888888,
              "#fdca26"
             ],
             [
              1,
              "#f0f921"
             ]
            ],
            "type": "heatmap"
           }
          ],
          "heatmapgl": [
           {
            "colorbar": {
             "outlinewidth": 0,
             "ticks": ""
            },
            "colorscale": [
             [
              0,
              "#0d0887"
             ],
             [
              0.1111111111111111,
              "#46039f"
             ],
             [
              0.2222222222222222,
              "#7201a8"
             ],
             [
              0.3333333333333333,
              "#9c179e"
             ],
             [
              0.4444444444444444,
              "#bd3786"
             ],
             [
              0.5555555555555556,
              "#d8576b"
             ],
             [
              0.6666666666666666,
              "#ed7953"
             ],
             [
              0.7777777777777778,
              "#fb9f3a"
             ],
             [
              0.8888888888888888,
              "#fdca26"
             ],
             [
              1,
              "#f0f921"
             ]
            ],
            "type": "heatmapgl"
           }
          ],
          "histogram": [
           {
            "marker": {
             "pattern": {
              "fillmode": "overlay",
              "size": 10,
              "solidity": 0.2
             }
            },
            "type": "histogram"
           }
          ],
          "histogram2d": [
           {
            "colorbar": {
             "outlinewidth": 0,
             "ticks": ""
            },
            "colorscale": [
             [
              0,
              "#0d0887"
             ],
             [
              0.1111111111111111,
              "#46039f"
             ],
             [
              0.2222222222222222,
              "#7201a8"
             ],
             [
              0.3333333333333333,
              "#9c179e"
             ],
             [
              0.4444444444444444,
              "#bd3786"
             ],
             [
              0.5555555555555556,
              "#d8576b"
             ],
             [
              0.6666666666666666,
              "#ed7953"
             ],
             [
              0.7777777777777778,
              "#fb9f3a"
             ],
             [
              0.8888888888888888,
              "#fdca26"
             ],
             [
              1,
              "#f0f921"
             ]
            ],
            "type": "histogram2d"
           }
          ],
          "histogram2dcontour": [
           {
            "colorbar": {
             "outlinewidth": 0,
             "ticks": ""
            },
            "colorscale": [
             [
              0,
              "#0d0887"
             ],
             [
              0.1111111111111111,
              "#46039f"
             ],
             [
              0.2222222222222222,
              "#7201a8"
             ],
             [
              0.3333333333333333,
              "#9c179e"
             ],
             [
              0.4444444444444444,
              "#bd3786"
             ],
             [
              0.5555555555555556,
              "#d8576b"
             ],
             [
              0.6666666666666666,
              "#ed7953"
             ],
             [
              0.7777777777777778,
              "#fb9f3a"
             ],
             [
              0.8888888888888888,
              "#fdca26"
             ],
             [
              1,
              "#f0f921"
             ]
            ],
            "type": "histogram2dcontour"
           }
          ],
          "mesh3d": [
           {
            "colorbar": {
             "outlinewidth": 0,
             "ticks": ""
            },
            "type": "mesh3d"
           }
          ],
          "parcoords": [
           {
            "line": {
             "colorbar": {
              "outlinewidth": 0,
              "ticks": ""
             }
            },
            "type": "parcoords"
           }
          ],
          "pie": [
           {
            "automargin": true,
            "type": "pie"
           }
          ],
          "scatter": [
           {
            "fillpattern": {
             "fillmode": "overlay",
             "size": 10,
             "solidity": 0.2
            },
            "type": "scatter"
           }
          ],
          "scatter3d": [
           {
            "line": {
             "colorbar": {
              "outlinewidth": 0,
              "ticks": ""
             }
            },
            "marker": {
             "colorbar": {
              "outlinewidth": 0,
              "ticks": ""
             }
            },
            "type": "scatter3d"
           }
          ],
          "scattercarpet": [
           {
            "marker": {
             "colorbar": {
              "outlinewidth": 0,
              "ticks": ""
             }
            },
            "type": "scattercarpet"
           }
          ],
          "scattergeo": [
           {
            "marker": {
             "colorbar": {
              "outlinewidth": 0,
              "ticks": ""
             }
            },
            "type": "scattergeo"
           }
          ],
          "scattergl": [
           {
            "marker": {
             "colorbar": {
              "outlinewidth": 0,
              "ticks": ""
             }
            },
            "type": "scattergl"
           }
          ],
          "scattermapbox": [
           {
            "marker": {
             "colorbar": {
              "outlinewidth": 0,
              "ticks": ""
             }
            },
            "type": "scattermapbox"
           }
          ],
          "scatterpolar": [
           {
            "marker": {
             "colorbar": {
              "outlinewidth": 0,
              "ticks": ""
             }
            },
            "type": "scatterpolar"
           }
          ],
          "scatterpolargl": [
           {
            "marker": {
             "colorbar": {
              "outlinewidth": 0,
              "ticks": ""
             }
            },
            "type": "scatterpolargl"
           }
          ],
          "scatterternary": [
           {
            "marker": {
             "colorbar": {
              "outlinewidth": 0,
              "ticks": ""
             }
            },
            "type": "scatterternary"
           }
          ],
          "surface": [
           {
            "colorbar": {
             "outlinewidth": 0,
             "ticks": ""
            },
            "colorscale": [
             [
              0,
              "#0d0887"
             ],
             [
              0.1111111111111111,
              "#46039f"
             ],
             [
              0.2222222222222222,
              "#7201a8"
             ],
             [
              0.3333333333333333,
              "#9c179e"
             ],
             [
              0.4444444444444444,
              "#bd3786"
             ],
             [
              0.5555555555555556,
              "#d8576b"
             ],
             [
              0.6666666666666666,
              "#ed7953"
             ],
             [
              0.7777777777777778,
              "#fb9f3a"
             ],
             [
              0.8888888888888888,
              "#fdca26"
             ],
             [
              1,
              "#f0f921"
             ]
            ],
            "type": "surface"
           }
          ],
          "table": [
           {
            "cells": {
             "fill": {
              "color": "#EBF0F8"
             },
             "line": {
              "color": "white"
             }
            },
            "header": {
             "fill": {
              "color": "#C8D4E3"
             },
             "line": {
              "color": "white"
             }
            },
            "type": "table"
           }
          ]
         },
         "layout": {
          "annotationdefaults": {
           "arrowcolor": "#2a3f5f",
           "arrowhead": 0,
           "arrowwidth": 1
          },
          "autotypenumbers": "strict",
          "coloraxis": {
           "colorbar": {
            "outlinewidth": 0,
            "ticks": ""
           }
          },
          "colorscale": {
           "diverging": [
            [
             0,
             "#8e0152"
            ],
            [
             0.1,
             "#c51b7d"
            ],
            [
             0.2,
             "#de77ae"
            ],
            [
             0.3,
             "#f1b6da"
            ],
            [
             0.4,
             "#fde0ef"
            ],
            [
             0.5,
             "#f7f7f7"
            ],
            [
             0.6,
             "#e6f5d0"
            ],
            [
             0.7,
             "#b8e186"
            ],
            [
             0.8,
             "#7fbc41"
            ],
            [
             0.9,
             "#4d9221"
            ],
            [
             1,
             "#276419"
            ]
           ],
           "sequential": [
            [
             0,
             "#0d0887"
            ],
            [
             0.1111111111111111,
             "#46039f"
            ],
            [
             0.2222222222222222,
             "#7201a8"
            ],
            [
             0.3333333333333333,
             "#9c179e"
            ],
            [
             0.4444444444444444,
             "#bd3786"
            ],
            [
             0.5555555555555556,
             "#d8576b"
            ],
            [
             0.6666666666666666,
             "#ed7953"
            ],
            [
             0.7777777777777778,
             "#fb9f3a"
            ],
            [
             0.8888888888888888,
             "#fdca26"
            ],
            [
             1,
             "#f0f921"
            ]
           ],
           "sequentialminus": [
            [
             0,
             "#0d0887"
            ],
            [
             0.1111111111111111,
             "#46039f"
            ],
            [
             0.2222222222222222,
             "#7201a8"
            ],
            [
             0.3333333333333333,
             "#9c179e"
            ],
            [
             0.4444444444444444,
             "#bd3786"
            ],
            [
             0.5555555555555556,
             "#d8576b"
            ],
            [
             0.6666666666666666,
             "#ed7953"
            ],
            [
             0.7777777777777778,
             "#fb9f3a"
            ],
            [
             0.8888888888888888,
             "#fdca26"
            ],
            [
             1,
             "#f0f921"
            ]
           ]
          },
          "colorway": [
           "#636efa",
           "#EF553B",
           "#00cc96",
           "#ab63fa",
           "#FFA15A",
           "#19d3f3",
           "#FF6692",
           "#B6E880",
           "#FF97FF",
           "#FECB52"
          ],
          "font": {
           "color": "#2a3f5f"
          },
          "geo": {
           "bgcolor": "white",
           "lakecolor": "white",
           "landcolor": "#E5ECF6",
           "showlakes": true,
           "showland": true,
           "subunitcolor": "white"
          },
          "hoverlabel": {
           "align": "left"
          },
          "hovermode": "closest",
          "mapbox": {
           "style": "light"
          },
          "paper_bgcolor": "white",
          "plot_bgcolor": "#E5ECF6",
          "polar": {
           "angularaxis": {
            "gridcolor": "white",
            "linecolor": "white",
            "ticks": ""
           },
           "bgcolor": "#E5ECF6",
           "radialaxis": {
            "gridcolor": "white",
            "linecolor": "white",
            "ticks": ""
           }
          },
          "scene": {
           "xaxis": {
            "backgroundcolor": "#E5ECF6",
            "gridcolor": "white",
            "gridwidth": 2,
            "linecolor": "white",
            "showbackground": true,
            "ticks": "",
            "zerolinecolor": "white"
           },
           "yaxis": {
            "backgroundcolor": "#E5ECF6",
            "gridcolor": "white",
            "gridwidth": 2,
            "linecolor": "white",
            "showbackground": true,
            "ticks": "",
            "zerolinecolor": "white"
           },
           "zaxis": {
            "backgroundcolor": "#E5ECF6",
            "gridcolor": "white",
            "gridwidth": 2,
            "linecolor": "white",
            "showbackground": true,
            "ticks": "",
            "zerolinecolor": "white"
           }
          },
          "shapedefaults": {
           "line": {
            "color": "#2a3f5f"
           }
          },
          "ternary": {
           "aaxis": {
            "gridcolor": "white",
            "linecolor": "white",
            "ticks": ""
           },
           "baxis": {
            "gridcolor": "white",
            "linecolor": "white",
            "ticks": ""
           },
           "bgcolor": "#E5ECF6",
           "caxis": {
            "gridcolor": "white",
            "linecolor": "white",
            "ticks": ""
           }
          },
          "title": {
           "x": 0.05
          },
          "xaxis": {
           "automargin": true,
           "gridcolor": "white",
           "linecolor": "white",
           "ticks": "",
           "title": {
            "standoff": 15
           },
           "zerolinecolor": "white",
           "zerolinewidth": 2
          },
          "yaxis": {
           "automargin": true,
           "gridcolor": "white",
           "linecolor": "white",
           "ticks": "",
           "title": {
            "standoff": 15
           },
           "zerolinecolor": "white",
           "zerolinewidth": 2
          }
         }
        },
        "title": {
         "text": "Case 2 - Geom 1"
        },
        "xaxis": {
         "tickangle": 45,
         "ticktext": [
          "NI_r60",
          "NI_wHB_r60",
          "F2014_wHB_r60",
          "F2020_wHB_r60",
          "F5020_wHB_r60",
          "F5030_wHB_r60",
          "F5040_wHB_r60"
         ],
         "tickvals": [
          0,
          1,
          2,
          3,
          4
         ],
         "title": {
          "text": "Geometries"
         }
        },
        "yaxis": {
         "title": {
          "text": "Qdot (W/m²)"
         }
        }
       }
      }
     },
     "metadata": {},
     "output_type": "display_data"
    },
    {
     "data": {
      "application/vnd.plotly.v1+json": {
       "config": {
        "plotlyServerURL": "https://plot.ly"
       },
       "data": [
        {
         "marker": {
          "color": "blue"
         },
         "name": "Qdot_top_conv",
         "type": "bar",
         "width": 0.2,
         "x": [
          -0.4,
          0.6,
          1.6,
          2.6,
          3.6,
          4.6,
          5.6
         ],
         "y": [
          -32.960543880998635,
          -30.95608297097627,
          -33.21134644157049,
          -32.84914124620356,
          -32.668748876648124,
          -32.78509982131644,
          -33.98683797948312
         ]
        },
        {
         "marker": {
          "color": "orange"
         },
         "name": "Qdot_top_rad",
         "type": "bar",
         "width": 0.2,
         "x": [
          -0.2,
          0.8,
          1.8,
          2.8,
          3.8,
          4.8,
          5.8
         ],
         "y": [
          -77.5739576415821,
          -67.79064741389023,
          -79.38002915463275,
          -79.36819159272824,
          -80.04700967141164,
          -79.52972181338698,
          -78.95661726946078
         ]
        },
        {
         "marker": {
          "color": "green"
         },
         "name": "Qdot_PV_sky",
         "type": "bar",
         "width": 0.2,
         "x": [
          0,
          1,
          2,
          3,
          4,
          5,
          6
         ],
         "y": [
          -25.297614460138156,
          -25.799237249332048,
          -25.24234661613642,
          -25.30246809748299,
          -25.273070643215945,
          -25.273238305896708,
          -25.264637745968155
         ]
        },
        {
         "marker": {
          "color": "red"
         },
         "name": "Qdot_tube_back_conv",
         "type": "bar",
         "width": 0.2,
         "x": [
          0.2,
          1.2,
          2.2,
          3.2,
          4.2,
          5.2,
          6.2
         ],
         "y": [
          -4.96480537463935,
          -4.246371129639803,
          -4.1401816831324725,
          -3.734827031654355,
          -3.7515517283769113,
          -3.915732773539419,
          -3.8007660098857494
         ]
        },
        {
         "marker": {
          "color": "purple"
         },
         "name": "Qdot_tube_back_rad",
         "type": "bar",
         "width": 0.2,
         "x": [
          0.4,
          1.4,
          2.4,
          3.4,
          4.4,
          5.4,
          6.4
         ],
         "y": [
          -11.684867920307607,
          -9.29911734336123,
          -9.895646455970398,
          -9.023872654457959,
          -9.19228644531425,
          -9.498739972500342,
          -8.829760136982554
         ]
        }
       ],
       "layout": {
        "barmode": "group",
        "template": {
         "data": {
          "bar": [
           {
            "error_x": {
             "color": "#2a3f5f"
            },
            "error_y": {
             "color": "#2a3f5f"
            },
            "marker": {
             "line": {
              "color": "#E5ECF6",
              "width": 0.5
             },
             "pattern": {
              "fillmode": "overlay",
              "size": 10,
              "solidity": 0.2
             }
            },
            "type": "bar"
           }
          ],
          "barpolar": [
           {
            "marker": {
             "line": {
              "color": "#E5ECF6",
              "width": 0.5
             },
             "pattern": {
              "fillmode": "overlay",
              "size": 10,
              "solidity": 0.2
             }
            },
            "type": "barpolar"
           }
          ],
          "carpet": [
           {
            "aaxis": {
             "endlinecolor": "#2a3f5f",
             "gridcolor": "white",
             "linecolor": "white",
             "minorgridcolor": "white",
             "startlinecolor": "#2a3f5f"
            },
            "baxis": {
             "endlinecolor": "#2a3f5f",
             "gridcolor": "white",
             "linecolor": "white",
             "minorgridcolor": "white",
             "startlinecolor": "#2a3f5f"
            },
            "type": "carpet"
           }
          ],
          "choropleth": [
           {
            "colorbar": {
             "outlinewidth": 0,
             "ticks": ""
            },
            "type": "choropleth"
           }
          ],
          "contour": [
           {
            "colorbar": {
             "outlinewidth": 0,
             "ticks": ""
            },
            "colorscale": [
             [
              0,
              "#0d0887"
             ],
             [
              0.1111111111111111,
              "#46039f"
             ],
             [
              0.2222222222222222,
              "#7201a8"
             ],
             [
              0.3333333333333333,
              "#9c179e"
             ],
             [
              0.4444444444444444,
              "#bd3786"
             ],
             [
              0.5555555555555556,
              "#d8576b"
             ],
             [
              0.6666666666666666,
              "#ed7953"
             ],
             [
              0.7777777777777778,
              "#fb9f3a"
             ],
             [
              0.8888888888888888,
              "#fdca26"
             ],
             [
              1,
              "#f0f921"
             ]
            ],
            "type": "contour"
           }
          ],
          "contourcarpet": [
           {
            "colorbar": {
             "outlinewidth": 0,
             "ticks": ""
            },
            "type": "contourcarpet"
           }
          ],
          "heatmap": [
           {
            "colorbar": {
             "outlinewidth": 0,
             "ticks": ""
            },
            "colorscale": [
             [
              0,
              "#0d0887"
             ],
             [
              0.1111111111111111,
              "#46039f"
             ],
             [
              0.2222222222222222,
              "#7201a8"
             ],
             [
              0.3333333333333333,
              "#9c179e"
             ],
             [
              0.4444444444444444,
              "#bd3786"
             ],
             [
              0.5555555555555556,
              "#d8576b"
             ],
             [
              0.6666666666666666,
              "#ed7953"
             ],
             [
              0.7777777777777778,
              "#fb9f3a"
             ],
             [
              0.8888888888888888,
              "#fdca26"
             ],
             [
              1,
              "#f0f921"
             ]
            ],
            "type": "heatmap"
           }
          ],
          "heatmapgl": [
           {
            "colorbar": {
             "outlinewidth": 0,
             "ticks": ""
            },
            "colorscale": [
             [
              0,
              "#0d0887"
             ],
             [
              0.1111111111111111,
              "#46039f"
             ],
             [
              0.2222222222222222,
              "#7201a8"
             ],
             [
              0.3333333333333333,
              "#9c179e"
             ],
             [
              0.4444444444444444,
              "#bd3786"
             ],
             [
              0.5555555555555556,
              "#d8576b"
             ],
             [
              0.6666666666666666,
              "#ed7953"
             ],
             [
              0.7777777777777778,
              "#fb9f3a"
             ],
             [
              0.8888888888888888,
              "#fdca26"
             ],
             [
              1,
              "#f0f921"
             ]
            ],
            "type": "heatmapgl"
           }
          ],
          "histogram": [
           {
            "marker": {
             "pattern": {
              "fillmode": "overlay",
              "size": 10,
              "solidity": 0.2
             }
            },
            "type": "histogram"
           }
          ],
          "histogram2d": [
           {
            "colorbar": {
             "outlinewidth": 0,
             "ticks": ""
            },
            "colorscale": [
             [
              0,
              "#0d0887"
             ],
             [
              0.1111111111111111,
              "#46039f"
             ],
             [
              0.2222222222222222,
              "#7201a8"
             ],
             [
              0.3333333333333333,
              "#9c179e"
             ],
             [
              0.4444444444444444,
              "#bd3786"
             ],
             [
              0.5555555555555556,
              "#d8576b"
             ],
             [
              0.6666666666666666,
              "#ed7953"
             ],
             [
              0.7777777777777778,
              "#fb9f3a"
             ],
             [
              0.8888888888888888,
              "#fdca26"
             ],
             [
              1,
              "#f0f921"
             ]
            ],
            "type": "histogram2d"
           }
          ],
          "histogram2dcontour": [
           {
            "colorbar": {
             "outlinewidth": 0,
             "ticks": ""
            },
            "colorscale": [
             [
              0,
              "#0d0887"
             ],
             [
              0.1111111111111111,
              "#46039f"
             ],
             [
              0.2222222222222222,
              "#7201a8"
             ],
             [
              0.3333333333333333,
              "#9c179e"
             ],
             [
              0.4444444444444444,
              "#bd3786"
             ],
             [
              0.5555555555555556,
              "#d8576b"
             ],
             [
              0.6666666666666666,
              "#ed7953"
             ],
             [
              0.7777777777777778,
              "#fb9f3a"
             ],
             [
              0.8888888888888888,
              "#fdca26"
             ],
             [
              1,
              "#f0f921"
             ]
            ],
            "type": "histogram2dcontour"
           }
          ],
          "mesh3d": [
           {
            "colorbar": {
             "outlinewidth": 0,
             "ticks": ""
            },
            "type": "mesh3d"
           }
          ],
          "parcoords": [
           {
            "line": {
             "colorbar": {
              "outlinewidth": 0,
              "ticks": ""
             }
            },
            "type": "parcoords"
           }
          ],
          "pie": [
           {
            "automargin": true,
            "type": "pie"
           }
          ],
          "scatter": [
           {
            "fillpattern": {
             "fillmode": "overlay",
             "size": 10,
             "solidity": 0.2
            },
            "type": "scatter"
           }
          ],
          "scatter3d": [
           {
            "line": {
             "colorbar": {
              "outlinewidth": 0,
              "ticks": ""
             }
            },
            "marker": {
             "colorbar": {
              "outlinewidth": 0,
              "ticks": ""
             }
            },
            "type": "scatter3d"
           }
          ],
          "scattercarpet": [
           {
            "marker": {
             "colorbar": {
              "outlinewidth": 0,
              "ticks": ""
             }
            },
            "type": "scattercarpet"
           }
          ],
          "scattergeo": [
           {
            "marker": {
             "colorbar": {
              "outlinewidth": 0,
              "ticks": ""
             }
            },
            "type": "scattergeo"
           }
          ],
          "scattergl": [
           {
            "marker": {
             "colorbar": {
              "outlinewidth": 0,
              "ticks": ""
             }
            },
            "type": "scattergl"
           }
          ],
          "scattermapbox": [
           {
            "marker": {
             "colorbar": {
              "outlinewidth": 0,
              "ticks": ""
             }
            },
            "type": "scattermapbox"
           }
          ],
          "scatterpolar": [
           {
            "marker": {
             "colorbar": {
              "outlinewidth": 0,
              "ticks": ""
             }
            },
            "type": "scatterpolar"
           }
          ],
          "scatterpolargl": [
           {
            "marker": {
             "colorbar": {
              "outlinewidth": 0,
              "ticks": ""
             }
            },
            "type": "scatterpolargl"
           }
          ],
          "scatterternary": [
           {
            "marker": {
             "colorbar": {
              "outlinewidth": 0,
              "ticks": ""
             }
            },
            "type": "scatterternary"
           }
          ],
          "surface": [
           {
            "colorbar": {
             "outlinewidth": 0,
             "ticks": ""
            },
            "colorscale": [
             [
              0,
              "#0d0887"
             ],
             [
              0.1111111111111111,
              "#46039f"
             ],
             [
              0.2222222222222222,
              "#7201a8"
             ],
             [
              0.3333333333333333,
              "#9c179e"
             ],
             [
              0.4444444444444444,
              "#bd3786"
             ],
             [
              0.5555555555555556,
              "#d8576b"
             ],
             [
              0.6666666666666666,
              "#ed7953"
             ],
             [
              0.7777777777777778,
              "#fb9f3a"
             ],
             [
              0.8888888888888888,
              "#fdca26"
             ],
             [
              1,
              "#f0f921"
             ]
            ],
            "type": "surface"
           }
          ],
          "table": [
           {
            "cells": {
             "fill": {
              "color": "#EBF0F8"
             },
             "line": {
              "color": "white"
             }
            },
            "header": {
             "fill": {
              "color": "#C8D4E3"
             },
             "line": {
              "color": "white"
             }
            },
            "type": "table"
           }
          ]
         },
         "layout": {
          "annotationdefaults": {
           "arrowcolor": "#2a3f5f",
           "arrowhead": 0,
           "arrowwidth": 1
          },
          "autotypenumbers": "strict",
          "coloraxis": {
           "colorbar": {
            "outlinewidth": 0,
            "ticks": ""
           }
          },
          "colorscale": {
           "diverging": [
            [
             0,
             "#8e0152"
            ],
            [
             0.1,
             "#c51b7d"
            ],
            [
             0.2,
             "#de77ae"
            ],
            [
             0.3,
             "#f1b6da"
            ],
            [
             0.4,
             "#fde0ef"
            ],
            [
             0.5,
             "#f7f7f7"
            ],
            [
             0.6,
             "#e6f5d0"
            ],
            [
             0.7,
             "#b8e186"
            ],
            [
             0.8,
             "#7fbc41"
            ],
            [
             0.9,
             "#4d9221"
            ],
            [
             1,
             "#276419"
            ]
           ],
           "sequential": [
            [
             0,
             "#0d0887"
            ],
            [
             0.1111111111111111,
             "#46039f"
            ],
            [
             0.2222222222222222,
             "#7201a8"
            ],
            [
             0.3333333333333333,
             "#9c179e"
            ],
            [
             0.4444444444444444,
             "#bd3786"
            ],
            [
             0.5555555555555556,
             "#d8576b"
            ],
            [
             0.6666666666666666,
             "#ed7953"
            ],
            [
             0.7777777777777778,
             "#fb9f3a"
            ],
            [
             0.8888888888888888,
             "#fdca26"
            ],
            [
             1,
             "#f0f921"
            ]
           ],
           "sequentialminus": [
            [
             0,
             "#0d0887"
            ],
            [
             0.1111111111111111,
             "#46039f"
            ],
            [
             0.2222222222222222,
             "#7201a8"
            ],
            [
             0.3333333333333333,
             "#9c179e"
            ],
            [
             0.4444444444444444,
             "#bd3786"
            ],
            [
             0.5555555555555556,
             "#d8576b"
            ],
            [
             0.6666666666666666,
             "#ed7953"
            ],
            [
             0.7777777777777778,
             "#fb9f3a"
            ],
            [
             0.8888888888888888,
             "#fdca26"
            ],
            [
             1,
             "#f0f921"
            ]
           ]
          },
          "colorway": [
           "#636efa",
           "#EF553B",
           "#00cc96",
           "#ab63fa",
           "#FFA15A",
           "#19d3f3",
           "#FF6692",
           "#B6E880",
           "#FF97FF",
           "#FECB52"
          ],
          "font": {
           "color": "#2a3f5f"
          },
          "geo": {
           "bgcolor": "white",
           "lakecolor": "white",
           "landcolor": "#E5ECF6",
           "showlakes": true,
           "showland": true,
           "subunitcolor": "white"
          },
          "hoverlabel": {
           "align": "left"
          },
          "hovermode": "closest",
          "mapbox": {
           "style": "light"
          },
          "paper_bgcolor": "white",
          "plot_bgcolor": "#E5ECF6",
          "polar": {
           "angularaxis": {
            "gridcolor": "white",
            "linecolor": "white",
            "ticks": ""
           },
           "bgcolor": "#E5ECF6",
           "radialaxis": {
            "gridcolor": "white",
            "linecolor": "white",
            "ticks": ""
           }
          },
          "scene": {
           "xaxis": {
            "backgroundcolor": "#E5ECF6",
            "gridcolor": "white",
            "gridwidth": 2,
            "linecolor": "white",
            "showbackground": true,
            "ticks": "",
            "zerolinecolor": "white"
           },
           "yaxis": {
            "backgroundcolor": "#E5ECF6",
            "gridcolor": "white",
            "gridwidth": 2,
            "linecolor": "white",
            "showbackground": true,
            "ticks": "",
            "zerolinecolor": "white"
           },
           "zaxis": {
            "backgroundcolor": "#E5ECF6",
            "gridcolor": "white",
            "gridwidth": 2,
            "linecolor": "white",
            "showbackground": true,
            "ticks": "",
            "zerolinecolor": "white"
           }
          },
          "shapedefaults": {
           "line": {
            "color": "#2a3f5f"
           }
          },
          "ternary": {
           "aaxis": {
            "gridcolor": "white",
            "linecolor": "white",
            "ticks": ""
           },
           "baxis": {
            "gridcolor": "white",
            "linecolor": "white",
            "ticks": ""
           },
           "bgcolor": "#E5ECF6",
           "caxis": {
            "gridcolor": "white",
            "linecolor": "white",
            "ticks": ""
           }
          },
          "title": {
           "x": 0.05
          },
          "xaxis": {
           "automargin": true,
           "gridcolor": "white",
           "linecolor": "white",
           "ticks": "",
           "title": {
            "standoff": 15
           },
           "zerolinecolor": "white",
           "zerolinewidth": 2
          },
          "yaxis": {
           "automargin": true,
           "gridcolor": "white",
           "linecolor": "white",
           "ticks": "",
           "title": {
            "standoff": 15
           },
           "zerolinecolor": "white",
           "zerolinewidth": 2
          }
         }
        },
        "title": {
         "text": "Case 2 - Geom 2"
        },
        "xaxis": {
         "tickangle": 45,
         "ticktext": [
          "NI_r60",
          "NI_wHB_r60",
          "F2014_wHB_r60",
          "F2020_wHB_r60",
          "F5020_wHB_r60",
          "F5030_wHB_r60",
          "F5040_wHB_r60"
         ],
         "tickvals": [
          0,
          1,
          2,
          3,
          4
         ],
         "title": {
          "text": "Geometries"
         }
        },
        "yaxis": {
         "title": {
          "text": "Qdot (W/m²)"
         }
        }
       }
      }
     },
     "metadata": {},
     "output_type": "display_data"
    },
    {
     "data": {
      "application/vnd.plotly.v1+json": {
       "config": {
        "plotlyServerURL": "https://plot.ly"
       },
       "data": [
        {
         "marker": {
          "color": "blue"
         },
         "name": "Qdot_top_conv",
         "type": "bar",
         "width": 0.2,
         "x": [
          -0.4,
          0.6,
          1.6,
          2.6,
          3.6,
          4.6,
          5.6
         ],
         "y": [
          -60.93541182165368,
          -68.26546551269512,
          -65.74722358009564,
          -65.99702942282042,
          -64.4468943305567,
          -67.57958533366025,
          -64.97267368646101
         ]
        },
        {
         "marker": {
          "color": "orange"
         },
         "name": "Qdot_top_rad",
         "type": "bar",
         "width": 0.2,
         "x": [
          -0.2,
          0.8,
          1.8,
          2.8,
          3.8,
          4.8,
          5.8
         ],
         "y": [
          -72.14574750172171,
          -60.43928105760867,
          -70.36754506232646,
          -70.35200677537988,
          -70.36180596552786,
          -73.51062767060503,
          -74.79503822976213
         ]
        },
        {
         "marker": {
          "color": "green"
         },
         "name": "Qdot_PV_sky",
         "type": "bar",
         "width": 0.2,
         "x": [
          0,
          1,
          2,
          3,
          4,
          5,
          6
         ],
         "y": [
          -23.794994705620983,
          -24.043887862286482,
          -24.068983082288437,
          -24.086864765311027,
          -24.155058232004563,
          -23.82151488852858,
          -23.86460338077894
         ]
        },
        {
         "marker": {
          "color": "red"
         },
         "name": "Qdot_tube_back_conv",
         "type": "bar",
         "width": 0.2,
         "x": [
          0.2,
          1.2,
          2.2,
          3.2,
          4.2,
          5.2,
          6.2
         ],
         "y": [
          -21.910819177653213,
          -23.10948614838077,
          -14.964360990799262,
          -14.538265393058236,
          -13.666369380513519,
          -15.137773426478551,
          -14.501336836928967
         ]
        },
        {
         "marker": {
          "color": "purple"
         },
         "name": "Qdot_tube_back_rad",
         "type": "bar",
         "width": 0.2,
         "x": [
          0.4,
          1.4,
          2.4,
          3.4,
          4.4,
          5.4,
          6.4
         ],
         "y": [
          -25.941769829561007,
          -20.460136291887675,
          -16.015966743693415,
          -15.497608822391056,
          -14.920663603629958,
          -16.466322198067456,
          -16.69360334984605
         ]
        }
       ],
       "layout": {
        "barmode": "group",
        "template": {
         "data": {
          "bar": [
           {
            "error_x": {
             "color": "#2a3f5f"
            },
            "error_y": {
             "color": "#2a3f5f"
            },
            "marker": {
             "line": {
              "color": "#E5ECF6",
              "width": 0.5
             },
             "pattern": {
              "fillmode": "overlay",
              "size": 10,
              "solidity": 0.2
             }
            },
            "type": "bar"
           }
          ],
          "barpolar": [
           {
            "marker": {
             "line": {
              "color": "#E5ECF6",
              "width": 0.5
             },
             "pattern": {
              "fillmode": "overlay",
              "size": 10,
              "solidity": 0.2
             }
            },
            "type": "barpolar"
           }
          ],
          "carpet": [
           {
            "aaxis": {
             "endlinecolor": "#2a3f5f",
             "gridcolor": "white",
             "linecolor": "white",
             "minorgridcolor": "white",
             "startlinecolor": "#2a3f5f"
            },
            "baxis": {
             "endlinecolor": "#2a3f5f",
             "gridcolor": "white",
             "linecolor": "white",
             "minorgridcolor": "white",
             "startlinecolor": "#2a3f5f"
            },
            "type": "carpet"
           }
          ],
          "choropleth": [
           {
            "colorbar": {
             "outlinewidth": 0,
             "ticks": ""
            },
            "type": "choropleth"
           }
          ],
          "contour": [
           {
            "colorbar": {
             "outlinewidth": 0,
             "ticks": ""
            },
            "colorscale": [
             [
              0,
              "#0d0887"
             ],
             [
              0.1111111111111111,
              "#46039f"
             ],
             [
              0.2222222222222222,
              "#7201a8"
             ],
             [
              0.3333333333333333,
              "#9c179e"
             ],
             [
              0.4444444444444444,
              "#bd3786"
             ],
             [
              0.5555555555555556,
              "#d8576b"
             ],
             [
              0.6666666666666666,
              "#ed7953"
             ],
             [
              0.7777777777777778,
              "#fb9f3a"
             ],
             [
              0.8888888888888888,
              "#fdca26"
             ],
             [
              1,
              "#f0f921"
             ]
            ],
            "type": "contour"
           }
          ],
          "contourcarpet": [
           {
            "colorbar": {
             "outlinewidth": 0,
             "ticks": ""
            },
            "type": "contourcarpet"
           }
          ],
          "heatmap": [
           {
            "colorbar": {
             "outlinewidth": 0,
             "ticks": ""
            },
            "colorscale": [
             [
              0,
              "#0d0887"
             ],
             [
              0.1111111111111111,
              "#46039f"
             ],
             [
              0.2222222222222222,
              "#7201a8"
             ],
             [
              0.3333333333333333,
              "#9c179e"
             ],
             [
              0.4444444444444444,
              "#bd3786"
             ],
             [
              0.5555555555555556,
              "#d8576b"
             ],
             [
              0.6666666666666666,
              "#ed7953"
             ],
             [
              0.7777777777777778,
              "#fb9f3a"
             ],
             [
              0.8888888888888888,
              "#fdca26"
             ],
             [
              1,
              "#f0f921"
             ]
            ],
            "type": "heatmap"
           }
          ],
          "heatmapgl": [
           {
            "colorbar": {
             "outlinewidth": 0,
             "ticks": ""
            },
            "colorscale": [
             [
              0,
              "#0d0887"
             ],
             [
              0.1111111111111111,
              "#46039f"
             ],
             [
              0.2222222222222222,
              "#7201a8"
             ],
             [
              0.3333333333333333,
              "#9c179e"
             ],
             [
              0.4444444444444444,
              "#bd3786"
             ],
             [
              0.5555555555555556,
              "#d8576b"
             ],
             [
              0.6666666666666666,
              "#ed7953"
             ],
             [
              0.7777777777777778,
              "#fb9f3a"
             ],
             [
              0.8888888888888888,
              "#fdca26"
             ],
             [
              1,
              "#f0f921"
             ]
            ],
            "type": "heatmapgl"
           }
          ],
          "histogram": [
           {
            "marker": {
             "pattern": {
              "fillmode": "overlay",
              "size": 10,
              "solidity": 0.2
             }
            },
            "type": "histogram"
           }
          ],
          "histogram2d": [
           {
            "colorbar": {
             "outlinewidth": 0,
             "ticks": ""
            },
            "colorscale": [
             [
              0,
              "#0d0887"
             ],
             [
              0.1111111111111111,
              "#46039f"
             ],
             [
              0.2222222222222222,
              "#7201a8"
             ],
             [
              0.3333333333333333,
              "#9c179e"
             ],
             [
              0.4444444444444444,
              "#bd3786"
             ],
             [
              0.5555555555555556,
              "#d8576b"
             ],
             [
              0.6666666666666666,
              "#ed7953"
             ],
             [
              0.7777777777777778,
              "#fb9f3a"
             ],
             [
              0.8888888888888888,
              "#fdca26"
             ],
             [
              1,
              "#f0f921"
             ]
            ],
            "type": "histogram2d"
           }
          ],
          "histogram2dcontour": [
           {
            "colorbar": {
             "outlinewidth": 0,
             "ticks": ""
            },
            "colorscale": [
             [
              0,
              "#0d0887"
             ],
             [
              0.1111111111111111,
              "#46039f"
             ],
             [
              0.2222222222222222,
              "#7201a8"
             ],
             [
              0.3333333333333333,
              "#9c179e"
             ],
             [
              0.4444444444444444,
              "#bd3786"
             ],
             [
              0.5555555555555556,
              "#d8576b"
             ],
             [
              0.6666666666666666,
              "#ed7953"
             ],
             [
              0.7777777777777778,
              "#fb9f3a"
             ],
             [
              0.8888888888888888,
              "#fdca26"
             ],
             [
              1,
              "#f0f921"
             ]
            ],
            "type": "histogram2dcontour"
           }
          ],
          "mesh3d": [
           {
            "colorbar": {
             "outlinewidth": 0,
             "ticks": ""
            },
            "type": "mesh3d"
           }
          ],
          "parcoords": [
           {
            "line": {
             "colorbar": {
              "outlinewidth": 0,
              "ticks": ""
             }
            },
            "type": "parcoords"
           }
          ],
          "pie": [
           {
            "automargin": true,
            "type": "pie"
           }
          ],
          "scatter": [
           {
            "fillpattern": {
             "fillmode": "overlay",
             "size": 10,
             "solidity": 0.2
            },
            "type": "scatter"
           }
          ],
          "scatter3d": [
           {
            "line": {
             "colorbar": {
              "outlinewidth": 0,
              "ticks": ""
             }
            },
            "marker": {
             "colorbar": {
              "outlinewidth": 0,
              "ticks": ""
             }
            },
            "type": "scatter3d"
           }
          ],
          "scattercarpet": [
           {
            "marker": {
             "colorbar": {
              "outlinewidth": 0,
              "ticks": ""
             }
            },
            "type": "scattercarpet"
           }
          ],
          "scattergeo": [
           {
            "marker": {
             "colorbar": {
              "outlinewidth": 0,
              "ticks": ""
             }
            },
            "type": "scattergeo"
           }
          ],
          "scattergl": [
           {
            "marker": {
             "colorbar": {
              "outlinewidth": 0,
              "ticks": ""
             }
            },
            "type": "scattergl"
           }
          ],
          "scattermapbox": [
           {
            "marker": {
             "colorbar": {
              "outlinewidth": 0,
              "ticks": ""
             }
            },
            "type": "scattermapbox"
           }
          ],
          "scatterpolar": [
           {
            "marker": {
             "colorbar": {
              "outlinewidth": 0,
              "ticks": ""
             }
            },
            "type": "scatterpolar"
           }
          ],
          "scatterpolargl": [
           {
            "marker": {
             "colorbar": {
              "outlinewidth": 0,
              "ticks": ""
             }
            },
            "type": "scatterpolargl"
           }
          ],
          "scatterternary": [
           {
            "marker": {
             "colorbar": {
              "outlinewidth": 0,
              "ticks": ""
             }
            },
            "type": "scatterternary"
           }
          ],
          "surface": [
           {
            "colorbar": {
             "outlinewidth": 0,
             "ticks": ""
            },
            "colorscale": [
             [
              0,
              "#0d0887"
             ],
             [
              0.1111111111111111,
              "#46039f"
             ],
             [
              0.2222222222222222,
              "#7201a8"
             ],
             [
              0.3333333333333333,
              "#9c179e"
             ],
             [
              0.4444444444444444,
              "#bd3786"
             ],
             [
              0.5555555555555556,
              "#d8576b"
             ],
             [
              0.6666666666666666,
              "#ed7953"
             ],
             [
              0.7777777777777778,
              "#fb9f3a"
             ],
             [
              0.8888888888888888,
              "#fdca26"
             ],
             [
              1,
              "#f0f921"
             ]
            ],
            "type": "surface"
           }
          ],
          "table": [
           {
            "cells": {
             "fill": {
              "color": "#EBF0F8"
             },
             "line": {
              "color": "white"
             }
            },
            "header": {
             "fill": {
              "color": "#C8D4E3"
             },
             "line": {
              "color": "white"
             }
            },
            "type": "table"
           }
          ]
         },
         "layout": {
          "annotationdefaults": {
           "arrowcolor": "#2a3f5f",
           "arrowhead": 0,
           "arrowwidth": 1
          },
          "autotypenumbers": "strict",
          "coloraxis": {
           "colorbar": {
            "outlinewidth": 0,
            "ticks": ""
           }
          },
          "colorscale": {
           "diverging": [
            [
             0,
             "#8e0152"
            ],
            [
             0.1,
             "#c51b7d"
            ],
            [
             0.2,
             "#de77ae"
            ],
            [
             0.3,
             "#f1b6da"
            ],
            [
             0.4,
             "#fde0ef"
            ],
            [
             0.5,
             "#f7f7f7"
            ],
            [
             0.6,
             "#e6f5d0"
            ],
            [
             0.7,
             "#b8e186"
            ],
            [
             0.8,
             "#7fbc41"
            ],
            [
             0.9,
             "#4d9221"
            ],
            [
             1,
             "#276419"
            ]
           ],
           "sequential": [
            [
             0,
             "#0d0887"
            ],
            [
             0.1111111111111111,
             "#46039f"
            ],
            [
             0.2222222222222222,
             "#7201a8"
            ],
            [
             0.3333333333333333,
             "#9c179e"
            ],
            [
             0.4444444444444444,
             "#bd3786"
            ],
            [
             0.5555555555555556,
             "#d8576b"
            ],
            [
             0.6666666666666666,
             "#ed7953"
            ],
            [
             0.7777777777777778,
             "#fb9f3a"
            ],
            [
             0.8888888888888888,
             "#fdca26"
            ],
            [
             1,
             "#f0f921"
            ]
           ],
           "sequentialminus": [
            [
             0,
             "#0d0887"
            ],
            [
             0.1111111111111111,
             "#46039f"
            ],
            [
             0.2222222222222222,
             "#7201a8"
            ],
            [
             0.3333333333333333,
             "#9c179e"
            ],
            [
             0.4444444444444444,
             "#bd3786"
            ],
            [
             0.5555555555555556,
             "#d8576b"
            ],
            [
             0.6666666666666666,
             "#ed7953"
            ],
            [
             0.7777777777777778,
             "#fb9f3a"
            ],
            [
             0.8888888888888888,
             "#fdca26"
            ],
            [
             1,
             "#f0f921"
            ]
           ]
          },
          "colorway": [
           "#636efa",
           "#EF553B",
           "#00cc96",
           "#ab63fa",
           "#FFA15A",
           "#19d3f3",
           "#FF6692",
           "#B6E880",
           "#FF97FF",
           "#FECB52"
          ],
          "font": {
           "color": "#2a3f5f"
          },
          "geo": {
           "bgcolor": "white",
           "lakecolor": "white",
           "landcolor": "#E5ECF6",
           "showlakes": true,
           "showland": true,
           "subunitcolor": "white"
          },
          "hoverlabel": {
           "align": "left"
          },
          "hovermode": "closest",
          "mapbox": {
           "style": "light"
          },
          "paper_bgcolor": "white",
          "plot_bgcolor": "#E5ECF6",
          "polar": {
           "angularaxis": {
            "gridcolor": "white",
            "linecolor": "white",
            "ticks": ""
           },
           "bgcolor": "#E5ECF6",
           "radialaxis": {
            "gridcolor": "white",
            "linecolor": "white",
            "ticks": ""
           }
          },
          "scene": {
           "xaxis": {
            "backgroundcolor": "#E5ECF6",
            "gridcolor": "white",
            "gridwidth": 2,
            "linecolor": "white",
            "showbackground": true,
            "ticks": "",
            "zerolinecolor": "white"
           },
           "yaxis": {
            "backgroundcolor": "#E5ECF6",
            "gridcolor": "white",
            "gridwidth": 2,
            "linecolor": "white",
            "showbackground": true,
            "ticks": "",
            "zerolinecolor": "white"
           },
           "zaxis": {
            "backgroundcolor": "#E5ECF6",
            "gridcolor": "white",
            "gridwidth": 2,
            "linecolor": "white",
            "showbackground": true,
            "ticks": "",
            "zerolinecolor": "white"
           }
          },
          "shapedefaults": {
           "line": {
            "color": "#2a3f5f"
           }
          },
          "ternary": {
           "aaxis": {
            "gridcolor": "white",
            "linecolor": "white",
            "ticks": ""
           },
           "baxis": {
            "gridcolor": "white",
            "linecolor": "white",
            "ticks": ""
           },
           "bgcolor": "#E5ECF6",
           "caxis": {
            "gridcolor": "white",
            "linecolor": "white",
            "ticks": ""
           }
          },
          "title": {
           "x": 0.05
          },
          "xaxis": {
           "automargin": true,
           "gridcolor": "white",
           "linecolor": "white",
           "ticks": "",
           "title": {
            "standoff": 15
           },
           "zerolinecolor": "white",
           "zerolinewidth": 2
          },
          "yaxis": {
           "automargin": true,
           "gridcolor": "white",
           "linecolor": "white",
           "ticks": "",
           "title": {
            "standoff": 15
           },
           "zerolinecolor": "white",
           "zerolinewidth": 2
          }
         }
        },
        "title": {
         "text": "Case 2 - Geom 3"
        },
        "xaxis": {
         "tickangle": 45,
         "ticktext": [
          "NI_r60",
          "NI_wHB_r60",
          "F2014_wHB_r60",
          "F2020_wHB_r60",
          "F5020_wHB_r60",
          "F5030_wHB_r60",
          "F5040_wHB_r60"
         ],
         "tickvals": [
          0,
          1,
          2,
          3,
          4
         ],
         "title": {
          "text": "Geometries"
         }
        },
        "yaxis": {
         "title": {
          "text": "Qdot (W/m²)"
         }
        }
       }
      }
     },
     "metadata": {},
     "output_type": "display_data"
    }
   ],
   "source": [
    "## Plotting the values of Qdot for each case and each geometry\n",
    "\n",
    "for case in range(3):\n",
    "    print(f'Case {case}')\n",
    "    for i in range(0, 3):\n",
    "        Qdot_values = {\n",
    "            'Qdot_top_conv': Qdot_top_conv_geom_mesh_case_list[i][case],\n",
    "            'Qdot_top_rad': Qdot_top_rad_geom_mesh_case_list[i][case],\n",
    "            'Qdot_PV_sky': Qdot_PV_sky_geom_mesh_case_list[i][case],\n",
    "            'Qdot_tube_back_conv': Qdot_tube_back_conv_geom_mesh_case_list[i][case],\n",
    "            'Qdot_tube_back_rad': Qdot_tube_back_rad_geom_mesh_case_list[i][case]\n",
    "        }\n",
    "        \n",
    "        bar_colors = ['blue', 'orange', 'green', 'red', 'purple']\n",
    "        bar_width = 0.2  # Largeur des barres\n",
    "        num_bars = len(Qdot_values)\n",
    "        \n",
    "        fig = go.Figure()\n",
    "        \n",
    "        for idx, (key, values) in enumerate(Qdot_values.items()):\n",
    "            bar_positions = [x + (idx - (num_bars - 1) / 2) * bar_width for x in range(len(values))]\n",
    "            \n",
    "            fig.add_trace(go.Bar(\n",
    "                x=bar_positions,\n",
    "                y=values,\n",
    "                name=key,\n",
    "                marker_color=bar_colors[idx % len(bar_colors)],\n",
    "                width=bar_width\n",
    "            ))\n",
    "        \n",
    "        fig.update_layout(\n",
    "            title='Case ' + str(case) + ' - Geom ' + str(i+1),\n",
    "            xaxis_title='Geometries',\n",
    "            yaxis_title='Qdot (W/m²)',\n",
    "            xaxis=dict(\n",
    "                tickvals=list(range(len(Qdot_values))),\n",
    "                ticktext=names,  # Assure-toi que 'names' est défini ailleurs dans ton code\n",
    "                tickangle=45\n",
    "            ),\n",
    "            barmode='group'\n",
    "        )\n",
    "        \n",
    "        fig.show()\n"
   ]
  }
 ],
 "metadata": {
  "kernelspec": {
   "display_name": "venv",
   "language": "python",
   "name": "python3"
  },
  "language_info": {
   "codemirror_mode": {
    "name": "ipython",
    "version": 3
   },
   "file_extension": ".py",
   "mimetype": "text/x-python",
   "name": "python",
   "nbconvert_exporter": "python",
   "pygments_lexer": "ipython3",
   "version": "3.11.6"
  }
 },
 "nbformat": 4,
 "nbformat_minor": 2
}
