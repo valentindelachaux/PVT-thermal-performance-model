{
 "cells": [
  {
   "cell_type": "code",
   "execution_count": null,
   "metadata": {},
   "outputs": [],
   "source": [
    "## IMPORTS\n",
    "\n",
    "import os\n",
    "import sys\n",
    "import re\n",
    "import time\n",
    "import math\n",
    "from datetime import datetime\n",
    "from io import StringIO\n",
    "\n",
    "\n",
    "import numpy as np\n",
    "import pandas as pd\n",
    "import matplotlib.pyplot as plt\n",
    "import plotly.graph_objects as go\n",
    "import plotly.express as px\n",
    "from numpy.polynomial.polynomial import Polynomial\n",
    "import scipy.integrate as integrate\n",
    "import scipy.optimize as sco\n",
    "from scipy.optimize import minimize\n",
    "from sklearn.metrics import mean_squared_error\n",
    "import openpyxl\n",
    "import networkx as nx\n",
    "import sklearn.metrics\n",
    "from IPython.core.display import HTML\n",
    "import plotly.io as pio\n",
    "from openpyxl.utils.dataframe import dataframe_to_rows\n",
    "import openpyxl as opxl\n",
    "import matplotlib.ticker as mtick\n",
    "from matplotlib.cm import get_cmap\n",
    "import time\n",
    "\n",
    "\n",
    "sys.path.append(r'D:\\seagu_OneDrive\\Documents\\GitHub\\parallel-flow-distribution-pressure-loss\\ansys')\n",
    "sys.path.append(r'D:\\seagu_OneDrive\\Documents\\GitHub\\PVT-thermal-performance-model')\n",
    "import jou_gen as jg\n",
    "import ansys_py_bridge as apb\n",
    "import ansys.fluent.core as pyfluent\n",
    "import plot_bridge as pb\n",
    "import model as ty\n",
    "import proc as pr\n",
    "import plot_functions_here as pfun\n",
    "import heat_transfer as bht\n",
    "import fluids as fds\n",
    "import ht\n",
    "import general as gen"
   ]
  },
  {
   "cell_type": "code",
   "execution_count": null,
   "metadata": {},
   "outputs": [],
   "source": [
    "folder_path = r'D:\\ANSYS Fluent Projects\\pvt_slice_outdoor\\Fluent_GMI\\tests'\n",
    "hypotheses_path = folder_path + '\\\\' + 'Model_hypotheses.xlsx'\n",
    "condi_path = folder_path + '\\\\' + 'test-Conditions-AR.xlsx'\n",
    "geometry_path = folder_path + '\\\\' + 'Inputs_TEST_V4.5_GG.xlsx'\n",
    "plot_path = folder_path + '\\\\' + 'Plot_hyp.xlsx'\n",
    "\n",
    "hyp = pr.create_dict_from_excel(hypotheses_path,'Main')\n",
    "steadyStateConditions_df = pd.read_excel(condi_path,header=2) ## Les deux première lignes ne sont pas à prendre\n",
    "stepConditions = steadyStateConditions_df.to_dict(orient='records')\n",
    "panelSpecs = pr.import_geometry(geometry_path)\n",
    "\n",
    "plot_hyp = pr.create_dict_from_excel(plot_path,'Main')"
   ]
  },
  {
   "cell_type": "code",
   "execution_count": null,
   "metadata": {},
   "outputs": [],
   "source": [
    "plot_hyp['method'] = 'case'\n",
    "plot_hyp['no_case'] = 7\n",
    "plot_hyp['no_mesh'] = 0\n",
    "plot_hyp['nb_it']=7\n",
    "plot_hyp"
   ]
  },
  {
   "cell_type": "code",
   "execution_count": null,
   "metadata": {},
   "outputs": [],
   "source": [
    "ht_tot_mesh_case_list, ht_rad_mesh_case_list, ht_conv_mesh_case_list, CFD_mesh_case_list, df_one_mesh_case_list, slices_df_mesh_case_list, PyFluent_mesh_case_list = pb.get_data(plot_hyp, panelSpecs, hyp, stepConditions)"
   ]
  },
  {
   "cell_type": "code",
   "execution_count": null,
   "metadata": {},
   "outputs": [],
   "source": [
    "ht_tot_mesh_case_list[6]"
   ]
  },
  {
   "cell_type": "code",
   "execution_count": null,
   "metadata": {},
   "outputs": [],
   "source": [
    "no_mesh = plot_hyp['no_mesh']\n",
    "no_case = plot_hyp['no_case']\n",
    "tot_ratio = ht_tot_mesh_case_list[0][ht_tot_mesh_case_list[0]['Component'].isin(['pv_front']) ]['ht'].values[0]\n",
    "source_ratio = ht_tot_mesh_case_list[0][ht_tot_mesh_case_list[0]['Component'].isin(['User Energy Source']) ]['ht'].values[0]\n",
    "rad_ratio = ht_rad_mesh_case_list[0][ht_rad_mesh_case_list[0]['Component'].isin(['pv_front']) ]['rad_ht'].values[0]\n",
    "conv_ratio = ht_conv_mesh_case_list[0][ht_conv_mesh_case_list[0]['Component'].isin(['pv_front']) ]['conv_ht'].values[0]\n",
    "ratio_rad = rad_ratio/(tot_ratio-source_ratio)\n",
    "ratio_conv = conv_ratio/(tot_ratio-source_ratio)\n",
    "ratio_source = -source_ratio/(tot_ratio-source_ratio)\n",
    "print(ratio_rad+ ratio_conv+ ratio_source)"
   ]
  },
  {
   "cell_type": "code",
   "execution_count": null,
   "metadata": {},
   "outputs": [],
   "source": [
    "Qdot_tube_fluid, Qdot_top, Qdot_top_rad, Qdot_tube_back, Qdot_PV_sky = pb.calculate_Qdot(plot_hyp, panelSpecs, hyp, stepConditions, mesh = 0, case = 0, iteration = 0)"
   ]
  },
  {
   "cell_type": "code",
   "execution_count": null,
   "metadata": {},
   "outputs": [],
   "source": [
    "pb.plot_CFD_last_it('Qdot_top_conv', plot_hyp, panelSpecs, hyp, stepConditions)"
   ]
  },
  {
   "cell_type": "code",
   "execution_count": null,
   "metadata": {},
   "outputs": [],
   "source": [
    "pb.plot_1D_last_it('Qdot_PV_sky', plot_hyp, panelSpecs, hyp, stepConditions)"
   ]
  },
  {
   "cell_type": "code",
   "execution_count": null,
   "metadata": {},
   "outputs": [],
   "source": [
    "plot_hyp['method'] = 'ref'\n",
    "pb.plot_big_it('Qdot_tube_fluid', plot_hyp, panelSpecs, hyp, stepConditions) \n",
    "## PV_sky mal implémenté \n",
    "## Qdot_top_rad revoir comment le faire"
   ]
  },
  {
   "cell_type": "code",
   "execution_count": null,
   "metadata": {},
   "outputs": [],
   "source": [
    "plot_hyp['method'] = 'case'\n",
    "plot_hyp['no_case'] = 7\n",
    "plot_hyp['no_mesh'] = 0\n",
    "pb.plot_big_it('Qdot_top_rad', plot_hyp, panelSpecs, hyp, stepConditions) \n",
    "## PV_sky mal implémenté \n",
    "## Qdot_top_rad revoir comment le faire"
   ]
  },
  {
   "cell_type": "code",
   "execution_count": null,
   "metadata": {},
   "outputs": [],
   "source": [
    "plot_hyp['method'] = 'ref'\n",
    "ht_tot_AR_list, ht_rad_AR_list, ht_conv_AR_list, CFD_AR_list, df_one_AR_list, slices_df_AR_list, PyFluent_AR_list, ht_tot_uniform, ht_rad_uniform, ht_conv_uniform, CFD_uniform, df_one_uniform, slices_df_uniform, df_PyFluent_uniform, df_one_1D, slices_df_1D, df_PyFluent_1D = pb.get_data(plot_hyp, panelSpecs, hyp, stepConditions)\n"
   ]
  },
  {
   "cell_type": "code",
   "execution_count": null,
   "metadata": {},
   "outputs": [],
   "source": [
    "pb.plot_profile_temp(plot_hyp, panelSpecs, hyp, stepConditions)"
   ]
  },
  {
   "cell_type": "code",
   "execution_count": null,
   "metadata": {},
   "outputs": [],
   "source": [
    "plot_hyp"
   ]
  },
  {
   "cell_type": "code",
   "execution_count": null,
   "metadata": {},
   "outputs": [],
   "source": [
    "plot_hyp['method'] = 'mesh'\n",
    "plot_hyp['nb_cases'] = 5\n",
    "plot_hyp['nb_mesh'] = 1\n",
    "plot_hyp['nb_it'] = 7\n",
    "plot_hyp['folder_mesh'] = 'Simu_M'\n",
    "plot_hyp['folder_name'] = 'cas_'\n",
    "plot_hyp['new_save'] = True\n",
    "pb.plot_1D_DeltaT_tot('Qdot_tube_fluid', plot_hyp, panelSpecs, hyp, stepConditions)\n",
    "# pb.plot_1D_DeltaT_part('Qdot_tube_fluid', plot_hyp, panelSpecs, hyp, stepConditions)\n",
    "## Fonctionne pas trop "
   ]
  },
  {
   "cell_type": "code",
   "execution_count": null,
   "metadata": {},
   "outputs": [],
   "source": [
    "plot_hyp['method'] = 'mesh'\n",
    "plot_hyp['nb_cases'] = 5\n",
    "plot_hyp['nb_mesh'] = 1\n",
    "plot_hyp['nb_it'] = 1\n",
    "plot_hyp['folder_mesh'] = 'Simu_1D_'\n",
    "plot_hyp['folder_name'] = 'cas_'\n",
    "plot_hyp['new_save'] = False\n",
    "pb.plot_1D_DeltaT_tot('Qdot_tube_fluid', plot_hyp, panelSpecs, hyp, stepConditions)\n",
    "# ht_tot_mesh_case_list, ht_rad_mesh_case_list, ht_conv_mesh_case_list, CFD_mesh_case_list, df_one_mesh_case_list, slices_df_mesh_case_list, PyFluent_mesh_case_list = pb.get_data(plot_hyp, panelSpecs, hyp, stepConditions)\n",
    "# df_one_mesh_case_list[0][0][0]"
   ]
  },
  {
   "cell_type": "code",
   "execution_count": null,
   "metadata": {},
   "outputs": [],
   "source": [
    "plot_hyp['method'] = 'mesh'\n",
    "plot_hyp['nb_cases'] = 3\n",
    "plot_hyp['nb_mesh'] = 1\n",
    "plot_hyp['nb_it'] = 1\n",
    "plot_hyp['folder_mesh'] = 'Simu_uniform'\n",
    "plot_hyp['folder_name'] = 'cas_M'\n",
    "plot_hyp['new_save'] = False\n",
    "pb.plot_CFD_last_it('Qdot_top_conv', plot_hyp, panelSpecs, hyp, stepConditions)"
   ]
  },
  {
   "cell_type": "code",
   "execution_count": null,
   "metadata": {},
   "outputs": [],
   "source": [
    "file_name = 'residuals_cas_ref_CFD_uniform.txt'\n",
    "file_path_base = r'D:\\ANSYS Fluent Projects\\pvt_slice_outdoor\\Fluent_GMI\\tests\\cas_M3'\n",
    "file_path = os.path.join(file_path_base, file_name)\n",
    "residuals = pb.extract_residuals(file_path)\n",
    "pd.DataFrame(residuals[0]).plot()"
   ]
  },
  {
   "cell_type": "code",
   "execution_count": null,
   "metadata": {},
   "outputs": [],
   "source": [
    "file_name = 'residuals_cas_ref_CFD_uniform.txt'\n",
    "file_path_M0 = r'D:\\ANSYS Fluent Projects\\pvt_slice_outdoor\\Fluent_GMI\\tests\\Simu_uniform1\\cas_M0'\n",
    "file_path_M1 = r'D:\\ANSYS Fluent Projects\\pvt_slice_outdoor\\Fluent_GMI\\tests\\Simu_uniform1\\cas_M1'\n",
    "file_path_M2 = r'D:\\ANSYS Fluent Projects\\pvt_slice_outdoor\\Fluent_GMI\\tests\\Simu_uniform1\\cas_M2'\n",
    "os.path.join(file_path_M0, file_name)\n",
    "residualsM0 = pb.extract_residuals(os.path.join(file_path_M0, file_name))\n",
    "residualsM1 = pb.extract_residuals(os.path.join(file_path_M1, file_name))\n",
    "residualsM2 = pb.extract_residuals(os.path.join(file_path_M2, file_name))\n",
    "residuals = []\n",
    "for i in range(5): \n",
    "    residuals.append(pd.concat([residualsM0[i], residualsM1[i], residualsM2[i]], axis=1))\n",
    "    pd.DataFrame(residuals[i]).plot()"
   ]
  },
  {
   "cell_type": "code",
   "execution_count": null,
   "metadata": {},
   "outputs": [],
   "source": [
    "    fig = go.Figure()\n",
    "    \n",
    "    for column in df.columns:\n",
    "        fig.add_trace(go.Scatter(x=df.index, y=df[column], mode='lines', name=column))\n",
    "    \n",
    "    fig.update_layout(title='Graph of Residuals',\n",
    "                      xaxis_title='Iteration',\n",
    "                      yaxis_title='Value',\n",
    "                      yaxis_type='log',  # Set the y-axis to logarithmic scale\n",
    "                      legend_title='Residuals',\n",
    "                      template='plotly_dark')\n",
    "    \n",
    "    fig.show()"
   ]
  }
 ],
 "metadata": {
  "kernelspec": {
   "display_name": "venv",
   "language": "python",
   "name": "python3"
  },
  "language_info": {
   "codemirror_mode": {
    "name": "ipython",
    "version": 3
   },
   "file_extension": ".py",
   "mimetype": "text/x-python",
   "name": "python",
   "nbconvert_exporter": "python",
   "pygments_lexer": "ipython3",
   "version": "3.11.6"
  }
 },
 "nbformat": 4,
 "nbformat_minor": 2
}
