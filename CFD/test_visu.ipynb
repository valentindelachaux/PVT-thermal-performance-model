{
 "cells": [
  {
   "cell_type": "code",
   "execution_count": 1,
   "metadata": {},
   "outputs": [],
   "source": [
    "## IMPORTS\n",
    "\n",
    "import os\n",
    "import sys\n",
    "import re\n",
    "import time\n",
    "import math\n",
    "from datetime import datetime\n",
    "from io import StringIO\n",
    "\n",
    "\n",
    "import numpy as np\n",
    "import pandas as pd\n",
    "import matplotlib.pyplot as plt\n",
    "import plotly.graph_objects as go\n",
    "import plotly.express as px\n",
    "from numpy.polynomial.polynomial import Polynomial\n",
    "import scipy.integrate as integrate\n",
    "import scipy.optimize as sco\n",
    "from scipy.optimize import minimize\n",
    "from sklearn.metrics import mean_squared_error\n",
    "import openpyxl\n",
    "import networkx as nx\n",
    "import sklearn.metrics\n",
    "from IPython.core.display import HTML\n",
    "import plotly.io as pio\n",
    "from openpyxl.utils.dataframe import dataframe_to_rows\n",
    "import openpyxl as opxl\n",
    "import matplotlib.ticker as mtick\n",
    "from matplotlib.cm import get_cmap\n",
    "import time\n",
    "\n",
    "\n",
    "sys.path.append(r'D:\\seagu_OneDrive\\Documents\\GitHub\\parallel-flow-distribution-pressure-loss\\ansys')\n",
    "sys.path.append(r'D:\\seagu_OneDrive\\Documents\\GitHub\\PVT-thermal-performance-model')\n",
    "import jou_gen as jg\n",
    "import ansys_py_bridge as apb\n",
    "import ansys.fluent.core as pyfluent\n",
    "import plot_bridge as pb\n",
    "import model as ty\n",
    "import proc as pr\n",
    "import plot_functions_here as pfun\n",
    "import heat_transfer as bht\n",
    "import fluids as fds\n",
    "import ht\n",
    "import general as gen\n",
    "folder_path = r'D:\\ANSYS Fluent Projects\\pvt_slice_outdoor\\Fluent_GMI\\tests'\n",
    "hypotheses_path = folder_path + '\\\\' + 'Model_hypotheses.xlsx'\n",
    "condi_path = folder_path + '\\\\' + 'test-Conditions-AR.xlsx'\n",
    "geometry_path = folder_path + '\\\\' + 'Inputs_TEST_V4.5_GG.xlsx'\n",
    "plot_path = folder_path + '\\\\' + 'Plot_hyp.xlsx'\n",
    "\n",
    "hyp = pr.create_dict_from_excel(hypotheses_path,'Main')\n",
    "steadyStateConditions_df = pd.read_excel(condi_path,header=2) ## Les deux première lignes ne sont pas à prendre\n",
    "stepConditions = steadyStateConditions_df.to_dict(orient='records')\n",
    "panelSpecs = pr.import_geometry(geometry_path)\n",
    "\n",
    "plot_hyp = pr.create_dict_from_excel(plot_path,'Main')"
   ]
  },
  {
   "cell_type": "code",
   "execution_count": null,
   "metadata": {},
   "outputs": [],
   "source": [
    "plot_hyp['method'] = 'case'\n",
    "plot_hyp['no_case'] = 7\n",
    "plot_hyp['no_mesh'] = 0\n",
    "plot_hyp['nb_it']=7\n",
    "plot_hyp"
   ]
  },
  {
   "cell_type": "code",
   "execution_count": null,
   "metadata": {},
   "outputs": [],
   "source": [
    "# 'mesh' ou 'case'\n",
    "ht_tot_mesh_case_list, ht_rad_mesh_case_list, ht_conv_mesh_case_list, CFD_mesh_case_list, df_one_mesh_case_list, slices_df_mesh_case_list, PyFluent_mesh_case_list = pb.get_data(plot_hyp, panelSpecs, hyp, stepConditions)"
   ]
  },
  {
   "cell_type": "code",
   "execution_count": null,
   "metadata": {},
   "outputs": [],
   "source": [
    "# Cas 'mesh' ou 'case'\n",
    "Qdot_tube_fluid, Qdot_top, Qdot_top_rad, Qdot_tube_back, Qdot_PV_sky = pb.calculate_Qdot(plot_hyp, panelSpecs, hyp, stepConditions, mesh = 0, case = 0, iteration = 0)"
   ]
  },
  {
   "cell_type": "code",
   "execution_count": null,
   "metadata": {},
   "outputs": [],
   "source": [
    "# Cas 'ref\n",
    "plot_hyp['method'] = 'ref'\n",
    "ht_tot_AR_list, ht_rad_AR_list, ht_conv_AR_list, CFD_AR_list, df_one_AR_list, slices_df_AR_list, PyFluent_AR_list, ht_tot_uniform, ht_rad_uniform, ht_conv_uniform, CFD_uniform, df_one_uniform, slices_df_uniform, df_PyFluent_uniform, df_one_1D, slices_df_1D, df_PyFluent_1D = pb.get_data(plot_hyp, panelSpecs, hyp, stepConditions)"
   ]
  },
  {
   "cell_type": "code",
   "execution_count": null,
   "metadata": {},
   "outputs": [],
   "source": [
    "Qdot = \"Qdot_tube_fluid\"\n",
    "pb.plot_CFD_last_it(Qdot, plot_hyp, panelSpecs, hyp, stepConditions)\n",
    "pb.plot_1D_last_it(Qdot, plot_hyp, panelSpecs, hyp, stepConditions)\n",
    "pb.plot_big_it(Qdot, plot_hyp, panelSpecs, hyp, stepConditions)"
   ]
  },
  {
   "cell_type": "code",
   "execution_count": null,
   "metadata": {},
   "outputs": [],
   "source": [
    "plot_hyp['method'] = 'case'\n",
    "plot_hyp['no_case'] = 7\n",
    "plot_hyp['no_mesh'] = 0\n",
    "pb.plot_big_it('Qdot_top_rad', plot_hyp, panelSpecs, hyp, stepConditions) "
   ]
  },
  {
   "cell_type": "code",
   "execution_count": null,
   "metadata": {},
   "outputs": [],
   "source": [
    "pb.plot_profile_temp(plot_hyp, panelSpecs, hyp, stepConditions)"
   ]
  },
  {
   "cell_type": "code",
   "execution_count": null,
   "metadata": {},
   "outputs": [],
   "source": [
    "plot_hyp['method'] = 'mesh'\n",
    "plot_hyp['nb_cases'] = 5\n",
    "plot_hyp['nb_mesh'] = 1\n",
    "plot_hyp['nb_it'] = 1\n",
    "plot_hyp['folder_mesh'] = 'Simu_1D_'\n",
    "plot_hyp['folder_name'] = 'cas_'\n",
    "plot_hyp['new_save'] = False\n",
    "pb.plot_1D_DeltaT_tot('Qdot_tube_fluid', plot_hyp, panelSpecs, hyp, stepConditions)\n",
    "# ht_tot_mesh_case_list, ht_rad_mesh_case_list, ht_conv_mesh_case_list, CFD_mesh_case_list, df_one_mesh_case_list, slices_df_mesh_case_list, PyFluent_mesh_case_list = pb.get_data(plot_hyp, panelSpecs, hyp, stepConditions)\n",
    "# df_one_mesh_case_list[0][0][0]"
   ]
  },
  {
   "cell_type": "code",
   "execution_count": null,
   "metadata": {},
   "outputs": [],
   "source": [
    "plot_hyp['method'] = 'case'\n",
    "plot_hyp['no_case'] = 7\n",
    "plot_hyp['no_mesh'] = 0\n",
    "plot_hyp['nb_it']=7\n",
    "plot_hyp['folder_mesh'] = 'Simu_M'\n",
    "plot_hyp['folder_name'] = 'cas_'\n",
    "plot_hyp['new_save'] = False\n",
    "pb.plot_CFD_last_it('Qdot_tube_fluid', plot_hyp, panelSpecs, hyp, stepConditions)"
   ]
  },
  {
   "cell_type": "code",
   "execution_count": null,
   "metadata": {},
   "outputs": [],
   "source": [
    "plot_hyp['method'] = 'mesh'\n",
    "plot_hyp['nb_cases'] = 3\n",
    "plot_hyp['nb_mesh'] = 4\n",
    "plot_hyp['nb_it'] = 1\n",
    "plot_hyp['folder_mesh'] = 'Simu_uniform'\n",
    "plot_hyp['folder_name'] = 'cas_M'\n",
    "plot_hyp['new_save'] = False\n",
    "nb_mesh = plot_hyp['nb_mesh']\n",
    "nb_cases = plot_hyp['nb_cases']\n",
    "\n",
    "for mesh in range(nb_mesh):\n",
    "    for case in range(nb_cases):\n",
    "        ratio_rad, ratio_conv = pb.rad_conv_ratio(plot_hyp, panelSpecs, hyp, stepConditions, mesh, case, -1)\n",
    "        print(f'ratio_rad = {ratio_rad}, ratio_conv = {ratio_conv}, Simu_uniform{mesh+1}, cas_M{case}')"
   ]
  },
  {
   "cell_type": "code",
   "execution_count": null,
   "metadata": {},
   "outputs": [],
   "source": [
    "plot_hyp['method'] = 'mesh'\n",
    "plot_hyp['nb_cases'] = 3\n",
    "plot_hyp['nb_mesh'] = 4\n",
    "plot_hyp['nb_it'] = 1\n",
    "plot_hyp['folder_mesh'] = 'Simu_uniform'\n",
    "plot_hyp['folder_name'] = 'cas_M'\n",
    "plot_hyp['new_save'] = False\n",
    "pb.plot_CFD_last_it('Qdot_PV_sky', plot_hyp, panelSpecs, hyp, stepConditions)"
   ]
  },
  {
   "cell_type": "code",
   "execution_count": null,
   "metadata": {},
   "outputs": [],
   "source": [
    "\n",
    "file_name = 'residuals_cas_ref_CFD_uniform.txt'\n",
    "residual = 0\n",
    "for j in range(3) :\n",
    "    fig, ax = plt.subplots()\n",
    "    file_path_base = r'D:\\ANSYS Fluent Projects\\pvt_slice_outdoor\\Fluent_GMI\\tests' + '\\\\' + f'Simu_uniform2\\cas_M{j}'\n",
    "    file_path = os.path.join(file_path_base, file_name)\n",
    "    residuals2 = pb.extract_residuals(file_path)\n",
    "    file_path_base = r'D:\\ANSYS Fluent Projects\\pvt_slice_outdoor\\Fluent_GMI\\tests' + '\\\\' + f'Simu_uniform3\\cas_M{j}'\n",
    "    file_path = os.path.join(file_path_base, file_name)\n",
    "    residuals3 = pb.extract_residuals(file_path)\n",
    "    file_path_base = r'D:\\ANSYS Fluent Projects\\pvt_slice_outdoor\\Fluent_GMI\\tests' + '\\\\' + f'Simu_uniform4\\cas_M{j}'\n",
    "    file_path = os.path.join(file_path_base, file_name)\n",
    "    residuals4 = pb.extract_residuals(file_path)\n",
    "    residuals2[residual].plot(ax= ax, logy=True, legend = True)\n",
    "    residuals3[residual].plot(ax= ax, logy=True, legend = True)\n",
    "    residuals4[residual].plot(ax= ax, logy=True, legend = True)\n",
    "    ax.set_title(f'Uniform 2, 3 and 4, mesh {j+1}')\n",
    "    ax.set_xlabel('Iteration')\n",
    "    plt.show()\n",
    "    # pd.DataFrame(residuals[4] residuals[0]).plot(logy=True, legend = True, title = f'Uniform {i}, cas {j}')"
   ]
  },
  {
   "cell_type": "code",
   "execution_count": 2,
   "metadata": {},
   "outputs": [
    {
     "data": {
      "text/plain": [
       "(0.5179887500000007, 0.7235911733333265)"
      ]
     },
     "execution_count": 2,
     "metadata": {},
     "output_type": "execute_result"
    }
   ],
   "source": [
    "plot_hyp['method'] = 'case'\n",
    "plot_hyp['no_case'] = 7\n",
    "plot_hyp['no_mesh'] = 0\n",
    "plot_hyp['nb_it']= 1\n",
    "plot_hyp['folder_mesh'] = 'Simu_CFD'\n",
    "plot_hyp['folder_name'] = 'cas_'\n",
    "plot_hyp['new_save'] = False\n",
    "pb.compute_quality(plot_hyp, panelSpecs, hyp, stepConditions)"
   ]
  }
 ],
 "metadata": {
  "kernelspec": {
   "display_name": "venv",
   "language": "python",
   "name": "python3"
  },
  "language_info": {
   "codemirror_mode": {
    "name": "ipython",
    "version": 3
   },
   "file_extension": ".py",
   "mimetype": "text/x-python",
   "name": "python",
   "nbconvert_exporter": "python",
   "pygments_lexer": "ipython3",
   "version": "3.11.6"
  }
 },
 "nbformat": 4,
 "nbformat_minor": 2
}
