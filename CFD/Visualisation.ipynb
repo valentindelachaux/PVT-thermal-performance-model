{
 "cells": [
  {
   "cell_type": "code",
   "execution_count": 2,
   "metadata": {},
   "outputs": [],
   "source": [
    "## IMPORTS\n",
    "\n",
    "import os\n",
    "import sys\n",
    "import time\n",
    "import math\n",
    "from datetime import datetime\n",
    "from io import StringIO\n",
    "\n",
    "\n",
    "import numpy as np\n",
    "import pandas as pd\n",
    "import matplotlib.pyplot as plt\n",
    "import plotly.graph_objects as go\n",
    "from numpy.polynomial.polynomial import Polynomial\n",
    "import scipy.integrate as integrate\n",
    "import scipy.optimize as sco\n",
    "from scipy.optimize import minimize\n",
    "from sklearn.metrics import mean_squared_error\n",
    "import openpyxl\n",
    "import networkx as nx\n",
    "import sklearn.metrics\n",
    "from IPython.core.display import HTML\n",
    "import plotly.io as pio\n",
    "from openpyxl.utils.dataframe import dataframe_to_rows\n",
    "import openpyxl as opxl\n",
    "import matplotlib.ticker as mtick\n",
    "from matplotlib.cm import get_cmap\n",
    "import time\n",
    "\n",
    "\n",
    "sys.path.append(r'D:\\seagu_OneDrive\\Documents\\GitHub\\parallel-flow-distribution-pressure-loss\\ansys')\n",
    "sys.path.append(r'D:\\seagu_OneDrive\\Documents\\GitHub\\PVT-thermal-performance-model')\n",
    "import jou_gen as jg\n",
    "import ansys_py_bridge as apb\n",
    "import ansys.fluent.core as pyfluent\n",
    "import model as ty\n",
    "import proc as pr\n",
    "import plot_functions_here as pfun\n",
    "import heat_transfer as bht\n",
    "import fluids as fds\n",
    "import ht\n",
    "import general as gen"
   ]
  },
  {
   "cell_type": "markdown",
   "metadata": {},
   "source": [
    "# Visualisation des résultats"
   ]
  },
  {
   "cell_type": "code",
   "execution_count": 3,
   "metadata": {},
   "outputs": [],
   "source": [
    "hypotheses_path = r'D:\\ANSYS Fluent Projects\\pvt_slice_outdoor\\Fluent_GMI\\tests' + '\\\\' + 'Model_hypotheses.xlsx'\n",
    "hyp = pr.create_dict_from_excel(hypotheses_path,'Main')\n",
    "\n",
    "nb_mesh = 3\n",
    "nb_cases = 5\n",
    "limit_big_it = 6\n",
    "nb_hx = 5"
   ]
  },
  {
   "cell_type": "code",
   "execution_count": 4,
   "metadata": {},
   "outputs": [],
   "source": [
    "## Récupération des données sauvegardées\n",
    "\n",
    "folder_path = r'D:\\ANSYS Fluent Projects\\pvt_slice_outdoor\\Fluent_GMI\\tests'\n",
    "\n",
    "ht_tot_mesh_case_list = []\n",
    "ht_rad_mesh_case_list = []\n",
    "ht_conv_mesh_case_list = []\n",
    "CFD_mesh_case_list = []\n",
    "df_one_mesh_case_list = []\n",
    "slices_df_mesh_case_list = []\n",
    "PyFluent_mesh_case_list = []\n",
    "\n",
    "for mesh in range(nb_mesh) :\n",
    "\n",
    "    folder_mesh = f'Simu_M{mesh+1}'\n",
    "    folder_path_mesh = os.path.join(folder_path, folder_mesh)\n",
    "\n",
    "    ht_tot_case_list = []\n",
    "    ht_rad_case_list = []\n",
    "    ht_conv_case_list = []\n",
    "    CFD_case_list = []\n",
    "    df_one_case_list = []\n",
    "    slices_df_case_list = []\n",
    "    PyFluent_case_list = []\n",
    "\n",
    "    for case in range(nb_cases) :\n",
    "    # case = 13\n",
    "    # if True :\n",
    "        ## Récupération des résultats\n",
    "\n",
    "        ht_tot_list = []\n",
    "        ht_rad_list = []\n",
    "        ht_conv_list = []\n",
    "        CFD_list = []\n",
    "        df_one_list = []\n",
    "        slices_df_list = []\n",
    "        PyFluent_list = []\n",
    "\n",
    "        # Récupération des données pour chaque cas\n",
    "        folder_name = f'cas_{case+1}'\n",
    "        folder_path_case = os.path.join(folder_path_mesh, folder_name)\n",
    "\n",
    "        # Définir le chemin du dossier pour les fichiers de résultats\n",
    "        hyp['CFD_ht_path'] = os.path.join(folder_path_case, 'test')\n",
    "\n",
    "        # for iteration in range(1, limit_big_it+1) :\n",
    "        for iteration in range(limit_big_it) :\n",
    "            file_path_result_CFD = hyp['CFD_ht_path']+f'_{iteration}.csv' \n",
    "            file_path_df_one = hyp['CFD_ht_path']+'_df_one' + f'_{iteration}.csv'\n",
    "            file_path_slices_df = hyp['CFD_ht_path']+'_slices_df' + f'_{iteration}.csv'\n",
    "            file_path_Inputs_PyFluent = hyp['CFD_ht_path']+'_PyFluent' + f'_{iteration}.csv'\n",
    "\n",
    "            df_CFD = pd.read_csv(file_path_result_CFD, sep=';')\n",
    "            df_CFD['iteration'] = iteration\n",
    "            df_CFD.index = [f'part{i}' for i in range(1, nb_hx+3)]\n",
    "            CFD_list.append(df_CFD)\n",
    "\n",
    "            df_one = pd.read_csv(file_path_df_one, sep=';')\n",
    "            df_one['iteration'] = iteration\n",
    "            df_one.index = [f'part{i}' for i in range(1, nb_hx+3)]\n",
    "            df_one_list.append(df_one)\n",
    "\n",
    "            slices_df = pd.read_csv(file_path_slices_df, sep=';')\n",
    "            slices_df['iteration'] = iteration\n",
    "            slices_df.index = [f'part{i}' for i in range(1, nb_hx+3)]\n",
    "            slices_df_list.append(slices_df)\n",
    "\n",
    "            df_PyFluent = pd.read_csv(file_path_Inputs_PyFluent, sep=';')\n",
    "            df_PyFluent['iteration'] = iteration\n",
    "            PyFluent_list.append(df_PyFluent)\n",
    "\n",
    "            ht_tot = pd.read_csv(os.path.join(folder_path_case,f'ht_tot_report_{iteration}.csv'), sep=',')\n",
    "            ht_tot['iteration'] = iteration\n",
    "            ht_tot_list.append(ht_tot)\n",
    "\n",
    "            ht_rad = pd.read_csv(os.path.join(folder_path_case,f'ht_rad_report_{iteration}.csv'), sep=',')\n",
    "            ht_rad['iteration'] = iteration\n",
    "            ht_rad_list.append(ht_rad)\n",
    "            \n",
    "            ht_conv = pd.read_csv(os.path.join(folder_path_case,f'ht_conv_report_{iteration}.csv'), sep=';')\n",
    "            ht_conv['iteration'] = iteration\n",
    "            ht_conv_list.append(ht_conv)\n",
    "\n",
    "        ht_tot_case_list.append(ht_tot_list)\n",
    "        ht_rad_case_list.append(ht_rad_list)\n",
    "        ht_conv_case_list.append(ht_conv_list)\n",
    "        CFD_case_list.append(CFD_list)\n",
    "        df_one_case_list.append(df_one_list)\n",
    "        slices_df_case_list.append(slices_df_list)\n",
    "        PyFluent_case_list.append(PyFluent_list)\n",
    "\n",
    "    ht_tot_mesh_case_list.append(ht_tot_case_list)\n",
    "    ht_rad_mesh_case_list.append(ht_rad_case_list)\n",
    "    ht_conv_mesh_case_list.append(ht_conv_case_list)\n",
    "    CFD_mesh_case_list.append(CFD_case_list)\n",
    "    df_one_mesh_case_list.append(df_one_case_list)\n",
    "    slices_df_mesh_case_list.append(slices_df_case_list)\n",
    "    PyFluent_mesh_case_list.append(PyFluent_case_list)"
   ]
  },
  {
   "cell_type": "code",
   "execution_count": 5,
   "metadata": {},
   "outputs": [],
   "source": [
    "## Calcul des transferts à partir des reports // CFD\n",
    "# Définir les parties pour chaque transfert\n",
    "part1 = ['manifold_yu']\n",
    "part2 = ['hx_bend_yu_air', 'hx_bend_yu_pv']\n",
    "part3 = ['hx_flat_yu_air']\n",
    "part4 = ['hx_bend_mid_air', 'hx_bend_mid_pv']\n",
    "part5 = ['hx_flat_yd_air']\n",
    "part6 = ['hx_bend_yd_air', 'hx_bend_yd_pv']\n",
    "part7 = ['manifold_yd']\n",
    "\n",
    "part1_top = []\n",
    "part2_top = []\n",
    "part3_top = ['hx_flat_yu_pv-pv_backsheet-cd-cd1-pv-corps']\n",
    "part4_top = []\n",
    "part5_top = ['hx_flat_yd_pv-pv_backsheet-cd-cd1-pv-corps']\n",
    "part6_top = []\n",
    "part7_top = []\n",
    "\n",
    "# Fonction pour calculer les Qdot pour chaque partie et chaque itération\n",
    "def calculate_Qdot(mesh, case, iteration):\n",
    "    ht_tot = ht_tot_mesh_case_list[mesh][case][iteration]\n",
    "    ht_rad = ht_rad_mesh_case_list[mesh][case][iteration]\n",
    "    ht_conv = ht_conv_mesh_case_list[mesh][case][iteration]\n",
    "    \n",
    "    Qdot_tube = []\n",
    "    Qdot_top = []\n",
    "    Qdot_abs = []\n",
    "    Qdot_top_rad = []\n",
    "    \n",
    "    for i in range(1, nb_hx+3):\n",
    "        if i == 3 or i == 5:\n",
    "            Qdot_tube.append(4.75*ht_tot[ht_tot['Component'].isin(eval(f'part{i}'))]['ht'].sum())\n",
    "            Qdot_top.append(4.75*ht_conv[ht_conv['Component'].isin(eval(f'part{i}_top'))]['conv_ht'].sum())\n",
    "            Qdot_abs.append(1e-6)\n",
    "            Qdot_top_rad.append(4.75*ht_rad[ht_rad['Component'].isin(eval(f'part{i}_top'))]['rad_ht'].sum())\n",
    "        else:\n",
    "            Qdot_tube.append(4.75*ht_conv[ht_conv['Component'].isin(eval(f'part{i}'))]['conv_ht'].sum())\n",
    "            Qdot_top.append(1e-6)\n",
    "            Qdot_abs.append(1e-6)  # Dans le modèle, on a fait en sorte de ne pas avoir besoin de cette valeur\n",
    "            Qdot_top_rad.append(1e-6)\n",
    "    \n",
    "    return Qdot_tube, Qdot_top, Qdot_abs, Qdot_top_rad"
   ]
  },
  {
   "cell_type": "code",
   "execution_count": 90,
   "metadata": {},
   "outputs": [],
   "source": [
    "## Ratio de transfert convectif et radiatif // CFD\n",
    "\n",
    "part1 = ['manifold_yu']\n",
    "part2 = ['hx_bend_yu_air', 'hx_bend_yu_pv']\n",
    "part3 = ['hx_flat_yu_air']\n",
    "part4 = ['hx_bend_mid_air', 'hx_bend_mid_pv']\n",
    "part5 = ['hx_flat_yd_air']\n",
    "part6 = ['hx_bend_yd_air', 'hx_bend_yd_pv']\n",
    "part7 = ['manifold_yd']\n",
    "\n",
    "part1_top = []\n",
    "part2_top = []\n",
    "part3_top = ['hx_flat_yu_pv-pv_backsheet-cd-cd1-pv-corps']\n",
    "part4_top = []\n",
    "part5_top = ['hx_flat_yd_pv-pv_backsheet-cd-cd1-pv-corps']\n",
    "part6_top = []\n",
    "part7_top = []\n",
    "\n",
    "component_list = [part1, part2, part3, part4, part5, part6, part7]\n",
    "component_list_top = [part1_top, part2_top, part3_top, part4_top, part5_top, part6_top, part7_top]\n",
    "\n",
    "def ratio_list(component_list):\n",
    "    ratio_mesh_case_it_part_list = []\n",
    "    for mesh in range(nb_mesh):\n",
    "        ratio_case_it_list = []\n",
    "        for case in range(nb_cases):\n",
    "            ratio_case_it_part_list = []\n",
    "            for iteration in range(limit_big_it):\n",
    "                ratio_part_list = []\n",
    "                for part in component_list:\n",
    "                    if part == [] :\n",
    "                        ratio_conv = 0\n",
    "                        ratio_rad = 0\n",
    "                    else :\n",
    "                        conv = ht_conv_mesh_case_list[mesh][case][iteration][ht_conv_mesh_case_list[mesh][case][iteration]['Component'].isin(part)]['conv_ht'].sum()\n",
    "                        tot = ht_tot_mesh_case_list[mesh][case][iteration][ht_tot_mesh_case_list[mesh][case][iteration]['Component'].isin(part)]['ht'].sum()\n",
    "                        rad = ht_rad_mesh_case_list[mesh][case][iteration][ht_rad_mesh_case_list[mesh][case][iteration]['Component'].isin(part)]['rad_ht'].sum()\n",
    "    \n",
    "                        ratio_conv = conv / tot\n",
    "                        ratio_rad = rad / tot\n",
    "                    \n",
    "                    ratio_part_list.append([ratio_conv, ratio_rad])\n",
    "                \n",
    "                ratio_case_it_part_list.append(ratio_part_list)\n",
    "            ratio_case_it_list.append(ratio_case_it_part_list)\n",
    "        ratio_mesh_case_it_part_list.append(ratio_case_it_list)\n",
    "    \n",
    "    return ratio_mesh_case_it_part_list"
   ]
  },
  {
   "cell_type": "code",
   "execution_count": 91,
   "metadata": {},
   "outputs": [
    {
     "name": "stderr",
     "output_type": "stream",
     "text": [
      "C:\\Users\\seagu\\AppData\\Local\\Temp\\ipykernel_24268\\722068977.py:39: RuntimeWarning:\n",
      "\n",
      "divide by zero encountered in scalar divide\n",
      "\n",
      "C:\\Users\\seagu\\AppData\\Local\\Temp\\ipykernel_24268\\722068977.py:40: RuntimeWarning:\n",
      "\n",
      "divide by zero encountered in scalar divide\n",
      "\n",
      "C:\\Users\\seagu\\AppData\\Local\\Temp\\ipykernel_24268\\722068977.py:39: RuntimeWarning:\n",
      "\n",
      "invalid value encountered in scalar divide\n",
      "\n",
      "C:\\Users\\seagu\\AppData\\Local\\Temp\\ipykernel_24268\\722068977.py:40: RuntimeWarning:\n",
      "\n",
      "invalid value encountered in scalar divide\n",
      "\n"
     ]
    }
   ],
   "source": [
    "ratio_tube_list = ratio_list(component_list)\n",
    "ratio_top_list = ratio_list(component_list_top)"
   ]
  },
  {
   "cell_type": "markdown",
   "metadata": {},
   "source": [
    "1D"
   ]
  },
  {
   "cell_type": "code",
   "execution_count": null,
   "metadata": {},
   "outputs": [],
   "source": [
    "## Afficher des résultats de Qdot_tube_back // 1D chaque simulation\n",
    "\n",
    "# Définition des couleurs pour chaque partie\n",
    "part_colors = ['#1f77b4', '#ff7f0e', '#2ca02c', '#d62728', '#9467bd', '#8c564b', '#e377c2']\n",
    "\n",
    "# Initialisation des listes de figures pour chaque simulation\n",
    "fig_tube_lists = [[] for _ in range(nb_mesh)]\n",
    "\n",
    "# Boucle sur chaque simulation (mesh)\n",
    "for mesh in range(nb_mesh):\n",
    "    for case in range(nb_cases):\n",
    "        # Créer une figure pour Qdot_tube_back_conv\n",
    "        fig_tube = go.Figure()\n",
    "\n",
    "        for part in range(1, 8):  # Supposons que vous avez 7 parties numérotées de 1 à 7\n",
    "            tube_x = []\n",
    "            tube_y = []\n",
    "\n",
    "            for iteration in range(limit_big_it):\n",
    "                # Récupérer les valeurs pour Qdot_tube_back_conv pour cette partie, cette simulation et cette itération\n",
    "                tube_value = df_one_mesh_case_list[mesh][case][iteration]['Qdot_tube_back'].loc[f'part{part}']\n",
    "\n",
    "                tube_x.append(iteration + 1)\n",
    "                tube_y.append(tube_value)\n",
    "\n",
    "            # Ajouter les valeurs à la figure Qdot_tube_back_conv\n",
    "            fig_tube.add_trace(go.Scatter(x=tube_x, y=tube_y,\n",
    "                                          mode='lines+markers',\n",
    "                                          name=f'Partie {part}',\n",
    "                                          line=dict(width=2, color=part_colors[part-1])))\n",
    "\n",
    "        # Mise en forme du titre et des axes pour Qdot_tube_back_conv\n",
    "        fig_tube.update_layout(title=f'Qdot_tube_back - Cas {case+1} - Simu M{mesh+1}',\n",
    "                               xaxis_title='Itérations',\n",
    "                               yaxis_title='Qdot_tube_back [W]',\n",
    "                               plot_bgcolor='rgba(0,0,0,0)')  # Fond transparent pour superposer les graphiques\n",
    "\n",
    "        # Ajouter la figure Qdot_tube_back_conv à la liste correspondante à la simulation actuelle\n",
    "        fig_tube_lists[mesh].append(fig_tube)\n",
    "\n",
    "# Afficher toutes les figures pour Qdot_tube_back_conv par simulation\n",
    "for mesh in range(nb_mesh):\n",
    "    for fig_tube in fig_tube_lists[mesh]:\n",
    "        fig_tube.show()\n"
   ]
  },
  {
   "cell_type": "code",
   "execution_count": null,
   "metadata": {},
   "outputs": [],
   "source": [
    "## Affichage des résultats de Qdot_top_conv pour chaque cas // 1D pour chaque simulation\n",
    "\n",
    "# Créer une liste de figures pour chaque cas\n",
    "fig_top_list = []\n",
    "\n",
    "# Couleurs pour chaque partie (7 couleurs différentes)\n",
    "part_colors = ['#1f77b4', '#ff7f0e', '#2ca02c', '#d62728', '#9467bd', '#8c564b', '#e377c2']\n",
    "\n",
    "for mesh in range(nb_mesh):\n",
    "    for case in range(nb_cases):\n",
    "\n",
    "        # Créer une figure pour Qdot_top_conv\n",
    "        fig_top = go.Figure()\n",
    "        \n",
    "        for part in range(1, nb_hx+3):  # Supposons que vous avez 7 parties numérotées de 1 à 7\n",
    "            top_x = []\n",
    "            top_y = []\n",
    "            \n",
    "            for iteration in range(limit_big_it):\n",
    "                # Récupérer les valeurs pour Qdot_top_conv pour cette partie et cette itération\n",
    "                top_value = df_one_mesh_case_list[mesh][case][iteration]['Qdot_top_conv'].loc[f'part{part}']\n",
    "                \n",
    "                tube_x.append(iteration + 1)\n",
    "                tube_y.append(tube_value)\n",
    "                top_x.append(iteration + 1)\n",
    "                top_y.append(top_value)\n",
    "\n",
    "            \n",
    "            # Ajouter les valeurs à la figure Qdot_top_conv\n",
    "            fig_top.add_trace(go.Scatter(x=top_x, y=top_y,\n",
    "                                        mode='lines+markers',\n",
    "                                        name=f'Partie {part}',\n",
    "                                        line=dict(width=2, color=part_colors[part-1])))\n",
    "        \n",
    "        # Mise en forme du titre et des axes pour Qdot_top_conv\n",
    "        fig_top.update_layout(title=f'Qdot_top_conv - Cas {case+1} - Simu M{mesh+1}',\n",
    "                            xaxis_title='Itérations',\n",
    "                            yaxis_title='Qdot_top_conv')\n",
    "\n",
    "        \n",
    "        # Ajouter la figure Qdot_top_conv à la liste\n",
    "        fig_top_list.append(fig_top)\n",
    "\n",
    "# Afficher toutes les figures pour Qdot_top_conv par cas\n",
    "for fig_top in fig_top_list:\n",
    "    fig_top.show()\n"
   ]
  },
  {
   "cell_type": "code",
   "execution_count": null,
   "metadata": {},
   "outputs": [],
   "source": [
    "## Affichage des résultats de Qdot_top_rad pour chaque cas // 1D pour chaque simulation\n",
    "\n",
    "# Créer une liste de figures pour chaque cas\n",
    "fig_top_list = []\n",
    "\n",
    "# Couleurs pour chaque partie (7 couleurs différentes)\n",
    "part_colors = ['#1f77b4', '#ff7f0e', '#2ca02c', '#d62728', '#9467bd', '#8c564b', '#e377c2']\n",
    "\n",
    "for mesh in range(nb_mesh):\n",
    "    for case in range(nb_cases):\n",
    "\n",
    "        # Créer une figure pour Qdot_top_conv\n",
    "        fig_top = go.Figure()\n",
    "        \n",
    "        for part in range(1, nb_hx+3):  # Supposons que vous avez 7 parties numérotées de 1 à 7\n",
    "            top_x = []\n",
    "            top_y = []\n",
    "            \n",
    "            for iteration in range(limit_big_it):\n",
    "                # Récupérer les valeurs pour Qdot_top_conv pour cette partie et cette itération\n",
    "                top_value = df_one_mesh_case_list[mesh][case][iteration]['Qdot_top_rad'].loc[f'part{part}']\n",
    "    \n",
    "                top_x.append(iteration + 1)\n",
    "                top_y.append(top_value)\n",
    "\n",
    "            \n",
    "            # Ajouter les valeurs à la figure Qdot_top_conv\n",
    "            fig_top.add_trace(go.Scatter(x=top_x, y=top_y,\n",
    "                                        mode='lines+markers',\n",
    "                                        name=f'Partie {part}',\n",
    "                                        line=dict(width=2, color=part_colors[part-1])))\n",
    "        \n",
    "        # Mise en forme du titre et des axes pour Qdot_top_conv\n",
    "        fig_top.update_layout(title=f'Qdot_top_rad - Cas {case+1} - Simu M{mesh+1}',\n",
    "                            xaxis_title='Itérations',\n",
    "                            yaxis_title='Qdot_top_conv')\n",
    "\n",
    "        \n",
    "        # Ajouter la figure Qdot_top_conv à la liste\n",
    "        fig_top_list.append(fig_top)\n",
    "\n",
    "# Afficher toutes les figures pour Qdot_top_conv par cas\n",
    "for fig_top in fig_top_list:\n",
    "    fig_top.show()\n"
   ]
  },
  {
   "cell_type": "code",
   "execution_count": null,
   "metadata": {},
   "outputs": [],
   "source": [
    "## Affichage des résultats de Qdot_tube_fluid pour chaque cas // 1D pour chaque simulation\n",
    "\n",
    "# Créer une liste de figures pour chaque cas\n",
    "fig_top_list = []\n",
    "\n",
    "# Couleurs pour chaque partie (7 couleurs différentes)\n",
    "part_colors = ['#1f77b4', '#ff7f0e', '#2ca02c', '#d62728', '#9467bd', '#8c564b', '#e377c2']\n",
    "\n",
    "for mesh in range(nb_mesh):\n",
    "    for case in range(nb_cases):\n",
    "\n",
    "        # Créer une figure pour Qdot_tube_fluid\n",
    "        fig_top = go.Figure()\n",
    "        \n",
    "        for part in range(1, nb_hx+3):  # Supposons que vous avez 7 parties numérotées de 1 à 7\n",
    "            tube_x = []\n",
    "            tube_y = []\n",
    "            \n",
    "            for iteration in range(limit_big_it):\n",
    "                # Récupérer les valeurs pour Qdot_tube_fluid pour cette partie et cette itération\n",
    "                tube_value = df_one_mesh_case_list[mesh][case][iteration]['Qdot_tube_fluid'].loc[f'part{part}']\n",
    "    \n",
    "                tube_x.append(iteration + 1)\n",
    "                tube_y.append(tube_value)\n",
    "\n",
    "            \n",
    "            # Ajouter les valeurs à la figure Qdot_tube_fluid\n",
    "            fig_top.add_trace(go.Scatter(x=tube_x, y=tube_y,\n",
    "                                        mode='lines+markers',\n",
    "                                        name=f'Partie {part}',\n",
    "                                        line=dict(width=2, color=part_colors[part-1])))\n",
    "        \n",
    "        # Mise en forme du titre et des axes pour Qdot_tube_fluid\n",
    "        fig_top.update_layout(title=f'Qdot_tube_fluid - Cas {case+1} - Simu M{mesh+1}',\n",
    "                            xaxis_title='Itérations',\n",
    "                            yaxis_title='Qdot_tube_fluid')\n",
    "\n",
    "        \n",
    "        # Ajouter la figure Qdot_tube_fluid à la liste\n",
    "        fig_top_list.append(fig_top)\n",
    "\n",
    "# Afficher toutes les figures pour Qdot_tube_fluid par cas\n",
    "for fig_top in fig_top_list:\n",
    "    fig_top.show()\n"
   ]
  },
  {
   "cell_type": "code",
   "execution_count": null,
   "metadata": {},
   "outputs": [],
   "source": [
    "## Evolution des températures d'entrée et de sortie par itération // 1D pour chaque simulation\n",
    "\n",
    "for mesh in range(nb_mesh):\n",
    "    for case in range(nb_cases):\n",
    "        data = []\n",
    "        for iteration in range(limit_big_it):\n",
    "            # Liste temporaire pour stocker les données de chaque partie et itération\n",
    "            temp_data = []\n",
    "            \n",
    "            for part in range(1, nb_hx+3): \n",
    "                T_in_value = df_one_mesh_case_list[mesh][case][iteration]['T_fluid_in'].loc[f'part{part}']\n",
    "                T_out_value = df_one_mesh_case_list[mesh][case][iteration]['T_fluid_out'].loc[f'part{part}']\n",
    "                temp_data.append(T_in_value)\n",
    "                temp_data.append(T_out_value)\n",
    "            \n",
    "            # Ajouter les données au tableau principal\n",
    "            data.append(temp_data)\n",
    "\n",
    "        # Noms des colonnes pour le tableau\n",
    "        columns = []\n",
    "        for part in range(1, nb_hx+3):\n",
    "            columns.append(f'T_fluid_in_{part}')\n",
    "            columns.append(f'T_fluid_out_{part}')\n",
    "\n",
    "        # Création du DataFrame\n",
    "        df_temperature = pd.DataFrame(data, columns=columns)\n",
    "        df_temperature.index = [i for i in range(1, limit_big_it+1)]\n",
    "        df_temperature = df_temperature.rename_axis('Itération')\n",
    "\n",
    "        # Affichage du tableau\n",
    "        print(f\"Cas n°{case+1} - Simu_M{mesh+1}:\")\n",
    "        pr.disp_html(df_temperature)"
   ]
  },
  {
   "cell_type": "markdown",
   "metadata": {},
   "source": [
    "CFD"
   ]
  },
  {
   "cell_type": "code",
   "execution_count": null,
   "metadata": {},
   "outputs": [],
   "source": [
    "## Affichage Qdot_top_rad // CFD\n",
    "for mesh in range(nb_mesh):\n",
    "    # Boucle sur chaque cas\n",
    "    for case in range(nb_cases):\n",
    "        # Listes pour stocker les valeurs de chaque transfert pour chaque itération\n",
    "        Qdot_top_rad_values = []\n",
    "\n",
    "        # Boucle sur chaque itération pour calculer les valeurs\n",
    "        for iteration in range(limit_big_it):\n",
    "            Qdot_tube, Qdot_top, Qdot_abs, Qdot_top_rad = calculate_Qdot(mesh, case, iteration)\n",
    "            Qdot_top_rad_values.append(Qdot_top_rad)\n",
    "        \n",
    "        # Création des figures pour chaque type de transfert\n",
    "        fig_top_rad = go.Figure()\n",
    "\n",
    "        # Ajout des traces à chaque figure\n",
    "        for part in range(1, nb_hx+3):\n",
    "            fig_top_rad.add_trace(go.Scatter(x=list(range(1, limit_big_it + 1)), y=[qr[part-1] for qr in Qdot_top_rad_values],\n",
    "                                            mode='lines+markers',\n",
    "                                            name=f'Part {part}',\n",
    "                                            line=dict(width=2)))\n",
    "\n",
    "        # Mise en forme du titre et des axes pour chaque figure\n",
    "        fig_top_rad.update_layout(title=f'Qdot_top_rad - Cas {case+1} - Simu M{mesh+1}',\n",
    "                                xaxis_title='Itération',\n",
    "                                yaxis_title='Qdot_top_rad')\n",
    "\n",
    "        # Affichage des figures\n",
    "        fig_top_rad.show()\n"
   ]
  },
  {
   "cell_type": "code",
   "execution_count": null,
   "metadata": {},
   "outputs": [],
   "source": [
    "## Affichage Qdot_top_conv // CFD\n",
    "\n",
    "for mesh in range(nb_mesh):\n",
    "    # Boucle sur chaque cas\n",
    "    for case in range(nb_cases):\n",
    "        # Listes pour stocker les valeurs de chaque transfert pour chaque itération\n",
    "        Qdot_tube_values = []\n",
    "\n",
    "        # Boucle sur chaque itération pour calculer les valeurs\n",
    "        for iteration in range(limit_big_it):\n",
    "            Qdot_tube, Qdot_top, Qdot_abs, Qdot_top_rad = calculate_Qdot(mesh, case, iteration)\n",
    "            Qdot_tube_values.append(Qdot_top)\n",
    "\n",
    "        \n",
    "        # Création des figures pour chaque type de transfert\n",
    "        fig_top = go.Figure()\n",
    "\n",
    "        # Ajout des traces à chaque figure\n",
    "        for part in range(1, nb_hx+3):\n",
    "            fig_top.add_trace(go.Scatter(x=list(range(1, limit_big_it + 1)), y=[qt[part-1] for qt in Qdot_tube_values],\n",
    "                                        mode='lines+markers',\n",
    "                                        name=f'Part {part}',\n",
    "                                        line=dict(width=2)))\n",
    "\n",
    "        # Mise en forme du titre et des axes pour chaque figure\n",
    "\n",
    "        fig_top.update_layout(title=f'Qdot_top - Cas {case+1} - Simu M{mesh+1}',\n",
    "                            xaxis_title='Itération',\n",
    "                            yaxis_title='Qdot_top')\n",
    "\n",
    "        # Affichage des figures\n",
    "        fig_top.show()"
   ]
  },
  {
   "cell_type": "code",
   "execution_count": null,
   "metadata": {},
   "outputs": [],
   "source": [
    "## Affichage Qdot_tube // CFD\n",
    "\n",
    "for mesh in range(nb_mesh):\n",
    "    # Boucle sur chaque cas\n",
    "    for case in range(nb_cases):\n",
    "        # Listes pour stocker les valeurs de chaque transfert pour chaque itération\n",
    "        Qdot_tube_values = []\n",
    "\n",
    "        # Boucle sur chaque itération pour calculer les valeurs\n",
    "        for iteration in range(limit_big_it):\n",
    "            Qdot_tube, Qdot_top, Qdot_abs, Qdot_top_rad = calculate_Qdot(mesh, case, iteration)\n",
    "            Qdot_tube_values.append(Qdot_tube)\n",
    "        \n",
    "        # Création des figures pour chaque type de transfert\n",
    "        fig_tube = go.Figure()\n",
    "\n",
    "        # Ajout des traces à chaque figure\n",
    "        for part in {3,5}:\n",
    "            fig_tube.add_trace(go.Scatter(x=list(range(1, limit_big_it + 1)), y=[qt[part-1] for qt in Qdot_tube_values],\n",
    "                                        mode='lines+markers',\n",
    "                                        name=f'Part {part}',\n",
    "                                        line=dict(width=2)))\n",
    "\n",
    "        # Mise en forme du titre et des axes pour chaque figure\n",
    "        fig_tube.update_layout(title=f'Qdot_tube - Cas {case+1} - Simu M{mesh+1}',\n",
    "                            xaxis_title='Itération',\n",
    "                            yaxis_title='Qdot_tube')\n",
    "\n",
    "        # Affichage des figures\n",
    "        fig_tube.show()\n"
   ]
  },
  {
   "cell_type": "markdown",
   "metadata": {},
   "source": [
    "CFD et 1D sur une même courbe"
   ]
  },
  {
   "cell_type": "code",
   "execution_count": null,
   "metadata": {},
   "outputs": [],
   "source": [
    "## Affichage Qdot_tube // CFD et 1D\n",
    "\n",
    "# Initialiser les couleurs pour les parties (7 couleurs différentes)\n",
    "part_colors = ['#1f77b4', '#ff7f0e', '#2ca02c', '#d62728', '#9467bd', '#8c564b', '#e377c2']\n",
    "\n",
    "for mesh in range(nb_mesh):\n",
    "    # Boucle sur chaque cas\n",
    "    for case in range(nb_cases):\n",
    "        # Listes pour stocker les valeurs de chaque transfert pour chaque itération pour CFD et 1D\n",
    "        Qdot_tube_values_cfd = []\n",
    "        Qdot_tube_values_1d = [[] for _ in range(nb_hx + 3)]\n",
    "        Qdot_tube_values = [[] for _ in range(nb_hx + 3)]\n",
    "        iterations_cfd = []\n",
    "        iterations_1d = [[] for _ in range(nb_hx + 3)]\n",
    "        iterations = [[] for _ in range(nb_hx + 3)]\n",
    "\n",
    "        # Créer une figure pour les valeurs de Qdot_top\n",
    "        fig_top = go.Figure()\n",
    "\n",
    "        # Boucle sur chaque itération pour calculer les valeurs et les afficher\n",
    "        for iteration in range(limit_big_it):\n",
    "            # Calculer les valeurs CFD\n",
    "            Qdot_tube, Qdot_top, Qdot_abs, Qdot_top_rad = calculate_Qdot(mesh, case, iteration)\n",
    "            Qdot_tube_values_cfd.append(Qdot_tube)\n",
    "            iterations_cfd.append(iteration + 1)\n",
    "\n",
    "            # Récupérer les valeurs pour Qdot_top_conv pour 1D\n",
    "            for part in {3,5}:\n",
    "                tube_value_1d = df_one_mesh_case_list[mesh][case][iteration]['Qdot_tube_back'].loc[f'part{part}']\n",
    "                Qdot_tube_values_1d[part-1].append(tube_value_1d)\n",
    "                iterations_1d[part-1].append(iteration + 1.5)\n",
    "                Qdot_tube_values[part-1].append(Qdot_tube[part-1])\n",
    "                Qdot_tube_values[part-1].append(tube_value_1d)\n",
    "                iterations[part-1].append(iteration + 1)\n",
    "                iterations[part-1].append(iteration + 1.5)\n",
    "\n",
    "        # Ajouter les valeurs CFD et 1D à la figure\n",
    "        for part in range(1, nb_hx + 3):\n",
    "            # Tracer les valeurs CFD\n",
    "            fig_top.add_trace(go.Scatter(x=iterations_cfd, \n",
    "                                        y=[qt[part-1] for qt in Qdot_tube_values_cfd],\n",
    "                                        mode='markers',\n",
    "                                        name=f'Part {part} CFD',\n",
    "                                        line=dict(width=2, color=part_colors[part-1]),\n",
    "                                        marker=dict(symbol='cross')))\n",
    "\n",
    "            # Tracer les valeurs 1D\n",
    "            fig_top.add_trace(go.Scatter(x=iterations_1d[part-1], \n",
    "                                        y=Qdot_tube_values_1d[part-1],\n",
    "                                        mode='markers',\n",
    "                                        name=f'Part {part} 1D',\n",
    "                                        line=dict(width=2, color=part_colors[part-1], dash='dot'),\n",
    "                                        marker=dict(symbol='x')))\n",
    "            \n",
    "            fig_top.add_trace(go.Scatter(x=iterations[part-1], \n",
    "                                        y=Qdot_tube_values[part-1],\n",
    "                                        mode='lines',\n",
    "                                        name=f'Part {part}',\n",
    "                                        line=dict(width=2, color=part_colors[part-1], dash='dot')))\n",
    "\n",
    "        # Mise en forme du titre et des axes\n",
    "        fig_top.update_layout(title=f'Qdot_tube - Cas {case+1} - Simu M{mesh+1}',\n",
    "                            xaxis_title='Itération',\n",
    "                            yaxis_title='Qdot_tube_back')\n",
    "\n",
    "        # Affichage de la figure\n",
    "        fig_top.show()"
   ]
  },
  {
   "cell_type": "code",
   "execution_count": null,
   "metadata": {},
   "outputs": [],
   "source": [
    "## Affichage Qdot_top // CFD et 1D\n",
    "\n",
    "# Initialiser les couleurs pour les parties (7 couleurs différentes)\n",
    "part_colors = ['#1f77b4', '#ff7f0e', '#2ca02c', '#d62728', '#9467bd', '#8c564b', '#e377c2']\n",
    "\n",
    "for mesh in range(nb_mesh):\n",
    "    # Boucle sur chaque cas\n",
    "    for case in range(nb_cases):\n",
    "        # Listes pour stocker les valeurs de chaque transfert pour chaque itération pour CFD et 1D\n",
    "        Qdot_top_values_cfd = []\n",
    "        Qdot_top_values_1d = [[] for _ in range(nb_hx + 3)]\n",
    "        Qdot_top_values = [[] for _ in range(nb_hx + 3)]\n",
    "        iterations_cfd = []\n",
    "        iterations_1d = [[] for _ in range(nb_hx + 3)]\n",
    "        iterations = [[] for _ in range(nb_hx + 3)]\n",
    "\n",
    "        # Créer une figure pour les valeurs de Qdot_top\n",
    "        fig_top = go.Figure()\n",
    "\n",
    "        # Boucle sur chaque itération pour calculer les valeurs et les afficher\n",
    "        for iteration in range(limit_big_it):\n",
    "            # Calculer les valeurs CFD\n",
    "            Qdot_tube, Qdot_top, Qdot_abs, Qdot_top_rad = calculate_Qdot(mesh, case, iteration)\n",
    "            Qdot_top_values_cfd.append(Qdot_top)\n",
    "            iterations_cfd.append(iteration + 1)\n",
    "\n",
    "            # Récupérer les valeurs pour Qdot_top_conv pour 1D\n",
    "            for part in range(1, nb_hx + 3):\n",
    "                top_value_1d = df_one_mesh_case_list[mesh][case][iteration]['Qdot_top_conv'].loc[f'part{part}']\n",
    "                Qdot_top_values_1d[part-1].append(top_value_1d)\n",
    "                iterations_1d[part-1].append(iteration + 1.5)\n",
    "                Qdot_top_values[part-1].append(Qdot_top[part-1])\n",
    "                Qdot_top_values[part-1].append(top_value_1d)\n",
    "                iterations[part-1].append(iteration + 1)\n",
    "                iterations[part-1].append(iteration + 1.5)\n",
    "\n",
    "        # Ajouter les valeurs CFD et 1D à la figure\n",
    "        for part in range(1, nb_hx + 3):\n",
    "            # Tracer les valeurs CFD\n",
    "            fig_top.add_trace(go.Scatter(x=iterations_cfd, \n",
    "                                        y=[qt[part-1] for qt in Qdot_top_values_cfd],\n",
    "                                        mode='markers',\n",
    "                                        name=f'Part {part} CFD',\n",
    "                                        line=dict(width=2, color=part_colors[part-1]),\n",
    "                                        marker=dict(symbol='cross')))\n",
    "\n",
    "            # Tracer les valeurs 1D\n",
    "            fig_top.add_trace(go.Scatter(x=iterations_1d[part-1], \n",
    "                                        y=Qdot_top_values_1d[part-1],\n",
    "                                        mode='markers',\n",
    "                                        name=f'Part {part} 1D',\n",
    "                                        line=dict(width=2, color=part_colors[part-1], dash='dot'),\n",
    "                                        marker=dict(symbol='x')))\n",
    "            \n",
    "            fig_top.add_trace(go.Scatter(x=iterations[part-1], \n",
    "                                        y=Qdot_top_values[part-1],\n",
    "                                        mode='lines',\n",
    "                                        name=f'Part {part}',\n",
    "                                        line=dict(width=2, color=part_colors[part-1], dash='dot')))\n",
    "\n",
    "        # Mise en forme du titre et des axes\n",
    "        fig_top.update_layout(title=f'Qdot_top - Cas {case+1} - Simu M{mesh+1}',\n",
    "                            xaxis_title='Itération',\n",
    "                            yaxis_title='Qdot_top')\n",
    "\n",
    "        # Affichage de la figure\n",
    "        fig_top.show()\n"
   ]
  },
  {
   "cell_type": "markdown",
   "metadata": {},
   "source": [
    "Comparaison des maillages\n"
   ]
  },
  {
   "cell_type": "code",
   "execution_count": null,
   "metadata": {},
   "outputs": [],
   "source": [
    "## Comparaison Qdot_tube_back_conv pour chaque partie // 1D\n",
    "\n",
    "# Initialisation de la liste de figures pour les graphiques par cas\n",
    "fig_comparison_list = []\n",
    "\n",
    "# Couleurs pour chaque simulation (choisissez autant de couleurs que de simulations)\n",
    "sim_colors = ['#1f77b4', '#ff7f0e', '#2ca02c', '#d62728', '#9467bd', '#8c564b', '#e377c2']\n",
    "\n",
    "# Largeur des barres pour chaque simulation\n",
    "bar_width = 0.8 / nb_mesh\n",
    "\n",
    "# Positions des barres pour chaque partie et chaque simulation\n",
    "bar_positions = np.arange(1, nb_hx + 4)  # positions pour chaque partie (1 à nb_hx + 3)\n",
    "\n",
    "# Boucle sur chaque cas\n",
    "for case in range(nb_cases):\n",
    "    # Créer une figure pour comparer les simulations\n",
    "    fig_comparison = go.Figure()\n",
    "\n",
    "    # Pour chaque simulation (chaque maillage)\n",
    "    for mesh in range(nb_mesh):\n",
    "        # Liste pour stocker les valeurs de Qdot_tube_back_conv pour chaque partie\n",
    "        tube_values = []\n",
    "\n",
    "        # Pour chaque partie\n",
    "        for part in {3,5}:\n",
    "            # Récupérer les valeurs de Qdot_tube_back_conv pour la dernière itération pour ce cas et ce maillage\n",
    "            iteration = limit_big_it - 1\n",
    "            tube_value = df_one_mesh_case_list[mesh][case][iteration]['Qdot_tube_back_conv'].loc[f'part{part}']\n",
    "            tube_values.append(tube_value)\n",
    "\n",
    "        # Ajouter les barres pour chaque partie\n",
    "        fig_comparison.add_trace(go.Bar(\n",
    "            x=bar_positions + mesh * bar_width - 0.4,\n",
    "            y=tube_values,\n",
    "            name=f'Simulation M{mesh + 1}',\n",
    "            marker_color=sim_colors[mesh],\n",
    "            width=bar_width,\n",
    "            opacity=0.8\n",
    "        ))\n",
    "\n",
    "    # Mise en forme du titre et des axes\n",
    "    fig_comparison.update_layout(\n",
    "        title=f'Comparaison des simulations pour Qdot_tube_back_conv - Cas {case + 1}',\n",
    "        xaxis_title='Parties',\n",
    "        yaxis_title='Qdot_tube_back_conv',\n",
    "        barmode='group',  # Regrouper les barres\n",
    "        legend_title='Simulation'\n",
    "    )\n",
    "\n",
    "    # Ajouter la figure à la liste\n",
    "    fig_comparison_list.append(fig_comparison)\n",
    "\n",
    "# Afficher toutes les figures\n",
    "for fig_comparison in fig_comparison_list:\n",
    "    fig_comparison.show()\n"
   ]
  },
  {
   "cell_type": "code",
   "execution_count": null,
   "metadata": {},
   "outputs": [],
   "source": [
    "## Comparaison Qdot_top_conv pour chaque partie // 1D\n",
    "\n",
    "# Initialisation de la liste de figures pour les graphiques par cas\n",
    "fig_comparison_list = []\n",
    "\n",
    "# Couleurs pour chaque simulation (choisissez autant de couleurs que de simulations)\n",
    "sim_colors = ['#1f77b4', '#ff7f0e', '#2ca02c', '#d62728', '#9467bd', '#8c564b', '#e377c2']\n",
    "\n",
    "# Largeur des barres pour chaque simulation\n",
    "bar_width = 0.8 / nb_mesh\n",
    "\n",
    "# Positions des barres pour chaque partie et chaque simulation\n",
    "bar_positions = np.arange(1, nb_hx + 4)  # positions pour chaque partie (1 à nb_hx + 3)\n",
    "\n",
    "# Boucle sur chaque cas\n",
    "for case in range(nb_cases):\n",
    "    # Créer une figure pour comparer les simulations\n",
    "    fig_comparison = go.Figure()\n",
    "\n",
    "    # Pour chaque simulation (chaque maillage)\n",
    "    for mesh in range(nb_mesh):\n",
    "        # Liste pour stocker les valeurs de Qdot_tube_back_conv pour chaque partie\n",
    "        tube_values = []\n",
    "\n",
    "        # Pour chaque partie\n",
    "        for part in range(1, nb_hx + 3):\n",
    "            # Récupérer les valeurs de Qdot_tube_back_conv pour la dernière itération pour ce cas et ce maillage\n",
    "            iteration = limit_big_it - 1\n",
    "            tube_value = df_one_mesh_case_list[mesh][case][iteration]['Qdot_top_conv'].loc[f'part{part}']\n",
    "            tube_values.append(tube_value)\n",
    "\n",
    "        # Ajouter les barres pour chaque partie\n",
    "        fig_comparison.add_trace(go.Bar(\n",
    "            x=bar_positions + mesh * bar_width - 0.4,\n",
    "            y=tube_values,\n",
    "            name=f'Simulation M{mesh + 1}',\n",
    "            marker_color=sim_colors[mesh],\n",
    "            width=bar_width,\n",
    "            opacity=0.8\n",
    "        ))\n",
    "\n",
    "    # Mise en forme du titre et des axes\n",
    "    fig_comparison.update_layout(\n",
    "        title=f'Comparaison des simulations pour Qdot_top_conv - Cas {case + 1}',\n",
    "        xaxis_title='Parties',\n",
    "        yaxis_title='Qdot_tube_back_conv',\n",
    "        barmode='group',  # Regrouper les barres\n",
    "        legend_title='Simulation'\n",
    "    )\n",
    "\n",
    "    # Ajouter la figure à la liste\n",
    "    fig_comparison_list.append(fig_comparison)\n",
    "\n",
    "# Afficher toutes les figures\n",
    "for fig_comparison in fig_comparison_list:\n",
    "    fig_comparison.show()\n"
   ]
  },
  {
   "cell_type": "code",
   "execution_count": null,
   "metadata": {},
   "outputs": [],
   "source": [
    "## Comparaison Qdot_top_rad pour chaque partie // 1D\n",
    "\n",
    "# Initialisation de la liste de figures pour les graphiques par cas\n",
    "fig_comparison_list = []\n",
    "\n",
    "# Couleurs pour chaque simulation (choisissez autant de couleurs que de simulations)\n",
    "sim_colors = ['#1f77b4', '#ff7f0e', '#2ca02c', '#d62728', '#9467bd', '#8c564b', '#e377c2']\n",
    "\n",
    "# Largeur des barres pour chaque simulation\n",
    "bar_width = 0.8 / nb_mesh\n",
    "\n",
    "# Positions des barres pour chaque partie et chaque simulation\n",
    "bar_positions = np.arange(1, nb_hx + 4)  # positions pour chaque partie (1 à nb_hx + 3)\n",
    "\n",
    "# Boucle sur chaque cas\n",
    "for case in range(nb_cases):\n",
    "    # Créer une figure pour comparer les simulations\n",
    "    fig_comparison = go.Figure()\n",
    "\n",
    "    # Pour chaque simulation (chaque maillage)\n",
    "    for mesh in range(nb_mesh):\n",
    "        # Liste pour stocker les valeurs de Qdot_tube_back_conv pour chaque partie\n",
    "        tube_values = []\n",
    "\n",
    "        # Pour chaque partie\n",
    "        for part in range(1, nb_hx + 3):\n",
    "            # Récupérer les valeurs de Qdot_tube_back_conv pour la dernière itération pour ce cas et ce maillage\n",
    "            iteration = limit_big_it - 1\n",
    "            tube_value = df_one_mesh_case_list[mesh][case][iteration]['Qdot_top_rad'].loc[f'part{part}']\n",
    "            tube_values.append(tube_value)\n",
    "\n",
    "        # Ajouter les barres pour chaque partie\n",
    "        fig_comparison.add_trace(go.Bar(\n",
    "            x=bar_positions + mesh * bar_width - 0.4,\n",
    "            y=tube_values,\n",
    "            name=f'Simulation M{mesh + 1}',\n",
    "            marker_color=sim_colors[mesh],\n",
    "            width=bar_width,\n",
    "            opacity=0.8\n",
    "        ))\n",
    "\n",
    "    # Mise en forme du titre et des axes\n",
    "    fig_comparison.update_layout(\n",
    "        title=f'Comparaison des simulations pour Qdot_top_rad - Cas {case + 1}',\n",
    "        xaxis_title='Parties',\n",
    "        yaxis_title='Qdot_tube_back_conv',\n",
    "        barmode='group',  # Regrouper les barres\n",
    "        legend_title='Simulation'\n",
    "    )\n",
    "\n",
    "    # Ajouter la figure à la liste\n",
    "    fig_comparison_list.append(fig_comparison)\n",
    "\n",
    "# Afficher toutes les figures\n",
    "for fig_comparison in fig_comparison_list:\n",
    "    fig_comparison.show()\n"
   ]
  },
  {
   "cell_type": "code",
   "execution_count": null,
   "metadata": {},
   "outputs": [],
   "source": [
    "## Comparaison Qdot_top_rad pour chaque partie // CFD\n",
    "\n",
    "# Couleurs pour chaque simulation (autant de couleurs que de simulations)\n",
    "sim_colors = ['#1f77b4', '#ff7f0e', '#2ca02c', '#d62728', '#9467bd', '#8c564b', '#e377c2']\n",
    "\n",
    "# Initialisation de la liste de figures pour les graphiques par cas\n",
    "fig_comparison_list = []\n",
    "\n",
    "# Largeur des barres pour chaque simulation\n",
    "bar_width = 0.8 / nb_mesh\n",
    "\n",
    "# Positions des barres pour chaque partie et chaque simulation\n",
    "bar_positions = np.arange(1, nb_hx + 3)  # positions pour chaque partie (1 à nb_hx)\n",
    "\n",
    "# Boucle sur chaque cas\n",
    "for case in range(nb_cases):\n",
    "    # Créer une figure pour comparer les simulations\n",
    "    fig_comparison = go.Figure()\n",
    "\n",
    "    # Pour chaque simulation (chaque maillage)\n",
    "    for mesh in range(nb_mesh):\n",
    "        # Liste pour stocker les valeurs de Qdot_top_rad pour chaque partie\n",
    "        top_rad_values = []\n",
    "\n",
    "        # Pour chaque partie\n",
    "        for part in range(1, nb_hx + 3):\n",
    "            # Récupérer les valeurs de Qdot_top_rad pour la dernière itération pour ce cas et ce maillage\n",
    "            iteration = limit_big_it - 1\n",
    "            Qdot_tube, Qdot_top, Qdot_abs, Qdot_top_rad = calculate_Qdot(mesh, case, iteration)\n",
    "            top_rad_values.append(Qdot_top_rad[part - 1])\n",
    "\n",
    "        # Ajouter les barres pour chaque partie\n",
    "        fig_comparison.add_trace(go.Bar(\n",
    "            x=bar_positions + (mesh - (nb_mesh - 1) / 2) * bar_width,\n",
    "            y=top_rad_values,\n",
    "            name=f'Simulation M{mesh + 1}',\n",
    "            marker_color=sim_colors[mesh],\n",
    "            width=bar_width,\n",
    "            opacity=0.8\n",
    "        ))\n",
    "\n",
    "    # Mise en forme du titre et des axes\n",
    "    fig_comparison.update_layout(\n",
    "        title=f'Comparaison des simulations pour Qdot_top_rad - Cas {case + 1}',\n",
    "        xaxis_title='Parties',\n",
    "        yaxis_title='Qdot_top_rad',\n",
    "        xaxis=dict(\n",
    "            tickmode='array',\n",
    "            tickvals=np.arange(1, nb_hx + 3),\n",
    "            ticktext=[f'Part {i}' for i in range(1, nb_hx + 3)]\n",
    "        ),\n",
    "        barmode='group',  # Regrouper les barres\n",
    "        legend_title='Simulation'\n",
    "    )\n",
    "\n",
    "    # Ajouter la figure à la liste\n",
    "    fig_comparison_list.append(fig_comparison)\n",
    "\n",
    "# Afficher toutes les figures\n",
    "for fig_comparison in fig_comparison_list:\n",
    "    fig_comparison.show()\n"
   ]
  },
  {
   "cell_type": "code",
   "execution_count": null,
   "metadata": {},
   "outputs": [],
   "source": [
    "## Comparaison Qdot_top_conv pour chaque partie // CFD\n",
    "\n",
    "# Couleurs pour chaque simulation (autant de couleurs que de simulations)\n",
    "sim_colors = ['#1f77b4', '#ff7f0e', '#2ca02c', '#d62728', '#9467bd', '#8c564b', '#e377c2']\n",
    "\n",
    "# Initialisation de la liste de figures pour les graphiques par cas\n",
    "fig_comparison_list = []\n",
    "\n",
    "# Largeur des barres pour chaque simulation\n",
    "bar_width = 0.8 / nb_mesh\n",
    "\n",
    "# Positions des barres pour chaque partie et chaque simulation\n",
    "bar_positions = np.arange(1, nb_hx + 3)  # positions pour chaque partie (1 à nb_hx)\n",
    "\n",
    "# Boucle sur chaque cas\n",
    "for case in range(nb_cases):\n",
    "    # Créer une figure pour comparer les simulations\n",
    "    fig_comparison = go.Figure()\n",
    "\n",
    "    # Pour chaque simulation (chaque maillage)\n",
    "    for mesh in range(nb_mesh):\n",
    "        # Liste pour stocker les valeurs de Qdot_top_rad pour chaque partie\n",
    "        top_rad_values = []\n",
    "\n",
    "        # Pour chaque partie\n",
    "        for part in range(1, nb_hx + 3):\n",
    "            # Récupérer les valeurs de Qdot_top_rad pour la dernière itération pour ce cas et ce maillage\n",
    "            iteration = limit_big_it - 1\n",
    "            Qdot_tube, Qdot_top, Qdot_abs, Qdot_top_rad = calculate_Qdot(mesh, case, iteration)\n",
    "            top_rad_values.append(Qdot_top[part - 1])\n",
    "\n",
    "        # Ajouter les barres pour chaque partie\n",
    "        fig_comparison.add_trace(go.Bar(\n",
    "            x=bar_positions + (mesh - (nb_mesh - 1) / 2) * bar_width,\n",
    "            y=top_rad_values,\n",
    "            name=f'Simulation M{mesh + 1}',\n",
    "            marker_color=sim_colors[mesh],\n",
    "            width=bar_width,\n",
    "            opacity=0.8\n",
    "        ))\n",
    "\n",
    "    # Mise en forme du titre et des axes\n",
    "    fig_comparison.update_layout(\n",
    "        title=f'Comparaison des simulations pour Qdot_top - Cas {case + 1}',\n",
    "        xaxis_title='Parties',\n",
    "        yaxis_title='Qdot_top',\n",
    "        xaxis=dict(\n",
    "            tickmode='array',\n",
    "            tickvals=np.arange(1, nb_hx + 3),\n",
    "            ticktext=[f'Part {i}' for i in range(1, nb_hx + 3)]\n",
    "        ),\n",
    "        barmode='group',  # Regrouper les barres\n",
    "        legend_title='Simulation'\n",
    "    )\n",
    "\n",
    "    # Ajouter la figure à la liste\n",
    "    fig_comparison_list.append(fig_comparison)\n",
    "\n",
    "# Afficher toutes les figures\n",
    "for fig_comparison in fig_comparison_list:\n",
    "    fig_comparison.show()\n"
   ]
  },
  {
   "cell_type": "code",
   "execution_count": null,
   "metadata": {},
   "outputs": [],
   "source": [
    "## Comparaison Qdot_tube pour chaque partie // CFD\n",
    "\n",
    "# Couleurs pour chaque simulation (autant de couleurs que de simulations)\n",
    "sim_colors = ['#1f77b4', '#ff7f0e', '#2ca02c', '#d62728', '#9467bd', '#8c564b', '#e377c2']\n",
    "\n",
    "# Initialisation de la liste de figures pour les graphiques par cas\n",
    "fig_comparison_list = []\n",
    "\n",
    "# Largeur des barres pour chaque simulation\n",
    "bar_width = 0.8 / nb_mesh\n",
    "\n",
    "# Positions des barres pour chaque partie et chaque simulation\n",
    "bar_positions = np.arange(1, nb_hx + 3)  # positions pour chaque partie (1 à nb_hx)\n",
    "\n",
    "# Boucle sur chaque cas\n",
    "for case in range(nb_cases):\n",
    "    # Créer une figure pour comparer les simulations\n",
    "    fig_comparison = go.Figure()\n",
    "\n",
    "    # Pour chaque simulation (chaque maillage)\n",
    "    for mesh in range(nb_mesh):\n",
    "        # Liste pour stocker les valeurs de Qdot_top_rad pour chaque partie\n",
    "        top_rad_values = []\n",
    "\n",
    "        # Pour chaque partie\n",
    "        for part in range(1, nb_hx + 3):\n",
    "            # Récupérer les valeurs de Qdot_top_rad pour la dernière itération pour ce cas et ce maillage\n",
    "            iteration = limit_big_it - 1\n",
    "            Qdot_tube, Qdot_top, Qdot_abs, Qdot_top_rad = calculate_Qdot(mesh, case, iteration)\n",
    "            top_rad_values.append(Qdot_tube[part - 1])\n",
    "\n",
    "        # Ajouter les barres pour chaque partie\n",
    "        fig_comparison.add_trace(go.Bar(\n",
    "            x=bar_positions + (mesh - (nb_mesh - 1) / 2) * bar_width,\n",
    "            y=top_rad_values,\n",
    "            name=f'Simulation M{mesh + 1}',\n",
    "            marker_color=sim_colors[mesh],\n",
    "            width=bar_width,\n",
    "            opacity=0.8\n",
    "        ))\n",
    "\n",
    "    # Mise en forme du titre et des axes\n",
    "    fig_comparison.update_layout(\n",
    "        title=f'Comparaison des simulations pour Qdot_tube - Cas {case + 1}',\n",
    "        xaxis_title='Parties',\n",
    "        yaxis_title='Qdot_tube',\n",
    "        xaxis=dict(\n",
    "            tickmode='array',\n",
    "            tickvals=np.arange(1, nb_hx + 3),\n",
    "            ticktext=[f'Part {i}' for i in range(1, nb_hx + 3)]\n",
    "        ),\n",
    "        barmode='group',  # Regrouper les barres\n",
    "        legend_title='Simulation'\n",
    "    )\n",
    "\n",
    "    # Ajouter la figure à la liste\n",
    "    fig_comparison_list.append(fig_comparison)\n",
    "\n",
    "# Afficher toutes les figures\n",
    "for fig_comparison in fig_comparison_list:\n",
    "    fig_comparison.show()\n"
   ]
  },
  {
   "cell_type": "code",
   "execution_count": null,
   "metadata": {},
   "outputs": [],
   "source": [
    "## Comparaison de la convergence Qdot_top_conv // CFD et 1D \n",
    "\n",
    "# Initialiser les couleurs pour les parties (7 couleurs différentes)\n",
    "part_colors = ['#1f77b4', '#ff7f0e', '#2ca02c', '#d62728', '#9467bd', '#8c564b', '#e377c2']\n",
    "\n",
    "# Boucle sur chaque cas\n",
    "for case in range(nb_cases):\n",
    "    # Créer une figure pour les valeurs de Qdot_tube\n",
    "    fig_top = go.Figure()\n",
    "\n",
    "    # Pour chaque simulation (chaque maillage)\n",
    "    for mesh in range(nb_mesh):\n",
    "        # Listes pour stocker les valeurs de chaque transfert pour chaque itération pour CFD et 1D\n",
    "        Qdot_top_values_cfd = []\n",
    "        Qdot_top_values_1d = [[] for _ in range(nb_hx + 3)]\n",
    "        Qdot_combined_values = [[] for _ in range(nb_hx + 3)]\n",
    "        iterations_cfd = []\n",
    "        iterations_1d = [[] for _ in range(nb_hx + 3)]\n",
    "        iterations_combined = [[] for _ in range(nb_hx + 3)]\n",
    "\n",
    "        # Boucle sur chaque itération pour calculer les valeurs\n",
    "        for iteration in range(limit_big_it):\n",
    "            # Calculer les valeurs CFD\n",
    "            Qdot_tube, Qdot_top, Qdot_abs, Qdot_top_rad = calculate_Qdot(mesh, case, iteration)\n",
    "            Qdot_top_values_cfd.append(Qdot_top)\n",
    "            iterations_cfd.append(iteration + 1)\n",
    "\n",
    "            # Récupérer les valeurs pour Qdot_tube_back pour 1D\n",
    "            for part in range(1, nb_hx + 3):\n",
    "                top_value_1d = df_one_mesh_case_list[mesh][case][iteration]['Qdot_top_conv'].loc[f'part{part}']\n",
    "                Qdot_top_values_1d[part-1].append(top_value_1d)\n",
    "                iterations_1d[part-1].append(iteration + 1.5)\n",
    "\n",
    "                # Combinaison des valeurs CFD et 1D\n",
    "                Qdot_combined_values[part-1].append(Qdot_top[part-1])\n",
    "                Qdot_combined_values[part-1].append(top_value_1d)\n",
    "                iterations_combined[part-1].append(iteration + 1)\n",
    "                iterations_combined[part-1].append(iteration + 1.5)\n",
    "\n",
    "        # Ajouter les valeurs CFD et 1D à la figure\n",
    "        for part in range(1, nb_hx + 3):\n",
    "            # Tracer les valeurs CFD\n",
    "            fig_top.add_trace(go.Scatter(x=iterations_cfd, \n",
    "                                          y=[qt[part-1] for qt in Qdot_top_values_cfd],\n",
    "                                          mode='markers',\n",
    "                                          name=f'Part {part} CFD - Simu M{mesh+1}',\n",
    "                                          line=dict(width=2, color=part_colors[part-1]),\n",
    "                                          marker=dict(symbol='cross')))\n",
    "\n",
    "            # Tracer les valeurs 1D\n",
    "            fig_top.add_trace(go.Scatter(x=iterations_1d[part-1], \n",
    "                                          y=Qdot_top_values_1d[part-1],\n",
    "                                          mode='markers',\n",
    "                                          name=f'Part {part} 1D - Simu M{mesh+1}',\n",
    "                                          line=dict(width=2, color=part_colors[part-1], dash='dot'),\n",
    "                                          marker=dict(symbol='x')))\n",
    "            \n",
    "            # Tracer la courbe combinée\n",
    "            fig_top.add_trace(go.Scatter(x=iterations_combined[part-1], \n",
    "                                          y=Qdot_combined_values[part-1],\n",
    "                                          mode='lines',\n",
    "                                          name=f'Part {part} Combiné',\n",
    "                                          line=dict(width=2, color=part_colors[part-1], dash ='dot')))\n",
    "\n",
    "    # Mise en forme du titre et des axes\n",
    "    fig_top.update_layout(title=f'Qdot_top_conv - Cas {case+1}',\n",
    "                           xaxis_title='Itération',\n",
    "                           yaxis_title='Qdot_tube_back',\n",
    "                           legend_title='Partie et Simulation')\n",
    "\n",
    "    # Affichage de la figure\n",
    "    fig_top.show()\n"
   ]
  },
  {
   "cell_type": "code",
   "execution_count": null,
   "metadata": {},
   "outputs": [],
   "source": [
    "## Comparaison Qdot_tube pour chaque partie // CFD et 1D\n",
    "\n",
    "# Initialiser les couleurs pour les parties (7 couleurs différentes)\n",
    "part_colors = ['#1f77b4', '#ff7f0e', '#2ca02c', '#d62728', '#9467bd', '#8c564b', '#e377c2']\n",
    "\n",
    "# Boucle sur chaque cas\n",
    "for case in range(nb_cases):\n",
    "    # Créer une figure pour les valeurs de Qdot_tube\n",
    "    fig_tube = go.Figure()\n",
    "\n",
    "    # Pour chaque simulation (chaque maillage)\n",
    "    for mesh in range(nb_mesh):\n",
    "        # Listes pour stocker les valeurs de chaque transfert pour chaque itération pour CFD et 1D\n",
    "        Qdot_tube_values_cfd = []\n",
    "        Qdot_tube_values_1d = [[] for _ in range(nb_hx + 3)]\n",
    "        Qdot_combined_values = [[] for _ in range(nb_hx + 3)]\n",
    "        iterations_cfd = []\n",
    "        iterations_1d = [[] for _ in range(nb_hx + 3)]\n",
    "        iterations_combined = [[] for _ in range(nb_hx + 3)]\n",
    "\n",
    "        # Boucle sur chaque itération pour calculer les valeurs\n",
    "        for iteration in range(limit_big_it):\n",
    "            # Calculer les valeurs CFD\n",
    "            Qdot_tube, Qdot_top, Qdot_abs, Qdot_top_rad = calculate_Qdot(mesh, case, iteration)\n",
    "            Qdot_tube_values_cfd.append(Qdot_tube)\n",
    "            iterations_cfd.append(iteration + 1)\n",
    "\n",
    "            # Récupérer les valeurs pour Qdot_tube_back pour 1D\n",
    "            for part in {3,5}:\n",
    "                tube_value_1d = df_one_mesh_case_list[mesh][case][iteration]['Qdot_tube_back'].loc[f'part{part}']\n",
    "                Qdot_tube_values_1d[part-1].append(tube_value_1d)\n",
    "                iterations_1d[part-1].append(iteration + 1.5)\n",
    "\n",
    "                # Combinaison des valeurs CFD et 1D\n",
    "                Qdot_combined_values[part-1].append(Qdot_tube[part-1])\n",
    "                Qdot_combined_values[part-1].append(tube_value_1d)\n",
    "                iterations_combined[part-1].append(iteration + 1)\n",
    "                iterations_combined[part-1].append(iteration + 1.5)\n",
    "\n",
    "        # Ajouter les valeurs CFD et 1D à la figure\n",
    "        for part in {3,5}:\n",
    "            # Tracer les valeurs CFD\n",
    "            fig_tube.add_trace(go.Scatter(x=iterations_cfd, \n",
    "                                          y=[qt[part-1] for qt in Qdot_tube_values_cfd],\n",
    "                                          mode='markers',\n",
    "                                          name=f'Simu M{mesh+1}-Part{part} CFD',\n",
    "                                          line=dict(width=2, color=part_colors[part-1]),\n",
    "                                          marker=dict(symbol='cross')))\n",
    "\n",
    "            # Tracer les valeurs 1D\n",
    "            fig_tube.add_trace(go.Scatter(x=iterations_1d[part-1], \n",
    "                                          y=Qdot_tube_values_1d[part-1],\n",
    "                                          mode='markers',\n",
    "                                          name=f'Simu M{mesh+1}-Part{part} 1D',\n",
    "                                          line=dict(width=2, color=part_colors[part-1], dash='dot'),\n",
    "                                          marker=dict(symbol='x')))\n",
    "            \n",
    "            # Tracer la courbe combinée\n",
    "            fig_tube.add_trace(go.Scatter(x=iterations_combined[part-1], \n",
    "                                          y=Qdot_combined_values[part-1],\n",
    "                                          mode='lines',\n",
    "                                          name=f'Part {part} Combiné',\n",
    "                                          line=dict(width=2, color=part_colors[part-1], dash ='dot')))\n",
    "\n",
    "    # Mise en forme du titre et des axes\n",
    "    fig_tube.update_layout(title=f'Qdot_tube - Cas {case+1}',\n",
    "                           xaxis_title='Itération',\n",
    "                           yaxis_title='Qdot_tube_back',\n",
    "                           legend_title='Partie et Simulation')\n",
    "\n",
    "    # Affichage de la figure\n",
    "    fig_tube.show()\n"
   ]
  },
  {
   "cell_type": "markdown",
   "metadata": {},
   "source": [
    "### Cas par cas"
   ]
  },
  {
   "cell_type": "code",
   "execution_count": 94,
   "metadata": {},
   "outputs": [
    {
     "data": {
      "application/vnd.plotly.v1+json": {
       "config": {
        "plotlyServerURL": "https://plot.ly"
       },
       "data": [
        {
         "hovertemplate": "Simu M1 <br>Part3 <br>%{y:.2f}",
         "line": {
          "color": "#2ca02c",
          "width": 2
         },
         "marker": {
          "symbol": "cross"
         },
         "mode": "markers",
         "name": "Qdot_top CFD",
         "type": "scatter",
         "x": [
          1,
          2,
          3,
          4,
          5,
          6
         ],
         "y": [
          -87.29253125,
          -95.69426475,
          -95.73636400000001,
          -95.90030075000001,
          -95.906604,
          -96.04699025
         ]
        },
        {
         "hovertemplate": "Simu M1 <br>Part3 <br>%{y:.2f}",
         "line": {
          "color": "#2ca02c",
          "dash": "dot",
          "width": 2
         },
         "marker": {
          "symbol": "x"
         },
         "mode": "markers",
         "name": "Qdot_top_conv 1D",
         "type": "scatter",
         "x": [
          1.5,
          2.5,
          3.5,
          4.5,
          5.5,
          6.5
         ],
         "y": [
          -16.08370270746916,
          -87.29259537018191,
          -95.6943012041398,
          -95.73645477722036,
          -95.90051396034583,
          -95.90643816472743
         ]
        },
        {
         "line": {
          "color": "#2ca02c",
          "dash": "dot",
          "width": 2
         },
         "mode": "lines",
         "name": "Part 3",
         "type": "scatter",
         "x": [
          1,
          1.5,
          2,
          2.5,
          3,
          3.5,
          4,
          4.5,
          5,
          5.5,
          6,
          6.5
         ],
         "y": [
          -87.29253125,
          -16.08370270746916,
          -95.69426475,
          -87.29259537018191,
          -95.73636400000001,
          -95.6943012041398,
          -95.90030075000001,
          -95.73645477722036,
          -95.906604,
          -95.90051396034583,
          -96.04699025,
          -95.90643816472743
         ]
        },
        {
         "hovertemplate": "Simu M1 <br>Part5 <br>%{y:.2f}",
         "line": {
          "color": "#9467bd",
          "width": 2
         },
         "marker": {
          "symbol": "cross"
         },
         "mode": "markers",
         "name": "Qdot_top CFD",
         "type": "scatter",
         "x": [
          1,
          2,
          3,
          4,
          5,
          6
         ],
         "y": [
          -63.36829175,
          -79.62176099999999,
          -79.22860349999999,
          -78.12700724999999,
          -76.91865,
          -75.5220075
         ]
        },
        {
         "hovertemplate": "Simu M1 <br>Part5 <br>%{y:.2f}",
         "line": {
          "color": "#9467bd",
          "dash": "dot",
          "width": 2
         },
         "marker": {
          "symbol": "x"
         },
         "mode": "markers",
         "name": "Qdot_top_conv 1D",
         "type": "scatter",
         "x": [
          1.5,
          2.5,
          3.5,
          4.5,
          5.5,
          6.5
         ],
         "y": [
          -14.65518419988733,
          -63.36837075578689,
          -79.62184826399019,
          -79.22878731588176,
          -78.12706956577243,
          -76.91847275613
         ]
        },
        {
         "line": {
          "color": "#9467bd",
          "dash": "dot",
          "width": 2
         },
         "mode": "lines",
         "name": "Part 5",
         "type": "scatter",
         "x": [
          1,
          1.5,
          2,
          2.5,
          3,
          3.5,
          4,
          4.5,
          5,
          5.5,
          6,
          6.5
         ],
         "y": [
          -63.36829175,
          -14.65518419988733,
          -79.62176099999999,
          -63.36837075578689,
          -79.22860349999999,
          -79.62184826399019,
          -78.12700724999999,
          -79.22878731588176,
          -76.91865,
          -78.12706956577243,
          -75.5220075,
          -76.91847275613
         ]
        },
        {
         "hovertemplate": "Simu M2 <br>Part3 <br>%{y:.2f}",
         "line": {
          "color": "#2ca02c",
          "width": 2
         },
         "marker": {
          "symbol": "cross"
         },
         "mode": "markers",
         "name": "Qdot_top CFD",
         "type": "scatter",
         "x": [
          1,
          2,
          3,
          4,
          5,
          6
         ],
         "y": [
          -82.4000075,
          -95.47084849999999,
          -95.93904649999999,
          -96.00407875,
          -96.10123999999999,
          -96.1532525
         ]
        },
        {
         "hovertemplate": "Simu M2 <br>Part3 <br>%{y:.2f}",
         "line": {
          "color": "#2ca02c",
          "dash": "dot",
          "width": 2
         },
         "marker": {
          "symbol": "x"
         },
         "mode": "markers",
         "name": "Qdot_top_conv 1D",
         "type": "scatter",
         "x": [
          1.5,
          2.5,
          3.5,
          4.5,
          5.5,
          6.5
         ],
         "y": [
          -16.08370270746916,
          -82.40004919109364,
          -95.47088322630889,
          -95.93913626894484,
          -96.00428893574392,
          -96.10139658805876
         ]
        },
        {
         "line": {
          "color": "#2ca02c",
          "dash": "dot",
          "width": 2
         },
         "mode": "lines",
         "name": "Part 3",
         "type": "scatter",
         "x": [
          1,
          1.5,
          2,
          2.5,
          3,
          3.5,
          4,
          4.5,
          5,
          5.5,
          6,
          6.5
         ],
         "y": [
          -82.4000075,
          -16.08370270746916,
          -95.47084849999999,
          -82.40004919109364,
          -95.93904649999999,
          -95.47088322630889,
          -96.00407875,
          -95.93913626894484,
          -96.10123999999999,
          -96.00428893574392,
          -96.1532525,
          -96.10139658805876
         ]
        },
        {
         "hovertemplate": "Simu M2 <br>Part5 <br>%{y:.2f}",
         "line": {
          "color": "#9467bd",
          "width": 2
         },
         "marker": {
          "symbol": "cross"
         },
         "mode": "markers",
         "name": "Qdot_top CFD",
         "type": "scatter",
         "x": [
          1,
          2,
          3,
          4,
          5,
          6
         ],
         "y": [
          -55.02979975,
          -79.30573874999999,
          -78.93032725,
          -77.97852225,
          -76.99131075,
          -75.3032035
         ]
        },
        {
         "hovertemplate": "Simu M2 <br>Part5 <br>%{y:.2f}",
         "line": {
          "color": "#9467bd",
          "dash": "dot",
          "width": 2
         },
         "marker": {
          "symbol": "x"
         },
         "mode": "markers",
         "name": "Qdot_top_conv 1D",
         "type": "scatter",
         "x": [
          1.5,
          2.5,
          3.5,
          4.5,
          5.5,
          6.5
         ],
         "y": [
          -14.65518419988733,
          -55.02983061576943,
          -79.30582134595929,
          -78.93050164205805,
          -77.9785828630627,
          -76.99117142208146
         ]
        },
        {
         "line": {
          "color": "#9467bd",
          "dash": "dot",
          "width": 2
         },
         "mode": "lines",
         "name": "Part 5",
         "type": "scatter",
         "x": [
          1,
          1.5,
          2,
          2.5,
          3,
          3.5,
          4,
          4.5,
          5,
          5.5,
          6,
          6.5
         ],
         "y": [
          -55.02979975,
          -14.65518419988733,
          -79.30573874999999,
          -55.02983061576943,
          -78.93032725,
          -79.30582134595929,
          -77.97852225,
          -78.93050164205805,
          -76.99131075,
          -77.9785828630627,
          -75.3032035,
          -76.99117142208146
         ]
        },
        {
         "hovertemplate": "Simu M3 <br>Part3 <br>%{y:.2f}",
         "line": {
          "color": "#2ca02c",
          "width": 2
         },
         "marker": {
          "symbol": "cross"
         },
         "mode": "markers",
         "name": "Qdot_top CFD",
         "type": "scatter",
         "x": [
          1,
          2,
          3,
          4,
          5,
          6
         ],
         "y": [
          -81.62418525,
          -95.3660445,
          -96.047869,
          -96.0949985,
          -96.080454,
          -96.25496424999999
         ]
        },
        {
         "hovertemplate": "Simu M3 <br>Part3 <br>%{y:.2f}",
         "line": {
          "color": "#2ca02c",
          "dash": "dot",
          "width": 2
         },
         "marker": {
          "symbol": "x"
         },
         "mode": "markers",
         "name": "Qdot_top_conv 1D",
         "type": "scatter",
         "x": [
          1.5,
          2.5,
          3.5,
          4.5,
          5.5,
          6.5
         ],
         "y": [
          -16.08370270746916,
          -81.62422318162005,
          -95.3660775125032,
          -96.04795573964677,
          -96.09520433099216,
          -96.08074353362616
         ]
        },
        {
         "line": {
          "color": "#2ca02c",
          "dash": "dot",
          "width": 2
         },
         "mode": "lines",
         "name": "Part 3",
         "type": "scatter",
         "x": [
          1,
          1.5,
          2,
          2.5,
          3,
          3.5,
          4,
          4.5,
          5,
          5.5,
          6,
          6.5
         ],
         "y": [
          -81.62418525,
          -16.08370270746916,
          -95.3660445,
          -81.62422318162005,
          -96.047869,
          -95.3660775125032,
          -96.0949985,
          -96.04795573964677,
          -96.080454,
          -96.09520433099216,
          -96.25496424999999,
          -96.08074353362616
         ]
        },
        {
         "hovertemplate": "Simu M3 <br>Part5 <br>%{y:.2f}",
         "line": {
          "color": "#9467bd",
          "width": 2
         },
         "marker": {
          "symbol": "cross"
         },
         "mode": "markers",
         "name": "Qdot_top CFD",
         "type": "scatter",
         "x": [
          1,
          2,
          3,
          4,
          5,
          6
         ],
         "y": [
          -56.57773925,
          -79.86207775,
          -79.12885825,
          -78.08324074999999,
          -77.176024,
          -75.40322425000001
         ]
        },
        {
         "hovertemplate": "Simu M3 <br>Part5 <br>%{y:.2f}",
         "line": {
          "color": "#9467bd",
          "dash": "dot",
          "width": 2
         },
         "marker": {
          "symbol": "x"
         },
         "mode": "markers",
         "name": "Qdot_top_conv 1D",
         "type": "scatter",
         "x": [
          1.5,
          2.5,
          3.5,
          4.5,
          5.5,
          6.5
         ],
         "y": [
          -14.65518419988733,
          -56.57777518039479,
          -79.86216162596477,
          -79.12902971384044,
          -78.08330036815862,
          -77.17591261652065
         ]
        },
        {
         "line": {
          "color": "#9467bd",
          "dash": "dot",
          "width": 2
         },
         "mode": "lines",
         "name": "Part 5",
         "type": "scatter",
         "x": [
          1,
          1.5,
          2,
          2.5,
          3,
          3.5,
          4,
          4.5,
          5,
          5.5,
          6,
          6.5
         ],
         "y": [
          -56.57773925,
          -14.65518419988733,
          -79.86207775,
          -56.57777518039479,
          -79.12885825,
          -79.86216162596477,
          -78.08324074999999,
          -79.12902971384044,
          -77.176024,
          -78.08330036815862,
          -75.40322425000001,
          -77.17591261652065
         ]
        }
       ],
       "layout": {
        "legend": {
         "title": {
          "text": "Partie et Simulation"
         }
        },
        "template": {
         "data": {
          "bar": [
           {
            "error_x": {
             "color": "#2a3f5f"
            },
            "error_y": {
             "color": "#2a3f5f"
            },
            "marker": {
             "line": {
              "color": "#E5ECF6",
              "width": 0.5
             },
             "pattern": {
              "fillmode": "overlay",
              "size": 10,
              "solidity": 0.2
             }
            },
            "type": "bar"
           }
          ],
          "barpolar": [
           {
            "marker": {
             "line": {
              "color": "#E5ECF6",
              "width": 0.5
             },
             "pattern": {
              "fillmode": "overlay",
              "size": 10,
              "solidity": 0.2
             }
            },
            "type": "barpolar"
           }
          ],
          "carpet": [
           {
            "aaxis": {
             "endlinecolor": "#2a3f5f",
             "gridcolor": "white",
             "linecolor": "white",
             "minorgridcolor": "white",
             "startlinecolor": "#2a3f5f"
            },
            "baxis": {
             "endlinecolor": "#2a3f5f",
             "gridcolor": "white",
             "linecolor": "white",
             "minorgridcolor": "white",
             "startlinecolor": "#2a3f5f"
            },
            "type": "carpet"
           }
          ],
          "choropleth": [
           {
            "colorbar": {
             "outlinewidth": 0,
             "ticks": ""
            },
            "type": "choropleth"
           }
          ],
          "contour": [
           {
            "colorbar": {
             "outlinewidth": 0,
             "ticks": ""
            },
            "colorscale": [
             [
              0,
              "#0d0887"
             ],
             [
              0.1111111111111111,
              "#46039f"
             ],
             [
              0.2222222222222222,
              "#7201a8"
             ],
             [
              0.3333333333333333,
              "#9c179e"
             ],
             [
              0.4444444444444444,
              "#bd3786"
             ],
             [
              0.5555555555555556,
              "#d8576b"
             ],
             [
              0.6666666666666666,
              "#ed7953"
             ],
             [
              0.7777777777777778,
              "#fb9f3a"
             ],
             [
              0.8888888888888888,
              "#fdca26"
             ],
             [
              1,
              "#f0f921"
             ]
            ],
            "type": "contour"
           }
          ],
          "contourcarpet": [
           {
            "colorbar": {
             "outlinewidth": 0,
             "ticks": ""
            },
            "type": "contourcarpet"
           }
          ],
          "heatmap": [
           {
            "colorbar": {
             "outlinewidth": 0,
             "ticks": ""
            },
            "colorscale": [
             [
              0,
              "#0d0887"
             ],
             [
              0.1111111111111111,
              "#46039f"
             ],
             [
              0.2222222222222222,
              "#7201a8"
             ],
             [
              0.3333333333333333,
              "#9c179e"
             ],
             [
              0.4444444444444444,
              "#bd3786"
             ],
             [
              0.5555555555555556,
              "#d8576b"
             ],
             [
              0.6666666666666666,
              "#ed7953"
             ],
             [
              0.7777777777777778,
              "#fb9f3a"
             ],
             [
              0.8888888888888888,
              "#fdca26"
             ],
             [
              1,
              "#f0f921"
             ]
            ],
            "type": "heatmap"
           }
          ],
          "heatmapgl": [
           {
            "colorbar": {
             "outlinewidth": 0,
             "ticks": ""
            },
            "colorscale": [
             [
              0,
              "#0d0887"
             ],
             [
              0.1111111111111111,
              "#46039f"
             ],
             [
              0.2222222222222222,
              "#7201a8"
             ],
             [
              0.3333333333333333,
              "#9c179e"
             ],
             [
              0.4444444444444444,
              "#bd3786"
             ],
             [
              0.5555555555555556,
              "#d8576b"
             ],
             [
              0.6666666666666666,
              "#ed7953"
             ],
             [
              0.7777777777777778,
              "#fb9f3a"
             ],
             [
              0.8888888888888888,
              "#fdca26"
             ],
             [
              1,
              "#f0f921"
             ]
            ],
            "type": "heatmapgl"
           }
          ],
          "histogram": [
           {
            "marker": {
             "pattern": {
              "fillmode": "overlay",
              "size": 10,
              "solidity": 0.2
             }
            },
            "type": "histogram"
           }
          ],
          "histogram2d": [
           {
            "colorbar": {
             "outlinewidth": 0,
             "ticks": ""
            },
            "colorscale": [
             [
              0,
              "#0d0887"
             ],
             [
              0.1111111111111111,
              "#46039f"
             ],
             [
              0.2222222222222222,
              "#7201a8"
             ],
             [
              0.3333333333333333,
              "#9c179e"
             ],
             [
              0.4444444444444444,
              "#bd3786"
             ],
             [
              0.5555555555555556,
              "#d8576b"
             ],
             [
              0.6666666666666666,
              "#ed7953"
             ],
             [
              0.7777777777777778,
              "#fb9f3a"
             ],
             [
              0.8888888888888888,
              "#fdca26"
             ],
             [
              1,
              "#f0f921"
             ]
            ],
            "type": "histogram2d"
           }
          ],
          "histogram2dcontour": [
           {
            "colorbar": {
             "outlinewidth": 0,
             "ticks": ""
            },
            "colorscale": [
             [
              0,
              "#0d0887"
             ],
             [
              0.1111111111111111,
              "#46039f"
             ],
             [
              0.2222222222222222,
              "#7201a8"
             ],
             [
              0.3333333333333333,
              "#9c179e"
             ],
             [
              0.4444444444444444,
              "#bd3786"
             ],
             [
              0.5555555555555556,
              "#d8576b"
             ],
             [
              0.6666666666666666,
              "#ed7953"
             ],
             [
              0.7777777777777778,
              "#fb9f3a"
             ],
             [
              0.8888888888888888,
              "#fdca26"
             ],
             [
              1,
              "#f0f921"
             ]
            ],
            "type": "histogram2dcontour"
           }
          ],
          "mesh3d": [
           {
            "colorbar": {
             "outlinewidth": 0,
             "ticks": ""
            },
            "type": "mesh3d"
           }
          ],
          "parcoords": [
           {
            "line": {
             "colorbar": {
              "outlinewidth": 0,
              "ticks": ""
             }
            },
            "type": "parcoords"
           }
          ],
          "pie": [
           {
            "automargin": true,
            "type": "pie"
           }
          ],
          "scatter": [
           {
            "fillpattern": {
             "fillmode": "overlay",
             "size": 10,
             "solidity": 0.2
            },
            "type": "scatter"
           }
          ],
          "scatter3d": [
           {
            "line": {
             "colorbar": {
              "outlinewidth": 0,
              "ticks": ""
             }
            },
            "marker": {
             "colorbar": {
              "outlinewidth": 0,
              "ticks": ""
             }
            },
            "type": "scatter3d"
           }
          ],
          "scattercarpet": [
           {
            "marker": {
             "colorbar": {
              "outlinewidth": 0,
              "ticks": ""
             }
            },
            "type": "scattercarpet"
           }
          ],
          "scattergeo": [
           {
            "marker": {
             "colorbar": {
              "outlinewidth": 0,
              "ticks": ""
             }
            },
            "type": "scattergeo"
           }
          ],
          "scattergl": [
           {
            "marker": {
             "colorbar": {
              "outlinewidth": 0,
              "ticks": ""
             }
            },
            "type": "scattergl"
           }
          ],
          "scattermapbox": [
           {
            "marker": {
             "colorbar": {
              "outlinewidth": 0,
              "ticks": ""
             }
            },
            "type": "scattermapbox"
           }
          ],
          "scatterpolar": [
           {
            "marker": {
             "colorbar": {
              "outlinewidth": 0,
              "ticks": ""
             }
            },
            "type": "scatterpolar"
           }
          ],
          "scatterpolargl": [
           {
            "marker": {
             "colorbar": {
              "outlinewidth": 0,
              "ticks": ""
             }
            },
            "type": "scatterpolargl"
           }
          ],
          "scatterternary": [
           {
            "marker": {
             "colorbar": {
              "outlinewidth": 0,
              "ticks": ""
             }
            },
            "type": "scatterternary"
           }
          ],
          "surface": [
           {
            "colorbar": {
             "outlinewidth": 0,
             "ticks": ""
            },
            "colorscale": [
             [
              0,
              "#0d0887"
             ],
             [
              0.1111111111111111,
              "#46039f"
             ],
             [
              0.2222222222222222,
              "#7201a8"
             ],
             [
              0.3333333333333333,
              "#9c179e"
             ],
             [
              0.4444444444444444,
              "#bd3786"
             ],
             [
              0.5555555555555556,
              "#d8576b"
             ],
             [
              0.6666666666666666,
              "#ed7953"
             ],
             [
              0.7777777777777778,
              "#fb9f3a"
             ],
             [
              0.8888888888888888,
              "#fdca26"
             ],
             [
              1,
              "#f0f921"
             ]
            ],
            "type": "surface"
           }
          ],
          "table": [
           {
            "cells": {
             "fill": {
              "color": "#EBF0F8"
             },
             "line": {
              "color": "white"
             }
            },
            "header": {
             "fill": {
              "color": "#C8D4E3"
             },
             "line": {
              "color": "white"
             }
            },
            "type": "table"
           }
          ]
         },
         "layout": {
          "annotationdefaults": {
           "arrowcolor": "#2a3f5f",
           "arrowhead": 0,
           "arrowwidth": 1
          },
          "autotypenumbers": "strict",
          "coloraxis": {
           "colorbar": {
            "outlinewidth": 0,
            "ticks": ""
           }
          },
          "colorscale": {
           "diverging": [
            [
             0,
             "#8e0152"
            ],
            [
             0.1,
             "#c51b7d"
            ],
            [
             0.2,
             "#de77ae"
            ],
            [
             0.3,
             "#f1b6da"
            ],
            [
             0.4,
             "#fde0ef"
            ],
            [
             0.5,
             "#f7f7f7"
            ],
            [
             0.6,
             "#e6f5d0"
            ],
            [
             0.7,
             "#b8e186"
            ],
            [
             0.8,
             "#7fbc41"
            ],
            [
             0.9,
             "#4d9221"
            ],
            [
             1,
             "#276419"
            ]
           ],
           "sequential": [
            [
             0,
             "#0d0887"
            ],
            [
             0.1111111111111111,
             "#46039f"
            ],
            [
             0.2222222222222222,
             "#7201a8"
            ],
            [
             0.3333333333333333,
             "#9c179e"
            ],
            [
             0.4444444444444444,
             "#bd3786"
            ],
            [
             0.5555555555555556,
             "#d8576b"
            ],
            [
             0.6666666666666666,
             "#ed7953"
            ],
            [
             0.7777777777777778,
             "#fb9f3a"
            ],
            [
             0.8888888888888888,
             "#fdca26"
            ],
            [
             1,
             "#f0f921"
            ]
           ],
           "sequentialminus": [
            [
             0,
             "#0d0887"
            ],
            [
             0.1111111111111111,
             "#46039f"
            ],
            [
             0.2222222222222222,
             "#7201a8"
            ],
            [
             0.3333333333333333,
             "#9c179e"
            ],
            [
             0.4444444444444444,
             "#bd3786"
            ],
            [
             0.5555555555555556,
             "#d8576b"
            ],
            [
             0.6666666666666666,
             "#ed7953"
            ],
            [
             0.7777777777777778,
             "#fb9f3a"
            ],
            [
             0.8888888888888888,
             "#fdca26"
            ],
            [
             1,
             "#f0f921"
            ]
           ]
          },
          "colorway": [
           "#636efa",
           "#EF553B",
           "#00cc96",
           "#ab63fa",
           "#FFA15A",
           "#19d3f3",
           "#FF6692",
           "#B6E880",
           "#FF97FF",
           "#FECB52"
          ],
          "font": {
           "color": "#2a3f5f"
          },
          "geo": {
           "bgcolor": "white",
           "lakecolor": "white",
           "landcolor": "#E5ECF6",
           "showlakes": true,
           "showland": true,
           "subunitcolor": "white"
          },
          "hoverlabel": {
           "align": "left"
          },
          "hovermode": "closest",
          "mapbox": {
           "style": "light"
          },
          "paper_bgcolor": "white",
          "plot_bgcolor": "#E5ECF6",
          "polar": {
           "angularaxis": {
            "gridcolor": "white",
            "linecolor": "white",
            "ticks": ""
           },
           "bgcolor": "#E5ECF6",
           "radialaxis": {
            "gridcolor": "white",
            "linecolor": "white",
            "ticks": ""
           }
          },
          "scene": {
           "xaxis": {
            "backgroundcolor": "#E5ECF6",
            "gridcolor": "white",
            "gridwidth": 2,
            "linecolor": "white",
            "showbackground": true,
            "ticks": "",
            "zerolinecolor": "white"
           },
           "yaxis": {
            "backgroundcolor": "#E5ECF6",
            "gridcolor": "white",
            "gridwidth": 2,
            "linecolor": "white",
            "showbackground": true,
            "ticks": "",
            "zerolinecolor": "white"
           },
           "zaxis": {
            "backgroundcolor": "#E5ECF6",
            "gridcolor": "white",
            "gridwidth": 2,
            "linecolor": "white",
            "showbackground": true,
            "ticks": "",
            "zerolinecolor": "white"
           }
          },
          "shapedefaults": {
           "line": {
            "color": "#2a3f5f"
           }
          },
          "ternary": {
           "aaxis": {
            "gridcolor": "white",
            "linecolor": "white",
            "ticks": ""
           },
           "baxis": {
            "gridcolor": "white",
            "linecolor": "white",
            "ticks": ""
           },
           "bgcolor": "#E5ECF6",
           "caxis": {
            "gridcolor": "white",
            "linecolor": "white",
            "ticks": ""
           }
          },
          "title": {
           "x": 0.05
          },
          "xaxis": {
           "automargin": true,
           "gridcolor": "white",
           "linecolor": "white",
           "ticks": "",
           "title": {
            "standoff": 15
           },
           "zerolinecolor": "white",
           "zerolinewidth": 2
          },
          "yaxis": {
           "automargin": true,
           "gridcolor": "white",
           "linecolor": "white",
           "ticks": "",
           "title": {
            "standoff": 15
           },
           "zerolinecolor": "white",
           "zerolinewidth": 2
          }
         }
        },
        "title": {
         "text": "Qdot_top - Cas 1"
        },
        "xaxis": {
         "title": {
          "text": "Itération"
         }
        },
        "yaxis": {
         "title": {
          "text": "Qdot_top [W]"
         }
        }
       }
      }
     },
     "metadata": {},
     "output_type": "display_data"
    },
    {
     "data": {
      "application/vnd.plotly.v1+json": {
       "config": {
        "plotlyServerURL": "https://plot.ly"
       },
       "data": [
        {
         "hovertemplate": "Simu M1 <br>Part3 <br>%{y:.2f}",
         "line": {
          "color": "#2ca02c",
          "width": 2
         },
         "marker": {
          "symbol": "cross"
         },
         "mode": "markers",
         "name": "Qdot_tube CFD",
         "type": "scatter",
         "x": [
          1,
          2,
          3,
          4,
          5,
          6
         ],
         "y": [
          -21.489695875,
          -26.94389525,
          -31.452392425,
          -29.94284955,
          -28.269723324999998,
          -27.877164325000003
         ]
        },
        {
         "hovertemplate": "Simu M1 <br>Part3 <br>%{y:.2f}",
         "line": {
          "color": "#2ca02c",
          "dash": "dot",
          "width": 2
         },
         "marker": {
          "symbol": "x"
         },
         "mode": "markers",
         "name": "Qdot_tube_back 1D",
         "type": "scatter",
         "x": [
          1.5,
          2.5,
          3.5,
          4.5,
          5.5,
          6.5
         ],
         "y": [
          -49.5656852459693,
          -21.48969587556779,
          -26.943895250430227,
          -31.45239242525656,
          -29.94284955014123,
          -28.26972332501782
         ]
        },
        {
         "line": {
          "color": "#2ca02c",
          "dash": "dot",
          "width": 2
         },
         "mode": "lines",
         "name": "Part 3",
         "type": "scatter",
         "x": [
          1,
          1.5,
          2,
          2.5,
          3,
          3.5,
          4,
          4.5,
          5,
          5.5,
          6,
          6.5
         ],
         "y": [
          -21.489695875,
          -49.5656852459693,
          -26.94389525,
          -21.48969587556779,
          -31.452392425,
          -26.943895250430227,
          -29.94284955,
          -31.45239242525656,
          -28.269723324999998,
          -29.94284955014123,
          -27.877164325000003,
          -28.26972332501782
         ]
        },
        {
         "hovertemplate": "Simu M1 <br>Part5 <br>%{y:.2f}",
         "line": {
          "color": "#9467bd",
          "width": 2
         },
         "marker": {
          "symbol": "cross"
         },
         "mode": "markers",
         "name": "Qdot_tube CFD",
         "type": "scatter",
         "x": [
          1,
          2,
          3,
          4,
          5,
          6
         ],
         "y": [
          -8.197693925,
          -23.208089125,
          -22.395079125,
          -22.906820375000002,
          -22.096420024999997,
          -21.972670174999998
         ]
        },
        {
         "hovertemplate": "Simu M1 <br>Part5 <br>%{y:.2f}",
         "line": {
          "color": "#9467bd",
          "dash": "dot",
          "width": 2
         },
         "marker": {
          "symbol": "x"
         },
         "mode": "markers",
         "name": "Qdot_tube_back 1D",
         "type": "scatter",
         "x": [
          1.5,
          2.5,
          3.5,
          4.5,
          5.5,
          6.5
         ],
         "y": [
          -45.56876251216305,
          -8.197693925593624,
          -23.208089125412528,
          -22.39507912530797,
          -22.906820375182036,
          -22.09642002505964
         ]
        },
        {
         "line": {
          "color": "#9467bd",
          "dash": "dot",
          "width": 2
         },
         "mode": "lines",
         "name": "Part 5",
         "type": "scatter",
         "x": [
          1,
          1.5,
          2,
          2.5,
          3,
          3.5,
          4,
          4.5,
          5,
          5.5,
          6,
          6.5
         ],
         "y": [
          -8.197693925,
          -45.56876251216305,
          -23.208089125,
          -8.197693925593624,
          -22.395079125,
          -23.208089125412528,
          -22.906820375000002,
          -22.39507912530797,
          -22.096420024999997,
          -22.906820375182036,
          -21.972670174999998,
          -22.09642002505964
         ]
        },
        {
         "hovertemplate": "Simu M2 <br>Part3 <br>%{y:.2f}",
         "line": {
          "color": "#2ca02c",
          "width": 2
         },
         "marker": {
          "symbol": "cross"
         },
         "mode": "markers",
         "name": "Qdot_tube CFD",
         "type": "scatter",
         "x": [
          1,
          2,
          3,
          4,
          5,
          6
         ],
         "y": [
          -22.8520163,
          -28.588350475,
          -30.881081899999998,
          -29.150039875,
          -28.515704925,
          -29.2967061
         ]
        },
        {
         "hovertemplate": "Simu M2 <br>Part3 <br>%{y:.2f}",
         "line": {
          "color": "#2ca02c",
          "dash": "dot",
          "width": 2
         },
         "marker": {
          "symbol": "x"
         },
         "mode": "markers",
         "name": "Qdot_tube_back 1D",
         "type": "scatter",
         "x": [
          1.5,
          2.5,
          3.5,
          4.5,
          5.5,
          6.5
         ],
         "y": [
          -49.5656852459693,
          -22.85201630055927,
          -28.58835047541792,
          -30.88108190026825,
          -29.150039875159,
          -28.51570492501989
         ]
        },
        {
         "line": {
          "color": "#2ca02c",
          "dash": "dot",
          "width": 2
         },
         "mode": "lines",
         "name": "Part 3",
         "type": "scatter",
         "x": [
          1,
          1.5,
          2,
          2.5,
          3,
          3.5,
          4,
          4.5,
          5,
          5.5,
          6,
          6.5
         ],
         "y": [
          -22.8520163,
          -49.5656852459693,
          -28.588350475,
          -22.85201630055927,
          -30.881081899999998,
          -28.58835047541792,
          -29.150039875,
          -30.88108190026825,
          -28.515704925,
          -29.150039875159,
          -29.2967061,
          -28.51570492501989
         ]
        },
        {
         "hovertemplate": "Simu M2 <br>Part5 <br>%{y:.2f}",
         "line": {
          "color": "#9467bd",
          "width": 2
         },
         "marker": {
          "symbol": "cross"
         },
         "mode": "markers",
         "name": "Qdot_tube CFD",
         "type": "scatter",
         "x": [
          1,
          2,
          3,
          4,
          5,
          6
         ],
         "y": [
          -8.180307025,
          -23.2284158,
          -21.683161,
          -22.098005575,
          -22.30769765,
          -22.350289949999997
         ]
        },
        {
         "hovertemplate": "Simu M2 <br>Part5 <br>%{y:.2f}",
         "line": {
          "color": "#9467bd",
          "dash": "dot",
          "width": 2
         },
         "marker": {
          "symbol": "x"
         },
         "mode": "markers",
         "name": "Qdot_tube_back 1D",
         "type": "scatter",
         "x": [
          1.5,
          2.5,
          3.5,
          4.5,
          5.5,
          6.5
         ],
         "y": [
          -45.56876251216305,
          -8.180307025596276,
          -23.228415800416048,
          -21.68316100031936,
          -22.098005575198112,
          -22.307697650062146
         ]
        },
        {
         "line": {
          "color": "#9467bd",
          "dash": "dot",
          "width": 2
         },
         "mode": "lines",
         "name": "Part 5",
         "type": "scatter",
         "x": [
          1,
          1.5,
          2,
          2.5,
          3,
          3.5,
          4,
          4.5,
          5,
          5.5,
          6,
          6.5
         ],
         "y": [
          -8.180307025,
          -45.56876251216305,
          -23.2284158,
          -8.180307025596276,
          -21.683161,
          -23.228415800416048,
          -22.098005575,
          -21.68316100031936,
          -22.30769765,
          -22.098005575198112,
          -22.350289949999997,
          -22.307697650062146
         ]
        },
        {
         "hovertemplate": "Simu M3 <br>Part3 <br>%{y:.2f}",
         "line": {
          "color": "#2ca02c",
          "width": 2
         },
         "marker": {
          "symbol": "cross"
         },
         "mode": "markers",
         "name": "Qdot_tube CFD",
         "type": "scatter",
         "x": [
          1,
          2,
          3,
          4,
          5,
          6
         ],
         "y": [
          -15.987217025,
          -28.093067499999997,
          -29.698876725,
          -29.015264325,
          -28.519160550000002,
          -29.499074150000002
         ]
        },
        {
         "hovertemplate": "Simu M3 <br>Part3 <br>%{y:.2f}",
         "line": {
          "color": "#2ca02c",
          "dash": "dot",
          "width": 2
         },
         "marker": {
          "symbol": "x"
         },
         "mode": "markers",
         "name": "Qdot_tube_back 1D",
         "type": "scatter",
         "x": [
          1.5,
          2.5,
          3.5,
          4.5,
          5.5,
          6.5
         ],
         "y": [
          -49.5656852459693,
          -15.987217025603206,
          -28.09306750042831,
          -29.698876725289583,
          -29.01526432516671,
          -28.519160550025408
         ]
        },
        {
         "line": {
          "color": "#2ca02c",
          "dash": "dot",
          "width": 2
         },
         "mode": "lines",
         "name": "Part 3",
         "type": "scatter",
         "x": [
          1,
          1.5,
          2,
          2.5,
          3,
          3.5,
          4,
          4.5,
          5,
          5.5,
          6,
          6.5
         ],
         "y": [
          -15.987217025,
          -49.5656852459693,
          -28.093067499999997,
          -15.987217025603206,
          -29.698876725,
          -28.09306750042831,
          -29.015264325,
          -29.698876725289583,
          -28.519160550000002,
          -29.01526432516671,
          -29.499074150000002,
          -28.519160550025408
         ]
        },
        {
         "hovertemplate": "Simu M3 <br>Part5 <br>%{y:.2f}",
         "line": {
          "color": "#9467bd",
          "width": 2
         },
         "marker": {
          "symbol": "cross"
         },
         "mode": "markers",
         "name": "Qdot_tube CFD",
         "type": "scatter",
         "x": [
          1,
          2,
          3,
          4,
          5,
          6
         ],
         "y": [
          -4.3822037,
          -23.654962,
          -23.17788055,
          -23.1368434,
          -21.794691475,
          -21.9419334
         ]
        },
        {
         "hovertemplate": "Simu M3 <br>Part5 <br>%{y:.2f}",
         "line": {
          "color": "#9467bd",
          "dash": "dot",
          "width": 2
         },
         "marker": {
          "symbol": "x"
         },
         "mode": "markers",
         "name": "Qdot_tube_back 1D",
         "type": "scatter",
         "x": [
          1.5,
          2.5,
          3.5,
          4.5,
          5.5,
          6.5
         ],
         "y": [
          -45.56876251216305,
          -4.382203700607971,
          -23.654962000417296,
          -23.17788055030862,
          -23.13684340018887,
          -21.794691475075854
         ]
        },
        {
         "line": {
          "color": "#9467bd",
          "dash": "dot",
          "width": 2
         },
         "mode": "lines",
         "name": "Part 5",
         "type": "scatter",
         "x": [
          1,
          1.5,
          2,
          2.5,
          3,
          3.5,
          4,
          4.5,
          5,
          5.5,
          6,
          6.5
         ],
         "y": [
          -4.3822037,
          -45.56876251216305,
          -23.654962,
          -4.382203700607971,
          -23.17788055,
          -23.654962000417296,
          -23.1368434,
          -23.17788055030862,
          -21.794691475,
          -23.13684340018887,
          -21.9419334,
          -21.794691475075854
         ]
        }
       ],
       "layout": {
        "legend": {
         "title": {
          "text": "Partie et Simulation"
         }
        },
        "template": {
         "data": {
          "bar": [
           {
            "error_x": {
             "color": "#2a3f5f"
            },
            "error_y": {
             "color": "#2a3f5f"
            },
            "marker": {
             "line": {
              "color": "#E5ECF6",
              "width": 0.5
             },
             "pattern": {
              "fillmode": "overlay",
              "size": 10,
              "solidity": 0.2
             }
            },
            "type": "bar"
           }
          ],
          "barpolar": [
           {
            "marker": {
             "line": {
              "color": "#E5ECF6",
              "width": 0.5
             },
             "pattern": {
              "fillmode": "overlay",
              "size": 10,
              "solidity": 0.2
             }
            },
            "type": "barpolar"
           }
          ],
          "carpet": [
           {
            "aaxis": {
             "endlinecolor": "#2a3f5f",
             "gridcolor": "white",
             "linecolor": "white",
             "minorgridcolor": "white",
             "startlinecolor": "#2a3f5f"
            },
            "baxis": {
             "endlinecolor": "#2a3f5f",
             "gridcolor": "white",
             "linecolor": "white",
             "minorgridcolor": "white",
             "startlinecolor": "#2a3f5f"
            },
            "type": "carpet"
           }
          ],
          "choropleth": [
           {
            "colorbar": {
             "outlinewidth": 0,
             "ticks": ""
            },
            "type": "choropleth"
           }
          ],
          "contour": [
           {
            "colorbar": {
             "outlinewidth": 0,
             "ticks": ""
            },
            "colorscale": [
             [
              0,
              "#0d0887"
             ],
             [
              0.1111111111111111,
              "#46039f"
             ],
             [
              0.2222222222222222,
              "#7201a8"
             ],
             [
              0.3333333333333333,
              "#9c179e"
             ],
             [
              0.4444444444444444,
              "#bd3786"
             ],
             [
              0.5555555555555556,
              "#d8576b"
             ],
             [
              0.6666666666666666,
              "#ed7953"
             ],
             [
              0.7777777777777778,
              "#fb9f3a"
             ],
             [
              0.8888888888888888,
              "#fdca26"
             ],
             [
              1,
              "#f0f921"
             ]
            ],
            "type": "contour"
           }
          ],
          "contourcarpet": [
           {
            "colorbar": {
             "outlinewidth": 0,
             "ticks": ""
            },
            "type": "contourcarpet"
           }
          ],
          "heatmap": [
           {
            "colorbar": {
             "outlinewidth": 0,
             "ticks": ""
            },
            "colorscale": [
             [
              0,
              "#0d0887"
             ],
             [
              0.1111111111111111,
              "#46039f"
             ],
             [
              0.2222222222222222,
              "#7201a8"
             ],
             [
              0.3333333333333333,
              "#9c179e"
             ],
             [
              0.4444444444444444,
              "#bd3786"
             ],
             [
              0.5555555555555556,
              "#d8576b"
             ],
             [
              0.6666666666666666,
              "#ed7953"
             ],
             [
              0.7777777777777778,
              "#fb9f3a"
             ],
             [
              0.8888888888888888,
              "#fdca26"
             ],
             [
              1,
              "#f0f921"
             ]
            ],
            "type": "heatmap"
           }
          ],
          "heatmapgl": [
           {
            "colorbar": {
             "outlinewidth": 0,
             "ticks": ""
            },
            "colorscale": [
             [
              0,
              "#0d0887"
             ],
             [
              0.1111111111111111,
              "#46039f"
             ],
             [
              0.2222222222222222,
              "#7201a8"
             ],
             [
              0.3333333333333333,
              "#9c179e"
             ],
             [
              0.4444444444444444,
              "#bd3786"
             ],
             [
              0.5555555555555556,
              "#d8576b"
             ],
             [
              0.6666666666666666,
              "#ed7953"
             ],
             [
              0.7777777777777778,
              "#fb9f3a"
             ],
             [
              0.8888888888888888,
              "#fdca26"
             ],
             [
              1,
              "#f0f921"
             ]
            ],
            "type": "heatmapgl"
           }
          ],
          "histogram": [
           {
            "marker": {
             "pattern": {
              "fillmode": "overlay",
              "size": 10,
              "solidity": 0.2
             }
            },
            "type": "histogram"
           }
          ],
          "histogram2d": [
           {
            "colorbar": {
             "outlinewidth": 0,
             "ticks": ""
            },
            "colorscale": [
             [
              0,
              "#0d0887"
             ],
             [
              0.1111111111111111,
              "#46039f"
             ],
             [
              0.2222222222222222,
              "#7201a8"
             ],
             [
              0.3333333333333333,
              "#9c179e"
             ],
             [
              0.4444444444444444,
              "#bd3786"
             ],
             [
              0.5555555555555556,
              "#d8576b"
             ],
             [
              0.6666666666666666,
              "#ed7953"
             ],
             [
              0.7777777777777778,
              "#fb9f3a"
             ],
             [
              0.8888888888888888,
              "#fdca26"
             ],
             [
              1,
              "#f0f921"
             ]
            ],
            "type": "histogram2d"
           }
          ],
          "histogram2dcontour": [
           {
            "colorbar": {
             "outlinewidth": 0,
             "ticks": ""
            },
            "colorscale": [
             [
              0,
              "#0d0887"
             ],
             [
              0.1111111111111111,
              "#46039f"
             ],
             [
              0.2222222222222222,
              "#7201a8"
             ],
             [
              0.3333333333333333,
              "#9c179e"
             ],
             [
              0.4444444444444444,
              "#bd3786"
             ],
             [
              0.5555555555555556,
              "#d8576b"
             ],
             [
              0.6666666666666666,
              "#ed7953"
             ],
             [
              0.7777777777777778,
              "#fb9f3a"
             ],
             [
              0.8888888888888888,
              "#fdca26"
             ],
             [
              1,
              "#f0f921"
             ]
            ],
            "type": "histogram2dcontour"
           }
          ],
          "mesh3d": [
           {
            "colorbar": {
             "outlinewidth": 0,
             "ticks": ""
            },
            "type": "mesh3d"
           }
          ],
          "parcoords": [
           {
            "line": {
             "colorbar": {
              "outlinewidth": 0,
              "ticks": ""
             }
            },
            "type": "parcoords"
           }
          ],
          "pie": [
           {
            "automargin": true,
            "type": "pie"
           }
          ],
          "scatter": [
           {
            "fillpattern": {
             "fillmode": "overlay",
             "size": 10,
             "solidity": 0.2
            },
            "type": "scatter"
           }
          ],
          "scatter3d": [
           {
            "line": {
             "colorbar": {
              "outlinewidth": 0,
              "ticks": ""
             }
            },
            "marker": {
             "colorbar": {
              "outlinewidth": 0,
              "ticks": ""
             }
            },
            "type": "scatter3d"
           }
          ],
          "scattercarpet": [
           {
            "marker": {
             "colorbar": {
              "outlinewidth": 0,
              "ticks": ""
             }
            },
            "type": "scattercarpet"
           }
          ],
          "scattergeo": [
           {
            "marker": {
             "colorbar": {
              "outlinewidth": 0,
              "ticks": ""
             }
            },
            "type": "scattergeo"
           }
          ],
          "scattergl": [
           {
            "marker": {
             "colorbar": {
              "outlinewidth": 0,
              "ticks": ""
             }
            },
            "type": "scattergl"
           }
          ],
          "scattermapbox": [
           {
            "marker": {
             "colorbar": {
              "outlinewidth": 0,
              "ticks": ""
             }
            },
            "type": "scattermapbox"
           }
          ],
          "scatterpolar": [
           {
            "marker": {
             "colorbar": {
              "outlinewidth": 0,
              "ticks": ""
             }
            },
            "type": "scatterpolar"
           }
          ],
          "scatterpolargl": [
           {
            "marker": {
             "colorbar": {
              "outlinewidth": 0,
              "ticks": ""
             }
            },
            "type": "scatterpolargl"
           }
          ],
          "scatterternary": [
           {
            "marker": {
             "colorbar": {
              "outlinewidth": 0,
              "ticks": ""
             }
            },
            "type": "scatterternary"
           }
          ],
          "surface": [
           {
            "colorbar": {
             "outlinewidth": 0,
             "ticks": ""
            },
            "colorscale": [
             [
              0,
              "#0d0887"
             ],
             [
              0.1111111111111111,
              "#46039f"
             ],
             [
              0.2222222222222222,
              "#7201a8"
             ],
             [
              0.3333333333333333,
              "#9c179e"
             ],
             [
              0.4444444444444444,
              "#bd3786"
             ],
             [
              0.5555555555555556,
              "#d8576b"
             ],
             [
              0.6666666666666666,
              "#ed7953"
             ],
             [
              0.7777777777777778,
              "#fb9f3a"
             ],
             [
              0.8888888888888888,
              "#fdca26"
             ],
             [
              1,
              "#f0f921"
             ]
            ],
            "type": "surface"
           }
          ],
          "table": [
           {
            "cells": {
             "fill": {
              "color": "#EBF0F8"
             },
             "line": {
              "color": "white"
             }
            },
            "header": {
             "fill": {
              "color": "#C8D4E3"
             },
             "line": {
              "color": "white"
             }
            },
            "type": "table"
           }
          ]
         },
         "layout": {
          "annotationdefaults": {
           "arrowcolor": "#2a3f5f",
           "arrowhead": 0,
           "arrowwidth": 1
          },
          "autotypenumbers": "strict",
          "coloraxis": {
           "colorbar": {
            "outlinewidth": 0,
            "ticks": ""
           }
          },
          "colorscale": {
           "diverging": [
            [
             0,
             "#8e0152"
            ],
            [
             0.1,
             "#c51b7d"
            ],
            [
             0.2,
             "#de77ae"
            ],
            [
             0.3,
             "#f1b6da"
            ],
            [
             0.4,
             "#fde0ef"
            ],
            [
             0.5,
             "#f7f7f7"
            ],
            [
             0.6,
             "#e6f5d0"
            ],
            [
             0.7,
             "#b8e186"
            ],
            [
             0.8,
             "#7fbc41"
            ],
            [
             0.9,
             "#4d9221"
            ],
            [
             1,
             "#276419"
            ]
           ],
           "sequential": [
            [
             0,
             "#0d0887"
            ],
            [
             0.1111111111111111,
             "#46039f"
            ],
            [
             0.2222222222222222,
             "#7201a8"
            ],
            [
             0.3333333333333333,
             "#9c179e"
            ],
            [
             0.4444444444444444,
             "#bd3786"
            ],
            [
             0.5555555555555556,
             "#d8576b"
            ],
            [
             0.6666666666666666,
             "#ed7953"
            ],
            [
             0.7777777777777778,
             "#fb9f3a"
            ],
            [
             0.8888888888888888,
             "#fdca26"
            ],
            [
             1,
             "#f0f921"
            ]
           ],
           "sequentialminus": [
            [
             0,
             "#0d0887"
            ],
            [
             0.1111111111111111,
             "#46039f"
            ],
            [
             0.2222222222222222,
             "#7201a8"
            ],
            [
             0.3333333333333333,
             "#9c179e"
            ],
            [
             0.4444444444444444,
             "#bd3786"
            ],
            [
             0.5555555555555556,
             "#d8576b"
            ],
            [
             0.6666666666666666,
             "#ed7953"
            ],
            [
             0.7777777777777778,
             "#fb9f3a"
            ],
            [
             0.8888888888888888,
             "#fdca26"
            ],
            [
             1,
             "#f0f921"
            ]
           ]
          },
          "colorway": [
           "#636efa",
           "#EF553B",
           "#00cc96",
           "#ab63fa",
           "#FFA15A",
           "#19d3f3",
           "#FF6692",
           "#B6E880",
           "#FF97FF",
           "#FECB52"
          ],
          "font": {
           "color": "#2a3f5f"
          },
          "geo": {
           "bgcolor": "white",
           "lakecolor": "white",
           "landcolor": "#E5ECF6",
           "showlakes": true,
           "showland": true,
           "subunitcolor": "white"
          },
          "hoverlabel": {
           "align": "left"
          },
          "hovermode": "closest",
          "mapbox": {
           "style": "light"
          },
          "paper_bgcolor": "white",
          "plot_bgcolor": "#E5ECF6",
          "polar": {
           "angularaxis": {
            "gridcolor": "white",
            "linecolor": "white",
            "ticks": ""
           },
           "bgcolor": "#E5ECF6",
           "radialaxis": {
            "gridcolor": "white",
            "linecolor": "white",
            "ticks": ""
           }
          },
          "scene": {
           "xaxis": {
            "backgroundcolor": "#E5ECF6",
            "gridcolor": "white",
            "gridwidth": 2,
            "linecolor": "white",
            "showbackground": true,
            "ticks": "",
            "zerolinecolor": "white"
           },
           "yaxis": {
            "backgroundcolor": "#E5ECF6",
            "gridcolor": "white",
            "gridwidth": 2,
            "linecolor": "white",
            "showbackground": true,
            "ticks": "",
            "zerolinecolor": "white"
           },
           "zaxis": {
            "backgroundcolor": "#E5ECF6",
            "gridcolor": "white",
            "gridwidth": 2,
            "linecolor": "white",
            "showbackground": true,
            "ticks": "",
            "zerolinecolor": "white"
           }
          },
          "shapedefaults": {
           "line": {
            "color": "#2a3f5f"
           }
          },
          "ternary": {
           "aaxis": {
            "gridcolor": "white",
            "linecolor": "white",
            "ticks": ""
           },
           "baxis": {
            "gridcolor": "white",
            "linecolor": "white",
            "ticks": ""
           },
           "bgcolor": "#E5ECF6",
           "caxis": {
            "gridcolor": "white",
            "linecolor": "white",
            "ticks": ""
           }
          },
          "title": {
           "x": 0.05
          },
          "xaxis": {
           "automargin": true,
           "gridcolor": "white",
           "linecolor": "white",
           "ticks": "",
           "title": {
            "standoff": 15
           },
           "zerolinecolor": "white",
           "zerolinewidth": 2
          },
          "yaxis": {
           "automargin": true,
           "gridcolor": "white",
           "linecolor": "white",
           "ticks": "",
           "title": {
            "standoff": 15
           },
           "zerolinecolor": "white",
           "zerolinewidth": 2
          }
         }
        },
        "title": {
         "text": "Qdot_tube_back - Cas 1"
        },
        "xaxis": {
         "title": {
          "text": "Itération"
         }
        },
        "yaxis": {
         "title": {
          "text": "Qdot_tube_back [W]"
         }
        }
       }
      }
     },
     "metadata": {},
     "output_type": "display_data"
    },
    {
     "data": {
      "application/vnd.plotly.v1+json": {
       "config": {
        "plotlyServerURL": "https://plot.ly"
       },
       "data": [
        {
         "hovertemplate": "Simu M1 <br>Part7 <br>%{y:.2f}",
         "marker": {
          "color": "#1f77b4"
         },
         "name": "Qdot_tube_fluid 1D",
         "opacity": 0.8,
         "type": "bar",
         "width": 0.26666666666666666,
         "x": [
          0.6,
          1.6,
          2.6,
          3.6,
          4.6,
          5.6,
          6.6,
          7.6
         ],
         "y": [
          6.366526437821074,
          3.657937464656221,
          134.0602867210921,
          5.604969532752598,
          107.71535958639876,
          2.581931887954393,
          2.759545794095597
         ]
        },
        {
         "hovertemplate": "Simu M2 <br>Part7 <br>%{y:.2f}",
         "marker": {
          "color": "#ff7f0e"
         },
         "name": "Qdot_tube_fluid 1D",
         "opacity": 0.8,
         "type": "bar",
         "width": 0.26666666666666666,
         "x": [
          0.8666666666666666,
          1.8666666666666667,
          2.8666666666666667,
          3.8666666666666667,
          4.866666666666666,
          5.866666666666666,
          6.866666666666666,
          7.866666666666667
         ],
         "y": [
          6.362009571836488,
          3.691792778437948,
          134.63575274339428,
          5.147170686066122,
          108.1365193892775,
          2.725036914934189,
          2.8779539649325585
         ]
        },
        {
         "hovertemplate": "Simu M3 <br>Part7 <br>%{y:.2f}",
         "marker": {
          "color": "#2ca02c"
         },
         "name": "Qdot_tube_fluid 1D",
         "opacity": 0.8,
         "type": "bar",
         "width": 0.26666666666666666,
         "x": [
          1.1333333333333333,
          2.1333333333333333,
          3.1333333333333333,
          4.133333333333333,
          5.133333333333333,
          6.133333333333333,
          7.133333333333333,
          8.133333333333333
         ],
         "y": [
          6.35557025039902,
          3.641222913018859,
          134.73251924272782,
          5.434549115803682,
          107.91683802745276,
          2.58482617598783,
          2.8087076427030087
         ]
        }
       ],
       "layout": {
        "barmode": "group",
        "legend": {
         "title": {
          "text": "Simulation"
         }
        },
        "template": {
         "data": {
          "bar": [
           {
            "error_x": {
             "color": "#2a3f5f"
            },
            "error_y": {
             "color": "#2a3f5f"
            },
            "marker": {
             "line": {
              "color": "#E5ECF6",
              "width": 0.5
             },
             "pattern": {
              "fillmode": "overlay",
              "size": 10,
              "solidity": 0.2
             }
            },
            "type": "bar"
           }
          ],
          "barpolar": [
           {
            "marker": {
             "line": {
              "color": "#E5ECF6",
              "width": 0.5
             },
             "pattern": {
              "fillmode": "overlay",
              "size": 10,
              "solidity": 0.2
             }
            },
            "type": "barpolar"
           }
          ],
          "carpet": [
           {
            "aaxis": {
             "endlinecolor": "#2a3f5f",
             "gridcolor": "white",
             "linecolor": "white",
             "minorgridcolor": "white",
             "startlinecolor": "#2a3f5f"
            },
            "baxis": {
             "endlinecolor": "#2a3f5f",
             "gridcolor": "white",
             "linecolor": "white",
             "minorgridcolor": "white",
             "startlinecolor": "#2a3f5f"
            },
            "type": "carpet"
           }
          ],
          "choropleth": [
           {
            "colorbar": {
             "outlinewidth": 0,
             "ticks": ""
            },
            "type": "choropleth"
           }
          ],
          "contour": [
           {
            "colorbar": {
             "outlinewidth": 0,
             "ticks": ""
            },
            "colorscale": [
             [
              0,
              "#0d0887"
             ],
             [
              0.1111111111111111,
              "#46039f"
             ],
             [
              0.2222222222222222,
              "#7201a8"
             ],
             [
              0.3333333333333333,
              "#9c179e"
             ],
             [
              0.4444444444444444,
              "#bd3786"
             ],
             [
              0.5555555555555556,
              "#d8576b"
             ],
             [
              0.6666666666666666,
              "#ed7953"
             ],
             [
              0.7777777777777778,
              "#fb9f3a"
             ],
             [
              0.8888888888888888,
              "#fdca26"
             ],
             [
              1,
              "#f0f921"
             ]
            ],
            "type": "contour"
           }
          ],
          "contourcarpet": [
           {
            "colorbar": {
             "outlinewidth": 0,
             "ticks": ""
            },
            "type": "contourcarpet"
           }
          ],
          "heatmap": [
           {
            "colorbar": {
             "outlinewidth": 0,
             "ticks": ""
            },
            "colorscale": [
             [
              0,
              "#0d0887"
             ],
             [
              0.1111111111111111,
              "#46039f"
             ],
             [
              0.2222222222222222,
              "#7201a8"
             ],
             [
              0.3333333333333333,
              "#9c179e"
             ],
             [
              0.4444444444444444,
              "#bd3786"
             ],
             [
              0.5555555555555556,
              "#d8576b"
             ],
             [
              0.6666666666666666,
              "#ed7953"
             ],
             [
              0.7777777777777778,
              "#fb9f3a"
             ],
             [
              0.8888888888888888,
              "#fdca26"
             ],
             [
              1,
              "#f0f921"
             ]
            ],
            "type": "heatmap"
           }
          ],
          "heatmapgl": [
           {
            "colorbar": {
             "outlinewidth": 0,
             "ticks": ""
            },
            "colorscale": [
             [
              0,
              "#0d0887"
             ],
             [
              0.1111111111111111,
              "#46039f"
             ],
             [
              0.2222222222222222,
              "#7201a8"
             ],
             [
              0.3333333333333333,
              "#9c179e"
             ],
             [
              0.4444444444444444,
              "#bd3786"
             ],
             [
              0.5555555555555556,
              "#d8576b"
             ],
             [
              0.6666666666666666,
              "#ed7953"
             ],
             [
              0.7777777777777778,
              "#fb9f3a"
             ],
             [
              0.8888888888888888,
              "#fdca26"
             ],
             [
              1,
              "#f0f921"
             ]
            ],
            "type": "heatmapgl"
           }
          ],
          "histogram": [
           {
            "marker": {
             "pattern": {
              "fillmode": "overlay",
              "size": 10,
              "solidity": 0.2
             }
            },
            "type": "histogram"
           }
          ],
          "histogram2d": [
           {
            "colorbar": {
             "outlinewidth": 0,
             "ticks": ""
            },
            "colorscale": [
             [
              0,
              "#0d0887"
             ],
             [
              0.1111111111111111,
              "#46039f"
             ],
             [
              0.2222222222222222,
              "#7201a8"
             ],
             [
              0.3333333333333333,
              "#9c179e"
             ],
             [
              0.4444444444444444,
              "#bd3786"
             ],
             [
              0.5555555555555556,
              "#d8576b"
             ],
             [
              0.6666666666666666,
              "#ed7953"
             ],
             [
              0.7777777777777778,
              "#fb9f3a"
             ],
             [
              0.8888888888888888,
              "#fdca26"
             ],
             [
              1,
              "#f0f921"
             ]
            ],
            "type": "histogram2d"
           }
          ],
          "histogram2dcontour": [
           {
            "colorbar": {
             "outlinewidth": 0,
             "ticks": ""
            },
            "colorscale": [
             [
              0,
              "#0d0887"
             ],
             [
              0.1111111111111111,
              "#46039f"
             ],
             [
              0.2222222222222222,
              "#7201a8"
             ],
             [
              0.3333333333333333,
              "#9c179e"
             ],
             [
              0.4444444444444444,
              "#bd3786"
             ],
             [
              0.5555555555555556,
              "#d8576b"
             ],
             [
              0.6666666666666666,
              "#ed7953"
             ],
             [
              0.7777777777777778,
              "#fb9f3a"
             ],
             [
              0.8888888888888888,
              "#fdca26"
             ],
             [
              1,
              "#f0f921"
             ]
            ],
            "type": "histogram2dcontour"
           }
          ],
          "mesh3d": [
           {
            "colorbar": {
             "outlinewidth": 0,
             "ticks": ""
            },
            "type": "mesh3d"
           }
          ],
          "parcoords": [
           {
            "line": {
             "colorbar": {
              "outlinewidth": 0,
              "ticks": ""
             }
            },
            "type": "parcoords"
           }
          ],
          "pie": [
           {
            "automargin": true,
            "type": "pie"
           }
          ],
          "scatter": [
           {
            "fillpattern": {
             "fillmode": "overlay",
             "size": 10,
             "solidity": 0.2
            },
            "type": "scatter"
           }
          ],
          "scatter3d": [
           {
            "line": {
             "colorbar": {
              "outlinewidth": 0,
              "ticks": ""
             }
            },
            "marker": {
             "colorbar": {
              "outlinewidth": 0,
              "ticks": ""
             }
            },
            "type": "scatter3d"
           }
          ],
          "scattercarpet": [
           {
            "marker": {
             "colorbar": {
              "outlinewidth": 0,
              "ticks": ""
             }
            },
            "type": "scattercarpet"
           }
          ],
          "scattergeo": [
           {
            "marker": {
             "colorbar": {
              "outlinewidth": 0,
              "ticks": ""
             }
            },
            "type": "scattergeo"
           }
          ],
          "scattergl": [
           {
            "marker": {
             "colorbar": {
              "outlinewidth": 0,
              "ticks": ""
             }
            },
            "type": "scattergl"
           }
          ],
          "scattermapbox": [
           {
            "marker": {
             "colorbar": {
              "outlinewidth": 0,
              "ticks": ""
             }
            },
            "type": "scattermapbox"
           }
          ],
          "scatterpolar": [
           {
            "marker": {
             "colorbar": {
              "outlinewidth": 0,
              "ticks": ""
             }
            },
            "type": "scatterpolar"
           }
          ],
          "scatterpolargl": [
           {
            "marker": {
             "colorbar": {
              "outlinewidth": 0,
              "ticks": ""
             }
            },
            "type": "scatterpolargl"
           }
          ],
          "scatterternary": [
           {
            "marker": {
             "colorbar": {
              "outlinewidth": 0,
              "ticks": ""
             }
            },
            "type": "scatterternary"
           }
          ],
          "surface": [
           {
            "colorbar": {
             "outlinewidth": 0,
             "ticks": ""
            },
            "colorscale": [
             [
              0,
              "#0d0887"
             ],
             [
              0.1111111111111111,
              "#46039f"
             ],
             [
              0.2222222222222222,
              "#7201a8"
             ],
             [
              0.3333333333333333,
              "#9c179e"
             ],
             [
              0.4444444444444444,
              "#bd3786"
             ],
             [
              0.5555555555555556,
              "#d8576b"
             ],
             [
              0.6666666666666666,
              "#ed7953"
             ],
             [
              0.7777777777777778,
              "#fb9f3a"
             ],
             [
              0.8888888888888888,
              "#fdca26"
             ],
             [
              1,
              "#f0f921"
             ]
            ],
            "type": "surface"
           }
          ],
          "table": [
           {
            "cells": {
             "fill": {
              "color": "#EBF0F8"
             },
             "line": {
              "color": "white"
             }
            },
            "header": {
             "fill": {
              "color": "#C8D4E3"
             },
             "line": {
              "color": "white"
             }
            },
            "type": "table"
           }
          ]
         },
         "layout": {
          "annotationdefaults": {
           "arrowcolor": "#2a3f5f",
           "arrowhead": 0,
           "arrowwidth": 1
          },
          "autotypenumbers": "strict",
          "coloraxis": {
           "colorbar": {
            "outlinewidth": 0,
            "ticks": ""
           }
          },
          "colorscale": {
           "diverging": [
            [
             0,
             "#8e0152"
            ],
            [
             0.1,
             "#c51b7d"
            ],
            [
             0.2,
             "#de77ae"
            ],
            [
             0.3,
             "#f1b6da"
            ],
            [
             0.4,
             "#fde0ef"
            ],
            [
             0.5,
             "#f7f7f7"
            ],
            [
             0.6,
             "#e6f5d0"
            ],
            [
             0.7,
             "#b8e186"
            ],
            [
             0.8,
             "#7fbc41"
            ],
            [
             0.9,
             "#4d9221"
            ],
            [
             1,
             "#276419"
            ]
           ],
           "sequential": [
            [
             0,
             "#0d0887"
            ],
            [
             0.1111111111111111,
             "#46039f"
            ],
            [
             0.2222222222222222,
             "#7201a8"
            ],
            [
             0.3333333333333333,
             "#9c179e"
            ],
            [
             0.4444444444444444,
             "#bd3786"
            ],
            [
             0.5555555555555556,
             "#d8576b"
            ],
            [
             0.6666666666666666,
             "#ed7953"
            ],
            [
             0.7777777777777778,
             "#fb9f3a"
            ],
            [
             0.8888888888888888,
             "#fdca26"
            ],
            [
             1,
             "#f0f921"
            ]
           ],
           "sequentialminus": [
            [
             0,
             "#0d0887"
            ],
            [
             0.1111111111111111,
             "#46039f"
            ],
            [
             0.2222222222222222,
             "#7201a8"
            ],
            [
             0.3333333333333333,
             "#9c179e"
            ],
            [
             0.4444444444444444,
             "#bd3786"
            ],
            [
             0.5555555555555556,
             "#d8576b"
            ],
            [
             0.6666666666666666,
             "#ed7953"
            ],
            [
             0.7777777777777778,
             "#fb9f3a"
            ],
            [
             0.8888888888888888,
             "#fdca26"
            ],
            [
             1,
             "#f0f921"
            ]
           ]
          },
          "colorway": [
           "#636efa",
           "#EF553B",
           "#00cc96",
           "#ab63fa",
           "#FFA15A",
           "#19d3f3",
           "#FF6692",
           "#B6E880",
           "#FF97FF",
           "#FECB52"
          ],
          "font": {
           "color": "#2a3f5f"
          },
          "geo": {
           "bgcolor": "white",
           "lakecolor": "white",
           "landcolor": "#E5ECF6",
           "showlakes": true,
           "showland": true,
           "subunitcolor": "white"
          },
          "hoverlabel": {
           "align": "left"
          },
          "hovermode": "closest",
          "mapbox": {
           "style": "light"
          },
          "paper_bgcolor": "white",
          "plot_bgcolor": "#E5ECF6",
          "polar": {
           "angularaxis": {
            "gridcolor": "white",
            "linecolor": "white",
            "ticks": ""
           },
           "bgcolor": "#E5ECF6",
           "radialaxis": {
            "gridcolor": "white",
            "linecolor": "white",
            "ticks": ""
           }
          },
          "scene": {
           "xaxis": {
            "backgroundcolor": "#E5ECF6",
            "gridcolor": "white",
            "gridwidth": 2,
            "linecolor": "white",
            "showbackground": true,
            "ticks": "",
            "zerolinecolor": "white"
           },
           "yaxis": {
            "backgroundcolor": "#E5ECF6",
            "gridcolor": "white",
            "gridwidth": 2,
            "linecolor": "white",
            "showbackground": true,
            "ticks": "",
            "zerolinecolor": "white"
           },
           "zaxis": {
            "backgroundcolor": "#E5ECF6",
            "gridcolor": "white",
            "gridwidth": 2,
            "linecolor": "white",
            "showbackground": true,
            "ticks": "",
            "zerolinecolor": "white"
           }
          },
          "shapedefaults": {
           "line": {
            "color": "#2a3f5f"
           }
          },
          "ternary": {
           "aaxis": {
            "gridcolor": "white",
            "linecolor": "white",
            "ticks": ""
           },
           "baxis": {
            "gridcolor": "white",
            "linecolor": "white",
            "ticks": ""
           },
           "bgcolor": "#E5ECF6",
           "caxis": {
            "gridcolor": "white",
            "linecolor": "white",
            "ticks": ""
           }
          },
          "title": {
           "x": 0.05
          },
          "xaxis": {
           "automargin": true,
           "gridcolor": "white",
           "linecolor": "white",
           "ticks": "",
           "title": {
            "standoff": 15
           },
           "zerolinecolor": "white",
           "zerolinewidth": 2
          },
          "yaxis": {
           "automargin": true,
           "gridcolor": "white",
           "linecolor": "white",
           "ticks": "",
           "title": {
            "standoff": 15
           },
           "zerolinecolor": "white",
           "zerolinewidth": 2
          }
         }
        },
        "title": {
         "text": "Qdot_tube_fluid - Cas 1 - 1D"
        },
        "xaxis": {
         "title": {
          "text": "Parties"
         }
        },
        "yaxis": {
         "title": {
          "text": "Qdot_tube_fluid [W]"
         }
        }
       }
      }
     },
     "metadata": {},
     "output_type": "display_data"
    },
    {
     "data": {
      "application/vnd.plotly.v1+json": {
       "config": {
        "plotlyServerURL": "https://plot.ly"
       },
       "data": [
        {
         "hovertemplate": "Simu M1 <br>Part7 <br>%{y:.2f}",
         "marker": {
          "color": "#1f77b4"
         },
         "name": "Qdot_top_conv 1D",
         "opacity": 0.8,
         "type": "bar",
         "width": 0.26666666666666666,
         "x": [
          0.6,
          1.6,
          2.6,
          3.6,
          4.6,
          5.6,
          6.6,
          7.6
         ],
         "y": [
          0,
          0,
          -95.90643816472743,
          0,
          -76.91847275613,
          0,
          0
         ]
        },
        {
         "hovertemplate": "Simu M2 <br>Part7 <br>%{y:.2f}",
         "marker": {
          "color": "#ff7f0e"
         },
         "name": "Qdot_top_conv 1D",
         "opacity": 0.8,
         "type": "bar",
         "width": 0.26666666666666666,
         "x": [
          0.8666666666666666,
          1.8666666666666667,
          2.8666666666666667,
          3.8666666666666667,
          4.866666666666666,
          5.866666666666666,
          6.866666666666666,
          7.866666666666667
         ],
         "y": [
          0,
          0,
          -96.10139658805876,
          0,
          -76.99117142208146,
          0,
          0
         ]
        },
        {
         "hovertemplate": "Simu M3 <br>Part7 <br>%{y:.2f}",
         "marker": {
          "color": "#2ca02c"
         },
         "name": "Qdot_top_conv 1D",
         "opacity": 0.8,
         "type": "bar",
         "width": 0.26666666666666666,
         "x": [
          1.1333333333333333,
          2.1333333333333333,
          3.1333333333333333,
          4.133333333333333,
          5.133333333333333,
          6.133333333333333,
          7.133333333333333,
          8.133333333333333
         ],
         "y": [
          0,
          0,
          -96.08074353362616,
          0,
          -77.17591261652065,
          0,
          0
         ]
        }
       ],
       "layout": {
        "barmode": "group",
        "legend": {
         "title": {
          "text": "Simulation"
         }
        },
        "template": {
         "data": {
          "bar": [
           {
            "error_x": {
             "color": "#2a3f5f"
            },
            "error_y": {
             "color": "#2a3f5f"
            },
            "marker": {
             "line": {
              "color": "#E5ECF6",
              "width": 0.5
             },
             "pattern": {
              "fillmode": "overlay",
              "size": 10,
              "solidity": 0.2
             }
            },
            "type": "bar"
           }
          ],
          "barpolar": [
           {
            "marker": {
             "line": {
              "color": "#E5ECF6",
              "width": 0.5
             },
             "pattern": {
              "fillmode": "overlay",
              "size": 10,
              "solidity": 0.2
             }
            },
            "type": "barpolar"
           }
          ],
          "carpet": [
           {
            "aaxis": {
             "endlinecolor": "#2a3f5f",
             "gridcolor": "white",
             "linecolor": "white",
             "minorgridcolor": "white",
             "startlinecolor": "#2a3f5f"
            },
            "baxis": {
             "endlinecolor": "#2a3f5f",
             "gridcolor": "white",
             "linecolor": "white",
             "minorgridcolor": "white",
             "startlinecolor": "#2a3f5f"
            },
            "type": "carpet"
           }
          ],
          "choropleth": [
           {
            "colorbar": {
             "outlinewidth": 0,
             "ticks": ""
            },
            "type": "choropleth"
           }
          ],
          "contour": [
           {
            "colorbar": {
             "outlinewidth": 0,
             "ticks": ""
            },
            "colorscale": [
             [
              0,
              "#0d0887"
             ],
             [
              0.1111111111111111,
              "#46039f"
             ],
             [
              0.2222222222222222,
              "#7201a8"
             ],
             [
              0.3333333333333333,
              "#9c179e"
             ],
             [
              0.4444444444444444,
              "#bd3786"
             ],
             [
              0.5555555555555556,
              "#d8576b"
             ],
             [
              0.6666666666666666,
              "#ed7953"
             ],
             [
              0.7777777777777778,
              "#fb9f3a"
             ],
             [
              0.8888888888888888,
              "#fdca26"
             ],
             [
              1,
              "#f0f921"
             ]
            ],
            "type": "contour"
           }
          ],
          "contourcarpet": [
           {
            "colorbar": {
             "outlinewidth": 0,
             "ticks": ""
            },
            "type": "contourcarpet"
           }
          ],
          "heatmap": [
           {
            "colorbar": {
             "outlinewidth": 0,
             "ticks": ""
            },
            "colorscale": [
             [
              0,
              "#0d0887"
             ],
             [
              0.1111111111111111,
              "#46039f"
             ],
             [
              0.2222222222222222,
              "#7201a8"
             ],
             [
              0.3333333333333333,
              "#9c179e"
             ],
             [
              0.4444444444444444,
              "#bd3786"
             ],
             [
              0.5555555555555556,
              "#d8576b"
             ],
             [
              0.6666666666666666,
              "#ed7953"
             ],
             [
              0.7777777777777778,
              "#fb9f3a"
             ],
             [
              0.8888888888888888,
              "#fdca26"
             ],
             [
              1,
              "#f0f921"
             ]
            ],
            "type": "heatmap"
           }
          ],
          "heatmapgl": [
           {
            "colorbar": {
             "outlinewidth": 0,
             "ticks": ""
            },
            "colorscale": [
             [
              0,
              "#0d0887"
             ],
             [
              0.1111111111111111,
              "#46039f"
             ],
             [
              0.2222222222222222,
              "#7201a8"
             ],
             [
              0.3333333333333333,
              "#9c179e"
             ],
             [
              0.4444444444444444,
              "#bd3786"
             ],
             [
              0.5555555555555556,
              "#d8576b"
             ],
             [
              0.6666666666666666,
              "#ed7953"
             ],
             [
              0.7777777777777778,
              "#fb9f3a"
             ],
             [
              0.8888888888888888,
              "#fdca26"
             ],
             [
              1,
              "#f0f921"
             ]
            ],
            "type": "heatmapgl"
           }
          ],
          "histogram": [
           {
            "marker": {
             "pattern": {
              "fillmode": "overlay",
              "size": 10,
              "solidity": 0.2
             }
            },
            "type": "histogram"
           }
          ],
          "histogram2d": [
           {
            "colorbar": {
             "outlinewidth": 0,
             "ticks": ""
            },
            "colorscale": [
             [
              0,
              "#0d0887"
             ],
             [
              0.1111111111111111,
              "#46039f"
             ],
             [
              0.2222222222222222,
              "#7201a8"
             ],
             [
              0.3333333333333333,
              "#9c179e"
             ],
             [
              0.4444444444444444,
              "#bd3786"
             ],
             [
              0.5555555555555556,
              "#d8576b"
             ],
             [
              0.6666666666666666,
              "#ed7953"
             ],
             [
              0.7777777777777778,
              "#fb9f3a"
             ],
             [
              0.8888888888888888,
              "#fdca26"
             ],
             [
              1,
              "#f0f921"
             ]
            ],
            "type": "histogram2d"
           }
          ],
          "histogram2dcontour": [
           {
            "colorbar": {
             "outlinewidth": 0,
             "ticks": ""
            },
            "colorscale": [
             [
              0,
              "#0d0887"
             ],
             [
              0.1111111111111111,
              "#46039f"
             ],
             [
              0.2222222222222222,
              "#7201a8"
             ],
             [
              0.3333333333333333,
              "#9c179e"
             ],
             [
              0.4444444444444444,
              "#bd3786"
             ],
             [
              0.5555555555555556,
              "#d8576b"
             ],
             [
              0.6666666666666666,
              "#ed7953"
             ],
             [
              0.7777777777777778,
              "#fb9f3a"
             ],
             [
              0.8888888888888888,
              "#fdca26"
             ],
             [
              1,
              "#f0f921"
             ]
            ],
            "type": "histogram2dcontour"
           }
          ],
          "mesh3d": [
           {
            "colorbar": {
             "outlinewidth": 0,
             "ticks": ""
            },
            "type": "mesh3d"
           }
          ],
          "parcoords": [
           {
            "line": {
             "colorbar": {
              "outlinewidth": 0,
              "ticks": ""
             }
            },
            "type": "parcoords"
           }
          ],
          "pie": [
           {
            "automargin": true,
            "type": "pie"
           }
          ],
          "scatter": [
           {
            "fillpattern": {
             "fillmode": "overlay",
             "size": 10,
             "solidity": 0.2
            },
            "type": "scatter"
           }
          ],
          "scatter3d": [
           {
            "line": {
             "colorbar": {
              "outlinewidth": 0,
              "ticks": ""
             }
            },
            "marker": {
             "colorbar": {
              "outlinewidth": 0,
              "ticks": ""
             }
            },
            "type": "scatter3d"
           }
          ],
          "scattercarpet": [
           {
            "marker": {
             "colorbar": {
              "outlinewidth": 0,
              "ticks": ""
             }
            },
            "type": "scattercarpet"
           }
          ],
          "scattergeo": [
           {
            "marker": {
             "colorbar": {
              "outlinewidth": 0,
              "ticks": ""
             }
            },
            "type": "scattergeo"
           }
          ],
          "scattergl": [
           {
            "marker": {
             "colorbar": {
              "outlinewidth": 0,
              "ticks": ""
             }
            },
            "type": "scattergl"
           }
          ],
          "scattermapbox": [
           {
            "marker": {
             "colorbar": {
              "outlinewidth": 0,
              "ticks": ""
             }
            },
            "type": "scattermapbox"
           }
          ],
          "scatterpolar": [
           {
            "marker": {
             "colorbar": {
              "outlinewidth": 0,
              "ticks": ""
             }
            },
            "type": "scatterpolar"
           }
          ],
          "scatterpolargl": [
           {
            "marker": {
             "colorbar": {
              "outlinewidth": 0,
              "ticks": ""
             }
            },
            "type": "scatterpolargl"
           }
          ],
          "scatterternary": [
           {
            "marker": {
             "colorbar": {
              "outlinewidth": 0,
              "ticks": ""
             }
            },
            "type": "scatterternary"
           }
          ],
          "surface": [
           {
            "colorbar": {
             "outlinewidth": 0,
             "ticks": ""
            },
            "colorscale": [
             [
              0,
              "#0d0887"
             ],
             [
              0.1111111111111111,
              "#46039f"
             ],
             [
              0.2222222222222222,
              "#7201a8"
             ],
             [
              0.3333333333333333,
              "#9c179e"
             ],
             [
              0.4444444444444444,
              "#bd3786"
             ],
             [
              0.5555555555555556,
              "#d8576b"
             ],
             [
              0.6666666666666666,
              "#ed7953"
             ],
             [
              0.7777777777777778,
              "#fb9f3a"
             ],
             [
              0.8888888888888888,
              "#fdca26"
             ],
             [
              1,
              "#f0f921"
             ]
            ],
            "type": "surface"
           }
          ],
          "table": [
           {
            "cells": {
             "fill": {
              "color": "#EBF0F8"
             },
             "line": {
              "color": "white"
             }
            },
            "header": {
             "fill": {
              "color": "#C8D4E3"
             },
             "line": {
              "color": "white"
             }
            },
            "type": "table"
           }
          ]
         },
         "layout": {
          "annotationdefaults": {
           "arrowcolor": "#2a3f5f",
           "arrowhead": 0,
           "arrowwidth": 1
          },
          "autotypenumbers": "strict",
          "coloraxis": {
           "colorbar": {
            "outlinewidth": 0,
            "ticks": ""
           }
          },
          "colorscale": {
           "diverging": [
            [
             0,
             "#8e0152"
            ],
            [
             0.1,
             "#c51b7d"
            ],
            [
             0.2,
             "#de77ae"
            ],
            [
             0.3,
             "#f1b6da"
            ],
            [
             0.4,
             "#fde0ef"
            ],
            [
             0.5,
             "#f7f7f7"
            ],
            [
             0.6,
             "#e6f5d0"
            ],
            [
             0.7,
             "#b8e186"
            ],
            [
             0.8,
             "#7fbc41"
            ],
            [
             0.9,
             "#4d9221"
            ],
            [
             1,
             "#276419"
            ]
           ],
           "sequential": [
            [
             0,
             "#0d0887"
            ],
            [
             0.1111111111111111,
             "#46039f"
            ],
            [
             0.2222222222222222,
             "#7201a8"
            ],
            [
             0.3333333333333333,
             "#9c179e"
            ],
            [
             0.4444444444444444,
             "#bd3786"
            ],
            [
             0.5555555555555556,
             "#d8576b"
            ],
            [
             0.6666666666666666,
             "#ed7953"
            ],
            [
             0.7777777777777778,
             "#fb9f3a"
            ],
            [
             0.8888888888888888,
             "#fdca26"
            ],
            [
             1,
             "#f0f921"
            ]
           ],
           "sequentialminus": [
            [
             0,
             "#0d0887"
            ],
            [
             0.1111111111111111,
             "#46039f"
            ],
            [
             0.2222222222222222,
             "#7201a8"
            ],
            [
             0.3333333333333333,
             "#9c179e"
            ],
            [
             0.4444444444444444,
             "#bd3786"
            ],
            [
             0.5555555555555556,
             "#d8576b"
            ],
            [
             0.6666666666666666,
             "#ed7953"
            ],
            [
             0.7777777777777778,
             "#fb9f3a"
            ],
            [
             0.8888888888888888,
             "#fdca26"
            ],
            [
             1,
             "#f0f921"
            ]
           ]
          },
          "colorway": [
           "#636efa",
           "#EF553B",
           "#00cc96",
           "#ab63fa",
           "#FFA15A",
           "#19d3f3",
           "#FF6692",
           "#B6E880",
           "#FF97FF",
           "#FECB52"
          ],
          "font": {
           "color": "#2a3f5f"
          },
          "geo": {
           "bgcolor": "white",
           "lakecolor": "white",
           "landcolor": "#E5ECF6",
           "showlakes": true,
           "showland": true,
           "subunitcolor": "white"
          },
          "hoverlabel": {
           "align": "left"
          },
          "hovermode": "closest",
          "mapbox": {
           "style": "light"
          },
          "paper_bgcolor": "white",
          "plot_bgcolor": "#E5ECF6",
          "polar": {
           "angularaxis": {
            "gridcolor": "white",
            "linecolor": "white",
            "ticks": ""
           },
           "bgcolor": "#E5ECF6",
           "radialaxis": {
            "gridcolor": "white",
            "linecolor": "white",
            "ticks": ""
           }
          },
          "scene": {
           "xaxis": {
            "backgroundcolor": "#E5ECF6",
            "gridcolor": "white",
            "gridwidth": 2,
            "linecolor": "white",
            "showbackground": true,
            "ticks": "",
            "zerolinecolor": "white"
           },
           "yaxis": {
            "backgroundcolor": "#E5ECF6",
            "gridcolor": "white",
            "gridwidth": 2,
            "linecolor": "white",
            "showbackground": true,
            "ticks": "",
            "zerolinecolor": "white"
           },
           "zaxis": {
            "backgroundcolor": "#E5ECF6",
            "gridcolor": "white",
            "gridwidth": 2,
            "linecolor": "white",
            "showbackground": true,
            "ticks": "",
            "zerolinecolor": "white"
           }
          },
          "shapedefaults": {
           "line": {
            "color": "#2a3f5f"
           }
          },
          "ternary": {
           "aaxis": {
            "gridcolor": "white",
            "linecolor": "white",
            "ticks": ""
           },
           "baxis": {
            "gridcolor": "white",
            "linecolor": "white",
            "ticks": ""
           },
           "bgcolor": "#E5ECF6",
           "caxis": {
            "gridcolor": "white",
            "linecolor": "white",
            "ticks": ""
           }
          },
          "title": {
           "x": 0.05
          },
          "xaxis": {
           "automargin": true,
           "gridcolor": "white",
           "linecolor": "white",
           "ticks": "",
           "title": {
            "standoff": 15
           },
           "zerolinecolor": "white",
           "zerolinewidth": 2
          },
          "yaxis": {
           "automargin": true,
           "gridcolor": "white",
           "linecolor": "white",
           "ticks": "",
           "title": {
            "standoff": 15
           },
           "zerolinecolor": "white",
           "zerolinewidth": 2
          }
         }
        },
        "title": {
         "text": "Qdot_top_conv - Cas 1 - 1D"
        },
        "xaxis": {
         "title": {
          "text": "Parties"
         }
        },
        "yaxis": {
         "title": {
          "text": "Qdot_top_conv [W]"
         }
        }
       }
      }
     },
     "metadata": {},
     "output_type": "display_data"
    },
    {
     "data": {
      "application/vnd.plotly.v1+json": {
       "config": {
        "plotlyServerURL": "https://plot.ly"
       },
       "data": [
        {
         "hovertemplate": "Simu M1 <br>Part7 <br>%{y:.2f}",
         "marker": {
          "color": "#1f77b4"
         },
         "name": "Qdot_top_rad 1D",
         "opacity": 0.8,
         "type": "bar",
         "width": 0.26666666666666666,
         "x": [
          0.6,
          1.6,
          2.6,
          3.6,
          4.6,
          5.6,
          6.6,
          7.6
         ],
         "y": [
          0,
          0,
          0,
          0,
          0,
          0,
          0
         ]
        },
        {
         "hovertemplate": "Simu M2 <br>Part7 <br>%{y:.2f}",
         "marker": {
          "color": "#ff7f0e"
         },
         "name": "Qdot_top_rad 1D",
         "opacity": 0.8,
         "type": "bar",
         "width": 0.26666666666666666,
         "x": [
          0.8666666666666666,
          1.8666666666666667,
          2.8666666666666667,
          3.8666666666666667,
          4.866666666666666,
          5.866666666666666,
          6.866666666666666,
          7.866666666666667
         ],
         "y": [
          0,
          0,
          0,
          0,
          0,
          0,
          0
         ]
        },
        {
         "hovertemplate": "Simu M3 <br>Part7 <br>%{y:.2f}",
         "marker": {
          "color": "#2ca02c"
         },
         "name": "Qdot_top_rad 1D",
         "opacity": 0.8,
         "type": "bar",
         "width": 0.26666666666666666,
         "x": [
          1.1333333333333333,
          2.1333333333333333,
          3.1333333333333333,
          4.133333333333333,
          5.133333333333333,
          6.133333333333333,
          7.133333333333333,
          8.133333333333333
         ],
         "y": [
          0,
          0,
          0,
          0,
          0,
          0,
          0
         ]
        }
       ],
       "layout": {
        "barmode": "group",
        "legend": {
         "title": {
          "text": "Simulation"
         }
        },
        "template": {
         "data": {
          "bar": [
           {
            "error_x": {
             "color": "#2a3f5f"
            },
            "error_y": {
             "color": "#2a3f5f"
            },
            "marker": {
             "line": {
              "color": "#E5ECF6",
              "width": 0.5
             },
             "pattern": {
              "fillmode": "overlay",
              "size": 10,
              "solidity": 0.2
             }
            },
            "type": "bar"
           }
          ],
          "barpolar": [
           {
            "marker": {
             "line": {
              "color": "#E5ECF6",
              "width": 0.5
             },
             "pattern": {
              "fillmode": "overlay",
              "size": 10,
              "solidity": 0.2
             }
            },
            "type": "barpolar"
           }
          ],
          "carpet": [
           {
            "aaxis": {
             "endlinecolor": "#2a3f5f",
             "gridcolor": "white",
             "linecolor": "white",
             "minorgridcolor": "white",
             "startlinecolor": "#2a3f5f"
            },
            "baxis": {
             "endlinecolor": "#2a3f5f",
             "gridcolor": "white",
             "linecolor": "white",
             "minorgridcolor": "white",
             "startlinecolor": "#2a3f5f"
            },
            "type": "carpet"
           }
          ],
          "choropleth": [
           {
            "colorbar": {
             "outlinewidth": 0,
             "ticks": ""
            },
            "type": "choropleth"
           }
          ],
          "contour": [
           {
            "colorbar": {
             "outlinewidth": 0,
             "ticks": ""
            },
            "colorscale": [
             [
              0,
              "#0d0887"
             ],
             [
              0.1111111111111111,
              "#46039f"
             ],
             [
              0.2222222222222222,
              "#7201a8"
             ],
             [
              0.3333333333333333,
              "#9c179e"
             ],
             [
              0.4444444444444444,
              "#bd3786"
             ],
             [
              0.5555555555555556,
              "#d8576b"
             ],
             [
              0.6666666666666666,
              "#ed7953"
             ],
             [
              0.7777777777777778,
              "#fb9f3a"
             ],
             [
              0.8888888888888888,
              "#fdca26"
             ],
             [
              1,
              "#f0f921"
             ]
            ],
            "type": "contour"
           }
          ],
          "contourcarpet": [
           {
            "colorbar": {
             "outlinewidth": 0,
             "ticks": ""
            },
            "type": "contourcarpet"
           }
          ],
          "heatmap": [
           {
            "colorbar": {
             "outlinewidth": 0,
             "ticks": ""
            },
            "colorscale": [
             [
              0,
              "#0d0887"
             ],
             [
              0.1111111111111111,
              "#46039f"
             ],
             [
              0.2222222222222222,
              "#7201a8"
             ],
             [
              0.3333333333333333,
              "#9c179e"
             ],
             [
              0.4444444444444444,
              "#bd3786"
             ],
             [
              0.5555555555555556,
              "#d8576b"
             ],
             [
              0.6666666666666666,
              "#ed7953"
             ],
             [
              0.7777777777777778,
              "#fb9f3a"
             ],
             [
              0.8888888888888888,
              "#fdca26"
             ],
             [
              1,
              "#f0f921"
             ]
            ],
            "type": "heatmap"
           }
          ],
          "heatmapgl": [
           {
            "colorbar": {
             "outlinewidth": 0,
             "ticks": ""
            },
            "colorscale": [
             [
              0,
              "#0d0887"
             ],
             [
              0.1111111111111111,
              "#46039f"
             ],
             [
              0.2222222222222222,
              "#7201a8"
             ],
             [
              0.3333333333333333,
              "#9c179e"
             ],
             [
              0.4444444444444444,
              "#bd3786"
             ],
             [
              0.5555555555555556,
              "#d8576b"
             ],
             [
              0.6666666666666666,
              "#ed7953"
             ],
             [
              0.7777777777777778,
              "#fb9f3a"
             ],
             [
              0.8888888888888888,
              "#fdca26"
             ],
             [
              1,
              "#f0f921"
             ]
            ],
            "type": "heatmapgl"
           }
          ],
          "histogram": [
           {
            "marker": {
             "pattern": {
              "fillmode": "overlay",
              "size": 10,
              "solidity": 0.2
             }
            },
            "type": "histogram"
           }
          ],
          "histogram2d": [
           {
            "colorbar": {
             "outlinewidth": 0,
             "ticks": ""
            },
            "colorscale": [
             [
              0,
              "#0d0887"
             ],
             [
              0.1111111111111111,
              "#46039f"
             ],
             [
              0.2222222222222222,
              "#7201a8"
             ],
             [
              0.3333333333333333,
              "#9c179e"
             ],
             [
              0.4444444444444444,
              "#bd3786"
             ],
             [
              0.5555555555555556,
              "#d8576b"
             ],
             [
              0.6666666666666666,
              "#ed7953"
             ],
             [
              0.7777777777777778,
              "#fb9f3a"
             ],
             [
              0.8888888888888888,
              "#fdca26"
             ],
             [
              1,
              "#f0f921"
             ]
            ],
            "type": "histogram2d"
           }
          ],
          "histogram2dcontour": [
           {
            "colorbar": {
             "outlinewidth": 0,
             "ticks": ""
            },
            "colorscale": [
             [
              0,
              "#0d0887"
             ],
             [
              0.1111111111111111,
              "#46039f"
             ],
             [
              0.2222222222222222,
              "#7201a8"
             ],
             [
              0.3333333333333333,
              "#9c179e"
             ],
             [
              0.4444444444444444,
              "#bd3786"
             ],
             [
              0.5555555555555556,
              "#d8576b"
             ],
             [
              0.6666666666666666,
              "#ed7953"
             ],
             [
              0.7777777777777778,
              "#fb9f3a"
             ],
             [
              0.8888888888888888,
              "#fdca26"
             ],
             [
              1,
              "#f0f921"
             ]
            ],
            "type": "histogram2dcontour"
           }
          ],
          "mesh3d": [
           {
            "colorbar": {
             "outlinewidth": 0,
             "ticks": ""
            },
            "type": "mesh3d"
           }
          ],
          "parcoords": [
           {
            "line": {
             "colorbar": {
              "outlinewidth": 0,
              "ticks": ""
             }
            },
            "type": "parcoords"
           }
          ],
          "pie": [
           {
            "automargin": true,
            "type": "pie"
           }
          ],
          "scatter": [
           {
            "fillpattern": {
             "fillmode": "overlay",
             "size": 10,
             "solidity": 0.2
            },
            "type": "scatter"
           }
          ],
          "scatter3d": [
           {
            "line": {
             "colorbar": {
              "outlinewidth": 0,
              "ticks": ""
             }
            },
            "marker": {
             "colorbar": {
              "outlinewidth": 0,
              "ticks": ""
             }
            },
            "type": "scatter3d"
           }
          ],
          "scattercarpet": [
           {
            "marker": {
             "colorbar": {
              "outlinewidth": 0,
              "ticks": ""
             }
            },
            "type": "scattercarpet"
           }
          ],
          "scattergeo": [
           {
            "marker": {
             "colorbar": {
              "outlinewidth": 0,
              "ticks": ""
             }
            },
            "type": "scattergeo"
           }
          ],
          "scattergl": [
           {
            "marker": {
             "colorbar": {
              "outlinewidth": 0,
              "ticks": ""
             }
            },
            "type": "scattergl"
           }
          ],
          "scattermapbox": [
           {
            "marker": {
             "colorbar": {
              "outlinewidth": 0,
              "ticks": ""
             }
            },
            "type": "scattermapbox"
           }
          ],
          "scatterpolar": [
           {
            "marker": {
             "colorbar": {
              "outlinewidth": 0,
              "ticks": ""
             }
            },
            "type": "scatterpolar"
           }
          ],
          "scatterpolargl": [
           {
            "marker": {
             "colorbar": {
              "outlinewidth": 0,
              "ticks": ""
             }
            },
            "type": "scatterpolargl"
           }
          ],
          "scatterternary": [
           {
            "marker": {
             "colorbar": {
              "outlinewidth": 0,
              "ticks": ""
             }
            },
            "type": "scatterternary"
           }
          ],
          "surface": [
           {
            "colorbar": {
             "outlinewidth": 0,
             "ticks": ""
            },
            "colorscale": [
             [
              0,
              "#0d0887"
             ],
             [
              0.1111111111111111,
              "#46039f"
             ],
             [
              0.2222222222222222,
              "#7201a8"
             ],
             [
              0.3333333333333333,
              "#9c179e"
             ],
             [
              0.4444444444444444,
              "#bd3786"
             ],
             [
              0.5555555555555556,
              "#d8576b"
             ],
             [
              0.6666666666666666,
              "#ed7953"
             ],
             [
              0.7777777777777778,
              "#fb9f3a"
             ],
             [
              0.8888888888888888,
              "#fdca26"
             ],
             [
              1,
              "#f0f921"
             ]
            ],
            "type": "surface"
           }
          ],
          "table": [
           {
            "cells": {
             "fill": {
              "color": "#EBF0F8"
             },
             "line": {
              "color": "white"
             }
            },
            "header": {
             "fill": {
              "color": "#C8D4E3"
             },
             "line": {
              "color": "white"
             }
            },
            "type": "table"
           }
          ]
         },
         "layout": {
          "annotationdefaults": {
           "arrowcolor": "#2a3f5f",
           "arrowhead": 0,
           "arrowwidth": 1
          },
          "autotypenumbers": "strict",
          "coloraxis": {
           "colorbar": {
            "outlinewidth": 0,
            "ticks": ""
           }
          },
          "colorscale": {
           "diverging": [
            [
             0,
             "#8e0152"
            ],
            [
             0.1,
             "#c51b7d"
            ],
            [
             0.2,
             "#de77ae"
            ],
            [
             0.3,
             "#f1b6da"
            ],
            [
             0.4,
             "#fde0ef"
            ],
            [
             0.5,
             "#f7f7f7"
            ],
            [
             0.6,
             "#e6f5d0"
            ],
            [
             0.7,
             "#b8e186"
            ],
            [
             0.8,
             "#7fbc41"
            ],
            [
             0.9,
             "#4d9221"
            ],
            [
             1,
             "#276419"
            ]
           ],
           "sequential": [
            [
             0,
             "#0d0887"
            ],
            [
             0.1111111111111111,
             "#46039f"
            ],
            [
             0.2222222222222222,
             "#7201a8"
            ],
            [
             0.3333333333333333,
             "#9c179e"
            ],
            [
             0.4444444444444444,
             "#bd3786"
            ],
            [
             0.5555555555555556,
             "#d8576b"
            ],
            [
             0.6666666666666666,
             "#ed7953"
            ],
            [
             0.7777777777777778,
             "#fb9f3a"
            ],
            [
             0.8888888888888888,
             "#fdca26"
            ],
            [
             1,
             "#f0f921"
            ]
           ],
           "sequentialminus": [
            [
             0,
             "#0d0887"
            ],
            [
             0.1111111111111111,
             "#46039f"
            ],
            [
             0.2222222222222222,
             "#7201a8"
            ],
            [
             0.3333333333333333,
             "#9c179e"
            ],
            [
             0.4444444444444444,
             "#bd3786"
            ],
            [
             0.5555555555555556,
             "#d8576b"
            ],
            [
             0.6666666666666666,
             "#ed7953"
            ],
            [
             0.7777777777777778,
             "#fb9f3a"
            ],
            [
             0.8888888888888888,
             "#fdca26"
            ],
            [
             1,
             "#f0f921"
            ]
           ]
          },
          "colorway": [
           "#636efa",
           "#EF553B",
           "#00cc96",
           "#ab63fa",
           "#FFA15A",
           "#19d3f3",
           "#FF6692",
           "#B6E880",
           "#FF97FF",
           "#FECB52"
          ],
          "font": {
           "color": "#2a3f5f"
          },
          "geo": {
           "bgcolor": "white",
           "lakecolor": "white",
           "landcolor": "#E5ECF6",
           "showlakes": true,
           "showland": true,
           "subunitcolor": "white"
          },
          "hoverlabel": {
           "align": "left"
          },
          "hovermode": "closest",
          "mapbox": {
           "style": "light"
          },
          "paper_bgcolor": "white",
          "plot_bgcolor": "#E5ECF6",
          "polar": {
           "angularaxis": {
            "gridcolor": "white",
            "linecolor": "white",
            "ticks": ""
           },
           "bgcolor": "#E5ECF6",
           "radialaxis": {
            "gridcolor": "white",
            "linecolor": "white",
            "ticks": ""
           }
          },
          "scene": {
           "xaxis": {
            "backgroundcolor": "#E5ECF6",
            "gridcolor": "white",
            "gridwidth": 2,
            "linecolor": "white",
            "showbackground": true,
            "ticks": "",
            "zerolinecolor": "white"
           },
           "yaxis": {
            "backgroundcolor": "#E5ECF6",
            "gridcolor": "white",
            "gridwidth": 2,
            "linecolor": "white",
            "showbackground": true,
            "ticks": "",
            "zerolinecolor": "white"
           },
           "zaxis": {
            "backgroundcolor": "#E5ECF6",
            "gridcolor": "white",
            "gridwidth": 2,
            "linecolor": "white",
            "showbackground": true,
            "ticks": "",
            "zerolinecolor": "white"
           }
          },
          "shapedefaults": {
           "line": {
            "color": "#2a3f5f"
           }
          },
          "ternary": {
           "aaxis": {
            "gridcolor": "white",
            "linecolor": "white",
            "ticks": ""
           },
           "baxis": {
            "gridcolor": "white",
            "linecolor": "white",
            "ticks": ""
           },
           "bgcolor": "#E5ECF6",
           "caxis": {
            "gridcolor": "white",
            "linecolor": "white",
            "ticks": ""
           }
          },
          "title": {
           "x": 0.05
          },
          "xaxis": {
           "automargin": true,
           "gridcolor": "white",
           "linecolor": "white",
           "ticks": "",
           "title": {
            "standoff": 15
           },
           "zerolinecolor": "white",
           "zerolinewidth": 2
          },
          "yaxis": {
           "automargin": true,
           "gridcolor": "white",
           "linecolor": "white",
           "ticks": "",
           "title": {
            "standoff": 15
           },
           "zerolinecolor": "white",
           "zerolinewidth": 2
          }
         }
        },
        "title": {
         "text": "Qdot_top_rad - Cas 1 - 1D"
        },
        "xaxis": {
         "title": {
          "text": "Parties"
         }
        },
        "yaxis": {
         "title": {
          "text": "Qdot_top_rad [W]"
         }
        }
       }
      }
     },
     "metadata": {},
     "output_type": "display_data"
    },
    {
     "data": {
      "application/vnd.plotly.v1+json": {
       "config": {
        "plotlyServerURL": "https://plot.ly"
       },
       "data": [
        {
         "hovertemplate": "Simu M1 <br>Part7 <br>%{y:.2f}",
         "marker": {
          "color": "#1f77b4"
         },
         "name": "Qdot_tube_back_conv 1D",
         "opacity": 0.8,
         "type": "bar",
         "width": 0.26666666666666666,
         "x": [
          0.6,
          1.6,
          2.6,
          3.6,
          4.6,
          5.6,
          6.6,
          7.6
         ],
         "y": [
          -5.143159031963656,
          -2.3776196193083563,
          -18.6285952533079,
          -4.175099669568351,
          -15.855731172014606,
          -2.026124229120048,
          -2.162474125701456
         ]
        },
        {
         "hovertemplate": "Simu M2 <br>Part7 <br>%{y:.2f}",
         "marker": {
          "color": "#ff7f0e"
         },
         "name": "Qdot_tube_back_conv 1D",
         "opacity": 0.8,
         "type": "bar",
         "width": 0.26666666666666666,
         "x": [
          0.8666666666666666,
          1.8666666666666667,
          2.8666666666666667,
          3.8666666666666667,
          4.866666666666666,
          5.866666666666666,
          6.866666666666666,
          7.866666666666667
         ],
         "y": [
          -5.141509284512921,
          -2.3501071635593807,
          -19.275144643398406,
          -3.756919517284558,
          -16.417203376972846,
          -2.102910011962153,
          -2.198722330118663
         ]
        },
        {
         "hovertemplate": "Simu M3 <br>Part7 <br>%{y:.2f}",
         "marker": {
          "color": "#2ca02c"
         },
         "name": "Qdot_tube_back_conv 1D",
         "opacity": 0.8,
         "type": "bar",
         "width": 0.26666666666666666,
         "x": [
          1.1333333333333333,
          2.1333333333333333,
          3.1333333333333333,
          4.133333333333333,
          5.133333333333333,
          6.133333333333333,
          7.133333333333333,
          8.133333333333333
         ],
         "y": [
          -5.12964323765393,
          -2.397771861399024,
          -19.36036912099207,
          -4.07864927390959,
          -15.685645768973144,
          -1.999593960213827,
          -2.1612185436451528
         ]
        }
       ],
       "layout": {
        "barmode": "group",
        "legend": {
         "title": {
          "text": "Simulation"
         }
        },
        "template": {
         "data": {
          "bar": [
           {
            "error_x": {
             "color": "#2a3f5f"
            },
            "error_y": {
             "color": "#2a3f5f"
            },
            "marker": {
             "line": {
              "color": "#E5ECF6",
              "width": 0.5
             },
             "pattern": {
              "fillmode": "overlay",
              "size": 10,
              "solidity": 0.2
             }
            },
            "type": "bar"
           }
          ],
          "barpolar": [
           {
            "marker": {
             "line": {
              "color": "#E5ECF6",
              "width": 0.5
             },
             "pattern": {
              "fillmode": "overlay",
              "size": 10,
              "solidity": 0.2
             }
            },
            "type": "barpolar"
           }
          ],
          "carpet": [
           {
            "aaxis": {
             "endlinecolor": "#2a3f5f",
             "gridcolor": "white",
             "linecolor": "white",
             "minorgridcolor": "white",
             "startlinecolor": "#2a3f5f"
            },
            "baxis": {
             "endlinecolor": "#2a3f5f",
             "gridcolor": "white",
             "linecolor": "white",
             "minorgridcolor": "white",
             "startlinecolor": "#2a3f5f"
            },
            "type": "carpet"
           }
          ],
          "choropleth": [
           {
            "colorbar": {
             "outlinewidth": 0,
             "ticks": ""
            },
            "type": "choropleth"
           }
          ],
          "contour": [
           {
            "colorbar": {
             "outlinewidth": 0,
             "ticks": ""
            },
            "colorscale": [
             [
              0,
              "#0d0887"
             ],
             [
              0.1111111111111111,
              "#46039f"
             ],
             [
              0.2222222222222222,
              "#7201a8"
             ],
             [
              0.3333333333333333,
              "#9c179e"
             ],
             [
              0.4444444444444444,
              "#bd3786"
             ],
             [
              0.5555555555555556,
              "#d8576b"
             ],
             [
              0.6666666666666666,
              "#ed7953"
             ],
             [
              0.7777777777777778,
              "#fb9f3a"
             ],
             [
              0.8888888888888888,
              "#fdca26"
             ],
             [
              1,
              "#f0f921"
             ]
            ],
            "type": "contour"
           }
          ],
          "contourcarpet": [
           {
            "colorbar": {
             "outlinewidth": 0,
             "ticks": ""
            },
            "type": "contourcarpet"
           }
          ],
          "heatmap": [
           {
            "colorbar": {
             "outlinewidth": 0,
             "ticks": ""
            },
            "colorscale": [
             [
              0,
              "#0d0887"
             ],
             [
              0.1111111111111111,
              "#46039f"
             ],
             [
              0.2222222222222222,
              "#7201a8"
             ],
             [
              0.3333333333333333,
              "#9c179e"
             ],
             [
              0.4444444444444444,
              "#bd3786"
             ],
             [
              0.5555555555555556,
              "#d8576b"
             ],
             [
              0.6666666666666666,
              "#ed7953"
             ],
             [
              0.7777777777777778,
              "#fb9f3a"
             ],
             [
              0.8888888888888888,
              "#fdca26"
             ],
             [
              1,
              "#f0f921"
             ]
            ],
            "type": "heatmap"
           }
          ],
          "heatmapgl": [
           {
            "colorbar": {
             "outlinewidth": 0,
             "ticks": ""
            },
            "colorscale": [
             [
              0,
              "#0d0887"
             ],
             [
              0.1111111111111111,
              "#46039f"
             ],
             [
              0.2222222222222222,
              "#7201a8"
             ],
             [
              0.3333333333333333,
              "#9c179e"
             ],
             [
              0.4444444444444444,
              "#bd3786"
             ],
             [
              0.5555555555555556,
              "#d8576b"
             ],
             [
              0.6666666666666666,
              "#ed7953"
             ],
             [
              0.7777777777777778,
              "#fb9f3a"
             ],
             [
              0.8888888888888888,
              "#fdca26"
             ],
             [
              1,
              "#f0f921"
             ]
            ],
            "type": "heatmapgl"
           }
          ],
          "histogram": [
           {
            "marker": {
             "pattern": {
              "fillmode": "overlay",
              "size": 10,
              "solidity": 0.2
             }
            },
            "type": "histogram"
           }
          ],
          "histogram2d": [
           {
            "colorbar": {
             "outlinewidth": 0,
             "ticks": ""
            },
            "colorscale": [
             [
              0,
              "#0d0887"
             ],
             [
              0.1111111111111111,
              "#46039f"
             ],
             [
              0.2222222222222222,
              "#7201a8"
             ],
             [
              0.3333333333333333,
              "#9c179e"
             ],
             [
              0.4444444444444444,
              "#bd3786"
             ],
             [
              0.5555555555555556,
              "#d8576b"
             ],
             [
              0.6666666666666666,
              "#ed7953"
             ],
             [
              0.7777777777777778,
              "#fb9f3a"
             ],
             [
              0.8888888888888888,
              "#fdca26"
             ],
             [
              1,
              "#f0f921"
             ]
            ],
            "type": "histogram2d"
           }
          ],
          "histogram2dcontour": [
           {
            "colorbar": {
             "outlinewidth": 0,
             "ticks": ""
            },
            "colorscale": [
             [
              0,
              "#0d0887"
             ],
             [
              0.1111111111111111,
              "#46039f"
             ],
             [
              0.2222222222222222,
              "#7201a8"
             ],
             [
              0.3333333333333333,
              "#9c179e"
             ],
             [
              0.4444444444444444,
              "#bd3786"
             ],
             [
              0.5555555555555556,
              "#d8576b"
             ],
             [
              0.6666666666666666,
              "#ed7953"
             ],
             [
              0.7777777777777778,
              "#fb9f3a"
             ],
             [
              0.8888888888888888,
              "#fdca26"
             ],
             [
              1,
              "#f0f921"
             ]
            ],
            "type": "histogram2dcontour"
           }
          ],
          "mesh3d": [
           {
            "colorbar": {
             "outlinewidth": 0,
             "ticks": ""
            },
            "type": "mesh3d"
           }
          ],
          "parcoords": [
           {
            "line": {
             "colorbar": {
              "outlinewidth": 0,
              "ticks": ""
             }
            },
            "type": "parcoords"
           }
          ],
          "pie": [
           {
            "automargin": true,
            "type": "pie"
           }
          ],
          "scatter": [
           {
            "fillpattern": {
             "fillmode": "overlay",
             "size": 10,
             "solidity": 0.2
            },
            "type": "scatter"
           }
          ],
          "scatter3d": [
           {
            "line": {
             "colorbar": {
              "outlinewidth": 0,
              "ticks": ""
             }
            },
            "marker": {
             "colorbar": {
              "outlinewidth": 0,
              "ticks": ""
             }
            },
            "type": "scatter3d"
           }
          ],
          "scattercarpet": [
           {
            "marker": {
             "colorbar": {
              "outlinewidth": 0,
              "ticks": ""
             }
            },
            "type": "scattercarpet"
           }
          ],
          "scattergeo": [
           {
            "marker": {
             "colorbar": {
              "outlinewidth": 0,
              "ticks": ""
             }
            },
            "type": "scattergeo"
           }
          ],
          "scattergl": [
           {
            "marker": {
             "colorbar": {
              "outlinewidth": 0,
              "ticks": ""
             }
            },
            "type": "scattergl"
           }
          ],
          "scattermapbox": [
           {
            "marker": {
             "colorbar": {
              "outlinewidth": 0,
              "ticks": ""
             }
            },
            "type": "scattermapbox"
           }
          ],
          "scatterpolar": [
           {
            "marker": {
             "colorbar": {
              "outlinewidth": 0,
              "ticks": ""
             }
            },
            "type": "scatterpolar"
           }
          ],
          "scatterpolargl": [
           {
            "marker": {
             "colorbar": {
              "outlinewidth": 0,
              "ticks": ""
             }
            },
            "type": "scatterpolargl"
           }
          ],
          "scatterternary": [
           {
            "marker": {
             "colorbar": {
              "outlinewidth": 0,
              "ticks": ""
             }
            },
            "type": "scatterternary"
           }
          ],
          "surface": [
           {
            "colorbar": {
             "outlinewidth": 0,
             "ticks": ""
            },
            "colorscale": [
             [
              0,
              "#0d0887"
             ],
             [
              0.1111111111111111,
              "#46039f"
             ],
             [
              0.2222222222222222,
              "#7201a8"
             ],
             [
              0.3333333333333333,
              "#9c179e"
             ],
             [
              0.4444444444444444,
              "#bd3786"
             ],
             [
              0.5555555555555556,
              "#d8576b"
             ],
             [
              0.6666666666666666,
              "#ed7953"
             ],
             [
              0.7777777777777778,
              "#fb9f3a"
             ],
             [
              0.8888888888888888,
              "#fdca26"
             ],
             [
              1,
              "#f0f921"
             ]
            ],
            "type": "surface"
           }
          ],
          "table": [
           {
            "cells": {
             "fill": {
              "color": "#EBF0F8"
             },
             "line": {
              "color": "white"
             }
            },
            "header": {
             "fill": {
              "color": "#C8D4E3"
             },
             "line": {
              "color": "white"
             }
            },
            "type": "table"
           }
          ]
         },
         "layout": {
          "annotationdefaults": {
           "arrowcolor": "#2a3f5f",
           "arrowhead": 0,
           "arrowwidth": 1
          },
          "autotypenumbers": "strict",
          "coloraxis": {
           "colorbar": {
            "outlinewidth": 0,
            "ticks": ""
           }
          },
          "colorscale": {
           "diverging": [
            [
             0,
             "#8e0152"
            ],
            [
             0.1,
             "#c51b7d"
            ],
            [
             0.2,
             "#de77ae"
            ],
            [
             0.3,
             "#f1b6da"
            ],
            [
             0.4,
             "#fde0ef"
            ],
            [
             0.5,
             "#f7f7f7"
            ],
            [
             0.6,
             "#e6f5d0"
            ],
            [
             0.7,
             "#b8e186"
            ],
            [
             0.8,
             "#7fbc41"
            ],
            [
             0.9,
             "#4d9221"
            ],
            [
             1,
             "#276419"
            ]
           ],
           "sequential": [
            [
             0,
             "#0d0887"
            ],
            [
             0.1111111111111111,
             "#46039f"
            ],
            [
             0.2222222222222222,
             "#7201a8"
            ],
            [
             0.3333333333333333,
             "#9c179e"
            ],
            [
             0.4444444444444444,
             "#bd3786"
            ],
            [
             0.5555555555555556,
             "#d8576b"
            ],
            [
             0.6666666666666666,
             "#ed7953"
            ],
            [
             0.7777777777777778,
             "#fb9f3a"
            ],
            [
             0.8888888888888888,
             "#fdca26"
            ],
            [
             1,
             "#f0f921"
            ]
           ],
           "sequentialminus": [
            [
             0,
             "#0d0887"
            ],
            [
             0.1111111111111111,
             "#46039f"
            ],
            [
             0.2222222222222222,
             "#7201a8"
            ],
            [
             0.3333333333333333,
             "#9c179e"
            ],
            [
             0.4444444444444444,
             "#bd3786"
            ],
            [
             0.5555555555555556,
             "#d8576b"
            ],
            [
             0.6666666666666666,
             "#ed7953"
            ],
            [
             0.7777777777777778,
             "#fb9f3a"
            ],
            [
             0.8888888888888888,
             "#fdca26"
            ],
            [
             1,
             "#f0f921"
            ]
           ]
          },
          "colorway": [
           "#636efa",
           "#EF553B",
           "#00cc96",
           "#ab63fa",
           "#FFA15A",
           "#19d3f3",
           "#FF6692",
           "#B6E880",
           "#FF97FF",
           "#FECB52"
          ],
          "font": {
           "color": "#2a3f5f"
          },
          "geo": {
           "bgcolor": "white",
           "lakecolor": "white",
           "landcolor": "#E5ECF6",
           "showlakes": true,
           "showland": true,
           "subunitcolor": "white"
          },
          "hoverlabel": {
           "align": "left"
          },
          "hovermode": "closest",
          "mapbox": {
           "style": "light"
          },
          "paper_bgcolor": "white",
          "plot_bgcolor": "#E5ECF6",
          "polar": {
           "angularaxis": {
            "gridcolor": "white",
            "linecolor": "white",
            "ticks": ""
           },
           "bgcolor": "#E5ECF6",
           "radialaxis": {
            "gridcolor": "white",
            "linecolor": "white",
            "ticks": ""
           }
          },
          "scene": {
           "xaxis": {
            "backgroundcolor": "#E5ECF6",
            "gridcolor": "white",
            "gridwidth": 2,
            "linecolor": "white",
            "showbackground": true,
            "ticks": "",
            "zerolinecolor": "white"
           },
           "yaxis": {
            "backgroundcolor": "#E5ECF6",
            "gridcolor": "white",
            "gridwidth": 2,
            "linecolor": "white",
            "showbackground": true,
            "ticks": "",
            "zerolinecolor": "white"
           },
           "zaxis": {
            "backgroundcolor": "#E5ECF6",
            "gridcolor": "white",
            "gridwidth": 2,
            "linecolor": "white",
            "showbackground": true,
            "ticks": "",
            "zerolinecolor": "white"
           }
          },
          "shapedefaults": {
           "line": {
            "color": "#2a3f5f"
           }
          },
          "ternary": {
           "aaxis": {
            "gridcolor": "white",
            "linecolor": "white",
            "ticks": ""
           },
           "baxis": {
            "gridcolor": "white",
            "linecolor": "white",
            "ticks": ""
           },
           "bgcolor": "#E5ECF6",
           "caxis": {
            "gridcolor": "white",
            "linecolor": "white",
            "ticks": ""
           }
          },
          "title": {
           "x": 0.05
          },
          "xaxis": {
           "automargin": true,
           "gridcolor": "white",
           "linecolor": "white",
           "ticks": "",
           "title": {
            "standoff": 15
           },
           "zerolinecolor": "white",
           "zerolinewidth": 2
          },
          "yaxis": {
           "automargin": true,
           "gridcolor": "white",
           "linecolor": "white",
           "ticks": "",
           "title": {
            "standoff": 15
           },
           "zerolinecolor": "white",
           "zerolinewidth": 2
          }
         }
        },
        "title": {
         "text": "Qdot_tube_back_conv - Cas 1 - 1D"
        },
        "xaxis": {
         "title": {
          "text": "Parties"
         }
        },
        "yaxis": {
         "title": {
          "text": "Qdot_tube_back_conv (W)"
         }
        }
       }
      }
     },
     "metadata": {},
     "output_type": "display_data"
    },
    {
     "data": {
      "application/vnd.plotly.v1+json": {
       "config": {
        "plotlyServerURL": "https://plot.ly"
       },
       "data": [
        {
         "hovertemplate": "Simu M1 <br>Part7 <br>%{y:.2f}",
         "marker": {
          "color": "#1f77b4"
         },
         "name": "Qdot_tube_back_rad 1D",
         "opacity": 0.8,
         "type": "bar",
         "width": 0.26666666666666666,
         "x": [
          0.6,
          1.6,
          2.6,
          3.6,
          4.6,
          5.6,
          6.6,
          7.6
         ],
         "y": [
          -1.2668310678846566,
          -1.2802290782032542,
          -9.64112807170992,
          -1.4296900479815302,
          -6.240688853045034,
          -0.5557408358913901,
          -0.60036992927212
         ]
        },
        {
         "hovertemplate": "Simu M2 <br>Part7 <br>%{y:.2f}",
         "marker": {
          "color": "#ff7f0e"
         },
         "name": "Qdot_tube_back_rad 1D",
         "opacity": 0.8,
         "type": "bar",
         "width": 0.26666666666666666,
         "x": [
          0.8666666666666666,
          1.8666666666666667,
          2.8666666666666667,
          3.8666666666666667,
          4.866666666666666,
          5.866666666666666,
          6.866666666666666,
          7.866666666666667
         ],
         "y": [
          -1.2623813403382416,
          -1.341595828952493,
          -9.240560281621482,
          -1.390068620272571,
          -5.890494273089298,
          -0.6220592530476944,
          -0.6830154598521809
         ]
        },
        {
         "hovertemplate": "Simu M3 <br>Part7 <br>%{y:.2f}",
         "marker": {
          "color": "#2ca02c"
         },
         "name": "Qdot_tube_back_rad 1D",
         "opacity": 0.8,
         "type": "bar",
         "width": 0.26666666666666666,
         "x": [
          1.1333333333333333,
          2.1333333333333333,
          3.1333333333333333,
          4.133333333333333,
          5.133333333333333,
          6.133333333333333,
          7.133333333333333,
          8.133333333333333
         ],
         "y": [
          -1.2665286371996032,
          -1.2433603511143771,
          -9.158791429033341,
          -1.3557156211452575,
          -6.109045706102712,
          -0.5851635697989487,
          -0.6507535738284067
         ]
        }
       ],
       "layout": {
        "barmode": "group",
        "legend": {
         "title": {
          "text": "Simulation"
         }
        },
        "template": {
         "data": {
          "bar": [
           {
            "error_x": {
             "color": "#2a3f5f"
            },
            "error_y": {
             "color": "#2a3f5f"
            },
            "marker": {
             "line": {
              "color": "#E5ECF6",
              "width": 0.5
             },
             "pattern": {
              "fillmode": "overlay",
              "size": 10,
              "solidity": 0.2
             }
            },
            "type": "bar"
           }
          ],
          "barpolar": [
           {
            "marker": {
             "line": {
              "color": "#E5ECF6",
              "width": 0.5
             },
             "pattern": {
              "fillmode": "overlay",
              "size": 10,
              "solidity": 0.2
             }
            },
            "type": "barpolar"
           }
          ],
          "carpet": [
           {
            "aaxis": {
             "endlinecolor": "#2a3f5f",
             "gridcolor": "white",
             "linecolor": "white",
             "minorgridcolor": "white",
             "startlinecolor": "#2a3f5f"
            },
            "baxis": {
             "endlinecolor": "#2a3f5f",
             "gridcolor": "white",
             "linecolor": "white",
             "minorgridcolor": "white",
             "startlinecolor": "#2a3f5f"
            },
            "type": "carpet"
           }
          ],
          "choropleth": [
           {
            "colorbar": {
             "outlinewidth": 0,
             "ticks": ""
            },
            "type": "choropleth"
           }
          ],
          "contour": [
           {
            "colorbar": {
             "outlinewidth": 0,
             "ticks": ""
            },
            "colorscale": [
             [
              0,
              "#0d0887"
             ],
             [
              0.1111111111111111,
              "#46039f"
             ],
             [
              0.2222222222222222,
              "#7201a8"
             ],
             [
              0.3333333333333333,
              "#9c179e"
             ],
             [
              0.4444444444444444,
              "#bd3786"
             ],
             [
              0.5555555555555556,
              "#d8576b"
             ],
             [
              0.6666666666666666,
              "#ed7953"
             ],
             [
              0.7777777777777778,
              "#fb9f3a"
             ],
             [
              0.8888888888888888,
              "#fdca26"
             ],
             [
              1,
              "#f0f921"
             ]
            ],
            "type": "contour"
           }
          ],
          "contourcarpet": [
           {
            "colorbar": {
             "outlinewidth": 0,
             "ticks": ""
            },
            "type": "contourcarpet"
           }
          ],
          "heatmap": [
           {
            "colorbar": {
             "outlinewidth": 0,
             "ticks": ""
            },
            "colorscale": [
             [
              0,
              "#0d0887"
             ],
             [
              0.1111111111111111,
              "#46039f"
             ],
             [
              0.2222222222222222,
              "#7201a8"
             ],
             [
              0.3333333333333333,
              "#9c179e"
             ],
             [
              0.4444444444444444,
              "#bd3786"
             ],
             [
              0.5555555555555556,
              "#d8576b"
             ],
             [
              0.6666666666666666,
              "#ed7953"
             ],
             [
              0.7777777777777778,
              "#fb9f3a"
             ],
             [
              0.8888888888888888,
              "#fdca26"
             ],
             [
              1,
              "#f0f921"
             ]
            ],
            "type": "heatmap"
           }
          ],
          "heatmapgl": [
           {
            "colorbar": {
             "outlinewidth": 0,
             "ticks": ""
            },
            "colorscale": [
             [
              0,
              "#0d0887"
             ],
             [
              0.1111111111111111,
              "#46039f"
             ],
             [
              0.2222222222222222,
              "#7201a8"
             ],
             [
              0.3333333333333333,
              "#9c179e"
             ],
             [
              0.4444444444444444,
              "#bd3786"
             ],
             [
              0.5555555555555556,
              "#d8576b"
             ],
             [
              0.6666666666666666,
              "#ed7953"
             ],
             [
              0.7777777777777778,
              "#fb9f3a"
             ],
             [
              0.8888888888888888,
              "#fdca26"
             ],
             [
              1,
              "#f0f921"
             ]
            ],
            "type": "heatmapgl"
           }
          ],
          "histogram": [
           {
            "marker": {
             "pattern": {
              "fillmode": "overlay",
              "size": 10,
              "solidity": 0.2
             }
            },
            "type": "histogram"
           }
          ],
          "histogram2d": [
           {
            "colorbar": {
             "outlinewidth": 0,
             "ticks": ""
            },
            "colorscale": [
             [
              0,
              "#0d0887"
             ],
             [
              0.1111111111111111,
              "#46039f"
             ],
             [
              0.2222222222222222,
              "#7201a8"
             ],
             [
              0.3333333333333333,
              "#9c179e"
             ],
             [
              0.4444444444444444,
              "#bd3786"
             ],
             [
              0.5555555555555556,
              "#d8576b"
             ],
             [
              0.6666666666666666,
              "#ed7953"
             ],
             [
              0.7777777777777778,
              "#fb9f3a"
             ],
             [
              0.8888888888888888,
              "#fdca26"
             ],
             [
              1,
              "#f0f921"
             ]
            ],
            "type": "histogram2d"
           }
          ],
          "histogram2dcontour": [
           {
            "colorbar": {
             "outlinewidth": 0,
             "ticks": ""
            },
            "colorscale": [
             [
              0,
              "#0d0887"
             ],
             [
              0.1111111111111111,
              "#46039f"
             ],
             [
              0.2222222222222222,
              "#7201a8"
             ],
             [
              0.3333333333333333,
              "#9c179e"
             ],
             [
              0.4444444444444444,
              "#bd3786"
             ],
             [
              0.5555555555555556,
              "#d8576b"
             ],
             [
              0.6666666666666666,
              "#ed7953"
             ],
             [
              0.7777777777777778,
              "#fb9f3a"
             ],
             [
              0.8888888888888888,
              "#fdca26"
             ],
             [
              1,
              "#f0f921"
             ]
            ],
            "type": "histogram2dcontour"
           }
          ],
          "mesh3d": [
           {
            "colorbar": {
             "outlinewidth": 0,
             "ticks": ""
            },
            "type": "mesh3d"
           }
          ],
          "parcoords": [
           {
            "line": {
             "colorbar": {
              "outlinewidth": 0,
              "ticks": ""
             }
            },
            "type": "parcoords"
           }
          ],
          "pie": [
           {
            "automargin": true,
            "type": "pie"
           }
          ],
          "scatter": [
           {
            "fillpattern": {
             "fillmode": "overlay",
             "size": 10,
             "solidity": 0.2
            },
            "type": "scatter"
           }
          ],
          "scatter3d": [
           {
            "line": {
             "colorbar": {
              "outlinewidth": 0,
              "ticks": ""
             }
            },
            "marker": {
             "colorbar": {
              "outlinewidth": 0,
              "ticks": ""
             }
            },
            "type": "scatter3d"
           }
          ],
          "scattercarpet": [
           {
            "marker": {
             "colorbar": {
              "outlinewidth": 0,
              "ticks": ""
             }
            },
            "type": "scattercarpet"
           }
          ],
          "scattergeo": [
           {
            "marker": {
             "colorbar": {
              "outlinewidth": 0,
              "ticks": ""
             }
            },
            "type": "scattergeo"
           }
          ],
          "scattergl": [
           {
            "marker": {
             "colorbar": {
              "outlinewidth": 0,
              "ticks": ""
             }
            },
            "type": "scattergl"
           }
          ],
          "scattermapbox": [
           {
            "marker": {
             "colorbar": {
              "outlinewidth": 0,
              "ticks": ""
             }
            },
            "type": "scattermapbox"
           }
          ],
          "scatterpolar": [
           {
            "marker": {
             "colorbar": {
              "outlinewidth": 0,
              "ticks": ""
             }
            },
            "type": "scatterpolar"
           }
          ],
          "scatterpolargl": [
           {
            "marker": {
             "colorbar": {
              "outlinewidth": 0,
              "ticks": ""
             }
            },
            "type": "scatterpolargl"
           }
          ],
          "scatterternary": [
           {
            "marker": {
             "colorbar": {
              "outlinewidth": 0,
              "ticks": ""
             }
            },
            "type": "scatterternary"
           }
          ],
          "surface": [
           {
            "colorbar": {
             "outlinewidth": 0,
             "ticks": ""
            },
            "colorscale": [
             [
              0,
              "#0d0887"
             ],
             [
              0.1111111111111111,
              "#46039f"
             ],
             [
              0.2222222222222222,
              "#7201a8"
             ],
             [
              0.3333333333333333,
              "#9c179e"
             ],
             [
              0.4444444444444444,
              "#bd3786"
             ],
             [
              0.5555555555555556,
              "#d8576b"
             ],
             [
              0.6666666666666666,
              "#ed7953"
             ],
             [
              0.7777777777777778,
              "#fb9f3a"
             ],
             [
              0.8888888888888888,
              "#fdca26"
             ],
             [
              1,
              "#f0f921"
             ]
            ],
            "type": "surface"
           }
          ],
          "table": [
           {
            "cells": {
             "fill": {
              "color": "#EBF0F8"
             },
             "line": {
              "color": "white"
             }
            },
            "header": {
             "fill": {
              "color": "#C8D4E3"
             },
             "line": {
              "color": "white"
             }
            },
            "type": "table"
           }
          ]
         },
         "layout": {
          "annotationdefaults": {
           "arrowcolor": "#2a3f5f",
           "arrowhead": 0,
           "arrowwidth": 1
          },
          "autotypenumbers": "strict",
          "coloraxis": {
           "colorbar": {
            "outlinewidth": 0,
            "ticks": ""
           }
          },
          "colorscale": {
           "diverging": [
            [
             0,
             "#8e0152"
            ],
            [
             0.1,
             "#c51b7d"
            ],
            [
             0.2,
             "#de77ae"
            ],
            [
             0.3,
             "#f1b6da"
            ],
            [
             0.4,
             "#fde0ef"
            ],
            [
             0.5,
             "#f7f7f7"
            ],
            [
             0.6,
             "#e6f5d0"
            ],
            [
             0.7,
             "#b8e186"
            ],
            [
             0.8,
             "#7fbc41"
            ],
            [
             0.9,
             "#4d9221"
            ],
            [
             1,
             "#276419"
            ]
           ],
           "sequential": [
            [
             0,
             "#0d0887"
            ],
            [
             0.1111111111111111,
             "#46039f"
            ],
            [
             0.2222222222222222,
             "#7201a8"
            ],
            [
             0.3333333333333333,
             "#9c179e"
            ],
            [
             0.4444444444444444,
             "#bd3786"
            ],
            [
             0.5555555555555556,
             "#d8576b"
            ],
            [
             0.6666666666666666,
             "#ed7953"
            ],
            [
             0.7777777777777778,
             "#fb9f3a"
            ],
            [
             0.8888888888888888,
             "#fdca26"
            ],
            [
             1,
             "#f0f921"
            ]
           ],
           "sequentialminus": [
            [
             0,
             "#0d0887"
            ],
            [
             0.1111111111111111,
             "#46039f"
            ],
            [
             0.2222222222222222,
             "#7201a8"
            ],
            [
             0.3333333333333333,
             "#9c179e"
            ],
            [
             0.4444444444444444,
             "#bd3786"
            ],
            [
             0.5555555555555556,
             "#d8576b"
            ],
            [
             0.6666666666666666,
             "#ed7953"
            ],
            [
             0.7777777777777778,
             "#fb9f3a"
            ],
            [
             0.8888888888888888,
             "#fdca26"
            ],
            [
             1,
             "#f0f921"
            ]
           ]
          },
          "colorway": [
           "#636efa",
           "#EF553B",
           "#00cc96",
           "#ab63fa",
           "#FFA15A",
           "#19d3f3",
           "#FF6692",
           "#B6E880",
           "#FF97FF",
           "#FECB52"
          ],
          "font": {
           "color": "#2a3f5f"
          },
          "geo": {
           "bgcolor": "white",
           "lakecolor": "white",
           "landcolor": "#E5ECF6",
           "showlakes": true,
           "showland": true,
           "subunitcolor": "white"
          },
          "hoverlabel": {
           "align": "left"
          },
          "hovermode": "closest",
          "mapbox": {
           "style": "light"
          },
          "paper_bgcolor": "white",
          "plot_bgcolor": "#E5ECF6",
          "polar": {
           "angularaxis": {
            "gridcolor": "white",
            "linecolor": "white",
            "ticks": ""
           },
           "bgcolor": "#E5ECF6",
           "radialaxis": {
            "gridcolor": "white",
            "linecolor": "white",
            "ticks": ""
           }
          },
          "scene": {
           "xaxis": {
            "backgroundcolor": "#E5ECF6",
            "gridcolor": "white",
            "gridwidth": 2,
            "linecolor": "white",
            "showbackground": true,
            "ticks": "",
            "zerolinecolor": "white"
           },
           "yaxis": {
            "backgroundcolor": "#E5ECF6",
            "gridcolor": "white",
            "gridwidth": 2,
            "linecolor": "white",
            "showbackground": true,
            "ticks": "",
            "zerolinecolor": "white"
           },
           "zaxis": {
            "backgroundcolor": "#E5ECF6",
            "gridcolor": "white",
            "gridwidth": 2,
            "linecolor": "white",
            "showbackground": true,
            "ticks": "",
            "zerolinecolor": "white"
           }
          },
          "shapedefaults": {
           "line": {
            "color": "#2a3f5f"
           }
          },
          "ternary": {
           "aaxis": {
            "gridcolor": "white",
            "linecolor": "white",
            "ticks": ""
           },
           "baxis": {
            "gridcolor": "white",
            "linecolor": "white",
            "ticks": ""
           },
           "bgcolor": "#E5ECF6",
           "caxis": {
            "gridcolor": "white",
            "linecolor": "white",
            "ticks": ""
           }
          },
          "title": {
           "x": 0.05
          },
          "xaxis": {
           "automargin": true,
           "gridcolor": "white",
           "linecolor": "white",
           "ticks": "",
           "title": {
            "standoff": 15
           },
           "zerolinecolor": "white",
           "zerolinewidth": 2
          },
          "yaxis": {
           "automargin": true,
           "gridcolor": "white",
           "linecolor": "white",
           "ticks": "",
           "title": {
            "standoff": 15
           },
           "zerolinecolor": "white",
           "zerolinewidth": 2
          }
         }
        },
        "title": {
         "text": "Qdot_tube_back_rad - Cas 1 - 1D"
        },
        "xaxis": {
         "title": {
          "text": "Parties"
         }
        },
        "yaxis": {
         "title": {
          "text": "Qdot_tube_back_rad [W]"
         }
        }
       }
      }
     },
     "metadata": {},
     "output_type": "display_data"
    },
    {
     "data": {
      "application/vnd.plotly.v1+json": {
       "config": {
        "plotlyServerURL": "https://plot.ly"
       },
       "data": [
        {
         "hovertemplate": "Simu M1 <br>Part7 <br>%{y:.2f}",
         "marker": {
          "color": "#1f77b4"
         },
         "name": "Qdot_PV_sky 1D",
         "opacity": 0.8,
         "type": "bar",
         "width": 0.26666666666666666,
         "x": [
          0.6,
          1.6,
          2.6,
          3.6,
          4.6,
          5.6,
          6.6,
          7.6
         ],
         "y": [
          -0.000003927225712686457,
          -0.00008128163328073771,
          -9.883729739133202,
          -0.0001624421896412,
          -8.7000985143921,
          -0.000059961347118687286,
          -0.0000033680258151889065
         ]
        },
        {
         "hovertemplate": "Simu M2 <br>Part7 <br>%{y:.2f}",
         "marker": {
          "color": "#ff7f0e"
         },
         "name": "Qdot_PV_sky 1D",
         "opacity": 0.8,
         "type": "bar",
         "width": 0.26666666666666666,
         "x": [
          0.8666666666666666,
          1.8666666666666667,
          2.8666666666666667,
          3.8666666666666667,
          4.866666666666666,
          5.866666666666666,
          6.866666666666666,
          7.866666666666667
         ],
         "y": [
          -0.000003939048329497002,
          -0.00008226303502040514,
          -10.018241781873694,
          -0.0001647390635188,
          -8.837284354927286,
          -0.00006089508637692161,
          -0.0000034034930326557206
         ]
        },
        {
         "hovertemplate": "Simu M3 <br>Part7 <br>%{y:.2f}",
         "marker": {
          "color": "#2ca02c"
         },
         "name": "Qdot_PV_sky 1D",
         "opacity": 0.8,
         "type": "bar",
         "width": 0.26666666666666666,
         "x": [
          1.1333333333333333,
          2.1333333333333333,
          3.1333333333333333,
          4.133333333333333,
          5.133333333333333,
          6.133333333333333,
          7.133333333333333,
          8.133333333333333
         ],
         "y": [
          -0.000003905945672687387,
          -0.00008311013847477468,
          -10.132201952347016,
          -0.0001664154983062,
          -8.945869143715926,
          -0.00006171921452378792,
          -0.000003338469851217733
         ]
        }
       ],
       "layout": {
        "barmode": "group",
        "legend": {
         "title": {
          "text": "Simulation"
         }
        },
        "template": {
         "data": {
          "bar": [
           {
            "error_x": {
             "color": "#2a3f5f"
            },
            "error_y": {
             "color": "#2a3f5f"
            },
            "marker": {
             "line": {
              "color": "#E5ECF6",
              "width": 0.5
             },
             "pattern": {
              "fillmode": "overlay",
              "size": 10,
              "solidity": 0.2
             }
            },
            "type": "bar"
           }
          ],
          "barpolar": [
           {
            "marker": {
             "line": {
              "color": "#E5ECF6",
              "width": 0.5
             },
             "pattern": {
              "fillmode": "overlay",
              "size": 10,
              "solidity": 0.2
             }
            },
            "type": "barpolar"
           }
          ],
          "carpet": [
           {
            "aaxis": {
             "endlinecolor": "#2a3f5f",
             "gridcolor": "white",
             "linecolor": "white",
             "minorgridcolor": "white",
             "startlinecolor": "#2a3f5f"
            },
            "baxis": {
             "endlinecolor": "#2a3f5f",
             "gridcolor": "white",
             "linecolor": "white",
             "minorgridcolor": "white",
             "startlinecolor": "#2a3f5f"
            },
            "type": "carpet"
           }
          ],
          "choropleth": [
           {
            "colorbar": {
             "outlinewidth": 0,
             "ticks": ""
            },
            "type": "choropleth"
           }
          ],
          "contour": [
           {
            "colorbar": {
             "outlinewidth": 0,
             "ticks": ""
            },
            "colorscale": [
             [
              0,
              "#0d0887"
             ],
             [
              0.1111111111111111,
              "#46039f"
             ],
             [
              0.2222222222222222,
              "#7201a8"
             ],
             [
              0.3333333333333333,
              "#9c179e"
             ],
             [
              0.4444444444444444,
              "#bd3786"
             ],
             [
              0.5555555555555556,
              "#d8576b"
             ],
             [
              0.6666666666666666,
              "#ed7953"
             ],
             [
              0.7777777777777778,
              "#fb9f3a"
             ],
             [
              0.8888888888888888,
              "#fdca26"
             ],
             [
              1,
              "#f0f921"
             ]
            ],
            "type": "contour"
           }
          ],
          "contourcarpet": [
           {
            "colorbar": {
             "outlinewidth": 0,
             "ticks": ""
            },
            "type": "contourcarpet"
           }
          ],
          "heatmap": [
           {
            "colorbar": {
             "outlinewidth": 0,
             "ticks": ""
            },
            "colorscale": [
             [
              0,
              "#0d0887"
             ],
             [
              0.1111111111111111,
              "#46039f"
             ],
             [
              0.2222222222222222,
              "#7201a8"
             ],
             [
              0.3333333333333333,
              "#9c179e"
             ],
             [
              0.4444444444444444,
              "#bd3786"
             ],
             [
              0.5555555555555556,
              "#d8576b"
             ],
             [
              0.6666666666666666,
              "#ed7953"
             ],
             [
              0.7777777777777778,
              "#fb9f3a"
             ],
             [
              0.8888888888888888,
              "#fdca26"
             ],
             [
              1,
              "#f0f921"
             ]
            ],
            "type": "heatmap"
           }
          ],
          "heatmapgl": [
           {
            "colorbar": {
             "outlinewidth": 0,
             "ticks": ""
            },
            "colorscale": [
             [
              0,
              "#0d0887"
             ],
             [
              0.1111111111111111,
              "#46039f"
             ],
             [
              0.2222222222222222,
              "#7201a8"
             ],
             [
              0.3333333333333333,
              "#9c179e"
             ],
             [
              0.4444444444444444,
              "#bd3786"
             ],
             [
              0.5555555555555556,
              "#d8576b"
             ],
             [
              0.6666666666666666,
              "#ed7953"
             ],
             [
              0.7777777777777778,
              "#fb9f3a"
             ],
             [
              0.8888888888888888,
              "#fdca26"
             ],
             [
              1,
              "#f0f921"
             ]
            ],
            "type": "heatmapgl"
           }
          ],
          "histogram": [
           {
            "marker": {
             "pattern": {
              "fillmode": "overlay",
              "size": 10,
              "solidity": 0.2
             }
            },
            "type": "histogram"
           }
          ],
          "histogram2d": [
           {
            "colorbar": {
             "outlinewidth": 0,
             "ticks": ""
            },
            "colorscale": [
             [
              0,
              "#0d0887"
             ],
             [
              0.1111111111111111,
              "#46039f"
             ],
             [
              0.2222222222222222,
              "#7201a8"
             ],
             [
              0.3333333333333333,
              "#9c179e"
             ],
             [
              0.4444444444444444,
              "#bd3786"
             ],
             [
              0.5555555555555556,
              "#d8576b"
             ],
             [
              0.6666666666666666,
              "#ed7953"
             ],
             [
              0.7777777777777778,
              "#fb9f3a"
             ],
             [
              0.8888888888888888,
              "#fdca26"
             ],
             [
              1,
              "#f0f921"
             ]
            ],
            "type": "histogram2d"
           }
          ],
          "histogram2dcontour": [
           {
            "colorbar": {
             "outlinewidth": 0,
             "ticks": ""
            },
            "colorscale": [
             [
              0,
              "#0d0887"
             ],
             [
              0.1111111111111111,
              "#46039f"
             ],
             [
              0.2222222222222222,
              "#7201a8"
             ],
             [
              0.3333333333333333,
              "#9c179e"
             ],
             [
              0.4444444444444444,
              "#bd3786"
             ],
             [
              0.5555555555555556,
              "#d8576b"
             ],
             [
              0.6666666666666666,
              "#ed7953"
             ],
             [
              0.7777777777777778,
              "#fb9f3a"
             ],
             [
              0.8888888888888888,
              "#fdca26"
             ],
             [
              1,
              "#f0f921"
             ]
            ],
            "type": "histogram2dcontour"
           }
          ],
          "mesh3d": [
           {
            "colorbar": {
             "outlinewidth": 0,
             "ticks": ""
            },
            "type": "mesh3d"
           }
          ],
          "parcoords": [
           {
            "line": {
             "colorbar": {
              "outlinewidth": 0,
              "ticks": ""
             }
            },
            "type": "parcoords"
           }
          ],
          "pie": [
           {
            "automargin": true,
            "type": "pie"
           }
          ],
          "scatter": [
           {
            "fillpattern": {
             "fillmode": "overlay",
             "size": 10,
             "solidity": 0.2
            },
            "type": "scatter"
           }
          ],
          "scatter3d": [
           {
            "line": {
             "colorbar": {
              "outlinewidth": 0,
              "ticks": ""
             }
            },
            "marker": {
             "colorbar": {
              "outlinewidth": 0,
              "ticks": ""
             }
            },
            "type": "scatter3d"
           }
          ],
          "scattercarpet": [
           {
            "marker": {
             "colorbar": {
              "outlinewidth": 0,
              "ticks": ""
             }
            },
            "type": "scattercarpet"
           }
          ],
          "scattergeo": [
           {
            "marker": {
             "colorbar": {
              "outlinewidth": 0,
              "ticks": ""
             }
            },
            "type": "scattergeo"
           }
          ],
          "scattergl": [
           {
            "marker": {
             "colorbar": {
              "outlinewidth": 0,
              "ticks": ""
             }
            },
            "type": "scattergl"
           }
          ],
          "scattermapbox": [
           {
            "marker": {
             "colorbar": {
              "outlinewidth": 0,
              "ticks": ""
             }
            },
            "type": "scattermapbox"
           }
          ],
          "scatterpolar": [
           {
            "marker": {
             "colorbar": {
              "outlinewidth": 0,
              "ticks": ""
             }
            },
            "type": "scatterpolar"
           }
          ],
          "scatterpolargl": [
           {
            "marker": {
             "colorbar": {
              "outlinewidth": 0,
              "ticks": ""
             }
            },
            "type": "scatterpolargl"
           }
          ],
          "scatterternary": [
           {
            "marker": {
             "colorbar": {
              "outlinewidth": 0,
              "ticks": ""
             }
            },
            "type": "scatterternary"
           }
          ],
          "surface": [
           {
            "colorbar": {
             "outlinewidth": 0,
             "ticks": ""
            },
            "colorscale": [
             [
              0,
              "#0d0887"
             ],
             [
              0.1111111111111111,
              "#46039f"
             ],
             [
              0.2222222222222222,
              "#7201a8"
             ],
             [
              0.3333333333333333,
              "#9c179e"
             ],
             [
              0.4444444444444444,
              "#bd3786"
             ],
             [
              0.5555555555555556,
              "#d8576b"
             ],
             [
              0.6666666666666666,
              "#ed7953"
             ],
             [
              0.7777777777777778,
              "#fb9f3a"
             ],
             [
              0.8888888888888888,
              "#fdca26"
             ],
             [
              1,
              "#f0f921"
             ]
            ],
            "type": "surface"
           }
          ],
          "table": [
           {
            "cells": {
             "fill": {
              "color": "#EBF0F8"
             },
             "line": {
              "color": "white"
             }
            },
            "header": {
             "fill": {
              "color": "#C8D4E3"
             },
             "line": {
              "color": "white"
             }
            },
            "type": "table"
           }
          ]
         },
         "layout": {
          "annotationdefaults": {
           "arrowcolor": "#2a3f5f",
           "arrowhead": 0,
           "arrowwidth": 1
          },
          "autotypenumbers": "strict",
          "coloraxis": {
           "colorbar": {
            "outlinewidth": 0,
            "ticks": ""
           }
          },
          "colorscale": {
           "diverging": [
            [
             0,
             "#8e0152"
            ],
            [
             0.1,
             "#c51b7d"
            ],
            [
             0.2,
             "#de77ae"
            ],
            [
             0.3,
             "#f1b6da"
            ],
            [
             0.4,
             "#fde0ef"
            ],
            [
             0.5,
             "#f7f7f7"
            ],
            [
             0.6,
             "#e6f5d0"
            ],
            [
             0.7,
             "#b8e186"
            ],
            [
             0.8,
             "#7fbc41"
            ],
            [
             0.9,
             "#4d9221"
            ],
            [
             1,
             "#276419"
            ]
           ],
           "sequential": [
            [
             0,
             "#0d0887"
            ],
            [
             0.1111111111111111,
             "#46039f"
            ],
            [
             0.2222222222222222,
             "#7201a8"
            ],
            [
             0.3333333333333333,
             "#9c179e"
            ],
            [
             0.4444444444444444,
             "#bd3786"
            ],
            [
             0.5555555555555556,
             "#d8576b"
            ],
            [
             0.6666666666666666,
             "#ed7953"
            ],
            [
             0.7777777777777778,
             "#fb9f3a"
            ],
            [
             0.8888888888888888,
             "#fdca26"
            ],
            [
             1,
             "#f0f921"
            ]
           ],
           "sequentialminus": [
            [
             0,
             "#0d0887"
            ],
            [
             0.1111111111111111,
             "#46039f"
            ],
            [
             0.2222222222222222,
             "#7201a8"
            ],
            [
             0.3333333333333333,
             "#9c179e"
            ],
            [
             0.4444444444444444,
             "#bd3786"
            ],
            [
             0.5555555555555556,
             "#d8576b"
            ],
            [
             0.6666666666666666,
             "#ed7953"
            ],
            [
             0.7777777777777778,
             "#fb9f3a"
            ],
            [
             0.8888888888888888,
             "#fdca26"
            ],
            [
             1,
             "#f0f921"
            ]
           ]
          },
          "colorway": [
           "#636efa",
           "#EF553B",
           "#00cc96",
           "#ab63fa",
           "#FFA15A",
           "#19d3f3",
           "#FF6692",
           "#B6E880",
           "#FF97FF",
           "#FECB52"
          ],
          "font": {
           "color": "#2a3f5f"
          },
          "geo": {
           "bgcolor": "white",
           "lakecolor": "white",
           "landcolor": "#E5ECF6",
           "showlakes": true,
           "showland": true,
           "subunitcolor": "white"
          },
          "hoverlabel": {
           "align": "left"
          },
          "hovermode": "closest",
          "mapbox": {
           "style": "light"
          },
          "paper_bgcolor": "white",
          "plot_bgcolor": "#E5ECF6",
          "polar": {
           "angularaxis": {
            "gridcolor": "white",
            "linecolor": "white",
            "ticks": ""
           },
           "bgcolor": "#E5ECF6",
           "radialaxis": {
            "gridcolor": "white",
            "linecolor": "white",
            "ticks": ""
           }
          },
          "scene": {
           "xaxis": {
            "backgroundcolor": "#E5ECF6",
            "gridcolor": "white",
            "gridwidth": 2,
            "linecolor": "white",
            "showbackground": true,
            "ticks": "",
            "zerolinecolor": "white"
           },
           "yaxis": {
            "backgroundcolor": "#E5ECF6",
            "gridcolor": "white",
            "gridwidth": 2,
            "linecolor": "white",
            "showbackground": true,
            "ticks": "",
            "zerolinecolor": "white"
           },
           "zaxis": {
            "backgroundcolor": "#E5ECF6",
            "gridcolor": "white",
            "gridwidth": 2,
            "linecolor": "white",
            "showbackground": true,
            "ticks": "",
            "zerolinecolor": "white"
           }
          },
          "shapedefaults": {
           "line": {
            "color": "#2a3f5f"
           }
          },
          "ternary": {
           "aaxis": {
            "gridcolor": "white",
            "linecolor": "white",
            "ticks": ""
           },
           "baxis": {
            "gridcolor": "white",
            "linecolor": "white",
            "ticks": ""
           },
           "bgcolor": "#E5ECF6",
           "caxis": {
            "gridcolor": "white",
            "linecolor": "white",
            "ticks": ""
           }
          },
          "title": {
           "x": 0.05
          },
          "xaxis": {
           "automargin": true,
           "gridcolor": "white",
           "linecolor": "white",
           "ticks": "",
           "title": {
            "standoff": 15
           },
           "zerolinecolor": "white",
           "zerolinewidth": 2
          },
          "yaxis": {
           "automargin": true,
           "gridcolor": "white",
           "linecolor": "white",
           "ticks": "",
           "title": {
            "standoff": 15
           },
           "zerolinecolor": "white",
           "zerolinewidth": 2
          }
         }
        },
        "title": {
         "text": "Qdot_PV_sky - Cas 1 - 1D"
        },
        "xaxis": {
         "title": {
          "text": "Parties"
         }
        },
        "yaxis": {
         "title": {
          "text": "Qdot_PV_sky [W]"
         }
        }
       }
      }
     },
     "metadata": {},
     "output_type": "display_data"
    }
   ],
   "source": [
    "### Comparaison cas par cas\n",
    "\n",
    "# Définir le cas que vous voulez afficher\n",
    "case = 0\n",
    "\n",
    "# Affichage Qdot_top // CFD et 1D\n",
    "# Initialiser les couleurs pour les parties (7 couleurs différentes)\n",
    "part_colors = ['#1f77b4', '#ff7f0e', '#2ca02c', '#d62728', '#9467bd', '#8c564b', '#e377c2']\n",
    "# Couleurs pour chaque simulation (choisissez autant de couleurs que de simulations)\n",
    "sim_colors = ['#1f77b4', '#ff7f0e', '#2ca02c', '#d62728', '#9467bd', '#8c564b', '#e377c2']\n",
    "bar_width = 0.8 / nb_mesh\n",
    "bar_positions = np.arange(1, nb_hx + 4)  # positions pour chaque partie (1 à nb_hx + 3)\n",
    "\n",
    "\n",
    "## Convergence de Qdot_top pour chaque partie // CFD et 1D\n",
    "\n",
    "fig_top = go.Figure()\n",
    "# Pour chaque simulation (chaque maillage)\n",
    "for mesh in range(nb_mesh):\n",
    "    # Listes pour stocker les valeurs de chaque transfert pour chaque itération pour CFD et 1D\n",
    "    Qdot_top_values_cfd = []\n",
    "    Qdot_top_values_1d = [[] for _ in range(nb_hx + 3)]\n",
    "    Qdot_combined_values = [[] for _ in range(nb_hx + 3)]\n",
    "    iterations_cfd = []\n",
    "    iterations_1d = [[] for _ in range(nb_hx + 3)]\n",
    "    iterations_combined = [[] for _ in range(nb_hx + 3)]\n",
    "\n",
    "    # Boucle sur chaque itération pour calculer les valeurs\n",
    "    for iteration in range(limit_big_it):\n",
    "        # Calculer les valeurs CFD\n",
    "        Qdot_tube, Qdot_top, Qdot_abs, Qdot_top_rad = calculate_Qdot(mesh, case, iteration)\n",
    "        Qdot_top_values_cfd.append(Qdot_top)\n",
    "        iterations_cfd.append(iteration + 1)\n",
    "\n",
    "        # Récupérer les valeurs pour Qdot_top pour 1D\n",
    "        # for part in range(1, nb_hx + 3):\n",
    "        for part in {3,5}:\n",
    "            top_value_1d = df_one_mesh_case_list[mesh][case][iteration]['Qdot_top_conv'].loc[f'part{part}']\n",
    "            Qdot_top_values_1d[part-1].append(top_value_1d)\n",
    "            iterations_1d[part-1].append(iteration + 1.5)\n",
    "\n",
    "            # Combinaison des valeurs CFD et 1D\n",
    "            Qdot_combined_values[part-1].append(Qdot_top[part-1])\n",
    "            Qdot_combined_values[part-1].append(top_value_1d)\n",
    "            iterations_combined[part-1].append(iteration + 1)\n",
    "            iterations_combined[part-1].append(iteration + 1.5)\n",
    "\n",
    "    # Ajouter les valeurs CFD et 1D à la figure\n",
    "    # for part in range(1, nb_hx + 3):\n",
    "    for part in {3,5}:\n",
    "        # Tracer les valeurs CFD\n",
    "        fig_top.add_trace(go.Scatter(x=iterations_cfd, \n",
    "                                        y=[qt[part-1] for qt in Qdot_top_values_cfd],\n",
    "                                        mode='markers',\n",
    "                                        name='Qdot_top CFD',\n",
    "                                        line=dict(width=2, color=part_colors[part-1]),\n",
    "                                        marker=dict(symbol='cross'),\n",
    "                                        hovertemplate= f'Simu M{mesh+1} <br>Part{part} <br>'+'%{y:.2f}'))\n",
    "\n",
    "        # Tracer les valeurs 1D\n",
    "        fig_top.add_trace(go.Scatter(x=iterations_1d[part-1], \n",
    "                                        y=Qdot_top_values_1d[part-1],\n",
    "                                        mode='markers',\n",
    "                                        name='Qdot_top_conv 1D',\n",
    "                                        line=dict(width=2, color=part_colors[part-1], dash='dot'),\n",
    "                                        marker=dict(symbol='x'),\n",
    "                                        hovertemplate= f'Simu M{mesh+1} <br>Part{part} <br>'+'%{y:.2f}'))\n",
    "        \n",
    "        # Tracer la courbe combinée\n",
    "        fig_top.add_trace(go.Scatter(x=iterations_combined[part-1], \n",
    "                                        y=Qdot_combined_values[part-1],\n",
    "                                        mode='lines',\n",
    "                                        name=f'Part {part}',\n",
    "                                        line=dict(width=2, color=part_colors[part-1], dash ='dot')))\n",
    "\n",
    "# Mise en forme du titre et des axes\n",
    "fig_top.update_layout(title=f'Qdot_top - Cas {case+1}',\n",
    "                        xaxis_title='Itération',\n",
    "                        yaxis_title='Qdot_top [W]',\n",
    "                        legend_title='Partie et Simulation')\n",
    "\n",
    "# Affichage de la figure\n",
    "fig_top.show()\n",
    "\n",
    "\n",
    "\n",
    "\n",
    "\n",
    "## Convergence de Qdot_tube_back pour chaque partie // CFD et 1D\n",
    "\n",
    "fig_tube = go.Figure()\n",
    "# Pour chaque simulation (chaque maillage)\n",
    "for mesh in range(nb_mesh):\n",
    "    # Listes pour stocker les valeurs de chaque transfert pour chaque itération pour CFD et 1D\n",
    "    Qdot_tube_values_cfd = []\n",
    "    Qdot_tube_values_1d = [[] for _ in range(nb_hx + 3)]\n",
    "    Qdot_combined_values = [[] for _ in range(nb_hx + 3)]\n",
    "    iterations_cfd = []\n",
    "    iterations_1d = [[] for _ in range(nb_hx + 3)]\n",
    "    iterations_combined = [[] for _ in range(nb_hx + 3)]\n",
    "\n",
    "    # Boucle sur chaque itération pour calculer les valeurs\n",
    "    for iteration in range(limit_big_it):\n",
    "        # Calculer les valeurs CFD\n",
    "        Qdot_tube, Qdot_top, Qdot_abs, Qdot_top_rad = calculate_Qdot(mesh, case, iteration)\n",
    "        Qdot_tube_values_cfd.append(Qdot_tube)\n",
    "        iterations_cfd.append(iteration + 1)\n",
    "\n",
    "        # Récupérer les valeurs pour Qdot_tube_back pour 1D\n",
    "        for part in {3,5}:\n",
    "            tube_value_1d = df_one_mesh_case_list[mesh][case][iteration]['Qdot_tube_back'].loc[f'part{part}']\n",
    "            Qdot_tube_values_1d[part-1].append(tube_value_1d)\n",
    "            iterations_1d[part-1].append(iteration + 1.5)\n",
    "\n",
    "            # Combinaison des valeurs CFD et 1D\n",
    "            Qdot_combined_values[part-1].append(Qdot_tube[part-1])\n",
    "            Qdot_combined_values[part-1].append(tube_value_1d)\n",
    "            iterations_combined[part-1].append(iteration + 1)\n",
    "            iterations_combined[part-1].append(iteration + 1.5)\n",
    "\n",
    "    # Ajouter les valeurs CFD et 1D à la figure\n",
    "    for part in {3,5}:\n",
    "        # Tracer les valeurs CFD\n",
    "        fig_tube.add_trace(go.Scatter(x=iterations_cfd, \n",
    "                                        y=[qt[part-1] for qt in Qdot_tube_values_cfd],\n",
    "                                        mode='markers',\n",
    "                                        name='Qdot_tube CFD',\n",
    "                                        line=dict(width=2, color=part_colors[part-1]),\n",
    "                                        marker=dict(symbol='cross'),\n",
    "                                        hovertemplate= f'Simu M{mesh+1} <br>Part{part} <br>'+'%{y:.2f}'))\n",
    "\n",
    "        # Tracer les valeurs 1D\n",
    "        fig_tube.add_trace(go.Scatter(x=iterations_1d[part-1], \n",
    "                                        y=Qdot_tube_values_1d[part-1],\n",
    "                                        mode='markers',\n",
    "                                        name='Qdot_tube_back 1D',\n",
    "                                        line=dict(width=2, color=part_colors[part-1], dash='dot'),\n",
    "                                        marker=dict(symbol='x'),\n",
    "                                        hovertemplate= f'Simu M{mesh+1} <br>Part{part} <br>'+'%{y:.2f}'))\n",
    "        \n",
    "        # Tracer la courbe combinée\n",
    "        fig_tube.add_trace(go.Scatter(x=iterations_combined[part-1], \n",
    "                                        y=Qdot_combined_values[part-1],\n",
    "                                        mode='lines',\n",
    "                                        name=f'Part {part}',\n",
    "                                        line=dict(width=2, color=part_colors[part-1], dash ='dot')))\n",
    "\n",
    "# Mise en forme du titre et des axes\n",
    "fig_tube.update_layout(title=f'Qdot_tube_back - Cas {case+1}',\n",
    "                        xaxis_title='Itération',\n",
    "                        yaxis_title='Qdot_tube_back [W]',\n",
    "                        legend_title='Partie et Simulation')\n",
    "\n",
    "# Affichage de la figure\n",
    "fig_tube.show()\n",
    "\n",
    "\n",
    "\n",
    "\n",
    "\n",
    "## Comparaison des maillages pour Qdot_tube_fluid // 1D\n",
    "# Créer une figure pour comparer les simulations\n",
    "fig_comparison = go.Figure()\n",
    "\n",
    "# Pour chaque simulation (chaque maillage)\n",
    "for mesh in range(nb_mesh):\n",
    "    # Liste pour stocker les valeurs de Qdot_tube_fluid pour chaque partie\n",
    "    tube_values = []\n",
    "\n",
    "    # Pour chaque partie\n",
    "    for part in range(1, nb_hx + 3):\n",
    "        # Récupérer les valeurs de Qdot_tube_fluid pour la dernière itération pour ce cas et ce maillage\n",
    "        iteration = limit_big_it - 1\n",
    "        tube_value = df_one_mesh_case_list[mesh][case][iteration]['Qdot_tube_fluid'].loc[f'part{part}']\n",
    "        tube_values.append(tube_value)\n",
    "\n",
    "    # Ajouter les barres pour chaque partie\n",
    "    fig_comparison.add_trace(go.Bar(\n",
    "        x=bar_positions + mesh * bar_width - 0.4,\n",
    "        y=tube_values,\n",
    "        name=f'Qdot_tube_fluid 1D',\n",
    "        marker_color=sim_colors[mesh],\n",
    "        width=bar_width,\n",
    "        opacity=0.8,\n",
    "        hovertemplate= f'Simu M{mesh+1} <br>Part{part} <br>'+'%{y:.2f}'\n",
    "    ))\n",
    "\n",
    "# Mise en forme du titre et des axes\n",
    "fig_comparison.update_layout(\n",
    "    title=f'Qdot_tube_fluid - Cas {case + 1} - 1D',\n",
    "    xaxis_title='Parties',\n",
    "    yaxis_title='Qdot_tube_fluid [W]',\n",
    "    barmode='group',  # Regrouper les barres\n",
    "    legend_title='Simulation'\n",
    ")\n",
    "\n",
    "# Affichage de la figure\n",
    "fig_comparison.show()\n",
    "\n",
    "\n",
    "\n",
    "## Comparaison des maillages pour Qdot_top_conv // 1D\n",
    "# Via ratio\n",
    "# Créer une figure pour comparer les simulations\n",
    "fig_comparison = go.Figure()\n",
    "\n",
    "# Pour chaque simulation (chaque maillage)\n",
    "for mesh in range(nb_mesh):\n",
    "    # Liste pour stocker les valeurs de Qdot_top_conv pour chaque partie\n",
    "    top_values = []\n",
    "\n",
    "    # Pour chaque partie\n",
    "    for part in range(1, nb_hx + 3):\n",
    "        # Récupérer les valeurs de Qdot_top_conv pour la dernière itération pour ce cas et ce maillage\n",
    "        iteration = limit_big_it - 1\n",
    "        ratio  = ratio_top_list[mesh][case][iteration][part-1][0]\n",
    "        top_value = ratio*df_one_mesh_case_list[mesh][case][iteration]['Qdot_top_conv'].loc[f'part{part}']\n",
    "        top_values.append(top_value)\n",
    "\n",
    "    # Ajouter les barres pour chaque partie\n",
    "    fig_comparison.add_trace(go.Bar(\n",
    "        x=bar_positions + mesh * bar_width - 0.4,\n",
    "        y=top_values,\n",
    "        name=f'Qdot_top_conv 1D',\n",
    "        marker_color=sim_colors[mesh],\n",
    "        width=bar_width,\n",
    "        opacity=0.8,\n",
    "        hovertemplate= f'Simu M{mesh+1} <br>Part{part} <br>'+'%{y:.2f}'\n",
    "    ))\n",
    "\n",
    "# Mise en forme du titre et des axes\n",
    "fig_comparison.update_layout(\n",
    "    title=f'Qdot_top_conv - Cas {case + 1} - 1D',\n",
    "    xaxis_title='Parties',\n",
    "    yaxis_title='Qdot_top_conv [W]',\n",
    "    barmode='group',  # Regrouper les barres\n",
    "    legend_title='Simulation'\n",
    ")\n",
    "\n",
    "# Affichage de la figure\n",
    "fig_comparison.show()\n",
    "\n",
    "\n",
    "\n",
    "## Comparaison des maillages pour Qdot_top_rad // 1D\n",
    "# Via ratio\n",
    "# Créer une figure pour comparer les simulations\n",
    "fig_comparison = go.Figure()\n",
    "\n",
    "# Pour chaque simulation (chaque maillage)\n",
    "for mesh in range(nb_mesh):\n",
    "    # Liste pour stocker les valeurs de Qdot_top_rad pour chaque partie\n",
    "    top_values = []\n",
    "\n",
    "    # Pour chaque partie\n",
    "    for part in range(1, nb_hx + 3):\n",
    "        # Récupérer les valeurs de Qdot_top_rad pour la dernière itération pour ce cas et ce maillage\n",
    "        iteration = limit_big_it - 1\n",
    "        ratio  = ratio_top_list[mesh][case][iteration][part-1][1]\n",
    "        top_value = ratio*df_one_mesh_case_list[mesh][case][iteration]['Qdot_top_conv'].loc[f'part{part}']\n",
    "        top_values.append(top_value)\n",
    "\n",
    "    # Ajouter les barres pour chaque partie\n",
    "    fig_comparison.add_trace(go.Bar(\n",
    "        x=bar_positions + mesh * bar_width - 0.4,\n",
    "        y=top_values,\n",
    "        name=f'Qdot_top_rad 1D',\n",
    "        marker_color=sim_colors[mesh],\n",
    "        width=bar_width,\n",
    "        opacity=0.8,\n",
    "        hovertemplate= f'Simu M{mesh+1} <br>Part{part} <br>'+'%{y:.2f}'\n",
    "    ))\n",
    "\n",
    "# Mise en forme du titre et des axes\n",
    "fig_comparison.update_layout(\n",
    "    title=f'Qdot_top_rad - Cas {case + 1} - 1D',\n",
    "    xaxis_title='Parties',\n",
    "    yaxis_title='Qdot_top_rad [W]',\n",
    "    barmode='group',  # Regrouper les barres\n",
    "    legend_title='Simulation'\n",
    ")\n",
    "\n",
    "# Affichage de la figure\n",
    "fig_comparison.show()\n",
    "\n",
    "\n",
    "\n",
    "## Comparaison des maillages pour Qdot_tube_back_conv // 1D\n",
    "# Via ratio\n",
    "# Créer une figure pour comparer les simulations\n",
    "fig_comparison = go.Figure()\n",
    "\n",
    "# Pour chaque simulation (chaque maillage)\n",
    "for mesh in range(nb_mesh):\n",
    "    # Liste pour stocker les valeurs de Qdot_tube_back_conv pour chaque partie\n",
    "    tube_back_values = []\n",
    "\n",
    "    # Pour chaque partie\n",
    "    for part in range(1, nb_hx + 3):\n",
    "        # Récupérer les valeurs de Qdot_tube_back_conv pour la dernière itération pour ce cas et ce maillage\n",
    "        iteration = limit_big_it - 1\n",
    "        ratio = ratio_tube_list[mesh][case][iteration][part-1][0]\n",
    "        tube_back_value = ratio*df_one_mesh_case_list[mesh][case][iteration]['Qdot_tube_back'].loc[f'part{part}']\n",
    "        tube_back_values.append(tube_back_value)\n",
    "\n",
    "    # Ajouter les barres pour chaque partie\n",
    "    fig_comparison.add_trace(go.Bar(\n",
    "        x=bar_positions + mesh * bar_width - 0.4,\n",
    "        y=tube_back_values,\n",
    "        name=f'Qdot_tube_back_conv 1D',\n",
    "        marker_color=sim_colors[mesh],\n",
    "        width=bar_width,\n",
    "        opacity=0.8,\n",
    "        hovertemplate= f'Simu M{mesh+1} <br>Part{part} <br>'+'%{y:.2f}'\n",
    "    ))\n",
    "\n",
    "# Mise en forme du titre et des axes\n",
    "fig_comparison.update_layout(\n",
    "    title=f'Qdot_tube_back_conv - Cas {case + 1} - 1D',\n",
    "    xaxis_title='Parties',\n",
    "    yaxis_title='Qdot_tube_back_conv (W)',\n",
    "    barmode='group',  # Regrouper les barres\n",
    "    legend_title='Simulation'\n",
    ")\n",
    "\n",
    "# Affichage de la figure\n",
    "fig_comparison.show()\n",
    "\n",
    "\n",
    "\n",
    "## Comparaison des maillages pour Qdot_tube_back_rad // 1D\n",
    "# Via ratio\n",
    "# Créer une figure pour comparer les simulations\n",
    "fig_comparison = go.Figure()\n",
    "\n",
    "# Pour chaque simulation (chaque maillage)\n",
    "for mesh in range(nb_mesh):\n",
    "    # Liste pour stocker les valeurs de Qdot_tube_back_rad pour chaque partie\n",
    "    tube_back_values = []\n",
    "\n",
    "    # Pour chaque partie\n",
    "    for part in range(1, nb_hx + 3):\n",
    "        # Récupérer les valeurs de Qdot_tube_back_rad pour la dernière itération pour ce cas et ce maillage\n",
    "        iteration = limit_big_it - 1\n",
    "        ratio = ratio_tube_list[mesh][case][iteration][part-1][1]\n",
    "        tube_back_value = ratio*df_one_mesh_case_list[mesh][case][iteration]['Qdot_tube_back'].loc[f'part{part}']\n",
    "        tube_back_values.append(tube_back_value)\n",
    "\n",
    "    # Ajouter les barres pour chaque partie\n",
    "    fig_comparison.add_trace(go.Bar(\n",
    "        x=bar_positions + mesh * bar_width - 0.4,\n",
    "        y=tube_back_values,\n",
    "        name=f'Qdot_tube_back_rad 1D',\n",
    "        marker_color=sim_colors[mesh],\n",
    "        width=bar_width,\n",
    "        opacity=0.8,\n",
    "        hovertemplate= f'Simu M{mesh+1} <br>Part{part} <br>'+'%{y:.2f}'\n",
    "    ))\n",
    "\n",
    "# Mise en forme du titre et des axes\n",
    "fig_comparison.update_layout(\n",
    "    title=f'Qdot_tube_back_rad - Cas {case + 1} - 1D',\n",
    "    xaxis_title='Parties',\n",
    "    yaxis_title='Qdot_tube_back_rad [W]',\n",
    "    barmode='group',  # Regrouper les barres\n",
    "    legend_title='Simulation'\n",
    ")\n",
    "\n",
    "# Affichage de la figure\n",
    "fig_comparison.show()\n",
    "\n",
    "\n",
    "\n",
    "## Comparaison des maillages pour Qdot_PV_sky // 1D\n",
    "# Créer une figure pour comparer les simulations\n",
    "fig_comparison = go.Figure()\n",
    "\n",
    "# Pour chaque simulation (chaque maillage)\n",
    "for mesh in range(nb_mesh):\n",
    "    # Liste pour stocker les valeurs de Qdot_PV_sky pour chaque partie\n",
    "    PV_values = []\n",
    "\n",
    "    # Pour chaque partie\n",
    "    for part in range(1, nb_hx + 3):\n",
    "        # Récupérer les valeurs de Qdot_PV_sky pour la dernière itération pour ce cas et ce maillage\n",
    "        iteration = limit_big_it - 1\n",
    "        PV_value = df_one_mesh_case_list[mesh][case][iteration]['Qdot_PV_sky'].loc[f'part{part}']\n",
    "        PV_values.append(PV_value)\n",
    "\n",
    "    # Ajouter les barres pour chaque partie\n",
    "    fig_comparison.add_trace(go.Bar(\n",
    "        x=bar_positions + mesh * bar_width - 0.4,\n",
    "        y=PV_values,\n",
    "        name=f'Qdot_PV_sky 1D',\n",
    "        marker_color=sim_colors[mesh],\n",
    "        width=bar_width,\n",
    "        opacity=0.8,\n",
    "        hovertemplate= f'Simu M{mesh+1} <br>Part{part} <br>'+'%{y:.2f}'\n",
    "    ))\n",
    "\n",
    "# Mise en forme du titre et des axes\n",
    "fig_comparison.update_layout(\n",
    "    title=f'Qdot_PV_sky - Cas {case + 1} - 1D',\n",
    "    xaxis_title='Parties',\n",
    "    yaxis_title='Qdot_PV_sky [W]',\n",
    "    barmode='group',  # Regrouper les barres\n",
    "    legend_title='Simulation'\n",
    ")\n",
    "\n",
    "# Affichage de la figure\n",
    "fig_comparison.show()"
   ]
  }
 ],
 "metadata": {
  "kernelspec": {
   "display_name": "venv_py_ansys",
   "language": "python",
   "name": "python3"
  },
  "language_info": {
   "codemirror_mode": {
    "name": "ipython",
    "version": 3
   },
   "file_extension": ".py",
   "mimetype": "text/x-python",
   "name": "python",
   "nbconvert_exporter": "python",
   "pygments_lexer": "ipython3",
   "version": "3.11.6"
  }
 },
 "nbformat": 4,
 "nbformat_minor": 2
}
