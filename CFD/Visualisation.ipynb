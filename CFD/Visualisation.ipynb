{
 "cells": [
  {
   "cell_type": "code",
   "execution_count": 1,
   "metadata": {},
   "outputs": [],
   "source": [
    "## IMPORTS\n",
    "\n",
    "import os\n",
    "import sys\n",
    "import time\n",
    "import math\n",
    "from datetime import datetime\n",
    "from io import StringIO\n",
    "\n",
    "\n",
    "import numpy as np\n",
    "import pandas as pd\n",
    "import matplotlib.pyplot as plt\n",
    "import plotly.graph_objects as go\n",
    "from numpy.polynomial.polynomial import Polynomial\n",
    "import scipy.integrate as integrate\n",
    "import scipy.optimize as sco\n",
    "from scipy.optimize import minimize\n",
    "from sklearn.metrics import mean_squared_error\n",
    "import openpyxl\n",
    "import networkx as nx\n",
    "import sklearn.metrics\n",
    "from IPython.core.display import HTML\n",
    "import plotly.io as pio\n",
    "from openpyxl.utils.dataframe import dataframe_to_rows\n",
    "import openpyxl as opxl\n",
    "import matplotlib.ticker as mtick\n",
    "from matplotlib.cm import get_cmap\n",
    "import time\n",
    "\n",
    "\n",
    "sys.path.append(r'C:\\Users\\seagu\\OneDrive\\Documents\\GitHub\\parallel-flow-distribution-pressure-loss\\ansys')\n",
    "sys.path.append(r'C:\\Users\\seagu\\OneDrive\\Documents\\GitHub\\PVT-thermal-performance-model')\n",
    "import jou_gen as jg\n",
    "import ansys_py_bridge as apb\n",
    "import ansys.fluent.core as pyfluent\n",
    "import model as ty\n",
    "import proc as pr\n",
    "import plot_functions_here as pfun\n",
    "import heat_transfer as bht\n",
    "import fluids as fds\n",
    "import ht\n",
    "import general as gen"
   ]
  },
  {
   "cell_type": "markdown",
   "metadata": {},
   "source": [
    "# Visualisation des résultats"
   ]
  },
  {
   "cell_type": "code",
   "execution_count": 2,
   "metadata": {},
   "outputs": [],
   "source": [
    "hypotheses_path = r'D:\\ANSYS Fluent Projects\\pvt_slice_outdoor\\Fluent_GMI\\tests' + '\\\\' + 'Model_hypotheses.xlsx'\n",
    "hyp = pr.create_dict_from_excel(hypotheses_path,'Main')\n",
    "\n",
    "nb_mesh = 3\n",
    "nb_cases = 5\n",
    "limit_big_it = 6\n",
    "nb_hx = 5"
   ]
  },
  {
   "cell_type": "code",
   "execution_count": 12,
   "metadata": {},
   "outputs": [],
   "source": [
    "## Récupération des données sauvegardées\n",
    "\n",
    "folder_path = r'D:\\ANSYS Fluent Projects\\pvt_slice_outdoor\\Fluent_GMI\\tests'\n",
    "\n",
    "ht_tot_mesh_case_list = []\n",
    "ht_rad_mesh_case_list = []\n",
    "ht_conv_mesh_case_list = []\n",
    "CFD_mesh_case_list = []\n",
    "df_one_mesh_case_list = []\n",
    "slices_df_mesh_case_list = []\n",
    "PyFluent_mesh_case_list = []\n",
    "\n",
    "for mesh in range(nb_mesh) :\n",
    "\n",
    "    folder_mesh = f'Simu_M{mesh+1}'\n",
    "    folder_path_mesh = os.path.join(folder_path, folder_mesh)\n",
    "\n",
    "    ht_tot_case_list = []\n",
    "    ht_rad_case_list = []\n",
    "    ht_conv_case_list = []\n",
    "    CFD_case_list = []\n",
    "    df_one_case_list = []\n",
    "    slices_df_case_list = []\n",
    "    PyFluent_case_list = []\n",
    "\n",
    "    for case in range(nb_cases) :\n",
    "    # case = 13\n",
    "    # if True :\n",
    "        ## Récupération des résultats\n",
    "\n",
    "        ht_tot_list = []\n",
    "        ht_rad_list = []\n",
    "        ht_conv_list = []\n",
    "        CFD_list = []\n",
    "        df_one_list = []\n",
    "        slices_df_list = []\n",
    "        PyFluent_list = []\n",
    "\n",
    "        # Récupération des données pour chaque cas\n",
    "        folder_name = f'cas_{case+1}'\n",
    "        folder_path_case = os.path.join(folder_path_mesh, folder_name)\n",
    "\n",
    "        # Définir le chemin du dossier pour les fichiers de résultats\n",
    "        hyp['CFD_ht_path'] = os.path.join(folder_path_case, 'test')\n",
    "\n",
    "        # for iteration in range(1, limit_big_it+1) :\n",
    "        for iteration in range(limit_big_it) :\n",
    "            file_path_result_CFD = hyp['CFD_ht_path']+f'_{iteration}.csv' \n",
    "            file_path_df_one = hyp['CFD_ht_path']+'_df_one' + f'_{iteration}.csv'\n",
    "            file_path_slices_df = hyp['CFD_ht_path']+'_slices_df' + f'_{iteration}.csv'\n",
    "            file_path_Inputs_PyFluent = hyp['CFD_ht_path']+'_PyFluent' + f'_{iteration}.csv'\n",
    "\n",
    "            df_CFD = pd.read_csv(file_path_result_CFD, sep=';')\n",
    "            df_CFD['iteration'] = iteration\n",
    "            df_CFD.index = [f'part{i}' for i in range(1, nb_hx+3)]\n",
    "            CFD_list.append(df_CFD)\n",
    "\n",
    "            df_one = pd.read_csv(file_path_df_one, sep=';')\n",
    "            df_one['iteration'] = iteration\n",
    "            df_one.index = [f'part{i}' for i in range(1, nb_hx+3)]\n",
    "            df_one_list.append(df_one)\n",
    "\n",
    "            slices_df = pd.read_csv(file_path_slices_df, sep=';')\n",
    "            slices_df['iteration'] = iteration\n",
    "            slices_df.index = [f'part{i}' for i in range(1, nb_hx+3)]\n",
    "            slices_df_list.append(slices_df)\n",
    "\n",
    "            df_PyFluent = pd.read_csv(file_path_Inputs_PyFluent, sep=';')\n",
    "            df_PyFluent['iteration'] = iteration\n",
    "            PyFluent_list.append(df_PyFluent)\n",
    "\n",
    "            ht_tot = pd.read_csv(os.path.join(folder_path_case,f'ht_tot_report_{iteration}.csv'), sep=',')\n",
    "            ht_tot['iteration'] = iteration\n",
    "            ht_tot_list.append(ht_tot)\n",
    "\n",
    "            ht_rad = pd.read_csv(os.path.join(folder_path_case,f'ht_rad_report_{iteration}.csv'), sep=',')\n",
    "            ht_rad['iteration'] = iteration\n",
    "            ht_rad_list.append(ht_rad)\n",
    "            \n",
    "            ht_conv = pd.read_csv(os.path.join(folder_path_case,f'ht_conv_report_{iteration}.csv'), sep=';')\n",
    "            ht_conv['iteration'] = iteration\n",
    "            ht_conv_list.append(ht_conv)\n",
    "\n",
    "        ht_tot_case_list.append(ht_tot_list)\n",
    "        ht_rad_case_list.append(ht_rad_list)\n",
    "        ht_conv_case_list.append(ht_conv_list)\n",
    "        CFD_case_list.append(CFD_list)\n",
    "        df_one_case_list.append(df_one_list)\n",
    "        slices_df_case_list.append(slices_df_list)\n",
    "        PyFluent_case_list.append(PyFluent_list)\n",
    "\n",
    "    ht_tot_mesh_case_list.append(ht_tot_case_list)\n",
    "    ht_rad_mesh_case_list.append(ht_rad_case_list)\n",
    "    ht_conv_mesh_case_list.append(ht_conv_case_list)\n",
    "    CFD_mesh_case_list.append(CFD_case_list)\n",
    "    df_one_mesh_case_list.append(df_one_case_list)\n",
    "    slices_df_mesh_case_list.append(slices_df_case_list)\n",
    "    PyFluent_mesh_case_list.append(PyFluent_case_list)"
   ]
  },
  {
   "cell_type": "markdown",
   "metadata": {},
   "source": [
    "1D"
   ]
  },
  {
   "cell_type": "code",
   "execution_count": null,
   "metadata": {},
   "outputs": [],
   "source": []
  },
  {
   "cell_type": "code",
   "execution_count": null,
   "metadata": {},
   "outputs": [],
   "source": [
    "## Afficher des résultats de Qdot_tube_back_conv // 1D chaque simulation\n",
    "\n",
    "# Définition des couleurs pour chaque partie\n",
    "part_colors = ['#1f77b4', '#ff7f0e', '#2ca02c', '#d62728', '#9467bd', '#8c564b', '#e377c2']\n",
    "\n",
    "# Initialisation des listes de figures pour chaque simulation\n",
    "fig_tube_lists = [[] for _ in range(nb_mesh)]\n",
    "\n",
    "# Boucle sur chaque simulation (mesh)\n",
    "for mesh in range(nb_mesh):\n",
    "    for case in range(nb_cases):\n",
    "        # Créer une figure pour Qdot_tube_back_conv\n",
    "        fig_tube = go.Figure()\n",
    "\n",
    "        for part in range(1, 8):  # Supposons que vous avez 7 parties numérotées de 1 à 7\n",
    "            tube_x = []\n",
    "            tube_y = []\n",
    "\n",
    "            for iteration in range(limit_big_it):\n",
    "                # Récupérer les valeurs pour Qdot_tube_back_conv pour cette partie, cette simulation et cette itération\n",
    "                tube_value = df_one_mesh_case_list[mesh][case][iteration]['Qdot_tube_back_conv'].loc[f'part{part}']\n",
    "\n",
    "                tube_x.append(iteration + 1)\n",
    "                tube_y.append(tube_value)\n",
    "\n",
    "            # Ajouter les valeurs à la figure Qdot_tube_back_conv\n",
    "            fig_tube.add_trace(go.Scatter(x=tube_x, y=tube_y,\n",
    "                                          mode='lines+markers',\n",
    "                                          name=f'Partie {part}',\n",
    "                                          line=dict(width=2, color=part_colors[part-1])))\n",
    "\n",
    "        # Mise en forme du titre et des axes pour Qdot_tube_back_conv\n",
    "        fig_tube.update_layout(title=f'Qdot_tube_back_conv - Cas {case+1} - Simu M{mesh+1}',\n",
    "                               xaxis_title='Itérations',\n",
    "                               yaxis_title='Qdot_tube_back_conv',\n",
    "                               plot_bgcolor='rgba(0,0,0,0)')  # Fond transparent pour superposer les graphiques\n",
    "\n",
    "        # Ajouter la figure Qdot_tube_back_conv à la liste correspondante à la simulation actuelle\n",
    "        fig_tube_lists[mesh].append(fig_tube)\n",
    "\n",
    "# Afficher toutes les figures pour Qdot_tube_back_conv par simulation\n",
    "for mesh in range(nb_mesh):\n",
    "    for fig_tube in fig_tube_lists[mesh]:\n",
    "        fig_tube.show()\n"
   ]
  },
  {
   "cell_type": "code",
   "execution_count": null,
   "metadata": {},
   "outputs": [],
   "source": [
    "## Affichage des résultats de Qdot_top_conv pour chaque cas // 1D pour chaque simulation\n",
    "\n",
    "# Créer une liste de figures pour chaque cas\n",
    "fig_top_list = []\n",
    "\n",
    "# Couleurs pour chaque partie (7 couleurs différentes)\n",
    "part_colors = ['#1f77b4', '#ff7f0e', '#2ca02c', '#d62728', '#9467bd', '#8c564b', '#e377c2']\n",
    "\n",
    "for mesh in range(nb_mesh):\n",
    "    for case in range(nb_cases):\n",
    "\n",
    "        # Créer une figure pour Qdot_top_conv\n",
    "        fig_top = go.Figure()\n",
    "        \n",
    "        for part in range(1, nb_hx+3):  # Supposons que vous avez 7 parties numérotées de 1 à 7\n",
    "            top_x = []\n",
    "            top_y = []\n",
    "            \n",
    "            for iteration in range(limit_big_it):\n",
    "                # Récupérer les valeurs pour Qdot_top_conv pour cette partie et cette itération\n",
    "                top_value = df_one_mesh_case_list[mesh][case][iteration]['Qdot_top_conv'].loc[f'part{part}']\n",
    "                \n",
    "                tube_x.append(iteration + 1)\n",
    "                tube_y.append(tube_value)\n",
    "                top_x.append(iteration + 1)\n",
    "                top_y.append(top_value)\n",
    "\n",
    "            \n",
    "            # Ajouter les valeurs à la figure Qdot_top_conv\n",
    "            fig_top.add_trace(go.Scatter(x=top_x, y=top_y,\n",
    "                                        mode='lines+markers',\n",
    "                                        name=f'Partie {part}',\n",
    "                                        line=dict(width=2, color=part_colors[part-1])))\n",
    "        \n",
    "        # Mise en forme du titre et des axes pour Qdot_top_conv\n",
    "        fig_top.update_layout(title=f'Qdot_top_conv - Cas {case+1} - Simu M{mesh+1}',\n",
    "                            xaxis_title='Itérations',\n",
    "                            yaxis_title='Qdot_top_conv')\n",
    "\n",
    "        \n",
    "        # Ajouter la figure Qdot_top_conv à la liste\n",
    "        fig_top_list.append(fig_top)\n",
    "\n",
    "# Afficher toutes les figures pour Qdot_top_conv par cas\n",
    "for fig_top in fig_top_list:\n",
    "    fig_top.show()\n"
   ]
  },
  {
   "cell_type": "code",
   "execution_count": null,
   "metadata": {},
   "outputs": [],
   "source": [
    "## Affichage des résultats de Qdot_top_rad pour chaque cas // 1D pour chaque simulation\n",
    "\n",
    "# Créer une liste de figures pour chaque cas\n",
    "fig_top_list = []\n",
    "\n",
    "# Couleurs pour chaque partie (7 couleurs différentes)\n",
    "part_colors = ['#1f77b4', '#ff7f0e', '#2ca02c', '#d62728', '#9467bd', '#8c564b', '#e377c2']\n",
    "\n",
    "for mesh in range(nb_mesh):\n",
    "    for case in range(nb_cases):\n",
    "\n",
    "        # Créer une figure pour Qdot_top_conv\n",
    "        fig_top = go.Figure()\n",
    "        \n",
    "        for part in range(1, nb_hx+3):  # Supposons que vous avez 7 parties numérotées de 1 à 7\n",
    "            top_x = []\n",
    "            top_y = []\n",
    "            \n",
    "            for iteration in range(limit_big_it):\n",
    "                # Récupérer les valeurs pour Qdot_top_conv pour cette partie et cette itération\n",
    "                top_value = df_one_mesh_case_list[mesh][case][iteration]['Qdot_top_rad'].loc[f'part{part}']\n",
    "    \n",
    "                top_x.append(iteration + 1)\n",
    "                top_y.append(top_value)\n",
    "\n",
    "            \n",
    "            # Ajouter les valeurs à la figure Qdot_top_conv\n",
    "            fig_top.add_trace(go.Scatter(x=top_x, y=top_y,\n",
    "                                        mode='lines+markers',\n",
    "                                        name=f'Partie {part}',\n",
    "                                        line=dict(width=2, color=part_colors[part-1])))\n",
    "        \n",
    "        # Mise en forme du titre et des axes pour Qdot_top_conv\n",
    "        fig_top.update_layout(title=f'Qdot_top_rad - Cas {case+1} - Simu M{mesh+1}',\n",
    "                            xaxis_title='Itérations',\n",
    "                            yaxis_title='Qdot_top_conv')\n",
    "\n",
    "        \n",
    "        # Ajouter la figure Qdot_top_conv à la liste\n",
    "        fig_top_list.append(fig_top)\n",
    "\n",
    "# Afficher toutes les figures pour Qdot_top_conv par cas\n",
    "for fig_top in fig_top_list:\n",
    "    fig_top.show()\n"
   ]
  },
  {
   "cell_type": "code",
   "execution_count": 75,
   "metadata": {},
   "outputs": [
    {
     "name": "stdout",
     "output_type": "stream",
     "text": [
      "Cas n°1 - Simu_M1:\n"
     ]
    },
    {
     "data": {
      "text/html": [
       "<table border=\"1\" class=\"dataframe\">\n",
       "  <thead>\n",
       "    <tr style=\"text-align: right;\">\n",
       "      <th></th>\n",
       "      <th>T_fluid_in_1</th>\n",
       "      <th>T_fluid_out_1</th>\n",
       "      <th>T_fluid_in_2</th>\n",
       "      <th>T_fluid_out_2</th>\n",
       "      <th>T_fluid_in_3</th>\n",
       "      <th>T_fluid_out_3</th>\n",
       "      <th>T_fluid_in_4</th>\n",
       "      <th>T_fluid_out_4</th>\n",
       "      <th>T_fluid_in_5</th>\n",
       "      <th>T_fluid_out_5</th>\n",
       "      <th>T_fluid_in_6</th>\n",
       "      <th>T_fluid_out_6</th>\n",
       "      <th>T_fluid_in_7</th>\n",
       "      <th>T_fluid_out_7</th>\n",
       "    </tr>\n",
       "    <tr>\n",
       "      <th>Itération</th>\n",
       "      <th></th>\n",
       "      <th></th>\n",
       "      <th></th>\n",
       "      <th></th>\n",
       "      <th></th>\n",
       "      <th></th>\n",
       "      <th></th>\n",
       "      <th></th>\n",
       "      <th></th>\n",
       "      <th></th>\n",
       "      <th></th>\n",
       "      <th></th>\n",
       "      <th></th>\n",
       "      <th></th>\n",
       "    </tr>\n",
       "  </thead>\n",
       "  <tbody>\n",
       "    <tr>\n",
       "      <th>1</th>\n",
       "      <td>261.150000</td>\n",
       "      <td>261.178468</td>\n",
       "      <td>261.178468</td>\n",
       "      <td>261.287860</td>\n",
       "      <td>261.287860</td>\n",
       "      <td>261.901936</td>\n",
       "      <td>261.901936</td>\n",
       "      <td>262.138389</td>\n",
       "      <td>262.138389</td>\n",
       "      <td>262.705476</td>\n",
       "      <td>262.705476</td>\n",
       "      <td>262.799387</td>\n",
       "      <td>262.799387</td>\n",
       "      <td>262.823449</td>\n",
       "    </tr>\n",
       "    <tr>\n",
       "      <th>2</th>\n",
       "      <td>262.823449</td>\n",
       "      <td>262.853528</td>\n",
       "      <td>262.853528</td>\n",
       "      <td>262.874406</td>\n",
       "      <td>262.874406</td>\n",
       "      <td>263.527943</td>\n",
       "      <td>263.527943</td>\n",
       "      <td>263.543604</td>\n",
       "      <td>263.543604</td>\n",
       "      <td>264.008326</td>\n",
       "      <td>264.008326</td>\n",
       "      <td>264.013218</td>\n",
       "      <td>264.013218</td>\n",
       "      <td>264.018142</td>\n",
       "    </tr>\n",
       "    <tr>\n",
       "      <th>3</th>\n",
       "      <td>264.018142</td>\n",
       "      <td>264.050030</td>\n",
       "      <td>264.050030</td>\n",
       "      <td>264.068845</td>\n",
       "      <td>264.068845</td>\n",
       "      <td>264.774690</td>\n",
       "      <td>264.774690</td>\n",
       "      <td>264.802872</td>\n",
       "      <td>264.802872</td>\n",
       "      <td>265.403810</td>\n",
       "      <td>265.403810</td>\n",
       "      <td>265.415976</td>\n",
       "      <td>265.415976</td>\n",
       "      <td>265.429236</td>\n",
       "    </tr>\n",
       "    <tr>\n",
       "      <th>4</th>\n",
       "      <td>265.429236</td>\n",
       "      <td>265.460373</td>\n",
       "      <td>265.460373</td>\n",
       "      <td>265.477759</td>\n",
       "      <td>265.477759</td>\n",
       "      <td>266.188014</td>\n",
       "      <td>266.188014</td>\n",
       "      <td>266.216768</td>\n",
       "      <td>266.216768</td>\n",
       "      <td>266.793967</td>\n",
       "      <td>266.793967</td>\n",
       "      <td>266.807913</td>\n",
       "      <td>266.807913</td>\n",
       "      <td>266.822522</td>\n",
       "    </tr>\n",
       "    <tr>\n",
       "      <th>5</th>\n",
       "      <td>266.822522</td>\n",
       "      <td>266.853765</td>\n",
       "      <td>266.853765</td>\n",
       "      <td>266.871976</td>\n",
       "      <td>266.871976</td>\n",
       "      <td>267.557730</td>\n",
       "      <td>267.557730</td>\n",
       "      <td>267.586157</td>\n",
       "      <td>267.586157</td>\n",
       "      <td>268.143063</td>\n",
       "      <td>268.143063</td>\n",
       "      <td>268.154935</td>\n",
       "      <td>268.154935</td>\n",
       "      <td>268.167991</td>\n",
       "    </tr>\n",
       "    <tr>\n",
       "      <th>6</th>\n",
       "      <td>268.167991</td>\n",
       "      <td>268.199352</td>\n",
       "      <td>268.199352</td>\n",
       "      <td>268.217370</td>\n",
       "      <td>268.217370</td>\n",
       "      <td>268.877506</td>\n",
       "      <td>268.877506</td>\n",
       "      <td>268.905097</td>\n",
       "      <td>268.905097</td>\n",
       "      <td>269.435207</td>\n",
       "      <td>269.435207</td>\n",
       "      <td>269.447910</td>\n",
       "      <td>269.447910</td>\n",
       "      <td>269.461488</td>\n",
       "    </tr>\n",
       "  </tbody>\n",
       "</table>"
      ],
      "text/plain": [
       "<IPython.core.display.HTML object>"
      ]
     },
     "metadata": {},
     "output_type": "display_data"
    },
    {
     "name": "stdout",
     "output_type": "stream",
     "text": [
      "Cas n°2 - Simu_M1:\n"
     ]
    },
    {
     "data": {
      "text/html": [
       "<table border=\"1\" class=\"dataframe\">\n",
       "  <thead>\n",
       "    <tr style=\"text-align: right;\">\n",
       "      <th></th>\n",
       "      <th>T_fluid_in_1</th>\n",
       "      <th>T_fluid_out_1</th>\n",
       "      <th>T_fluid_in_2</th>\n",
       "      <th>T_fluid_out_2</th>\n",
       "      <th>T_fluid_in_3</th>\n",
       "      <th>T_fluid_out_3</th>\n",
       "      <th>T_fluid_in_4</th>\n",
       "      <th>T_fluid_out_4</th>\n",
       "      <th>T_fluid_in_5</th>\n",
       "      <th>T_fluid_out_5</th>\n",
       "      <th>T_fluid_in_6</th>\n",
       "      <th>T_fluid_out_6</th>\n",
       "      <th>T_fluid_in_7</th>\n",
       "      <th>T_fluid_out_7</th>\n",
       "    </tr>\n",
       "    <tr>\n",
       "      <th>Itération</th>\n",
       "      <th></th>\n",
       "      <th></th>\n",
       "      <th></th>\n",
       "      <th></th>\n",
       "      <th></th>\n",
       "      <th></th>\n",
       "      <th></th>\n",
       "      <th></th>\n",
       "      <th></th>\n",
       "      <th></th>\n",
       "      <th></th>\n",
       "      <th></th>\n",
       "      <th></th>\n",
       "      <th></th>\n",
       "    </tr>\n",
       "  </thead>\n",
       "  <tbody>\n",
       "    <tr>\n",
       "      <th>1</th>\n",
       "      <td>263.150000</td>\n",
       "      <td>263.173142</td>\n",
       "      <td>263.173142</td>\n",
       "      <td>263.262364</td>\n",
       "      <td>263.262364</td>\n",
       "      <td>263.767776</td>\n",
       "      <td>263.767776</td>\n",
       "      <td>263.960856</td>\n",
       "      <td>263.960856</td>\n",
       "      <td>264.428201</td>\n",
       "      <td>264.428201</td>\n",
       "      <td>264.504974</td>\n",
       "      <td>264.504974</td>\n",
       "      <td>264.524604</td>\n",
       "    </tr>\n",
       "    <tr>\n",
       "      <th>2</th>\n",
       "      <td>264.524604</td>\n",
       "      <td>264.548179</td>\n",
       "      <td>264.548179</td>\n",
       "      <td>264.563720</td>\n",
       "      <td>264.563720</td>\n",
       "      <td>265.092223</td>\n",
       "      <td>265.092223</td>\n",
       "      <td>265.103535</td>\n",
       "      <td>265.103535</td>\n",
       "      <td>265.473425</td>\n",
       "      <td>265.473425</td>\n",
       "      <td>265.475720</td>\n",
       "      <td>265.475720</td>\n",
       "      <td>265.478045</td>\n",
       "    </tr>\n",
       "    <tr>\n",
       "      <th>3</th>\n",
       "      <td>265.478045</td>\n",
       "      <td>265.503410</td>\n",
       "      <td>265.503410</td>\n",
       "      <td>265.517706</td>\n",
       "      <td>265.517706</td>\n",
       "      <td>266.104741</td>\n",
       "      <td>266.104741</td>\n",
       "      <td>266.124740</td>\n",
       "      <td>266.124740</td>\n",
       "      <td>266.620499</td>\n",
       "      <td>266.620499</td>\n",
       "      <td>266.630714</td>\n",
       "      <td>266.630714</td>\n",
       "      <td>266.641654</td>\n",
       "    </tr>\n",
       "    <tr>\n",
       "      <th>4</th>\n",
       "      <td>266.641654</td>\n",
       "      <td>266.666852</td>\n",
       "      <td>266.666852</td>\n",
       "      <td>266.681325</td>\n",
       "      <td>266.681325</td>\n",
       "      <td>267.260755</td>\n",
       "      <td>267.260755</td>\n",
       "      <td>267.285148</td>\n",
       "      <td>267.285148</td>\n",
       "      <td>267.763297</td>\n",
       "      <td>267.763297</td>\n",
       "      <td>267.773254</td>\n",
       "      <td>267.773254</td>\n",
       "      <td>267.784377</td>\n",
       "    </tr>\n",
       "    <tr>\n",
       "      <th>5</th>\n",
       "      <td>267.784377</td>\n",
       "      <td>267.809470</td>\n",
       "      <td>267.809470</td>\n",
       "      <td>267.823285</td>\n",
       "      <td>267.823285</td>\n",
       "      <td>268.384487</td>\n",
       "      <td>268.384487</td>\n",
       "      <td>268.406174</td>\n",
       "      <td>268.406174</td>\n",
       "      <td>268.865556</td>\n",
       "      <td>268.865556</td>\n",
       "      <td>268.875665</td>\n",
       "      <td>268.875665</td>\n",
       "      <td>268.886147</td>\n",
       "    </tr>\n",
       "    <tr>\n",
       "      <th>6</th>\n",
       "      <td>268.886147</td>\n",
       "      <td>268.911125</td>\n",
       "      <td>268.911125</td>\n",
       "      <td>268.925166</td>\n",
       "      <td>268.925166</td>\n",
       "      <td>269.466026</td>\n",
       "      <td>269.466026</td>\n",
       "      <td>269.488846</td>\n",
       "      <td>269.488846</td>\n",
       "      <td>269.927440</td>\n",
       "      <td>269.927440</td>\n",
       "      <td>269.938040</td>\n",
       "      <td>269.938040</td>\n",
       "      <td>269.949253</td>\n",
       "    </tr>\n",
       "  </tbody>\n",
       "</table>"
      ],
      "text/plain": [
       "<IPython.core.display.HTML object>"
      ]
     },
     "metadata": {},
     "output_type": "display_data"
    },
    {
     "name": "stdout",
     "output_type": "stream",
     "text": [
      "Cas n°3 - Simu_M1:\n"
     ]
    },
    {
     "data": {
      "text/html": [
       "<table border=\"1\" class=\"dataframe\">\n",
       "  <thead>\n",
       "    <tr style=\"text-align: right;\">\n",
       "      <th></th>\n",
       "      <th>T_fluid_in_1</th>\n",
       "      <th>T_fluid_out_1</th>\n",
       "      <th>T_fluid_in_2</th>\n",
       "      <th>T_fluid_out_2</th>\n",
       "      <th>T_fluid_in_3</th>\n",
       "      <th>T_fluid_out_3</th>\n",
       "      <th>T_fluid_in_4</th>\n",
       "      <th>T_fluid_out_4</th>\n",
       "      <th>T_fluid_in_5</th>\n",
       "      <th>T_fluid_out_5</th>\n",
       "      <th>T_fluid_in_6</th>\n",
       "      <th>T_fluid_out_6</th>\n",
       "      <th>T_fluid_in_7</th>\n",
       "      <th>T_fluid_out_7</th>\n",
       "    </tr>\n",
       "    <tr>\n",
       "      <th>Itération</th>\n",
       "      <th></th>\n",
       "      <th></th>\n",
       "      <th></th>\n",
       "      <th></th>\n",
       "      <th></th>\n",
       "      <th></th>\n",
       "      <th></th>\n",
       "      <th></th>\n",
       "      <th></th>\n",
       "      <th></th>\n",
       "      <th></th>\n",
       "      <th></th>\n",
       "      <th></th>\n",
       "      <th></th>\n",
       "    </tr>\n",
       "  </thead>\n",
       "  <tbody>\n",
       "    <tr>\n",
       "      <th>1</th>\n",
       "      <td>265.150000</td>\n",
       "      <td>265.167984</td>\n",
       "      <td>265.167984</td>\n",
       "      <td>265.237516</td>\n",
       "      <td>265.237516</td>\n",
       "      <td>265.635853</td>\n",
       "      <td>265.635853</td>\n",
       "      <td>265.786530</td>\n",
       "      <td>265.786530</td>\n",
       "      <td>266.155437</td>\n",
       "      <td>266.155437</td>\n",
       "      <td>266.215430</td>\n",
       "      <td>266.215430</td>\n",
       "      <td>266.230733</td>\n",
       "    </tr>\n",
       "    <tr>\n",
       "      <th>2</th>\n",
       "      <td>266.230733</td>\n",
       "      <td>266.248262</td>\n",
       "      <td>266.248262</td>\n",
       "      <td>266.259703</td>\n",
       "      <td>266.259703</td>\n",
       "      <td>266.666773</td>\n",
       "      <td>266.666773</td>\n",
       "      <td>266.674074</td>\n",
       "      <td>266.674074</td>\n",
       "      <td>266.953069</td>\n",
       "      <td>266.953069</td>\n",
       "      <td>266.953144</td>\n",
       "      <td>266.953144</td>\n",
       "      <td>266.953234</td>\n",
       "    </tr>\n",
       "    <tr>\n",
       "      <th>3</th>\n",
       "      <td>266.953234</td>\n",
       "      <td>266.972619</td>\n",
       "      <td>266.972619</td>\n",
       "      <td>266.983058</td>\n",
       "      <td>266.983058</td>\n",
       "      <td>267.447944</td>\n",
       "      <td>267.447944</td>\n",
       "      <td>267.464133</td>\n",
       "      <td>267.464133</td>\n",
       "      <td>267.860549</td>\n",
       "      <td>267.860549</td>\n",
       "      <td>267.868809</td>\n",
       "      <td>267.868809</td>\n",
       "      <td>267.877627</td>\n",
       "    </tr>\n",
       "    <tr>\n",
       "      <th>4</th>\n",
       "      <td>267.877627</td>\n",
       "      <td>267.896985</td>\n",
       "      <td>267.896985</td>\n",
       "      <td>267.907334</td>\n",
       "      <td>267.907334</td>\n",
       "      <td>268.360848</td>\n",
       "      <td>268.360848</td>\n",
       "      <td>268.376638</td>\n",
       "      <td>268.376638</td>\n",
       "      <td>268.753041</td>\n",
       "      <td>268.753041</td>\n",
       "      <td>268.761029</td>\n",
       "      <td>268.761029</td>\n",
       "      <td>268.769798</td>\n",
       "    </tr>\n",
       "    <tr>\n",
       "      <th>5</th>\n",
       "      <td>268.769798</td>\n",
       "      <td>268.789125</td>\n",
       "      <td>268.789125</td>\n",
       "      <td>268.799008</td>\n",
       "      <td>268.799008</td>\n",
       "      <td>269.241574</td>\n",
       "      <td>269.241574</td>\n",
       "      <td>269.258535</td>\n",
       "      <td>269.258535</td>\n",
       "      <td>269.626653</td>\n",
       "      <td>269.626653</td>\n",
       "      <td>269.634676</td>\n",
       "      <td>269.634676</td>\n",
       "      <td>269.643170</td>\n",
       "    </tr>\n",
       "    <tr>\n",
       "      <th>6</th>\n",
       "      <td>269.643170</td>\n",
       "      <td>269.662253</td>\n",
       "      <td>269.662253</td>\n",
       "      <td>269.672514</td>\n",
       "      <td>269.672514</td>\n",
       "      <td>270.105985</td>\n",
       "      <td>270.105985</td>\n",
       "      <td>270.123655</td>\n",
       "      <td>270.123655</td>\n",
       "      <td>270.470446</td>\n",
       "      <td>270.470446</td>\n",
       "      <td>270.478189</td>\n",
       "      <td>270.478189</td>\n",
       "      <td>270.486737</td>\n",
       "    </tr>\n",
       "  </tbody>\n",
       "</table>"
      ],
      "text/plain": [
       "<IPython.core.display.HTML object>"
      ]
     },
     "metadata": {},
     "output_type": "display_data"
    },
    {
     "name": "stdout",
     "output_type": "stream",
     "text": [
      "Cas n°4 - Simu_M1:\n"
     ]
    },
    {
     "data": {
      "text/html": [
       "<table border=\"1\" class=\"dataframe\">\n",
       "  <thead>\n",
       "    <tr style=\"text-align: right;\">\n",
       "      <th></th>\n",
       "      <th>T_fluid_in_1</th>\n",
       "      <th>T_fluid_out_1</th>\n",
       "      <th>T_fluid_in_2</th>\n",
       "      <th>T_fluid_out_2</th>\n",
       "      <th>T_fluid_in_3</th>\n",
       "      <th>T_fluid_out_3</th>\n",
       "      <th>T_fluid_in_4</th>\n",
       "      <th>T_fluid_out_4</th>\n",
       "      <th>T_fluid_in_5</th>\n",
       "      <th>T_fluid_out_5</th>\n",
       "      <th>T_fluid_in_6</th>\n",
       "      <th>T_fluid_out_6</th>\n",
       "      <th>T_fluid_in_7</th>\n",
       "      <th>T_fluid_out_7</th>\n",
       "    </tr>\n",
       "    <tr>\n",
       "      <th>Itération</th>\n",
       "      <th></th>\n",
       "      <th></th>\n",
       "      <th></th>\n",
       "      <th></th>\n",
       "      <th></th>\n",
       "      <th></th>\n",
       "      <th></th>\n",
       "      <th></th>\n",
       "      <th></th>\n",
       "      <th></th>\n",
       "      <th></th>\n",
       "      <th></th>\n",
       "      <th></th>\n",
       "      <th></th>\n",
       "    </tr>\n",
       "  </thead>\n",
       "  <tbody>\n",
       "    <tr>\n",
       "      <th>1</th>\n",
       "      <td>267.150000</td>\n",
       "      <td>267.162996</td>\n",
       "      <td>267.162996</td>\n",
       "      <td>267.213422</td>\n",
       "      <td>267.213422</td>\n",
       "      <td>267.506626</td>\n",
       "      <td>267.506626</td>\n",
       "      <td>267.616084</td>\n",
       "      <td>267.616084</td>\n",
       "      <td>267.888153</td>\n",
       "      <td>267.888153</td>\n",
       "      <td>267.931808</td>\n",
       "      <td>267.931808</td>\n",
       "      <td>267.942911</td>\n",
       "    </tr>\n",
       "    <tr>\n",
       "      <th>2</th>\n",
       "      <td>267.942911</td>\n",
       "      <td>267.954124</td>\n",
       "      <td>267.954124</td>\n",
       "      <td>267.961188</td>\n",
       "      <td>267.961188</td>\n",
       "      <td>268.249334</td>\n",
       "      <td>268.249334</td>\n",
       "      <td>268.252959</td>\n",
       "      <td>268.252959</td>\n",
       "      <td>268.442216</td>\n",
       "      <td>268.442216</td>\n",
       "      <td>268.444091</td>\n",
       "      <td>268.444091</td>\n",
       "      <td>268.445774</td>\n",
       "    </tr>\n",
       "    <tr>\n",
       "      <th>3</th>\n",
       "      <td>268.445774</td>\n",
       "      <td>268.459586</td>\n",
       "      <td>268.459586</td>\n",
       "      <td>268.466820</td>\n",
       "      <td>268.466820</td>\n",
       "      <td>268.809652</td>\n",
       "      <td>268.809652</td>\n",
       "      <td>268.821512</td>\n",
       "      <td>268.821512</td>\n",
       "      <td>269.113880</td>\n",
       "      <td>269.113880</td>\n",
       "      <td>269.119805</td>\n",
       "      <td>269.119805</td>\n",
       "      <td>269.126160</td>\n",
       "    </tr>\n",
       "    <tr>\n",
       "      <th>4</th>\n",
       "      <td>269.126160</td>\n",
       "      <td>269.139790</td>\n",
       "      <td>269.139790</td>\n",
       "      <td>269.146834</td>\n",
       "      <td>269.146834</td>\n",
       "      <td>269.482723</td>\n",
       "      <td>269.482723</td>\n",
       "      <td>269.494053</td>\n",
       "      <td>269.494053</td>\n",
       "      <td>269.774465</td>\n",
       "      <td>269.774465</td>\n",
       "      <td>269.780466</td>\n",
       "      <td>269.780466</td>\n",
       "      <td>269.786808</td>\n",
       "    </tr>\n",
       "    <tr>\n",
       "      <th>5</th>\n",
       "      <td>269.786808</td>\n",
       "      <td>269.800439</td>\n",
       "      <td>269.800439</td>\n",
       "      <td>269.807697</td>\n",
       "      <td>269.807697</td>\n",
       "      <td>270.136740</td>\n",
       "      <td>270.136740</td>\n",
       "      <td>270.148339</td>\n",
       "      <td>270.148339</td>\n",
       "      <td>270.416333</td>\n",
       "      <td>270.416333</td>\n",
       "      <td>270.421206</td>\n",
       "      <td>270.421206</td>\n",
       "      <td>270.426638</td>\n",
       "    </tr>\n",
       "    <tr>\n",
       "      <th>6</th>\n",
       "      <td>270.426638</td>\n",
       "      <td>270.440163</td>\n",
       "      <td>270.440163</td>\n",
       "      <td>270.447248</td>\n",
       "      <td>270.447248</td>\n",
       "      <td>270.766713</td>\n",
       "      <td>270.766713</td>\n",
       "      <td>270.778933</td>\n",
       "      <td>270.778933</td>\n",
       "      <td>271.036125</td>\n",
       "      <td>271.036125</td>\n",
       "      <td>271.040648</td>\n",
       "      <td>271.040648</td>\n",
       "      <td>271.046012</td>\n",
       "    </tr>\n",
       "  </tbody>\n",
       "</table>"
      ],
      "text/plain": [
       "<IPython.core.display.HTML object>"
      ]
     },
     "metadata": {},
     "output_type": "display_data"
    },
    {
     "name": "stdout",
     "output_type": "stream",
     "text": [
      "Cas n°5 - Simu_M1:\n"
     ]
    },
    {
     "data": {
      "text/html": [
       "<table border=\"1\" class=\"dataframe\">\n",
       "  <thead>\n",
       "    <tr style=\"text-align: right;\">\n",
       "      <th></th>\n",
       "      <th>T_fluid_in_1</th>\n",
       "      <th>T_fluid_out_1</th>\n",
       "      <th>T_fluid_in_2</th>\n",
       "      <th>T_fluid_out_2</th>\n",
       "      <th>T_fluid_in_3</th>\n",
       "      <th>T_fluid_out_3</th>\n",
       "      <th>T_fluid_in_4</th>\n",
       "      <th>T_fluid_out_4</th>\n",
       "      <th>T_fluid_in_5</th>\n",
       "      <th>T_fluid_out_5</th>\n",
       "      <th>T_fluid_in_6</th>\n",
       "      <th>T_fluid_out_6</th>\n",
       "      <th>T_fluid_in_7</th>\n",
       "      <th>T_fluid_out_7</th>\n",
       "    </tr>\n",
       "    <tr>\n",
       "      <th>Itération</th>\n",
       "      <th></th>\n",
       "      <th></th>\n",
       "      <th></th>\n",
       "      <th></th>\n",
       "      <th></th>\n",
       "      <th></th>\n",
       "      <th></th>\n",
       "      <th></th>\n",
       "      <th></th>\n",
       "      <th></th>\n",
       "      <th></th>\n",
       "      <th></th>\n",
       "      <th></th>\n",
       "      <th></th>\n",
       "    </tr>\n",
       "  </thead>\n",
       "  <tbody>\n",
       "    <tr>\n",
       "      <th>1</th>\n",
       "      <td>269.150000</td>\n",
       "      <td>269.158228</td>\n",
       "      <td>269.158228</td>\n",
       "      <td>269.190299</td>\n",
       "      <td>269.190299</td>\n",
       "      <td>269.380883</td>\n",
       "      <td>269.380883</td>\n",
       "      <td>269.450658</td>\n",
       "      <td>269.450658</td>\n",
       "      <td>269.627966</td>\n",
       "      <td>269.627966</td>\n",
       "      <td>269.655856</td>\n",
       "      <td>269.655856</td>\n",
       "      <td>269.662922</td>\n",
       "    </tr>\n",
       "    <tr>\n",
       "      <th>2</th>\n",
       "      <td>269.662922</td>\n",
       "      <td>269.668605</td>\n",
       "      <td>269.668605</td>\n",
       "      <td>269.671447</td>\n",
       "      <td>269.671447</td>\n",
       "      <td>269.838080</td>\n",
       "      <td>269.838080</td>\n",
       "      <td>269.838367</td>\n",
       "      <td>269.838367</td>\n",
       "      <td>269.945895</td>\n",
       "      <td>269.945895</td>\n",
       "      <td>269.950034</td>\n",
       "      <td>269.950034</td>\n",
       "      <td>269.953714</td>\n",
       "    </tr>\n",
       "    <tr>\n",
       "      <th>3</th>\n",
       "      <td>269.953714</td>\n",
       "      <td>269.962190</td>\n",
       "      <td>269.962190</td>\n",
       "      <td>269.966444</td>\n",
       "      <td>269.966444</td>\n",
       "      <td>270.189445</td>\n",
       "      <td>270.189445</td>\n",
       "      <td>270.196517</td>\n",
       "      <td>270.196517</td>\n",
       "      <td>270.389149</td>\n",
       "      <td>270.389149</td>\n",
       "      <td>270.392486</td>\n",
       "      <td>270.392486</td>\n",
       "      <td>270.396159</td>\n",
       "    </tr>\n",
       "    <tr>\n",
       "      <th>4</th>\n",
       "      <td>270.396159</td>\n",
       "      <td>270.404594</td>\n",
       "      <td>270.404594</td>\n",
       "      <td>270.408684</td>\n",
       "      <td>270.408684</td>\n",
       "      <td>270.628041</td>\n",
       "      <td>270.628041</td>\n",
       "      <td>270.635650</td>\n",
       "      <td>270.635650</td>\n",
       "      <td>270.819644</td>\n",
       "      <td>270.819644</td>\n",
       "      <td>270.822931</td>\n",
       "      <td>270.822931</td>\n",
       "      <td>270.826553</td>\n",
       "    </tr>\n",
       "    <tr>\n",
       "      <th>5</th>\n",
       "      <td>270.826553</td>\n",
       "      <td>270.834927</td>\n",
       "      <td>270.834927</td>\n",
       "      <td>270.838997</td>\n",
       "      <td>270.838997</td>\n",
       "      <td>271.051888</td>\n",
       "      <td>271.051888</td>\n",
       "      <td>271.058305</td>\n",
       "      <td>271.058305</td>\n",
       "      <td>271.234412</td>\n",
       "      <td>271.234412</td>\n",
       "      <td>271.237530</td>\n",
       "      <td>271.237530</td>\n",
       "      <td>271.241094</td>\n",
       "    </tr>\n",
       "    <tr>\n",
       "      <th>6</th>\n",
       "      <td>271.241094</td>\n",
       "      <td>271.249423</td>\n",
       "      <td>271.249423</td>\n",
       "      <td>271.253547</td>\n",
       "      <td>271.253547</td>\n",
       "      <td>271.461138</td>\n",
       "      <td>271.461138</td>\n",
       "      <td>271.467722</td>\n",
       "      <td>271.467722</td>\n",
       "      <td>271.636941</td>\n",
       "      <td>271.636941</td>\n",
       "      <td>271.639851</td>\n",
       "      <td>271.639851</td>\n",
       "      <td>271.643152</td>\n",
       "    </tr>\n",
       "  </tbody>\n",
       "</table>"
      ],
      "text/plain": [
       "<IPython.core.display.HTML object>"
      ]
     },
     "metadata": {},
     "output_type": "display_data"
    },
    {
     "name": "stdout",
     "output_type": "stream",
     "text": [
      "Cas n°1 - Simu_M2:\n"
     ]
    },
    {
     "data": {
      "text/html": [
       "<table border=\"1\" class=\"dataframe\">\n",
       "  <thead>\n",
       "    <tr style=\"text-align: right;\">\n",
       "      <th></th>\n",
       "      <th>T_fluid_in_1</th>\n",
       "      <th>T_fluid_out_1</th>\n",
       "      <th>T_fluid_in_2</th>\n",
       "      <th>T_fluid_out_2</th>\n",
       "      <th>T_fluid_in_3</th>\n",
       "      <th>T_fluid_out_3</th>\n",
       "      <th>T_fluid_in_4</th>\n",
       "      <th>T_fluid_out_4</th>\n",
       "      <th>T_fluid_in_5</th>\n",
       "      <th>T_fluid_out_5</th>\n",
       "      <th>T_fluid_in_6</th>\n",
       "      <th>T_fluid_out_6</th>\n",
       "      <th>T_fluid_in_7</th>\n",
       "      <th>T_fluid_out_7</th>\n",
       "    </tr>\n",
       "    <tr>\n",
       "      <th>Itération</th>\n",
       "      <th></th>\n",
       "      <th></th>\n",
       "      <th></th>\n",
       "      <th></th>\n",
       "      <th></th>\n",
       "      <th></th>\n",
       "      <th></th>\n",
       "      <th></th>\n",
       "      <th></th>\n",
       "      <th></th>\n",
       "      <th></th>\n",
       "      <th></th>\n",
       "      <th></th>\n",
       "      <th></th>\n",
       "    </tr>\n",
       "  </thead>\n",
       "  <tbody>\n",
       "    <tr>\n",
       "      <th>1</th>\n",
       "      <td>261.150000</td>\n",
       "      <td>261.178468</td>\n",
       "      <td>261.178468</td>\n",
       "      <td>261.287860</td>\n",
       "      <td>261.287860</td>\n",
       "      <td>261.901936</td>\n",
       "      <td>261.901936</td>\n",
       "      <td>262.138389</td>\n",
       "      <td>262.138389</td>\n",
       "      <td>262.705476</td>\n",
       "      <td>262.705476</td>\n",
       "      <td>262.799387</td>\n",
       "      <td>262.799387</td>\n",
       "      <td>262.823449</td>\n",
       "    </tr>\n",
       "    <tr>\n",
       "      <th>2</th>\n",
       "      <td>262.823449</td>\n",
       "      <td>262.854912</td>\n",
       "      <td>262.854912</td>\n",
       "      <td>262.873396</td>\n",
       "      <td>262.873396</td>\n",
       "      <td>263.510035</td>\n",
       "      <td>263.510035</td>\n",
       "      <td>263.531421</td>\n",
       "      <td>263.531421</td>\n",
       "      <td>263.956012</td>\n",
       "      <td>263.956012</td>\n",
       "      <td>263.959949</td>\n",
       "      <td>263.959949</td>\n",
       "      <td>263.964222</td>\n",
       "    </tr>\n",
       "    <tr>\n",
       "      <th>3</th>\n",
       "      <td>263.964222</td>\n",
       "      <td>263.996128</td>\n",
       "      <td>263.996128</td>\n",
       "      <td>264.014650</td>\n",
       "      <td>264.014650</td>\n",
       "      <td>264.728160</td>\n",
       "      <td>264.728160</td>\n",
       "      <td>264.756112</td>\n",
       "      <td>264.756112</td>\n",
       "      <td>265.356216</td>\n",
       "      <td>265.356216</td>\n",
       "      <td>265.370716</td>\n",
       "      <td>265.370716</td>\n",
       "      <td>265.385173</td>\n",
       "    </tr>\n",
       "    <tr>\n",
       "      <th>4</th>\n",
       "      <td>265.385173</td>\n",
       "      <td>265.416861</td>\n",
       "      <td>265.416861</td>\n",
       "      <td>265.435041</td>\n",
       "      <td>265.435041</td>\n",
       "      <td>266.144020</td>\n",
       "      <td>266.144020</td>\n",
       "      <td>266.170505</td>\n",
       "      <td>266.170505</td>\n",
       "      <td>266.743377</td>\n",
       "      <td>266.743377</td>\n",
       "      <td>266.757748</td>\n",
       "      <td>266.757748</td>\n",
       "      <td>266.772695</td>\n",
       "    </tr>\n",
       "    <tr>\n",
       "      <th>5</th>\n",
       "      <td>266.772695</td>\n",
       "      <td>266.804198</td>\n",
       "      <td>266.804198</td>\n",
       "      <td>266.821884</td>\n",
       "      <td>266.821884</td>\n",
       "      <td>267.504908</td>\n",
       "      <td>267.504908</td>\n",
       "      <td>267.531785</td>\n",
       "      <td>267.531785</td>\n",
       "      <td>268.084727</td>\n",
       "      <td>268.084727</td>\n",
       "      <td>268.097785</td>\n",
       "      <td>268.097785</td>\n",
       "      <td>268.111794</td>\n",
       "    </tr>\n",
       "    <tr>\n",
       "      <th>6</th>\n",
       "      <td>268.111794</td>\n",
       "      <td>268.143134</td>\n",
       "      <td>268.143134</td>\n",
       "      <td>268.161319</td>\n",
       "      <td>268.161319</td>\n",
       "      <td>268.824322</td>\n",
       "      <td>268.824322</td>\n",
       "      <td>268.849661</td>\n",
       "      <td>268.849661</td>\n",
       "      <td>269.381870</td>\n",
       "      <td>269.381870</td>\n",
       "      <td>269.395278</td>\n",
       "      <td>269.395278</td>\n",
       "      <td>269.409439</td>\n",
       "    </tr>\n",
       "  </tbody>\n",
       "</table>"
      ],
      "text/plain": [
       "<IPython.core.display.HTML object>"
      ]
     },
     "metadata": {},
     "output_type": "display_data"
    },
    {
     "name": "stdout",
     "output_type": "stream",
     "text": [
      "Cas n°2 - Simu_M2:\n"
     ]
    },
    {
     "data": {
      "text/html": [
       "<table border=\"1\" class=\"dataframe\">\n",
       "  <thead>\n",
       "    <tr style=\"text-align: right;\">\n",
       "      <th></th>\n",
       "      <th>T_fluid_in_1</th>\n",
       "      <th>T_fluid_out_1</th>\n",
       "      <th>T_fluid_in_2</th>\n",
       "      <th>T_fluid_out_2</th>\n",
       "      <th>T_fluid_in_3</th>\n",
       "      <th>T_fluid_out_3</th>\n",
       "      <th>T_fluid_in_4</th>\n",
       "      <th>T_fluid_out_4</th>\n",
       "      <th>T_fluid_in_5</th>\n",
       "      <th>T_fluid_out_5</th>\n",
       "      <th>T_fluid_in_6</th>\n",
       "      <th>T_fluid_out_6</th>\n",
       "      <th>T_fluid_in_7</th>\n",
       "      <th>T_fluid_out_7</th>\n",
       "    </tr>\n",
       "    <tr>\n",
       "      <th>Itération</th>\n",
       "      <th></th>\n",
       "      <th></th>\n",
       "      <th></th>\n",
       "      <th></th>\n",
       "      <th></th>\n",
       "      <th></th>\n",
       "      <th></th>\n",
       "      <th></th>\n",
       "      <th></th>\n",
       "      <th></th>\n",
       "      <th></th>\n",
       "      <th></th>\n",
       "      <th></th>\n",
       "      <th></th>\n",
       "    </tr>\n",
       "  </thead>\n",
       "  <tbody>\n",
       "    <tr>\n",
       "      <th>1</th>\n",
       "      <td>263.150000</td>\n",
       "      <td>263.173142</td>\n",
       "      <td>263.173142</td>\n",
       "      <td>263.262364</td>\n",
       "      <td>263.262364</td>\n",
       "      <td>263.767776</td>\n",
       "      <td>263.767776</td>\n",
       "      <td>263.960856</td>\n",
       "      <td>263.960856</td>\n",
       "      <td>264.428201</td>\n",
       "      <td>264.428201</td>\n",
       "      <td>264.504974</td>\n",
       "      <td>264.504974</td>\n",
       "      <td>264.524604</td>\n",
       "    </tr>\n",
       "    <tr>\n",
       "      <th>2</th>\n",
       "      <td>264.524604</td>\n",
       "      <td>264.548880</td>\n",
       "      <td>264.548880</td>\n",
       "      <td>264.562490</td>\n",
       "      <td>264.562490</td>\n",
       "      <td>265.071368</td>\n",
       "      <td>265.071368</td>\n",
       "      <td>265.086889</td>\n",
       "      <td>265.086889</td>\n",
       "      <td>265.418418</td>\n",
       "      <td>265.418418</td>\n",
       "      <td>265.420337</td>\n",
       "      <td>265.420337</td>\n",
       "      <td>265.422368</td>\n",
       "    </tr>\n",
       "    <tr>\n",
       "      <th>3</th>\n",
       "      <td>265.422368</td>\n",
       "      <td>265.448139</td>\n",
       "      <td>265.448139</td>\n",
       "      <td>265.462869</td>\n",
       "      <td>265.462869</td>\n",
       "      <td>266.049186</td>\n",
       "      <td>266.049186</td>\n",
       "      <td>266.071415</td>\n",
       "      <td>266.071415</td>\n",
       "      <td>266.571179</td>\n",
       "      <td>266.571179</td>\n",
       "      <td>266.581346</td>\n",
       "      <td>266.581346</td>\n",
       "      <td>266.592023</td>\n",
       "    </tr>\n",
       "    <tr>\n",
       "      <th>4</th>\n",
       "      <td>266.592023</td>\n",
       "      <td>266.617876</td>\n",
       "      <td>266.617876</td>\n",
       "      <td>266.632207</td>\n",
       "      <td>266.632207</td>\n",
       "      <td>267.213892</td>\n",
       "      <td>267.213892</td>\n",
       "      <td>267.238755</td>\n",
       "      <td>267.238755</td>\n",
       "      <td>267.719048</td>\n",
       "      <td>267.719048</td>\n",
       "      <td>267.730507</td>\n",
       "      <td>267.730507</td>\n",
       "      <td>267.742369</td>\n",
       "    </tr>\n",
       "    <tr>\n",
       "      <th>5</th>\n",
       "      <td>267.742369</td>\n",
       "      <td>267.767898</td>\n",
       "      <td>267.767898</td>\n",
       "      <td>267.781650</td>\n",
       "      <td>267.781650</td>\n",
       "      <td>268.341406</td>\n",
       "      <td>268.341406</td>\n",
       "      <td>268.362689</td>\n",
       "      <td>268.362689</td>\n",
       "      <td>268.816252</td>\n",
       "      <td>268.816252</td>\n",
       "      <td>268.826602</td>\n",
       "      <td>268.826602</td>\n",
       "      <td>268.837924</td>\n",
       "    </tr>\n",
       "    <tr>\n",
       "      <th>6</th>\n",
       "      <td>268.837924</td>\n",
       "      <td>268.863449</td>\n",
       "      <td>268.863449</td>\n",
       "      <td>268.876990</td>\n",
       "      <td>268.876990</td>\n",
       "      <td>269.424603</td>\n",
       "      <td>269.424603</td>\n",
       "      <td>269.447431</td>\n",
       "      <td>269.447431</td>\n",
       "      <td>269.893533</td>\n",
       "      <td>269.893533</td>\n",
       "      <td>269.904867</td>\n",
       "      <td>269.904867</td>\n",
       "      <td>269.916312</td>\n",
       "    </tr>\n",
       "  </tbody>\n",
       "</table>"
      ],
      "text/plain": [
       "<IPython.core.display.HTML object>"
      ]
     },
     "metadata": {},
     "output_type": "display_data"
    },
    {
     "name": "stdout",
     "output_type": "stream",
     "text": [
      "Cas n°3 - Simu_M2:\n"
     ]
    },
    {
     "data": {
      "text/html": [
       "<table border=\"1\" class=\"dataframe\">\n",
       "  <thead>\n",
       "    <tr style=\"text-align: right;\">\n",
       "      <th></th>\n",
       "      <th>T_fluid_in_1</th>\n",
       "      <th>T_fluid_out_1</th>\n",
       "      <th>T_fluid_in_2</th>\n",
       "      <th>T_fluid_out_2</th>\n",
       "      <th>T_fluid_in_3</th>\n",
       "      <th>T_fluid_out_3</th>\n",
       "      <th>T_fluid_in_4</th>\n",
       "      <th>T_fluid_out_4</th>\n",
       "      <th>T_fluid_in_5</th>\n",
       "      <th>T_fluid_out_5</th>\n",
       "      <th>T_fluid_in_6</th>\n",
       "      <th>T_fluid_out_6</th>\n",
       "      <th>T_fluid_in_7</th>\n",
       "      <th>T_fluid_out_7</th>\n",
       "    </tr>\n",
       "    <tr>\n",
       "      <th>Itération</th>\n",
       "      <th></th>\n",
       "      <th></th>\n",
       "      <th></th>\n",
       "      <th></th>\n",
       "      <th></th>\n",
       "      <th></th>\n",
       "      <th></th>\n",
       "      <th></th>\n",
       "      <th></th>\n",
       "      <th></th>\n",
       "      <th></th>\n",
       "      <th></th>\n",
       "      <th></th>\n",
       "      <th></th>\n",
       "    </tr>\n",
       "  </thead>\n",
       "  <tbody>\n",
       "    <tr>\n",
       "      <th>1</th>\n",
       "      <td>265.150000</td>\n",
       "      <td>265.167984</td>\n",
       "      <td>265.167984</td>\n",
       "      <td>265.237516</td>\n",
       "      <td>265.237516</td>\n",
       "      <td>265.635853</td>\n",
       "      <td>265.635853</td>\n",
       "      <td>265.786530</td>\n",
       "      <td>265.786530</td>\n",
       "      <td>266.155437</td>\n",
       "      <td>266.155437</td>\n",
       "      <td>266.215430</td>\n",
       "      <td>266.215430</td>\n",
       "      <td>266.230733</td>\n",
       "    </tr>\n",
       "    <tr>\n",
       "      <th>2</th>\n",
       "      <td>266.230733</td>\n",
       "      <td>266.247983</td>\n",
       "      <td>266.247983</td>\n",
       "      <td>266.257706</td>\n",
       "      <td>266.257706</td>\n",
       "      <td>266.641618</td>\n",
       "      <td>266.641618</td>\n",
       "      <td>266.651954</td>\n",
       "      <td>266.651954</td>\n",
       "      <td>266.889204</td>\n",
       "      <td>266.889204</td>\n",
       "      <td>266.890268</td>\n",
       "      <td>266.890268</td>\n",
       "      <td>266.891104</td>\n",
       "    </tr>\n",
       "    <tr>\n",
       "      <th>3</th>\n",
       "      <td>266.891104</td>\n",
       "      <td>266.910954</td>\n",
       "      <td>266.910954</td>\n",
       "      <td>266.921895</td>\n",
       "      <td>266.921895</td>\n",
       "      <td>267.379970</td>\n",
       "      <td>267.379970</td>\n",
       "      <td>267.395342</td>\n",
       "      <td>267.395342</td>\n",
       "      <td>267.788625</td>\n",
       "      <td>267.788625</td>\n",
       "      <td>267.797284</td>\n",
       "      <td>267.797284</td>\n",
       "      <td>267.806376</td>\n",
       "    </tr>\n",
       "    <tr>\n",
       "      <th>4</th>\n",
       "      <td>267.806376</td>\n",
       "      <td>267.825980</td>\n",
       "      <td>267.825980</td>\n",
       "      <td>267.836258</td>\n",
       "      <td>267.836258</td>\n",
       "      <td>268.294605</td>\n",
       "      <td>268.294605</td>\n",
       "      <td>268.312030</td>\n",
       "      <td>268.312030</td>\n",
       "      <td>268.691530</td>\n",
       "      <td>268.691530</td>\n",
       "      <td>268.699475</td>\n",
       "      <td>268.699475</td>\n",
       "      <td>268.707918</td>\n",
       "    </tr>\n",
       "    <tr>\n",
       "      <th>5</th>\n",
       "      <td>268.707918</td>\n",
       "      <td>268.727441</td>\n",
       "      <td>268.727441</td>\n",
       "      <td>268.738133</td>\n",
       "      <td>268.738133</td>\n",
       "      <td>269.188672</td>\n",
       "      <td>269.188672</td>\n",
       "      <td>269.206008</td>\n",
       "      <td>269.206008</td>\n",
       "      <td>269.569289</td>\n",
       "      <td>269.569289</td>\n",
       "      <td>269.577342</td>\n",
       "      <td>269.577342</td>\n",
       "      <td>269.586165</td>\n",
       "    </tr>\n",
       "    <tr>\n",
       "      <th>6</th>\n",
       "      <td>269.586165</td>\n",
       "      <td>269.605571</td>\n",
       "      <td>269.605571</td>\n",
       "      <td>269.616353</td>\n",
       "      <td>269.616353</td>\n",
       "      <td>270.053954</td>\n",
       "      <td>270.053954</td>\n",
       "      <td>270.070609</td>\n",
       "      <td>270.070609</td>\n",
       "      <td>270.420570</td>\n",
       "      <td>270.420570</td>\n",
       "      <td>270.428490</td>\n",
       "      <td>270.428490</td>\n",
       "      <td>270.436823</td>\n",
       "    </tr>\n",
       "  </tbody>\n",
       "</table>"
      ],
      "text/plain": [
       "<IPython.core.display.HTML object>"
      ]
     },
     "metadata": {},
     "output_type": "display_data"
    },
    {
     "name": "stdout",
     "output_type": "stream",
     "text": [
      "Cas n°4 - Simu_M2:\n"
     ]
    },
    {
     "data": {
      "text/html": [
       "<table border=\"1\" class=\"dataframe\">\n",
       "  <thead>\n",
       "    <tr style=\"text-align: right;\">\n",
       "      <th></th>\n",
       "      <th>T_fluid_in_1</th>\n",
       "      <th>T_fluid_out_1</th>\n",
       "      <th>T_fluid_in_2</th>\n",
       "      <th>T_fluid_out_2</th>\n",
       "      <th>T_fluid_in_3</th>\n",
       "      <th>T_fluid_out_3</th>\n",
       "      <th>T_fluid_in_4</th>\n",
       "      <th>T_fluid_out_4</th>\n",
       "      <th>T_fluid_in_5</th>\n",
       "      <th>T_fluid_out_5</th>\n",
       "      <th>T_fluid_in_6</th>\n",
       "      <th>T_fluid_out_6</th>\n",
       "      <th>T_fluid_in_7</th>\n",
       "      <th>T_fluid_out_7</th>\n",
       "    </tr>\n",
       "    <tr>\n",
       "      <th>Itération</th>\n",
       "      <th></th>\n",
       "      <th></th>\n",
       "      <th></th>\n",
       "      <th></th>\n",
       "      <th></th>\n",
       "      <th></th>\n",
       "      <th></th>\n",
       "      <th></th>\n",
       "      <th></th>\n",
       "      <th></th>\n",
       "      <th></th>\n",
       "      <th></th>\n",
       "      <th></th>\n",
       "      <th></th>\n",
       "    </tr>\n",
       "  </thead>\n",
       "  <tbody>\n",
       "    <tr>\n",
       "      <th>1</th>\n",
       "      <td>267.150000</td>\n",
       "      <td>267.162996</td>\n",
       "      <td>267.162996</td>\n",
       "      <td>267.213422</td>\n",
       "      <td>267.213422</td>\n",
       "      <td>267.506626</td>\n",
       "      <td>267.506626</td>\n",
       "      <td>267.616084</td>\n",
       "      <td>267.616084</td>\n",
       "      <td>267.888153</td>\n",
       "      <td>267.888153</td>\n",
       "      <td>267.931808</td>\n",
       "      <td>267.931808</td>\n",
       "      <td>267.942911</td>\n",
       "    </tr>\n",
       "    <tr>\n",
       "      <th>2</th>\n",
       "      <td>267.942911</td>\n",
       "      <td>267.954514</td>\n",
       "      <td>267.954514</td>\n",
       "      <td>267.960503</td>\n",
       "      <td>267.960503</td>\n",
       "      <td>268.226546</td>\n",
       "      <td>268.226546</td>\n",
       "      <td>268.232413</td>\n",
       "      <td>268.232413</td>\n",
       "      <td>268.377211</td>\n",
       "      <td>268.377211</td>\n",
       "      <td>268.380106</td>\n",
       "      <td>268.380106</td>\n",
       "      <td>268.382724</td>\n",
       "    </tr>\n",
       "    <tr>\n",
       "      <th>3</th>\n",
       "      <td>268.382724</td>\n",
       "      <td>268.396594</td>\n",
       "      <td>268.396594</td>\n",
       "      <td>268.403907</td>\n",
       "      <td>268.403907</td>\n",
       "      <td>268.745977</td>\n",
       "      <td>268.745977</td>\n",
       "      <td>268.756558</td>\n",
       "      <td>268.756558</td>\n",
       "      <td>269.047023</td>\n",
       "      <td>269.047023</td>\n",
       "      <td>269.052338</td>\n",
       "      <td>269.052338</td>\n",
       "      <td>269.058172</td>\n",
       "    </tr>\n",
       "    <tr>\n",
       "      <th>4</th>\n",
       "      <td>269.058172</td>\n",
       "      <td>269.072072</td>\n",
       "      <td>269.072072</td>\n",
       "      <td>269.079359</td>\n",
       "      <td>269.079359</td>\n",
       "      <td>269.419732</td>\n",
       "      <td>269.419732</td>\n",
       "      <td>269.432372</td>\n",
       "      <td>269.432372</td>\n",
       "      <td>269.713879</td>\n",
       "      <td>269.713879</td>\n",
       "      <td>269.719004</td>\n",
       "      <td>269.719004</td>\n",
       "      <td>269.724498</td>\n",
       "    </tr>\n",
       "    <tr>\n",
       "      <th>5</th>\n",
       "      <td>269.724498</td>\n",
       "      <td>269.738221</td>\n",
       "      <td>269.738221</td>\n",
       "      <td>269.745174</td>\n",
       "      <td>269.745174</td>\n",
       "      <td>270.070220</td>\n",
       "      <td>270.070220</td>\n",
       "      <td>270.082214</td>\n",
       "      <td>270.082214</td>\n",
       "      <td>270.349400</td>\n",
       "      <td>270.349400</td>\n",
       "      <td>270.354786</td>\n",
       "      <td>270.354786</td>\n",
       "      <td>270.360863</td>\n",
       "    </tr>\n",
       "    <tr>\n",
       "      <th>6</th>\n",
       "      <td>270.360863</td>\n",
       "      <td>270.374522</td>\n",
       "      <td>270.374522</td>\n",
       "      <td>270.381451</td>\n",
       "      <td>270.381451</td>\n",
       "      <td>270.701128</td>\n",
       "      <td>270.701128</td>\n",
       "      <td>270.712888</td>\n",
       "      <td>270.712888</td>\n",
       "      <td>270.971845</td>\n",
       "      <td>270.971845</td>\n",
       "      <td>270.977328</td>\n",
       "      <td>270.977328</td>\n",
       "      <td>270.983213</td>\n",
       "    </tr>\n",
       "  </tbody>\n",
       "</table>"
      ],
      "text/plain": [
       "<IPython.core.display.HTML object>"
      ]
     },
     "metadata": {},
     "output_type": "display_data"
    },
    {
     "name": "stdout",
     "output_type": "stream",
     "text": [
      "Cas n°5 - Simu_M2:\n"
     ]
    },
    {
     "data": {
      "text/html": [
       "<table border=\"1\" class=\"dataframe\">\n",
       "  <thead>\n",
       "    <tr style=\"text-align: right;\">\n",
       "      <th></th>\n",
       "      <th>T_fluid_in_1</th>\n",
       "      <th>T_fluid_out_1</th>\n",
       "      <th>T_fluid_in_2</th>\n",
       "      <th>T_fluid_out_2</th>\n",
       "      <th>T_fluid_in_3</th>\n",
       "      <th>T_fluid_out_3</th>\n",
       "      <th>T_fluid_in_4</th>\n",
       "      <th>T_fluid_out_4</th>\n",
       "      <th>T_fluid_in_5</th>\n",
       "      <th>T_fluid_out_5</th>\n",
       "      <th>T_fluid_in_6</th>\n",
       "      <th>T_fluid_out_6</th>\n",
       "      <th>T_fluid_in_7</th>\n",
       "      <th>T_fluid_out_7</th>\n",
       "    </tr>\n",
       "    <tr>\n",
       "      <th>Itération</th>\n",
       "      <th></th>\n",
       "      <th></th>\n",
       "      <th></th>\n",
       "      <th></th>\n",
       "      <th></th>\n",
       "      <th></th>\n",
       "      <th></th>\n",
       "      <th></th>\n",
       "      <th></th>\n",
       "      <th></th>\n",
       "      <th></th>\n",
       "      <th></th>\n",
       "      <th></th>\n",
       "      <th></th>\n",
       "    </tr>\n",
       "  </thead>\n",
       "  <tbody>\n",
       "    <tr>\n",
       "      <th>1</th>\n",
       "      <td>269.150000</td>\n",
       "      <td>269.158228</td>\n",
       "      <td>269.158228</td>\n",
       "      <td>269.190299</td>\n",
       "      <td>269.190299</td>\n",
       "      <td>269.380883</td>\n",
       "      <td>269.380883</td>\n",
       "      <td>269.450658</td>\n",
       "      <td>269.450658</td>\n",
       "      <td>269.627966</td>\n",
       "      <td>269.627966</td>\n",
       "      <td>269.655856</td>\n",
       "      <td>269.655856</td>\n",
       "      <td>269.662922</td>\n",
       "    </tr>\n",
       "    <tr>\n",
       "      <th>2</th>\n",
       "      <td>269.662922</td>\n",
       "      <td>269.668598</td>\n",
       "      <td>269.668598</td>\n",
       "      <td>269.670716</td>\n",
       "      <td>269.670716</td>\n",
       "      <td>269.813858</td>\n",
       "      <td>269.813858</td>\n",
       "      <td>269.815123</td>\n",
       "      <td>269.815123</td>\n",
       "      <td>269.877844</td>\n",
       "      <td>269.877844</td>\n",
       "      <td>269.882863</td>\n",
       "      <td>269.882863</td>\n",
       "      <td>269.887353</td>\n",
       "    </tr>\n",
       "    <tr>\n",
       "      <th>3</th>\n",
       "      <td>269.887353</td>\n",
       "      <td>269.895879</td>\n",
       "      <td>269.895879</td>\n",
       "      <td>269.900106</td>\n",
       "      <td>269.900106</td>\n",
       "      <td>270.123551</td>\n",
       "      <td>270.123551</td>\n",
       "      <td>270.130727</td>\n",
       "      <td>270.130727</td>\n",
       "      <td>270.323185</td>\n",
       "      <td>270.323185</td>\n",
       "      <td>270.326070</td>\n",
       "      <td>270.326070</td>\n",
       "      <td>270.329310</td>\n",
       "    </tr>\n",
       "    <tr>\n",
       "      <th>4</th>\n",
       "      <td>270.329310</td>\n",
       "      <td>270.337785</td>\n",
       "      <td>270.337785</td>\n",
       "      <td>270.342002</td>\n",
       "      <td>270.342002</td>\n",
       "      <td>270.564502</td>\n",
       "      <td>270.564502</td>\n",
       "      <td>270.571864</td>\n",
       "      <td>270.571864</td>\n",
       "      <td>270.755782</td>\n",
       "      <td>270.755782</td>\n",
       "      <td>270.758667</td>\n",
       "      <td>270.758667</td>\n",
       "      <td>270.762119</td>\n",
       "    </tr>\n",
       "    <tr>\n",
       "      <th>5</th>\n",
       "      <td>270.762119</td>\n",
       "      <td>270.770559</td>\n",
       "      <td>270.770559</td>\n",
       "      <td>270.774810</td>\n",
       "      <td>270.774810</td>\n",
       "      <td>270.989768</td>\n",
       "      <td>270.989768</td>\n",
       "      <td>270.996733</td>\n",
       "      <td>270.996733</td>\n",
       "      <td>271.176299</td>\n",
       "      <td>271.176299</td>\n",
       "      <td>271.179540</td>\n",
       "      <td>271.179540</td>\n",
       "      <td>271.183099</td>\n",
       "    </tr>\n",
       "    <tr>\n",
       "      <th>6</th>\n",
       "      <td>271.183099</td>\n",
       "      <td>271.183099</td>\n",
       "      <td>271.183099</td>\n",
       "      <td>271.183099</td>\n",
       "      <td>271.183099</td>\n",
       "      <td>271.208276</td>\n",
       "      <td>271.208276</td>\n",
       "      <td>271.208276</td>\n",
       "      <td>271.208276</td>\n",
       "      <td>271.233133</td>\n",
       "      <td>271.233133</td>\n",
       "      <td>271.233133</td>\n",
       "      <td>271.233133</td>\n",
       "      <td>271.233133</td>\n",
       "    </tr>\n",
       "  </tbody>\n",
       "</table>"
      ],
      "text/plain": [
       "<IPython.core.display.HTML object>"
      ]
     },
     "metadata": {},
     "output_type": "display_data"
    },
    {
     "name": "stdout",
     "output_type": "stream",
     "text": [
      "Cas n°1 - Simu_M3:\n"
     ]
    },
    {
     "data": {
      "text/html": [
       "<table border=\"1\" class=\"dataframe\">\n",
       "  <thead>\n",
       "    <tr style=\"text-align: right;\">\n",
       "      <th></th>\n",
       "      <th>T_fluid_in_1</th>\n",
       "      <th>T_fluid_out_1</th>\n",
       "      <th>T_fluid_in_2</th>\n",
       "      <th>T_fluid_out_2</th>\n",
       "      <th>T_fluid_in_3</th>\n",
       "      <th>T_fluid_out_3</th>\n",
       "      <th>T_fluid_in_4</th>\n",
       "      <th>T_fluid_out_4</th>\n",
       "      <th>T_fluid_in_5</th>\n",
       "      <th>T_fluid_out_5</th>\n",
       "      <th>T_fluid_in_6</th>\n",
       "      <th>T_fluid_out_6</th>\n",
       "      <th>T_fluid_in_7</th>\n",
       "      <th>T_fluid_out_7</th>\n",
       "    </tr>\n",
       "    <tr>\n",
       "      <th>Itération</th>\n",
       "      <th></th>\n",
       "      <th></th>\n",
       "      <th></th>\n",
       "      <th></th>\n",
       "      <th></th>\n",
       "      <th></th>\n",
       "      <th></th>\n",
       "      <th></th>\n",
       "      <th></th>\n",
       "      <th></th>\n",
       "      <th></th>\n",
       "      <th></th>\n",
       "      <th></th>\n",
       "      <th></th>\n",
       "    </tr>\n",
       "  </thead>\n",
       "  <tbody>\n",
       "    <tr>\n",
       "      <th>1</th>\n",
       "      <td>261.150000</td>\n",
       "      <td>261.178468</td>\n",
       "      <td>261.178468</td>\n",
       "      <td>261.287860</td>\n",
       "      <td>261.287860</td>\n",
       "      <td>261.901936</td>\n",
       "      <td>261.901936</td>\n",
       "      <td>262.138389</td>\n",
       "      <td>262.138389</td>\n",
       "      <td>262.705476</td>\n",
       "      <td>262.705476</td>\n",
       "      <td>262.799387</td>\n",
       "      <td>262.799387</td>\n",
       "      <td>262.823449</td>\n",
       "    </tr>\n",
       "    <tr>\n",
       "      <th>2</th>\n",
       "      <td>262.823449</td>\n",
       "      <td>262.850148</td>\n",
       "      <td>262.850148</td>\n",
       "      <td>262.865125</td>\n",
       "      <td>262.865125</td>\n",
       "      <td>263.464436</td>\n",
       "      <td>263.464436</td>\n",
       "      <td>263.479847</td>\n",
       "      <td>263.479847</td>\n",
       "      <td>263.893899</td>\n",
       "      <td>263.893899</td>\n",
       "      <td>263.896262</td>\n",
       "      <td>263.896262</td>\n",
       "      <td>263.899297</td>\n",
       "    </tr>\n",
       "    <tr>\n",
       "      <th>3</th>\n",
       "      <td>263.899297</td>\n",
       "      <td>263.931207</td>\n",
       "      <td>263.931207</td>\n",
       "      <td>263.949566</td>\n",
       "      <td>263.949566</td>\n",
       "      <td>264.660964</td>\n",
       "      <td>264.660964</td>\n",
       "      <td>264.687272</td>\n",
       "      <td>264.687272</td>\n",
       "      <td>265.293008</td>\n",
       "      <td>265.293008</td>\n",
       "      <td>265.306652</td>\n",
       "      <td>265.306652</td>\n",
       "      <td>265.321198</td>\n",
       "    </tr>\n",
       "    <tr>\n",
       "      <th>4</th>\n",
       "      <td>265.321198</td>\n",
       "      <td>265.353079</td>\n",
       "      <td>265.353079</td>\n",
       "      <td>265.370579</td>\n",
       "      <td>265.370579</td>\n",
       "      <td>266.075118</td>\n",
       "      <td>266.075118</td>\n",
       "      <td>266.106154</td>\n",
       "      <td>266.106154</td>\n",
       "      <td>266.688109</td>\n",
       "      <td>266.688109</td>\n",
       "      <td>266.702155</td>\n",
       "      <td>266.702155</td>\n",
       "      <td>266.717106</td>\n",
       "    </tr>\n",
       "    <tr>\n",
       "      <th>5</th>\n",
       "      <td>266.717106</td>\n",
       "      <td>266.748821</td>\n",
       "      <td>266.748821</td>\n",
       "      <td>266.766206</td>\n",
       "      <td>266.766206</td>\n",
       "      <td>267.449726</td>\n",
       "      <td>267.449726</td>\n",
       "      <td>267.479687</td>\n",
       "      <td>267.479687</td>\n",
       "      <td>268.038875</td>\n",
       "      <td>268.038875</td>\n",
       "      <td>268.052594</td>\n",
       "      <td>268.052594</td>\n",
       "      <td>268.067220</td>\n",
       "    </tr>\n",
       "    <tr>\n",
       "      <th>6</th>\n",
       "      <td>268.067220</td>\n",
       "      <td>268.098530</td>\n",
       "      <td>268.098530</td>\n",
       "      <td>268.116467</td>\n",
       "      <td>268.116467</td>\n",
       "      <td>268.779973</td>\n",
       "      <td>268.779973</td>\n",
       "      <td>268.806728</td>\n",
       "      <td>268.806728</td>\n",
       "      <td>269.337876</td>\n",
       "      <td>269.337876</td>\n",
       "      <td>269.350595</td>\n",
       "      <td>269.350595</td>\n",
       "      <td>269.364416</td>\n",
       "    </tr>\n",
       "  </tbody>\n",
       "</table>"
      ],
      "text/plain": [
       "<IPython.core.display.HTML object>"
      ]
     },
     "metadata": {},
     "output_type": "display_data"
    },
    {
     "name": "stdout",
     "output_type": "stream",
     "text": [
      "Cas n°2 - Simu_M3:\n"
     ]
    },
    {
     "data": {
      "text/html": [
       "<table border=\"1\" class=\"dataframe\">\n",
       "  <thead>\n",
       "    <tr style=\"text-align: right;\">\n",
       "      <th></th>\n",
       "      <th>T_fluid_in_1</th>\n",
       "      <th>T_fluid_out_1</th>\n",
       "      <th>T_fluid_in_2</th>\n",
       "      <th>T_fluid_out_2</th>\n",
       "      <th>T_fluid_in_3</th>\n",
       "      <th>T_fluid_out_3</th>\n",
       "      <th>T_fluid_in_4</th>\n",
       "      <th>T_fluid_out_4</th>\n",
       "      <th>T_fluid_in_5</th>\n",
       "      <th>T_fluid_out_5</th>\n",
       "      <th>T_fluid_in_6</th>\n",
       "      <th>T_fluid_out_6</th>\n",
       "      <th>T_fluid_in_7</th>\n",
       "      <th>T_fluid_out_7</th>\n",
       "    </tr>\n",
       "    <tr>\n",
       "      <th>Itération</th>\n",
       "      <th></th>\n",
       "      <th></th>\n",
       "      <th></th>\n",
       "      <th></th>\n",
       "      <th></th>\n",
       "      <th></th>\n",
       "      <th></th>\n",
       "      <th></th>\n",
       "      <th></th>\n",
       "      <th></th>\n",
       "      <th></th>\n",
       "      <th></th>\n",
       "      <th></th>\n",
       "      <th></th>\n",
       "    </tr>\n",
       "  </thead>\n",
       "  <tbody>\n",
       "    <tr>\n",
       "      <th>1</th>\n",
       "      <td>263.150000</td>\n",
       "      <td>263.173142</td>\n",
       "      <td>263.173142</td>\n",
       "      <td>263.262364</td>\n",
       "      <td>263.262364</td>\n",
       "      <td>263.767776</td>\n",
       "      <td>263.767776</td>\n",
       "      <td>263.960856</td>\n",
       "      <td>263.960856</td>\n",
       "      <td>264.428201</td>\n",
       "      <td>264.428201</td>\n",
       "      <td>264.504974</td>\n",
       "      <td>264.504974</td>\n",
       "      <td>264.524604</td>\n",
       "    </tr>\n",
       "    <tr>\n",
       "      <th>2</th>\n",
       "      <td>264.524604</td>\n",
       "      <td>264.545018</td>\n",
       "      <td>264.545018</td>\n",
       "      <td>264.555960</td>\n",
       "      <td>264.555960</td>\n",
       "      <td>265.030624</td>\n",
       "      <td>265.030624</td>\n",
       "      <td>265.041392</td>\n",
       "      <td>265.041392</td>\n",
       "      <td>265.359887</td>\n",
       "      <td>265.359887</td>\n",
       "      <td>265.360910</td>\n",
       "      <td>265.360910</td>\n",
       "      <td>265.361795</td>\n",
       "    </tr>\n",
       "    <tr>\n",
       "      <th>3</th>\n",
       "      <td>265.361795</td>\n",
       "      <td>265.387541</td>\n",
       "      <td>265.387541</td>\n",
       "      <td>265.402333</td>\n",
       "      <td>265.402333</td>\n",
       "      <td>265.987609</td>\n",
       "      <td>265.987609</td>\n",
       "      <td>266.008846</td>\n",
       "      <td>266.008846</td>\n",
       "      <td>266.510180</td>\n",
       "      <td>266.510180</td>\n",
       "      <td>266.520944</td>\n",
       "      <td>266.520944</td>\n",
       "      <td>266.532382</td>\n",
       "    </tr>\n",
       "    <tr>\n",
       "      <th>4</th>\n",
       "      <td>266.532382</td>\n",
       "      <td>266.557980</td>\n",
       "      <td>266.557980</td>\n",
       "      <td>266.572213</td>\n",
       "      <td>266.572213</td>\n",
       "      <td>267.161606</td>\n",
       "      <td>267.161606</td>\n",
       "      <td>267.186841</td>\n",
       "      <td>267.186841</td>\n",
       "      <td>267.665396</td>\n",
       "      <td>267.665396</td>\n",
       "      <td>267.676524</td>\n",
       "      <td>267.676524</td>\n",
       "      <td>267.688354</td>\n",
       "    </tr>\n",
       "    <tr>\n",
       "      <th>5</th>\n",
       "      <td>267.688354</td>\n",
       "      <td>267.713643</td>\n",
       "      <td>267.713643</td>\n",
       "      <td>267.727254</td>\n",
       "      <td>267.727254</td>\n",
       "      <td>268.291139</td>\n",
       "      <td>268.291139</td>\n",
       "      <td>268.315529</td>\n",
       "      <td>268.315529</td>\n",
       "      <td>268.774355</td>\n",
       "      <td>268.774355</td>\n",
       "      <td>268.783582</td>\n",
       "      <td>268.783582</td>\n",
       "      <td>268.794148</td>\n",
       "    </tr>\n",
       "    <tr>\n",
       "      <th>6</th>\n",
       "      <td>268.794148</td>\n",
       "      <td>268.819126</td>\n",
       "      <td>268.819126</td>\n",
       "      <td>268.833415</td>\n",
       "      <td>268.833415</td>\n",
       "      <td>269.386525</td>\n",
       "      <td>269.386525</td>\n",
       "      <td>269.409265</td>\n",
       "      <td>269.409265</td>\n",
       "      <td>269.853805</td>\n",
       "      <td>269.853805</td>\n",
       "      <td>269.864488</td>\n",
       "      <td>269.864488</td>\n",
       "      <td>269.876120</td>\n",
       "    </tr>\n",
       "  </tbody>\n",
       "</table>"
      ],
      "text/plain": [
       "<IPython.core.display.HTML object>"
      ]
     },
     "metadata": {},
     "output_type": "display_data"
    },
    {
     "name": "stdout",
     "output_type": "stream",
     "text": [
      "Cas n°3 - Simu_M3:\n"
     ]
    },
    {
     "data": {
      "text/html": [
       "<table border=\"1\" class=\"dataframe\">\n",
       "  <thead>\n",
       "    <tr style=\"text-align: right;\">\n",
       "      <th></th>\n",
       "      <th>T_fluid_in_1</th>\n",
       "      <th>T_fluid_out_1</th>\n",
       "      <th>T_fluid_in_2</th>\n",
       "      <th>T_fluid_out_2</th>\n",
       "      <th>T_fluid_in_3</th>\n",
       "      <th>T_fluid_out_3</th>\n",
       "      <th>T_fluid_in_4</th>\n",
       "      <th>T_fluid_out_4</th>\n",
       "      <th>T_fluid_in_5</th>\n",
       "      <th>T_fluid_out_5</th>\n",
       "      <th>T_fluid_in_6</th>\n",
       "      <th>T_fluid_out_6</th>\n",
       "      <th>T_fluid_in_7</th>\n",
       "      <th>T_fluid_out_7</th>\n",
       "    </tr>\n",
       "    <tr>\n",
       "      <th>Itération</th>\n",
       "      <th></th>\n",
       "      <th></th>\n",
       "      <th></th>\n",
       "      <th></th>\n",
       "      <th></th>\n",
       "      <th></th>\n",
       "      <th></th>\n",
       "      <th></th>\n",
       "      <th></th>\n",
       "      <th></th>\n",
       "      <th></th>\n",
       "      <th></th>\n",
       "      <th></th>\n",
       "      <th></th>\n",
       "    </tr>\n",
       "  </thead>\n",
       "  <tbody>\n",
       "    <tr>\n",
       "      <th>1</th>\n",
       "      <td>265.150000</td>\n",
       "      <td>265.167984</td>\n",
       "      <td>265.167984</td>\n",
       "      <td>265.237516</td>\n",
       "      <td>265.237516</td>\n",
       "      <td>265.635853</td>\n",
       "      <td>265.635853</td>\n",
       "      <td>265.786530</td>\n",
       "      <td>265.786530</td>\n",
       "      <td>266.155437</td>\n",
       "      <td>266.155437</td>\n",
       "      <td>266.215430</td>\n",
       "      <td>266.215430</td>\n",
       "      <td>266.230733</td>\n",
       "    </tr>\n",
       "    <tr>\n",
       "      <th>2</th>\n",
       "      <td>266.230733</td>\n",
       "      <td>266.243635</td>\n",
       "      <td>266.243635</td>\n",
       "      <td>266.249234</td>\n",
       "      <td>266.249234</td>\n",
       "      <td>266.600753</td>\n",
       "      <td>266.600753</td>\n",
       "      <td>266.605688</td>\n",
       "      <td>266.605688</td>\n",
       "      <td>266.837040</td>\n",
       "      <td>266.837040</td>\n",
       "      <td>266.838020</td>\n",
       "      <td>266.838020</td>\n",
       "      <td>266.839511</td>\n",
       "    </tr>\n",
       "    <tr>\n",
       "      <th>3</th>\n",
       "      <td>266.839511</td>\n",
       "      <td>266.858915</td>\n",
       "      <td>266.858915</td>\n",
       "      <td>266.869126</td>\n",
       "      <td>266.869126</td>\n",
       "      <td>267.333159</td>\n",
       "      <td>267.333159</td>\n",
       "      <td>267.348650</td>\n",
       "      <td>267.348650</td>\n",
       "      <td>267.748314</td>\n",
       "      <td>267.748314</td>\n",
       "      <td>267.756764</td>\n",
       "      <td>267.756764</td>\n",
       "      <td>267.765765</td>\n",
       "    </tr>\n",
       "    <tr>\n",
       "      <th>4</th>\n",
       "      <td>267.765765</td>\n",
       "      <td>267.785112</td>\n",
       "      <td>267.785112</td>\n",
       "      <td>267.795454</td>\n",
       "      <td>267.795454</td>\n",
       "      <td>268.258900</td>\n",
       "      <td>268.258900</td>\n",
       "      <td>268.276219</td>\n",
       "      <td>268.276219</td>\n",
       "      <td>268.655159</td>\n",
       "      <td>268.655159</td>\n",
       "      <td>268.663134</td>\n",
       "      <td>268.663134</td>\n",
       "      <td>268.671625</td>\n",
       "    </tr>\n",
       "    <tr>\n",
       "      <th>5</th>\n",
       "      <td>268.671625</td>\n",
       "      <td>268.691090</td>\n",
       "      <td>268.691090</td>\n",
       "      <td>268.700916</td>\n",
       "      <td>268.700916</td>\n",
       "      <td>269.143743</td>\n",
       "      <td>269.143743</td>\n",
       "      <td>269.162250</td>\n",
       "      <td>269.162250</td>\n",
       "      <td>269.529617</td>\n",
       "      <td>269.529617</td>\n",
       "      <td>269.537965</td>\n",
       "      <td>269.537965</td>\n",
       "      <td>269.546537</td>\n",
       "    </tr>\n",
       "    <tr>\n",
       "      <th>6</th>\n",
       "      <td>269.546537</td>\n",
       "      <td>269.565725</td>\n",
       "      <td>269.565725</td>\n",
       "      <td>269.576002</td>\n",
       "      <td>269.576002</td>\n",
       "      <td>270.007412</td>\n",
       "      <td>270.007412</td>\n",
       "      <td>270.024347</td>\n",
       "      <td>270.024347</td>\n",
       "      <td>270.379622</td>\n",
       "      <td>270.379622</td>\n",
       "      <td>270.387523</td>\n",
       "      <td>270.387523</td>\n",
       "      <td>270.395940</td>\n",
       "    </tr>\n",
       "  </tbody>\n",
       "</table>"
      ],
      "text/plain": [
       "<IPython.core.display.HTML object>"
      ]
     },
     "metadata": {},
     "output_type": "display_data"
    },
    {
     "name": "stdout",
     "output_type": "stream",
     "text": [
      "Cas n°4 - Simu_M3:\n"
     ]
    },
    {
     "data": {
      "text/html": [
       "<table border=\"1\" class=\"dataframe\">\n",
       "  <thead>\n",
       "    <tr style=\"text-align: right;\">\n",
       "      <th></th>\n",
       "      <th>T_fluid_in_1</th>\n",
       "      <th>T_fluid_out_1</th>\n",
       "      <th>T_fluid_in_2</th>\n",
       "      <th>T_fluid_out_2</th>\n",
       "      <th>T_fluid_in_3</th>\n",
       "      <th>T_fluid_out_3</th>\n",
       "      <th>T_fluid_in_4</th>\n",
       "      <th>T_fluid_out_4</th>\n",
       "      <th>T_fluid_in_5</th>\n",
       "      <th>T_fluid_out_5</th>\n",
       "      <th>T_fluid_in_6</th>\n",
       "      <th>T_fluid_out_6</th>\n",
       "      <th>T_fluid_in_7</th>\n",
       "      <th>T_fluid_out_7</th>\n",
       "    </tr>\n",
       "    <tr>\n",
       "      <th>Itération</th>\n",
       "      <th></th>\n",
       "      <th></th>\n",
       "      <th></th>\n",
       "      <th></th>\n",
       "      <th></th>\n",
       "      <th></th>\n",
       "      <th></th>\n",
       "      <th></th>\n",
       "      <th></th>\n",
       "      <th></th>\n",
       "      <th></th>\n",
       "      <th></th>\n",
       "      <th></th>\n",
       "      <th></th>\n",
       "    </tr>\n",
       "  </thead>\n",
       "  <tbody>\n",
       "    <tr>\n",
       "      <th>1</th>\n",
       "      <td>267.150000</td>\n",
       "      <td>267.162996</td>\n",
       "      <td>267.162996</td>\n",
       "      <td>267.213422</td>\n",
       "      <td>267.213422</td>\n",
       "      <td>267.506626</td>\n",
       "      <td>267.506626</td>\n",
       "      <td>267.616084</td>\n",
       "      <td>267.616084</td>\n",
       "      <td>267.888153</td>\n",
       "      <td>267.888153</td>\n",
       "      <td>267.931808</td>\n",
       "      <td>267.931808</td>\n",
       "      <td>267.942911</td>\n",
       "    </tr>\n",
       "    <tr>\n",
       "      <th>2</th>\n",
       "      <td>267.942911</td>\n",
       "      <td>267.949714</td>\n",
       "      <td>267.949714</td>\n",
       "      <td>267.951301</td>\n",
       "      <td>267.951301</td>\n",
       "      <td>268.178814</td>\n",
       "      <td>268.178814</td>\n",
       "      <td>268.179223</td>\n",
       "      <td>268.179223</td>\n",
       "      <td>268.336663</td>\n",
       "      <td>268.336663</td>\n",
       "      <td>268.339525</td>\n",
       "      <td>268.339525</td>\n",
       "      <td>268.343397</td>\n",
       "    </tr>\n",
       "    <tr>\n",
       "      <th>3</th>\n",
       "      <td>268.343397</td>\n",
       "      <td>268.357270</td>\n",
       "      <td>268.357270</td>\n",
       "      <td>268.364035</td>\n",
       "      <td>268.364035</td>\n",
       "      <td>268.706057</td>\n",
       "      <td>268.706057</td>\n",
       "      <td>268.716715</td>\n",
       "      <td>268.716715</td>\n",
       "      <td>269.012859</td>\n",
       "      <td>269.012859</td>\n",
       "      <td>269.019067</td>\n",
       "      <td>269.019067</td>\n",
       "      <td>269.025728</td>\n",
       "    </tr>\n",
       "    <tr>\n",
       "      <th>4</th>\n",
       "      <td>269.025728</td>\n",
       "      <td>269.039514</td>\n",
       "      <td>269.039514</td>\n",
       "      <td>269.046576</td>\n",
       "      <td>269.046576</td>\n",
       "      <td>269.385958</td>\n",
       "      <td>269.385958</td>\n",
       "      <td>269.398109</td>\n",
       "      <td>269.398109</td>\n",
       "      <td>269.679743</td>\n",
       "      <td>269.679743</td>\n",
       "      <td>269.684651</td>\n",
       "      <td>269.684651</td>\n",
       "      <td>269.690173</td>\n",
       "    </tr>\n",
       "    <tr>\n",
       "      <th>5</th>\n",
       "      <td>269.690173</td>\n",
       "      <td>269.703907</td>\n",
       "      <td>269.703907</td>\n",
       "      <td>269.710898</td>\n",
       "      <td>269.710898</td>\n",
       "      <td>270.039018</td>\n",
       "      <td>270.039018</td>\n",
       "      <td>270.050891</td>\n",
       "      <td>270.050891</td>\n",
       "      <td>270.323180</td>\n",
       "      <td>270.323180</td>\n",
       "      <td>270.328528</td>\n",
       "      <td>270.328528</td>\n",
       "      <td>270.334203</td>\n",
       "    </tr>\n",
       "    <tr>\n",
       "      <th>6</th>\n",
       "      <td>270.334203</td>\n",
       "      <td>270.347705</td>\n",
       "      <td>270.347705</td>\n",
       "      <td>270.354858</td>\n",
       "      <td>270.354858</td>\n",
       "      <td>270.677230</td>\n",
       "      <td>270.677230</td>\n",
       "      <td>270.688831</td>\n",
       "      <td>270.688831</td>\n",
       "      <td>270.947224</td>\n",
       "      <td>270.947224</td>\n",
       "      <td>270.952872</td>\n",
       "      <td>270.952872</td>\n",
       "      <td>270.958861</td>\n",
       "    </tr>\n",
       "  </tbody>\n",
       "</table>"
      ],
      "text/plain": [
       "<IPython.core.display.HTML object>"
      ]
     },
     "metadata": {},
     "output_type": "display_data"
    },
    {
     "name": "stdout",
     "output_type": "stream",
     "text": [
      "Cas n°5 - Simu_M3:\n"
     ]
    },
    {
     "data": {
      "text/html": [
       "<table border=\"1\" class=\"dataframe\">\n",
       "  <thead>\n",
       "    <tr style=\"text-align: right;\">\n",
       "      <th></th>\n",
       "      <th>T_fluid_in_1</th>\n",
       "      <th>T_fluid_out_1</th>\n",
       "      <th>T_fluid_in_2</th>\n",
       "      <th>T_fluid_out_2</th>\n",
       "      <th>T_fluid_in_3</th>\n",
       "      <th>T_fluid_out_3</th>\n",
       "      <th>T_fluid_in_4</th>\n",
       "      <th>T_fluid_out_4</th>\n",
       "      <th>T_fluid_in_5</th>\n",
       "      <th>T_fluid_out_5</th>\n",
       "      <th>T_fluid_in_6</th>\n",
       "      <th>T_fluid_out_6</th>\n",
       "      <th>T_fluid_in_7</th>\n",
       "      <th>T_fluid_out_7</th>\n",
       "    </tr>\n",
       "    <tr>\n",
       "      <th>Itération</th>\n",
       "      <th></th>\n",
       "      <th></th>\n",
       "      <th></th>\n",
       "      <th></th>\n",
       "      <th></th>\n",
       "      <th></th>\n",
       "      <th></th>\n",
       "      <th></th>\n",
       "      <th></th>\n",
       "      <th></th>\n",
       "      <th></th>\n",
       "      <th></th>\n",
       "      <th></th>\n",
       "      <th></th>\n",
       "    </tr>\n",
       "  </thead>\n",
       "  <tbody>\n",
       "    <tr>\n",
       "      <th>1</th>\n",
       "      <td>269.150000</td>\n",
       "      <td>269.158228</td>\n",
       "      <td>269.158228</td>\n",
       "      <td>269.190299</td>\n",
       "      <td>269.190299</td>\n",
       "      <td>269.380883</td>\n",
       "      <td>269.380883</td>\n",
       "      <td>269.450658</td>\n",
       "      <td>269.450658</td>\n",
       "      <td>269.627966</td>\n",
       "      <td>269.627966</td>\n",
       "      <td>269.655856</td>\n",
       "      <td>269.655856</td>\n",
       "      <td>269.662922</td>\n",
       "    </tr>\n",
       "    <tr>\n",
       "      <th>2</th>\n",
       "      <td>269.662922</td>\n",
       "      <td>269.664113</td>\n",
       "      <td>269.664113</td>\n",
       "      <td>269.666361</td>\n",
       "      <td>269.666361</td>\n",
       "      <td>269.776882</td>\n",
       "      <td>269.776882</td>\n",
       "      <td>269.781503</td>\n",
       "      <td>269.781503</td>\n",
       "      <td>269.862675</td>\n",
       "      <td>269.862675</td>\n",
       "      <td>269.867249</td>\n",
       "      <td>269.867249</td>\n",
       "      <td>269.873176</td>\n",
       "    </tr>\n",
       "    <tr>\n",
       "      <th>3</th>\n",
       "      <td>269.873176</td>\n",
       "      <td>269.881630</td>\n",
       "      <td>269.881630</td>\n",
       "      <td>269.885613</td>\n",
       "      <td>269.885613</td>\n",
       "      <td>270.106993</td>\n",
       "      <td>270.106993</td>\n",
       "      <td>270.113658</td>\n",
       "      <td>270.113658</td>\n",
       "      <td>270.307573</td>\n",
       "      <td>270.307573</td>\n",
       "      <td>270.311223</td>\n",
       "      <td>270.311223</td>\n",
       "      <td>270.315167</td>\n",
       "    </tr>\n",
       "    <tr>\n",
       "      <th>4</th>\n",
       "      <td>270.315167</td>\n",
       "      <td>270.323608</td>\n",
       "      <td>270.323608</td>\n",
       "      <td>270.327683</td>\n",
       "      <td>270.327683</td>\n",
       "      <td>270.546650</td>\n",
       "      <td>270.546650</td>\n",
       "      <td>270.553857</td>\n",
       "      <td>270.553857</td>\n",
       "      <td>270.738600</td>\n",
       "      <td>270.738600</td>\n",
       "      <td>270.741874</td>\n",
       "      <td>270.741874</td>\n",
       "      <td>270.745399</td>\n",
       "    </tr>\n",
       "    <tr>\n",
       "      <th>5</th>\n",
       "      <td>270.745399</td>\n",
       "      <td>270.753851</td>\n",
       "      <td>270.753851</td>\n",
       "      <td>270.757881</td>\n",
       "      <td>270.757881</td>\n",
       "      <td>270.972274</td>\n",
       "      <td>270.972274</td>\n",
       "      <td>270.979534</td>\n",
       "      <td>270.979534</td>\n",
       "      <td>271.156394</td>\n",
       "      <td>271.156394</td>\n",
       "      <td>271.159446</td>\n",
       "      <td>271.159446</td>\n",
       "      <td>271.162900</td>\n",
       "    </tr>\n",
       "    <tr>\n",
       "      <th>6</th>\n",
       "      <td>271.162900</td>\n",
       "      <td>271.171312</td>\n",
       "      <td>271.171312</td>\n",
       "      <td>271.175331</td>\n",
       "      <td>271.175331</td>\n",
       "      <td>271.385227</td>\n",
       "      <td>271.385227</td>\n",
       "      <td>271.391944</td>\n",
       "      <td>271.391944</td>\n",
       "      <td>271.564297</td>\n",
       "      <td>271.564297</td>\n",
       "      <td>271.567555</td>\n",
       "      <td>271.567555</td>\n",
       "      <td>271.571167</td>\n",
       "    </tr>\n",
       "  </tbody>\n",
       "</table>"
      ],
      "text/plain": [
       "<IPython.core.display.HTML object>"
      ]
     },
     "metadata": {},
     "output_type": "display_data"
    }
   ],
   "source": [
    "## Evolution des températures d'entrée et de sortie par itération // 1D pour chaque simulation\n",
    "\n",
    "for mesh in range(nb_mesh):\n",
    "    for case in range(nb_cases):\n",
    "        data = []\n",
    "        for iteration in range(limit_big_it):\n",
    "            # Liste temporaire pour stocker les données de chaque partie et itération\n",
    "            temp_data = []\n",
    "            \n",
    "            for part in range(1, nb_hx+3): \n",
    "                T_in_value = df_one_mesh_case_list[mesh][case][iteration]['T_fluid_in'].loc[f'part{part}']\n",
    "                T_out_value = df_one_mesh_case_list[mesh][case][iteration]['T_fluid_out'].loc[f'part{part}']\n",
    "                temp_data.append(T_in_value)\n",
    "                temp_data.append(T_out_value)\n",
    "            \n",
    "            # Ajouter les données au tableau principal\n",
    "            data.append(temp_data)\n",
    "\n",
    "        # Noms des colonnes pour le tableau\n",
    "        columns = []\n",
    "        for part in range(1, nb_hx+3):\n",
    "            columns.append(f'T_fluid_in_{part}')\n",
    "            columns.append(f'T_fluid_out_{part}')\n",
    "\n",
    "        # Création du DataFrame\n",
    "        df_temperature = pd.DataFrame(data, columns=columns)\n",
    "        df_temperature.index = [i for i in range(1, limit_big_it+1)]\n",
    "        df_temperature = df_temperature.rename_axis('Itération')\n",
    "\n",
    "        # Affichage du tableau\n",
    "        print(f\"Cas n°{case+1} - Simu_M{mesh+1}:\")\n",
    "        pr.disp_html(df_temperature)"
   ]
  },
  {
   "cell_type": "markdown",
   "metadata": {},
   "source": [
    "CFD"
   ]
  },
  {
   "cell_type": "code",
   "execution_count": 6,
   "metadata": {},
   "outputs": [],
   "source": [
    "## Calcul des transferts à partir des reports // CFD\n",
    "# Définir les parties pour chaque transfert\n",
    "part1 = ['manifold_yu']\n",
    "part2 = ['hx_bend_yu_air', 'hx_bend_yu_pv']\n",
    "part3 = ['hx_flat_yu_air']\n",
    "part4 = ['hx_bend_mid_air', 'hx_bend_mid_pv']\n",
    "part5 = ['hx_flat_yd_air']\n",
    "part6 = ['hx_bend_yd_air', 'hx_bend_yd_pv']\n",
    "part7 = ['manifold_yd']\n",
    "\n",
    "part1_top = []\n",
    "part2_top = []\n",
    "part3_top = ['hx_flat_yu_pv-pv_backsheet-cd-cd1-pv-corps']\n",
    "part4_top = []\n",
    "part5_top = ['hx_flat_yd_pv-pv_backsheet-cd-cd1-pv-corps']\n",
    "part6_top = []\n",
    "part7_top = []\n",
    "\n",
    "# Fonction pour calculer les Qdot pour chaque partie et chaque itération\n",
    "def calculate_Qdot(mesh, case, iteration):\n",
    "    ht_tot = ht_tot_mesh_case_list[mesh][case][iteration]\n",
    "    ht_rad = ht_rad_mesh_case_list[mesh][case][iteration]\n",
    "    ht_conv = ht_conv_mesh_case_list[mesh][case][iteration]\n",
    "    \n",
    "    Qdot_tube = []\n",
    "    Qdot_top = []\n",
    "    Qdot_abs = []\n",
    "    Qdot_top_rad = []\n",
    "    \n",
    "    for i in range(1, nb_hx+3):\n",
    "        if i == 3 or i == 5:\n",
    "            Qdot_tube.append(4.75*ht_tot[ht_tot['Component'].isin(eval(f'part{i}'))]['ht'].sum())\n",
    "            Qdot_top.append(4.75*ht_conv[ht_conv['Component'].isin(eval(f'part{i}_top'))]['conv_ht'].sum())\n",
    "            Qdot_abs.append(1e-6)\n",
    "            Qdot_top_rad.append(4.75*ht_rad[ht_rad['Component'].isin(eval(f'part{i}_top'))]['rad_ht'].sum())\n",
    "        else:\n",
    "            Qdot_tube.append(4.75*ht_conv[ht_conv['Component'].isin(eval(f'part{i}'))]['conv_ht'].sum())\n",
    "            Qdot_top.append(1e-6)\n",
    "            Qdot_abs.append(1e-6)  # Dans le modèle, on a fait en sorte de ne pas avoir besoin de cette valeur\n",
    "            Qdot_top_rad.append(1e-6)\n",
    "    \n",
    "    return Qdot_tube, Qdot_top, Qdot_abs, Qdot_top_rad"
   ]
  },
  {
   "cell_type": "code",
   "execution_count": null,
   "metadata": {},
   "outputs": [],
   "source": [
    "## Affichage Qdot_top_rad // CFD\n",
    "for mesh in range(nb_mesh):\n",
    "    # Boucle sur chaque cas\n",
    "    for case in range(nb_cases):\n",
    "        # Listes pour stocker les valeurs de chaque transfert pour chaque itération\n",
    "        Qdot_top_rad_values = []\n",
    "\n",
    "        # Boucle sur chaque itération pour calculer les valeurs\n",
    "        for iteration in range(limit_big_it):\n",
    "            Qdot_tube, Qdot_top, Qdot_abs, Qdot_top_rad = calculate_Qdot(mesh, case, iteration)\n",
    "            Qdot_top_rad_values.append(Qdot_top_rad)\n",
    "        \n",
    "        # Création des figures pour chaque type de transfert\n",
    "        fig_top_rad = go.Figure()\n",
    "\n",
    "        # Ajout des traces à chaque figure\n",
    "        for part in range(1, nb_hx+3):\n",
    "            fig_top_rad.add_trace(go.Scatter(x=list(range(1, limit_big_it + 1)), y=[qr[part-1] for qr in Qdot_top_rad_values],\n",
    "                                            mode='lines+markers',\n",
    "                                            name=f'Part {part}',\n",
    "                                            line=dict(width=2)))\n",
    "\n",
    "        # Mise en forme du titre et des axes pour chaque figure\n",
    "        fig_top_rad.update_layout(title=f'Qdot_top_rad - Cas {case+1} - Simu M{mesh+1}',\n",
    "                                xaxis_title='Itération',\n",
    "                                yaxis_title='Qdot_top_rad')\n",
    "\n",
    "        # Affichage des figures\n",
    "        fig_top_rad.show()\n"
   ]
  },
  {
   "cell_type": "code",
   "execution_count": null,
   "metadata": {},
   "outputs": [],
   "source": [
    "## Affichage Qdot_top_conv // CFD\n",
    "\n",
    "for mesh in range(nb_mesh):\n",
    "    # Boucle sur chaque cas\n",
    "    for case in range(nb_cases):\n",
    "        # Listes pour stocker les valeurs de chaque transfert pour chaque itération\n",
    "        Qdot_tube_values = []\n",
    "\n",
    "        # Boucle sur chaque itération pour calculer les valeurs\n",
    "        for iteration in range(limit_big_it):\n",
    "            Qdot_tube, Qdot_top, Qdot_abs, Qdot_top_rad = calculate_Qdot(mesh, case, iteration)\n",
    "            Qdot_tube_values.append(Qdot_top)\n",
    "\n",
    "        \n",
    "        # Création des figures pour chaque type de transfert\n",
    "        fig_top = go.Figure()\n",
    "\n",
    "        # Ajout des traces à chaque figure\n",
    "        for part in range(1, nb_hx+3):\n",
    "            fig_top.add_trace(go.Scatter(x=list(range(1, limit_big_it + 1)), y=[qt[part-1] for qt in Qdot_tube_values],\n",
    "                                        mode='lines+markers',\n",
    "                                        name=f'Part {part}',\n",
    "                                        line=dict(width=2)))\n",
    "\n",
    "        # Mise en forme du titre et des axes pour chaque figure\n",
    "\n",
    "        fig_top.update_layout(title=f'Qdot_top - Cas {case+1} - Simu M{mesh+1}',\n",
    "                            xaxis_title='Itération',\n",
    "                            yaxis_title='Qdot_top')\n",
    "\n",
    "        # Affichage des figures\n",
    "        fig_top.show()"
   ]
  },
  {
   "cell_type": "code",
   "execution_count": null,
   "metadata": {},
   "outputs": [],
   "source": [
    "## Affichage Qdot_tube // CFD\n",
    "\n",
    "for mesh in range(nb_mesh):\n",
    "    # Boucle sur chaque cas\n",
    "    for case in range(nb_cases):\n",
    "        # Listes pour stocker les valeurs de chaque transfert pour chaque itération\n",
    "        Qdot_tube_values = []\n",
    "\n",
    "        # Boucle sur chaque itération pour calculer les valeurs\n",
    "        for iteration in range(limit_big_it):\n",
    "            Qdot_tube, Qdot_top, Qdot_abs, Qdot_top_rad = calculate_Qdot(mesh, case, iteration)\n",
    "            Qdot_tube_values.append(Qdot_tube)\n",
    "        \n",
    "        # Création des figures pour chaque type de transfert\n",
    "        fig_tube = go.Figure()\n",
    "\n",
    "        # Ajout des traces à chaque figure\n",
    "        for part in {3,5}:\n",
    "            fig_tube.add_trace(go.Scatter(x=list(range(1, limit_big_it + 1)), y=[qt[part-1] for qt in Qdot_tube_values],\n",
    "                                        mode='lines+markers',\n",
    "                                        name=f'Part {part}',\n",
    "                                        line=dict(width=2)))\n",
    "\n",
    "        # Mise en forme du titre et des axes pour chaque figure\n",
    "        fig_tube.update_layout(title=f'Qdot_tube - Cas {case+1} - Simu M{mesh+1}',\n",
    "                            xaxis_title='Itération',\n",
    "                            yaxis_title='Qdot_tube')\n",
    "\n",
    "        # Affichage des figures\n",
    "        fig_tube.show()\n"
   ]
  },
  {
   "cell_type": "code",
   "execution_count": null,
   "metadata": {},
   "outputs": [],
   "source": [
    "## Ratio de transfert convectif et radiatif // CFD\n",
    "\n",
    "component_list = ['hx_bend_yu_air', 'hx_bend_yu_pv', 'hx_flat_yu_air', 'hx_bend_mid_air', 'hx_bend_mid_pv', 'hx_flat_yd_air', 'hx_bend_yd_air', 'hx_bend_yd_pv']\n",
    "ratio_case_list = []\n",
    "for mesh in range(nb_mesh):\n",
    "    for case in range(nb_cases):\n",
    "        ratio_list = []\n",
    "        for iteration in range(limit_big_it) :\n",
    "            conv = ht_conv_mesh_case_list[mesh][case][iteration][ht_conv_mesh_case_list[mesh][case][iteration]['Component'].isin(eval(component_list))]['conv_ht'].sum()\n",
    "            tot = ht_tot_mesh_case_list[mesh][case][iteration][ht_tot_mesh_case_list[mesh][iteration]['Component'].isin(eval(component_list))]['ht'].sum()\n",
    "            rad = ht_rad_mesh_case_list[mesh][case][iteration][ht_rad_mesh_case_list[mesh][iteration]['Component'].isin(eval(component_list))]['rad_ht'].sum()\n",
    "            ratio_conv = conv/tot\n",
    "            ratio_rad = rad/tot\n",
    "            ratio_list.append([ratio_conv, ratio_rad])\n",
    "        ratio_case_list.append(ratio_list)"
   ]
  },
  {
   "cell_type": "markdown",
   "metadata": {},
   "source": [
    "CFD et 1D sur une même courbe"
   ]
  },
  {
   "cell_type": "code",
   "execution_count": null,
   "metadata": {},
   "outputs": [],
   "source": [
    "## Affichage Qdot_tube // CFD et 1D\n",
    "\n",
    "# Initialiser les couleurs pour les parties (7 couleurs différentes)\n",
    "part_colors = ['#1f77b4', '#ff7f0e', '#2ca02c', '#d62728', '#9467bd', '#8c564b', '#e377c2']\n",
    "\n",
    "for mesh in range(nb_mesh):\n",
    "    # Boucle sur chaque cas\n",
    "    for case in range(nb_cases):\n",
    "        # Listes pour stocker les valeurs de chaque transfert pour chaque itération pour CFD et 1D\n",
    "        Qdot_tube_values_cfd = []\n",
    "        Qdot_tube_values_1d = [[] for _ in range(nb_hx + 3)]\n",
    "        Qdot_tube_values = [[] for _ in range(nb_hx + 3)]\n",
    "        iterations_cfd = []\n",
    "        iterations_1d = [[] for _ in range(nb_hx + 3)]\n",
    "        iterations = [[] for _ in range(nb_hx + 3)]\n",
    "\n",
    "        # Créer une figure pour les valeurs de Qdot_top\n",
    "        fig_top = go.Figure()\n",
    "\n",
    "        # Boucle sur chaque itération pour calculer les valeurs et les afficher\n",
    "        for iteration in range(limit_big_it):\n",
    "            # Calculer les valeurs CFD\n",
    "            Qdot_tube, Qdot_top, Qdot_abs, Qdot_top_rad = calculate_Qdot(mesh, case, iteration)\n",
    "            Qdot_tube_values_cfd.append(Qdot_tube)\n",
    "            iterations_cfd.append(iteration + 1)\n",
    "\n",
    "            # Récupérer les valeurs pour Qdot_top_conv pour 1D\n",
    "            for part in {3,5}:\n",
    "                tube_value_1d = df_one_mesh_case_list[mesh][case][iteration]['Qdot_tube_back'].loc[f'part{part}']\n",
    "                Qdot_tube_values_1d[part-1].append(tube_value_1d)\n",
    "                iterations_1d[part-1].append(iteration + 1.5)\n",
    "                Qdot_tube_values[part-1].append(Qdot_tube[part-1])\n",
    "                Qdot_tube_values[part-1].append(tube_value_1d)\n",
    "                iterations[part-1].append(iteration + 1)\n",
    "                iterations[part-1].append(iteration + 1.5)\n",
    "\n",
    "        # Ajouter les valeurs CFD et 1D à la figure\n",
    "        for part in range(1, nb_hx + 3):\n",
    "            # Tracer les valeurs CFD\n",
    "            fig_top.add_trace(go.Scatter(x=iterations_cfd, \n",
    "                                        y=[qt[part-1] for qt in Qdot_tube_values_cfd],\n",
    "                                        mode='markers',\n",
    "                                        name=f'Part {part} CFD',\n",
    "                                        line=dict(width=2, color=part_colors[part-1]),\n",
    "                                        marker=dict(symbol='cross')))\n",
    "\n",
    "            # Tracer les valeurs 1D\n",
    "            fig_top.add_trace(go.Scatter(x=iterations_1d[part-1], \n",
    "                                        y=Qdot_tube_values_1d[part-1],\n",
    "                                        mode='markers',\n",
    "                                        name=f'Part {part} 1D',\n",
    "                                        line=dict(width=2, color=part_colors[part-1], dash='dot'),\n",
    "                                        marker=dict(symbol='x')))\n",
    "            \n",
    "            fig_top.add_trace(go.Scatter(x=iterations[part-1], \n",
    "                                        y=Qdot_tube_values[part-1],\n",
    "                                        mode='lines',\n",
    "                                        name=f'Part {part}',\n",
    "                                        line=dict(width=2, color=part_colors[part-1], dash='dot')))\n",
    "\n",
    "        # Mise en forme du titre et des axes\n",
    "        fig_top.update_layout(title=f'Qdot_tube - Cas {case+1} - Simu M{mesh+1}',\n",
    "                            xaxis_title='Itération',\n",
    "                            yaxis_title='Qdot_tube_back')\n",
    "\n",
    "        # Affichage de la figure\n",
    "        fig_top.show()"
   ]
  },
  {
   "cell_type": "code",
   "execution_count": null,
   "metadata": {},
   "outputs": [],
   "source": [
    "## Affichage Qdot_top // CFD et 1D\n",
    "\n",
    "# Initialiser les couleurs pour les parties (7 couleurs différentes)\n",
    "part_colors = ['#1f77b4', '#ff7f0e', '#2ca02c', '#d62728', '#9467bd', '#8c564b', '#e377c2']\n",
    "\n",
    "for mesh in range(nb_mesh):\n",
    "    # Boucle sur chaque cas\n",
    "    for case in range(nb_cases):\n",
    "        # Listes pour stocker les valeurs de chaque transfert pour chaque itération pour CFD et 1D\n",
    "        Qdot_top_values_cfd = []\n",
    "        Qdot_top_values_1d = [[] for _ in range(nb_hx + 3)]\n",
    "        Qdot_top_values = [[] for _ in range(nb_hx + 3)]\n",
    "        iterations_cfd = []\n",
    "        iterations_1d = [[] for _ in range(nb_hx + 3)]\n",
    "        iterations = [[] for _ in range(nb_hx + 3)]\n",
    "\n",
    "        # Créer une figure pour les valeurs de Qdot_top\n",
    "        fig_top = go.Figure()\n",
    "\n",
    "        # Boucle sur chaque itération pour calculer les valeurs et les afficher\n",
    "        for iteration in range(limit_big_it):\n",
    "            # Calculer les valeurs CFD\n",
    "            Qdot_tube, Qdot_top, Qdot_abs, Qdot_top_rad = calculate_Qdot(mesh, case, iteration)\n",
    "            Qdot_top_values_cfd.append(Qdot_top)\n",
    "            iterations_cfd.append(iteration + 1)\n",
    "\n",
    "            # Récupérer les valeurs pour Qdot_top_conv pour 1D\n",
    "            for part in range(1, nb_hx + 3):\n",
    "                top_value_1d = df_one_mesh_case_list[mesh][case][iteration]['Qdot_top_conv'].loc[f'part{part}']\n",
    "                Qdot_top_values_1d[part-1].append(top_value_1d)\n",
    "                iterations_1d[part-1].append(iteration + 1.5)\n",
    "                Qdot_top_values[part-1].append(Qdot_top[part-1])\n",
    "                Qdot_top_values[part-1].append(top_value_1d)\n",
    "                iterations[part-1].append(iteration + 1)\n",
    "                iterations[part-1].append(iteration + 1.5)\n",
    "\n",
    "        # Ajouter les valeurs CFD et 1D à la figure\n",
    "        for part in range(1, nb_hx + 3):\n",
    "            # Tracer les valeurs CFD\n",
    "            fig_top.add_trace(go.Scatter(x=iterations_cfd, \n",
    "                                        y=[qt[part-1] for qt in Qdot_top_values_cfd],\n",
    "                                        mode='markers',\n",
    "                                        name=f'Part {part} CFD',\n",
    "                                        line=dict(width=2, color=part_colors[part-1]),\n",
    "                                        marker=dict(symbol='cross')))\n",
    "\n",
    "            # Tracer les valeurs 1D\n",
    "            fig_top.add_trace(go.Scatter(x=iterations_1d[part-1], \n",
    "                                        y=Qdot_top_values_1d[part-1],\n",
    "                                        mode='markers',\n",
    "                                        name=f'Part {part} 1D',\n",
    "                                        line=dict(width=2, color=part_colors[part-1], dash='dot'),\n",
    "                                        marker=dict(symbol='x')))\n",
    "            \n",
    "            fig_top.add_trace(go.Scatter(x=iterations[part-1], \n",
    "                                        y=Qdot_top_values[part-1],\n",
    "                                        mode='lines',\n",
    "                                        name=f'Part {part}',\n",
    "                                        line=dict(width=2, color=part_colors[part-1], dash='dot')))\n",
    "\n",
    "        # Mise en forme du titre et des axes\n",
    "        fig_top.update_layout(title=f'Qdot_top - Cas {case+1} - Simu M{mesh+1}',\n",
    "                            xaxis_title='Itération',\n",
    "                            yaxis_title='Qdot_top')\n",
    "\n",
    "        # Affichage de la figure\n",
    "        fig_top.show()\n"
   ]
  },
  {
   "cell_type": "markdown",
   "metadata": {},
   "source": [
    "Comparaison des maillages\n"
   ]
  },
  {
   "cell_type": "code",
   "execution_count": null,
   "metadata": {},
   "outputs": [],
   "source": [
    "## Comparaison Qdot_tube_back_conv pour chaque partie // 1D\n",
    "\n",
    "# Initialisation de la liste de figures pour les graphiques par cas\n",
    "fig_comparison_list = []\n",
    "\n",
    "# Couleurs pour chaque simulation (choisissez autant de couleurs que de simulations)\n",
    "sim_colors = ['#1f77b4', '#ff7f0e', '#2ca02c', '#d62728', '#9467bd', '#8c564b', '#e377c2']\n",
    "\n",
    "# Largeur des barres pour chaque simulation\n",
    "bar_width = 0.8 / nb_mesh\n",
    "\n",
    "# Positions des barres pour chaque partie et chaque simulation\n",
    "bar_positions = np.arange(1, nb_hx + 4)  # positions pour chaque partie (1 à nb_hx + 3)\n",
    "\n",
    "# Boucle sur chaque cas\n",
    "for case in range(nb_cases):\n",
    "    # Créer une figure pour comparer les simulations\n",
    "    fig_comparison = go.Figure()\n",
    "\n",
    "    # Pour chaque simulation (chaque maillage)\n",
    "    for mesh in range(nb_mesh):\n",
    "        # Liste pour stocker les valeurs de Qdot_tube_back_conv pour chaque partie\n",
    "        tube_values = []\n",
    "\n",
    "        # Pour chaque partie\n",
    "        for part in {3,5}:\n",
    "            # Récupérer les valeurs de Qdot_tube_back_conv pour la dernière itération pour ce cas et ce maillage\n",
    "            iteration = limit_big_it - 1\n",
    "            tube_value = df_one_mesh_case_list[mesh][case][iteration]['Qdot_tube_back_conv'].loc[f'part{part}']\n",
    "            tube_values.append(tube_value)\n",
    "\n",
    "        # Ajouter les barres pour chaque partie\n",
    "        fig_comparison.add_trace(go.Bar(\n",
    "            x=bar_positions + mesh * bar_width - 0.4,\n",
    "            y=tube_values,\n",
    "            name=f'Simulation M{mesh + 1}',\n",
    "            marker_color=sim_colors[mesh],\n",
    "            width=bar_width,\n",
    "            opacity=0.8\n",
    "        ))\n",
    "\n",
    "    # Mise en forme du titre et des axes\n",
    "    fig_comparison.update_layout(\n",
    "        title=f'Comparaison des simulations pour Qdot_tube_back_conv - Cas {case + 1}',\n",
    "        xaxis_title='Parties',\n",
    "        yaxis_title='Qdot_tube_back_conv',\n",
    "        barmode='group',  # Regrouper les barres\n",
    "        legend_title='Simulation'\n",
    "    )\n",
    "\n",
    "    # Ajouter la figure à la liste\n",
    "    fig_comparison_list.append(fig_comparison)\n",
    "\n",
    "# Afficher toutes les figures\n",
    "for fig_comparison in fig_comparison_list:\n",
    "    fig_comparison.show()\n"
   ]
  },
  {
   "cell_type": "code",
   "execution_count": null,
   "metadata": {},
   "outputs": [],
   "source": [
    "## Comparaison Qdot_top_conv pour chaque partie // 1D\n",
    "\n",
    "# Initialisation de la liste de figures pour les graphiques par cas\n",
    "fig_comparison_list = []\n",
    "\n",
    "# Couleurs pour chaque simulation (choisissez autant de couleurs que de simulations)\n",
    "sim_colors = ['#1f77b4', '#ff7f0e', '#2ca02c', '#d62728', '#9467bd', '#8c564b', '#e377c2']\n",
    "\n",
    "# Largeur des barres pour chaque simulation\n",
    "bar_width = 0.8 / nb_mesh\n",
    "\n",
    "# Positions des barres pour chaque partie et chaque simulation\n",
    "bar_positions = np.arange(1, nb_hx + 4)  # positions pour chaque partie (1 à nb_hx + 3)\n",
    "\n",
    "# Boucle sur chaque cas\n",
    "for case in range(nb_cases):\n",
    "    # Créer une figure pour comparer les simulations\n",
    "    fig_comparison = go.Figure()\n",
    "\n",
    "    # Pour chaque simulation (chaque maillage)\n",
    "    for mesh in range(nb_mesh):\n",
    "        # Liste pour stocker les valeurs de Qdot_tube_back_conv pour chaque partie\n",
    "        tube_values = []\n",
    "\n",
    "        # Pour chaque partie\n",
    "        for part in range(1, nb_hx + 3):\n",
    "            # Récupérer les valeurs de Qdot_tube_back_conv pour la dernière itération pour ce cas et ce maillage\n",
    "            iteration = limit_big_it - 1\n",
    "            tube_value = df_one_mesh_case_list[mesh][case][iteration]['Qdot_top_conv'].loc[f'part{part}']\n",
    "            tube_values.append(tube_value)\n",
    "\n",
    "        # Ajouter les barres pour chaque partie\n",
    "        fig_comparison.add_trace(go.Bar(\n",
    "            x=bar_positions + mesh * bar_width - 0.4,\n",
    "            y=tube_values,\n",
    "            name=f'Simulation M{mesh + 1}',\n",
    "            marker_color=sim_colors[mesh],\n",
    "            width=bar_width,\n",
    "            opacity=0.8\n",
    "        ))\n",
    "\n",
    "    # Mise en forme du titre et des axes\n",
    "    fig_comparison.update_layout(\n",
    "        title=f'Comparaison des simulations pour Qdot_top_conv - Cas {case + 1}',\n",
    "        xaxis_title='Parties',\n",
    "        yaxis_title='Qdot_tube_back_conv',\n",
    "        barmode='group',  # Regrouper les barres\n",
    "        legend_title='Simulation'\n",
    "    )\n",
    "\n",
    "    # Ajouter la figure à la liste\n",
    "    fig_comparison_list.append(fig_comparison)\n",
    "\n",
    "# Afficher toutes les figures\n",
    "for fig_comparison in fig_comparison_list:\n",
    "    fig_comparison.show()\n"
   ]
  },
  {
   "cell_type": "code",
   "execution_count": null,
   "metadata": {},
   "outputs": [],
   "source": [
    "## Comparaison Qdot_top_rad pour chaque partie // 1D\n",
    "\n",
    "# Initialisation de la liste de figures pour les graphiques par cas\n",
    "fig_comparison_list = []\n",
    "\n",
    "# Couleurs pour chaque simulation (choisissez autant de couleurs que de simulations)\n",
    "sim_colors = ['#1f77b4', '#ff7f0e', '#2ca02c', '#d62728', '#9467bd', '#8c564b', '#e377c2']\n",
    "\n",
    "# Largeur des barres pour chaque simulation\n",
    "bar_width = 0.8 / nb_mesh\n",
    "\n",
    "# Positions des barres pour chaque partie et chaque simulation\n",
    "bar_positions = np.arange(1, nb_hx + 4)  # positions pour chaque partie (1 à nb_hx + 3)\n",
    "\n",
    "# Boucle sur chaque cas\n",
    "for case in range(nb_cases):\n",
    "    # Créer une figure pour comparer les simulations\n",
    "    fig_comparison = go.Figure()\n",
    "\n",
    "    # Pour chaque simulation (chaque maillage)\n",
    "    for mesh in range(nb_mesh):\n",
    "        # Liste pour stocker les valeurs de Qdot_tube_back_conv pour chaque partie\n",
    "        tube_values = []\n",
    "\n",
    "        # Pour chaque partie\n",
    "        for part in range(1, nb_hx + 3):\n",
    "            # Récupérer les valeurs de Qdot_tube_back_conv pour la dernière itération pour ce cas et ce maillage\n",
    "            iteration = limit_big_it - 1\n",
    "            tube_value = df_one_mesh_case_list[mesh][case][iteration]['Qdot_top_rad'].loc[f'part{part}']\n",
    "            tube_values.append(tube_value)\n",
    "\n",
    "        # Ajouter les barres pour chaque partie\n",
    "        fig_comparison.add_trace(go.Bar(\n",
    "            x=bar_positions + mesh * bar_width - 0.4,\n",
    "            y=tube_values,\n",
    "            name=f'Simulation M{mesh + 1}',\n",
    "            marker_color=sim_colors[mesh],\n",
    "            width=bar_width,\n",
    "            opacity=0.8\n",
    "        ))\n",
    "\n",
    "    # Mise en forme du titre et des axes\n",
    "    fig_comparison.update_layout(\n",
    "        title=f'Comparaison des simulations pour Qdot_top_rad - Cas {case + 1}',\n",
    "        xaxis_title='Parties',\n",
    "        yaxis_title='Qdot_tube_back_conv',\n",
    "        barmode='group',  # Regrouper les barres\n",
    "        legend_title='Simulation'\n",
    "    )\n",
    "\n",
    "    # Ajouter la figure à la liste\n",
    "    fig_comparison_list.append(fig_comparison)\n",
    "\n",
    "# Afficher toutes les figures\n",
    "for fig_comparison in fig_comparison_list:\n",
    "    fig_comparison.show()\n"
   ]
  },
  {
   "cell_type": "code",
   "execution_count": null,
   "metadata": {},
   "outputs": [],
   "source": [
    "## Comparaison Qdot_top_rad pour chaque partie // CFD\n",
    "\n",
    "# Couleurs pour chaque simulation (autant de couleurs que de simulations)\n",
    "sim_colors = ['#1f77b4', '#ff7f0e', '#2ca02c', '#d62728', '#9467bd', '#8c564b', '#e377c2']\n",
    "\n",
    "# Initialisation de la liste de figures pour les graphiques par cas\n",
    "fig_comparison_list = []\n",
    "\n",
    "# Largeur des barres pour chaque simulation\n",
    "bar_width = 0.8 / nb_mesh\n",
    "\n",
    "# Positions des barres pour chaque partie et chaque simulation\n",
    "bar_positions = np.arange(1, nb_hx + 3)  # positions pour chaque partie (1 à nb_hx)\n",
    "\n",
    "# Boucle sur chaque cas\n",
    "for case in range(nb_cases):\n",
    "    # Créer une figure pour comparer les simulations\n",
    "    fig_comparison = go.Figure()\n",
    "\n",
    "    # Pour chaque simulation (chaque maillage)\n",
    "    for mesh in range(nb_mesh):\n",
    "        # Liste pour stocker les valeurs de Qdot_top_rad pour chaque partie\n",
    "        top_rad_values = []\n",
    "\n",
    "        # Pour chaque partie\n",
    "        for part in range(1, nb_hx + 3):\n",
    "            # Récupérer les valeurs de Qdot_top_rad pour la dernière itération pour ce cas et ce maillage\n",
    "            iteration = limit_big_it - 1\n",
    "            Qdot_tube, Qdot_top, Qdot_abs, Qdot_top_rad = calculate_Qdot(mesh, case, iteration)\n",
    "            top_rad_values.append(Qdot_top_rad[part - 1])\n",
    "\n",
    "        # Ajouter les barres pour chaque partie\n",
    "        fig_comparison.add_trace(go.Bar(\n",
    "            x=bar_positions + (mesh - (nb_mesh - 1) / 2) * bar_width,\n",
    "            y=top_rad_values,\n",
    "            name=f'Simulation M{mesh + 1}',\n",
    "            marker_color=sim_colors[mesh],\n",
    "            width=bar_width,\n",
    "            opacity=0.8\n",
    "        ))\n",
    "\n",
    "    # Mise en forme du titre et des axes\n",
    "    fig_comparison.update_layout(\n",
    "        title=f'Comparaison des simulations pour Qdot_top_rad - Cas {case + 1}',\n",
    "        xaxis_title='Parties',\n",
    "        yaxis_title='Qdot_top_rad',\n",
    "        xaxis=dict(\n",
    "            tickmode='array',\n",
    "            tickvals=np.arange(1, nb_hx + 3),\n",
    "            ticktext=[f'Part {i}' for i in range(1, nb_hx + 3)]\n",
    "        ),\n",
    "        barmode='group',  # Regrouper les barres\n",
    "        legend_title='Simulation'\n",
    "    )\n",
    "\n",
    "    # Ajouter la figure à la liste\n",
    "    fig_comparison_list.append(fig_comparison)\n",
    "\n",
    "# Afficher toutes les figures\n",
    "for fig_comparison in fig_comparison_list:\n",
    "    fig_comparison.show()\n"
   ]
  },
  {
   "cell_type": "code",
   "execution_count": 74,
   "metadata": {},
   "outputs": [
    {
     "data": {
      "application/vnd.plotly.v1+json": {
       "config": {
        "plotlyServerURL": "https://plot.ly"
       },
       "data": [
        {
         "marker": {
          "color": "#1f77b4"
         },
         "name": "Simulation M1",
         "opacity": 0.8,
         "type": "bar",
         "width": 0.26666666666666666,
         "x": [
          0.7333333333333334,
          1.7333333333333334,
          2.7333333333333334,
          3.7333333333333334,
          4.733333333333333,
          5.733333333333333,
          6.733333333333333
         ],
         "y": [
          0.000001,
          0.000001,
          -96.04699025,
          0.000001,
          -75.5220075,
          0.000001,
          0.000001
         ]
        },
        {
         "marker": {
          "color": "#ff7f0e"
         },
         "name": "Simulation M2",
         "opacity": 0.8,
         "type": "bar",
         "width": 0.26666666666666666,
         "x": [
          1,
          2,
          3,
          4,
          5,
          6,
          7
         ],
         "y": [
          0.000001,
          0.000001,
          -96.1532525,
          0.000001,
          -75.3032035,
          0.000001,
          0.000001
         ]
        },
        {
         "marker": {
          "color": "#2ca02c"
         },
         "name": "Simulation M3",
         "opacity": 0.8,
         "type": "bar",
         "width": 0.26666666666666666,
         "x": [
          1.2666666666666666,
          2.2666666666666666,
          3.2666666666666666,
          4.266666666666667,
          5.266666666666667,
          6.266666666666667,
          7.266666666666667
         ],
         "y": [
          0.000001,
          0.000001,
          -96.25496424999999,
          0.000001,
          -75.40322425000001,
          0.000001,
          0.000001
         ]
        }
       ],
       "layout": {
        "barmode": "group",
        "legend": {
         "title": {
          "text": "Simulation"
         }
        },
        "template": {
         "data": {
          "bar": [
           {
            "error_x": {
             "color": "#2a3f5f"
            },
            "error_y": {
             "color": "#2a3f5f"
            },
            "marker": {
             "line": {
              "color": "#E5ECF6",
              "width": 0.5
             },
             "pattern": {
              "fillmode": "overlay",
              "size": 10,
              "solidity": 0.2
             }
            },
            "type": "bar"
           }
          ],
          "barpolar": [
           {
            "marker": {
             "line": {
              "color": "#E5ECF6",
              "width": 0.5
             },
             "pattern": {
              "fillmode": "overlay",
              "size": 10,
              "solidity": 0.2
             }
            },
            "type": "barpolar"
           }
          ],
          "carpet": [
           {
            "aaxis": {
             "endlinecolor": "#2a3f5f",
             "gridcolor": "white",
             "linecolor": "white",
             "minorgridcolor": "white",
             "startlinecolor": "#2a3f5f"
            },
            "baxis": {
             "endlinecolor": "#2a3f5f",
             "gridcolor": "white",
             "linecolor": "white",
             "minorgridcolor": "white",
             "startlinecolor": "#2a3f5f"
            },
            "type": "carpet"
           }
          ],
          "choropleth": [
           {
            "colorbar": {
             "outlinewidth": 0,
             "ticks": ""
            },
            "type": "choropleth"
           }
          ],
          "contour": [
           {
            "colorbar": {
             "outlinewidth": 0,
             "ticks": ""
            },
            "colorscale": [
             [
              0,
              "#0d0887"
             ],
             [
              0.1111111111111111,
              "#46039f"
             ],
             [
              0.2222222222222222,
              "#7201a8"
             ],
             [
              0.3333333333333333,
              "#9c179e"
             ],
             [
              0.4444444444444444,
              "#bd3786"
             ],
             [
              0.5555555555555556,
              "#d8576b"
             ],
             [
              0.6666666666666666,
              "#ed7953"
             ],
             [
              0.7777777777777778,
              "#fb9f3a"
             ],
             [
              0.8888888888888888,
              "#fdca26"
             ],
             [
              1,
              "#f0f921"
             ]
            ],
            "type": "contour"
           }
          ],
          "contourcarpet": [
           {
            "colorbar": {
             "outlinewidth": 0,
             "ticks": ""
            },
            "type": "contourcarpet"
           }
          ],
          "heatmap": [
           {
            "colorbar": {
             "outlinewidth": 0,
             "ticks": ""
            },
            "colorscale": [
             [
              0,
              "#0d0887"
             ],
             [
              0.1111111111111111,
              "#46039f"
             ],
             [
              0.2222222222222222,
              "#7201a8"
             ],
             [
              0.3333333333333333,
              "#9c179e"
             ],
             [
              0.4444444444444444,
              "#bd3786"
             ],
             [
              0.5555555555555556,
              "#d8576b"
             ],
             [
              0.6666666666666666,
              "#ed7953"
             ],
             [
              0.7777777777777778,
              "#fb9f3a"
             ],
             [
              0.8888888888888888,
              "#fdca26"
             ],
             [
              1,
              "#f0f921"
             ]
            ],
            "type": "heatmap"
           }
          ],
          "heatmapgl": [
           {
            "colorbar": {
             "outlinewidth": 0,
             "ticks": ""
            },
            "colorscale": [
             [
              0,
              "#0d0887"
             ],
             [
              0.1111111111111111,
              "#46039f"
             ],
             [
              0.2222222222222222,
              "#7201a8"
             ],
             [
              0.3333333333333333,
              "#9c179e"
             ],
             [
              0.4444444444444444,
              "#bd3786"
             ],
             [
              0.5555555555555556,
              "#d8576b"
             ],
             [
              0.6666666666666666,
              "#ed7953"
             ],
             [
              0.7777777777777778,
              "#fb9f3a"
             ],
             [
              0.8888888888888888,
              "#fdca26"
             ],
             [
              1,
              "#f0f921"
             ]
            ],
            "type": "heatmapgl"
           }
          ],
          "histogram": [
           {
            "marker": {
             "pattern": {
              "fillmode": "overlay",
              "size": 10,
              "solidity": 0.2
             }
            },
            "type": "histogram"
           }
          ],
          "histogram2d": [
           {
            "colorbar": {
             "outlinewidth": 0,
             "ticks": ""
            },
            "colorscale": [
             [
              0,
              "#0d0887"
             ],
             [
              0.1111111111111111,
              "#46039f"
             ],
             [
              0.2222222222222222,
              "#7201a8"
             ],
             [
              0.3333333333333333,
              "#9c179e"
             ],
             [
              0.4444444444444444,
              "#bd3786"
             ],
             [
              0.5555555555555556,
              "#d8576b"
             ],
             [
              0.6666666666666666,
              "#ed7953"
             ],
             [
              0.7777777777777778,
              "#fb9f3a"
             ],
             [
              0.8888888888888888,
              "#fdca26"
             ],
             [
              1,
              "#f0f921"
             ]
            ],
            "type": "histogram2d"
           }
          ],
          "histogram2dcontour": [
           {
            "colorbar": {
             "outlinewidth": 0,
             "ticks": ""
            },
            "colorscale": [
             [
              0,
              "#0d0887"
             ],
             [
              0.1111111111111111,
              "#46039f"
             ],
             [
              0.2222222222222222,
              "#7201a8"
             ],
             [
              0.3333333333333333,
              "#9c179e"
             ],
             [
              0.4444444444444444,
              "#bd3786"
             ],
             [
              0.5555555555555556,
              "#d8576b"
             ],
             [
              0.6666666666666666,
              "#ed7953"
             ],
             [
              0.7777777777777778,
              "#fb9f3a"
             ],
             [
              0.8888888888888888,
              "#fdca26"
             ],
             [
              1,
              "#f0f921"
             ]
            ],
            "type": "histogram2dcontour"
           }
          ],
          "mesh3d": [
           {
            "colorbar": {
             "outlinewidth": 0,
             "ticks": ""
            },
            "type": "mesh3d"
           }
          ],
          "parcoords": [
           {
            "line": {
             "colorbar": {
              "outlinewidth": 0,
              "ticks": ""
             }
            },
            "type": "parcoords"
           }
          ],
          "pie": [
           {
            "automargin": true,
            "type": "pie"
           }
          ],
          "scatter": [
           {
            "fillpattern": {
             "fillmode": "overlay",
             "size": 10,
             "solidity": 0.2
            },
            "type": "scatter"
           }
          ],
          "scatter3d": [
           {
            "line": {
             "colorbar": {
              "outlinewidth": 0,
              "ticks": ""
             }
            },
            "marker": {
             "colorbar": {
              "outlinewidth": 0,
              "ticks": ""
             }
            },
            "type": "scatter3d"
           }
          ],
          "scattercarpet": [
           {
            "marker": {
             "colorbar": {
              "outlinewidth": 0,
              "ticks": ""
             }
            },
            "type": "scattercarpet"
           }
          ],
          "scattergeo": [
           {
            "marker": {
             "colorbar": {
              "outlinewidth": 0,
              "ticks": ""
             }
            },
            "type": "scattergeo"
           }
          ],
          "scattergl": [
           {
            "marker": {
             "colorbar": {
              "outlinewidth": 0,
              "ticks": ""
             }
            },
            "type": "scattergl"
           }
          ],
          "scattermapbox": [
           {
            "marker": {
             "colorbar": {
              "outlinewidth": 0,
              "ticks": ""
             }
            },
            "type": "scattermapbox"
           }
          ],
          "scatterpolar": [
           {
            "marker": {
             "colorbar": {
              "outlinewidth": 0,
              "ticks": ""
             }
            },
            "type": "scatterpolar"
           }
          ],
          "scatterpolargl": [
           {
            "marker": {
             "colorbar": {
              "outlinewidth": 0,
              "ticks": ""
             }
            },
            "type": "scatterpolargl"
           }
          ],
          "scatterternary": [
           {
            "marker": {
             "colorbar": {
              "outlinewidth": 0,
              "ticks": ""
             }
            },
            "type": "scatterternary"
           }
          ],
          "surface": [
           {
            "colorbar": {
             "outlinewidth": 0,
             "ticks": ""
            },
            "colorscale": [
             [
              0,
              "#0d0887"
             ],
             [
              0.1111111111111111,
              "#46039f"
             ],
             [
              0.2222222222222222,
              "#7201a8"
             ],
             [
              0.3333333333333333,
              "#9c179e"
             ],
             [
              0.4444444444444444,
              "#bd3786"
             ],
             [
              0.5555555555555556,
              "#d8576b"
             ],
             [
              0.6666666666666666,
              "#ed7953"
             ],
             [
              0.7777777777777778,
              "#fb9f3a"
             ],
             [
              0.8888888888888888,
              "#fdca26"
             ],
             [
              1,
              "#f0f921"
             ]
            ],
            "type": "surface"
           }
          ],
          "table": [
           {
            "cells": {
             "fill": {
              "color": "#EBF0F8"
             },
             "line": {
              "color": "white"
             }
            },
            "header": {
             "fill": {
              "color": "#C8D4E3"
             },
             "line": {
              "color": "white"
             }
            },
            "type": "table"
           }
          ]
         },
         "layout": {
          "annotationdefaults": {
           "arrowcolor": "#2a3f5f",
           "arrowhead": 0,
           "arrowwidth": 1
          },
          "autotypenumbers": "strict",
          "coloraxis": {
           "colorbar": {
            "outlinewidth": 0,
            "ticks": ""
           }
          },
          "colorscale": {
           "diverging": [
            [
             0,
             "#8e0152"
            ],
            [
             0.1,
             "#c51b7d"
            ],
            [
             0.2,
             "#de77ae"
            ],
            [
             0.3,
             "#f1b6da"
            ],
            [
             0.4,
             "#fde0ef"
            ],
            [
             0.5,
             "#f7f7f7"
            ],
            [
             0.6,
             "#e6f5d0"
            ],
            [
             0.7,
             "#b8e186"
            ],
            [
             0.8,
             "#7fbc41"
            ],
            [
             0.9,
             "#4d9221"
            ],
            [
             1,
             "#276419"
            ]
           ],
           "sequential": [
            [
             0,
             "#0d0887"
            ],
            [
             0.1111111111111111,
             "#46039f"
            ],
            [
             0.2222222222222222,
             "#7201a8"
            ],
            [
             0.3333333333333333,
             "#9c179e"
            ],
            [
             0.4444444444444444,
             "#bd3786"
            ],
            [
             0.5555555555555556,
             "#d8576b"
            ],
            [
             0.6666666666666666,
             "#ed7953"
            ],
            [
             0.7777777777777778,
             "#fb9f3a"
            ],
            [
             0.8888888888888888,
             "#fdca26"
            ],
            [
             1,
             "#f0f921"
            ]
           ],
           "sequentialminus": [
            [
             0,
             "#0d0887"
            ],
            [
             0.1111111111111111,
             "#46039f"
            ],
            [
             0.2222222222222222,
             "#7201a8"
            ],
            [
             0.3333333333333333,
             "#9c179e"
            ],
            [
             0.4444444444444444,
             "#bd3786"
            ],
            [
             0.5555555555555556,
             "#d8576b"
            ],
            [
             0.6666666666666666,
             "#ed7953"
            ],
            [
             0.7777777777777778,
             "#fb9f3a"
            ],
            [
             0.8888888888888888,
             "#fdca26"
            ],
            [
             1,
             "#f0f921"
            ]
           ]
          },
          "colorway": [
           "#636efa",
           "#EF553B",
           "#00cc96",
           "#ab63fa",
           "#FFA15A",
           "#19d3f3",
           "#FF6692",
           "#B6E880",
           "#FF97FF",
           "#FECB52"
          ],
          "font": {
           "color": "#2a3f5f"
          },
          "geo": {
           "bgcolor": "white",
           "lakecolor": "white",
           "landcolor": "#E5ECF6",
           "showlakes": true,
           "showland": true,
           "subunitcolor": "white"
          },
          "hoverlabel": {
           "align": "left"
          },
          "hovermode": "closest",
          "mapbox": {
           "style": "light"
          },
          "paper_bgcolor": "white",
          "plot_bgcolor": "#E5ECF6",
          "polar": {
           "angularaxis": {
            "gridcolor": "white",
            "linecolor": "white",
            "ticks": ""
           },
           "bgcolor": "#E5ECF6",
           "radialaxis": {
            "gridcolor": "white",
            "linecolor": "white",
            "ticks": ""
           }
          },
          "scene": {
           "xaxis": {
            "backgroundcolor": "#E5ECF6",
            "gridcolor": "white",
            "gridwidth": 2,
            "linecolor": "white",
            "showbackground": true,
            "ticks": "",
            "zerolinecolor": "white"
           },
           "yaxis": {
            "backgroundcolor": "#E5ECF6",
            "gridcolor": "white",
            "gridwidth": 2,
            "linecolor": "white",
            "showbackground": true,
            "ticks": "",
            "zerolinecolor": "white"
           },
           "zaxis": {
            "backgroundcolor": "#E5ECF6",
            "gridcolor": "white",
            "gridwidth": 2,
            "linecolor": "white",
            "showbackground": true,
            "ticks": "",
            "zerolinecolor": "white"
           }
          },
          "shapedefaults": {
           "line": {
            "color": "#2a3f5f"
           }
          },
          "ternary": {
           "aaxis": {
            "gridcolor": "white",
            "linecolor": "white",
            "ticks": ""
           },
           "baxis": {
            "gridcolor": "white",
            "linecolor": "white",
            "ticks": ""
           },
           "bgcolor": "#E5ECF6",
           "caxis": {
            "gridcolor": "white",
            "linecolor": "white",
            "ticks": ""
           }
          },
          "title": {
           "x": 0.05
          },
          "xaxis": {
           "automargin": true,
           "gridcolor": "white",
           "linecolor": "white",
           "ticks": "",
           "title": {
            "standoff": 15
           },
           "zerolinecolor": "white",
           "zerolinewidth": 2
          },
          "yaxis": {
           "automargin": true,
           "gridcolor": "white",
           "linecolor": "white",
           "ticks": "",
           "title": {
            "standoff": 15
           },
           "zerolinecolor": "white",
           "zerolinewidth": 2
          }
         }
        },
        "title": {
         "text": "Comparaison des simulations pour Qdot_top - Cas 1"
        },
        "xaxis": {
         "tickmode": "array",
         "ticktext": [
          "Part 1",
          "Part 2",
          "Part 3",
          "Part 4",
          "Part 5",
          "Part 6",
          "Part 7"
         ],
         "tickvals": [
          1,
          2,
          3,
          4,
          5,
          6,
          7
         ],
         "title": {
          "text": "Parties"
         }
        },
        "yaxis": {
         "title": {
          "text": "Qdot_top"
         }
        }
       }
      }
     },
     "metadata": {},
     "output_type": "display_data"
    },
    {
     "data": {
      "application/vnd.plotly.v1+json": {
       "config": {
        "plotlyServerURL": "https://plot.ly"
       },
       "data": [
        {
         "marker": {
          "color": "#1f77b4"
         },
         "name": "Simulation M1",
         "opacity": 0.8,
         "type": "bar",
         "width": 0.26666666666666666,
         "x": [
          0.7333333333333334,
          1.7333333333333334,
          2.7333333333333334,
          3.7333333333333334,
          4.733333333333333,
          5.733333333333333,
          6.733333333333333
         ],
         "y": [
          0.000001,
          0.000001,
          -79.73180900000001,
          0.000001,
          -63.243722999999996,
          0.000001,
          0.000001
         ]
        },
        {
         "marker": {
          "color": "#ff7f0e"
         },
         "name": "Simulation M2",
         "opacity": 0.8,
         "type": "bar",
         "width": 0.26666666666666666,
         "x": [
          1,
          2,
          3,
          4,
          5,
          6,
          7
         ],
         "y": [
          0.000001,
          0.000001,
          -79.8274645,
          0.000001,
          -63.112356999999996,
          0.000001,
          0.000001
         ]
        },
        {
         "marker": {
          "color": "#2ca02c"
         },
         "name": "Simulation M3",
         "opacity": 0.8,
         "type": "bar",
         "width": 0.26666666666666666,
         "x": [
          1.2666666666666666,
          2.2666666666666666,
          3.2666666666666666,
          4.266666666666667,
          5.266666666666667,
          6.266666666666667,
          7.266666666666667
         ],
         "y": [
          0.000001,
          0.000001,
          -79.86752125000001,
          0.000001,
          -62.98528975,
          0.000001,
          0.000001
         ]
        }
       ],
       "layout": {
        "barmode": "group",
        "legend": {
         "title": {
          "text": "Simulation"
         }
        },
        "template": {
         "data": {
          "bar": [
           {
            "error_x": {
             "color": "#2a3f5f"
            },
            "error_y": {
             "color": "#2a3f5f"
            },
            "marker": {
             "line": {
              "color": "#E5ECF6",
              "width": 0.5
             },
             "pattern": {
              "fillmode": "overlay",
              "size": 10,
              "solidity": 0.2
             }
            },
            "type": "bar"
           }
          ],
          "barpolar": [
           {
            "marker": {
             "line": {
              "color": "#E5ECF6",
              "width": 0.5
             },
             "pattern": {
              "fillmode": "overlay",
              "size": 10,
              "solidity": 0.2
             }
            },
            "type": "barpolar"
           }
          ],
          "carpet": [
           {
            "aaxis": {
             "endlinecolor": "#2a3f5f",
             "gridcolor": "white",
             "linecolor": "white",
             "minorgridcolor": "white",
             "startlinecolor": "#2a3f5f"
            },
            "baxis": {
             "endlinecolor": "#2a3f5f",
             "gridcolor": "white",
             "linecolor": "white",
             "minorgridcolor": "white",
             "startlinecolor": "#2a3f5f"
            },
            "type": "carpet"
           }
          ],
          "choropleth": [
           {
            "colorbar": {
             "outlinewidth": 0,
             "ticks": ""
            },
            "type": "choropleth"
           }
          ],
          "contour": [
           {
            "colorbar": {
             "outlinewidth": 0,
             "ticks": ""
            },
            "colorscale": [
             [
              0,
              "#0d0887"
             ],
             [
              0.1111111111111111,
              "#46039f"
             ],
             [
              0.2222222222222222,
              "#7201a8"
             ],
             [
              0.3333333333333333,
              "#9c179e"
             ],
             [
              0.4444444444444444,
              "#bd3786"
             ],
             [
              0.5555555555555556,
              "#d8576b"
             ],
             [
              0.6666666666666666,
              "#ed7953"
             ],
             [
              0.7777777777777778,
              "#fb9f3a"
             ],
             [
              0.8888888888888888,
              "#fdca26"
             ],
             [
              1,
              "#f0f921"
             ]
            ],
            "type": "contour"
           }
          ],
          "contourcarpet": [
           {
            "colorbar": {
             "outlinewidth": 0,
             "ticks": ""
            },
            "type": "contourcarpet"
           }
          ],
          "heatmap": [
           {
            "colorbar": {
             "outlinewidth": 0,
             "ticks": ""
            },
            "colorscale": [
             [
              0,
              "#0d0887"
             ],
             [
              0.1111111111111111,
              "#46039f"
             ],
             [
              0.2222222222222222,
              "#7201a8"
             ],
             [
              0.3333333333333333,
              "#9c179e"
             ],
             [
              0.4444444444444444,
              "#bd3786"
             ],
             [
              0.5555555555555556,
              "#d8576b"
             ],
             [
              0.6666666666666666,
              "#ed7953"
             ],
             [
              0.7777777777777778,
              "#fb9f3a"
             ],
             [
              0.8888888888888888,
              "#fdca26"
             ],
             [
              1,
              "#f0f921"
             ]
            ],
            "type": "heatmap"
           }
          ],
          "heatmapgl": [
           {
            "colorbar": {
             "outlinewidth": 0,
             "ticks": ""
            },
            "colorscale": [
             [
              0,
              "#0d0887"
             ],
             [
              0.1111111111111111,
              "#46039f"
             ],
             [
              0.2222222222222222,
              "#7201a8"
             ],
             [
              0.3333333333333333,
              "#9c179e"
             ],
             [
              0.4444444444444444,
              "#bd3786"
             ],
             [
              0.5555555555555556,
              "#d8576b"
             ],
             [
              0.6666666666666666,
              "#ed7953"
             ],
             [
              0.7777777777777778,
              "#fb9f3a"
             ],
             [
              0.8888888888888888,
              "#fdca26"
             ],
             [
              1,
              "#f0f921"
             ]
            ],
            "type": "heatmapgl"
           }
          ],
          "histogram": [
           {
            "marker": {
             "pattern": {
              "fillmode": "overlay",
              "size": 10,
              "solidity": 0.2
             }
            },
            "type": "histogram"
           }
          ],
          "histogram2d": [
           {
            "colorbar": {
             "outlinewidth": 0,
             "ticks": ""
            },
            "colorscale": [
             [
              0,
              "#0d0887"
             ],
             [
              0.1111111111111111,
              "#46039f"
             ],
             [
              0.2222222222222222,
              "#7201a8"
             ],
             [
              0.3333333333333333,
              "#9c179e"
             ],
             [
              0.4444444444444444,
              "#bd3786"
             ],
             [
              0.5555555555555556,
              "#d8576b"
             ],
             [
              0.6666666666666666,
              "#ed7953"
             ],
             [
              0.7777777777777778,
              "#fb9f3a"
             ],
             [
              0.8888888888888888,
              "#fdca26"
             ],
             [
              1,
              "#f0f921"
             ]
            ],
            "type": "histogram2d"
           }
          ],
          "histogram2dcontour": [
           {
            "colorbar": {
             "outlinewidth": 0,
             "ticks": ""
            },
            "colorscale": [
             [
              0,
              "#0d0887"
             ],
             [
              0.1111111111111111,
              "#46039f"
             ],
             [
              0.2222222222222222,
              "#7201a8"
             ],
             [
              0.3333333333333333,
              "#9c179e"
             ],
             [
              0.4444444444444444,
              "#bd3786"
             ],
             [
              0.5555555555555556,
              "#d8576b"
             ],
             [
              0.6666666666666666,
              "#ed7953"
             ],
             [
              0.7777777777777778,
              "#fb9f3a"
             ],
             [
              0.8888888888888888,
              "#fdca26"
             ],
             [
              1,
              "#f0f921"
             ]
            ],
            "type": "histogram2dcontour"
           }
          ],
          "mesh3d": [
           {
            "colorbar": {
             "outlinewidth": 0,
             "ticks": ""
            },
            "type": "mesh3d"
           }
          ],
          "parcoords": [
           {
            "line": {
             "colorbar": {
              "outlinewidth": 0,
              "ticks": ""
             }
            },
            "type": "parcoords"
           }
          ],
          "pie": [
           {
            "automargin": true,
            "type": "pie"
           }
          ],
          "scatter": [
           {
            "fillpattern": {
             "fillmode": "overlay",
             "size": 10,
             "solidity": 0.2
            },
            "type": "scatter"
           }
          ],
          "scatter3d": [
           {
            "line": {
             "colorbar": {
              "outlinewidth": 0,
              "ticks": ""
             }
            },
            "marker": {
             "colorbar": {
              "outlinewidth": 0,
              "ticks": ""
             }
            },
            "type": "scatter3d"
           }
          ],
          "scattercarpet": [
           {
            "marker": {
             "colorbar": {
              "outlinewidth": 0,
              "ticks": ""
             }
            },
            "type": "scattercarpet"
           }
          ],
          "scattergeo": [
           {
            "marker": {
             "colorbar": {
              "outlinewidth": 0,
              "ticks": ""
             }
            },
            "type": "scattergeo"
           }
          ],
          "scattergl": [
           {
            "marker": {
             "colorbar": {
              "outlinewidth": 0,
              "ticks": ""
             }
            },
            "type": "scattergl"
           }
          ],
          "scattermapbox": [
           {
            "marker": {
             "colorbar": {
              "outlinewidth": 0,
              "ticks": ""
             }
            },
            "type": "scattermapbox"
           }
          ],
          "scatterpolar": [
           {
            "marker": {
             "colorbar": {
              "outlinewidth": 0,
              "ticks": ""
             }
            },
            "type": "scatterpolar"
           }
          ],
          "scatterpolargl": [
           {
            "marker": {
             "colorbar": {
              "outlinewidth": 0,
              "ticks": ""
             }
            },
            "type": "scatterpolargl"
           }
          ],
          "scatterternary": [
           {
            "marker": {
             "colorbar": {
              "outlinewidth": 0,
              "ticks": ""
             }
            },
            "type": "scatterternary"
           }
          ],
          "surface": [
           {
            "colorbar": {
             "outlinewidth": 0,
             "ticks": ""
            },
            "colorscale": [
             [
              0,
              "#0d0887"
             ],
             [
              0.1111111111111111,
              "#46039f"
             ],
             [
              0.2222222222222222,
              "#7201a8"
             ],
             [
              0.3333333333333333,
              "#9c179e"
             ],
             [
              0.4444444444444444,
              "#bd3786"
             ],
             [
              0.5555555555555556,
              "#d8576b"
             ],
             [
              0.6666666666666666,
              "#ed7953"
             ],
             [
              0.7777777777777778,
              "#fb9f3a"
             ],
             [
              0.8888888888888888,
              "#fdca26"
             ],
             [
              1,
              "#f0f921"
             ]
            ],
            "type": "surface"
           }
          ],
          "table": [
           {
            "cells": {
             "fill": {
              "color": "#EBF0F8"
             },
             "line": {
              "color": "white"
             }
            },
            "header": {
             "fill": {
              "color": "#C8D4E3"
             },
             "line": {
              "color": "white"
             }
            },
            "type": "table"
           }
          ]
         },
         "layout": {
          "annotationdefaults": {
           "arrowcolor": "#2a3f5f",
           "arrowhead": 0,
           "arrowwidth": 1
          },
          "autotypenumbers": "strict",
          "coloraxis": {
           "colorbar": {
            "outlinewidth": 0,
            "ticks": ""
           }
          },
          "colorscale": {
           "diverging": [
            [
             0,
             "#8e0152"
            ],
            [
             0.1,
             "#c51b7d"
            ],
            [
             0.2,
             "#de77ae"
            ],
            [
             0.3,
             "#f1b6da"
            ],
            [
             0.4,
             "#fde0ef"
            ],
            [
             0.5,
             "#f7f7f7"
            ],
            [
             0.6,
             "#e6f5d0"
            ],
            [
             0.7,
             "#b8e186"
            ],
            [
             0.8,
             "#7fbc41"
            ],
            [
             0.9,
             "#4d9221"
            ],
            [
             1,
             "#276419"
            ]
           ],
           "sequential": [
            [
             0,
             "#0d0887"
            ],
            [
             0.1111111111111111,
             "#46039f"
            ],
            [
             0.2222222222222222,
             "#7201a8"
            ],
            [
             0.3333333333333333,
             "#9c179e"
            ],
            [
             0.4444444444444444,
             "#bd3786"
            ],
            [
             0.5555555555555556,
             "#d8576b"
            ],
            [
             0.6666666666666666,
             "#ed7953"
            ],
            [
             0.7777777777777778,
             "#fb9f3a"
            ],
            [
             0.8888888888888888,
             "#fdca26"
            ],
            [
             1,
             "#f0f921"
            ]
           ],
           "sequentialminus": [
            [
             0,
             "#0d0887"
            ],
            [
             0.1111111111111111,
             "#46039f"
            ],
            [
             0.2222222222222222,
             "#7201a8"
            ],
            [
             0.3333333333333333,
             "#9c179e"
            ],
            [
             0.4444444444444444,
             "#bd3786"
            ],
            [
             0.5555555555555556,
             "#d8576b"
            ],
            [
             0.6666666666666666,
             "#ed7953"
            ],
            [
             0.7777777777777778,
             "#fb9f3a"
            ],
            [
             0.8888888888888888,
             "#fdca26"
            ],
            [
             1,
             "#f0f921"
            ]
           ]
          },
          "colorway": [
           "#636efa",
           "#EF553B",
           "#00cc96",
           "#ab63fa",
           "#FFA15A",
           "#19d3f3",
           "#FF6692",
           "#B6E880",
           "#FF97FF",
           "#FECB52"
          ],
          "font": {
           "color": "#2a3f5f"
          },
          "geo": {
           "bgcolor": "white",
           "lakecolor": "white",
           "landcolor": "#E5ECF6",
           "showlakes": true,
           "showland": true,
           "subunitcolor": "white"
          },
          "hoverlabel": {
           "align": "left"
          },
          "hovermode": "closest",
          "mapbox": {
           "style": "light"
          },
          "paper_bgcolor": "white",
          "plot_bgcolor": "#E5ECF6",
          "polar": {
           "angularaxis": {
            "gridcolor": "white",
            "linecolor": "white",
            "ticks": ""
           },
           "bgcolor": "#E5ECF6",
           "radialaxis": {
            "gridcolor": "white",
            "linecolor": "white",
            "ticks": ""
           }
          },
          "scene": {
           "xaxis": {
            "backgroundcolor": "#E5ECF6",
            "gridcolor": "white",
            "gridwidth": 2,
            "linecolor": "white",
            "showbackground": true,
            "ticks": "",
            "zerolinecolor": "white"
           },
           "yaxis": {
            "backgroundcolor": "#E5ECF6",
            "gridcolor": "white",
            "gridwidth": 2,
            "linecolor": "white",
            "showbackground": true,
            "ticks": "",
            "zerolinecolor": "white"
           },
           "zaxis": {
            "backgroundcolor": "#E5ECF6",
            "gridcolor": "white",
            "gridwidth": 2,
            "linecolor": "white",
            "showbackground": true,
            "ticks": "",
            "zerolinecolor": "white"
           }
          },
          "shapedefaults": {
           "line": {
            "color": "#2a3f5f"
           }
          },
          "ternary": {
           "aaxis": {
            "gridcolor": "white",
            "linecolor": "white",
            "ticks": ""
           },
           "baxis": {
            "gridcolor": "white",
            "linecolor": "white",
            "ticks": ""
           },
           "bgcolor": "#E5ECF6",
           "caxis": {
            "gridcolor": "white",
            "linecolor": "white",
            "ticks": ""
           }
          },
          "title": {
           "x": 0.05
          },
          "xaxis": {
           "automargin": true,
           "gridcolor": "white",
           "linecolor": "white",
           "ticks": "",
           "title": {
            "standoff": 15
           },
           "zerolinecolor": "white",
           "zerolinewidth": 2
          },
          "yaxis": {
           "automargin": true,
           "gridcolor": "white",
           "linecolor": "white",
           "ticks": "",
           "title": {
            "standoff": 15
           },
           "zerolinecolor": "white",
           "zerolinewidth": 2
          }
         }
        },
        "title": {
         "text": "Comparaison des simulations pour Qdot_top - Cas 2"
        },
        "xaxis": {
         "tickmode": "array",
         "ticktext": [
          "Part 1",
          "Part 2",
          "Part 3",
          "Part 4",
          "Part 5",
          "Part 6",
          "Part 7"
         ],
         "tickvals": [
          1,
          2,
          3,
          4,
          5,
          6,
          7
         ],
         "title": {
          "text": "Parties"
         }
        },
        "yaxis": {
         "title": {
          "text": "Qdot_top"
         }
        }
       }
      }
     },
     "metadata": {},
     "output_type": "display_data"
    },
    {
     "data": {
      "application/vnd.plotly.v1+json": {
       "config": {
        "plotlyServerURL": "https://plot.ly"
       },
       "data": [
        {
         "marker": {
          "color": "#1f77b4"
         },
         "name": "Simulation M1",
         "opacity": 0.8,
         "type": "bar",
         "width": 0.26666666666666666,
         "x": [
          0.7333333333333334,
          1.7333333333333334,
          2.7333333333333334,
          3.7333333333333334,
          4.733333333333333,
          5.733333333333333,
          6.733333333333333
         ],
         "y": [
          0.000001,
          0.000001,
          -63.2823405,
          0.000001,
          -50.71180275,
          0.000001,
          0.000001
         ]
        },
        {
         "marker": {
          "color": "#ff7f0e"
         },
         "name": "Simulation M2",
         "opacity": 0.8,
         "type": "bar",
         "width": 0.26666666666666666,
         "x": [
          1,
          2,
          3,
          4,
          5,
          6,
          7
         ],
         "y": [
          0.000001,
          0.000001,
          -63.42814175,
          0.000001,
          -50.5049355,
          0.000001,
          0.000001
         ]
        },
        {
         "marker": {
          "color": "#2ca02c"
         },
         "name": "Simulation M3",
         "opacity": 0.8,
         "type": "bar",
         "width": 0.26666666666666666,
         "x": [
          1.2666666666666666,
          2.2666666666666666,
          3.2666666666666666,
          4.266666666666667,
          5.266666666666667,
          6.266666666666667,
          7.266666666666667
         ],
         "y": [
          0.000001,
          0.000001,
          -63.437086,
          0.000001,
          -50.68199175,
          0.000001,
          0.000001
         ]
        }
       ],
       "layout": {
        "barmode": "group",
        "legend": {
         "title": {
          "text": "Simulation"
         }
        },
        "template": {
         "data": {
          "bar": [
           {
            "error_x": {
             "color": "#2a3f5f"
            },
            "error_y": {
             "color": "#2a3f5f"
            },
            "marker": {
             "line": {
              "color": "#E5ECF6",
              "width": 0.5
             },
             "pattern": {
              "fillmode": "overlay",
              "size": 10,
              "solidity": 0.2
             }
            },
            "type": "bar"
           }
          ],
          "barpolar": [
           {
            "marker": {
             "line": {
              "color": "#E5ECF6",
              "width": 0.5
             },
             "pattern": {
              "fillmode": "overlay",
              "size": 10,
              "solidity": 0.2
             }
            },
            "type": "barpolar"
           }
          ],
          "carpet": [
           {
            "aaxis": {
             "endlinecolor": "#2a3f5f",
             "gridcolor": "white",
             "linecolor": "white",
             "minorgridcolor": "white",
             "startlinecolor": "#2a3f5f"
            },
            "baxis": {
             "endlinecolor": "#2a3f5f",
             "gridcolor": "white",
             "linecolor": "white",
             "minorgridcolor": "white",
             "startlinecolor": "#2a3f5f"
            },
            "type": "carpet"
           }
          ],
          "choropleth": [
           {
            "colorbar": {
             "outlinewidth": 0,
             "ticks": ""
            },
            "type": "choropleth"
           }
          ],
          "contour": [
           {
            "colorbar": {
             "outlinewidth": 0,
             "ticks": ""
            },
            "colorscale": [
             [
              0,
              "#0d0887"
             ],
             [
              0.1111111111111111,
              "#46039f"
             ],
             [
              0.2222222222222222,
              "#7201a8"
             ],
             [
              0.3333333333333333,
              "#9c179e"
             ],
             [
              0.4444444444444444,
              "#bd3786"
             ],
             [
              0.5555555555555556,
              "#d8576b"
             ],
             [
              0.6666666666666666,
              "#ed7953"
             ],
             [
              0.7777777777777778,
              "#fb9f3a"
             ],
             [
              0.8888888888888888,
              "#fdca26"
             ],
             [
              1,
              "#f0f921"
             ]
            ],
            "type": "contour"
           }
          ],
          "contourcarpet": [
           {
            "colorbar": {
             "outlinewidth": 0,
             "ticks": ""
            },
            "type": "contourcarpet"
           }
          ],
          "heatmap": [
           {
            "colorbar": {
             "outlinewidth": 0,
             "ticks": ""
            },
            "colorscale": [
             [
              0,
              "#0d0887"
             ],
             [
              0.1111111111111111,
              "#46039f"
             ],
             [
              0.2222222222222222,
              "#7201a8"
             ],
             [
              0.3333333333333333,
              "#9c179e"
             ],
             [
              0.4444444444444444,
              "#bd3786"
             ],
             [
              0.5555555555555556,
              "#d8576b"
             ],
             [
              0.6666666666666666,
              "#ed7953"
             ],
             [
              0.7777777777777778,
              "#fb9f3a"
             ],
             [
              0.8888888888888888,
              "#fdca26"
             ],
             [
              1,
              "#f0f921"
             ]
            ],
            "type": "heatmap"
           }
          ],
          "heatmapgl": [
           {
            "colorbar": {
             "outlinewidth": 0,
             "ticks": ""
            },
            "colorscale": [
             [
              0,
              "#0d0887"
             ],
             [
              0.1111111111111111,
              "#46039f"
             ],
             [
              0.2222222222222222,
              "#7201a8"
             ],
             [
              0.3333333333333333,
              "#9c179e"
             ],
             [
              0.4444444444444444,
              "#bd3786"
             ],
             [
              0.5555555555555556,
              "#d8576b"
             ],
             [
              0.6666666666666666,
              "#ed7953"
             ],
             [
              0.7777777777777778,
              "#fb9f3a"
             ],
             [
              0.8888888888888888,
              "#fdca26"
             ],
             [
              1,
              "#f0f921"
             ]
            ],
            "type": "heatmapgl"
           }
          ],
          "histogram": [
           {
            "marker": {
             "pattern": {
              "fillmode": "overlay",
              "size": 10,
              "solidity": 0.2
             }
            },
            "type": "histogram"
           }
          ],
          "histogram2d": [
           {
            "colorbar": {
             "outlinewidth": 0,
             "ticks": ""
            },
            "colorscale": [
             [
              0,
              "#0d0887"
             ],
             [
              0.1111111111111111,
              "#46039f"
             ],
             [
              0.2222222222222222,
              "#7201a8"
             ],
             [
              0.3333333333333333,
              "#9c179e"
             ],
             [
              0.4444444444444444,
              "#bd3786"
             ],
             [
              0.5555555555555556,
              "#d8576b"
             ],
             [
              0.6666666666666666,
              "#ed7953"
             ],
             [
              0.7777777777777778,
              "#fb9f3a"
             ],
             [
              0.8888888888888888,
              "#fdca26"
             ],
             [
              1,
              "#f0f921"
             ]
            ],
            "type": "histogram2d"
           }
          ],
          "histogram2dcontour": [
           {
            "colorbar": {
             "outlinewidth": 0,
             "ticks": ""
            },
            "colorscale": [
             [
              0,
              "#0d0887"
             ],
             [
              0.1111111111111111,
              "#46039f"
             ],
             [
              0.2222222222222222,
              "#7201a8"
             ],
             [
              0.3333333333333333,
              "#9c179e"
             ],
             [
              0.4444444444444444,
              "#bd3786"
             ],
             [
              0.5555555555555556,
              "#d8576b"
             ],
             [
              0.6666666666666666,
              "#ed7953"
             ],
             [
              0.7777777777777778,
              "#fb9f3a"
             ],
             [
              0.8888888888888888,
              "#fdca26"
             ],
             [
              1,
              "#f0f921"
             ]
            ],
            "type": "histogram2dcontour"
           }
          ],
          "mesh3d": [
           {
            "colorbar": {
             "outlinewidth": 0,
             "ticks": ""
            },
            "type": "mesh3d"
           }
          ],
          "parcoords": [
           {
            "line": {
             "colorbar": {
              "outlinewidth": 0,
              "ticks": ""
             }
            },
            "type": "parcoords"
           }
          ],
          "pie": [
           {
            "automargin": true,
            "type": "pie"
           }
          ],
          "scatter": [
           {
            "fillpattern": {
             "fillmode": "overlay",
             "size": 10,
             "solidity": 0.2
            },
            "type": "scatter"
           }
          ],
          "scatter3d": [
           {
            "line": {
             "colorbar": {
              "outlinewidth": 0,
              "ticks": ""
             }
            },
            "marker": {
             "colorbar": {
              "outlinewidth": 0,
              "ticks": ""
             }
            },
            "type": "scatter3d"
           }
          ],
          "scattercarpet": [
           {
            "marker": {
             "colorbar": {
              "outlinewidth": 0,
              "ticks": ""
             }
            },
            "type": "scattercarpet"
           }
          ],
          "scattergeo": [
           {
            "marker": {
             "colorbar": {
              "outlinewidth": 0,
              "ticks": ""
             }
            },
            "type": "scattergeo"
           }
          ],
          "scattergl": [
           {
            "marker": {
             "colorbar": {
              "outlinewidth": 0,
              "ticks": ""
             }
            },
            "type": "scattergl"
           }
          ],
          "scattermapbox": [
           {
            "marker": {
             "colorbar": {
              "outlinewidth": 0,
              "ticks": ""
             }
            },
            "type": "scattermapbox"
           }
          ],
          "scatterpolar": [
           {
            "marker": {
             "colorbar": {
              "outlinewidth": 0,
              "ticks": ""
             }
            },
            "type": "scatterpolar"
           }
          ],
          "scatterpolargl": [
           {
            "marker": {
             "colorbar": {
              "outlinewidth": 0,
              "ticks": ""
             }
            },
            "type": "scatterpolargl"
           }
          ],
          "scatterternary": [
           {
            "marker": {
             "colorbar": {
              "outlinewidth": 0,
              "ticks": ""
             }
            },
            "type": "scatterternary"
           }
          ],
          "surface": [
           {
            "colorbar": {
             "outlinewidth": 0,
             "ticks": ""
            },
            "colorscale": [
             [
              0,
              "#0d0887"
             ],
             [
              0.1111111111111111,
              "#46039f"
             ],
             [
              0.2222222222222222,
              "#7201a8"
             ],
             [
              0.3333333333333333,
              "#9c179e"
             ],
             [
              0.4444444444444444,
              "#bd3786"
             ],
             [
              0.5555555555555556,
              "#d8576b"
             ],
             [
              0.6666666666666666,
              "#ed7953"
             ],
             [
              0.7777777777777778,
              "#fb9f3a"
             ],
             [
              0.8888888888888888,
              "#fdca26"
             ],
             [
              1,
              "#f0f921"
             ]
            ],
            "type": "surface"
           }
          ],
          "table": [
           {
            "cells": {
             "fill": {
              "color": "#EBF0F8"
             },
             "line": {
              "color": "white"
             }
            },
            "header": {
             "fill": {
              "color": "#C8D4E3"
             },
             "line": {
              "color": "white"
             }
            },
            "type": "table"
           }
          ]
         },
         "layout": {
          "annotationdefaults": {
           "arrowcolor": "#2a3f5f",
           "arrowhead": 0,
           "arrowwidth": 1
          },
          "autotypenumbers": "strict",
          "coloraxis": {
           "colorbar": {
            "outlinewidth": 0,
            "ticks": ""
           }
          },
          "colorscale": {
           "diverging": [
            [
             0,
             "#8e0152"
            ],
            [
             0.1,
             "#c51b7d"
            ],
            [
             0.2,
             "#de77ae"
            ],
            [
             0.3,
             "#f1b6da"
            ],
            [
             0.4,
             "#fde0ef"
            ],
            [
             0.5,
             "#f7f7f7"
            ],
            [
             0.6,
             "#e6f5d0"
            ],
            [
             0.7,
             "#b8e186"
            ],
            [
             0.8,
             "#7fbc41"
            ],
            [
             0.9,
             "#4d9221"
            ],
            [
             1,
             "#276419"
            ]
           ],
           "sequential": [
            [
             0,
             "#0d0887"
            ],
            [
             0.1111111111111111,
             "#46039f"
            ],
            [
             0.2222222222222222,
             "#7201a8"
            ],
            [
             0.3333333333333333,
             "#9c179e"
            ],
            [
             0.4444444444444444,
             "#bd3786"
            ],
            [
             0.5555555555555556,
             "#d8576b"
            ],
            [
             0.6666666666666666,
             "#ed7953"
            ],
            [
             0.7777777777777778,
             "#fb9f3a"
            ],
            [
             0.8888888888888888,
             "#fdca26"
            ],
            [
             1,
             "#f0f921"
            ]
           ],
           "sequentialminus": [
            [
             0,
             "#0d0887"
            ],
            [
             0.1111111111111111,
             "#46039f"
            ],
            [
             0.2222222222222222,
             "#7201a8"
            ],
            [
             0.3333333333333333,
             "#9c179e"
            ],
            [
             0.4444444444444444,
             "#bd3786"
            ],
            [
             0.5555555555555556,
             "#d8576b"
            ],
            [
             0.6666666666666666,
             "#ed7953"
            ],
            [
             0.7777777777777778,
             "#fb9f3a"
            ],
            [
             0.8888888888888888,
             "#fdca26"
            ],
            [
             1,
             "#f0f921"
            ]
           ]
          },
          "colorway": [
           "#636efa",
           "#EF553B",
           "#00cc96",
           "#ab63fa",
           "#FFA15A",
           "#19d3f3",
           "#FF6692",
           "#B6E880",
           "#FF97FF",
           "#FECB52"
          ],
          "font": {
           "color": "#2a3f5f"
          },
          "geo": {
           "bgcolor": "white",
           "lakecolor": "white",
           "landcolor": "#E5ECF6",
           "showlakes": true,
           "showland": true,
           "subunitcolor": "white"
          },
          "hoverlabel": {
           "align": "left"
          },
          "hovermode": "closest",
          "mapbox": {
           "style": "light"
          },
          "paper_bgcolor": "white",
          "plot_bgcolor": "#E5ECF6",
          "polar": {
           "angularaxis": {
            "gridcolor": "white",
            "linecolor": "white",
            "ticks": ""
           },
           "bgcolor": "#E5ECF6",
           "radialaxis": {
            "gridcolor": "white",
            "linecolor": "white",
            "ticks": ""
           }
          },
          "scene": {
           "xaxis": {
            "backgroundcolor": "#E5ECF6",
            "gridcolor": "white",
            "gridwidth": 2,
            "linecolor": "white",
            "showbackground": true,
            "ticks": "",
            "zerolinecolor": "white"
           },
           "yaxis": {
            "backgroundcolor": "#E5ECF6",
            "gridcolor": "white",
            "gridwidth": 2,
            "linecolor": "white",
            "showbackground": true,
            "ticks": "",
            "zerolinecolor": "white"
           },
           "zaxis": {
            "backgroundcolor": "#E5ECF6",
            "gridcolor": "white",
            "gridwidth": 2,
            "linecolor": "white",
            "showbackground": true,
            "ticks": "",
            "zerolinecolor": "white"
           }
          },
          "shapedefaults": {
           "line": {
            "color": "#2a3f5f"
           }
          },
          "ternary": {
           "aaxis": {
            "gridcolor": "white",
            "linecolor": "white",
            "ticks": ""
           },
           "baxis": {
            "gridcolor": "white",
            "linecolor": "white",
            "ticks": ""
           },
           "bgcolor": "#E5ECF6",
           "caxis": {
            "gridcolor": "white",
            "linecolor": "white",
            "ticks": ""
           }
          },
          "title": {
           "x": 0.05
          },
          "xaxis": {
           "automargin": true,
           "gridcolor": "white",
           "linecolor": "white",
           "ticks": "",
           "title": {
            "standoff": 15
           },
           "zerolinecolor": "white",
           "zerolinewidth": 2
          },
          "yaxis": {
           "automargin": true,
           "gridcolor": "white",
           "linecolor": "white",
           "ticks": "",
           "title": {
            "standoff": 15
           },
           "zerolinecolor": "white",
           "zerolinewidth": 2
          }
         }
        },
        "title": {
         "text": "Comparaison des simulations pour Qdot_top - Cas 3"
        },
        "xaxis": {
         "tickmode": "array",
         "ticktext": [
          "Part 1",
          "Part 2",
          "Part 3",
          "Part 4",
          "Part 5",
          "Part 6",
          "Part 7"
         ],
         "tickvals": [
          1,
          2,
          3,
          4,
          5,
          6,
          7
         ],
         "title": {
          "text": "Parties"
         }
        },
        "yaxis": {
         "title": {
          "text": "Qdot_top"
         }
        }
       }
      }
     },
     "metadata": {},
     "output_type": "display_data"
    },
    {
     "data": {
      "application/vnd.plotly.v1+json": {
       "config": {
        "plotlyServerURL": "https://plot.ly"
       },
       "data": [
        {
         "marker": {
          "color": "#1f77b4"
         },
         "name": "Simulation M1",
         "opacity": 0.8,
         "type": "bar",
         "width": 0.26666666666666666,
         "x": [
          0.7333333333333334,
          1.7333333333333334,
          2.7333333333333334,
          3.7333333333333334,
          4.733333333333333,
          5.733333333333333,
          6.733333333333333
         ],
         "y": [
          0.000001,
          0.000001,
          -47.061465749999996,
          0.000001,
          -38.14289045,
          0.000001,
          0.000001
         ]
        },
        {
         "marker": {
          "color": "#ff7f0e"
         },
         "name": "Simulation M2",
         "opacity": 0.8,
         "type": "bar",
         "width": 0.26666666666666666,
         "x": [
          1,
          2,
          3,
          4,
          5,
          6,
          7
         ],
         "y": [
          0.000001,
          0.000001,
          -47.14217395,
          0.000001,
          -38.150854775,
          0.000001,
          0.000001
         ]
        },
        {
         "marker": {
          "color": "#2ca02c"
         },
         "name": "Simulation M3",
         "opacity": 0.8,
         "type": "bar",
         "width": 0.26666666666666666,
         "x": [
          1.2666666666666666,
          2.2666666666666666,
          3.2666666666666666,
          4.266666666666667,
          5.266666666666667,
          6.266666666666667,
          7.266666666666667
         ],
         "y": [
          0.000001,
          0.000001,
          -47.135385725,
          0.000001,
          -38.200298000000004,
          0.000001,
          0.000001
         ]
        }
       ],
       "layout": {
        "barmode": "group",
        "legend": {
         "title": {
          "text": "Simulation"
         }
        },
        "template": {
         "data": {
          "bar": [
           {
            "error_x": {
             "color": "#2a3f5f"
            },
            "error_y": {
             "color": "#2a3f5f"
            },
            "marker": {
             "line": {
              "color": "#E5ECF6",
              "width": 0.5
             },
             "pattern": {
              "fillmode": "overlay",
              "size": 10,
              "solidity": 0.2
             }
            },
            "type": "bar"
           }
          ],
          "barpolar": [
           {
            "marker": {
             "line": {
              "color": "#E5ECF6",
              "width": 0.5
             },
             "pattern": {
              "fillmode": "overlay",
              "size": 10,
              "solidity": 0.2
             }
            },
            "type": "barpolar"
           }
          ],
          "carpet": [
           {
            "aaxis": {
             "endlinecolor": "#2a3f5f",
             "gridcolor": "white",
             "linecolor": "white",
             "minorgridcolor": "white",
             "startlinecolor": "#2a3f5f"
            },
            "baxis": {
             "endlinecolor": "#2a3f5f",
             "gridcolor": "white",
             "linecolor": "white",
             "minorgridcolor": "white",
             "startlinecolor": "#2a3f5f"
            },
            "type": "carpet"
           }
          ],
          "choropleth": [
           {
            "colorbar": {
             "outlinewidth": 0,
             "ticks": ""
            },
            "type": "choropleth"
           }
          ],
          "contour": [
           {
            "colorbar": {
             "outlinewidth": 0,
             "ticks": ""
            },
            "colorscale": [
             [
              0,
              "#0d0887"
             ],
             [
              0.1111111111111111,
              "#46039f"
             ],
             [
              0.2222222222222222,
              "#7201a8"
             ],
             [
              0.3333333333333333,
              "#9c179e"
             ],
             [
              0.4444444444444444,
              "#bd3786"
             ],
             [
              0.5555555555555556,
              "#d8576b"
             ],
             [
              0.6666666666666666,
              "#ed7953"
             ],
             [
              0.7777777777777778,
              "#fb9f3a"
             ],
             [
              0.8888888888888888,
              "#fdca26"
             ],
             [
              1,
              "#f0f921"
             ]
            ],
            "type": "contour"
           }
          ],
          "contourcarpet": [
           {
            "colorbar": {
             "outlinewidth": 0,
             "ticks": ""
            },
            "type": "contourcarpet"
           }
          ],
          "heatmap": [
           {
            "colorbar": {
             "outlinewidth": 0,
             "ticks": ""
            },
            "colorscale": [
             [
              0,
              "#0d0887"
             ],
             [
              0.1111111111111111,
              "#46039f"
             ],
             [
              0.2222222222222222,
              "#7201a8"
             ],
             [
              0.3333333333333333,
              "#9c179e"
             ],
             [
              0.4444444444444444,
              "#bd3786"
             ],
             [
              0.5555555555555556,
              "#d8576b"
             ],
             [
              0.6666666666666666,
              "#ed7953"
             ],
             [
              0.7777777777777778,
              "#fb9f3a"
             ],
             [
              0.8888888888888888,
              "#fdca26"
             ],
             [
              1,
              "#f0f921"
             ]
            ],
            "type": "heatmap"
           }
          ],
          "heatmapgl": [
           {
            "colorbar": {
             "outlinewidth": 0,
             "ticks": ""
            },
            "colorscale": [
             [
              0,
              "#0d0887"
             ],
             [
              0.1111111111111111,
              "#46039f"
             ],
             [
              0.2222222222222222,
              "#7201a8"
             ],
             [
              0.3333333333333333,
              "#9c179e"
             ],
             [
              0.4444444444444444,
              "#bd3786"
             ],
             [
              0.5555555555555556,
              "#d8576b"
             ],
             [
              0.6666666666666666,
              "#ed7953"
             ],
             [
              0.7777777777777778,
              "#fb9f3a"
             ],
             [
              0.8888888888888888,
              "#fdca26"
             ],
             [
              1,
              "#f0f921"
             ]
            ],
            "type": "heatmapgl"
           }
          ],
          "histogram": [
           {
            "marker": {
             "pattern": {
              "fillmode": "overlay",
              "size": 10,
              "solidity": 0.2
             }
            },
            "type": "histogram"
           }
          ],
          "histogram2d": [
           {
            "colorbar": {
             "outlinewidth": 0,
             "ticks": ""
            },
            "colorscale": [
             [
              0,
              "#0d0887"
             ],
             [
              0.1111111111111111,
              "#46039f"
             ],
             [
              0.2222222222222222,
              "#7201a8"
             ],
             [
              0.3333333333333333,
              "#9c179e"
             ],
             [
              0.4444444444444444,
              "#bd3786"
             ],
             [
              0.5555555555555556,
              "#d8576b"
             ],
             [
              0.6666666666666666,
              "#ed7953"
             ],
             [
              0.7777777777777778,
              "#fb9f3a"
             ],
             [
              0.8888888888888888,
              "#fdca26"
             ],
             [
              1,
              "#f0f921"
             ]
            ],
            "type": "histogram2d"
           }
          ],
          "histogram2dcontour": [
           {
            "colorbar": {
             "outlinewidth": 0,
             "ticks": ""
            },
            "colorscale": [
             [
              0,
              "#0d0887"
             ],
             [
              0.1111111111111111,
              "#46039f"
             ],
             [
              0.2222222222222222,
              "#7201a8"
             ],
             [
              0.3333333333333333,
              "#9c179e"
             ],
             [
              0.4444444444444444,
              "#bd3786"
             ],
             [
              0.5555555555555556,
              "#d8576b"
             ],
             [
              0.6666666666666666,
              "#ed7953"
             ],
             [
              0.7777777777777778,
              "#fb9f3a"
             ],
             [
              0.8888888888888888,
              "#fdca26"
             ],
             [
              1,
              "#f0f921"
             ]
            ],
            "type": "histogram2dcontour"
           }
          ],
          "mesh3d": [
           {
            "colorbar": {
             "outlinewidth": 0,
             "ticks": ""
            },
            "type": "mesh3d"
           }
          ],
          "parcoords": [
           {
            "line": {
             "colorbar": {
              "outlinewidth": 0,
              "ticks": ""
             }
            },
            "type": "parcoords"
           }
          ],
          "pie": [
           {
            "automargin": true,
            "type": "pie"
           }
          ],
          "scatter": [
           {
            "fillpattern": {
             "fillmode": "overlay",
             "size": 10,
             "solidity": 0.2
            },
            "type": "scatter"
           }
          ],
          "scatter3d": [
           {
            "line": {
             "colorbar": {
              "outlinewidth": 0,
              "ticks": ""
             }
            },
            "marker": {
             "colorbar": {
              "outlinewidth": 0,
              "ticks": ""
             }
            },
            "type": "scatter3d"
           }
          ],
          "scattercarpet": [
           {
            "marker": {
             "colorbar": {
              "outlinewidth": 0,
              "ticks": ""
             }
            },
            "type": "scattercarpet"
           }
          ],
          "scattergeo": [
           {
            "marker": {
             "colorbar": {
              "outlinewidth": 0,
              "ticks": ""
             }
            },
            "type": "scattergeo"
           }
          ],
          "scattergl": [
           {
            "marker": {
             "colorbar": {
              "outlinewidth": 0,
              "ticks": ""
             }
            },
            "type": "scattergl"
           }
          ],
          "scattermapbox": [
           {
            "marker": {
             "colorbar": {
              "outlinewidth": 0,
              "ticks": ""
             }
            },
            "type": "scattermapbox"
           }
          ],
          "scatterpolar": [
           {
            "marker": {
             "colorbar": {
              "outlinewidth": 0,
              "ticks": ""
             }
            },
            "type": "scatterpolar"
           }
          ],
          "scatterpolargl": [
           {
            "marker": {
             "colorbar": {
              "outlinewidth": 0,
              "ticks": ""
             }
            },
            "type": "scatterpolargl"
           }
          ],
          "scatterternary": [
           {
            "marker": {
             "colorbar": {
              "outlinewidth": 0,
              "ticks": ""
             }
            },
            "type": "scatterternary"
           }
          ],
          "surface": [
           {
            "colorbar": {
             "outlinewidth": 0,
             "ticks": ""
            },
            "colorscale": [
             [
              0,
              "#0d0887"
             ],
             [
              0.1111111111111111,
              "#46039f"
             ],
             [
              0.2222222222222222,
              "#7201a8"
             ],
             [
              0.3333333333333333,
              "#9c179e"
             ],
             [
              0.4444444444444444,
              "#bd3786"
             ],
             [
              0.5555555555555556,
              "#d8576b"
             ],
             [
              0.6666666666666666,
              "#ed7953"
             ],
             [
              0.7777777777777778,
              "#fb9f3a"
             ],
             [
              0.8888888888888888,
              "#fdca26"
             ],
             [
              1,
              "#f0f921"
             ]
            ],
            "type": "surface"
           }
          ],
          "table": [
           {
            "cells": {
             "fill": {
              "color": "#EBF0F8"
             },
             "line": {
              "color": "white"
             }
            },
            "header": {
             "fill": {
              "color": "#C8D4E3"
             },
             "line": {
              "color": "white"
             }
            },
            "type": "table"
           }
          ]
         },
         "layout": {
          "annotationdefaults": {
           "arrowcolor": "#2a3f5f",
           "arrowhead": 0,
           "arrowwidth": 1
          },
          "autotypenumbers": "strict",
          "coloraxis": {
           "colorbar": {
            "outlinewidth": 0,
            "ticks": ""
           }
          },
          "colorscale": {
           "diverging": [
            [
             0,
             "#8e0152"
            ],
            [
             0.1,
             "#c51b7d"
            ],
            [
             0.2,
             "#de77ae"
            ],
            [
             0.3,
             "#f1b6da"
            ],
            [
             0.4,
             "#fde0ef"
            ],
            [
             0.5,
             "#f7f7f7"
            ],
            [
             0.6,
             "#e6f5d0"
            ],
            [
             0.7,
             "#b8e186"
            ],
            [
             0.8,
             "#7fbc41"
            ],
            [
             0.9,
             "#4d9221"
            ],
            [
             1,
             "#276419"
            ]
           ],
           "sequential": [
            [
             0,
             "#0d0887"
            ],
            [
             0.1111111111111111,
             "#46039f"
            ],
            [
             0.2222222222222222,
             "#7201a8"
            ],
            [
             0.3333333333333333,
             "#9c179e"
            ],
            [
             0.4444444444444444,
             "#bd3786"
            ],
            [
             0.5555555555555556,
             "#d8576b"
            ],
            [
             0.6666666666666666,
             "#ed7953"
            ],
            [
             0.7777777777777778,
             "#fb9f3a"
            ],
            [
             0.8888888888888888,
             "#fdca26"
            ],
            [
             1,
             "#f0f921"
            ]
           ],
           "sequentialminus": [
            [
             0,
             "#0d0887"
            ],
            [
             0.1111111111111111,
             "#46039f"
            ],
            [
             0.2222222222222222,
             "#7201a8"
            ],
            [
             0.3333333333333333,
             "#9c179e"
            ],
            [
             0.4444444444444444,
             "#bd3786"
            ],
            [
             0.5555555555555556,
             "#d8576b"
            ],
            [
             0.6666666666666666,
             "#ed7953"
            ],
            [
             0.7777777777777778,
             "#fb9f3a"
            ],
            [
             0.8888888888888888,
             "#fdca26"
            ],
            [
             1,
             "#f0f921"
            ]
           ]
          },
          "colorway": [
           "#636efa",
           "#EF553B",
           "#00cc96",
           "#ab63fa",
           "#FFA15A",
           "#19d3f3",
           "#FF6692",
           "#B6E880",
           "#FF97FF",
           "#FECB52"
          ],
          "font": {
           "color": "#2a3f5f"
          },
          "geo": {
           "bgcolor": "white",
           "lakecolor": "white",
           "landcolor": "#E5ECF6",
           "showlakes": true,
           "showland": true,
           "subunitcolor": "white"
          },
          "hoverlabel": {
           "align": "left"
          },
          "hovermode": "closest",
          "mapbox": {
           "style": "light"
          },
          "paper_bgcolor": "white",
          "plot_bgcolor": "#E5ECF6",
          "polar": {
           "angularaxis": {
            "gridcolor": "white",
            "linecolor": "white",
            "ticks": ""
           },
           "bgcolor": "#E5ECF6",
           "radialaxis": {
            "gridcolor": "white",
            "linecolor": "white",
            "ticks": ""
           }
          },
          "scene": {
           "xaxis": {
            "backgroundcolor": "#E5ECF6",
            "gridcolor": "white",
            "gridwidth": 2,
            "linecolor": "white",
            "showbackground": true,
            "ticks": "",
            "zerolinecolor": "white"
           },
           "yaxis": {
            "backgroundcolor": "#E5ECF6",
            "gridcolor": "white",
            "gridwidth": 2,
            "linecolor": "white",
            "showbackground": true,
            "ticks": "",
            "zerolinecolor": "white"
           },
           "zaxis": {
            "backgroundcolor": "#E5ECF6",
            "gridcolor": "white",
            "gridwidth": 2,
            "linecolor": "white",
            "showbackground": true,
            "ticks": "",
            "zerolinecolor": "white"
           }
          },
          "shapedefaults": {
           "line": {
            "color": "#2a3f5f"
           }
          },
          "ternary": {
           "aaxis": {
            "gridcolor": "white",
            "linecolor": "white",
            "ticks": ""
           },
           "baxis": {
            "gridcolor": "white",
            "linecolor": "white",
            "ticks": ""
           },
           "bgcolor": "#E5ECF6",
           "caxis": {
            "gridcolor": "white",
            "linecolor": "white",
            "ticks": ""
           }
          },
          "title": {
           "x": 0.05
          },
          "xaxis": {
           "automargin": true,
           "gridcolor": "white",
           "linecolor": "white",
           "ticks": "",
           "title": {
            "standoff": 15
           },
           "zerolinecolor": "white",
           "zerolinewidth": 2
          },
          "yaxis": {
           "automargin": true,
           "gridcolor": "white",
           "linecolor": "white",
           "ticks": "",
           "title": {
            "standoff": 15
           },
           "zerolinecolor": "white",
           "zerolinewidth": 2
          }
         }
        },
        "title": {
         "text": "Comparaison des simulations pour Qdot_top - Cas 4"
        },
        "xaxis": {
         "tickmode": "array",
         "ticktext": [
          "Part 1",
          "Part 2",
          "Part 3",
          "Part 4",
          "Part 5",
          "Part 6",
          "Part 7"
         ],
         "tickvals": [
          1,
          2,
          3,
          4,
          5,
          6,
          7
         ],
         "title": {
          "text": "Parties"
         }
        },
        "yaxis": {
         "title": {
          "text": "Qdot_top"
         }
        }
       }
      }
     },
     "metadata": {},
     "output_type": "display_data"
    },
    {
     "data": {
      "application/vnd.plotly.v1+json": {
       "config": {
        "plotlyServerURL": "https://plot.ly"
       },
       "data": [
        {
         "marker": {
          "color": "#1f77b4"
         },
         "name": "Simulation M1",
         "opacity": 0.8,
         "type": "bar",
         "width": 0.26666666666666666,
         "x": [
          0.7333333333333334,
          1.7333333333333334,
          2.7333333333333334,
          3.7333333333333334,
          4.733333333333333,
          5.733333333333333,
          6.733333333333333
         ],
         "y": [
          0.000001,
          0.000001,
          -30.928062725,
          0.000001,
          -25.466920275,
          0.000001,
          0.000001
         ]
        },
        {
         "marker": {
          "color": "#ff7f0e"
         },
         "name": "Simulation M2",
         "opacity": 0.8,
         "type": "bar",
         "width": 0.26666666666666666,
         "x": [
          1,
          2,
          3,
          4,
          5,
          6,
          7
         ],
         "y": [
          0.000001,
          0.000001,
          -30.635818500000003,
          0.000001,
          -27.22318955,
          0.000001,
          0.000001
         ]
        },
        {
         "marker": {
          "color": "#2ca02c"
         },
         "name": "Simulation M3",
         "opacity": 0.8,
         "type": "bar",
         "width": 0.26666666666666666,
         "x": [
          1.2666666666666666,
          2.2666666666666666,
          3.2666666666666666,
          4.266666666666667,
          5.266666666666667,
          6.266666666666667,
          7.266666666666667
         ],
         "y": [
          0.000001,
          0.000001,
          -30.975597875000002,
          0.000001,
          -25.54509815,
          0.000001,
          0.000001
         ]
        }
       ],
       "layout": {
        "barmode": "group",
        "legend": {
         "title": {
          "text": "Simulation"
         }
        },
        "template": {
         "data": {
          "bar": [
           {
            "error_x": {
             "color": "#2a3f5f"
            },
            "error_y": {
             "color": "#2a3f5f"
            },
            "marker": {
             "line": {
              "color": "#E5ECF6",
              "width": 0.5
             },
             "pattern": {
              "fillmode": "overlay",
              "size": 10,
              "solidity": 0.2
             }
            },
            "type": "bar"
           }
          ],
          "barpolar": [
           {
            "marker": {
             "line": {
              "color": "#E5ECF6",
              "width": 0.5
             },
             "pattern": {
              "fillmode": "overlay",
              "size": 10,
              "solidity": 0.2
             }
            },
            "type": "barpolar"
           }
          ],
          "carpet": [
           {
            "aaxis": {
             "endlinecolor": "#2a3f5f",
             "gridcolor": "white",
             "linecolor": "white",
             "minorgridcolor": "white",
             "startlinecolor": "#2a3f5f"
            },
            "baxis": {
             "endlinecolor": "#2a3f5f",
             "gridcolor": "white",
             "linecolor": "white",
             "minorgridcolor": "white",
             "startlinecolor": "#2a3f5f"
            },
            "type": "carpet"
           }
          ],
          "choropleth": [
           {
            "colorbar": {
             "outlinewidth": 0,
             "ticks": ""
            },
            "type": "choropleth"
           }
          ],
          "contour": [
           {
            "colorbar": {
             "outlinewidth": 0,
             "ticks": ""
            },
            "colorscale": [
             [
              0,
              "#0d0887"
             ],
             [
              0.1111111111111111,
              "#46039f"
             ],
             [
              0.2222222222222222,
              "#7201a8"
             ],
             [
              0.3333333333333333,
              "#9c179e"
             ],
             [
              0.4444444444444444,
              "#bd3786"
             ],
             [
              0.5555555555555556,
              "#d8576b"
             ],
             [
              0.6666666666666666,
              "#ed7953"
             ],
             [
              0.7777777777777778,
              "#fb9f3a"
             ],
             [
              0.8888888888888888,
              "#fdca26"
             ],
             [
              1,
              "#f0f921"
             ]
            ],
            "type": "contour"
           }
          ],
          "contourcarpet": [
           {
            "colorbar": {
             "outlinewidth": 0,
             "ticks": ""
            },
            "type": "contourcarpet"
           }
          ],
          "heatmap": [
           {
            "colorbar": {
             "outlinewidth": 0,
             "ticks": ""
            },
            "colorscale": [
             [
              0,
              "#0d0887"
             ],
             [
              0.1111111111111111,
              "#46039f"
             ],
             [
              0.2222222222222222,
              "#7201a8"
             ],
             [
              0.3333333333333333,
              "#9c179e"
             ],
             [
              0.4444444444444444,
              "#bd3786"
             ],
             [
              0.5555555555555556,
              "#d8576b"
             ],
             [
              0.6666666666666666,
              "#ed7953"
             ],
             [
              0.7777777777777778,
              "#fb9f3a"
             ],
             [
              0.8888888888888888,
              "#fdca26"
             ],
             [
              1,
              "#f0f921"
             ]
            ],
            "type": "heatmap"
           }
          ],
          "heatmapgl": [
           {
            "colorbar": {
             "outlinewidth": 0,
             "ticks": ""
            },
            "colorscale": [
             [
              0,
              "#0d0887"
             ],
             [
              0.1111111111111111,
              "#46039f"
             ],
             [
              0.2222222222222222,
              "#7201a8"
             ],
             [
              0.3333333333333333,
              "#9c179e"
             ],
             [
              0.4444444444444444,
              "#bd3786"
             ],
             [
              0.5555555555555556,
              "#d8576b"
             ],
             [
              0.6666666666666666,
              "#ed7953"
             ],
             [
              0.7777777777777778,
              "#fb9f3a"
             ],
             [
              0.8888888888888888,
              "#fdca26"
             ],
             [
              1,
              "#f0f921"
             ]
            ],
            "type": "heatmapgl"
           }
          ],
          "histogram": [
           {
            "marker": {
             "pattern": {
              "fillmode": "overlay",
              "size": 10,
              "solidity": 0.2
             }
            },
            "type": "histogram"
           }
          ],
          "histogram2d": [
           {
            "colorbar": {
             "outlinewidth": 0,
             "ticks": ""
            },
            "colorscale": [
             [
              0,
              "#0d0887"
             ],
             [
              0.1111111111111111,
              "#46039f"
             ],
             [
              0.2222222222222222,
              "#7201a8"
             ],
             [
              0.3333333333333333,
              "#9c179e"
             ],
             [
              0.4444444444444444,
              "#bd3786"
             ],
             [
              0.5555555555555556,
              "#d8576b"
             ],
             [
              0.6666666666666666,
              "#ed7953"
             ],
             [
              0.7777777777777778,
              "#fb9f3a"
             ],
             [
              0.8888888888888888,
              "#fdca26"
             ],
             [
              1,
              "#f0f921"
             ]
            ],
            "type": "histogram2d"
           }
          ],
          "histogram2dcontour": [
           {
            "colorbar": {
             "outlinewidth": 0,
             "ticks": ""
            },
            "colorscale": [
             [
              0,
              "#0d0887"
             ],
             [
              0.1111111111111111,
              "#46039f"
             ],
             [
              0.2222222222222222,
              "#7201a8"
             ],
             [
              0.3333333333333333,
              "#9c179e"
             ],
             [
              0.4444444444444444,
              "#bd3786"
             ],
             [
              0.5555555555555556,
              "#d8576b"
             ],
             [
              0.6666666666666666,
              "#ed7953"
             ],
             [
              0.7777777777777778,
              "#fb9f3a"
             ],
             [
              0.8888888888888888,
              "#fdca26"
             ],
             [
              1,
              "#f0f921"
             ]
            ],
            "type": "histogram2dcontour"
           }
          ],
          "mesh3d": [
           {
            "colorbar": {
             "outlinewidth": 0,
             "ticks": ""
            },
            "type": "mesh3d"
           }
          ],
          "parcoords": [
           {
            "line": {
             "colorbar": {
              "outlinewidth": 0,
              "ticks": ""
             }
            },
            "type": "parcoords"
           }
          ],
          "pie": [
           {
            "automargin": true,
            "type": "pie"
           }
          ],
          "scatter": [
           {
            "fillpattern": {
             "fillmode": "overlay",
             "size": 10,
             "solidity": 0.2
            },
            "type": "scatter"
           }
          ],
          "scatter3d": [
           {
            "line": {
             "colorbar": {
              "outlinewidth": 0,
              "ticks": ""
             }
            },
            "marker": {
             "colorbar": {
              "outlinewidth": 0,
              "ticks": ""
             }
            },
            "type": "scatter3d"
           }
          ],
          "scattercarpet": [
           {
            "marker": {
             "colorbar": {
              "outlinewidth": 0,
              "ticks": ""
             }
            },
            "type": "scattercarpet"
           }
          ],
          "scattergeo": [
           {
            "marker": {
             "colorbar": {
              "outlinewidth": 0,
              "ticks": ""
             }
            },
            "type": "scattergeo"
           }
          ],
          "scattergl": [
           {
            "marker": {
             "colorbar": {
              "outlinewidth": 0,
              "ticks": ""
             }
            },
            "type": "scattergl"
           }
          ],
          "scattermapbox": [
           {
            "marker": {
             "colorbar": {
              "outlinewidth": 0,
              "ticks": ""
             }
            },
            "type": "scattermapbox"
           }
          ],
          "scatterpolar": [
           {
            "marker": {
             "colorbar": {
              "outlinewidth": 0,
              "ticks": ""
             }
            },
            "type": "scatterpolar"
           }
          ],
          "scatterpolargl": [
           {
            "marker": {
             "colorbar": {
              "outlinewidth": 0,
              "ticks": ""
             }
            },
            "type": "scatterpolargl"
           }
          ],
          "scatterternary": [
           {
            "marker": {
             "colorbar": {
              "outlinewidth": 0,
              "ticks": ""
             }
            },
            "type": "scatterternary"
           }
          ],
          "surface": [
           {
            "colorbar": {
             "outlinewidth": 0,
             "ticks": ""
            },
            "colorscale": [
             [
              0,
              "#0d0887"
             ],
             [
              0.1111111111111111,
              "#46039f"
             ],
             [
              0.2222222222222222,
              "#7201a8"
             ],
             [
              0.3333333333333333,
              "#9c179e"
             ],
             [
              0.4444444444444444,
              "#bd3786"
             ],
             [
              0.5555555555555556,
              "#d8576b"
             ],
             [
              0.6666666666666666,
              "#ed7953"
             ],
             [
              0.7777777777777778,
              "#fb9f3a"
             ],
             [
              0.8888888888888888,
              "#fdca26"
             ],
             [
              1,
              "#f0f921"
             ]
            ],
            "type": "surface"
           }
          ],
          "table": [
           {
            "cells": {
             "fill": {
              "color": "#EBF0F8"
             },
             "line": {
              "color": "white"
             }
            },
            "header": {
             "fill": {
              "color": "#C8D4E3"
             },
             "line": {
              "color": "white"
             }
            },
            "type": "table"
           }
          ]
         },
         "layout": {
          "annotationdefaults": {
           "arrowcolor": "#2a3f5f",
           "arrowhead": 0,
           "arrowwidth": 1
          },
          "autotypenumbers": "strict",
          "coloraxis": {
           "colorbar": {
            "outlinewidth": 0,
            "ticks": ""
           }
          },
          "colorscale": {
           "diverging": [
            [
             0,
             "#8e0152"
            ],
            [
             0.1,
             "#c51b7d"
            ],
            [
             0.2,
             "#de77ae"
            ],
            [
             0.3,
             "#f1b6da"
            ],
            [
             0.4,
             "#fde0ef"
            ],
            [
             0.5,
             "#f7f7f7"
            ],
            [
             0.6,
             "#e6f5d0"
            ],
            [
             0.7,
             "#b8e186"
            ],
            [
             0.8,
             "#7fbc41"
            ],
            [
             0.9,
             "#4d9221"
            ],
            [
             1,
             "#276419"
            ]
           ],
           "sequential": [
            [
             0,
             "#0d0887"
            ],
            [
             0.1111111111111111,
             "#46039f"
            ],
            [
             0.2222222222222222,
             "#7201a8"
            ],
            [
             0.3333333333333333,
             "#9c179e"
            ],
            [
             0.4444444444444444,
             "#bd3786"
            ],
            [
             0.5555555555555556,
             "#d8576b"
            ],
            [
             0.6666666666666666,
             "#ed7953"
            ],
            [
             0.7777777777777778,
             "#fb9f3a"
            ],
            [
             0.8888888888888888,
             "#fdca26"
            ],
            [
             1,
             "#f0f921"
            ]
           ],
           "sequentialminus": [
            [
             0,
             "#0d0887"
            ],
            [
             0.1111111111111111,
             "#46039f"
            ],
            [
             0.2222222222222222,
             "#7201a8"
            ],
            [
             0.3333333333333333,
             "#9c179e"
            ],
            [
             0.4444444444444444,
             "#bd3786"
            ],
            [
             0.5555555555555556,
             "#d8576b"
            ],
            [
             0.6666666666666666,
             "#ed7953"
            ],
            [
             0.7777777777777778,
             "#fb9f3a"
            ],
            [
             0.8888888888888888,
             "#fdca26"
            ],
            [
             1,
             "#f0f921"
            ]
           ]
          },
          "colorway": [
           "#636efa",
           "#EF553B",
           "#00cc96",
           "#ab63fa",
           "#FFA15A",
           "#19d3f3",
           "#FF6692",
           "#B6E880",
           "#FF97FF",
           "#FECB52"
          ],
          "font": {
           "color": "#2a3f5f"
          },
          "geo": {
           "bgcolor": "white",
           "lakecolor": "white",
           "landcolor": "#E5ECF6",
           "showlakes": true,
           "showland": true,
           "subunitcolor": "white"
          },
          "hoverlabel": {
           "align": "left"
          },
          "hovermode": "closest",
          "mapbox": {
           "style": "light"
          },
          "paper_bgcolor": "white",
          "plot_bgcolor": "#E5ECF6",
          "polar": {
           "angularaxis": {
            "gridcolor": "white",
            "linecolor": "white",
            "ticks": ""
           },
           "bgcolor": "#E5ECF6",
           "radialaxis": {
            "gridcolor": "white",
            "linecolor": "white",
            "ticks": ""
           }
          },
          "scene": {
           "xaxis": {
            "backgroundcolor": "#E5ECF6",
            "gridcolor": "white",
            "gridwidth": 2,
            "linecolor": "white",
            "showbackground": true,
            "ticks": "",
            "zerolinecolor": "white"
           },
           "yaxis": {
            "backgroundcolor": "#E5ECF6",
            "gridcolor": "white",
            "gridwidth": 2,
            "linecolor": "white",
            "showbackground": true,
            "ticks": "",
            "zerolinecolor": "white"
           },
           "zaxis": {
            "backgroundcolor": "#E5ECF6",
            "gridcolor": "white",
            "gridwidth": 2,
            "linecolor": "white",
            "showbackground": true,
            "ticks": "",
            "zerolinecolor": "white"
           }
          },
          "shapedefaults": {
           "line": {
            "color": "#2a3f5f"
           }
          },
          "ternary": {
           "aaxis": {
            "gridcolor": "white",
            "linecolor": "white",
            "ticks": ""
           },
           "baxis": {
            "gridcolor": "white",
            "linecolor": "white",
            "ticks": ""
           },
           "bgcolor": "#E5ECF6",
           "caxis": {
            "gridcolor": "white",
            "linecolor": "white",
            "ticks": ""
           }
          },
          "title": {
           "x": 0.05
          },
          "xaxis": {
           "automargin": true,
           "gridcolor": "white",
           "linecolor": "white",
           "ticks": "",
           "title": {
            "standoff": 15
           },
           "zerolinecolor": "white",
           "zerolinewidth": 2
          },
          "yaxis": {
           "automargin": true,
           "gridcolor": "white",
           "linecolor": "white",
           "ticks": "",
           "title": {
            "standoff": 15
           },
           "zerolinecolor": "white",
           "zerolinewidth": 2
          }
         }
        },
        "title": {
         "text": "Comparaison des simulations pour Qdot_top - Cas 5"
        },
        "xaxis": {
         "tickmode": "array",
         "ticktext": [
          "Part 1",
          "Part 2",
          "Part 3",
          "Part 4",
          "Part 5",
          "Part 6",
          "Part 7"
         ],
         "tickvals": [
          1,
          2,
          3,
          4,
          5,
          6,
          7
         ],
         "title": {
          "text": "Parties"
         }
        },
        "yaxis": {
         "title": {
          "text": "Qdot_top"
         }
        }
       }
      }
     },
     "metadata": {},
     "output_type": "display_data"
    }
   ],
   "source": [
    "## Comparaison Qdot_top_conv pour chaque partie // CFD\n",
    "\n",
    "# Couleurs pour chaque simulation (autant de couleurs que de simulations)\n",
    "sim_colors = ['#1f77b4', '#ff7f0e', '#2ca02c', '#d62728', '#9467bd', '#8c564b', '#e377c2']\n",
    "\n",
    "# Initialisation de la liste de figures pour les graphiques par cas\n",
    "fig_comparison_list = []\n",
    "\n",
    "# Largeur des barres pour chaque simulation\n",
    "bar_width = 0.8 / nb_mesh\n",
    "\n",
    "# Positions des barres pour chaque partie et chaque simulation\n",
    "bar_positions = np.arange(1, nb_hx + 3)  # positions pour chaque partie (1 à nb_hx)\n",
    "\n",
    "# Boucle sur chaque cas\n",
    "for case in range(nb_cases):\n",
    "    # Créer une figure pour comparer les simulations\n",
    "    fig_comparison = go.Figure()\n",
    "\n",
    "    # Pour chaque simulation (chaque maillage)\n",
    "    for mesh in range(nb_mesh):\n",
    "        # Liste pour stocker les valeurs de Qdot_top_rad pour chaque partie\n",
    "        top_rad_values = []\n",
    "\n",
    "        # Pour chaque partie\n",
    "        for part in range(1, nb_hx + 3):\n",
    "            # Récupérer les valeurs de Qdot_top_rad pour la dernière itération pour ce cas et ce maillage\n",
    "            iteration = limit_big_it - 1\n",
    "            Qdot_tube, Qdot_top, Qdot_abs, Qdot_top_rad = calculate_Qdot(mesh, case, iteration)\n",
    "            top_rad_values.append(Qdot_top[part - 1])\n",
    "\n",
    "        # Ajouter les barres pour chaque partie\n",
    "        fig_comparison.add_trace(go.Bar(\n",
    "            x=bar_positions + (mesh - (nb_mesh - 1) / 2) * bar_width,\n",
    "            y=top_rad_values,\n",
    "            name=f'Simulation M{mesh + 1}',\n",
    "            marker_color=sim_colors[mesh],\n",
    "            width=bar_width,\n",
    "            opacity=0.8\n",
    "        ))\n",
    "\n",
    "    # Mise en forme du titre et des axes\n",
    "    fig_comparison.update_layout(\n",
    "        title=f'Comparaison des simulations pour Qdot_top - Cas {case + 1}',\n",
    "        xaxis_title='Parties',\n",
    "        yaxis_title='Qdot_top',\n",
    "        xaxis=dict(\n",
    "            tickmode='array',\n",
    "            tickvals=np.arange(1, nb_hx + 3),\n",
    "            ticktext=[f'Part {i}' for i in range(1, nb_hx + 3)]\n",
    "        ),\n",
    "        barmode='group',  # Regrouper les barres\n",
    "        legend_title='Simulation'\n",
    "    )\n",
    "\n",
    "    # Ajouter la figure à la liste\n",
    "    fig_comparison_list.append(fig_comparison)\n",
    "\n",
    "# Afficher toutes les figures\n",
    "for fig_comparison in fig_comparison_list:\n",
    "    fig_comparison.show()\n"
   ]
  },
  {
   "cell_type": "code",
   "execution_count": 39,
   "metadata": {},
   "outputs": [
    {
     "data": {
      "application/vnd.plotly.v1+json": {
       "config": {
        "plotlyServerURL": "https://plot.ly"
       },
       "data": [
        {
         "marker": {
          "color": "#1f77b4"
         },
         "name": "Simulation M1",
         "opacity": 0.8,
         "type": "bar",
         "width": 0.4,
         "x": [
          0.8,
          1.8,
          2.8,
          3.8,
          4.8,
          5.8,
          6.8
         ],
         "y": [
          -5.0715215625,
          -2.4176569,
          -29.6873974,
          -3.9224000995,
          -22.605604825,
          -2.0919591565,
          -2.1121310575
         ]
        },
        {
         "marker": {
          "color": "#ff7f0e"
         },
         "name": "Simulation M2",
         "opacity": 0.8,
         "type": "bar",
         "width": 0.4,
         "x": [
          1.2,
          2.2,
          3.2,
          4.2,
          5.2,
          6.2,
          7.2
         ],
         "y": [
          -5.125277265000001,
          -2.1689213355000003,
          -29.2967061,
          -3.9126949375000004,
          -22.350289949999997,
          -1.8072018624999997,
          -1.9149006549999998
         ]
        }
       ],
       "layout": {
        "barmode": "group",
        "legend": {
         "title": {
          "text": "Simulation"
         }
        },
        "template": {
         "data": {
          "bar": [
           {
            "error_x": {
             "color": "#2a3f5f"
            },
            "error_y": {
             "color": "#2a3f5f"
            },
            "marker": {
             "line": {
              "color": "#E5ECF6",
              "width": 0.5
             },
             "pattern": {
              "fillmode": "overlay",
              "size": 10,
              "solidity": 0.2
             }
            },
            "type": "bar"
           }
          ],
          "barpolar": [
           {
            "marker": {
             "line": {
              "color": "#E5ECF6",
              "width": 0.5
             },
             "pattern": {
              "fillmode": "overlay",
              "size": 10,
              "solidity": 0.2
             }
            },
            "type": "barpolar"
           }
          ],
          "carpet": [
           {
            "aaxis": {
             "endlinecolor": "#2a3f5f",
             "gridcolor": "white",
             "linecolor": "white",
             "minorgridcolor": "white",
             "startlinecolor": "#2a3f5f"
            },
            "baxis": {
             "endlinecolor": "#2a3f5f",
             "gridcolor": "white",
             "linecolor": "white",
             "minorgridcolor": "white",
             "startlinecolor": "#2a3f5f"
            },
            "type": "carpet"
           }
          ],
          "choropleth": [
           {
            "colorbar": {
             "outlinewidth": 0,
             "ticks": ""
            },
            "type": "choropleth"
           }
          ],
          "contour": [
           {
            "colorbar": {
             "outlinewidth": 0,
             "ticks": ""
            },
            "colorscale": [
             [
              0,
              "#0d0887"
             ],
             [
              0.1111111111111111,
              "#46039f"
             ],
             [
              0.2222222222222222,
              "#7201a8"
             ],
             [
              0.3333333333333333,
              "#9c179e"
             ],
             [
              0.4444444444444444,
              "#bd3786"
             ],
             [
              0.5555555555555556,
              "#d8576b"
             ],
             [
              0.6666666666666666,
              "#ed7953"
             ],
             [
              0.7777777777777778,
              "#fb9f3a"
             ],
             [
              0.8888888888888888,
              "#fdca26"
             ],
             [
              1,
              "#f0f921"
             ]
            ],
            "type": "contour"
           }
          ],
          "contourcarpet": [
           {
            "colorbar": {
             "outlinewidth": 0,
             "ticks": ""
            },
            "type": "contourcarpet"
           }
          ],
          "heatmap": [
           {
            "colorbar": {
             "outlinewidth": 0,
             "ticks": ""
            },
            "colorscale": [
             [
              0,
              "#0d0887"
             ],
             [
              0.1111111111111111,
              "#46039f"
             ],
             [
              0.2222222222222222,
              "#7201a8"
             ],
             [
              0.3333333333333333,
              "#9c179e"
             ],
             [
              0.4444444444444444,
              "#bd3786"
             ],
             [
              0.5555555555555556,
              "#d8576b"
             ],
             [
              0.6666666666666666,
              "#ed7953"
             ],
             [
              0.7777777777777778,
              "#fb9f3a"
             ],
             [
              0.8888888888888888,
              "#fdca26"
             ],
             [
              1,
              "#f0f921"
             ]
            ],
            "type": "heatmap"
           }
          ],
          "heatmapgl": [
           {
            "colorbar": {
             "outlinewidth": 0,
             "ticks": ""
            },
            "colorscale": [
             [
              0,
              "#0d0887"
             ],
             [
              0.1111111111111111,
              "#46039f"
             ],
             [
              0.2222222222222222,
              "#7201a8"
             ],
             [
              0.3333333333333333,
              "#9c179e"
             ],
             [
              0.4444444444444444,
              "#bd3786"
             ],
             [
              0.5555555555555556,
              "#d8576b"
             ],
             [
              0.6666666666666666,
              "#ed7953"
             ],
             [
              0.7777777777777778,
              "#fb9f3a"
             ],
             [
              0.8888888888888888,
              "#fdca26"
             ],
             [
              1,
              "#f0f921"
             ]
            ],
            "type": "heatmapgl"
           }
          ],
          "histogram": [
           {
            "marker": {
             "pattern": {
              "fillmode": "overlay",
              "size": 10,
              "solidity": 0.2
             }
            },
            "type": "histogram"
           }
          ],
          "histogram2d": [
           {
            "colorbar": {
             "outlinewidth": 0,
             "ticks": ""
            },
            "colorscale": [
             [
              0,
              "#0d0887"
             ],
             [
              0.1111111111111111,
              "#46039f"
             ],
             [
              0.2222222222222222,
              "#7201a8"
             ],
             [
              0.3333333333333333,
              "#9c179e"
             ],
             [
              0.4444444444444444,
              "#bd3786"
             ],
             [
              0.5555555555555556,
              "#d8576b"
             ],
             [
              0.6666666666666666,
              "#ed7953"
             ],
             [
              0.7777777777777778,
              "#fb9f3a"
             ],
             [
              0.8888888888888888,
              "#fdca26"
             ],
             [
              1,
              "#f0f921"
             ]
            ],
            "type": "histogram2d"
           }
          ],
          "histogram2dcontour": [
           {
            "colorbar": {
             "outlinewidth": 0,
             "ticks": ""
            },
            "colorscale": [
             [
              0,
              "#0d0887"
             ],
             [
              0.1111111111111111,
              "#46039f"
             ],
             [
              0.2222222222222222,
              "#7201a8"
             ],
             [
              0.3333333333333333,
              "#9c179e"
             ],
             [
              0.4444444444444444,
              "#bd3786"
             ],
             [
              0.5555555555555556,
              "#d8576b"
             ],
             [
              0.6666666666666666,
              "#ed7953"
             ],
             [
              0.7777777777777778,
              "#fb9f3a"
             ],
             [
              0.8888888888888888,
              "#fdca26"
             ],
             [
              1,
              "#f0f921"
             ]
            ],
            "type": "histogram2dcontour"
           }
          ],
          "mesh3d": [
           {
            "colorbar": {
             "outlinewidth": 0,
             "ticks": ""
            },
            "type": "mesh3d"
           }
          ],
          "parcoords": [
           {
            "line": {
             "colorbar": {
              "outlinewidth": 0,
              "ticks": ""
             }
            },
            "type": "parcoords"
           }
          ],
          "pie": [
           {
            "automargin": true,
            "type": "pie"
           }
          ],
          "scatter": [
           {
            "fillpattern": {
             "fillmode": "overlay",
             "size": 10,
             "solidity": 0.2
            },
            "type": "scatter"
           }
          ],
          "scatter3d": [
           {
            "line": {
             "colorbar": {
              "outlinewidth": 0,
              "ticks": ""
             }
            },
            "marker": {
             "colorbar": {
              "outlinewidth": 0,
              "ticks": ""
             }
            },
            "type": "scatter3d"
           }
          ],
          "scattercarpet": [
           {
            "marker": {
             "colorbar": {
              "outlinewidth": 0,
              "ticks": ""
             }
            },
            "type": "scattercarpet"
           }
          ],
          "scattergeo": [
           {
            "marker": {
             "colorbar": {
              "outlinewidth": 0,
              "ticks": ""
             }
            },
            "type": "scattergeo"
           }
          ],
          "scattergl": [
           {
            "marker": {
             "colorbar": {
              "outlinewidth": 0,
              "ticks": ""
             }
            },
            "type": "scattergl"
           }
          ],
          "scattermapbox": [
           {
            "marker": {
             "colorbar": {
              "outlinewidth": 0,
              "ticks": ""
             }
            },
            "type": "scattermapbox"
           }
          ],
          "scatterpolar": [
           {
            "marker": {
             "colorbar": {
              "outlinewidth": 0,
              "ticks": ""
             }
            },
            "type": "scatterpolar"
           }
          ],
          "scatterpolargl": [
           {
            "marker": {
             "colorbar": {
              "outlinewidth": 0,
              "ticks": ""
             }
            },
            "type": "scatterpolargl"
           }
          ],
          "scatterternary": [
           {
            "marker": {
             "colorbar": {
              "outlinewidth": 0,
              "ticks": ""
             }
            },
            "type": "scatterternary"
           }
          ],
          "surface": [
           {
            "colorbar": {
             "outlinewidth": 0,
             "ticks": ""
            },
            "colorscale": [
             [
              0,
              "#0d0887"
             ],
             [
              0.1111111111111111,
              "#46039f"
             ],
             [
              0.2222222222222222,
              "#7201a8"
             ],
             [
              0.3333333333333333,
              "#9c179e"
             ],
             [
              0.4444444444444444,
              "#bd3786"
             ],
             [
              0.5555555555555556,
              "#d8576b"
             ],
             [
              0.6666666666666666,
              "#ed7953"
             ],
             [
              0.7777777777777778,
              "#fb9f3a"
             ],
             [
              0.8888888888888888,
              "#fdca26"
             ],
             [
              1,
              "#f0f921"
             ]
            ],
            "type": "surface"
           }
          ],
          "table": [
           {
            "cells": {
             "fill": {
              "color": "#EBF0F8"
             },
             "line": {
              "color": "white"
             }
            },
            "header": {
             "fill": {
              "color": "#C8D4E3"
             },
             "line": {
              "color": "white"
             }
            },
            "type": "table"
           }
          ]
         },
         "layout": {
          "annotationdefaults": {
           "arrowcolor": "#2a3f5f",
           "arrowhead": 0,
           "arrowwidth": 1
          },
          "autotypenumbers": "strict",
          "coloraxis": {
           "colorbar": {
            "outlinewidth": 0,
            "ticks": ""
           }
          },
          "colorscale": {
           "diverging": [
            [
             0,
             "#8e0152"
            ],
            [
             0.1,
             "#c51b7d"
            ],
            [
             0.2,
             "#de77ae"
            ],
            [
             0.3,
             "#f1b6da"
            ],
            [
             0.4,
             "#fde0ef"
            ],
            [
             0.5,
             "#f7f7f7"
            ],
            [
             0.6,
             "#e6f5d0"
            ],
            [
             0.7,
             "#b8e186"
            ],
            [
             0.8,
             "#7fbc41"
            ],
            [
             0.9,
             "#4d9221"
            ],
            [
             1,
             "#276419"
            ]
           ],
           "sequential": [
            [
             0,
             "#0d0887"
            ],
            [
             0.1111111111111111,
             "#46039f"
            ],
            [
             0.2222222222222222,
             "#7201a8"
            ],
            [
             0.3333333333333333,
             "#9c179e"
            ],
            [
             0.4444444444444444,
             "#bd3786"
            ],
            [
             0.5555555555555556,
             "#d8576b"
            ],
            [
             0.6666666666666666,
             "#ed7953"
            ],
            [
             0.7777777777777778,
             "#fb9f3a"
            ],
            [
             0.8888888888888888,
             "#fdca26"
            ],
            [
             1,
             "#f0f921"
            ]
           ],
           "sequentialminus": [
            [
             0,
             "#0d0887"
            ],
            [
             0.1111111111111111,
             "#46039f"
            ],
            [
             0.2222222222222222,
             "#7201a8"
            ],
            [
             0.3333333333333333,
             "#9c179e"
            ],
            [
             0.4444444444444444,
             "#bd3786"
            ],
            [
             0.5555555555555556,
             "#d8576b"
            ],
            [
             0.6666666666666666,
             "#ed7953"
            ],
            [
             0.7777777777777778,
             "#fb9f3a"
            ],
            [
             0.8888888888888888,
             "#fdca26"
            ],
            [
             1,
             "#f0f921"
            ]
           ]
          },
          "colorway": [
           "#636efa",
           "#EF553B",
           "#00cc96",
           "#ab63fa",
           "#FFA15A",
           "#19d3f3",
           "#FF6692",
           "#B6E880",
           "#FF97FF",
           "#FECB52"
          ],
          "font": {
           "color": "#2a3f5f"
          },
          "geo": {
           "bgcolor": "white",
           "lakecolor": "white",
           "landcolor": "#E5ECF6",
           "showlakes": true,
           "showland": true,
           "subunitcolor": "white"
          },
          "hoverlabel": {
           "align": "left"
          },
          "hovermode": "closest",
          "mapbox": {
           "style": "light"
          },
          "paper_bgcolor": "white",
          "plot_bgcolor": "#E5ECF6",
          "polar": {
           "angularaxis": {
            "gridcolor": "white",
            "linecolor": "white",
            "ticks": ""
           },
           "bgcolor": "#E5ECF6",
           "radialaxis": {
            "gridcolor": "white",
            "linecolor": "white",
            "ticks": ""
           }
          },
          "scene": {
           "xaxis": {
            "backgroundcolor": "#E5ECF6",
            "gridcolor": "white",
            "gridwidth": 2,
            "linecolor": "white",
            "showbackground": true,
            "ticks": "",
            "zerolinecolor": "white"
           },
           "yaxis": {
            "backgroundcolor": "#E5ECF6",
            "gridcolor": "white",
            "gridwidth": 2,
            "linecolor": "white",
            "showbackground": true,
            "ticks": "",
            "zerolinecolor": "white"
           },
           "zaxis": {
            "backgroundcolor": "#E5ECF6",
            "gridcolor": "white",
            "gridwidth": 2,
            "linecolor": "white",
            "showbackground": true,
            "ticks": "",
            "zerolinecolor": "white"
           }
          },
          "shapedefaults": {
           "line": {
            "color": "#2a3f5f"
           }
          },
          "ternary": {
           "aaxis": {
            "gridcolor": "white",
            "linecolor": "white",
            "ticks": ""
           },
           "baxis": {
            "gridcolor": "white",
            "linecolor": "white",
            "ticks": ""
           },
           "bgcolor": "#E5ECF6",
           "caxis": {
            "gridcolor": "white",
            "linecolor": "white",
            "ticks": ""
           }
          },
          "title": {
           "x": 0.05
          },
          "xaxis": {
           "automargin": true,
           "gridcolor": "white",
           "linecolor": "white",
           "ticks": "",
           "title": {
            "standoff": 15
           },
           "zerolinecolor": "white",
           "zerolinewidth": 2
          },
          "yaxis": {
           "automargin": true,
           "gridcolor": "white",
           "linecolor": "white",
           "ticks": "",
           "title": {
            "standoff": 15
           },
           "zerolinecolor": "white",
           "zerolinewidth": 2
          }
         }
        },
        "title": {
         "text": "Comparaison des simulations pour Qdot_tube - Cas 1"
        },
        "xaxis": {
         "tickmode": "array",
         "ticktext": [
          "Part 1",
          "Part 2",
          "Part 3",
          "Part 4",
          "Part 5",
          "Part 6",
          "Part 7"
         ],
         "tickvals": [
          1,
          2,
          3,
          4,
          5,
          6,
          7
         ],
         "title": {
          "text": "Parties"
         }
        },
        "yaxis": {
         "title": {
          "text": "Qdot_tube"
         }
        }
       }
      }
     },
     "metadata": {},
     "output_type": "display_data"
    },
    {
     "data": {
      "application/vnd.plotly.v1+json": {
       "config": {
        "plotlyServerURL": "https://plot.ly"
       },
       "data": [
        {
         "marker": {
          "color": "#1f77b4"
         },
         "name": "Simulation M1",
         "opacity": 0.8,
         "type": "bar",
         "width": 0.4,
         "x": [
          0.8,
          1.8,
          2.8,
          3.8,
          4.8,
          5.8,
          6.8
         ],
         "y": [
          -4.044124017500001,
          -1.7398053,
          -23.8440728,
          -3.403988461075,
          -16.35187595,
          -1.6836167044999992,
          -1.847283835
         ]
        },
        {
         "marker": {
          "color": "#ff7f0e"
         },
         "name": "Simulation M2",
         "opacity": 0.8,
         "type": "bar",
         "width": 0.4,
         "x": [
          1.2,
          2.2,
          3.2,
          4.2,
          5.2,
          6.2,
          7.2
         ],
         "y": [
          -4.1687004624999995,
          -1.6059725442499997,
          -22.778177075,
          -3.565682089125,
          -17.4666506,
          -1.2780984315,
          -1.43612659
         ]
        }
       ],
       "layout": {
        "barmode": "group",
        "legend": {
         "title": {
          "text": "Simulation"
         }
        },
        "template": {
         "data": {
          "bar": [
           {
            "error_x": {
             "color": "#2a3f5f"
            },
            "error_y": {
             "color": "#2a3f5f"
            },
            "marker": {
             "line": {
              "color": "#E5ECF6",
              "width": 0.5
             },
             "pattern": {
              "fillmode": "overlay",
              "size": 10,
              "solidity": 0.2
             }
            },
            "type": "bar"
           }
          ],
          "barpolar": [
           {
            "marker": {
             "line": {
              "color": "#E5ECF6",
              "width": 0.5
             },
             "pattern": {
              "fillmode": "overlay",
              "size": 10,
              "solidity": 0.2
             }
            },
            "type": "barpolar"
           }
          ],
          "carpet": [
           {
            "aaxis": {
             "endlinecolor": "#2a3f5f",
             "gridcolor": "white",
             "linecolor": "white",
             "minorgridcolor": "white",
             "startlinecolor": "#2a3f5f"
            },
            "baxis": {
             "endlinecolor": "#2a3f5f",
             "gridcolor": "white",
             "linecolor": "white",
             "minorgridcolor": "white",
             "startlinecolor": "#2a3f5f"
            },
            "type": "carpet"
           }
          ],
          "choropleth": [
           {
            "colorbar": {
             "outlinewidth": 0,
             "ticks": ""
            },
            "type": "choropleth"
           }
          ],
          "contour": [
           {
            "colorbar": {
             "outlinewidth": 0,
             "ticks": ""
            },
            "colorscale": [
             [
              0,
              "#0d0887"
             ],
             [
              0.1111111111111111,
              "#46039f"
             ],
             [
              0.2222222222222222,
              "#7201a8"
             ],
             [
              0.3333333333333333,
              "#9c179e"
             ],
             [
              0.4444444444444444,
              "#bd3786"
             ],
             [
              0.5555555555555556,
              "#d8576b"
             ],
             [
              0.6666666666666666,
              "#ed7953"
             ],
             [
              0.7777777777777778,
              "#fb9f3a"
             ],
             [
              0.8888888888888888,
              "#fdca26"
             ],
             [
              1,
              "#f0f921"
             ]
            ],
            "type": "contour"
           }
          ],
          "contourcarpet": [
           {
            "colorbar": {
             "outlinewidth": 0,
             "ticks": ""
            },
            "type": "contourcarpet"
           }
          ],
          "heatmap": [
           {
            "colorbar": {
             "outlinewidth": 0,
             "ticks": ""
            },
            "colorscale": [
             [
              0,
              "#0d0887"
             ],
             [
              0.1111111111111111,
              "#46039f"
             ],
             [
              0.2222222222222222,
              "#7201a8"
             ],
             [
              0.3333333333333333,
              "#9c179e"
             ],
             [
              0.4444444444444444,
              "#bd3786"
             ],
             [
              0.5555555555555556,
              "#d8576b"
             ],
             [
              0.6666666666666666,
              "#ed7953"
             ],
             [
              0.7777777777777778,
              "#fb9f3a"
             ],
             [
              0.8888888888888888,
              "#fdca26"
             ],
             [
              1,
              "#f0f921"
             ]
            ],
            "type": "heatmap"
           }
          ],
          "heatmapgl": [
           {
            "colorbar": {
             "outlinewidth": 0,
             "ticks": ""
            },
            "colorscale": [
             [
              0,
              "#0d0887"
             ],
             [
              0.1111111111111111,
              "#46039f"
             ],
             [
              0.2222222222222222,
              "#7201a8"
             ],
             [
              0.3333333333333333,
              "#9c179e"
             ],
             [
              0.4444444444444444,
              "#bd3786"
             ],
             [
              0.5555555555555556,
              "#d8576b"
             ],
             [
              0.6666666666666666,
              "#ed7953"
             ],
             [
              0.7777777777777778,
              "#fb9f3a"
             ],
             [
              0.8888888888888888,
              "#fdca26"
             ],
             [
              1,
              "#f0f921"
             ]
            ],
            "type": "heatmapgl"
           }
          ],
          "histogram": [
           {
            "marker": {
             "pattern": {
              "fillmode": "overlay",
              "size": 10,
              "solidity": 0.2
             }
            },
            "type": "histogram"
           }
          ],
          "histogram2d": [
           {
            "colorbar": {
             "outlinewidth": 0,
             "ticks": ""
            },
            "colorscale": [
             [
              0,
              "#0d0887"
             ],
             [
              0.1111111111111111,
              "#46039f"
             ],
             [
              0.2222222222222222,
              "#7201a8"
             ],
             [
              0.3333333333333333,
              "#9c179e"
             ],
             [
              0.4444444444444444,
              "#bd3786"
             ],
             [
              0.5555555555555556,
              "#d8576b"
             ],
             [
              0.6666666666666666,
              "#ed7953"
             ],
             [
              0.7777777777777778,
              "#fb9f3a"
             ],
             [
              0.8888888888888888,
              "#fdca26"
             ],
             [
              1,
              "#f0f921"
             ]
            ],
            "type": "histogram2d"
           }
          ],
          "histogram2dcontour": [
           {
            "colorbar": {
             "outlinewidth": 0,
             "ticks": ""
            },
            "colorscale": [
             [
              0,
              "#0d0887"
             ],
             [
              0.1111111111111111,
              "#46039f"
             ],
             [
              0.2222222222222222,
              "#7201a8"
             ],
             [
              0.3333333333333333,
              "#9c179e"
             ],
             [
              0.4444444444444444,
              "#bd3786"
             ],
             [
              0.5555555555555556,
              "#d8576b"
             ],
             [
              0.6666666666666666,
              "#ed7953"
             ],
             [
              0.7777777777777778,
              "#fb9f3a"
             ],
             [
              0.8888888888888888,
              "#fdca26"
             ],
             [
              1,
              "#f0f921"
             ]
            ],
            "type": "histogram2dcontour"
           }
          ],
          "mesh3d": [
           {
            "colorbar": {
             "outlinewidth": 0,
             "ticks": ""
            },
            "type": "mesh3d"
           }
          ],
          "parcoords": [
           {
            "line": {
             "colorbar": {
              "outlinewidth": 0,
              "ticks": ""
             }
            },
            "type": "parcoords"
           }
          ],
          "pie": [
           {
            "automargin": true,
            "type": "pie"
           }
          ],
          "scatter": [
           {
            "fillpattern": {
             "fillmode": "overlay",
             "size": 10,
             "solidity": 0.2
            },
            "type": "scatter"
           }
          ],
          "scatter3d": [
           {
            "line": {
             "colorbar": {
              "outlinewidth": 0,
              "ticks": ""
             }
            },
            "marker": {
             "colorbar": {
              "outlinewidth": 0,
              "ticks": ""
             }
            },
            "type": "scatter3d"
           }
          ],
          "scattercarpet": [
           {
            "marker": {
             "colorbar": {
              "outlinewidth": 0,
              "ticks": ""
             }
            },
            "type": "scattercarpet"
           }
          ],
          "scattergeo": [
           {
            "marker": {
             "colorbar": {
              "outlinewidth": 0,
              "ticks": ""
             }
            },
            "type": "scattergeo"
           }
          ],
          "scattergl": [
           {
            "marker": {
             "colorbar": {
              "outlinewidth": 0,
              "ticks": ""
             }
            },
            "type": "scattergl"
           }
          ],
          "scattermapbox": [
           {
            "marker": {
             "colorbar": {
              "outlinewidth": 0,
              "ticks": ""
             }
            },
            "type": "scattermapbox"
           }
          ],
          "scatterpolar": [
           {
            "marker": {
             "colorbar": {
              "outlinewidth": 0,
              "ticks": ""
             }
            },
            "type": "scatterpolar"
           }
          ],
          "scatterpolargl": [
           {
            "marker": {
             "colorbar": {
              "outlinewidth": 0,
              "ticks": ""
             }
            },
            "type": "scatterpolargl"
           }
          ],
          "scatterternary": [
           {
            "marker": {
             "colorbar": {
              "outlinewidth": 0,
              "ticks": ""
             }
            },
            "type": "scatterternary"
           }
          ],
          "surface": [
           {
            "colorbar": {
             "outlinewidth": 0,
             "ticks": ""
            },
            "colorscale": [
             [
              0,
              "#0d0887"
             ],
             [
              0.1111111111111111,
              "#46039f"
             ],
             [
              0.2222222222222222,
              "#7201a8"
             ],
             [
              0.3333333333333333,
              "#9c179e"
             ],
             [
              0.4444444444444444,
              "#bd3786"
             ],
             [
              0.5555555555555556,
              "#d8576b"
             ],
             [
              0.6666666666666666,
              "#ed7953"
             ],
             [
              0.7777777777777778,
              "#fb9f3a"
             ],
             [
              0.8888888888888888,
              "#fdca26"
             ],
             [
              1,
              "#f0f921"
             ]
            ],
            "type": "surface"
           }
          ],
          "table": [
           {
            "cells": {
             "fill": {
              "color": "#EBF0F8"
             },
             "line": {
              "color": "white"
             }
            },
            "header": {
             "fill": {
              "color": "#C8D4E3"
             },
             "line": {
              "color": "white"
             }
            },
            "type": "table"
           }
          ]
         },
         "layout": {
          "annotationdefaults": {
           "arrowcolor": "#2a3f5f",
           "arrowhead": 0,
           "arrowwidth": 1
          },
          "autotypenumbers": "strict",
          "coloraxis": {
           "colorbar": {
            "outlinewidth": 0,
            "ticks": ""
           }
          },
          "colorscale": {
           "diverging": [
            [
             0,
             "#8e0152"
            ],
            [
             0.1,
             "#c51b7d"
            ],
            [
             0.2,
             "#de77ae"
            ],
            [
             0.3,
             "#f1b6da"
            ],
            [
             0.4,
             "#fde0ef"
            ],
            [
             0.5,
             "#f7f7f7"
            ],
            [
             0.6,
             "#e6f5d0"
            ],
            [
             0.7,
             "#b8e186"
            ],
            [
             0.8,
             "#7fbc41"
            ],
            [
             0.9,
             "#4d9221"
            ],
            [
             1,
             "#276419"
            ]
           ],
           "sequential": [
            [
             0,
             "#0d0887"
            ],
            [
             0.1111111111111111,
             "#46039f"
            ],
            [
             0.2222222222222222,
             "#7201a8"
            ],
            [
             0.3333333333333333,
             "#9c179e"
            ],
            [
             0.4444444444444444,
             "#bd3786"
            ],
            [
             0.5555555555555556,
             "#d8576b"
            ],
            [
             0.6666666666666666,
             "#ed7953"
            ],
            [
             0.7777777777777778,
             "#fb9f3a"
            ],
            [
             0.8888888888888888,
             "#fdca26"
            ],
            [
             1,
             "#f0f921"
            ]
           ],
           "sequentialminus": [
            [
             0,
             "#0d0887"
            ],
            [
             0.1111111111111111,
             "#46039f"
            ],
            [
             0.2222222222222222,
             "#7201a8"
            ],
            [
             0.3333333333333333,
             "#9c179e"
            ],
            [
             0.4444444444444444,
             "#bd3786"
            ],
            [
             0.5555555555555556,
             "#d8576b"
            ],
            [
             0.6666666666666666,
             "#ed7953"
            ],
            [
             0.7777777777777778,
             "#fb9f3a"
            ],
            [
             0.8888888888888888,
             "#fdca26"
            ],
            [
             1,
             "#f0f921"
            ]
           ]
          },
          "colorway": [
           "#636efa",
           "#EF553B",
           "#00cc96",
           "#ab63fa",
           "#FFA15A",
           "#19d3f3",
           "#FF6692",
           "#B6E880",
           "#FF97FF",
           "#FECB52"
          ],
          "font": {
           "color": "#2a3f5f"
          },
          "geo": {
           "bgcolor": "white",
           "lakecolor": "white",
           "landcolor": "#E5ECF6",
           "showlakes": true,
           "showland": true,
           "subunitcolor": "white"
          },
          "hoverlabel": {
           "align": "left"
          },
          "hovermode": "closest",
          "mapbox": {
           "style": "light"
          },
          "paper_bgcolor": "white",
          "plot_bgcolor": "#E5ECF6",
          "polar": {
           "angularaxis": {
            "gridcolor": "white",
            "linecolor": "white",
            "ticks": ""
           },
           "bgcolor": "#E5ECF6",
           "radialaxis": {
            "gridcolor": "white",
            "linecolor": "white",
            "ticks": ""
           }
          },
          "scene": {
           "xaxis": {
            "backgroundcolor": "#E5ECF6",
            "gridcolor": "white",
            "gridwidth": 2,
            "linecolor": "white",
            "showbackground": true,
            "ticks": "",
            "zerolinecolor": "white"
           },
           "yaxis": {
            "backgroundcolor": "#E5ECF6",
            "gridcolor": "white",
            "gridwidth": 2,
            "linecolor": "white",
            "showbackground": true,
            "ticks": "",
            "zerolinecolor": "white"
           },
           "zaxis": {
            "backgroundcolor": "#E5ECF6",
            "gridcolor": "white",
            "gridwidth": 2,
            "linecolor": "white",
            "showbackground": true,
            "ticks": "",
            "zerolinecolor": "white"
           }
          },
          "shapedefaults": {
           "line": {
            "color": "#2a3f5f"
           }
          },
          "ternary": {
           "aaxis": {
            "gridcolor": "white",
            "linecolor": "white",
            "ticks": ""
           },
           "baxis": {
            "gridcolor": "white",
            "linecolor": "white",
            "ticks": ""
           },
           "bgcolor": "#E5ECF6",
           "caxis": {
            "gridcolor": "white",
            "linecolor": "white",
            "ticks": ""
           }
          },
          "title": {
           "x": 0.05
          },
          "xaxis": {
           "automargin": true,
           "gridcolor": "white",
           "linecolor": "white",
           "ticks": "",
           "title": {
            "standoff": 15
           },
           "zerolinecolor": "white",
           "zerolinewidth": 2
          },
          "yaxis": {
           "automargin": true,
           "gridcolor": "white",
           "linecolor": "white",
           "ticks": "",
           "title": {
            "standoff": 15
           },
           "zerolinecolor": "white",
           "zerolinewidth": 2
          }
         }
        },
        "title": {
         "text": "Comparaison des simulations pour Qdot_tube - Cas 2"
        },
        "xaxis": {
         "tickmode": "array",
         "ticktext": [
          "Part 1",
          "Part 2",
          "Part 3",
          "Part 4",
          "Part 5",
          "Part 6",
          "Part 7"
         ],
         "tickvals": [
          1,
          2,
          3,
          4,
          5,
          6,
          7
         ],
         "title": {
          "text": "Parties"
         }
        },
        "yaxis": {
         "title": {
          "text": "Qdot_tube"
         }
        }
       }
      }
     },
     "metadata": {},
     "output_type": "display_data"
    },
    {
     "data": {
      "application/vnd.plotly.v1+json": {
       "config": {
        "plotlyServerURL": "https://plot.ly"
       },
       "data": [
        {
         "marker": {
          "color": "#1f77b4"
         },
         "name": "Simulation M1",
         "opacity": 0.8,
         "type": "bar",
         "width": 0.4,
         "x": [
          0.8,
          1.8,
          2.8,
          3.8,
          4.8,
          5.8,
          6.8
         ],
         "y": [
          -3.0534330950000004,
          -1.2133219974999991,
          -17.7763677,
          -2.57232658145,
          -11.810608525,
          -1.079230043749999,
          -1.2130283144999996
         ]
        },
        {
         "marker": {
          "color": "#ff7f0e"
         },
         "name": "Simulation M2",
         "opacity": 0.8,
         "type": "bar",
         "width": 0.4,
         "x": [
          1.2,
          2.2,
          3.2,
          4.2,
          5.2,
          6.2,
          7.2
         ],
         "y": [
          -3.11762431,
          -1.2734678417499994,
          -17.784138225,
          -2.292147673275,
          -12.47838965,
          -0.92518229025,
          -1.1102678452499999
         ]
        }
       ],
       "layout": {
        "barmode": "group",
        "legend": {
         "title": {
          "text": "Simulation"
         }
        },
        "template": {
         "data": {
          "bar": [
           {
            "error_x": {
             "color": "#2a3f5f"
            },
            "error_y": {
             "color": "#2a3f5f"
            },
            "marker": {
             "line": {
              "color": "#E5ECF6",
              "width": 0.5
             },
             "pattern": {
              "fillmode": "overlay",
              "size": 10,
              "solidity": 0.2
             }
            },
            "type": "bar"
           }
          ],
          "barpolar": [
           {
            "marker": {
             "line": {
              "color": "#E5ECF6",
              "width": 0.5
             },
             "pattern": {
              "fillmode": "overlay",
              "size": 10,
              "solidity": 0.2
             }
            },
            "type": "barpolar"
           }
          ],
          "carpet": [
           {
            "aaxis": {
             "endlinecolor": "#2a3f5f",
             "gridcolor": "white",
             "linecolor": "white",
             "minorgridcolor": "white",
             "startlinecolor": "#2a3f5f"
            },
            "baxis": {
             "endlinecolor": "#2a3f5f",
             "gridcolor": "white",
             "linecolor": "white",
             "minorgridcolor": "white",
             "startlinecolor": "#2a3f5f"
            },
            "type": "carpet"
           }
          ],
          "choropleth": [
           {
            "colorbar": {
             "outlinewidth": 0,
             "ticks": ""
            },
            "type": "choropleth"
           }
          ],
          "contour": [
           {
            "colorbar": {
             "outlinewidth": 0,
             "ticks": ""
            },
            "colorscale": [
             [
              0,
              "#0d0887"
             ],
             [
              0.1111111111111111,
              "#46039f"
             ],
             [
              0.2222222222222222,
              "#7201a8"
             ],
             [
              0.3333333333333333,
              "#9c179e"
             ],
             [
              0.4444444444444444,
              "#bd3786"
             ],
             [
              0.5555555555555556,
              "#d8576b"
             ],
             [
              0.6666666666666666,
              "#ed7953"
             ],
             [
              0.7777777777777778,
              "#fb9f3a"
             ],
             [
              0.8888888888888888,
              "#fdca26"
             ],
             [
              1,
              "#f0f921"
             ]
            ],
            "type": "contour"
           }
          ],
          "contourcarpet": [
           {
            "colorbar": {
             "outlinewidth": 0,
             "ticks": ""
            },
            "type": "contourcarpet"
           }
          ],
          "heatmap": [
           {
            "colorbar": {
             "outlinewidth": 0,
             "ticks": ""
            },
            "colorscale": [
             [
              0,
              "#0d0887"
             ],
             [
              0.1111111111111111,
              "#46039f"
             ],
             [
              0.2222222222222222,
              "#7201a8"
             ],
             [
              0.3333333333333333,
              "#9c179e"
             ],
             [
              0.4444444444444444,
              "#bd3786"
             ],
             [
              0.5555555555555556,
              "#d8576b"
             ],
             [
              0.6666666666666666,
              "#ed7953"
             ],
             [
              0.7777777777777778,
              "#fb9f3a"
             ],
             [
              0.8888888888888888,
              "#fdca26"
             ],
             [
              1,
              "#f0f921"
             ]
            ],
            "type": "heatmap"
           }
          ],
          "heatmapgl": [
           {
            "colorbar": {
             "outlinewidth": 0,
             "ticks": ""
            },
            "colorscale": [
             [
              0,
              "#0d0887"
             ],
             [
              0.1111111111111111,
              "#46039f"
             ],
             [
              0.2222222222222222,
              "#7201a8"
             ],
             [
              0.3333333333333333,
              "#9c179e"
             ],
             [
              0.4444444444444444,
              "#bd3786"
             ],
             [
              0.5555555555555556,
              "#d8576b"
             ],
             [
              0.6666666666666666,
              "#ed7953"
             ],
             [
              0.7777777777777778,
              "#fb9f3a"
             ],
             [
              0.8888888888888888,
              "#fdca26"
             ],
             [
              1,
              "#f0f921"
             ]
            ],
            "type": "heatmapgl"
           }
          ],
          "histogram": [
           {
            "marker": {
             "pattern": {
              "fillmode": "overlay",
              "size": 10,
              "solidity": 0.2
             }
            },
            "type": "histogram"
           }
          ],
          "histogram2d": [
           {
            "colorbar": {
             "outlinewidth": 0,
             "ticks": ""
            },
            "colorscale": [
             [
              0,
              "#0d0887"
             ],
             [
              0.1111111111111111,
              "#46039f"
             ],
             [
              0.2222222222222222,
              "#7201a8"
             ],
             [
              0.3333333333333333,
              "#9c179e"
             ],
             [
              0.4444444444444444,
              "#bd3786"
             ],
             [
              0.5555555555555556,
              "#d8576b"
             ],
             [
              0.6666666666666666,
              "#ed7953"
             ],
             [
              0.7777777777777778,
              "#fb9f3a"
             ],
             [
              0.8888888888888888,
              "#fdca26"
             ],
             [
              1,
              "#f0f921"
             ]
            ],
            "type": "histogram2d"
           }
          ],
          "histogram2dcontour": [
           {
            "colorbar": {
             "outlinewidth": 0,
             "ticks": ""
            },
            "colorscale": [
             [
              0,
              "#0d0887"
             ],
             [
              0.1111111111111111,
              "#46039f"
             ],
             [
              0.2222222222222222,
              "#7201a8"
             ],
             [
              0.3333333333333333,
              "#9c179e"
             ],
             [
              0.4444444444444444,
              "#bd3786"
             ],
             [
              0.5555555555555556,
              "#d8576b"
             ],
             [
              0.6666666666666666,
              "#ed7953"
             ],
             [
              0.7777777777777778,
              "#fb9f3a"
             ],
             [
              0.8888888888888888,
              "#fdca26"
             ],
             [
              1,
              "#f0f921"
             ]
            ],
            "type": "histogram2dcontour"
           }
          ],
          "mesh3d": [
           {
            "colorbar": {
             "outlinewidth": 0,
             "ticks": ""
            },
            "type": "mesh3d"
           }
          ],
          "parcoords": [
           {
            "line": {
             "colorbar": {
              "outlinewidth": 0,
              "ticks": ""
             }
            },
            "type": "parcoords"
           }
          ],
          "pie": [
           {
            "automargin": true,
            "type": "pie"
           }
          ],
          "scatter": [
           {
            "fillpattern": {
             "fillmode": "overlay",
             "size": 10,
             "solidity": 0.2
            },
            "type": "scatter"
           }
          ],
          "scatter3d": [
           {
            "line": {
             "colorbar": {
              "outlinewidth": 0,
              "ticks": ""
             }
            },
            "marker": {
             "colorbar": {
              "outlinewidth": 0,
              "ticks": ""
             }
            },
            "type": "scatter3d"
           }
          ],
          "scattercarpet": [
           {
            "marker": {
             "colorbar": {
              "outlinewidth": 0,
              "ticks": ""
             }
            },
            "type": "scattercarpet"
           }
          ],
          "scattergeo": [
           {
            "marker": {
             "colorbar": {
              "outlinewidth": 0,
              "ticks": ""
             }
            },
            "type": "scattergeo"
           }
          ],
          "scattergl": [
           {
            "marker": {
             "colorbar": {
              "outlinewidth": 0,
              "ticks": ""
             }
            },
            "type": "scattergl"
           }
          ],
          "scattermapbox": [
           {
            "marker": {
             "colorbar": {
              "outlinewidth": 0,
              "ticks": ""
             }
            },
            "type": "scattermapbox"
           }
          ],
          "scatterpolar": [
           {
            "marker": {
             "colorbar": {
              "outlinewidth": 0,
              "ticks": ""
             }
            },
            "type": "scatterpolar"
           }
          ],
          "scatterpolargl": [
           {
            "marker": {
             "colorbar": {
              "outlinewidth": 0,
              "ticks": ""
             }
            },
            "type": "scatterpolargl"
           }
          ],
          "scatterternary": [
           {
            "marker": {
             "colorbar": {
              "outlinewidth": 0,
              "ticks": ""
             }
            },
            "type": "scatterternary"
           }
          ],
          "surface": [
           {
            "colorbar": {
             "outlinewidth": 0,
             "ticks": ""
            },
            "colorscale": [
             [
              0,
              "#0d0887"
             ],
             [
              0.1111111111111111,
              "#46039f"
             ],
             [
              0.2222222222222222,
              "#7201a8"
             ],
             [
              0.3333333333333333,
              "#9c179e"
             ],
             [
              0.4444444444444444,
              "#bd3786"
             ],
             [
              0.5555555555555556,
              "#d8576b"
             ],
             [
              0.6666666666666666,
              "#ed7953"
             ],
             [
              0.7777777777777778,
              "#fb9f3a"
             ],
             [
              0.8888888888888888,
              "#fdca26"
             ],
             [
              1,
              "#f0f921"
             ]
            ],
            "type": "surface"
           }
          ],
          "table": [
           {
            "cells": {
             "fill": {
              "color": "#EBF0F8"
             },
             "line": {
              "color": "white"
             }
            },
            "header": {
             "fill": {
              "color": "#C8D4E3"
             },
             "line": {
              "color": "white"
             }
            },
            "type": "table"
           }
          ]
         },
         "layout": {
          "annotationdefaults": {
           "arrowcolor": "#2a3f5f",
           "arrowhead": 0,
           "arrowwidth": 1
          },
          "autotypenumbers": "strict",
          "coloraxis": {
           "colorbar": {
            "outlinewidth": 0,
            "ticks": ""
           }
          },
          "colorscale": {
           "diverging": [
            [
             0,
             "#8e0152"
            ],
            [
             0.1,
             "#c51b7d"
            ],
            [
             0.2,
             "#de77ae"
            ],
            [
             0.3,
             "#f1b6da"
            ],
            [
             0.4,
             "#fde0ef"
            ],
            [
             0.5,
             "#f7f7f7"
            ],
            [
             0.6,
             "#e6f5d0"
            ],
            [
             0.7,
             "#b8e186"
            ],
            [
             0.8,
             "#7fbc41"
            ],
            [
             0.9,
             "#4d9221"
            ],
            [
             1,
             "#276419"
            ]
           ],
           "sequential": [
            [
             0,
             "#0d0887"
            ],
            [
             0.1111111111111111,
             "#46039f"
            ],
            [
             0.2222222222222222,
             "#7201a8"
            ],
            [
             0.3333333333333333,
             "#9c179e"
            ],
            [
             0.4444444444444444,
             "#bd3786"
            ],
            [
             0.5555555555555556,
             "#d8576b"
            ],
            [
             0.6666666666666666,
             "#ed7953"
            ],
            [
             0.7777777777777778,
             "#fb9f3a"
            ],
            [
             0.8888888888888888,
             "#fdca26"
            ],
            [
             1,
             "#f0f921"
            ]
           ],
           "sequentialminus": [
            [
             0,
             "#0d0887"
            ],
            [
             0.1111111111111111,
             "#46039f"
            ],
            [
             0.2222222222222222,
             "#7201a8"
            ],
            [
             0.3333333333333333,
             "#9c179e"
            ],
            [
             0.4444444444444444,
             "#bd3786"
            ],
            [
             0.5555555555555556,
             "#d8576b"
            ],
            [
             0.6666666666666666,
             "#ed7953"
            ],
            [
             0.7777777777777778,
             "#fb9f3a"
            ],
            [
             0.8888888888888888,
             "#fdca26"
            ],
            [
             1,
             "#f0f921"
            ]
           ]
          },
          "colorway": [
           "#636efa",
           "#EF553B",
           "#00cc96",
           "#ab63fa",
           "#FFA15A",
           "#19d3f3",
           "#FF6692",
           "#B6E880",
           "#FF97FF",
           "#FECB52"
          ],
          "font": {
           "color": "#2a3f5f"
          },
          "geo": {
           "bgcolor": "white",
           "lakecolor": "white",
           "landcolor": "#E5ECF6",
           "showlakes": true,
           "showland": true,
           "subunitcolor": "white"
          },
          "hoverlabel": {
           "align": "left"
          },
          "hovermode": "closest",
          "mapbox": {
           "style": "light"
          },
          "paper_bgcolor": "white",
          "plot_bgcolor": "#E5ECF6",
          "polar": {
           "angularaxis": {
            "gridcolor": "white",
            "linecolor": "white",
            "ticks": ""
           },
           "bgcolor": "#E5ECF6",
           "radialaxis": {
            "gridcolor": "white",
            "linecolor": "white",
            "ticks": ""
           }
          },
          "scene": {
           "xaxis": {
            "backgroundcolor": "#E5ECF6",
            "gridcolor": "white",
            "gridwidth": 2,
            "linecolor": "white",
            "showbackground": true,
            "ticks": "",
            "zerolinecolor": "white"
           },
           "yaxis": {
            "backgroundcolor": "#E5ECF6",
            "gridcolor": "white",
            "gridwidth": 2,
            "linecolor": "white",
            "showbackground": true,
            "ticks": "",
            "zerolinecolor": "white"
           },
           "zaxis": {
            "backgroundcolor": "#E5ECF6",
            "gridcolor": "white",
            "gridwidth": 2,
            "linecolor": "white",
            "showbackground": true,
            "ticks": "",
            "zerolinecolor": "white"
           }
          },
          "shapedefaults": {
           "line": {
            "color": "#2a3f5f"
           }
          },
          "ternary": {
           "aaxis": {
            "gridcolor": "white",
            "linecolor": "white",
            "ticks": ""
           },
           "baxis": {
            "gridcolor": "white",
            "linecolor": "white",
            "ticks": ""
           },
           "bgcolor": "#E5ECF6",
           "caxis": {
            "gridcolor": "white",
            "linecolor": "white",
            "ticks": ""
           }
          },
          "title": {
           "x": 0.05
          },
          "xaxis": {
           "automargin": true,
           "gridcolor": "white",
           "linecolor": "white",
           "ticks": "",
           "title": {
            "standoff": 15
           },
           "zerolinecolor": "white",
           "zerolinewidth": 2
          },
          "yaxis": {
           "automargin": true,
           "gridcolor": "white",
           "linecolor": "white",
           "ticks": "",
           "title": {
            "standoff": 15
           },
           "zerolinecolor": "white",
           "zerolinewidth": 2
          }
         }
        },
        "title": {
         "text": "Comparaison des simulations pour Qdot_tube - Cas 3"
        },
        "xaxis": {
         "tickmode": "array",
         "ticktext": [
          "Part 1",
          "Part 2",
          "Part 3",
          "Part 4",
          "Part 5",
          "Part 6",
          "Part 7"
         ],
         "tickvals": [
          1,
          2,
          3,
          4,
          5,
          6,
          7
         ],
         "title": {
          "text": "Parties"
         }
        },
        "yaxis": {
         "title": {
          "text": "Qdot_tube"
         }
        }
       }
      }
     },
     "metadata": {},
     "output_type": "display_data"
    },
    {
     "data": {
      "application/vnd.plotly.v1+json": {
       "config": {
        "plotlyServerURL": "https://plot.ly"
       },
       "data": [
        {
         "marker": {
          "color": "#1f77b4"
         },
         "name": "Simulation M1",
         "opacity": 0.8,
         "type": "bar",
         "width": 0.4,
         "x": [
          0.8,
          1.8,
          2.8,
          3.8,
          4.8,
          5.8,
          6.8
         ],
         "y": [
          -2.1388391675,
          -0.81168861175,
          -13.53603605,
          -1.7541400523499995,
          -8.761526525,
          -0.910770415,
          -0.90723644825
         ]
        },
        {
         "marker": {
          "color": "#ff7f0e"
         },
         "name": "Simulation M2",
         "opacity": 0.8,
         "type": "bar",
         "width": 0.4,
         "x": [
          1.2,
          2.2,
          3.2,
          4.2,
          5.2,
          6.2,
          7.2
         ],
         "y": [
          -2.16788556,
          -0.8141868980000001,
          -12.912021424999999,
          -1.822216417275,
          -8.596979875,
          -0.7781282989999999,
          -0.8558481552499999
         ]
        }
       ],
       "layout": {
        "barmode": "group",
        "legend": {
         "title": {
          "text": "Simulation"
         }
        },
        "template": {
         "data": {
          "bar": [
           {
            "error_x": {
             "color": "#2a3f5f"
            },
            "error_y": {
             "color": "#2a3f5f"
            },
            "marker": {
             "line": {
              "color": "#E5ECF6",
              "width": 0.5
             },
             "pattern": {
              "fillmode": "overlay",
              "size": 10,
              "solidity": 0.2
             }
            },
            "type": "bar"
           }
          ],
          "barpolar": [
           {
            "marker": {
             "line": {
              "color": "#E5ECF6",
              "width": 0.5
             },
             "pattern": {
              "fillmode": "overlay",
              "size": 10,
              "solidity": 0.2
             }
            },
            "type": "barpolar"
           }
          ],
          "carpet": [
           {
            "aaxis": {
             "endlinecolor": "#2a3f5f",
             "gridcolor": "white",
             "linecolor": "white",
             "minorgridcolor": "white",
             "startlinecolor": "#2a3f5f"
            },
            "baxis": {
             "endlinecolor": "#2a3f5f",
             "gridcolor": "white",
             "linecolor": "white",
             "minorgridcolor": "white",
             "startlinecolor": "#2a3f5f"
            },
            "type": "carpet"
           }
          ],
          "choropleth": [
           {
            "colorbar": {
             "outlinewidth": 0,
             "ticks": ""
            },
            "type": "choropleth"
           }
          ],
          "contour": [
           {
            "colorbar": {
             "outlinewidth": 0,
             "ticks": ""
            },
            "colorscale": [
             [
              0,
              "#0d0887"
             ],
             [
              0.1111111111111111,
              "#46039f"
             ],
             [
              0.2222222222222222,
              "#7201a8"
             ],
             [
              0.3333333333333333,
              "#9c179e"
             ],
             [
              0.4444444444444444,
              "#bd3786"
             ],
             [
              0.5555555555555556,
              "#d8576b"
             ],
             [
              0.6666666666666666,
              "#ed7953"
             ],
             [
              0.7777777777777778,
              "#fb9f3a"
             ],
             [
              0.8888888888888888,
              "#fdca26"
             ],
             [
              1,
              "#f0f921"
             ]
            ],
            "type": "contour"
           }
          ],
          "contourcarpet": [
           {
            "colorbar": {
             "outlinewidth": 0,
             "ticks": ""
            },
            "type": "contourcarpet"
           }
          ],
          "heatmap": [
           {
            "colorbar": {
             "outlinewidth": 0,
             "ticks": ""
            },
            "colorscale": [
             [
              0,
              "#0d0887"
             ],
             [
              0.1111111111111111,
              "#46039f"
             ],
             [
              0.2222222222222222,
              "#7201a8"
             ],
             [
              0.3333333333333333,
              "#9c179e"
             ],
             [
              0.4444444444444444,
              "#bd3786"
             ],
             [
              0.5555555555555556,
              "#d8576b"
             ],
             [
              0.6666666666666666,
              "#ed7953"
             ],
             [
              0.7777777777777778,
              "#fb9f3a"
             ],
             [
              0.8888888888888888,
              "#fdca26"
             ],
             [
              1,
              "#f0f921"
             ]
            ],
            "type": "heatmap"
           }
          ],
          "heatmapgl": [
           {
            "colorbar": {
             "outlinewidth": 0,
             "ticks": ""
            },
            "colorscale": [
             [
              0,
              "#0d0887"
             ],
             [
              0.1111111111111111,
              "#46039f"
             ],
             [
              0.2222222222222222,
              "#7201a8"
             ],
             [
              0.3333333333333333,
              "#9c179e"
             ],
             [
              0.4444444444444444,
              "#bd3786"
             ],
             [
              0.5555555555555556,
              "#d8576b"
             ],
             [
              0.6666666666666666,
              "#ed7953"
             ],
             [
              0.7777777777777778,
              "#fb9f3a"
             ],
             [
              0.8888888888888888,
              "#fdca26"
             ],
             [
              1,
              "#f0f921"
             ]
            ],
            "type": "heatmapgl"
           }
          ],
          "histogram": [
           {
            "marker": {
             "pattern": {
              "fillmode": "overlay",
              "size": 10,
              "solidity": 0.2
             }
            },
            "type": "histogram"
           }
          ],
          "histogram2d": [
           {
            "colorbar": {
             "outlinewidth": 0,
             "ticks": ""
            },
            "colorscale": [
             [
              0,
              "#0d0887"
             ],
             [
              0.1111111111111111,
              "#46039f"
             ],
             [
              0.2222222222222222,
              "#7201a8"
             ],
             [
              0.3333333333333333,
              "#9c179e"
             ],
             [
              0.4444444444444444,
              "#bd3786"
             ],
             [
              0.5555555555555556,
              "#d8576b"
             ],
             [
              0.6666666666666666,
              "#ed7953"
             ],
             [
              0.7777777777777778,
              "#fb9f3a"
             ],
             [
              0.8888888888888888,
              "#fdca26"
             ],
             [
              1,
              "#f0f921"
             ]
            ],
            "type": "histogram2d"
           }
          ],
          "histogram2dcontour": [
           {
            "colorbar": {
             "outlinewidth": 0,
             "ticks": ""
            },
            "colorscale": [
             [
              0,
              "#0d0887"
             ],
             [
              0.1111111111111111,
              "#46039f"
             ],
             [
              0.2222222222222222,
              "#7201a8"
             ],
             [
              0.3333333333333333,
              "#9c179e"
             ],
             [
              0.4444444444444444,
              "#bd3786"
             ],
             [
              0.5555555555555556,
              "#d8576b"
             ],
             [
              0.6666666666666666,
              "#ed7953"
             ],
             [
              0.7777777777777778,
              "#fb9f3a"
             ],
             [
              0.8888888888888888,
              "#fdca26"
             ],
             [
              1,
              "#f0f921"
             ]
            ],
            "type": "histogram2dcontour"
           }
          ],
          "mesh3d": [
           {
            "colorbar": {
             "outlinewidth": 0,
             "ticks": ""
            },
            "type": "mesh3d"
           }
          ],
          "parcoords": [
           {
            "line": {
             "colorbar": {
              "outlinewidth": 0,
              "ticks": ""
             }
            },
            "type": "parcoords"
           }
          ],
          "pie": [
           {
            "automargin": true,
            "type": "pie"
           }
          ],
          "scatter": [
           {
            "fillpattern": {
             "fillmode": "overlay",
             "size": 10,
             "solidity": 0.2
            },
            "type": "scatter"
           }
          ],
          "scatter3d": [
           {
            "line": {
             "colorbar": {
              "outlinewidth": 0,
              "ticks": ""
             }
            },
            "marker": {
             "colorbar": {
              "outlinewidth": 0,
              "ticks": ""
             }
            },
            "type": "scatter3d"
           }
          ],
          "scattercarpet": [
           {
            "marker": {
             "colorbar": {
              "outlinewidth": 0,
              "ticks": ""
             }
            },
            "type": "scattercarpet"
           }
          ],
          "scattergeo": [
           {
            "marker": {
             "colorbar": {
              "outlinewidth": 0,
              "ticks": ""
             }
            },
            "type": "scattergeo"
           }
          ],
          "scattergl": [
           {
            "marker": {
             "colorbar": {
              "outlinewidth": 0,
              "ticks": ""
             }
            },
            "type": "scattergl"
           }
          ],
          "scattermapbox": [
           {
            "marker": {
             "colorbar": {
              "outlinewidth": 0,
              "ticks": ""
             }
            },
            "type": "scattermapbox"
           }
          ],
          "scatterpolar": [
           {
            "marker": {
             "colorbar": {
              "outlinewidth": 0,
              "ticks": ""
             }
            },
            "type": "scatterpolar"
           }
          ],
          "scatterpolargl": [
           {
            "marker": {
             "colorbar": {
              "outlinewidth": 0,
              "ticks": ""
             }
            },
            "type": "scatterpolargl"
           }
          ],
          "scatterternary": [
           {
            "marker": {
             "colorbar": {
              "outlinewidth": 0,
              "ticks": ""
             }
            },
            "type": "scatterternary"
           }
          ],
          "surface": [
           {
            "colorbar": {
             "outlinewidth": 0,
             "ticks": ""
            },
            "colorscale": [
             [
              0,
              "#0d0887"
             ],
             [
              0.1111111111111111,
              "#46039f"
             ],
             [
              0.2222222222222222,
              "#7201a8"
             ],
             [
              0.3333333333333333,
              "#9c179e"
             ],
             [
              0.4444444444444444,
              "#bd3786"
             ],
             [
              0.5555555555555556,
              "#d8576b"
             ],
             [
              0.6666666666666666,
              "#ed7953"
             ],
             [
              0.7777777777777778,
              "#fb9f3a"
             ],
             [
              0.8888888888888888,
              "#fdca26"
             ],
             [
              1,
              "#f0f921"
             ]
            ],
            "type": "surface"
           }
          ],
          "table": [
           {
            "cells": {
             "fill": {
              "color": "#EBF0F8"
             },
             "line": {
              "color": "white"
             }
            },
            "header": {
             "fill": {
              "color": "#C8D4E3"
             },
             "line": {
              "color": "white"
             }
            },
            "type": "table"
           }
          ]
         },
         "layout": {
          "annotationdefaults": {
           "arrowcolor": "#2a3f5f",
           "arrowhead": 0,
           "arrowwidth": 1
          },
          "autotypenumbers": "strict",
          "coloraxis": {
           "colorbar": {
            "outlinewidth": 0,
            "ticks": ""
           }
          },
          "colorscale": {
           "diverging": [
            [
             0,
             "#8e0152"
            ],
            [
             0.1,
             "#c51b7d"
            ],
            [
             0.2,
             "#de77ae"
            ],
            [
             0.3,
             "#f1b6da"
            ],
            [
             0.4,
             "#fde0ef"
            ],
            [
             0.5,
             "#f7f7f7"
            ],
            [
             0.6,
             "#e6f5d0"
            ],
            [
             0.7,
             "#b8e186"
            ],
            [
             0.8,
             "#7fbc41"
            ],
            [
             0.9,
             "#4d9221"
            ],
            [
             1,
             "#276419"
            ]
           ],
           "sequential": [
            [
             0,
             "#0d0887"
            ],
            [
             0.1111111111111111,
             "#46039f"
            ],
            [
             0.2222222222222222,
             "#7201a8"
            ],
            [
             0.3333333333333333,
             "#9c179e"
            ],
            [
             0.4444444444444444,
             "#bd3786"
            ],
            [
             0.5555555555555556,
             "#d8576b"
            ],
            [
             0.6666666666666666,
             "#ed7953"
            ],
            [
             0.7777777777777778,
             "#fb9f3a"
            ],
            [
             0.8888888888888888,
             "#fdca26"
            ],
            [
             1,
             "#f0f921"
            ]
           ],
           "sequentialminus": [
            [
             0,
             "#0d0887"
            ],
            [
             0.1111111111111111,
             "#46039f"
            ],
            [
             0.2222222222222222,
             "#7201a8"
            ],
            [
             0.3333333333333333,
             "#9c179e"
            ],
            [
             0.4444444444444444,
             "#bd3786"
            ],
            [
             0.5555555555555556,
             "#d8576b"
            ],
            [
             0.6666666666666666,
             "#ed7953"
            ],
            [
             0.7777777777777778,
             "#fb9f3a"
            ],
            [
             0.8888888888888888,
             "#fdca26"
            ],
            [
             1,
             "#f0f921"
            ]
           ]
          },
          "colorway": [
           "#636efa",
           "#EF553B",
           "#00cc96",
           "#ab63fa",
           "#FFA15A",
           "#19d3f3",
           "#FF6692",
           "#B6E880",
           "#FF97FF",
           "#FECB52"
          ],
          "font": {
           "color": "#2a3f5f"
          },
          "geo": {
           "bgcolor": "white",
           "lakecolor": "white",
           "landcolor": "#E5ECF6",
           "showlakes": true,
           "showland": true,
           "subunitcolor": "white"
          },
          "hoverlabel": {
           "align": "left"
          },
          "hovermode": "closest",
          "mapbox": {
           "style": "light"
          },
          "paper_bgcolor": "white",
          "plot_bgcolor": "#E5ECF6",
          "polar": {
           "angularaxis": {
            "gridcolor": "white",
            "linecolor": "white",
            "ticks": ""
           },
           "bgcolor": "#E5ECF6",
           "radialaxis": {
            "gridcolor": "white",
            "linecolor": "white",
            "ticks": ""
           }
          },
          "scene": {
           "xaxis": {
            "backgroundcolor": "#E5ECF6",
            "gridcolor": "white",
            "gridwidth": 2,
            "linecolor": "white",
            "showbackground": true,
            "ticks": "",
            "zerolinecolor": "white"
           },
           "yaxis": {
            "backgroundcolor": "#E5ECF6",
            "gridcolor": "white",
            "gridwidth": 2,
            "linecolor": "white",
            "showbackground": true,
            "ticks": "",
            "zerolinecolor": "white"
           },
           "zaxis": {
            "backgroundcolor": "#E5ECF6",
            "gridcolor": "white",
            "gridwidth": 2,
            "linecolor": "white",
            "showbackground": true,
            "ticks": "",
            "zerolinecolor": "white"
           }
          },
          "shapedefaults": {
           "line": {
            "color": "#2a3f5f"
           }
          },
          "ternary": {
           "aaxis": {
            "gridcolor": "white",
            "linecolor": "white",
            "ticks": ""
           },
           "baxis": {
            "gridcolor": "white",
            "linecolor": "white",
            "ticks": ""
           },
           "bgcolor": "#E5ECF6",
           "caxis": {
            "gridcolor": "white",
            "linecolor": "white",
            "ticks": ""
           }
          },
          "title": {
           "x": 0.05
          },
          "xaxis": {
           "automargin": true,
           "gridcolor": "white",
           "linecolor": "white",
           "ticks": "",
           "title": {
            "standoff": 15
           },
           "zerolinecolor": "white",
           "zerolinewidth": 2
          },
          "yaxis": {
           "automargin": true,
           "gridcolor": "white",
           "linecolor": "white",
           "ticks": "",
           "title": {
            "standoff": 15
           },
           "zerolinecolor": "white",
           "zerolinewidth": 2
          }
         }
        },
        "title": {
         "text": "Comparaison des simulations pour Qdot_tube - Cas 4"
        },
        "xaxis": {
         "tickmode": "array",
         "ticktext": [
          "Part 1",
          "Part 2",
          "Part 3",
          "Part 4",
          "Part 5",
          "Part 6",
          "Part 7"
         ],
         "tickvals": [
          1,
          2,
          3,
          4,
          5,
          6,
          7
         ],
         "title": {
          "text": "Parties"
         }
        },
        "yaxis": {
         "title": {
          "text": "Qdot_tube"
         }
        }
       }
      }
     },
     "metadata": {},
     "output_type": "display_data"
    },
    {
     "data": {
      "application/vnd.plotly.v1+json": {
       "config": {
        "plotlyServerURL": "https://plot.ly"
       },
       "data": [
        {
         "marker": {
          "color": "#1f77b4"
         },
         "name": "Simulation M1",
         "opacity": 0.8,
         "type": "bar",
         "width": 0.4,
         "x": [
          0.8,
          1.8,
          2.8,
          3.8,
          4.8,
          5.8,
          6.8
         ],
         "y": [
          -1.2901164539999996,
          -0.43841156224999955,
          -7.786318275,
          -1.056146643075,
          -5.022241975,
          -0.43380135,
          -0.5063082379999995
         ]
        },
        {
         "marker": {
          "color": "#ff7f0e"
         },
         "name": "Simulation M2",
         "opacity": 0.8,
         "type": "bar",
         "width": 0.4,
         "x": [
          1.2,
          2.2,
          3.2,
          4.2,
          5.2,
          6.2,
          7.2
         ],
         "y": [
          -1.305787369,
          -0.434786490499999,
          -8.17356725,
          -1.0902436659249994,
          -5.993715775,
          -0.425112764,
          -0.49863156825000005
         ]
        }
       ],
       "layout": {
        "barmode": "group",
        "legend": {
         "title": {
          "text": "Simulation"
         }
        },
        "template": {
         "data": {
          "bar": [
           {
            "error_x": {
             "color": "#2a3f5f"
            },
            "error_y": {
             "color": "#2a3f5f"
            },
            "marker": {
             "line": {
              "color": "#E5ECF6",
              "width": 0.5
             },
             "pattern": {
              "fillmode": "overlay",
              "size": 10,
              "solidity": 0.2
             }
            },
            "type": "bar"
           }
          ],
          "barpolar": [
           {
            "marker": {
             "line": {
              "color": "#E5ECF6",
              "width": 0.5
             },
             "pattern": {
              "fillmode": "overlay",
              "size": 10,
              "solidity": 0.2
             }
            },
            "type": "barpolar"
           }
          ],
          "carpet": [
           {
            "aaxis": {
             "endlinecolor": "#2a3f5f",
             "gridcolor": "white",
             "linecolor": "white",
             "minorgridcolor": "white",
             "startlinecolor": "#2a3f5f"
            },
            "baxis": {
             "endlinecolor": "#2a3f5f",
             "gridcolor": "white",
             "linecolor": "white",
             "minorgridcolor": "white",
             "startlinecolor": "#2a3f5f"
            },
            "type": "carpet"
           }
          ],
          "choropleth": [
           {
            "colorbar": {
             "outlinewidth": 0,
             "ticks": ""
            },
            "type": "choropleth"
           }
          ],
          "contour": [
           {
            "colorbar": {
             "outlinewidth": 0,
             "ticks": ""
            },
            "colorscale": [
             [
              0,
              "#0d0887"
             ],
             [
              0.1111111111111111,
              "#46039f"
             ],
             [
              0.2222222222222222,
              "#7201a8"
             ],
             [
              0.3333333333333333,
              "#9c179e"
             ],
             [
              0.4444444444444444,
              "#bd3786"
             ],
             [
              0.5555555555555556,
              "#d8576b"
             ],
             [
              0.6666666666666666,
              "#ed7953"
             ],
             [
              0.7777777777777778,
              "#fb9f3a"
             ],
             [
              0.8888888888888888,
              "#fdca26"
             ],
             [
              1,
              "#f0f921"
             ]
            ],
            "type": "contour"
           }
          ],
          "contourcarpet": [
           {
            "colorbar": {
             "outlinewidth": 0,
             "ticks": ""
            },
            "type": "contourcarpet"
           }
          ],
          "heatmap": [
           {
            "colorbar": {
             "outlinewidth": 0,
             "ticks": ""
            },
            "colorscale": [
             [
              0,
              "#0d0887"
             ],
             [
              0.1111111111111111,
              "#46039f"
             ],
             [
              0.2222222222222222,
              "#7201a8"
             ],
             [
              0.3333333333333333,
              "#9c179e"
             ],
             [
              0.4444444444444444,
              "#bd3786"
             ],
             [
              0.5555555555555556,
              "#d8576b"
             ],
             [
              0.6666666666666666,
              "#ed7953"
             ],
             [
              0.7777777777777778,
              "#fb9f3a"
             ],
             [
              0.8888888888888888,
              "#fdca26"
             ],
             [
              1,
              "#f0f921"
             ]
            ],
            "type": "heatmap"
           }
          ],
          "heatmapgl": [
           {
            "colorbar": {
             "outlinewidth": 0,
             "ticks": ""
            },
            "colorscale": [
             [
              0,
              "#0d0887"
             ],
             [
              0.1111111111111111,
              "#46039f"
             ],
             [
              0.2222222222222222,
              "#7201a8"
             ],
             [
              0.3333333333333333,
              "#9c179e"
             ],
             [
              0.4444444444444444,
              "#bd3786"
             ],
             [
              0.5555555555555556,
              "#d8576b"
             ],
             [
              0.6666666666666666,
              "#ed7953"
             ],
             [
              0.7777777777777778,
              "#fb9f3a"
             ],
             [
              0.8888888888888888,
              "#fdca26"
             ],
             [
              1,
              "#f0f921"
             ]
            ],
            "type": "heatmapgl"
           }
          ],
          "histogram": [
           {
            "marker": {
             "pattern": {
              "fillmode": "overlay",
              "size": 10,
              "solidity": 0.2
             }
            },
            "type": "histogram"
           }
          ],
          "histogram2d": [
           {
            "colorbar": {
             "outlinewidth": 0,
             "ticks": ""
            },
            "colorscale": [
             [
              0,
              "#0d0887"
             ],
             [
              0.1111111111111111,
              "#46039f"
             ],
             [
              0.2222222222222222,
              "#7201a8"
             ],
             [
              0.3333333333333333,
              "#9c179e"
             ],
             [
              0.4444444444444444,
              "#bd3786"
             ],
             [
              0.5555555555555556,
              "#d8576b"
             ],
             [
              0.6666666666666666,
              "#ed7953"
             ],
             [
              0.7777777777777778,
              "#fb9f3a"
             ],
             [
              0.8888888888888888,
              "#fdca26"
             ],
             [
              1,
              "#f0f921"
             ]
            ],
            "type": "histogram2d"
           }
          ],
          "histogram2dcontour": [
           {
            "colorbar": {
             "outlinewidth": 0,
             "ticks": ""
            },
            "colorscale": [
             [
              0,
              "#0d0887"
             ],
             [
              0.1111111111111111,
              "#46039f"
             ],
             [
              0.2222222222222222,
              "#7201a8"
             ],
             [
              0.3333333333333333,
              "#9c179e"
             ],
             [
              0.4444444444444444,
              "#bd3786"
             ],
             [
              0.5555555555555556,
              "#d8576b"
             ],
             [
              0.6666666666666666,
              "#ed7953"
             ],
             [
              0.7777777777777778,
              "#fb9f3a"
             ],
             [
              0.8888888888888888,
              "#fdca26"
             ],
             [
              1,
              "#f0f921"
             ]
            ],
            "type": "histogram2dcontour"
           }
          ],
          "mesh3d": [
           {
            "colorbar": {
             "outlinewidth": 0,
             "ticks": ""
            },
            "type": "mesh3d"
           }
          ],
          "parcoords": [
           {
            "line": {
             "colorbar": {
              "outlinewidth": 0,
              "ticks": ""
             }
            },
            "type": "parcoords"
           }
          ],
          "pie": [
           {
            "automargin": true,
            "type": "pie"
           }
          ],
          "scatter": [
           {
            "fillpattern": {
             "fillmode": "overlay",
             "size": 10,
             "solidity": 0.2
            },
            "type": "scatter"
           }
          ],
          "scatter3d": [
           {
            "line": {
             "colorbar": {
              "outlinewidth": 0,
              "ticks": ""
             }
            },
            "marker": {
             "colorbar": {
              "outlinewidth": 0,
              "ticks": ""
             }
            },
            "type": "scatter3d"
           }
          ],
          "scattercarpet": [
           {
            "marker": {
             "colorbar": {
              "outlinewidth": 0,
              "ticks": ""
             }
            },
            "type": "scattercarpet"
           }
          ],
          "scattergeo": [
           {
            "marker": {
             "colorbar": {
              "outlinewidth": 0,
              "ticks": ""
             }
            },
            "type": "scattergeo"
           }
          ],
          "scattergl": [
           {
            "marker": {
             "colorbar": {
              "outlinewidth": 0,
              "ticks": ""
             }
            },
            "type": "scattergl"
           }
          ],
          "scattermapbox": [
           {
            "marker": {
             "colorbar": {
              "outlinewidth": 0,
              "ticks": ""
             }
            },
            "type": "scattermapbox"
           }
          ],
          "scatterpolar": [
           {
            "marker": {
             "colorbar": {
              "outlinewidth": 0,
              "ticks": ""
             }
            },
            "type": "scatterpolar"
           }
          ],
          "scatterpolargl": [
           {
            "marker": {
             "colorbar": {
              "outlinewidth": 0,
              "ticks": ""
             }
            },
            "type": "scatterpolargl"
           }
          ],
          "scatterternary": [
           {
            "marker": {
             "colorbar": {
              "outlinewidth": 0,
              "ticks": ""
             }
            },
            "type": "scatterternary"
           }
          ],
          "surface": [
           {
            "colorbar": {
             "outlinewidth": 0,
             "ticks": ""
            },
            "colorscale": [
             [
              0,
              "#0d0887"
             ],
             [
              0.1111111111111111,
              "#46039f"
             ],
             [
              0.2222222222222222,
              "#7201a8"
             ],
             [
              0.3333333333333333,
              "#9c179e"
             ],
             [
              0.4444444444444444,
              "#bd3786"
             ],
             [
              0.5555555555555556,
              "#d8576b"
             ],
             [
              0.6666666666666666,
              "#ed7953"
             ],
             [
              0.7777777777777778,
              "#fb9f3a"
             ],
             [
              0.8888888888888888,
              "#fdca26"
             ],
             [
              1,
              "#f0f921"
             ]
            ],
            "type": "surface"
           }
          ],
          "table": [
           {
            "cells": {
             "fill": {
              "color": "#EBF0F8"
             },
             "line": {
              "color": "white"
             }
            },
            "header": {
             "fill": {
              "color": "#C8D4E3"
             },
             "line": {
              "color": "white"
             }
            },
            "type": "table"
           }
          ]
         },
         "layout": {
          "annotationdefaults": {
           "arrowcolor": "#2a3f5f",
           "arrowhead": 0,
           "arrowwidth": 1
          },
          "autotypenumbers": "strict",
          "coloraxis": {
           "colorbar": {
            "outlinewidth": 0,
            "ticks": ""
           }
          },
          "colorscale": {
           "diverging": [
            [
             0,
             "#8e0152"
            ],
            [
             0.1,
             "#c51b7d"
            ],
            [
             0.2,
             "#de77ae"
            ],
            [
             0.3,
             "#f1b6da"
            ],
            [
             0.4,
             "#fde0ef"
            ],
            [
             0.5,
             "#f7f7f7"
            ],
            [
             0.6,
             "#e6f5d0"
            ],
            [
             0.7,
             "#b8e186"
            ],
            [
             0.8,
             "#7fbc41"
            ],
            [
             0.9,
             "#4d9221"
            ],
            [
             1,
             "#276419"
            ]
           ],
           "sequential": [
            [
             0,
             "#0d0887"
            ],
            [
             0.1111111111111111,
             "#46039f"
            ],
            [
             0.2222222222222222,
             "#7201a8"
            ],
            [
             0.3333333333333333,
             "#9c179e"
            ],
            [
             0.4444444444444444,
             "#bd3786"
            ],
            [
             0.5555555555555556,
             "#d8576b"
            ],
            [
             0.6666666666666666,
             "#ed7953"
            ],
            [
             0.7777777777777778,
             "#fb9f3a"
            ],
            [
             0.8888888888888888,
             "#fdca26"
            ],
            [
             1,
             "#f0f921"
            ]
           ],
           "sequentialminus": [
            [
             0,
             "#0d0887"
            ],
            [
             0.1111111111111111,
             "#46039f"
            ],
            [
             0.2222222222222222,
             "#7201a8"
            ],
            [
             0.3333333333333333,
             "#9c179e"
            ],
            [
             0.4444444444444444,
             "#bd3786"
            ],
            [
             0.5555555555555556,
             "#d8576b"
            ],
            [
             0.6666666666666666,
             "#ed7953"
            ],
            [
             0.7777777777777778,
             "#fb9f3a"
            ],
            [
             0.8888888888888888,
             "#fdca26"
            ],
            [
             1,
             "#f0f921"
            ]
           ]
          },
          "colorway": [
           "#636efa",
           "#EF553B",
           "#00cc96",
           "#ab63fa",
           "#FFA15A",
           "#19d3f3",
           "#FF6692",
           "#B6E880",
           "#FF97FF",
           "#FECB52"
          ],
          "font": {
           "color": "#2a3f5f"
          },
          "geo": {
           "bgcolor": "white",
           "lakecolor": "white",
           "landcolor": "#E5ECF6",
           "showlakes": true,
           "showland": true,
           "subunitcolor": "white"
          },
          "hoverlabel": {
           "align": "left"
          },
          "hovermode": "closest",
          "mapbox": {
           "style": "light"
          },
          "paper_bgcolor": "white",
          "plot_bgcolor": "#E5ECF6",
          "polar": {
           "angularaxis": {
            "gridcolor": "white",
            "linecolor": "white",
            "ticks": ""
           },
           "bgcolor": "#E5ECF6",
           "radialaxis": {
            "gridcolor": "white",
            "linecolor": "white",
            "ticks": ""
           }
          },
          "scene": {
           "xaxis": {
            "backgroundcolor": "#E5ECF6",
            "gridcolor": "white",
            "gridwidth": 2,
            "linecolor": "white",
            "showbackground": true,
            "ticks": "",
            "zerolinecolor": "white"
           },
           "yaxis": {
            "backgroundcolor": "#E5ECF6",
            "gridcolor": "white",
            "gridwidth": 2,
            "linecolor": "white",
            "showbackground": true,
            "ticks": "",
            "zerolinecolor": "white"
           },
           "zaxis": {
            "backgroundcolor": "#E5ECF6",
            "gridcolor": "white",
            "gridwidth": 2,
            "linecolor": "white",
            "showbackground": true,
            "ticks": "",
            "zerolinecolor": "white"
           }
          },
          "shapedefaults": {
           "line": {
            "color": "#2a3f5f"
           }
          },
          "ternary": {
           "aaxis": {
            "gridcolor": "white",
            "linecolor": "white",
            "ticks": ""
           },
           "baxis": {
            "gridcolor": "white",
            "linecolor": "white",
            "ticks": ""
           },
           "bgcolor": "#E5ECF6",
           "caxis": {
            "gridcolor": "white",
            "linecolor": "white",
            "ticks": ""
           }
          },
          "title": {
           "x": 0.05
          },
          "xaxis": {
           "automargin": true,
           "gridcolor": "white",
           "linecolor": "white",
           "ticks": "",
           "title": {
            "standoff": 15
           },
           "zerolinecolor": "white",
           "zerolinewidth": 2
          },
          "yaxis": {
           "automargin": true,
           "gridcolor": "white",
           "linecolor": "white",
           "ticks": "",
           "title": {
            "standoff": 15
           },
           "zerolinecolor": "white",
           "zerolinewidth": 2
          }
         }
        },
        "title": {
         "text": "Comparaison des simulations pour Qdot_tube - Cas 5"
        },
        "xaxis": {
         "tickmode": "array",
         "ticktext": [
          "Part 1",
          "Part 2",
          "Part 3",
          "Part 4",
          "Part 5",
          "Part 6",
          "Part 7"
         ],
         "tickvals": [
          1,
          2,
          3,
          4,
          5,
          6,
          7
         ],
         "title": {
          "text": "Parties"
         }
        },
        "yaxis": {
         "title": {
          "text": "Qdot_tube"
         }
        }
       }
      }
     },
     "metadata": {},
     "output_type": "display_data"
    }
   ],
   "source": [
    "## Comparaison Qdot_tube pour chaque partie // CFD\n",
    "\n",
    "# Couleurs pour chaque simulation (autant de couleurs que de simulations)\n",
    "sim_colors = ['#1f77b4', '#ff7f0e', '#2ca02c', '#d62728', '#9467bd', '#8c564b', '#e377c2']\n",
    "\n",
    "# Initialisation de la liste de figures pour les graphiques par cas\n",
    "fig_comparison_list = []\n",
    "\n",
    "# Largeur des barres pour chaque simulation\n",
    "bar_width = 0.8 / nb_mesh\n",
    "\n",
    "# Positions des barres pour chaque partie et chaque simulation\n",
    "bar_positions = np.arange(1, nb_hx + 3)  # positions pour chaque partie (1 à nb_hx)\n",
    "\n",
    "# Boucle sur chaque cas\n",
    "for case in range(nb_cases):\n",
    "    # Créer une figure pour comparer les simulations\n",
    "    fig_comparison = go.Figure()\n",
    "\n",
    "    # Pour chaque simulation (chaque maillage)\n",
    "    for mesh in range(nb_mesh):\n",
    "        # Liste pour stocker les valeurs de Qdot_top_rad pour chaque partie\n",
    "        top_rad_values = []\n",
    "\n",
    "        # Pour chaque partie\n",
    "        for part in range(1, nb_hx + 3):\n",
    "            # Récupérer les valeurs de Qdot_top_rad pour la dernière itération pour ce cas et ce maillage\n",
    "            iteration = limit_big_it - 1\n",
    "            Qdot_tube, Qdot_top, Qdot_abs, Qdot_top_rad = calculate_Qdot(mesh, case, iteration)\n",
    "            top_rad_values.append(Qdot_tube[part - 1])\n",
    "\n",
    "        # Ajouter les barres pour chaque partie\n",
    "        fig_comparison.add_trace(go.Bar(\n",
    "            x=bar_positions + (mesh - (nb_mesh - 1) / 2) * bar_width,\n",
    "            y=top_rad_values,\n",
    "            name=f'Simulation M{mesh + 1}',\n",
    "            marker_color=sim_colors[mesh],\n",
    "            width=bar_width,\n",
    "            opacity=0.8\n",
    "        ))\n",
    "\n",
    "    # Mise en forme du titre et des axes\n",
    "    fig_comparison.update_layout(\n",
    "        title=f'Comparaison des simulations pour Qdot_tube - Cas {case + 1}',\n",
    "        xaxis_title='Parties',\n",
    "        yaxis_title='Qdot_tube',\n",
    "        xaxis=dict(\n",
    "            tickmode='array',\n",
    "            tickvals=np.arange(1, nb_hx + 3),\n",
    "            ticktext=[f'Part {i}' for i in range(1, nb_hx + 3)]\n",
    "        ),\n",
    "        barmode='group',  # Regrouper les barres\n",
    "        legend_title='Simulation'\n",
    "    )\n",
    "\n",
    "    # Ajouter la figure à la liste\n",
    "    fig_comparison_list.append(fig_comparison)\n",
    "\n",
    "# Afficher toutes les figures\n",
    "for fig_comparison in fig_comparison_list:\n",
    "    fig_comparison.show()\n"
   ]
  },
  {
   "cell_type": "code",
   "execution_count": null,
   "metadata": {},
   "outputs": [],
   "source": [
    "## Comparaison de la convergence Qdot_top_conv // CFD et 1D \n",
    "\n",
    "# Initialiser les couleurs pour les parties (7 couleurs différentes)\n",
    "part_colors = ['#1f77b4', '#ff7f0e', '#2ca02c', '#d62728', '#9467bd', '#8c564b', '#e377c2']\n",
    "\n",
    "# Boucle sur chaque cas\n",
    "for case in range(nb_cases):\n",
    "    # Créer une figure pour les valeurs de Qdot_tube\n",
    "    fig_top = go.Figure()\n",
    "\n",
    "    # Pour chaque simulation (chaque maillage)\n",
    "    for mesh in range(nb_mesh):\n",
    "        # Listes pour stocker les valeurs de chaque transfert pour chaque itération pour CFD et 1D\n",
    "        Qdot_top_values_cfd = []\n",
    "        Qdot_top_values_1d = [[] for _ in range(nb_hx + 3)]\n",
    "        Qdot_combined_values = [[] for _ in range(nb_hx + 3)]\n",
    "        iterations_cfd = []\n",
    "        iterations_1d = [[] for _ in range(nb_hx + 3)]\n",
    "        iterations_combined = [[] for _ in range(nb_hx + 3)]\n",
    "\n",
    "        # Boucle sur chaque itération pour calculer les valeurs\n",
    "        for iteration in range(limit_big_it):\n",
    "            # Calculer les valeurs CFD\n",
    "            Qdot_tube, Qdot_top, Qdot_abs, Qdot_top_rad = calculate_Qdot(mesh, case, iteration)\n",
    "            Qdot_top_values_cfd.append(Qdot_top)\n",
    "            iterations_cfd.append(iteration + 1)\n",
    "\n",
    "            # Récupérer les valeurs pour Qdot_tube_back pour 1D\n",
    "            for part in range(1, nb_hx + 3):\n",
    "                top_value_1d = df_one_mesh_case_list[mesh][case][iteration]['Qdot_top_conv'].loc[f'part{part}']\n",
    "                Qdot_top_values_1d[part-1].append(top_value_1d)\n",
    "                iterations_1d[part-1].append(iteration + 1.5)\n",
    "\n",
    "                # Combinaison des valeurs CFD et 1D\n",
    "                Qdot_combined_values[part-1].append(Qdot_top[part-1])\n",
    "                Qdot_combined_values[part-1].append(top_value_1d)\n",
    "                iterations_combined[part-1].append(iteration + 1)\n",
    "                iterations_combined[part-1].append(iteration + 1.5)\n",
    "\n",
    "        # Ajouter les valeurs CFD et 1D à la figure\n",
    "        for part in range(1, nb_hx + 3):\n",
    "            # Tracer les valeurs CFD\n",
    "            fig_top.add_trace(go.Scatter(x=iterations_cfd, \n",
    "                                          y=[qt[part-1] for qt in Qdot_top_values_cfd],\n",
    "                                          mode='markers',\n",
    "                                          name=f'Part {part} CFD - Simu M{mesh+1}',\n",
    "                                          line=dict(width=2, color=part_colors[part-1]),\n",
    "                                          marker=dict(symbol='cross')))\n",
    "\n",
    "            # Tracer les valeurs 1D\n",
    "            fig_top.add_trace(go.Scatter(x=iterations_1d[part-1], \n",
    "                                          y=Qdot_top_values_1d[part-1],\n",
    "                                          mode='markers',\n",
    "                                          name=f'Part {part} 1D - Simu M{mesh+1}',\n",
    "                                          line=dict(width=2, color=part_colors[part-1], dash='dot'),\n",
    "                                          marker=dict(symbol='x')))\n",
    "            \n",
    "            # Tracer la courbe combinée\n",
    "            fig_top.add_trace(go.Scatter(x=iterations_combined[part-1], \n",
    "                                          y=Qdot_combined_values[part-1],\n",
    "                                          mode='lines',\n",
    "                                          name=f'Part {part} Combiné',\n",
    "                                          line=dict(width=2, color=part_colors[part-1], dash ='dot')))\n",
    "\n",
    "    # Mise en forme du titre et des axes\n",
    "    fig_top.update_layout(title=f'Qdot_top_conv - Cas {case+1}',\n",
    "                           xaxis_title='Itération',\n",
    "                           yaxis_title='Qdot_tube_back',\n",
    "                           legend_title='Partie et Simulation')\n",
    "\n",
    "    # Affichage de la figure\n",
    "    fig_top.show()\n"
   ]
  },
  {
   "cell_type": "code",
   "execution_count": null,
   "metadata": {},
   "outputs": [],
   "source": [
    "## Comparaison Qdot_tube pour chaque partie // CFD et 1D\n",
    "\n",
    "# Initialiser les couleurs pour les parties (7 couleurs différentes)\n",
    "part_colors = ['#1f77b4', '#ff7f0e', '#2ca02c', '#d62728', '#9467bd', '#8c564b', '#e377c2']\n",
    "\n",
    "# Boucle sur chaque cas\n",
    "for case in range(nb_cases):\n",
    "    # Créer une figure pour les valeurs de Qdot_tube\n",
    "    fig_tube = go.Figure()\n",
    "\n",
    "    # Pour chaque simulation (chaque maillage)\n",
    "    for mesh in range(nb_mesh):\n",
    "        # Listes pour stocker les valeurs de chaque transfert pour chaque itération pour CFD et 1D\n",
    "        Qdot_tube_values_cfd = []\n",
    "        Qdot_tube_values_1d = [[] for _ in range(nb_hx + 3)]\n",
    "        Qdot_combined_values = [[] for _ in range(nb_hx + 3)]\n",
    "        iterations_cfd = []\n",
    "        iterations_1d = [[] for _ in range(nb_hx + 3)]\n",
    "        iterations_combined = [[] for _ in range(nb_hx + 3)]\n",
    "\n",
    "        # Boucle sur chaque itération pour calculer les valeurs\n",
    "        for iteration in range(limit_big_it):\n",
    "            # Calculer les valeurs CFD\n",
    "            Qdot_tube, Qdot_top, Qdot_abs, Qdot_top_rad = calculate_Qdot(mesh, case, iteration)\n",
    "            Qdot_tube_values_cfd.append(Qdot_tube)\n",
    "            iterations_cfd.append(iteration + 1)\n",
    "\n",
    "            # Récupérer les valeurs pour Qdot_tube_back pour 1D\n",
    "            for part in {3,5}:\n",
    "                tube_value_1d = df_one_mesh_case_list[mesh][case][iteration]['Qdot_tube_back'].loc[f'part{part}']\n",
    "                Qdot_tube_values_1d[part-1].append(tube_value_1d)\n",
    "                iterations_1d[part-1].append(iteration + 1.5)\n",
    "\n",
    "                # Combinaison des valeurs CFD et 1D\n",
    "                Qdot_combined_values[part-1].append(Qdot_tube[part-1])\n",
    "                Qdot_combined_values[part-1].append(tube_value_1d)\n",
    "                iterations_combined[part-1].append(iteration + 1)\n",
    "                iterations_combined[part-1].append(iteration + 1.5)\n",
    "\n",
    "        # Ajouter les valeurs CFD et 1D à la figure\n",
    "        for part in {3,5}:\n",
    "            # Tracer les valeurs CFD\n",
    "            fig_tube.add_trace(go.Scatter(x=iterations_cfd, \n",
    "                                          y=[qt[part-1] for qt in Qdot_tube_values_cfd],\n",
    "                                          mode='markers',\n",
    "                                          name=f'Simu M{mesh+1}-Part{part} CFD',\n",
    "                                          line=dict(width=2, color=part_colors[part-1]),\n",
    "                                          marker=dict(symbol='cross')))\n",
    "\n",
    "            # Tracer les valeurs 1D\n",
    "            fig_tube.add_trace(go.Scatter(x=iterations_1d[part-1], \n",
    "                                          y=Qdot_tube_values_1d[part-1],\n",
    "                                          mode='markers',\n",
    "                                          name=f'Simu M{mesh+1}-Part{part} 1D',\n",
    "                                          line=dict(width=2, color=part_colors[part-1], dash='dot'),\n",
    "                                          marker=dict(symbol='x')))\n",
    "            \n",
    "            # Tracer la courbe combinée\n",
    "            fig_tube.add_trace(go.Scatter(x=iterations_combined[part-1], \n",
    "                                          y=Qdot_combined_values[part-1],\n",
    "                                          mode='lines',\n",
    "                                          name=f'Part {part} Combiné',\n",
    "                                          line=dict(width=2, color=part_colors[part-1], dash ='dot')))\n",
    "\n",
    "    # Mise en forme du titre et des axes\n",
    "    fig_tube.update_layout(title=f'Qdot_tube - Cas {case+1}',\n",
    "                           xaxis_title='Itération',\n",
    "                           yaxis_title='Qdot_tube_back',\n",
    "                           legend_title='Partie et Simulation')\n",
    "\n",
    "    # Affichage de la figure\n",
    "    fig_tube.show()\n"
   ]
  },
  {
   "cell_type": "markdown",
   "metadata": {},
   "source": [
    "### Cas par cas"
   ]
  },
  {
   "cell_type": "code",
   "execution_count": null,
   "metadata": {},
   "outputs": [],
   "source": [
    "# Définir le cas que vous voulez afficher\n",
    "case = 1\n",
    "\n",
    "# Affichage Qdot_top // CFD et 1D\n",
    "# Initialiser les couleurs pour les parties (7 couleurs différentes)\n",
    "part_colors = ['#1f77b4', '#ff7f0e', '#2ca02c', '#d62728', '#9467bd', '#8c564b', '#e377c2']\n",
    "\n",
    "\n",
    "fig_top = go.Figure()\n",
    "# Pour chaque simulation (chaque maillage)\n",
    "for mesh in range(nb_mesh):\n",
    "    # Listes pour stocker les valeurs de chaque transfert pour chaque itération pour CFD et 1D\n",
    "    Qdot_top_values_cfd = []\n",
    "    Qdot_top_values_1d = [[] for _ in range(nb_hx + 3)]\n",
    "    Qdot_combined_values = [[] for _ in range(nb_hx + 3)]\n",
    "    iterations_cfd = []\n",
    "    iterations_1d = [[] for _ in range(nb_hx + 3)]\n",
    "    iterations_combined = [[] for _ in range(nb_hx + 3)]\n",
    "\n",
    "    # Boucle sur chaque itération pour calculer les valeurs\n",
    "    for iteration in range(limit_big_it):\n",
    "        # Calculer les valeurs CFD\n",
    "        Qdot_tube, Qdot_top, Qdot_abs, Qdot_top_rad = calculate_Qdot(mesh, case, iteration)\n",
    "        Qdot_top_values_cfd.append(Qdot_top)\n",
    "        iterations_cfd.append(iteration + 1)\n",
    "\n",
    "        # Récupérer les valeurs pour Qdot_tube_back pour 1D\n",
    "        # for part in range(1, nb_hx + 3):\n",
    "        for part in {3,5}:\n",
    "            top_value_1d = df_one_mesh_case_list[mesh][case][iteration]['Qdot_top_conv'].loc[f'part{part}']\n",
    "            Qdot_top_values_1d[part-1].append(top_value_1d)\n",
    "            iterations_1d[part-1].append(iteration + 1.5)\n",
    "\n",
    "            # Combinaison des valeurs CFD et 1D\n",
    "            Qdot_combined_values[part-1].append(Qdot_top[part-1])\n",
    "            Qdot_combined_values[part-1].append(top_value_1d)\n",
    "            iterations_combined[part-1].append(iteration + 1)\n",
    "            iterations_combined[part-1].append(iteration + 1.5)\n",
    "\n",
    "    # Ajouter les valeurs CFD et 1D à la figure\n",
    "    # for part in range(1, nb_hx + 3):\n",
    "    for part in {3,5}:\n",
    "        # Tracer les valeurs CFD\n",
    "        fig_top.add_trace(go.Scatter(x=iterations_cfd, \n",
    "                                        y=[qt[part-1] for qt in Qdot_top_values_cfd],\n",
    "                                        mode='markers',\n",
    "                                        name='Qdot_top_conv CFD',\n",
    "                                        line=dict(width=2, color=part_colors[part-1]),\n",
    "                                        marker=dict(symbol='cross'),\n",
    "                                        hovertemplate= f'Simu M{mesh+1} <br>Part{part} <br>'+'%{y:.2f}'))\n",
    "\n",
    "        # Tracer les valeurs 1D\n",
    "        fig_top.add_trace(go.Scatter(x=iterations_1d[part-1], \n",
    "                                        y=Qdot_top_values_1d[part-1],\n",
    "                                        mode='markers',\n",
    "                                        name='Qdot_top_conv 1D',\n",
    "                                        line=dict(width=2, color=part_colors[part-1], dash='dot'),\n",
    "                                        marker=dict(symbol='x'),\n",
    "                                        hovertemplate= f'Simu M{mesh+1} <br>Part{part} <br>'+'%{y:.2f}'))\n",
    "        \n",
    "        # Tracer la courbe combinée\n",
    "        fig_top.add_trace(go.Scatter(x=iterations_combined[part-1], \n",
    "                                        y=Qdot_combined_values[part-1],\n",
    "                                        mode='lines',\n",
    "                                        name=f'Part {part}',\n",
    "                                        line=dict(width=2, color=part_colors[part-1], dash ='dot')))\n",
    "\n",
    "# Mise en forme du titre et des axes\n",
    "fig_top.update_layout(title=f'Qdot_top_conv - Cas {case+1}',\n",
    "                        xaxis_title='Itération',\n",
    "                        yaxis_title='Qdot_tube_back (W)',\n",
    "                        legend_title='Partie et Simulation')\n",
    "\n",
    "# Affichage de la figure\n",
    "fig_top.show()\n",
    "\n",
    "\n",
    "\n",
    "\n",
    "\n",
    "## Comparaison Qdot_tube pour chaque partie // CFD et 1D\n",
    "\n",
    "fig_tube = go.Figure()\n",
    "# Pour chaque simulation (chaque maillage)\n",
    "for mesh in range(nb_mesh):\n",
    "    # Listes pour stocker les valeurs de chaque transfert pour chaque itération pour CFD et 1D\n",
    "    Qdot_tube_values_cfd = []\n",
    "    Qdot_tube_values_1d = [[] for _ in range(nb_hx + 3)]\n",
    "    Qdot_combined_values = [[] for _ in range(nb_hx + 3)]\n",
    "    iterations_cfd = []\n",
    "    iterations_1d = [[] for _ in range(nb_hx + 3)]\n",
    "    iterations_combined = [[] for _ in range(nb_hx + 3)]\n",
    "\n",
    "    # Boucle sur chaque itération pour calculer les valeurs\n",
    "    for iteration in range(limit_big_it):\n",
    "        # Calculer les valeurs CFD\n",
    "        Qdot_tube, Qdot_top, Qdot_abs, Qdot_top_rad = calculate_Qdot(mesh, case, iteration)\n",
    "        Qdot_tube_values_cfd.append(Qdot_tube)\n",
    "        iterations_cfd.append(iteration + 1)\n",
    "\n",
    "        # Récupérer les valeurs pour Qdot_tube_back pour 1D\n",
    "        for part in {3,5}:\n",
    "            tube_value_1d = df_one_mesh_case_list[mesh][case][iteration]['Qdot_tube_back'].loc[f'part{part}']\n",
    "            Qdot_tube_values_1d[part-1].append(tube_value_1d)\n",
    "            iterations_1d[part-1].append(iteration + 1.5)\n",
    "\n",
    "            # Combinaison des valeurs CFD et 1D\n",
    "            Qdot_combined_values[part-1].append(Qdot_tube[part-1])\n",
    "            Qdot_combined_values[part-1].append(tube_value_1d)\n",
    "            iterations_combined[part-1].append(iteration + 1)\n",
    "            iterations_combined[part-1].append(iteration + 1.5)\n",
    "\n",
    "    # Ajouter les valeurs CFD et 1D à la figure\n",
    "    for part in {3,5}:\n",
    "        # Tracer les valeurs CFD\n",
    "        fig_tube.add_trace(go.Scatter(x=iterations_cfd, \n",
    "                                        y=[qt[part-1] for qt in Qdot_tube_values_cfd],\n",
    "                                        mode='markers',\n",
    "                                        name='Qdot_tube CFD',\n",
    "                                        line=dict(width=2, color=part_colors[part-1]),\n",
    "                                        marker=dict(symbol='cross'),\n",
    "                                        hovertemplate= f'Simu M{mesh+1} <br>Part{part} <br>'+'%{y:.2f}'))\n",
    "\n",
    "        # Tracer les valeurs 1D\n",
    "        fig_tube.add_trace(go.Scatter(x=iterations_1d[part-1], \n",
    "                                        y=Qdot_tube_values_1d[part-1],\n",
    "                                        mode='markers',\n",
    "                                        name='Qdot_tube 1D',\n",
    "                                        line=dict(width=2, color=part_colors[part-1], dash='dot'),\n",
    "                                        marker=dict(symbol='x'),\n",
    "                                        hovertemplate= f'Simu M{mesh+1} <br>Part{part} <br>'+'%{y:.2f}'))\n",
    "        \n",
    "        # Tracer la courbe combinée\n",
    "        fig_tube.add_trace(go.Scatter(x=iterations_combined[part-1], \n",
    "                                        y=Qdot_combined_values[part-1],\n",
    "                                        mode='lines',\n",
    "                                        name=f'Part {part}',\n",
    "                                        line=dict(width=2, color=part_colors[part-1], dash ='dot')))\n",
    "\n",
    "# Mise en forme du titre et des axes\n",
    "fig_tube.update_layout(title=f'Qdot_tube - Cas {case+1}',\n",
    "                        xaxis_title='Itération',\n",
    "                        yaxis_title='Qdot_tube_back (W)',\n",
    "                        legend_title='Partie et Simulation')\n",
    "\n",
    "# Affichage de la figure\n",
    "fig_tube.show()\n",
    "\n",
    "\n",
    "\n",
    "\n",
    "\n",
    "## Comparaison des maillages pour Qdot_tube_back_conv // 1D\n",
    "# Couleurs pour chaque simulation (choisissez autant de couleurs que de simulations)\n",
    "sim_colors = ['#1f77b4', '#ff7f0e', '#2ca02c', '#d62728', '#9467bd', '#8c564b', '#e377c2']\n",
    "bar_width = 0.8 / nb_mesh\n",
    "bar_positions = np.arange(1, nb_hx + 4)  # positions pour chaque partie (1 à nb_hx + 3)\n",
    "\n",
    "# Créer une figure pour comparer les simulations\n",
    "fig_comparison = go.Figure()\n",
    "\n",
    "# Pour chaque simulation (chaque maillage)\n",
    "for mesh in range(nb_mesh):\n",
    "    # Liste pour stocker les valeurs de Qdot_tube_back_conv pour chaque partie\n",
    "    tube_values = []\n",
    "\n",
    "    # Pour chaque partie\n",
    "    for part in range(1, nb_hx + 3):\n",
    "        # Récupérer les valeurs de Qdot_tube_back_conv pour la dernière itération pour ce cas et ce maillage\n",
    "        iteration = limit_big_it - 1\n",
    "        tube_value = df_one_mesh_case_list[mesh][case][iteration]['Qdot_tube_back_conv'].loc[f'part{part}']\n",
    "        tube_values.append(tube_value)\n",
    "\n",
    "    # Ajouter les barres pour chaque partie\n",
    "    fig_comparison.add_trace(go.Bar(\n",
    "        x=bar_positions + mesh * bar_width - 0.4,\n",
    "        y=tube_values,\n",
    "        name=f'Qdot_tube_back_conv 1D',\n",
    "        marker_color=sim_colors[mesh],\n",
    "        width=bar_width,\n",
    "        opacity=0.8,\n",
    "        hovertemplate= f'Simu M{mesh+1} <br>Part{part} <br>'+'%{y:.2f}'\n",
    "    ))\n",
    "\n",
    "# Mise en forme du titre et des axes\n",
    "fig_comparison.update_layout(\n",
    "    title=f'Qdot_tube_back_conv - Cas {case + 1} - 1D',\n",
    "    xaxis_title='Parties',\n",
    "    yaxis_title='Qdot_tube_back_conv (W)',\n",
    "    barmode='group',  # Regrouper les barres\n",
    "    legend_title='Simulation'\n",
    ")\n",
    "\n",
    "# Affichage de la figure\n",
    "fig_comparison.show()\n",
    "\n",
    "\n",
    "\n",
    "\n",
    "\n",
    "## Comparaison des maillages pour Qdot_top_conv // 1D\n",
    "# Créer une figure pour comparer les simulations\n",
    "fig_comparison = go.Figure()\n",
    "\n",
    "# Pour chaque simulation (chaque maillage)\n",
    "for mesh in range(nb_mesh):\n",
    "    # Liste pour stocker les valeurs de Qdot_top_conv pour chaque partie\n",
    "    tube_values = []\n",
    "\n",
    "    # Pour chaque partie\n",
    "    for part in range(1, nb_hx + 3):\n",
    "        # Récupérer les valeurs de Qdot_top_conv pour la dernière itération pour ce cas et ce maillage\n",
    "        iteration = limit_big_it - 1\n",
    "        tube_value = df_one_mesh_case_list[mesh][case][iteration]['Qdot_top_conv'].loc[f'part{part}']\n",
    "        tube_values.append(tube_value)\n",
    "\n",
    "    # Ajouter les barres pour chaque partie\n",
    "    fig_comparison.add_trace(go.Bar(\n",
    "        x=bar_positions + mesh * bar_width - 0.4,\n",
    "        y=tube_values,\n",
    "        name=f'Qdot_top_conv 1D',\n",
    "        marker_color=sim_colors[mesh],\n",
    "        width=bar_width,\n",
    "        opacity=0.8,\n",
    "        hovertemplate= f'Simu M{mesh+1} <br>Part{part} <br>'+'%{y:.2f}'\n",
    "    ))\n",
    "\n",
    "# Mise en forme du titre et des axes\n",
    "fig_comparison.update_layout(\n",
    "    title=f'Qdot_top_conv - Cas {case + 1} - 1D',\n",
    "    xaxis_title='Parties',\n",
    "    yaxis_title='Qdot_top_conv (W)',\n",
    "    barmode='group',  # Regrouper les barres\n",
    "    legend_title='Simulation'\n",
    ")\n",
    "\n",
    "# Affichage de la figure\n",
    "fig_comparison.show()\n",
    "\n",
    "\n",
    "\n",
    "\n",
    "\n",
    "\n",
    "## Comparaison des maillages pour Qdot_top_rad // 1D\n",
    "# Créer une figure pour comparer les simulations\n",
    "fig_comparison = go.Figure()\n",
    "\n",
    "# Pour chaque simulation (chaque maillage)\n",
    "for mesh in range(nb_mesh):\n",
    "    # Liste pour stocker les valeurs de Qdot_top_rad pour chaque partie\n",
    "    tube_values = []\n",
    "\n",
    "    # Pour chaque partie\n",
    "    for part in range(1, nb_hx + 3):\n",
    "        # Récupérer les valeurs de Qdot_top_rad pour la dernière itération pour ce cas et ce maillage\n",
    "        iteration = limit_big_it - 1\n",
    "        tube_value = df_one_mesh_case_list[mesh][case][iteration]['Qdot_top_rad'].loc[f'part{part}']\n",
    "        tube_values.append(tube_value)\n",
    "\n",
    "    # Ajouter les barres pour chaque partie\n",
    "    fig_comparison.add_trace(go.Bar(\n",
    "        x=bar_positions + mesh * bar_width - 0.4,\n",
    "        y=tube_values,\n",
    "        name=f'Qdot_top_rad 1D',\n",
    "        marker_color=sim_colors[mesh],\n",
    "        width=bar_width,\n",
    "        opacity=0.8,\n",
    "        hovertemplate= f'Simu M{mesh+1} <br>Part{part} <br>'+'%{y:.2f}'\n",
    "    ))\n",
    "\n",
    "# Mise en forme du titre et des axes\n",
    "fig_comparison.update_layout(\n",
    "    title=f'Qdot_top_rad - Cas {case + 1} - 1D',\n",
    "    xaxis_title='Parties',\n",
    "    yaxis_title='Qdot_top_rad (W)',\n",
    "    barmode='group',  # Regrouper les barres\n",
    "    legend_title='Simulation'\n",
    ")\n",
    "\n",
    "# Affichage de la figure\n",
    "fig_comparison.show()\n",
    "\n",
    "\n",
    "\n",
    "\n",
    "\n",
    "## Comparaison des maillages pour Qdot_top_rad // CFD\n",
    "# Créer une figure pour comparer les simulations\n",
    "fig_comparison = go.Figure()\n",
    "\n",
    "# Pour chaque simulation (chaque maillage)\n",
    "for mesh in range(nb_mesh):\n",
    "    # Liste pour stocker les valeurs de Qdot_top_rad pour chaque partie\n",
    "    tube_values = []\n",
    "\n",
    "    # Pour chaque partie\n",
    "    for part in range(1, nb_hx + 3):\n",
    "        # Récupérer les valeurs de Qdot_top_rad pour la dernière itération pour ce cas et ce maillage\n",
    "        Qdot_tube, Qdot_top, Qdot_abs, Qdot_top_rad = calculate_Qdot(mesh, case, iteration)\n",
    "        tube_value = Qdot_top_rad[part-1]\n",
    "        tube_values.append(tube_value)\n",
    "\n",
    "    # Ajouter les barres pour chaque partie\n",
    "    fig_comparison.add_trace(go.Bar(\n",
    "        x=bar_positions + mesh * bar_width - 0.4,\n",
    "        y=tube_values,\n",
    "        name=f'Qdot_top_rad CFD',\n",
    "        marker_color=sim_colors[mesh],\n",
    "        width=bar_width,\n",
    "        opacity=0.8,\n",
    "        hovertemplate= f'Simu M{mesh+1} <br>Part{part} <br>'+'%{y:.2f}'\n",
    "    ))\n",
    "\n",
    "# Mise en forme du titre et des axes\n",
    "fig_comparison.update_layout(\n",
    "    title=f'Qdot_top_rad - Cas {case + 1} - CFD',\n",
    "    xaxis_title='Parties',\n",
    "    yaxis_title='Qdot_top_rad (W)',\n",
    "    barmode='group',  # Regrouper les barres\n",
    "    legend_title='Simulation'\n",
    ")\n",
    "\n",
    "# Affichage de la figure\n",
    "fig_comparison.show()\n",
    "\n",
    "\n",
    "\n",
    "\n",
    "\n",
    "## Comparaison des maillages pour Qdot_top_conv // CFD\n",
    "# Créer une figure pour comparer les simulations\n",
    "fig_comparison = go.Figure()\n",
    "\n",
    "# Pour chaque simulation (chaque maillage)\n",
    "for mesh in range(nb_mesh):\n",
    "    # Liste pour stocker les valeurs de Qdot_top_conv pour chaque partie\n",
    "    tube_values = []\n",
    "\n",
    "    # Pour chaque partie\n",
    "    for part in range(1, nb_hx + 3):\n",
    "        # Récupérer les valeurs de Qdot_top_conv pour la dernière itération pour ce cas et ce maillage\n",
    "        Qdot_tube, Qdot_top, Qdot_abs, Qdot_top_rad = calculate_Qdot(mesh, case, iteration)\n",
    "        tube_value = Qdot_top[part-1]\n",
    "        tube_values.append(tube_value)\n",
    "\n",
    "    # Ajouter les barres pour chaque partie\n",
    "    fig_comparison.add_trace(go.Bar(\n",
    "        x=bar_positions + mesh * bar_width - 0.4,\n",
    "        y=tube_values,\n",
    "        name=f'Qdot_top_conv CFD',\n",
    "        marker_color=sim_colors[mesh],\n",
    "        width=bar_width,\n",
    "        opacity=0.8,\n",
    "        hovertemplate= f'Simu M{mesh+1} <br>Part{part} <br>'+'%{y:.2f}'\n",
    "    ))\n",
    "\n",
    "# Mise en forme du titre et des axes\n",
    "fig_comparison.update_layout(\n",
    "    title=f'Qdot_top_conv - Cas {case + 1} - CFD',\n",
    "    xaxis_title='Parties',\n",
    "    yaxis_title='Qdot_top_conv (W)',\n",
    "    barmode='group',  # Regrouper les barres\n",
    "    legend_title='Simulation'\n",
    ")\n",
    "\n",
    "# Affichage de la figure\n",
    "fig_comparison.show()\n",
    "\n",
    "\n",
    "\n",
    "\n",
    "## Comparaison des maillages pour Qdot_tube // CFD\n",
    "# Créer une figure pour comparer les simulations\n",
    "fig_comparison = go.Figure()\n",
    "\n",
    "# Pour chaque simulation (chaque maillage)\n",
    "for mesh in range(nb_mesh):\n",
    "    # Liste pour stocker les valeurs de Qdot_tube pour chaque partie\n",
    "    tube_values = []\n",
    "\n",
    "    # Pour chaque partie\n",
    "    for part in range(1, nb_hx + 3):\n",
    "        # Récupérer les valeurs de Qdot_tube pour la dernière itération pour ce cas et ce maillage\n",
    "        Qdot_tube, Qdot_top, Qdot_abs, Qdot_top_rad = calculate_Qdot(mesh, case, iteration)\n",
    "        tube_value = Qdot_tube[part-1]\n",
    "        tube_values.append(tube_value)\n",
    "\n",
    "    # Ajouter les barres pour chaque partie\n",
    "    fig_comparison.add_trace(go.Bar(\n",
    "        x=bar_positions + mesh * bar_width - 0.4,\n",
    "        y=tube_values,\n",
    "        name=f'Qdot_tube CFD',\n",
    "        marker_color=sim_colors[mesh],\n",
    "        width=bar_width,\n",
    "        opacity=0.8,\n",
    "        hovertemplate= f'Simu M{mesh+1} <br>Part{part} <br>'+'%{y:.2f}'\n",
    "    ))\n",
    "\n",
    "# Mise en forme du titre et des axes\n",
    "fig_comparison.update_layout(\n",
    "    title=f'Qdot_tube - Cas {case + 1} - CFD',\n",
    "    xaxis_title='Parties',\n",
    "    yaxis_title='Qdot_tube (W)',\n",
    "    barmode='group',  # Regrouper les barres\n",
    "    legend_title='Simulation'\n",
    ")\n",
    "\n",
    "# Affichage de la figure\n",
    "fig_comparison.show()"
   ]
  }
 ],
 "metadata": {
  "kernelspec": {
   "display_name": "venv_py_ansys",
   "language": "python",
   "name": "python3"
  },
  "language_info": {
   "codemirror_mode": {
    "name": "ipython",
    "version": 3
   },
   "file_extension": ".py",
   "mimetype": "text/x-python",
   "name": "python",
   "nbconvert_exporter": "python",
   "pygments_lexer": "ipython3",
   "version": "3.11.6"
  }
 },
 "nbformat": 4,
 "nbformat_minor": 2
}
