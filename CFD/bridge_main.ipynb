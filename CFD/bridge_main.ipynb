{
 "cells": [
  {
   "cell_type": "code",
   "execution_count": 1,
   "metadata": {},
   "outputs": [],
   "source": [
    "## IMPORTS\n",
    "\n",
    "import os\n",
    "import sys\n",
    "import time\n",
    "import math\n",
    "from datetime import datetime\n",
    "from io import StringIO\n",
    "\n",
    "from pathlib import Path\n",
    "\n",
    "import glob\n",
    "\n",
    "import numpy as np\n",
    "import pandas as pd\n",
    "import matplotlib.pyplot as plt\n",
    "import plotly.graph_objects as go\n",
    "from numpy.polynomial.polynomial import Polynomial\n",
    "import scipy.integrate as integrate\n",
    "import scipy.optimize as sco\n",
    "from scipy.optimize import minimize\n",
    "from sklearn.metrics import mean_squared_error\n",
    "import openpyxl\n",
    "import networkx as nx\n",
    "import sklearn.metrics\n",
    "from IPython.core.display import HTML\n",
    "import plotly.io as pio\n",
    "from openpyxl.utils.dataframe import dataframe_to_rows\n",
    "import openpyxl as opxl\n",
    "import matplotlib.ticker as mtick\n",
    "from matplotlib.cm import get_cmap\n",
    "import time\n",
    "\n",
    "import copy\n",
    "\n",
    "from CoolProp.CoolProp import PropsSI\n",
    "\n",
    "sys.path.append(r'D:\\seagu_OneDrive\\Documents\\GitHub\\parallel-flow-distribution-pressure-loss\\ansys')\n",
    "sys.path.append(r'D:\\seagu_OneDrive\\Documents\\GitHub\\PVT-thermal-performance-model')\n",
    "sys.path.append(r'D:\\seagu_OneDrive\\Documents\\GitHub\\RD-systems-and-test-benches')\n",
    "import utils.data_processing as dp\n",
    "\n",
    "# sys.path.append(r'G:\\Mon Drive\\GitHub\\PVT-thermal-performance-model')\n",
    "# sys.path.append(r'G:\\Mon Drive\\GitHub\\PVT-PL-model\\ansys')\n",
    "\n",
    "import jou_gen as jg\n",
    "import ansys_py_bridge as apb\n",
    "import ansys.fluent.core as pyfluent\n",
    "import model as ty\n",
    "import proc as pr\n",
    "import plot_functions_here as pfun\n",
    "import heat_transfer as bht\n",
    "import fluids as fds\n",
    "import ht\n",
    "import general as gen\n",
    "\n",
    "import bridge_module as bm"
   ]
  },
  {
   "cell_type": "markdown",
   "metadata": {},
   "source": [
    "### Initialisation"
   ]
  },
  {
   "cell_type": "code",
   "execution_count": null,
   "metadata": {},
   "outputs": [],
   "source": [
    "main_fp = r'D:\\ANSYS Fluent Projects\\pvt_slice_outdoor\\Fluent_GMI'\n",
    "Mesh_fp = os.path.join(main_fp, 'Mesh')\n",
    "S2S_fp = os.path.join(main_fp, 'S2S')\n",
    "\n",
    "templates_fp = r'D:\\ANSYS Fluent Projects\\pvt_slice_outdoor\\Fluent_GMI\\Templates'\n",
    "geometry_path = templates_fp + '\\\\' + 'Inputs_TEST_V4.5_GG.xlsx'\n",
    "hypotheses_path = templates_fp + '\\\\' + 'Model_hypotheses.xlsx'\n",
    "testConditions_path = templates_fp + '\\\\' + 'tCwind.xlsx'\n",
    "Inputs_PyFluent_path = templates_fp + '\\\\' + 'Inputs_PyFluent.xlsx'\n",
    "\n",
    "panelSpecs, hyp, steadyStateConditions_df, Inputs_PyFluent = bm.import_inputs(geometry_path, hypotheses_path, testConditions_path, Inputs_PyFluent_path)\n",
    "steadyStateConditions_dict = steadyStateConditions_df.to_dict(orient='records')\n",
    "\n",
    "testConditionsCode = os.path.splitext(os.path.basename(testConditions_path))[0]\n",
    "\n",
    "tui, solver = bm.init_solver(main_fp, '1610')\n",
    "nb_it = 60\n",
    "nb_big_it = 4\n",
    "T_out_diff_convergence_control = 0.04"
   ]
  },
  {
   "cell_type": "code",
   "execution_count": null,
   "metadata": {},
   "outputs": [],
   "source": [
    "## Change to wind case\n",
    "\n",
    "jg.change_bc_type(tui, 'cd_fc', 'pressure-outlet')\n",
    "jg.change_bc_type(tui, 'cd2_horizontal_zd', 'pressure-outlet')\n",
    "jg.change_bc_type(tui, 'cd2_wind', 'velocity-inlet')\n",
    "\n",
    "cd2_wind = solver.setup.boundary_conditions.velocity_inlet['cd2_wind'].get_state()\n",
    "cd2_wind['t']['constant'] = \"T_amb\"\n",
    "solver.setup.boundary_conditions.velocity_inlet['cd2_wind'].set_state(cd2_wind)\n",
    "\n",
    "cd_fc = solver.setup.boundary_conditions.pressure_outlet['cd_fc'].get_state()\n",
    "cd_fc['avg_press_spec'] = True\n",
    "solver.setup.boundary_conditions.pressure_outlet['cd_fc'].set_state(cd_fc)"
   ]
  },
  {
   "cell_type": "markdown",
   "metadata": {},
   "source": [
    "### 1 seule géométrie"
   ]
  },
  {
   "cell_type": "code",
   "execution_count": 9,
   "metadata": {},
   "outputs": [],
   "source": [
    "### 1 géométrie\n",
    "\n",
    "# caoMeshName = 'A5_M1__V4.5F2014_s_wHB_r60'\n",
    "caoMeshName = 'A8_M1__V4.5F5020_s_wHB_r60'\n",
    "caoMeshCode = caoMeshName.split('__')[0]\n",
    "\n",
    "hyp['fins_CFD'] = 1.\n",
    "Inputs = (caoMeshCode, testConditionsCode, panelSpecs, hyp, steadyStateConditions_dict, Inputs_PyFluent)\n",
    "\n",
    "# bm.init_mesh(tui, Mesh_fp, S2S_fp, caoMeshName)"
   ]
  },
  {
   "cell_type": "code",
   "execution_count": 10,
   "metadata": {},
   "outputs": [],
   "source": [
    "bm.init_mesh(tui, Mesh_fp, S2S_fp, caoMeshName)\n",
    "\n",
    "if (hyp['fins_CFD'] == 1.) or (hyp['fins_CFD'] == \"1\"):\n",
    "    bm.adapt_for_fins(tui)"
   ]
  },
  {
   "cell_type": "code",
   "execution_count": null,
   "metadata": {},
   "outputs": [],
   "source": [
    "## Boucle cas / Cas par cas AR\n",
    "\n",
    "bm.simu_bridge_cases(tui, solver, main_fp, Inputs, nb_it, nb_big_it, T_out_diff_convergence_control, method = 'bridge')"
   ]
  },
  {
   "cell_type": "code",
   "execution_count": null,
   "metadata": {},
   "outputs": [],
   "source": [
    "## Boucle cas / Cas par cas UNIFORM\n",
    "\n",
    "# bm.simu_bridge_cases(tui, solver, main_fp, Inputs, nb_it, nb_big_it, T_out_diff_convergence_control, method = 'uniform')"
   ]
  },
  {
   "cell_type": "markdown",
   "metadata": {},
   "source": [
    "### AR plusieurs géométries/maillages"
   ]
  },
  {
   "cell_type": "code",
   "execution_count": null,
   "metadata": {},
   "outputs": [],
   "source": [
    "msh_h5_files = glob.glob(Mesh_fp + '/*.msh.h5')\n",
    "# msh_h5_files = [file for file in msh_h5_files if ((\"M1\" in file) & (\"oldM\" not in file) & (\"plus_TEST\" not in file) & (\"_r120\" not in file))]\n",
    "msh_h5_files = [file for file in msh_h5_files if ((\"M1\" in file) & (\"oldM\" not in file) & (\"plus_TEST\" not in file) & (\"_r60\" not in file))]\n",
    "\n",
    "msh_h5_files = [os.path.basename(file_path) for file_path in msh_h5_files]\n",
    "msh_h5_files = sorted(msh_h5_files, key=lambda x: int(x[1:x.index('_M')]))\n",
    "msh_h5_files = [file_name.replace(\".msh.h5\", \"\") for file_name in msh_h5_files]\n",
    "# msh_h5_files = [msh_h5_files[2]] + msh_h5_files[3:7] + msh_h5_files[0:2]\n",
    "# msh_h5_files.append('A10_M1__V4.5F5030_s_wHB_r60')\n",
    "msh_h5_files"
   ]
  },
  {
   "cell_type": "code",
   "execution_count": null,
   "metadata": {},
   "outputs": [],
   "source": [
    "msh_h5_files = [\n",
    "                 'A5_M1__V4.5F2014_s_wHB_r60',\n",
    "                 'A7_M1__V4.5F2020_s_wHB_r60',\n",
    "                ]\n",
    "msh_h5_files"
   ]
  },
  {
   "cell_type": "code",
   "execution_count": null,
   "metadata": {},
   "outputs": [],
   "source": [
    "# hyp['fins_CFD'] = 1.\n",
    "# bm.adapt_for_fins(tui)"
   ]
  },
  {
   "cell_type": "code",
   "execution_count": null,
   "metadata": {},
   "outputs": [],
   "source": [
    "for i, caoMeshName in enumerate(msh_h5_files):\n",
    "\n",
    "    caoMeshCode = caoMeshName.split('__')[0]\n",
    "\n",
    "    bm.init_mesh(tui, Mesh_fp, S2S_fp, caoMeshName)\n",
    "\n",
    "    hyp['fins_CFD'] = 1.\n",
    "\n",
    "    # if caoMeshCode in ['A3_M1', 'A4_M1']:\n",
    "    #     hyp['fins_CFD'] = 0.\n",
    "    # else:\n",
    "    #     hyp['fins_CFD'] = 1.\n",
    "    #     bm.adapt_for_fins(tui)\n",
    "\n",
    "    Inputs = (caoMeshCode, testConditionsCode, copy.deepcopy(panelSpecs), copy.deepcopy(hyp), copy.deepcopy(steadyStateConditions_dict), copy.deepcopy(Inputs_PyFluent))\n",
    "\n",
    "    bm.simu_bridge_cases(tui, solver, main_fp, Inputs, nb_it, nb_big_it, T_out_diff_convergence_control, method = 'bridge')"
   ]
  },
  {
   "cell_type": "code",
   "execution_count": null,
   "metadata": {},
   "outputs": [],
   "source": [
    "mesh_h5_files = [\n",
    "                #  'A5_M1__V4.5F2014_s_wHB_r60', # ok\n",
    "                #  'A7_M1__V4.5F2020_s_wHB_r60', # ok\n",
    "                #  'A10_M1__V4.5F5030_s_wHB_r60',\n",
    "                # 'A11_M1__V4.5F5040_s_wHB_r60',\n",
    "                'A8_M1__V4.5F5020_s_wHB_r60',\n",
    "                'A4_M1__V4.5NI_s_wHB_r60',\n",
    "                 ]"
   ]
  },
  {
   "cell_type": "markdown",
   "metadata": {},
   "source": [
    "### Sans AR\n",
    "\n",
    "Changer la condition sur l'échangeur pour une température uniforme = T_fluid_1 et choisir method = 'uniform'"
   ]
  },
  {
   "cell_type": "code",
   "execution_count": null,
   "metadata": {},
   "outputs": [],
   "source": [
    "## Boucle cas / Cas par cas AR\n",
    "\n",
    "bm.simu_bridge_cases(tui, solver, folder_path, hypotheses_path, panelSpecs, Inputs_PyFluent, steadyStateConditions_dict, nb_it, nb_big_it, T_out_diff_convergence_control, method='uniform')"
   ]
  },
  {
   "cell_type": "code",
   "execution_count": null,
   "metadata": {},
   "outputs": [],
   "source": [
    "## Boucle plusieurs géométries/maillages, cas AR\n",
    "\n",
    "geometries_dict = pd.read_excel(folder_path + '\\\\' + 'test-geometries.xlsx')\n",
    "nb_geom = len(geometries_dict)\n",
    "\n",
    "for geom in range(nb_geom) :\n",
    "\n",
    "    geom_name = geometries_dict['mesh_name_wo_ext'].iloc[geom]\n",
    "    folder_path = bm.create_folder_paths(folder_path, geom, case_name = f'cas_{geom_name}')\n",
    "    bm.init_mesh(tui, geometries_dict, geom)\n",
    "\n",
    "    bm.simu_bridge_cases(tui, solver, folder_path, hypotheses_path, panelSpecs, Inputs_PyFluent, steadyStateConditions_dict, nb_it, nb_big_it, T_out_diff_convergence_control, method='uniform')"
   ]
  },
  {
   "cell_type": "markdown",
   "metadata": {},
   "source": [
    "### Juste modèle 1D (df_one)"
   ]
  },
  {
   "cell_type": "code",
   "execution_count": null,
   "metadata": {},
   "outputs": [],
   "source": [
    "## Boucle cas / Cas par cas 1D\n",
    "\n",
    "folder_path = r'D:\\ANSYS Fluent Projects\\pvt_slice_outdoor\\Fluent_GMI\\tests'\n",
    "geometry_path = folder_path + '\\\\' + 'Inputs_TEST_V4.5_GG.xlsx'\n",
    "hypotheses_path = folder_path + '\\\\' + 'Model_hypotheses.xlsx'\n",
    "condi_path = folder_path + '\\\\' + 'test-Conditions-AR.xlsx'\n",
    "folder_path_ansys = os.path.abspath(os.path.join(folder_path, '..'))\n",
    "\n",
    "panelSpecs = pr.import_geometry(geometry_path)\n",
    "steadyStateConditions_df = pd.read_excel(condi_path,header=2)\n",
    "stepConditions = steadyStateConditions_df.to_dict(orient='records')\n",
    "Inputs_PyFluent = pd.read_excel(folder_path + '\\\\' + 'Inputs_PyFluent.xlsx')\n",
    "\n",
    "nb_hx = int(apb.get_value('nb_hx', 'named_expression', Inputs_PyFluent))\n",
    "# nb_case = len(stepConditions)\n",
    "nb_case = 5\n",
    "nb_it = 200\n",
    "\n",
    "# case = 7\n",
    "# if True :\n",
    "for case in range(nb_case):\n",
    "    hyp, big_it, T_amb, T_fluid_in0 = bm.init_hyp(hypotheses_path, stepConditions, case)\n",
    "    folder_path_case = bm.create_folder_paths(folder_path, case, case_name = 'cas_')\n",
    "    file_path_result_CFD, file_path_result_PyFluent, file_path_result_df_one, file_path_result_slices_df = bm.create_save_paths(hyp, folder_path_case, big_it)\n",
    "\n",
    "    df_one, res = ty.simu_one_steady_state_all_he(panelSpecs, stepConditions[case], hyp)\n",
    "\n",
    "    hyp['method_h_top_g_exchanger'] = 'CFD'\n",
    "    hyp['method_h_back_abs'] = 'CFD'\n",
    "    hyp['method_h_back_tube'] = 'CFD'\n",
    "    hyp['method_h_rad_back_tube'] = 'CFD'\n",
    "\n",
    "    bm.fill_Pyfluent(Inputs_PyFluent, res, T_fluid_in0, nb_hx)\n",
    "    bm.fill_temperature(Inputs_PyFluent)\n",
    "\n",
    "    bm.save_simu_1D(res, nb_hx, file_path_result_df_one, file_path_result_slices_df)\n",
    "\n",
    "    bm.save_Pyfluents(Inputs_PyFluent, file_path_result_PyFluent)"
   ]
  }
 ],
 "metadata": {
  "kernelspec": {
   "display_name": "venv",
   "language": "python",
   "name": "python3"
  },
  "language_info": {
   "codemirror_mode": {
    "name": "ipython",
    "version": 3
   },
   "file_extension": ".py",
   "mimetype": "text/x-python",
   "name": "python",
   "nbconvert_exporter": "python",
   "pygments_lexer": "ipython3",
   "version": "3.11.6"
  }
 },
 "nbformat": 4,
 "nbformat_minor": 2
}
