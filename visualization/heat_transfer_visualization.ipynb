{
 "cells": [
  {
   "cell_type": "code",
   "execution_count": null,
   "metadata": {},
   "outputs": [],
   "source": [
    "import math\n",
    "import openpyxl as opxl\n",
    "from thermo.chemical import Chemical\n",
    "from thermo.chemical import Mixture\n",
    "import numpy as np\n",
    "import scipy.constants as scc\n",
    "import sympy as sp\n",
    "import scipy.integrate as integrate\n",
    "import ht\n",
    "from CoolProp.CoolProp import PropsSI\n",
    "\n",
    "from matplotlib import pyplot as plt\n",
    "\n",
    "import heat_transfer as bht\n",
    "\n",
    "import plotly.graph_objects as go"
   ]
  },
  {
   "cell_type": "code",
   "execution_count": null,
   "metadata": {},
   "outputs": [],
   "source": [
    "fluid = 'MPG'\n",
    "p_fluid = 2*1E5\n",
    "T_fluid = 20 + 273.15\n",
    "glycol_rate=0.4"
   ]
  },
  {
   "cell_type": "code",
   "execution_count": null,
   "metadata": {},
   "outputs": [],
   "source": [
    "Pr = PropsSI('Prandtl', 'P', p_fluid, 'T', T_fluid, f'INCOMP::{fluid}[{glycol_rate}]')\n",
    "mu = PropsSI('V', 'P', p_fluid, 'T', T_fluid, f'INCOMP::{fluid}[{glycol_rate}]')"
   ]
  },
  {
   "cell_type": "code",
   "execution_count": null,
   "metadata": {},
   "outputs": [],
   "source": [
    "flow_rate_per_riser = (0.0001/300)/1000 # en m3/s\n",
    "tube_section = math.pi*(0.003/2)**2\n",
    "fluid_speed = flow_rate_per_riser/tube_section\n",
    "\n",
    "Re = 2.9\n",
    "\n",
    "Nu = ht.conv_internal.Nu_conv_internal(Re,Pr,Di=0.003,x=1.5)"
   ]
  },
  {
   "cell_type": "code",
   "execution_count": null,
   "metadata": {},
   "outputs": [],
   "source": [
    "ht.conv_internal.Nu_conv_internal_methods(Re, Pr)"
   ]
  },
  {
   "cell_type": "code",
   "execution_count": null,
   "metadata": {},
   "outputs": [],
   "source": [
    "Nu = ht.conv_internal.Nu_conv_internal(Re,Pr,Method='Laminar - constant Q')"
   ]
  },
  {
   "cell_type": "code",
   "execution_count": null,
   "metadata": {},
   "outputs": [],
   "source": [
    "Nu"
   ]
  },
  {
   "cell_type": "code",
   "execution_count": null,
   "metadata": {},
   "outputs": [],
   "source": [
    "T_amb = 25+273.15\n",
    "theta = 40\n",
    "longueur = 1.5\n",
    "T_abs_list = np.linspace(T_amb-10,T_amb+30,500)\n",
    "D_list = np.linspace(0.005,0.05,10)\n",
    "L_a = 0.020\n",
    "\n",
    "back_h_simple_list = [bht.back_h_simple(T_abs,T_amb,theta,longueur) for T_abs in T_abs_list]\n",
    "back_h_fins_list = [[bht.back_h_fins(T_abs,T_amb,theta,longueur,D,L_a) for T_abs in T_abs_list] for D in D_list]"
   ]
  },
  {
   "cell_type": "code",
   "execution_count": null,
   "metadata": {},
   "outputs": [],
   "source": [
    "fig = go.Figure()\n",
    "\n",
    "fig = fig.add_trace(go.Scatter(x=np.array(T_abs_list)-T_amb, y=back_h_simple_list,\n",
    "                    mode = 'lines+markers',name = \"wo fins\"\n",
    "                    ))\n",
    "\n",
    "for i,D in enumerate(D_list):\n",
    "    fig = fig.add_trace(go.Scatter(x=np.array(T_abs_list)-T_amb, y=back_h_fins_list[i],\n",
    "                        mode = 'lines+markers',\n",
    "                        name = f'D = {D*1000} mm'\n",
    "                        ))\n",
    "\n",
    "fig = fig.update_layout(\n",
    "    autosize=False,\n",
    "    width=800,\n",
    "    height=400,\n",
    "    margin=dict(\n",
    "        l=0,\n",
    "        r=0,\n",
    "        b=50,\n",
    "        t=50,\n",
    "        pad=1\n",
    "    ),\n",
    ")\n",
    "\n",
    "fig.show()"
   ]
  },
  {
   "cell_type": "code",
   "execution_count": null,
   "metadata": {},
   "outputs": [],
   "source": [
    "math.atan(1E8)"
   ]
  },
  {
   "cell_type": "code",
   "execution_count": null,
   "metadata": {},
   "outputs": [],
   "source": [
    "import scipy.integrate as spi\n",
    "import numpy as np\n",
    "\n",
    "# Define the function to integrate\n",
    "def integrand(z, D, L):\n",
    "    return np.arctan(D / (L - z))\n",
    "\n",
    "# Define the parameters\n",
    "D = 0.014\n",
    "L = 0.020\n",
    "\n",
    "# Compute the integral\n",
    "result, error = spi.quad(integrand, 0, L, args=(D, L))\n",
    "\n",
    "# Print the result\n",
    "print(result)\n"
   ]
  },
  {
   "cell_type": "code",
   "execution_count": null,
   "metadata": {},
   "outputs": [],
   "source": [
    "import ht"
   ]
  },
  {
   "cell_type": "code",
   "execution_count": null,
   "metadata": {},
   "outputs": [],
   "source": [
    "ht.Nu_conv_internal"
   ]
  },
  {
   "cell_type": "code",
   "execution_count": null,
   "metadata": {},
   "outputs": [],
   "source": []
  },
  {
   "cell_type": "code",
   "execution_count": null,
   "metadata": {},
   "outputs": [],
   "source": [
    "def integrand2(x, L):\n",
    "    return np.arctan(x/L)\n",
    "\n",
    "result2, error2 = spi.quad(integrand2, 0, D, args=L)\n",
    "\n",
    "print(result2)"
   ]
  },
  {
   "cell_type": "code",
   "execution_count": null,
   "metadata": {},
   "outputs": [],
   "source": [
    "field = 2*result+2*result2\n",
    "print(field/(D*math.pi))"
   ]
  }
 ],
 "metadata": {
  "kernelspec": {
   "display_name": "model23",
   "language": "python",
   "name": "python3"
  },
  "language_info": {
   "codemirror_mode": {
    "name": "ipython",
    "version": 3
   },
   "file_extension": ".py",
   "mimetype": "text/x-python",
   "name": "python",
   "nbconvert_exporter": "python",
   "pygments_lexer": "ipython3",
   "version": "3.10.5"
  },
  "orig_nbformat": 4
 },
 "nbformat": 4,
 "nbformat_minor": 2
}
