{
 "cells": [
  {
   "cell_type": "code",
   "execution_count": 9,
   "metadata": {},
   "outputs": [],
   "source": [
    "import sys\n",
    "import math\n",
    "import copy\n",
    "import pandas as pd\n",
    "import numpy as np\n",
    "import heat_transfer as bht\n",
    "import ht\n",
    "\n",
    "import model_ht as mht\n",
    "import model_temperatures as mtemp\n",
    "\n",
    "from CoolProp.CoolProp import PropsSI\n",
    "\n",
    "import model_transfers as mtr\n",
    "\n",
    "import sympy as sp\n",
    "\n",
    "import model_fins as modfins\n",
    "\n",
    "from latex2sympy2 import latex2sympy, latex2latex\n"
   ]
  },
  {
   "cell_type": "code",
   "execution_count": 10,
   "metadata": {},
   "outputs": [],
   "source": [
    "bc = 'free_end'"
   ]
  },
  {
   "cell_type": "code",
   "execution_count": 11,
   "metadata": {},
   "outputs": [],
   "source": [
    "x, L_fin, lambd, Ac, k, Bi, T_ext, T_0 = sp.symbols('x L_fin a Ac k Bi T_ext T_0')\n",
    "\n",
    "# Define the temperature profile solution\n",
    "A = sp.Symbol('A')\n",
    "B = sp.Symbol('B')\n",
    "\n",
    "# Temperature function T(x)\n",
    "T = T_ext + A * sp.cosh(sp.sqrt(2 * Bi) * x/lambd) + B * sp.sinh(sp.sqrt(2 * Bi) * x/lambd)\n",
    "\n",
    "# Boundary condition at x = 0 (T(0) = T_0)\n",
    "boundary_condition_0 = sp.Eq(T.subs(x, 0), T_0)\n",
    "\n",
    "# Solve for A\n",
    "A_solution = sp.solve(boundary_condition_0, A)[0]\n",
    "\n",
    "# Substitute the value of A in T(x)\n",
    "T = T.subs(A, A_solution)\n",
    "\n",
    "dTdx = sp.diff(T, x)\n",
    "\n",
    "if bc == 'free_end':\n",
    "    boundary_condition_L_fin = sp.Eq( dTdx.subs(x, L_fin), -Bi/lambd * (T.subs(x, L_fin) - T_ext) )\n",
    "    B_solution = sp.solve(boundary_condition_L_fin, B)[0]\n",
    "elif bc == 'adiabatic':\n",
    "    boundary_condition_L_fin = sp.Eq( dTdx.subs(x, L_fin), 0)\n",
    "    B_solution = sp.solve(boundary_condition_L_fin, B)[0]   \n",
    "else:\n",
    "    raise ValueError('Boundary condition not recognized')\n",
    "\n",
    "T = T.subs(B, B_solution)\n",
    "dTdx = dTdx.subs(B, B_solution)\n",
    "\n",
    "expression = (T-T_ext) / (T_0-T_ext)\n",
    "expression = sp.simplify(expression)\n",
    "\n",
    "if bc == \"adiabatic\":\n",
    "    expression = sp.simplify(expression * sp.cosh(sp.sqrt(2 * Bi) * L_fin/lambd)) / sp.cosh(sp.sqrt(2 * Bi) * L_fin/lambd)\n",
    "\n",
    "gamma = sp.diff(expression,x).subs(x, 0)\n",
    "gamma = -k * Ac * sp.simplify(gamma)\n",
    "\n",
    "Qdot =  gamma * (T_0 - T_ext)"
   ]
  },
  {
   "cell_type": "code",
   "execution_count": 13,
   "metadata": {},
   "outputs": [
    {
     "data": {
      "text/latex": [
       "$\\displaystyle - \\frac{\\sqrt{2} \\sqrt{Bi} T_{0} \\sinh{\\left(\\frac{\\sqrt{2} \\sqrt{Bi} L_{fin}}{a} \\right)} - \\sqrt{2} \\sqrt{Bi} T_{ext} \\sinh{\\left(\\frac{\\sqrt{2} \\sqrt{Bi} L_{fin}}{a} \\right)} + Bi T_{0} \\cosh{\\left(\\frac{\\sqrt{2} \\sqrt{Bi} L_{fin}}{a} \\right)} - Bi T_{ext} \\cosh{\\left(\\frac{\\sqrt{2} \\sqrt{Bi} L_{fin}}{a} \\right)}}{\\sqrt{2} \\sqrt{Bi} \\cosh{\\left(\\frac{\\sqrt{2} \\sqrt{Bi} L_{fin}}{a} \\right)} + Bi \\sinh{\\left(\\frac{\\sqrt{2} \\sqrt{Bi} L_{fin}}{a} \\right)}}$"
      ],
      "text/plain": [
       "-(sqrt(2)*sqrt(Bi)*T_0*sinh(sqrt(2)*sqrt(Bi)*L_fin/a) - sqrt(2)*sqrt(Bi)*T_ext*sinh(sqrt(2)*sqrt(Bi)*L_fin/a) + Bi*T_0*cosh(sqrt(2)*sqrt(Bi)*L_fin/a) - Bi*T_ext*cosh(sqrt(2)*sqrt(Bi)*L_fin/a))/(sqrt(2)*sqrt(Bi)*cosh(sqrt(2)*sqrt(Bi)*L_fin/a) + Bi*sinh(sqrt(2)*sqrt(Bi)*L_fin/a))"
      ]
     },
     "execution_count": 13,
     "metadata": {},
     "output_type": "execute_result"
    }
   ],
   "source": [
    "B_solution"
   ]
  },
  {
   "cell_type": "code",
   "execution_count": 16,
   "metadata": {},
   "outputs": [],
   "source": [
    "Bp = latex2sympy(r\"-\\frac{\\left( T_0 - T_{ext} \\right) \\left( \\sqrt{\\frac{Bi}{2}} \\cosh{\\left( \\frac{\\sqrt{2 Bi} L_{fin}}{a}\\right)} + \\sinh{\\left( \\frac{\\sqrt{2 Bi} L_{fin}}{a} \\right)} \\right)}{\\cosh{\\left( \\frac{\\sqrt{2 Bi} L_{fin}}{a} \\right)} + \\sqrt{\\frac{Bi}{2}} \\sinh{\\left( \\frac{\\sqrt{2 Bi} L_{fin}}{a} \\right)}}\")"
   ]
  },
  {
   "cell_type": "code",
   "execution_count": 17,
   "metadata": {},
   "outputs": [
    {
     "data": {
      "text/latex": [
       "$\\displaystyle - \\frac{\\left(T_{0} - T_{ext}\\right) \\left(\\sqrt{\\frac{B i}{2}} \\cosh{\\left(\\frac{L_{fin} \\sqrt{2 B i}}{a} \\right)} + \\sinh{\\left(\\frac{L_{fin} \\sqrt{2 B i}}{a} \\right)}\\right)}{\\sqrt{\\frac{B i}{2}} \\sinh{\\left(\\frac{L_{fin} \\sqrt{2 B i}}{a} \\right)} + \\cosh{\\left(\\frac{L_{fin} \\sqrt{2 B i}}{a} \\right)}}$"
      ],
      "text/plain": [
       "-(T_0 - T_{ext})*(sqrt((B*i)/2)*cosh((L_{fin}*sqrt(2*B*i))/a) + sinh((L_{fin}*sqrt(2*B*i))/a))/(sqrt((B*i)/2)*sinh((L_{fin}*sqrt(2*B*i))/a) + cosh((L_{fin}*sqrt(2*B*i))/a))"
      ]
     },
     "execution_count": 17,
     "metadata": {},
     "output_type": "execute_result"
    }
   ],
   "source": [
    "Bp"
   ]
  },
  {
   "cell_type": "code",
   "execution_count": null,
   "metadata": {},
   "outputs": [],
   "source": [
    "gamma"
   ]
  },
  {
   "cell_type": "code",
   "execution_count": 20,
   "metadata": {},
   "outputs": [
    {
     "name": "stdout",
     "output_type": "stream",
     "text": [
      "\\frac{Ac k \\left(\\sqrt{2} Bi^{\\frac{3}{2}} \\cosh{\\left(\\frac{\\sqrt{2} \\sqrt{Bi} L_{fin}}{a} \\right)} + 2 Bi \\sinh{\\left(\\frac{\\sqrt{2} \\sqrt{Bi} L_{fin}}{a} \\right)}\\right)}{a \\left(\\sqrt{2} \\sqrt{Bi} \\cosh{\\left(\\frac{\\sqrt{2} \\sqrt{Bi} L_{fin}}{a} \\right)} + Bi \\sinh{\\left(\\frac{\\sqrt{2} \\sqrt{Bi} L_{fin}}{a} \\right)}\\right)}\n"
     ]
    }
   ],
   "source": [
    "latex_eq = sp.latex(gamma)\n",
    "\n",
    "print(latex_eq)"
   ]
  },
  {
   "cell_type": "code",
   "execution_count": null,
   "metadata": {},
   "outputs": [],
   "source": []
  },
  {
   "cell_type": "code",
   "execution_count": null,
   "metadata": {},
   "outputs": [],
   "source": []
  }
 ],
 "metadata": {
  "kernelspec": {
   "display_name": "model23",
   "language": "python",
   "name": "python3"
  },
  "language_info": {
   "codemirror_mode": {
    "name": "ipython",
    "version": 3
   },
   "file_extension": ".py",
   "mimetype": "text/x-python",
   "name": "python",
   "nbconvert_exporter": "python",
   "pygments_lexer": "ipython3",
   "version": "3.10.5"
  }
 },
 "nbformat": 4,
 "nbformat_minor": 2
}
