{
 "cells": [
  {
   "cell_type": "code",
   "execution_count": 1,
   "metadata": {},
   "outputs": [],
   "source": [
    "# Initialization\n",
    "\n",
    "import math\n",
    "from datetime import datetime\n",
    "import openpyxl as opxl\n",
    "from openpyxl.utils.dataframe import dataframe_to_rows\n",
    "import pandas as pd\n",
    "import numpy as np\n",
    "from IPython.core.display import HTML\n",
    "import matplotlib.pyplot as plt\n",
    "import matplotlib.ticker as mtick\n",
    "import plotly.graph_objects as go\n",
    "\n",
    "\n",
    "from CoolProp.CoolProp import PropsSI\n",
    "\n",
    "import sklearn.metrics\n",
    "import scipy.integrate as integrate\n",
    "import scipy.optimize as sco\n",
    "\n",
    "import test_general as tg\n",
    "\n",
    "import fluids as fds\n",
    "import ht \n",
    "\n",
    "import plot_functions_here as pfun\n",
    "\n",
    "import general as gen\n",
    "import model as ty\n",
    "import proc as pr\n",
    "import heat_transfer as bht\n",
    "# importing sys\n",
    "import sys\n",
    "sys.path.insert(0,r'C:\\Users\\valen\\Dropbox (DualSun)\\PC\\Documents\\GitHub\\RD-systems-and-test-benches\\thermal')\n",
    "import SK_standard as sk"
   ]
  },
  {
   "cell_type": "code",
   "execution_count": 2,
   "metadata": {},
   "outputs": [
    {
     "name": "stdout",
     "output_type": "stream",
     "text": [
      "{'exchanger': {'name': nan, 'eta_nom': 0.201, 'Eff_T': -0.0034000000000000002, 'T_ref': 298.15, 'Eff_G': 0, 'G_ref': 1000, 'X_corr': 1, 'tau_g': 0.8, 'alpha_g': 0.05, 'eps_PV': 0.9, 'eps_g': 0.9, 'eps_bs': 1, 'w_pan': 1.134, 'L_pan': 1.708, 'orientation': 'portrait', 'lambd_upper_glass': 0.002, 'lambd_upper_EVA': 0.000515, 'lambd_si': 0.00015, 'lambd_lower_EVA': 0.000515, 'lambd_PVDF': 0.0, 'lambd_PET': 0.0, 'lambd_adh': 0.0, 'lambd_lower_glass': 0.002, 'k_glass': 0.8, 'k_EVA': 0.24, 'k_si': 60, 'k_PVDF': 0.2, 'k_PET': 0.3, 'k_adh': 0.2, 'L_abs': 1.342, 'w_abs': 0.976, 'geometry': 'harp', 'N_harp': 300, 'N_meander': 1, 'L_tube': 1.342, 'tube_geometry': 'rectangular', 'H_tube': 0.002, 'w_tube': 0.00281, 'W': 0.00335, 'l_c': 0.003, 'p_ext_tube': 0.00335, 'p_ext_tube_rad': 0.00335, 'lambd_air': 0.0, 'lambd_conductive_plate': 0.0, 'lambd_abs': 0.00035, 'lambd_riser_plate': 0.0, 'lambd_riser_back': 0.00035, 'lambd_ins': 0.00011999999999999999, 'eps_hx_top': 0, 'eps_hx_back': 0.8, 'eps_ins': 0.8, 'k_air': 0.025, 'k_conductive_plate': 1, 'k_abs': 220, 'k_riser_plate': 220, 'k_riser_back': 220, 'k_ins': 0.25, 'Heta': 0.02, 'N_ail': 50, 'N_fins_per_EP': nan, 'lambd_ail': 0.001, 'k_ail': 226, 'eps_fin': 0, 'D': 0.014, 'fin_0': 0, 'N_f0': 50, 'L_f0': 0.02, 'delta_f0': 0.00335, 'delta_f0_int': 0.00335, 'fin_1': 0, 'N_f1': nan, 'L_f1': nan, 'delta_f1': nan, 'delta_f1_int': nan, 'coeff_f1': nan, 'fin_2': 0, 'N_f2': nan, 'L_f2': nan, 'delta_f2': nan, 'D_f2': nan, 'fin_3': 0, 'N_f3': nan, 'L_f3': nan, 'delta_f3': nan, 'is_exchanger': 1, 'is_inlet_man': 0, 'is_outlet_man': 0, 'is_anomaly': 0}, 'manifold': {'name': nan, 'eta_nom': 0.201, 'Eff_T': -0.0034000000000000002, 'T_ref': 298.15, 'Eff_G': 0, 'G_ref': 1000, 'X_corr': 1, 'tau_g': 0.8, 'alpha_g': 0.05, 'eps_PV': 0.9, 'eps_g': 0.9, 'eps_bs': 1, 'w_pan': 1.134, 'L_pan': 1.708, 'orientation': 'portrait', 'lambd_upper_glass': 0.002, 'lambd_upper_EVA': 0.000515, 'lambd_si': 0.00015, 'lambd_lower_EVA': 0.000515, 'lambd_PVDF': 0.0, 'lambd_PET': 0.0, 'lambd_adh': 0.0, 'lambd_lower_glass': 0.002, 'k_glass': 0.8, 'k_EVA': 0.24, 'k_si': 60, 'k_PVDF': 0.2, 'k_PET': 0.3, 'k_adh': 0.2, 'L_abs': 1.342, 'w_abs': 0.976, 'geometry': 'harp', 'N_harp': 1, 'N_meander': 1, 'L_tube': 1.134, 'tube_geometry': 'circular', 'H_tube': 0.018, 'w_tube': 0.018, 'W': 0.022, 'l_c': 0.0, 'p_ext_tube': 0.06911503837897544, 'p_ext_tube_rad': 0.00335, 'lambd_air': 0.0, 'lambd_conductive_plate': 0.0, 'lambd_abs': 0.00027, 'lambd_riser_plate': 0.0005, 'lambd_riser_back': 0.0005, 'lambd_ins': 0.0, 'eps_hx_top': 0, 'eps_hx_back': 0.2, 'eps_ins': 0.8, 'k_air': 0.025, 'k_conductive_plate': 1, 'k_abs': 0.3, 'k_riser_plate': 0.025, 'k_riser_back': 220, 'k_ins': 0.03, 'Heta': 0.02, 'N_ail': 50, 'N_fins_per_EP': nan, 'lambd_ail': 0.001, 'k_ail': 226, 'eps_fin': 0, 'D': 0.014, 'fin_0': 0, 'N_f0': 50, 'L_f0': 0.02, 'delta_f0': 0.00335, 'delta_f0_int': 0.00335, 'fin_1': 0, 'N_f1': nan, 'L_f1': nan, 'delta_f1': nan, 'delta_f1_int': nan, 'coeff_f1': nan, 'fin_2': 0, 'N_f2': nan, 'L_f2': nan, 'delta_f2': nan, 'D_f2': nan, 'fin_3': 0, 'N_f3': nan, 'L_f3': nan, 'delta_f3': nan, 'is_exchanger': 0, 'is_inlet_man': 1, 'is_outlet_man': 1, 'is_anomaly': 0, 'input_man': 0}, 'anomaly1': {'name': nan, 'eta_nom': 0.201, 'Eff_T': -0.0034000000000000002, 'T_ref': 298.15, 'Eff_G': 0, 'G_ref': 1000, 'X_corr': 1, 'tau_g': 0.8, 'alpha_g': 0.05, 'eps_PV': 0.9, 'eps_g': 0.9, 'eps_bs': 1, 'w_pan': 1.134, 'L_pan': 1.708, 'orientation': 'portrait', 'lambd_upper_glass': 0.002, 'lambd_upper_EVA': 0.000515, 'lambd_si': 0.00015, 'lambd_lower_EVA': 0.000515, 'lambd_PVDF': 0.0, 'lambd_PET': 0.0, 'lambd_adh': 0.0, 'lambd_lower_glass': 0.002, 'k_glass': 0.8, 'k_EVA': 0.24, 'k_si': 60, 'k_PVDF': 0.2, 'k_PET': 0.3, 'k_adh': 0.2, 'L_abs': 1342, 'w_abs': 976, 'geometry': 'harp', 'N_harp': 300, 'N_meander': 1, 'L_tube': 0.24, 'tube_geometry': 'rectangular', 'H_tube': 0.002, 'w_tube': 0.00281, 'W': 0.00335, 'l_c': 1.0000000000000001e-07, 'p_ext_tube': 0.005025, 'p_ext_tube_rad': 0.00335, 'lambd_air': 0.0, 'lambd_conductive_plate': 0.0, 'lambd_abs': 0.00027, 'lambd_riser_plate': 0.0, 'lambd_riser_back': 0.00035, 'lambd_ins': 0.0, 'eps_hx_top': 0, 'eps_hx_back': 0.8, 'eps_ins': 0.8, 'k_air': 0.025, 'k_conductive_plate': 1, 'k_abs': 0.3, 'k_riser_plate': 0.025, 'k_riser_back': 220, 'k_ins': 0.03, 'Heta': 0.02, 'N_ail': 50, 'N_fins_per_EP': nan, 'lambd_ail': 0.001, 'k_ail': 226, 'eps_fin': 0, 'D': 0.014, 'fin_0': 0, 'N_f0': 50, 'L_f0': 0.02, 'delta_f0': 0.00335, 'delta_f0_int': 0.00335, 'fin_1': 0, 'N_f1': nan, 'L_f1': nan, 'delta_f1': nan, 'delta_f1_int': nan, 'coeff_f1': nan, 'fin_2': 0, 'N_f2': nan, 'L_f2': nan, 'delta_f2': nan, 'D_f2': nan, 'fin_3': 0, 'N_f3': nan, 'L_f3': nan, 'delta_f3': nan, 'is_exchanger': 0, 'is_inlet_man': 0, 'is_outlet_man': 0, 'is_anomaly': 1, 'input_an': 0}}\n"
     ]
    }
   ],
   "source": [
    "input_name = r'\\Inputs_V4.41-NI-glass-glass.xlsx'\n",
    "hyp_name = r'\\Model_hypotheses.xlsx'\n",
    "data_path = r'G:\\Drive partagés\\BU04-Innovation\\PVT-perf-1Dmodel\\Steady-state conditions inputs'\n",
    "data_name = r'\\221223_TUV_test_conditions_V4.41GGA_MPP.xlsx'\n",
    "\n",
    "par = pr.import_input(r'G:\\Drive partagés\\BU04-Innovation\\PVT-perf-1Dmodel\\Inputs',input_name)\n",
    "hyp = pr.create_dict_from_excel(r'G:\\Drive partagés\\BU04-Innovation\\PVT-perf-1Dmodel\\Hypotheses',hyp_name,'Main')\n",
    "condi = pr.create_inputs_from_excel(data_path+data_name,par,hyp)"
   ]
  },
  {
   "cell_type": "code",
   "execution_count": 3,
   "metadata": {},
   "outputs": [],
   "source": [
    "i=0\n",
    "par_p = {'G':condi[\"G\"][i],\"T_amb\":condi[\"T_amb\"][i],\"T_back\":condi[\"T_amb\"][i],\"u\":condi[\"u\"][i], \"u_back\" : condi[\"u_back\"][i], \"T_fluid_in0\":condi[\"T_fluid_in\"][i]}\n",
    "par_p[\"mdot\"] = condi[\"mdot\"][i]\n",
    "ty.change_T_sky(par_p,hyp,'TUV')  # calculate Gp and T_sky"
   ]
  },
  {
   "cell_type": "code",
   "execution_count": 4,
   "metadata": {},
   "outputs": [],
   "source": [
    "par_p[\"G\"] = 0"
   ]
  },
  {
   "cell_type": "code",
   "execution_count": 5,
   "metadata": {},
   "outputs": [],
   "source": [
    "def eta_PV(par,par_p,T):\n",
    "\n",
    "    return par[\"eta_nom\"]*par[\"X_rad\"]*par[\"X_corr\"]*(1+par[\"Eff_T\"]*(T[PV.id]-par[\"T_ref\"]))"
   ]
  },
  {
   "cell_type": "code",
   "execution_count": 6,
   "metadata": {},
   "outputs": [],
   "source": [
    "amb = tg.Node(0, True, par_p[\"T_amb\"])\n",
    "sky = tg.Node(1, True, par_p[\"T_sky\"])\n",
    "glass = tg.Node(2, False)\n",
    "glass.source(lambda T : par[\"alpha_g\"]*par_p[\"G\"])\n",
    "PV = tg.Node(3, False)\n",
    "PV.source(lambda T : par[\"tau_g\"]*par_p[\"G\"]*(1-eta_PV(par,par_p,T)))\n",
    "Base = tg.Node(4, False)\n",
    "absfin = tg.Node(5, False)\n",
    "Base_ins = tg.Node(6, False)\n",
    "absfin_ins = tg.Node(7, False)\n",
    "tube = tg.Node(8, False)\n",
    "tube_ins = tg.Node(9, False)\n",
    "fluid = tg.Node(10, False)\n",
    "back = tg.Node(11, True, par_p[\"T_back\"])\n",
    "back_rad = tg.Node(12, True, par_p[\"T_back\"])\n",
    "\n",
    "nodes = [amb, sky, glass, PV, Base, absfin, Base_ins, absfin_ins, tube, tube_ins, fluid, back, back_rad]"
   ]
  },
  {
   "cell_type": "code",
   "execution_count": 7,
   "metadata": {},
   "outputs": [],
   "source": [
    "def h_top(par,par_p,T):\n",
    "    return 5.\n",
    "\n",
    "def h_rad(par,par_p,T):\n",
    "    return 1.\n",
    "\n",
    "def h_back_abs(par,par_p,T):\n",
    "    return 3.\n",
    "\n",
    "def h_rad_back(par,par_p,T):\n",
    "    return 2.\n",
    "\n",
    "def Fp(par,par_p,T):\n",
    "    \n",
    "    a1 = (1/(h_top(par,par_p,T)+h_rad(par,par_p,T)+1/par[\"R_g\"]))*(1/par[\"R_g\"])\n",
    "    a2 = (h_top(par,par_p,T)+h_rad(par,par_p,T))*a1\n",
    "    return 1/(a2*par[\"R_inter\"]+h_rad(par,par_p,T)*par[\"R_inter\"]+1)\n",
    "\n",
    "def b(par,par_p,T):\n",
    "    \"\"\"Calculates the b factor and stores it in var[\"b\"]\n",
    "    \n",
    "    $$\n",
    "    b = S+h_{rad}T_{sky}+\\frac{T_{amb}}{R_t}+\\frac{T_{back}}{R_bF'}+\\frac{h_{rad,f}T_{tube,mean}}{F'}\n",
    "    $$\n",
    "    \n",
    "    Args:\n",
    "        par (dict): dictionary containing the parameters\n",
    "        par_p (dict): dictionary containing the meteo inputs\n",
    "        var (dict): dictionary containing the variables\n",
    "        \n",
    "    Returns:\n",
    "        None\"\"\"\n",
    "\n",
    "    T_back = par_p[\"T_back\"]\n",
    "    R_b = par[\"R_2\"] + 1/(h_back_abs(par,par_p,T)+h_rad_back(par,par_p,T))\n",
    "\n",
    "    a0 = (1/(h_top(par,par_p,T)+h_rad(par,par_p,T)+1/par[\"R_g\"]))*(par[\"alpha_g\"]*par_p[\"G\"] + h_top(par,par_p,T)*par_p[\"T_amb\"] + h_rad(par,par_p,T)*par_p[\"T_sky\"])\n",
    "    a3 = - (par[\"alpha_g\"]*par_p[\"G\"] - h_top(par,par_p,T)*(a0 - par_p[\"T_amb\"]) - h_rad(par,par_p,T)*(a0 - par_p[\"T_sky\"]))\n",
    "    S_star = par[\"tau_g\"]*par_p[\"G\"]*(1-eta_PV(par,par_p,T)) - a3 + h_rad(par,par_p,T)*par_p[\"T_sky\"]\n",
    "\n",
    "    return S_star + T_back/(R_b*Fp(par,par_p,T))\n",
    "\n",
    "def j(par,var,T):\n",
    "    \"\"\"Calculates the j factor and stores it in var[\"j\"]\n",
    "    \n",
    "    $$\n",
    "    j = \\frac{1}{R_{inter}F'}+\\frac{1}{R_bF'}-\\frac{1}{R_{inter}}+\\frac{h_{rad,f}}{F'}\n",
    "    $$\n",
    "    \n",
    "    Args:\n",
    "        par (dict): dictionary containing the parameters\n",
    "        var (dict): dictionary containing the variables\n",
    "        \n",
    "    Returns:\n",
    "        None\"\"\"\n",
    "\n",
    "    R_inter = par[\"R_inter\"]\n",
    "    R_b = par[\"R_2\"] + 1/(h_back_abs(par,par_p,T)+h_rad_back(par,par_p,T))\n",
    "\n",
    "    return 1/(Fp(par,par_p,T)*R_b) + 1/(R_inter*Fp(par,par_p,T)) - 1/R_inter\n",
    "\n",
    "def m(par, var, T):\n",
    "    \"\"\"Calculates the m factor and stores it in var[\"m\"]\n",
    "    \n",
    "    $$\n",
    "    m = \\sqrt{\\frac{F'j}{k_{abs}\\lambda_{abs}}}\n",
    "    $$\n",
    "    \n",
    "    Args:\n",
    "        par (dict): dictionary containing the parameters\n",
    "        var (dict): dictionary containing the variables\n",
    "        \n",
    "    Returns:\n",
    "        None\"\"\"\n",
    "\n",
    "    lambd_abs = par[\"lambd_abs\"]\n",
    "    k_abs = par[\"k_abs\"]\n",
    "\n",
    "    return math.sqrt((Fp(par,par_p,T)*j(par,var,T))/(k_abs*lambd_abs))"
   ]
  },
  {
   "cell_type": "code",
   "execution_count": 8,
   "metadata": {},
   "outputs": [],
   "source": [
    "def Cp(par,par_p,T,hyp):\n",
    "    T_m = T[fluid.id] # K\n",
    "\n",
    "    p_fluid = hyp[\"p_fluid\"] # bar\n",
    "    glycol_rate = hyp[\"glycol_rate\"] # %\n",
    "\n",
    "    # return PropsSI('C','P', p_fluid*100000, 'T', T_m, f'INCOMP::{hyp[\"fluid\"]}[{glycol_rate}]')\n",
    "    return 4180"
   ]
  },
  {
   "cell_type": "code",
   "execution_count": 9,
   "metadata": {},
   "outputs": [],
   "source": [
    "par = par[\"exchanger\"]"
   ]
  },
  {
   "cell_type": "code",
   "execution_count": 10,
   "metadata": {},
   "outputs": [],
   "source": [
    "def h_fluid(par,par_p,T,hyp):\n",
    "    return 300.\n"
   ]
  },
  {
   "cell_type": "code",
   "execution_count": 11,
   "metadata": {},
   "outputs": [],
   "source": [
    "par[\"A_slice\"] = par[\"L_tube\"]*par[\"W\"]\n",
    "S_glass_amb = par[\"A_slice\"]\n",
    "S_glass_sky = par[\"A_slice\"]\n",
    "S_glass_PV = par[\"A_slice\"]\n",
    "S_PV_Base = par[\"L_tube\"]*par[\"l_B\"]\n",
    "S_PV_absfin = par[\"L_tube\"]*par[\"L_af\"]*2\n",
    "S_Base_Base_ins = par[\"L_tube\"]*par[\"l_B\"]\n",
    "S_absfin_absfin_ins = par[\"L_tube\"]*par[\"L_af\"]*2\n",
    "S_Base_tube = par[\"L_tube\"]*par[\"l_B\"]\n",
    "S_tube_tube_ins = par[\"L_tube\"]*par[\"l_B\"]\n",
    "S_tube_back = par[\"p_ext_tube\"]\n",
    "S_tube_back_rad = par[\"p_ext_tube_rad\"]\n",
    "\n",
    "par[\"R_tube\"] = 1/par[\"C_B\"]\n",
    "\n",
    "glass_amb = tg.Edge(glass, amb, None)\n",
    "glass_amb.convection_or_radiation(lambda T : h_top(par,par_p,T),S_glass_amb)\n",
    "glass_sky = tg.Edge(glass, sky, None)\n",
    "glass_sky.convection_or_radiation(lambda T : h_rad(par,par_p,T),S_glass_sky)\n",
    "glass_PV = tg.Edge(glass, PV, None)\n",
    "glass_PV.conduction(par[\"R_g\"],S_glass_PV)\n",
    "PV_Base = tg.Edge(PV, Base, None)\n",
    "PV_Base.conduction(par[\"R_inter\"],S_PV_Base)\n",
    "PV_absfin = tg.Edge(PV, absfin, None)\n",
    "PV_absfin.conduction(par[\"R_inter\"],S_PV_absfin)\n",
    "Base_absfin = tg.Edge(Base, absfin, lambda T : par[\"L_tube\"]*par[\"k_abs\"]*par[\"lambd_abs\"]*m(par,par_p,T)*((b(par,par_p,T)/j(par,par_p,T))-T[Base.id])*math.tanh(m(par,par_p,T)*par[\"L_af\"]))\n",
    "Base_Base_ins = tg.Edge(Base, Base_ins, None)\n",
    "Base_Base_ins.conduction(par[\"R_2\"],S_Base_Base_ins)\n",
    "absfin_absfin_ins = tg.Edge(absfin, absfin_ins, None)\n",
    "absfin_absfin_ins.conduction(par[\"R_2\"],S_absfin_absfin_ins)\n",
    "Base_tube = tg.Edge(Base, tube, None)\n",
    "Base_tube.conduction(par[\"R_tube\"],S_Base_tube)\n",
    "tube_tube_ins = tg.Edge(tube, tube_ins, None)\n",
    "tube_tube_ins.conduction(par[\"R_2\"],S_tube_tube_ins)\n",
    "tube_back = tg.Edge(tube, back, None)\n",
    "tube_back.convection_or_radiation(lambda T : h_rad(par,par_p,T),S_tube_back)\n",
    "tube_back_rad = tg.Edge(tube, back_rad, None)\n",
    "tube_back_rad.convection_or_radiation(lambda T : h_rad(par,par_p,T),S_tube_back_rad)\n",
    "\n",
    "L_tube = par[\"L_tube\"]\n",
    "fluid.equation(lambda T : T[fluid.id] - T[Base.id] - ((T[Base.id]-par_p[\"T_fluid_in0\"])/((-par[\"N_harp\"]/(par_p[\"mdot\"]*Cp(par,par_p,T,hyp)*(1/(h_fluid(par,par_p,T,hyp)*par[\"p_int_tube\"]))))*L_tube))*math.exp((-par[\"N_harp\"]/(par_p[\"mdot\"]*Cp(par,par_p,T,hyp)*(1/(h_fluid(par,par_p,T,hyp)*par[\"p_int_tube\"]))))*L_tube) - ((T[Base.id]+par_p[\"T_fluid_in0\"])/((-par[\"N_harp\"]/(par_p[\"mdot\"]*Cp(par,par_p,T,hyp)*(1/(h_fluid(par,par_p,T,hyp)*par[\"p_int_tube\"]))))*L_tube)))"
   ]
  },
  {
   "cell_type": "code",
   "execution_count": 12,
   "metadata": {},
   "outputs": [],
   "source": [
    "edges = [glass_amb, glass_sky, glass_PV, PV_Base, PV_absfin, Base_absfin, Base_Base_ins, absfin_absfin_ins, Base_tube, tube_tube_ins, tube_back, tube_back_rad]"
   ]
  },
  {
   "cell_type": "code",
   "execution_count": 13,
   "metadata": {},
   "outputs": [],
   "source": [
    "grap = tg.Graph(nodes,edges)"
   ]
  },
  {
   "cell_type": "code",
   "execution_count": 14,
   "metadata": {},
   "outputs": [],
   "source": [
    "T_guess = np.array([node.temperature for node in grap.nodes])"
   ]
  },
  {
   "cell_type": "code",
   "execution_count": 15,
   "metadata": {},
   "outputs": [
    {
     "data": {
      "text/plain": [
       "{'G': 0,\n",
       " 'T_amb': 303.99199999999996,\n",
       " 'T_back': 303.99199999999996,\n",
       " 'u': 0.4,\n",
       " 'u_back': 0.0,\n",
       " 'T_fluid_in0': 294.876,\n",
       " 'mdot': 0.0608,\n",
       " 'Gp': 4,\n",
       " 'T_sky': 303.99199999999996}"
      ]
     },
     "execution_count": 15,
     "metadata": {},
     "output_type": "execute_result"
    }
   ],
   "source": [
    "par_p"
   ]
  },
  {
   "cell_type": "code",
   "execution_count": 16,
   "metadata": {},
   "outputs": [],
   "source": [
    "for i,T in enumerate(T_guess):\n",
    "    if T == 0.:\n",
    "        T_guess[i] = (par_p[\"T_fluid_in0\"]+par_p[\"T_amb\"])/2 +5"
   ]
  },
  {
   "cell_type": "code",
   "execution_count": 25,
   "metadata": {},
   "outputs": [],
   "source": [
    "T_guess[10] = 295"
   ]
  },
  {
   "cell_type": "code",
   "execution_count": 26,
   "metadata": {},
   "outputs": [
    {
     "data": {
      "text/plain": [
       "array([303.992, 303.992, 304.434, 304.434, 304.434, 304.434, 304.434,\n",
       "       304.434, 304.434, 304.434, 295.   , 303.992, 303.992])"
      ]
     },
     "execution_count": 26,
     "metadata": {},
     "output_type": "execute_result"
    }
   ],
   "source": [
    "T_guess"
   ]
  },
  {
   "cell_type": "code",
   "execution_count": 31,
   "metadata": {},
   "outputs": [
    {
     "data": {
      "text/plain": [
       "array([ 0.00000000e+00,  0.00000000e+00, -1.19225964e-02,  0.00000000e+00,\n",
       "        1.21285827e-03, -1.21285827e-03,  0.00000000e+00,  0.00000000e+00,\n",
       "       -2.96140000e-03,  0.00000000e+00,  1.21675117e+02,  0.00000000e+00,\n",
       "        0.00000000e+00])"
      ]
     },
     "execution_count": 31,
     "metadata": {},
     "output_type": "execute_result"
    }
   ],
   "source": [
    "grap.energy_balance(T_guess)"
   ]
  },
  {
   "cell_type": "code",
   "execution_count": 33,
   "metadata": {},
   "outputs": [],
   "source": [
    "grap.solve(T_guess)"
   ]
  },
  {
   "cell_type": "code",
   "execution_count": 34,
   "metadata": {},
   "outputs": [
    {
     "name": "stdout",
     "output_type": "stream",
     "text": [
      "Node 0 temperature: 303.99199999999996\n",
      "Node 1 temperature: 303.99199999999996\n",
      "Node 2 temperature: 303.99199999999996\n",
      "Node 3 temperature: 303.99199999999996\n",
      "Node 4 temperature: 303.99199999999996\n",
      "Node 5 temperature: 303.99199999999996\n",
      "Node 6 temperature: 303.99199999999996\n",
      "Node 7 temperature: 303.99199999999996\n",
      "Node 8 temperature: 303.99199999999996\n",
      "Node 9 temperature: 303.99199999999996\n",
      "Node 10 temperature: 172.98056139516413\n",
      "Node 11 temperature: 303.99199999999996\n",
      "Node 12 temperature: 303.99199999999996\n"
     ]
    }
   ],
   "source": [
    "grap.show_temp()"
   ]
  },
  {
   "cell_type": "code",
   "execution_count": null,
   "metadata": {},
   "outputs": [],
   "source": []
  }
 ],
 "metadata": {
  "kernelspec": {
   "display_name": "model23",
   "language": "python",
   "name": "python3"
  },
  "language_info": {
   "codemirror_mode": {
    "name": "ipython",
    "version": 3
   },
   "file_extension": ".py",
   "mimetype": "text/x-python",
   "name": "python",
   "nbconvert_exporter": "python",
   "pygments_lexer": "ipython3",
   "version": "3.10.5"
  },
  "orig_nbformat": 4
 },
 "nbformat": 4,
 "nbformat_minor": 2
}
