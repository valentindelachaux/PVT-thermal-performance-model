{
 "cells": [
  {
   "cell_type": "code",
   "execution_count": 6,
   "metadata": {},
   "outputs": [],
   "source": [
    "import test_general as tg\n",
    "import math"
   ]
  },
  {
   "cell_type": "code",
   "execution_count": 7,
   "metadata": {},
   "outputs": [],
   "source": [
    "N0 = tg.Node(0, True, 278.15, 1)\n",
    "N1 = tg.Node(1, False, 350, 1)\n",
    "N1.source(lambda T : 1000.)\n",
    "N2 = tg.Node(2, False, 340, 1)\n",
    "N3 = tg.Node(3, False, 330, 1)\n",
    "nodes = [N0, N1, N2, N3]"
   ]
  },
  {
   "cell_type": "code",
   "execution_count": 8,
   "metadata": {},
   "outputs": [],
   "source": [
    "E0 = tg.Edge(N0, N1, None)\n",
    "E0.convection_or_radiation(lambda T1, T2: 10, 1)\n",
    "E1 = tg.Edge(N1, N2, None)\n",
    "E1.conduction(0.01,1)\n",
    "E2 = tg.Edge(N2, N3, None)\n",
    "E2.conduction(0.01,1)\n",
    "E3 = tg.Edge(N0, N3, None)\n",
    "E3.convection_or_radiation(lambda T1, T2: 5., 1)\n",
    "edges = [E0, E1, E2, E3]"
   ]
  },
  {
   "cell_type": "code",
   "execution_count": 9,
   "metadata": {},
   "outputs": [],
   "source": [
    "graph = tg.Graph(nodes, edges)"
   ]
  },
  {
   "cell_type": "code",
   "execution_count": 10,
   "metadata": {},
   "outputs": [
    {
     "data": {
      "text/plain": [
       "array([   0.  , -718.5 ,    0.  ,  740.75])"
      ]
     },
     "execution_count": 10,
     "metadata": {},
     "output_type": "execute_result"
    }
   ],
   "source": [
    "graph.energy_balance([node.temperature for node in graph.nodes])"
   ]
  },
  {
   "cell_type": "code",
   "execution_count": 11,
   "metadata": {},
   "outputs": [],
   "source": [
    "graph.solve()"
   ]
  },
  {
   "cell_type": "code",
   "execution_count": 14,
   "metadata": {},
   "outputs": [
    {
     "name": "stdout",
     "output_type": "stream",
     "text": [
      "0 278.15\n",
      "1 346.9\n",
      "2 343.775\n",
      "3 340.65\n"
     ]
    }
   ],
   "source": [
    "for node in graph.nodes:\n",
    "    print(node.id, node.temperature)"
   ]
  },
  {
   "cell_type": "code",
   "execution_count": 13,
   "metadata": {},
   "outputs": [
    {
     "name": "stdout",
     "output_type": "stream",
     "text": [
      "0 1 -687.5\n",
      "1 2 312.5\n",
      "2 3 312.5\n",
      "0 3 -312.5\n"
     ]
    }
   ],
   "source": [
    "for edge in graph.edges:\n",
    "    print(edge.N1.id, edge.N2.id, edge.ht)"
   ]
  }
 ],
 "metadata": {
  "kernelspec": {
   "display_name": "model23",
   "language": "python",
   "name": "python3"
  },
  "language_info": {
   "codemirror_mode": {
    "name": "ipython",
    "version": 3
   },
   "file_extension": ".py",
   "mimetype": "text/x-python",
   "name": "python",
   "nbconvert_exporter": "python",
   "pygments_lexer": "ipython3",
   "version": "3.10.5"
  },
  "orig_nbformat": 4
 },
 "nbformat": 4,
 "nbformat_minor": 2
}
