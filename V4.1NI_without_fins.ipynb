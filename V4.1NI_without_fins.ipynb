{
 "cells": [
  {
   "cell_type": "code",
   "execution_count": 1,
   "metadata": {},
   "outputs": [],
   "source": [
    "## Standard\n",
    "\n",
    "import os\n",
    "import sys\n",
    "sys.path.append('../RD-systems-and-test-benches')\n",
    "\n",
    "import math\n",
    "from datetime import datetime\n",
    "\n",
    "## Specific\n",
    "\n",
    "from tqdm.notebook import tqdm\n",
    "import copy\n",
    "# from concurrent.futures import ProcessPoolExecutor\n",
    "# import networkx as nx\n",
    "# from itertools import product\n",
    "# from itertools import chain\n",
    "\n",
    "## Data handling \n",
    "\n",
    "import pandas as pd\n",
    "import numpy as np\n",
    "import openpyxl as opxl\n",
    "from openpyxl.utils.dataframe import dataframe_to_rows\n",
    "\n",
    "import sklearn.metrics\n",
    "import scipy.constants as scc\n",
    "import seaborn as sns\n",
    "import scipy.integrate as integrate\n",
    "import scipy.optimize as sco\n",
    "\n",
    "import pickle\n",
    "\n",
    "## Plot\n",
    "\n",
    "import matplotlib\n",
    "import matplotlib.pyplot as plt\n",
    "import matplotlib.ticker as mtick\n",
    "import scienceplots\n",
    "import matplotlib_inline\n",
    "matplotlib_inline.backend_inline.set_matplotlib_formats('retina')\n",
    "plt.style.use(['science'])\n",
    "\n",
    "import plotly.graph_objects as go\n",
    "import plotly.io as pio\n",
    "\n",
    "from IPython.core.display import HTML\n",
    "\n",
    "## Own modumes\n",
    "\n",
    "import model as ty\n",
    "import heat_transfer as bht\n",
    "import proc as pr\n",
    "\n",
    "import plot_functions_here as pfun\n",
    "import general as gen\n",
    "\n",
    "import thermal.SK_standard as nm\n",
    "import utils.plot_functions as RD_pfun\n",
    "import repo_config as rconfig\n",
    "\n",
    "import utils.data_processing as dp\n",
    "\n",
    "## Physics\n",
    "\n",
    "import fluids as fds\n",
    "import ht "
   ]
  },
  {
   "cell_type": "code",
   "execution_count": 2,
   "metadata": {},
   "outputs": [],
   "source": [
    "import matplotlib\n",
    "import matplotlib.pyplot as plt\n",
    "import matplotlib.ticker as mtick\n",
    "import scienceplots\n",
    "import matplotlib_inline\n",
    "matplotlib_inline.backend_inline.set_matplotlib_formats('retina')\n",
    "plt.style.use(['science'])"
   ]
  },
  {
   "cell_type": "code",
   "execution_count": 3,
   "metadata": {},
   "outputs": [],
   "source": [
    "folder_path = r'G:\\Drive partagés\\Cercle Hard\\R&D\\Modèles numériques PVT\\PVT-perf-1Dmodel'\n",
    "geometry_path = os.path.join(folder_path, 'Panels\\\\Panel_V4.1I_calibrated.xlsx')\n",
    "hypotheses_path = folder_path + '\\\\' + 'Hypotheses\\\\Model_hypotheses_calibrated.xlsx'\n",
    "condi_path = folder_path + '\\\\' + 'Steady-state conditions inputs\\\\ssCforStudy.xlsx'\n",
    "# exp_path = folder_path + '\\\\' + 'Experiments\\\\Experiments-GMI.xlsx'\n",
    "\n",
    "panelSpecs = pr.import_geometry(geometry_path)\n",
    "\n",
    "panelSpecs['part2']['lambd_abs_ins'] = 0.\n",
    "panelSpecs['part2']['lambd_tube_ins'] = 0.\n",
    "\n",
    "hyp = pr.create_dict_from_excel(hypotheses_path,'Main')\n",
    "\n",
    "# steadyStateConditions_df = pd.read_excel(condi_path,header=2) ## Les deux première lignes ne sont pas à prendre en compte\n",
    "# stepConditions = steadyStateConditions_df.to_dict(orient='records')\n",
    "\n",
    "recap = pd.read_excel(r'G:\\Drive partagés\\Cercle Hard\\R&D\\Thermal performance tests PVT\\Recap_RD_TUV_SSI.xlsx')\n",
    "recap = recap.drop(index=0)\n",
    "recap.dropna(how='all', inplace=True)\n",
    "\n",
    "groups = {key: group for key, group in recap.groupby('Design')}\n",
    "\n",
    "# steadyStateConditions_df = groups['V4.1NI'].loc[groups['V4.1NI']['Type'] == 'dark'].copy()\n",
    "steadyStateConditions_df = pd.read_excel(condi_path,header=0)\n",
    "steadyStateConditions_df.drop(0, inplace=True)\n",
    "\n",
    "pr.adjust_steadyStateConditions(steadyStateConditions_df, hyp, convert_celsius=True)\n",
    "steadyStateConditions_df.reset_index(drop=True,inplace=True)\n",
    "\n",
    "# for key, group in groups.items():\n",
    "#     pr.convert_to_K(group)"
   ]
  },
  {
   "cell_type": "code",
   "execution_count": 4,
   "metadata": {},
   "outputs": [],
   "source": [
    "dic_names = {'T_in' : 'T_fluid_in',\n",
    "             'T_out' : 'T_fluid_out',\n",
    "             'Qdot_1_AG' : 'Qdot/AG',\n",
    "             'T_amb' : 'T_amb',\n",
    "             'u' : 'u'}"
   ]
  },
  {
   "cell_type": "code",
   "execution_count": 5,
   "metadata": {},
   "outputs": [],
   "source": [
    "# df_res, list_res = ty.simu_steadyStateConditions(panelSpecs,hyp,steadyStateConditions_df)"
   ]
  },
  {
   "cell_type": "code",
   "execution_count": 6,
   "metadata": {},
   "outputs": [],
   "source": [
    "N_range = np.arange(4,35,1)"
   ]
  },
  {
   "cell_type": "code",
   "execution_count": null,
   "metadata": {},
   "outputs": [],
   "source": [
    "panelSpecs['part2']['delta']"
   ]
  },
  {
   "cell_type": "code",
   "execution_count": 8,
   "metadata": {},
   "outputs": [],
   "source": [
    "# panelSpecs_temp = copy.deepcopy(panelSpecs)\n",
    "# hyp_temp = copy.deepcopy(hyp)\n",
    "# steadyStateConditions_df_temp = copy.deepcopy(steadyStateConditions_df)"
   ]
  },
  {
   "cell_type": "code",
   "execution_count": 9,
   "metadata": {},
   "outputs": [],
   "source": [
    "# for el in [panelSpecs_temp[key] for key,value in panelSpecs_temp['decomp'].items()]:\n",
    "#     print(el['geometry'])"
   ]
  },
  {
   "cell_type": "code",
   "execution_count": 10,
   "metadata": {},
   "outputs": [],
   "source": [
    "storage_fp = r'G:\\Drive partagés\\Cercle Hard\\R&D\\Modèles numériques PVT\\PVT-perf-1Dmodel\\StudyForThesis'"
   ]
  },
  {
   "cell_type": "markdown",
   "metadata": {},
   "source": [
    "### Function of number of tubes"
   ]
  },
  {
   "cell_type": "code",
   "execution_count": null,
   "metadata": {},
   "outputs": [],
   "source": [
    "X_list = []\n",
    "df_res_list = []\n",
    "\n",
    "for i,N in tqdm(enumerate(N_range), total=len(N_range)):\n",
    "\n",
    "    panelSpecs_local = copy.deepcopy(panelSpecs)\n",
    "    hyp_local = copy.deepcopy(hyp)\n",
    "    steadyStateConditions_df_local = copy.deepcopy(steadyStateConditions_df)\n",
    "\n",
    "    panelSpecs_local['part2']['N_meander'] = N\n",
    "\n",
    "    pr.update_panelSpecs_N_tubes(panelSpecs_local)\n",
    "    pr.update_panelSpecs_after_modif(panelSpecs_local)\n",
    "\n",
    "    df_res, list_res = ty.simu_steadyStateConditions(panelSpecs_local, hyp_local, steadyStateConditions_df_local)\n",
    "\n",
    "    tab_mat,tab_res,X = nm.find_SK(df_res,dic_names,columns_list=[0,1,0,1,0,0,0,0,0],options=[],IAM=False,LSM='nnls')\n",
    "\n",
    "    df_res_list.append(df_res)\n",
    "    X_list.append(X)"
   ]
  },
  {
   "cell_type": "code",
   "execution_count": 14,
   "metadata": {},
   "outputs": [],
   "source": [
    "Ntubes_dict = dp.load_pickle(storage_fp, \"V4.NI_meander_calibrated_ssCforStudy_Ntubes_dfresXlists\")"
   ]
  },
  {
   "cell_type": "markdown",
   "metadata": {},
   "source": [
    "### Add fins of type 0"
   ]
  },
  {
   "cell_type": "code",
   "execution_count": null,
   "metadata": {},
   "outputs": [],
   "source": [
    "L_f0_range"
   ]
  },
  {
   "cell_type": "code",
   "execution_count": null,
   "metadata": {},
   "outputs": [],
   "source": [
    "L_f0_range = np.arange(0.005, 0.1, 0.005)\n",
    "N_f0_range = np.array([30,40,50,60,70,80,90,100,110,120,130,140])\n",
    "f0_dict = {}\n",
    "\n",
    "for _, N_f0 in tqdm(enumerate(N_f0_range), total=len(N_f0_range)):\n",
    "\n",
    "    # for i,L_f0 in tqdm(enumerate(L_f0_range), total=len(L_f0_range)):\n",
    "    for i, L_f0 in enumerate(L_f0_range):\n",
    "\n",
    "        panelSpecs_local = copy.deepcopy(panelSpecs)\n",
    "        hyp_local = copy.deepcopy(hyp)\n",
    "        steadyStateConditions_df_local = copy.deepcopy(steadyStateConditions_df)\n",
    "\n",
    "        panelSpecs_local['part2']['Heta'] = L_f0\n",
    "        panelSpecs_local['part2']['N_ail'] = N_f0\n",
    "\n",
    "        panelSpecs_local['part2']['lambda_fin'] = 226\n",
    "        panelSpecs_local['part2']['eps_fin'] = 0.09\n",
    "\n",
    "        panelSpecs_local['part2']['D'] = panelSpecs_local['part2']['w_abs'] / panelSpecs_local['part2']['N_ail']\n",
    "\n",
    "        panelSpecs_local['part2']['fin_0'] = 1\n",
    "        panelSpecs_local['part2']['N_f0'] = panelSpecs_local['part2']['N_ail']\n",
    "        panelSpecs_local['part2']['L_f0'] = panelSpecs_local['part2']['Heta']\n",
    "        panelSpecs_local['part2']['delta_f0'] = panelSpecs_local['part2']['Dext_tube']\n",
    "        panelSpecs_local['part2']['delta_f0_int'] = panelSpecs_local['part2']['p_ext_tube'] / 2\n",
    "\n",
    "        # pr.update_panelSpecs_N_tubes(panelSpecs_local)\n",
    "        pr.update_panelSpecs_after_modif(panelSpecs_local)\n",
    "\n",
    "        df_res, list_res = ty.simu_steadyStateConditions(panelSpecs_local, hyp_local, steadyStateConditions_df_local)\n",
    "\n",
    "        tab_mat,tab_res,X = nm.find_SK(df_res,dic_names,columns_list=[0,1,0,1,0,0,0,0,0],options=[],IAM=False,LSM='nnls')\n",
    "\n",
    "        f0_dict[(N_f0,L_f0)] = {'df_res' : copy.deepcopy(df_res), 'list_res' : copy.deepcopy(list_res), 'X' : copy.deepcopy(X)}"
   ]
  },
  {
   "cell_type": "code",
   "execution_count": null,
   "metadata": {},
   "outputs": [],
   "source": [
    "ty.recap_residuals_steadyStateConditions(panelSpecs, f0_dict[(60,0.02)]['df_res'], f0_dict[(60,0.02)]['list_res'])"
   ]
  },
  {
   "cell_type": "code",
   "execution_count": null,
   "metadata": {},
   "outputs": [],
   "source": [
    "f0_dict[(30,0.02)]['df_res'][['h_f0', 'Qdot_tube_back', 'Qdot_tube_back_rad', 'Qdot_absfin_back_conv', 'Qdot_f0', 'Qdot_tube_fluid']]"
   ]
  },
  {
   "cell_type": "code",
   "execution_count": null,
   "metadata": {},
   "outputs": [],
   "source": [
    "f0_dict[(60,0.02)]['df_res'][['h_f0', 'Qdot_tube_back','Qdot_tube_back_rad', 'Qdot_absfin_back_conv', 'Qdot_f0','Qdot_tube_fluid']]"
   ]
  },
  {
   "cell_type": "code",
   "execution_count": 12,
   "metadata": {},
   "outputs": [],
   "source": [
    "dp.write_pickle(storage_fp, \"V4.NI_meander_calibrated_ssCforStudy_f0_parametric_Nf0_Lf0\", f0_dict)"
   ]
  },
  {
   "cell_type": "markdown",
   "metadata": {},
   "source": [
    "### PLOT"
   ]
  },
  {
   "cell_type": "code",
   "execution_count": null,
   "metadata": {},
   "outputs": [],
   "source": [
    "colors = ['olive', 'green', 'blue', 'orange', 'red']\n",
    "colors_lighter = [rconfig.get_hex_code(color, 70) for color in colors]\n",
    "colors = [rconfig.get_hex_code(color, 100) for color in colors]\n",
    "linestyles = ['-', '--',  (5, (10, 3)), '-.', (0, (1, 1)), (0, (3, 5, 1, 5))]\n",
    "markers = ['o', 's', 'd', 'X', 'v', '^']\n",
    "\n",
    "# Main plot: plotting L_f0_range on x-axis\n",
    "fig, ax1 = plt.subplots(figsize=(rconfig.wcol_in, rconfig.hfig(0.3, unit=\"in\")))\n",
    "\n",
    "# Set the new x-axis values for the number of tubes (assuming you have this data)\n",
    "\n",
    "X_list = Ntubes_dict['X_list']\n",
    "X0 = [X_list[i][0] for i in range(len(X_list))]\n",
    "\n",
    "ax1.plot(N_range, [X0[i][1] - 3*X0[i][3]  for i in range(len(X0))], label = 'No fin', color=colors[0], linestyle=linestyles[0], linewidth = 1.5)\n",
    "\n",
    "# ax1.plot([],[], color = rconfig.get_hex_code('grey', 150), linestyle = '--', label='Reference PVT')\n",
    "ax1.plot([],[], linewidth = 0., label=' ')\n",
    "\n",
    "ax1.set_xlabel('Number of tubes')\n",
    "ax1.set_ylabel(r\"$b_{1} = A_1(0) \\quad [W / m^{2} K]$\")\n",
    "\n",
    "# Create a secondary x-axis\n",
    "ax3 = ax1.twiny()\n",
    "\n",
    "for i, N_f0 in enumerate([30, 60, 90, 120]):\n",
    "\n",
    "    b1_list = [X[0][1] - 3*X[0][3] for X in [f0_dict[(N_f0,L_f0)]['X'] for L_f0 in L_f0_range]]\n",
    "\n",
    "    ax3.scatter(L_f0_range*1000, b1_list, label=f\"$S_{{f0}} = {round((panelSpecs['part2']['w_abs']/N_f0)*1000,1)} mm$\", marker = markers[i+1], color=colors[i+1])\n",
    "\n",
    "Ntubes_ticks = np.arange(5,40,5)\n",
    "Lf0_ticks = np.arange(0,70,10)\n",
    "\n",
    "# Set labels and legend for the first x-axis\n",
    "ax3.set_xlabel(\"Fin height $L_{f0}$ [mm]\")\n",
    "\n",
    "ax1.set_xlim(0,35)\n",
    "ax3.set_xlim(0,70)\n",
    "\n",
    "ax1.grid(linewidth=0.5, color=rconfig.get_hex_code('grey', 70))\n",
    "\n",
    "\n",
    "# Combine the legends of both axes\n",
    "lines1, labels1 = ax1.get_legend_handles_labels()\n",
    "lines3, labels3 = ax3.get_legend_handles_labels()\n",
    "\n",
    "# Plot combined legend below the x-axis\n",
    "fig.legend(lines1 + lines3, labels1 + labels3, loc='upper center', bbox_to_anchor=(0.5, 0.), ncol=3, frameon=False)\n",
    "\n",
    "# Synchronize the two x-axes by matching the limits if needed\n",
    "# ax2.set_xlim(ax3.get_xlim())\n",
    "y_ref = 11.431576403321566\n",
    "plt.axhline(y=y_ref, color=rconfig.get_hex_code('grey', 150), linestyle='--')\n",
    "\n",
    "# Annotate \"Reference PVT\" on the right of the plot but inside the plot area\n",
    "ax1.annotate(\"Reference PVT\", xy=(0.98, y_ref-0.5), xycoords=('axes fraction', 'data'),\n",
    "             xytext=(0, 0), textcoords='offset points', fontsize=10, ha='right', va='center')\n",
    "\n",
    "\n",
    "fig.show()"
   ]
  },
  {
   "cell_type": "code",
   "execution_count": 17,
   "metadata": {},
   "outputs": [],
   "source": [
    "fig.savefig(r'G:\\Mon Drive\\GitHub\\VDE_thesis\\image\\Chapter_TH\\TH-3-fig5.png', dpi=600)"
   ]
  },
  {
   "cell_type": "markdown",
   "metadata": {},
   "source": [
    "### Add fins of type 1"
   ]
  },
  {
   "cell_type": "code",
   "execution_count": null,
   "metadata": {},
   "outputs": [],
   "source": [
    "N_f1_range = np.array([30,40,50,60,70,80,90,100,110,120,130,140])\n",
    "# D_tube_range = np.array([0.01, 0.02, 0.03, 0.04, 0.05])\n",
    "\n",
    "f1_dict = {}\n",
    "\n",
    "for _, N_f1 in tqdm(enumerate(N_f1_range), total=len(N_f1_range)):\n",
    "\n",
    "    H_tube = 0.008\n",
    "\n",
    "    X_list = []\n",
    "    df_res_list = []\n",
    "    list_res_list = []\n",
    "\n",
    "    # for i,L_f0 in tqdm(enumerate(L_f0_range), total=len(L_f0_range)):\n",
    "    # for i, L_f1 in enumerate(L_f1_range):\n",
    "\n",
    "    panelSpecs_local = copy.deepcopy(panelSpecs)\n",
    "    hyp_local = copy.deepcopy(hyp)\n",
    "    steadyStateConditions_df_local = copy.deepcopy(steadyStateConditions_df)\n",
    "\n",
    "    panelSpecs_local['part2']['H_tube'] = H_tube\n",
    "    panelSpecs_local['part2']['w_tube'] = H_tube\n",
    "\n",
    "    pr.update_panelSpecs_after_modif(panelSpecs_local)\n",
    "\n",
    "    height = panelSpecs_local['part2']['Dext_tube']\n",
    "\n",
    "    panelSpecs_local['part2']['Heta'] = height\n",
    "    panelSpecs_local['part2']['N_ail'] = N_f1\n",
    "\n",
    "    panelSpecs_local['part2']['lambda_fin'] = 226\n",
    "    panelSpecs_local['part2']['eps_fin'] = 0.09\n",
    "\n",
    "    panelSpecs_local['part2']['D'] = panelSpecs_local['part2']['w_abs'] / panelSpecs_local['part2']['N_ail']\n",
    "\n",
    "    panelSpecs_local['part2']['fin_1'] = 1\n",
    "    panelSpecs_local['part2']['coeff_f1'] = 1.\n",
    "    panelSpecs_local['part2']['N_f1'] = panelSpecs_local['part2']['N_ail']\n",
    "    panelSpecs_local['part2']['L_f1'] = panelSpecs_local['part2']['delta']\n",
    "    panelSpecs_local['part2']['D_f1'] = panelSpecs_local['part2']['D']\n",
    "    panelSpecs_local['part2']['delta_f1'] = panelSpecs_local['part2']['Dext_tube']\n",
    "    panelSpecs_local['part2']['delta_f1_int'] = panelSpecs_local['part2']['p_ext_tube'] / 2\n",
    "\n",
    "    # pr.update_panelSpecs_N_tubes(panelSpecs_local)\n",
    "    pr.update_panelSpecs_after_modif(panelSpecs_local)\n",
    "\n",
    "    df_res, list_res = ty.simu_steadyStateConditions(panelSpecs_local, hyp_local, steadyStateConditions_df_local)\n",
    "\n",
    "    tab_mat,tab_res,X = nm.find_SK(df_res,dic_names,columns_list=[0,1,0,1,0,0,0,0,0],options=[],IAM=False,LSM='nnls')\n",
    "\n",
    "    f1_dict[N_f1] = {'df_res' : copy.deepcopy(df_res), 'list_res' : copy.deepcopy(list_res), 'X' : copy.deepcopy(X)}"
   ]
  },
  {
   "cell_type": "code",
   "execution_count": 19,
   "metadata": {},
   "outputs": [],
   "source": [
    "dp.write_pickle(storage_fp, \"V4.NI_meander_calibrated_ssCforStudy_f1_parametric_Nf1\", f1_dict)"
   ]
  },
  {
   "cell_type": "code",
   "execution_count": 18,
   "metadata": {},
   "outputs": [],
   "source": [
    "f1_dict = dp.load_pickle(storage_fp, \"V4.NI_meander_calibrated_ssCforStudy_f1_parametric_Nf1\")"
   ]
  },
  {
   "cell_type": "markdown",
   "metadata": {},
   "source": [
    "### Add fins of type 2"
   ]
  },
  {
   "cell_type": "code",
   "execution_count": null,
   "metadata": {},
   "outputs": [],
   "source": [
    "N_f2_range = np.array([30,40,50,60,70,80,90,100,110,120,130,140])\n",
    "# D_tube_range = np.array([0.01, 0.02, 0.03, 0.04, 0.05])\n",
    "\n",
    "f2_dict = {}\n",
    "\n",
    "for _, N_f2 in tqdm(enumerate(N_f2_range), total=len(N_f2_range)):\n",
    "\n",
    "    H_tube = 0.008\n",
    "\n",
    "    X_list = []\n",
    "    df_res_list = []\n",
    "    list_res_list = []\n",
    "\n",
    "    panelSpecs_local = copy.deepcopy(panelSpecs)\n",
    "    hyp_local = copy.deepcopy(hyp)\n",
    "    steadyStateConditions_df_local = copy.deepcopy(steadyStateConditions_df)\n",
    "\n",
    "    panelSpecs_local['part2']['H_tube'] = H_tube\n",
    "    panelSpecs_local['part2']['w_tube'] = H_tube\n",
    "\n",
    "    pr.update_panelSpecs_after_modif(panelSpecs_local)\n",
    "\n",
    "    height = panelSpecs_local['part2']['Dext_tube']\n",
    "\n",
    "    panelSpecs_local['part2']['Heta'] = height\n",
    "    panelSpecs_local['part2']['N_ail'] = N_f2\n",
    "\n",
    "    panelSpecs_local['part2']['lambda_fin'] = 226\n",
    "    panelSpecs_local['part2']['eps_fin'] = 0.09\n",
    "\n",
    "    panelSpecs_local['part2']['D'] = panelSpecs_local['part2']['w_abs'] / panelSpecs_local['part2']['N_ail']\n",
    "\n",
    "    panelSpecs_local['part2']['fin_2'] = 1\n",
    "\n",
    "    panelSpecs_local['part2']['N_f2'] = panelSpecs_local['part2']['N_ail']\n",
    "    panelSpecs_local['part2']['L_f2'] = panelSpecs_local['part2']['delta']\n",
    "    panelSpecs_local['part2']['D_f2'] = panelSpecs_local['part2']['D']\n",
    "    panelSpecs_local['part2']['delta_f2'] = panelSpecs_local['part2']['Dext_tube']\n",
    "\n",
    "    # pr.update_panelSpecs_N_tubes(panelSpecs_local)\n",
    "    pr.update_panelSpecs_after_modif(panelSpecs_local)\n",
    "\n",
    "    df_res, list_res = ty.simu_steadyStateConditions(panelSpecs_local, hyp_local, steadyStateConditions_df_local)\n",
    "\n",
    "    tab_mat,tab_res,X = nm.find_SK(df_res,dic_names,columns_list=[0,1,0,1,0,0,0,0,0],options=[],IAM=False,LSM='nnls')\n",
    "\n",
    "    f2_dict[N_f2] = {'df_res' : copy.deepcopy(df_res), 'list_res' : copy.deepcopy(list_res), 'X' : copy.deepcopy(X)}"
   ]
  },
  {
   "cell_type": "code",
   "execution_count": null,
   "metadata": {},
   "outputs": [],
   "source": [
    "b1_list = [f1_dict[N_f1]['X'][0][1] - 3*f1_dict[N_f1]['X'][0][3] for N_f1 in N_f1_range]"
   ]
  },
  {
   "cell_type": "code",
   "execution_count": 12,
   "metadata": {},
   "outputs": [],
   "source": [
    "b1_list = [f2_dict[N_f]['X'][0][1] - 3*f2_dict[N_f]['X'][0][3] for N_f in N_f2_range]"
   ]
  },
  {
   "cell_type": "code",
   "execution_count": null,
   "metadata": {},
   "outputs": [],
   "source": [
    "f1_dict[30]['df_res'][['h_f1', 'Qdot_tube_back', 'Qdot_tube_back_rad', 'Qdot_absfin_back_conv', 'Qdot_tube_fluid']]"
   ]
  },
  {
   "cell_type": "code",
   "execution_count": null,
   "metadata": {},
   "outputs": [],
   "source": [
    "f2_dict[30]['df_res'][['h_f2', 'Qdot_tube_back', 'Qdot_tube_back_rad', 'Qdot_absfin_back_conv', 'Qdot_tube_fluid']]"
   ]
  },
  {
   "cell_type": "code",
   "execution_count": null,
   "metadata": {},
   "outputs": [],
   "source": [
    "plt.scatter(N_f2_range, b1_list)"
   ]
  },
  {
   "cell_type": "code",
   "execution_count": null,
   "metadata": {},
   "outputs": [],
   "source": [
    "colors = ['olive', 'green', 'blue', 'orange', 'red']\n",
    "colors_lighter = [rconfig.get_hex_code(color, 70) for color in colors]\n",
    "colors = [rconfig.get_hex_code(color, 100) for color in colors]\n",
    "linestyles = ['-', '--',  (5, (10, 3)), '-.', (0, (1, 1)), (0, (3, 5, 1, 5))]\n",
    "markers = ['o', 's', 'd', 'X', 'v', '^']\n",
    "\n",
    "# Main plot: plotting L_f0_range on x-axis\n",
    "fig, ax3 = plt.subplots()\n",
    "\n",
    "for i, N_f1 in enumerate([30, 60, 90, 120]):\n",
    "    df_res = f1_dict[N_f1]['df_res']\n",
    "    b1_list = [f1_dict[N_f1]['X'][0][1] - 3*f1_dict[N_f1]['X'][0][3] for D_tube in D_tube_range]\n",
    "\n",
    "    ax3.scatter(D_tube_range, b1_list, \n",
    "                # label=f\"$S_{{f0}} = {round((panelSpecs['part2']['w_abs']/N_f1)*1000,1)} mm$\",\n",
    "                label = f\"$N_{{f1}} = {N_f1}$\",\n",
    "                marker = markers[i+1],\n",
    "                color=colors[i+1]\n",
    "                )\n",
    "    \n",
    "ax3.legend()"
   ]
  },
  {
   "cell_type": "code",
   "execution_count": null,
   "metadata": {},
   "outputs": [],
   "source": []
  },
  {
   "cell_type": "code",
   "execution_count": null,
   "metadata": {},
   "outputs": [],
   "source": [
    "for N_f0 in N_f0_range:\n",
    "    Nf0_dict[N_f0]['list_res_list']"
   ]
  },
  {
   "cell_type": "code",
   "execution_count": null,
   "metadata": {},
   "outputs": [],
   "source": [
    "ty.recap_residuals_steadyStateConditions(panelSpecs_local, f1_dict[(30,0.01)]['df_res'], f1_dict[(30,0.01)]['list_res'])"
   ]
  },
  {
   "cell_type": "code",
   "execution_count": null,
   "metadata": {},
   "outputs": [],
   "source": [
    "Nf0_dict"
   ]
  },
  {
   "cell_type": "code",
   "execution_count": null,
   "metadata": {},
   "outputs": [],
   "source": [
    "panelSpecs['part2']['w_abs'] / 100"
   ]
  },
  {
   "cell_type": "code",
   "execution_count": null,
   "metadata": {},
   "outputs": [],
   "source": [
    "panelSpecs_local['part2']['view_factor_tube']"
   ]
  },
  {
   "cell_type": "code",
   "execution_count": null,
   "metadata": {},
   "outputs": [],
   "source": [
    "# X_list = []\n",
    "\n",
    "# for i,N in tqdm(enumerate(N_range)):\n",
    "\n",
    "#     tab_mat,tab_res,X = nm.find_SK(df_res_list[i],dic_names,columns_list=[1,1,0,1,0,0,1,0,0],options=[],IAM=False,LSM='nnls')\n",
    "#     X_list.append(X)"
   ]
  },
  {
   "cell_type": "code",
   "execution_count": null,
   "metadata": {},
   "outputs": [],
   "source": []
  },
  {
   "cell_type": "code",
   "execution_count": null,
   "metadata": {},
   "outputs": [],
   "source": [
    "for i, N_f0 in enumerate(N_f0_range):\n",
    "\n",
    "    df_res_list = Nf0_dict[N_f0]['df_res_list']\n",
    "    X_list = Nf0_dict[N_f0]['X_list']\n",
    "    X0 = [X_list[i][0] for i in range(len(X_list))]\n",
    "\n",
    "    plt.scatter(L_f0_range,[X0[i][1] - 3*X0[i][3]  for i in range(len(X0))], label = f'N_f0 = {N_f0}')\n",
    "# plt.xlim(0,32)\n",
    "\n",
    "plt.legend()"
   ]
  },
  {
   "cell_type": "code",
   "execution_count": null,
   "metadata": {},
   "outputs": [],
   "source": []
  },
  {
   "cell_type": "code",
   "execution_count": null,
   "metadata": {},
   "outputs": [],
   "source": [
    "L_f0_range[3]"
   ]
  },
  {
   "cell_type": "code",
   "execution_count": null,
   "metadata": {},
   "outputs": [],
   "source": [
    "ty.recap_residuals_steadyStateConditions(Nf0_dict[100]['df_res_list'][3]"
   ]
  },
  {
   "cell_type": "code",
   "execution_count": null,
   "metadata": {},
   "outputs": [],
   "source": [
    "Nf0_dict[30]['df_res_list'][3]['h_back']"
   ]
  },
  {
   "cell_type": "code",
   "execution_count": null,
   "metadata": {},
   "outputs": [],
   "source": [
    "df_res_list[-1][['T_fluid_in','T_fluid_out', 'T_amb']]"
   ]
  },
  {
   "cell_type": "code",
   "execution_count": null,
   "metadata": {},
   "outputs": [],
   "source": [
    "plt.scatter(N_range,[X0[i][0] for i in range(len(X0))])"
   ]
  },
  {
   "cell_type": "code",
   "execution_count": null,
   "metadata": {},
   "outputs": [],
   "source": []
  }
 ],
 "metadata": {
  "kernelspec": {
   "display_name": "model23",
   "language": "python",
   "name": "python3"
  },
  "language_info": {
   "codemirror_mode": {
    "name": "ipython",
    "version": 3
   },
   "file_extension": ".py",
   "mimetype": "text/x-python",
   "name": "python",
   "nbconvert_exporter": "python",
   "pygments_lexer": "ipython3",
   "version": "3.10.5"
  }
 },
 "nbformat": 4,
 "nbformat_minor": 2
}
