{
 "cells": [
  {
   "cell_type": "code",
   "execution_count": 1,
   "metadata": {},
   "outputs": [],
   "source": [
    "## Standard\n",
    "\n",
    "import os\n",
    "import sys\n",
    "sys.path.append('../RD-systems-and-test-benches')\n",
    "\n",
    "import math\n",
    "from datetime import datetime\n",
    "\n",
    "## Specific\n",
    "\n",
    "from tqdm.notebook import tqdm\n",
    "import copy\n",
    "# from concurrent.futures import ProcessPoolExecutor\n",
    "# import networkx as nx\n",
    "# from itertools import product\n",
    "# from itertools import chain\n",
    "\n",
    "## Data handling \n",
    "\n",
    "import pandas as pd\n",
    "import numpy as np\n",
    "import openpyxl as opxl\n",
    "from openpyxl.utils.dataframe import dataframe_to_rows\n",
    "\n",
    "import sklearn.metrics\n",
    "import scipy.constants as scc\n",
    "import seaborn as sns\n",
    "import scipy.integrate as integrate\n",
    "import scipy.optimize as sco\n",
    "\n",
    "import pickle\n",
    "\n",
    "## Plot\n",
    "\n",
    "import matplotlib\n",
    "import matplotlib.pyplot as plt\n",
    "import matplotlib.ticker as mtick\n",
    "import scienceplots\n",
    "import matplotlib_inline\n",
    "matplotlib_inline.backend_inline.set_matplotlib_formats('retina')\n",
    "plt.style.use(['science'])\n",
    "\n",
    "import plotly.graph_objects as go\n",
    "import plotly.io as pio\n",
    "\n",
    "from IPython.core.display import HTML\n",
    "\n",
    "## Own modumes\n",
    "\n",
    "import model as ty\n",
    "import heat_transfer as bht\n",
    "import proc as pr\n",
    "\n",
    "import plot_functions_here as pfun\n",
    "import general as gen\n",
    "\n",
    "import thermal.SK_standard as nm\n",
    "import utils.plot_functions as RD_pfun\n",
    "import repo_config as rconfig\n",
    "\n",
    "import utils.data_processing as dp\n",
    "\n",
    "## Physics\n",
    "\n",
    "import fluids as fds\n",
    "import ht "
   ]
  },
  {
   "cell_type": "code",
   "execution_count": 2,
   "metadata": {},
   "outputs": [],
   "source": [
    "import matplotlib\n",
    "import matplotlib.pyplot as plt\n",
    "import matplotlib.ticker as mtick\n",
    "from matplotlib.ticker import FuncFormatter\n",
    "import scienceplots\n",
    "import matplotlib_inline\n",
    "matplotlib_inline.backend_inline.set_matplotlib_formats('retina')\n",
    "plt.style.use(['science'])\n",
    "\n",
    "def to_percent(y, _):\n",
    "    return f\"{y * 100:.0f}\\%\""
   ]
  },
  {
   "cell_type": "code",
   "execution_count": 3,
   "metadata": {},
   "outputs": [],
   "source": [
    "folder_path = r'G:\\Drive partagés\\Cercle Hard\\R&D\\Modèles numériques PVT\\PVT-perf-1Dmodel'\n",
    "geometry_path = os.path.join(folder_path, 'Panels\\\\Panel_V4.411(NI).xlsx')\n",
    "hypotheses_path = folder_path + '\\\\' + 'Hypotheses\\\\Model_hypotheses_calibrated.xlsx'\n",
    "# condi_path = folder_path + '\\\\' + 'Steady-state conditions inputs\\\\ssCforStudy.xlsx'\n",
    "# exp_path = folder_path + '\\\\' + 'Experiments\\\\Experiments-GMI.xlsx'\n",
    "\n",
    "panelSpecs = pr.import_geometry(geometry_path)\n",
    "\n",
    "# panelSpecs['part2']['lambd_abs_ins'] = 0.\n",
    "# panelSpecs['part2']['lambd_tube_ins'] = 0.\n",
    "\n",
    "hyp = pr.create_dict_from_excel(hypotheses_path,'Main')\n",
    "\n",
    "# steadyStateConditions_df = pd.read_excel(condi_path,header=2) ## Les deux première lignes ne sont pas à prendre en compte\n",
    "# stepConditions = steadyStateConditions_df.to_dict(orient='records')\n",
    "\n",
    "recap = pd.read_excel(r'G:\\Drive partagés\\Cercle Hard\\R&D\\Thermal performance tests PVT\\Recap_RD_TUV_SSI.xlsx')\n",
    "recap = recap.drop(index=0)\n",
    "recap.dropna(how='all', inplace=True)\n",
    "\n",
    "groups = {key: group for key, group in recap.groupby('Design')}"
   ]
  },
  {
   "cell_type": "code",
   "execution_count": null,
   "metadata": {},
   "outputs": [],
   "source": [
    "steadyStateConditions_df = groups[\"V4.411(NI)\"].loc[groups[\"V4.411(NI)\"]['Type'] == \"Dark front\"].copy()\n",
    "pr.adjust_steadyStateConditions(steadyStateConditions_df, hyp, convert_celsius=True)\n",
    "\n",
    "steadyStateConditions_df = steadyStateConditions_df.loc[(steadyStateConditions_df['u'] != \" \")]\n",
    "steadyStateConditions_df['u'] = steadyStateConditions_df['u'].astype(float)\n",
    "steadyStateConditions_df = steadyStateConditions_df.loc[(steadyStateConditions_df['u'] >= 0.1)]\n",
    "\n",
    "steadyStateConditions_df.reset_index(drop=True,inplace=True)\n",
    "steadyStateConditions_df"
   ]
  },
  {
   "cell_type": "code",
   "execution_count": null,
   "metadata": {},
   "outputs": [],
   "source": []
  },
  {
   "cell_type": "code",
   "execution_count": 5,
   "metadata": {},
   "outputs": [],
   "source": [
    "dic_names = {'T_in' : 'T_fluid_in',\n",
    "             'T_out' : 'T_fluid_out',\n",
    "             'Qdot_1_AG' : 'Qdot/AG',\n",
    "             'T_amb' : 'T_amb',\n",
    "             'u' : 'u'}"
   ]
  },
  {
   "cell_type": "code",
   "execution_count": 7,
   "metadata": {},
   "outputs": [],
   "source": [
    "df_res, list_res = ty.simu_steadyStateConditions(panelSpecs,hyp,steadyStateConditions_df)\n",
    "\n",
    "df_res['Qdot_exp'] = steadyStateConditions_df['Qdot']"
   ]
  },
  {
   "cell_type": "code",
   "execution_count": null,
   "metadata": {},
   "outputs": [],
   "source": [
    "df_res[['u', 'Qdot_tube_fluid', 'Qdot_exp']]"
   ]
  },
  {
   "cell_type": "code",
   "execution_count": 9,
   "metadata": {},
   "outputs": [],
   "source": [
    "df_res['relative error'] = (df_res['Qdot_exp'] - df_res['Qdot_tube_fluid']) / df_res['Qdot_exp']"
   ]
  },
  {
   "cell_type": "code",
   "execution_count": null,
   "metadata": {},
   "outputs": [],
   "source": [
    "mae = df_res['relative error'].abs().mean()\n",
    "mae"
   ]
  },
  {
   "cell_type": "code",
   "execution_count": null,
   "metadata": {},
   "outputs": [],
   "source": [
    "sns.histplot(df_res['relative error'], bins=20)"
   ]
  },
  {
   "cell_type": "code",
   "execution_count": null,
   "metadata": {},
   "outputs": [],
   "source": []
  }
 ],
 "metadata": {
  "kernelspec": {
   "display_name": "model23",
   "language": "python",
   "name": "python3"
  },
  "language_info": {
   "codemirror_mode": {
    "name": "ipython",
    "version": 3
   },
   "file_extension": ".py",
   "mimetype": "text/x-python",
   "name": "python",
   "nbconvert_exporter": "python",
   "pygments_lexer": "ipython3",
   "version": "3.10.5"
  }
 },
 "nbformat": 4,
 "nbformat_minor": 2
}
