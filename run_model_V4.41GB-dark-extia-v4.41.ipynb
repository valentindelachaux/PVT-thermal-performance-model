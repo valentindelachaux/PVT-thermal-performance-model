{
 "cells": [
  {
   "cell_type": "code",
   "execution_count": null,
   "metadata": {},
   "outputs": [],
   "source": [
    "# Initialization\n",
    "\n",
    "import math\n",
    "from datetime import datetime\n",
    "import openpyxl as opxl\n",
    "from openpyxl.utils.dataframe import dataframe_to_rows\n",
    "import pandas as pd\n",
    "import numpy as np\n",
    "from IPython.core.display import HTML\n",
    "import matplotlib.pyplot as plt\n",
    "import matplotlib.ticker as mtick\n",
    "import plotly.graph_objects as go\n",
    "\n",
    "import sklearn.metrics\n",
    "import scipy.integrate as integrate\n",
    "import scipy.optimize as sco\n",
    "\n",
    "import fluids as fds\n",
    "import ht \n",
    "\n",
    "import general as gen\n",
    "import model as ty\n",
    "import proc as pr\n",
    "import heat_transfer as bht\n",
    "# importing sys\n",
    "import sys\n",
    "sys.path.insert(0,r'C:\\Users\\valen\\Dropbox (DualSun)\\PC\\Documents\\GitHub\\RD-systems-and-test-benches')\n",
    "import SK_standard as sk\n",
    "\n",
    "import networkx as nx"
   ]
  },
  {
   "cell_type": "code",
   "execution_count": null,
   "metadata": {},
   "outputs": [],
   "source": [
    "input_name = r'\\Inputs_V4.41-NI-glass-backsheet.xlsx'\n",
    "\n",
    "par = pr.import_input(r'G:\\Drive partagés\\BU04-Innovation\\PVT-perf-1Dmodel\\Inputs',input_name)\n",
    "hyp = pr.create_dict_from_excel(r'G:\\Drive partagés\\BU04-Innovation\\PVT-perf-1Dmodel\\Hypotheses','\\Model_hypotheses.xlsx','Main')\n",
    "\n",
    "data = r'\\230104_TUV_test_conditions_V4.41_extia.xlsx'\n",
    "condi = pr.create_inputs_from_excel(data,par,hyp)"
   ]
  },
  {
   "cell_type": "code",
   "execution_count": null,
   "metadata": {},
   "outputs": [],
   "source": [
    "# par[\"is_manifold\"] = 1\n",
    "# par[\"is_exchanger\"] = 0"
   ]
  },
  {
   "cell_type": "code",
   "execution_count": null,
   "metadata": {},
   "outputs": [],
   "source": [
    "df_res,X,list_res,list_df,list_df_historic = ty.simu_condi(par,hyp,condi)"
   ]
  },
  {
   "cell_type": "code",
   "execution_count": null,
   "metadata": {},
   "outputs": [],
   "source": [
    "list_res[0].keys()"
   ]
  },
  {
   "cell_type": "code",
   "execution_count": null,
   "metadata": {},
   "outputs": [],
   "source": [
    "da = pd.DataFrame()\n",
    "for el in list_res[0].keys():\n",
    "    da = pd.concat([da,list_res[0][el][1]],axis=0)\n",
    "pr.disp_html(da)"
   ]
  },
  {
   "cell_type": "code",
   "execution_count": null,
   "metadata": {},
   "outputs": [],
   "source": [
    "pr.disp_html(df_res)"
   ]
  },
  {
   "cell_type": "code",
   "execution_count": null,
   "metadata": {},
   "outputs": [],
   "source": [
    "#all\n",
    "\n",
    "df_temp0 = df_res[[\"T_PV\",\"T_PV_Base_mean\",\"T_PV_absfin_mean\",\"T_abs_mean\",\"T_Base_mean\",\"T_absfin_mean\",\"T_ins_mean\",\"T_ins_tube_mean\",\"T_ins_absfin_mean\",\"T_tube_mean\",\"T_fluid_mean\"]].copy()\n",
    "df_tr0 = df_res[[\"Q_S\",\"Q_top_conv\",\"Q_top_rad\",\"Q_PV_plate\",\"Q_PV_Base\",\"Q_PV_absfin\",\"Q_absfins_Base\",\"Q_tube_fluid\",\"Q_ins_tube_back_conv\",\"Q_ins_tube_back_rad\",\"Q_ins_absfin_back_conv\",\"Q_ins_absfin_back_rad\",\"Q_tube_back_conv\",\"Q_tube_back_rad\",\"Q_absfin_back\",\"Q_fluid\"]].copy()\n",
    "df_temp = df_res[[\"T_PV\",\"T_Base_mean\",\"T_absfin_mean\",\"T_ins_tube_mean\",\"T_ins_absfin_mean\",\"T_tube_mean\",\"T_fluid_mean\",\"T_amb\"]].copy()\n",
    "df_tr = df_res[[\"Q_S\",\"Q_top_conv\",\"Q_top_rad\",\"Q_PV_Base\",\"Q_PV_absfin\",\"Q_absfins_Base\",\"Q_ins_tube_back_conv\",\"Q_ins_tube_back_rad\",\"Q_ins_absfin_back_conv\",\"Q_ins_absfin_back_rad\",\"Q_Base_tube\",\"Q_tube_fluid\",\"Q_fluid\"]].copy()\n",
    "df_tr0[\"Q_S_calc\"] = df_tr0[\"Q_PV_plate\"] + df_tr0[\"Q_top_conv\"] + df_tr0[\"Q_top_rad\"]\n",
    "\n",
    "case = 0\n",
    "\n",
    "tr_labels = []\n",
    "for i in range(len(list(df_tr.keys()))):\n",
    "    tr_labels.append(round(df_tr[list(df_tr.keys())[i]][case],3))\n",
    "\n",
    "T_labels = {}\n",
    "for i in range(len(list(df_temp.keys()))):\n",
    "    T_labels[list(df_temp.keys())[i]] = list(df_temp.keys())[i]+' '+str(round(df_temp[list(df_temp.keys())[i]][case]-273.15,3))+'°C'\n",
    "\n",
    "T_labels['T_PV_mean'] = T_labels['T_PV']\n",
    "T_labels[\"Sun\"] = \"Sun 0 W/m2\"\n",
    "\n",
    "# Create an empty directed graph\n",
    "G = nx.DiGraph()\n",
    "\n",
    "# Add the \"T_PV_mean\" node\n",
    "G.add_node(\"T_PV_mean\")\n",
    "\n",
    "n0 = \"Sun\"\n",
    "n1 = \"T_PV_mean\"\n",
    "n4 = \"T_Base_mean\"\n",
    "n5 = \"T_absfin_mean\"\n",
    "n6 = \"T_tube_mean\"\n",
    "n7 = \"T_fluid_mean\"\n",
    "n8 = \"T_ins_tube_mean\"\n",
    "n9 = \"T_ins_absfin_mean\"\n",
    "n10 = \"T_amb\"\n",
    "\n",
    "G.add_edge(n0,n1,tr=tr_labels[0])\n",
    "G.add_edge(n1,n10,tr=str(tr_labels[1])+'+'+str(tr_labels[2])+'='+str(round(tr_labels[1]+tr_labels[2],3)))\n",
    "# G.add_edge(n1,n10,key=2,tr=tr_labels[2])\n",
    "G.add_edge(n1,n4,tr=tr_labels[3])\n",
    "G.add_edge(n1,n5,tr=tr_labels[4])\n",
    "G.add_edge(n5,n4,tr=tr_labels[5])\n",
    "G.add_edge(n5,n9,tr='')\n",
    "G.add_edge(n9,n10,key=1,tr=tr_labels[8])\n",
    "G.add_edge(n9,n10,key=2,tr=tr_labels[9])\n",
    "G.add_edge(n4,n6,tr=tr_labels[10])\n",
    "G.add_edge(n6,n7,tr=tr_labels[11])\n",
    "G.add_edge(n6,n8,tr='')\n",
    "G.add_edge(n8,n10,tr=str(tr_labels[6])+'+'+str(tr_labels[7])+'='+str(round(tr_labels[6]+tr_labels[7],3)))\n",
    "\n",
    "pos = {'T_PV_mean': np.array([0.63147258, 1.01149048]),\n",
    " 'T_amb': np.array([-0.43238774,  0.60724458]),\n",
    " 'T_Base_mean': np.array([0.63147258, 0.5303845 ]),\n",
    " 'T_absfin_mean': np.array([0.21924969, 0.5303845 ]),\n",
    " 'T_ins_absfin_mean': np.array([-0.08075031,  0.29501669]),\n",
    " 'T_tube_mean': np.array([ 0.63147258, -0.10697755]),\n",
    " 'T_fluid_mean': np.array([ 0.63147258, -0.56201014]),\n",
    " 'T_ins_tube_mean': np.array([-0.28075031, -0.10697755]),\n",
    " 'Sun': np.array([0.63147258, 1.3])}\n",
    "fig, ax = plt.subplots(figsize=(15,10))\n",
    "\n",
    "nx.draw_networkx_nodes(G, pos,ax=ax)\n",
    "\n",
    "nodeDic = {n: T_labels[n] for n in G.nodes}\n",
    "edgeDic = {e: G.get_edge_data(*e)[\"tr\"] for e in G.edges}  \n",
    "\n",
    "nx.draw_networkx_labels(G,pos, labels=nodeDic, ax=ax)\n",
    "nx.draw_networkx_edges(G, pos,ax=ax)\n",
    "nx.draw_networkx_edge_labels(G, pos, edge_labels=edgeDic,ax=ax)\n",
    "# nx.draw_networkx_edge_labels(G, pos, font_size=10, label_pos=0.5)\n",
    "# nx.draw_networkx_labels(G, pos_save,font_size=6)\n",
    "\n",
    "ax.axis('off')\n",
    "plt.show()"
   ]
  },
  {
   "cell_type": "code",
   "execution_count": null,
   "metadata": {},
   "outputs": [],
   "source": [
    "T_labels"
   ]
  },
  {
   "cell_type": "code",
   "execution_count": null,
   "metadata": {},
   "outputs": [],
   "source": [
    "pr.display_a_i(X)"
   ]
  },
  {
   "cell_type": "code",
   "execution_count": null,
   "metadata": {},
   "outputs": [],
   "source": [
    "condi"
   ]
  },
  {
   "cell_type": "code",
   "execution_count": null,
   "metadata": {},
   "outputs": [],
   "source": [
    "[tab,X] = sk.find_SK_SST(condi,par['A_G'],columns_list=[0,1,0,0,0,0,0,0,0])"
   ]
  },
  {
   "cell_type": "code",
   "execution_count": null,
   "metadata": {},
   "outputs": [],
   "source": [
    "pr.display_a_i(X)"
   ]
  },
  {
   "cell_type": "code",
   "execution_count": null,
   "metadata": {},
   "outputs": [],
   "source": [
    "pr.disp_html(df_res)"
   ]
  },
  {
   "cell_type": "code",
   "execution_count": null,
   "metadata": {},
   "outputs": [],
   "source": [
    "[tab_m,X_m] = sk.find_SK_SST(df_res,par['A_G'],columns_list=[0,1,0,0,0,0,0,0,0])"
   ]
  },
  {
   "cell_type": "code",
   "execution_count": null,
   "metadata": {},
   "outputs": [],
   "source": [
    "pr.display_a_i(X_m)"
   ]
  },
  {
   "cell_type": "code",
   "execution_count": null,
   "metadata": {},
   "outputs": [],
   "source": [
    "# u_list = [0.7,2.1,3.7]\n",
    "u_list = [0.3]\n",
    "\n",
    "color_list = ['blue','red','green','orange','cyan','purple']\n",
    "\n",
    "def lin(x,a,b):\n",
    "    return a*x+b\n",
    "\n",
    "popt_mod_list = []\n",
    "pcov_mod_list = []\n",
    "popt_tuv_list = []\n",
    "pcov_tuv_list = []\n",
    "\n",
    "\n",
    "for i in range(len(u_list)):\n",
    "    popt,pcov = sco.curve_fit(lin,-df_res.loc[df_res[\"u\"]==u_list[i]]['-(T_m - T_a)'],df_res.loc[df_res[\"u\"]==u_list[i]]['Q_dot / A_G'])\n",
    "    popt_mod_list.append(popt)\n",
    "    pcov_mod_list.append(pcov)\n",
    "\n",
    "    popt,pcov = sco.curve_fit(lin,condi.loc[condi[\"u\"]==u_list[i]]['T_m - T_a'],condi.loc[df_res[\"u\"]==u_list[i]]['Q_dot / A_G'])\n",
    "    popt_tuv_list.append(popt)\n",
    "    pcov_tuv_list.append(pcov)\n",
    "\n",
    "fig = go.Figure()\n",
    "\n",
    "for i in range(len(u_list)):\n",
    "    # Add traces\n",
    "\n",
    "    fig.add_trace(go.Scatter(x=-df_res.loc[df_res[\"u\"]==u_list[i]]['-(T_m - T_a)'], y=df_res.loc[df_res[\"u\"]==u_list[i]]['Q_dot / A_G'],\n",
    "                        mode = 'markers',\n",
    "                        marker=dict(color=color_list[2*i]),\n",
    "                        name='Model 1D - u = '+str(u_list[i])+' m/s')\n",
    "                        )\n",
    "    \n",
    "    fig.add_trace(go.Scatter(x=condi.loc[condi[\"u\"]==u_list[i]]['T_m - T_a'], y=condi.loc[condi[\"u\"]==u_list[i]]['Q_dot / A_G'],\n",
    "                        mode = 'markers',\n",
    "                        marker=dict(color=color_list[2*i+1]),\n",
    "                        name='TUV - u = '+str(u_list[i])+' m/s')\n",
    "                        )\n",
    "\n",
    "\n",
    "    fig.add_trace(go.Scatter(x=-df_res.loc[df_res[\"u\"]==u_list[i]]['-(T_m - T_a)'], y=lin(-df_res.loc[df_res[\"u\"]==u_list[i]]['-(T_m - T_a)'],*popt_mod_list[i]),\n",
    "                        mode = 'lines',\n",
    "                        line=dict(color=color_list[2*i], width=1,\n",
    "                              dash='dashdot'),\n",
    "                        name='Linear fit model 1D - u = '+str(u_list[i])+' m/s')\n",
    "                        )\n",
    "    \n",
    "    fig.add_trace(go.Scatter(x=condi.loc[condi[\"u\"]==u_list[i]]['T_m - T_a'], y=lin(condi.loc[condi[\"u\"]==u_list[i]]['T_m - T_a'],*popt_tuv_list[i]),\n",
    "                        mode = 'lines',\n",
    "                        line=dict(color=color_list[2*i+1], width=1,\n",
    "                              dash='dashdot'),\n",
    "                        name='Linear fit TUV - u = '+str(u_list[i])+' m/s')\n",
    "                        )\n",
    "# Set x-axis title\n",
    "fig.update_xaxes(title_text=\"T_m - T_amb\")\n",
    "fig.update_yaxes(title_text=\"Power related to gross (W/m2 coll.)\")\n",
    "\n",
    "fig.update_layout(\n",
    "    title={\n",
    "        'text': \"V4.41 glass-backsheet dark no wind\",\n",
    "        'y':0.9,\n",
    "        'x':0.5,\n",
    "        'xanchor': 'center',\n",
    "        'yanchor': 'top'})\n",
    "\n",
    "fig.update_layout(\n",
    "    autosize=False,\n",
    "    width=1200,\n",
    "    height=700,\n",
    "    margin=dict(\n",
    "        l=0,\n",
    "        r=0,\n",
    "        b=50,\n",
    "        t=50,\n",
    "        pad=1\n",
    "    ),\n",
    ")\n",
    "\n",
    "fig.show()"
   ]
  },
  {
   "cell_type": "code",
   "execution_count": null,
   "metadata": {},
   "outputs": [],
   "source": [
    "mse = sklearn.metrics.mean_squared_error(df_res['Q_dot / A_G'],condi['Q_dot / A_G'])\n",
    "print(math.sqrt(mse))"
   ]
  },
  {
   "cell_type": "code",
   "execution_count": null,
   "metadata": {},
   "outputs": [],
   "source": []
  }
 ],
 "metadata": {
  "kernelspec": {
   "display_name": "model23",
   "language": "python",
   "name": "python3"
  },
  "language_info": {
   "codemirror_mode": {
    "name": "ipython",
    "version": 3
   },
   "file_extension": ".py",
   "mimetype": "text/x-python",
   "name": "python",
   "nbconvert_exporter": "python",
   "pygments_lexer": "ipython3",
   "version": "3.10.5"
  },
  "orig_nbformat": 4
 },
 "nbformat": 4,
 "nbformat_minor": 2
}
