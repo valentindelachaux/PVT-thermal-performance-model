{
 "cells": [
  {
   "cell_type": "code",
   "execution_count": 1,
   "metadata": {},
   "outputs": [],
   "source": [
    "# Initialization\n",
    "\n",
    "import math\n",
    "from datetime import datetime\n",
    "\n",
    "import pandas as pd\n",
    "import numpy as np\n",
    "import openpyxl as opxl\n",
    "from openpyxl.utils.dataframe import dataframe_to_rows\n",
    "\n",
    "import model as ty\n",
    "import proc as pr\n",
    "\n",
    "import matplotlib\n",
    "import matplotlib.pyplot as plt\n",
    "import matplotlib.ticker as mtick\n",
    "import scienceplots\n",
    "import matplotlib_inline\n",
    "matplotlib_inline.backend_inline.set_matplotlib_formats('retina')\n",
    "plt.style.use(['science'])\n",
    "\n",
    "import sklearn.metrics\n",
    "\n",
    "import scipy.constants as scc\n",
    "\n",
    "import sys\n",
    "sys.path.append('../RD-systems-and-test-benches')\n",
    "\n",
    "import thermal.SK_standard as nm\n",
    "\n",
    "import seaborn as sns\n",
    "\n",
    "import utils.plot_functions as RD_pfun\n",
    "import repo_config as rconfig\n",
    "\n",
    "from IPython.core.display import HTML\n",
    "\n",
    "import heat_transfer as bht\n",
    "\n",
    "import fluids as fds\n",
    "import ht \n",
    "\n",
    "import general as gen\n",
    "\n",
    "import model_fins as modfins\n",
    "\n",
    "import os\n",
    "\n",
    "import scipy.integrate as integrate\n",
    "import scipy.optimize as sco\n",
    "\n",
    "import plotly.graph_objects as go\n",
    "\n",
    "import plot_functions_here as pfun\n",
    "\n",
    "import plotly.io as pio"
   ]
  },
  {
   "cell_type": "code",
   "execution_count": null,
   "metadata": {},
   "outputs": [],
   "source": []
  },
  {
   "cell_type": "code",
   "execution_count": 2,
   "metadata": {},
   "outputs": [],
   "source": [
    "T_amb = 273.15\n",
    "T_abs = 273.15 - 8\n",
    "\n",
    "theta = 45\n",
    "longueur = 1.6\n",
    "\n",
    "lambd = 0.001\n",
    "delta = 0.020\n",
    "D = 0.020\n",
    "L_fin = 0.020\n",
    "\n",
    "k = 226\n",
    "\n",
    "A = delta * lambd"
   ]
  },
  {
   "cell_type": "code",
   "execution_count": null,
   "metadata": {},
   "outputs": [],
   "source": [
    "h = bht.back_h_simple(T_abs,T_amb,theta,longueur)\n",
    "h"
   ]
  },
  {
   "cell_type": "code",
   "execution_count": null,
   "metadata": {},
   "outputs": [],
   "source": [
    "Bi = bht.Biot(lambd, k, h, delta)\n",
    "Bi"
   ]
  },
  {
   "cell_type": "code",
   "execution_count": null,
   "metadata": {},
   "outputs": [],
   "source": []
  },
  {
   "cell_type": "code",
   "execution_count": null,
   "metadata": {},
   "outputs": [],
   "source": [
    "0.001/math.sqrt(2*bht.Biot(0.001, k, h, delta)) * 1"
   ]
  },
  {
   "cell_type": "code",
   "execution_count": 6,
   "metadata": {},
   "outputs": [],
   "source": [
    "lambd_set = [0.0001, 0.0005, 0.001, 0.002]\n",
    "\n",
    "L_fin_range = np.arange(0.,0.80,0.01)\n",
    "\n",
    "Qdot_dict = {}\n",
    "\n",
    "for ep in lambd_set:\n",
    "\n",
    "    Qdot_dict[ep] = np.array([- modfins.gamma_fin('free_end', X, ep, delta * ep, k, bht.Biot(ep, k, h, delta)) * (T_abs - T_amb) for X in L_fin_range])"
   ]
  },
  {
   "cell_type": "code",
   "execution_count": 7,
   "metadata": {},
   "outputs": [],
   "source": [
    "linestyles = ['-', '--',  (5, (10, 3)), '-.', (0, (1, 1)), (0, (3, 5, 1, 5))]"
   ]
  },
  {
   "cell_type": "code",
   "execution_count": null,
   "metadata": {},
   "outputs": [],
   "source": [
    "# Create the figure and axis\n",
    "fig, ax1 = plt.subplots(figsize=(rconfig.wcol_in / 2, rconfig.hfig(0.3, unit=\"in\")))\n",
    "\n",
    "colors = ['#466996', '#145E4C', '#D9A008', '#B52222', '#895123', '#506538', '#5C1716']\n",
    "# List of markers to cycle through\n",
    "# markers = ['o', 's', 'D', '^', 'v', '<', '>', 'P', 'X']\n",
    "markers = ['>', '<']\n",
    "\n",
    "# Plot the data\n",
    "for i, ep in enumerate(lambd_set):\n",
    "    ax1.plot(L_fin_range * 1000, Qdot_dict[ep] * 10, label=r\"$\\lambda_{fin} $\" + ' = ' + str(round(ep * 1000, 1)) + \" mm\",\n",
    "            linestyle=linestyles[lambd_set.index(ep)], linewidth=1)\n",
    "    markx = [1000 * L_fin_range[(np.abs(L_fin_range - ep/math.sqrt(2*bht.Biot(ep, k, h, delta)))).argmin()], 1000 * L_fin_range[3* (np.abs(L_fin_range - ep/math.sqrt(2*bht.Biot(ep, k, h, delta)))).argmin()]]\n",
    "    marky = [10 * Qdot_dict[ep][(np.abs(L_fin_range - ep/math.sqrt(2*bht.Biot(ep, k, h, delta)))).argmin()], 10* Qdot_dict[ep][3* (np.abs(L_fin_range - ep/math.sqrt(2*bht.Biot(ep, k, h, delta)))).argmin()]]\n",
    " \n",
    "    # Split the data into chunks and assign a different marker to each\n",
    "    for _, marker in enumerate(markers):\n",
    "        # Scatter some points with the current marker\n",
    "        ax1.scatter(markx[_::len(markers)], marky[_::len(markers)], marker=marker, color = colors[i])\n",
    "\n",
    "\n",
    "# Add a vertical dotted line at x = 100\n",
    "# ax.axvline(x = 1000 * 0.001/math.sqrt(2*bht.Biot(0.001, k, h, delta)), color=rconfig.get_hex_code('grey', 100), linestyle=':', linewidth=1)\n",
    "# ax.axvline(x = 1000 * 3 * (0.001/math.sqrt(2*bht.Biot(0.001, k, h, delta))), color=rconfig.get_hex_code('grey', 100), linestyle=':', linewidth=1)\n",
    "\n",
    "\n",
    "# Set the x and y labels\n",
    "ax1.set_xlabel(r\"$L_{\\mathrm{fin}}$ (mm)\")\n",
    "ax1.set_ylabel(r\"$\\dot{Q}_{\\mathrm{amb \\rightarrow fin}}$ (W)\")\n",
    "\n",
    "# Add a legend\n",
    "ax1.legend(loc='lower center', bbox_to_anchor=(0.45, -0.4), ncol=2, frameon=False)\n",
    "\n",
    "# Annotate 10^{-1}\n",
    "ax1.annotate(r\"$\\times 10^{-1}$\", xy=(0, 1), xycoords='axes fraction',\n",
    "            xytext=(-11.5, 6), textcoords='offset points',\n",
    "            ha='left', va='bottom', fontsize=10)\n",
    "\n",
    "# Add a grid\n",
    "ax1.grid(True)\n",
    "\n",
    "# Show the plot\n",
    "plt.show()"
   ]
  },
  {
   "cell_type": "code",
   "execution_count": null,
   "metadata": {},
   "outputs": [],
   "source": [
    "rconfig.wcol_cm"
   ]
  },
  {
   "cell_type": "code",
   "execution_count": null,
   "metadata": {},
   "outputs": [],
   "source": [
    "(rconfig.wcol_in / 2, rconfig.hfig(0.3, unit=\"in\"))"
   ]
  },
  {
   "cell_type": "code",
   "execution_count": null,
   "metadata": {},
   "outputs": [],
   "source": [
    "print(fig.get_size_inches())"
   ]
  },
  {
   "cell_type": "code",
   "execution_count": null,
   "metadata": {},
   "outputs": [],
   "source": [
    "left_margin"
   ]
  },
  {
   "cell_type": "code",
   "execution_count": 9,
   "metadata": {},
   "outputs": [],
   "source": [
    "fig.savefig(r'G:\\Mon Drive\\GitHub\\VDE_thesis\\image\\Chapter_TH\\TH-3-fig1.png', dpi=600, bbox_inches='tight', pad_inches=0.1)"
   ]
  },
  {
   "cell_type": "code",
   "execution_count": 26,
   "metadata": {},
   "outputs": [],
   "source": [
    "L_fin_set = [0.010, 0.020, 0.050, 0.100]\n",
    "\n",
    "a_range = np.linspace(0.,0.002,10000)\n",
    "\n",
    "Qdot_dict_2 = {}\n",
    "\n",
    "for l in L_fin_set:\n",
    "\n",
    "    Qdot_dict_2[l] = np.array([- modfins.gamma_fin('free_end', l, X, delta * X, k, bht.Biot(X, k, h, delta)) * (T_abs - T_amb) for X in a_range])"
   ]
  },
  {
   "cell_type": "code",
   "execution_count": null,
   "metadata": {},
   "outputs": [],
   "source": [
    "#  [1000 * a_range[(np.abs(a_range - (2*h*l**2)/(9*k))).argmin()], 1000 * a_range[9 * (np.abs(a_range - (2*h*l**2)/(9*k))).argmin()]]"
   ]
  },
  {
   "cell_type": "code",
   "execution_count": null,
   "metadata": {},
   "outputs": [],
   "source": [
    "L_fin_set"
   ]
  },
  {
   "cell_type": "code",
   "execution_count": null,
   "metadata": {},
   "outputs": [],
   "source": [
    "9 * (2*h*L_fin_set[2]**2)/(9*k) * 1000"
   ]
  },
  {
   "cell_type": "code",
   "execution_count": null,
   "metadata": {},
   "outputs": [],
   "source": [
    "(np.abs(a_range - (2*h*l**2)/(9*k)))"
   ]
  },
  {
   "cell_type": "code",
   "execution_count": null,
   "metadata": {},
   "outputs": [],
   "source": [
    "# Create the figure and axis\n",
    "fig, ax2 = plt.subplots(figsize=(rconfig.wcol_in/2, rconfig.hfig(0.3, unit=\"in\")))\n",
    "\n",
    "colors = ['#466996', '#145E4C', '#D9A008', '#B52222', '#895123', '#506538', '#5C1716']\n",
    "# List of markers to cycle through\n",
    "# markers = ['o', 's', 'D', '^', 'v', '<', '>', 'P', 'X']\n",
    "markers = ['>', '<']\n",
    "\n",
    "# Plot the data\n",
    "for i, l in enumerate(L_fin_set):\n",
    "    ax2.plot(a_range * 1000, Qdot_dict_2[l] * 10, label=r\"$L_{fin} $\" + ' = ' + str(round(l * 1000, 0)) + \" mm\",\n",
    "            linestyle=linestyles[lambd_set.index(ep)], linewidth=1)\n",
    "    markx =  [1000 * a_range[(np.abs(a_range - (2*h*l**2)/(9*k))).argmin()], 1000 * a_range[9 * (np.abs(a_range - (2*h*l**2)/(9*k))).argmin()]]\n",
    "    marky = [10 * Qdot_dict_2[l][(np.abs(a_range - (2*h*l**2)/(9*k))).argmin()], 10* Qdot_dict_2[l][9 * (np.abs(a_range - (2*h*l**2)/(9*k))).argmin()]]\n",
    " \n",
    "    # Split the data into chunks and assign a different marker to each\n",
    "    for _, marker in enumerate(markers):\n",
    "        # Scatter some points with the current marker\n",
    "        ax2.scatter(markx[_::len(markers)], marky[_::len(markers)], marker=marker, color = colors[i])\n",
    "\n",
    "\n",
    "# Add a vertical dotted line at x = 100\n",
    "# ax2.axvline(x = 1000 * 0.001/math.sqrt(2*bht.Biot(0.001, k, h, delta)), color=rconfig.get_hex_code('grey', 100), linestyle=':', linewidth=1)\n",
    "# ax2.axvline(x = 1000 * 3 * (0.001/math.sqrt(2*bht.Biot(0.001, k, h, delta))), color=rconfig.get_hex_code('grey', 100), linestyle=':', linewidth=1)\n",
    "\n",
    "# Set the x and y labels\n",
    "ax2.set_xlabel(r\"$\\lambda_{\\mathrm{fin}}$ (mm)\")\n",
    "ax2.set_ylabel(r\"$\\dot{Q}_{\\mathrm{amb\\_fin}}$ (W)\")\n",
    "\n",
    "# Add a legend\n",
    "legend = ax2.legend(loc='lower center', bbox_to_anchor=(0.45, -0.2), ncol=2, frameon=True, bbox_transform=fig.transFigure)\n",
    "\n",
    "# Annotate 10^{-1}\n",
    "ax2.annotate(r\"$\\times 10^{-1}$\", xy=(0, 1), xycoords='axes fraction',\n",
    "            xytext=(-11.5, 6), textcoords='offset points',\n",
    "            ha='left', va='bottom', fontsize=10)\n",
    "\n",
    "# ax2.set_xlim(0.,0.05)\n",
    "\n",
    "# Add a grid\n",
    "ax2.grid(True)\n",
    "\n",
    "# Show the plot\n",
    "plt.show()     "
   ]
  },
  {
   "cell_type": "code",
   "execution_count": null,
   "metadata": {},
   "outputs": [],
   "source": [
    "legend_width"
   ]
  },
  {
   "cell_type": "code",
   "execution_count": null,
   "metadata": {},
   "outputs": [],
   "source": [
    "legend_width = legend.get_window_extent().transformed(fig.transFigure.inverted()).width\n",
    "bbox_to_anchor_x = legend_width / 2\n",
    "bbox_to_anchor_x"
   ]
  },
  {
   "cell_type": "code",
   "execution_count": 60,
   "metadata": {},
   "outputs": [],
   "source": [
    "fig.savefig(r'G:\\Mon Drive\\GitHub\\VDE_thesis\\image\\Chapter_TH\\TH-3-fig2.png', dpi=600, bbox_inches='tight', pad_inches=0.1)"
   ]
  },
  {
   "cell_type": "code",
   "execution_count": 19,
   "metadata": {},
   "outputs": [],
   "source": [
    "fig.savefig('figure.png', dpi=300)"
   ]
  },
  {
   "cell_type": "code",
   "execution_count": null,
   "metadata": {},
   "outputs": [],
   "source": [
    "fig, (ax1_new, ax2_new) = plt.subplots(1, 2, figsize=(rconfig.wcol_in, rconfig.hfig(0.3, unit=\"in\")))\n",
    "\n",
    "# Transfer the content from ax1 to the first subplot\n",
    "for line in ax1.get_lines():\n",
    "    ax1_new.plot(line.get_xdata(), line.get_ydata(), label=line.get_label(), color=line.get_color())\n",
    "\n",
    "# Transfer the content from ax2 to the second subplot\n",
    "for line in ax2.get_lines():\n",
    "    ax2_new.plot(line.get_xdata(), line.get_ydata(), label=line.get_label(), color=line.get_color())\n",
    "\n",
    "# Optionally, set titles and legends for both subplots\n",
    "ax1_new.set_title(ax1.get_title())\n",
    "ax1_new.legend()\n",
    "\n",
    "ax2_new.set_title(ax2.get_title())\n",
    "ax2_new.legend()\n",
    "\n",
    "# Set labels\n",
    "ax1_new.set_xlabel(ax1.get_xlabel())\n",
    "ax1_new.set_ylabel(ax1.get_ylabel())\n",
    "\n",
    "ax2_new.set_xlabel(ax2.get_xlabel())\n",
    "ax2_new.set_ylabel(ax2.get_ylabel())\n",
    "\n",
    "# Show the concatenated plot\n",
    "# plt.tight_layout()\n",
    "plt.show()"
   ]
  },
  {
   "cell_type": "code",
   "execution_count": null,
   "metadata": {},
   "outputs": [],
   "source": [
    "# Create figure and two subplots side by side\n",
    "fig, (ax1, ax2) = plt.subplots(1, 2, figsize=(rconfig.wcol_in, rconfig.hfig(0.3, unit=\"in\")))\n",
    "\n",
    "# Function to plot data on a given axis\n",
    "# def plot_data(ax):\n",
    "#     for ep in lambd_set:\n",
    "#         ax.plot(L_fin_range * 1000, Qdot_dict[ep] * 10, label=r\"$\\lambda_{fin} $\" + ' = ' + str(round(ep * 1000, 1)) + \" mm\",\n",
    "#                 linestyle=linestyles[lambd_set.index(ep)], linewidth=1)\n",
    "\n",
    "#     # Set the x and y labels\n",
    "#     ax.set_xlabel(r\"$L_{\\mathrm{fin}}$ (mm)\")\n",
    "#     ax.set_ylabel(r\"$\\dot{Q}_{\\mathrm{ext\\_fin}}$ (W)\")\n",
    "\n",
    "#     # Add a grid\n",
    "#     ax.grid(True)\n",
    "\n",
    "# Plot data on both axes\n",
    "# plot_data(ax1)\n",
    "# plot_data(ax2)\n",
    "\n",
    "# Customize ticks (you can uncomment and adjust if needed)\n",
    "# ax1.set_xticks(np.arange(0, np.max(L_fin_range * 1000) + 100, 100))\n",
    "# ax1.set_yticks(np.arange(0, np.max(Qdot_range * 10) + 0.25, 0.25))\n",
    "# ax2.set_xticks(np.arange(0, np.max(L_fin_range * 1000) + 100, 100))\n",
    "# ax2.set_yticks(np.arange(0, np.max(Qdot_range * 10) + 0.25, 0.25))\n",
    "\n",
    "# Add legend to both axes (you can adjust ncol if needed)\n",
    "# ax1.legend(loc='lower center', bbox_to_anchor=(0.5, -0.2), ncol=2, frameon=False, bbox_transform=fig.transFigure)\n",
    "# ax2.legend(loc='lower center', bbox_to_anchor=(0.5, -0.2), ncol=2, frameon=False, bbox_transform=fig.transFigure)\n",
    "\n",
    "# # Annotate 10^{-1} on both axes\n",
    "# ax1.annotate(r\"$\\times 10^{-1}$\", xy=(0, 1), xycoords='axes fraction',\n",
    "#              xytext=(-12, 10), textcoords='offset points',\n",
    "#              ha='left', va='bottom', fontsize=10)\n",
    "# ax2.annotate(r\"$\\times 10^{-1}$\", xy=(0, 1), xycoords='axes fraction',\n",
    "#              xytext=(-12, 10), textcoords='offset points',\n",
    "#              ha='left', va='bottom', fontsize=10)\n",
    "\n",
    "# Show the plot\n",
    "plt.show()\n"
   ]
  },
  {
   "cell_type": "code",
   "execution_count": null,
   "metadata": {},
   "outputs": [],
   "source": [
    "[rconfig.get_hex_code(color_name, 150) for color_name in ['blue', 'green', 'yellow', 'red', 'orange', 'olive', 'bordeaux']]"
   ]
  },
  {
   "cell_type": "code",
   "execution_count": 45,
   "metadata": {},
   "outputs": [],
   "source": []
  },
  {
   "cell_type": "code",
   "execution_count": null,
   "metadata": {},
   "outputs": [],
   "source": [
    "Qdot_range"
   ]
  },
  {
   "cell_type": "code",
   "execution_count": null,
   "metadata": {},
   "outputs": [],
   "source": [
    "plt.plot(a_range, Qdot_range)"
   ]
  },
  {
   "cell_type": "code",
   "execution_count": null,
   "metadata": {},
   "outputs": [],
   "source": []
  },
  {
   "cell_type": "code",
   "execution_count": null,
   "metadata": {},
   "outputs": [],
   "source": []
  },
  {
   "cell_type": "code",
   "execution_count": null,
   "metadata": {},
   "outputs": [],
   "source": []
  }
 ],
 "metadata": {
  "kernelspec": {
   "display_name": "model23",
   "language": "python",
   "name": "python3"
  },
  "language_info": {
   "codemirror_mode": {
    "name": "ipython",
    "version": 3
   },
   "file_extension": ".py",
   "mimetype": "text/x-python",
   "name": "python",
   "nbconvert_exporter": "python",
   "pygments_lexer": "ipython3",
   "version": "3.10.5"
  }
 },
 "nbformat": 4,
 "nbformat_minor": 2
}
