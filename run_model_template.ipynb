{
 "cells": [
  {
   "cell_type": "code",
   "execution_count": null,
   "metadata": {},
   "outputs": [],
   "source": [
    "# Initialization\n",
    "\n",
    "import math\n",
    "from datetime import datetime\n",
    "import openpyxl as opxl\n",
    "from openpyxl.utils.dataframe import dataframe_to_rows\n",
    "import pandas as pd\n",
    "import numpy as np\n",
    "import matplotlib.pyplot as plt\n",
    "import model as ty\n",
    "import proc as pr\n",
    "import matplotlib.ticker as mtick\n",
    "import sklearn.metrics\n",
    "\n",
    "from IPython.core.display import HTML\n",
    "\n",
    "import heat_transfer as bht\n",
    "\n",
    "import fluids as fds\n",
    "import ht \n",
    "\n",
    "import general as gen\n",
    "\n",
    "import os\n",
    "\n",
    "import scipy.integrate as integrate\n",
    "import scipy.optimize as sco\n",
    "\n",
    "import networkx as nx\n",
    "\n",
    "import plotly.graph_objects as go"
   ]
  },
  {
   "cell_type": "code",
   "execution_count": null,
   "metadata": {},
   "outputs": [],
   "source": [
    "input_name = r'\\Inputs_V4.41-NI-glass-backsheet.xlsx'\n",
    "\n",
    "par = pr.import_input(r'G:\\Drive partagés\\BU04-Innovation\\PVT-perf-1Dmodel\\Inputs',input_name)\n",
    "hyp = pr.create_dict_from_excel(r'G:\\Drive partagés\\BU04-Innovation\\PVT-perf-1Dmodel\\Hypotheses','\\Model_hypotheses.xlsx','Main')\n",
    "data = r'\\230104_TUV_test_conditions_V4.41_dark_nowind.xlsx'\n",
    "condi = pr.create_inputs_from_excel(data,par,hyp)"
   ]
  },
  {
   "cell_type": "code",
   "execution_count": null,
   "metadata": {},
   "outputs": [],
   "source": [
    "df_par,df_res,X,list_res,list_df,list_df_historic = ty.simu_condi(par,hyp,condi)"
   ]
  },
  {
   "cell_type": "code",
   "execution_count": null,
   "metadata": {},
   "outputs": [],
   "source": [
    "pr.display_a_i(X)"
   ]
  },
  {
   "cell_type": "code",
   "execution_count": null,
   "metadata": {},
   "outputs": [],
   "source": [
    "condi"
   ]
  },
  {
   "cell_type": "code",
   "execution_count": null,
   "metadata": {},
   "outputs": [],
   "source": [
    "pr.disp_html(df_res)"
   ]
  },
  {
   "cell_type": "code",
   "execution_count": null,
   "metadata": {},
   "outputs": [],
   "source": [
    "# u_list = [0.7,2.1,3.7]\n",
    "u_list = [0.3]\n",
    "\n",
    "color_list = ['blue','red','green','orange','cyan','purple']\n",
    "\n",
    "def lin(x,a,b):\n",
    "    return a*x+b\n",
    "\n",
    "popt_mod_list = []\n",
    "pcov_mod_list = []\n",
    "popt_tuv_list = []\n",
    "pcov_tuv_list = []\n",
    "\n",
    "\n",
    "for i in range(len(u_list)):\n",
    "    popt,pcov = sco.curve_fit(lin,-df_res.loc[df_res[\"u\"]==u_list[i]]['-(T_m - T_a)'],df_res.loc[df_res[\"u\"]==u_list[i]]['Q_dot / A_G'])\n",
    "    popt_mod_list.append(popt)\n",
    "    pcov_mod_list.append(pcov)\n",
    "\n",
    "    popt,pcov = sco.curve_fit(lin,condi.loc[condi[\"u\"]==u_list[i]]['T_m - T_a'],condi.loc[df_res[\"u\"]==u_list[i]]['Q_dot / A_G'])\n",
    "    popt_tuv_list.append(popt)\n",
    "    pcov_tuv_list.append(pcov)\n",
    "\n",
    "fig = go.Figure()\n",
    "\n",
    "for i in range(len(u_list)):\n",
    "    # Add traces\n",
    "\n",
    "    fig.add_trace(go.Scatter(x=-df_res.loc[df_res[\"u\"]==u_list[i]]['-(T_m - T_a)'], y=df_res.loc[df_res[\"u\"]==u_list[i]]['Q_dot / A_G'],\n",
    "                        mode = 'markers',\n",
    "                        marker=dict(color=color_list[2*i]),\n",
    "                        name='Model 1D - u = '+str(u_list[i])+' m/s')\n",
    "                        )\n",
    "    \n",
    "    fig.add_trace(go.Scatter(x=condi.loc[condi[\"u\"]==u_list[i]]['T_m - T_a'], y=condi.loc[condi[\"u\"]==u_list[i]]['Q_dot / A_G'],\n",
    "                        mode = 'markers',\n",
    "                        marker=dict(color=color_list[2*i+1]),\n",
    "                        name='TUV - u = '+str(u_list[i])+' m/s')\n",
    "                        )\n",
    "\n",
    "\n",
    "    fig.add_trace(go.Scatter(x=-df_res.loc[df_res[\"u\"]==u_list[i]]['-(T_m - T_a)'], y=lin(-df_res.loc[df_res[\"u\"]==u_list[i]]['-(T_m - T_a)'],*popt_mod_list[i]),\n",
    "                        mode = 'lines',\n",
    "                        line=dict(color=color_list[2*i], width=1,\n",
    "                              dash='dashdot'),\n",
    "                        name='Linear fit model 1D - u = '+str(u_list[i])+' m/s')\n",
    "                        )\n",
    "    \n",
    "    fig.add_trace(go.Scatter(x=condi.loc[condi[\"u\"]==u_list[i]]['T_m - T_a'], y=lin(condi.loc[condi[\"u\"]==u_list[i]]['T_m - T_a'],*popt_tuv_list[i]),\n",
    "                        mode = 'lines',\n",
    "                        line=dict(color=color_list[2*i+1], width=1,\n",
    "                              dash='dashdot'),\n",
    "                        name='Linear fit TUV - u = '+str(u_list[i])+' m/s')\n",
    "                        )\n",
    "# Set x-axis title\n",
    "fig.update_xaxes(title_text=\"T_m - T_amb\")\n",
    "fig.update_yaxes(title_text=\"Power related to gross (W/m2 coll.)\")\n",
    "\n",
    "fig.update_layout(\n",
    "    title={\n",
    "        'text': \"V4.41 glass-backsheet dark no wind\",\n",
    "        'y':0.9,\n",
    "        'x':0.5,\n",
    "        'xanchor': 'center',\n",
    "        'yanchor': 'top'})\n",
    "\n",
    "fig.update_layout(\n",
    "    autosize=False,\n",
    "    width=1200,\n",
    "    height=700,\n",
    "    margin=dict(\n",
    "        l=0,\n",
    "        r=0,\n",
    "        b=50,\n",
    "        t=50,\n",
    "        pad=1\n",
    "    ),\n",
    ")\n",
    "\n",
    "fig.show()"
   ]
  },
  {
   "cell_type": "code",
   "execution_count": null,
   "metadata": {},
   "outputs": [],
   "source": [
    "mse = sklearn.metrics.mean_squared_error(df_res['Q_dot / A_G'],condi['Q_dot / A_G'])\n",
    "print(math.sqrt(mse))"
   ]
  }
 ],
 "metadata": {
  "kernelspec": {
   "display_name": "model23",
   "language": "python",
   "name": "python3"
  },
  "language_info": {
   "codemirror_mode": {
    "name": "ipython",
    "version": 3
   },
   "file_extension": ".py",
   "mimetype": "text/x-python",
   "name": "python",
   "nbconvert_exporter": "python",
   "pygments_lexer": "ipython3",
   "version": "3.10.5"
  },
  "orig_nbformat": 4
 },
 "nbformat": 4,
 "nbformat_minor": 2
}
