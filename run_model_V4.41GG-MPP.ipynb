{
 "cells": [
  {
   "cell_type": "code",
   "execution_count": 1,
   "metadata": {},
   "outputs": [],
   "source": [
    "# Initialization\n",
    "\n",
    "import math\n",
    "from datetime import datetime\n",
    "import openpyxl as opxl\n",
    "from openpyxl.utils.dataframe import dataframe_to_rows\n",
    "import pandas as pd\n",
    "import numpy as np\n",
    "from IPython.core.display import HTML\n",
    "import matplotlib.pyplot as plt\n",
    "import matplotlib.ticker as mtick\n",
    "import plotly.graph_objects as go\n",
    "\n",
    "import sklearn.metrics\n",
    "import scipy.integrate as integrate\n",
    "import scipy.optimize as sco\n",
    "\n",
    "import fluids as fds\n",
    "import ht \n",
    "\n",
    "import general as gen\n",
    "import model as ty\n",
    "import proc as pr\n",
    "import heat_transfer as bht\n",
    "# importing sys\n",
    "import sys\n",
    "sys.path.insert(0,r'C:\\Users\\valen\\Dropbox (DualSun)\\PC\\Documents\\GitHub\\RD-systems-and-test-benches\\thermal')\n",
    "import SK_standard as sk"
   ]
  },
  {
   "cell_type": "code",
   "execution_count": 2,
   "metadata": {},
   "outputs": [
    {
     "name": "stdout",
     "output_type": "stream",
     "text": [
      "{'exchanger': {'name': nan, 'eta_nom': 0.201, 'Eff_T': -0.0034000000000000002, 'T_ref': 298.15, 'Eff_G': 0, 'G_ref': 1000, 'X_corr': 1, 'tau_g': 0.8, 'alpha_g': 0.05, 'eps_PV': 0.9, 'eps_g': 0.9, 'eps_bs': 1, 'w_pan': 1.134, 'L_pan': 1.708, 'orientation': 'portrait', 'lambd_upper_glass': 0.002, 'lambd_upper_EVA': 0.000515, 'lambd_si': 0.00015, 'lambd_lower_EVA': 0.000515, 'lambd_PVDF': 0.0, 'lambd_PET': 0.0, 'lambd_adh': 0.0, 'lambd_lower_glass': 0.002, 'k_glass': 0.8, 'k_EVA': 0.24, 'k_si': 60, 'k_PVDF': 0.2, 'k_PET': 0.3, 'k_adh': 0.2, 'L_abs': 1.342, 'w_abs': 0.976, 'geometry': 'harp', 'N_harp': 300, 'N_meander': 1, 'L_tube': 1.342, 'tube_geometry': 'rectangular', 'H_tube': 0.002, 'w_tube': 0.00281, 'W': 0.00335, 'l_c': 0.003, 'p_ext_tube': 0.00335, 'p_ext_tube_rad': 0.00335, 'lambd_air': 0.0, 'lambd_conductive_plate': 0.0, 'lambd_abs': 0.00035, 'lambd_riser_plate': 0.0, 'lambd_riser_back': 0.00035, 'lambd_ins': 0.0, 'eps_hx_top': 0, 'eps_hx_back': 0.1, 'eps_ins': 0.2, 'k_air': 0.025, 'k_conductive_plate': 1, 'k_abs': 220, 'k_riser_plate': 220, 'k_riser_back': 220, 'k_ins': 0.03, 'Heta': 0.02, 'N_ail': 50, 'N_fins_per_EP': nan, 'lambd_ail': 0.001, 'k_ail': 226, 'eps_fin': 0, 'D': 0.014, 'fin_0': 1, 'N_f0': 50, 'L_f0': 0.02, 'delta_f0': 0.00335, 'delta_f0_int': 0.00335, 'fin_1': 0, 'N_f1': nan, 'L_f1': nan, 'delta_f1': nan, 'delta_f1_int': nan, 'coeff_f1': nan, 'fin_2': 0, 'N_f2': nan, 'L_f2': nan, 'delta_f2': nan, 'D_f2': nan, 'fin_3': 0, 'N_f3': nan, 'L_f3': nan, 'delta_f3': nan, 'is_exchanger': 1, 'is_inlet_man': 0, 'is_outlet_man': 0, 'is_anomaly': 0}, 'manifold': {'name': nan, 'eta_nom': 0.201, 'Eff_T': -0.0034000000000000002, 'T_ref': 298.15, 'Eff_G': 0, 'G_ref': 1000, 'X_corr': 1, 'tau_g': 0.8, 'alpha_g': 0.05, 'eps_PV': 0.9, 'eps_g': 0.9, 'eps_bs': 1, 'w_pan': 1.134, 'L_pan': 1.708, 'orientation': 'portrait', 'lambd_upper_glass': 0.002, 'lambd_upper_EVA': 0.000515, 'lambd_si': 0.00015, 'lambd_lower_EVA': 0.000515, 'lambd_PVDF': 0.0, 'lambd_PET': 0.0, 'lambd_adh': 0.0, 'lambd_lower_glass': 0.002, 'k_glass': 0.8, 'k_EVA': 0.24, 'k_si': 60, 'k_PVDF': 0.2, 'k_PET': 0.3, 'k_adh': 0.2, 'L_abs': 1.342, 'w_abs': 0.976, 'geometry': 'harp', 'N_harp': 1, 'N_meander': 1, 'L_tube': 1.134, 'tube_geometry': 'circular', 'H_tube': 0.018, 'w_tube': 0.018, 'W': 0.022, 'l_c': 0.0, 'p_ext_tube': 0.06911503837897544, 'p_ext_tube_rad': 0.00335, 'lambd_air': 0.0, 'lambd_conductive_plate': 0.0, 'lambd_abs': 0.00027, 'lambd_riser_plate': 0.0005, 'lambd_riser_back': 0.0005, 'lambd_ins': 0.0, 'eps_hx_top': 0, 'eps_hx_back': 0.2, 'eps_ins': 0.8, 'k_air': 0.025, 'k_conductive_plate': 1, 'k_abs': 0.3, 'k_riser_plate': 0.025, 'k_riser_back': 220, 'k_ins': 0.03, 'Heta': 0.02, 'N_ail': 50, 'N_fins_per_EP': nan, 'lambd_ail': 0.001, 'k_ail': 226, 'eps_fin': 0, 'D': 0.014, 'fin_0': 0, 'N_f0': 50, 'L_f0': 0.02, 'delta_f0': 0.00335, 'delta_f0_int': 0.00335, 'fin_1': 0, 'N_f1': nan, 'L_f1': nan, 'delta_f1': nan, 'delta_f1_int': nan, 'coeff_f1': nan, 'fin_2': 0, 'N_f2': nan, 'L_f2': nan, 'delta_f2': nan, 'D_f2': nan, 'fin_3': 0, 'N_f3': nan, 'L_f3': nan, 'delta_f3': nan, 'is_exchanger': 0, 'is_inlet_man': 1, 'is_outlet_man': 1, 'is_anomaly': 0, 'input_man': 1}, 'anomaly1': {'name': nan, 'eta_nom': 0.201, 'Eff_T': -0.0034000000000000002, 'T_ref': 298.15, 'Eff_G': 0, 'G_ref': 1000, 'X_corr': 1, 'tau_g': 0.8, 'alpha_g': 0.05, 'eps_PV': 0.9, 'eps_g': 0.9, 'eps_bs': 1, 'w_pan': 1.134, 'L_pan': 1.708, 'orientation': 'portrait', 'lambd_upper_glass': 0.002, 'lambd_upper_EVA': 0.000515, 'lambd_si': 0.00015, 'lambd_lower_EVA': 0.000515, 'lambd_PVDF': 0.0, 'lambd_PET': 0.0, 'lambd_adh': 0.0, 'lambd_lower_glass': 0.002, 'k_glass': 0.8, 'k_EVA': 0.24, 'k_si': 60, 'k_PVDF': 0.2, 'k_PET': 0.3, 'k_adh': 0.2, 'L_abs': 1342, 'w_abs': 976, 'geometry': 'harp', 'N_harp': 300, 'N_meander': 1, 'L_tube': 0.24, 'tube_geometry': 'rectangular', 'H_tube': 0.002, 'w_tube': 0.00281, 'W': 0.00335, 'l_c': 1.0000000000000001e-07, 'p_ext_tube': 0.005025, 'p_ext_tube_rad': 0.00335, 'lambd_air': 0.0, 'lambd_conductive_plate': 0.0, 'lambd_abs': 0.00027, 'lambd_riser_plate': 0.0, 'lambd_riser_back': 0.00035, 'lambd_ins': 0.0, 'eps_hx_top': 0, 'eps_hx_back': 0.1, 'eps_ins': 0.2, 'k_air': 0.025, 'k_conductive_plate': 1, 'k_abs': 0.3, 'k_riser_plate': 0.025, 'k_riser_back': 220, 'k_ins': 0.03, 'Heta': 0.02, 'N_ail': 50, 'N_fins_per_EP': nan, 'lambd_ail': 0.001, 'k_ail': 226, 'eps_fin': 0, 'D': 0.014, 'fin_0': 0, 'N_f0': 50, 'L_f0': 0.02, 'delta_f0': 0.00335, 'delta_f0_int': 0.00335, 'fin_1': 0, 'N_f1': nan, 'L_f1': nan, 'delta_f1': nan, 'delta_f1_int': nan, 'coeff_f1': nan, 'fin_2': 0, 'N_f2': nan, 'L_f2': nan, 'delta_f2': nan, 'D_f2': nan, 'fin_3': 0, 'N_f3': nan, 'L_f3': nan, 'delta_f3': nan, 'is_exchanger': 0, 'is_inlet_man': 0, 'is_outlet_man': 0, 'is_anomaly': 1, 'input_an': 1}}\n"
     ]
    }
   ],
   "source": [
    "input_name = r'\\Inputs_V4.41-NI-glass-glass.xlsx'\n",
    "hyp_name = r'\\Model_hypotheses.xlsx'\n",
    "data_path = r'G:\\Drive partagés\\BU04-Innovation\\PVT-perf-1Dmodel\\Steady-state conditions inputs'\n",
    "data_name = r'\\221223_TUV_test_conditions_V4.41GGA_MPP.xlsx'\n",
    "\n",
    "par = pr.import_input(r'G:\\Drive partagés\\BU04-Innovation\\PVT-perf-1Dmodel\\Inputs',input_name)\n",
    "hyp = pr.create_dict_from_excel(r'G:\\Drive partagés\\BU04-Innovation\\PVT-perf-1Dmodel\\Hypotheses',hyp_name,'Main')\n",
    "condi = pr.create_inputs_from_excel(data_path+data_name,par,hyp)"
   ]
  },
  {
   "cell_type": "code",
   "execution_count": 3,
   "metadata": {},
   "outputs": [
    {
     "name": "stdout",
     "output_type": "stream",
     "text": [
      "top h simple DT<0 theta>=2 Ra_L 212624778377.56647\n",
      "top h simple DT<0 theta>=2 Ra_L 249771540083.503\n",
      "top h simple DT<0 theta>=2 Ra_L 153514442579.70395\n",
      "top h simple DT<0 theta>=2 Ra_L 147750097450.28384\n"
     ]
    }
   ],
   "source": [
    "df_res,X,list_res = ty.simu_condi(par,hyp,condi)"
   ]
  },
  {
   "cell_type": "code",
   "execution_count": 4,
   "metadata": {},
   "outputs": [
    {
     "data": {
      "text/html": [
       "<table border=\"1\" class=\"dataframe\">\n",
       "  <thead>\n",
       "    <tr style=\"text-align: right;\">\n",
       "      <th></th>\n",
       "      <th>TÜV</th>\n",
       "      <th>Linear fit model 1D</th>\n",
       "    </tr>\n",
       "  </thead>\n",
       "  <tbody>\n",
       "    <tr>\n",
       "      <th>eta0,hem</th>\n",
       "      <td>0.486248</td>\n",
       "      <td>0.477656</td>\n",
       "    </tr>\n",
       "    <tr>\n",
       "      <th>a1</th>\n",
       "      <td>21.363516</td>\n",
       "      <td>22.373826</td>\n",
       "    </tr>\n",
       "    <tr>\n",
       "      <th>a2</th>\n",
       "      <td>0.000000</td>\n",
       "      <td>0.000000</td>\n",
       "    </tr>\n",
       "    <tr>\n",
       "      <th>a3</th>\n",
       "      <td>1.070499</td>\n",
       "      <td>1.226628</td>\n",
       "    </tr>\n",
       "    <tr>\n",
       "      <th>a4</th>\n",
       "      <td>0.000000</td>\n",
       "      <td>0.000000</td>\n",
       "    </tr>\n",
       "    <tr>\n",
       "      <th>a5</th>\n",
       "      <td>0.000000</td>\n",
       "      <td>0.000000</td>\n",
       "    </tr>\n",
       "    <tr>\n",
       "      <th>a6</th>\n",
       "      <td>0.012652</td>\n",
       "      <td>0.004593</td>\n",
       "    </tr>\n",
       "    <tr>\n",
       "      <th>a7</th>\n",
       "      <td>0.000000</td>\n",
       "      <td>0.000000</td>\n",
       "    </tr>\n",
       "    <tr>\n",
       "      <th>a8</th>\n",
       "      <td>0.000000</td>\n",
       "      <td>0.000000</td>\n",
       "    </tr>\n",
       "  </tbody>\n",
       "</table>"
      ],
      "text/plain": [
       "<IPython.core.display.HTML object>"
      ]
     },
     "metadata": {},
     "output_type": "display_data"
    }
   ],
   "source": [
    "[tab,X] = sk.find_SK(condi,par['AG'],columns_list=[1,1,0,1,0,0,1,0,0])\n",
    "X_df = pd.DataFrame(X[0],index = ['eta0,hem','a1','a2','a3','a4','a5','a6','a7','a8'],columns=['TÜV'])\n",
    "\n",
    "[tab_m,X_m] = sk.find_SK(df_res,par['AG'],columns_list=[1,1,0,1,0,0,1,0,0])\n",
    "X_df['Linear fit model 1D'] = X_m[0]\n",
    "\n",
    "pr.disp_html(X_df)\n",
    "\n",
    "# X_df.to_csv('V4.41_glass_backsheet_MPP.csv',sep=\";\")"
   ]
  },
  {
   "cell_type": "code",
   "execution_count": 7,
   "metadata": {},
   "outputs": [
    {
     "data": {
      "text/plain": [
       "19.77"
      ]
     },
     "execution_count": 7,
     "metadata": {},
     "output_type": "execute_result"
    }
   ],
   "source": [
    "22.37-2*1.3"
   ]
  },
  {
   "cell_type": "code",
   "execution_count": null,
   "metadata": {},
   "outputs": [],
   "source": [
    "par[\"manifold\"][\"L_f0\"]"
   ]
  },
  {
   "cell_type": "code",
   "execution_count": null,
   "metadata": {},
   "outputs": [],
   "source": [
    "pr.disp_html(df_res)"
   ]
  },
  {
   "cell_type": "code",
   "execution_count": null,
   "metadata": {},
   "outputs": [],
   "source": []
  },
  {
   "cell_type": "code",
   "execution_count": null,
   "metadata": {},
   "outputs": [],
   "source": [
    "condi[\"dTm/dt\"] = 0.\n",
    "\n",
    "u_list = condi[\"u\"].unique()\n",
    "color_list_1 = ['lightgreen','skyblue','darksalmon']\n",
    "color_list_2 = ['green','darkblue','tomato']\n",
    "\n",
    "fig = go.Figure()\n",
    "\n",
    "for i in range(len(u_list)):\n",
    "    # Add traces\n",
    "\n",
    "    fig.add_trace(go.Scatter(x=-df_res.loc[df_res[\"u\"]==u_list[i]]['-(T_m - T_a)'], y=df_res.loc[df_res[\"u\"]==u_list[i]]['Qdot / AG'],\n",
    "                        mode = 'markers',marker_color = color_list_1[i],\n",
    "                        name='Model 1D - u = '+str(u_list[i])+' m/s',\n",
    "                        ))\n",
    "\n",
    "    \n",
    "    fig.add_trace(go.Scatter(x=-df_res.loc[df_res[\"u\"]==u_list[i]]['-(T_m - T_a)'], y=sk.comp_power_rG_coeff_df(X_df['Linear fit model 1D'],df_res.loc[df_res[\"u\"]==u_list[i]]),\n",
    "                        mode = 'lines',\n",
    "                        line=dict(color=color_list_1[i], width=1,\n",
    "                            dash='dashdot'),\n",
    "                        name='Linear fit model 1D - u = '+str(u_list[i])+' m/s',\n",
    "                        ))\n",
    "    \n",
    "    fig.add_trace(go.Scatter(x=condi.loc[condi[\"u\"]==u_list[i]]['Tm - T_a'], y=condi.loc[condi[\"u\"]==u_list[i]]['Qdot / AG'],\n",
    "                        mode = 'markers',marker_color = color_list_2[i],\n",
    "                        name='TUV - u = '+str(u_list[i])+' m/s')\n",
    "                        )\n",
    "    \n",
    "    fig.add_trace(go.Scatter(x=condi.loc[condi[\"u\"]==u_list[i]]['Tm - T_a'], y=sk.comp_power_rG_coeff_df(X_df['TÜV'],condi.loc[condi[\"u\"]==u_list[i]]),\n",
    "                        mode = 'lines',\n",
    "                        line=dict(color=color_list_2[i],width=1\n",
    "                            ),\n",
    "                        name='Linear fit TUV - u = '+str(u_list[i])+' m/s')\n",
    "                        )\n",
    "# Set x-axis title\n",
    "fig.update_xaxes(title_text=\"T_m - T_amb\")\n",
    "fig.update_yaxes(title_text=\"Power related to gross (W/m2 coll.)\")\n",
    "\n",
    "fig.update_layout(\n",
    "    title={\n",
    "        'text': \"V4.41 glass-backsheet dark no wind\",\n",
    "        'y':0.9,\n",
    "        'x':0.5,\n",
    "        'xanchor': 'center',\n",
    "        'yanchor': 'top'})\n",
    "\n",
    "fig.update_layout(\n",
    "    autosize=False,\n",
    "    width=1200,\n",
    "    height=700,\n",
    "    margin=dict(\n",
    "        l=0,\n",
    "        r=0,\n",
    "        b=50,\n",
    "        t=50,\n",
    "        pad=1\n",
    "    ),\n",
    ")\n",
    "\n",
    "fig.show()"
   ]
  },
  {
   "cell_type": "code",
   "execution_count": null,
   "metadata": {},
   "outputs": [],
   "source": [
    "fig.write_html('V4.41_glass_backsheet_MPP.html')"
   ]
  },
  {
   "cell_type": "code",
   "execution_count": null,
   "metadata": {},
   "outputs": [],
   "source": [
    "pr.disp_html(df_res)"
   ]
  },
  {
   "cell_type": "code",
   "execution_count": null,
   "metadata": {},
   "outputs": [],
   "source": [
    "[tab,X] = sk.find_SK_SST(condi,par['A_G'],columns_list=[0,1,0,1,0,0,0,0,0])\n",
    "[tab_m,X_m] = sk.find_SK_SST(df_res,par['A_G'],columns_list=[0,1,0,1,0,0,0,0,0])"
   ]
  },
  {
   "cell_type": "code",
   "execution_count": null,
   "metadata": {},
   "outputs": [],
   "source": [
    "pr.display_a_i(X)\n",
    "pr.display_a_i(X_m)"
   ]
  },
  {
   "cell_type": "code",
   "execution_count": null,
   "metadata": {},
   "outputs": [],
   "source": [
    "condi"
   ]
  },
  {
   "cell_type": "code",
   "execution_count": null,
   "metadata": {},
   "outputs": [],
   "source": [
    "pr.disp_html(df_res)"
   ]
  },
  {
   "cell_type": "code",
   "execution_count": null,
   "metadata": {},
   "outputs": [],
   "source": [
    "u_list = [0.7,2.1,3.9]\n",
    "\n",
    "color_list = ['blue','red','green','orange','cyan','purple']\n",
    "\n",
    "def lin(x,a,b):\n",
    "    return a*x+b\n",
    "\n",
    "popt_mod_list = []\n",
    "pcov_mod_list = []\n",
    "popt_tuv_list = []\n",
    "pcov_tuv_list = []\n",
    "\n",
    "\n",
    "for i in range(len(u_list)):\n",
    "    popt,pcov = sco.curve_fit(lin,-df_res.loc[df_res[\"u\"]==u_list[i]]['-(T_m - T_a)'],df_res.loc[df_res[\"u\"]==u_list[i]]['Q_dot / A_G'])\n",
    "    popt_mod_list.append(popt)\n",
    "    pcov_mod_list.append(pcov)\n",
    "\n",
    "    popt,pcov = sco.curve_fit(lin,condi.loc[condi[\"u\"]==u_list[i]]['T_m - T_a'],condi.loc[df_res[\"u\"]==u_list[i]]['Q_dot / A_G'])\n",
    "    popt_tuv_list.append(popt)\n",
    "    pcov_tuv_list.append(pcov)\n",
    "\n",
    "fig = go.Figure()\n",
    "\n",
    "for i in range(len(u_list)):\n",
    "    # Add traces\n",
    "\n",
    "    fig.add_trace(go.Scatter(x=-df_res.loc[df_res[\"u\"]==u_list[i]]['-(T_m - T_a)'], y=df_res.loc[df_res[\"u\"]==u_list[i]]['Q_dot / A_G'],\n",
    "                        mode = 'markers',\n",
    "                        marker=dict(color=color_list[2*i]),\n",
    "                        name='Model 1D - u = '+str(u_list[i])+' m/s')\n",
    "                        )\n",
    "    \n",
    "    fig.add_trace(go.Scatter(x=condi.loc[condi[\"u\"]==u_list[i]]['T_m - T_a'], y=condi.loc[condi[\"u\"]==u_list[i]]['Q_dot / A_G'],\n",
    "                        mode = 'markers',\n",
    "                        marker=dict(color=color_list[2*i+1]),\n",
    "                        name='TUV - u = '+str(u_list[i])+' m/s')\n",
    "                        )\n",
    "\n",
    "\n",
    "    fig.add_trace(go.Scatter(x=-df_res.loc[df_res[\"u\"]==u_list[i]]['-(T_m - T_a)'], y=lin(-df_res.loc[df_res[\"u\"]==u_list[i]]['-(T_m - T_a)'],*popt_mod_list[i]),\n",
    "                        mode = 'lines',\n",
    "                        line=dict(color=color_list[2*i], width=1,\n",
    "                              dash='dashdot'),\n",
    "                        name='Linear fit model 1D - u = '+str(u_list[i])+' m/s')\n",
    "                        )\n",
    "    \n",
    "    fig.add_trace(go.Scatter(x=condi.loc[condi[\"u\"]==u_list[i]]['T_m - T_a'], y=lin(condi.loc[condi[\"u\"]==u_list[i]]['T_m - T_a'],*popt_tuv_list[i]),\n",
    "                        mode = 'lines',\n",
    "                        line=dict(color=color_list[2*i+1], width=1,\n",
    "                              dash='dashdot'),\n",
    "                        name='Linear fit TUV - u = '+str(u_list[i])+' m/s')\n",
    "                        )\n",
    "# Set x-axis title\n",
    "fig.update_xaxes(title_text=\"T_m - T_amb\")\n",
    "fig.update_yaxes(title_text=\"Power related to gross (W/m2 coll.)\")\n",
    "\n",
    "fig.update_layout(\n",
    "    title={\n",
    "        'text': \"V4.41 glass-backsheet dark no wind\",\n",
    "        'y':0.9,\n",
    "        'x':0.5,\n",
    "        'xanchor': 'center',\n",
    "        'yanchor': 'top'})\n",
    "\n",
    "fig.update_layout(\n",
    "    autosize=False,\n",
    "    width=1200,\n",
    "    height=700,\n",
    "    margin=dict(\n",
    "        l=0,\n",
    "        r=0,\n",
    "        b=50,\n",
    "        t=50,\n",
    "        pad=1\n",
    "    ),\n",
    ")\n",
    "\n",
    "fig.show()"
   ]
  },
  {
   "cell_type": "code",
   "execution_count": null,
   "metadata": {},
   "outputs": [],
   "source": [
    "mse = sklearn.metrics.mean_squared_error(df_res['Q_dot / A_G'],condi['Q_dot / A_G'])\n",
    "print(math.sqrt(mse))"
   ]
  }
 ],
 "metadata": {
  "kernelspec": {
   "display_name": "model23",
   "language": "python",
   "name": "python3"
  },
  "language_info": {
   "codemirror_mode": {
    "name": "ipython",
    "version": 3
   },
   "file_extension": ".py",
   "mimetype": "text/x-python",
   "name": "python",
   "nbconvert_exporter": "python",
   "pygments_lexer": "ipython3",
   "version": "3.10.5"
  },
  "orig_nbformat": 4
 },
 "nbformat": 4,
 "nbformat_minor": 2
}
