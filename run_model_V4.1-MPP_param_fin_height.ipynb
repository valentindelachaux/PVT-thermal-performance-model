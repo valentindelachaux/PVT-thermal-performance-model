{
 "cells": [
  {
   "cell_type": "code",
   "execution_count": null,
   "metadata": {},
   "outputs": [],
   "source": [
    "# Initialization\n",
    "\n",
    "import math\n",
    "from datetime import datetime\n",
    "import openpyxl as opxl\n",
    "from openpyxl.utils.dataframe import dataframe_to_rows\n",
    "import pandas as pd\n",
    "import numpy as np\n",
    "from IPython.core.display import HTML\n",
    "import matplotlib.pyplot as plt\n",
    "import matplotlib.ticker as mtick\n",
    "import plotly.graph_objects as go\n",
    "\n",
    "import sklearn.metrics\n",
    "import scipy.integrate as integrate\n",
    "import scipy.optimize as sco\n",
    "\n",
    "import fluids as fds\n",
    "import ht \n",
    "\n",
    "import general as gen\n",
    "import model as ty\n",
    "import proc as pr\n",
    "import heat_transfer as bht\n",
    "import plot_functions as pfun\n",
    "# importing sys\n",
    "import sys\n",
    "sys.path.insert(0,r'C:\\Users\\valen\\Dropbox (DualSun)\\PC\\Documents\\GitHub\\RD-systems-and-test-benches')\n",
    "import SK_standard as sk"
   ]
  },
  {
   "cell_type": "code",
   "execution_count": null,
   "metadata": {},
   "outputs": [],
   "source": [
    "input_name = r'\\Inputs_V4.1.xlsx'\n",
    "hyp_name = r'\\Model_hypotheses_V4.1.xlsx'\n",
    "data_name = r'\\TUV_test_conditions_V4.1NI_MPP.xlsx'\n",
    "\n",
    "par = pr.import_input(r'G:\\Drive partagés\\BU04-Innovation\\PVT-perf-1Dmodel\\Inputs',input_name)\n",
    "hyp = pr.create_dict_from_excel(r'G:\\Drive partagés\\BU04-Innovation\\PVT-perf-1Dmodel\\Hypotheses',hyp_name,'Main')\n",
    "condi = pr.create_inputs_from_excel(r'G:\\Drive partagés\\BU04-Innovation\\PVT-perf-1Dmodel\\Steady-state conditions inputs'+data_name,par,hyp)"
   ]
  },
  {
   "cell_type": "code",
   "execution_count": null,
   "metadata": {},
   "outputs": [],
   "source": [
    "df_res,X,list_res,list_df,list_df_historic = ty.simu_condi(par,hyp,condi)"
   ]
  },
  {
   "cell_type": "code",
   "execution_count": null,
   "metadata": {},
   "outputs": [],
   "source": [
    "dfL = pd.DataFrame(np.array([10,20,30,40,50,100,150,200])/1000,columns=['L_f2'])"
   ]
  },
  {
   "cell_type": "code",
   "execution_count": null,
   "metadata": {},
   "outputs": [],
   "source": [
    "A0_list = []\n",
    "A1_list = []\n",
    "\n",
    "for i in range(len(dfL)):\n",
    "    par[\"exchanger\"][\"L_f0\"] = dfL['L_f2'][i]\n",
    "    print(par[\"exchanger\"][\"L_f0\"] )\n",
    "    df_res,X,list_res,list_df,list_df_historic = ty.simu_condi(par,hyp,condi)\n",
    "    [tab_m,X_m] = sk.find_SK_SST(df_res,par['AG'],columns_list=[1,1,0,1,0,0,1,0,0])\n",
    "    A0_list.append(X_m[0][0]-X_m[0][6]*(1.3-3))\n",
    "    A1_list.append(X_m[0][1]+X_m[0][3]*(1.3-3))"
   ]
  },
  {
   "cell_type": "code",
   "execution_count": null,
   "metadata": {},
   "outputs": [],
   "source": [
    "A0_list"
   ]
  },
  {
   "cell_type": "code",
   "execution_count": null,
   "metadata": {},
   "outputs": [],
   "source": [
    "A1_list"
   ]
  },
  {
   "cell_type": "code",
   "execution_count": null,
   "metadata": {},
   "outputs": [],
   "source": [
    "dfL['A0'] = A0_list\n",
    "dfL['A1'] = A1_list"
   ]
  },
  {
   "cell_type": "code",
   "execution_count": null,
   "metadata": {},
   "outputs": [],
   "source": [
    "# create figure and axis objects with subplots()\n",
    "fig,ax = plt.subplots()\n",
    "# make a plot\n",
    "\n",
    "ax.plot(dfL['L_f2'],dfL['A0']*100,color=\"red\",marker=\"+\")\n",
    "\n",
    "# set x-axis label\n",
    "\n",
    "ax.set_xlabel(\"Number of risers in meander\", fontsize = 14)\n",
    "\n",
    "# set y-axis label\n",
    "\n",
    "ax.set_ylabel(\"A0\",\n",
    "              color=\"red\",\n",
    "              fontsize=14)\n",
    "\n",
    "\n",
    "\n",
    "# ax.yaxis.set_major_formatter(mtick.PercentFormatter(xmax=1.))\n",
    "ax.yaxis.set_major_formatter(mtick.FormatStrFormatter('%.0f%%'))\n",
    "# ax.yaxis.set_major_formatter(mtick.FormatStrFormatter('%.2f'))\n",
    "\n",
    "# ax.axhline(y = 0.999*0.396177,label='98% of the maximum performance',color='green')\n",
    "# ax.axvline(x = 0.4, label = 'Thickness of the tested prototype',color='black')\n",
    "# ax.axhline(y = 0.394,color='black')\n",
    "# ax.axvline(x = 1.3,color='green')\n",
    "# ax.legend()\n",
    "\n",
    "ax.grid()\n",
    "# twin object for two dif       ferent y-axis on the sample plot\n",
    "ax2=ax.twinx()\n",
    "# make a plot with different y-axis using second axis object\n",
    "ax2.plot(dfL['L_f2'],dfL['A1'],color=\"blue\",marker=\"+\")\n",
    "ax2.set_ylabel(\"A1\",color=\"blue\",fontsize=14)"
   ]
  },
  {
   "cell_type": "code",
   "execution_count": null,
   "metadata": {},
   "outputs": [],
   "source": [
    "X[0]"
   ]
  },
  {
   "cell_type": "code",
   "execution_count": null,
   "metadata": {},
   "outputs": [],
   "source": [
    "[tab,X] = sk.find_SK_SST(condi,par['AG'],columns_list=[1,1,0,1,0,0,1,0,0])\n",
    "X_df = pd.DataFrame(X[0],index = ['eta0,hem','a1','a2','a3','a4','a5','a6','a7','a8'],columns=['TÜV'])\n",
    "\n",
    "[tab_m,X_m] = sk.find_SK_SST(df_res,par['AG'],columns_list=[1,1,0,1,0,0,1,0,0])\n",
    "X_df['Linear fit model 1D'] = X_m[0]\n",
    "\n",
    "pr.disp_html(X_df)"
   ]
  },
  {
   "cell_type": "code",
   "execution_count": null,
   "metadata": {},
   "outputs": [],
   "source": [
    "15.86+2.216*(-1.7)"
   ]
  },
  {
   "cell_type": "code",
   "execution_count": null,
   "metadata": {},
   "outputs": [],
   "source": [
    "pr.disp_html(list_res[14][\"inlet_man\"][1])"
   ]
  },
  {
   "cell_type": "code",
   "execution_count": null,
   "metadata": {},
   "outputs": [],
   "source": [
    "pr.disp_html(list_res[14][\"exchanger\"][1])"
   ]
  },
  {
   "cell_type": "code",
   "execution_count": null,
   "metadata": {},
   "outputs": [],
   "source": [
    "pr.disp_html(df_res)"
   ]
  },
  {
   "cell_type": "code",
   "execution_count": null,
   "metadata": {},
   "outputs": [],
   "source": [
    "u_list = df_res['u'].unique()"
   ]
  },
  {
   "cell_type": "code",
   "execution_count": null,
   "metadata": {},
   "outputs": [],
   "source": [
    "u_list"
   ]
  },
  {
   "cell_type": "code",
   "execution_count": null,
   "metadata": {},
   "outputs": [],
   "source": [
    "pr.disp_html(df_res)"
   ]
  },
  {
   "cell_type": "code",
   "execution_count": null,
   "metadata": {},
   "outputs": [],
   "source": [
    "# powers = [\"Q_S\",\"Q_top_conv\",\"Q_top_rad\",\"Q_tube_back_conv\",\"Q_tube_back_rad\",\"Q_f01\"]\n",
    "\n",
    "df_res[\"-Q_top_conv\"] = -df_res[\"Q_top_conv\"]\n",
    "df_res[\"-Q_top_rad\"] = -df_res[\"Q_top_rad\"]\n",
    "\n",
    "df_res[\"-Q_ins_absfin_back_conv\"] = -df_res[\"Q_ins_absfin_back_conv\"]\n",
    "df_res[\"-Q_ins_absfin_back_rad\"] = -df_res[\"Q_ins_absfin_back_rad\"]\n",
    "df_res[\"-Q_tube_back_conv\"] = -df_res[\"Q_tube_back_conv\"]\n",
    "df_res[\"-Q_tube_back_rad\"] = -df_res[\"Q_tube_back_rad\"]\n",
    "# df_res[\"-Q_f01\"] = -df_res[\"Q_f01\"]\n",
    "\n",
    "df_select_u = df_res.loc[df_res[\"u\"]==0.7]\n",
    "\n",
    "powers = [\"Q_S\",\"-Q_top_conv\",\"-Q_top_rad\",\"-Q_ins_absfin_back_conv\",\"-Q_ins_absfin_back_rad\",\"-Q_tube_back_conv\",\"-Q_tube_back_rad\"]\n",
    "\n",
    "df_hist = df_select_u\n",
    "\n",
    "dict_pos = {}\n",
    "dict_neg = {}\n",
    "dict_pos_agg = {}\n",
    "dict_neg_agg = {}\n",
    "\n",
    "DT_list = []\n",
    "for DT in df_hist[\"-(T_m - T_a)\"]:\n",
    "    DT_list.append(-DT)\n",
    "\n",
    "# powers = [\"S_loc\",\"-Q_top_conv\",\"-Q_top_rad\",\"-Q_tube_back\"]\n",
    "# powers = [\"S_loc\",\"-Q_top_conv\",\"-Q_top_rad\",\"-Q_fluid_back\",\"-Q_f01\"]\n",
    "\n",
    "\n",
    "for i in range(len(powers)):\n",
    "    pow = powers[i]\n",
    "\n",
    "    if i == 0:\n",
    "\n",
    "    \n",
    "        dict_pos[pow] = 16*np.array(ty.pos_df(df_hist,pow))\n",
    "        dict_neg[pow] = 16*np.array(ty.neg_df(df_hist,pow))\n",
    "\n",
    "    else:\n",
    "        dict_pos[pow] = np.array(ty.pos_df(df_hist,pow))\n",
    "        dict_neg[pow] = np.array(ty.neg_df(df_hist,pow))\n",
    "\n",
    "    if i==0:\n",
    "        dict_pos_agg[pow] = 0*np.array(ty.pos_df(df_hist,pow))\n",
    "        dict_neg_agg[pow] = dict_pos_agg[pow]\n",
    "\n",
    "    else:\n",
    "        dict_pos_agg[pow] = dict_pos_agg[powers[i-1]] + dict_pos[powers[i-1]]\n",
    "        dict_neg_agg[pow] = dict_neg_agg[powers[i-1]] + dict_neg[powers[i-1]]\n",
    "\n",
    "fig, ax = plt.subplots()\n",
    "\n",
    "width = 0.35\n",
    "\n",
    "# labels_list = ['Sun','Front convection','Front radiation','Back convection and radiation']\n",
    "# powers = [\"Q_S\",\"-Q_top_conv\",\"-Q_top_rad\",\"-Q_ins_absfin_back_conv\",\"-Q_ins_absfin_back_rad\",\"-Q_tube_back_conv\",\"-Q_tube_back_rad\"]\n",
    "labels_list = powers\n",
    "colors_list = ['red','blue','cyan','green','lightgreen','orange','purple']\n",
    "\n",
    "for i,pow in enumerate(powers):\n",
    "    ax.bar(DT_list, dict_pos[pow], width, bottom=dict_pos_agg[pow], label=labels_list[i], color=colors_list[i])\n",
    "    ax.bar(DT_list, dict_neg[pow], width, bottom=dict_neg_agg[pow], color=colors_list[i])\n",
    "\n",
    "ax.plot(DT_list,df_hist[\"Q_tube_fluid\"],color=\"red\",label=\"Q_fluid\")\n",
    "# ax.plot(labels,np.array(N_disp*[list_PL[q]]))\n",
    "\n",
    "# ax.set_ylabel('PL (Pa)')\n",
    "# ax.set_title('SPRING')\n",
    "ax.set_xlabel(\"Tm - Ta (K)\")\n",
    "ax.set_ylabel(\"Qdot (W)\")\n",
    "ax.axhline(y = 0., color = 'g', linestyle = '-')\n",
    "  \n",
    "#plt.legend(loc='center left', bbox_to_anchor=(1, 0.5))\n",
    "plt.legend(loc='upper center', bbox_to_anchor=(0.5, -0.15),\n",
    "          fancybox=True, shadow=True, ncol=5)\n",
    "plt.show()"
   ]
  },
  {
   "cell_type": "code",
   "execution_count": null,
   "metadata": {},
   "outputs": [],
   "source": [
    "pfun.plot_graph(df_res,par,1)"
   ]
  },
  {
   "cell_type": "code",
   "execution_count": null,
   "metadata": {},
   "outputs": [],
   "source": [
    "par[\"exchanger\"][\"N_meander\"]*par[\"exchanger\"][\"p_ext_tube\"]*par[\"exchanger\"][\"L_tube\"]*12*(24.943-15.014)"
   ]
  },
  {
   "cell_type": "code",
   "execution_count": null,
   "metadata": {},
   "outputs": [],
   "source": [
    "par[\"exchanger\"][\"N_meander\"]*par[\"exchanger\"][\"Heta\"]*par[\"exchanger\"][\"W\"]*150*2*6*(24.943-15.014)"
   ]
  },
  {
   "cell_type": "code",
   "execution_count": null,
   "metadata": {},
   "outputs": [],
   "source": [
    "# X_df.to_csv('V4.41_glass_backsheet_dark_front_calibrage_h.csv',sep=';')"
   ]
  },
  {
   "cell_type": "code",
   "execution_count": null,
   "metadata": {},
   "outputs": [],
   "source": []
  },
  {
   "cell_type": "code",
   "execution_count": null,
   "metadata": {},
   "outputs": [],
   "source": [
    "u_list = df_res['u'].unique()\n",
    "fig = go.Figure()\n",
    "\n",
    "for i in range(len(u_list)):\n",
    "    # Add traces\n",
    "\n",
    "    fig.add_trace(go.Scatter(x=-df_res.loc[df_res[\"u\"]==u_list[i]]['-(T_m - T_a)'], y=df_res.loc[df_res[\"u\"]==u_list[i]]['Qdot / AG'],\n",
    "                        mode = 'markers',\n",
    "                        name='Model 1D - u = '+str(u_list[i])+' m/s',\n",
    "                        ))\n",
    "\n",
    "    \n",
    "    fig.add_trace(go.Scatter(x=-df_res.loc[df_res[\"u\"]==u_list[i]]['-(T_m - T_a)'], y=sk.comp_power_rG_coeff_df(X_df['Linear fit model 1D'],df_res.loc[df_res[\"u\"]==u_list[i]]),\n",
    "                        mode = 'lines',\n",
    "                        line=dict(width=1,\n",
    "                            dash='dashdot'),\n",
    "                        name='Linear fit model 1D - u = '+str(u_list[i])+' m/s',\n",
    "                        ))\n",
    "    \n",
    "    fig.add_trace(go.Scatter(x=condi.loc[condi[\"u\"]==u_list[i]]['T_m - T_a'], y=condi.loc[condi[\"u\"]==u_list[i]]['Qdot / AG'],\n",
    "                        mode = 'markers',\n",
    "                        name='TUV - u = '+str(u_list[i])+' m/s')\n",
    "                        )\n",
    "    \n",
    "    fig.add_trace(go.Scatter(x=condi.loc[condi[\"u\"]==u_list[i]]['T_m - T_a'], y=sk.comp_power_rG_coeff_df(X_df['TÜV'],condi.loc[condi[\"u\"]==u_list[i]]),\n",
    "                        mode = 'lines',\n",
    "                        line=dict(width=1\n",
    "                            ),\n",
    "                        name='Linear fit TUV - u = '+str(u_list[i])+' m/s')\n",
    "                        )\n",
    "# Set x-axis title\n",
    "fig.update_xaxes(title_text=\"T_m - T_amb\")\n",
    "fig.update_yaxes(title_text=\"Power related to gross (W/m2 coll.)\")\n",
    "\n",
    "fig.update_layout(\n",
    "    title={\n",
    "        'text': \"V4.1 dark front wind\",\n",
    "        'y':0.9,\n",
    "        'x':0.5,\n",
    "        'xanchor': 'center',\n",
    "        'yanchor': 'top'})\n",
    "\n",
    "fig.update_layout(\n",
    "    autosize=False,\n",
    "    width=1200,\n",
    "    height=700,\n",
    "    margin=dict(\n",
    "        l=0,\n",
    "        r=0,\n",
    "        b=50,\n",
    "        t=50,\n",
    "        pad=1\n",
    "    ),\n",
    ")\n",
    "\n",
    "fig.show()"
   ]
  },
  {
   "cell_type": "code",
   "execution_count": null,
   "metadata": {},
   "outputs": [],
   "source": [
    "mse = sklearn.metrics.mean_squared_error(df_res['Qdot / AG'],condi['Qdot / AG'])\n",
    "print(math.sqrt(mse))\n",
    "print(math.sqrt(mse)/condi['Qdot / AG'].mean())"
   ]
  },
  {
   "cell_type": "code",
   "execution_count": null,
   "metadata": {},
   "outputs": [],
   "source": [
    "fig.write_html('V4.41_glass_backsheet_dark_front_calibrage_h.html')"
   ]
  },
  {
   "cell_type": "code",
   "execution_count": null,
   "metadata": {},
   "outputs": [],
   "source": [
    "pr.disp_html(df_res)"
   ]
  },
  {
   "cell_type": "code",
   "execution_count": null,
   "metadata": {},
   "outputs": [],
   "source": [
    "[tab,X] = sk.find_SK_SST(condi,par['AG'],columns_list=[0,1,0,1,0,0,0,0,0])\n",
    "[tab_m,X_m] = sk.find_SK_SST(df_res,par['AG'],columns_list=[0,1,0,1,0,0,0,0,0])"
   ]
  },
  {
   "cell_type": "code",
   "execution_count": null,
   "metadata": {},
   "outputs": [],
   "source": [
    "pr.display_a_i(X)\n",
    "pr.display_a_i(X_m)"
   ]
  },
  {
   "cell_type": "code",
   "execution_count": null,
   "metadata": {},
   "outputs": [],
   "source": [
    "condi"
   ]
  },
  {
   "cell_type": "code",
   "execution_count": null,
   "metadata": {},
   "outputs": [],
   "source": [
    "pr.disp_html(df_res)"
   ]
  },
  {
   "cell_type": "code",
   "execution_count": null,
   "metadata": {},
   "outputs": [],
   "source": [
    "u_list = [0.7,2.1,3.9]\n",
    "\n",
    "color_list = ['blue','red','green','orange','cyan','purple']\n",
    "\n",
    "def lin(x,a,b):\n",
    "    return a*x+b\n",
    "\n",
    "popt_mod_list = []\n",
    "pcov_mod_list = []\n",
    "popt_tuv_list = []\n",
    "pcov_tuv_list = []\n",
    "\n",
    "\n",
    "for i in range(len(u_list)):\n",
    "    popt,pcov = sco.curve_fit(lin,-df_res.loc[df_res[\"u\"]==u_list[i]]['-(T_m - T_a)'],df_res.loc[df_res[\"u\"]==u_list[i]]['Qdot / AG'])\n",
    "    popt_mod_list.append(popt)\n",
    "    pcov_mod_list.append(pcov)\n",
    "\n",
    "    popt,pcov = sco.curve_fit(lin,condi.loc[condi[\"u\"]==u_list[i]]['T_m - T_a'],condi.loc[df_res[\"u\"]==u_list[i]]['Qdot / AG'])\n",
    "    popt_tuv_list.append(popt)\n",
    "    pcov_tuv_list.append(pcov)\n",
    "\n",
    "fig = go.Figure()\n",
    "\n",
    "for i in range(len(u_list)):\n",
    "    # Add traces\n",
    "\n",
    "    fig.add_trace(go.Scatter(x=-df_res.loc[df_res[\"u\"]==u_list[i]]['-(T_m - T_a)'], y=df_res.loc[df_res[\"u\"]==u_list[i]]['Qdot / AG'],\n",
    "                        mode = 'markers',\n",
    "                        marker=dict(color=color_list[2*i]),\n",
    "                        name='Model 1D - u = '+str(u_list[i])+' m/s')\n",
    "                        )\n",
    "    \n",
    "    fig.add_trace(go.Scatter(x=condi.loc[condi[\"u\"]==u_list[i]]['T_m - T_a'], y=condi.loc[condi[\"u\"]==u_list[i]]['Qdot / AG'],\n",
    "                        mode = 'markers',\n",
    "                        marker=dict(color=color_list[2*i+1]),\n",
    "                        name='TUV - u = '+str(u_list[i])+' m/s')\n",
    "                        )\n",
    "\n",
    "\n",
    "    fig.add_trace(go.Scatter(x=-df_res.loc[df_res[\"u\"]==u_list[i]]['-(T_m - T_a)'], y=lin(-df_res.loc[df_res[\"u\"]==u_list[i]]['-(T_m - T_a)'],*popt_mod_list[i]),\n",
    "                        mode = 'lines',\n",
    "                        line=dict(color=color_list[2*i], width=1,\n",
    "                              dash='dashdot'),\n",
    "                        name='Linear fit model 1D - u = '+str(u_list[i])+' m/s')\n",
    "                        )\n",
    "    \n",
    "    fig.add_trace(go.Scatter(x=condi.loc[condi[\"u\"]==u_list[i]]['T_m - T_a'], y=lin(condi.loc[condi[\"u\"]==u_list[i]]['T_m - T_a'],*popt_tuv_list[i]),\n",
    "                        mode = 'lines',\n",
    "                        line=dict(color=color_list[2*i+1], width=1,\n",
    "                              dash='dashdot'),\n",
    "                        name='Linear fit TUV - u = '+str(u_list[i])+' m/s')\n",
    "                        )\n",
    "# Set x-axis title\n",
    "fig.update_xaxes(title_text=\"T_m - T_amb\")\n",
    "fig.update_yaxes(title_text=\"Power related to gross (W/m2 coll.)\")\n",
    "\n",
    "fig.update_layout(\n",
    "    title={\n",
    "        'text': \"V4.41 glass-backsheet dark no wind\",\n",
    "        'y':0.9,\n",
    "        'x':0.5,\n",
    "        'xanchor': 'center',\n",
    "        'yanchor': 'top'})\n",
    "\n",
    "fig.update_layout(\n",
    "    autosize=False,\n",
    "    width=1200,\n",
    "    height=700,\n",
    "    margin=dict(\n",
    "        l=0,\n",
    "        r=0,\n",
    "        b=50,\n",
    "        t=50,\n",
    "        pad=1\n",
    "    ),\n",
    ")\n",
    "\n",
    "fig.show()"
   ]
  },
  {
   "cell_type": "code",
   "execution_count": null,
   "metadata": {},
   "outputs": [],
   "source": [
    "par[\"l_B\"]"
   ]
  },
  {
   "cell_type": "code",
   "execution_count": null,
   "metadata": {},
   "outputs": [],
   "source": []
  }
 ],
 "metadata": {
  "kernelspec": {
   "display_name": "model23",
   "language": "python",
   "name": "python3"
  },
  "language_info": {
   "codemirror_mode": {
    "name": "ipython",
    "version": 3
   },
   "file_extension": ".py",
   "mimetype": "text/x-python",
   "name": "python",
   "nbconvert_exporter": "python",
   "pygments_lexer": "ipython3",
   "version": "3.10.5"
  },
  "orig_nbformat": 4
 },
 "nbformat": 4,
 "nbformat_minor": 2
}
