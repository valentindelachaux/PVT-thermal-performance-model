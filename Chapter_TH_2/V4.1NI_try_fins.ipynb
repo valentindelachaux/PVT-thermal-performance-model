{
 "cells": [
  {
   "cell_type": "code",
   "execution_count": 26,
   "metadata": {},
   "outputs": [],
   "source": [
    "## Standard\n",
    "\n",
    "import os\n",
    "import sys\n",
    "sys.path.append('../RD-systems-and-test-benches')\n",
    "\n",
    "import math\n",
    "from datetime import datetime\n",
    "\n",
    "## Specific\n",
    "\n",
    "from tqdm.notebook import tqdm\n",
    "import copy\n",
    "# from concurrent.futures import ProcessPoolExecutor\n",
    "# import networkx as nx\n",
    "# from itertools import product\n",
    "# from itertools import chain\n",
    "\n",
    "## Data handling \n",
    "\n",
    "import pandas as pd\n",
    "import numpy as np\n",
    "import openpyxl as opxl\n",
    "from openpyxl.utils.dataframe import dataframe_to_rows\n",
    "\n",
    "import sklearn.metrics\n",
    "import scipy.constants as scc\n",
    "import seaborn as sns\n",
    "import scipy.integrate as integrate\n",
    "import scipy.optimize as sco\n",
    "\n",
    "import pickle\n",
    "\n",
    "## Plot\n",
    "\n",
    "import matplotlib\n",
    "import matplotlib.pyplot as plt\n",
    "import matplotlib.ticker as mtick\n",
    "import scienceplots\n",
    "import matplotlib_inline\n",
    "matplotlib_inline.backend_inline.set_matplotlib_formats('retina')\n",
    "plt.style.use(['science'])\n",
    "\n",
    "import plotly.graph_objects as go\n",
    "import plotly.io as pio\n",
    "\n",
    "from IPython.core.display import HTML\n",
    "\n",
    "## Own modumes\n",
    "\n",
    "import model as ty\n",
    "import heat_transfer as bht\n",
    "import proc as pr\n",
    "\n",
    "import plot_functions_here as pfun\n",
    "import general as gen\n",
    "\n",
    "import thermal.SK_standard as nm\n",
    "import utils.plot_functions as RD_pfun\n",
    "import repo_config as rconfig\n",
    "\n",
    "import utils.data_processing as dp\n",
    "\n",
    "## Physics\n",
    "\n",
    "import fluids as fds\n",
    "import ht "
   ]
  },
  {
   "cell_type": "code",
   "execution_count": 109,
   "metadata": {},
   "outputs": [],
   "source": [
    "import matplotlib\n",
    "import matplotlib.pyplot as plt\n",
    "import matplotlib.ticker as mtick\n",
    "from matplotlib.ticker import FuncFormatter\n",
    "import scienceplots\n",
    "import matplotlib_inline\n",
    "matplotlib_inline.backend_inline.set_matplotlib_formats('retina')\n",
    "plt.style.use(['science'])\n",
    "\n",
    "def to_percent(y, _):\n",
    "    return f\"{y * 100:.0f}\\%\""
   ]
  },
  {
   "cell_type": "code",
   "execution_count": 28,
   "metadata": {},
   "outputs": [],
   "source": [
    "folder_path = r'G:\\Drive partagés\\Cercle Hard\\R&D\\Modèles numériques PVT\\PVT-perf-1Dmodel'\n",
    "geometry_path = os.path.join(folder_path, 'Panels\\\\Panel_V4.1NI_harp_calibrated.xlsx')\n",
    "hypotheses_path = folder_path + '\\\\' + 'Hypotheses\\\\Model_hypotheses_calibrated.xlsx'\n",
    "condi_path = folder_path + '\\\\' + 'Steady-state conditions inputs\\\\ssCforStudy.xlsx'\n",
    "# exp_path = folder_path + '\\\\' + 'Experiments\\\\Experiments-GMI.xlsx'\n",
    "\n",
    "panelSpecs = pr.import_geometry(geometry_path)\n",
    "\n",
    "# panelSpecs['part2']['lambd_abs_ins'] = 0.\n",
    "# panelSpecs['part2']['lambd_tube_ins'] = 0.\n",
    "\n",
    "hyp = pr.create_dict_from_excel(hypotheses_path,'Main')\n",
    "\n",
    "# steadyStateConditions_df = pd.read_excel(condi_path,header=2) ## Les deux première lignes ne sont pas à prendre en compte\n",
    "# stepConditions = steadyStateConditions_df.to_dict(orient='records')\n",
    "\n",
    "recap = pd.read_excel(r'G:\\Drive partagés\\Cercle Hard\\R&D\\Thermal performance tests PVT\\Recap_RD_TUV_SSI.xlsx')\n",
    "recap = recap.drop(index=0)\n",
    "recap.dropna(how='all', inplace=True)\n",
    "\n",
    "groups = {key: group for key, group in recap.groupby('Design')}\n",
    "\n",
    "# steadyStateConditions_df = groups['V4.1NI'].loc[groups['V4.1NI']['Type'] == 'dark'].copy()\n",
    "steadyStateConditions_df = pd.read_excel(condi_path,header=0)\n",
    "steadyStateConditions_df.drop(0, inplace=True)\n",
    "\n",
    "pr.adjust_steadyStateConditions(steadyStateConditions_df, hyp, convert_celsius=True)\n",
    "steadyStateConditions_df.reset_index(drop=True,inplace=True)\n",
    "\n",
    "# for key, group in groups.items():\n",
    "#     pr.convert_to_K(group)"
   ]
  },
  {
   "cell_type": "code",
   "execution_count": null,
   "metadata": {},
   "outputs": [],
   "source": [
    "panelSpecs['part2']['lambd_tube_ins']"
   ]
  },
  {
   "cell_type": "code",
   "execution_count": 30,
   "metadata": {},
   "outputs": [],
   "source": [
    "dic_names = {'T_in' : 'T_fluid_in',\n",
    "             'T_out' : 'T_fluid_out',\n",
    "             'Qdot_1_AG' : 'Qdot/AG',\n",
    "             'T_amb' : 'T_amb',\n",
    "             'u' : 'u'}"
   ]
  },
  {
   "cell_type": "code",
   "execution_count": 31,
   "metadata": {},
   "outputs": [],
   "source": [
    "# df_res, list_res = ty.simu_steadyStateConditions(panelSpecs,hyp,steadyStateConditions_df)"
   ]
  },
  {
   "cell_type": "code",
   "execution_count": 32,
   "metadata": {},
   "outputs": [],
   "source": []
  },
  {
   "cell_type": "code",
   "execution_count": null,
   "metadata": {},
   "outputs": [],
   "source": [
    "panelSpecs['part2']['delta']"
   ]
  },
  {
   "cell_type": "code",
   "execution_count": 34,
   "metadata": {},
   "outputs": [],
   "source": [
    "# panelSpecs_temp = copy.deepcopy(panelSpecs)\n",
    "# hyp_temp = copy.deepcopy(hyp)\n",
    "# steadyStateConditions_df_temp = copy.deepcopy(steadyStateConditions_df)"
   ]
  },
  {
   "cell_type": "code",
   "execution_count": 35,
   "metadata": {},
   "outputs": [],
   "source": [
    "# for el in [panelSpecs_temp[key] for key,value in panelSpecs_temp['decomp'].items()]:\n",
    "#     print(el['geometry'])"
   ]
  },
  {
   "cell_type": "code",
   "execution_count": 36,
   "metadata": {},
   "outputs": [],
   "source": [
    "storage_fp = r'G:\\Drive partagés\\Cercle Hard\\R&D\\Modèles numériques PVT\\PVT-perf-1Dmodel\\StudyForThesis'"
   ]
  },
  {
   "cell_type": "markdown",
   "metadata": {},
   "source": [
    "### MEANDER - Number of tubes"
   ]
  },
  {
   "cell_type": "code",
   "execution_count": null,
   "metadata": {},
   "outputs": [],
   "source": [
    "N_range = np.arange(4,35,1)"
   ]
  },
  {
   "cell_type": "code",
   "execution_count": null,
   "metadata": {},
   "outputs": [],
   "source": [
    "meander_dict = {}\n",
    "\n",
    "for i,N in tqdm(enumerate(N_range), total=len(N_range)):\n",
    "\n",
    "    panelSpecs_local = copy.deepcopy(panelSpecs)\n",
    "    hyp_local = copy.deepcopy(hyp)\n",
    "    steadyStateConditions_df_local = copy.deepcopy(steadyStateConditions_df)\n",
    "\n",
    "    panelSpecs_local['part2']['N_meander'] = N\n",
    "\n",
    "    pr.update_panelSpecs_N_tubes(panelSpecs_local)\n",
    "    pr.update_panelSpecs_after_modif(panelSpecs_local)\n",
    "\n",
    "    df_res, list_res = ty.simu_steadyStateConditions(panelSpecs_local, hyp_local, steadyStateConditions_df_local)\n",
    "\n",
    "    tab_mat,tab_res,X = nm.find_SK(df_res,dic_names,columns_list=[0,1,0,1,0,0,0,0,0],options=[],IAM=False,LSM='nnls')\n",
    "\n",
    "    meander_dict[N] = {'df_res' : copy.deepcopy(df_res), 'list_res' : copy.deepcopy(list_res), 'X' : copy.deepcopy(X)}"
   ]
  },
  {
   "cell_type": "code",
   "execution_count": 41,
   "metadata": {},
   "outputs": [],
   "source": [
    "Ntubes_dict = dp.load_pickle(storage_fp, \"V4.NI_meander_calibrated_ssCforStudy_Ntubes_dfresXlists\")"
   ]
  },
  {
   "cell_type": "markdown",
   "metadata": {},
   "source": [
    "### HARP - Number of tubes"
   ]
  },
  {
   "cell_type": "code",
   "execution_count": null,
   "metadata": {},
   "outputs": [],
   "source": [
    "Dtube_range = np.array([0.001,0.003,0.005,0.01,0.02,0.03])\n",
    "\n",
    "harp_dict = {}\n",
    "\n",
    "# panelSpecs['part2']['e_tube'] = 0.001\n",
    "\n",
    "for _, Dtube in enumerate(Dtube_range):\n",
    "\n",
    "    print(Dtube)\n",
    "\n",
    "    N_max = panelSpecs['part2']['w_abs']/(Dtube + 2*panelSpecs['part2']['e_tube'])\n",
    "    N_range = np.arange(4,N_max,8)\n",
    "\n",
    "    for i, N in tqdm(enumerate(N_range), total=len(N_range)):\n",
    "\n",
    "        panelSpecs_local = copy.deepcopy(panelSpecs)\n",
    "        hyp_local = copy.deepcopy(hyp)\n",
    "        steadyStateConditions_df_local = copy.deepcopy(steadyStateConditions_df)\n",
    "\n",
    "        panelSpecs_local['part2']['H_tube'] = Dtube\n",
    "        panelSpecs_local['part2']['w_tube'] = Dtube\n",
    "        panelSpecs_local['part2']['N_harp'] = N\n",
    "\n",
    "        panelSpecs_local['part2']['update_tube_perimeter_for_convection'] = 1\n",
    "\n",
    "        pr.update_panelSpecs_N_tubes(panelSpecs_local)\n",
    "        pr.update_panelSpecs_after_modif(panelSpecs_local)\n",
    "\n",
    "        df_res, list_res = ty.simu_steadyStateConditions(panelSpecs_local, hyp_local, steadyStateConditions_df_local)\n",
    "\n",
    "        tab_mat,tab_res,X = nm.find_SK(df_res,dic_names,columns_list=[0,1,0,1,0,0,0,0,0],options=[],IAM=False,LSM='nnls')\n",
    "\n",
    "        harp_dict[(Dtube,N)] = {'panelSpecs' : copy.deepcopy(panelSpecs_local),\n",
    "                                 'df_res' : copy.deepcopy(df_res),\n",
    "                                 'list_res' : copy.deepcopy(list_res),\n",
    "                                 'X' : copy.deepcopy(X)}"
   ]
  },
  {
   "cell_type": "code",
   "execution_count": null,
   "metadata": {},
   "outputs": [],
   "source": [
    "harp_dict[(0.001, 200)]['df_res'][['T_fluid_in','T_fluid_out','Qdot/AG','T_amb','u']]"
   ]
  },
  {
   "cell_type": "code",
   "execution_count": null,
   "metadata": {},
   "outputs": [],
   "source": []
  },
  {
   "cell_type": "code",
   "execution_count": null,
   "metadata": {},
   "outputs": [],
   "source": [
    "harp_dict[(0.01, 36)]['panelSpecs']['part2']['p_ext_tube']"
   ]
  },
  {
   "cell_type": "code",
   "execution_count": null,
   "metadata": {},
   "outputs": [],
   "source": [
    "harp_dict[(0.001, 204)]['panelSpecs']['part2']['p_ext_tube']"
   ]
  },
  {
   "cell_type": "markdown",
   "metadata": {},
   "source": [
    "### HARP - PLOT OF B1 VS. NUMBER OF TUBES FOR DIFFERENT DIAMETERS"
   ]
  },
  {
   "cell_type": "code",
   "execution_count": null,
   "metadata": {},
   "outputs": [],
   "source": [
    "Dtube_range"
   ]
  },
  {
   "cell_type": "code",
   "execution_count": null,
   "metadata": {},
   "outputs": [],
   "source": [
    "colors = ['olive', 'green', 'blue', 'orange', 'red', 'grey']\n",
    "colors_lighter = [rconfig.get_hex_code(color, 70) for color in colors]\n",
    "colors = [rconfig.get_hex_code(color, 100) for color in colors]\n",
    "linestyles = ['-', '--',  (5, (10, 3)), '-.', (0, (1, 1)), (0, (3, 5, 1, 5))]\n",
    "markers = ['o', 's', 'd', 'X', 'v', '^']\n",
    "\n",
    "# Main plot: plotting L_f0_range on x-axis\n",
    "fig, ax1 = plt.subplots(figsize=(rconfig.wcol_in, rconfig.hfig(0.3, unit=\"in\")))\n",
    "\n",
    "# Set the new x-axis values for the number of tubes (assuming you have this data)\n",
    "\n",
    "\n",
    "# Create the secondary Y-axis (ax2) on the right\n",
    "ax2 = ax1.twinx()\n",
    "\n",
    "X_list = Ntubes_dict['X_list']\n",
    "X0 = [X_list[i][0] for i in range(len(X_list))]\n",
    "meander_b1 = [X0[i][1] - 3*X0[i][3]  for i in range(len(X0))]\n",
    "\n",
    "b1_transformed = (np.array(meander_b1) - y_ref)/y_ref\n",
    "N_range = np.arange(4, 35, 1)\n",
    "ax2.plot(N_range, b1_transformed, label=' ', linewidth=0.)\n",
    "# ax1.plot(N_range, [X0[i][1] - 3*X0[i][3]  for i in range(len(X0))], label = 'No fin', color=colors[0], linestyle=linestyles[0], linewidth = 1.5)\n",
    "\n",
    "ax2.set_ylabel('Relative increase in $b_{1}$ vs. reference')\n",
    "\n",
    "for _, Dtube in enumerate(Dtube_range):\n",
    "\n",
    "    N_max = panelSpecs['part2']['w_abs']/(Dtube + 2*panelSpecs['part2']['e_tube'])\n",
    "    N_range = np.arange(4,N_max,8)\n",
    "\n",
    "    harp_b1_list = [harp_dict[(Dtube,N)]['X'][0][1] - 3*harp_dict[(Dtube,N)]['X'][0][3] for N in N_range]\n",
    "\n",
    "    ax1.scatter(N_range, harp_b1_list, label=f'Dtube = {Dtube} m', color=colors[_], marker=markers[_])\n",
    "\n",
    "ax1.set_xlabel('Number of tubes')\n",
    "ax1.set_ylabel(r\"$b_{1} = A_1(0) \\quad [W / m^{2} K]$\")\n",
    "\n",
    "ax1.grid(axis='x', linewidth=0.5, color=rconfig.get_hex_code('grey', 70))\n",
    "ax2.grid(linewidth=0.5, color=rconfig.get_hex_code('grey', 70))\n",
    "\n",
    "# Combine the legends of both axes\n",
    "lines1, labels1 = ax1.get_legend_handles_labels()\n",
    "# lines3, labels3 = ax3.get_legend_handles_labels()\n",
    "\n",
    "# Plot combined legend below the x-axis\n",
    "fig.legend(lines1, labels1, loc='upper center', bbox_to_anchor=(0.5, 0.), ncol=3, frameon=False)\n",
    "\n",
    "# Synchronize the two x-axes by matching the limits if needed\n",
    "# ax2.set_xlim(ax3.get_xlim())\n",
    "y_ref = 11.431576403321566\n",
    "ax1.axhline(y=y_ref, color=rconfig.get_hex_code('grey', 150), linestyle='--')\n",
    "\n",
    "# Annotate \"Reference PVT\" on the right of the plot but inside the plot area\n",
    "ax1.annotate(\"Reference PVT\", xy=(0.98, y_ref-0.5), xycoords=('axes fraction', 'data'),\n",
    "             xytext=(0, 0), textcoords='offset points', fontsize=10, ha='right', va='center')\n",
    "\n",
    "# ax1.set_xlim(0, 50)\n",
    "# ax1.set_ylim(0,14)\n",
    "\n",
    "y1_min, y1_max = ax1.get_ylim()  # Get limits of the primary Y-axis\n",
    "ax2.set_ylim((y1_min-y_ref)/y_ref, (y1_max-y_ref)/y_ref)  # Apply the same transformation to match the secondary Y-axis scale\n",
    "ax2.yaxis.set_major_formatter(FuncFormatter(to_percent))\n",
    "\n",
    "fig.show()"
   ]
  },
  {
   "cell_type": "code",
   "execution_count": null,
   "metadata": {},
   "outputs": [],
   "source": [
    "1.3*y_ref"
   ]
  },
  {
   "cell_type": "code",
   "execution_count": null,
   "metadata": {},
   "outputs": [],
   "source": [
    "((harp_dict[(0.01, 68)]['X'][0][1] - 3*harp_dict[(0.01, 68)]['X'][0][3]) + (harp_dict[(0.01, 76)]['X'][0][1] - 3*harp_dict[(0.01, 76)]['X'][0][3]))/2"
   ]
  },
  {
   "cell_type": "code",
   "execution_count": 143,
   "metadata": {},
   "outputs": [],
   "source": [
    "fig.savefig(r'G:\\Mon Drive\\GitHub\\VDE_thesis\\image\\Chapter_TH\\TH-3-fig7.png', dpi=600)"
   ]
  },
  {
   "cell_type": "code",
   "execution_count": null,
   "metadata": {},
   "outputs": [],
   "source": [
    "# harp_dict[(0.03, 12)]['df_res'][['h_fluid','T_fluid_mean','T_tube_mean','Qdot_absfin_back_conv']]\n",
    "# harp_dict[(0.001, 12+8*26)]['df_res'][['h_fluid','T_fluid_mean','T_tube_mean','Qdot_absfin_back_conv']]"
   ]
  },
  {
   "cell_type": "markdown",
   "metadata": {},
   "source": [
    "### Add fins of type 0"
   ]
  },
  {
   "cell_type": "code",
   "execution_count": null,
   "metadata": {},
   "outputs": [],
   "source": [
    "L_f0_range = np.arange(0.005, 0.1, 0.005)\n",
    "N_f0_range = np.array([30,40,50,60,70,80,90,100,110,120,130,140])\n",
    "f0_dict = {}\n",
    "\n",
    "for _, N_f0 in tqdm(enumerate(N_f0_range), total=len(N_f0_range)):\n",
    "\n",
    "    # for i,L_f0 in tqdm(enumerate(L_f0_range), total=len(L_f0_range)):\n",
    "    for i, L_f0 in enumerate(L_f0_range):\n",
    "\n",
    "        panelSpecs_local = copy.deepcopy(panelSpecs)\n",
    "        hyp_local = copy.deepcopy(hyp)\n",
    "        steadyStateConditions_df_local = copy.deepcopy(steadyStateConditions_df)\n",
    "\n",
    "        panelSpecs_local['part2']['Heta'] = L_f0\n",
    "        panelSpecs_local['part2']['N_ail'] = N_f0\n",
    "\n",
    "        panelSpecs_local['part2']['lambda_fin'] = 226\n",
    "        panelSpecs_local['part2']['eps_fin'] = 0.09\n",
    "\n",
    "        panelSpecs_local['part2']['D'] = panelSpecs_local['part2']['w_abs'] / panelSpecs_local['part2']['N_ail']\n",
    "\n",
    "        panelSpecs_local['part2']['fin_0'] = 1\n",
    "        panelSpecs_local['part2']['N_f0'] = panelSpecs_local['part2']['N_ail']\n",
    "        panelSpecs_local['part2']['L_f0'] = panelSpecs_local['part2']['Heta']\n",
    "        panelSpecs_local['part2']['delta_f0'] = panelSpecs_local['part2']['Dext_tube']\n",
    "        panelSpecs_local['part2']['delta_f0_int'] = panelSpecs_local['part2']['p_ext_tube'] / 2\n",
    "\n",
    "        # pr.update_panelSpecs_N_tubes(panelSpecs_local)\n",
    "        pr.update_panelSpecs_after_modif(panelSpecs_local)\n",
    "\n",
    "        df_res, list_res = ty.simu_steadyStateConditions(panelSpecs_local, hyp_local, steadyStateConditions_df_local)\n",
    "\n",
    "        tab_mat,tab_res,X = nm.find_SK(df_res,dic_names,columns_list=[0,1,0,1,0,0,0,0,0],options=[],IAM=False,LSM='nnls')\n",
    "\n",
    "        f0_dict[(N_f0,L_f0)] = {'panelSpecs' : copy.deepcopy(panelSpecs_local), \n",
    "                                'df_res' : copy.deepcopy(df_res),\n",
    "                                'list_res' : copy.deepcopy(list_res),\n",
    "                                'X' : copy.deepcopy(X)}"
   ]
  },
  {
   "cell_type": "code",
   "execution_count": null,
   "metadata": {},
   "outputs": [],
   "source": [
    "ty.recap_residuals_steadyStateConditions(panelSpecs, f0_dict[(60,0.02)]['df_res'], f0_dict[(60,0.02)]['list_res'])"
   ]
  },
  {
   "cell_type": "code",
   "execution_count": null,
   "metadata": {},
   "outputs": [],
   "source": [
    "f0_dict[(30,0.02)]['df_res'][['h_f0', 'Qdot_tube_back', 'Qdot_tube_back_rad', 'Qdot_absfin_back_conv', 'Qdot_f0', 'Qdot_tube_fluid']]"
   ]
  },
  {
   "cell_type": "code",
   "execution_count": null,
   "metadata": {},
   "outputs": [],
   "source": [
    "f0_dict[(60,0.02)]['df_res'][['h_f0', 'Qdot_tube_back','Qdot_tube_back_rad', 'Qdot_absfin_back_conv', 'Qdot_f0','Qdot_tube_fluid']]"
   ]
  },
  {
   "cell_type": "code",
   "execution_count": 12,
   "metadata": {},
   "outputs": [],
   "source": [
    "dp.write_pickle(storage_fp, \"V4.NI_meander_calibrated_ssCforStudy_f0_parametric_Nf0_Lf0\", f0_dict)"
   ]
  },
  {
   "cell_type": "code",
   "execution_count": 79,
   "metadata": {},
   "outputs": [],
   "source": [
    "L_f0_range = np.arange(0.005, 0.1, 0.005)\n",
    "N_f0_range = np.array([30,40,50,60,70,80,90,100,110,120,130,140])\n",
    "f0_dict = dp.load_pickle(storage_fp, \"V4.NI_meander_calibrated_ssCforStudy_f0_parametric_Nf0_Lf0\")"
   ]
  },
  {
   "cell_type": "markdown",
   "metadata": {},
   "source": [
    "### PLOT L_F0 and S_f0"
   ]
  },
  {
   "cell_type": "code",
   "execution_count": null,
   "metadata": {},
   "outputs": [],
   "source": [
    "y_ref*1.1\n",
    "print(N_range)\n",
    "meander_b1[24-4]"
   ]
  },
  {
   "cell_type": "code",
   "execution_count": null,
   "metadata": {},
   "outputs": [],
   "source": [
    "# Assuming rconfig and other variables are defined, here's the core part:\n",
    "fig, ax1 = plt.subplots(figsize=(rconfig.wcol_in, rconfig.hfig(0.3, unit=\"in\")))\n",
    "\n",
    "y_ref = 11.431576403321566\n",
    "\n",
    "# Main Y-axis plot (ax1)\n",
    "N_range = np.arange(4, 35, 1)\n",
    "X0 = [X_list[i][0] for i in range(len(X_list))]  # Assuming X_list is already defined.\n",
    "\n",
    "meander_b1 = [X0[i][1] - 3 * X0[i][3] for i in range(len(X0))]\n",
    "ax1.plot(N_range, meander_b1, label='No fin', \n",
    "         color=colors[0], linestyle=linestyles[0], linewidth=1.5)\n",
    "\n",
    "ax1.set_xlabel('Number of tubes')\n",
    "ax1.set_ylabel(r\"$b_{1} = A_1(0) \\quad [W / m^{2} K]$\")\n",
    "ax1.set_xlim(0, 35)\n",
    "\n",
    "# Create the secondary Y-axis (ax2) on the right\n",
    "ax2 = ax1.twinx()\n",
    "\n",
    "# Applying a simple transformation to the Y values for the secondary Y-axis.\n",
    "# In this case, let's assume a linear transformation (e.g., multiplying by 2).\n",
    "b1_transformed = (np.array(meander_b1) - y_ref)/y_ref\n",
    "N_range = np.arange(4, 35, 1)\n",
    "ax2.plot(N_range, b1_transformed, label=' ', linewidth=0.)\n",
    "\n",
    "ax2.set_ylabel('Relative increase in $b_{1}$ vs. reference')\n",
    "ax2.set_xlim(0, 35)\n",
    "\n",
    "# Customizing and plotting the secondary X-axis (ax3) as you already have:\n",
    "ax3 = ax1.twiny()\n",
    "for i, N_f0 in enumerate([30, 60, 90, 120]):\n",
    "    b1_list = [X[0][1] - 3*X[0][3] for X in [f0_dict[(N_f0, L_f0)]['X'] for L_f0 in L_f0_range]]\n",
    "    ax3.scatter(L_f0_range * 1000, b1_list, label=f\"$S_{{f0}} = {round((panelSpecs['part2']['w_abs'] / N_f0) * 1000, 1)} mm$\", \n",
    "                marker=markers[i + 1], color=colors[i + 1])\n",
    "\n",
    "ax3.set_xlabel(\"Fin height $L_{f0}$ [mm]\")\n",
    "ax3.set_xlim(0, 70)\n",
    "\n",
    "# Adding the grid\n",
    "ax1.grid(axis='x', linewidth=0.5, color=rconfig.get_hex_code('grey', 70))\n",
    "ax2.grid(linewidth=0.5, color=rconfig.get_hex_code('grey', 70))\n",
    "\n",
    "# Combine the legends of both Y-axes\n",
    "lines1, labels1 = ax1.get_legend_handles_labels()\n",
    "lines2, labels2 = ax2.get_legend_handles_labels()\n",
    "lines3, labels3 = ax3.get_legend_handles_labels()\n",
    "\n",
    "# Plot combined legend\n",
    "fig.legend(lines1 + lines2 + lines3, labels1 + labels2 + labels3, loc='upper center', \n",
    "           bbox_to_anchor=(0.5, 0.), ncol=3, frameon=False)\n",
    "\n",
    "# Add a reference line\n",
    "ax1.axhline(y=y_ref, color=rconfig.get_hex_code('grey', 150), linestyle='--')\n",
    "\n",
    "# Annotate the reference line\n",
    "ax1.annotate(\"Reference PVT\", xy=(0.98, y_ref - 0.5), xycoords=('axes fraction', 'data'),\n",
    "             xytext=(0, 0), textcoords='offset points', fontsize=10, ha='right', va='center')\n",
    "\n",
    "y1_min, y1_max = ax1.get_ylim()  # Get limits of the primary Y-axis\n",
    "ax2.set_ylim((y1_min-y_ref)/y_ref, (y1_max-y_ref)/y_ref)  # Apply the same transformation to match the secondary Y-axis scale\n",
    "ax2.yaxis.set_major_formatter(FuncFormatter(to_percent))\n",
    "\n",
    "# Display the figure\n",
    "plt.show()"
   ]
  },
  {
   "cell_type": "code",
   "execution_count": null,
   "metadata": {},
   "outputs": [],
   "source": [
    "f0_dict.keys()"
   ]
  },
  {
   "cell_type": "code",
   "execution_count": null,
   "metadata": {},
   "outputs": [],
   "source": [
    "part2Specs = f0_dict[(120, 0.040)]['panelSpecs']['part2']"
   ]
  },
  {
   "cell_type": "code",
   "execution_count": 117,
   "metadata": {},
   "outputs": [],
   "source": [
    "fig.savefig(r'G:\\Mon Drive\\GitHub\\VDE_thesis\\image\\Chapter_TH\\TH-3-fig5.png', dpi=600)"
   ]
  },
  {
   "cell_type": "markdown",
   "metadata": {},
   "source": [
    "### Add fins of type 1"
   ]
  },
  {
   "cell_type": "code",
   "execution_count": null,
   "metadata": {},
   "outputs": [],
   "source": [
    "N_f1_range = np.array([30,40,50,60,70,80,90,100,110,120,130,140])\n",
    "# D_tube_range = np.array([0.01, 0.02, 0.03, 0.04, 0.05])\n",
    "\n",
    "f1_dict = {}\n",
    "\n",
    "for _, N_f1 in tqdm(enumerate(N_f1_range), total=len(N_f1_range)):\n",
    "\n",
    "    H_tube = 0.008\n",
    "\n",
    "    X_list = []\n",
    "    df_res_list = []\n",
    "    list_res_list = []\n",
    "\n",
    "    # for i,L_f0 in tqdm(enumerate(L_f0_range), total=len(L_f0_range)):\n",
    "    # for i, L_f1 in enumerate(L_f1_range):\n",
    "\n",
    "    panelSpecs_local = copy.deepcopy(panelSpecs)\n",
    "    hyp_local = copy.deepcopy(hyp)\n",
    "    steadyStateConditions_df_local = copy.deepcopy(steadyStateConditions_df)\n",
    "\n",
    "    panelSpecs_local['part2']['H_tube'] = H_tube\n",
    "    panelSpecs_local['part2']['w_tube'] = H_tube\n",
    "\n",
    "    pr.update_panelSpecs_after_modif(panelSpecs_local)\n",
    "\n",
    "    height = panelSpecs_local['part2']['Dext_tube']\n",
    "\n",
    "    panelSpecs_local['part2']['Heta'] = height\n",
    "    panelSpecs_local['part2']['N_ail'] = N_f1\n",
    "\n",
    "    panelSpecs_local['part2']['lambda_fin'] = 226\n",
    "    panelSpecs_local['part2']['eps_fin'] = 0.09\n",
    "\n",
    "    panelSpecs_local['part2']['D'] = panelSpecs_local['part2']['w_abs'] / panelSpecs_local['part2']['N_ail']\n",
    "\n",
    "    panelSpecs_local['part2']['fin_1'] = 1\n",
    "    panelSpecs_local['part2']['coeff_f1'] = 1.\n",
    "    panelSpecs_local['part2']['N_f1'] = panelSpecs_local['part2']['N_ail']\n",
    "    panelSpecs_local['part2']['L_f1'] = panelSpecs_local['part2']['delta']\n",
    "    panelSpecs_local['part2']['D_f1'] = panelSpecs_local['part2']['D']\n",
    "    panelSpecs_local['part2']['delta_f1'] = panelSpecs_local['part2']['Dext_tube']\n",
    "    panelSpecs_local['part2']['delta_f1_int'] = panelSpecs_local['part2']['p_ext_tube'] / 2\n",
    "\n",
    "    # pr.update_panelSpecs_N_tubes(panelSpecs_local)\n",
    "    pr.update_panelSpecs_after_modif(panelSpecs_local)\n",
    "\n",
    "    df_res, list_res = ty.simu_steadyStateConditions(panelSpecs_local, hyp_local, steadyStateConditions_df_local)\n",
    "\n",
    "    tab_mat,tab_res,X = nm.find_SK(df_res,dic_names,columns_list=[0,1,0,1,0,0,0,0,0],options=[],IAM=False,LSM='nnls')\n",
    "\n",
    "    f1_dict[N_f1] = {'df_res' : copy.deepcopy(df_res), 'list_res' : copy.deepcopy(list_res), 'X' : copy.deepcopy(X)}"
   ]
  },
  {
   "cell_type": "code",
   "execution_count": 19,
   "metadata": {},
   "outputs": [],
   "source": [
    "dp.write_pickle(storage_fp, \"V4.NI_meander_calibrated_ssCforStudy_f1_parametric_Nf1\", f1_dict)"
   ]
  },
  {
   "cell_type": "code",
   "execution_count": 70,
   "metadata": {},
   "outputs": [],
   "source": [
    "N_f1_range = np.array([30,40,50,60,70,80,90,100,110,120,130,140])\n",
    "f1_dict = dp.load_pickle(storage_fp, \"V4.NI_meander_calibrated_ssCforStudy_f1_parametric_Nf1\")"
   ]
  },
  {
   "cell_type": "markdown",
   "metadata": {},
   "source": [
    "### Add fins of type 2"
   ]
  },
  {
   "cell_type": "code",
   "execution_count": null,
   "metadata": {},
   "outputs": [],
   "source": [
    "N_f2_range = np.array([30,40,50,60,70,80,90,100,110,120,130,140])\n",
    "# D_tube_range = np.array([0.01, 0.02, 0.03, 0.04, 0.05])\n",
    "\n",
    "f2_dict = {}\n",
    "\n",
    "for _, N_f2 in tqdm(enumerate(N_f2_range), total=len(N_f2_range)):\n",
    "\n",
    "    H_tube = 0.008\n",
    "\n",
    "    X_list = []\n",
    "    df_res_list = []\n",
    "    list_res_list = []\n",
    "\n",
    "    panelSpecs_local = copy.deepcopy(panelSpecs)\n",
    "    hyp_local = copy.deepcopy(hyp)\n",
    "    steadyStateConditions_df_local = copy.deepcopy(steadyStateConditions_df)\n",
    "\n",
    "    panelSpecs_local['part2']['H_tube'] = H_tube\n",
    "    panelSpecs_local['part2']['w_tube'] = H_tube\n",
    "\n",
    "    pr.update_panelSpecs_after_modif(panelSpecs_local)\n",
    "\n",
    "    height = panelSpecs_local['part2']['Dext_tube']\n",
    "\n",
    "    panelSpecs_local['part2']['Heta'] = height\n",
    "    panelSpecs_local['part2']['N_ail'] = N_f2\n",
    "\n",
    "    panelSpecs_local['part2']['lambda_fin'] = 226\n",
    "    panelSpecs_local['part2']['eps_fin'] = 0.09\n",
    "\n",
    "    panelSpecs_local['part2']['D'] = panelSpecs_local['part2']['w_abs'] / panelSpecs_local['part2']['N_ail']\n",
    "\n",
    "    panelSpecs_local['part2']['fin_2'] = 1\n",
    "\n",
    "    panelSpecs_local['part2']['N_f2'] = panelSpecs_local['part2']['N_ail']\n",
    "    panelSpecs_local['part2']['L_f2'] = panelSpecs_local['part2']['delta']\n",
    "    panelSpecs_local['part2']['D_f2'] = panelSpecs_local['part2']['D']\n",
    "    panelSpecs_local['part2']['delta_f2'] = panelSpecs_local['part2']['Dext_tube']\n",
    "\n",
    "    # pr.update_panelSpecs_N_tubes(panelSpecs_local)\n",
    "    pr.update_panelSpecs_after_modif(panelSpecs_local)\n",
    "\n",
    "    df_res, list_res = ty.simu_steadyStateConditions(panelSpecs_local, hyp_local, steadyStateConditions_df_local)\n",
    "\n",
    "    tab_mat,tab_res,X = nm.find_SK(df_res,dic_names,columns_list=[0,1,0,1,0,0,0,0,0],options=[],IAM=False,LSM='nnls')\n",
    "\n",
    "    f2_dict[N_f2] = {'df_res' : copy.deepcopy(df_res), 'list_res' : copy.deepcopy(list_res), 'X' : copy.deepcopy(X)}"
   ]
  },
  {
   "cell_type": "code",
   "execution_count": 28,
   "metadata": {},
   "outputs": [],
   "source": [
    "dp.write_pickle(storage_fp, \"V4.NI_meander_calibrated_ssCforStudy_f2_parametric_Nf2\", f2_dict)"
   ]
  },
  {
   "cell_type": "code",
   "execution_count": 69,
   "metadata": {},
   "outputs": [],
   "source": [
    "N_f2_range = np.array([30,40,50,60,70,80,90,100,110,120,130,140])\n",
    "f2_dict = dp.load_pickle(storage_fp, \"V4.NI_meander_calibrated_ssCforStudy_f2_parametric_Nf2\")"
   ]
  },
  {
   "cell_type": "code",
   "execution_count": 13,
   "metadata": {},
   "outputs": [],
   "source": []
  },
  {
   "cell_type": "code",
   "execution_count": 14,
   "metadata": {},
   "outputs": [],
   "source": []
  },
  {
   "cell_type": "code",
   "execution_count": null,
   "metadata": {},
   "outputs": [],
   "source": [
    "f1_dict[30]['df_res'][['h_f1', 'Qdot_tube_back', 'Qdot_tube_back_rad', 'Qdot_absfin_back_conv', 'Qdot_f1', 'Qdot_tube_fluid']]"
   ]
  },
  {
   "cell_type": "code",
   "execution_count": null,
   "metadata": {},
   "outputs": [],
   "source": [
    "f2_dict[30]['df_res'][['h_f2', 'Qdot_tube_back', 'Qdot_tube_back_rad', 'Qdot_absfin_back_conv', 'Qdot_f2', 'Qdot_tube_fluid']]"
   ]
  },
  {
   "cell_type": "markdown",
   "metadata": {},
   "source": [
    "### PLOT- FIN 1 and FIN 2"
   ]
  },
  {
   "cell_type": "code",
   "execution_count": null,
   "metadata": {},
   "outputs": [],
   "source": [
    "colors = ['olive', 'green', 'blue', 'orange', 'red']\n",
    "colors_lighter = [rconfig.get_hex_code(color, 70) for color in colors]\n",
    "colors = [rconfig.get_hex_code(color, 100) for color in colors]\n",
    "linestyles = ['-', '--',  (5, (10, 3)), '-.', (0, (1, 1)), (0, (3, 5, 1, 5))]\n",
    "markers = ['o', 's', 'd', 'X', 'v', '^']\n",
    "\n",
    "# Main plot: plotting L_f0_range on x-axis\n",
    "fig, ax1 = plt.subplots(figsize=(rconfig.wcol_in, rconfig.hfig(0.3, unit=\"in\")))\n",
    "\n",
    "# Set the new x-axis values for the number of tubes (assuming you have this data)\n",
    "\n",
    "X_list = Ntubes_dict['X_list']\n",
    "X0 = [X_list[i][0] for i in range(len(X_list))]\n",
    "\n",
    "N_range = np.arange(4,35,1)\n",
    "meander_b1 = [X0[i][1] - 3*X0[i][3]  for i in range(len(X0))]\n",
    "ax1.plot(N_range, meander_b1, label = 'No fin', color=colors[0], linestyle=linestyles[0], linewidth = 1.5)\n",
    "\n",
    "# ax1.plot([],[], color = rconfig.get_hex_code('grey', 150), linestyle = '--', label='Reference PVT')\n",
    "# ax1.plot([],[], linewidth = 0., label=' ')\n",
    "\n",
    "ax2 = ax1.twinx()\n",
    "\n",
    "b1_transformed = (np.array(meander_b1) - y_ref)/y_ref\n",
    "N_range = np.arange(4, 35, 1)\n",
    "ax2.plot(N_range, b1_transformed, linewidth=0.)\n",
    "\n",
    "ax2.set_ylabel('Relative increase in $b_{1}$ vs. reference')\n",
    "\n",
    "ax1.set_xlabel('Number of tubes')\n",
    "ax1.set_ylabel(r\"$b_{1} = A_1(0) \\quad [W / m^{2} K]$\")\n",
    "\n",
    "# Create a secondary x-axis\n",
    "ax3 = ax1.twiny()\n",
    "\n",
    "S_range = [round((panelSpecs['part2']['w_abs']/N_f)*1000,1) for N_f in N_f1_range]\n",
    "\n",
    "f1_b1_list = [f1_dict[N_f1]['X'][0][1] - 3*f1_dict[N_f1]['X'][0][3] for N_f1 in N_f1_range]\n",
    "f2_b1_list = [f2_dict[N_f]['X'][0][1] - 3*f2_dict[N_f]['X'][0][3] for N_f in N_f2_range]\n",
    "\n",
    "ax3.scatter(S_range, f1_b1_list, label = 'Fin 1', marker = markers[1], color=colors[1])\n",
    "ax3.scatter(S_range, f2_b1_list, label = 'Fin 2', marker = markers[3], color=colors[3])\n",
    "\n",
    "# Set labels and legend for the first x-axis\n",
    "ax3.set_xlabel(\"Fin spacing $S_{f}$ [mm]\")\n",
    "\n",
    "ax1.set_xlim(5,35)\n",
    "ax3.set_xlim(5,35)\n",
    "\n",
    "ax1.grid(axis='x', linewidth=0.5, color=rconfig.get_hex_code('grey', 70))\n",
    "ax2.grid(linewidth=0.5, color=rconfig.get_hex_code('grey', 70))\n",
    "\n",
    "# Combine the legends of both axes\n",
    "lines1, labels1 = ax1.get_legend_handles_labels()\n",
    "lines3, labels3 = ax3.get_legend_handles_labels()\n",
    "\n",
    "ax1.set_ylim(10,17)\n",
    "ax3.set_ylim(10,17)\n",
    "\n",
    "# Plot combined legend below the x-axis\n",
    "fig.legend(lines1 + lines3, labels1 + labels3, loc='upper center', bbox_to_anchor=(0.5, 0.), ncol=3, frameon=False)\n",
    "\n",
    "# Synchronize the two x-axes by matching the limits if needed\n",
    "# ax2.set_xlim(ax3.get_xlim())\n",
    "y_ref = 11.431576403321566\n",
    "plt.axhline(y=y_ref, color=rconfig.get_hex_code('grey', 150), linestyle='--')\n",
    "\n",
    "# Annotate \"Reference PVT\" on the right of the plot but inside the plot area\n",
    "ax1.annotate(\"Reference PVT\", xy=(0.98, y_ref-0.5), xycoords=('axes fraction', 'data'),\n",
    "             xytext=(0, 0), textcoords='offset points', fontsize=10, ha='right', va='center')\n",
    "\n",
    "y1_min, y1_max = ax1.get_ylim()  # Get limits of the primary Y-axis\n",
    "ax2.set_ylim((y1_min-y_ref)/y_ref, (y1_max-y_ref)/y_ref)  # Apply the same transformation to match the secondary Y-axis scale\n",
    "ax2.yaxis.set_major_formatter(FuncFormatter(to_percent))\n",
    "\n",
    "fig.show()"
   ]
  },
  {
   "cell_type": "code",
   "execution_count": 139,
   "metadata": {},
   "outputs": [],
   "source": [
    "fig.savefig(r'G:\\Mon Drive\\GitHub\\VDE_thesis\\image\\Chapter_TH\\TH-3-fig6.png', dpi=600)"
   ]
  },
  {
   "cell_type": "code",
   "execution_count": null,
   "metadata": {},
   "outputs": [],
   "source": [
    "colors = ['olive', 'green', 'blue', 'orange', 'red']\n",
    "colors_lighter = [rconfig.get_hex_code(color, 70) for color in colors]\n",
    "colors = [rconfig.get_hex_code(color, 100) for color in colors]\n",
    "linestyles = ['-', '--',  (5, (10, 3)), '-.', (0, (1, 1)), (0, (3, 5, 1, 5))]\n",
    "markers = ['o', 's', 'd', 'X', 'v', '^']\n",
    "\n",
    "# Main plot: plotting L_f0_range on x-axis\n",
    "fig, ax3 = plt.subplots()\n",
    "\n",
    "for i, N_f1 in enumerate([30, 60, 90, 120]):\n",
    "    df_res = f1_dict[N_f1]['df_res']\n",
    "    b1_list = [f1_dict[N_f1]['X'][0][1] - 3*f1_dict[N_f1]['X'][0][3] for D_tube in D_tube_range]\n",
    "\n",
    "    ax3.scatter(D_tube_range, b1_list, \n",
    "                # label=f\"$S_{{f0}} = {round((panelSpecs['part2']['w_abs']/N_f1)*1000,1)} mm$\",\n",
    "                label = f\"$N_{{f1}} = {N_f1}$\",\n",
    "                marker = markers[i+1],\n",
    "                color=colors[i+1]\n",
    "                )\n",
    "    \n",
    "ax3.legend()"
   ]
  },
  {
   "cell_type": "code",
   "execution_count": null,
   "metadata": {},
   "outputs": [],
   "source": []
  },
  {
   "cell_type": "code",
   "execution_count": null,
   "metadata": {},
   "outputs": [],
   "source": [
    "for N_f0 in N_f0_range:\n",
    "    Nf0_dict[N_f0]['list_res_list']"
   ]
  },
  {
   "cell_type": "code",
   "execution_count": null,
   "metadata": {},
   "outputs": [],
   "source": [
    "ty.recap_residuals_steadyStateConditions(panelSpecs_local, f1_dict[(30,0.01)]['df_res'], f1_dict[(30,0.01)]['list_res'])"
   ]
  },
  {
   "cell_type": "code",
   "execution_count": null,
   "metadata": {},
   "outputs": [],
   "source": [
    "Nf0_dict"
   ]
  },
  {
   "cell_type": "code",
   "execution_count": null,
   "metadata": {},
   "outputs": [],
   "source": [
    "panelSpecs['part2']['w_abs'] / 100"
   ]
  },
  {
   "cell_type": "code",
   "execution_count": null,
   "metadata": {},
   "outputs": [],
   "source": [
    "panelSpecs_local['part2']['view_factor_tube']"
   ]
  },
  {
   "cell_type": "code",
   "execution_count": null,
   "metadata": {},
   "outputs": [],
   "source": [
    "# X_list = []\n",
    "\n",
    "# for i,N in tqdm(enumerate(N_range)):\n",
    "\n",
    "#     tab_mat,tab_res,X = nm.find_SK(df_res_list[i],dic_names,columns_list=[1,1,0,1,0,0,1,0,0],options=[],IAM=False,LSM='nnls')\n",
    "#     X_list.append(X)"
   ]
  },
  {
   "cell_type": "code",
   "execution_count": null,
   "metadata": {},
   "outputs": [],
   "source": []
  },
  {
   "cell_type": "code",
   "execution_count": null,
   "metadata": {},
   "outputs": [],
   "source": [
    "for i, N_f0 in enumerate(N_f0_range):\n",
    "\n",
    "    df_res_list = Nf0_dict[N_f0]['df_res_list']\n",
    "    X_list = Nf0_dict[N_f0]['X_list']\n",
    "    X0 = [X_list[i][0] for i in range(len(X_list))]\n",
    "\n",
    "    plt.scatter(L_f0_range,[X0[i][1] - 3*X0[i][3]  for i in range(len(X0))], label = f'N_f0 = {N_f0}')\n",
    "# plt.xlim(0,32)\n",
    "\n",
    "plt.legend()"
   ]
  },
  {
   "cell_type": "code",
   "execution_count": null,
   "metadata": {},
   "outputs": [],
   "source": []
  },
  {
   "cell_type": "code",
   "execution_count": null,
   "metadata": {},
   "outputs": [],
   "source": [
    "L_f0_range[3]"
   ]
  },
  {
   "cell_type": "code",
   "execution_count": null,
   "metadata": {},
   "outputs": [],
   "source": [
    "ty.recap_residuals_steadyStateConditions(Nf0_dict[100]['df_res_list'][3]"
   ]
  },
  {
   "cell_type": "code",
   "execution_count": null,
   "metadata": {},
   "outputs": [],
   "source": [
    "Nf0_dict[30]['df_res_list'][3]['h_back']"
   ]
  },
  {
   "cell_type": "code",
   "execution_count": null,
   "metadata": {},
   "outputs": [],
   "source": [
    "df_res_list[-1][['T_fluid_in','T_fluid_out', 'T_amb']]"
   ]
  },
  {
   "cell_type": "code",
   "execution_count": null,
   "metadata": {},
   "outputs": [],
   "source": [
    "plt.scatter(N_range,[X0[i][0] for i in range(len(X0))])"
   ]
  },
  {
   "cell_type": "code",
   "execution_count": null,
   "metadata": {},
   "outputs": [],
   "source": []
  }
 ],
 "metadata": {
  "kernelspec": {
   "display_name": "model23",
   "language": "python",
   "name": "python3"
  },
  "language_info": {
   "codemirror_mode": {
    "name": "ipython",
    "version": 3
   },
   "file_extension": ".py",
   "mimetype": "text/x-python",
   "name": "python",
   "nbconvert_exporter": "python",
   "pygments_lexer": "ipython3",
   "version": "3.10.5"
  }
 },
 "nbformat": 4,
 "nbformat_minor": 2
}
