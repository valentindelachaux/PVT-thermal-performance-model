{
 "cells": [
  {
   "cell_type": "markdown",
   "metadata": {},
   "source": [
    "Calibrage modèle multi-design"
   ]
  },
  {
   "cell_type": "code",
   "execution_count": null,
   "metadata": {},
   "outputs": [],
   "source": [
    "\n",
    "case = 0 # nb_case = len(stepConditions)\n",
    "\n",
    "# Point de données\n",
    "X = dict([('componentSpecs',componentSpecs), ('stepConditions',stepConditions[case])])\n",
    "\n",
    "# Dictionnaire des paramètres du modèle\n",
    "model_parameters = dict([\n",
    "    ('tau_g', X['componentSpecs']['pv']['tau_g']), # Transmittance glass\n",
    "    ('alpha_g', X['componentSpecs']['pv']['alpha_g']), # Absorptance glass\n",
    "    ('eps_PV', X['componentSpecs']['pv']['eps_PV']), # Émissivité cellule PV\n",
    "    ('eps_g', X['componentSpecs']['pv']['eps_g']), # Émissivité glass\n",
    "    ('eps_hx_top', X['componentSpecs']['main']['eps_hx_top']), # Émissivité de l'échangeur thermique sur le panneau\n",
    "    ('eps_hx_back', X['componentSpecs']['main']['eps_hx_back']), # Émissivité de l'échangeur thermique à l’arrière du panneau\n",
    "    ('eps_ins', X['componentSpecs']['main']['eps_ins']), # Émissivité isolant\n",
    "    ('lambd_air',  X['componentSpecs']['main']['lambd_air']) # Épaisseur de la couche d'air\n",
    "    ])\n",
    "\n"
   ]
  }
 ],
 "metadata": {
  "language_info": {
   "name": "python"
  }
 },
 "nbformat": 4,
 "nbformat_minor": 2
}
