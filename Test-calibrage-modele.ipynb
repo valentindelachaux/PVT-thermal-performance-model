{
 "cells": [
  {
   "cell_type": "code",
   "execution_count": 1,
   "metadata": {},
   "outputs": [],
   "source": [
    "## Standard\n",
    "\n",
    "import os\n",
    "import sys\n",
    "sys.path.append('../RD-systems-and-test-benches')\n",
    "\n",
    "import math\n",
    "from datetime import datetime\n",
    "\n",
    "## Specific\n",
    "\n",
    "from tqdm.notebook import tqdm\n",
    "import copy\n",
    "from concurrent.futures import ProcessPoolExecutor\n",
    "import networkx as nx\n",
    "from itertools import product\n",
    "from itertools import chain\n",
    "\n",
    "## Data handling \n",
    "\n",
    "import pandas as pd\n",
    "import numpy as np\n",
    "import openpyxl as opxl\n",
    "from openpyxl.utils.dataframe import dataframe_to_rows\n",
    "\n",
    "import sklearn.metrics\n",
    "import scipy.constants as scc\n",
    "import seaborn as sns\n",
    "import scipy.integrate as integrate\n",
    "import scipy.optimize as sco\n",
    "\n",
    "## Plot\n",
    "\n",
    "import matplotlib\n",
    "import matplotlib.pyplot as plt\n",
    "import matplotlib.ticker as mtick\n",
    "import scienceplots\n",
    "import matplotlib_inline\n",
    "matplotlib_inline.backend_inline.set_matplotlib_formats('retina')\n",
    "plt.style.use(['science'])\n",
    "\n",
    "\n",
    "import plotly.graph_objects as go\n",
    "import plotly.io as pio\n",
    "\n",
    "from IPython.core.display import HTML\n",
    "\n",
    "## Own modumes\n",
    "\n",
    "import model as ty\n",
    "import heat_transfer as bht\n",
    "import proc as pr\n",
    "\n",
    "import plot_functions_here as pfun\n",
    "import general as gen\n",
    "\n",
    "import thermal.SK_standard as nm\n",
    "import utils.plot_functions as RD_pfun\n",
    "import repo_config as rconfig\n",
    "\n",
    "## Physics\n",
    "\n",
    "import fluids as fds\n",
    "import ht "
   ]
  },
  {
   "cell_type": "code",
   "execution_count": 2,
   "metadata": {},
   "outputs": [],
   "source": [
    "folder_path = r'G:\\Drive partagés\\Cercle Hard\\R&D\\Modèles numériques PVT\\PVT-perf-1Dmodel'\n",
    "geometry_path = os.path.join(folder_path, 'Panels\\\\Panel_V4.1I.xlsx')\n",
    "hypotheses_path = folder_path + '\\\\' + 'Hypotheses\\\\Model_hypotheses.xlsx'\n",
    "condi_path = folder_path + '\\\\' + 'Steady-state conditions inputs\\\\100424-tests-conditions-GMI.xlsx'\n",
    "exp_path = folder_path + '\\\\' + 'Experiments\\\\Experiments-GMI.xlsx'\n",
    "\n",
    "# panelSpecs = pr.import_geometry(geometry_path)\n",
    "# hyp = pr.create_dict_from_excel(hypotheses_path,'Main')\n",
    "\n",
    "# steadyStateConditions_df = pd.read_excel(condi_path,header=2) ## Les deux première lignes ne sont pas à prendre en compte\n",
    "# stepConditions = steadyStateConditions_df.to_dict(orient='records')"
   ]
  },
  {
   "cell_type": "code",
   "execution_count": 3,
   "metadata": {},
   "outputs": [],
   "source": [
    "recap = pd.read_excel(r'G:\\Drive partagés\\Cercle Hard\\R&D\\Thermal performance tests PVT\\Recap_RD_TUV_SSI.xlsx')\n",
    "recap = recap.drop(index=0)\n",
    "recap.dropna(how='all', inplace=True)\n",
    "\n",
    "groups = {key: group for key, group in recap.groupby('Design')}\n",
    "\n",
    "for key, group in groups.items():\n",
    "    pr.convert_to_K(group)"
   ]
  },
  {
   "cell_type": "code",
   "execution_count": 4,
   "metadata": {},
   "outputs": [],
   "source": [
    "triplets = [\n",
    "            {'design_name' : 'V4.1NI',\n",
    "             'test_type' : 'SK'},\n",
    "            {'design_name' : 'V4.1NI',\n",
    "                'test_type' : 'dark'},\n",
    "            {'design_name' : 'V4.1I',\n",
    "                'test_type' : 'SK'},\n",
    "            {'design_name' : 'V4.1I',\n",
    "                'test_type' : 'dark'}\n",
    "                ]\n",
    "\n",
    "for triplet in triplets:\n",
    "             \n",
    "    triplet['panelSpecs'] = pr.import_geometry(os.path.join(f'{folder_path}\\\\Panels', f'Panel_V4.1I.xlsx'))\n",
    "\n",
    "    if triplet['design_name'] == 'V4.1NI':\n",
    "        triplet['panelSpecs']['part2']['lambd_abs_ins'] = 0.\n",
    "        triplet['panelSpecs']['part2']['lambd_tube_ins'] = 0.\n",
    "\n",
    "        pr.update_panelSpecs_after_modif(triplet['panelSpecs'])\n",
    "        \n",
    "    triplet['hyp'] = pr.create_dict_from_excel(hypotheses_path,'Main')\n",
    "    triplet['hyp']['method_h_top_g_exchanger'] = \"forced_with_coeff_steps\"\n",
    "    triplet['steadyStateConditions_df'] = groups[triplet['design_name']].loc[groups[triplet['design_name']]['Type'] == triplet['test_type']].copy()\n",
    "    pr.adjust_steadyStateConditions(triplet['steadyStateConditions_df'],triplet['hyp'])\n",
    "    triplet['steadyStateConditions_df'].reset_index(drop=True,inplace=True)"
   ]
  },
  {
   "cell_type": "code",
   "execution_count": 5,
   "metadata": {},
   "outputs": [],
   "source": [
    "# k_ = 1\n",
    "# tripletk = triplets[k_]\n",
    "\n",
    "# panelSpecs = copy.deepcopy(tripletk['panelSpecs'])\n",
    "# hyp = copy.deepcopy(tripletk['hyp'])\n",
    "# steadyStateConditions_df = tripletk['steadyStateConditions_df']\n",
    "\n",
    "# # hyp['method_h_top_g_exchanger'] = 'forced_turbulent_with_coeff'\n",
    "\n",
    "# # Call the simulation function\n",
    "# df_res, list_res = ty.simu_steadyStateConditions(panelSpecs, hyp, steadyStateConditions_df)"
   ]
  },
  {
   "cell_type": "code",
   "execution_count": 6,
   "metadata": {},
   "outputs": [],
   "source": [
    "# df_residuals = ty.recap_residuals_steadyStateConditions(panelSpecs, df_res, list_res)\n",
    "# df_residuals"
   ]
  },
  {
   "cell_type": "code",
   "execution_count": 7,
   "metadata": {},
   "outputs": [],
   "source": [
    "# df_ref = triplets[k_]['steadyStateConditions_df'].loc[(triplets[k_]['steadyStateConditions_df']['u'] > 2) & (triplets[k_]['steadyStateConditions_df']['u'] < 3)]\n",
    "\n",
    "# plt.scatter(df_ref['T_m - T_amb'], df_ref['Qdot'], marker='+', c=df_ref['u'], cmap='viridis')\n",
    "# plt.colorbar()\n",
    "\n",
    "# plt.scatter(df_res.loc[(df_res['u'] > 2) & (df_res['u'] < 3)]['T_m - T_amb'], df_res.loc[(df_res['u'] > 2) & (df_res['u'] < 3)]['Qdot_tube_fluid'])"
   ]
  },
  {
   "cell_type": "code",
   "execution_count": 8,
   "metadata": {},
   "outputs": [],
   "source": [
    "# triplets[2]['steadyStateConditions_df']"
   ]
  },
  {
   "cell_type": "code",
   "execution_count": 9,
   "metadata": {},
   "outputs": [],
   "source": [
    "# steadyStateConditions = steadyStateConditions_df.to_dict(orient='records')"
   ]
  },
  {
   "cell_type": "code",
   "execution_count": 10,
   "metadata": {},
   "outputs": [],
   "source": [
    "# steadyStateConditions_df = triplets[2]['steadyStateConditions_df']\n",
    "# df_res, list_res = ty.simu_steadyStateConditions(triplets[2]['panelSpecs'],triplets[2]['hyp'],steadyStateConditions_df)\n",
    "# df_res['Qdot_experimental'] = steadyStateConditions_df['Qdot']\n",
    "\n",
    "# mae = sklearn.metrics.mean_absolute_error(df_res['Qdot_tube_fluid'],df_res['Qdot_experimental'])\n",
    "# print(mae)\n",
    "# df_res[['u', 'Qdot_experimental','Qdot_tube_fluid']]"
   ]
  },
  {
   "cell_type": "code",
   "execution_count": 11,
   "metadata": {},
   "outputs": [],
   "source": [
    "# df_one, res = ty.simu_one_steady_state_all_he(panelSpecs, steadyStateConditions[0], hyp)"
   ]
  },
  {
   "cell_type": "markdown",
   "metadata": {},
   "source": [
    "### Implementation"
   ]
  },
  {
   "cell_type": "code",
   "execution_count": 12,
   "metadata": {},
   "outputs": [],
   "source": [
    "mapping_parameters_bounds = {\n",
    "\n",
    "    'V4.1NI' : {\n",
    "        'panelSpecs': {\n",
    "            'meander' : {\n",
    "                    'lambd_air' : (0.05e-3,2.e-3),\n",
    "            }\n",
    "        }\n",
    "    },\n",
    "\n",
    "    'V4.1I' : {\n",
    "        'panelSpecs': {\n",
    "            'meander' : {\n",
    "                    'lambd_air' : (0.05e-3,2.e-3),\n",
    "            }\n",
    "        }\n",
    "    },\n",
    "\n",
    "    'shared_designs' : {\n",
    "        'panelSpecs': {\n",
    "            'pv' : {\n",
    "                    'tau_g' : (0.87, 0.93),\n",
    "                    'alpha_g' : (0.03,0.09),\n",
    "                    # 'alpha_PV' : (0.87, 0.93),\n",
    "                    'eps_PV' : (0.85, 0.95),\n",
    "                    'eps_g' : (0.85, 0.95),\n",
    "            },\n",
    "            'meander' : {\n",
    "                    'l_c' : (0.1e-3,0.6e-3),\n",
    "                    'eps_tube' : (0.01,0.20),\n",
    "                    'eps_ins' : (0.25,0.60),\n",
    "            },\n",
    "        }\n",
    "    },\n",
    "\n",
    "    'hyp': {\n",
    "        'coeff_h_top_forced_range0' : (0.5, 3.),\n",
    "        'coeff_h_top_forced_range1' : (0.5, 3.),\n",
    "        'coeff_h_top_forced_range2' : (0.5, 3.),\n",
    "    },\n",
    "}\n",
    "\n",
    "# Function to recursively flatten the parameter bounds\n",
    "def flatten_parameters_bounds(d, parent_keys=[]):\n",
    "    items = []\n",
    "    for k, v in d.items():\n",
    "        if isinstance(v, dict):\n",
    "            items.extend(flatten_parameters_bounds(v, parent_keys + [k]))\n",
    "        else:\n",
    "            items.append((parent_keys + [k], v))\n",
    "    return items\n",
    "\n",
    "# Flatten the parameter bounds and extract parameter paths and bounds\n",
    "flattened_parameters = flatten_parameters_bounds(mapping_parameters_bounds)\n",
    "parameter_paths = [param[0] for param in flattened_parameters]\n",
    "bounds = [param[1] for param in flattened_parameters]\n",
    "\n",
    "mapping_parameters = {tuple(flattened_parameters[j][0]): j for j in range(len(flattened_parameters))}"
   ]
  },
  {
   "cell_type": "code",
   "execution_count": 13,
   "metadata": {},
   "outputs": [],
   "source": [
    "def flatten_dict(d, parent_key=()):\n",
    "    \"\"\" Recursively flattens a nested dictionary. Keys become tuples of the path.\"\"\"\n",
    "    items = []\n",
    "    for k, v in d.items():\n",
    "        new_key = parent_key + (k,)\n",
    "        if isinstance(v, dict):\n",
    "            items.extend(flatten_dict(v, new_key).items())\n",
    "        else:\n",
    "            items.append((new_key, v))\n",
    "    return dict(items)"
   ]
  },
  {
   "cell_type": "code",
   "execution_count": 14,
   "metadata": {},
   "outputs": [],
   "source": [
    "def update_specs(params, design, panelSpecs):\n",
    "    for key in mapping_parameters_bounds[design]['panelSpecs']:\n",
    "        if key in list(set(panelSpecs['decomp'].values())) + ['pv']:\n",
    "            zones = list(panelSpecs['decomp'].keys()) + ['pv'] if key == 'pv' else [_ for _, value in panelSpecs['decomp'].items() if value == key]\n",
    "            for z in zones:\n",
    "                for subkey in mapping_parameters_bounds[design]['panelSpecs'][key]:\n",
    "                    panelSpecs[z][subkey] = params[mapping_parameters[(design, 'panelSpecs', key, subkey)]]\n",
    "\n",
    "                    if subkey == 'eps_tube':\n",
    "                        panelSpecs['part1']['eps_tube'] = params[mapping_parameters[(design, 'panelSpecs', key, subkey)]]\n",
    "                        panelSpecs['part3']['eps_tube'] = params[mapping_parameters[(design, 'panelSpecs', key, subkey)]]\n",
    "        else:\n",
    "            panelSpecs[key] = params[mapping_parameters[(design, 'panelSpecs', key)]]\n",
    "\n",
    "def update_panelSpecs(params, design_name, panelSpecs):\n",
    "    update_specs(params, design_name, panelSpecs)\n",
    "    update_specs(params, 'shared_designs', panelSpecs)\n",
    "    pr.update_panelSpecs_after_modif(panelSpecs)\n",
    "\n",
    "def update_hyp(params, hyp):\n",
    "\n",
    "    for key in mapping_parameters_bounds['hyp']:\n",
    "        hyp[key] = params[mapping_parameters[('hyp', key)]]"
   ]
  },
  {
   "cell_type": "code",
   "execution_count": 15,
   "metadata": {},
   "outputs": [],
   "source": [
    "def simulation_function(params, triplet):\n",
    "\n",
    "    panelSpecs = copy.deepcopy(triplet['panelSpecs'])\n",
    "    hyp = copy.deepcopy(triplet['hyp'])\n",
    "    steadyStateConditions_df = triplet['steadyStateConditions_df']\n",
    "\n",
    "    update_panelSpecs(params, triplet['design_name'], panelSpecs)\n",
    "    update_hyp(params, hyp)\n",
    "\n",
    "    # Call the simulation function\n",
    "    df_res, list_res = ty.simu_steadyStateConditions(panelSpecs, hyp, steadyStateConditions_df)\n",
    "    return df_res\n",
    "\n",
    "\n",
    "# Global counter for objective function calls\n",
    "call_count = 0\n",
    "\n",
    "# def callback_function(xk):\n",
    "#     print(f\"Iteration {len(iteration_history)}: params = {xk}\")\n",
    "#     iteration_history.append(xk.copy())\n",
    "\n",
    "def objective_function(params, triplets):\n",
    "\n",
    "    global call_count\n",
    "    call_count += 1\n",
    "\n",
    "    total_error = 0.0\n",
    "\n",
    "    for triplet in triplets:\n",
    "\n",
    "        df_res = simulation_function(params, triplet)\n",
    "\n",
    "        # Compute the error\n",
    "        error = np.sqrt(((df_res['Qdot_tube_fluid'] - triplet['steadyStateConditions_df']['Qdot']) ** 2).mean())\n",
    "        total_error += error\n",
    "\n",
    "    return total_error\n",
    "\n",
    "def run_optimization(initial_guess, bounds, triplets):\n",
    "    result = sco.minimize(\n",
    "        objective_function,\n",
    "        x0=initial_guess,\n",
    "        args=(triplets,),  # Ensure you're passing the right triplet or list of triplets\n",
    "        bounds=bounds,\n",
    "        method='L-BFGS-B',\n",
    "        options={'disp': True}\n",
    "    )\n",
    "    return result"
   ]
  },
  {
   "cell_type": "code",
   "execution_count": 16,
   "metadata": {},
   "outputs": [],
   "source": [
    "params_init = np.array([9.97600358e-04, 5.31001503e-04, 9.0e-01, 7.38124530e-02,\n",
    "        9.0e-01, 9.0e-01, 2.65959510e-04,\n",
    "        8.45078850e-02, 3.68645143e-01, 1.15642655e+00, 1.63744321e+00,\n",
    "        1.96089536e+00])"
   ]
  },
  {
   "cell_type": "markdown",
   "metadata": {},
   "source": [
    "### Run optimization with sco.minimize, method 'L-BFGS-B'"
   ]
  },
  {
   "cell_type": "code",
   "execution_count": null,
   "metadata": {},
   "outputs": [],
   "source": [
    "# Global optim (4 triplets : V4.1I et V4.1NI en SK et dark)\n",
    "# Number of runs with different initial guesses\n",
    "num_runs = 1\n",
    "\n",
    "# Store the results\n",
    "results = []\n",
    "\n",
    "for run in tqdm(range(num_runs), desc=\"Optimizations\"):\n",
    "    # Random initial guess within bounds\n",
    "    # initial_guess = [np.random.uniform(low=b[0], high=b[1]) for b in bounds]\n",
    "    initial_guess = params_init\n",
    "\n",
    "    # Perform the optimization with the triplet (use triplets[2] or all triplets depending on your intent)\n",
    "    result = run_optimization(initial_guess, \n",
    "                              bounds, \n",
    "                              triplets, \n",
    "                              )  # This is passing one triplet\n",
    "\n",
    "    # Store the result\n",
    "    results.append(result)"
   ]
  },
  {
   "cell_type": "markdown",
   "metadata": {},
   "source": [
    "### Differentiel evolution with intermediate solutions"
   ]
  },
  {
   "cell_type": "code",
   "execution_count": 21,
   "metadata": {},
   "outputs": [],
   "source": [
    "# Define a callback function to store intermediate results\n",
    "intermediate_solutions = []\n",
    "\n",
    "def callback(xk, convergence):\n",
    "    intermediate_solutions.append(xk)\n",
    "\n",
    "result = sco.differential_evolution(\n",
    "    objective_function,\n",
    "    bounds=bounds,\n",
    "    args=(triplets,),\n",
    "    strategy='best1bin',\n",
    "    maxiter=1000,\n",
    "    popsize=15,\n",
    "    tol=0.01,\n",
    "    callback=callback,\n",
    "    polish=False  # Set to False to prevent local search polishing\n",
    ")"
   ]
  },
  {
   "cell_type": "code",
   "execution_count": null,
   "metadata": {},
   "outputs": [],
   "source": [
    "result"
   ]
  },
  {
   "cell_type": "code",
   "execution_count": null,
   "metadata": {},
   "outputs": [],
   "source": [
    "intermediate_solutions"
   ]
  },
  {
   "cell_type": "code",
   "execution_count": 23,
   "metadata": {},
   "outputs": [],
   "source": [
    "params_minima = [{tuple(param[0]): result['x'][i] for i, param in enumerate(flattened_parameters)}]"
   ]
  },
  {
   "cell_type": "code",
   "execution_count": null,
   "metadata": {},
   "outputs": [],
   "source": [
    "params_minima"
   ]
  },
  {
   "cell_type": "code",
   "execution_count": null,
   "metadata": {},
   "outputs": [],
   "source": [
    "# params_manual = params_minima[0]\n",
    "params_manual[ ('hyp', 'coeff_h_top_forced_range0')] = 1.\n",
    "params_manual[ ('hyp', 'coeff_h_top_forced_range2')] = 2.5\n",
    "params_manual"
   ]
  },
  {
   "cell_type": "code",
   "execution_count": 76,
   "metadata": {},
   "outputs": [],
   "source": [
    "df_res_minima = []\n",
    "mae_minima = []\n",
    "rmse_minima = []\n",
    "\n",
    "for params_minimum in params_minima:\n",
    "    mae_minima.append([])\n",
    "    rmse_minima.append([])\n",
    "\n",
    "    df_concat = pd.DataFrame()\n",
    "    for triplet in triplets:\n",
    "        df_res = simulation_function([param for param in params_manual.values()], triplet)\n",
    "\n",
    "        triplet['df_res'] = df_res\n",
    "\n",
    "        df_res['Qdot_experimental'] = triplet['steadyStateConditions_df']['Qdot']\n",
    "        df_concat = pd.concat([df_concat, df_res], axis=0)\n",
    "        mae_minima[-1].append(sklearn.metrics.mean_absolute_error(df_res['Qdot_tube_fluid'], df_res['Qdot_experimental']))\n",
    "        rmse_minima[-1].append(np.sqrt(((df_res['Qdot_tube_fluid'] - triplet['steadyStateConditions_df']['Qdot']) ** 2).mean()))\n",
    "    df_res_minima.append(df_concat)"
   ]
  },
  {
   "cell_type": "code",
   "execution_count": null,
   "metadata": {},
   "outputs": [],
   "source": [
    "k_ = 0\n",
    "\n",
    "u_tuples = [(0.,1.), (1.,2.), (2.,3.)]\n",
    "\n",
    "colors = ['green', 'blue', 'red']\n",
    "\n",
    "for i, u_tuple in enumerate(u_tuples):\n",
    "    u_min, u_max = u_tuple\n",
    "\n",
    "    df_ref = triplets[k_]['steadyStateConditions_df'].loc[(triplets[k_]['steadyStateConditions_df']['u'] > u_min) & (triplets[k_]['steadyStateConditions_df']['u'] < u_max)]\n",
    "    print(len(df_ref))\n",
    "\n",
    "    plt.scatter(df_ref['T_m - T_amb'], df_ref['Qdot'], marker='+', color=colors[i])\n",
    "\n",
    "    df_simu = triplets[k_]['df_res'].sort_values(by='T_m - T_amb')\n",
    "    df_simu = df_simu.loc[(df_simu['u'] > u_min) & (df_simu['u'] < u_max)]\n",
    "\n",
    "    plt.plot(df_simu['T_m - T_amb'], df_simu['Qdot_tube_fluid'], label = f'{u_min} < u < {u_max}', color=colors[i])\n",
    "\n",
    "plt.legend()"
   ]
  },
  {
   "cell_type": "code",
   "execution_count": 29,
   "metadata": {},
   "outputs": [],
   "source": [
    "a = df_res_minima[0][['Qdot_tube_fluid', 'Qdot_experimental']]"
   ]
  },
  {
   "cell_type": "code",
   "execution_count": null,
   "metadata": {},
   "outputs": [],
   "source": []
  },
  {
   "cell_type": "code",
   "execution_count": 30,
   "metadata": {},
   "outputs": [],
   "source": [
    "check = df_res_minima[0][['T_m - T_amb', 'u', 'Qdot_experimental', 'Qdot_tube_fluid']]"
   ]
  },
  {
   "cell_type": "code",
   "execution_count": null,
   "metadata": {},
   "outputs": [],
   "source": [
    "mae_minima"
   ]
  },
  {
   "cell_type": "code",
   "execution_count": null,
   "metadata": {},
   "outputs": [],
   "source": [
    "params_minima"
   ]
  },
  {
   "cell_type": "code",
   "execution_count": null,
   "metadata": {},
   "outputs": [],
   "source": []
  },
  {
   "cell_type": "code",
   "execution_count": null,
   "metadata": {},
   "outputs": [],
   "source": []
  },
  {
   "cell_type": "code",
   "execution_count": null,
   "metadata": {},
   "outputs": [],
   "source": []
  },
  {
   "cell_type": "code",
   "execution_count": null,
   "metadata": {},
   "outputs": [],
   "source": [
    "k = 0\n",
    "plt.scatter(triplets[k]['steadyStateConditions_df']['T_m - T_amb'], triplets[k]['steadyStateConditions_df']['Qdot'], marker='+',\n",
    "            # c=triplets[k]['steadyStateConditions_df']['u'], cmap='viridis',\n",
    "            color = 'blue'\n",
    "            \n",
    "            )\n",
    "plt.colorbar()\n",
    "k = 1\n",
    "plt.scatter(triplets[k]['steadyStateConditions_df']['T_m - T_amb'], triplets[k]['steadyStateConditions_df']['Qdot'], marker='+',\n",
    "            # c=triplets[k]['steadyStateConditions_df']['u'], cmap='plasma',\n",
    "            color='green',\n",
    "            )\n",
    "plt.legend()\n",
    "plt.colorbar()"
   ]
  },
  {
   "cell_type": "code",
   "execution_count": null,
   "metadata": {},
   "outputs": [],
   "source": [
    "df_res_minima[0][['u','Qdot_tube_fluid', 'Qdot_experimental']]"
   ]
  },
  {
   "cell_type": "code",
   "execution_count": null,
   "metadata": {},
   "outputs": [],
   "source": [
    "1500*20/3600"
   ]
  },
  {
   "cell_type": "code",
   "execution_count": null,
   "metadata": {},
   "outputs": [],
   "source": [
    "results"
   ]
  },
  {
   "cell_type": "code",
   "execution_count": null,
   "metadata": {},
   "outputs": [],
   "source": [
    "call_count"
   ]
  },
  {
   "cell_type": "code",
   "execution_count": null,
   "metadata": {},
   "outputs": [],
   "source": []
  },
  {
   "cell_type": "code",
   "execution_count": 16,
   "metadata": {},
   "outputs": [],
   "source": [
    "params_minima = [{tuple(param[0]): result['x'][i] for i, param in enumerate(flattened_parameters)} for result in results]\n",
    "\n",
    "df_res_minima = []\n",
    "rmse_minima = []\n",
    "\n",
    "for params_minimum in params_minima:\n",
    "    rmse_minima.append([])\n",
    "    df_concat = pd.DataFrame()\n",
    "    for triplet in [triplets[2]]:\n",
    "        df_res = simulation_function([param for param in params_minima[0].values()], triplet)\n",
    "        df_res['Qdot_experimental'] = triplet['steadyStateConditions_df']['Qdot']\n",
    "        df_concat = pd.concat([df_concat, df_res], axis=0)\n",
    "        rmse_minima[-1].append(np.sqrt(((df_res['Qdot_tube_fluid'] - triplet['steadyStateConditions_df']['Qdot']) ** 2).mean()))\n",
    "    df_res_minima.append(df_concat)"
   ]
  },
  {
   "cell_type": "code",
   "execution_count": null,
   "metadata": {},
   "outputs": [],
   "source": []
  },
  {
   "cell_type": "code",
   "execution_count": null,
   "metadata": {},
   "outputs": [],
   "source": [
    "# Objective function, bounds, and triplets would be defined here\n",
    "# def objective_function(...):\n",
    "#     pass\n",
    "\n",
    "# Number of runs with different initial guesses\n",
    "num_runs = 10\n",
    "\n",
    "# Store the results\n",
    "results = []\n",
    "\n",
    "# Generate random initial guesses within the bounds\n",
    "initial_guesses = [[np.random.uniform(low=b[0], high=b[1]) for b in bounds] for _ in range(num_runs)]\n",
    "\n",
    "# Use ProcessPoolExecutor to run optimizations in parallel\n",
    "with ProcessPoolExecutor() as executor:\n",
    "    # Parallel execution of the run_optimization function\n",
    "    futures = [executor.submit(run_optimization,\n",
    "                               initial_guess,\n",
    "                               bounds,\n",
    "                               triplets) for initial_guess in initial_guesses]\n",
    "    \n",
    "    # Collect results as they complete\n",
    "    for future in tqdm(futures, desc=\"Optimizations\"):\n",
    "        results.append(future.result())\n",
    "\n",
    "# The results list now contains the result of each optimization"
   ]
  },
  {
   "cell_type": "code",
   "execution_count": null,
   "metadata": {},
   "outputs": [],
   "source": [
    "params_minima = [{tuple(param[0]): result['x'][i] for i, param in enumerate(flattened_parameters)} for result in results]"
   ]
  },
  {
   "cell_type": "code",
   "execution_count": null,
   "metadata": {},
   "outputs": [],
   "source": [
    "# Number of runs with different initial guesses\n",
    "num_runs = 20\n",
    "\n",
    "# Store the results\n",
    "results_all = []\n",
    "\n",
    "try:\n",
    "    # Generate random initial guesses within the bounds\n",
    "    for run in tqdm(range(num_runs), desc=\"Optimizations\"):\n",
    "        # Random initial guess within bounds\n",
    "        initial_guess = [np.random.uniform(low=b[0], high=b[1]) for b in bounds]\n",
    "\n",
    "        # Perform the optimization\n",
    "        result = sco.minimize(\n",
    "            objective_function,\n",
    "            x0=initial_guess,\n",
    "            args=([triplets[2]]),\n",
    "            bounds=bounds,\n",
    "            method='L-BFGS-B'\n",
    "        )\n",
    "\n",
    "        # Store the result\n",
    "        results_all.append(result)\n",
    "\n",
    "except KeyboardInterrupt:\n",
    "    print(\"\\nOptimization interrupted. Partial results saved.\")\n",
    "\n",
    "params_minima_all = [{tuple(param[0]): result['x'][i] for i, param in enumerate(flattened_parameters)} for result in results_all]"
   ]
  },
  {
   "cell_type": "code",
   "execution_count": 12,
   "metadata": {},
   "outputs": [],
   "source": [
    "df_res_minima = []\n",
    "rmse_minima = []\n",
    "\n",
    "for params_minimum in params_minima:\n",
    "    rmse_minima.append([])\n",
    "    df_concat = pd.DataFrame()\n",
    "    for triplet in [triplets[2]]:\n",
    "        df_res = simulation_function([param for param in params_minima[0].values()], triplet)\n",
    "        df_res['Qdot_experimental'] = triplet['steadyStateConditions_df']['Qdot']\n",
    "        df_concat = pd.concat([df_concat, df_res], axis=0)\n",
    "        rmse_minima[-1].append(np.sqrt(((df_res['Qdot_tube_fluid'] - triplet['steadyStateConditions_df']['Qdot']) ** 2).mean()))\n",
    "    df_res_minima.append(df_concat)"
   ]
  },
  {
   "cell_type": "code",
   "execution_count": null,
   "metadata": {},
   "outputs": [],
   "source": [
    "params_minima"
   ]
  },
  {
   "cell_type": "code",
   "execution_count": null,
   "metadata": {},
   "outputs": [],
   "source": [
    "triplets[2]"
   ]
  },
  {
   "cell_type": "code",
   "execution_count": 19,
   "metadata": {},
   "outputs": [],
   "source": [
    "update_panelSpecs([param for param in params_minima[0].values()], triplets[2]['design_name'], triplets[2]['panelSpecs'])"
   ]
  },
  {
   "cell_type": "code",
   "execution_count": null,
   "metadata": {},
   "outputs": [],
   "source": [
    "triplets[2]['panelSpecs']"
   ]
  },
  {
   "cell_type": "code",
   "execution_count": null,
   "metadata": {},
   "outputs": [],
   "source": [
    "df_res_minima[2][['Qdot_tube_fluid', 'Qdot_experimental']]"
   ]
  },
  {
   "cell_type": "code",
   "execution_count": null,
   "metadata": {},
   "outputs": [],
   "source": [
    "rmse_minima"
   ]
  },
  {
   "cell_type": "code",
   "execution_count": null,
   "metadata": {},
   "outputs": [],
   "source": [
    "params_minima"
   ]
  },
  {
   "cell_type": "code",
   "execution_count": null,
   "metadata": {},
   "outputs": [],
   "source": [
    "df_res_minima = []\n",
    "rmse_minima = []\n",
    "\n",
    "rmse_minima.append([])\n",
    "df_concat = pd.DataFrame()\n",
    "for triplet in triplets:\n",
    "    df_res = simulation_function([param for param in params_new[0].values()], triplet)\n",
    "    df_res['Qdot_experimental'] = triplet['steadyStateConditions_df']['Qdot']\n",
    "    df_concat = pd.concat([df_concat, df_res], axis=0)\n",
    "    rmse_minima[-1].append(np.sqrt(((df_res['Qdot_tube_fluid'] - triplet['steadyStateConditions_df']['Qdot']) ** 2).mean()))\n",
    "df_res_minima.append(df_concat)"
   ]
  },
  {
   "cell_type": "code",
   "execution_count": null,
   "metadata": {},
   "outputs": [],
   "source": [
    "flattened_parameters[0]"
   ]
  },
  {
   "cell_type": "code",
   "execution_count": 112,
   "metadata": {},
   "outputs": [],
   "source": []
  },
  {
   "cell_type": "code",
   "execution_count": null,
   "metadata": {},
   "outputs": [],
   "source": [
    "params_minima"
   ]
  },
  {
   "cell_type": "code",
   "execution_count": 91,
   "metadata": {},
   "outputs": [],
   "source": [
    "params_new = [\n",
    "            {\n",
    "            ('V4.1NI', 'panelSpecs', 'meander', 'lambd_air') : triplets[1]['panelSpecs']['part2']['lambd_air'],\n",
    "            ('V4.1I', 'panelSpecs', 'meander', 'lambd_air') : triplets[2]['panelSpecs']['part2']['lambd_air'],\n",
    "            ('shared_designs', 'panelSpecs', 'pv', 'tau_g') : triplets[2]['panelSpecs']['pv']['tau_g'],\n",
    "            ('shared_designs', 'panelSpecs', 'meander', 'eps_tube') : triplets[2]['panelSpecs']['part2']['eps_tube'],\n",
    "            ('shared_designs', 'panelSpecs', 'meander', 'eps_ins') : triplets[2]['panelSpecs']['part2']['eps_ins'],\n",
    "            ('hyp', 'coeff_h_top_forced_range0') : hyp['coeff_h_top_forced_range0'],\n",
    "            ('hyp', 'coeff_h_top_forced_range1') : hyp['coeff_h_top_forced_range1'],\n",
    "            ('hyp', 'coeff_h_top_forced_range2') : hyp['coeff_h_top_forced_range2']\n",
    "            }\n",
    "            ]"
   ]
  },
  {
   "cell_type": "code",
   "execution_count": null,
   "metadata": {},
   "outputs": [],
   "source": [
    "params_new"
   ]
  },
  {
   "cell_type": "code",
   "execution_count": null,
   "metadata": {},
   "outputs": [],
   "source": [
    "params_minima[0]"
   ]
  },
  {
   "cell_type": "code",
   "execution_count": null,
   "metadata": {},
   "outputs": [],
   "source": [
    "[params for params in params_new[0].values()]"
   ]
  },
  {
   "cell_type": "code",
   "execution_count": 95,
   "metadata": {},
   "outputs": [],
   "source": []
  },
  {
   "cell_type": "code",
   "execution_count": null,
   "metadata": {},
   "outputs": [],
   "source": [
    "rmse_minima"
   ]
  },
  {
   "cell_type": "code",
   "execution_count": null,
   "metadata": {},
   "outputs": [],
   "source": [
    "df_res_minima[0][['Qdot_experimental', 'Qdot_tube_fluid']]"
   ]
  },
  {
   "cell_type": "code",
   "execution_count": 68,
   "metadata": {},
   "outputs": [],
   "source": [
    "# flattened_triplets = flatten_dict(triplets)\n",
    "# flattened_hyp = flatten_dict(hyp)\n",
    "\n",
    "# # Combine the results into a single dictionary\n",
    "# params_new = [flattened_triplets | flattened_hyp]"
   ]
  },
  {
   "cell_type": "code",
   "execution_count": null,
   "metadata": {},
   "outputs": [],
   "source": [
    "flattened_parameters"
   ]
  },
  {
   "cell_type": "code",
   "execution_count": null,
   "metadata": {},
   "outputs": [],
   "source": [
    "params_minima"
   ]
  },
  {
   "cell_type": "code",
   "execution_count": 35,
   "metadata": {},
   "outputs": [],
   "source": []
  },
  {
   "cell_type": "code",
   "execution_count": 54,
   "metadata": {},
   "outputs": [],
   "source": [
    "ref = copy.deepcopy(triplets[1]['panelSpecs'])"
   ]
  },
  {
   "cell_type": "code",
   "execution_count": 55,
   "metadata": {},
   "outputs": [],
   "source": [
    "update_panelSpecs([params[1] for params in params_minima[0]], triplets[1]['design_name'], triplets[1]['panelSpecs'])"
   ]
  },
  {
   "cell_type": "code",
   "execution_count": null,
   "metadata": {},
   "outputs": [],
   "source": [
    "triplets[1]"
   ]
  },
  {
   "cell_type": "code",
   "execution_count": null,
   "metadata": {},
   "outputs": [],
   "source": [
    "df_res_minima[0][['Qdot_experimental', 'Qdot_tube_fluid']]"
   ]
  },
  {
   "cell_type": "code",
   "execution_count": null,
   "metadata": {},
   "outputs": [],
   "source": [
    "rmse_minima"
   ]
  },
  {
   "cell_type": "code",
   "execution_count": null,
   "metadata": {},
   "outputs": [],
   "source": [
    "df_res[['Qdot_top_conv','Qdot_top_rad','Qdot_PV_sky','Qdot_absfin_back_conv','Qdot_absfin_back_rad','Qdot_tube_back_conv', 'Qdot_tube_back_rad']]"
   ]
  },
  {
   "cell_type": "code",
   "execution_count": null,
   "metadata": {},
   "outputs": [],
   "source": [
    "df_res['T_absfin_mean']"
   ]
  },
  {
   "cell_type": "code",
   "execution_count": null,
   "metadata": {},
   "outputs": [],
   "source": [
    "df_res[['T_fluid_mean','T_absfin_mean','T_ins_absfin_mean']] - 273.15"
   ]
  },
  {
   "cell_type": "code",
   "execution_count": null,
   "metadata": {},
   "outputs": [],
   "source": [
    "for subkey in mapping_parameters_bounds['panelSpecs'][key]:"
   ]
  },
  {
   "cell_type": "code",
   "execution_count": null,
   "metadata": {},
   "outputs": [],
   "source": [
    "panelSpecs_copy['part1']['alpha_g']"
   ]
  },
  {
   "cell_type": "code",
   "execution_count": null,
   "metadata": {},
   "outputs": [],
   "source": [
    "params_minima"
   ]
  },
  {
   "cell_type": "code",
   "execution_count": null,
   "metadata": {},
   "outputs": [],
   "source": [
    "df_res = simulation_function([param[1] for param in params_minima[0]], panelSpecs_copy, hyp_copy, steadyStateConditions_df,mapping_parameters_bounds)"
   ]
  },
  {
   "cell_type": "code",
   "execution_count": null,
   "metadata": {},
   "outputs": [],
   "source": [
    "steadyStateConditions_df['model'] = df_res['Qdot_tube_fluid']\n",
    "steadyStateConditions_df['relative_error'] = (((steadyStateConditions_df['Qdot'] - steadyStateConditions_df['model']) / steadyStateConditions_df['Qdot'])*100)\n",
    "steadyStateConditions_df[['Qdot', 'model', 'T_m - T_amb', 'u', 'relative_error']]"
   ]
  },
  {
   "cell_type": "code",
   "execution_count": null,
   "metadata": {},
   "outputs": [],
   "source": [
    "params_minima"
   ]
  },
  {
   "cell_type": "code",
   "execution_count": null,
   "metadata": {},
   "outputs": [],
   "source": [
    "print(panelSpecs['part2']['tau_g'])\n",
    "print(panelSpecs['part2']['alpha_g'])\n",
    "print(panelSpecs['part2']['alpha_PV'])\n",
    "print(panelSpecs['part2']['eps_PV'])\n",
    "# print(panelSpecs['part2']['eps_g'])"
   ]
  },
  {
   "cell_type": "code",
   "execution_count": null,
   "metadata": {},
   "outputs": [],
   "source": [
    "params_minima"
   ]
  },
  {
   "cell_type": "code",
   "execution_count": null,
   "metadata": {},
   "outputs": [],
   "source": [
    "[param[1] for param in params_minima[0]]"
   ]
  },
  {
   "cell_type": "code",
   "execution_count": 10,
   "metadata": {},
   "outputs": [],
   "source": []
  },
  {
   "cell_type": "code",
   "execution_count": null,
   "metadata": {},
   "outputs": [],
   "source": [
    "df_res['Qdot_tube_fluid']"
   ]
  },
  {
   "cell_type": "code",
   "execution_count": 11,
   "metadata": {},
   "outputs": [],
   "source": [
    "flatten_params_minima = list(chain(*params_minima))"
   ]
  },
  {
   "cell_type": "code",
   "execution_count": null,
   "metadata": {},
   "outputs": [],
   "source": []
  },
  {
   "cell_type": "code",
   "execution_count": null,
   "metadata": {},
   "outputs": [],
   "source": [
    "for params in tqdm(params_minima, desc=\"Simulations\"):\n",
    "    df_res_minima.append( simulation_function(params, panelSpecs_copy, hyp_copy, steadyStateConditions_df) )\n",
    "    rmse_minima.append( np.sqrt(((df_res['Qdot_tube_fluid'] - steadyStateConditions_df['Qdot']) ** 2).mean()) )"
   ]
  },
  {
   "cell_type": "code",
   "execution_count": 25,
   "metadata": {},
   "outputs": [],
   "source": [
    "min_params = [ results[0]['x'][i] for i in range(len(results[0]['x']))]"
   ]
  },
  {
   "cell_type": "code",
   "execution_count": 27,
   "metadata": {},
   "outputs": [],
   "source": [
    "df_res = simulation_function(min_params, panelSpecs_copy, hyp_copy, steadyStateConditions_df)"
   ]
  },
  {
   "cell_type": "code",
   "execution_count": 31,
   "metadata": {},
   "outputs": [],
   "source": [
    "steadyStateConditions_df['model'] = df_res['Qdot_tube_fluid']"
   ]
  },
  {
   "cell_type": "code",
   "execution_count": null,
   "metadata": {},
   "outputs": [],
   "source": [
    "steadyStateConditions_df"
   ]
  },
  {
   "cell_type": "code",
   "execution_count": null,
   "metadata": {},
   "outputs": [],
   "source": [
    "df_res = simulation_function([[0.6]], panelSpecs, hyp, steadyStateConditions_df)"
   ]
  },
  {
   "cell_type": "code",
   "execution_count": 30,
   "metadata": {},
   "outputs": [],
   "source": [
    "# Create the initial guess as the midpoint of the bounds\n",
    "initial_guess = [\n",
    "    (b[0] + b[1]) / 2 for b in bounds\n",
    "]\n",
    "\n",
    "# Prepare the templates (copies of your original dictionaries)\n",
    "panelSpecs_template = panelSpecs.copy()\n",
    "hyp_copy = hyp.copy()"
   ]
  },
  {
   "cell_type": "code",
   "execution_count": 28,
   "metadata": {},
   "outputs": [],
   "source": [
    "initial_guess = [0.2]"
   ]
  },
  {
   "cell_type": "code",
   "execution_count": 31,
   "metadata": {},
   "outputs": [],
   "source": [
    "# Perform the optimization using L-BFGS-B method\n",
    "result = sco.minimize(\n",
    "    objective_function,\n",
    "    x0=initial_guess,\n",
    "    args=(panelSpecs_copy, hyp_copy, steadyStateConditions_df, steadyStateConditions_df),\n",
    "    bounds=bounds,\n",
    "    method='L-BFGS-B'\n",
    ")\n",
    "\n",
    "# Extract the optimal parameters\n",
    "optimal_params = result.x"
   ]
  },
  {
   "cell_type": "code",
   "execution_count": 31,
   "metadata": {},
   "outputs": [],
   "source": [
    "# Define bounds as a list of tuples\n",
    "bounds_list = bounds\n",
    "\n",
    "result = sco.differential_evolution(\n",
    "    objective_function,\n",
    "    bounds=bounds_list,\n",
    "    args=(panelSpecs_template, hyp_copy, steadyStateConditions_df, steadyStateConditions_df),\n",
    "    strategy='best1bin',\n",
    "    maxiter=1000,\n",
    "    popsize=15,\n",
    "    tol=0.01,\n",
    ")\n",
    "\n",
    "optimal_params = result.x"
   ]
  },
  {
   "cell_type": "code",
   "execution_count": null,
   "metadata": {},
   "outputs": [],
   "source": [
    "optimal_params"
   ]
  },
  {
   "cell_type": "code",
   "execution_count": 11,
   "metadata": {},
   "outputs": [],
   "source": [
    "df_res, list_res = simulation_function(params, panelSpecs, hyp, steadyStateConditions_df)"
   ]
  },
  {
   "cell_type": "code",
   "execution_count": null,
   "metadata": {},
   "outputs": [],
   "source": [
    "df_res_list = []\n",
    "mae_list = []\n",
    "rmse_list = []\n",
    "\n",
    "for i, params in tqdm(enumerate(params_list), total=len(params_list)):\n",
    "\n",
    "    df_res = simulation_function(params, panelSpecs, hyp, steadyStateConditions_df)\n",
    "    mae = np.abs(df_res['Qdot_tube_fluid'] - steadyStateConditions_df['Qdot']).mean()\n",
    "    rmse = np.sqrt(((df_res['Qdot_tube_fluid'] - steadyStateConditions_df['Qdot']) ** 2).mean())\n",
    "\n",
    "    df_res_list.append(df_res)\n",
    "    mae_list.append(mae)\n",
    "    rmse_list.append(rmse)"
   ]
  },
  {
   "cell_type": "code",
   "execution_count": null,
   "metadata": {},
   "outputs": [],
   "source": []
  },
  {
   "cell_type": "code",
   "execution_count": null,
   "metadata": {},
   "outputs": [],
   "source": [
    "min_index = rmse_list.index(min(rmse_list))\n",
    "params_list[min_index]"
   ]
  },
  {
   "cell_type": "code",
   "execution_count": 33,
   "metadata": {},
   "outputs": [],
   "source": [
    "params_list = np.array(list(product(np.arange(0.80,0.98,0.02),\n",
    "                                        np.array([0.05]),\n",
    "                                        np.array([0.95]),\n",
    "                                        np.array([0.9]),\n",
    "                                        np.array([0.9]),\n",
    "                                        np.array([0.5e-3,1e-3,1.5e-3]),\n",
    "                                        np.array([0.5e-3,1e-3,1.5e-3])\n",
    "                                        )))"
   ]
  },
  {
   "cell_type": "code",
   "execution_count": 22,
   "metadata": {},
   "outputs": [],
   "source": [
    "params_list = np.array(list(product(np.arange(0.1,0.98,0.02)\n",
    "                                        ))).tolist()"
   ]
  },
  {
   "cell_type": "code",
   "execution_count": null,
   "metadata": {},
   "outputs": [],
   "source": [
    "params_list"
   ]
  },
  {
   "cell_type": "code",
   "execution_count": 39,
   "metadata": {},
   "outputs": [],
   "source": [
    "params = ranges_matrix.tolist()"
   ]
  },
  {
   "cell_type": "code",
   "execution_count": null,
   "metadata": {},
   "outputs": [],
   "source": [
    "len(params)"
   ]
  },
  {
   "cell_type": "code",
   "execution_count": 16,
   "metadata": {},
   "outputs": [],
   "source": [
    "steadyStateConditions_df['Qdot/AG'] = steadyStateConditions_df['Qdot'] / panelSpecs['AG']"
   ]
  },
  {
   "cell_type": "code",
   "execution_count": 17,
   "metadata": {},
   "outputs": [],
   "source": [
    "dic_names = {'T_in' : 'T_fluid_in0',\n",
    "             'T_out' : 'T_fluid_out',\n",
    "             'Qdot_1_AG' : 'Qdot/AG',\n",
    "             'T_amb' : 'T_amb',\n",
    "             'u' : 'u'}"
   ]
  },
  {
   "cell_type": "code",
   "execution_count": 21,
   "metadata": {},
   "outputs": [],
   "source": [
    "tab_mat,tab_res,X = nm.find_SK(steadyStateConditions_df, dic_names, columns_list=[1,1,1,1,0,0,1,0,1])"
   ]
  },
  {
   "cell_type": "code",
   "execution_count": null,
   "metadata": {},
   "outputs": [],
   "source": [
    "nm.display_a_i(X)"
   ]
  },
  {
   "cell_type": "code",
   "execution_count": null,
   "metadata": {},
   "outputs": [],
   "source": [
    "steadyStateConditions_df"
   ]
  },
  {
   "cell_type": "code",
   "execution_count": 23,
   "metadata": {},
   "outputs": [],
   "source": [
    "steadyStateConditions_df[f'{dic_names[\"Qdot_1_AG\"]}_model'] = tab_mat @ X[0]"
   ]
  },
  {
   "cell_type": "code",
   "execution_count": 25,
   "metadata": {},
   "outputs": [],
   "source": [
    "steadyStateConditions_df['relative error'] = (steadyStateConditions_df[f'{dic_names[\"Qdot_1_AG\"]}_model'] - steadyStateConditions_df[dic_names['Qdot_1_AG']]) / steadyStateConditions_df[dic_names['Qdot_1_AG']]"
   ]
  },
  {
   "cell_type": "code",
   "execution_count": null,
   "metadata": {},
   "outputs": [],
   "source": [
    "u_range = np.arange(0,2.8,0.01)\n",
    "h_top_forced_array = np.array([bht.h_top_forced(25+273.15, 35+273.15, u, 1.8) for u in u_range])\n",
    "h_top_forced_turb_array = np.array([bht.h_top_forced_turbulent(25+273.15, 35+273.15, u, 1.8) for u in u_range])"
   ]
  },
  {
   "cell_type": "code",
   "execution_count": null,
   "metadata": {},
   "outputs": [],
   "source": [
    "h_df = pd.DataFrame({'u' : u_range, 'h_top_forced' : h_top_forced_array, 'h_top_forced_turb' : h_top_forced_turb_array})\n",
    "h_df['ratio'] = h_df['h_top_forced_turb'] / h_df['h_top_forced']\n",
    "# sns.histplot(h_df['ratio'], bins = 20)"
   ]
  },
  {
   "cell_type": "code",
   "execution_count": null,
   "metadata": {},
   "outputs": [],
   "source": [
    "# plt.plot(u_range,h_top_forced_array,label='laminar then turbulent')\n",
    "# plt.plot(u_range,h_top_forced_turb_array,label='turbulent')\n",
    "plt.plot(u_range,h_df['ratio'])"
   ]
  },
  {
   "cell_type": "code",
   "execution_count": 10,
   "metadata": {},
   "outputs": [],
   "source": []
  },
  {
   "cell_type": "code",
   "execution_count": 11,
   "metadata": {},
   "outputs": [],
   "source": [
    "# df_one,res = ty.simu_one_steady_state_all_he(panelSpecs,sC,hyp)\n",
    "# df_residuals = ty.recap_residuals(panelSpecs, df_one, res)"
   ]
  },
  {
   "cell_type": "code",
   "execution_count": 12,
   "metadata": {},
   "outputs": [],
   "source": []
  },
  {
   "cell_type": "code",
   "execution_count": 13,
   "metadata": {},
   "outputs": [],
   "source": [
    "df_res['Qdot_exp'] = steadyStateConditions_df['Qdot']\n",
    "df_res['error'] = df_res['Qdot_tube_fluid'] - df_res['Qdot_exp']"
   ]
  },
  {
   "cell_type": "code",
   "execution_count": null,
   "metadata": {},
   "outputs": [],
   "source": [
    "df = df_res.copy()\n",
    "\n",
    "df = df.loc[df['u'] == 2.7]\n",
    "\n",
    "ht_signs = {'Qdot_sun_PV': 1, 'Qdot_sun_glass': 1, 'Qdot_top_conv': -1, 'Qdot_top_rad': -1, 'Qdot_PV_sky': -1, 'Qdot_absfin_back_conv': -1, 'Qdot_absfin_back_rad': -1, 'Qdot_Base_back': -1, 'Qdot_tube_back_conv': -1, 'Qdot_tube_back_rad': -1, 'Qdot_tube_sky': -1}\n",
    "ht_labels = ['Qdot_sun_PV', 'Qdot_sun_glass', 'Qdot_top_conv', 'Qdot_top_rad', 'Qdot_PV_sky', 'Qdot_absfin_back_conv', 'Qdot_absfin_back_rad', 'Qdot_tube_back_conv', 'Qdot_tube_back_rad', 'Qdot_tube_sky']\n",
    "colors_ht = [RD_config.get_hex_code('yellow',100), RD_config.get_hex_code('orange',100),RD_config.get_hex_code('green',150), RD_config.get_hex_code('blue',150),RD_config.get_hex_code('blue',100),RD_config.get_hex_code('green',100),RD_config.get_hex_code('grey',100),RD_config.get_hex_code('green',50),RD_config.get_hex_code('grey',50),RD_config.get_hex_code('blue',50)]\n",
    "\n",
    "# Calculate the total positive heat transfers for each T_m - T_amb\n",
    "df['positive_total'] = df[[label for label in ht_labels if ht_signs[label] == 1]].sum(axis=1)\n",
    "\n",
    "# Initialize the figure\n",
    "fig = go.Figure()\n",
    "\n",
    "# Define the bar width\n",
    "bar_width = 0.4\n",
    "\n",
    "# Add traces for positive heat transfers (gains)\n",
    "for i, label in enumerate(ht_labels):\n",
    "    if ht_signs[label] == 1:\n",
    "        fig.add_trace(go.Bar(\n",
    "            x=df['T_m - T_amb'],\n",
    "            y=df[label],\n",
    "            name=label,\n",
    "            width=[bar_width] * len(df),\n",
    "            hovertext=round(df[label],0),\n",
    "            hoverinfo='text',\n",
    "            marker=dict(color=colors_ht[i])\n",
    "        ))\n",
    "\n",
    "# Add traces for negative heat transfers (losses) with base starting from the positive total\n",
    "label_sum = []\n",
    "for i, label in enumerate(ht_labels):\n",
    "    if ht_signs[label] == -1:\n",
    "        base = df['positive_total'] - df[[lbl for lbl in ht_labels if (ht_signs[lbl] == -1) & (lbl not in label_sum)]].sum(axis=1)\n",
    "        fig.add_trace(go.Bar(\n",
    "            x=df['T_m - T_amb'] + bar_width,  # Offset for side-by-side display\n",
    "            y=df[label],\n",
    "            name=label,\n",
    "            width=[bar_width] * len(df),\n",
    "            base=base,\n",
    "            hovertext=round(df[label],0),\n",
    "            hoverinfo='text',\n",
    "            marker=dict(color=colors_ht[i])\n",
    "        ))\n",
    "        label_sum.append(label)\n",
    "\n",
    "\n",
    "fig.add_trace(go.Scatter(\n",
    "    x=df['T_m - T_amb'],\n",
    "    y=df['Qdot_exp'],\n",
    "    mode='lines',\n",
    "    name='Qdot exp',\n",
    "    line=dict(color='black', width=2)\n",
    "))\n",
    "\n",
    "fig.add_trace(go.Scatter(\n",
    "    x=df['T_m - T_amb'],\n",
    "    y=df['Qdot_tube_fluid'],\n",
    "    mode='lines',\n",
    "    name='Qdot exp',\n",
    "    line=dict(color='grey', width=2)\n",
    "))\n",
    "\n",
    "# Update layout for stacked bars\n",
    "fig.update_layout(barmode='relative', yaxis_title='Heat Transfer', xaxis_title='T_m - T_amb')\n",
    "\n",
    "\n",
    "# Show the figure\n",
    "fig.show()"
   ]
  },
  {
   "cell_type": "code",
   "execution_count": null,
   "metadata": {},
   "outputs": [],
   "source": []
  },
  {
   "cell_type": "code",
   "execution_count": null,
   "metadata": {},
   "outputs": [],
   "source": [
    "df['T_m - T_amb']"
   ]
  },
  {
   "cell_type": "code",
   "execution_count": null,
   "metadata": {},
   "outputs": [],
   "source": [
    "df['negative_total']"
   ]
  },
  {
   "cell_type": "code",
   "execution_count": null,
   "metadata": {},
   "outputs": [],
   "source": []
  },
  {
   "cell_type": "code",
   "execution_count": null,
   "metadata": {},
   "outputs": [],
   "source": []
  },
  {
   "cell_type": "code",
   "execution_count": null,
   "metadata": {},
   "outputs": [],
   "source": [
    "# df_res[['Qdot_tube_fluid','Qdot_exp','error']]"
   ]
  },
  {
   "cell_type": "code",
   "execution_count": null,
   "metadata": {},
   "outputs": [],
   "source": []
  },
  {
   "cell_type": "code",
   "execution_count": null,
   "metadata": {},
   "outputs": [],
   "source": [
    "mae = np.abs(df_res['error']).mean()\n",
    "print(mae)"
   ]
  },
  {
   "cell_type": "code",
   "execution_count": null,
   "metadata": {},
   "outputs": [],
   "source": [
    "wm = 7\n",
    "\n",
    "# Deuxième écriture plus simple pour modifier les coefficients\n",
    "mapping_matrix = np.array([\n",
    "                            wm*[''],\n",
    "                            ['tau_g', 'alpha_g', 'alpha_PV', 'eps_PV', 'eps_g', 'l_c', 'lambd_air'],\n",
    "                           ])\n",
    "\n",
    "part_mapping_matrix = [\n",
    "                        np.nan,\n",
    "                        [['part1','part2','part3'] for _ in range(wm)]\n",
    "                        ]\n",
    "\n",
    "ranges_matrix = np.array(list(product(np.arange(0.80,0.98,0.02),\n",
    "                                        np.array([0.05]),\n",
    "                                        np.array([0.95]),\n",
    "                                        np.array([0.9]),\n",
    "                                        np.array([0.9]),\n",
    "                                        np.array([0.5e-3,1e-3,1.5e-3]),\n",
    "                                        np.array([0.5e-3,1e-3,1.5e-3])\n",
    "                                        )))"
   ]
  },
  {
   "cell_type": "code",
   "execution_count": null,
   "metadata": {},
   "outputs": [],
   "source": [
    "panelSpecs['decomp']"
   ]
  },
  {
   "cell_type": "code",
   "execution_count": null,
   "metadata": {},
   "outputs": [],
   "source": []
  },
  {
   "cell_type": "code",
   "execution_count": null,
   "metadata": {},
   "outputs": [],
   "source": [
    "panelSpecs['part1']"
   ]
  },
  {
   "cell_type": "code",
   "execution_count": null,
   "metadata": {},
   "outputs": [],
   "source": []
  },
  {
   "cell_type": "code",
   "execution_count": 24,
   "metadata": {},
   "outputs": [],
   "source": [
    "wm = 1\n",
    "\n",
    "# Deuxième écriture plus simple pour modifier les coefficients\n",
    "mapping_matrix = np.array([\n",
    "                            wm*[''],\n",
    "                            ['lambd_air'],\n",
    "                           ])\n",
    "\n",
    "part_mapping_matrix = [\n",
    "                        np.nan,\n",
    "                        [['part1','part2','part3'] for _ in range(wm)]\n",
    "                        ]\n",
    "\n",
    "ranges_matrix = np.array(list(product(\n",
    "                                        np.array([0.1e-3,10e-3,1.1e-4])\n",
    "                                        )))"
   ]
  },
  {
   "cell_type": "code",
   "execution_count": null,
   "metadata": {},
   "outputs": [],
   "source": [
    "ranges_matrix"
   ]
  },
  {
   "cell_type": "code",
   "execution_count": null,
   "metadata": {},
   "outputs": [],
   "source": [
    "part_mapping_matrix[1]"
   ]
  },
  {
   "cell_type": "code",
   "execution_count": 9,
   "metadata": {},
   "outputs": [],
   "source": []
  },
  {
   "cell_type": "code",
   "execution_count": null,
   "metadata": {},
   "outputs": [],
   "source": [
    "panelSpecs.keys()"
   ]
  },
  {
   "cell_type": "code",
   "execution_count": null,
   "metadata": {},
   "outputs": [],
   "source": []
  },
  {
   "cell_type": "code",
   "execution_count": 10,
   "metadata": {},
   "outputs": [],
   "source": []
  },
  {
   "cell_type": "code",
   "execution_count": null,
   "metadata": {},
   "outputs": [],
   "source": [
    "flattened_parameters"
   ]
  },
  {
   "cell_type": "code",
   "execution_count": null,
   "metadata": {},
   "outputs": [],
   "source": []
  },
  {
   "cell_type": "code",
   "execution_count": null,
   "metadata": {},
   "outputs": [],
   "source": []
  },
  {
   "cell_type": "code",
   "execution_count": null,
   "metadata": {},
   "outputs": [],
   "source": [
    "df_res_list[9][['T_amb','u','T_fluid_in','Qdot_tube_fluid','Qdot exp','error']]"
   ]
  },
  {
   "cell_type": "code",
   "execution_count": null,
   "metadata": {},
   "outputs": [],
   "source": [
    "min_index = mae_list.index(min(mae_list))\n",
    "print(min_index)"
   ]
  },
  {
   "cell_type": "code",
   "execution_count": null,
   "metadata": {},
   "outputs": [],
   "source": [
    "min(mae_list)"
   ]
  },
  {
   "cell_type": "code",
   "execution_count": null,
   "metadata": {},
   "outputs": [],
   "source": [
    "df_res_list[3][['Qdot_tube_fluid','Qdot exp','error']]"
   ]
  },
  {
   "cell_type": "code",
   "execution_count": null,
   "metadata": {},
   "outputs": [],
   "source": [
    "mae_list"
   ]
  },
  {
   "cell_type": "code",
   "execution_count": null,
   "metadata": {},
   "outputs": [],
   "source": [
    "plt.scatter(np.arange(0,len(rmse_list),1),rmse_list)"
   ]
  },
  {
   "cell_type": "code",
   "execution_count": null,
   "metadata": {},
   "outputs": [],
   "source": [
    "panelSpecs['pv']['tau_g']"
   ]
  },
  {
   "cell_type": "code",
   "execution_count": null,
   "metadata": {},
   "outputs": [],
   "source": [
    "len(ranges_matrix)*2/3600"
   ]
  },
  {
   "cell_type": "code",
   "execution_count": null,
   "metadata": {},
   "outputs": [],
   "source": [
    "all_combinations = list(product(range1, range2, range3))\n",
    "matrix = np.array(all_combinations)"
   ]
  },
  {
   "cell_type": "code",
   "execution_count": null,
   "metadata": {},
   "outputs": [],
   "source": [
    "matrix"
   ]
  },
  {
   "cell_type": "markdown",
   "metadata": {},
   "source": [
    "Calibrage modèle multi-design"
   ]
  },
  {
   "cell_type": "code",
   "execution_count": null,
   "metadata": {},
   "outputs": [],
   "source": [
    "# Permet de modifier une valeur du dictionnaire hyp\n",
    "## Par exemple init_hyp('method_h_back_abs','free') va retourner le dictionnaire hyp avec la valeur 'method_h_back_abs' modifié en 'free'\n",
    "def init_hyp(coeff, method) : \n",
    "    hyp[coeff] = method\n",
    "    return(hyp)"
   ]
  },
  {
   "cell_type": "markdown",
   "metadata": {},
   "source": [
    "Création de la matrice du modèle"
   ]
  },
  {
   "cell_type": "code",
   "execution_count": null,
   "metadata": {},
   "outputs": [],
   "source": [
    "# Récupération des résultats expérimentaux\n",
    "\n",
    "X_list_df = pd.read_excel(exp_path,header = 2) ## On ne prend pas en compe les 2 premières lignes // EN FONCTION DE COMMENT SONT PR2SENT2S LES RES\n",
    "X_list = X_list_df.to_dict(orient='records')"
   ]
  },
  {
   "cell_type": "code",
   "execution_count": null,
   "metadata": {},
   "outputs": [],
   "source": [
    "# Création de la matrice \"A\" sous forme de dictionnaire\n",
    "\n",
    "measured_case = 0 # nb_measured_case = len(X_tot)\n",
    "case = 0 # nb_case = len(stepConditions) il faudrait faire correspondre les lignes de stepConditions avec le numéro des measuredcase comme ça on a qu'une variable\n",
    "\n",
    "# Dictionnaire des paramètres du modèle commun à tous les designs \"alpha_0\"\n",
    "basic_parameters = dict([\n",
    "    ('basic_parameters_1',1),\n",
    "    ('basic_parameters_2',1),\n",
    "    ('basic_parameters_3',1),\n",
    "    ('basic_parameters_4',1),\n",
    "    ('basic_parameters_5',1),\n",
    "    ('basic_parameters_6',1),\n",
    "    ('basic_parameters_7',1),\n",
    "    ('basic_parameters_8',1),\n",
    "    ('basic_parameters_9',1),\n",
    "    ('basic_parameters_10',1),\n",
    "    ])\n",
    "\n",
    "# Matrice du modèle \"A\" \n",
    "model_matrix = dict(['alpha_0',basic_parameters])\n",
    "\n",
    "# Plutôt faire l'inverse et créer le dictionnaire à partir d'une DataFrame puis sortir les différents X\n",
    "# for i in range(nb_measured_case) :\n",
    "# Point de données\n",
    "X = dict([('componentSpecs',componentSpecs), ('stepConditions',stepConditions[case])]) \n",
    "# X_tot = dict([ \n",
    "#    ('X_{measured_case}',X)\n",
    "#   ])\n",
    "\n",
    "# Dictionnaire des paramètres du modèle liés à la géométrie \"alpha_j\"\n",
    "design_parameters = dict([\n",
    "    ('tau_g_{measured_case}', X['componentSpecs']['pv']['tau_g']), # Transmittance glass\n",
    "    ('alpha_g_{measured_case}', X['componentSpecs']['pv']['alpha_g']), # Absorptance glass\n",
    "    ('eps_PV_{measured_case}', X['componentSpecs']['pv']['eps_PV']), # Émissivité cellule PV\n",
    "    ('eps_g_{measured_case}', X['componentSpecs']['pv']['eps_g']), # Émissivité glass\n",
    "    ('eps_hx_top_{measured_case}', X['componentSpecs']['main']['eps_hx_top']), # Émissivité de l'échangeur thermique sur le panneau\n",
    "    ('eps_hx_back_{measured_case}', X['componentSpecs']['main']['eps_hx_back']), # Émissivité de l'échangeur thermique à l’arrière du panneau\n",
    "    ('eps_ins_{measured_case}', X['componentSpecs']['main']['eps_ins']), # Émissivité isolant\n",
    "    ('lambd_air_{measured_case}',  X['componentSpecs']['main']['lambd_air']) # Épaisseur de la couche d'air\n",
    "    ])\n",
    "\n",
    "model_matrix['alpha_{measured_case}'] = design_parameters\n",
    "#fin boucle for"
   ]
  },
  {
   "cell_type": "code",
   "execution_count": null,
   "metadata": {},
   "outputs": [],
   "source": [
    "# Création de la matrice \"A\" sous forme de listes\n",
    "\n",
    "measured_case = 0 # nb_measured_case = len(X_list)\n",
    "case = 0 # nb_case = len(stepConditions) il faudrait faire correspondre les lignes de stepConditions avec le numéro des measuredcase comme ça on a qu'une variable\n",
    "\n",
    "# Matrice du modèle \"A\" \n",
    "model_matrix = np.ones(10)\n",
    "\n",
    "# Plutôt faire l'inverse et créer le dictionnaire à partir d'une DataFrame puis sortir les différents X\n",
    "# for i in range(nb_measured_case) :\n",
    "# Point de données\n",
    "X = dict([('componentSpecs',componentSpecs), ('stepConditions',stepConditions[case])]) \n",
    "# X_list = dict([ \n",
    "#    ('X_{measured_case}',X)\n",
    "#   ])\n",
    "\n",
    "# Dictionnaire des paramètres du modèle liés à la géométrie \"alpha_j\"\n",
    "design_parameters = np.zeros(10)\n",
    "design_parameters[0] = X['componentSpecs']['pv']['tau_g'] # Transmittance glass\n",
    "design_parameters[1] =  X['componentSpecs']['pv']['alpha_g'] # Absorptance glass\n",
    "design_parameters[2] = X['componentSpecs']['pv']['eps_PV'] # Émissivité cellule PV\n",
    "design_parameters[3] = X['componentSpecs']['pv']['eps_g'] # Émissivité glass\n",
    "design_parameters[4] = X['componentSpecs']['main']['eps_hx_top'] # Émissivité de l'échangeur thermique sur le panneau\n",
    "design_parameters[5] = X['componentSpecs']['main']['eps_hx_back'] # Émissivité de l'échangeur thermique à l’arrière du panneau\n",
    "design_parameters[6] = X['componentSpecs']['main']['eps_ins'] # Émissivité isolant\n",
    "design_parameters[7] = X['componentSpecs']['main']['lambd_air'] # Épaisseur de la couche d'air\n",
    "\n",
    "\n",
    "model_matrix= np.vstack((model_matrix, design_parameters))\n",
    "\n",
    "#fin boucle for\n",
    "model_matrix"
   ]
  },
  {
   "cell_type": "code",
   "execution_count": null,
   "metadata": {},
   "outputs": [],
   "source": []
  },
  {
   "cell_type": "code",
   "execution_count": null,
   "metadata": {},
   "outputs": [],
   "source": [
    "m = len(correspondance_matrice)\n",
    "nb_measured_case = len(X_list)\n",
    "\n",
    "# MAJ de hyp en fonction des méthodes que l'on veut\n",
    "hyp = init_hyp(\"method_h_back_abs\", \"free\")\n",
    "\n",
    "\n",
    "def Qdot_model_tube_fluid(X_list, model_matrix, correspondance_matrice) :\n",
    "        Qdot_list = []\n",
    "        \n",
    "        # Actualise le modèle\n",
    "        for i in range(m) : \n",
    "                if correspondance_matrice[i, 0] != 0. : \n",
    "                       hyp[correspondance_matrice[i,0]] = model_matrix[i, 0]\n",
    "\n",
    "        # Actualise la géométrie\n",
    "        for j in range(nb_measured_case) : \n",
    "                for i in range(m) :\n",
    "                        if correspondance_matrice[i, 0] != 0. :\n",
    "                                X_list[j]['componentSpecs'][correspondance_matrice[i,1]] = model_matrix[i, j]\n",
    "                df_one = ty.simu_one_steady_state_all_he(X_list[j]['componentSpecs'], X_list[j]['stepConditions'], hyp)[0]\n",
    "                Qdot_list.append(df_one['Qdot_tube_fluid'])\n",
    "        return(Qdot_list)"
   ]
  }
 ],
 "metadata": {
  "kernelspec": {
   "display_name": "PVT-thermal-performance-model",
   "language": "python",
   "name": "python3"
  },
  "language_info": {
   "codemirror_mode": {
    "name": "ipython",
    "version": 3
   },
   "file_extension": ".py",
   "mimetype": "text/x-python",
   "name": "python",
   "nbconvert_exporter": "python",
   "pygments_lexer": "ipython3",
   "version": "3.10.5"
  }
 },
 "nbformat": 4,
 "nbformat_minor": 2
}
