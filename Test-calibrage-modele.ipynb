{
 "cells": [
  {
   "cell_type": "code",
   "execution_count": 7,
   "metadata": {},
   "outputs": [],
   "source": [
    "# Initialization\n",
    "\n",
    "import math\n",
    "from datetime import datetime\n",
    "import openpyxl as opxl\n",
    "from openpyxl.utils.dataframe import dataframe_to_rows\n",
    "import pandas as pd\n",
    "import numpy as np\n",
    "import matplotlib.pyplot as plt\n",
    "import model as ty\n",
    "import proc as pr\n",
    "import matplotlib.ticker as mtick\n",
    "import sklearn.metrics\n",
    "\n",
    "import sys\n",
    "sys.path.append('../RD-systems-and-test-benches')\n",
    "\n",
    "import utils.plot_functions as RD_pfun\n",
    "import config as RD_config\n",
    "\n",
    "from IPython.core.display import HTML\n",
    "\n",
    "import heat_transfer as bht\n",
    "\n",
    "import fluids as fds\n",
    "import ht \n",
    "\n",
    "import general as gen\n",
    "\n",
    "import os\n",
    "\n",
    "import scipy.integrate as integrate\n",
    "import scipy.optimize as sco\n",
    "\n",
    "import networkx as nx\n",
    "\n",
    "import plotly.graph_objects as go\n",
    "\n",
    "import plot_functions_here as pfun\n",
    "\n",
    "import plotly.io as pio\n",
    "\n",
    "from itertools import product\n",
    "\n",
    "from tqdm.notebook import tqdm"
   ]
  },
  {
   "cell_type": "code",
   "execution_count": 8,
   "metadata": {},
   "outputs": [],
   "source": [
    "folder_path = r'G:\\Drive partagés\\Cercle Hard\\R&D\\Modèles numériques PVT\\PVT-perf-1Dmodel'\n",
    "geometry_path = folder_path + '\\\\' + 'Panels\\\\Panel_V4.1I.xlsx'\n",
    "hypotheses_path = folder_path + '\\\\' + 'Hypotheses\\\\Model_hypotheses.xlsx'\n",
    "condi_path = folder_path + '\\\\' + 'Steady-state conditions inputs\\\\100424-tests-conditions-GMI.xlsx'\n",
    "exp_path = folder_path + '\\\\' + 'Experiments\\\\Experiments-GMI.xlsx'\n",
    "\n",
    "panelSpecs = pr.import_geometry(geometry_path)\n",
    "hyp = pr.create_dict_from_excel(hypotheses_path,'Main')\n",
    "\n",
    "# steadyStateConditions_df = pd.read_excel(condi_path,header=2) ## Les deux première lignes ne sont pas à prendre en compte\n",
    "# stepConditions = steadyStateConditions_df.to_dict(orient='records')"
   ]
  },
  {
   "cell_type": "code",
   "execution_count": 9,
   "metadata": {},
   "outputs": [],
   "source": [
    "recap = pd.read_excel(r'G:\\Drive partagés\\Cercle Hard\\R&D\\Thermal performance tests PVT\\Recap_RD_TUV_SSI.xlsx')\n",
    "recap = recap.drop(index=0)\n",
    "recap.dropna(how='all', inplace=True)\n",
    "\n",
    "groups = {key: group for key, group in recap.groupby('Design')}"
   ]
  },
  {
   "cell_type": "code",
   "execution_count": 10,
   "metadata": {},
   "outputs": [],
   "source": [
    "steadyStateConditions_df = groups['V4.1I'].loc[groups['V4.1I']['Type'] == 'SK'].copy()\n",
    "pr.convert_to_K(steadyStateConditions_df)\n",
    "pr.adjust_steadyStateConditions(steadyStateConditions_df, hyp)\n",
    "steadyStateConditions_df.reset_index(drop=True, inplace=True)\n",
    "steadyStateConditions = steadyStateConditions_df.to_dict(orient='records')"
   ]
  },
  {
   "cell_type": "code",
   "execution_count": 11,
   "metadata": {},
   "outputs": [],
   "source": [
    "# df_one,res = ty.simu_one_steady_state_all_he(panelSpecs,sC,hyp)\n",
    "# df_residuals = ty.recap_residuals(panelSpecs, df_one, res)"
   ]
  },
  {
   "cell_type": "code",
   "execution_count": 12,
   "metadata": {},
   "outputs": [],
   "source": [
    "df_res, list_res = ty.simu_steadyStateConditions(panelSpecs,hyp,steadyStateConditions_df)"
   ]
  },
  {
   "cell_type": "code",
   "execution_count": 13,
   "metadata": {},
   "outputs": [],
   "source": [
    "df_res['Qdot_exp'] = steadyStateConditions_df['Qdot']\n",
    "df_res['error'] = df_res['Qdot_tube_fluid'] - df_res['Qdot_exp']"
   ]
  },
  {
   "cell_type": "code",
   "execution_count": 23,
   "metadata": {},
   "outputs": [
    {
     "data": {
      "application/vnd.plotly.v1+json": {
       "config": {
        "plotlyServerURL": "https://plot.ly"
       },
       "data": [
        {
         "hoverinfo": "text",
         "hovertext": [
          1080,
          1080,
          1084,
          1084,
          1089,
          1089
         ],
         "marker": {
          "color": "#FAC919"
         },
         "name": "Qdot_sun_PV",
         "type": "bar",
         "width": [
          0.4,
          0.4,
          0.4,
          0.4,
          0.4,
          0.4
         ],
         "x": [
          0.12407048005974275,
          0.023704843864038594,
          7.317981848774309,
          7.308887397263788,
          16.15877710780768,
          16.18377666033615
         ],
         "y": [
          1079.6177041486073,
          1079.6447563747342,
          1084.206841208601,
          1084.2019966966734,
          1088.7911117481901,
          1088.7861461915875
         ]
        },
        {
         "hoverinfo": "text",
         "hovertext": [
          82,
          82,
          82,
          82,
          82,
          82
         ],
         "marker": {
          "color": "#E57B17"
         },
         "name": "Qdot_sun_glass",
         "type": "bar",
         "width": [
          0.4,
          0.4,
          0.4,
          0.4,
          0.4,
          0.4
         ],
         "x": [
          0.12407048005974275,
          0.023704843864038594,
          7.317981848774309,
          7.308887397263788,
          16.15877710780768,
          16.18377666033615
         ],
         "y": [
          82.44887279999999,
          82.44887279999999,
          82.44887279999999,
          82.44887279999999,
          82.44887279999999,
          82.44887279999999
         ]
        },
        {
         "base": [
          676.3302743324966,
          679.0197638711766,
          477.8809571101623,
          478.134313441633,
          229.17104719285817,
          228.51398736625868
         ],
         "hoverinfo": "text",
         "hovertext": [
          238,
          237,
          321,
          320,
          421,
          421
         ],
         "marker": {
          "color": "#145E4C"
         },
         "name": "Qdot_top_conv",
         "type": "bar",
         "width": [
          0.4,
          0.4,
          0.4,
          0.4,
          0.4,
          0.4
         ],
         "x": [
          0.5240704800597428,
          0.4237048438640386,
          7.7179818487743095,
          7.708887397263789,
          16.55877710780768,
          16.58377666033615
         ],
         "y": [
          238.22394721278312,
          237.00101486850215,
          320.523038383681,
          320.4190027586716,
          420.9703961702951,
          421.2660473929561
         ]
        },
        {
         "base": [
          914.5542215452797,
          916.0207787396787,
          798.4039954938432,
          798.5533162003046,
          650.1414433631534,
          649.7800347592147
         ],
         "hoverinfo": "text",
         "hovertext": [
          111,
          110,
          154,
          154,
          207,
          208
         ],
         "marker": {
          "color": "#466996"
         },
         "name": "Qdot_top_rad",
         "type": "bar",
         "width": [
          0.4,
          0.4,
          0.4,
          0.4,
          0.4,
          0.4
         ],
         "x": [
          0.5240704800597428,
          0.4237048438640386,
          7.7179818487743095,
          7.708887397263789,
          16.55877710780768,
          16.58377666033615
         ],
         "y": [
          110.87869798447718,
          110.39085632453993,
          153.89505360739543,
          153.84081388583553,
          207.4523617947721,
          207.56736909581653
         ]
        },
        {
         "base": [
          1025.4329195297569,
          1026.4116350642187,
          952.2990491012387,
          952.3941300861401,
          857.5938051579253,
          857.3474038550311
         ],
         "hoverinfo": "text",
         "hovertext": [
          117,
          116,
          163,
          163,
          220,
          220
         ],
         "marker": {
          "color": "#6394FF"
         },
         "name": "Qdot_PV_sky",
         "type": "bar",
         "width": [
          0.4,
          0.4,
          0.4,
          0.4,
          0.4,
          0.4
         ],
         "x": [
          0.5240704800597428,
          0.4237048438640386,
          7.7179818487743095,
          7.708887397263789,
          16.55877710780768,
          16.58377666033615
         ],
         "y": [
          116.55470449300523,
          116.03269269328352,
          162.60411900230298,
          162.54596122138855,
          220.13479282283367,
          220.25860831905894
         ]
        },
        {
         "base": [
          1141.9876240227622,
          1142.4443277575022,
          1114.9031681035417,
          1114.9400913075285,
          1077.7285979807589,
          1077.60601217409
         ],
         "hoverinfo": "text",
         "hovertext": [
          8,
          7,
          16,
          16,
          27,
          27
         ],
         "marker": {
          "color": "#328796"
         },
         "name": "Qdot_absfin_back_conv",
         "type": "bar",
         "width": [
          0.4,
          0.4,
          0.4,
          0.4,
          0.4,
          0.4
         ],
         "x": [
          0.5240704800597428,
          0.4237048438640386,
          7.7179818487743095,
          7.708887397263789,
          16.55877710780768,
          16.58377666033615
         ],
         "y": [
          7.562928221866426,
          7.445287361707747,
          16.135941179691528,
          16.124765840374042,
          27.259037181067537,
          27.29104991892213
         ]
        },
        {
         "base": [
          1149.5505522446285,
          1149.88961511921,
          1131.039109283233,
          1131.0648571479026,
          1104.9876351618266,
          1104.8970620930122
         ],
         "hoverinfo": "text",
         "hovertext": [
          12,
          12,
          23,
          23,
          38,
          38
         ],
         "marker": {
          "color": "#353738"
         },
         "name": "Qdot_absfin_back_rad",
         "type": "bar",
         "width": [
          0.4,
          0.4,
          0.4,
          0.4,
          0.4,
          0.4
         ],
         "x": [
          0.5240704800597428,
          0.4237048438640386,
          7.7179818487743095,
          7.708887397263789,
          16.55877710780768,
          16.58377666033615
         ],
         "y": [
          11.687065805622412,
          11.527327332139171,
          23.38002164685921,
          23.36525396240569,
          37.73699118541537,
          37.77445204717325
         ]
        },
        {
         "base": [
          1161.237618050251,
          1161.416942451349,
          1154.4191309300923,
          1154.4301111103084,
          1142.7246263472418,
          1142.6715141401855
         ],
         "hoverinfo": "text",
         "hovertext": [
          0,
          0,
          9,
          9,
          22,
          22
         ],
         "marker": {
          "color": "#5CB5AA"
         },
         "name": "Qdot_tube_back_conv",
         "type": "bar",
         "width": [
          0.4,
          0.4,
          0.4,
          0.4,
          0.4,
          0.4
         ],
         "x": [
          0.5240704800597428,
          0.4237048438640386,
          7.7179818487743095,
          7.708887397263789,
          16.55877710780768,
          16.58377666033615
         ],
         "y": [
          0.4980372528011978,
          0.38456748984433076,
          9.102545958330333,
          9.090271860410747,
          21.925037074725278,
          21.96412407869837
         ]
        },
        {
         "base": [
          1161.7356553030522,
          1161.8015099411934,
          1163.5216768884227,
          1163.520382970719,
          1164.6496634219673,
          1164.6356382188837
         ],
         "hoverinfo": "text",
         "hovertext": [
          0,
          0,
          3,
          3,
          7,
          7
         ],
         "marker": {
          "color": "#C2C2C3"
         },
         "name": "Qdot_tube_back_rad",
         "type": "bar",
         "width": [
          0.4,
          0.4,
          0.4,
          0.4,
          0.4,
          0.4
         ],
         "x": [
          0.5240704800597428,
          0.4237048438640386,
          7.7179818487743095,
          7.708887397263789,
          16.55877710780768,
          16.58377666033615
         ],
         "y": [
          0.3309216455501947,
          0.29211923353633396,
          3.1340371201379145,
          3.1304865259140096,
          6.5903211261358425,
          6.599380772616408
         ]
        },
        {
         "base": [
          1162.0665769486025,
          1162.0936291747298,
          1166.6557140085606,
          1166.650869496633,
          1171.239984548103,
          1171.2350189915003
         ],
         "hoverinfo": "text",
         "hovertext": [
          0,
          0,
          0,
          0,
          0,
          0
         ],
         "marker": {
          "color": "#B1D3FF"
         },
         "name": "Qdot_tube_sky",
         "type": "bar",
         "width": [
          0.4,
          0.4,
          0.4,
          0.4,
          0.4,
          0.4
         ],
         "x": [
          0.5240704800597428,
          0.4237048438640386,
          7.7179818487743095,
          7.708887397263789,
          16.55877710780768,
          16.58377666033615
         ],
         "y": [
          4.8481755966468084e-12,
          4.379235116127802e-12,
          4.024071790438575e-11,
          4.0194469210879985e-11,
          8.70104107996526e-11,
          8.712653133044465e-11
         ]
        },
        {
         "line": {
          "color": "black",
          "width": 2
         },
         "mode": "lines",
         "name": "Qdot exp",
         "type": "scatter",
         "x": [
          0.12407048005974275,
          0.023704843864038594,
          7.317981848774309,
          7.308887397263788,
          16.15877710780768,
          16.18377666033615
         ],
         "y": [
          642.6,
          640.5,
          462,
          463.5,
          237.7,
          238
         ]
        },
        {
         "line": {
          "color": "grey",
          "width": 2
         },
         "mode": "lines",
         "name": "Qdot exp",
         "type": "scatter",
         "x": [
          0.12407048005974275,
          0.023704843864038594,
          7.317981848774309,
          7.308887397263788,
          16.15877710780768,
          16.18377666033615
         ],
         "y": [
          681.2952184293931,
          683.9383099755662,
          486.1679344330127,
          486.41702917746466,
          241.67009376063172,
          241.02535352009258
         ]
        }
       ],
       "layout": {
        "barmode": "relative",
        "template": {
         "data": {
          "bar": [
           {
            "error_x": {
             "color": "#2a3f5f"
            },
            "error_y": {
             "color": "#2a3f5f"
            },
            "marker": {
             "line": {
              "color": "#E5ECF6",
              "width": 0.5
             },
             "pattern": {
              "fillmode": "overlay",
              "size": 10,
              "solidity": 0.2
             }
            },
            "type": "bar"
           }
          ],
          "barpolar": [
           {
            "marker": {
             "line": {
              "color": "#E5ECF6",
              "width": 0.5
             },
             "pattern": {
              "fillmode": "overlay",
              "size": 10,
              "solidity": 0.2
             }
            },
            "type": "barpolar"
           }
          ],
          "carpet": [
           {
            "aaxis": {
             "endlinecolor": "#2a3f5f",
             "gridcolor": "white",
             "linecolor": "white",
             "minorgridcolor": "white",
             "startlinecolor": "#2a3f5f"
            },
            "baxis": {
             "endlinecolor": "#2a3f5f",
             "gridcolor": "white",
             "linecolor": "white",
             "minorgridcolor": "white",
             "startlinecolor": "#2a3f5f"
            },
            "type": "carpet"
           }
          ],
          "choropleth": [
           {
            "colorbar": {
             "outlinewidth": 0,
             "ticks": ""
            },
            "type": "choropleth"
           }
          ],
          "contour": [
           {
            "colorbar": {
             "outlinewidth": 0,
             "ticks": ""
            },
            "colorscale": [
             [
              0,
              "#0d0887"
             ],
             [
              0.1111111111111111,
              "#46039f"
             ],
             [
              0.2222222222222222,
              "#7201a8"
             ],
             [
              0.3333333333333333,
              "#9c179e"
             ],
             [
              0.4444444444444444,
              "#bd3786"
             ],
             [
              0.5555555555555556,
              "#d8576b"
             ],
             [
              0.6666666666666666,
              "#ed7953"
             ],
             [
              0.7777777777777778,
              "#fb9f3a"
             ],
             [
              0.8888888888888888,
              "#fdca26"
             ],
             [
              1,
              "#f0f921"
             ]
            ],
            "type": "contour"
           }
          ],
          "contourcarpet": [
           {
            "colorbar": {
             "outlinewidth": 0,
             "ticks": ""
            },
            "type": "contourcarpet"
           }
          ],
          "heatmap": [
           {
            "colorbar": {
             "outlinewidth": 0,
             "ticks": ""
            },
            "colorscale": [
             [
              0,
              "#0d0887"
             ],
             [
              0.1111111111111111,
              "#46039f"
             ],
             [
              0.2222222222222222,
              "#7201a8"
             ],
             [
              0.3333333333333333,
              "#9c179e"
             ],
             [
              0.4444444444444444,
              "#bd3786"
             ],
             [
              0.5555555555555556,
              "#d8576b"
             ],
             [
              0.6666666666666666,
              "#ed7953"
             ],
             [
              0.7777777777777778,
              "#fb9f3a"
             ],
             [
              0.8888888888888888,
              "#fdca26"
             ],
             [
              1,
              "#f0f921"
             ]
            ],
            "type": "heatmap"
           }
          ],
          "heatmapgl": [
           {
            "colorbar": {
             "outlinewidth": 0,
             "ticks": ""
            },
            "colorscale": [
             [
              0,
              "#0d0887"
             ],
             [
              0.1111111111111111,
              "#46039f"
             ],
             [
              0.2222222222222222,
              "#7201a8"
             ],
             [
              0.3333333333333333,
              "#9c179e"
             ],
             [
              0.4444444444444444,
              "#bd3786"
             ],
             [
              0.5555555555555556,
              "#d8576b"
             ],
             [
              0.6666666666666666,
              "#ed7953"
             ],
             [
              0.7777777777777778,
              "#fb9f3a"
             ],
             [
              0.8888888888888888,
              "#fdca26"
             ],
             [
              1,
              "#f0f921"
             ]
            ],
            "type": "heatmapgl"
           }
          ],
          "histogram": [
           {
            "marker": {
             "pattern": {
              "fillmode": "overlay",
              "size": 10,
              "solidity": 0.2
             }
            },
            "type": "histogram"
           }
          ],
          "histogram2d": [
           {
            "colorbar": {
             "outlinewidth": 0,
             "ticks": ""
            },
            "colorscale": [
             [
              0,
              "#0d0887"
             ],
             [
              0.1111111111111111,
              "#46039f"
             ],
             [
              0.2222222222222222,
              "#7201a8"
             ],
             [
              0.3333333333333333,
              "#9c179e"
             ],
             [
              0.4444444444444444,
              "#bd3786"
             ],
             [
              0.5555555555555556,
              "#d8576b"
             ],
             [
              0.6666666666666666,
              "#ed7953"
             ],
             [
              0.7777777777777778,
              "#fb9f3a"
             ],
             [
              0.8888888888888888,
              "#fdca26"
             ],
             [
              1,
              "#f0f921"
             ]
            ],
            "type": "histogram2d"
           }
          ],
          "histogram2dcontour": [
           {
            "colorbar": {
             "outlinewidth": 0,
             "ticks": ""
            },
            "colorscale": [
             [
              0,
              "#0d0887"
             ],
             [
              0.1111111111111111,
              "#46039f"
             ],
             [
              0.2222222222222222,
              "#7201a8"
             ],
             [
              0.3333333333333333,
              "#9c179e"
             ],
             [
              0.4444444444444444,
              "#bd3786"
             ],
             [
              0.5555555555555556,
              "#d8576b"
             ],
             [
              0.6666666666666666,
              "#ed7953"
             ],
             [
              0.7777777777777778,
              "#fb9f3a"
             ],
             [
              0.8888888888888888,
              "#fdca26"
             ],
             [
              1,
              "#f0f921"
             ]
            ],
            "type": "histogram2dcontour"
           }
          ],
          "mesh3d": [
           {
            "colorbar": {
             "outlinewidth": 0,
             "ticks": ""
            },
            "type": "mesh3d"
           }
          ],
          "parcoords": [
           {
            "line": {
             "colorbar": {
              "outlinewidth": 0,
              "ticks": ""
             }
            },
            "type": "parcoords"
           }
          ],
          "pie": [
           {
            "automargin": true,
            "type": "pie"
           }
          ],
          "scatter": [
           {
            "fillpattern": {
             "fillmode": "overlay",
             "size": 10,
             "solidity": 0.2
            },
            "type": "scatter"
           }
          ],
          "scatter3d": [
           {
            "line": {
             "colorbar": {
              "outlinewidth": 0,
              "ticks": ""
             }
            },
            "marker": {
             "colorbar": {
              "outlinewidth": 0,
              "ticks": ""
             }
            },
            "type": "scatter3d"
           }
          ],
          "scattercarpet": [
           {
            "marker": {
             "colorbar": {
              "outlinewidth": 0,
              "ticks": ""
             }
            },
            "type": "scattercarpet"
           }
          ],
          "scattergeo": [
           {
            "marker": {
             "colorbar": {
              "outlinewidth": 0,
              "ticks": ""
             }
            },
            "type": "scattergeo"
           }
          ],
          "scattergl": [
           {
            "marker": {
             "colorbar": {
              "outlinewidth": 0,
              "ticks": ""
             }
            },
            "type": "scattergl"
           }
          ],
          "scattermapbox": [
           {
            "marker": {
             "colorbar": {
              "outlinewidth": 0,
              "ticks": ""
             }
            },
            "type": "scattermapbox"
           }
          ],
          "scatterpolar": [
           {
            "marker": {
             "colorbar": {
              "outlinewidth": 0,
              "ticks": ""
             }
            },
            "type": "scatterpolar"
           }
          ],
          "scatterpolargl": [
           {
            "marker": {
             "colorbar": {
              "outlinewidth": 0,
              "ticks": ""
             }
            },
            "type": "scatterpolargl"
           }
          ],
          "scatterternary": [
           {
            "marker": {
             "colorbar": {
              "outlinewidth": 0,
              "ticks": ""
             }
            },
            "type": "scatterternary"
           }
          ],
          "surface": [
           {
            "colorbar": {
             "outlinewidth": 0,
             "ticks": ""
            },
            "colorscale": [
             [
              0,
              "#0d0887"
             ],
             [
              0.1111111111111111,
              "#46039f"
             ],
             [
              0.2222222222222222,
              "#7201a8"
             ],
             [
              0.3333333333333333,
              "#9c179e"
             ],
             [
              0.4444444444444444,
              "#bd3786"
             ],
             [
              0.5555555555555556,
              "#d8576b"
             ],
             [
              0.6666666666666666,
              "#ed7953"
             ],
             [
              0.7777777777777778,
              "#fb9f3a"
             ],
             [
              0.8888888888888888,
              "#fdca26"
             ],
             [
              1,
              "#f0f921"
             ]
            ],
            "type": "surface"
           }
          ],
          "table": [
           {
            "cells": {
             "fill": {
              "color": "#EBF0F8"
             },
             "line": {
              "color": "white"
             }
            },
            "header": {
             "fill": {
              "color": "#C8D4E3"
             },
             "line": {
              "color": "white"
             }
            },
            "type": "table"
           }
          ]
         },
         "layout": {
          "annotationdefaults": {
           "arrowcolor": "#2a3f5f",
           "arrowhead": 0,
           "arrowwidth": 1
          },
          "autotypenumbers": "strict",
          "coloraxis": {
           "colorbar": {
            "outlinewidth": 0,
            "ticks": ""
           }
          },
          "colorscale": {
           "diverging": [
            [
             0,
             "#8e0152"
            ],
            [
             0.1,
             "#c51b7d"
            ],
            [
             0.2,
             "#de77ae"
            ],
            [
             0.3,
             "#f1b6da"
            ],
            [
             0.4,
             "#fde0ef"
            ],
            [
             0.5,
             "#f7f7f7"
            ],
            [
             0.6,
             "#e6f5d0"
            ],
            [
             0.7,
             "#b8e186"
            ],
            [
             0.8,
             "#7fbc41"
            ],
            [
             0.9,
             "#4d9221"
            ],
            [
             1,
             "#276419"
            ]
           ],
           "sequential": [
            [
             0,
             "#0d0887"
            ],
            [
             0.1111111111111111,
             "#46039f"
            ],
            [
             0.2222222222222222,
             "#7201a8"
            ],
            [
             0.3333333333333333,
             "#9c179e"
            ],
            [
             0.4444444444444444,
             "#bd3786"
            ],
            [
             0.5555555555555556,
             "#d8576b"
            ],
            [
             0.6666666666666666,
             "#ed7953"
            ],
            [
             0.7777777777777778,
             "#fb9f3a"
            ],
            [
             0.8888888888888888,
             "#fdca26"
            ],
            [
             1,
             "#f0f921"
            ]
           ],
           "sequentialminus": [
            [
             0,
             "#0d0887"
            ],
            [
             0.1111111111111111,
             "#46039f"
            ],
            [
             0.2222222222222222,
             "#7201a8"
            ],
            [
             0.3333333333333333,
             "#9c179e"
            ],
            [
             0.4444444444444444,
             "#bd3786"
            ],
            [
             0.5555555555555556,
             "#d8576b"
            ],
            [
             0.6666666666666666,
             "#ed7953"
            ],
            [
             0.7777777777777778,
             "#fb9f3a"
            ],
            [
             0.8888888888888888,
             "#fdca26"
            ],
            [
             1,
             "#f0f921"
            ]
           ]
          },
          "colorway": [
           "#636efa",
           "#EF553B",
           "#00cc96",
           "#ab63fa",
           "#FFA15A",
           "#19d3f3",
           "#FF6692",
           "#B6E880",
           "#FF97FF",
           "#FECB52"
          ],
          "font": {
           "color": "#2a3f5f"
          },
          "geo": {
           "bgcolor": "white",
           "lakecolor": "white",
           "landcolor": "#E5ECF6",
           "showlakes": true,
           "showland": true,
           "subunitcolor": "white"
          },
          "hoverlabel": {
           "align": "left"
          },
          "hovermode": "closest",
          "mapbox": {
           "style": "light"
          },
          "paper_bgcolor": "white",
          "plot_bgcolor": "#E5ECF6",
          "polar": {
           "angularaxis": {
            "gridcolor": "white",
            "linecolor": "white",
            "ticks": ""
           },
           "bgcolor": "#E5ECF6",
           "radialaxis": {
            "gridcolor": "white",
            "linecolor": "white",
            "ticks": ""
           }
          },
          "scene": {
           "xaxis": {
            "backgroundcolor": "#E5ECF6",
            "gridcolor": "white",
            "gridwidth": 2,
            "linecolor": "white",
            "showbackground": true,
            "ticks": "",
            "zerolinecolor": "white"
           },
           "yaxis": {
            "backgroundcolor": "#E5ECF6",
            "gridcolor": "white",
            "gridwidth": 2,
            "linecolor": "white",
            "showbackground": true,
            "ticks": "",
            "zerolinecolor": "white"
           },
           "zaxis": {
            "backgroundcolor": "#E5ECF6",
            "gridcolor": "white",
            "gridwidth": 2,
            "linecolor": "white",
            "showbackground": true,
            "ticks": "",
            "zerolinecolor": "white"
           }
          },
          "shapedefaults": {
           "line": {
            "color": "#2a3f5f"
           }
          },
          "ternary": {
           "aaxis": {
            "gridcolor": "white",
            "linecolor": "white",
            "ticks": ""
           },
           "baxis": {
            "gridcolor": "white",
            "linecolor": "white",
            "ticks": ""
           },
           "bgcolor": "#E5ECF6",
           "caxis": {
            "gridcolor": "white",
            "linecolor": "white",
            "ticks": ""
           }
          },
          "title": {
           "x": 0.05
          },
          "xaxis": {
           "automargin": true,
           "gridcolor": "white",
           "linecolor": "white",
           "ticks": "",
           "title": {
            "standoff": 15
           },
           "zerolinecolor": "white",
           "zerolinewidth": 2
          },
          "yaxis": {
           "automargin": true,
           "gridcolor": "white",
           "linecolor": "white",
           "ticks": "",
           "title": {
            "standoff": 15
           },
           "zerolinecolor": "white",
           "zerolinewidth": 2
          }
         }
        },
        "xaxis": {
         "title": {
          "text": "T_m - T_amb"
         }
        },
        "yaxis": {
         "title": {
          "text": "Heat Transfer"
         }
        }
       }
      }
     },
     "metadata": {},
     "output_type": "display_data"
    }
   ],
   "source": [
    "df = df_res.copy()\n",
    "\n",
    "df = df.loc[df['u'] == 2.7]\n",
    "\n",
    "ht_signs = {'Qdot_sun_PV': 1, 'Qdot_sun_glass': 1, 'Qdot_top_conv': -1, 'Qdot_top_rad': -1, 'Qdot_PV_sky': -1, 'Qdot_absfin_back_conv': -1, 'Qdot_absfin_back_rad': -1, 'Qdot_Base_back': -1, 'Qdot_tube_back_conv': -1, 'Qdot_tube_back_rad': -1, 'Qdot_tube_sky': -1}\n",
    "ht_labels = ['Qdot_sun_PV', 'Qdot_sun_glass', 'Qdot_top_conv', 'Qdot_top_rad', 'Qdot_PV_sky', 'Qdot_absfin_back_conv', 'Qdot_absfin_back_rad', 'Qdot_tube_back_conv', 'Qdot_tube_back_rad', 'Qdot_tube_sky']\n",
    "colors_ht = [RD_config.get_hex_code('yellow',100), RD_config.get_hex_code('orange',100),RD_config.get_hex_code('green',150), RD_config.get_hex_code('blue',150),RD_config.get_hex_code('blue',100),RD_config.get_hex_code('green',100),RD_config.get_hex_code('grey',100),RD_config.get_hex_code('green',50),RD_config.get_hex_code('grey',50),RD_config.get_hex_code('blue',50)]\n",
    "\n",
    "# Calculate the total positive heat transfers for each T_m - T_amb\n",
    "df['positive_total'] = df[[label for label in ht_labels if ht_signs[label] == 1]].sum(axis=1)\n",
    "\n",
    "# Initialize the figure\n",
    "fig = go.Figure()\n",
    "\n",
    "# Define the bar width\n",
    "bar_width = 0.4\n",
    "\n",
    "# Add traces for positive heat transfers (gains)\n",
    "for i, label in enumerate(ht_labels):\n",
    "    if ht_signs[label] == 1:\n",
    "        fig.add_trace(go.Bar(\n",
    "            x=df['T_m - T_amb'],\n",
    "            y=df[label],\n",
    "            name=label,\n",
    "            width=[bar_width] * len(df),\n",
    "            hovertext=round(df[label],0),\n",
    "            hoverinfo='text',\n",
    "            marker=dict(color=colors_ht[i])\n",
    "        ))\n",
    "\n",
    "# Add traces for negative heat transfers (losses) with base starting from the positive total\n",
    "label_sum = []\n",
    "for i, label in enumerate(ht_labels):\n",
    "    if ht_signs[label] == -1:\n",
    "        base = df['positive_total'] - df[[lbl for lbl in ht_labels if (ht_signs[lbl] == -1) & (lbl not in label_sum)]].sum(axis=1)\n",
    "        fig.add_trace(go.Bar(\n",
    "            x=df['T_m - T_amb'] + bar_width,  # Offset for side-by-side display\n",
    "            y=df[label],\n",
    "            name=label,\n",
    "            width=[bar_width] * len(df),\n",
    "            base=base,\n",
    "            hovertext=round(df[label],0),\n",
    "            hoverinfo='text',\n",
    "            marker=dict(color=colors_ht[i])\n",
    "        ))\n",
    "        label_sum.append(label)\n",
    "\n",
    "\n",
    "fig.add_trace(go.Scatter(\n",
    "    x=df['T_m - T_amb'],\n",
    "    y=df['Qdot_exp'],\n",
    "    mode='lines',\n",
    "    name='Qdot exp',\n",
    "    line=dict(color='black', width=2)\n",
    "))\n",
    "\n",
    "fig.add_trace(go.Scatter(\n",
    "    x=df['T_m - T_amb'],\n",
    "    y=df['Qdot_tube_fluid'],\n",
    "    mode='lines',\n",
    "    name='Qdot exp',\n",
    "    line=dict(color='grey', width=2)\n",
    "))\n",
    "\n",
    "# Update layout for stacked bars\n",
    "fig.update_layout(barmode='relative', yaxis_title='Heat Transfer', xaxis_title='T_m - T_amb')\n",
    "\n",
    "\n",
    "# Show the figure\n",
    "fig.show()"
   ]
  },
  {
   "cell_type": "code",
   "execution_count": null,
   "metadata": {},
   "outputs": [],
   "source": []
  },
  {
   "cell_type": "code",
   "execution_count": null,
   "metadata": {},
   "outputs": [],
   "source": [
    "df['T_m - T_amb']"
   ]
  },
  {
   "cell_type": "code",
   "execution_count": null,
   "metadata": {},
   "outputs": [],
   "source": [
    "df['negative_total']"
   ]
  },
  {
   "cell_type": "code",
   "execution_count": null,
   "metadata": {},
   "outputs": [],
   "source": []
  },
  {
   "cell_type": "code",
   "execution_count": null,
   "metadata": {},
   "outputs": [],
   "source": []
  },
  {
   "cell_type": "code",
   "execution_count": null,
   "metadata": {},
   "outputs": [],
   "source": [
    "# df_res[['Qdot_tube_fluid','Qdot_exp','error']]"
   ]
  },
  {
   "cell_type": "code",
   "execution_count": null,
   "metadata": {},
   "outputs": [],
   "source": []
  },
  {
   "cell_type": "code",
   "execution_count": null,
   "metadata": {},
   "outputs": [],
   "source": [
    "mae = np.abs(df_res['error']).mean()\n",
    "print(mae)"
   ]
  },
  {
   "cell_type": "code",
   "execution_count": null,
   "metadata": {},
   "outputs": [],
   "source": [
    "wm = 7\n",
    "\n",
    "# Deuxième écriture plus simple pour modifier les coefficients\n",
    "mapping_matrix = np.array([\n",
    "                            wm*[''],\n",
    "                            ['tau_g', 'alpha_g', 'alpha_PV', 'eps_PV', 'eps_g', 'l_c', 'lambd_air'],\n",
    "                           ])\n",
    "\n",
    "part_mapping_matrix = [\n",
    "                        np.nan,\n",
    "                        [['part1','part2','part3'] for _ in range(wm)]\n",
    "                        ]\n",
    "\n",
    "ranges_matrix = np.array(list(product(np.arange(0.80,0.98,0.02),\n",
    "                                        np.array([0.05]),\n",
    "                                        np.array([0.95]),\n",
    "                                        np.array([0.9]),\n",
    "                                        np.array([0.9]),\n",
    "                                        np.array([0.5e-3,1e-3,1.5e-3]),\n",
    "                                        np.array([0.5e-3,1e-3,1.5e-3])\n",
    "                                        )))"
   ]
  },
  {
   "cell_type": "code",
   "execution_count": 24,
   "metadata": {},
   "outputs": [],
   "source": [
    "wm = 1\n",
    "\n",
    "# Deuxième écriture plus simple pour modifier les coefficients\n",
    "mapping_matrix = np.array([\n",
    "                            wm*[''],\n",
    "                            ['lambd_air'],\n",
    "                           ])\n",
    "\n",
    "part_mapping_matrix = [\n",
    "                        np.nan,\n",
    "                        [['part1','part2','part3'] for _ in range(wm)]\n",
    "                        ]\n",
    "\n",
    "ranges_matrix = np.array(list(product(\n",
    "                                        np.array([0.1e-3,10e-3,1.1e-4])\n",
    "                                        )))"
   ]
  },
  {
   "cell_type": "code",
   "execution_count": null,
   "metadata": {},
   "outputs": [],
   "source": [
    "ranges_matrix"
   ]
  },
  {
   "cell_type": "code",
   "execution_count": null,
   "metadata": {},
   "outputs": [],
   "source": [
    "part_mapping_matrix[1]"
   ]
  },
  {
   "cell_type": "code",
   "execution_count": null,
   "metadata": {},
   "outputs": [],
   "source": [
    "df_res_list = []\n",
    "mae_list = []\n",
    "rmse_list = []\n",
    "\n",
    "index_geometry = 1\n",
    "\n",
    "for i in tqdm(range(ranges_matrix.shape[0])):\n",
    "    for j in range(ranges_matrix.shape[1]):\n",
    "        for k, part_name in enumerate(part_mapping_matrix[index_geometry][j]):\n",
    "            panelSpecs[part_name][mapping_matrix[index_geometry,j]] = ranges_matrix[i,j]\n",
    "    df_res, list_res = ty.simu_steadyStateConditions(panelSpecs,hyp,steadyStateConditions_df)\n",
    "\n",
    "    df_res['Qdot exp'] = steadyStateConditions_df['Qdot']\n",
    "    df_res['error'] = df_res['Qdot_tube_fluid'] - df_res['Qdot exp']\n",
    "    df_res['relative error'] = (df_res['Qdot_tube_fluid'] - df_res['Qdot exp'])/df_res['Qdot exp']\n",
    "    df_res['squared error'] = (df_res['Qdot_tube_fluid'] - df_res['Qdot exp'])**2\n",
    "    mae = df_res['error'].abs().mean()\n",
    "    rmse = np.sqrt(df_res['squared error'].mean())\n",
    "\n",
    "    df_res_list.append(df_res)\n",
    "    mae_list.append(mae)\n",
    "    rmse_list.append(rmse)"
   ]
  },
  {
   "cell_type": "code",
   "execution_count": null,
   "metadata": {},
   "outputs": [],
   "source": [
    "df_res_list[9][['T_amb','u','T_fluid_in','Qdot_tube_fluid','Qdot exp','error']]"
   ]
  },
  {
   "cell_type": "code",
   "execution_count": null,
   "metadata": {},
   "outputs": [],
   "source": [
    "min_index = mae_list.index(min(mae_list))\n",
    "print(min_index)"
   ]
  },
  {
   "cell_type": "code",
   "execution_count": null,
   "metadata": {},
   "outputs": [],
   "source": [
    "min(mae_list)"
   ]
  },
  {
   "cell_type": "code",
   "execution_count": null,
   "metadata": {},
   "outputs": [],
   "source": [
    "df_res_list[3][['Qdot_tube_fluid','Qdot exp','error']]"
   ]
  },
  {
   "cell_type": "code",
   "execution_count": null,
   "metadata": {},
   "outputs": [],
   "source": [
    "mae_list"
   ]
  },
  {
   "cell_type": "code",
   "execution_count": null,
   "metadata": {},
   "outputs": [],
   "source": [
    "plt.scatter(np.arange(0,len(rmse_list),1),rmse_list)"
   ]
  },
  {
   "cell_type": "code",
   "execution_count": null,
   "metadata": {},
   "outputs": [],
   "source": [
    "panelSpecs['pv']['tau_g']"
   ]
  },
  {
   "cell_type": "code",
   "execution_count": null,
   "metadata": {},
   "outputs": [],
   "source": [
    "len(ranges_matrix)*2/3600"
   ]
  },
  {
   "cell_type": "code",
   "execution_count": null,
   "metadata": {},
   "outputs": [],
   "source": [
    "all_combinations = list(product(range1, range2, range3))\n",
    "matrix = np.array(all_combinations)"
   ]
  },
  {
   "cell_type": "code",
   "execution_count": null,
   "metadata": {},
   "outputs": [],
   "source": [
    "matrix"
   ]
  },
  {
   "cell_type": "markdown",
   "metadata": {},
   "source": [
    "Calibrage modèle multi-design"
   ]
  },
  {
   "cell_type": "code",
   "execution_count": null,
   "metadata": {},
   "outputs": [],
   "source": [
    "# Permet de modifier une valeur du dictionnaire hyp\n",
    "## Par exemple init_hyp('method_h_back_abs','free') va retourner le dictionnaire hyp avec la valeur 'method_h_back_abs' modifié en 'free'\n",
    "def init_hyp(coeff, method) : \n",
    "    hyp[coeff] = method\n",
    "    return(hyp)"
   ]
  },
  {
   "cell_type": "markdown",
   "metadata": {},
   "source": [
    "Création de la matrice du modèle"
   ]
  },
  {
   "cell_type": "code",
   "execution_count": null,
   "metadata": {},
   "outputs": [],
   "source": [
    "# Récupération des résultats expérimentaux\n",
    "\n",
    "X_list_df = pd.read_excel(exp_path,header = 2) ## On ne prend pas en compe les 2 premières lignes // EN FONCTION DE COMMENT SONT PR2SENT2S LES RES\n",
    "X_list = X_list_df.to_dict(orient='records')"
   ]
  },
  {
   "cell_type": "code",
   "execution_count": null,
   "metadata": {},
   "outputs": [],
   "source": [
    "# Création de la matrice \"A\" sous forme de dictionnaire\n",
    "\n",
    "measured_case = 0 # nb_measured_case = len(X_tot)\n",
    "case = 0 # nb_case = len(stepConditions) il faudrait faire correspondre les lignes de stepConditions avec le numéro des measuredcase comme ça on a qu'une variable\n",
    "\n",
    "# Dictionnaire des paramètres du modèle commun à tous les designs \"alpha_0\"\n",
    "basic_parameters = dict([\n",
    "    ('basic_parameters_1',1),\n",
    "    ('basic_parameters_2',1),\n",
    "    ('basic_parameters_3',1),\n",
    "    ('basic_parameters_4',1),\n",
    "    ('basic_parameters_5',1),\n",
    "    ('basic_parameters_6',1),\n",
    "    ('basic_parameters_7',1),\n",
    "    ('basic_parameters_8',1),\n",
    "    ('basic_parameters_9',1),\n",
    "    ('basic_parameters_10',1),\n",
    "    ])\n",
    "\n",
    "# Matrice du modèle \"A\" \n",
    "model_matrix = dict(['alpha_0',basic_parameters])\n",
    "\n",
    "# Plutôt faire l'inverse et créer le dictionnaire à partir d'une DataFrame puis sortir les différents X\n",
    "# for i in range(nb_measured_case) :\n",
    "# Point de données\n",
    "X = dict([('componentSpecs',componentSpecs), ('stepConditions',stepConditions[case])]) \n",
    "# X_tot = dict([ \n",
    "#    ('X_{measured_case}',X)\n",
    "#   ])\n",
    "\n",
    "# Dictionnaire des paramètres du modèle liés à la géométrie \"alpha_j\"\n",
    "design_parameters = dict([\n",
    "    ('tau_g_{measured_case}', X['componentSpecs']['pv']['tau_g']), # Transmittance glass\n",
    "    ('alpha_g_{measured_case}', X['componentSpecs']['pv']['alpha_g']), # Absorptance glass\n",
    "    ('eps_PV_{measured_case}', X['componentSpecs']['pv']['eps_PV']), # Émissivité cellule PV\n",
    "    ('eps_g_{measured_case}', X['componentSpecs']['pv']['eps_g']), # Émissivité glass\n",
    "    ('eps_hx_top_{measured_case}', X['componentSpecs']['main']['eps_hx_top']), # Émissivité de l'échangeur thermique sur le panneau\n",
    "    ('eps_hx_back_{measured_case}', X['componentSpecs']['main']['eps_hx_back']), # Émissivité de l'échangeur thermique à l’arrière du panneau\n",
    "    ('eps_ins_{measured_case}', X['componentSpecs']['main']['eps_ins']), # Émissivité isolant\n",
    "    ('lambd_air_{measured_case}',  X['componentSpecs']['main']['lambd_air']) # Épaisseur de la couche d'air\n",
    "    ])\n",
    "\n",
    "model_matrix['alpha_{measured_case}'] = design_parameters\n",
    "#fin boucle for"
   ]
  },
  {
   "cell_type": "code",
   "execution_count": null,
   "metadata": {},
   "outputs": [],
   "source": [
    "# Création de la matrice \"A\" sous forme de listes\n",
    "\n",
    "measured_case = 0 # nb_measured_case = len(X_list)\n",
    "case = 0 # nb_case = len(stepConditions) il faudrait faire correspondre les lignes de stepConditions avec le numéro des measuredcase comme ça on a qu'une variable\n",
    "\n",
    "# Matrice du modèle \"A\" \n",
    "model_matrix = np.ones(10)\n",
    "\n",
    "# Plutôt faire l'inverse et créer le dictionnaire à partir d'une DataFrame puis sortir les différents X\n",
    "# for i in range(nb_measured_case) :\n",
    "# Point de données\n",
    "X = dict([('componentSpecs',componentSpecs), ('stepConditions',stepConditions[case])]) \n",
    "# X_list = dict([ \n",
    "#    ('X_{measured_case}',X)\n",
    "#   ])\n",
    "\n",
    "# Dictionnaire des paramètres du modèle liés à la géométrie \"alpha_j\"\n",
    "design_parameters = np.zeros(10)\n",
    "design_parameters[0] = X['componentSpecs']['pv']['tau_g'] # Transmittance glass\n",
    "design_parameters[1] =  X['componentSpecs']['pv']['alpha_g'] # Absorptance glass\n",
    "design_parameters[2] = X['componentSpecs']['pv']['eps_PV'] # Émissivité cellule PV\n",
    "design_parameters[3] = X['componentSpecs']['pv']['eps_g'] # Émissivité glass\n",
    "design_parameters[4] = X['componentSpecs']['main']['eps_hx_top'] # Émissivité de l'échangeur thermique sur le panneau\n",
    "design_parameters[5] = X['componentSpecs']['main']['eps_hx_back'] # Émissivité de l'échangeur thermique à l’arrière du panneau\n",
    "design_parameters[6] = X['componentSpecs']['main']['eps_ins'] # Émissivité isolant\n",
    "design_parameters[7] = X['componentSpecs']['main']['lambd_air'] # Épaisseur de la couche d'air\n",
    "\n",
    "\n",
    "model_matrix= np.vstack((model_matrix, design_parameters))\n",
    "\n",
    "#fin boucle for\n",
    "model_matrix"
   ]
  },
  {
   "cell_type": "code",
   "execution_count": null,
   "metadata": {},
   "outputs": [],
   "source": []
  },
  {
   "cell_type": "code",
   "execution_count": null,
   "metadata": {},
   "outputs": [],
   "source": [
    "m = len(correspondance_matrice)\n",
    "nb_measured_case = len(X_list)\n",
    "\n",
    "# MAJ de hyp en fonction des méthodes que l'on veut\n",
    "hyp = init_hyp(\"method_h_back_abs\", \"free\")\n",
    "\n",
    "\n",
    "def Qdot_model_tube_fluid(X_list, model_matrix, correspondance_matrice) :\n",
    "        Qdot_list = []\n",
    "        \n",
    "        # Actualise le modèle\n",
    "        for i in range(m) : \n",
    "                if correspondance_matrice[i, 0] != 0. : \n",
    "                       hyp[correspondance_matrice[i,0]] = model_matrix[i, 0]\n",
    "\n",
    "        # Actualise la géométrie\n",
    "        for j in range(nb_measured_case) : \n",
    "                for i in range(m) :\n",
    "                        if correspondance_matrice[i, 0] != 0. :\n",
    "                                X_list[j]['componentSpecs'][correspondance_matrice[i,1]] = model_matrix[i, j]\n",
    "                df_one = ty.simu_one_steady_state_all_he(X_list[j]['componentSpecs'], X_list[j]['stepConditions'], hyp)[0]\n",
    "                Qdot_list.append(df_one['Qdot_tube_fluid'])\n",
    "        return(Qdot_list)"
   ]
  }
 ],
 "metadata": {
  "kernelspec": {
   "display_name": "PVT-thermal-performance-model",
   "language": "python",
   "name": "python3"
  },
  "language_info": {
   "codemirror_mode": {
    "name": "ipython",
    "version": 3
   },
   "file_extension": ".py",
   "mimetype": "text/x-python",
   "name": "python",
   "nbconvert_exporter": "python",
   "pygments_lexer": "ipython3",
   "version": "3.10.5"
  }
 },
 "nbformat": 4,
 "nbformat_minor": 2
}
