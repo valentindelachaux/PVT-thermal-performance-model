{
 "cells": [
  {
   "cell_type": "code",
   "execution_count": 1,
   "metadata": {},
   "outputs": [],
   "source": [
    "# Initialization\n",
    "\n",
    "import math\n",
    "from datetime import datetime\n",
    "import openpyxl as opxl\n",
    "from openpyxl.utils.dataframe import dataframe_to_rows\n",
    "import pandas as pd\n",
    "import numpy as np\n",
    "import matplotlib.pyplot as plt\n",
    "import model as ty\n",
    "import proc as pr\n",
    "import matplotlib.ticker as mtick\n",
    "import sklearn.metrics\n",
    "\n",
    "import scipy.constants as scc\n",
    "\n",
    "import sys\n",
    "sys.path.append('../RD-systems-and-test-benches')\n",
    "\n",
    "import thermal.SK_standard as nm\n",
    "\n",
    "import seaborn as sns\n",
    "\n",
    "import utils.plot_functions as RD_pfun\n",
    "import repo_config as rconfig\n",
    "\n",
    "from IPython.core.display import HTML\n",
    "\n",
    "import heat_transfer as bht\n",
    "\n",
    "import fluids as fds\n",
    "import ht \n",
    "\n",
    "import general as gen\n",
    "\n",
    "import os\n",
    "\n",
    "import scipy.integrate as integrate\n",
    "import scipy.optimize as sco\n",
    "\n",
    "import networkx as nx\n",
    "\n",
    "import plotly.graph_objects as go\n",
    "\n",
    "import plot_functions_here as pfun\n",
    "\n",
    "import plotly.io as pio\n",
    "\n",
    "from itertools import product\n",
    "from itertools import chain\n",
    "\n",
    "from tqdm.notebook import tqdm\n",
    "\n",
    "import copy"
   ]
  },
  {
   "cell_type": "code",
   "execution_count": 2,
   "metadata": {},
   "outputs": [
    {
     "name": "stdout",
     "output_type": "stream",
     "text": [
      "lambd_ins 0.018\n",
      "lambd_ins 0.0\n",
      "lambd_ins 0.018\n",
      "lambd_ins 0.0\n"
     ]
    }
   ],
   "source": [
    "folder_path = r'G:\\Drive partagés\\Cercle Hard\\R&D\\Modèles numériques PVT\\PVT-perf-1Dmodel'\n",
    "geometry_path = folder_path + '\\\\' + 'Panels\\\\Panel_V4.1I.xlsx'\n",
    "hypotheses_path = folder_path + '\\\\' + 'Hypotheses\\\\Model_hypotheses.xlsx'\n",
    "condi_path = folder_path + '\\\\' + 'Steady-state conditions inputs\\\\100424-tests-conditions-GMI.xlsx'\n",
    "exp_path = folder_path + '\\\\' + 'Experiments\\\\Experiments-GMI.xlsx'\n",
    "\n",
    "panelSpecs = pr.import_geometry(geometry_path)\n",
    "hyp = pr.create_dict_from_excel(hypotheses_path,'Main')\n",
    "\n",
    "# steadyStateConditions_df = pd.read_excel(condi_path,header=2) ## Les deux première lignes ne sont pas à prendre en compte\n",
    "# stepConditions = steadyStateConditions_df.to_dict(orient='records')"
   ]
  },
  {
   "cell_type": "code",
   "execution_count": 3,
   "metadata": {},
   "outputs": [],
   "source": [
    "recap = pd.read_excel(r'G:\\Drive partagés\\Cercle Hard\\R&D\\Thermal performance tests PVT\\Recap_RD_TUV_SSI.xlsx')\n",
    "recap = recap.drop(index=0)\n",
    "recap.dropna(how='all', inplace=True)\n",
    "\n",
    "groups = {key: group for key, group in recap.groupby('Design')}"
   ]
  },
  {
   "cell_type": "code",
   "execution_count": 4,
   "metadata": {},
   "outputs": [],
   "source": [
    "steadyStateConditions_df = groups['V4.1I'].loc[groups['V4.1I']['Type'] == 'SK'].copy()\n",
    "pr.convert_to_K(steadyStateConditions_df)\n",
    "pr.adjust_steadyStateConditions(steadyStateConditions_df, hyp)\n",
    "steadyStateConditions_df.reset_index(drop=True, inplace=True)\n",
    "steadyStateConditions = steadyStateConditions_df.to_dict(orient='records')"
   ]
  },
  {
   "cell_type": "code",
   "execution_count": 5,
   "metadata": {},
   "outputs": [],
   "source": [
    "# df_res, list_res = ty.simu_steadyStateConditions(panelSpecs,hyp,steadyStateConditions_df)\n",
    "# df_one, res = ty.simu_one_steady_state_all_he(panelSpecs, steadyStateConditions[0], hyp)"
   ]
  },
  {
   "cell_type": "code",
   "execution_count": 6,
   "metadata": {},
   "outputs": [],
   "source": [
    "mapping_parameters_bounds = {\n",
    "    'panelSpecs': {\n",
    "        'pv' : {\n",
    "                'tau_g' : (0.8, 0.95),\n",
    "                # 'alpha_g' : (0.02,0.08),\n",
    "                # 'alpha_PV' : (0.8, 0.95),\n",
    "                # 'eps_PV' : (0.85, 0.95),\n",
    "                # 'eps_g' : (0.85, 0.95),\n",
    "        },\n",
    "        'meander' : {\n",
    "                # 'l_c' : (1.5e-3,3e-3),\n",
    "                'lambd_air' : (0.01e-3,1.5e-3),\n",
    "        }\n",
    "    },\n",
    "    'hyp': {\n",
    "        'coeff_h_top_forced_range0' : (0.5, 2.5),\n",
    "        'coeff_h_top_forced_range1' : (0.5, 2.5),\n",
    "        'coeff_h_top_forced_range2' : (0.5, 2.5),\n",
    "    },\n",
    "}\n",
    "\n",
    "# Function to recursively flatten the parameter bounds\n",
    "def flatten_parameters_bounds(d, parent_keys=[]):\n",
    "    items = []\n",
    "    for k, v in d.items():\n",
    "        if isinstance(v, dict):\n",
    "            items.extend(flatten_parameters_bounds(v, parent_keys + [k]))\n",
    "        else:\n",
    "            items.append((parent_keys + [k], v))\n",
    "    return items\n",
    "\n",
    "# Flatten the parameter bounds and extract parameter paths and bounds\n",
    "flattened_parameters = flatten_parameters_bounds(mapping_parameters_bounds)\n",
    "parameter_paths = [param[0] for param in flattened_parameters]\n",
    "bounds = [param[1] for param in flattened_parameters]\n",
    "\n",
    "mapping_parameters = {tuple(flattened_parameters[j][0]): j for j in range(len(flattened_parameters))}\n",
    "\n",
    "def update_panelSpecs_and_hyp(params, panelSpecs, hyp,mapping_parameters_bounds):\n",
    "\n",
    "    # Update panelSpecs\n",
    "    for key in mapping_parameters_bounds['panelSpecs']:\n",
    "\n",
    "        if key in list(set(panelSpecs['decomp'].values()))+['pv']:\n",
    "\n",
    "            zones = list(panelSpecs['decomp'].keys()) if key == 'pv' else [_ for _, value in panelSpecs['decomp'].items() if value == key]\n",
    "\n",
    "            for z in zones:\n",
    "                for subkey in mapping_parameters_bounds['panelSpecs'][key]:\n",
    "\n",
    "                    panelSpecs[z][subkey] = params[mapping_parameters[('panelSpecs', key, subkey)]]\n",
    "        else:\n",
    "            panelSpecs[key] = params[mapping_parameters[('panelSpecs', key)]]\n",
    "    \n",
    "    # Update hyp\n",
    "    for key in mapping_parameters_bounds['hyp']:\n",
    "        hyp[key] = params[mapping_parameters[('hyp', key)]]\n",
    "\n",
    "def simulation_function(params, panelSpecs, hyp, steadyStateConditions_df, mapping_parameters_bounds):\n",
    "    \n",
    "    update_panelSpecs_and_hyp(params, panelSpecs, hyp, mapping_parameters_bounds)\n",
    "\n",
    "    # Call the simulation function\n",
    "    df_res, list_res = ty.simu_steadyStateConditions(panelSpecs, hyp, steadyStateConditions_df)\n",
    "    return df_res\n",
    "\n",
    "def objective_function(params, panelSpecs, hyp, steadyStateConditions_df, experimental_df_res, mapping_parameters_bounds):\n",
    "    df_res = simulation_function(params, panelSpecs, hyp, steadyStateConditions_df, mapping_parameters_bounds)\n",
    "\n",
    "    return np.sqrt(((df_res['Qdot_tube_fluid'] - experimental_df_res['Qdot']) ** 2).mean())\n"
   ]
  },
  {
   "cell_type": "code",
   "execution_count": 7,
   "metadata": {},
   "outputs": [
    {
     "data": {
      "application/vnd.jupyter.widget-view+json": {
       "model_id": "fe861b08aa28459abd127f1339a810aa",
       "version_major": 2,
       "version_minor": 0
      },
      "text/plain": [
       "Optimizations:   0%|          | 0/5 [00:00<?, ?it/s]"
      ]
     },
     "metadata": {},
     "output_type": "display_data"
    }
   ],
   "source": [
    "panelSpecs_copy = copy.deepcopy(panelSpecs)\n",
    "hyp_copy = copy.deepcopy(hyp)\n",
    "\n",
    "# Number of runs with different initial guesses\n",
    "num_runs = 5\n",
    "\n",
    "# Store the results\n",
    "results = []\n",
    "\n",
    "# Generate random initial guesses within the bounds\n",
    "for run in tqdm(range(num_runs), desc=\"Optimizations\"):\n",
    "    # Random initial guess within bounds\n",
    "    initial_guess = [np.random.uniform(low=b[0], high=b[1]) for b in bounds]\n",
    "\n",
    "    # Perform the optimization\n",
    "    result = sco.minimize(\n",
    "        objective_function,\n",
    "        x0=initial_guess,\n",
    "        args=(panelSpecs_copy, hyp_copy, steadyStateConditions_df, steadyStateConditions_df, mapping_parameters_bounds),\n",
    "        bounds=bounds,\n",
    "        method='L-BFGS-B'\n",
    "    )\n",
    "\n",
    "    # Store the result\n",
    "    results.append(result)\n",
    "\n",
    "params_minima = [[(param[0], result['x'][i]) for i, param in enumerate(flattened_parameters)] for result in results]\n",
    "\n",
    "df_res_minima = []\n",
    "rmse_minima = []\n",
    "\n",
    "for params_dict in params_minima:\n",
    "    df_res = simulation_function([params[1] for params in params_dict], panelSpecs_copy, hyp_copy, steadyStateConditions_df, mapping_parameters_bounds)\n",
    "    df_res_minima.append(df_res)\n",
    "    rmse_minima.append(np.sqrt(((df_res['Qdot_tube_fluid'] - steadyStateConditions_df['Qdot']) ** 2).mean()))"
   ]
  },
  {
   "cell_type": "code",
   "execution_count": 8,
   "metadata": {},
   "outputs": [
    {
     "data": {
      "text/plain": [
       "[[(['panelSpecs', 'pv', 'tau_g'], 0.8789366419156923),\n",
       "  (['panelSpecs', 'meander', 'lambd_air'], 0.0009151227181092382),\n",
       "  (['hyp', 'coeff_h_top_forced_range0'], 2.145223763192959),\n",
       "  (['hyp', 'coeff_h_top_forced_range1'], 2.1503873907673334),\n",
       "  (['hyp', 'coeff_h_top_forced_range2'], 0.5905720130194461)],\n",
       " [(['panelSpecs', 'pv', 'tau_g'], 0.8789367274993654),\n",
       "  (['panelSpecs', 'meander', 'lambd_air'], 0.00047341316220261907),\n",
       "  (['hyp', 'coeff_h_top_forced_range0'], 1.8597697151521944),\n",
       "  (['hyp', 'coeff_h_top_forced_range1'], 0.8946218799421279),\n",
       "  (['hyp', 'coeff_h_top_forced_range2'], 1.7348410253164968)],\n",
       " [(['panelSpecs', 'pv', 'tau_g'], 0.8789366862445004),\n",
       "  (['panelSpecs', 'meander', 'lambd_air'], 0.0004293164670864924),\n",
       "  (['hyp', 'coeff_h_top_forced_range0'], 1.5225394212836385),\n",
       "  (['hyp', 'coeff_h_top_forced_range1'], 1.554462536334269),\n",
       "  (['hyp', 'coeff_h_top_forced_range2'], 1.7399444856444166)],\n",
       " [(['panelSpecs', 'pv', 'tau_g'], 0.8789366891464921),\n",
       "  (['panelSpecs', 'meander', 'lambd_air'], 0.000984208634453206),\n",
       "  (['hyp', 'coeff_h_top_forced_range0'], 2.4991422241371497),\n",
       "  (['hyp', 'coeff_h_top_forced_range1'], 1.4217264882172305),\n",
       "  (['hyp', 'coeff_h_top_forced_range2'], 1.7871944804486952)],\n",
       " [(['panelSpecs', 'pv', 'tau_g'], 0.878936697356976),\n",
       "  (['panelSpecs', 'meander', 'lambd_air'], 0.00018498975373908914),\n",
       "  (['hyp', 'coeff_h_top_forced_range0'], 1.217660700071322),\n",
       "  (['hyp', 'coeff_h_top_forced_range1'], 1.6636410719513222),\n",
       "  (['hyp', 'coeff_h_top_forced_range2'], 1.685951353049823)]]"
      ]
     },
     "execution_count": 8,
     "metadata": {},
     "output_type": "execute_result"
    }
   ],
   "source": [
    "params_minima"
   ]
  },
  {
   "cell_type": "code",
   "execution_count": 16,
   "metadata": {},
   "outputs": [
    {
     "data": {
      "text/html": [
       "<div>\n",
       "<style scoped>\n",
       "    .dataframe tbody tr th:only-of-type {\n",
       "        vertical-align: middle;\n",
       "    }\n",
       "\n",
       "    .dataframe tbody tr th {\n",
       "        vertical-align: top;\n",
       "    }\n",
       "\n",
       "    .dataframe thead th {\n",
       "        text-align: right;\n",
       "    }\n",
       "</style>\n",
       "<table border=\"1\" class=\"dataframe\">\n",
       "  <thead>\n",
       "    <tr style=\"text-align: right;\">\n",
       "      <th></th>\n",
       "      <th>Qdot_top_conv</th>\n",
       "      <th>Qdot_top_rad</th>\n",
       "      <th>Qdot_PV_sky</th>\n",
       "      <th>Qdot_absfin_back_conv</th>\n",
       "      <th>Qdot_absfin_back_rad</th>\n",
       "      <th>Qdot_tube_back_conv</th>\n",
       "      <th>Qdot_tube_back_rad</th>\n",
       "    </tr>\n",
       "  </thead>\n",
       "  <tbody>\n",
       "    <tr>\n",
       "      <th>0</th>\n",
       "      <td>84.598048</td>\n",
       "      <td>119.266615</td>\n",
       "      <td>121.947328</td>\n",
       "      <td>6.561863</td>\n",
       "      <td>10.345963</td>\n",
       "      <td>-1.071539</td>\n",
       "      <td>-0.286517</td>\n",
       "    </tr>\n",
       "    <tr>\n",
       "      <th>1</th>\n",
       "      <td>84.749465</td>\n",
       "      <td>119.382967</td>\n",
       "      <td>122.067873</td>\n",
       "      <td>6.598211</td>\n",
       "      <td>10.392210</td>\n",
       "      <td>-1.036177</td>\n",
       "      <td>-0.265746</td>\n",
       "    </tr>\n",
       "    <tr>\n",
       "      <th>2</th>\n",
       "      <td>143.685527</td>\n",
       "      <td>114.621730</td>\n",
       "      <td>118.426076</td>\n",
       "      <td>6.885738</td>\n",
       "      <td>10.748643</td>\n",
       "      <td>-0.163988</td>\n",
       "      <td>0.217420</td>\n",
       "    </tr>\n",
       "    <tr>\n",
       "      <th>3</th>\n",
       "      <td>145.175691</td>\n",
       "      <td>115.613398</td>\n",
       "      <td>119.467214</td>\n",
       "      <td>7.111350</td>\n",
       "      <td>11.052281</td>\n",
       "      <td>0.075194</td>\n",
       "      <td>0.351709</td>\n",
       "    </tr>\n",
       "    <tr>\n",
       "      <th>4</th>\n",
       "      <td>228.418015</td>\n",
       "      <td>106.035123</td>\n",
       "      <td>111.376159</td>\n",
       "      <td>6.904298</td>\n",
       "      <td>10.756583</td>\n",
       "      <td>0.661812</td>\n",
       "      <td>0.661664</td>\n",
       "    </tr>\n",
       "    <tr>\n",
       "      <th>5</th>\n",
       "      <td>227.180859</td>\n",
       "      <td>105.538520</td>\n",
       "      <td>110.844939</td>\n",
       "      <td>6.786183</td>\n",
       "      <td>10.595530</td>\n",
       "      <td>0.531768</td>\n",
       "      <td>0.589304</td>\n",
       "    </tr>\n",
       "    <tr>\n",
       "      <th>6</th>\n",
       "      <td>117.964479</td>\n",
       "      <td>171.809215</td>\n",
       "      <td>176.570778</td>\n",
       "      <td>15.768394</td>\n",
       "      <td>22.884253</td>\n",
       "      <td>9.051309</td>\n",
       "      <td>5.195438</td>\n",
       "    </tr>\n",
       "    <tr>\n",
       "      <th>7</th>\n",
       "      <td>118.153043</td>\n",
       "      <td>172.010517</td>\n",
       "      <td>176.779811</td>\n",
       "      <td>15.819003</td>\n",
       "      <td>22.945726</td>\n",
       "      <td>9.110185</td>\n",
       "      <td>5.222129</td>\n",
       "    </tr>\n",
       "    <tr>\n",
       "      <th>8</th>\n",
       "      <td>199.913886</td>\n",
       "      <td>164.544615</td>\n",
       "      <td>170.910208</td>\n",
       "      <td>16.155864</td>\n",
       "      <td>23.329164</td>\n",
       "      <td>10.379058</td>\n",
       "      <td>5.784437</td>\n",
       "    </tr>\n",
       "    <tr>\n",
       "      <th>9</th>\n",
       "      <td>198.712452</td>\n",
       "      <td>163.768479</td>\n",
       "      <td>170.093773</td>\n",
       "      <td>15.960913</td>\n",
       "      <td>23.089507</td>\n",
       "      <td>10.141434</td>\n",
       "      <td>5.678775</td>\n",
       "    </tr>\n",
       "    <tr>\n",
       "      <th>10</th>\n",
       "      <td>311.963250</td>\n",
       "      <td>149.430027</td>\n",
       "      <td>157.815884</td>\n",
       "      <td>15.545810</td>\n",
       "      <td>22.534850</td>\n",
       "      <td>10.853113</td>\n",
       "      <td>5.970346</td>\n",
       "    </tr>\n",
       "    <tr>\n",
       "      <th>11</th>\n",
       "      <td>311.857693</td>\n",
       "      <td>149.375245</td>\n",
       "      <td>157.757163</td>\n",
       "      <td>15.534531</td>\n",
       "      <td>22.519971</td>\n",
       "      <td>10.838478</td>\n",
       "      <td>5.963548</td>\n",
       "    </tr>\n",
       "    <tr>\n",
       "      <th>12</th>\n",
       "      <td>157.330733</td>\n",
       "      <td>236.490048</td>\n",
       "      <td>244.003108</td>\n",
       "      <td>27.393090</td>\n",
       "      <td>37.903651</td>\n",
       "      <td>24.090598</td>\n",
       "      <td>11.958429</td>\n",
       "    </tr>\n",
       "    <tr>\n",
       "      <th>13</th>\n",
       "      <td>156.486929</td>\n",
       "      <td>235.569838</td>\n",
       "      <td>243.045751</td>\n",
       "      <td>27.154202</td>\n",
       "      <td>37.630977</td>\n",
       "      <td>23.780185</td>\n",
       "      <td>11.840774</td>\n",
       "    </tr>\n",
       "    <tr>\n",
       "      <th>14</th>\n",
       "      <td>264.125039</td>\n",
       "      <td>224.091688</td>\n",
       "      <td>233.706144</td>\n",
       "      <td>27.479404</td>\n",
       "      <td>37.916616</td>\n",
       "      <td>25.438194</td>\n",
       "      <td>12.431018</td>\n",
       "    </tr>\n",
       "    <tr>\n",
       "      <th>15</th>\n",
       "      <td>263.365057</td>\n",
       "      <td>223.623074</td>\n",
       "      <td>233.212101</td>\n",
       "      <td>27.350564</td>\n",
       "      <td>37.769525</td>\n",
       "      <td>25.265853</td>\n",
       "      <td>12.366677</td>\n",
       "    </tr>\n",
       "    <tr>\n",
       "      <th>16</th>\n",
       "      <td>413.862082</td>\n",
       "      <td>203.544475</td>\n",
       "      <td>215.929344</td>\n",
       "      <td>26.780606</td>\n",
       "      <td>37.001061</td>\n",
       "      <td>26.233392</td>\n",
       "      <td>12.673009</td>\n",
       "    </tr>\n",
       "    <tr>\n",
       "      <th>17</th>\n",
       "      <td>414.162574</td>\n",
       "      <td>203.662404</td>\n",
       "      <td>216.056274</td>\n",
       "      <td>26.813063</td>\n",
       "      <td>37.039048</td>\n",
       "      <td>26.280521</td>\n",
       "      <td>12.690324</td>\n",
       "    </tr>\n",
       "  </tbody>\n",
       "</table>\n",
       "</div>"
      ],
      "text/plain": [
       "    Qdot_top_conv  Qdot_top_rad  Qdot_PV_sky  Qdot_absfin_back_conv   \n",
       "0       84.598048    119.266615   121.947328               6.561863  \\\n",
       "1       84.749465    119.382967   122.067873               6.598211   \n",
       "2      143.685527    114.621730   118.426076               6.885738   \n",
       "3      145.175691    115.613398   119.467214               7.111350   \n",
       "4      228.418015    106.035123   111.376159               6.904298   \n",
       "5      227.180859    105.538520   110.844939               6.786183   \n",
       "6      117.964479    171.809215   176.570778              15.768394   \n",
       "7      118.153043    172.010517   176.779811              15.819003   \n",
       "8      199.913886    164.544615   170.910208              16.155864   \n",
       "9      198.712452    163.768479   170.093773              15.960913   \n",
       "10     311.963250    149.430027   157.815884              15.545810   \n",
       "11     311.857693    149.375245   157.757163              15.534531   \n",
       "12     157.330733    236.490048   244.003108              27.393090   \n",
       "13     156.486929    235.569838   243.045751              27.154202   \n",
       "14     264.125039    224.091688   233.706144              27.479404   \n",
       "15     263.365057    223.623074   233.212101              27.350564   \n",
       "16     413.862082    203.544475   215.929344              26.780606   \n",
       "17     414.162574    203.662404   216.056274              26.813063   \n",
       "\n",
       "    Qdot_absfin_back_rad  Qdot_tube_back_conv  Qdot_tube_back_rad  \n",
       "0              10.345963            -1.071539           -0.286517  \n",
       "1              10.392210            -1.036177           -0.265746  \n",
       "2              10.748643            -0.163988            0.217420  \n",
       "3              11.052281             0.075194            0.351709  \n",
       "4              10.756583             0.661812            0.661664  \n",
       "5              10.595530             0.531768            0.589304  \n",
       "6              22.884253             9.051309            5.195438  \n",
       "7              22.945726             9.110185            5.222129  \n",
       "8              23.329164            10.379058            5.784437  \n",
       "9              23.089507            10.141434            5.678775  \n",
       "10             22.534850            10.853113            5.970346  \n",
       "11             22.519971            10.838478            5.963548  \n",
       "12             37.903651            24.090598           11.958429  \n",
       "13             37.630977            23.780185           11.840774  \n",
       "14             37.916616            25.438194           12.431018  \n",
       "15             37.769525            25.265853           12.366677  \n",
       "16             37.001061            26.233392           12.673009  \n",
       "17             37.039048            26.280521           12.690324  "
      ]
     },
     "execution_count": 16,
     "metadata": {},
     "output_type": "execute_result"
    }
   ],
   "source": [
    "df_res[['Qdot_top_conv','Qdot_top_rad','Qdot_PV_sky','Qdot_absfin_back_conv','Qdot_absfin_back_rad','Qdot_tube_back_conv', 'Qdot_tube_back_rad']]"
   ]
  },
  {
   "cell_type": "code",
   "execution_count": null,
   "metadata": {},
   "outputs": [],
   "source": [
    "df_res['T_absfin_mean']"
   ]
  },
  {
   "cell_type": "code",
   "execution_count": 21,
   "metadata": {},
   "outputs": [
    {
     "data": {
      "text/html": [
       "<div>\n",
       "<style scoped>\n",
       "    .dataframe tbody tr th:only-of-type {\n",
       "        vertical-align: middle;\n",
       "    }\n",
       "\n",
       "    .dataframe tbody tr th {\n",
       "        vertical-align: top;\n",
       "    }\n",
       "\n",
       "    .dataframe thead th {\n",
       "        text-align: right;\n",
       "    }\n",
       "</style>\n",
       "<table border=\"1\" class=\"dataframe\">\n",
       "  <thead>\n",
       "    <tr style=\"text-align: right;\">\n",
       "      <th></th>\n",
       "      <th>T_fluid_mean</th>\n",
       "      <th>T_absfin_mean</th>\n",
       "      <th>T_ins_absfin_mean</th>\n",
       "    </tr>\n",
       "  </thead>\n",
       "  <tbody>\n",
       "    <tr>\n",
       "      <th>0</th>\n",
       "      <td>26.054701</td>\n",
       "      <td>39.924736</td>\n",
       "      <td>37.606808</td>\n",
       "    </tr>\n",
       "    <tr>\n",
       "      <th>1</th>\n",
       "      <td>26.002624</td>\n",
       "      <td>39.865459</td>\n",
       "      <td>37.534073</td>\n",
       "    </tr>\n",
       "    <tr>\n",
       "      <th>2</th>\n",
       "      <td>25.780281</td>\n",
       "      <td>38.055785</td>\n",
       "      <td>35.540011</td>\n",
       "    </tr>\n",
       "    <tr>\n",
       "      <th>3</th>\n",
       "      <td>25.764251</td>\n",
       "      <td>37.971856</td>\n",
       "      <td>35.368981</td>\n",
       "    </tr>\n",
       "    <tr>\n",
       "      <th>4</th>\n",
       "      <td>25.548815</td>\n",
       "      <td>35.905591</td>\n",
       "      <td>33.291699</td>\n",
       "    </tr>\n",
       "    <tr>\n",
       "      <th>5</th>\n",
       "      <td>25.538799</td>\n",
       "      <td>35.935270</td>\n",
       "      <td>33.367523</td>\n",
       "    </tr>\n",
       "    <tr>\n",
       "      <th>6</th>\n",
       "      <td>34.129457</td>\n",
       "      <td>45.022459</td>\n",
       "      <td>39.144762</td>\n",
       "    </tr>\n",
       "    <tr>\n",
       "      <th>7</th>\n",
       "      <td>34.116588</td>\n",
       "      <td>44.997672</td>\n",
       "      <td>39.101958</td>\n",
       "    </tr>\n",
       "    <tr>\n",
       "      <th>8</th>\n",
       "      <td>33.887512</td>\n",
       "      <td>43.108703</td>\n",
       "      <td>37.015810</td>\n",
       "    </tr>\n",
       "    <tr>\n",
       "      <th>9</th>\n",
       "      <td>33.900427</td>\n",
       "      <td>43.174073</td>\n",
       "      <td>37.151288</td>\n",
       "    </tr>\n",
       "    <tr>\n",
       "      <th>10</th>\n",
       "      <td>33.549086</td>\n",
       "      <td>40.911405</td>\n",
       "      <td>34.948806</td>\n",
       "    </tr>\n",
       "    <tr>\n",
       "      <th>11</th>\n",
       "      <td>33.540024</td>\n",
       "      <td>40.906079</td>\n",
       "      <td>34.947733</td>\n",
       "    </tr>\n",
       "    <tr>\n",
       "      <th>12</th>\n",
       "      <td>42.973255</td>\n",
       "      <td>50.410970</td>\n",
       "      <td>40.235800</td>\n",
       "    </tr>\n",
       "    <tr>\n",
       "      <th>13</th>\n",
       "      <td>42.996327</td>\n",
       "      <td>50.488619</td>\n",
       "      <td>40.394629</td>\n",
       "    </tr>\n",
       "    <tr>\n",
       "      <th>14</th>\n",
       "      <td>42.651644</td>\n",
       "      <td>48.397215</td>\n",
       "      <td>38.124711</td>\n",
       "    </tr>\n",
       "    <tr>\n",
       "      <th>15</th>\n",
       "      <td>42.659671</td>\n",
       "      <td>48.437617</td>\n",
       "      <td>38.209001</td>\n",
       "    </tr>\n",
       "    <tr>\n",
       "      <th>16</th>\n",
       "      <td>42.235905</td>\n",
       "      <td>45.979420</td>\n",
       "      <td>35.866304</td>\n",
       "    </tr>\n",
       "    <tr>\n",
       "      <th>17</th>\n",
       "      <td>42.240763</td>\n",
       "      <td>45.974214</td>\n",
       "      <td>35.849845</td>\n",
       "    </tr>\n",
       "  </tbody>\n",
       "</table>\n",
       "</div>"
      ],
      "text/plain": [
       "    T_fluid_mean  T_absfin_mean  T_ins_absfin_mean\n",
       "0      26.054701      39.924736          37.606808\n",
       "1      26.002624      39.865459          37.534073\n",
       "2      25.780281      38.055785          35.540011\n",
       "3      25.764251      37.971856          35.368981\n",
       "4      25.548815      35.905591          33.291699\n",
       "5      25.538799      35.935270          33.367523\n",
       "6      34.129457      45.022459          39.144762\n",
       "7      34.116588      44.997672          39.101958\n",
       "8      33.887512      43.108703          37.015810\n",
       "9      33.900427      43.174073          37.151288\n",
       "10     33.549086      40.911405          34.948806\n",
       "11     33.540024      40.906079          34.947733\n",
       "12     42.973255      50.410970          40.235800\n",
       "13     42.996327      50.488619          40.394629\n",
       "14     42.651644      48.397215          38.124711\n",
       "15     42.659671      48.437617          38.209001\n",
       "16     42.235905      45.979420          35.866304\n",
       "17     42.240763      45.974214          35.849845"
      ]
     },
     "execution_count": 21,
     "metadata": {},
     "output_type": "execute_result"
    }
   ],
   "source": [
    "df_res[['T_fluid_mean','T_absfin_mean','T_ins_absfin_mean']] - 273.15"
   ]
  },
  {
   "cell_type": "code",
   "execution_count": null,
   "metadata": {},
   "outputs": [],
   "source": [
    "for subkey in mapping_parameters_bounds['panelSpecs'][key]:"
   ]
  },
  {
   "cell_type": "code",
   "execution_count": null,
   "metadata": {},
   "outputs": [],
   "source": [
    "panelSpecs_copy['part1']['alpha_g']"
   ]
  },
  {
   "cell_type": "code",
   "execution_count": null,
   "metadata": {},
   "outputs": [],
   "source": [
    "params_minima"
   ]
  },
  {
   "cell_type": "code",
   "execution_count": null,
   "metadata": {},
   "outputs": [],
   "source": [
    "df_res = simulation_function([param[1] for param in params_minima[0]], panelSpecs_copy, hyp_copy, steadyStateConditions_df,mapping_parameters_bounds)"
   ]
  },
  {
   "cell_type": "code",
   "execution_count": null,
   "metadata": {},
   "outputs": [],
   "source": [
    "steadyStateConditions_df['model'] = df_res['Qdot_tube_fluid']\n",
    "steadyStateConditions_df['relative_error'] = (((steadyStateConditions_df['Qdot'] - steadyStateConditions_df['model']) / steadyStateConditions_df['Qdot'])*100)\n",
    "steadyStateConditions_df[['Qdot', 'model', 'T_m - T_amb', 'u', 'relative_error']]"
   ]
  },
  {
   "cell_type": "code",
   "execution_count": null,
   "metadata": {},
   "outputs": [],
   "source": [
    "params_minima"
   ]
  },
  {
   "cell_type": "code",
   "execution_count": null,
   "metadata": {},
   "outputs": [],
   "source": [
    "print(panelSpecs['part2']['tau_g'])\n",
    "print(panelSpecs['part2']['alpha_g'])\n",
    "print(panelSpecs['part2']['alpha_PV'])\n",
    "print(panelSpecs['part2']['eps_PV'])\n",
    "# print(panelSpecs['part2']['eps_g'])"
   ]
  },
  {
   "cell_type": "code",
   "execution_count": null,
   "metadata": {},
   "outputs": [],
   "source": [
    "params_minima"
   ]
  },
  {
   "cell_type": "code",
   "execution_count": null,
   "metadata": {},
   "outputs": [],
   "source": [
    "[param[1] for param in params_minima[0]]"
   ]
  },
  {
   "cell_type": "code",
   "execution_count": 10,
   "metadata": {},
   "outputs": [],
   "source": []
  },
  {
   "cell_type": "code",
   "execution_count": null,
   "metadata": {},
   "outputs": [],
   "source": [
    "df_res['Qdot_tube_fluid']"
   ]
  },
  {
   "cell_type": "code",
   "execution_count": 11,
   "metadata": {},
   "outputs": [],
   "source": [
    "flatten_params_minima = list(chain(*params_minima))"
   ]
  },
  {
   "cell_type": "code",
   "execution_count": null,
   "metadata": {},
   "outputs": [],
   "source": []
  },
  {
   "cell_type": "code",
   "execution_count": null,
   "metadata": {},
   "outputs": [],
   "source": [
    "for params in tqdm(params_minima, desc=\"Simulations\"):\n",
    "    df_res_minima.append( simulation_function(params, panelSpecs_copy, hyp_copy, steadyStateConditions_df) )\n",
    "    rmse_minima.append( np.sqrt(((df_res['Qdot_tube_fluid'] - steadyStateConditions_df['Qdot']) ** 2).mean()) )"
   ]
  },
  {
   "cell_type": "code",
   "execution_count": 25,
   "metadata": {},
   "outputs": [],
   "source": [
    "min_params = [ results[0]['x'][i] for i in range(len(results[0]['x']))]"
   ]
  },
  {
   "cell_type": "code",
   "execution_count": 27,
   "metadata": {},
   "outputs": [],
   "source": [
    "df_res = simulation_function(min_params, panelSpecs_copy, hyp_copy, steadyStateConditions_df)"
   ]
  },
  {
   "cell_type": "code",
   "execution_count": 31,
   "metadata": {},
   "outputs": [],
   "source": [
    "steadyStateConditions_df['model'] = df_res['Qdot_tube_fluid']"
   ]
  },
  {
   "cell_type": "code",
   "execution_count": null,
   "metadata": {},
   "outputs": [],
   "source": [
    "steadyStateConditions_df"
   ]
  },
  {
   "cell_type": "code",
   "execution_count": null,
   "metadata": {},
   "outputs": [],
   "source": [
    "df_res = simulation_function([[0.6]], panelSpecs, hyp, steadyStateConditions_df)"
   ]
  },
  {
   "cell_type": "code",
   "execution_count": 30,
   "metadata": {},
   "outputs": [],
   "source": [
    "# Create the initial guess as the midpoint of the bounds\n",
    "initial_guess = [\n",
    "    (b[0] + b[1]) / 2 for b in bounds\n",
    "]\n",
    "\n",
    "# Prepare the templates (copies of your original dictionaries)\n",
    "panelSpecs_template = panelSpecs.copy()\n",
    "hyp_copy = hyp.copy()"
   ]
  },
  {
   "cell_type": "code",
   "execution_count": 28,
   "metadata": {},
   "outputs": [],
   "source": [
    "initial_guess = [0.2]"
   ]
  },
  {
   "cell_type": "code",
   "execution_count": 31,
   "metadata": {},
   "outputs": [],
   "source": [
    "# Perform the optimization using L-BFGS-B method\n",
    "result = sco.minimize(\n",
    "    objective_function,\n",
    "    x0=initial_guess,\n",
    "    args=(panelSpecs_copy, hyp_copy, steadyStateConditions_df, steadyStateConditions_df),\n",
    "    bounds=bounds,\n",
    "    method='L-BFGS-B'\n",
    ")\n",
    "\n",
    "# Extract the optimal parameters\n",
    "optimal_params = result.x"
   ]
  },
  {
   "cell_type": "code",
   "execution_count": 31,
   "metadata": {},
   "outputs": [],
   "source": [
    "# Define bounds as a list of tuples\n",
    "bounds_list = bounds\n",
    "\n",
    "result = sco.differential_evolution(\n",
    "    objective_function,\n",
    "    bounds=bounds_list,\n",
    "    args=(panelSpecs_template, hyp_copy, steadyStateConditions_df, steadyStateConditions_df),\n",
    "    strategy='best1bin',\n",
    "    maxiter=1000,\n",
    "    popsize=15,\n",
    "    tol=0.01,\n",
    ")\n",
    "\n",
    "optimal_params = result.x"
   ]
  },
  {
   "cell_type": "code",
   "execution_count": null,
   "metadata": {},
   "outputs": [],
   "source": [
    "optimal_params"
   ]
  },
  {
   "cell_type": "code",
   "execution_count": 11,
   "metadata": {},
   "outputs": [],
   "source": [
    "df_res, list_res = simulation_function(params, panelSpecs, hyp, steadyStateConditions_df)"
   ]
  },
  {
   "cell_type": "code",
   "execution_count": null,
   "metadata": {},
   "outputs": [],
   "source": [
    "df_res_list = []\n",
    "mae_list = []\n",
    "rmse_list = []\n",
    "\n",
    "for i, params in tqdm(enumerate(params_list), total=len(params_list)):\n",
    "\n",
    "    df_res = simulation_function(params, panelSpecs, hyp, steadyStateConditions_df)\n",
    "    mae = np.abs(df_res['Qdot_tube_fluid'] - steadyStateConditions_df['Qdot']).mean()\n",
    "    rmse = np.sqrt(((df_res['Qdot_tube_fluid'] - steadyStateConditions_df['Qdot']) ** 2).mean())\n",
    "\n",
    "    df_res_list.append(df_res)\n",
    "    mae_list.append(mae)\n",
    "    rmse_list.append(rmse)"
   ]
  },
  {
   "cell_type": "code",
   "execution_count": null,
   "metadata": {},
   "outputs": [],
   "source": []
  },
  {
   "cell_type": "code",
   "execution_count": null,
   "metadata": {},
   "outputs": [],
   "source": [
    "min_index = rmse_list.index(min(rmse_list))\n",
    "params_list[min_index]"
   ]
  },
  {
   "cell_type": "code",
   "execution_count": 33,
   "metadata": {},
   "outputs": [],
   "source": [
    "params_list = np.array(list(product(np.arange(0.80,0.98,0.02),\n",
    "                                        np.array([0.05]),\n",
    "                                        np.array([0.95]),\n",
    "                                        np.array([0.9]),\n",
    "                                        np.array([0.9]),\n",
    "                                        np.array([0.5e-3,1e-3,1.5e-3]),\n",
    "                                        np.array([0.5e-3,1e-3,1.5e-3])\n",
    "                                        )))"
   ]
  },
  {
   "cell_type": "code",
   "execution_count": 22,
   "metadata": {},
   "outputs": [],
   "source": [
    "params_list = np.array(list(product(np.arange(0.1,0.98,0.02)\n",
    "                                        ))).tolist()"
   ]
  },
  {
   "cell_type": "code",
   "execution_count": null,
   "metadata": {},
   "outputs": [],
   "source": [
    "params_list"
   ]
  },
  {
   "cell_type": "code",
   "execution_count": 39,
   "metadata": {},
   "outputs": [],
   "source": [
    "params = ranges_matrix.tolist()"
   ]
  },
  {
   "cell_type": "code",
   "execution_count": null,
   "metadata": {},
   "outputs": [],
   "source": [
    "len(params)"
   ]
  },
  {
   "cell_type": "code",
   "execution_count": 16,
   "metadata": {},
   "outputs": [],
   "source": [
    "steadyStateConditions_df['Qdot/AG'] = steadyStateConditions_df['Qdot'] / panelSpecs['AG']"
   ]
  },
  {
   "cell_type": "code",
   "execution_count": 17,
   "metadata": {},
   "outputs": [],
   "source": [
    "dic_names = {'T_in' : 'T_fluid_in0',\n",
    "             'T_out' : 'T_fluid_out',\n",
    "             'Qdot_1_AG' : 'Qdot/AG',\n",
    "             'T_amb' : 'T_amb',\n",
    "             'u' : 'u'}"
   ]
  },
  {
   "cell_type": "code",
   "execution_count": 21,
   "metadata": {},
   "outputs": [],
   "source": [
    "tab_mat,tab_res,X = nm.find_SK(steadyStateConditions_df, dic_names, columns_list=[1,1,1,1,0,0,1,0,1])"
   ]
  },
  {
   "cell_type": "code",
   "execution_count": null,
   "metadata": {},
   "outputs": [],
   "source": [
    "nm.display_a_i(X)"
   ]
  },
  {
   "cell_type": "code",
   "execution_count": null,
   "metadata": {},
   "outputs": [],
   "source": [
    "steadyStateConditions_df"
   ]
  },
  {
   "cell_type": "code",
   "execution_count": 23,
   "metadata": {},
   "outputs": [],
   "source": [
    "steadyStateConditions_df[f'{dic_names[\"Qdot_1_AG\"]}_model'] = tab_mat @ X[0]"
   ]
  },
  {
   "cell_type": "code",
   "execution_count": 25,
   "metadata": {},
   "outputs": [],
   "source": [
    "steadyStateConditions_df['relative error'] = (steadyStateConditions_df[f'{dic_names[\"Qdot_1_AG\"]}_model'] - steadyStateConditions_df[dic_names['Qdot_1_AG']]) / steadyStateConditions_df[dic_names['Qdot_1_AG']]"
   ]
  },
  {
   "cell_type": "code",
   "execution_count": null,
   "metadata": {},
   "outputs": [],
   "source": [
    "u_range = np.arange(0,2.8,0.01)\n",
    "h_top_forced_array = np.array([bht.h_top_forced(25+273.15, 35+273.15, u, 1.8) for u in u_range])\n",
    "h_top_forced_turb_array = np.array([bht.h_top_forced_turbulent(25+273.15, 35+273.15, u, 1.8) for u in u_range])"
   ]
  },
  {
   "cell_type": "code",
   "execution_count": null,
   "metadata": {},
   "outputs": [],
   "source": [
    "h_df = pd.DataFrame({'u' : u_range, 'h_top_forced' : h_top_forced_array, 'h_top_forced_turb' : h_top_forced_turb_array})\n",
    "h_df['ratio'] = h_df['h_top_forced_turb'] / h_df['h_top_forced']\n",
    "# sns.histplot(h_df['ratio'], bins = 20)"
   ]
  },
  {
   "cell_type": "code",
   "execution_count": null,
   "metadata": {},
   "outputs": [],
   "source": [
    "# plt.plot(u_range,h_top_forced_array,label='laminar then turbulent')\n",
    "# plt.plot(u_range,h_top_forced_turb_array,label='turbulent')\n",
    "plt.plot(u_range,h_df['ratio'])"
   ]
  },
  {
   "cell_type": "code",
   "execution_count": 10,
   "metadata": {},
   "outputs": [],
   "source": []
  },
  {
   "cell_type": "code",
   "execution_count": 11,
   "metadata": {},
   "outputs": [],
   "source": [
    "# df_one,res = ty.simu_one_steady_state_all_he(panelSpecs,sC,hyp)\n",
    "# df_residuals = ty.recap_residuals(panelSpecs, df_one, res)"
   ]
  },
  {
   "cell_type": "code",
   "execution_count": 12,
   "metadata": {},
   "outputs": [],
   "source": []
  },
  {
   "cell_type": "code",
   "execution_count": 13,
   "metadata": {},
   "outputs": [],
   "source": [
    "df_res['Qdot_exp'] = steadyStateConditions_df['Qdot']\n",
    "df_res['error'] = df_res['Qdot_tube_fluid'] - df_res['Qdot_exp']"
   ]
  },
  {
   "cell_type": "code",
   "execution_count": null,
   "metadata": {},
   "outputs": [],
   "source": [
    "df = df_res.copy()\n",
    "\n",
    "df = df.loc[df['u'] == 2.7]\n",
    "\n",
    "ht_signs = {'Qdot_sun_PV': 1, 'Qdot_sun_glass': 1, 'Qdot_top_conv': -1, 'Qdot_top_rad': -1, 'Qdot_PV_sky': -1, 'Qdot_absfin_back_conv': -1, 'Qdot_absfin_back_rad': -1, 'Qdot_Base_back': -1, 'Qdot_tube_back_conv': -1, 'Qdot_tube_back_rad': -1, 'Qdot_tube_sky': -1}\n",
    "ht_labels = ['Qdot_sun_PV', 'Qdot_sun_glass', 'Qdot_top_conv', 'Qdot_top_rad', 'Qdot_PV_sky', 'Qdot_absfin_back_conv', 'Qdot_absfin_back_rad', 'Qdot_tube_back_conv', 'Qdot_tube_back_rad', 'Qdot_tube_sky']\n",
    "colors_ht = [RD_config.get_hex_code('yellow',100), RD_config.get_hex_code('orange',100),RD_config.get_hex_code('green',150), RD_config.get_hex_code('blue',150),RD_config.get_hex_code('blue',100),RD_config.get_hex_code('green',100),RD_config.get_hex_code('grey',100),RD_config.get_hex_code('green',50),RD_config.get_hex_code('grey',50),RD_config.get_hex_code('blue',50)]\n",
    "\n",
    "# Calculate the total positive heat transfers for each T_m - T_amb\n",
    "df['positive_total'] = df[[label for label in ht_labels if ht_signs[label] == 1]].sum(axis=1)\n",
    "\n",
    "# Initialize the figure\n",
    "fig = go.Figure()\n",
    "\n",
    "# Define the bar width\n",
    "bar_width = 0.4\n",
    "\n",
    "# Add traces for positive heat transfers (gains)\n",
    "for i, label in enumerate(ht_labels):\n",
    "    if ht_signs[label] == 1:\n",
    "        fig.add_trace(go.Bar(\n",
    "            x=df['T_m - T_amb'],\n",
    "            y=df[label],\n",
    "            name=label,\n",
    "            width=[bar_width] * len(df),\n",
    "            hovertext=round(df[label],0),\n",
    "            hoverinfo='text',\n",
    "            marker=dict(color=colors_ht[i])\n",
    "        ))\n",
    "\n",
    "# Add traces for negative heat transfers (losses) with base starting from the positive total\n",
    "label_sum = []\n",
    "for i, label in enumerate(ht_labels):\n",
    "    if ht_signs[label] == -1:\n",
    "        base = df['positive_total'] - df[[lbl for lbl in ht_labels if (ht_signs[lbl] == -1) & (lbl not in label_sum)]].sum(axis=1)\n",
    "        fig.add_trace(go.Bar(\n",
    "            x=df['T_m - T_amb'] + bar_width,  # Offset for side-by-side display\n",
    "            y=df[label],\n",
    "            name=label,\n",
    "            width=[bar_width] * len(df),\n",
    "            base=base,\n",
    "            hovertext=round(df[label],0),\n",
    "            hoverinfo='text',\n",
    "            marker=dict(color=colors_ht[i])\n",
    "        ))\n",
    "        label_sum.append(label)\n",
    "\n",
    "\n",
    "fig.add_trace(go.Scatter(\n",
    "    x=df['T_m - T_amb'],\n",
    "    y=df['Qdot_exp'],\n",
    "    mode='lines',\n",
    "    name='Qdot exp',\n",
    "    line=dict(color='black', width=2)\n",
    "))\n",
    "\n",
    "fig.add_trace(go.Scatter(\n",
    "    x=df['T_m - T_amb'],\n",
    "    y=df['Qdot_tube_fluid'],\n",
    "    mode='lines',\n",
    "    name='Qdot exp',\n",
    "    line=dict(color='grey', width=2)\n",
    "))\n",
    "\n",
    "# Update layout for stacked bars\n",
    "fig.update_layout(barmode='relative', yaxis_title='Heat Transfer', xaxis_title='T_m - T_amb')\n",
    "\n",
    "\n",
    "# Show the figure\n",
    "fig.show()"
   ]
  },
  {
   "cell_type": "code",
   "execution_count": null,
   "metadata": {},
   "outputs": [],
   "source": []
  },
  {
   "cell_type": "code",
   "execution_count": null,
   "metadata": {},
   "outputs": [],
   "source": [
    "df['T_m - T_amb']"
   ]
  },
  {
   "cell_type": "code",
   "execution_count": null,
   "metadata": {},
   "outputs": [],
   "source": [
    "df['negative_total']"
   ]
  },
  {
   "cell_type": "code",
   "execution_count": null,
   "metadata": {},
   "outputs": [],
   "source": []
  },
  {
   "cell_type": "code",
   "execution_count": null,
   "metadata": {},
   "outputs": [],
   "source": []
  },
  {
   "cell_type": "code",
   "execution_count": null,
   "metadata": {},
   "outputs": [],
   "source": [
    "# df_res[['Qdot_tube_fluid','Qdot_exp','error']]"
   ]
  },
  {
   "cell_type": "code",
   "execution_count": null,
   "metadata": {},
   "outputs": [],
   "source": []
  },
  {
   "cell_type": "code",
   "execution_count": null,
   "metadata": {},
   "outputs": [],
   "source": [
    "mae = np.abs(df_res['error']).mean()\n",
    "print(mae)"
   ]
  },
  {
   "cell_type": "code",
   "execution_count": null,
   "metadata": {},
   "outputs": [],
   "source": [
    "wm = 7\n",
    "\n",
    "# Deuxième écriture plus simple pour modifier les coefficients\n",
    "mapping_matrix = np.array([\n",
    "                            wm*[''],\n",
    "                            ['tau_g', 'alpha_g', 'alpha_PV', 'eps_PV', 'eps_g', 'l_c', 'lambd_air'],\n",
    "                           ])\n",
    "\n",
    "part_mapping_matrix = [\n",
    "                        np.nan,\n",
    "                        [['part1','part2','part3'] for _ in range(wm)]\n",
    "                        ]\n",
    "\n",
    "ranges_matrix = np.array(list(product(np.arange(0.80,0.98,0.02),\n",
    "                                        np.array([0.05]),\n",
    "                                        np.array([0.95]),\n",
    "                                        np.array([0.9]),\n",
    "                                        np.array([0.9]),\n",
    "                                        np.array([0.5e-3,1e-3,1.5e-3]),\n",
    "                                        np.array([0.5e-3,1e-3,1.5e-3])\n",
    "                                        )))"
   ]
  },
  {
   "cell_type": "code",
   "execution_count": null,
   "metadata": {},
   "outputs": [],
   "source": [
    "panelSpecs['decomp']"
   ]
  },
  {
   "cell_type": "code",
   "execution_count": null,
   "metadata": {},
   "outputs": [],
   "source": []
  },
  {
   "cell_type": "code",
   "execution_count": null,
   "metadata": {},
   "outputs": [],
   "source": [
    "panelSpecs['part1']"
   ]
  },
  {
   "cell_type": "code",
   "execution_count": null,
   "metadata": {},
   "outputs": [],
   "source": []
  },
  {
   "cell_type": "code",
   "execution_count": 24,
   "metadata": {},
   "outputs": [],
   "source": [
    "wm = 1\n",
    "\n",
    "# Deuxième écriture plus simple pour modifier les coefficients\n",
    "mapping_matrix = np.array([\n",
    "                            wm*[''],\n",
    "                            ['lambd_air'],\n",
    "                           ])\n",
    "\n",
    "part_mapping_matrix = [\n",
    "                        np.nan,\n",
    "                        [['part1','part2','part3'] for _ in range(wm)]\n",
    "                        ]\n",
    "\n",
    "ranges_matrix = np.array(list(product(\n",
    "                                        np.array([0.1e-3,10e-3,1.1e-4])\n",
    "                                        )))"
   ]
  },
  {
   "cell_type": "code",
   "execution_count": null,
   "metadata": {},
   "outputs": [],
   "source": [
    "ranges_matrix"
   ]
  },
  {
   "cell_type": "code",
   "execution_count": null,
   "metadata": {},
   "outputs": [],
   "source": [
    "part_mapping_matrix[1]"
   ]
  },
  {
   "cell_type": "code",
   "execution_count": 9,
   "metadata": {},
   "outputs": [],
   "source": []
  },
  {
   "cell_type": "code",
   "execution_count": null,
   "metadata": {},
   "outputs": [],
   "source": [
    "panelSpecs.keys()"
   ]
  },
  {
   "cell_type": "code",
   "execution_count": null,
   "metadata": {},
   "outputs": [],
   "source": []
  },
  {
   "cell_type": "code",
   "execution_count": 10,
   "metadata": {},
   "outputs": [],
   "source": []
  },
  {
   "cell_type": "code",
   "execution_count": null,
   "metadata": {},
   "outputs": [],
   "source": [
    "flattened_parameters"
   ]
  },
  {
   "cell_type": "code",
   "execution_count": null,
   "metadata": {},
   "outputs": [],
   "source": []
  },
  {
   "cell_type": "code",
   "execution_count": null,
   "metadata": {},
   "outputs": [],
   "source": []
  },
  {
   "cell_type": "code",
   "execution_count": null,
   "metadata": {},
   "outputs": [],
   "source": [
    "df_res_list[9][['T_amb','u','T_fluid_in','Qdot_tube_fluid','Qdot exp','error']]"
   ]
  },
  {
   "cell_type": "code",
   "execution_count": null,
   "metadata": {},
   "outputs": [],
   "source": [
    "min_index = mae_list.index(min(mae_list))\n",
    "print(min_index)"
   ]
  },
  {
   "cell_type": "code",
   "execution_count": null,
   "metadata": {},
   "outputs": [],
   "source": [
    "min(mae_list)"
   ]
  },
  {
   "cell_type": "code",
   "execution_count": null,
   "metadata": {},
   "outputs": [],
   "source": [
    "df_res_list[3][['Qdot_tube_fluid','Qdot exp','error']]"
   ]
  },
  {
   "cell_type": "code",
   "execution_count": null,
   "metadata": {},
   "outputs": [],
   "source": [
    "mae_list"
   ]
  },
  {
   "cell_type": "code",
   "execution_count": null,
   "metadata": {},
   "outputs": [],
   "source": [
    "plt.scatter(np.arange(0,len(rmse_list),1),rmse_list)"
   ]
  },
  {
   "cell_type": "code",
   "execution_count": null,
   "metadata": {},
   "outputs": [],
   "source": [
    "panelSpecs['pv']['tau_g']"
   ]
  },
  {
   "cell_type": "code",
   "execution_count": null,
   "metadata": {},
   "outputs": [],
   "source": [
    "len(ranges_matrix)*2/3600"
   ]
  },
  {
   "cell_type": "code",
   "execution_count": null,
   "metadata": {},
   "outputs": [],
   "source": [
    "all_combinations = list(product(range1, range2, range3))\n",
    "matrix = np.array(all_combinations)"
   ]
  },
  {
   "cell_type": "code",
   "execution_count": null,
   "metadata": {},
   "outputs": [],
   "source": [
    "matrix"
   ]
  },
  {
   "cell_type": "markdown",
   "metadata": {},
   "source": [
    "Calibrage modèle multi-design"
   ]
  },
  {
   "cell_type": "code",
   "execution_count": null,
   "metadata": {},
   "outputs": [],
   "source": [
    "# Permet de modifier une valeur du dictionnaire hyp\n",
    "## Par exemple init_hyp('method_h_back_abs','free') va retourner le dictionnaire hyp avec la valeur 'method_h_back_abs' modifié en 'free'\n",
    "def init_hyp(coeff, method) : \n",
    "    hyp[coeff] = method\n",
    "    return(hyp)"
   ]
  },
  {
   "cell_type": "markdown",
   "metadata": {},
   "source": [
    "Création de la matrice du modèle"
   ]
  },
  {
   "cell_type": "code",
   "execution_count": null,
   "metadata": {},
   "outputs": [],
   "source": [
    "# Récupération des résultats expérimentaux\n",
    "\n",
    "X_list_df = pd.read_excel(exp_path,header = 2) ## On ne prend pas en compe les 2 premières lignes // EN FONCTION DE COMMENT SONT PR2SENT2S LES RES\n",
    "X_list = X_list_df.to_dict(orient='records')"
   ]
  },
  {
   "cell_type": "code",
   "execution_count": null,
   "metadata": {},
   "outputs": [],
   "source": [
    "# Création de la matrice \"A\" sous forme de dictionnaire\n",
    "\n",
    "measured_case = 0 # nb_measured_case = len(X_tot)\n",
    "case = 0 # nb_case = len(stepConditions) il faudrait faire correspondre les lignes de stepConditions avec le numéro des measuredcase comme ça on a qu'une variable\n",
    "\n",
    "# Dictionnaire des paramètres du modèle commun à tous les designs \"alpha_0\"\n",
    "basic_parameters = dict([\n",
    "    ('basic_parameters_1',1),\n",
    "    ('basic_parameters_2',1),\n",
    "    ('basic_parameters_3',1),\n",
    "    ('basic_parameters_4',1),\n",
    "    ('basic_parameters_5',1),\n",
    "    ('basic_parameters_6',1),\n",
    "    ('basic_parameters_7',1),\n",
    "    ('basic_parameters_8',1),\n",
    "    ('basic_parameters_9',1),\n",
    "    ('basic_parameters_10',1),\n",
    "    ])\n",
    "\n",
    "# Matrice du modèle \"A\" \n",
    "model_matrix = dict(['alpha_0',basic_parameters])\n",
    "\n",
    "# Plutôt faire l'inverse et créer le dictionnaire à partir d'une DataFrame puis sortir les différents X\n",
    "# for i in range(nb_measured_case) :\n",
    "# Point de données\n",
    "X = dict([('componentSpecs',componentSpecs), ('stepConditions',stepConditions[case])]) \n",
    "# X_tot = dict([ \n",
    "#    ('X_{measured_case}',X)\n",
    "#   ])\n",
    "\n",
    "# Dictionnaire des paramètres du modèle liés à la géométrie \"alpha_j\"\n",
    "design_parameters = dict([\n",
    "    ('tau_g_{measured_case}', X['componentSpecs']['pv']['tau_g']), # Transmittance glass\n",
    "    ('alpha_g_{measured_case}', X['componentSpecs']['pv']['alpha_g']), # Absorptance glass\n",
    "    ('eps_PV_{measured_case}', X['componentSpecs']['pv']['eps_PV']), # Émissivité cellule PV\n",
    "    ('eps_g_{measured_case}', X['componentSpecs']['pv']['eps_g']), # Émissivité glass\n",
    "    ('eps_hx_top_{measured_case}', X['componentSpecs']['main']['eps_hx_top']), # Émissivité de l'échangeur thermique sur le panneau\n",
    "    ('eps_hx_back_{measured_case}', X['componentSpecs']['main']['eps_hx_back']), # Émissivité de l'échangeur thermique à l’arrière du panneau\n",
    "    ('eps_ins_{measured_case}', X['componentSpecs']['main']['eps_ins']), # Émissivité isolant\n",
    "    ('lambd_air_{measured_case}',  X['componentSpecs']['main']['lambd_air']) # Épaisseur de la couche d'air\n",
    "    ])\n",
    "\n",
    "model_matrix['alpha_{measured_case}'] = design_parameters\n",
    "#fin boucle for"
   ]
  },
  {
   "cell_type": "code",
   "execution_count": null,
   "metadata": {},
   "outputs": [],
   "source": [
    "# Création de la matrice \"A\" sous forme de listes\n",
    "\n",
    "measured_case = 0 # nb_measured_case = len(X_list)\n",
    "case = 0 # nb_case = len(stepConditions) il faudrait faire correspondre les lignes de stepConditions avec le numéro des measuredcase comme ça on a qu'une variable\n",
    "\n",
    "# Matrice du modèle \"A\" \n",
    "model_matrix = np.ones(10)\n",
    "\n",
    "# Plutôt faire l'inverse et créer le dictionnaire à partir d'une DataFrame puis sortir les différents X\n",
    "# for i in range(nb_measured_case) :\n",
    "# Point de données\n",
    "X = dict([('componentSpecs',componentSpecs), ('stepConditions',stepConditions[case])]) \n",
    "# X_list = dict([ \n",
    "#    ('X_{measured_case}',X)\n",
    "#   ])\n",
    "\n",
    "# Dictionnaire des paramètres du modèle liés à la géométrie \"alpha_j\"\n",
    "design_parameters = np.zeros(10)\n",
    "design_parameters[0] = X['componentSpecs']['pv']['tau_g'] # Transmittance glass\n",
    "design_parameters[1] =  X['componentSpecs']['pv']['alpha_g'] # Absorptance glass\n",
    "design_parameters[2] = X['componentSpecs']['pv']['eps_PV'] # Émissivité cellule PV\n",
    "design_parameters[3] = X['componentSpecs']['pv']['eps_g'] # Émissivité glass\n",
    "design_parameters[4] = X['componentSpecs']['main']['eps_hx_top'] # Émissivité de l'échangeur thermique sur le panneau\n",
    "design_parameters[5] = X['componentSpecs']['main']['eps_hx_back'] # Émissivité de l'échangeur thermique à l’arrière du panneau\n",
    "design_parameters[6] = X['componentSpecs']['main']['eps_ins'] # Émissivité isolant\n",
    "design_parameters[7] = X['componentSpecs']['main']['lambd_air'] # Épaisseur de la couche d'air\n",
    "\n",
    "\n",
    "model_matrix= np.vstack((model_matrix, design_parameters))\n",
    "\n",
    "#fin boucle for\n",
    "model_matrix"
   ]
  },
  {
   "cell_type": "code",
   "execution_count": null,
   "metadata": {},
   "outputs": [],
   "source": []
  },
  {
   "cell_type": "code",
   "execution_count": null,
   "metadata": {},
   "outputs": [],
   "source": [
    "m = len(correspondance_matrice)\n",
    "nb_measured_case = len(X_list)\n",
    "\n",
    "# MAJ de hyp en fonction des méthodes que l'on veut\n",
    "hyp = init_hyp(\"method_h_back_abs\", \"free\")\n",
    "\n",
    "\n",
    "def Qdot_model_tube_fluid(X_list, model_matrix, correspondance_matrice) :\n",
    "        Qdot_list = []\n",
    "        \n",
    "        # Actualise le modèle\n",
    "        for i in range(m) : \n",
    "                if correspondance_matrice[i, 0] != 0. : \n",
    "                       hyp[correspondance_matrice[i,0]] = model_matrix[i, 0]\n",
    "\n",
    "        # Actualise la géométrie\n",
    "        for j in range(nb_measured_case) : \n",
    "                for i in range(m) :\n",
    "                        if correspondance_matrice[i, 0] != 0. :\n",
    "                                X_list[j]['componentSpecs'][correspondance_matrice[i,1]] = model_matrix[i, j]\n",
    "                df_one = ty.simu_one_steady_state_all_he(X_list[j]['componentSpecs'], X_list[j]['stepConditions'], hyp)[0]\n",
    "                Qdot_list.append(df_one['Qdot_tube_fluid'])\n",
    "        return(Qdot_list)"
   ]
  }
 ],
 "metadata": {
  "kernelspec": {
   "display_name": "PVT-thermal-performance-model",
   "language": "python",
   "name": "python3"
  },
  "language_info": {
   "codemirror_mode": {
    "name": "ipython",
    "version": 3
   },
   "file_extension": ".py",
   "mimetype": "text/x-python",
   "name": "python",
   "nbconvert_exporter": "python",
   "pygments_lexer": "ipython3",
   "version": "3.10.5"
  }
 },
 "nbformat": 4,
 "nbformat_minor": 2
}
