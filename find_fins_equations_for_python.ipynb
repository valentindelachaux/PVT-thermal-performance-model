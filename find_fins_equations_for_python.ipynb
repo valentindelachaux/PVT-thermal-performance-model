{
 "cells": [
  {
   "cell_type": "code",
   "execution_count": 1,
   "metadata": {},
   "outputs": [],
   "source": [
    "import sympy as sp"
   ]
  },
  {
   "cell_type": "code",
   "execution_count": 5,
   "metadata": {},
   "outputs": [],
   "source": [
    "x, L_fin, lambd, Ac, k, Bi, T_ext, T_0 = sp.symbols('x L_fin \\lambda Ac k Bi T_ext T_0')\n",
    "\n",
    "def fin_analytical(bc):\n",
    "\n",
    "    # Define the temperature profile solution\n",
    "    A = sp.Symbol('A')\n",
    "    B = sp.Symbol('B')\n",
    "\n",
    "    # Temperature function T(x)\n",
    "    T = T_ext + A * sp.cosh(sp.sqrt(2 * Bi) * x/lambd) + B * sp.sinh(sp.sqrt(2 * Bi) * x/lambd)\n",
    "\n",
    "    # Boundary condition at x = 0 (T(0) = T_0)\n",
    "    boundary_condition_0 = sp.Eq(T.subs(x, 0), T_0)\n",
    "\n",
    "    # Solve for A\n",
    "    A_solution = sp.solve(boundary_condition_0, A)[0]\n",
    "\n",
    "    # Substitute the value of A in T(x)\n",
    "    T = T.subs(A, A_solution)\n",
    "\n",
    "    dTdx = sp.diff(T, x)\n",
    "\n",
    "    if bc == 'free_end':\n",
    "        boundary_condition_L_fin = sp.Eq( dTdx.subs(x, L_fin), -Bi/lambd * (T.subs(x, L_fin) - T_ext) )\n",
    "        B_solution = sp.solve(boundary_condition_L_fin, B)[0]\n",
    "    elif bc == 'adiabatic':\n",
    "        boundary_condition_L_fin = sp.Eq( dTdx.subs(x, L_fin), 0)\n",
    "        B_solution = sp.solve(boundary_condition_L_fin, B)[0]\n",
    "    else:\n",
    "        raise ValueError('Boundary condition not recognized')\n",
    "\n",
    "    T = T.subs(B, B_solution)\n",
    "    dTdx = dTdx.subs(B, B_solution)\n",
    "\n",
    "    expression = (T-T_ext) / (T_0-T_ext)\n",
    "    expression = sp.simplify(expression)\n",
    "\n",
    "    if bc == \"adiabatic\":\n",
    "        expression = sp.simplify(expression * sp.cosh(sp.sqrt(2 * Bi) * L_fin/lambd)) / sp.cosh(sp.sqrt(2 * Bi) * L_fin/lambd)\n",
    "\n",
    "    gamma = sp.diff(expression,x).subs(x, 0)\n",
    "    gamma = - k * Ac * sp.simplify(gamma)\n",
    "\n",
    "    Qdot =  gamma * (T_0 - T_ext)\n",
    "\n",
    "    return T, dTdx, expression, gamma, Qdot\n",
    "\n",
    "gamma_free_end = fin_analytical('free_end')[3]\n",
    "gamma_adia = fin_analytical('adiabatic')[3]"
   ]
  },
  {
   "cell_type": "code",
   "execution_count": 6,
   "metadata": {},
   "outputs": [
    {
     "name": "stdout",
     "output_type": "stream",
     "text": [
      "sqrt(2)*Ac*sqrt(Bi)*k*tanh(sqrt(2)*sqrt(Bi)*L_fin/\\lambda)/\\lambda\n"
     ]
    }
   ],
   "source": [
    "print(gamma_adia)"
   ]
  },
  {
   "cell_type": "code",
   "execution_count": 7,
   "metadata": {},
   "outputs": [],
   "source": [
    "T_free_end = fin_analytical('free_end')[0]\n",
    "T_adia = fin_analytical('adiabatic')[0]"
   ]
  },
  {
   "cell_type": "code",
   "execution_count": 8,
   "metadata": {},
   "outputs": [
    {
     "name": "stdout",
     "output_type": "stream",
     "text": [
      "T_ext + (T_0 - T_ext)*cosh(sqrt(2)*sqrt(Bi)*x/\\lambda) - (sqrt(2)*sqrt(Bi)*T_0*sinh(sqrt(2)*sqrt(Bi)*L_fin/\\lambda) - sqrt(2)*sqrt(Bi)*T_ext*sinh(sqrt(2)*sqrt(Bi)*L_fin/\\lambda) + Bi*T_0*cosh(sqrt(2)*sqrt(Bi)*L_fin/\\lambda) - Bi*T_ext*cosh(sqrt(2)*sqrt(Bi)*L_fin/\\lambda))*sinh(sqrt(2)*sqrt(Bi)*x/\\lambda)/(sqrt(2)*sqrt(Bi)*cosh(sqrt(2)*sqrt(Bi)*L_fin/\\lambda) + Bi*sinh(sqrt(2)*sqrt(Bi)*L_fin/\\lambda))\n"
     ]
    }
   ],
   "source": [
    "print(T_free_end)"
   ]
  },
  {
   "cell_type": "code",
   "execution_count": 18,
   "metadata": {},
   "outputs": [
    {
     "name": "stdout",
     "output_type": "stream",
     "text": [
      "L_fin*T_ext + Piecewise((sqrt(2)*\\lambda*(T_0 - T_ext)*sinh(sqrt(2)*sqrt(Bi)*L_fin/\\lambda)/(2*sqrt(Bi)) - sqrt(2)*\\lambda*(T_0 - T_ext)*cosh(sqrt(2)*sqrt(Bi)*L_fin/\\lambda)*tanh(sqrt(2)*sqrt(Bi)*L_fin/\\lambda)/(2*sqrt(Bi)) + sqrt(2)*\\lambda*(T_0 - T_ext)*tanh(sqrt(2)*sqrt(Bi)*L_fin/\\lambda)/(2*sqrt(Bi)), (Bi > -oo) & (Bi < oo) & Ne(Bi, 0)), (L_fin*(T_0 - T_ext), True))\n"
     ]
    }
   ],
   "source": [
    "print(sp.integrate(T_adia, (x, 0, L_fin)))"
   ]
  },
  {
   "cell_type": "code",
   "execution_count": null,
   "metadata": {},
   "outputs": [],
   "source": []
  }
 ],
 "metadata": {
  "kernelspec": {
   "display_name": "model23",
   "language": "python",
   "name": "python3"
  },
  "language_info": {
   "codemirror_mode": {
    "name": "ipython",
    "version": 3
   },
   "file_extension": ".py",
   "mimetype": "text/x-python",
   "name": "python",
   "nbconvert_exporter": "python",
   "pygments_lexer": "ipython3",
   "version": "3.10.5"
  }
 },
 "nbformat": 4,
 "nbformat_minor": 2
}
