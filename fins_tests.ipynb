{
 "cells": [
  {
   "cell_type": "code",
   "execution_count": 6,
   "metadata": {},
   "outputs": [],
   "source": [
    "import math\n",
    "\n",
    "import heat_transfer as bht\n",
    "import model as ty"
   ]
  },
  {
   "cell_type": "code",
   "execution_count": 2,
   "metadata": {},
   "outputs": [],
   "source": [
    "T_tube = 0 + 273.15 # T_fluid(y)\n",
    "T_amb = 10 + 273.15 # \n",
    "T_back = T_amb\n",
    "\n",
    "k = 226\n",
    "\n",
    "L_fin = 0.020\n",
    "lambd = 0.0015\n",
    "delta = 0.01 # largeur ailette\n",
    "\n",
    "h = 5"
   ]
  },
  {
   "cell_type": "code",
   "execution_count": null,
   "metadata": {},
   "outputs": [],
   "source": [
    "Bi = bht.Biot(lambd, k, h, delta)\n",
    "lambda_c_fin = bht.lambda_c_fin(k, L_fin, lambd, h)\n",
    "print('Biot =', Bi)\n",
    "print('lambda_c_fin =', lambda_c_fin)"
   ]
  },
  {
   "cell_type": "code",
   "execution_count": 4,
   "metadata": {},
   "outputs": [],
   "source": [
    "# General expression for C1 and C2\n",
    "C1 = (T_tube - T_back) / (1 + math.exp(2 * math.sqrt(2 * Bi) / lambda_c_fin * L_fin))\n",
    "C2 = (T_tube - T_back) / (1 + math.exp(-2 * math.sqrt(2 * Bi) / lambda_c_fin * L_fin))\n",
    "\n",
    "# Expression for heat flux q_fin(x=0)\n",
    "q_fin_x0 = -k * math.sqrt(2 * Bi) / lambda_c_fin * (C1 - C2)"
   ]
  },
  {
   "cell_type": "code",
   "execution_count": null,
   "metadata": {},
   "outputs": [],
   "source": [
    "q_fin_x0"
   ]
  },
  {
   "cell_type": "code",
   "execution_count": 7,
   "metadata": {},
   "outputs": [],
   "source": [
    "N = 1.\n",
    "L_tube = 1."
   ]
  },
  {
   "cell_type": "code",
   "execution_count": null,
   "metadata": {},
   "outputs": [],
   "source": [
    "ty.gamma0int(N, L_fin, lambd, k, delta, delta, L_tube, h)"
   ]
  },
  {
   "cell_type": "code",
   "execution_count": null,
   "metadata": {},
   "outputs": [],
   "source": []
  },
  {
   "cell_type": "code",
   "execution_count": 16,
   "metadata": {},
   "outputs": [],
   "source": [
    "import sympy as sp\n",
    "\n",
    "# Define symbolic variables\n",
    "x, a, Bi, T_ext, T_0, L_0, k = sp.symbols('x a Bi T_ext T_0 L_0 k')\n",
    "\n",
    "# Define the temperature profile solution\n",
    "A = sp.Symbol('A')\n",
    "B = sp.Symbol('B')\n",
    "\n",
    "# Temperature function T(x)\n",
    "T = T_ext + A * sp.cosh(sp.sqrt(2 * Bi) * x/a) + B * sp.sinh(sp.sqrt(2 * Bi) * x/a)"
   ]
  },
  {
   "cell_type": "code",
   "execution_count": null,
   "metadata": {},
   "outputs": [],
   "source": [
    "T"
   ]
  },
  {
   "cell_type": "code",
   "execution_count": 18,
   "metadata": {},
   "outputs": [],
   "source": [
    "# Boundary condition at x = 0 (T(0) = T_0)\n",
    "boundary_condition_0 = sp.Eq(T.subs(x, 0), T_0)"
   ]
  },
  {
   "cell_type": "code",
   "execution_count": 19,
   "metadata": {},
   "outputs": [],
   "source": [
    "# Solve for A\n",
    "A_solution = sp.solve(boundary_condition_0, A)[0]"
   ]
  },
  {
   "cell_type": "code",
   "execution_count": null,
   "metadata": {},
   "outputs": [],
   "source": [
    "A_solution"
   ]
  },
  {
   "cell_type": "code",
   "execution_count": null,
   "metadata": {},
   "outputs": [],
   "source": [
    "sp.diff(T, x)"
   ]
  },
  {
   "cell_type": "code",
   "execution_count": 21,
   "metadata": {},
   "outputs": [],
   "source": [
    "# Substitute the value of A in T(x)\n",
    "T = T.subs(A, A_solution)\n",
    "\n",
    "# Derivative of T(x) with respect to x (for boundary condition at x = L_0)\n",
    "dTdx_L0 = sp.diff(T, x).subs(x, L_0)\n",
    "\n",
    "# Boundary condition at x = L_0 (free flux condition)\n",
    "boundary_condition_L0 = sp.Eq(dTdx_L0 + (Bi / a) * (T.subs(x, L_0) - T_ext), 0)\n",
    "\n",
    "# Solve for B using the boundary condition at x = L_0\n",
    "B_solution = sp.solve(boundary_condition_L0, B)[0]\n",
    "\n",
    "# Substitute the value of B back into the temperature profile\n",
    "T = T.subs(B, B_solution)"
   ]
  },
  {
   "cell_type": "code",
   "execution_count": null,
   "metadata": {},
   "outputs": [],
   "source": [
    "B_solution"
   ]
  },
  {
   "cell_type": "code",
   "execution_count": null,
   "metadata": {},
   "outputs": [],
   "source": [
    "T"
   ]
  },
  {
   "cell_type": "code",
   "execution_count": null,
   "metadata": {},
   "outputs": [],
   "source": [
    "# Boundary condition at x = 0 (T(0) = T_0)\n",
    "boundary_condition_0 = sp.Eq(T.subs(x, 0), T_0)"
   ]
  }
 ],
 "metadata": {
  "kernelspec": {
   "display_name": "model23",
   "language": "python",
   "name": "python3"
  },
  "language_info": {
   "codemirror_mode": {
    "name": "ipython",
    "version": 3
   },
   "file_extension": ".py",
   "mimetype": "text/x-python",
   "name": "python",
   "nbconvert_exporter": "python",
   "pygments_lexer": "ipython3",
   "version": "3.10.5"
  }
 },
 "nbformat": 4,
 "nbformat_minor": 2
}
