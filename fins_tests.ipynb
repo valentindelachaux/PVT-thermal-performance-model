{
 "cells": [
  {
   "cell_type": "code",
   "execution_count": 1,
   "metadata": {},
   "outputs": [],
   "source": [
    "import math\n",
    "\n",
    "import heat_transfer as bht\n",
    "import model as ty"
   ]
  },
  {
   "cell_type": "code",
   "execution_count": 11,
   "metadata": {},
   "outputs": [],
   "source": [
    "T_tube = 0 + 273.15 # T_fluid(y)\n",
    "T_amb = 10 + 273.15 # \n",
    "T_back = T_amb\n",
    "\n",
    "k = 226\n",
    "\n",
    "L_fin = 0.020\n",
    "lambd = 0.0015\n",
    "delta = 0.01 # largeur ailette\n",
    "\n",
    "h = 5"
   ]
  },
  {
   "cell_type": "code",
   "execution_count": null,
   "metadata": {},
   "outputs": [],
   "source": [
    "Bi = bht.Biot(lambd, k, h, delta)\n",
    "lambda_c_fin = bht.lambda_c_fin(k, L_fin, lambd, h)\n",
    "print('Biot =', Bi)\n",
    "print('lambda_c_fin =', lambda_c_fin)"
   ]
  },
  {
   "cell_type": "code",
   "execution_count": 4,
   "metadata": {},
   "outputs": [],
   "source": [
    "# General expression for C1 and C2\n",
    "C1 = (T_tube - T_back) / (1 + math.exp(2 * math.sqrt(2 * Bi) / lambda_c_fin * L_fin))\n",
    "C2 = (T_tube - T_back) / (1 + math.exp(-2 * math.sqrt(2 * Bi) / lambda_c_fin * L_fin))\n",
    "\n",
    "# Expression for heat flux q_fin(x=0)\n",
    "q_fin_x0 = -k * math.sqrt(2 * Bi) / lambda_c_fin * (C1 - C2)"
   ]
  },
  {
   "cell_type": "code",
   "execution_count": null,
   "metadata": {},
   "outputs": [],
   "source": [
    "q_fin_x0"
   ]
  },
  {
   "cell_type": "code",
   "execution_count": 7,
   "metadata": {},
   "outputs": [],
   "source": [
    "N = 1.\n",
    "L_tube = 1."
   ]
  },
  {
   "cell_type": "code",
   "execution_count": null,
   "metadata": {},
   "outputs": [],
   "source": [
    "ty.gamma0int(N, L_fin, lambd, k, delta, delta, L_tube, h)"
   ]
  },
  {
   "cell_type": "code",
   "execution_count": 1,
   "metadata": {},
   "outputs": [],
   "source": [
    "import model_fins as modfins"
   ]
  },
  {
   "cell_type": "code",
   "execution_count": 2,
   "metadata": {},
   "outputs": [],
   "source": [
    "T, dTdx, expression, gamma, Qdot = modfins.fin_analytical('free_end')"
   ]
  },
  {
   "cell_type": "code",
   "execution_count": null,
   "metadata": {},
   "outputs": [],
   "source": [
    "gamma"
   ]
  },
  {
   "cell_type": "code",
   "execution_count": null,
   "metadata": {},
   "outputs": [],
   "source": [
    "float(gamma.subs({L_fin: 0.02, lambd: 0.05, Ac: 0.5, k: 250, Bi: 1e-4}).evalf())"
   ]
  },
  {
   "cell_type": "code",
   "execution_count": null,
   "metadata": {},
   "outputs": [],
   "source": [
    "modfins.gamma_fin('free_end', 0.02, 0.001, 0.5, 226, 1e-4)"
   ]
  },
  {
   "cell_type": "code",
   "execution_count": 2,
   "metadata": {},
   "outputs": [],
   "source": []
  },
  {
   "cell_type": "code",
   "execution_count": null,
   "metadata": {},
   "outputs": [],
   "source": [
    "Qdot"
   ]
  },
  {
   "cell_type": "code",
   "execution_count": null,
   "metadata": {},
   "outputs": [],
   "source": [
    "float(gamma.subs({Bi: 0.5, lambd: 0.05, T_ext: 273.15, T_0: 283.15, L_fin: 0.050, k: 250, h: 10, delta: 0.02, delta_int: 0.02, L_tube: 1., N: 1}).evalf())"
   ]
  }
 ],
 "metadata": {
  "kernelspec": {
   "display_name": "model23",
   "language": "python",
   "name": "python3"
  },
  "language_info": {
   "codemirror_mode": {
    "name": "ipython",
    "version": 3
   },
   "file_extension": ".py",
   "mimetype": "text/x-python",
   "name": "python",
   "nbconvert_exporter": "python",
   "pygments_lexer": "ipython3",
   "version": "3.10.5"
  }
 },
 "nbformat": 4,
 "nbformat_minor": 2
}
