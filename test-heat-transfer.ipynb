{
 "cells": [
  {
   "cell_type": "code",
   "execution_count": 1,
   "metadata": {},
   "outputs": [],
   "source": [
    "# Initialization\n",
    "\n",
    "%matplotlib notebook\n",
    "\n",
    "import math\n",
    "from datetime import datetime\n",
    "import openpyxl as opxl\n",
    "from openpyxl.utils.dataframe import dataframe_to_rows\n",
    "import pandas as pd\n",
    "import numpy as np\n",
    "from IPython.core.display import HTML\n",
    "\n",
    "import matplotlib.pyplot as plt\n",
    "import matplotlib.animation as animation\n",
    "\n",
    "import matplotlib.pyplot as plt\n",
    "import matplotlib.ticker as mtick\n",
    "import plotly.graph_objects as go\n",
    "\n",
    "import sklearn.metrics\n",
    "import scipy.integrate as integrate\n",
    "import scipy.optimize as sco\n",
    "\n",
    "import fluids as fds\n",
    "import ht \n",
    "\n",
    "import general as gen\n",
    "import model as ty\n",
    "import proc as pr\n",
    "import heat_transfer as bht\n",
    "import plot_functions_here as pfun\n",
    "# importing sys\n",
    "import sys\n",
    "\n",
    "\n",
    "import scipy.constants as scc"
   ]
  },
  {
   "cell_type": "code",
   "execution_count": null,
   "metadata": {},
   "outputs": [],
   "source": [
    "T_s = 315\n",
    "T_amb = 291\n",
    "speed = 3.\n",
    "longueur = 1.7\n",
    "\n",
    "T_mean = (T_s+T_amb)/2\n",
    "\n",
    "g = scc.g\n",
    "\n",
    "rho = bht.air_rho(T_mean)\n",
    "Cp = bht.air_c_p()\n",
    "mu = bht.air_mu(T_mean)\n",
    "nu = bht.air_nu(T_mean)\n",
    "lambd = bht.air_k(T_mean)\n",
    "alpha = (lambd)/(rho*Cp)\n",
    "Pr = bht.air_Pr()\n",
    "beta = 1/T_mean\n",
    "\n",
    "Re_c = 3.5 * 10**5\n",
    "\n",
    "x_c = (nu*Re_c)/speed"
   ]
  },
  {
   "cell_type": "code",
   "execution_count": null,
   "metadata": {},
   "outputs": [],
   "source": [
    "x_c"
   ]
  },
  {
   "cell_type": "code",
   "execution_count": null,
   "metadata": {},
   "outputs": [],
   "source": [
    "if x_c < longueur:\n",
    "    lam = integrate.quad(bht.Nu_forced_flat_plate_isoflux_lam,0,x_c,args=(lambd,speed,nu,Pr))[0]\n",
    "    turb = integrate.quad(bht.Nu_forced_flat_plate_isoflux_turb,x_c,longueur,args=(lambd,speed,nu,Pr))[0]\n",
    "else:\n",
    "    lam = integrate.quad(bht.Nu_forced_flat_plate_isoflux_lam,0,longueur,args=(lambd,speed,nu,Pr))[0]\n",
    "    turb = 0."
   ]
  },
  {
   "cell_type": "code",
   "execution_count": null,
   "metadata": {},
   "outputs": [],
   "source": [
    "(1/longueur)*(lam+turb)"
   ]
  },
  {
   "cell_type": "code",
   "execution_count": null,
   "metadata": {},
   "outputs": [],
   "source": [
    "turbT = integrate.quad(bht.Nu_forced_flat_plate_isoflux_turb,0.,longueur,args=(lambd,speed,nu,Pr))[0]"
   ]
  },
  {
   "cell_type": "code",
   "execution_count": null,
   "metadata": {},
   "outputs": [],
   "source": [
    "(1/longueur)*turbT"
   ]
  },
  {
   "cell_type": "code",
   "execution_count": null,
   "metadata": {},
   "outputs": [],
   "source": [
    "dfu = pd.DataFrame(np.linspace(0.1,4.,10),columns=['u'])"
   ]
  },
  {
   "cell_type": "code",
   "execution_count": null,
   "metadata": {},
   "outputs": [],
   "source": [
    "dfu['lam+turb'] = dfu.apply(lambda x : bht.h_top_forced(T_s,T_amb,x['u'],longueur),axis=1)"
   ]
  },
  {
   "cell_type": "code",
   "execution_count": null,
   "metadata": {},
   "outputs": [],
   "source": [
    "dfu['turb'] = dfu.apply(lambda x : bht.h_top_forced_turbulent(T_s,T_amb,x['u'],longueur),axis=1)"
   ]
  },
  {
   "cell_type": "code",
   "execution_count": null,
   "metadata": {},
   "outputs": [],
   "source": [
    "dfu['ratio'] = dfu['turb']/dfu['lam+turb']"
   ]
  },
  {
   "cell_type": "code",
   "execution_count": null,
   "metadata": {},
   "outputs": [],
   "source": [
    "dfu"
   ]
  },
  {
   "cell_type": "code",
   "execution_count": null,
   "metadata": {},
   "outputs": [],
   "source": [
    "plt.plot(dfu['u'],dfu['lam+turb'])\n",
    "plt.plot(dfu['u'],dfu['turb'])\n",
    "plt.show()"
   ]
  },
  {
   "cell_type": "code",
   "execution_count": null,
   "metadata": {},
   "outputs": [],
   "source": []
  },
  {
   "cell_type": "code",
   "execution_count": null,
   "metadata": {},
   "outputs": [],
   "source": [
    "# Set up the figure and axis\n",
    "fig, ax = plt.subplots()\n",
    "\n",
    "# Set the axis limits\n",
    "ax.set_xlim(0, 10)\n",
    "ax.set_ylim(0, 10)\n",
    "\n",
    "# Create the line\n",
    "line, = ax.plot([], [], 'o-', lw=2)\n",
    "\n",
    "# Initialize the dot's position and speed\n",
    "x = [5]  # x-coordinate of the dot\n",
    "y = [0]  # y-coordinate of the dot\n",
    "u = 0.2  # speed of the dot (units per frame)\n",
    "\n",
    "# Update function for the animation\n",
    "def update(frame):\n",
    "    # Update the dot's position\n",
    "    y[0] += u\n",
    "\n",
    "    # Update the line data\n",
    "    line.set_data(x, y)\n",
    "\n",
    "    return line,\n",
    "\n",
    "# Create the animation\n",
    "ani = animation.FuncAnimation(fig, update, frames=100, interval=50, blit=True)\n",
    "\n",
    "# Display the animation\n",
    "plt.show()\n"
   ]
  },
  {
   "cell_type": "code",
   "execution_count": null,
   "metadata": {},
   "outputs": [],
   "source": [
    "import pandas as pd\n",
    "import matplotlib.pyplot as plt\n",
    "import matplotlib.ticker as ticker\n",
    "from matplotlib.animation import FuncAnimation\n",
    "\n",
    "df = pd.read_csv('city_populations.csv',\n",
    "\t\t\t\tusecols=['name', 'group', 'year', 'value'])\n",
    "\n",
    "colors = dict(zip(['India','Europe','Asia',\n",
    "\t\t\t\t'Latin America','Middle East',\n",
    "\t\t\t\t'North America','Africa'],\n",
    "\t\t\t\t\t['#adb0ff', '#ffb3ff', '#90d595',\n",
    "\t\t\t\t\t'#e48381', '#aafbff', '#f7bb5f',\n",
    "\t\t\t\t\t'#eafb50']))\n",
    "\n",
    "group_lk = df.set_index('name')['group'].to_dict()\n",
    "\n",
    "def draw_barchart(year):\n",
    "\tdff = df[df['year'].eq(year)].sort_values(by='value',\n",
    "\t\t\t\t\t\t\t\t\t\t\tascending=True).tail(10)\n",
    "\tax.clear()\n",
    "\tax.barh(dff['name'], dff['value'],\n",
    "\t\t\tcolor=[colors[group_lk[x]] for x in dff['name']])\n",
    "\tdx = dff['value'].max() / 200\n",
    "\t\n",
    "\tfor i, (value, name) in enumerate(zip(dff['value'],\n",
    "\t\t\t\t\t\t\t\t\t\tdff['name'])):\n",
    "\t\tax.text(value-dx, i,\t name,\t\t\n",
    "\t\t\t\tsize=14, weight=600,\n",
    "\t\t\t\tha='right', va='bottom')\n",
    "\t\tax.text(value-dx, i-.25, group_lk[name],\n",
    "\t\t\t\tsize=10, color='#444444',\n",
    "\t\t\t\tha='right', va='baseline')\n",
    "\t\tax.text(value+dx, i,\t f'{value:,.0f}',\n",
    "\t\t\t\tsize=14, ha='left', va='center')\n",
    "\t\t\n",
    "\t# polished styles\n",
    "\tax.text(1, 0.4, year, transform=ax.transAxes,\n",
    "\t\t\tcolor='#777777', size=46, ha='right',\n",
    "\t\t\tweight=800)\n",
    "\tax.text(0, 1.06, 'Population (thousands)',\n",
    "\t\t\ttransform=ax.transAxes, size=12,\n",
    "\t\t\tcolor='#777777')\n",
    "\t\n",
    "\tax.xaxis.set_major_formatter(ticker.StrMethodFormatter('{x:,.0f}'))\n",
    "\tax.xaxis.set_ticks_position('top')\n",
    "\tax.tick_params(axis='x', colors='#777777', labelsize=12)\n",
    "\tax.set_yticks([])\n",
    "\tax.margins(0, 0.01)\n",
    "\tax.grid(which='major', axis='x', linestyle='-')\n",
    "\tax.set_axisbelow(True)\n",
    "\tax.text(0, 1.12, 'The most populous cities in the world from 1500 to 2018',\n",
    "\t\t\ttransform=ax.transAxes, size=24, weight=600, ha='left')\n",
    "\t\n",
    "\tax.text(1, 0, 'by @pratapvardhan; credit @jburnmurdoch',\n",
    "\t\t\ttransform=ax.transAxes, ha='right', color='#777777',\n",
    "\t\t\tbbox=dict(facecolor='white', alpha=0.8, edgecolor='white'))\n",
    "\tplt.box(False)\n",
    "\tplt.show()\n",
    "\n",
    "fig, ax = plt.subplots(figsize=(15, 8))\n",
    "animator = FuncAnimation(fig, draw_barchart,\n",
    "\t\t\t\t\t\tframes = range(1990, 2019))\n",
    "plt.show()\n"
   ]
  },
  {
   "cell_type": "code",
   "execution_count": null,
   "metadata": {},
   "outputs": [],
   "source": []
  }
 ],
 "metadata": {
  "kernelspec": {
   "display_name": "model23",
   "language": "python",
   "name": "python3"
  },
  "language_info": {
   "codemirror_mode": {
    "name": "ipython",
    "version": 3
   },
   "file_extension": ".py",
   "mimetype": "text/x-python",
   "name": "python",
   "nbconvert_exporter": "python",
   "pygments_lexer": "ipython3",
   "version": "3.10.5"
  },
  "orig_nbformat": 4
 },
 "nbformat": 4,
 "nbformat_minor": 2
}
